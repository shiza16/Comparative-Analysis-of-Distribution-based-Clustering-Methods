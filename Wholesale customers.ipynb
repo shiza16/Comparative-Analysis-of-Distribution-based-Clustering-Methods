{
 "cells": [
  {
   "cell_type": "markdown",
   "metadata": {},
   "source": [
    "# Data Dictionary\n",
    "\n",
    "The database can be downloaded from this [link](https://archive.ics.uci.edu/ml/datasets/Wholesale+customers)\n",
    "\n",
    "| Column   Position| Atrribute Name | Definition    | Data Type| Example | \n",
    "|---:|:-------------|:-----------|:-------------|:-----------|\n",
    "| 1 | Channel |customers Channel/Retail channel | Qualitative (Nominal)  | 1,2 |\n",
    "| 2 | Region | customer's region | Qualitative (Nominal)  | 1,2,3 |\n",
    "| 3 | Fresh  | annual spending of customer on fresh products    |  Quantitative (Continuous) | 12669,6353,.. |\n",
    "| 4 | Milk | annual spending of customer on milk's products    |  Quantitative (Continuous) | 9656,1196,.. |\n",
    "| 5 | Grocery  | annual spending of customer on grocery products    |  Quantitative (Continuous) | 7198,9568,.. |\n",
    "| 6 | Frozen | annual spending of customer on frozen products    |  Quantitative (Continuous) | 3915,2405,.. |\n",
    "| 7 | Detergents_Paper  | annual spending of customer on detergent's products    |  Quantitative (Continuous) | 3516,1777,.. |\n",
    "| 8 | Delicassen | annual spending of customer on delicassen products    |  Quantitative (Continuous) | 3915,2405,.. |\n",
    "\n",
    "\n",
    "\n",
    "The dataset contains the data of sales of 6 categories of products for 2 channel and across 3 regions.\n"
   ]
  },
  {
   "cell_type": "code",
   "execution_count": 1,
   "metadata": {},
   "outputs": [],
   "source": [
    "import pandas as pd\n",
    "import numpy as np\n",
    "import matplotlib.pyplot as plt\n",
    "import seaborn as sns\n",
    "from sklearn.preprocessing import StandardScaler, OneHotEncoder, MinMaxScaler\n",
    "from sklearn.pipeline import Pipeline\n",
    "from sklearn.compose import ColumnTransformer\n",
    "from sklearn.manifold import TSNE\n",
    "import plotly.express as px\n",
    "from sklearn.metrics import silhouette_samples, silhouette_score, homogeneity_score, completeness_score, v_measure_score, adjusted_rand_score, adjusted_mutual_info_score, fowlkes_mallows_score\n",
    "from scipy.spatial import distance_matrix \n",
    "import time\n",
    "import sklearn.metrics as metrics\n",
    "from sklearn.cluster import MiniBatchKMeans, KMeans, AgglomerativeClustering, OPTICS, MeanShift, estimate_bandwidth, DBSCAN, AffinityPropagation ,SpectralClustering\n",
    "from sklearn.metrics.pairwise import pairwise_distances_argmin\n",
    "import scipy.cluster.hierarchy as hcluster\n",
    "from  scipy.cluster import hierarchy\n",
    "from sklearn.model_selection import GridSearchCV\n",
    "from sklearn.mixture import GaussianMixture, BayesianGaussianMixture\n",
    "import matplotlib.cm as cm\n",
    "import warnings\n",
    "import functions\n",
    "warnings.filterwarnings('ignore')"
   ]
  },
  {
   "cell_type": "code",
   "execution_count": 2,
   "metadata": {},
   "outputs": [
    {
     "name": "stdout",
     "output_type": "stream",
     "text": [
      "data size : (440, 8) \n"
     ]
    }
   ],
   "source": [
    "df = pd.read_csv(\"data/Wholesale customers data.csv\")\n",
    "\n",
    "print(\"data size : {} \".format(df.shape))"
   ]
  },
  {
   "cell_type": "code",
   "execution_count": 3,
   "metadata": {},
   "outputs": [
    {
     "data": {
      "text/html": [
       "<div>\n",
       "<style scoped>\n",
       "    .dataframe tbody tr th:only-of-type {\n",
       "        vertical-align: middle;\n",
       "    }\n",
       "\n",
       "    .dataframe tbody tr th {\n",
       "        vertical-align: top;\n",
       "    }\n",
       "\n",
       "    .dataframe thead th {\n",
       "        text-align: right;\n",
       "    }\n",
       "</style>\n",
       "<table border=\"1\" class=\"dataframe\">\n",
       "  <thead>\n",
       "    <tr style=\"text-align: right;\">\n",
       "      <th></th>\n",
       "      <th>Channel</th>\n",
       "      <th>Region</th>\n",
       "      <th>Fresh</th>\n",
       "      <th>Milk</th>\n",
       "      <th>Grocery</th>\n",
       "      <th>Frozen</th>\n",
       "      <th>Detergents_Paper</th>\n",
       "      <th>Delicassen</th>\n",
       "    </tr>\n",
       "  </thead>\n",
       "  <tbody>\n",
       "    <tr>\n",
       "      <th>0</th>\n",
       "      <td>2</td>\n",
       "      <td>3</td>\n",
       "      <td>12669</td>\n",
       "      <td>9656</td>\n",
       "      <td>7561</td>\n",
       "      <td>214</td>\n",
       "      <td>2674</td>\n",
       "      <td>1338</td>\n",
       "    </tr>\n",
       "    <tr>\n",
       "      <th>1</th>\n",
       "      <td>2</td>\n",
       "      <td>3</td>\n",
       "      <td>7057</td>\n",
       "      <td>9810</td>\n",
       "      <td>9568</td>\n",
       "      <td>1762</td>\n",
       "      <td>3293</td>\n",
       "      <td>1776</td>\n",
       "    </tr>\n",
       "    <tr>\n",
       "      <th>2</th>\n",
       "      <td>2</td>\n",
       "      <td>3</td>\n",
       "      <td>6353</td>\n",
       "      <td>8808</td>\n",
       "      <td>7684</td>\n",
       "      <td>2405</td>\n",
       "      <td>3516</td>\n",
       "      <td>7844</td>\n",
       "    </tr>\n",
       "    <tr>\n",
       "      <th>3</th>\n",
       "      <td>1</td>\n",
       "      <td>3</td>\n",
       "      <td>13265</td>\n",
       "      <td>1196</td>\n",
       "      <td>4221</td>\n",
       "      <td>6404</td>\n",
       "      <td>507</td>\n",
       "      <td>1788</td>\n",
       "    </tr>\n",
       "    <tr>\n",
       "      <th>4</th>\n",
       "      <td>2</td>\n",
       "      <td>3</td>\n",
       "      <td>22615</td>\n",
       "      <td>5410</td>\n",
       "      <td>7198</td>\n",
       "      <td>3915</td>\n",
       "      <td>1777</td>\n",
       "      <td>5185</td>\n",
       "    </tr>\n",
       "  </tbody>\n",
       "</table>\n",
       "</div>"
      ],
      "text/plain": [
       "   Channel  Region  Fresh  Milk  Grocery  Frozen  Detergents_Paper  Delicassen\n",
       "0        2       3  12669  9656     7561     214              2674        1338\n",
       "1        2       3   7057  9810     9568    1762              3293        1776\n",
       "2        2       3   6353  8808     7684    2405              3516        7844\n",
       "3        1       3  13265  1196     4221    6404               507        1788\n",
       "4        2       3  22615  5410     7198    3915              1777        5185"
      ]
     },
     "execution_count": 3,
     "metadata": {},
     "output_type": "execute_result"
    }
   ],
   "source": [
    "df.head()"
   ]
  },
  {
   "cell_type": "markdown",
   "metadata": {},
   "source": [
    "### Data Preprocessing\n",
    "\n",
    "\n",
    "For this dataset, the Data Preprocessing steps include:\n",
    "\n",
    "- Removal of valueless columns.\n",
    "- Updating empty values with the mean of the respective column.\n",
    "- Checking for outliers.\n",
    "- Standardize the dataset by using min-max scaler.\n",
    "- Reducing the number of dimensions in the training dataset using PCA.\n"
   ]
  },
  {
   "cell_type": "code",
   "execution_count": 114,
   "metadata": {},
   "outputs": [
    {
     "name": "stdout",
     "output_type": "stream",
     "text": [
      "Channel:  [2 1]\n",
      "Region:  [3 1 2]\n"
     ]
    }
   ],
   "source": [
    "print(\"Channel: \", df['Channel'].unique())\n",
    "print(\"Region: \", df['Region'].unique())"
   ]
  },
  {
   "cell_type": "markdown",
   "metadata": {},
   "source": [
    "The dataset contains the data of sales of 6 categories of products for 2 channel and across 3 regions."
   ]
  },
  {
   "cell_type": "code",
   "execution_count": 4,
   "metadata": {},
   "outputs": [
    {
     "name": "stdout",
     "output_type": "stream",
     "text": [
      "<class 'pandas.core.frame.DataFrame'>\n",
      "RangeIndex: 440 entries, 0 to 439\n",
      "Data columns (total 8 columns):\n",
      " #   Column            Non-Null Count  Dtype\n",
      "---  ------            --------------  -----\n",
      " 0   Channel           440 non-null    int64\n",
      " 1   Region            440 non-null    int64\n",
      " 2   Fresh             440 non-null    int64\n",
      " 3   Milk              440 non-null    int64\n",
      " 4   Grocery           440 non-null    int64\n",
      " 5   Frozen            440 non-null    int64\n",
      " 6   Detergents_Paper  440 non-null    int64\n",
      " 7   Delicassen        440 non-null    int64\n",
      "dtypes: int64(8)\n",
      "memory usage: 27.6 KB\n"
     ]
    }
   ],
   "source": [
    "df.info()"
   ]
  },
  {
   "cell_type": "markdown",
   "metadata": {},
   "source": [
    "We also do not have any null values in our dataset, and also no need for any data type conversion."
   ]
  },
  {
   "cell_type": "code",
   "execution_count": 5,
   "metadata": {},
   "outputs": [
    {
     "data": {
      "text/html": [
       "<div>\n",
       "<style scoped>\n",
       "    .dataframe tbody tr th:only-of-type {\n",
       "        vertical-align: middle;\n",
       "    }\n",
       "\n",
       "    .dataframe tbody tr th {\n",
       "        vertical-align: top;\n",
       "    }\n",
       "\n",
       "    .dataframe thead th {\n",
       "        text-align: right;\n",
       "    }\n",
       "</style>\n",
       "<table border=\"1\" class=\"dataframe\">\n",
       "  <thead>\n",
       "    <tr style=\"text-align: right;\">\n",
       "      <th></th>\n",
       "      <th>Channel</th>\n",
       "      <th>Region</th>\n",
       "      <th>Fresh</th>\n",
       "      <th>Milk</th>\n",
       "      <th>Grocery</th>\n",
       "      <th>Frozen</th>\n",
       "      <th>Detergents_Paper</th>\n",
       "      <th>Delicassen</th>\n",
       "    </tr>\n",
       "  </thead>\n",
       "  <tbody>\n",
       "    <tr>\n",
       "      <th>count</th>\n",
       "      <td>440.000000</td>\n",
       "      <td>440.000000</td>\n",
       "      <td>440.000000</td>\n",
       "      <td>440.000000</td>\n",
       "      <td>440.000000</td>\n",
       "      <td>440.000000</td>\n",
       "      <td>440.000000</td>\n",
       "      <td>440.000000</td>\n",
       "    </tr>\n",
       "    <tr>\n",
       "      <th>mean</th>\n",
       "      <td>1.322727</td>\n",
       "      <td>2.543182</td>\n",
       "      <td>12000.297727</td>\n",
       "      <td>5796.265909</td>\n",
       "      <td>7951.277273</td>\n",
       "      <td>3071.931818</td>\n",
       "      <td>2881.493182</td>\n",
       "      <td>1524.870455</td>\n",
       "    </tr>\n",
       "    <tr>\n",
       "      <th>std</th>\n",
       "      <td>0.468052</td>\n",
       "      <td>0.774272</td>\n",
       "      <td>12647.328865</td>\n",
       "      <td>7380.377175</td>\n",
       "      <td>9503.162829</td>\n",
       "      <td>4854.673333</td>\n",
       "      <td>4767.854448</td>\n",
       "      <td>2820.105937</td>\n",
       "    </tr>\n",
       "    <tr>\n",
       "      <th>min</th>\n",
       "      <td>1.000000</td>\n",
       "      <td>1.000000</td>\n",
       "      <td>3.000000</td>\n",
       "      <td>55.000000</td>\n",
       "      <td>3.000000</td>\n",
       "      <td>25.000000</td>\n",
       "      <td>3.000000</td>\n",
       "      <td>3.000000</td>\n",
       "    </tr>\n",
       "    <tr>\n",
       "      <th>25%</th>\n",
       "      <td>1.000000</td>\n",
       "      <td>2.000000</td>\n",
       "      <td>3127.750000</td>\n",
       "      <td>1533.000000</td>\n",
       "      <td>2153.000000</td>\n",
       "      <td>742.250000</td>\n",
       "      <td>256.750000</td>\n",
       "      <td>408.250000</td>\n",
       "    </tr>\n",
       "    <tr>\n",
       "      <th>50%</th>\n",
       "      <td>1.000000</td>\n",
       "      <td>3.000000</td>\n",
       "      <td>8504.000000</td>\n",
       "      <td>3627.000000</td>\n",
       "      <td>4755.500000</td>\n",
       "      <td>1526.000000</td>\n",
       "      <td>816.500000</td>\n",
       "      <td>965.500000</td>\n",
       "    </tr>\n",
       "    <tr>\n",
       "      <th>75%</th>\n",
       "      <td>2.000000</td>\n",
       "      <td>3.000000</td>\n",
       "      <td>16933.750000</td>\n",
       "      <td>7190.250000</td>\n",
       "      <td>10655.750000</td>\n",
       "      <td>3554.250000</td>\n",
       "      <td>3922.000000</td>\n",
       "      <td>1820.250000</td>\n",
       "    </tr>\n",
       "    <tr>\n",
       "      <th>max</th>\n",
       "      <td>2.000000</td>\n",
       "      <td>3.000000</td>\n",
       "      <td>112151.000000</td>\n",
       "      <td>73498.000000</td>\n",
       "      <td>92780.000000</td>\n",
       "      <td>60869.000000</td>\n",
       "      <td>40827.000000</td>\n",
       "      <td>47943.000000</td>\n",
       "    </tr>\n",
       "  </tbody>\n",
       "</table>\n",
       "</div>"
      ],
      "text/plain": [
       "          Channel      Region          Fresh          Milk       Grocery  \\\n",
       "count  440.000000  440.000000     440.000000    440.000000    440.000000   \n",
       "mean     1.322727    2.543182   12000.297727   5796.265909   7951.277273   \n",
       "std      0.468052    0.774272   12647.328865   7380.377175   9503.162829   \n",
       "min      1.000000    1.000000       3.000000     55.000000      3.000000   \n",
       "25%      1.000000    2.000000    3127.750000   1533.000000   2153.000000   \n",
       "50%      1.000000    3.000000    8504.000000   3627.000000   4755.500000   \n",
       "75%      2.000000    3.000000   16933.750000   7190.250000  10655.750000   \n",
       "max      2.000000    3.000000  112151.000000  73498.000000  92780.000000   \n",
       "\n",
       "             Frozen  Detergents_Paper    Delicassen  \n",
       "count    440.000000        440.000000    440.000000  \n",
       "mean    3071.931818       2881.493182   1524.870455  \n",
       "std     4854.673333       4767.854448   2820.105937  \n",
       "min       25.000000          3.000000      3.000000  \n",
       "25%      742.250000        256.750000    408.250000  \n",
       "50%     1526.000000        816.500000    965.500000  \n",
       "75%     3554.250000       3922.000000   1820.250000  \n",
       "max    60869.000000      40827.000000  47943.000000  "
      ]
     },
     "execution_count": 5,
     "metadata": {},
     "output_type": "execute_result"
    }
   ],
   "source": [
    "df.describe()"
   ]
  },
  {
   "cell_type": "code",
   "execution_count": 6,
   "metadata": {},
   "outputs": [
    {
     "data": {
      "image/png": "[encoded data removed]",
      "text/plain": [
       "<Figure size 1080x288 with 1 Axes>"
      ]
     },
     "metadata": {
      "needs_background": "light"
     },
     "output_type": "display_data"
    }
   ],
   "source": [
    "plt.figure(1 , figsize = (15 , 4))\n",
    "color_palette = [\"#FA5858\", \"#58D3F7\", \"#704041\", \"#f5c3c4\"]\n",
    "sns.countplot(y = 'Channel' , data = df, palette = color_palette)\n",
    "plt.show()"
   ]
  },
  {
   "cell_type": "markdown",
   "metadata": {},
   "source": [
    "From the above chart we can observe that highest proportion we have in the data is of the channel 2 class. "
   ]
  },
  {
   "cell_type": "markdown",
   "metadata": {},
   "source": [
    "#####  plot distribution of numerical attributes"
   ]
  },
  {
   "cell_type": "code",
   "execution_count": 8,
   "metadata": {},
   "outputs": [
    {
     "data": {
      "image/png": "[encoded data removed]",
      "text/plain": [
       "<Figure size 1440x1440 with 8 Axes>"
      ]
     },
     "metadata": {
      "needs_background": "light"
     },
     "output_type": "display_data"
    }
   ],
   "source": [
    "numerical_attributes_plot_distrbution(df)"
   ]
  },
  {
   "cell_type": "markdown",
   "metadata": {},
   "source": [
    "From the above graphs on the distribution of product it seems that we have some outliers in the data"
   ]
  },
  {
   "cell_type": "code",
   "execution_count": 10,
   "metadata": {},
   "outputs": [
    {
     "data": {
      "image/png": "[encoded data removed]",
      "text/plain": [
       "<Figure size 720x432 with 2 Axes>"
      ]
     },
     "metadata": {
      "needs_background": "light"
     },
     "output_type": "display_data"
    }
   ],
   "source": [
    "plot_corr_matrix(df)"
   ]
  },
  {
   "cell_type": "markdown",
   "metadata": {},
   "source": [
    "From the pairplot above, the correlation between the detergents_paper and the grocery seems to be pretty strong, meaning that consumers might have often spend money on these two types of product."
   ]
  },
  {
   "cell_type": "markdown",
   "metadata": {},
   "source": [
    "#### Checking for Outliers\n",
    "\n",
    "Here we are checking for all the outliers, by getting each variable upper and lower extream values and removing which does not lie in IQR Range"
   ]
  },
  {
   "cell_type": "code",
   "execution_count": 12,
   "metadata": {},
   "outputs": [
    {
     "data": {
      "text/plain": [
       "413"
      ]
     },
     "execution_count": 12,
     "metadata": {},
     "output_type": "execute_result"
    }
   ],
   "source": [
    "cleaned_data = process_outliers(df)\n",
    "len(cleaned_data)"
   ]
  },
  {
   "cell_type": "code",
   "execution_count": 13,
   "metadata": {},
   "outputs": [
    {
     "data": {
      "text/html": [
       "<div>\n",
       "<style scoped>\n",
       "    .dataframe tbody tr th:only-of-type {\n",
       "        vertical-align: middle;\n",
       "    }\n",
       "\n",
       "    .dataframe tbody tr th {\n",
       "        vertical-align: top;\n",
       "    }\n",
       "\n",
       "    .dataframe thead th {\n",
       "        text-align: right;\n",
       "    }\n",
       "</style>\n",
       "<table border=\"1\" class=\"dataframe\">\n",
       "  <thead>\n",
       "    <tr style=\"text-align: right;\">\n",
       "      <th></th>\n",
       "      <th>Channel</th>\n",
       "      <th>Region</th>\n",
       "      <th>Fresh</th>\n",
       "      <th>Milk</th>\n",
       "      <th>Grocery</th>\n",
       "      <th>Frozen</th>\n",
       "      <th>Detergents_Paper</th>\n",
       "      <th>Delicassen</th>\n",
       "    </tr>\n",
       "  </thead>\n",
       "  <tbody>\n",
       "    <tr>\n",
       "      <th>0</th>\n",
       "      <td>2</td>\n",
       "      <td>3</td>\n",
       "      <td>12669</td>\n",
       "      <td>9656</td>\n",
       "      <td>7561</td>\n",
       "      <td>214</td>\n",
       "      <td>2674</td>\n",
       "      <td>1338</td>\n",
       "    </tr>\n",
       "    <tr>\n",
       "      <th>1</th>\n",
       "      <td>2</td>\n",
       "      <td>3</td>\n",
       "      <td>7057</td>\n",
       "      <td>9810</td>\n",
       "      <td>9568</td>\n",
       "      <td>1762</td>\n",
       "      <td>3293</td>\n",
       "      <td>1776</td>\n",
       "    </tr>\n",
       "    <tr>\n",
       "      <th>3</th>\n",
       "      <td>1</td>\n",
       "      <td>3</td>\n",
       "      <td>13265</td>\n",
       "      <td>1196</td>\n",
       "      <td>4221</td>\n",
       "      <td>6404</td>\n",
       "      <td>507</td>\n",
       "      <td>1788</td>\n",
       "    </tr>\n",
       "    <tr>\n",
       "      <th>5</th>\n",
       "      <td>2</td>\n",
       "      <td>3</td>\n",
       "      <td>9413</td>\n",
       "      <td>8259</td>\n",
       "      <td>5126</td>\n",
       "      <td>666</td>\n",
       "      <td>1795</td>\n",
       "      <td>1451</td>\n",
       "    </tr>\n",
       "    <tr>\n",
       "      <th>6</th>\n",
       "      <td>2</td>\n",
       "      <td>3</td>\n",
       "      <td>12126</td>\n",
       "      <td>3199</td>\n",
       "      <td>6975</td>\n",
       "      <td>480</td>\n",
       "      <td>3140</td>\n",
       "      <td>545</td>\n",
       "    </tr>\n",
       "  </tbody>\n",
       "</table>\n",
       "</div>"
      ],
      "text/plain": [
       "   Channel  Region  Fresh  Milk  Grocery  Frozen  Detergents_Paper  Delicassen\n",
       "0        2       3  12669  9656     7561     214              2674        1338\n",
       "1        2       3   7057  9810     9568    1762              3293        1776\n",
       "3        1       3  13265  1196     4221    6404               507        1788\n",
       "5        2       3   9413  8259     5126     666              1795        1451\n",
       "6        2       3  12126  3199     6975     480              3140         545"
      ]
     },
     "execution_count": 13,
     "metadata": {},
     "output_type": "execute_result"
    }
   ],
   "source": [
    "cleaned_data.head()"
   ]
  },
  {
   "cell_type": "markdown",
   "metadata": {},
   "source": [
    "Here we are scaling the data for reducing the dimensionality of the dataset"
   ]
  },
  {
   "cell_type": "code",
   "execution_count": 14,
   "metadata": {},
   "outputs": [
    {
     "data": {
      "text/html": [
       "<div>\n",
       "<style scoped>\n",
       "    .dataframe tbody tr th:only-of-type {\n",
       "        vertical-align: middle;\n",
       "    }\n",
       "\n",
       "    .dataframe tbody tr th {\n",
       "        vertical-align: top;\n",
       "    }\n",
       "\n",
       "    .dataframe thead th {\n",
       "        text-align: right;\n",
       "    }\n",
       "</style>\n",
       "<table border=\"1\" class=\"dataframe\">\n",
       "  <thead>\n",
       "    <tr style=\"text-align: right;\">\n",
       "      <th></th>\n",
       "      <th>Channel</th>\n",
       "      <th>Region</th>\n",
       "      <th>Fresh</th>\n",
       "      <th>Milk</th>\n",
       "      <th>Grocery</th>\n",
       "      <th>Frozen</th>\n",
       "      <th>Detergents_Paper</th>\n",
       "      <th>Delicassen</th>\n",
       "    </tr>\n",
       "  </thead>\n",
       "  <tbody>\n",
       "    <tr>\n",
       "      <th>0</th>\n",
       "      <td>1.0</td>\n",
       "      <td>1.0</td>\n",
       "      <td>0.166179</td>\n",
       "      <td>0.131378</td>\n",
       "      <td>0.081494</td>\n",
       "      <td>0.006113</td>\n",
       "      <td>0.065496</td>\n",
       "      <td>0.367886</td>\n",
       "    </tr>\n",
       "    <tr>\n",
       "      <th>1</th>\n",
       "      <td>1.0</td>\n",
       "      <td>1.0</td>\n",
       "      <td>0.092567</td>\n",
       "      <td>0.133473</td>\n",
       "      <td>0.103126</td>\n",
       "      <td>0.050330</td>\n",
       "      <td>0.080657</td>\n",
       "      <td>0.488315</td>\n",
       "    </tr>\n",
       "    <tr>\n",
       "      <th>3</th>\n",
       "      <td>0.5</td>\n",
       "      <td>1.0</td>\n",
       "      <td>0.173997</td>\n",
       "      <td>0.016273</td>\n",
       "      <td>0.045495</td>\n",
       "      <td>0.182924</td>\n",
       "      <td>0.012418</td>\n",
       "      <td>0.491614</td>\n",
       "    </tr>\n",
       "    <tr>\n",
       "      <th>5</th>\n",
       "      <td>1.0</td>\n",
       "      <td>1.0</td>\n",
       "      <td>0.123470</td>\n",
       "      <td>0.112370</td>\n",
       "      <td>0.055249</td>\n",
       "      <td>0.019024</td>\n",
       "      <td>0.043966</td>\n",
       "      <td>0.398955</td>\n",
       "    </tr>\n",
       "    <tr>\n",
       "      <th>6</th>\n",
       "      <td>1.0</td>\n",
       "      <td>1.0</td>\n",
       "      <td>0.159057</td>\n",
       "      <td>0.043525</td>\n",
       "      <td>0.075178</td>\n",
       "      <td>0.013711</td>\n",
       "      <td>0.076910</td>\n",
       "      <td>0.149849</td>\n",
       "    </tr>\n",
       "    <tr>\n",
       "      <th>...</th>\n",
       "      <td>...</td>\n",
       "      <td>...</td>\n",
       "      <td>...</td>\n",
       "      <td>...</td>\n",
       "      <td>...</td>\n",
       "      <td>...</td>\n",
       "      <td>...</td>\n",
       "      <td>...</td>\n",
       "    </tr>\n",
       "    <tr>\n",
       "      <th>435</th>\n",
       "      <td>0.5</td>\n",
       "      <td>1.0</td>\n",
       "      <td>0.389614</td>\n",
       "      <td>0.163964</td>\n",
       "      <td>0.172742</td>\n",
       "      <td>0.375189</td>\n",
       "      <td>0.004458</td>\n",
       "      <td>0.605994</td>\n",
       "    </tr>\n",
       "    <tr>\n",
       "      <th>436</th>\n",
       "      <td>0.5</td>\n",
       "      <td>1.0</td>\n",
       "      <td>0.514553</td>\n",
       "      <td>0.019470</td>\n",
       "      <td>0.008235</td>\n",
       "      <td>0.128824</td>\n",
       "      <td>0.002278</td>\n",
       "      <td>0.645037</td>\n",
       "    </tr>\n",
       "    <tr>\n",
       "      <th>437</th>\n",
       "      <td>1.0</td>\n",
       "      <td>1.0</td>\n",
       "      <td>0.190603</td>\n",
       "      <td>0.210727</td>\n",
       "      <td>0.325965</td>\n",
       "      <td>0.012483</td>\n",
       "      <td>0.363509</td>\n",
       "      <td>0.513335</td>\n",
       "    </tr>\n",
       "    <tr>\n",
       "      <th>438</th>\n",
       "      <td>0.5</td>\n",
       "      <td>1.0</td>\n",
       "      <td>0.134974</td>\n",
       "      <td>0.026953</td>\n",
       "      <td>0.024057</td>\n",
       "      <td>0.029650</td>\n",
       "      <td>0.004115</td>\n",
       "      <td>0.584273</td>\n",
       "    </tr>\n",
       "    <tr>\n",
       "      <th>439</th>\n",
       "      <td>0.5</td>\n",
       "      <td>1.0</td>\n",
       "      <td>0.036557</td>\n",
       "      <td>0.023103</td>\n",
       "      <td>0.027053</td>\n",
       "      <td>0.001857</td>\n",
       "      <td>0.011683</td>\n",
       "      <td>0.014297</td>\n",
       "    </tr>\n",
       "  </tbody>\n",
       "</table>\n",
       "<p>413 rows × 8 columns</p>\n",
       "</div>"
      ],
      "text/plain": [
       "     Channel  Region     Fresh      Milk   Grocery    Frozen  \\\n",
       "0        1.0     1.0  0.166179  0.131378  0.081494  0.006113   \n",
       "1        1.0     1.0  0.092567  0.133473  0.103126  0.050330   \n",
       "3        0.5     1.0  0.173997  0.016273  0.045495  0.182924   \n",
       "5        1.0     1.0  0.123470  0.112370  0.055249  0.019024   \n",
       "6        1.0     1.0  0.159057  0.043525  0.075178  0.013711   \n",
       "..       ...     ...       ...       ...       ...       ...   \n",
       "435      0.5     1.0  0.389614  0.163964  0.172742  0.375189   \n",
       "436      0.5     1.0  0.514553  0.019470  0.008235  0.128824   \n",
       "437      1.0     1.0  0.190603  0.210727  0.325965  0.012483   \n",
       "438      0.5     1.0  0.134974  0.026953  0.024057  0.029650   \n",
       "439      0.5     1.0  0.036557  0.023103  0.027053  0.001857   \n",
       "\n",
       "     Detergents_Paper  Delicassen  \n",
       "0            0.065496    0.367886  \n",
       "1            0.080657    0.488315  \n",
       "3            0.012418    0.491614  \n",
       "5            0.043966    0.398955  \n",
       "6            0.076910    0.149849  \n",
       "..                ...         ...  \n",
       "435          0.004458    0.605994  \n",
       "436          0.002278    0.645037  \n",
       "437          0.363509    0.513335  \n",
       "438          0.004115    0.584273  \n",
       "439          0.011683    0.014297  \n",
       "\n",
       "[413 rows x 8 columns]"
      ]
     },
     "execution_count": 14,
     "metadata": {},
     "output_type": "execute_result"
    }
   ],
   "source": [
    "df_max_scaled = min_max_scaled(cleaned_data)\n",
    "df_max_scaled"
   ]
  },
  {
   "cell_type": "code",
   "execution_count": 15,
   "metadata": {},
   "outputs": [],
   "source": [
    "X = df_max_scaled"
   ]
  },
  {
   "cell_type": "markdown",
   "metadata": {},
   "source": [
    "#### Dimensionality Reduction using PCA"
   ]
  },
  {
   "cell_type": "code",
   "execution_count": 16,
   "metadata": {},
   "outputs": [
    {
     "data": {
      "text/plain": [
       "Text(0, 0.5, 'Cumulative explained variance')"
      ]
     },
     "execution_count": 16,
     "metadata": {},
     "output_type": "execute_result"
    },
    {
     "data": {
      "image/png": "[encoded data removed]",
      "text/plain": [
       "<Figure size 432x288 with 1 Axes>"
      ]
     },
     "metadata": {
      "needs_background": "light"
     },
     "output_type": "display_data"
    }
   ],
   "source": [
    "plot_PCA_graph(X)"
   ]
  },
  {
   "cell_type": "markdown",
   "metadata": {},
   "source": [
    "Here we have used PCA on the raw data, as observed from the above graph, the number of componets are analyzed based on how variance is explained for each principle componets and the business goal. For our analysis, let's try to secure 90% of the explained variance.\n",
    "\n",
    "Since selecting the best number of principal components is to keep as much of the variance in the original data as possible, we would be going for the 3 paramters which is much less than our original dataset which has 8 attributes in total. From the above grap, the first 3 components for the 90% of variance can be used instead of using all the features in the dataset. This way dimension of data has been reduced by 60%, meaning that it will be now easier to fit clustering models as they are mainly based on distances."
   ]
  },
  {
   "cell_type": "code",
   "execution_count": 122,
   "metadata": {},
   "outputs": [
    {
     "data": {
      "text/plain": [
       "array([0.38828089, 0.34345334, 0.1637328 ])"
      ]
     },
     "execution_count": 122,
     "metadata": {},
     "output_type": "execute_result"
    }
   ],
   "source": [
    "pca = PCA(n_components=3)\n",
    "projected = pca.fit_transform(X)\n",
    "explained_variance = pca.explained_variance_ratio_\n",
    "explained_variance"
   ]
  },
  {
   "cell_type": "code",
   "execution_count": 123,
   "metadata": {},
   "outputs": [
    {
     "data": {
      "text/html": [
       "<div>\n",
       "<style scoped>\n",
       "    .dataframe tbody tr th:only-of-type {\n",
       "        vertical-align: middle;\n",
       "    }\n",
       "\n",
       "    .dataframe tbody tr th {\n",
       "        vertical-align: top;\n",
       "    }\n",
       "\n",
       "    .dataframe thead th {\n",
       "        text-align: right;\n",
       "    }\n",
       "</style>\n",
       "<table border=\"1\" class=\"dataframe\">\n",
       "  <thead>\n",
       "    <tr style=\"text-align: right;\">\n",
       "      <th></th>\n",
       "      <th>0</th>\n",
       "      <th>1</th>\n",
       "      <th>2</th>\n",
       "      <th>Channel</th>\n",
       "    </tr>\n",
       "  </thead>\n",
       "  <tbody>\n",
       "    <tr>\n",
       "      <th>0</th>\n",
       "      <td>-0.139263</td>\n",
       "      <td>0.098369</td>\n",
       "      <td>0.033467</td>\n",
       "      <td>2</td>\n",
       "    </tr>\n",
       "    <tr>\n",
       "      <th>1</th>\n",
       "      <td>-0.112038</td>\n",
       "      <td>0.203200</td>\n",
       "      <td>0.083181</td>\n",
       "      <td>2</td>\n",
       "    </tr>\n",
       "    <tr>\n",
       "      <th>2</th>\n",
       "      <td>-0.111396</td>\n",
       "      <td>0.213986</td>\n",
       "      <td>-0.098837</td>\n",
       "      <td>2</td>\n",
       "    </tr>\n",
       "    <tr>\n",
       "      <th>3</th>\n",
       "      <td>-0.133871</td>\n",
       "      <td>0.112814</td>\n",
       "      <td>0.023904</td>\n",
       "      <td>1</td>\n",
       "    </tr>\n",
       "    <tr>\n",
       "      <th>4</th>\n",
       "      <td>-0.187163</td>\n",
       "      <td>-0.113875</td>\n",
       "      <td>0.007648</td>\n",
       "      <td>2</td>\n",
       "    </tr>\n",
       "  </tbody>\n",
       "</table>\n",
       "</div>"
      ],
      "text/plain": [
       "          0         1         2  Channel\n",
       "0 -0.139263  0.098369  0.033467        2\n",
       "1 -0.112038  0.203200  0.083181        2\n",
       "2 -0.111396  0.213986 -0.098837        2\n",
       "3 -0.133871  0.112814  0.023904        1\n",
       "4 -0.187163 -0.113875  0.007648        2"
      ]
     },
     "execution_count": 123,
     "metadata": {},
     "output_type": "execute_result"
    }
   ],
   "source": [
    "principal_df = pd.DataFrame(data = projected)\n",
    "df_pca = principal_df.join(y, how='outer')\n",
    "df_pca.head(5)"
   ]
  },
  {
   "cell_type": "code",
   "execution_count": 124,
   "metadata": {},
   "outputs": [],
   "source": [
    "df1 = df_pca.dropna()\n",
    "\n",
    "X = df1.loc[:, df1.columns != 'Channel']\n",
    "y = df1[['Channel']]"
   ]
  },
  {
   "cell_type": "code",
   "execution_count": 125,
   "metadata": {},
   "outputs": [
    {
     "data": {
      "text/plain": [
       "(413, 3)"
      ]
     },
     "execution_count": 125,
     "metadata": {},
     "output_type": "execute_result"
    }
   ],
   "source": [
    "X.shape"
   ]
  },
  {
   "cell_type": "code",
   "execution_count": 126,
   "metadata": {},
   "outputs": [
    {
     "data": {
      "text/plain": [
       "(413, 1)"
      ]
     },
     "execution_count": 126,
     "metadata": {},
     "output_type": "execute_result"
    }
   ],
   "source": [
    "y.shape"
   ]
  },
  {
   "cell_type": "markdown",
   "metadata": {},
   "source": [
    "# Cluster Analysis\n",
    "\n",
    "This section is divided into two parts. In the first part we will be doing a comparative analysis of Gaussian mixture model with it's paramter's best value using Grid Search Technique. And In the second part we will be performing a comparartive analysis of <b>Gaussian mixture model </b> with other models that include <b>Bayesian Gaussian Mixture, Mini-Batch K-means, OPTICS, DBSCAN, Agglomerative, Spectral Clustering and Affinity Propagation </b> with their respective hyper-paramter tuning using Grid Search Technique. No of best paramters would be chosen on the basis of maximum silhoutte score.\n",
    "\n",
    "We will be further evaulating our cluster performance using following measures: \n",
    "    \n",
    "###### Intrinsic Measures that does not require ground truth labels (y)\n",
    "- silhouette_score measures the between-cluster distance against within-cluster distance. A higher score signifies better-defined clusters. It is good for well define cluster as well as measure the interpretability of clusters.\n",
    "- davies_bouldin_score measures the size of clusters against the average distance between clusters. A lower score signifies better-defined clusters. A lower score means that the cluster is relatively small compared to the distance to another cluster, hence well-defined.\n",
    "- calinski_harabasz_score measures the between-cluster dispersion against within-cluster dispersion. A higher score signifies better-defined clusters. A higher ratio signifies the cluster is far away from its other clusters and that the cluster is more well-defined\n",
    "    \n",
    "    \n",
    "###### Extrinsic Measures that requires ground truth labels (y)\n",
    "- fowlkes_mallows_score measure the correctness of the cluster assignments using pairwise precision and recall. A higher score signifies higher similarity.\n",
    "- adjusted_rand_score measures the similarity between the cluster assignments by making pair-wise comparisons. A higher score signifies higher similarity.\n",
    "- adjusted_mutual_info_score measures the agreement between the cluster assignments. A higher score signifies higher similarity.\n",
    "- homogeneity_score measures the precision of cluster, meaning each cluster contains only members of a single class. \n",
    "- completeness_score measures the recall of cluster, meaning all members of a given class are assigned to the same cluster.\n",
    "- v_measure_score measures the correctness of the cluster assignments and used to measure interpretability of clusters. A higher score signifies higher similarity.\n",
    "\n",
    "\n",
    "## Part 1: Comparative Analysis of Gaussian mixture model with it's hyper-parameters\n",
    "\n",
    "A Gaussian mixture model (GMM) assists to find a mixture of multi-dimensional Gaussian probability distributions that best models dataset. In the simplest case, GMMs can be used for finding clusters in the same manner as k-means.\n",
    "\n",
    "Here, first we would only be applying Gaussian Mixture Model with 2 components, then with addition of each hyperparamter using Grid Search to get the best possible attribute combination, we would be doing a comparative analysis as how each parameter is effecting the result of clustering. We would be doing comparative analysis using\n",
    "\n",
    "- GMM with n_components = 2\n",
    "- GMM with n_components and covariance_type using Grid Search \n",
    "- GMM with n_components and max_iter using Grid Search \n",
    "- GMM with n_components and init_params using Grid Search \n",
    "- GMM with n_components and n_init using Grid Search \n",
    "\n",
    "\n",
    "#### GMM with n_components = 2\n",
    "\n",
    "n_components refers to the number of mixture components.\n",
    "\n",
    "First we would just be using fixed no of n_components with all the default parameters to see how the clusers are formed for our dataset."
   ]
  },
  {
   "cell_type": "code",
   "execution_count": 127,
   "metadata": {},
   "outputs": [
    {
     "data": {
      "text/html": [
       "<div>\n",
       "<style scoped>\n",
       "    .dataframe tbody tr th:only-of-type {\n",
       "        vertical-align: middle;\n",
       "    }\n",
       "\n",
       "    .dataframe tbody tr th {\n",
       "        vertical-align: top;\n",
       "    }\n",
       "\n",
       "    .dataframe thead th {\n",
       "        text-align: right;\n",
       "    }\n",
       "</style>\n",
       "<table border=\"1\" class=\"dataframe\">\n",
       "  <thead>\n",
       "    <tr style=\"text-align: right;\">\n",
       "      <th></th>\n",
       "      <th>Cluster</th>\n",
       "    </tr>\n",
       "  </thead>\n",
       "  <tbody>\n",
       "    <tr>\n",
       "      <th>1</th>\n",
       "      <td>218</td>\n",
       "    </tr>\n",
       "    <tr>\n",
       "      <th>0</th>\n",
       "      <td>195</td>\n",
       "    </tr>\n",
       "  </tbody>\n",
       "</table>\n",
       "</div>"
      ],
      "text/plain": [
       "   Cluster\n",
       "1      218\n",
       "0      195"
      ]
     },
     "execution_count": 127,
     "metadata": {},
     "output_type": "execute_result"
    }
   ],
   "source": [
    "gmm1 = GaussianMixture(n_components = 2)\n",
    "\n",
    "gmm1.fit(X)\n",
    "gmm1_labels = gmm1.fit_predict(X)\n",
    "gmm1_dataset = pd.DataFrame(X.copy())\n",
    "gmm1_dataset.loc[:,'Cluster'] = gmm1_labels\n",
    "gmm1_dataset.Cluster.value_counts().to_frame()"
   ]
  },
  {
   "cell_type": "code",
   "execution_count": 162,
   "metadata": {},
   "outputs": [
    {
     "data": {
      "text/html": [
       "<div>\n",
       "<style scoped>\n",
       "    .dataframe tbody tr th:only-of-type {\n",
       "        vertical-align: middle;\n",
       "    }\n",
       "\n",
       "    .dataframe tbody tr th {\n",
       "        vertical-align: top;\n",
       "    }\n",
       "\n",
       "    .dataframe thead th {\n",
       "        text-align: right;\n",
       "    }\n",
       "</style>\n",
       "<table border=\"1\" class=\"dataframe\">\n",
       "  <thead>\n",
       "    <tr style=\"text-align: right;\">\n",
       "      <th></th>\n",
       "      <th>silhouette_score</th>\n",
       "      <th>davies_bouldin_score</th>\n",
       "      <th>calinski_harabasz_score</th>\n",
       "    </tr>\n",
       "  </thead>\n",
       "  <tbody>\n",
       "    <tr>\n",
       "      <th>GaussianMixture with n_components only</th>\n",
       "      <td>0.437551</td>\n",
       "      <td>1.126787</td>\n",
       "      <td>235.575825</td>\n",
       "    </tr>\n",
       "  </tbody>\n",
       "</table>\n",
       "</div>"
      ],
      "text/plain": [
       "                                        silhouette_score  \\\n",
       "GaussianMixture with n_components only          0.437551   \n",
       "\n",
       "                                        davies_bouldin_score  \\\n",
       "GaussianMixture with n_components only              1.126787   \n",
       "\n",
       "                                        calinski_harabasz_score  \n",
       "GaussianMixture with n_components only               235.575825  "
      ]
     },
     "execution_count": 162,
     "metadata": {},
     "output_type": "execute_result"
    }
   ],
   "source": [
    "gmm_df1 = pd.DataFrame(estimator_evaluation2(gmm1, 'GaussianMixture ', X ), index=[\"GaussianMixture with n_components only\"])\n",
    "gmm_df1"
   ]
  },
  {
   "cell_type": "markdown",
   "metadata": {},
   "source": [
    "#### GMM with n_components and covariance_type using Grid Search\n",
    "\n",
    "covariance_type parameter controls the degrees of freedom in the shape of cluster. That is what allows for adjusting for different shapes of the clusters and that is why it is an essential to set this carefully for the given problem. \n",
    "\n",
    "\n",
    "- full(default): it referes to have each component has its own general covariance matrix, which allows each cluster to be modeled as an ellipse with it's arbitrary orientation.\n",
    "- tied: it referes to have all components share the same general covariance matrix.\n",
    "- diag: it referes to have each component has its own diagonal covariance matrix, which means that the size of the cluster with each dimension can be set independently.\n",
    "- spherical: it referes to have each component has its own single variance, which is a simpler and faster model that constrains the shape of the cluster such that all dimensions are equal. The resulting clustering will have similar characteristics to that of k-means.\n",
    "\n",
    "We would be using the best covariance_type for our problem analysis using Grid Search Hyper-parameter technique."
   ]
  },
  {
   "cell_type": "code",
   "execution_count": 129,
   "metadata": {},
   "outputs": [
    {
     "name": "stdout",
     "output_type": "stream",
     "text": [
      "{'covariance_type': 'tied', 'n_components': 2}\n"
     ]
    },
    {
     "data": {
      "text/html": [
       "<div>\n",
       "<style scoped>\n",
       "    .dataframe tbody tr th:only-of-type {\n",
       "        vertical-align: middle;\n",
       "    }\n",
       "\n",
       "    .dataframe tbody tr th {\n",
       "        vertical-align: top;\n",
       "    }\n",
       "\n",
       "    .dataframe thead th {\n",
       "        text-align: right;\n",
       "    }\n",
       "</style>\n",
       "<table border=\"1\" class=\"dataframe\">\n",
       "  <thead>\n",
       "    <tr style=\"text-align: right;\">\n",
       "      <th></th>\n",
       "      <th>Cluster</th>\n",
       "    </tr>\n",
       "  </thead>\n",
       "  <tbody>\n",
       "    <tr>\n",
       "      <th>0</th>\n",
       "      <td>293</td>\n",
       "    </tr>\n",
       "    <tr>\n",
       "      <th>1</th>\n",
       "      <td>120</td>\n",
       "    </tr>\n",
       "  </tbody>\n",
       "</table>\n",
       "</div>"
      ],
      "text/plain": [
       "   Cluster\n",
       "0      293\n",
       "1      120"
      ]
     },
     "execution_count": 129,
     "metadata": {},
     "output_type": "execute_result"
    }
   ],
   "source": [
    "gmm_grid = {\n",
    "        \"covariance_type\": ['full', 'tied', 'diag', 'spherical'],\n",
    "        \"n_components\": range(2, 10)\n",
    "       }\n",
    "gmm_grid\n",
    "gmm_model2 = GaussianMixture()\n",
    "gmm_params2 = GridSearchCV(gmm_model2,gmm_grid,scoring=silhouette_score3,cv= 10).fit(X, y)\n",
    "print(gmm_params2.best_params_)\n",
    "gmm2 = GaussianMixture(covariance_type = gmm_params2.best_params_['covariance_type'],\n",
    "                      n_components = gmm_params2.best_params_['n_components'])\n",
    "\n",
    "gmm2.fit(X)\n",
    "gmm2_labels = gmm2.fit_predict(X)\n",
    "gmm2_dataset = pd.DataFrame(X.copy())\n",
    "gmm2_dataset.loc[:,'Cluster'] = gmm2_labels\n",
    "gmm2_dataset.Cluster.value_counts().to_frame()"
   ]
  },
  {
   "cell_type": "code",
   "execution_count": 163,
   "metadata": {},
   "outputs": [
    {
     "data": {
      "text/html": [
       "<div>\n",
       "<style scoped>\n",
       "    .dataframe tbody tr th:only-of-type {\n",
       "        vertical-align: middle;\n",
       "    }\n",
       "\n",
       "    .dataframe tbody tr th {\n",
       "        vertical-align: top;\n",
       "    }\n",
       "\n",
       "    .dataframe thead th {\n",
       "        text-align: right;\n",
       "    }\n",
       "</style>\n",
       "<table border=\"1\" class=\"dataframe\">\n",
       "  <thead>\n",
       "    <tr style=\"text-align: right;\">\n",
       "      <th></th>\n",
       "      <th>silhouette_score</th>\n",
       "      <th>davies_bouldin_score</th>\n",
       "      <th>calinski_harabasz_score</th>\n",
       "    </tr>\n",
       "  </thead>\n",
       "  <tbody>\n",
       "    <tr>\n",
       "      <th>GaussianMixture with covariance_type</th>\n",
       "      <td>0.442794</td>\n",
       "      <td>1.051217</td>\n",
       "      <td>254.891933</td>\n",
       "    </tr>\n",
       "  </tbody>\n",
       "</table>\n",
       "</div>"
      ],
      "text/plain": [
       "                                      silhouette_score  davies_bouldin_score  \\\n",
       "GaussianMixture with covariance_type          0.442794              1.051217   \n",
       "\n",
       "                                      calinski_harabasz_score  \n",
       "GaussianMixture with covariance_type               254.891933  "
      ]
     },
     "execution_count": 163,
     "metadata": {},
     "output_type": "execute_result"
    }
   ],
   "source": [
    "gmm_df2 = pd.DataFrame(estimator_evaluation2(gmm2, 'GaussianMixture ', X), index=[\"GaussianMixture with covariance_type\"])\n",
    "gmm_df2"
   ]
  },
  {
   "cell_type": "markdown",
   "metadata": {},
   "source": [
    "#### GMM with n_components and max_iter using Grid Search \n",
    "\n",
    "max_iter refers to the number of EM iterations to perform.\n",
    "\n",
    "As Gaussian Mixture models takes quite much time to run as compare to K-Means model because GMM takes long time to converge.\n",
    "That is why we need to consider the amount of data and the features that needs to be given to GMM. When experimenting with the Bayesian Gaussian Mixture class, it often gives an errors of convergence that couldn’t be reached, in that case we need to increase the max_iter parameter.\n",
    "\n",
    "We would be using the best max_iter for our problem analysis using Grid Search Hyper-paramter technique."
   ]
  },
  {
   "cell_type": "code",
   "execution_count": 131,
   "metadata": {},
   "outputs": [
    {
     "name": "stdout",
     "output_type": "stream",
     "text": [
      "{'max_iter': 150, 'n_components': 2}\n"
     ]
    },
    {
     "data": {
      "text/html": [
       "<div>\n",
       "<style scoped>\n",
       "    .dataframe tbody tr th:only-of-type {\n",
       "        vertical-align: middle;\n",
       "    }\n",
       "\n",
       "    .dataframe tbody tr th {\n",
       "        vertical-align: top;\n",
       "    }\n",
       "\n",
       "    .dataframe thead th {\n",
       "        text-align: right;\n",
       "    }\n",
       "</style>\n",
       "<table border=\"1\" class=\"dataframe\">\n",
       "  <thead>\n",
       "    <tr style=\"text-align: right;\">\n",
       "      <th></th>\n",
       "      <th>Cluster</th>\n",
       "    </tr>\n",
       "  </thead>\n",
       "  <tbody>\n",
       "    <tr>\n",
       "      <th>0</th>\n",
       "      <td>218</td>\n",
       "    </tr>\n",
       "    <tr>\n",
       "      <th>1</th>\n",
       "      <td>195</td>\n",
       "    </tr>\n",
       "  </tbody>\n",
       "</table>\n",
       "</div>"
      ],
      "text/plain": [
       "   Cluster\n",
       "0      218\n",
       "1      195"
      ]
     },
     "execution_count": 131,
     "metadata": {},
     "output_type": "execute_result"
    }
   ],
   "source": [
    "gmm_grid = {\n",
    "        \"max_iter\": [50, 100, 150, 200, 250, 300],\n",
    "        \"n_components\": range(2, 10)\n",
    "       }\n",
    "gmm_grid\n",
    "gmm_model3 = GaussianMixture()\n",
    "gmm_params3 = GridSearchCV(gmm_model3,gmm_grid,scoring=silhouette_score3,cv= 10).fit(X, y)\n",
    "print(gmm_params3.best_params_)\n",
    "gmm3 = GaussianMixture(max_iter = gmm_params3.best_params_['max_iter'],\n",
    "                      n_components = gmm_params3.best_params_['n_components'])\n",
    "\n",
    "gmm3.fit(X)\n",
    "gmm3_labels = gmm3.fit_predict(X)\n",
    "gmm3_dataset = pd.DataFrame(X.copy())\n",
    "gmm3_dataset.loc[:,'Cluster'] = gmm3_labels\n",
    "gmm3_dataset.Cluster.value_counts().to_frame()"
   ]
  },
  {
   "cell_type": "code",
   "execution_count": 164,
   "metadata": {},
   "outputs": [
    {
     "data": {
      "text/html": [
       "<div>\n",
       "<style scoped>\n",
       "    .dataframe tbody tr th:only-of-type {\n",
       "        vertical-align: middle;\n",
       "    }\n",
       "\n",
       "    .dataframe tbody tr th {\n",
       "        vertical-align: top;\n",
       "    }\n",
       "\n",
       "    .dataframe thead th {\n",
       "        text-align: right;\n",
       "    }\n",
       "</style>\n",
       "<table border=\"1\" class=\"dataframe\">\n",
       "  <thead>\n",
       "    <tr style=\"text-align: right;\">\n",
       "      <th></th>\n",
       "      <th>silhouette_score</th>\n",
       "      <th>davies_bouldin_score</th>\n",
       "      <th>calinski_harabasz_score</th>\n",
       "    </tr>\n",
       "  </thead>\n",
       "  <tbody>\n",
       "    <tr>\n",
       "      <th>GaussianMixture with max_iter</th>\n",
       "      <td>0.24491</td>\n",
       "      <td>1.751929</td>\n",
       "      <td>107.285127</td>\n",
       "    </tr>\n",
       "  </tbody>\n",
       "</table>\n",
       "</div>"
      ],
      "text/plain": [
       "                               silhouette_score  davies_bouldin_score  \\\n",
       "GaussianMixture with max_iter           0.24491              1.751929   \n",
       "\n",
       "                               calinski_harabasz_score  \n",
       "GaussianMixture with max_iter               107.285127  "
      ]
     },
     "execution_count": 164,
     "metadata": {},
     "output_type": "execute_result"
    }
   ],
   "source": [
    "gmm_df3 = pd.DataFrame(estimator_evaluation2(gmm3, 'GaussianMixture ', X), index=[\"GaussianMixture with max_iter\"])\n",
    "gmm_df3"
   ]
  },
  {
   "cell_type": "markdown",
   "metadata": {},
   "source": [
    "#### GMM with n_components and init_params using Grid Search \n",
    "\n",
    "init_params refers to Initialization methods that helps to generate the initial centers for the model components. The innitial method for GMM are:\n",
    "\n",
    "- k-means (default) :This refers to k-means clustering algorithm and can be computationally expensive compared to other initialization methods.\n",
    "\n",
    "- k-means++ : This initialization method of k-means clustering picks the first center at random from the data, then the centers will be chosen from a weighted distribution of the data that favours points that are further away from the existing centers.\n",
    "\n",
    "- random_from_data : This picks random data points from the input data as the initial centers, and it's fastest method of initialization but can result in producing non-convergent results if the selected points are way too close to each other.\n",
    "\n",
    "- random : This chooses center randomly but away from the mean of all data, but as simple as it is, it can lead to the model taking longer to converge.\n",
    "\n",
    "We would be using the best init_params for our problem analysis using Grid Search Hyper-paramter technique"
   ]
  },
  {
   "cell_type": "code",
   "execution_count": 133,
   "metadata": {},
   "outputs": [
    {
     "name": "stdout",
     "output_type": "stream",
     "text": [
      "{'init_params': 'kmeans', 'n_components': 2}\n"
     ]
    },
    {
     "data": {
      "text/html": [
       "<div>\n",
       "<style scoped>\n",
       "    .dataframe tbody tr th:only-of-type {\n",
       "        vertical-align: middle;\n",
       "    }\n",
       "\n",
       "    .dataframe tbody tr th {\n",
       "        vertical-align: top;\n",
       "    }\n",
       "\n",
       "    .dataframe thead th {\n",
       "        text-align: right;\n",
       "    }\n",
       "</style>\n",
       "<table border=\"1\" class=\"dataframe\">\n",
       "  <thead>\n",
       "    <tr style=\"text-align: right;\">\n",
       "      <th></th>\n",
       "      <th>Cluster</th>\n",
       "    </tr>\n",
       "  </thead>\n",
       "  <tbody>\n",
       "    <tr>\n",
       "      <th>1</th>\n",
       "      <td>288</td>\n",
       "    </tr>\n",
       "    <tr>\n",
       "      <th>0</th>\n",
       "      <td>125</td>\n",
       "    </tr>\n",
       "  </tbody>\n",
       "</table>\n",
       "</div>"
      ],
      "text/plain": [
       "   Cluster\n",
       "1      288\n",
       "0      125"
      ]
     },
     "execution_count": 133,
     "metadata": {},
     "output_type": "execute_result"
    }
   ],
   "source": [
    "gmm_grid = {\n",
    "        \"init_params\": ['kmeans', 'k-means++', 'random', 'random_from_data'],\n",
    "        \"n_components\": range(2, 10)\n",
    "       }\n",
    "gmm_grid\n",
    "gmm_model4 = GaussianMixture()\n",
    "gmm_params4 = GridSearchCV(gmm_model4,gmm_grid,scoring=silhouette_score3,cv= 10).fit(X, y)\n",
    "print(gmm_params4.best_params_)\n",
    "gmm4 = GaussianMixture(init_params = gmm_params4.best_params_['init_params'],\n",
    "                      n_components = gmm_params4.best_params_['n_components'])\n",
    "\n",
    "gmm4.fit(X)\n",
    "gmm4_labels = gmm4.fit_predict(X)\n",
    "gmm4_dataset = pd.DataFrame(X.copy())\n",
    "gmm4_dataset.loc[:,'Cluster'] = gmm4_labels\n",
    "gmm4_dataset.Cluster.value_counts().to_frame()"
   ]
  },
  {
   "cell_type": "code",
   "execution_count": 165,
   "metadata": {},
   "outputs": [
    {
     "data": {
      "text/html": [
       "<div>\n",
       "<style scoped>\n",
       "    .dataframe tbody tr th:only-of-type {\n",
       "        vertical-align: middle;\n",
       "    }\n",
       "\n",
       "    .dataframe tbody tr th {\n",
       "        vertical-align: top;\n",
       "    }\n",
       "\n",
       "    .dataframe thead th {\n",
       "        text-align: right;\n",
       "    }\n",
       "</style>\n",
       "<table border=\"1\" class=\"dataframe\">\n",
       "  <thead>\n",
       "    <tr style=\"text-align: right;\">\n",
       "      <th></th>\n",
       "      <th>silhouette_score</th>\n",
       "      <th>davies_bouldin_score</th>\n",
       "      <th>calinski_harabasz_score</th>\n",
       "    </tr>\n",
       "  </thead>\n",
       "  <tbody>\n",
       "    <tr>\n",
       "      <th>GaussianMixture with init_params</th>\n",
       "      <td>0.437551</td>\n",
       "      <td>1.126787</td>\n",
       "      <td>235.575825</td>\n",
       "    </tr>\n",
       "  </tbody>\n",
       "</table>\n",
       "</div>"
      ],
      "text/plain": [
       "                                  silhouette_score  davies_bouldin_score  \\\n",
       "GaussianMixture with init_params          0.437551              1.126787   \n",
       "\n",
       "                                  calinski_harabasz_score  \n",
       "GaussianMixture with init_params               235.575825  "
      ]
     },
     "execution_count": 165,
     "metadata": {},
     "output_type": "execute_result"
    }
   ],
   "source": [
    "gmm_df4 = pd.DataFrame(estimator_evaluation2(gmm4, 'GaussianMixture ', X ), index=[\"GaussianMixture with init_params\"])\n",
    "gmm_df4"
   ]
  },
  {
   "cell_type": "markdown",
   "metadata": {},
   "source": [
    "#### GMM with n_components and n_init using Grid Search \n",
    "\n",
    "n_init refers to the number of initializations to be performed in GMM.\n",
    "\n",
    "We would be using the best n_init for our problem analysis using Grid Search Hyper-paramter technique"
   ]
  },
  {
   "cell_type": "code",
   "execution_count": 135,
   "metadata": {},
   "outputs": [
    {
     "name": "stdout",
     "output_type": "stream",
     "text": [
      "{'n_components': 2, 'n_init': 1}\n"
     ]
    },
    {
     "data": {
      "text/html": [
       "<div>\n",
       "<style scoped>\n",
       "    .dataframe tbody tr th:only-of-type {\n",
       "        vertical-align: middle;\n",
       "    }\n",
       "\n",
       "    .dataframe tbody tr th {\n",
       "        vertical-align: top;\n",
       "    }\n",
       "\n",
       "    .dataframe thead th {\n",
       "        text-align: right;\n",
       "    }\n",
       "</style>\n",
       "<table border=\"1\" class=\"dataframe\">\n",
       "  <thead>\n",
       "    <tr style=\"text-align: right;\">\n",
       "      <th></th>\n",
       "      <th>Cluster</th>\n",
       "    </tr>\n",
       "  </thead>\n",
       "  <tbody>\n",
       "    <tr>\n",
       "      <th>0</th>\n",
       "      <td>288</td>\n",
       "    </tr>\n",
       "    <tr>\n",
       "      <th>1</th>\n",
       "      <td>125</td>\n",
       "    </tr>\n",
       "  </tbody>\n",
       "</table>\n",
       "</div>"
      ],
      "text/plain": [
       "   Cluster\n",
       "0      288\n",
       "1      125"
      ]
     },
     "execution_count": 135,
     "metadata": {},
     "output_type": "execute_result"
    }
   ],
   "source": [
    "gmm_grid = {\n",
    "        \"n_init\": range(1, 6),\n",
    "        \"n_components\": range(2, 10)\n",
    "       }\n",
    "gmm_grid\n",
    "gmm_model5 = GaussianMixture()\n",
    "gmm_params5 = GridSearchCV(gmm_model5,gmm_grid,scoring=silhouette_score3,cv= 10).fit(X, y)\n",
    "print(gmm_params5.best_params_)\n",
    "gmm5 = GaussianMixture(n_init = gmm_params5.best_params_['n_init'],\n",
    "                      n_components = gmm_params5.best_params_['n_components'])\n",
    "\n",
    "gmm5.fit(X)\n",
    "gmm5_labels = gmm5.fit_predict(X)\n",
    "gmm5_dataset = pd.DataFrame(X.copy())\n",
    "gmm5_dataset.loc[:,'Cluster'] = gmm5_labels\n",
    "gmm5_dataset.Cluster.value_counts().to_frame()"
   ]
  },
  {
   "cell_type": "code",
   "execution_count": 166,
   "metadata": {},
   "outputs": [
    {
     "data": {
      "text/html": [
       "<div>\n",
       "<style scoped>\n",
       "    .dataframe tbody tr th:only-of-type {\n",
       "        vertical-align: middle;\n",
       "    }\n",
       "\n",
       "    .dataframe tbody tr th {\n",
       "        vertical-align: top;\n",
       "    }\n",
       "\n",
       "    .dataframe thead th {\n",
       "        text-align: right;\n",
       "    }\n",
       "</style>\n",
       "<table border=\"1\" class=\"dataframe\">\n",
       "  <thead>\n",
       "    <tr style=\"text-align: right;\">\n",
       "      <th></th>\n",
       "      <th>silhouette_score</th>\n",
       "      <th>davies_bouldin_score</th>\n",
       "      <th>calinski_harabasz_score</th>\n",
       "    </tr>\n",
       "  </thead>\n",
       "  <tbody>\n",
       "    <tr>\n",
       "      <th>GaussianMixture with n_init</th>\n",
       "      <td>0.437551</td>\n",
       "      <td>1.126787</td>\n",
       "      <td>235.575825</td>\n",
       "    </tr>\n",
       "  </tbody>\n",
       "</table>\n",
       "</div>"
      ],
      "text/plain": [
       "                             silhouette_score  davies_bouldin_score  \\\n",
       "GaussianMixture with n_init          0.437551              1.126787   \n",
       "\n",
       "                             calinski_harabasz_score  \n",
       "GaussianMixture with n_init               235.575825  "
      ]
     },
     "execution_count": 166,
     "metadata": {},
     "output_type": "execute_result"
    }
   ],
   "source": [
    "gmm_df5 = pd.DataFrame(estimator_evaluation2(gmm5, 'GaussianMixture ', X ), index=[\"GaussianMixture with n_init\"])\n",
    "gmm_df5"
   ]
  },
  {
   "cell_type": "code",
   "execution_count": 167,
   "metadata": {},
   "outputs": [
    {
     "data": {
      "text/html": [
       "<div>\n",
       "<style scoped>\n",
       "    .dataframe tbody tr th:only-of-type {\n",
       "        vertical-align: middle;\n",
       "    }\n",
       "\n",
       "    .dataframe tbody tr th {\n",
       "        vertical-align: top;\n",
       "    }\n",
       "\n",
       "    .dataframe thead th {\n",
       "        text-align: right;\n",
       "    }\n",
       "</style>\n",
       "<table border=\"1\" class=\"dataframe\">\n",
       "  <thead>\n",
       "    <tr style=\"text-align: right;\">\n",
       "      <th></th>\n",
       "      <th>silhouette_score</th>\n",
       "      <th>davies_bouldin_score</th>\n",
       "      <th>calinski_harabasz_score</th>\n",
       "    </tr>\n",
       "  </thead>\n",
       "  <tbody>\n",
       "    <tr>\n",
       "      <th>GaussianMixture with n_components only</th>\n",
       "      <td>0.437551</td>\n",
       "      <td>1.126787</td>\n",
       "      <td>235.575825</td>\n",
       "    </tr>\n",
       "    <tr>\n",
       "      <th>GaussianMixture with covariance_type</th>\n",
       "      <td>0.442794</td>\n",
       "      <td>1.051217</td>\n",
       "      <td>254.891933</td>\n",
       "    </tr>\n",
       "    <tr>\n",
       "      <th>GaussianMixture with max_iter</th>\n",
       "      <td>0.244910</td>\n",
       "      <td>1.751929</td>\n",
       "      <td>107.285127</td>\n",
       "    </tr>\n",
       "    <tr>\n",
       "      <th>GaussianMixture with init_params</th>\n",
       "      <td>0.437551</td>\n",
       "      <td>1.126787</td>\n",
       "      <td>235.575825</td>\n",
       "    </tr>\n",
       "    <tr>\n",
       "      <th>GaussianMixture with n_init</th>\n",
       "      <td>0.437551</td>\n",
       "      <td>1.126787</td>\n",
       "      <td>235.575825</td>\n",
       "    </tr>\n",
       "  </tbody>\n",
       "</table>\n",
       "</div>"
      ],
      "text/plain": [
       "                                        silhouette_score  \\\n",
       "GaussianMixture with n_components only          0.437551   \n",
       "GaussianMixture with covariance_type            0.442794   \n",
       "GaussianMixture with max_iter                   0.244910   \n",
       "GaussianMixture with init_params                0.437551   \n",
       "GaussianMixture with n_init                     0.437551   \n",
       "\n",
       "                                        davies_bouldin_score  \\\n",
       "GaussianMixture with n_components only              1.126787   \n",
       "GaussianMixture with covariance_type                1.051217   \n",
       "GaussianMixture with max_iter                       1.751929   \n",
       "GaussianMixture with init_params                    1.126787   \n",
       "GaussianMixture with n_init                         1.126787   \n",
       "\n",
       "                                        calinski_harabasz_score  \n",
       "GaussianMixture with n_components only               235.575825  \n",
       "GaussianMixture with covariance_type                 254.891933  \n",
       "GaussianMixture with max_iter                        107.285127  \n",
       "GaussianMixture with init_params                     235.575825  \n",
       "GaussianMixture with n_init                          235.575825  "
      ]
     },
     "execution_count": 167,
     "metadata": {},
     "output_type": "execute_result"
    }
   ],
   "source": [
    "gmm_result = gmm_df1.append([gmm_df2, gmm_df3,gmm_df4,gmm_df5])\n",
    "gmm_result"
   ]
  },
  {
   "cell_type": "markdown",
   "metadata": {},
   "source": [
    "### Part 1 Performance Analysis:\n",
    "\n",
    "From the above result set of all those 5 GMM model with it's different paramters, we can conclude that\n",
    "\n",
    "- Silhoutte Score of each model seems to be similar for 3 models of GMM, GaussianMixture with covariance_type has the highest score of 0.44, while GaussianMixture with max_iter and GaussianMixture with n_components only the lowest score of 0.24, Other than that there is hardly a decrease of 1% with GaussianMixture with covariance_type, GaussianMixture with covariance_type and all default values for other parameters.\n",
    "- Davies_bouldin_score seems to be good for each model, meaning the GMM has build the clusters that are farther apart and less dispersed on our dataset. \n",
    "- Calinski_harabasz_score is quite high for n_components = 2, covariance_type = tied and all default values for other paramteres but similar for other models, means the clusters are dense and well separated.\n",
    "\n",
    "\n",
    "## Part 2: Comparative Analysis of Gaussian Mixture Model with Bayesian Gaussian Mixture, Mini-Batch K-means, OPTICS, DBSCAN, Agglomerative, Spectral Clustering and Affinity Propagation\n",
    "\n",
    "### Gaussian Mixture Model\n",
    "\n",
    "A Gaussian mixture model (GMM) assists to find a mixture of multi-dimensional Gaussian probability distributions that best models dataset. In the simplest case, GMMs can be used for finding clusters in the same manner as k-means."
   ]
  },
  {
   "cell_type": "code",
   "execution_count": 138,
   "metadata": {},
   "outputs": [
    {
     "data": {
      "text/plain": [
       "{'covariance_type': ['full', 'tied', 'diag', 'spherical'],\n",
       " 'max_iter': [50, 100, 150, 200, 250, 300],\n",
       " 'init_params': ['kmeans', 'k-means++', 'random', 'random_from_data'],\n",
       " 'n_components': range(2, 15),\n",
       " 'n_init': range(1, 6)}"
      ]
     },
     "execution_count": 138,
     "metadata": {},
     "output_type": "execute_result"
    }
   ],
   "source": [
    "\n",
    "gmm_grid = {\n",
    "        \"covariance_type\": ['full', 'tied', 'diag', 'spherical'],\n",
    "        \"max_iter\": [50, 100, 150, 200, 250, 300],\n",
    "        \"init_params\": ['kmeans', 'k-means++', 'random', 'random_from_data'],\n",
    "        \"n_components\": range(2, 15),\n",
    "        \"n_init\": range(1, 6)\n",
    "       }\n",
    "gmm_grid"
   ]
  },
  {
   "cell_type": "code",
   "execution_count": 139,
   "metadata": {},
   "outputs": [],
   "source": [
    "gmm_model = GaussianMixture()\n",
    "gmm_params = GridSearchCV(gmm_model,gmm_grid,scoring=silhouette_score3,cv= 10).fit(X, y)"
   ]
  },
  {
   "cell_type": "code",
   "execution_count": 140,
   "metadata": {},
   "outputs": [
    {
     "data": {
      "text/plain": [
       "(0.5179067571825547,\n",
       " {'covariance_type': 'tied',\n",
       "  'init_params': 'kmeans',\n",
       "  'max_iter': 250,\n",
       "  'n_components': 2,\n",
       "  'n_init': 2})"
      ]
     },
     "execution_count": 140,
     "metadata": {},
     "output_type": "execute_result"
    }
   ],
   "source": [
    "gmm_params.best_score_, gmm_params.best_params_"
   ]
  },
  {
   "cell_type": "code",
   "execution_count": 141,
   "metadata": {},
   "outputs": [],
   "source": [
    "gmm = GaussianMixture(covariance_type = gmm_params.best_params_['covariance_type'],\n",
    "                      init_params = gmm_params.best_params_['init_params'],\n",
    "                      n_components = gmm_params.best_params_['n_components'],\n",
    "                      n_init = gmm_params.best_params_['n_init'],\n",
    "                      max_iter = gmm_params.best_params_['max_iter'])\n",
    "\n",
    "gmm.fit(X)\n",
    "gmm_labels = gmm.fit_predict(X)"
   ]
  },
  {
   "cell_type": "code",
   "execution_count": 142,
   "metadata": {},
   "outputs": [
    {
     "data": {
      "text/html": [
       "<div>\n",
       "<style scoped>\n",
       "    .dataframe tbody tr th:only-of-type {\n",
       "        vertical-align: middle;\n",
       "    }\n",
       "\n",
       "    .dataframe tbody tr th {\n",
       "        vertical-align: top;\n",
       "    }\n",
       "\n",
       "    .dataframe thead th {\n",
       "        text-align: right;\n",
       "    }\n",
       "</style>\n",
       "<table border=\"1\" class=\"dataframe\">\n",
       "  <thead>\n",
       "    <tr style=\"text-align: right;\">\n",
       "      <th></th>\n",
       "      <th>Cluster</th>\n",
       "    </tr>\n",
       "  </thead>\n",
       "  <tbody>\n",
       "    <tr>\n",
       "      <th>1</th>\n",
       "      <td>293</td>\n",
       "    </tr>\n",
       "    <tr>\n",
       "      <th>0</th>\n",
       "      <td>120</td>\n",
       "    </tr>\n",
       "  </tbody>\n",
       "</table>\n",
       "</div>"
      ],
      "text/plain": [
       "   Cluster\n",
       "1      293\n",
       "0      120"
      ]
     },
     "execution_count": 142,
     "metadata": {},
     "output_type": "execute_result"
    }
   ],
   "source": [
    "gmm_dataset = pd.DataFrame(X.copy())\n",
    "gmm_dataset.loc[:,'Cluster'] = gmm_labels\n",
    "gmm_dataset.Cluster.value_counts().to_frame()"
   ]
  },
  {
   "cell_type": "code",
   "execution_count": 148,
   "metadata": {},
   "outputs": [
    {
     "data": {
      "text/html": [
       "<div>\n",
       "<style scoped>\n",
       "    .dataframe tbody tr th:only-of-type {\n",
       "        vertical-align: middle;\n",
       "    }\n",
       "\n",
       "    .dataframe tbody tr th {\n",
       "        vertical-align: top;\n",
       "    }\n",
       "\n",
       "    .dataframe thead th {\n",
       "        text-align: right;\n",
       "    }\n",
       "</style>\n",
       "<table border=\"1\" class=\"dataframe\">\n",
       "  <thead>\n",
       "    <tr style=\"text-align: right;\">\n",
       "      <th></th>\n",
       "      <th>silhouette_score</th>\n",
       "      <th>davies_bouldin_score</th>\n",
       "      <th>calinski_harabasz_score</th>\n",
       "    </tr>\n",
       "  </thead>\n",
       "  <tbody>\n",
       "    <tr>\n",
       "      <th>GaussianMixture</th>\n",
       "      <td>0.442794</td>\n",
       "      <td>1.051217</td>\n",
       "      <td>254.891933</td>\n",
       "    </tr>\n",
       "  </tbody>\n",
       "</table>\n",
       "</div>"
      ],
      "text/plain": [
       "                 silhouette_score  davies_bouldin_score  \\\n",
       "GaussianMixture          0.442794              1.051217   \n",
       "\n",
       "                 calinski_harabasz_score  \n",
       "GaussianMixture               254.891933  "
      ]
     },
     "execution_count": 148,
     "metadata": {},
     "output_type": "execute_result"
    }
   ],
   "source": [
    "gmm_df = pd.DataFrame(estimator_evaluation2(gmm, 'GaussianMixture ', X ), index=[\"GaussianMixture\"])\n",
    "gmm_df"
   ]
  },
  {
   "cell_type": "code",
   "execution_count": 144,
   "metadata": {},
   "outputs": [
    {
     "data": {
      "application/vnd.plotly.v1+json": {
       "config": {
        "plotlyServerURL": "https://plot.ly"
       },
       "data": [
        {
         "hovertemplate": "color=g<br>x=%{x}<br>y=%{y}<br>z=%{z}<extra></extra>",
         "legendgroup": "g",
         "marker": {
          "color": "#636efa",
          "symbol": "circle"
         },
         "mode": "markers",
         "name": "g",
         "scene": "scene",
         "showlegend": true,
         "type": "scatter3d",
         "x": [
          -2.176831007003784,
          -9.184324264526367,
          -1.119148850440979,
          -2.5686020851135254,
          15.570977210998535,
          -9.486180305480957,
          14.715924263000488,
          -10.259309768676758,
          -10.116556167602539,
          15.804291725158691,
          -6.388233184814453,
          15.706404685974121,
          -8.455060958862305,
          9.917962074279785,
          0.49010562896728516,
          -7.217348575592041,
          12.352577209472656,
          -8.692285537719727,
          12.145730972290039,
          13.70344066619873,
          18.66172218322754,
          18.13275909423828,
          12.399354934692383,
          -9.30310344696045,
          13.621257781982422,
          24.63016700744629,
          -16.226642608642578,
          6.916956901550293,
          9.451199531555176,
          5.984542369842529,
          3.1128878593444824,
          28.17905044555664,
          -7.899282932281494,
          9.235224723815918,
          2.5500104427337646,
          8.386476516723633,
          -9.22427749633789,
          -5.332907199859619,
          -8.331659317016602,
          -5.829689979553223,
          9.206034660339355,
          2.090867042541504,
          8.315338134765625,
          5.485082149505615,
          9.13675594329834,
          -9.364115715026855,
          -4.719081878662109,
          18.358047485351562,
          -7.724123477935791,
          6.18166446685791,
          -9.908292770385742,
          8.579690933227539,
          -7.7059431076049805,
          10.707469940185547,
          -10.969292640686035,
          12.88797664642334,
          9.79213809967041,
          -10.058672904968262,
          20.210798263549805,
          4.449779987335205,
          18.066980361938477,
          22.133472442626953,
          -8.237411499023438,
          16.6846866607666,
          14.827967643737793,
          -7.0732741355896,
          23.88412857055664,
          12.090028762817383,
          7.928520679473877,
          3.7854528427124023,
          -9.363224029541016,
          21.13039207458496,
          12.224184036254883,
          -11.388087272644043,
          -8.438094139099121,
          27.409908294677734,
          -7.419635772705078,
          21.520376205444336,
          10.778326034545898,
          -3.461867094039917,
          8.742696762084961,
          13.963162422180176,
          10.765305519104004,
          17.828022003173828,
          16.69606590270996,
          21.334917068481445,
          -9.801557540893555,
          -11.610692977905273,
          -4.093522548675537,
          -227.171142578125,
          15.602608680725098,
          5.682016849517822,
          -9.425374031066895,
          -9.617705345153809,
          0.4690280556678772,
          4.726224422454834,
          -0.3959254026412964,
          -8.056426048278809,
          -5.322893142700195,
          1.7749168872833252,
          8.803030014038086,
          18.53961944580078,
          20.25800323486328,
          11.696159362792969,
          17.91759490966797,
          17.920013427734375,
          12.246655464172363,
          15.37094497680664,
          21.09665298461914,
          7.44745397567749,
          0.42910534143447876,
          5.815118789672852,
          6.525548934936523,
          -7.058640480041504,
          12.960609436035156,
          1.6630058288574219,
          18.317760467529297,
          14.72451114654541,
          17.74662971496582,
          14.08759880065918,
          11.579181671142578,
          13.975516319274902,
          -230.53411865234375,
          12.64424991607666,
          -9.74631118774414,
          16.98618507385254,
          -8.96114444732666,
          0.13898789882659912,
          33.88767623901367,
          25.1491641998291,
          26.49631690979004,
          9.546310424804688,
          9.735391616821289,
          13.744980812072754,
          2.4196643829345703,
          13.87528133392334,
          -6.256761074066162,
          29.322338104248047,
          -5.44054651260376,
          19.849042892456055,
          -8.19800090789795,
          -31.502120971679688,
          23.389387130737305,
          -9.299447059631348,
          5.4245710372924805,
          -8.032812118530273,
          -6.234708309173584,
          20.21420669555664,
          -2.544395923614502,
          7.503751277923584,
          -9.846968650817871,
          -9.922533988952637,
          13.05249309539795,
          11.937737464904785,
          16.521814346313477,
          5.260425567626953,
          11.967232704162598,
          -1.3153566122055054,
          6.01590633392334,
          -11.24729061126709,
          36.56269073486328,
          -7.416722774505615,
          8.739206314086914,
          -9.04076099395752,
          -9.633284568786621,
          6.780825614929199,
          15.934615135192871,
          17.59723472595215,
          17.135639190673828,
          9.634543418884277,
          10.673226356506348,
          -12.221409797668457,
          30.756725311279297,
          27.15938949584961,
          9.081136703491211,
          3.0233378410339355,
          13.812315940856934,
          -16.332744598388672,
          -0.6799193620681763,
          12.03183364868164,
          9.86967658996582,
          -6.7285847663879395,
          32.09418487548828,
          4.657755374908447,
          -8.837996482849121,
          12.030436515808105,
          -7.882030010223389,
          3.3022773265838623,
          3.478052854537964,
          0.2756732106208801,
          37.079288482666016,
          18.55770492553711,
          14.140264511108398,
          25.810482025146484,
          36.77951431274414,
          -5.318061351776123,
          14.173903465270996,
          13.753357887268066,
          -6.588637828826904,
          -11.109661102294922,
          -2.3864285945892334,
          -0.13391026854515076,
          12.094913482666016,
          8.490909576416016,
          -2.8069372177124023,
          7.064477443695068,
          12.903823852539062,
          -1.1943196058273315,
          16.958627700805664,
          -9.835125923156738,
          14.11246395111084,
          -5.198366641998291,
          -7.261099338531494,
          14.222042083740234,
          31.13107681274414,
          7.026824474334717,
          16.19720458984375,
          25.01970100402832,
          11.331780433654785,
          15.757102012634277,
          10.176196098327637,
          7.2245097160339355,
          173.9049530029297,
          12.545104026794434,
          14.46847915649414,
          27.89674186706543,
          20.660411834716797,
          -3.358358860015869,
          19.374738693237305,
          -7.065320014953613,
          14.942538261413574,
          19.68108558654785,
          -6.723057746887207,
          6.955016136169434,
          11.051186561584473,
          8.736249923706055,
          32.68305587768555,
          29.411977767944336,
          -5.9620561599731445,
          9.623398780822754,
          14.628336906433105,
          13.836626052856445,
          15.833560943603516,
          17.057525634765625,
          17.68625831604004,
          16.452245712280273,
          -6.681122779846191,
          15.423489570617676,
          15.801698684692383,
          15.833977699279785,
          18.779062271118164,
          -9.520231246948242,
          22.4612979888916,
          26.638530731201172,
          16.854116439819336,
          17.414087295532227,
          -1.6425058841705322,
          27.136154174804688,
          21.363554000854492,
          19.390562057495117,
          12.457194328308105,
          12.514140129089355,
          3.0157716274261475,
          7.074863433837891,
          -6.087446212768555,
          11.135885238647461,
          -6.4720306396484375,
          14.689085006713867,
          -8.727035522460938,
          -0.03648819029331207,
          3.0632758140563965,
          -0.16609202325344086,
          -3.953922748565674,
          -257.5263977050781,
          -6.997820854187012,
          8.04477310180664,
          18.63388442993164,
          8.098674774169922,
          -5.609674453735352,
          -10.022262573242188,
          5.167953014373779,
          7.62139892578125,
          -8.940851211547852,
          -8.22388744354248,
          0.634353756904602,
          20.83726692199707,
          -65.1579360961914,
          18.702669143676758,
          -3.917919874191284,
          -36.19292449951172,
          -10.323807716369629,
          -7.6788506507873535,
          17.09169578552246
         ],
         "y": [
          -30.924028396606445,
          -15.92995548248291,
          -21.494462966918945,
          -28.434139251708984,
          -0.40444913506507874,
          -4.060330390930176,
          -6.265658378601074,
          -4.964038372039795,
          -13.963010787963867,
          0.35597583651542664,
          5.903167247772217,
          -14.824769020080566,
          -8.259809494018555,
          9.702972412109375,
          -13.967572212219238,
          8.863953590393066,
          1.5411525964736938,
          -12.831446647644043,
          1.4232429265975952,
          23.751808166503906,
          -13.650017738342285,
          -0.4152247905731201,
          -19.192358016967773,
          3.4536824226379395,
          -17.324684143066406,
          -0.5396531820297241,
          -30.209362030029297,
          15.868037223815918,
          4.3375630378723145,
          -16.98980712890625,
          -1.5213841199874878,
          22.925695419311523,
          0.056675124913454056,
          10.369973182678223,
          2.5786707401275635,
          14.93601131439209,
          -8.346396446228027,
          -22.235868453979492,
          -2.7617595195770264,
          -14.42002010345459,
          13.636268615722656,
          -21.856231689453125,
          4.630935192108154,
          -21.28227996826172,
          -24.296960830688477,
          -0.7816894054412842,
          -12.349410057067871,
          4.1630353927612305,
          -22.17869758605957,
          14.459092140197754,
          3.376465082168579,
          -20.857257843017578,
          -14.712119102478027,
          -22.91726303100586,
          2.4327032566070557,
          17.842382431030273,
          -23.711469650268555,
          4.016312122344971,
          23.848373413085938,
          -24.182533264160156,
          20.276405334472656,
          -17.33121681213379,
          -18.866975784301758,
          -22.43342399597168,
          -15.450056076049805,
          -6.298732280731201,
          16.752975463867188,
          -38.749961853027344,
          4.568716049194336,
          4.6685404777526855,
          -6.136878490447998,
          -16.557512283325195,
          21.523834228515625,
          6.2485151290893555,
          2.3350830078125,
          13.603721618652344,
          5.432048797607422,
          7.678903102874756,
          -23.169435501098633,
          0.5892560482025146,
          6.341524124145508,
          -0.6470212936401367,
          12.369942665100098,
          27.13893699645996,
          26.959983825683594,
          10.0969877243042,
          6.122776508331299,
          -6.996612071990967,
          -18.890886306762695,
          -162.53091430664062,
          -2.7235748767852783,
          -26.473920822143555,
          -9.63943099975586,
          -11.929203987121582,
          -17.090370178222656,
          6.752285957336426,
          -28.181884765625,
          -13.680863380432129,
          -1.5478355884552002,
          -27.172483444213867,
          -25.72018051147461,
          -4.184780597686768,
          17.43313217163086,
          -25.641101837158203,
          -22.668128967285156,
          -3.7203502655029297,
          -25.779069900512695,
          21.876604080200195,
          -15.444097518920898,
          17.085140228271484,
          -14.897531509399414,
          -12.839761734008789,
          -35.056697845458984,
          0.7415533065795898,
          20.92811393737793,
          -11.283350944519043,
          -17.17373275756836,
          20.394222259521484,
          10.061354637145996,
          12.39183521270752,
          4.509552955627441,
          19.02238655090332,
          192.22625732421875,
          18.92452049255371,
          7.145857334136963,
          -15.957334518432617,
          -3.5825583934783936,
          -24.436792373657227,
          1.8600953817367554,
          5.3693437576293945,
          11.892751693725586,
          4.203878879547119,
          1.4316534996032715,
          9.532069206237793,
          -20.585826873779297,
          -23.159160614013672,
          -23.721338272094727,
          7.972748279571533,
          -25.53590965270996,
          24.472301483154297,
          -2.3766469955444336,
          -32.337364196777344,
          -1.7120366096496582,
          -16.866872787475586,
          1.2635704278945923,
          -7.263457775115967,
          -13.393943786621094,
          -7.452371597290039,
          -2.336256742477417,
          11.681690216064453,
          -2.4177937507629395,
          9.742161750793457,
          -2.6005637645721436,
          12.609095573425293,
          -5.222631454467773,
          2.9100584983825684,
          0.18187056481838226,
          -4.793434143066406,
          -40.991119384765625,
          -13.796873092651367,
          -3.993177652359009,
          -3.9799530506134033,
          7.793553829193115,
          -15.623856544494629,
          -0.3755095899105072,
          7.237354755401611,
          23.712387084960938,
          18.124940872192383,
          -2.8599555492401123,
          18.152219772338867,
          2.3566551208496094,
          -10.471331596374512,
          8.843671798706055,
          16.41377830505371,
          14.84920597076416,
          -2.721234083175659,
          -23.395423889160156,
          -47.44167709350586,
          -12.918110847473145,
          -22.27639389038086,
          18.284067153930664,
          -4.332162857055664,
          4.902085781097412,
          -28.32274055480957,
          -20.49115753173828,
          -0.5902440547943115,
          -13.420572280883789,
          -14.447508811950684,
          -18.54946517944336,
          0.18529008328914642,
          0.2711631655693054,
          25.0667781829834,
          -23.718456268310547,
          9.694045066833496,
          -0.6652836799621582,
          -30.91327476501465,
          -4.212395191192627,
          -22.36187744140625,
          -14.084746360778809,
          -7.4291582107543945,
          -16.574190139770508,
          1.2709832191467285,
          16.112117767333984,
          10.294065475463867,
          -13.27932071685791,
          -28.15093421936035,
          -1.9332568645477295,
          -1.4189221858978271,
          -17.492034912109375,
          4.163017272949219,
          24.913419723510742,
          -6.553422927856445,
          -8.61203384399414,
          25.622276306152344,
          -6.065247058868408,
          4.377274513244629,
          -3.4979984760284424,
          -4.845093727111816,
          15.999470710754395,
          -3.2443315982818604,
          16.6392822265625,
          13.2465238571167,
          84.295166015625,
          7.7162933349609375,
          19.323976516723633,
          -7.566479682922363,
          18.541786193847656,
          -6.731724262237549,
          -19.281023025512695,
          5.58305025100708,
          -1.8908493518829346,
          25.610183715820312,
          -18.215187072753906,
          -18.96034812927246,
          -20.336584091186523,
          16.612146377563477,
          -0.9473823308944702,
          -8.900690078735352,
          2.8702311515808105,
          17.09623146057129,
          -22.171297073364258,
          -13.77979564666748,
          -20.601736068725586,
          8.940468788146973,
          -6.927827835083008,
          -17.258872985839844,
          -22.60595703125,
          0.49876752495765686,
          -19.348772048950195,
          3.465891122817993,
          15.096353530883789,
          -7.227837085723877,
          -13.757339477539062,
          8.618714332580566,
          12.558810234069824,
          -20.19586181640625,
          -10.994584083557129,
          -1.9788529872894287,
          1.4273396730422974,
          -15.176689147949219,
          15.418889045715332,
          -21.916461944580078,
          -5.352614402770996,
          12.284239768981934,
          -19.03474235534668,
          15.038983345031738,
          -5.968475818634033,
          16.476015090942383,
          -15.488790512084961,
          -10.989112854003906,
          -17.80714988708496,
          -4.607141017913818,
          -30.37700843811035,
          -182.70269775390625,
          -18.94496726989746,
          -24.38241958618164,
          -10.383633613586426,
          11.138365745544434,
          -11.892881393432617,
          -11.94308090209961,
          -22.16250991821289,
          13.65291690826416,
          -7.872040748596191,
          -11.117624282836914,
          -25.20292854309082,
          -1.3647023439407349,
          -3.024871826171875,
          -18.23243522644043,
          -5.0134501457214355,
          33.70331954956055,
          -1.9257535934448242,
          -16.43443489074707,
          23.71028709411621
         ],
         "z": [
          -9.49131965637207,
          -5.4077324867248535,
          13.161344528198242,
          -6.785227298736572,
          -9.438660621643066,
          5.680884838104248,
          -15.563478469848633,
          -6.8015947341918945,
          -9.07596492767334,
          7.263066291809082,
          15.75088882446289,
          -15.7919340133667,
          7.808488368988037,
          3.4490222930908203,
          -24.118608474731445,
          13.414523124694824,
          -14.291966438293457,
          10.518959045410156,
          2.81410813331604,
          -10.573457717895508,
          1.8344142436981201,
          9.611205101013184,
          21.131269454956055,
          14.254019737243652,
          -13.580224990844727,
          13.007559776306152,
          -0.4921187162399292,
          -11.690231323242188,
          -25.643980026245117,
          -16.349313735961914,
          -30.518747329711914,
          21.219409942626953,
          15.575199127197266,
          -28.976253509521484,
          -37.60586929321289,
          -24.7482967376709,
          -17.872867584228516,
          -12.517312049865723,
          -19.555252075195312,
          8.834249496459961,
          -18.8634090423584,
          22.029356002807617,
          -31.88158416748047,
          19.83340835571289,
          -15.398415565490723,
          -17.334413528442383,
          -19.96186065673828,
          11.073963165283203,
          -10.42558765411377,
          -18.862733840942383,
          -10.175667762756348,
          -14.146310806274414,
          -18.223310470581055,
          -5.713218688964844,
          -15.55047607421875,
          -28.545406341552734,
          -11.62656021118164,
          10.657147407531738,
          -10.205730438232422,
          18.824546813964844,
          1.3920395374298096,
          8.101907730102539,
          -2.860112190246582,
          16.448957443237305,
          -9.932217597961426,
          -21.413076400756836,
          4.544576168060303,
          -29.782747268676758,
          -0.327523797750473,
          -34.055110931396484,
          3.0797154903411865,
          11.114699363708496,
          -12.249343872070312,
          -12.183274269104004,
          -16.933483123779297,
          6.70046329498291,
          19.952573776245117,
          13.279051780700684,
          10.849559783935547,
          25.188907623291016,
          -28.15038299560547,
          -17.478870391845703,
          -26.993120193481445,
          -21.03902244567871,
          -17.603073120117188,
          11.48635482788086,
          5.884814739227295,
          -11.060660362243652,
          -17.288328170776367,
          43.450313568115234,
          4.730488300323486,
          9.742070198059082,
          -11.43467903137207,
          -15.992077827453613,
          -19.118309020996094,
          -36.75244140625,
          11.749406814575195,
          -12.318167686462402,
          20.42962074279785,
          13.98580551147461,
          12.96452522277832,
          6.135565757751465,
          3.9389750957489014,
          -7.223184108734131,
          13.251845359802246,
          2.522029399871826,
          9.850008010864258,
          -7.356772422790527,
          4.4520392417907715,
          -15.155926704406738,
          25.126550674438477,
          29.56705665588379,
          198.31179809570312,
          12.489042282104492,
          -27.283159255981445,
          26.200830459594727,
          1.7916539907455444,
          -10.217044830322266,
          11.978294372558594,
          6.846319198608398,
          0.720608651638031,
          -1.057904601097107,
          111.32234954833984,
          -24.47892189025879,
          15.013673782348633,
          -12.526605606079102,
          15.092157363891602,
          15.55048656463623,
          12.8707914352417,
          13.78660774230957,
          11.89371109008789,
          3.4107725620269775,
          0.20244161784648895,
          9.501577377319336,
          25.3651065826416,
          7.682443618774414,
          -4.485851764678955,
          13.40988540649414,
          -7.952037811279297,
          -22.04397201538086,
          -9.177186012268066,
          13.022829055786133,
          15.823043823242188,
          -11.74626636505127,
          -33.357398986816406,
          -3.920988082885742,
          12.896800994873047,
          6.737735748291016,
          -33.26354217529297,
          -21.61308479309082,
          2.8642191886901855,
          7.827442169189453,
          -14.584084510803223,
          3.2397372722625732,
          -1.7254294157028198,
          -30.498897552490234,
          -21.052453994750977,
          -30.445669174194336,
          5.137192249298096,
          -13.03720474243164,
          14.4374418258667,
          12.240826606750488,
          0.8600592017173767,
          7.145244598388672,
          10.419083595275879,
          -33.25267791748047,
          -23.521907806396484,
          -1.2333805561065674,
          -4.621557712554932,
          -25.460718154907227,
          -23.31468391418457,
          -10.164631843566895,
          10.498472213745117,
          6.652046203613281,
          -2.168282985687256,
          -27.1543025970459,
          -5.043483257293701,
          7.7204670906066895,
          27.954816818237305,
          -14.177910804748535,
          -10.035317420959473,
          21.18644905090332,
          11.932647705078125,
          11.91591739654541,
          1.633087396621704,
          21.262968063354492,
          5.381704330444336,
          27.697065353393555,
          22.668224334716797,
          27.37390899658203,
          13.151899337768555,
          -12.119921684265137,
          12.834860801696777,
          14.11788558959961,
          16.020959854125977,
          -7.778719902038574,
          -4.511582374572754,
          -10.57211685180664,
          -22.082143783569336,
          -3.9661080837249756,
          -20.100744247436523,
          -36.577640533447266,
          -3.6738786697387695,
          -24.920942306518555,
          -23.49370765686035,
          7.391727447509766,
          -10.245731353759766,
          -30.36928939819336,
          -7.992212772369385,
          -6.447188854217529,
          -16.223285675048828,
          -23.499576568603516,
          13.9130859375,
          -20.066993713378906,
          12.701351165771484,
          -36.001834869384766,
          -16.223716735839844,
          13.57215690612793,
          0.5434877872467041,
          -10.926037788391113,
          -12.955307960510254,
          -5.803643226623535,
          -45.45738983154297,
          6.91982364654541,
          -4.416075229644775,
          14.194435119628906,
          0.42546600103378296,
          23.557727813720703,
          14.82070541381836,
          12.047683715820312,
          -2.196521759033203,
          -15.90263843536377,
          -15.34273910522461,
          24.043413162231445,
          -10.309560775756836,
          -21.98848533630371,
          12.457868576049805,
          11.471834182739258,
          20.529369354248047,
          -5.446990013122559,
          5.027507305145264,
          -13.131636619567871,
          11.738357543945312,
          8.663795471191406,
          3.874976634979248,
          -2.5850143432617188,
          -1.2188531160354614,
          -14.177096366882324,
          15.618266105651855,
          9.828660011291504,
          6.843921184539795,
          -0.5210649967193604,
          7.78195858001709,
          10.98481559753418,
          9.249310493469238,
          -2.6957833766937256,
          25.457006454467773,
          15.241451263427734,
          14.270925521850586,
          7.398804664611816,
          4.767254829406738,
          17.63652992248535,
          -28.71445083618164,
          -9.875883102416992,
          0.4946464002132416,
          -29.92865753173828,
          15.964155197143555,
          2.3678016662597656,
          -2.075472354888916,
          -23.494665145874023,
          -17.816116333007812,
          -27.243696212768555,
          -3.8917815685272217,
          -25.922203063964844,
          3.816063404083252,
          15.944855690002441,
          2.479083299636841,
          -3.8286914825439453,
          29.70819664001465,
          -0.6502195596694946,
          23.98200035095215,
          -14.390241622924805,
          10.70312213897705,
          -2.8608558177948,
          11.369746208190918,
          13.042074203491211,
          -44.205039978027344,
          -4.9932966232299805,
          20.00201416015625,
          -50.2152099609375,
          -10.907256126403809,
          10.73526668548584,
          -19.612825393676758
         ]
        },
        {
         "hovertemplate": "color=b<br>x=%{x}<br>y=%{y}<br>z=%{z}<extra></extra>",
         "legendgroup": "b",
         "marker": {
          "color": "#EF553B",
          "symbol": "circle"
         },
         "mode": "markers",
         "name": "b",
         "scene": "scene",
         "showlegend": true,
         "type": "scatter3d",
         "x": [
          -21.178001403808594,
          6.485843181610107,
          -30.75556755065918,
          -100.7039566040039,
          -27.75006675720215,
          -26.987831115722656,
          -28.656845092773438,
          -31.038469314575195,
          -30.041391372680664,
          -27.237295150756836,
          -27.746110916137695,
          -30.256595611572266,
          -30.98078155517578,
          -27.932445526123047,
          -21.410268783569336,
          -32.24989700317383,
          -30.535419464111328,
          -28.600791931152344,
          -26.306163787841797,
          -29.282188415527344,
          -35.18809127807617,
          -27.482126235961914,
          -33.82375717163086,
          -30.03351402282715,
          -27.513463973999023,
          -33.062870025634766,
          -29.26333999633789,
          -32.89681625366211,
          -29.388994216918945,
          -28.915084838867188,
          -29.526315689086914,
          -33.44896697998047,
          -29.86154556274414,
          -29.491735458374023,
          -35.28828811645508,
          -26.13593292236328,
          -26.687225341796875,
          -27.524608612060547,
          -2.3578028678894043,
          -33.28632354736328,
          -27.921106338500977,
          -24.442501068115234,
          -23.955068588256836,
          -91.4320297241211,
          -33.9777946472168,
          -27.22071647644043,
          -29.372661590576172,
          -23.84275245666504,
          -32.50223922729492,
          -35.04642105102539,
          -31.942880630493164,
          -29.680410385131836,
          -31.656320571899414,
          -31.95655632019043,
          -32.21710205078125,
          -22.446956634521484,
          -34.740989685058594,
          -29.26639175415039,
          -32.371971130371094,
          -21.209766387939453,
          -34.30781555175781,
          -29.819236755371094,
          -27.528303146362305,
          -124.44574737548828,
          -29.490732192993164,
          -28.80004119873047,
          -19.604955673217773,
          -25.827268600463867,
          -20.263141632080078,
          -31.434099197387695,
          -24.586185455322266,
          -24.630056381225586,
          -30.485231399536133,
          -30.297773361206055,
          -6.3604512214660645,
          -7.082136631011963,
          2.1788434982299805,
          -0.9000986218452454,
          -3.2789230346679688,
          -5.29472017288208,
          10.284438133239746,
          -7.672496318817139,
          -5.655975341796875,
          -5.860884666442871,
          17.856082916259766,
          -29.401981353759766,
          -4.620456695556641,
          -11.122395515441895,
          25.6500186920166,
          -1.748182773590088,
          -8.971440315246582,
          -0.9131504893302917,
          3.3606081008911133,
          -8.69993782043457,
          -28.87322998046875,
          -3.228766679763794,
          -13.986725807189941,
          -0.9973306655883789,
          -6.824920177459717,
          1.1769648790359497,
          3.580595016479492,
          -2.5612571239471436,
          -3.308088779449463,
          0.8071384429931641,
          0.32399889826774597,
          -3.669276237487793,
          -2.1870129108428955,
          -1.661926507949829,
          -5.50949764251709,
          0.8679046034812927,
          0.1538674533367157,
          -10.867814064025879,
          -11.634688377380371,
          -11.669604301452637,
          -13.906510353088379,
          -10.416213989257812,
          0.7460617423057556,
          1.3024979829788208,
          0.8842368125915527,
          -8.584799766540527
         ],
         "y": [
          20.023048400878906,
          -17.742046356201172,
          -5.523059844970703,
          118.95127868652344,
          -0.39181187748908997,
          8.012173652648926,
          -22.272695541381836,
          1.8413904905319214,
          -2.1176364421844482,
          -20.140758514404297,
          -16.946395874023438,
          -5.459606647491455,
          0.5562727451324463,
          14.753326416015625,
          12.201150894165039,
          9.639801025390625,
          1.2811814546585083,
          -3.300057888031006,
          10.812429428100586,
          1.175408959388733,
          3.934749126434326,
          -23.474090576171875,
          -3.4982569217681885,
          -14.386832237243652,
          -17.774559020996094,
          4.18144416809082,
          -10.066460609436035,
          -4.613510608673096,
          9.675195693969727,
          -8.326367378234863,
          -18.05063247680664,
          -0.14991644024848938,
          15.403109550476074,
          -11.37757682800293,
          1.3106846809387207,
          -20.542524337768555,
          17.560901641845703,
          -15.669793128967285,
          -124.14142608642578,
          6.184034824371338,
          -23.665498733520508,
          20.507070541381836,
          17.46552085876465,
          82.1463623046875,
          -4.437646389007568,
          14.12825870513916,
          10.809012413024902,
          13.102229118347168,
          -10.013890266418457,
          -6.582218170166016,
          -8.423554420471191,
          -19.844547271728516,
          -9.152822494506836,
          11.963793754577637,
          8.8709135055542,
          17.310346603393555,
          1.1062841415405273,
          -15.901385307312012,
          -0.6908180117607117,
          22.86383056640625,
          5.233701229095459,
          -11.97879695892334,
          -21.67359161376953,
          -71.74392700195312,
          -13.468175888061523,
          2.6168923377990723,
          16.418701171875,
          12.606210708618164,
          19.22224998474121,
          -2.7484073638916016,
          -22.019989013671875,
          -24.007421493530273,
          5.558029651641846,
          -2.30580472946167,
          26.61379051208496,
          28.545597076416016,
          -8.673589706420898,
          36.55662155151367,
          31.740427017211914,
          28.31957244873047,
          -14.86181354522705,
          25.771581649780273,
          22.895687103271484,
          27.15410614013672,
          13.12724494934082,
          3.8874332904815674,
          25.280086517333984,
          26.231830596923828,
          -30.63150978088379,
          35.580039978027344,
          24.650827407836914,
          33.36981964111328,
          41.33235168457031,
          22.29550552368164,
          185.23355102539062,
          29.131040573120117,
          13.436323165893555,
          32.02708053588867,
          27.912206649780273,
          38.37639617919922,
          40.29924011230469,
          31.400320053100586,
          32.59257507324219,
          39.8294792175293,
          32.9261474609375,
          35.2181510925293,
          34.886878967285156,
          33.783512115478516,
          31.41357421875,
          34.01332092285156,
          31.43454933166504,
          25.61518096923828,
          23.738922119140625,
          5.468894004821777,
          21.34697151184082,
          26.676498413085938,
          37.17245101928711,
          35.55872344970703,
          37.827816009521484,
          28.834964752197266
         ],
         "z": [
          8.312596321105957,
          -32.70642852783203,
          14.450817108154297,
          -34.772247314453125,
          -3.9500677585601807,
          -2.3876516819000244,
          1.3759533166885376,
          7.286852836608887,
          -5.626538276672363,
          8.497917175292969,
          -0.8852681517601013,
          2.657927989959717,
          -3.8530519008636475,
          9.195735931396484,
          -2.8940138816833496,
          7.289150238037109,
          3.23463773727417,
          -0.3676816523075104,
          0.42376938462257385,
          -7.436703681945801,
          14.545461654663086,
          5.755915641784668,
          16.939298629760742,
          -0.3197338581085205,
          13.85091781616211,
          8.079890251159668,
          14.465495109558105,
          12.283620834350586,
          9.146076202392578,
          11.294028282165527,
          1.787245750427246,
          13.157183647155762,
          6.578569412231445,
          2.5219037532806396,
          17.913496017456055,
          1.5014495849609375,
          6.186356544494629,
          2.8781542778015137,
          113.21090698242188,
          15.749137878417969,
          9.586661338806152,
          9.65966510772705,
          8.020484924316406,
          -33.13662338256836,
          20.483715057373047,
          4.955221176147461,
          3.4216794967651367,
          0.14738400280475616,
          13.443582534790039,
          17.980920791625977,
          16.68024253845215,
          12.23878002166748,
          9.540640830993652,
          9.814935684204102,
          11.169004440307617,
          2.3564846515655518,
          21.86686897277832,
          10.26042652130127,
          10.21190357208252,
          6.519355773925781,
          21.063833236694336,
          11.155265808105469,
          14.822173118591309,
          -74.78966522216797,
          4.735751152038574,
          -1.1704336404800415,
          2.151780128479004,
          -2.1134300231933594,
          4.788792133331299,
          0.31826457381248474,
          13.3572998046875,
          7.607865333557129,
          6.709218978881836,
          3.8211286067962646,
          -9.686603546142578,
          6.711493492126465,
          -41.33455276489258,
          0.7349340915679932,
          -13.229159355163574,
          -6.248918533325195,
          -22.554363250732422,
          4.468011379241943,
          -13.262404441833496,
          -12.809375762939453,
          -16.640979766845703,
          -16.286876678466797,
          -15.938230514526367,
          -3.940800905227661,
          -8.89935302734375,
          -11.419696807861328,
          -10.074962615966797,
          3.1237614154815674,
          -12.74233627319336,
          -14.723926544189453,
          51.56807327270508,
          -1.0550265312194824,
          3.8161394596099854,
          -3.5410406589508057,
          -0.8972741365432739,
          -18.32482147216797,
          -34.33992385864258,
          -9.630709648132324,
          -1.0288118124008179,
          -14.703239440917969,
          -11.675993919372559,
          4.24946928024292,
          -7.465642929077148,
          -15.851326942443848,
          5.457529067993164,
          -8.379947662353516,
          -0.48965805768966675,
          -7.0840229988098145,
          6.702105522155762,
          -17.330347061157227,
          6.8572773933410645,
          6.418996334075928,
          -5.386076927185059,
          -1.968061923980713,
          -9.407395362854004,
          3.6533589363098145
         ]
        }
       ],
       "layout": {
        "legend": {
         "title": {
          "text": "color"
         },
         "tracegroupgap": 0
        },
        "margin": {
         "t": 60
        },
        "scene": {
         "domain": {
          "x": [
           0,
           1
          ],
          "y": [
           0,
           1
          ]
         },
         "xaxis": {
          "title": {
           "text": "x"
          }
         },
         "yaxis": {
          "title": {
           "text": "y"
          }
         },
         "zaxis": {
          "title": {
           "text": "z"
          }
         }
        },
        "template": {
         "data": {
          "bar": [
           {
            "error_x": {
             "color": "#2a3f5f"
            },
            "error_y": {
             "color": "#2a3f5f"
            },
            "marker": {
             "line": {
              "color": "#E5ECF6",
              "width": 0.5
             },
             "pattern": {
              "fillmode": "overlay",
              "size": 10,
              "solidity": 0.2
             }
            },
            "type": "bar"
           }
          ],
          "barpolar": [
           {
            "marker": {
             "line": {
              "color": "#E5ECF6",
              "width": 0.5
             },
             "pattern": {
              "fillmode": "overlay",
              "size": 10,
              "solidity": 0.2
             }
            },
            "type": "barpolar"
           }
          ],
          "carpet": [
           {
            "aaxis": {
             "endlinecolor": "#2a3f5f",
             "gridcolor": "white",
             "linecolor": "white",
             "minorgridcolor": "white",
             "startlinecolor": "#2a3f5f"
            },
            "baxis": {
             "endlinecolor": "#2a3f5f",
             "gridcolor": "white",
             "linecolor": "white",
             "minorgridcolor": "white",
             "startlinecolor": "#2a3f5f"
            },
            "type": "carpet"
           }
          ],
          "choropleth": [
           {
            "colorbar": {
             "outlinewidth": 0,
             "ticks": ""
            },
            "type": "choropleth"
           }
          ],
          "contour": [
           {
            "colorbar": {
             "outlinewidth": 0,
             "ticks": ""
            },
            "colorscale": [
             [
              0,
              "#0d0887"
             ],
             [
              0.1111111111111111,
              "#46039f"
             ],
             [
              0.2222222222222222,
              "#7201a8"
             ],
             [
              0.3333333333333333,
              "#9c179e"
             ],
             [
              0.4444444444444444,
              "#bd3786"
             ],
             [
              0.5555555555555556,
              "#d8576b"
             ],
             [
              0.6666666666666666,
              "#ed7953"
             ],
             [
              0.7777777777777778,
              "#fb9f3a"
             ],
             [
              0.8888888888888888,
              "#fdca26"
             ],
             [
              1,
              "#f0f921"
             ]
            ],
            "type": "contour"
           }
          ],
          "contourcarpet": [
           {
            "colorbar": {
             "outlinewidth": 0,
             "ticks": ""
            },
            "type": "contourcarpet"
           }
          ],
          "heatmap": [
           {
            "colorbar": {
             "outlinewidth": 0,
             "ticks": ""
            },
            "colorscale": [
             [
              0,
              "#0d0887"
             ],
             [
              0.1111111111111111,
              "#46039f"
             ],
             [
              0.2222222222222222,
              "#7201a8"
             ],
             [
              0.3333333333333333,
              "#9c179e"
             ],
             [
              0.4444444444444444,
              "#bd3786"
             ],
             [
              0.5555555555555556,
              "#d8576b"
             ],
             [
              0.6666666666666666,
              "#ed7953"
             ],
             [
              0.7777777777777778,
              "#fb9f3a"
             ],
             [
              0.8888888888888888,
              "#fdca26"
             ],
             [
              1,
              "#f0f921"
             ]
            ],
            "type": "heatmap"
           }
          ],
          "heatmapgl": [
           {
            "colorbar": {
             "outlinewidth": 0,
             "ticks": ""
            },
            "colorscale": [
             [
              0,
              "#0d0887"
             ],
             [
              0.1111111111111111,
              "#46039f"
             ],
             [
              0.2222222222222222,
              "#7201a8"
             ],
             [
              0.3333333333333333,
              "#9c179e"
             ],
             [
              0.4444444444444444,
              "#bd3786"
             ],
             [
              0.5555555555555556,
              "#d8576b"
             ],
             [
              0.6666666666666666,
              "#ed7953"
             ],
             [
              0.7777777777777778,
              "#fb9f3a"
             ],
             [
              0.8888888888888888,
              "#fdca26"
             ],
             [
              1,
              "#f0f921"
             ]
            ],
            "type": "heatmapgl"
           }
          ],
          "histogram": [
           {
            "marker": {
             "pattern": {
              "fillmode": "overlay",
              "size": 10,
              "solidity": 0.2
             }
            },
            "type": "histogram"
           }
          ],
          "histogram2d": [
           {
            "colorbar": {
             "outlinewidth": 0,
             "ticks": ""
            },
            "colorscale": [
             [
              0,
              "#0d0887"
             ],
             [
              0.1111111111111111,
              "#46039f"
             ],
             [
              0.2222222222222222,
              "#7201a8"
             ],
             [
              0.3333333333333333,
              "#9c179e"
             ],
             [
              0.4444444444444444,
              "#bd3786"
             ],
             [
              0.5555555555555556,
              "#d8576b"
             ],
             [
              0.6666666666666666,
              "#ed7953"
             ],
             [
              0.7777777777777778,
              "#fb9f3a"
             ],
             [
              0.8888888888888888,
              "#fdca26"
             ],
             [
              1,
              "#f0f921"
             ]
            ],
            "type": "histogram2d"
           }
          ],
          "histogram2dcontour": [
           {
            "colorbar": {
             "outlinewidth": 0,
             "ticks": ""
            },
            "colorscale": [
             [
              0,
              "#0d0887"
             ],
             [
              0.1111111111111111,
              "#46039f"
             ],
             [
              0.2222222222222222,
              "#7201a8"
             ],
             [
              0.3333333333333333,
              "#9c179e"
             ],
             [
              0.4444444444444444,
              "#bd3786"
             ],
             [
              0.5555555555555556,
              "#d8576b"
             ],
             [
              0.6666666666666666,
              "#ed7953"
             ],
             [
              0.7777777777777778,
              "#fb9f3a"
             ],
             [
              0.8888888888888888,
              "#fdca26"
             ],
             [
              1,
              "#f0f921"
             ]
            ],
            "type": "histogram2dcontour"
           }
          ],
          "mesh3d": [
           {
            "colorbar": {
             "outlinewidth": 0,
             "ticks": ""
            },
            "type": "mesh3d"
           }
          ],
          "parcoords": [
           {
            "line": {
             "colorbar": {
              "outlinewidth": 0,
              "ticks": ""
             }
            },
            "type": "parcoords"
           }
          ],
          "pie": [
           {
            "automargin": true,
            "type": "pie"
           }
          ],
          "scatter": [
           {
            "fillpattern": {
             "fillmode": "overlay",
             "size": 10,
             "solidity": 0.2
            },
            "type": "scatter"
           }
          ],
          "scatter3d": [
           {
            "line": {
             "colorbar": {
              "outlinewidth": 0,
              "ticks": ""
             }
            },
            "marker": {
             "colorbar": {
              "outlinewidth": 0,
              "ticks": ""
             }
            },
            "type": "scatter3d"
           }
          ],
          "scattercarpet": [
           {
            "marker": {
             "colorbar": {
              "outlinewidth": 0,
              "ticks": ""
             }
            },
            "type": "scattercarpet"
           }
          ],
          "scattergeo": [
           {
            "marker": {
             "colorbar": {
              "outlinewidth": 0,
              "ticks": ""
             }
            },
            "type": "scattergeo"
           }
          ],
          "scattergl": [
           {
            "marker": {
             "colorbar": {
              "outlinewidth": 0,
              "ticks": ""
             }
            },
            "type": "scattergl"
           }
          ],
          "scattermapbox": [
           {
            "marker": {
             "colorbar": {
              "outlinewidth": 0,
              "ticks": ""
             }
            },
            "type": "scattermapbox"
           }
          ],
          "scatterpolar": [
           {
            "marker": {
             "colorbar": {
              "outlinewidth": 0,
              "ticks": ""
             }
            },
            "type": "scatterpolar"
           }
          ],
          "scatterpolargl": [
           {
            "marker": {
             "colorbar": {
              "outlinewidth": 0,
              "ticks": ""
             }
            },
            "type": "scatterpolargl"
           }
          ],
          "scatterternary": [
           {
            "marker": {
             "colorbar": {
              "outlinewidth": 0,
              "ticks": ""
             }
            },
            "type": "scatterternary"
           }
          ],
          "surface": [
           {
            "colorbar": {
             "outlinewidth": 0,
             "ticks": ""
            },
            "colorscale": [
             [
              0,
              "#0d0887"
             ],
             [
              0.1111111111111111,
              "#46039f"
             ],
             [
              0.2222222222222222,
              "#7201a8"
             ],
             [
              0.3333333333333333,
              "#9c179e"
             ],
             [
              0.4444444444444444,
              "#bd3786"
             ],
             [
              0.5555555555555556,
              "#d8576b"
             ],
             [
              0.6666666666666666,
              "#ed7953"
             ],
             [
              0.7777777777777778,
              "#fb9f3a"
             ],
             [
              0.8888888888888888,
              "#fdca26"
             ],
             [
              1,
              "#f0f921"
             ]
            ],
            "type": "surface"
           }
          ],
          "table": [
           {
            "cells": {
             "fill": {
              "color": "#EBF0F8"
             },
             "line": {
              "color": "white"
             }
            },
            "header": {
             "fill": {
              "color": "#C8D4E3"
             },
             "line": {
              "color": "white"
             }
            },
            "type": "table"
           }
          ]
         },
         "layout": {
          "annotationdefaults": {
           "arrowcolor": "#2a3f5f",
           "arrowhead": 0,
           "arrowwidth": 1
          },
          "autotypenumbers": "strict",
          "coloraxis": {
           "colorbar": {
            "outlinewidth": 0,
            "ticks": ""
           }
          },
          "colorscale": {
           "diverging": [
            [
             0,
             "#8e0152"
            ],
            [
             0.1,
             "#c51b7d"
            ],
            [
             0.2,
             "#de77ae"
            ],
            [
             0.3,
             "#f1b6da"
            ],
            [
             0.4,
             "#fde0ef"
            ],
            [
             0.5,
             "#f7f7f7"
            ],
            [
             0.6,
             "#e6f5d0"
            ],
            [
             0.7,
             "#b8e186"
            ],
            [
             0.8,
             "#7fbc41"
            ],
            [
             0.9,
             "#4d9221"
            ],
            [
             1,
             "#276419"
            ]
           ],
           "sequential": [
            [
             0,
             "#0d0887"
            ],
            [
             0.1111111111111111,
             "#46039f"
            ],
            [
             0.2222222222222222,
             "#7201a8"
            ],
            [
             0.3333333333333333,
             "#9c179e"
            ],
            [
             0.4444444444444444,
             "#bd3786"
            ],
            [
             0.5555555555555556,
             "#d8576b"
            ],
            [
             0.6666666666666666,
             "#ed7953"
            ],
            [
             0.7777777777777778,
             "#fb9f3a"
            ],
            [
             0.8888888888888888,
             "#fdca26"
            ],
            [
             1,
             "#f0f921"
            ]
           ],
           "sequentialminus": [
            [
             0,
             "#0d0887"
            ],
            [
             0.1111111111111111,
             "#46039f"
            ],
            [
             0.2222222222222222,
             "#7201a8"
            ],
            [
             0.3333333333333333,
             "#9c179e"
            ],
            [
             0.4444444444444444,
             "#bd3786"
            ],
            [
             0.5555555555555556,
             "#d8576b"
            ],
            [
             0.6666666666666666,
             "#ed7953"
            ],
            [
             0.7777777777777778,
             "#fb9f3a"
            ],
            [
             0.8888888888888888,
             "#fdca26"
            ],
            [
             1,
             "#f0f921"
            ]
           ]
          },
          "colorway": [
           "#636efa",
           "#EF553B",
           "#00cc96",
           "#ab63fa",
           "#FFA15A",
           "#19d3f3",
           "#FF6692",
           "#B6E880",
           "#FF97FF",
           "#FECB52"
          ],
          "font": {
           "color": "#2a3f5f"
          },
          "geo": {
           "bgcolor": "white",
           "lakecolor": "white",
           "landcolor": "#E5ECF6",
           "showlakes": true,
           "showland": true,
           "subunitcolor": "white"
          },
          "hoverlabel": {
           "align": "left"
          },
          "hovermode": "closest",
          "mapbox": {
           "style": "light"
          },
          "paper_bgcolor": "white",
          "plot_bgcolor": "#E5ECF6",
          "polar": {
           "angularaxis": {
            "gridcolor": "white",
            "linecolor": "white",
            "ticks": ""
           },
           "bgcolor": "#E5ECF6",
           "radialaxis": {
            "gridcolor": "white",
            "linecolor": "white",
            "ticks": ""
           }
          },
          "scene": {
           "xaxis": {
            "backgroundcolor": "#E5ECF6",
            "gridcolor": "white",
            "gridwidth": 2,
            "linecolor": "white",
            "showbackground": true,
            "ticks": "",
            "zerolinecolor": "white"
           },
           "yaxis": {
            "backgroundcolor": "#E5ECF6",
            "gridcolor": "white",
            "gridwidth": 2,
            "linecolor": "white",
            "showbackground": true,
            "ticks": "",
            "zerolinecolor": "white"
           },
           "zaxis": {
            "backgroundcolor": "#E5ECF6",
            "gridcolor": "white",
            "gridwidth": 2,
            "linecolor": "white",
            "showbackground": true,
            "ticks": "",
            "zerolinecolor": "white"
           }
          },
          "shapedefaults": {
           "line": {
            "color": "#2a3f5f"
           }
          },
          "ternary": {
           "aaxis": {
            "gridcolor": "white",
            "linecolor": "white",
            "ticks": ""
           },
           "baxis": {
            "gridcolor": "white",
            "linecolor": "white",
            "ticks": ""
           },
           "bgcolor": "#E5ECF6",
           "caxis": {
            "gridcolor": "white",
            "linecolor": "white",
            "ticks": ""
           }
          },
          "title": {
           "x": 0.05
          },
          "xaxis": {
           "automargin": true,
           "gridcolor": "white",
           "linecolor": "white",
           "ticks": "",
           "title": {
            "standoff": 15
           },
           "zerolinecolor": "white",
           "zerolinewidth": 2
          },
          "yaxis": {
           "automargin": true,
           "gridcolor": "white",
           "linecolor": "white",
           "ticks": "",
           "title": {
            "standoff": 15
           },
           "zerolinecolor": "white",
           "zerolinewidth": 2
          }
         }
        }
       }
      },
      "text/html": [
       "<div>                            <div id=\"5313c30d-bcd8-465d-81f7-dafafe44acc6\" class=\"plotly-graph-div\" style=\"height:525px; width:100%;\"></div>            <script type=\"text/javascript\">                require([\"plotly\"], function(Plotly) {                    window.PLOTLYENV=window.PLOTLYENV || {};                                    if (document.getElementById(\"5313c30d-bcd8-465d-81f7-dafafe44acc6\")) {                    Plotly.newPlot(                        \"5313c30d-bcd8-465d-81f7-dafafe44acc6\",                        [{\"hovertemplate\":\"color=g<br>x=%{x}<br>y=%{y}<br>z=%{z}<extra></extra>\",\"legendgroup\":\"g\",\"marker\":{\"color\":\"#636efa\",\"symbol\":\"circle\"},\"mode\":\"markers\",\"name\":\"g\",\"scene\":\"scene\",\"showlegend\":true,\"x\":[-2.176831007003784,-9.184324264526367,-1.119148850440979,-2.5686020851135254,15.570977210998535,-9.486180305480957,14.715924263000488,-10.259309768676758,-10.116556167602539,15.804291725158691,-6.388233184814453,15.706404685974121,-8.455060958862305,9.917962074279785,0.49010562896728516,-7.217348575592041,12.352577209472656,-8.692285537719727,12.145730972290039,13.70344066619873,18.66172218322754,18.13275909423828,12.399354934692383,-9.30310344696045,13.621257781982422,24.63016700744629,-16.226642608642578,6.916956901550293,9.451199531555176,5.984542369842529,3.1128878593444824,28.17905044555664,-7.899282932281494,9.235224723815918,2.5500104427337646,8.386476516723633,-9.22427749633789,-5.332907199859619,-8.331659317016602,-5.829689979553223,9.206034660339355,2.090867042541504,8.315338134765625,5.485082149505615,9.13675594329834,-9.364115715026855,-4.719081878662109,18.358047485351562,-7.724123477935791,6.18166446685791,-9.908292770385742,8.579690933227539,-7.7059431076049805,10.707469940185547,-10.969292640686035,12.88797664642334,9.79213809967041,-10.058672904968262,20.210798263549805,4.449779987335205,18.066980361938477,22.133472442626953,-8.237411499023438,16.6846866607666,14.827967643737793,-7.0732741355896,23.88412857055664,12.090028762817383,7.928520679473877,3.7854528427124023,-9.363224029541016,21.13039207458496,12.224184036254883,-11.388087272644043,-8.438094139099121,27.409908294677734,-7.419635772705078,21.520376205444336,10.778326034545898,-3.461867094039917,8.742696762084961,13.963162422180176,10.765305519104004,17.828022003173828,16.69606590270996,21.334917068481445,-9.801557540893555,-11.610692977905273,-4.093522548675537,-227.171142578125,15.602608680725098,5.682016849517822,-9.425374031066895,-9.617705345153809,0.4690280556678772,4.726224422454834,-0.3959254026412964,-8.056426048278809,-5.322893142700195,1.7749168872833252,8.803030014038086,18.53961944580078,20.25800323486328,11.696159362792969,17.91759490966797,17.920013427734375,12.246655464172363,15.37094497680664,21.09665298461914,7.44745397567749,0.42910534143447876,5.815118789672852,6.525548934936523,-7.058640480041504,12.960609436035156,1.6630058288574219,18.317760467529297,14.72451114654541,17.74662971496582,14.08759880065918,11.579181671142578,13.975516319274902,-230.53411865234375,12.64424991607666,-9.74631118774414,16.98618507385254,-8.96114444732666,0.13898789882659912,33.88767623901367,25.1491641998291,26.49631690979004,9.546310424804688,9.735391616821289,13.744980812072754,2.4196643829345703,13.87528133392334,-6.256761074066162,29.322338104248047,-5.44054651260376,19.849042892456055,-8.19800090789795,-31.502120971679688,23.389387130737305,-9.299447059631348,5.4245710372924805,-8.032812118530273,-6.234708309173584,20.21420669555664,-2.544395923614502,7.503751277923584,-9.846968650817871,-9.922533988952637,13.05249309539795,11.937737464904785,16.521814346313477,5.260425567626953,11.967232704162598,-1.3153566122055054,6.01590633392334,-11.24729061126709,36.56269073486328,-7.416722774505615,8.739206314086914,-9.04076099395752,-9.633284568786621,6.780825614929199,15.934615135192871,17.59723472595215,17.135639190673828,9.634543418884277,10.673226356506348,-12.221409797668457,30.756725311279297,27.15938949584961,9.081136703491211,3.0233378410339355,13.812315940856934,-16.332744598388672,-0.6799193620681763,12.03183364868164,9.86967658996582,-6.7285847663879395,32.09418487548828,4.657755374908447,-8.837996482849121,12.030436515808105,-7.882030010223389,3.3022773265838623,3.478052854537964,0.2756732106208801,37.079288482666016,18.55770492553711,14.140264511108398,25.810482025146484,36.77951431274414,-5.318061351776123,14.173903465270996,13.753357887268066,-6.588637828826904,-11.109661102294922,-2.3864285945892334,-0.13391026854515076,12.094913482666016,8.490909576416016,-2.8069372177124023,7.064477443695068,12.903823852539062,-1.1943196058273315,16.958627700805664,-9.835125923156738,14.11246395111084,-5.198366641998291,-7.261099338531494,14.222042083740234,31.13107681274414,7.026824474334717,16.19720458984375,25.01970100402832,11.331780433654785,15.757102012634277,10.176196098327637,7.2245097160339355,173.9049530029297,12.545104026794434,14.46847915649414,27.89674186706543,20.660411834716797,-3.358358860015869,19.374738693237305,-7.065320014953613,14.942538261413574,19.68108558654785,-6.723057746887207,6.955016136169434,11.051186561584473,8.736249923706055,32.68305587768555,29.411977767944336,-5.9620561599731445,9.623398780822754,14.628336906433105,13.836626052856445,15.833560943603516,17.057525634765625,17.68625831604004,16.452245712280273,-6.681122779846191,15.423489570617676,15.801698684692383,15.833977699279785,18.779062271118164,-9.520231246948242,22.4612979888916,26.638530731201172,16.854116439819336,17.414087295532227,-1.6425058841705322,27.136154174804688,21.363554000854492,19.390562057495117,12.457194328308105,12.514140129089355,3.0157716274261475,7.074863433837891,-6.087446212768555,11.135885238647461,-6.4720306396484375,14.689085006713867,-8.727035522460938,-0.03648819029331207,3.0632758140563965,-0.16609202325344086,-3.953922748565674,-257.5263977050781,-6.997820854187012,8.04477310180664,18.63388442993164,8.098674774169922,-5.609674453735352,-10.022262573242188,5.167953014373779,7.62139892578125,-8.940851211547852,-8.22388744354248,0.634353756904602,20.83726692199707,-65.1579360961914,18.702669143676758,-3.917919874191284,-36.19292449951172,-10.323807716369629,-7.6788506507873535,17.09169578552246],\"y\":[-30.924028396606445,-15.92995548248291,-21.494462966918945,-28.434139251708984,-0.40444913506507874,-4.060330390930176,-6.265658378601074,-4.964038372039795,-13.963010787963867,0.35597583651542664,5.903167247772217,-14.824769020080566,-8.259809494018555,9.702972412109375,-13.967572212219238,8.863953590393066,1.5411525964736938,-12.831446647644043,1.4232429265975952,23.751808166503906,-13.650017738342285,-0.4152247905731201,-19.192358016967773,3.4536824226379395,-17.324684143066406,-0.5396531820297241,-30.209362030029297,15.868037223815918,4.3375630378723145,-16.98980712890625,-1.5213841199874878,22.925695419311523,0.056675124913454056,10.369973182678223,2.5786707401275635,14.93601131439209,-8.346396446228027,-22.235868453979492,-2.7617595195770264,-14.42002010345459,13.636268615722656,-21.856231689453125,4.630935192108154,-21.28227996826172,-24.296960830688477,-0.7816894054412842,-12.349410057067871,4.1630353927612305,-22.17869758605957,14.459092140197754,3.376465082168579,-20.857257843017578,-14.712119102478027,-22.91726303100586,2.4327032566070557,17.842382431030273,-23.711469650268555,4.016312122344971,23.848373413085938,-24.182533264160156,20.276405334472656,-17.33121681213379,-18.866975784301758,-22.43342399597168,-15.450056076049805,-6.298732280731201,16.752975463867188,-38.749961853027344,4.568716049194336,4.6685404777526855,-6.136878490447998,-16.557512283325195,21.523834228515625,6.2485151290893555,2.3350830078125,13.603721618652344,5.432048797607422,7.678903102874756,-23.169435501098633,0.5892560482025146,6.341524124145508,-0.6470212936401367,12.369942665100098,27.13893699645996,26.959983825683594,10.0969877243042,6.122776508331299,-6.996612071990967,-18.890886306762695,-162.53091430664062,-2.7235748767852783,-26.473920822143555,-9.63943099975586,-11.929203987121582,-17.090370178222656,6.752285957336426,-28.181884765625,-13.680863380432129,-1.5478355884552002,-27.172483444213867,-25.72018051147461,-4.184780597686768,17.43313217163086,-25.641101837158203,-22.668128967285156,-3.7203502655029297,-25.779069900512695,21.876604080200195,-15.444097518920898,17.085140228271484,-14.897531509399414,-12.839761734008789,-35.056697845458984,0.7415533065795898,20.92811393737793,-11.283350944519043,-17.17373275756836,20.394222259521484,10.061354637145996,12.39183521270752,4.509552955627441,19.02238655090332,192.22625732421875,18.92452049255371,7.145857334136963,-15.957334518432617,-3.5825583934783936,-24.436792373657227,1.8600953817367554,5.3693437576293945,11.892751693725586,4.203878879547119,1.4316534996032715,9.532069206237793,-20.585826873779297,-23.159160614013672,-23.721338272094727,7.972748279571533,-25.53590965270996,24.472301483154297,-2.3766469955444336,-32.337364196777344,-1.7120366096496582,-16.866872787475586,1.2635704278945923,-7.263457775115967,-13.393943786621094,-7.452371597290039,-2.336256742477417,11.681690216064453,-2.4177937507629395,9.742161750793457,-2.6005637645721436,12.609095573425293,-5.222631454467773,2.9100584983825684,0.18187056481838226,-4.793434143066406,-40.991119384765625,-13.796873092651367,-3.993177652359009,-3.9799530506134033,7.793553829193115,-15.623856544494629,-0.3755095899105072,7.237354755401611,23.712387084960938,18.124940872192383,-2.8599555492401123,18.152219772338867,2.3566551208496094,-10.471331596374512,8.843671798706055,16.41377830505371,14.84920597076416,-2.721234083175659,-23.395423889160156,-47.44167709350586,-12.918110847473145,-22.27639389038086,18.284067153930664,-4.332162857055664,4.902085781097412,-28.32274055480957,-20.49115753173828,-0.5902440547943115,-13.420572280883789,-14.447508811950684,-18.54946517944336,0.18529008328914642,0.2711631655693054,25.0667781829834,-23.718456268310547,9.694045066833496,-0.6652836799621582,-30.91327476501465,-4.212395191192627,-22.36187744140625,-14.084746360778809,-7.4291582107543945,-16.574190139770508,1.2709832191467285,16.112117767333984,10.294065475463867,-13.27932071685791,-28.15093421936035,-1.9332568645477295,-1.4189221858978271,-17.492034912109375,4.163017272949219,24.913419723510742,-6.553422927856445,-8.61203384399414,25.622276306152344,-6.065247058868408,4.377274513244629,-3.4979984760284424,-4.845093727111816,15.999470710754395,-3.2443315982818604,16.6392822265625,13.2465238571167,84.295166015625,7.7162933349609375,19.323976516723633,-7.566479682922363,18.541786193847656,-6.731724262237549,-19.281023025512695,5.58305025100708,-1.8908493518829346,25.610183715820312,-18.215187072753906,-18.96034812927246,-20.336584091186523,16.612146377563477,-0.9473823308944702,-8.900690078735352,2.8702311515808105,17.09623146057129,-22.171297073364258,-13.77979564666748,-20.601736068725586,8.940468788146973,-6.927827835083008,-17.258872985839844,-22.60595703125,0.49876752495765686,-19.348772048950195,3.465891122817993,15.096353530883789,-7.227837085723877,-13.757339477539062,8.618714332580566,12.558810234069824,-20.19586181640625,-10.994584083557129,-1.9788529872894287,1.4273396730422974,-15.176689147949219,15.418889045715332,-21.916461944580078,-5.352614402770996,12.284239768981934,-19.03474235534668,15.038983345031738,-5.968475818634033,16.476015090942383,-15.488790512084961,-10.989112854003906,-17.80714988708496,-4.607141017913818,-30.37700843811035,-182.70269775390625,-18.94496726989746,-24.38241958618164,-10.383633613586426,11.138365745544434,-11.892881393432617,-11.94308090209961,-22.16250991821289,13.65291690826416,-7.872040748596191,-11.117624282836914,-25.20292854309082,-1.3647023439407349,-3.024871826171875,-18.23243522644043,-5.0134501457214355,33.70331954956055,-1.9257535934448242,-16.43443489074707,23.71028709411621],\"z\":[-9.49131965637207,-5.4077324867248535,13.161344528198242,-6.785227298736572,-9.438660621643066,5.680884838104248,-15.563478469848633,-6.8015947341918945,-9.07596492767334,7.263066291809082,15.75088882446289,-15.7919340133667,7.808488368988037,3.4490222930908203,-24.118608474731445,13.414523124694824,-14.291966438293457,10.518959045410156,2.81410813331604,-10.573457717895508,1.8344142436981201,9.611205101013184,21.131269454956055,14.254019737243652,-13.580224990844727,13.007559776306152,-0.4921187162399292,-11.690231323242188,-25.643980026245117,-16.349313735961914,-30.518747329711914,21.219409942626953,15.575199127197266,-28.976253509521484,-37.60586929321289,-24.7482967376709,-17.872867584228516,-12.517312049865723,-19.555252075195312,8.834249496459961,-18.8634090423584,22.029356002807617,-31.88158416748047,19.83340835571289,-15.398415565490723,-17.334413528442383,-19.96186065673828,11.073963165283203,-10.42558765411377,-18.862733840942383,-10.175667762756348,-14.146310806274414,-18.223310470581055,-5.713218688964844,-15.55047607421875,-28.545406341552734,-11.62656021118164,10.657147407531738,-10.205730438232422,18.824546813964844,1.3920395374298096,8.101907730102539,-2.860112190246582,16.448957443237305,-9.932217597961426,-21.413076400756836,4.544576168060303,-29.782747268676758,-0.327523797750473,-34.055110931396484,3.0797154903411865,11.114699363708496,-12.249343872070312,-12.183274269104004,-16.933483123779297,6.70046329498291,19.952573776245117,13.279051780700684,10.849559783935547,25.188907623291016,-28.15038299560547,-17.478870391845703,-26.993120193481445,-21.03902244567871,-17.603073120117188,11.48635482788086,5.884814739227295,-11.060660362243652,-17.288328170776367,43.450313568115234,4.730488300323486,9.742070198059082,-11.43467903137207,-15.992077827453613,-19.118309020996094,-36.75244140625,11.749406814575195,-12.318167686462402,20.42962074279785,13.98580551147461,12.96452522277832,6.135565757751465,3.9389750957489014,-7.223184108734131,13.251845359802246,2.522029399871826,9.850008010864258,-7.356772422790527,4.4520392417907715,-15.155926704406738,25.126550674438477,29.56705665588379,198.31179809570312,12.489042282104492,-27.283159255981445,26.200830459594727,1.7916539907455444,-10.217044830322266,11.978294372558594,6.846319198608398,0.720608651638031,-1.057904601097107,111.32234954833984,-24.47892189025879,15.013673782348633,-12.526605606079102,15.092157363891602,15.55048656463623,12.8707914352417,13.78660774230957,11.89371109008789,3.4107725620269775,0.20244161784648895,9.501577377319336,25.3651065826416,7.682443618774414,-4.485851764678955,13.40988540649414,-7.952037811279297,-22.04397201538086,-9.177186012268066,13.022829055786133,15.823043823242188,-11.74626636505127,-33.357398986816406,-3.920988082885742,12.896800994873047,6.737735748291016,-33.26354217529297,-21.61308479309082,2.8642191886901855,7.827442169189453,-14.584084510803223,3.2397372722625732,-1.7254294157028198,-30.498897552490234,-21.052453994750977,-30.445669174194336,5.137192249298096,-13.03720474243164,14.4374418258667,12.240826606750488,0.8600592017173767,7.145244598388672,10.419083595275879,-33.25267791748047,-23.521907806396484,-1.2333805561065674,-4.621557712554932,-25.460718154907227,-23.31468391418457,-10.164631843566895,10.498472213745117,6.652046203613281,-2.168282985687256,-27.1543025970459,-5.043483257293701,7.7204670906066895,27.954816818237305,-14.177910804748535,-10.035317420959473,21.18644905090332,11.932647705078125,11.91591739654541,1.633087396621704,21.262968063354492,5.381704330444336,27.697065353393555,22.668224334716797,27.37390899658203,13.151899337768555,-12.119921684265137,12.834860801696777,14.11788558959961,16.020959854125977,-7.778719902038574,-4.511582374572754,-10.57211685180664,-22.082143783569336,-3.9661080837249756,-20.100744247436523,-36.577640533447266,-3.6738786697387695,-24.920942306518555,-23.49370765686035,7.391727447509766,-10.245731353759766,-30.36928939819336,-7.992212772369385,-6.447188854217529,-16.223285675048828,-23.499576568603516,13.9130859375,-20.066993713378906,12.701351165771484,-36.001834869384766,-16.223716735839844,13.57215690612793,0.5434877872467041,-10.926037788391113,-12.955307960510254,-5.803643226623535,-45.45738983154297,6.91982364654541,-4.416075229644775,14.194435119628906,0.42546600103378296,23.557727813720703,14.82070541381836,12.047683715820312,-2.196521759033203,-15.90263843536377,-15.34273910522461,24.043413162231445,-10.309560775756836,-21.98848533630371,12.457868576049805,11.471834182739258,20.529369354248047,-5.446990013122559,5.027507305145264,-13.131636619567871,11.738357543945312,8.663795471191406,3.874976634979248,-2.5850143432617188,-1.2188531160354614,-14.177096366882324,15.618266105651855,9.828660011291504,6.843921184539795,-0.5210649967193604,7.78195858001709,10.98481559753418,9.249310493469238,-2.6957833766937256,25.457006454467773,15.241451263427734,14.270925521850586,7.398804664611816,4.767254829406738,17.63652992248535,-28.71445083618164,-9.875883102416992,0.4946464002132416,-29.92865753173828,15.964155197143555,2.3678016662597656,-2.075472354888916,-23.494665145874023,-17.816116333007812,-27.243696212768555,-3.8917815685272217,-25.922203063964844,3.816063404083252,15.944855690002441,2.479083299636841,-3.8286914825439453,29.70819664001465,-0.6502195596694946,23.98200035095215,-14.390241622924805,10.70312213897705,-2.8608558177948,11.369746208190918,13.042074203491211,-44.205039978027344,-4.9932966232299805,20.00201416015625,-50.2152099609375,-10.907256126403809,10.73526668548584,-19.612825393676758],\"type\":\"scatter3d\"},{\"hovertemplate\":\"color=b<br>x=%{x}<br>y=%{y}<br>z=%{z}<extra></extra>\",\"legendgroup\":\"b\",\"marker\":{\"color\":\"#EF553B\",\"symbol\":\"circle\"},\"mode\":\"markers\",\"name\":\"b\",\"scene\":\"scene\",\"showlegend\":true,\"x\":[-21.178001403808594,6.485843181610107,-30.75556755065918,-100.7039566040039,-27.75006675720215,-26.987831115722656,-28.656845092773438,-31.038469314575195,-30.041391372680664,-27.237295150756836,-27.746110916137695,-30.256595611572266,-30.98078155517578,-27.932445526123047,-21.410268783569336,-32.24989700317383,-30.535419464111328,-28.600791931152344,-26.306163787841797,-29.282188415527344,-35.18809127807617,-27.482126235961914,-33.82375717163086,-30.03351402282715,-27.513463973999023,-33.062870025634766,-29.26333999633789,-32.89681625366211,-29.388994216918945,-28.915084838867188,-29.526315689086914,-33.44896697998047,-29.86154556274414,-29.491735458374023,-35.28828811645508,-26.13593292236328,-26.687225341796875,-27.524608612060547,-2.3578028678894043,-33.28632354736328,-27.921106338500977,-24.442501068115234,-23.955068588256836,-91.4320297241211,-33.9777946472168,-27.22071647644043,-29.372661590576172,-23.84275245666504,-32.50223922729492,-35.04642105102539,-31.942880630493164,-29.680410385131836,-31.656320571899414,-31.95655632019043,-32.21710205078125,-22.446956634521484,-34.740989685058594,-29.26639175415039,-32.371971130371094,-21.209766387939453,-34.30781555175781,-29.819236755371094,-27.528303146362305,-124.44574737548828,-29.490732192993164,-28.80004119873047,-19.604955673217773,-25.827268600463867,-20.263141632080078,-31.434099197387695,-24.586185455322266,-24.630056381225586,-30.485231399536133,-30.297773361206055,-6.3604512214660645,-7.082136631011963,2.1788434982299805,-0.9000986218452454,-3.2789230346679688,-5.29472017288208,10.284438133239746,-7.672496318817139,-5.655975341796875,-5.860884666442871,17.856082916259766,-29.401981353759766,-4.620456695556641,-11.122395515441895,25.6500186920166,-1.748182773590088,-8.971440315246582,-0.9131504893302917,3.3606081008911133,-8.69993782043457,-28.87322998046875,-3.228766679763794,-13.986725807189941,-0.9973306655883789,-6.824920177459717,1.1769648790359497,3.580595016479492,-2.5612571239471436,-3.308088779449463,0.8071384429931641,0.32399889826774597,-3.669276237487793,-2.1870129108428955,-1.661926507949829,-5.50949764251709,0.8679046034812927,0.1538674533367157,-10.867814064025879,-11.634688377380371,-11.669604301452637,-13.906510353088379,-10.416213989257812,0.7460617423057556,1.3024979829788208,0.8842368125915527,-8.584799766540527],\"y\":[20.023048400878906,-17.742046356201172,-5.523059844970703,118.95127868652344,-0.39181187748908997,8.012173652648926,-22.272695541381836,1.8413904905319214,-2.1176364421844482,-20.140758514404297,-16.946395874023438,-5.459606647491455,0.5562727451324463,14.753326416015625,12.201150894165039,9.639801025390625,1.2811814546585083,-3.300057888031006,10.812429428100586,1.175408959388733,3.934749126434326,-23.474090576171875,-3.4982569217681885,-14.386832237243652,-17.774559020996094,4.18144416809082,-10.066460609436035,-4.613510608673096,9.675195693969727,-8.326367378234863,-18.05063247680664,-0.14991644024848938,15.403109550476074,-11.37757682800293,1.3106846809387207,-20.542524337768555,17.560901641845703,-15.669793128967285,-124.14142608642578,6.184034824371338,-23.665498733520508,20.507070541381836,17.46552085876465,82.1463623046875,-4.437646389007568,14.12825870513916,10.809012413024902,13.102229118347168,-10.013890266418457,-6.582218170166016,-8.423554420471191,-19.844547271728516,-9.152822494506836,11.963793754577637,8.8709135055542,17.310346603393555,1.1062841415405273,-15.901385307312012,-0.6908180117607117,22.86383056640625,5.233701229095459,-11.97879695892334,-21.67359161376953,-71.74392700195312,-13.468175888061523,2.6168923377990723,16.418701171875,12.606210708618164,19.22224998474121,-2.7484073638916016,-22.019989013671875,-24.007421493530273,5.558029651641846,-2.30580472946167,26.61379051208496,28.545597076416016,-8.673589706420898,36.55662155151367,31.740427017211914,28.31957244873047,-14.86181354522705,25.771581649780273,22.895687103271484,27.15410614013672,13.12724494934082,3.8874332904815674,25.280086517333984,26.231830596923828,-30.63150978088379,35.580039978027344,24.650827407836914,33.36981964111328,41.33235168457031,22.29550552368164,185.23355102539062,29.131040573120117,13.436323165893555,32.02708053588867,27.912206649780273,38.37639617919922,40.29924011230469,31.400320053100586,32.59257507324219,39.8294792175293,32.9261474609375,35.2181510925293,34.886878967285156,33.783512115478516,31.41357421875,34.01332092285156,31.43454933166504,25.61518096923828,23.738922119140625,5.468894004821777,21.34697151184082,26.676498413085938,37.17245101928711,35.55872344970703,37.827816009521484,28.834964752197266],\"z\":[8.312596321105957,-32.70642852783203,14.450817108154297,-34.772247314453125,-3.9500677585601807,-2.3876516819000244,1.3759533166885376,7.286852836608887,-5.626538276672363,8.497917175292969,-0.8852681517601013,2.657927989959717,-3.8530519008636475,9.195735931396484,-2.8940138816833496,7.289150238037109,3.23463773727417,-0.3676816523075104,0.42376938462257385,-7.436703681945801,14.545461654663086,5.755915641784668,16.939298629760742,-0.3197338581085205,13.85091781616211,8.079890251159668,14.465495109558105,12.283620834350586,9.146076202392578,11.294028282165527,1.787245750427246,13.157183647155762,6.578569412231445,2.5219037532806396,17.913496017456055,1.5014495849609375,6.186356544494629,2.8781542778015137,113.21090698242188,15.749137878417969,9.586661338806152,9.65966510772705,8.020484924316406,-33.13662338256836,20.483715057373047,4.955221176147461,3.4216794967651367,0.14738400280475616,13.443582534790039,17.980920791625977,16.68024253845215,12.23878002166748,9.540640830993652,9.814935684204102,11.169004440307617,2.3564846515655518,21.86686897277832,10.26042652130127,10.21190357208252,6.519355773925781,21.063833236694336,11.155265808105469,14.822173118591309,-74.78966522216797,4.735751152038574,-1.1704336404800415,2.151780128479004,-2.1134300231933594,4.788792133331299,0.31826457381248474,13.3572998046875,7.607865333557129,6.709218978881836,3.8211286067962646,-9.686603546142578,6.711493492126465,-41.33455276489258,0.7349340915679932,-13.229159355163574,-6.248918533325195,-22.554363250732422,4.468011379241943,-13.262404441833496,-12.809375762939453,-16.640979766845703,-16.286876678466797,-15.938230514526367,-3.940800905227661,-8.89935302734375,-11.419696807861328,-10.074962615966797,3.1237614154815674,-12.74233627319336,-14.723926544189453,51.56807327270508,-1.0550265312194824,3.8161394596099854,-3.5410406589508057,-0.8972741365432739,-18.32482147216797,-34.33992385864258,-9.630709648132324,-1.0288118124008179,-14.703239440917969,-11.675993919372559,4.24946928024292,-7.465642929077148,-15.851326942443848,5.457529067993164,-8.379947662353516,-0.48965805768966675,-7.0840229988098145,6.702105522155762,-17.330347061157227,6.8572773933410645,6.418996334075928,-5.386076927185059,-1.968061923980713,-9.407395362854004,3.6533589363098145],\"type\":\"scatter3d\"}],                        {\"template\":{\"data\":{\"histogram2dcontour\":[{\"type\":\"histogram2dcontour\",\"colorbar\":{\"outlinewidth\":0,\"ticks\":\"\"},\"colorscale\":[[0.0,\"#0d0887\"],[0.1111111111111111,\"#46039f\"],[0.2222222222222222,\"#7201a8\"],[0.3333333333333333,\"#9c179e\"],[0.4444444444444444,\"#bd3786\"],[0.5555555555555556,\"#d8576b\"],[0.6666666666666666,\"#ed7953\"],[0.7777777777777778,\"#fb9f3a\"],[0.8888888888888888,\"#fdca26\"],[1.0,\"#f0f921\"]]}],\"choropleth\":[{\"type\":\"choropleth\",\"colorbar\":{\"outlinewidth\":0,\"ticks\":\"\"}}],\"histogram2d\":[{\"type\":\"histogram2d\",\"colorbar\":{\"outlinewidth\":0,\"ticks\":\"\"},\"colorscale\":[[0.0,\"#0d0887\"],[0.1111111111111111,\"#46039f\"],[0.2222222222222222,\"#7201a8\"],[0.3333333333333333,\"#9c179e\"],[0.4444444444444444,\"#bd3786\"],[0.5555555555555556,\"#d8576b\"],[0.6666666666666666,\"#ed7953\"],[0.7777777777777778,\"#fb9f3a\"],[0.8888888888888888,\"#fdca26\"],[1.0,\"#f0f921\"]]}],\"heatmap\":[{\"type\":\"heatmap\",\"colorbar\":{\"outlinewidth\":0,\"ticks\":\"\"},\"colorscale\":[[0.0,\"#0d0887\"],[0.1111111111111111,\"#46039f\"],[0.2222222222222222,\"#7201a8\"],[0.3333333333333333,\"#9c179e\"],[0.4444444444444444,\"#bd3786\"],[0.5555555555555556,\"#d8576b\"],[0.6666666666666666,\"#ed7953\"],[0.7777777777777778,\"#fb9f3a\"],[0.8888888888888888,\"#fdca26\"],[1.0,\"#f0f921\"]]}],\"heatmapgl\":[{\"type\":\"heatmapgl\",\"colorbar\":{\"outlinewidth\":0,\"ticks\":\"\"},\"colorscale\":[[0.0,\"#0d0887\"],[0.1111111111111111,\"#46039f\"],[0.2222222222222222,\"#7201a8\"],[0.3333333333333333,\"#9c179e\"],[0.4444444444444444,\"#bd3786\"],[0.5555555555555556,\"#d8576b\"],[0.6666666666666666,\"#ed7953\"],[0.7777777777777778,\"#fb9f3a\"],[0.8888888888888888,\"#fdca26\"],[1.0,\"#f0f921\"]]}],\"contourcarpet\":[{\"type\":\"contourcarpet\",\"colorbar\":{\"outlinewidth\":0,\"ticks\":\"\"}}],\"contour\":[{\"type\":\"contour\",\"colorbar\":{\"outlinewidth\":0,\"ticks\":\"\"},\"colorscale\":[[0.0,\"#0d0887\"],[0.1111111111111111,\"#46039f\"],[0.2222222222222222,\"#7201a8\"],[0.3333333333333333,\"#9c179e\"],[0.4444444444444444,\"#bd3786\"],[0.5555555555555556,\"#d8576b\"],[0.6666666666666666,\"#ed7953\"],[0.7777777777777778,\"#fb9f3a\"],[0.8888888888888888,\"#fdca26\"],[1.0,\"#f0f921\"]]}],\"surface\":[{\"type\":\"surface\",\"colorbar\":{\"outlinewidth\":0,\"ticks\":\"\"},\"colorscale\":[[0.0,\"#0d0887\"],[0.1111111111111111,\"#46039f\"],[0.2222222222222222,\"#7201a8\"],[0.3333333333333333,\"#9c179e\"],[0.4444444444444444,\"#bd3786\"],[0.5555555555555556,\"#d8576b\"],[0.6666666666666666,\"#ed7953\"],[0.7777777777777778,\"#fb9f3a\"],[0.8888888888888888,\"#fdca26\"],[1.0,\"#f0f921\"]]}],\"mesh3d\":[{\"type\":\"mesh3d\",\"colorbar\":{\"outlinewidth\":0,\"ticks\":\"\"}}],\"scatter\":[{\"fillpattern\":{\"fillmode\":\"overlay\",\"size\":10,\"solidity\":0.2},\"type\":\"scatter\"}],\"parcoords\":[{\"type\":\"parcoords\",\"line\":{\"colorbar\":{\"outlinewidth\":0,\"ticks\":\"\"}}}],\"scatterpolargl\":[{\"type\":\"scatterpolargl\",\"marker\":{\"colorbar\":{\"outlinewidth\":0,\"ticks\":\"\"}}}],\"bar\":[{\"error_x\":{\"color\":\"#2a3f5f\"},\"error_y\":{\"color\":\"#2a3f5f\"},\"marker\":{\"line\":{\"color\":\"#E5ECF6\",\"width\":0.5},\"pattern\":{\"fillmode\":\"overlay\",\"size\":10,\"solidity\":0.2}},\"type\":\"bar\"}],\"scattergeo\":[{\"type\":\"scattergeo\",\"marker\":{\"colorbar\":{\"outlinewidth\":0,\"ticks\":\"\"}}}],\"scatterpolar\":[{\"type\":\"scatterpolar\",\"marker\":{\"colorbar\":{\"outlinewidth\":0,\"ticks\":\"\"}}}],\"histogram\":[{\"marker\":{\"pattern\":{\"fillmode\":\"overlay\",\"size\":10,\"solidity\":0.2}},\"type\":\"histogram\"}],\"scattergl\":[{\"type\":\"scattergl\",\"marker\":{\"colorbar\":{\"outlinewidth\":0,\"ticks\":\"\"}}}],\"scatter3d\":[{\"type\":\"scatter3d\",\"line\":{\"colorbar\":{\"outlinewidth\":0,\"ticks\":\"\"}},\"marker\":{\"colorbar\":{\"outlinewidth\":0,\"ticks\":\"\"}}}],\"scattermapbox\":[{\"type\":\"scattermapbox\",\"marker\":{\"colorbar\":{\"outlinewidth\":0,\"ticks\":\"\"}}}],\"scatterternary\":[{\"type\":\"scatterternary\",\"marker\":{\"colorbar\":{\"outlinewidth\":0,\"ticks\":\"\"}}}],\"scattercarpet\":[{\"type\":\"scattercarpet\",\"marker\":{\"colorbar\":{\"outlinewidth\":0,\"ticks\":\"\"}}}],\"carpet\":[{\"aaxis\":{\"endlinecolor\":\"#2a3f5f\",\"gridcolor\":\"white\",\"linecolor\":\"white\",\"minorgridcolor\":\"white\",\"startlinecolor\":\"#2a3f5f\"},\"baxis\":{\"endlinecolor\":\"#2a3f5f\",\"gridcolor\":\"white\",\"linecolor\":\"white\",\"minorgridcolor\":\"white\",\"startlinecolor\":\"#2a3f5f\"},\"type\":\"carpet\"}],\"table\":[{\"cells\":{\"fill\":{\"color\":\"#EBF0F8\"},\"line\":{\"color\":\"white\"}},\"header\":{\"fill\":{\"color\":\"#C8D4E3\"},\"line\":{\"color\":\"white\"}},\"type\":\"table\"}],\"barpolar\":[{\"marker\":{\"line\":{\"color\":\"#E5ECF6\",\"width\":0.5},\"pattern\":{\"fillmode\":\"overlay\",\"size\":10,\"solidity\":0.2}},\"type\":\"barpolar\"}],\"pie\":[{\"automargin\":true,\"type\":\"pie\"}]},\"layout\":{\"autotypenumbers\":\"strict\",\"colorway\":[\"#636efa\",\"#EF553B\",\"#00cc96\",\"#ab63fa\",\"#FFA15A\",\"#19d3f3\",\"#FF6692\",\"#B6E880\",\"#FF97FF\",\"#FECB52\"],\"font\":{\"color\":\"#2a3f5f\"},\"hovermode\":\"closest\",\"hoverlabel\":{\"align\":\"left\"},\"paper_bgcolor\":\"white\",\"plot_bgcolor\":\"#E5ECF6\",\"polar\":{\"bgcolor\":\"#E5ECF6\",\"angularaxis\":{\"gridcolor\":\"white\",\"linecolor\":\"white\",\"ticks\":\"\"},\"radialaxis\":{\"gridcolor\":\"white\",\"linecolor\":\"white\",\"ticks\":\"\"}},\"ternary\":{\"bgcolor\":\"#E5ECF6\",\"aaxis\":{\"gridcolor\":\"white\",\"linecolor\":\"white\",\"ticks\":\"\"},\"baxis\":{\"gridcolor\":\"white\",\"linecolor\":\"white\",\"ticks\":\"\"},\"caxis\":{\"gridcolor\":\"white\",\"linecolor\":\"white\",\"ticks\":\"\"}},\"coloraxis\":{\"colorbar\":{\"outlinewidth\":0,\"ticks\":\"\"}},\"colorscale\":{\"sequential\":[[0.0,\"#0d0887\"],[0.1111111111111111,\"#46039f\"],[0.2222222222222222,\"#7201a8\"],[0.3333333333333333,\"#9c179e\"],[0.4444444444444444,\"#bd3786\"],[0.5555555555555556,\"#d8576b\"],[0.6666666666666666,\"#ed7953\"],[0.7777777777777778,\"#fb9f3a\"],[0.8888888888888888,\"#fdca26\"],[1.0,\"#f0f921\"]],\"sequentialminus\":[[0.0,\"#0d0887\"],[0.1111111111111111,\"#46039f\"],[0.2222222222222222,\"#7201a8\"],[0.3333333333333333,\"#9c179e\"],[0.4444444444444444,\"#bd3786\"],[0.5555555555555556,\"#d8576b\"],[0.6666666666666666,\"#ed7953\"],[0.7777777777777778,\"#fb9f3a\"],[0.8888888888888888,\"#fdca26\"],[1.0,\"#f0f921\"]],\"diverging\":[[0,\"#8e0152\"],[0.1,\"#c51b7d\"],[0.2,\"#de77ae\"],[0.3,\"#f1b6da\"],[0.4,\"#fde0ef\"],[0.5,\"#f7f7f7\"],[0.6,\"#e6f5d0\"],[0.7,\"#b8e186\"],[0.8,\"#7fbc41\"],[0.9,\"#4d9221\"],[1,\"#276419\"]]},\"xaxis\":{\"gridcolor\":\"white\",\"linecolor\":\"white\",\"ticks\":\"\",\"title\":{\"standoff\":15},\"zerolinecolor\":\"white\",\"automargin\":true,\"zerolinewidth\":2},\"yaxis\":{\"gridcolor\":\"white\",\"linecolor\":\"white\",\"ticks\":\"\",\"title\":{\"standoff\":15},\"zerolinecolor\":\"white\",\"automargin\":true,\"zerolinewidth\":2},\"scene\":{\"xaxis\":{\"backgroundcolor\":\"#E5ECF6\",\"gridcolor\":\"white\",\"linecolor\":\"white\",\"showbackground\":true,\"ticks\":\"\",\"zerolinecolor\":\"white\",\"gridwidth\":2},\"yaxis\":{\"backgroundcolor\":\"#E5ECF6\",\"gridcolor\":\"white\",\"linecolor\":\"white\",\"showbackground\":true,\"ticks\":\"\",\"zerolinecolor\":\"white\",\"gridwidth\":2},\"zaxis\":{\"backgroundcolor\":\"#E5ECF6\",\"gridcolor\":\"white\",\"linecolor\":\"white\",\"showbackground\":true,\"ticks\":\"\",\"zerolinecolor\":\"white\",\"gridwidth\":2}},\"shapedefaults\":{\"line\":{\"color\":\"#2a3f5f\"}},\"annotationdefaults\":{\"arrowcolor\":\"#2a3f5f\",\"arrowhead\":0,\"arrowwidth\":1},\"geo\":{\"bgcolor\":\"white\",\"landcolor\":\"#E5ECF6\",\"subunitcolor\":\"white\",\"showland\":true,\"showlakes\":true,\"lakecolor\":\"white\"},\"title\":{\"x\":0.05},\"mapbox\":{\"style\":\"light\"}}},\"scene\":{\"domain\":{\"x\":[0.0,1.0],\"y\":[0.0,1.0]},\"xaxis\":{\"title\":{\"text\":\"x\"}},\"yaxis\":{\"title\":{\"text\":\"y\"}},\"zaxis\":{\"title\":{\"text\":\"z\"}}},\"legend\":{\"title\":{\"text\":\"color\"},\"tracegroupgap\":0},\"margin\":{\"t\":60}},                        {\"responsive\": true}                    ).then(function(){\n",
       "                            \n",
       "var gd = document.getElementById('5313c30d-bcd8-465d-81f7-dafafe44acc6');\n",
       "var x = new MutationObserver(function (mutations, observer) {{\n",
       "        var display = window.getComputedStyle(gd).display;\n",
       "        if (!display || display === 'none') {{\n",
       "            console.log([gd, 'removed!']);\n",
       "            Plotly.purge(gd);\n",
       "            observer.disconnect();\n",
       "        }}\n",
       "}});\n",
       "\n",
       "// Listen for the removal of the full notebook cells\n",
       "var notebookContainer = gd.closest('#notebook-container');\n",
       "if (notebookContainer) {{\n",
       "    x.observe(notebookContainer, {childList: true});\n",
       "}}\n",
       "\n",
       "// Listen for the clearing of the current output cell\n",
       "var outputEl = gd.closest('.output');\n",
       "if (outputEl) {{\n",
       "    x.observe(outputEl, {childList: true});\n",
       "}}\n",
       "\n",
       "                        })                };                });            </script>        </div>"
      ]
     },
     "metadata": {},
     "output_type": "display_data"
    }
   ],
   "source": [
    "# plot using tsne \n",
    "X_embedded  = TSNE(n_components=3, perplexity=10,random_state=24).fit_transform( X )\n",
    "colors = np.array([x for x in 'bgrcmykbgrcmykbgrcmykbgrcmyk'])\n",
    "fig = px.scatter_3d(x=X_embedded [:,0],y=X_embedded [:,1],z=X_embedded [:,2],color=colors[gmm_labels])\n",
    "fig.show()"
   ]
  },
  {
   "cell_type": "markdown",
   "metadata": {},
   "source": [
    "### Bayesian Gaussian Mixture\n",
    "\n",
    "Mixture models are useful for integrating multiple data generating processes into a single model. A gaussian mixture model is a probabilistic model that assumes all the data points are generated from a mixture of a finite number of gaussian distributions with unknown parameters.\n",
    "\n",
    "The Bayesian gaussian mixture is a variation of the Gaussian mixture. BGM is less sensitive to the number of parameters and it chooses effective components automatically."
   ]
  },
  {
   "cell_type": "code",
   "execution_count": 44,
   "metadata": {},
   "outputs": [],
   "source": [
    "bgm_grid = {\n",
    "        \"covariance_type\": ['full', 'tied', 'diag', 'spherical'],\n",
    "        \"max_iter\": [50, 100, 150, 200],\n",
    "        \"init_params\": ['kmeans', 'k-means++', 'random', 'random_from_data'],\n",
    "        \"n_components\": range(2, 10),\n",
    "        \"n_init\": range(1, 6),\n",
    "        \"weight_concentration_prior_type\" : ['dirichlet_process', 'dirichlet_distribution']\n",
    "       }\n",
    "\n",
    "#bgm_grid"
   ]
  },
  {
   "cell_type": "code",
   "execution_count": 45,
   "metadata": {},
   "outputs": [],
   "source": [
    "bgm_model = BayesianGaussianMixture()\n",
    "bgm_params = GridSearchCV(bgm_model,bgm_grid,scoring=silhouette_score3,cv= 10).fit(X, y)"
   ]
  },
  {
   "cell_type": "code",
   "execution_count": 46,
   "metadata": {},
   "outputs": [
    {
     "data": {
      "text/plain": [
       "(0.5023608209736273,\n",
       " {'covariance_type': 'tied',\n",
       "  'init_params': 'kmeans',\n",
       "  'max_iter': 50,\n",
       "  'n_components': 2,\n",
       "  'n_init': 5,\n",
       "  'weight_concentration_prior_type': 'dirichlet_distribution'})"
      ]
     },
     "execution_count": 46,
     "metadata": {},
     "output_type": "execute_result"
    }
   ],
   "source": [
    "bgm_params.best_score_, bgm_params.best_params_"
   ]
  },
  {
   "cell_type": "code",
   "execution_count": 47,
   "metadata": {},
   "outputs": [],
   "source": [
    "bgm = BayesianGaussianMixture(covariance_type = bgm_params.best_params_['covariance_type'],\n",
    "                      init_params = bgm_params.best_params_['init_params'],\n",
    "                      n_components = bgm_params.best_params_['n_components'],\n",
    "                      n_init = bgm_params.best_params_['n_init'],\n",
    "                      max_iter = bgm_params.best_params_['max_iter'],\n",
    "                      weight_concentration_prior_type = bgm_params.best_params_['weight_concentration_prior_type'])\n",
    "\n",
    "bgm.fit(X)\n",
    "bgm_labels = bgm.fit_predict(X)"
   ]
  },
  {
   "cell_type": "code",
   "execution_count": 48,
   "metadata": {},
   "outputs": [
    {
     "data": {
      "text/html": [
       "<div>\n",
       "<style scoped>\n",
       "    .dataframe tbody tr th:only-of-type {\n",
       "        vertical-align: middle;\n",
       "    }\n",
       "\n",
       "    .dataframe tbody tr th {\n",
       "        vertical-align: top;\n",
       "    }\n",
       "\n",
       "    .dataframe thead th {\n",
       "        text-align: right;\n",
       "    }\n",
       "</style>\n",
       "<table border=\"1\" class=\"dataframe\">\n",
       "  <thead>\n",
       "    <tr style=\"text-align: right;\">\n",
       "      <th></th>\n",
       "      <th>Cluster</th>\n",
       "    </tr>\n",
       "  </thead>\n",
       "  <tbody>\n",
       "    <tr>\n",
       "      <th>0</th>\n",
       "      <td>293</td>\n",
       "    </tr>\n",
       "    <tr>\n",
       "      <th>1</th>\n",
       "      <td>120</td>\n",
       "    </tr>\n",
       "  </tbody>\n",
       "</table>\n",
       "</div>"
      ],
      "text/plain": [
       "   Cluster\n",
       "0      293\n",
       "1      120"
      ]
     },
     "execution_count": 48,
     "metadata": {},
     "output_type": "execute_result"
    }
   ],
   "source": [
    "bgm_dataset = pd.DataFrame(X.copy())\n",
    "bgm_dataset.loc[:,'Cluster'] = bgm_labels\n",
    "bgm_dataset.Cluster.value_counts().to_frame()"
   ]
  },
  {
   "cell_type": "code",
   "execution_count": 149,
   "metadata": {},
   "outputs": [
    {
     "data": {
      "text/html": [
       "<div>\n",
       "<style scoped>\n",
       "    .dataframe tbody tr th:only-of-type {\n",
       "        vertical-align: middle;\n",
       "    }\n",
       "\n",
       "    .dataframe tbody tr th {\n",
       "        vertical-align: top;\n",
       "    }\n",
       "\n",
       "    .dataframe thead th {\n",
       "        text-align: right;\n",
       "    }\n",
       "</style>\n",
       "<table border=\"1\" class=\"dataframe\">\n",
       "  <thead>\n",
       "    <tr style=\"text-align: right;\">\n",
       "      <th></th>\n",
       "      <th>silhouette_score</th>\n",
       "      <th>davies_bouldin_score</th>\n",
       "      <th>calinski_harabasz_score</th>\n",
       "    </tr>\n",
       "  </thead>\n",
       "  <tbody>\n",
       "    <tr>\n",
       "      <th>BayesianGaussianMixture</th>\n",
       "      <td>0.442794</td>\n",
       "      <td>1.051217</td>\n",
       "      <td>254.891933</td>\n",
       "    </tr>\n",
       "  </tbody>\n",
       "</table>\n",
       "</div>"
      ],
      "text/plain": [
       "                         silhouette_score  davies_bouldin_score  \\\n",
       "BayesianGaussianMixture          0.442794              1.051217   \n",
       "\n",
       "                         calinski_harabasz_score  \n",
       "BayesianGaussianMixture               254.891933  "
      ]
     },
     "execution_count": 149,
     "metadata": {},
     "output_type": "execute_result"
    }
   ],
   "source": [
    "bgm_df = pd.DataFrame(estimator_evaluation2(bgm, 'BayesianGaussianMixture ', X ), index=[\"BayesianGaussianMixture\"])\n",
    "bgm_df"
   ]
  },
  {
   "cell_type": "code",
   "execution_count": 50,
   "metadata": {},
   "outputs": [
    {
     "data": {
      "application/vnd.plotly.v1+json": {
       "config": {
        "plotlyServerURL": "https://plot.ly"
       },
       "data": [
        {
         "hovertemplate": "color=b<br>x=%{x}<br>y=%{y}<br>z=%{z}<extra></extra>",
         "legendgroup": "b",
         "marker": {
          "color": "#636efa",
          "symbol": "circle"
         },
         "mode": "markers",
         "name": "b",
         "scene": "scene",
         "showlegend": true,
         "type": "scatter3d",
         "x": [
          -9.046331405639648,
          -11.44273853302002,
          -21.65359878540039,
          -10.454161643981934,
          4.739521503448486,
          -19.475872039794922,
          17.40998649597168,
          -9.488744735717773,
          -9.10183048248291,
          -0.4006132185459137,
          -28.92538833618164,
          -6.156496047973633,
          -15.647710800170898,
          6.842092037200928,
          2.4186394214630127,
          -22.01750373840332,
          7.418874740600586,
          -20.109895706176758,
          3.140411615371704,
          9.601218223571777,
          -7.681477069854736,
          -2.822824001312256,
          -22.153762817382812,
          -23.4920711517334,
          2.5159270763397217,
          -53.05295944213867,
          -20.876514434814453,
          22.53696632385254,
          18.218494415283203,
          -4.738011360168457,
          11.321849822998047,
          -30.420753479003906,
          -24.681163787841797,
          13.276442527770996,
          16.02425765991211,
          13.19835090637207,
          -0.4524790942668915,
          -7.665225505828857,
          9.751333236694336,
          -24.262834548950195,
          18.003067016601562,
          -22.20755386352539,
          16.76701545715332,
          -21.5905704498291,
          0.016933299601078033,
          10.16472339630127,
          -0.188185915350914,
          -0.545369029045105,
          -8.661247253417969,
          12.27123737335205,
          14.17691421508789,
          1.374219298362732,
          -3.0602657794952393,
          -3.1432130336761475,
          12.718029975891113,
          22.514066696166992,
          -7.357227802276611,
          -20.091787338256836,
          14.787997245788574,
          -20.44294548034668,
          11.562552452087402,
          -12.350040435791016,
          -13.450438499450684,
          -18.168781280517578,
          0.7296750545501709,
          8.441187858581543,
          8.892831802368164,
          -14.191119194030762,
          6.428370475769043,
          17.71136474609375,
          -16.78411102294922,
          -13.253026962280273,
          10.658899307250977,
          16.983154296875,
          12.531632423400879,
          5.847597122192383,
          -24.23939323425293,
          0.8367011547088623,
          -17.906381607055664,
          -23.212451934814453,
          13.700352668762207,
          4.769161224365234,
          21.045066833496094,
          24.951366424560547,
          26.944141387939453,
          3.0134897232055664,
          -17.8173885345459,
          -7.3868279457092285,
          -4.03265380859375,
          -31.240564346313477,
          -2.5581603050231934,
          -18.897409439086914,
          -6.155820369720459,
          -3.4224536418914795,
          -1.1587519645690918,
          18.633831024169922,
          -19.66817855834961,
          -5.748752593994141,
          -25.100772857666016,
          10.462860107421875,
          -18.787124633789062,
          -3.2394230365753174,
          9.277685165405273,
          -3.0637855529785156,
          -16.58060073852539,
          -2.1501715183258057,
          -15.762643814086914,
          17.20548439025879,
          -9.80859088897705,
          -81.791015625,
          -25.88500213623047,
          -27.306659698486328,
          -13.466221809387207,
          -21.783063888549805,
          21.90608024597168,
          -26.178306579589844,
          -10.187676429748535,
          22.5817928314209,
          0.6889179944992065,
          8.243086814880371,
          111.77555847167969,
          14.432371139526367,
          -10.683236122131348,
          18.909774780273438,
          -21.875226974487305,
          1.712481141090393,
          -23.596887588500977,
          -19.863386154174805,
          -16.37049674987793,
          -0.6079948544502258,
          -0.9830238819122314,
          5.461564064025879,
          5.218622207641602,
          9.420888900756836,
          -23.068599700927734,
          -15.083608627319336,
          -57.99257278442383,
          21.915943145751953,
          -13.269302368164062,
          26.272008895874023,
          -7.556407928466797,
          -2.2214200496673584,
          -7.438316822052002,
          -7.536221981048584,
          14.945371627807617,
          -13.286153793334961,
          -24.12965202331543,
          -5.632994174957275,
          11.121540069580078,
          13.428407669067383,
          -14.717876434326172,
          -16.63210105895996,
          -14.445272445678711,
          12.615036964416504,
          -2.2531309127807617,
          15.554095268249512,
          7.517563819885254,
          8.247428894042969,
          -14.375052452087402,
          -6.913936614990234,
          -18.74449920654297,
          -23.160602569580078,
          6.463624954223633,
          -21.889911651611328,
          -21.653825759887695,
          19.019359588623047,
          23.89085578918457,
          11.498507499694824,
          -0.3595922291278839,
          15.935079574584961,
          11.015056610107422,
          -8.33598804473877,
          -2.5350711345672607,
          6.526896953582764,
          15.086762428283691,
          9.853147506713867,
          -4.403838634490967,
          -21.218069076538086,
          -28.311573028564453,
          1.472746729850769,
          23.024507522583008,
          -27.26386833190918,
          -0.9812009930610657,
          -19.006839752197266,
          -14.563387870788574,
          -0.874816358089447,
          -18.170169830322266,
          -25.504581451416016,
          -23.460344314575195,
          -29.085914611816406,
          -15.870013236999512,
          16.130596160888672,
          -17.349424362182617,
          0.70964515209198,
          -18.17450523376465,
          -14.88231372833252,
          -0.32087424397468567,
          -0.31290146708488464,
          -0.15711086988449097,
          -12.32091236114502,
          -1.053704023361206,
          13.93487548828125,
          18.37950325012207,
          18.96958351135254,
          1.8260059356689453,
          -10.412586212158203,
          1.61017644405365,
          10.402091026306152,
          -1.1181079149246216,
          -13.621132850646973,
          24.572240829467773,
          4.072630405426025,
          -22.740121841430664,
          24.344881057739258,
          -38.88062286376953,
          18.040685653686523,
          4.244079113006592,
          -9.578176498413086,
          15.709016799926758,
          1.9835727214813232,
          18.174583435058594,
          20.06842041015625,
          -17.727121353149414,
          5.719417095184326,
          18.981515884399414,
          -11.758330345153809,
          14.255215644836426,
          -27.391080856323242,
          -16.267925262451172,
          -21.71391487121582,
          0.1479852795600891,
          18.608003616333008,
          -4.883203983306885,
          -23.714614868164062,
          1.5827901363372803,
          17.46265983581543,
          -13.065000534057617,
          -13.370770454406738,
          -28.16254997253418,
          18.554306030273438,
          -12.714818954467773,
          2.401414155960083,
          -15.110689163208008,
          5.053903579711914,
          -4.5065131187438965,
          -4.486534118652344,
          -16.506053924560547,
          2.0014686584472656,
          -16.786325454711914,
          0.11428079009056091,
          7.675745487213135,
          -15.224557876586914,
          -8.314894676208496,
          1.9760621786117554,
          6.619262218475342,
          -3.8100340366363525,
          -27.496360778808594,
          -118.56483459472656,
          -8.659415245056152,
          -10.529463768005371,
          11.215337753295898,
          81.71478271484375,
          9.197097778320312,
          9.216344833374023,
          -16.529701232910156,
          21.596195220947266,
          -25.116653442382812,
          10.542902946472168,
          -14.2475004196167,
          4.384600639343262,
          1.5435917377471924,
          7.662912845611572,
          -12.42553997039795,
          -1.9002189636230469,
          -16.467716217041016,
          -19.668596267700195,
          -7.376601219177246,
          7.120086193084717,
          -23.11838722229004,
          -13.888901710510254,
          -24.610334396362305,
          17.605485916137695,
          -23.40083122253418,
          -14.429879188537598,
          -20.432270050048828,
          -6.825558662414551,
          -12.43630599975586,
          -6.855988025665283,
          -28.456457138061523,
          -30.104843139648438,
          8.769777297973633,
          -22.330543518066406,
          22.327835083007812
         ],
         "y": [
          -1.5340672731399536,
          6.574012279510498,
          -1.8590061664581299,
          -0.41136372089385986,
          -16.96223258972168,
          14.269585609436035,
          -27.497920989990234,
          12.495722770690918,
          8.527955055236816,
          -22.2428035736084,
          11.621274948120117,
          -9.86121654510498,
          6.600394248962402,
          -22.95342445373535,
          -0.994309663772583,
          14.901973724365234,
          -15.746891975402832,
          6.11449670791626,
          -23.23505401611328,
          -14.151230812072754,
          -18.99390983581543,
          -23.76114273071289,
          -8.684488296508789,
          14.155314445495605,
          -9.423970222473145,
          37.35771179199219,
          -9.008581161499023,
          -25.974454879760742,
          -9.869290351867676,
          -9.65532398223877,
          -1.3009191751480103,
          4.007169246673584,
          11.801981925964355,
          -8.881010055541992,
          2.0357797145843506,
          -11.895366668701172,
          2.9733541011810303,
          0.006850101985037327,
          6.681643009185791,
          10.029695510864258,
          -16.246273040771484,
          -5.687689781188965,
          -5.8213324546813965,
          -8.03565502166748,
          -5.769979476928711,
          7.677053451538086,
          0.7847827076911926,
          -25.03753662109375,
          3.7726967334747314,
          -15.074109077453613,
          11.354602813720703,
          -5.082414150238037,
          -0.4331987202167511,
          -5.324719429016113,
          7.166856288909912,
          -15.876425743103027,
          -10.194954872131348,
          20.718265533447266,
          -27.792743682861328,
          -9.152871131896973,
          -28.964563369750977,
          -16.195659637451172,
          5.582106590270996,
          -15.532862663269043,
          -11.88512134552002,
          5.096437454223633,
          -29.941360473632812,
          4.940958499908447,
          -21.880420684814453,
          -1.447306752204895,
          12.868429183959961,
          -18.14061737060547,
          -15.994688987731934,
          10.051630973815918,
          9.61036491394043,
          -31.05203628540039,
          11.842206954956055,
          -28.931198120117188,
          -13.614554405212402,
          8.024569511413574,
          -6.779545783996582,
          -19.383331298828125,
          -13.033788681030273,
          -23.372880935668945,
          -25.50701141357422,
          -27.92346954345703,
          15.198331832885742,
          12.196139335632324,
          1.840895652770996,
          1.6657421588897705,
          -20.32362174987793,
          -9.368785858154297,
          11.046630859375,
          2.1816976070404053,
          -0.23901543021202087,
          0.09213738888502121,
          -4.5717453956604,
          0.888896644115448,
          8.691638946533203,
          84.04073333740234,
          -11.279043197631836,
          -21.84109115600586,
          -27.648595809936523,
          -5.940124034881592,
          -17.94634246826172,
          -21.76734161376953,
          -12.668383598327637,
          -24.692529678344727,
          -19.58407974243164,
          23.154285430908203,
          -3.6616997718811035,
          -0.9921901822090149,
          -21.47683334350586,
          11.465152740478516,
          -17.896011352539062,
          -0.9240994453430176,
          -17.478626251220703,
          -26.075510025024414,
          -24.7843017578125,
          -27.36046600341797,
          -58.84355545043945,
          -26.56248664855957,
          2.5020625591278076,
          -16.106048583984375,
          18.80419158935547,
          -11.221720695495605,
          10.017218589782715,
          -5.749551296234131,
          -12.341777801513672,
          -29.44001007080078,
          -24.91731071472168,
          -24.06086540222168,
          -21.673030853271484,
          -26.912843704223633,
          -7.033667087554932,
          -15.212780952453613,
          -21.989362716674805,
          39.07378387451172,
          3.340461492538452,
          -24.703784942626953,
          13.797632217407227,
          70.89799499511719,
          -23.343299865722656,
          7.078225135803223,
          -2.5804948806762695,
          15.482879638671875,
          8.066954612731934,
          -20.94005584716797,
          3.8352320194244385,
          -13.614950180053711,
          9.195090293884277,
          19.539522171020508,
          8.181456565856934,
          -26.681859970092773,
          -22.366670608520508,
          -4.300848484039307,
          -18.474538803100586,
          -0.40056312084198,
          2.525477409362793,
          9.676780700683594,
          -10.724989891052246,
          12.476180076599121,
          -20.476518630981445,
          11.262657165527344,
          14.594732284545898,
          -4.460450649261475,
          -22.3205509185791,
          -26.4284610748291,
          -22.955080032348633,
          -14.693780899047852,
          -6.902839660644531,
          12.321738243103027,
          -26.301456451416016,
          -29.170372009277344,
          -24.349538803100586,
          -2.7594263553619385,
          -7.684845924377441,
          -0.6396019458770752,
          -1.9303383827209473,
          -6.569674491882324,
          -23.911819458007812,
          6.709972381591797,
          -30.87407684326172,
          -7.752499580383301,
          1.7057619094848633,
          -7.214428901672363,
          6.9911208152771,
          -2.6022753715515137,
          -5.642113208770752,
          1.697472333908081,
          -12.633161544799805,
          -28.34609031677246,
          -15.012086868286133,
          -26.80893898010254,
          -13.768354415893555,
          1.6886509656906128,
          -20.635656356811523,
          -7.566712379455566,
          2.596472978591919,
          13.581685066223145,
          2.2233128547668457,
          3.896430492401123,
          -26.55345344543457,
          -12.694981575012207,
          -0.7338266968727112,
          -9.151679039001465,
          -20.019012451171875,
          1.8799445629119873,
          -10.834845542907715,
          16.03583526611328,
          -25.807781219482422,
          0.2876308560371399,
          8.238428115844727,
          -26.54743003845215,
          -42.25943374633789,
          -2.9506189823150635,
          -21.734424591064453,
          -21.46657943725586,
          -27.270830154418945,
          -22.136302947998047,
          -20.029312133789062,
          -24.05599594116211,
          18.987165451049805,
          -25.375370025634766,
          -26.669729232788086,
          -19.037246704101562,
          -23.83278465270996,
          2.518636465072632,
          -17.075645446777344,
          16.571168899536133,
          -23.15620994567871,
          -26.801891326904297,
          2.065192699432373,
          -8.281861305236816,
          -6.201145648956299,
          -15.665863990783691,
          -16.88687515258789,
          -20.73121452331543,
          9.24581527709961,
          -24.029438018798828,
          -16.356306076049805,
          -10.200255393981934,
          -15.569133758544922,
          -28.345773696899414,
          -21.025455474853516,
          -9.832568168640137,
          6.120848655700684,
          -19.4406681060791,
          -14.138138771057129,
          -25.48404312133789,
          -28.423355102539062,
          14.127264022827148,
          -20.304887771606445,
          -29.591922760009766,
          -27.80733871459961,
          -11.261043548583984,
          -0.5214413404464722,
          127.60057067871094,
          -18.524980545043945,
          -17.843013763427734,
          -26.994354248046875,
          -29.461854934692383,
          -1.6086217164993286,
          -16.884567260742188,
          6.778666019439697,
          -13.283109664916992,
          10.46846866607666,
          -27.161678314208984,
          7.292974472045898,
          -1.563989281654358,
          -3.0066323280334473,
          -1.374645471572876,
          -0.4895268678665161,
          1.8690766096115112,
          2.7330658435821533,
          -9.777782440185547,
          -18.08457374572754,
          -15.269906044006348,
          0.8874223232269287,
          4.893166542053223,
          -5.919886112213135,
          -17.683881759643555,
          12.11388111114502,
          13.049344062805176,
          -4.845855236053467,
          -21.48969841003418,
          1.2905257940292358,
          -15.377307891845703,
          4.812404632568359,
          1.8874361515045166,
          10.049779891967773,
          7.970026016235352,
          -24.919008255004883
         ],
         "z": [
          9.53197193145752,
          9.57335376739502,
          7.666819095611572,
          12.332613945007324,
          -2.240938425064087,
          4.1579461097717285,
          69.30937194824219,
          3.7845757007598877,
          9.218828201293945,
          -2.7527353763580322,
          -6.6117024421691895,
          -9.284784317016602,
          1.5078284740447998,
          -0.8405643701553345,
          10.754899978637695,
          -5.201469898223877,
          -1.793112874031067,
          5.52886438369751,
          8.401768684387207,
          -11.876882553100586,
          6.62180233001709,
          -2.591778039932251,
          -14.838632583618164,
          -2.65077805519104,
          24.078472137451172,
          -21.51104736328125,
          -9.853985786437988,
          8.165149688720703,
          -0.12358630448579788,
          -6.757519721984863,
          -1.8719618320465088,
          -13.806991577148438,
          -1.3568332195281982,
          -8.068865776062012,
          -3.682899236679077,
          -7.9292988777160645,
          3.1394717693328857,
          8.026867866516113,
          -9.65349292755127,
          10.561279296875,
          0.27207931876182556,
          -12.487892150878906,
          -3.1601366996765137,
          -4.591520309448242,
          20.080402374267578,
          -11.978772163391113,
          6.3451828956604,
          -4.866749286651611,
          12.558052062988281,
          -5.335000991821289,
          -14.760540962219238,
          15.483501434326172,
          3.512901544570923,
          23.515975952148438,
          -12.816399574279785,
          -4.340579032897949,
          -7.0037713050842285,
          -2.8299262523651123,
          -7.052609443664551,
          0.05062533915042877,
          -4.988108158111572,
          -8.432863235473633,
          11.647521018981934,
          -2.98518705368042,
          23.80101203918457,
          -8.221772193908691,
          -9.2034912109375,
          19.5771484375,
          7.539278507232666,
          -1.932456374168396,
          5.040639877319336,
          -5.628282070159912,
          -9.379570007324219,
          -14.801094055175781,
          -15.422810554504395,
          -10.263843536376953,
          -6.007943153381348,
          -4.311363220214844,
          3.721047878265381,
          -5.954563617706299,
          -4.287938117980957,
          17.79243278503418,
          -2.181363821029663,
          -2.1588146686553955,
          -1.2434390783309937,
          -4.987863063812256,
          -3.26471209526062,
          6.32472562789917,
          12.5286865234375,
          -14.27605152130127,
          -3.1587657928466797,
          4.913025856018066,
          8.742948532104492,
          2.810516119003296,
          14.00421142578125,
          -4.507615566253662,
          9.067113876342773,
          3.315058708190918,
          -3.0897409915924072,
          -113.68861389160156,
          1.8277684450149536,
          2.7214672565460205,
          -7.884922504425049,
          20.4993896484375,
          -2.833489179611206,
          5.646518230438232,
          1.9443696737289429,
          1.6533063650131226,
          4.935474872589111,
          -184.99435424804688,
          -8.848250389099121,
          -16.835418701171875,
          -12.604214668273926,
          -2.0804643630981445,
          -5.894814968109131,
          -10.323206901550293,
          7.238590240478516,
          4.13508415222168,
          -8.491902351379395,
          0.769481897354126,
          6.1671576499938965,
          1.9352059364318848,
          13.307368278503418,
          -5.415008544921875,
          -4.522883892059326,
          21.3786678314209,
          0.7807945609092712,
          -7.49458122253418,
          -20.49005126953125,
          -7.104421615600586,
          -13.194361686706543,
          5.8490471839904785,
          2.5402815341949463,
          5.901520252227783,
          -7.182956695556641,
          3.5505518913269043,
          -2.052159309387207,
          -4.9472527503967285,
          17.425508499145508,
          -4.641134262084961,
          2.7535386085510254,
          105.1537857055664,
          -11.71806812286377,
          11.810522079467773,
          -2.9842734336853027,
          9.468674659729004,
          8.126065254211426,
          -2.911102771759033,
          -5.464696884155273,
          -3.654226303100586,
          1.4638711214065552,
          -5.789161682128906,
          -12.232077598571777,
          6.338399410247803,
          12.24473762512207,
          -0.7461841106414795,
          19.872364044189453,
          0.9823704361915588,
          22.571170806884766,
          11.471514701843262,
          -18.05573844909668,
          3.1034491062164307,
          -2.2439353466033936,
          10.857026100158691,
          1.4350652694702148,
          -2.1864142417907715,
          -5.15687370300293,
          -4.9389448165893555,
          14.250812530517578,
          -6.177495956420898,
          -4.362673282623291,
          9.72375774383545,
          -15.44753646850586,
          -11.780966758728027,
          6.261496067047119,
          3.3633463382720947,
          22.781843185424805,
          5.082404613494873,
          -8.905560493469238,
          28.894880294799805,
          6.184932708740234,
          -4.911586761474609,
          -10.686809539794922,
          7.166134357452393,
          4.736314296722412,
          26.403093338012695,
          7.289196968078613,
          -14.066394805908203,
          -5.073433876037598,
          -15.567999839782715,
          -17.90410041809082,
          -4.997525691986084,
          0.43947523832321167,
          -10.579927444458008,
          -18.625900268554688,
          19.84807014465332,
          10.200603485107422,
          23.4647274017334,
          10.819082260131836,
          7.953589916229248,
          13.886260986328125,
          -3.5052919387817383,
          7.662232398986816,
          -0.5304073095321655,
          7.7279953956604,
          -7.936706066131592,
          14.7390775680542,
          -4.040965557098389,
          26.403982162475586,
          -2.4740195274353027,
          0.639200747013092,
          4.417971611022949,
          3.7034912109375,
          -2.3520076274871826,
          -2.3947806358337402,
          -4.764647006988525,
          19.44810676574707,
          -11.46469497680664,
          6.437554836273193,
          16.93238067626953,
          2.19386887550354,
          9.36857795715332,
          -2.43359112739563,
          1.0783576965332031,
          4.690735340118408,
          -11.598353385925293,
          1.6183968782424927,
          -8.6487398147583,
          -5.947238445281982,
          -2.706756114959717,
          10.59556770324707,
          -5.616518020629883,
          9.563608169555664,
          -11.798802375793457,
          25.822803497314453,
          -2.8336069583892822,
          -18.043947219848633,
          -9.59210205078125,
          -7.244292736053467,
          6.383376598358154,
          5.716250896453857,
          26.957326889038086,
          -2.5538625717163086,
          0.4565325379371643,
          5.471328258514404,
          26.437467575073242,
          16.994056701660156,
          18.731624603271484,
          -8.18108081817627,
          -2.2394731044769287,
          -4.7367777824401855,
          7.165168285369873,
          2.7587292194366455,
          -8.42005443572998,
          -1.6895893812179565,
          24.420547485351562,
          -6.521223068237305,
          -251.31533813476562,
          -17.812402725219727,
          -5.89098596572876,
          2.5832061767578125,
          14.49571418762207,
          -3.250072956085205,
          -3.311398983001709,
          13.659467697143555,
          -5.340887069702148,
          4.011509418487549,
          -1.9154976606369019,
          9.69638729095459,
          7.841527938842773,
          13.328204154968262,
          3.466610908508301,
          14.358805656433105,
          8.232715606689453,
          5.121372699737549,
          -5.427995681762695,
          -4.953825950622559,
          -12.105224609375,
          7.203308582305908,
          4.5866312980651855,
          -12.759458541870117,
          2.593722105026245,
          7.223876953125,
          10.430416107177734,
          5.988039016723633,
          -14.444012641906738,
          21.24964141845703,
          -5.024855613708496,
          -7.461827278137207,
          -8.295402526855469,
          -10.776073455810547,
          10.298796653747559,
          -4.668911457061768
         ]
        },
        {
         "hovertemplate": "color=g<br>x=%{x}<br>y=%{y}<br>z=%{z}<extra></extra>",
         "legendgroup": "g",
         "marker": {
          "color": "#EF553B",
          "symbol": "circle"
         },
         "mode": "markers",
         "name": "g",
         "scene": "scene",
         "showlegend": true,
         "type": "scatter3d",
         "x": [
          7.697423934936523,
          7.258779525756836,
          18.547761917114258,
          13.493264198303223,
          1.7243993282318115,
          1.4179623126983643,
          8.812419891357422,
          12.30667495727539,
          3.2501838207244873,
          13.350851058959961,
          4.83257532119751,
          9.513137817382812,
          1.0056315660476685,
          9.77731704711914,
          -0.621317982673645,
          11.087596893310547,
          8.543438911437988,
          6.6485514640808105,
          119.45038604736328,
          0.013748791068792343,
          18.782182693481445,
          10.401054382324219,
          18.186777114868164,
          4.9118571281433105,
          16.083219528198242,
          11.511897087097168,
          15.475022315979004,
          16.06488609313965,
          19.05466079711914,
          13.101458549499512,
          7.995543956756592,
          15.77588939666748,
          9.068572044372559,
          8.362435340881348,
          22.07903480529785,
          6.7596116065979,
          6.902961730957031,
          8.086891174316406,
          14.3687162399292,
          18.539997100830078,
          13.235922813415527,
          10.457977294921875,
          8.404837608337402,
          21.565509796142578,
          21.585609436035156,
          6.600968837738037,
          7.064363956451416,
          2.4415862560272217,
          16.051517486572266,
          17.606853485107422,
          20.71451187133789,
          15.759593963623047,
          13.836289405822754,
          11.223855018615723,
          21.40593147277832,
          2.8568315505981445,
          25.203134536743164,
          13.254828453063965,
          15.336697578430176,
          8.440875053405762,
          25.67900276184082,
          13.890109062194824,
          17.452407836914062,
          23.120141983032227,
          9.965339660644531,
          5.4363789558410645,
          0.956437885761261,
          1.8093584775924683,
          3.794647216796875,
          3.0907816886901855,
          18.30752944946289,
          -31.12976837158203,
          11.464186668395996,
          10.592700958251953,
          -4.085951328277588,
          -3.614997148513794,
          -0.09093213826417923,
          0.025603393092751503,
          -0.8317543268203735,
          -5.500577926635742,
          -3.0499520301818848,
          -5.959803581237793,
          -1.6689637899398804,
          -2.4795591831207275,
          -0.99972003698349,
          -6.767575740814209,
          -2.5517489910125732,
          -5.7214860916137695,
          -20.30048179626465,
          -3.750126838684082,
          -3.098863363265991,
          -4.586777210235596,
          5.7017621994018555,
          0.9788944125175476,
          0.6293817758560181,
          -7.108649730682373,
          -12.822087287902832,
          -7.577425479888916,
          -9.279520034790039,
          2.730485677719116,
          -4.615138053894043,
          -7.43548059463501,
          -5.046298503875732,
          3.2228384017944336,
          0.5755764842033386,
          0.003441551234573126,
          -6.40046501159668,
          -5.2091169357299805,
          -3.1918282508850098,
          -6.279848575592041,
          -6.693490982055664,
          -3.8456530570983887,
          -4.283414840698242,
          14.23212718963623,
          -3.913769245147705,
          -3.621323347091675,
          -1.5615966320037842,
          -3.6409952640533447,
          -3.3407163619995117,
          -7.73508358001709
         ],
         "y": [
          23.777769088745117,
          27.417020797729492,
          19.438631057739258,
          18.347332000732422,
          28.669353485107422,
          28.447622299194336,
          24.42845916748047,
          26.709463119506836,
          31.066734313964844,
          21.177873611450195,
          25.66746711730957,
          26.06939125061035,
          30.533100128173828,
          24.06299591064453,
          27.08819580078125,
          27.062894821166992,
          26.50107765197754,
          27.265174865722656,
          7.194135665893555,
          31.576446533203125,
          19.249290466308594,
          20.899019241333008,
          16.71277618408203,
          26.7634334564209,
          20.295726776123047,
          24.955141067504883,
          22.766498565673828,
          19.271053314208984,
          19.488147735595703,
          22.861108779907227,
          25.139381408691406,
          19.34834098815918,
          26.679622650146484,
          24.887346267700195,
          14.998286247253418,
          23.109743118286133,
          25.511371612548828,
          23.162879943847656,
          17.209138870239258,
          17.172903060913086,
          19.369455337524414,
          23.537660598754883,
          24.5936279296875,
          17.289831161499023,
          15.166069984436035,
          25.37563133239746,
          26.80156135559082,
          38.10472106933594,
          19.982194900512695,
          15.942595481872559,
          17.44512939453125,
          16.474458694458008,
          25.27295684814453,
          24.558584213256836,
          18.541912078857422,
          26.137174606323242,
          15.569816589355469,
          16.27312469482422,
          21.562110900878906,
          25.0205135345459,
          15.997166633605957,
          19.294057846069336,
          18.47958755493164,
          16.20000457763672,
          24.088743209838867,
          28.021650314331055,
          24.817502975463867,
          22.06984519958496,
          24.725154876708984,
          28.206815719604492,
          14.953001976013184,
          30.665061950683594,
          27.82818603515625,
          26.343551635742188,
          9.647178649902344,
          22.322906494140625,
          7.2958526611328125,
          18.60495948791504,
          9.390308380126953,
          12.460524559020996,
          5.917353630065918,
          23.415254592895508,
          4.942521095275879,
          8.140617370605469,
          3.9042539596557617,
          14.14824104309082,
          5.399032115936279,
          12.744651794433594,
          -28.36433219909668,
          10.715322494506836,
          8.901036262512207,
          19.285240173339844,
          12.136685371398926,
          4.916201591491699,
          9.47164249420166,
          16.607826232910156,
          19.68012046813965,
          14.708717346191406,
          19.305889129638672,
          7.6441755294799805,
          11.940206527709961,
          10.044224739074707,
          15.736417770385742,
          10.483235359191895,
          11.333802223205566,
          20.708059310913086,
          12.944133758544922,
          7.568490028381348,
          21.833450317382812,
          84.0194091796875,
          17.580738067626953,
          10.49262523651123,
          23.595195770263672,
          7.279542446136475,
          23.597152709960938,
          25.2569580078125,
          15.331459045410156,
          17.33540153503418,
          12.665172576904297,
          21.059579849243164
         ],
         "z": [
          -9.234328269958496,
          6.563780784606934,
          13.252649307250977,
          22.675012588500977,
          12.067776679992676,
          7.7727131843566895,
          27.299192428588867,
          7.566989421844482,
          12.216638565063477,
          24.95664405822754,
          22.792659759521484,
          13.743245124816895,
          13.876070976257324,
          -2.504926919937134,
          5.019114971160889,
          1.961452603340149,
          8.944665908813477,
          13.280891418457031,
          44.78852462768555,
          10.924113273620605,
          6.158165454864502,
          26.752721786499023,
          11.342402458190918,
          20.51203155517578,
          21.952720642089844,
          5.576523780822754,
          17.089073181152344,
          12.314346313476562,
          1.5549989938735962,
          15.43603515625,
          23.748558044433594,
          8.55448055267334,
          -1.9826496839523315,
          18.252199172973633,
          7.3862152099609375,
          26.17429542541504,
          -4.04365348815918,
          21.968656539916992,
          25.394611358642578,
          4.797584533691406,
          27.261857986450195,
          -9.666274070739746,
          -6.371634006500244,
          5.751684188842773,
          11.83359432220459,
          -1.0237042903900146,
          2.3010106086730957,
          -36.83362579345703,
          16.699871063232422,
          13.858884811401367,
          14.245015144348145,
          22.3489990234375,
          15.859454154968262,
          1.5774638652801514,
          1.785491704940796,
          -5.701615333557129,
          7.073034286499023,
          20.31306266784668,
          9.747523307800293,
          -11.646202087402344,
          3.857192277908325,
          18.110687255859375,
          24.162580490112305,
          9.819003105163574,
          20.00321388244629,
          8.932872772216797,
          -6.9477996826171875,
          6.766127586364746,
          -8.219059944152832,
          14.890569686889648,
          24.23558235168457,
          56.71639633178711,
          4.978670597076416,
          11.108466148376465,
          -21.08344841003418,
          -19.58296012878418,
          -28.48909568786621,
          -27.214284896850586,
          -26.021282196044922,
          -21.90737533569336,
          -30.127025604248047,
          -19.00640106201172,
          -19.30973243713379,
          -22.706031799316406,
          -21.885900497436523,
          -12.353919982910156,
          -23.80036735534668,
          -15.349798202514648,
          -7.306142330169678,
          -29.400466918945312,
          -18.708662033081055,
          -25.388078689575195,
          -29.82846450805664,
          -19.455684661865234,
          -31.175790786743164,
          -23.67688751220703,
          -7.848945617675781,
          -26.91334342956543,
          -21.590850830078125,
          -30.027124404907227,
          -13.192132949829102,
          -29.289871215820312,
          -25.464258193969727,
          -30.204204559326172,
          -26.866342544555664,
          -24.95087432861328,
          -29.895977020263672,
          -30.692829132080078,
          -22.172800064086914,
          -56.28150939941406,
          -27.188945770263672,
          -15.49812126159668,
          -15.73551082611084,
          -16.000593185424805,
          -12.802376747131348,
          -18.42499351501465,
          -29.1809139251709,
          -28.78260612487793,
          -31.68842887878418,
          -20.232154846191406
         ]
        }
       ],
       "layout": {
        "legend": {
         "title": {
          "text": "color"
         },
         "tracegroupgap": 0
        },
        "margin": {
         "t": 60
        },
        "scene": {
         "domain": {
          "x": [
           0,
           1
          ],
          "y": [
           0,
           1
          ]
         },
         "xaxis": {
          "title": {
           "text": "x"
          }
         },
         "yaxis": {
          "title": {
           "text": "y"
          }
         },
         "zaxis": {
          "title": {
           "text": "z"
          }
         }
        },
        "template": {
         "data": {
          "bar": [
           {
            "error_x": {
             "color": "#2a3f5f"
            },
            "error_y": {
             "color": "#2a3f5f"
            },
            "marker": {
             "line": {
              "color": "#E5ECF6",
              "width": 0.5
             },
             "pattern": {
              "fillmode": "overlay",
              "size": 10,
              "solidity": 0.2
             }
            },
            "type": "bar"
           }
          ],
          "barpolar": [
           {
            "marker": {
             "line": {
              "color": "#E5ECF6",
              "width": 0.5
             },
             "pattern": {
              "fillmode": "overlay",
              "size": 10,
              "solidity": 0.2
             }
            },
            "type": "barpolar"
           }
          ],
          "carpet": [
           {
            "aaxis": {
             "endlinecolor": "#2a3f5f",
             "gridcolor": "white",
             "linecolor": "white",
             "minorgridcolor": "white",
             "startlinecolor": "#2a3f5f"
            },
            "baxis": {
             "endlinecolor": "#2a3f5f",
             "gridcolor": "white",
             "linecolor": "white",
             "minorgridcolor": "white",
             "startlinecolor": "#2a3f5f"
            },
            "type": "carpet"
           }
          ],
          "choropleth": [
           {
            "colorbar": {
             "outlinewidth": 0,
             "ticks": ""
            },
            "type": "choropleth"
           }
          ],
          "contour": [
           {
            "colorbar": {
             "outlinewidth": 0,
             "ticks": ""
            },
            "colorscale": [
             [
              0,
              "#0d0887"
             ],
             [
              0.1111111111111111,
              "#46039f"
             ],
             [
              0.2222222222222222,
              "#7201a8"
             ],
             [
              0.3333333333333333,
              "#9c179e"
             ],
             [
              0.4444444444444444,
              "#bd3786"
             ],
             [
              0.5555555555555556,
              "#d8576b"
             ],
             [
              0.6666666666666666,
              "#ed7953"
             ],
             [
              0.7777777777777778,
              "#fb9f3a"
             ],
             [
              0.8888888888888888,
              "#fdca26"
             ],
             [
              1,
              "#f0f921"
             ]
            ],
            "type": "contour"
           }
          ],
          "contourcarpet": [
           {
            "colorbar": {
             "outlinewidth": 0,
             "ticks": ""
            },
            "type": "contourcarpet"
           }
          ],
          "heatmap": [
           {
            "colorbar": {
             "outlinewidth": 0,
             "ticks": ""
            },
            "colorscale": [
             [
              0,
              "#0d0887"
             ],
             [
              0.1111111111111111,
              "#46039f"
             ],
             [
              0.2222222222222222,
              "#7201a8"
             ],
             [
              0.3333333333333333,
              "#9c179e"
             ],
             [
              0.4444444444444444,
              "#bd3786"
             ],
             [
              0.5555555555555556,
              "#d8576b"
             ],
             [
              0.6666666666666666,
              "#ed7953"
             ],
             [
              0.7777777777777778,
              "#fb9f3a"
             ],
             [
              0.8888888888888888,
              "#fdca26"
             ],
             [
              1,
              "#f0f921"
             ]
            ],
            "type": "heatmap"
           }
          ],
          "heatmapgl": [
           {
            "colorbar": {
             "outlinewidth": 0,
             "ticks": ""
            },
            "colorscale": [
             [
              0,
              "#0d0887"
             ],
             [
              0.1111111111111111,
              "#46039f"
             ],
             [
              0.2222222222222222,
              "#7201a8"
             ],
             [
              0.3333333333333333,
              "#9c179e"
             ],
             [
              0.4444444444444444,
              "#bd3786"
             ],
             [
              0.5555555555555556,
              "#d8576b"
             ],
             [
              0.6666666666666666,
              "#ed7953"
             ],
             [
              0.7777777777777778,
              "#fb9f3a"
             ],
             [
              0.8888888888888888,
              "#fdca26"
             ],
             [
              1,
              "#f0f921"
             ]
            ],
            "type": "heatmapgl"
           }
          ],
          "histogram": [
           {
            "marker": {
             "pattern": {
              "fillmode": "overlay",
              "size": 10,
              "solidity": 0.2
             }
            },
            "type": "histogram"
           }
          ],
          "histogram2d": [
           {
            "colorbar": {
             "outlinewidth": 0,
             "ticks": ""
            },
            "colorscale": [
             [
              0,
              "#0d0887"
             ],
             [
              0.1111111111111111,
              "#46039f"
             ],
             [
              0.2222222222222222,
              "#7201a8"
             ],
             [
              0.3333333333333333,
              "#9c179e"
             ],
             [
              0.4444444444444444,
              "#bd3786"
             ],
             [
              0.5555555555555556,
              "#d8576b"
             ],
             [
              0.6666666666666666,
              "#ed7953"
             ],
             [
              0.7777777777777778,
              "#fb9f3a"
             ],
             [
              0.8888888888888888,
              "#fdca26"
             ],
             [
              1,
              "#f0f921"
             ]
            ],
            "type": "histogram2d"
           }
          ],
          "histogram2dcontour": [
           {
            "colorbar": {
             "outlinewidth": 0,
             "ticks": ""
            },
            "colorscale": [
             [
              0,
              "#0d0887"
             ],
             [
              0.1111111111111111,
              "#46039f"
             ],
             [
              0.2222222222222222,
              "#7201a8"
             ],
             [
              0.3333333333333333,
              "#9c179e"
             ],
             [
              0.4444444444444444,
              "#bd3786"
             ],
             [
              0.5555555555555556,
              "#d8576b"
             ],
             [
              0.6666666666666666,
              "#ed7953"
             ],
             [
              0.7777777777777778,
              "#fb9f3a"
             ],
             [
              0.8888888888888888,
              "#fdca26"
             ],
             [
              1,
              "#f0f921"
             ]
            ],
            "type": "histogram2dcontour"
           }
          ],
          "mesh3d": [
           {
            "colorbar": {
             "outlinewidth": 0,
             "ticks": ""
            },
            "type": "mesh3d"
           }
          ],
          "parcoords": [
           {
            "line": {
             "colorbar": {
              "outlinewidth": 0,
              "ticks": ""
             }
            },
            "type": "parcoords"
           }
          ],
          "pie": [
           {
            "automargin": true,
            "type": "pie"
           }
          ],
          "scatter": [
           {
            "fillpattern": {
             "fillmode": "overlay",
             "size": 10,
             "solidity": 0.2
            },
            "type": "scatter"
           }
          ],
          "scatter3d": [
           {
            "line": {
             "colorbar": {
              "outlinewidth": 0,
              "ticks": ""
             }
            },
            "marker": {
             "colorbar": {
              "outlinewidth": 0,
              "ticks": ""
             }
            },
            "type": "scatter3d"
           }
          ],
          "scattercarpet": [
           {
            "marker": {
             "colorbar": {
              "outlinewidth": 0,
              "ticks": ""
             }
            },
            "type": "scattercarpet"
           }
          ],
          "scattergeo": [
           {
            "marker": {
             "colorbar": {
              "outlinewidth": 0,
              "ticks": ""
             }
            },
            "type": "scattergeo"
           }
          ],
          "scattergl": [
           {
            "marker": {
             "colorbar": {
              "outlinewidth": 0,
              "ticks": ""
             }
            },
            "type": "scattergl"
           }
          ],
          "scattermapbox": [
           {
            "marker": {
             "colorbar": {
              "outlinewidth": 0,
              "ticks": ""
             }
            },
            "type": "scattermapbox"
           }
          ],
          "scatterpolar": [
           {
            "marker": {
             "colorbar": {
              "outlinewidth": 0,
              "ticks": ""
             }
            },
            "type": "scatterpolar"
           }
          ],
          "scatterpolargl": [
           {
            "marker": {
             "colorbar": {
              "outlinewidth": 0,
              "ticks": ""
             }
            },
            "type": "scatterpolargl"
           }
          ],
          "scatterternary": [
           {
            "marker": {
             "colorbar": {
              "outlinewidth": 0,
              "ticks": ""
             }
            },
            "type": "scatterternary"
           }
          ],
          "surface": [
           {
            "colorbar": {
             "outlinewidth": 0,
             "ticks": ""
            },
            "colorscale": [
             [
              0,
              "#0d0887"
             ],
             [
              0.1111111111111111,
              "#46039f"
             ],
             [
              0.2222222222222222,
              "#7201a8"
             ],
             [
              0.3333333333333333,
              "#9c179e"
             ],
             [
              0.4444444444444444,
              "#bd3786"
             ],
             [
              0.5555555555555556,
              "#d8576b"
             ],
             [
              0.6666666666666666,
              "#ed7953"
             ],
             [
              0.7777777777777778,
              "#fb9f3a"
             ],
             [
              0.8888888888888888,
              "#fdca26"
             ],
             [
              1,
              "#f0f921"
             ]
            ],
            "type": "surface"
           }
          ],
          "table": [
           {
            "cells": {
             "fill": {
              "color": "#EBF0F8"
             },
             "line": {
              "color": "white"
             }
            },
            "header": {
             "fill": {
              "color": "#C8D4E3"
             },
             "line": {
              "color": "white"
             }
            },
            "type": "table"
           }
          ]
         },
         "layout": {
          "annotationdefaults": {
           "arrowcolor": "#2a3f5f",
           "arrowhead": 0,
           "arrowwidth": 1
          },
          "autotypenumbers": "strict",
          "coloraxis": {
           "colorbar": {
            "outlinewidth": 0,
            "ticks": ""
           }
          },
          "colorscale": {
           "diverging": [
            [
             0,
             "#8e0152"
            ],
            [
             0.1,
             "#c51b7d"
            ],
            [
             0.2,
             "#de77ae"
            ],
            [
             0.3,
             "#f1b6da"
            ],
            [
             0.4,
             "#fde0ef"
            ],
            [
             0.5,
             "#f7f7f7"
            ],
            [
             0.6,
             "#e6f5d0"
            ],
            [
             0.7,
             "#b8e186"
            ],
            [
             0.8,
             "#7fbc41"
            ],
            [
             0.9,
             "#4d9221"
            ],
            [
             1,
             "#276419"
            ]
           ],
           "sequential": [
            [
             0,
             "#0d0887"
            ],
            [
             0.1111111111111111,
             "#46039f"
            ],
            [
             0.2222222222222222,
             "#7201a8"
            ],
            [
             0.3333333333333333,
             "#9c179e"
            ],
            [
             0.4444444444444444,
             "#bd3786"
            ],
            [
             0.5555555555555556,
             "#d8576b"
            ],
            [
             0.6666666666666666,
             "#ed7953"
            ],
            [
             0.7777777777777778,
             "#fb9f3a"
            ],
            [
             0.8888888888888888,
             "#fdca26"
            ],
            [
             1,
             "#f0f921"
            ]
           ],
           "sequentialminus": [
            [
             0,
             "#0d0887"
            ],
            [
             0.1111111111111111,
             "#46039f"
            ],
            [
             0.2222222222222222,
             "#7201a8"
            ],
            [
             0.3333333333333333,
             "#9c179e"
            ],
            [
             0.4444444444444444,
             "#bd3786"
            ],
            [
             0.5555555555555556,
             "#d8576b"
            ],
            [
             0.6666666666666666,
             "#ed7953"
            ],
            [
             0.7777777777777778,
             "#fb9f3a"
            ],
            [
             0.8888888888888888,
             "#fdca26"
            ],
            [
             1,
             "#f0f921"
            ]
           ]
          },
          "colorway": [
           "#636efa",
           "#EF553B",
           "#00cc96",
           "#ab63fa",
           "#FFA15A",
           "#19d3f3",
           "#FF6692",
           "#B6E880",
           "#FF97FF",
           "#FECB52"
          ],
          "font": {
           "color": "#2a3f5f"
          },
          "geo": {
           "bgcolor": "white",
           "lakecolor": "white",
           "landcolor": "#E5ECF6",
           "showlakes": true,
           "showland": true,
           "subunitcolor": "white"
          },
          "hoverlabel": {
           "align": "left"
          },
          "hovermode": "closest",
          "mapbox": {
           "style": "light"
          },
          "paper_bgcolor": "white",
          "plot_bgcolor": "#E5ECF6",
          "polar": {
           "angularaxis": {
            "gridcolor": "white",
            "linecolor": "white",
            "ticks": ""
           },
           "bgcolor": "#E5ECF6",
           "radialaxis": {
            "gridcolor": "white",
            "linecolor": "white",
            "ticks": ""
           }
          },
          "scene": {
           "xaxis": {
            "backgroundcolor": "#E5ECF6",
            "gridcolor": "white",
            "gridwidth": 2,
            "linecolor": "white",
            "showbackground": true,
            "ticks": "",
            "zerolinecolor": "white"
           },
           "yaxis": {
            "backgroundcolor": "#E5ECF6",
            "gridcolor": "white",
            "gridwidth": 2,
            "linecolor": "white",
            "showbackground": true,
            "ticks": "",
            "zerolinecolor": "white"
           },
           "zaxis": {
            "backgroundcolor": "#E5ECF6",
            "gridcolor": "white",
            "gridwidth": 2,
            "linecolor": "white",
            "showbackground": true,
            "ticks": "",
            "zerolinecolor": "white"
           }
          },
          "shapedefaults": {
           "line": {
            "color": "#2a3f5f"
           }
          },
          "ternary": {
           "aaxis": {
            "gridcolor": "white",
            "linecolor": "white",
            "ticks": ""
           },
           "baxis": {
            "gridcolor": "white",
            "linecolor": "white",
            "ticks": ""
           },
           "bgcolor": "#E5ECF6",
           "caxis": {
            "gridcolor": "white",
            "linecolor": "white",
            "ticks": ""
           }
          },
          "title": {
           "x": 0.05
          },
          "xaxis": {
           "automargin": true,
           "gridcolor": "white",
           "linecolor": "white",
           "ticks": "",
           "title": {
            "standoff": 15
           },
           "zerolinecolor": "white",
           "zerolinewidth": 2
          },
          "yaxis": {
           "automargin": true,
           "gridcolor": "white",
           "linecolor": "white",
           "ticks": "",
           "title": {
            "standoff": 15
           },
           "zerolinecolor": "white",
           "zerolinewidth": 2
          }
         }
        }
       }
      },
      "text/html": [
       "<div>                            <div id=\"a8b100e3-c7db-4c29-bdcc-49e74a5e9268\" class=\"plotly-graph-div\" style=\"height:525px; width:100%;\"></div>            <script type=\"text/javascript\">                require([\"plotly\"], function(Plotly) {                    window.PLOTLYENV=window.PLOTLYENV || {};                                    if (document.getElementById(\"a8b100e3-c7db-4c29-bdcc-49e74a5e9268\")) {                    Plotly.newPlot(                        \"a8b100e3-c7db-4c29-bdcc-49e74a5e9268\",                        [{\"hovertemplate\":\"color=b<br>x=%{x}<br>y=%{y}<br>z=%{z}<extra></extra>\",\"legendgroup\":\"b\",\"marker\":{\"color\":\"#636efa\",\"symbol\":\"circle\"},\"mode\":\"markers\",\"name\":\"b\",\"scene\":\"scene\",\"showlegend\":true,\"x\":[-9.046331405639648,-11.44273853302002,-21.65359878540039,-10.454161643981934,4.739521503448486,-19.475872039794922,17.40998649597168,-9.488744735717773,-9.10183048248291,-0.4006132185459137,-28.92538833618164,-6.156496047973633,-15.647710800170898,6.842092037200928,2.4186394214630127,-22.01750373840332,7.418874740600586,-20.109895706176758,3.140411615371704,9.601218223571777,-7.681477069854736,-2.822824001312256,-22.153762817382812,-23.4920711517334,2.5159270763397217,-53.05295944213867,-20.876514434814453,22.53696632385254,18.218494415283203,-4.738011360168457,11.321849822998047,-30.420753479003906,-24.681163787841797,13.276442527770996,16.02425765991211,13.19835090637207,-0.4524790942668915,-7.665225505828857,9.751333236694336,-24.262834548950195,18.003067016601562,-22.20755386352539,16.76701545715332,-21.5905704498291,0.016933299601078033,10.16472339630127,-0.188185915350914,-0.545369029045105,-8.661247253417969,12.27123737335205,14.17691421508789,1.374219298362732,-3.0602657794952393,-3.1432130336761475,12.718029975891113,22.514066696166992,-7.357227802276611,-20.091787338256836,14.787997245788574,-20.44294548034668,11.562552452087402,-12.350040435791016,-13.450438499450684,-18.168781280517578,0.7296750545501709,8.441187858581543,8.892831802368164,-14.191119194030762,6.428370475769043,17.71136474609375,-16.78411102294922,-13.253026962280273,10.658899307250977,16.983154296875,12.531632423400879,5.847597122192383,-24.23939323425293,0.8367011547088623,-17.906381607055664,-23.212451934814453,13.700352668762207,4.769161224365234,21.045066833496094,24.951366424560547,26.944141387939453,3.0134897232055664,-17.8173885345459,-7.3868279457092285,-4.03265380859375,-31.240564346313477,-2.5581603050231934,-18.897409439086914,-6.155820369720459,-3.4224536418914795,-1.1587519645690918,18.633831024169922,-19.66817855834961,-5.748752593994141,-25.100772857666016,10.462860107421875,-18.787124633789062,-3.2394230365753174,9.277685165405273,-3.0637855529785156,-16.58060073852539,-2.1501715183258057,-15.762643814086914,17.20548439025879,-9.80859088897705,-81.791015625,-25.88500213623047,-27.306659698486328,-13.466221809387207,-21.783063888549805,21.90608024597168,-26.178306579589844,-10.187676429748535,22.5817928314209,0.6889179944992065,8.243086814880371,111.77555847167969,14.432371139526367,-10.683236122131348,18.909774780273438,-21.875226974487305,1.712481141090393,-23.596887588500977,-19.863386154174805,-16.37049674987793,-0.6079948544502258,-0.9830238819122314,5.461564064025879,5.218622207641602,9.420888900756836,-23.068599700927734,-15.083608627319336,-57.99257278442383,21.915943145751953,-13.269302368164062,26.272008895874023,-7.556407928466797,-2.2214200496673584,-7.438316822052002,-7.536221981048584,14.945371627807617,-13.286153793334961,-24.12965202331543,-5.632994174957275,11.121540069580078,13.428407669067383,-14.717876434326172,-16.63210105895996,-14.445272445678711,12.615036964416504,-2.2531309127807617,15.554095268249512,7.517563819885254,8.247428894042969,-14.375052452087402,-6.913936614990234,-18.74449920654297,-23.160602569580078,6.463624954223633,-21.889911651611328,-21.653825759887695,19.019359588623047,23.89085578918457,11.498507499694824,-0.3595922291278839,15.935079574584961,11.015056610107422,-8.33598804473877,-2.5350711345672607,6.526896953582764,15.086762428283691,9.853147506713867,-4.403838634490967,-21.218069076538086,-28.311573028564453,1.472746729850769,23.024507522583008,-27.26386833190918,-0.9812009930610657,-19.006839752197266,-14.563387870788574,-0.874816358089447,-18.170169830322266,-25.504581451416016,-23.460344314575195,-29.085914611816406,-15.870013236999512,16.130596160888672,-17.349424362182617,0.70964515209198,-18.17450523376465,-14.88231372833252,-0.32087424397468567,-0.31290146708488464,-0.15711086988449097,-12.32091236114502,-1.053704023361206,13.93487548828125,18.37950325012207,18.96958351135254,1.8260059356689453,-10.412586212158203,1.61017644405365,10.402091026306152,-1.1181079149246216,-13.621132850646973,24.572240829467773,4.072630405426025,-22.740121841430664,24.344881057739258,-38.88062286376953,18.040685653686523,4.244079113006592,-9.578176498413086,15.709016799926758,1.9835727214813232,18.174583435058594,20.06842041015625,-17.727121353149414,5.719417095184326,18.981515884399414,-11.758330345153809,14.255215644836426,-27.391080856323242,-16.267925262451172,-21.71391487121582,0.1479852795600891,18.608003616333008,-4.883203983306885,-23.714614868164062,1.5827901363372803,17.46265983581543,-13.065000534057617,-13.370770454406738,-28.16254997253418,18.554306030273438,-12.714818954467773,2.401414155960083,-15.110689163208008,5.053903579711914,-4.5065131187438965,-4.486534118652344,-16.506053924560547,2.0014686584472656,-16.786325454711914,0.11428079009056091,7.675745487213135,-15.224557876586914,-8.314894676208496,1.9760621786117554,6.619262218475342,-3.8100340366363525,-27.496360778808594,-118.56483459472656,-8.659415245056152,-10.529463768005371,11.215337753295898,81.71478271484375,9.197097778320312,9.216344833374023,-16.529701232910156,21.596195220947266,-25.116653442382812,10.542902946472168,-14.2475004196167,4.384600639343262,1.5435917377471924,7.662912845611572,-12.42553997039795,-1.9002189636230469,-16.467716217041016,-19.668596267700195,-7.376601219177246,7.120086193084717,-23.11838722229004,-13.888901710510254,-24.610334396362305,17.605485916137695,-23.40083122253418,-14.429879188537598,-20.432270050048828,-6.825558662414551,-12.43630599975586,-6.855988025665283,-28.456457138061523,-30.104843139648438,8.769777297973633,-22.330543518066406,22.327835083007812],\"y\":[-1.5340672731399536,6.574012279510498,-1.8590061664581299,-0.41136372089385986,-16.96223258972168,14.269585609436035,-27.497920989990234,12.495722770690918,8.527955055236816,-22.2428035736084,11.621274948120117,-9.86121654510498,6.600394248962402,-22.95342445373535,-0.994309663772583,14.901973724365234,-15.746891975402832,6.11449670791626,-23.23505401611328,-14.151230812072754,-18.99390983581543,-23.76114273071289,-8.684488296508789,14.155314445495605,-9.423970222473145,37.35771179199219,-9.008581161499023,-25.974454879760742,-9.869290351867676,-9.65532398223877,-1.3009191751480103,4.007169246673584,11.801981925964355,-8.881010055541992,2.0357797145843506,-11.895366668701172,2.9733541011810303,0.006850101985037327,6.681643009185791,10.029695510864258,-16.246273040771484,-5.687689781188965,-5.8213324546813965,-8.03565502166748,-5.769979476928711,7.677053451538086,0.7847827076911926,-25.03753662109375,3.7726967334747314,-15.074109077453613,11.354602813720703,-5.082414150238037,-0.4331987202167511,-5.324719429016113,7.166856288909912,-15.876425743103027,-10.194954872131348,20.718265533447266,-27.792743682861328,-9.152871131896973,-28.964563369750977,-16.195659637451172,5.582106590270996,-15.532862663269043,-11.88512134552002,5.096437454223633,-29.941360473632812,4.940958499908447,-21.880420684814453,-1.447306752204895,12.868429183959961,-18.14061737060547,-15.994688987731934,10.051630973815918,9.61036491394043,-31.05203628540039,11.842206954956055,-28.931198120117188,-13.614554405212402,8.024569511413574,-6.779545783996582,-19.383331298828125,-13.033788681030273,-23.372880935668945,-25.50701141357422,-27.92346954345703,15.198331832885742,12.196139335632324,1.840895652770996,1.6657421588897705,-20.32362174987793,-9.368785858154297,11.046630859375,2.1816976070404053,-0.23901543021202087,0.09213738888502121,-4.5717453956604,0.888896644115448,8.691638946533203,84.04073333740234,-11.279043197631836,-21.84109115600586,-27.648595809936523,-5.940124034881592,-17.94634246826172,-21.76734161376953,-12.668383598327637,-24.692529678344727,-19.58407974243164,23.154285430908203,-3.6616997718811035,-0.9921901822090149,-21.47683334350586,11.465152740478516,-17.896011352539062,-0.9240994453430176,-17.478626251220703,-26.075510025024414,-24.7843017578125,-27.36046600341797,-58.84355545043945,-26.56248664855957,2.5020625591278076,-16.106048583984375,18.80419158935547,-11.221720695495605,10.017218589782715,-5.749551296234131,-12.341777801513672,-29.44001007080078,-24.91731071472168,-24.06086540222168,-21.673030853271484,-26.912843704223633,-7.033667087554932,-15.212780952453613,-21.989362716674805,39.07378387451172,3.340461492538452,-24.703784942626953,13.797632217407227,70.89799499511719,-23.343299865722656,7.078225135803223,-2.5804948806762695,15.482879638671875,8.066954612731934,-20.94005584716797,3.8352320194244385,-13.614950180053711,9.195090293884277,19.539522171020508,8.181456565856934,-26.681859970092773,-22.366670608520508,-4.300848484039307,-18.474538803100586,-0.40056312084198,2.525477409362793,9.676780700683594,-10.724989891052246,12.476180076599121,-20.476518630981445,11.262657165527344,14.594732284545898,-4.460450649261475,-22.3205509185791,-26.4284610748291,-22.955080032348633,-14.693780899047852,-6.902839660644531,12.321738243103027,-26.301456451416016,-29.170372009277344,-24.349538803100586,-2.7594263553619385,-7.684845924377441,-0.6396019458770752,-1.9303383827209473,-6.569674491882324,-23.911819458007812,6.709972381591797,-30.87407684326172,-7.752499580383301,1.7057619094848633,-7.214428901672363,6.9911208152771,-2.6022753715515137,-5.642113208770752,1.697472333908081,-12.633161544799805,-28.34609031677246,-15.012086868286133,-26.80893898010254,-13.768354415893555,1.6886509656906128,-20.635656356811523,-7.566712379455566,2.596472978591919,13.581685066223145,2.2233128547668457,3.896430492401123,-26.55345344543457,-12.694981575012207,-0.7338266968727112,-9.151679039001465,-20.019012451171875,1.8799445629119873,-10.834845542907715,16.03583526611328,-25.807781219482422,0.2876308560371399,8.238428115844727,-26.54743003845215,-42.25943374633789,-2.9506189823150635,-21.734424591064453,-21.46657943725586,-27.270830154418945,-22.136302947998047,-20.029312133789062,-24.05599594116211,18.987165451049805,-25.375370025634766,-26.669729232788086,-19.037246704101562,-23.83278465270996,2.518636465072632,-17.075645446777344,16.571168899536133,-23.15620994567871,-26.801891326904297,2.065192699432373,-8.281861305236816,-6.201145648956299,-15.665863990783691,-16.88687515258789,-20.73121452331543,9.24581527709961,-24.029438018798828,-16.356306076049805,-10.200255393981934,-15.569133758544922,-28.345773696899414,-21.025455474853516,-9.832568168640137,6.120848655700684,-19.4406681060791,-14.138138771057129,-25.48404312133789,-28.423355102539062,14.127264022827148,-20.304887771606445,-29.591922760009766,-27.80733871459961,-11.261043548583984,-0.5214413404464722,127.60057067871094,-18.524980545043945,-17.843013763427734,-26.994354248046875,-29.461854934692383,-1.6086217164993286,-16.884567260742188,6.778666019439697,-13.283109664916992,10.46846866607666,-27.161678314208984,7.292974472045898,-1.563989281654358,-3.0066323280334473,-1.374645471572876,-0.4895268678665161,1.8690766096115112,2.7330658435821533,-9.777782440185547,-18.08457374572754,-15.269906044006348,0.8874223232269287,4.893166542053223,-5.919886112213135,-17.683881759643555,12.11388111114502,13.049344062805176,-4.845855236053467,-21.48969841003418,1.2905257940292358,-15.377307891845703,4.812404632568359,1.8874361515045166,10.049779891967773,7.970026016235352,-24.919008255004883],\"z\":[9.53197193145752,9.57335376739502,7.666819095611572,12.332613945007324,-2.240938425064087,4.1579461097717285,69.30937194824219,3.7845757007598877,9.218828201293945,-2.7527353763580322,-6.6117024421691895,-9.284784317016602,1.5078284740447998,-0.8405643701553345,10.754899978637695,-5.201469898223877,-1.793112874031067,5.52886438369751,8.401768684387207,-11.876882553100586,6.62180233001709,-2.591778039932251,-14.838632583618164,-2.65077805519104,24.078472137451172,-21.51104736328125,-9.853985786437988,8.165149688720703,-0.12358630448579788,-6.757519721984863,-1.8719618320465088,-13.806991577148438,-1.3568332195281982,-8.068865776062012,-3.682899236679077,-7.9292988777160645,3.1394717693328857,8.026867866516113,-9.65349292755127,10.561279296875,0.27207931876182556,-12.487892150878906,-3.1601366996765137,-4.591520309448242,20.080402374267578,-11.978772163391113,6.3451828956604,-4.866749286651611,12.558052062988281,-5.335000991821289,-14.760540962219238,15.483501434326172,3.512901544570923,23.515975952148438,-12.816399574279785,-4.340579032897949,-7.0037713050842285,-2.8299262523651123,-7.052609443664551,0.05062533915042877,-4.988108158111572,-8.432863235473633,11.647521018981934,-2.98518705368042,23.80101203918457,-8.221772193908691,-9.2034912109375,19.5771484375,7.539278507232666,-1.932456374168396,5.040639877319336,-5.628282070159912,-9.379570007324219,-14.801094055175781,-15.422810554504395,-10.263843536376953,-6.007943153381348,-4.311363220214844,3.721047878265381,-5.954563617706299,-4.287938117980957,17.79243278503418,-2.181363821029663,-2.1588146686553955,-1.2434390783309937,-4.987863063812256,-3.26471209526062,6.32472562789917,12.5286865234375,-14.27605152130127,-3.1587657928466797,4.913025856018066,8.742948532104492,2.810516119003296,14.00421142578125,-4.507615566253662,9.067113876342773,3.315058708190918,-3.0897409915924072,-113.68861389160156,1.8277684450149536,2.7214672565460205,-7.884922504425049,20.4993896484375,-2.833489179611206,5.646518230438232,1.9443696737289429,1.6533063650131226,4.935474872589111,-184.99435424804688,-8.848250389099121,-16.835418701171875,-12.604214668273926,-2.0804643630981445,-5.894814968109131,-10.323206901550293,7.238590240478516,4.13508415222168,-8.491902351379395,0.769481897354126,6.1671576499938965,1.9352059364318848,13.307368278503418,-5.415008544921875,-4.522883892059326,21.3786678314209,0.7807945609092712,-7.49458122253418,-20.49005126953125,-7.104421615600586,-13.194361686706543,5.8490471839904785,2.5402815341949463,5.901520252227783,-7.182956695556641,3.5505518913269043,-2.052159309387207,-4.9472527503967285,17.425508499145508,-4.641134262084961,2.7535386085510254,105.1537857055664,-11.71806812286377,11.810522079467773,-2.9842734336853027,9.468674659729004,8.126065254211426,-2.911102771759033,-5.464696884155273,-3.654226303100586,1.4638711214065552,-5.789161682128906,-12.232077598571777,6.338399410247803,12.24473762512207,-0.7461841106414795,19.872364044189453,0.9823704361915588,22.571170806884766,11.471514701843262,-18.05573844909668,3.1034491062164307,-2.2439353466033936,10.857026100158691,1.4350652694702148,-2.1864142417907715,-5.15687370300293,-4.9389448165893555,14.250812530517578,-6.177495956420898,-4.362673282623291,9.72375774383545,-15.44753646850586,-11.780966758728027,6.261496067047119,3.3633463382720947,22.781843185424805,5.082404613494873,-8.905560493469238,28.894880294799805,6.184932708740234,-4.911586761474609,-10.686809539794922,7.166134357452393,4.736314296722412,26.403093338012695,7.289196968078613,-14.066394805908203,-5.073433876037598,-15.567999839782715,-17.90410041809082,-4.997525691986084,0.43947523832321167,-10.579927444458008,-18.625900268554688,19.84807014465332,10.200603485107422,23.4647274017334,10.819082260131836,7.953589916229248,13.886260986328125,-3.5052919387817383,7.662232398986816,-0.5304073095321655,7.7279953956604,-7.936706066131592,14.7390775680542,-4.040965557098389,26.403982162475586,-2.4740195274353027,0.639200747013092,4.417971611022949,3.7034912109375,-2.3520076274871826,-2.3947806358337402,-4.764647006988525,19.44810676574707,-11.46469497680664,6.437554836273193,16.93238067626953,2.19386887550354,9.36857795715332,-2.43359112739563,1.0783576965332031,4.690735340118408,-11.598353385925293,1.6183968782424927,-8.6487398147583,-5.947238445281982,-2.706756114959717,10.59556770324707,-5.616518020629883,9.563608169555664,-11.798802375793457,25.822803497314453,-2.8336069583892822,-18.043947219848633,-9.59210205078125,-7.244292736053467,6.383376598358154,5.716250896453857,26.957326889038086,-2.5538625717163086,0.4565325379371643,5.471328258514404,26.437467575073242,16.994056701660156,18.731624603271484,-8.18108081817627,-2.2394731044769287,-4.7367777824401855,7.165168285369873,2.7587292194366455,-8.42005443572998,-1.6895893812179565,24.420547485351562,-6.521223068237305,-251.31533813476562,-17.812402725219727,-5.89098596572876,2.5832061767578125,14.49571418762207,-3.250072956085205,-3.311398983001709,13.659467697143555,-5.340887069702148,4.011509418487549,-1.9154976606369019,9.69638729095459,7.841527938842773,13.328204154968262,3.466610908508301,14.358805656433105,8.232715606689453,5.121372699737549,-5.427995681762695,-4.953825950622559,-12.105224609375,7.203308582305908,4.5866312980651855,-12.759458541870117,2.593722105026245,7.223876953125,10.430416107177734,5.988039016723633,-14.444012641906738,21.24964141845703,-5.024855613708496,-7.461827278137207,-8.295402526855469,-10.776073455810547,10.298796653747559,-4.668911457061768],\"type\":\"scatter3d\"},{\"hovertemplate\":\"color=g<br>x=%{x}<br>y=%{y}<br>z=%{z}<extra></extra>\",\"legendgroup\":\"g\",\"marker\":{\"color\":\"#EF553B\",\"symbol\":\"circle\"},\"mode\":\"markers\",\"name\":\"g\",\"scene\":\"scene\",\"showlegend\":true,\"x\":[7.697423934936523,7.258779525756836,18.547761917114258,13.493264198303223,1.7243993282318115,1.4179623126983643,8.812419891357422,12.30667495727539,3.2501838207244873,13.350851058959961,4.83257532119751,9.513137817382812,1.0056315660476685,9.77731704711914,-0.621317982673645,11.087596893310547,8.543438911437988,6.6485514640808105,119.45038604736328,0.013748791068792343,18.782182693481445,10.401054382324219,18.186777114868164,4.9118571281433105,16.083219528198242,11.511897087097168,15.475022315979004,16.06488609313965,19.05466079711914,13.101458549499512,7.995543956756592,15.77588939666748,9.068572044372559,8.362435340881348,22.07903480529785,6.7596116065979,6.902961730957031,8.086891174316406,14.3687162399292,18.539997100830078,13.235922813415527,10.457977294921875,8.404837608337402,21.565509796142578,21.585609436035156,6.600968837738037,7.064363956451416,2.4415862560272217,16.051517486572266,17.606853485107422,20.71451187133789,15.759593963623047,13.836289405822754,11.223855018615723,21.40593147277832,2.8568315505981445,25.203134536743164,13.254828453063965,15.336697578430176,8.440875053405762,25.67900276184082,13.890109062194824,17.452407836914062,23.120141983032227,9.965339660644531,5.4363789558410645,0.956437885761261,1.8093584775924683,3.794647216796875,3.0907816886901855,18.30752944946289,-31.12976837158203,11.464186668395996,10.592700958251953,-4.085951328277588,-3.614997148513794,-0.09093213826417923,0.025603393092751503,-0.8317543268203735,-5.500577926635742,-3.0499520301818848,-5.959803581237793,-1.6689637899398804,-2.4795591831207275,-0.99972003698349,-6.767575740814209,-2.5517489910125732,-5.7214860916137695,-20.30048179626465,-3.750126838684082,-3.098863363265991,-4.586777210235596,5.7017621994018555,0.9788944125175476,0.6293817758560181,-7.108649730682373,-12.822087287902832,-7.577425479888916,-9.279520034790039,2.730485677719116,-4.615138053894043,-7.43548059463501,-5.046298503875732,3.2228384017944336,0.5755764842033386,0.003441551234573126,-6.40046501159668,-5.2091169357299805,-3.1918282508850098,-6.279848575592041,-6.693490982055664,-3.8456530570983887,-4.283414840698242,14.23212718963623,-3.913769245147705,-3.621323347091675,-1.5615966320037842,-3.6409952640533447,-3.3407163619995117,-7.73508358001709],\"y\":[23.777769088745117,27.417020797729492,19.438631057739258,18.347332000732422,28.669353485107422,28.447622299194336,24.42845916748047,26.709463119506836,31.066734313964844,21.177873611450195,25.66746711730957,26.06939125061035,30.533100128173828,24.06299591064453,27.08819580078125,27.062894821166992,26.50107765197754,27.265174865722656,7.194135665893555,31.576446533203125,19.249290466308594,20.899019241333008,16.71277618408203,26.7634334564209,20.295726776123047,24.955141067504883,22.766498565673828,19.271053314208984,19.488147735595703,22.861108779907227,25.139381408691406,19.34834098815918,26.679622650146484,24.887346267700195,14.998286247253418,23.109743118286133,25.511371612548828,23.162879943847656,17.209138870239258,17.172903060913086,19.369455337524414,23.537660598754883,24.5936279296875,17.289831161499023,15.166069984436035,25.37563133239746,26.80156135559082,38.10472106933594,19.982194900512695,15.942595481872559,17.44512939453125,16.474458694458008,25.27295684814453,24.558584213256836,18.541912078857422,26.137174606323242,15.569816589355469,16.27312469482422,21.562110900878906,25.0205135345459,15.997166633605957,19.294057846069336,18.47958755493164,16.20000457763672,24.088743209838867,28.021650314331055,24.817502975463867,22.06984519958496,24.725154876708984,28.206815719604492,14.953001976013184,30.665061950683594,27.82818603515625,26.343551635742188,9.647178649902344,22.322906494140625,7.2958526611328125,18.60495948791504,9.390308380126953,12.460524559020996,5.917353630065918,23.415254592895508,4.942521095275879,8.140617370605469,3.9042539596557617,14.14824104309082,5.399032115936279,12.744651794433594,-28.36433219909668,10.715322494506836,8.901036262512207,19.285240173339844,12.136685371398926,4.916201591491699,9.47164249420166,16.607826232910156,19.68012046813965,14.708717346191406,19.305889129638672,7.6441755294799805,11.940206527709961,10.044224739074707,15.736417770385742,10.483235359191895,11.333802223205566,20.708059310913086,12.944133758544922,7.568490028381348,21.833450317382812,84.0194091796875,17.580738067626953,10.49262523651123,23.595195770263672,7.279542446136475,23.597152709960938,25.2569580078125,15.331459045410156,17.33540153503418,12.665172576904297,21.059579849243164],\"z\":[-9.234328269958496,6.563780784606934,13.252649307250977,22.675012588500977,12.067776679992676,7.7727131843566895,27.299192428588867,7.566989421844482,12.216638565063477,24.95664405822754,22.792659759521484,13.743245124816895,13.876070976257324,-2.504926919937134,5.019114971160889,1.961452603340149,8.944665908813477,13.280891418457031,44.78852462768555,10.924113273620605,6.158165454864502,26.752721786499023,11.342402458190918,20.51203155517578,21.952720642089844,5.576523780822754,17.089073181152344,12.314346313476562,1.5549989938735962,15.43603515625,23.748558044433594,8.55448055267334,-1.9826496839523315,18.252199172973633,7.3862152099609375,26.17429542541504,-4.04365348815918,21.968656539916992,25.394611358642578,4.797584533691406,27.261857986450195,-9.666274070739746,-6.371634006500244,5.751684188842773,11.83359432220459,-1.0237042903900146,2.3010106086730957,-36.83362579345703,16.699871063232422,13.858884811401367,14.245015144348145,22.3489990234375,15.859454154968262,1.5774638652801514,1.785491704940796,-5.701615333557129,7.073034286499023,20.31306266784668,9.747523307800293,-11.646202087402344,3.857192277908325,18.110687255859375,24.162580490112305,9.819003105163574,20.00321388244629,8.932872772216797,-6.9477996826171875,6.766127586364746,-8.219059944152832,14.890569686889648,24.23558235168457,56.71639633178711,4.978670597076416,11.108466148376465,-21.08344841003418,-19.58296012878418,-28.48909568786621,-27.214284896850586,-26.021282196044922,-21.90737533569336,-30.127025604248047,-19.00640106201172,-19.30973243713379,-22.706031799316406,-21.885900497436523,-12.353919982910156,-23.80036735534668,-15.349798202514648,-7.306142330169678,-29.400466918945312,-18.708662033081055,-25.388078689575195,-29.82846450805664,-19.455684661865234,-31.175790786743164,-23.67688751220703,-7.848945617675781,-26.91334342956543,-21.590850830078125,-30.027124404907227,-13.192132949829102,-29.289871215820312,-25.464258193969727,-30.204204559326172,-26.866342544555664,-24.95087432861328,-29.895977020263672,-30.692829132080078,-22.172800064086914,-56.28150939941406,-27.188945770263672,-15.49812126159668,-15.73551082611084,-16.000593185424805,-12.802376747131348,-18.42499351501465,-29.1809139251709,-28.78260612487793,-31.68842887878418,-20.232154846191406],\"type\":\"scatter3d\"}],                        {\"template\":{\"data\":{\"histogram2dcontour\":[{\"type\":\"histogram2dcontour\",\"colorbar\":{\"outlinewidth\":0,\"ticks\":\"\"},\"colorscale\":[[0.0,\"#0d0887\"],[0.1111111111111111,\"#46039f\"],[0.2222222222222222,\"#7201a8\"],[0.3333333333333333,\"#9c179e\"],[0.4444444444444444,\"#bd3786\"],[0.5555555555555556,\"#d8576b\"],[0.6666666666666666,\"#ed7953\"],[0.7777777777777778,\"#fb9f3a\"],[0.8888888888888888,\"#fdca26\"],[1.0,\"#f0f921\"]]}],\"choropleth\":[{\"type\":\"choropleth\",\"colorbar\":{\"outlinewidth\":0,\"ticks\":\"\"}}],\"histogram2d\":[{\"type\":\"histogram2d\",\"colorbar\":{\"outlinewidth\":0,\"ticks\":\"\"},\"colorscale\":[[0.0,\"#0d0887\"],[0.1111111111111111,\"#46039f\"],[0.2222222222222222,\"#7201a8\"],[0.3333333333333333,\"#9c179e\"],[0.4444444444444444,\"#bd3786\"],[0.5555555555555556,\"#d8576b\"],[0.6666666666666666,\"#ed7953\"],[0.7777777777777778,\"#fb9f3a\"],[0.8888888888888888,\"#fdca26\"],[1.0,\"#f0f921\"]]}],\"heatmap\":[{\"type\":\"heatmap\",\"colorbar\":{\"outlinewidth\":0,\"ticks\":\"\"},\"colorscale\":[[0.0,\"#0d0887\"],[0.1111111111111111,\"#46039f\"],[0.2222222222222222,\"#7201a8\"],[0.3333333333333333,\"#9c179e\"],[0.4444444444444444,\"#bd3786\"],[0.5555555555555556,\"#d8576b\"],[0.6666666666666666,\"#ed7953\"],[0.7777777777777778,\"#fb9f3a\"],[0.8888888888888888,\"#fdca26\"],[1.0,\"#f0f921\"]]}],\"heatmapgl\":[{\"type\":\"heatmapgl\",\"colorbar\":{\"outlinewidth\":0,\"ticks\":\"\"},\"colorscale\":[[0.0,\"#0d0887\"],[0.1111111111111111,\"#46039f\"],[0.2222222222222222,\"#7201a8\"],[0.3333333333333333,\"#9c179e\"],[0.4444444444444444,\"#bd3786\"],[0.5555555555555556,\"#d8576b\"],[0.6666666666666666,\"#ed7953\"],[0.7777777777777778,\"#fb9f3a\"],[0.8888888888888888,\"#fdca26\"],[1.0,\"#f0f921\"]]}],\"contourcarpet\":[{\"type\":\"contourcarpet\",\"colorbar\":{\"outlinewidth\":0,\"ticks\":\"\"}}],\"contour\":[{\"type\":\"contour\",\"colorbar\":{\"outlinewidth\":0,\"ticks\":\"\"},\"colorscale\":[[0.0,\"#0d0887\"],[0.1111111111111111,\"#46039f\"],[0.2222222222222222,\"#7201a8\"],[0.3333333333333333,\"#9c179e\"],[0.4444444444444444,\"#bd3786\"],[0.5555555555555556,\"#d8576b\"],[0.6666666666666666,\"#ed7953\"],[0.7777777777777778,\"#fb9f3a\"],[0.8888888888888888,\"#fdca26\"],[1.0,\"#f0f921\"]]}],\"surface\":[{\"type\":\"surface\",\"colorbar\":{\"outlinewidth\":0,\"ticks\":\"\"},\"colorscale\":[[0.0,\"#0d0887\"],[0.1111111111111111,\"#46039f\"],[0.2222222222222222,\"#7201a8\"],[0.3333333333333333,\"#9c179e\"],[0.4444444444444444,\"#bd3786\"],[0.5555555555555556,\"#d8576b\"],[0.6666666666666666,\"#ed7953\"],[0.7777777777777778,\"#fb9f3a\"],[0.8888888888888888,\"#fdca26\"],[1.0,\"#f0f921\"]]}],\"mesh3d\":[{\"type\":\"mesh3d\",\"colorbar\":{\"outlinewidth\":0,\"ticks\":\"\"}}],\"scatter\":[{\"fillpattern\":{\"fillmode\":\"overlay\",\"size\":10,\"solidity\":0.2},\"type\":\"scatter\"}],\"parcoords\":[{\"type\":\"parcoords\",\"line\":{\"colorbar\":{\"outlinewidth\":0,\"ticks\":\"\"}}}],\"scatterpolargl\":[{\"type\":\"scatterpolargl\",\"marker\":{\"colorbar\":{\"outlinewidth\":0,\"ticks\":\"\"}}}],\"bar\":[{\"error_x\":{\"color\":\"#2a3f5f\"},\"error_y\":{\"color\":\"#2a3f5f\"},\"marker\":{\"line\":{\"color\":\"#E5ECF6\",\"width\":0.5},\"pattern\":{\"fillmode\":\"overlay\",\"size\":10,\"solidity\":0.2}},\"type\":\"bar\"}],\"scattergeo\":[{\"type\":\"scattergeo\",\"marker\":{\"colorbar\":{\"outlinewidth\":0,\"ticks\":\"\"}}}],\"scatterpolar\":[{\"type\":\"scatterpolar\",\"marker\":{\"colorbar\":{\"outlinewidth\":0,\"ticks\":\"\"}}}],\"histogram\":[{\"marker\":{\"pattern\":{\"fillmode\":\"overlay\",\"size\":10,\"solidity\":0.2}},\"type\":\"histogram\"}],\"scattergl\":[{\"type\":\"scattergl\",\"marker\":{\"colorbar\":{\"outlinewidth\":0,\"ticks\":\"\"}}}],\"scatter3d\":[{\"type\":\"scatter3d\",\"line\":{\"colorbar\":{\"outlinewidth\":0,\"ticks\":\"\"}},\"marker\":{\"colorbar\":{\"outlinewidth\":0,\"ticks\":\"\"}}}],\"scattermapbox\":[{\"type\":\"scattermapbox\",\"marker\":{\"colorbar\":{\"outlinewidth\":0,\"ticks\":\"\"}}}],\"scatterternary\":[{\"type\":\"scatterternary\",\"marker\":{\"colorbar\":{\"outlinewidth\":0,\"ticks\":\"\"}}}],\"scattercarpet\":[{\"type\":\"scattercarpet\",\"marker\":{\"colorbar\":{\"outlinewidth\":0,\"ticks\":\"\"}}}],\"carpet\":[{\"aaxis\":{\"endlinecolor\":\"#2a3f5f\",\"gridcolor\":\"white\",\"linecolor\":\"white\",\"minorgridcolor\":\"white\",\"startlinecolor\":\"#2a3f5f\"},\"baxis\":{\"endlinecolor\":\"#2a3f5f\",\"gridcolor\":\"white\",\"linecolor\":\"white\",\"minorgridcolor\":\"white\",\"startlinecolor\":\"#2a3f5f\"},\"type\":\"carpet\"}],\"table\":[{\"cells\":{\"fill\":{\"color\":\"#EBF0F8\"},\"line\":{\"color\":\"white\"}},\"header\":{\"fill\":{\"color\":\"#C8D4E3\"},\"line\":{\"color\":\"white\"}},\"type\":\"table\"}],\"barpolar\":[{\"marker\":{\"line\":{\"color\":\"#E5ECF6\",\"width\":0.5},\"pattern\":{\"fillmode\":\"overlay\",\"size\":10,\"solidity\":0.2}},\"type\":\"barpolar\"}],\"pie\":[{\"automargin\":true,\"type\":\"pie\"}]},\"layout\":{\"autotypenumbers\":\"strict\",\"colorway\":[\"#636efa\",\"#EF553B\",\"#00cc96\",\"#ab63fa\",\"#FFA15A\",\"#19d3f3\",\"#FF6692\",\"#B6E880\",\"#FF97FF\",\"#FECB52\"],\"font\":{\"color\":\"#2a3f5f\"},\"hovermode\":\"closest\",\"hoverlabel\":{\"align\":\"left\"},\"paper_bgcolor\":\"white\",\"plot_bgcolor\":\"#E5ECF6\",\"polar\":{\"bgcolor\":\"#E5ECF6\",\"angularaxis\":{\"gridcolor\":\"white\",\"linecolor\":\"white\",\"ticks\":\"\"},\"radialaxis\":{\"gridcolor\":\"white\",\"linecolor\":\"white\",\"ticks\":\"\"}},\"ternary\":{\"bgcolor\":\"#E5ECF6\",\"aaxis\":{\"gridcolor\":\"white\",\"linecolor\":\"white\",\"ticks\":\"\"},\"baxis\":{\"gridcolor\":\"white\",\"linecolor\":\"white\",\"ticks\":\"\"},\"caxis\":{\"gridcolor\":\"white\",\"linecolor\":\"white\",\"ticks\":\"\"}},\"coloraxis\":{\"colorbar\":{\"outlinewidth\":0,\"ticks\":\"\"}},\"colorscale\":{\"sequential\":[[0.0,\"#0d0887\"],[0.1111111111111111,\"#46039f\"],[0.2222222222222222,\"#7201a8\"],[0.3333333333333333,\"#9c179e\"],[0.4444444444444444,\"#bd3786\"],[0.5555555555555556,\"#d8576b\"],[0.6666666666666666,\"#ed7953\"],[0.7777777777777778,\"#fb9f3a\"],[0.8888888888888888,\"#fdca26\"],[1.0,\"#f0f921\"]],\"sequentialminus\":[[0.0,\"#0d0887\"],[0.1111111111111111,\"#46039f\"],[0.2222222222222222,\"#7201a8\"],[0.3333333333333333,\"#9c179e\"],[0.4444444444444444,\"#bd3786\"],[0.5555555555555556,\"#d8576b\"],[0.6666666666666666,\"#ed7953\"],[0.7777777777777778,\"#fb9f3a\"],[0.8888888888888888,\"#fdca26\"],[1.0,\"#f0f921\"]],\"diverging\":[[0,\"#8e0152\"],[0.1,\"#c51b7d\"],[0.2,\"#de77ae\"],[0.3,\"#f1b6da\"],[0.4,\"#fde0ef\"],[0.5,\"#f7f7f7\"],[0.6,\"#e6f5d0\"],[0.7,\"#b8e186\"],[0.8,\"#7fbc41\"],[0.9,\"#4d9221\"],[1,\"#276419\"]]},\"xaxis\":{\"gridcolor\":\"white\",\"linecolor\":\"white\",\"ticks\":\"\",\"title\":{\"standoff\":15},\"zerolinecolor\":\"white\",\"automargin\":true,\"zerolinewidth\":2},\"yaxis\":{\"gridcolor\":\"white\",\"linecolor\":\"white\",\"ticks\":\"\",\"title\":{\"standoff\":15},\"zerolinecolor\":\"white\",\"automargin\":true,\"zerolinewidth\":2},\"scene\":{\"xaxis\":{\"backgroundcolor\":\"#E5ECF6\",\"gridcolor\":\"white\",\"linecolor\":\"white\",\"showbackground\":true,\"ticks\":\"\",\"zerolinecolor\":\"white\",\"gridwidth\":2},\"yaxis\":{\"backgroundcolor\":\"#E5ECF6\",\"gridcolor\":\"white\",\"linecolor\":\"white\",\"showbackground\":true,\"ticks\":\"\",\"zerolinecolor\":\"white\",\"gridwidth\":2},\"zaxis\":{\"backgroundcolor\":\"#E5ECF6\",\"gridcolor\":\"white\",\"linecolor\":\"white\",\"showbackground\":true,\"ticks\":\"\",\"zerolinecolor\":\"white\",\"gridwidth\":2}},\"shapedefaults\":{\"line\":{\"color\":\"#2a3f5f\"}},\"annotationdefaults\":{\"arrowcolor\":\"#2a3f5f\",\"arrowhead\":0,\"arrowwidth\":1},\"geo\":{\"bgcolor\":\"white\",\"landcolor\":\"#E5ECF6\",\"subunitcolor\":\"white\",\"showland\":true,\"showlakes\":true,\"lakecolor\":\"white\"},\"title\":{\"x\":0.05},\"mapbox\":{\"style\":\"light\"}}},\"scene\":{\"domain\":{\"x\":[0.0,1.0],\"y\":[0.0,1.0]},\"xaxis\":{\"title\":{\"text\":\"x\"}},\"yaxis\":{\"title\":{\"text\":\"y\"}},\"zaxis\":{\"title\":{\"text\":\"z\"}}},\"legend\":{\"title\":{\"text\":\"color\"},\"tracegroupgap\":0},\"margin\":{\"t\":60}},                        {\"responsive\": true}                    ).then(function(){\n",
       "                            \n",
       "var gd = document.getElementById('a8b100e3-c7db-4c29-bdcc-49e74a5e9268');\n",
       "var x = new MutationObserver(function (mutations, observer) {{\n",
       "        var display = window.getComputedStyle(gd).display;\n",
       "        if (!display || display === 'none') {{\n",
       "            console.log([gd, 'removed!']);\n",
       "            Plotly.purge(gd);\n",
       "            observer.disconnect();\n",
       "        }}\n",
       "}});\n",
       "\n",
       "// Listen for the removal of the full notebook cells\n",
       "var notebookContainer = gd.closest('#notebook-container');\n",
       "if (notebookContainer) {{\n",
       "    x.observe(notebookContainer, {childList: true});\n",
       "}}\n",
       "\n",
       "// Listen for the clearing of the current output cell\n",
       "var outputEl = gd.closest('.output');\n",
       "if (outputEl) {{\n",
       "    x.observe(outputEl, {childList: true});\n",
       "}}\n",
       "\n",
       "                        })                };                });            </script>        </div>"
      ]
     },
     "metadata": {},
     "output_type": "display_data"
    }
   ],
   "source": [
    "# plot using tsne \n",
    "X_embedded  = TSNE(n_components=3, perplexity=10,random_state=24).fit_transform( X )\n",
    "colors = np.array([x for x in 'bgrcmykbgrcmykbgrcmykbgrcmyk'])\n",
    "fig = px.scatter_3d(x=X_embedded [:,0],y=X_embedded [:,1],z=X_embedded [:,2],color=colors[bgm_labels])\n",
    "fig.show()"
   ]
  },
  {
   "cell_type": "markdown",
   "metadata": {},
   "source": [
    "### Mini-Batch Kmean Clustering\n",
    "\n",
    "Mini Batch K-means is a variation of K-means algorithm which introduces an idea of using small random batches of data of fixed size. For each iteration, a new random sample from the dataset is taken and used to modify the clusters and this process is repeated until convergence."
   ]
  },
  {
   "cell_type": "code",
   "execution_count": 52,
   "metadata": {},
   "outputs": [
    {
     "data": {
      "text/plain": [
       "{'batch_size': [50, 100, 150, 200],\n",
       " 'max_iter': [50, 100, 150, 200],\n",
       " 'init': ['k-means++', 'random'],\n",
       " 'n_clusters': range(2, 10),\n",
       " 'n_init': range(1, 6)}"
      ]
     },
     "execution_count": 52,
     "metadata": {},
     "output_type": "execute_result"
    }
   ],
   "source": [
    "k_mean_grid = {\n",
    "        \"batch_size\": [50, 100, 150, 200],\n",
    "        \"max_iter\": [50, 100, 150, 200],\n",
    "        \"init\": ['k-means++', 'random'],\n",
    "        \"n_clusters\": range(2, 10),\n",
    "        \"n_init\": range(1, 6)\n",
    "       }\n",
    "k_mean_grid"
   ]
  },
  {
   "cell_type": "code",
   "execution_count": 53,
   "metadata": {},
   "outputs": [],
   "source": [
    "mbk_model = MiniBatchKMeans()\n",
    "mbk_params = GridSearchCV(mbk_model,k_mean_grid,scoring=silhouette_score,cv= 10).fit(X, y)"
   ]
  },
  {
   "cell_type": "code",
   "execution_count": 54,
   "metadata": {},
   "outputs": [
    {
     "data": {
      "text/plain": [
       "(0.5030868530531581,\n",
       " {'batch_size': 150,\n",
       "  'init': 'k-means++',\n",
       "  'max_iter': 50,\n",
       "  'n_clusters': 2,\n",
       "  'n_init': 5})"
      ]
     },
     "execution_count": 54,
     "metadata": {},
     "output_type": "execute_result"
    }
   ],
   "source": [
    "mbk_params.best_score_, mbk_params.best_params_"
   ]
  },
  {
   "cell_type": "code",
   "execution_count": 55,
   "metadata": {},
   "outputs": [],
   "source": [
    "batch_size = 45\n",
    "mbk = MiniBatchKMeans(init = mbk_params.best_params_['init'],\n",
    "                      n_clusters = mbk_params.best_params_['n_clusters'],\n",
    "                      batch_size = mbk_params.best_params_['batch_size'],\n",
    "                      n_init = mbk_params.best_params_['n_init'],\n",
    "                      max_iter = mbk_params.best_params_['max_iter'],\n",
    "                      max_no_improvement = 10, verbose = 0)\n",
    "\n",
    "mbk.fit(X)\n",
    "mbk_means_cluster_centers = np.sort(mbk.cluster_centers_, axis = 0)\n",
    "mbk_means_labels = pairwise_distances_argmin(X, mbk_means_cluster_centers)\n"
   ]
  },
  {
   "cell_type": "code",
   "execution_count": 56,
   "metadata": {},
   "outputs": [],
   "source": [
    "mbk_dataset = pd.DataFrame(X.copy())\n",
    "mbk_dataset.loc[:,'Cluster'] = mbk_means_labels"
   ]
  },
  {
   "cell_type": "code",
   "execution_count": 57,
   "metadata": {},
   "outputs": [
    {
     "data": {
      "text/html": [
       "<div>\n",
       "<style scoped>\n",
       "    .dataframe tbody tr th:only-of-type {\n",
       "        vertical-align: middle;\n",
       "    }\n",
       "\n",
       "    .dataframe tbody tr th {\n",
       "        vertical-align: top;\n",
       "    }\n",
       "\n",
       "    .dataframe thead th {\n",
       "        text-align: right;\n",
       "    }\n",
       "</style>\n",
       "<table border=\"1\" class=\"dataframe\">\n",
       "  <thead>\n",
       "    <tr style=\"text-align: right;\">\n",
       "      <th></th>\n",
       "      <th>Cluster</th>\n",
       "    </tr>\n",
       "  </thead>\n",
       "  <tbody>\n",
       "    <tr>\n",
       "      <th>0</th>\n",
       "      <td>307</td>\n",
       "    </tr>\n",
       "    <tr>\n",
       "      <th>1</th>\n",
       "      <td>106</td>\n",
       "    </tr>\n",
       "  </tbody>\n",
       "</table>\n",
       "</div>"
      ],
      "text/plain": [
       "   Cluster\n",
       "0      307\n",
       "1      106"
      ]
     },
     "execution_count": 57,
     "metadata": {},
     "output_type": "execute_result"
    }
   ],
   "source": [
    "mbk_dataset.Cluster.value_counts().to_frame()"
   ]
  },
  {
   "cell_type": "code",
   "execution_count": 150,
   "metadata": {},
   "outputs": [
    {
     "data": {
      "text/html": [
       "<div>\n",
       "<style scoped>\n",
       "    .dataframe tbody tr th:only-of-type {\n",
       "        vertical-align: middle;\n",
       "    }\n",
       "\n",
       "    .dataframe tbody tr th {\n",
       "        vertical-align: top;\n",
       "    }\n",
       "\n",
       "    .dataframe thead th {\n",
       "        text-align: right;\n",
       "    }\n",
       "</style>\n",
       "<table border=\"1\" class=\"dataframe\">\n",
       "  <thead>\n",
       "    <tr style=\"text-align: right;\">\n",
       "      <th></th>\n",
       "      <th>silhouette_score</th>\n",
       "      <th>davies_bouldin_score</th>\n",
       "      <th>calinski_harabasz_score</th>\n",
       "    </tr>\n",
       "  </thead>\n",
       "  <tbody>\n",
       "    <tr>\n",
       "      <th>Mini-Batch Kmean</th>\n",
       "      <td>0.442794</td>\n",
       "      <td>1.051217</td>\n",
       "      <td>254.891933</td>\n",
       "    </tr>\n",
       "  </tbody>\n",
       "</table>\n",
       "</div>"
      ],
      "text/plain": [
       "                  silhouette_score  davies_bouldin_score  \\\n",
       "Mini-Batch Kmean          0.442794              1.051217   \n",
       "\n",
       "                  calinski_harabasz_score  \n",
       "Mini-Batch Kmean               254.891933  "
      ]
     },
     "execution_count": 150,
     "metadata": {},
     "output_type": "execute_result"
    }
   ],
   "source": [
    "kmean_df = pd.DataFrame(estimator_evaluation(mbk, 'Mini-Batch K-means', X), index=[\"Mini-Batch Kmean\"])\n",
    "kmean_df"
   ]
  },
  {
   "cell_type": "code",
   "execution_count": 60,
   "metadata": {},
   "outputs": [
    {
     "data": {
      "application/vnd.plotly.v1+json": {
       "config": {
        "plotlyServerURL": "https://plot.ly"
       },
       "data": [
        {
         "hovertemplate": "color=b<br>x=%{x}<br>y=%{y}<br>z=%{z}<extra></extra>",
         "legendgroup": "b",
         "marker": {
          "color": "#636efa",
          "symbol": "circle"
         },
         "mode": "markers",
         "name": "b",
         "scene": "scene",
         "showlegend": true,
         "type": "scatter3d",
         "x": [
          -9.046331405639648,
          -11.44273853302002,
          -21.65359878540039,
          -10.454161643981934,
          4.739521503448486,
          -19.475872039794922,
          17.40998649597168,
          -9.488744735717773,
          -9.10183048248291,
          -0.4006132185459137,
          -28.92538833618164,
          -6.156496047973633,
          -15.647710800170898,
          6.842092037200928,
          2.4186394214630127,
          -22.01750373840332,
          7.418874740600586,
          -20.109895706176758,
          3.140411615371704,
          9.601218223571777,
          -7.681477069854736,
          -2.822824001312256,
          -22.153762817382812,
          -23.4920711517334,
          2.5159270763397217,
          -53.05295944213867,
          -20.876514434814453,
          22.53696632385254,
          18.218494415283203,
          -4.738011360168457,
          11.321849822998047,
          -30.420753479003906,
          -24.681163787841797,
          13.276442527770996,
          16.02425765991211,
          13.19835090637207,
          -0.4524790942668915,
          -7.665225505828857,
          9.751333236694336,
          -24.262834548950195,
          18.003067016601562,
          -22.20755386352539,
          16.76701545715332,
          -21.5905704498291,
          0.016933299601078033,
          10.16472339630127,
          -0.188185915350914,
          -0.545369029045105,
          -8.661247253417969,
          12.27123737335205,
          14.17691421508789,
          1.374219298362732,
          -3.0602657794952393,
          -3.1432130336761475,
          12.718029975891113,
          22.514066696166992,
          -7.357227802276611,
          -20.091787338256836,
          14.787997245788574,
          -20.44294548034668,
          11.562552452087402,
          -12.350040435791016,
          -13.450438499450684,
          -18.168781280517578,
          0.7296750545501709,
          8.441187858581543,
          8.892831802368164,
          -14.191119194030762,
          6.428370475769043,
          17.71136474609375,
          -16.78411102294922,
          -13.253026962280273,
          10.658899307250977,
          12.531632423400879,
          5.847597122192383,
          -24.23939323425293,
          0.8367011547088623,
          -17.906381607055664,
          -23.212451934814453,
          13.700352668762207,
          4.769161224365234,
          21.045066833496094,
          24.951366424560547,
          26.944141387939453,
          3.0134897232055664,
          -17.8173885345459,
          -7.3868279457092285,
          -4.03265380859375,
          -31.240564346313477,
          -2.5581603050231934,
          -18.897409439086914,
          -6.155820369720459,
          -3.4224536418914795,
          -1.1587519645690918,
          18.633831024169922,
          -19.66817855834961,
          -5.748752593994141,
          -25.100772857666016,
          10.462860107421875,
          -18.787124633789062,
          -3.2394230365753174,
          9.277685165405273,
          -3.0637855529785156,
          -16.58060073852539,
          -2.1501715183258057,
          -15.762643814086914,
          17.20548439025879,
          -9.80859088897705,
          -81.791015625,
          -25.88500213623047,
          -27.306659698486328,
          -13.466221809387207,
          -21.783063888549805,
          21.90608024597168,
          -26.178306579589844,
          -10.187676429748535,
          22.5817928314209,
          0.6889179944992065,
          8.243086814880371,
          111.77555847167969,
          14.432371139526367,
          -10.683236122131348,
          18.909774780273438,
          -21.875226974487305,
          1.712481141090393,
          -23.596887588500977,
          -19.863386154174805,
          -16.37049674987793,
          -0.6079948544502258,
          -0.9830238819122314,
          5.461564064025879,
          5.218622207641602,
          9.420888900756836,
          -23.068599700927734,
          -15.083608627319336,
          -57.99257278442383,
          21.915943145751953,
          -13.269302368164062,
          26.272008895874023,
          -7.556407928466797,
          -2.2214200496673584,
          -7.438316822052002,
          -7.536221981048584,
          14.945371627807617,
          -13.286153793334961,
          -24.12965202331543,
          -5.632994174957275,
          11.121540069580078,
          13.428407669067383,
          -14.717876434326172,
          -14.445272445678711,
          12.615036964416504,
          -2.2531309127807617,
          15.554095268249512,
          7.517563819885254,
          8.247428894042969,
          -14.375052452087402,
          -6.913936614990234,
          -18.74449920654297,
          -23.160602569580078,
          6.463624954223633,
          -21.889911651611328,
          -21.653825759887695,
          19.019359588623047,
          23.89085578918457,
          11.498507499694824,
          -0.3595922291278839,
          15.935079574584961,
          11.015056610107422,
          -8.33598804473877,
          -2.5350711345672607,
          6.526896953582764,
          15.086762428283691,
          9.853147506713867,
          -4.403838634490967,
          -21.218069076538086,
          -28.311573028564453,
          1.472746729850769,
          23.024507522583008,
          -27.26386833190918,
          -0.9812009930610657,
          -19.006839752197266,
          -14.563387870788574,
          -0.874816358089447,
          -18.170169830322266,
          -25.504581451416016,
          -23.460344314575195,
          -29.085914611816406,
          -15.870013236999512,
          16.130596160888672,
          -17.349424362182617,
          0.70964515209198,
          -18.17450523376465,
          -14.88231372833252,
          -0.32087424397468567,
          -0.31290146708488464,
          -0.09093213826417923,
          -0.8317543268203735,
          -3.0499520301818848,
          -1.6689637899398804,
          -2.4795591831207275,
          -0.99972003698349,
          -2.5517489910125732,
          -3.750126838684082,
          5.7017621994018555,
          0.9788944125175476,
          0.6293817758560181,
          2.730485677719116,
          3.2228384017944336,
          0.5755764842033386,
          -5.2091169357299805,
          -3.3407163619995117,
          -0.15711086988449097,
          -12.32091236114502,
          -1.053704023361206,
          13.93487548828125,
          18.37950325012207,
          18.96958351135254,
          1.8260059356689453,
          -10.412586212158203,
          1.61017644405365,
          10.402091026306152,
          -1.1181079149246216,
          -13.621132850646973,
          24.572240829467773,
          4.072630405426025,
          -22.740121841430664,
          24.344881057739258,
          -38.88062286376953,
          18.040685653686523,
          4.244079113006592,
          -9.578176498413086,
          15.709016799926758,
          1.9835727214813232,
          18.174583435058594,
          20.06842041015625,
          -17.727121353149414,
          5.719417095184326,
          18.981515884399414,
          -11.758330345153809,
          14.255215644836426,
          -27.391080856323242,
          -16.267925262451172,
          -21.71391487121582,
          0.1479852795600891,
          18.608003616333008,
          -4.883203983306885,
          -23.714614868164062,
          1.5827901363372803,
          17.46265983581543,
          -13.065000534057617,
          -13.370770454406738,
          -28.16254997253418,
          18.554306030273438,
          -12.714818954467773,
          2.401414155960083,
          -15.110689163208008,
          5.053903579711914,
          -4.5065131187438965,
          -4.486534118652344,
          -16.506053924560547,
          2.0014686584472656,
          -16.786325454711914,
          0.11428079009056091,
          7.675745487213135,
          -15.224557876586914,
          -8.314894676208496,
          1.9760621786117554,
          6.619262218475342,
          -3.8100340366363525,
          -27.496360778808594,
          -118.56483459472656,
          -8.659415245056152,
          -10.529463768005371,
          11.215337753295898,
          81.71478271484375,
          9.197097778320312,
          9.216344833374023,
          -16.529701232910156,
          21.596195220947266,
          -25.116653442382812,
          10.542902946472168,
          -14.2475004196167,
          4.384600639343262,
          1.5435917377471924,
          7.662912845611572,
          -12.42553997039795,
          -1.9002189636230469,
          -16.467716217041016,
          -19.668596267700195,
          -7.376601219177246,
          7.120086193084717,
          -23.11838722229004,
          -13.888901710510254,
          -24.610334396362305,
          17.605485916137695,
          -23.40083122253418,
          -14.429879188537598,
          -20.432270050048828,
          -6.825558662414551,
          -12.43630599975586,
          -6.855988025665283,
          -28.456457138061523,
          -30.104843139648438,
          8.769777297973633,
          -22.330543518066406,
          22.327835083007812
         ],
         "y": [
          -1.5340672731399536,
          6.574012279510498,
          -1.8590061664581299,
          -0.41136372089385986,
          -16.96223258972168,
          14.269585609436035,
          -27.497920989990234,
          12.495722770690918,
          8.527955055236816,
          -22.2428035736084,
          11.621274948120117,
          -9.86121654510498,
          6.600394248962402,
          -22.95342445373535,
          -0.994309663772583,
          14.901973724365234,
          -15.746891975402832,
          6.11449670791626,
          -23.23505401611328,
          -14.151230812072754,
          -18.99390983581543,
          -23.76114273071289,
          -8.684488296508789,
          14.155314445495605,
          -9.423970222473145,
          37.35771179199219,
          -9.008581161499023,
          -25.974454879760742,
          -9.869290351867676,
          -9.65532398223877,
          -1.3009191751480103,
          4.007169246673584,
          11.801981925964355,
          -8.881010055541992,
          2.0357797145843506,
          -11.895366668701172,
          2.9733541011810303,
          0.006850101985037327,
          6.681643009185791,
          10.029695510864258,
          -16.246273040771484,
          -5.687689781188965,
          -5.8213324546813965,
          -8.03565502166748,
          -5.769979476928711,
          7.677053451538086,
          0.7847827076911926,
          -25.03753662109375,
          3.7726967334747314,
          -15.074109077453613,
          11.354602813720703,
          -5.082414150238037,
          -0.4331987202167511,
          -5.324719429016113,
          7.166856288909912,
          -15.876425743103027,
          -10.194954872131348,
          20.718265533447266,
          -27.792743682861328,
          -9.152871131896973,
          -28.964563369750977,
          -16.195659637451172,
          5.582106590270996,
          -15.532862663269043,
          -11.88512134552002,
          5.096437454223633,
          -29.941360473632812,
          4.940958499908447,
          -21.880420684814453,
          -1.447306752204895,
          12.868429183959961,
          -18.14061737060547,
          -15.994688987731934,
          9.61036491394043,
          -31.05203628540039,
          11.842206954956055,
          -28.931198120117188,
          -13.614554405212402,
          8.024569511413574,
          -6.779545783996582,
          -19.383331298828125,
          -13.033788681030273,
          -23.372880935668945,
          -25.50701141357422,
          -27.92346954345703,
          15.198331832885742,
          12.196139335632324,
          1.840895652770996,
          1.6657421588897705,
          -20.32362174987793,
          -9.368785858154297,
          11.046630859375,
          2.1816976070404053,
          -0.23901543021202087,
          0.09213738888502121,
          -4.5717453956604,
          0.888896644115448,
          8.691638946533203,
          84.04073333740234,
          -11.279043197631836,
          -21.84109115600586,
          -27.648595809936523,
          -5.940124034881592,
          -17.94634246826172,
          -21.76734161376953,
          -12.668383598327637,
          -24.692529678344727,
          -19.58407974243164,
          23.154285430908203,
          -3.6616997718811035,
          -0.9921901822090149,
          -21.47683334350586,
          11.465152740478516,
          -17.896011352539062,
          -0.9240994453430176,
          -17.478626251220703,
          -26.075510025024414,
          -24.7843017578125,
          -27.36046600341797,
          -58.84355545043945,
          -26.56248664855957,
          2.5020625591278076,
          -16.106048583984375,
          18.80419158935547,
          -11.221720695495605,
          10.017218589782715,
          -5.749551296234131,
          -12.341777801513672,
          -29.44001007080078,
          -24.91731071472168,
          -24.06086540222168,
          -21.673030853271484,
          -26.912843704223633,
          -7.033667087554932,
          -15.212780952453613,
          -21.989362716674805,
          39.07378387451172,
          3.340461492538452,
          -24.703784942626953,
          13.797632217407227,
          70.89799499511719,
          -23.343299865722656,
          7.078225135803223,
          -2.5804948806762695,
          15.482879638671875,
          8.066954612731934,
          -20.94005584716797,
          3.8352320194244385,
          -13.614950180053711,
          9.195090293884277,
          8.181456565856934,
          -26.681859970092773,
          -22.366670608520508,
          -4.300848484039307,
          -18.474538803100586,
          -0.40056312084198,
          2.525477409362793,
          9.676780700683594,
          -10.724989891052246,
          12.476180076599121,
          -20.476518630981445,
          11.262657165527344,
          14.594732284545898,
          -4.460450649261475,
          -22.3205509185791,
          -26.4284610748291,
          -22.955080032348633,
          -14.693780899047852,
          -6.902839660644531,
          12.321738243103027,
          -26.301456451416016,
          -29.170372009277344,
          -24.349538803100586,
          -2.7594263553619385,
          -7.684845924377441,
          -0.6396019458770752,
          -1.9303383827209473,
          -6.569674491882324,
          -23.911819458007812,
          6.709972381591797,
          -30.87407684326172,
          -7.752499580383301,
          1.7057619094848633,
          -7.214428901672363,
          6.9911208152771,
          -2.6022753715515137,
          -5.642113208770752,
          1.697472333908081,
          -12.633161544799805,
          -28.34609031677246,
          -15.012086868286133,
          -26.80893898010254,
          -13.768354415893555,
          1.6886509656906128,
          -20.635656356811523,
          -7.566712379455566,
          7.2958526611328125,
          9.390308380126953,
          5.917353630065918,
          4.942521095275879,
          8.140617370605469,
          3.9042539596557617,
          5.399032115936279,
          10.715322494506836,
          12.136685371398926,
          4.916201591491699,
          9.47164249420166,
          7.6441755294799805,
          10.483235359191895,
          11.333802223205566,
          7.568490028381348,
          12.665172576904297,
          2.596472978591919,
          13.581685066223145,
          2.2233128547668457,
          3.896430492401123,
          -26.55345344543457,
          -12.694981575012207,
          -0.7338266968727112,
          -9.151679039001465,
          -20.019012451171875,
          1.8799445629119873,
          -10.834845542907715,
          16.03583526611328,
          -25.807781219482422,
          0.2876308560371399,
          8.238428115844727,
          -26.54743003845215,
          -42.25943374633789,
          -2.9506189823150635,
          -21.734424591064453,
          -21.46657943725586,
          -27.270830154418945,
          -22.136302947998047,
          -20.029312133789062,
          -24.05599594116211,
          18.987165451049805,
          -25.375370025634766,
          -26.669729232788086,
          -19.037246704101562,
          -23.83278465270996,
          2.518636465072632,
          -17.075645446777344,
          16.571168899536133,
          -23.15620994567871,
          -26.801891326904297,
          2.065192699432373,
          -8.281861305236816,
          -6.201145648956299,
          -15.665863990783691,
          -16.88687515258789,
          -20.73121452331543,
          9.24581527709961,
          -24.029438018798828,
          -16.356306076049805,
          -10.200255393981934,
          -15.569133758544922,
          -28.345773696899414,
          -21.025455474853516,
          -9.832568168640137,
          6.120848655700684,
          -19.4406681060791,
          -14.138138771057129,
          -25.48404312133789,
          -28.423355102539062,
          14.127264022827148,
          -20.304887771606445,
          -29.591922760009766,
          -27.80733871459961,
          -11.261043548583984,
          -0.5214413404464722,
          127.60057067871094,
          -18.524980545043945,
          -17.843013763427734,
          -26.994354248046875,
          -29.461854934692383,
          -1.6086217164993286,
          -16.884567260742188,
          6.778666019439697,
          -13.283109664916992,
          10.46846866607666,
          -27.161678314208984,
          7.292974472045898,
          -1.563989281654358,
          -3.0066323280334473,
          -1.374645471572876,
          -0.4895268678665161,
          1.8690766096115112,
          2.7330658435821533,
          -9.777782440185547,
          -18.08457374572754,
          -15.269906044006348,
          0.8874223232269287,
          4.893166542053223,
          -5.919886112213135,
          -17.683881759643555,
          12.11388111114502,
          13.049344062805176,
          -4.845855236053467,
          -21.48969841003418,
          1.2905257940292358,
          -15.377307891845703,
          4.812404632568359,
          1.8874361515045166,
          10.049779891967773,
          7.970026016235352,
          -24.919008255004883
         ],
         "z": [
          9.53197193145752,
          9.57335376739502,
          7.666819095611572,
          12.332613945007324,
          -2.240938425064087,
          4.1579461097717285,
          69.30937194824219,
          3.7845757007598877,
          9.218828201293945,
          -2.7527353763580322,
          -6.6117024421691895,
          -9.284784317016602,
          1.5078284740447998,
          -0.8405643701553345,
          10.754899978637695,
          -5.201469898223877,
          -1.793112874031067,
          5.52886438369751,
          8.401768684387207,
          -11.876882553100586,
          6.62180233001709,
          -2.591778039932251,
          -14.838632583618164,
          -2.65077805519104,
          24.078472137451172,
          -21.51104736328125,
          -9.853985786437988,
          8.165149688720703,
          -0.12358630448579788,
          -6.757519721984863,
          -1.8719618320465088,
          -13.806991577148438,
          -1.3568332195281982,
          -8.068865776062012,
          -3.682899236679077,
          -7.9292988777160645,
          3.1394717693328857,
          8.026867866516113,
          -9.65349292755127,
          10.561279296875,
          0.27207931876182556,
          -12.487892150878906,
          -3.1601366996765137,
          -4.591520309448242,
          20.080402374267578,
          -11.978772163391113,
          6.3451828956604,
          -4.866749286651611,
          12.558052062988281,
          -5.335000991821289,
          -14.760540962219238,
          15.483501434326172,
          3.512901544570923,
          23.515975952148438,
          -12.816399574279785,
          -4.340579032897949,
          -7.0037713050842285,
          -2.8299262523651123,
          -7.052609443664551,
          0.05062533915042877,
          -4.988108158111572,
          -8.432863235473633,
          11.647521018981934,
          -2.98518705368042,
          23.80101203918457,
          -8.221772193908691,
          -9.2034912109375,
          19.5771484375,
          7.539278507232666,
          -1.932456374168396,
          5.040639877319336,
          -5.628282070159912,
          -9.379570007324219,
          -15.422810554504395,
          -10.263843536376953,
          -6.007943153381348,
          -4.311363220214844,
          3.721047878265381,
          -5.954563617706299,
          -4.287938117980957,
          17.79243278503418,
          -2.181363821029663,
          -2.1588146686553955,
          -1.2434390783309937,
          -4.987863063812256,
          -3.26471209526062,
          6.32472562789917,
          12.5286865234375,
          -14.27605152130127,
          -3.1587657928466797,
          4.913025856018066,
          8.742948532104492,
          2.810516119003296,
          14.00421142578125,
          -4.507615566253662,
          9.067113876342773,
          3.315058708190918,
          -3.0897409915924072,
          -113.68861389160156,
          1.8277684450149536,
          2.7214672565460205,
          -7.884922504425049,
          20.4993896484375,
          -2.833489179611206,
          5.646518230438232,
          1.9443696737289429,
          1.6533063650131226,
          4.935474872589111,
          -184.99435424804688,
          -8.848250389099121,
          -16.835418701171875,
          -12.604214668273926,
          -2.0804643630981445,
          -5.894814968109131,
          -10.323206901550293,
          7.238590240478516,
          4.13508415222168,
          -8.491902351379395,
          0.769481897354126,
          6.1671576499938965,
          1.9352059364318848,
          13.307368278503418,
          -5.415008544921875,
          -4.522883892059326,
          21.3786678314209,
          0.7807945609092712,
          -7.49458122253418,
          -20.49005126953125,
          -7.104421615600586,
          -13.194361686706543,
          5.8490471839904785,
          2.5402815341949463,
          5.901520252227783,
          -7.182956695556641,
          3.5505518913269043,
          -2.052159309387207,
          -4.9472527503967285,
          17.425508499145508,
          -4.641134262084961,
          2.7535386085510254,
          105.1537857055664,
          -11.71806812286377,
          11.810522079467773,
          -2.9842734336853027,
          9.468674659729004,
          8.126065254211426,
          -2.911102771759033,
          -5.464696884155273,
          -3.654226303100586,
          1.4638711214065552,
          -12.232077598571777,
          6.338399410247803,
          12.24473762512207,
          -0.7461841106414795,
          19.872364044189453,
          0.9823704361915588,
          22.571170806884766,
          11.471514701843262,
          -18.05573844909668,
          3.1034491062164307,
          -2.2439353466033936,
          10.857026100158691,
          1.4350652694702148,
          -2.1864142417907715,
          -5.15687370300293,
          -4.9389448165893555,
          14.250812530517578,
          -6.177495956420898,
          -4.362673282623291,
          9.72375774383545,
          -15.44753646850586,
          -11.780966758728027,
          6.261496067047119,
          3.3633463382720947,
          22.781843185424805,
          5.082404613494873,
          -8.905560493469238,
          28.894880294799805,
          6.184932708740234,
          -4.911586761474609,
          -10.686809539794922,
          7.166134357452393,
          4.736314296722412,
          26.403093338012695,
          7.289196968078613,
          -14.066394805908203,
          -5.073433876037598,
          -15.567999839782715,
          -17.90410041809082,
          -4.997525691986084,
          0.43947523832321167,
          -10.579927444458008,
          -18.625900268554688,
          19.84807014465332,
          10.200603485107422,
          23.4647274017334,
          -28.48909568786621,
          -26.021282196044922,
          -30.127025604248047,
          -19.30973243713379,
          -22.706031799316406,
          -21.885900497436523,
          -23.80036735534668,
          -29.400466918945312,
          -29.82846450805664,
          -19.455684661865234,
          -31.175790786743164,
          -30.027124404907227,
          -30.204204559326172,
          -26.866342544555664,
          -30.692829132080078,
          -31.68842887878418,
          10.819082260131836,
          7.953589916229248,
          13.886260986328125,
          -3.5052919387817383,
          7.662232398986816,
          -0.5304073095321655,
          7.7279953956604,
          -7.936706066131592,
          14.7390775680542,
          -4.040965557098389,
          26.403982162475586,
          -2.4740195274353027,
          0.639200747013092,
          4.417971611022949,
          3.7034912109375,
          -2.3520076274871826,
          -2.3947806358337402,
          -4.764647006988525,
          19.44810676574707,
          -11.46469497680664,
          6.437554836273193,
          16.93238067626953,
          2.19386887550354,
          9.36857795715332,
          -2.43359112739563,
          1.0783576965332031,
          4.690735340118408,
          -11.598353385925293,
          1.6183968782424927,
          -8.6487398147583,
          -5.947238445281982,
          -2.706756114959717,
          10.59556770324707,
          -5.616518020629883,
          9.563608169555664,
          -11.798802375793457,
          25.822803497314453,
          -2.8336069583892822,
          -18.043947219848633,
          -9.59210205078125,
          -7.244292736053467,
          6.383376598358154,
          5.716250896453857,
          26.957326889038086,
          -2.5538625717163086,
          0.4565325379371643,
          5.471328258514404,
          26.437467575073242,
          16.994056701660156,
          18.731624603271484,
          -8.18108081817627,
          -2.2394731044769287,
          -4.7367777824401855,
          7.165168285369873,
          2.7587292194366455,
          -8.42005443572998,
          -1.6895893812179565,
          24.420547485351562,
          -6.521223068237305,
          -251.31533813476562,
          -17.812402725219727,
          -5.89098596572876,
          2.5832061767578125,
          14.49571418762207,
          -3.250072956085205,
          -3.311398983001709,
          13.659467697143555,
          -5.340887069702148,
          4.011509418487549,
          -1.9154976606369019,
          9.69638729095459,
          7.841527938842773,
          13.328204154968262,
          3.466610908508301,
          14.358805656433105,
          8.232715606689453,
          5.121372699737549,
          -5.427995681762695,
          -4.953825950622559,
          -12.105224609375,
          7.203308582305908,
          4.5866312980651855,
          -12.759458541870117,
          2.593722105026245,
          7.223876953125,
          10.430416107177734,
          5.988039016723633,
          -14.444012641906738,
          21.24964141845703,
          -5.024855613708496,
          -7.461827278137207,
          -8.295402526855469,
          -10.776073455810547,
          10.298796653747559,
          -4.668911457061768
         ]
        },
        {
         "hovertemplate": "color=g<br>x=%{x}<br>y=%{y}<br>z=%{z}<extra></extra>",
         "legendgroup": "g",
         "marker": {
          "color": "#EF553B",
          "symbol": "circle"
         },
         "mode": "markers",
         "name": "g",
         "scene": "scene",
         "showlegend": true,
         "type": "scatter3d",
         "x": [
          16.983154296875,
          -16.63210105895996,
          7.697423934936523,
          7.258779525756836,
          18.547761917114258,
          13.493264198303223,
          1.7243993282318115,
          1.4179623126983643,
          8.812419891357422,
          12.30667495727539,
          3.2501838207244873,
          13.350851058959961,
          4.83257532119751,
          9.513137817382812,
          1.0056315660476685,
          9.77731704711914,
          -0.621317982673645,
          11.087596893310547,
          8.543438911437988,
          6.6485514640808105,
          119.45038604736328,
          0.013748791068792343,
          18.782182693481445,
          10.401054382324219,
          18.186777114868164,
          4.9118571281433105,
          16.083219528198242,
          11.511897087097168,
          15.475022315979004,
          16.06488609313965,
          19.05466079711914,
          13.101458549499512,
          7.995543956756592,
          15.77588939666748,
          9.068572044372559,
          8.362435340881348,
          22.07903480529785,
          6.7596116065979,
          6.902961730957031,
          8.086891174316406,
          14.3687162399292,
          18.539997100830078,
          13.235922813415527,
          10.457977294921875,
          8.404837608337402,
          21.565509796142578,
          21.585609436035156,
          6.600968837738037,
          7.064363956451416,
          2.4415862560272217,
          16.051517486572266,
          17.606853485107422,
          20.71451187133789,
          15.759593963623047,
          13.836289405822754,
          11.223855018615723,
          21.40593147277832,
          2.8568315505981445,
          25.203134536743164,
          13.254828453063965,
          15.336697578430176,
          8.440875053405762,
          25.67900276184082,
          13.890109062194824,
          17.452407836914062,
          23.120141983032227,
          9.965339660644531,
          5.4363789558410645,
          0.956437885761261,
          1.8093584775924683,
          3.794647216796875,
          3.0907816886901855,
          18.30752944946289,
          -31.12976837158203,
          11.464186668395996,
          10.592700958251953,
          -4.085951328277588,
          -3.614997148513794,
          0.025603393092751503,
          -5.500577926635742,
          -5.959803581237793,
          -6.767575740814209,
          -5.7214860916137695,
          -20.30048179626465,
          -3.098863363265991,
          -4.586777210235596,
          -7.108649730682373,
          -12.822087287902832,
          -7.577425479888916,
          -9.279520034790039,
          -4.615138053894043,
          -7.43548059463501,
          -5.046298503875732,
          0.003441551234573126,
          -6.40046501159668,
          -3.1918282508850098,
          -6.279848575592041,
          -6.693490982055664,
          -3.8456530570983887,
          -4.283414840698242,
          14.23212718963623,
          -3.913769245147705,
          -3.621323347091675,
          -1.5615966320037842,
          -3.6409952640533447,
          -7.73508358001709
         ],
         "y": [
          10.051630973815918,
          19.539522171020508,
          23.777769088745117,
          27.417020797729492,
          19.438631057739258,
          18.347332000732422,
          28.669353485107422,
          28.447622299194336,
          24.42845916748047,
          26.709463119506836,
          31.066734313964844,
          21.177873611450195,
          25.66746711730957,
          26.06939125061035,
          30.533100128173828,
          24.06299591064453,
          27.08819580078125,
          27.062894821166992,
          26.50107765197754,
          27.265174865722656,
          7.194135665893555,
          31.576446533203125,
          19.249290466308594,
          20.899019241333008,
          16.71277618408203,
          26.7634334564209,
          20.295726776123047,
          24.955141067504883,
          22.766498565673828,
          19.271053314208984,
          19.488147735595703,
          22.861108779907227,
          25.139381408691406,
          19.34834098815918,
          26.679622650146484,
          24.887346267700195,
          14.998286247253418,
          23.109743118286133,
          25.511371612548828,
          23.162879943847656,
          17.209138870239258,
          17.172903060913086,
          19.369455337524414,
          23.537660598754883,
          24.5936279296875,
          17.289831161499023,
          15.166069984436035,
          25.37563133239746,
          26.80156135559082,
          38.10472106933594,
          19.982194900512695,
          15.942595481872559,
          17.44512939453125,
          16.474458694458008,
          25.27295684814453,
          24.558584213256836,
          18.541912078857422,
          26.137174606323242,
          15.569816589355469,
          16.27312469482422,
          21.562110900878906,
          25.0205135345459,
          15.997166633605957,
          19.294057846069336,
          18.47958755493164,
          16.20000457763672,
          24.088743209838867,
          28.021650314331055,
          24.817502975463867,
          22.06984519958496,
          24.725154876708984,
          28.206815719604492,
          14.953001976013184,
          30.665061950683594,
          27.82818603515625,
          26.343551635742188,
          9.647178649902344,
          22.322906494140625,
          18.60495948791504,
          12.460524559020996,
          23.415254592895508,
          14.14824104309082,
          12.744651794433594,
          -28.36433219909668,
          8.901036262512207,
          19.285240173339844,
          16.607826232910156,
          19.68012046813965,
          14.708717346191406,
          19.305889129638672,
          11.940206527709961,
          10.044224739074707,
          15.736417770385742,
          20.708059310913086,
          12.944133758544922,
          21.833450317382812,
          84.0194091796875,
          17.580738067626953,
          10.49262523651123,
          23.595195770263672,
          7.279542446136475,
          23.597152709960938,
          25.2569580078125,
          15.331459045410156,
          17.33540153503418,
          21.059579849243164
         ],
         "z": [
          -14.801094055175781,
          -5.789161682128906,
          -9.234328269958496,
          6.563780784606934,
          13.252649307250977,
          22.675012588500977,
          12.067776679992676,
          7.7727131843566895,
          27.299192428588867,
          7.566989421844482,
          12.216638565063477,
          24.95664405822754,
          22.792659759521484,
          13.743245124816895,
          13.876070976257324,
          -2.504926919937134,
          5.019114971160889,
          1.961452603340149,
          8.944665908813477,
          13.280891418457031,
          44.78852462768555,
          10.924113273620605,
          6.158165454864502,
          26.752721786499023,
          11.342402458190918,
          20.51203155517578,
          21.952720642089844,
          5.576523780822754,
          17.089073181152344,
          12.314346313476562,
          1.5549989938735962,
          15.43603515625,
          23.748558044433594,
          8.55448055267334,
          -1.9826496839523315,
          18.252199172973633,
          7.3862152099609375,
          26.17429542541504,
          -4.04365348815918,
          21.968656539916992,
          25.394611358642578,
          4.797584533691406,
          27.261857986450195,
          -9.666274070739746,
          -6.371634006500244,
          5.751684188842773,
          11.83359432220459,
          -1.0237042903900146,
          2.3010106086730957,
          -36.83362579345703,
          16.699871063232422,
          13.858884811401367,
          14.245015144348145,
          22.3489990234375,
          15.859454154968262,
          1.5774638652801514,
          1.785491704940796,
          -5.701615333557129,
          7.073034286499023,
          20.31306266784668,
          9.747523307800293,
          -11.646202087402344,
          3.857192277908325,
          18.110687255859375,
          24.162580490112305,
          9.819003105163574,
          20.00321388244629,
          8.932872772216797,
          -6.9477996826171875,
          6.766127586364746,
          -8.219059944152832,
          14.890569686889648,
          24.23558235168457,
          56.71639633178711,
          4.978670597076416,
          11.108466148376465,
          -21.08344841003418,
          -19.58296012878418,
          -27.214284896850586,
          -21.90737533569336,
          -19.00640106201172,
          -12.353919982910156,
          -15.349798202514648,
          -7.306142330169678,
          -18.708662033081055,
          -25.388078689575195,
          -23.67688751220703,
          -7.848945617675781,
          -26.91334342956543,
          -21.590850830078125,
          -13.192132949829102,
          -29.289871215820312,
          -25.464258193969727,
          -24.95087432861328,
          -29.895977020263672,
          -22.172800064086914,
          -56.28150939941406,
          -27.188945770263672,
          -15.49812126159668,
          -15.73551082611084,
          -16.000593185424805,
          -12.802376747131348,
          -18.42499351501465,
          -29.1809139251709,
          -28.78260612487793,
          -20.232154846191406
         ]
        }
       ],
       "layout": {
        "legend": {
         "title": {
          "text": "color"
         },
         "tracegroupgap": 0
        },
        "margin": {
         "t": 60
        },
        "scene": {
         "domain": {
          "x": [
           0,
           1
          ],
          "y": [
           0,
           1
          ]
         },
         "xaxis": {
          "title": {
           "text": "x"
          }
         },
         "yaxis": {
          "title": {
           "text": "y"
          }
         },
         "zaxis": {
          "title": {
           "text": "z"
          }
         }
        },
        "template": {
         "data": {
          "bar": [
           {
            "error_x": {
             "color": "#2a3f5f"
            },
            "error_y": {
             "color": "#2a3f5f"
            },
            "marker": {
             "line": {
              "color": "#E5ECF6",
              "width": 0.5
             },
             "pattern": {
              "fillmode": "overlay",
              "size": 10,
              "solidity": 0.2
             }
            },
            "type": "bar"
           }
          ],
          "barpolar": [
           {
            "marker": {
             "line": {
              "color": "#E5ECF6",
              "width": 0.5
             },
             "pattern": {
              "fillmode": "overlay",
              "size": 10,
              "solidity": 0.2
             }
            },
            "type": "barpolar"
           }
          ],
          "carpet": [
           {
            "aaxis": {
             "endlinecolor": "#2a3f5f",
             "gridcolor": "white",
             "linecolor": "white",
             "minorgridcolor": "white",
             "startlinecolor": "#2a3f5f"
            },
            "baxis": {
             "endlinecolor": "#2a3f5f",
             "gridcolor": "white",
             "linecolor": "white",
             "minorgridcolor": "white",
             "startlinecolor": "#2a3f5f"
            },
            "type": "carpet"
           }
          ],
          "choropleth": [
           {
            "colorbar": {
             "outlinewidth": 0,
             "ticks": ""
            },
            "type": "choropleth"
           }
          ],
          "contour": [
           {
            "colorbar": {
             "outlinewidth": 0,
             "ticks": ""
            },
            "colorscale": [
             [
              0,
              "#0d0887"
             ],
             [
              0.1111111111111111,
              "#46039f"
             ],
             [
              0.2222222222222222,
              "#7201a8"
             ],
             [
              0.3333333333333333,
              "#9c179e"
             ],
             [
              0.4444444444444444,
              "#bd3786"
             ],
             [
              0.5555555555555556,
              "#d8576b"
             ],
             [
              0.6666666666666666,
              "#ed7953"
             ],
             [
              0.7777777777777778,
              "#fb9f3a"
             ],
             [
              0.8888888888888888,
              "#fdca26"
             ],
             [
              1,
              "#f0f921"
             ]
            ],
            "type": "contour"
           }
          ],
          "contourcarpet": [
           {
            "colorbar": {
             "outlinewidth": 0,
             "ticks": ""
            },
            "type": "contourcarpet"
           }
          ],
          "heatmap": [
           {
            "colorbar": {
             "outlinewidth": 0,
             "ticks": ""
            },
            "colorscale": [
             [
              0,
              "#0d0887"
             ],
             [
              0.1111111111111111,
              "#46039f"
             ],
             [
              0.2222222222222222,
              "#7201a8"
             ],
             [
              0.3333333333333333,
              "#9c179e"
             ],
             [
              0.4444444444444444,
              "#bd3786"
             ],
             [
              0.5555555555555556,
              "#d8576b"
             ],
             [
              0.6666666666666666,
              "#ed7953"
             ],
             [
              0.7777777777777778,
              "#fb9f3a"
             ],
             [
              0.8888888888888888,
              "#fdca26"
             ],
             [
              1,
              "#f0f921"
             ]
            ],
            "type": "heatmap"
           }
          ],
          "heatmapgl": [
           {
            "colorbar": {
             "outlinewidth": 0,
             "ticks": ""
            },
            "colorscale": [
             [
              0,
              "#0d0887"
             ],
             [
              0.1111111111111111,
              "#46039f"
             ],
             [
              0.2222222222222222,
              "#7201a8"
             ],
             [
              0.3333333333333333,
              "#9c179e"
             ],
             [
              0.4444444444444444,
              "#bd3786"
             ],
             [
              0.5555555555555556,
              "#d8576b"
             ],
             [
              0.6666666666666666,
              "#ed7953"
             ],
             [
              0.7777777777777778,
              "#fb9f3a"
             ],
             [
              0.8888888888888888,
              "#fdca26"
             ],
             [
              1,
              "#f0f921"
             ]
            ],
            "type": "heatmapgl"
           }
          ],
          "histogram": [
           {
            "marker": {
             "pattern": {
              "fillmode": "overlay",
              "size": 10,
              "solidity": 0.2
             }
            },
            "type": "histogram"
           }
          ],
          "histogram2d": [
           {
            "colorbar": {
             "outlinewidth": 0,
             "ticks": ""
            },
            "colorscale": [
             [
              0,
              "#0d0887"
             ],
             [
              0.1111111111111111,
              "#46039f"
             ],
             [
              0.2222222222222222,
              "#7201a8"
             ],
             [
              0.3333333333333333,
              "#9c179e"
             ],
             [
              0.4444444444444444,
              "#bd3786"
             ],
             [
              0.5555555555555556,
              "#d8576b"
             ],
             [
              0.6666666666666666,
              "#ed7953"
             ],
             [
              0.7777777777777778,
              "#fb9f3a"
             ],
             [
              0.8888888888888888,
              "#fdca26"
             ],
             [
              1,
              "#f0f921"
             ]
            ],
            "type": "histogram2d"
           }
          ],
          "histogram2dcontour": [
           {
            "colorbar": {
             "outlinewidth": 0,
             "ticks": ""
            },
            "colorscale": [
             [
              0,
              "#0d0887"
             ],
             [
              0.1111111111111111,
              "#46039f"
             ],
             [
              0.2222222222222222,
              "#7201a8"
             ],
             [
              0.3333333333333333,
              "#9c179e"
             ],
             [
              0.4444444444444444,
              "#bd3786"
             ],
             [
              0.5555555555555556,
              "#d8576b"
             ],
             [
              0.6666666666666666,
              "#ed7953"
             ],
             [
              0.7777777777777778,
              "#fb9f3a"
             ],
             [
              0.8888888888888888,
              "#fdca26"
             ],
             [
              1,
              "#f0f921"
             ]
            ],
            "type": "histogram2dcontour"
           }
          ],
          "mesh3d": [
           {
            "colorbar": {
             "outlinewidth": 0,
             "ticks": ""
            },
            "type": "mesh3d"
           }
          ],
          "parcoords": [
           {
            "line": {
             "colorbar": {
              "outlinewidth": 0,
              "ticks": ""
             }
            },
            "type": "parcoords"
           }
          ],
          "pie": [
           {
            "automargin": true,
            "type": "pie"
           }
          ],
          "scatter": [
           {
            "fillpattern": {
             "fillmode": "overlay",
             "size": 10,
             "solidity": 0.2
            },
            "type": "scatter"
           }
          ],
          "scatter3d": [
           {
            "line": {
             "colorbar": {
              "outlinewidth": 0,
              "ticks": ""
             }
            },
            "marker": {
             "colorbar": {
              "outlinewidth": 0,
              "ticks": ""
             }
            },
            "type": "scatter3d"
           }
          ],
          "scattercarpet": [
           {
            "marker": {
             "colorbar": {
              "outlinewidth": 0,
              "ticks": ""
             }
            },
            "type": "scattercarpet"
           }
          ],
          "scattergeo": [
           {
            "marker": {
             "colorbar": {
              "outlinewidth": 0,
              "ticks": ""
             }
            },
            "type": "scattergeo"
           }
          ],
          "scattergl": [
           {
            "marker": {
             "colorbar": {
              "outlinewidth": 0,
              "ticks": ""
             }
            },
            "type": "scattergl"
           }
          ],
          "scattermapbox": [
           {
            "marker": {
             "colorbar": {
              "outlinewidth": 0,
              "ticks": ""
             }
            },
            "type": "scattermapbox"
           }
          ],
          "scatterpolar": [
           {
            "marker": {
             "colorbar": {
              "outlinewidth": 0,
              "ticks": ""
             }
            },
            "type": "scatterpolar"
           }
          ],
          "scatterpolargl": [
           {
            "marker": {
             "colorbar": {
              "outlinewidth": 0,
              "ticks": ""
             }
            },
            "type": "scatterpolargl"
           }
          ],
          "scatterternary": [
           {
            "marker": {
             "colorbar": {
              "outlinewidth": 0,
              "ticks": ""
             }
            },
            "type": "scatterternary"
           }
          ],
          "surface": [
           {
            "colorbar": {
             "outlinewidth": 0,
             "ticks": ""
            },
            "colorscale": [
             [
              0,
              "#0d0887"
             ],
             [
              0.1111111111111111,
              "#46039f"
             ],
             [
              0.2222222222222222,
              "#7201a8"
             ],
             [
              0.3333333333333333,
              "#9c179e"
             ],
             [
              0.4444444444444444,
              "#bd3786"
             ],
             [
              0.5555555555555556,
              "#d8576b"
             ],
             [
              0.6666666666666666,
              "#ed7953"
             ],
             [
              0.7777777777777778,
              "#fb9f3a"
             ],
             [
              0.8888888888888888,
              "#fdca26"
             ],
             [
              1,
              "#f0f921"
             ]
            ],
            "type": "surface"
           }
          ],
          "table": [
           {
            "cells": {
             "fill": {
              "color": "#EBF0F8"
             },
             "line": {
              "color": "white"
             }
            },
            "header": {
             "fill": {
              "color": "#C8D4E3"
             },
             "line": {
              "color": "white"
             }
            },
            "type": "table"
           }
          ]
         },
         "layout": {
          "annotationdefaults": {
           "arrowcolor": "#2a3f5f",
           "arrowhead": 0,
           "arrowwidth": 1
          },
          "autotypenumbers": "strict",
          "coloraxis": {
           "colorbar": {
            "outlinewidth": 0,
            "ticks": ""
           }
          },
          "colorscale": {
           "diverging": [
            [
             0,
             "#8e0152"
            ],
            [
             0.1,
             "#c51b7d"
            ],
            [
             0.2,
             "#de77ae"
            ],
            [
             0.3,
             "#f1b6da"
            ],
            [
             0.4,
             "#fde0ef"
            ],
            [
             0.5,
             "#f7f7f7"
            ],
            [
             0.6,
             "#e6f5d0"
            ],
            [
             0.7,
             "#b8e186"
            ],
            [
             0.8,
             "#7fbc41"
            ],
            [
             0.9,
             "#4d9221"
            ],
            [
             1,
             "#276419"
            ]
           ],
           "sequential": [
            [
             0,
             "#0d0887"
            ],
            [
             0.1111111111111111,
             "#46039f"
            ],
            [
             0.2222222222222222,
             "#7201a8"
            ],
            [
             0.3333333333333333,
             "#9c179e"
            ],
            [
             0.4444444444444444,
             "#bd3786"
            ],
            [
             0.5555555555555556,
             "#d8576b"
            ],
            [
             0.6666666666666666,
             "#ed7953"
            ],
            [
             0.7777777777777778,
             "#fb9f3a"
            ],
            [
             0.8888888888888888,
             "#fdca26"
            ],
            [
             1,
             "#f0f921"
            ]
           ],
           "sequentialminus": [
            [
             0,
             "#0d0887"
            ],
            [
             0.1111111111111111,
             "#46039f"
            ],
            [
             0.2222222222222222,
             "#7201a8"
            ],
            [
             0.3333333333333333,
             "#9c179e"
            ],
            [
             0.4444444444444444,
             "#bd3786"
            ],
            [
             0.5555555555555556,
             "#d8576b"
            ],
            [
             0.6666666666666666,
             "#ed7953"
            ],
            [
             0.7777777777777778,
             "#fb9f3a"
            ],
            [
             0.8888888888888888,
             "#fdca26"
            ],
            [
             1,
             "#f0f921"
            ]
           ]
          },
          "colorway": [
           "#636efa",
           "#EF553B",
           "#00cc96",
           "#ab63fa",
           "#FFA15A",
           "#19d3f3",
           "#FF6692",
           "#B6E880",
           "#FF97FF",
           "#FECB52"
          ],
          "font": {
           "color": "#2a3f5f"
          },
          "geo": {
           "bgcolor": "white",
           "lakecolor": "white",
           "landcolor": "#E5ECF6",
           "showlakes": true,
           "showland": true,
           "subunitcolor": "white"
          },
          "hoverlabel": {
           "align": "left"
          },
          "hovermode": "closest",
          "mapbox": {
           "style": "light"
          },
          "paper_bgcolor": "white",
          "plot_bgcolor": "#E5ECF6",
          "polar": {
           "angularaxis": {
            "gridcolor": "white",
            "linecolor": "white",
            "ticks": ""
           },
           "bgcolor": "#E5ECF6",
           "radialaxis": {
            "gridcolor": "white",
            "linecolor": "white",
            "ticks": ""
           }
          },
          "scene": {
           "xaxis": {
            "backgroundcolor": "#E5ECF6",
            "gridcolor": "white",
            "gridwidth": 2,
            "linecolor": "white",
            "showbackground": true,
            "ticks": "",
            "zerolinecolor": "white"
           },
           "yaxis": {
            "backgroundcolor": "#E5ECF6",
            "gridcolor": "white",
            "gridwidth": 2,
            "linecolor": "white",
            "showbackground": true,
            "ticks": "",
            "zerolinecolor": "white"
           },
           "zaxis": {
            "backgroundcolor": "#E5ECF6",
            "gridcolor": "white",
            "gridwidth": 2,
            "linecolor": "white",
            "showbackground": true,
            "ticks": "",
            "zerolinecolor": "white"
           }
          },
          "shapedefaults": {
           "line": {
            "color": "#2a3f5f"
           }
          },
          "ternary": {
           "aaxis": {
            "gridcolor": "white",
            "linecolor": "white",
            "ticks": ""
           },
           "baxis": {
            "gridcolor": "white",
            "linecolor": "white",
            "ticks": ""
           },
           "bgcolor": "#E5ECF6",
           "caxis": {
            "gridcolor": "white",
            "linecolor": "white",
            "ticks": ""
           }
          },
          "title": {
           "x": 0.05
          },
          "xaxis": {
           "automargin": true,
           "gridcolor": "white",
           "linecolor": "white",
           "ticks": "",
           "title": {
            "standoff": 15
           },
           "zerolinecolor": "white",
           "zerolinewidth": 2
          },
          "yaxis": {
           "automargin": true,
           "gridcolor": "white",
           "linecolor": "white",
           "ticks": "",
           "title": {
            "standoff": 15
           },
           "zerolinecolor": "white",
           "zerolinewidth": 2
          }
         }
        }
       }
      },
      "text/html": [
       "<div>                            <div id=\"829a9ba1-fafd-4166-9830-cf65674648ed\" class=\"plotly-graph-div\" style=\"height:525px; width:100%;\"></div>            <script type=\"text/javascript\">                require([\"plotly\"], function(Plotly) {                    window.PLOTLYENV=window.PLOTLYENV || {};                                    if (document.getElementById(\"829a9ba1-fafd-4166-9830-cf65674648ed\")) {                    Plotly.newPlot(                        \"829a9ba1-fafd-4166-9830-cf65674648ed\",                        [{\"hovertemplate\":\"color=b<br>x=%{x}<br>y=%{y}<br>z=%{z}<extra></extra>\",\"legendgroup\":\"b\",\"marker\":{\"color\":\"#636efa\",\"symbol\":\"circle\"},\"mode\":\"markers\",\"name\":\"b\",\"scene\":\"scene\",\"showlegend\":true,\"x\":[-9.046331405639648,-11.44273853302002,-21.65359878540039,-10.454161643981934,4.739521503448486,-19.475872039794922,17.40998649597168,-9.488744735717773,-9.10183048248291,-0.4006132185459137,-28.92538833618164,-6.156496047973633,-15.647710800170898,6.842092037200928,2.4186394214630127,-22.01750373840332,7.418874740600586,-20.109895706176758,3.140411615371704,9.601218223571777,-7.681477069854736,-2.822824001312256,-22.153762817382812,-23.4920711517334,2.5159270763397217,-53.05295944213867,-20.876514434814453,22.53696632385254,18.218494415283203,-4.738011360168457,11.321849822998047,-30.420753479003906,-24.681163787841797,13.276442527770996,16.02425765991211,13.19835090637207,-0.4524790942668915,-7.665225505828857,9.751333236694336,-24.262834548950195,18.003067016601562,-22.20755386352539,16.76701545715332,-21.5905704498291,0.016933299601078033,10.16472339630127,-0.188185915350914,-0.545369029045105,-8.661247253417969,12.27123737335205,14.17691421508789,1.374219298362732,-3.0602657794952393,-3.1432130336761475,12.718029975891113,22.514066696166992,-7.357227802276611,-20.091787338256836,14.787997245788574,-20.44294548034668,11.562552452087402,-12.350040435791016,-13.450438499450684,-18.168781280517578,0.7296750545501709,8.441187858581543,8.892831802368164,-14.191119194030762,6.428370475769043,17.71136474609375,-16.78411102294922,-13.253026962280273,10.658899307250977,12.531632423400879,5.847597122192383,-24.23939323425293,0.8367011547088623,-17.906381607055664,-23.212451934814453,13.700352668762207,4.769161224365234,21.045066833496094,24.951366424560547,26.944141387939453,3.0134897232055664,-17.8173885345459,-7.3868279457092285,-4.03265380859375,-31.240564346313477,-2.5581603050231934,-18.897409439086914,-6.155820369720459,-3.4224536418914795,-1.1587519645690918,18.633831024169922,-19.66817855834961,-5.748752593994141,-25.100772857666016,10.462860107421875,-18.787124633789062,-3.2394230365753174,9.277685165405273,-3.0637855529785156,-16.58060073852539,-2.1501715183258057,-15.762643814086914,17.20548439025879,-9.80859088897705,-81.791015625,-25.88500213623047,-27.306659698486328,-13.466221809387207,-21.783063888549805,21.90608024597168,-26.178306579589844,-10.187676429748535,22.5817928314209,0.6889179944992065,8.243086814880371,111.77555847167969,14.432371139526367,-10.683236122131348,18.909774780273438,-21.875226974487305,1.712481141090393,-23.596887588500977,-19.863386154174805,-16.37049674987793,-0.6079948544502258,-0.9830238819122314,5.461564064025879,5.218622207641602,9.420888900756836,-23.068599700927734,-15.083608627319336,-57.99257278442383,21.915943145751953,-13.269302368164062,26.272008895874023,-7.556407928466797,-2.2214200496673584,-7.438316822052002,-7.536221981048584,14.945371627807617,-13.286153793334961,-24.12965202331543,-5.632994174957275,11.121540069580078,13.428407669067383,-14.717876434326172,-14.445272445678711,12.615036964416504,-2.2531309127807617,15.554095268249512,7.517563819885254,8.247428894042969,-14.375052452087402,-6.913936614990234,-18.74449920654297,-23.160602569580078,6.463624954223633,-21.889911651611328,-21.653825759887695,19.019359588623047,23.89085578918457,11.498507499694824,-0.3595922291278839,15.935079574584961,11.015056610107422,-8.33598804473877,-2.5350711345672607,6.526896953582764,15.086762428283691,9.853147506713867,-4.403838634490967,-21.218069076538086,-28.311573028564453,1.472746729850769,23.024507522583008,-27.26386833190918,-0.9812009930610657,-19.006839752197266,-14.563387870788574,-0.874816358089447,-18.170169830322266,-25.504581451416016,-23.460344314575195,-29.085914611816406,-15.870013236999512,16.130596160888672,-17.349424362182617,0.70964515209198,-18.17450523376465,-14.88231372833252,-0.32087424397468567,-0.31290146708488464,-0.09093213826417923,-0.8317543268203735,-3.0499520301818848,-1.6689637899398804,-2.4795591831207275,-0.99972003698349,-2.5517489910125732,-3.750126838684082,5.7017621994018555,0.9788944125175476,0.6293817758560181,2.730485677719116,3.2228384017944336,0.5755764842033386,-5.2091169357299805,-3.3407163619995117,-0.15711086988449097,-12.32091236114502,-1.053704023361206,13.93487548828125,18.37950325012207,18.96958351135254,1.8260059356689453,-10.412586212158203,1.61017644405365,10.402091026306152,-1.1181079149246216,-13.621132850646973,24.572240829467773,4.072630405426025,-22.740121841430664,24.344881057739258,-38.88062286376953,18.040685653686523,4.244079113006592,-9.578176498413086,15.709016799926758,1.9835727214813232,18.174583435058594,20.06842041015625,-17.727121353149414,5.719417095184326,18.981515884399414,-11.758330345153809,14.255215644836426,-27.391080856323242,-16.267925262451172,-21.71391487121582,0.1479852795600891,18.608003616333008,-4.883203983306885,-23.714614868164062,1.5827901363372803,17.46265983581543,-13.065000534057617,-13.370770454406738,-28.16254997253418,18.554306030273438,-12.714818954467773,2.401414155960083,-15.110689163208008,5.053903579711914,-4.5065131187438965,-4.486534118652344,-16.506053924560547,2.0014686584472656,-16.786325454711914,0.11428079009056091,7.675745487213135,-15.224557876586914,-8.314894676208496,1.9760621786117554,6.619262218475342,-3.8100340366363525,-27.496360778808594,-118.56483459472656,-8.659415245056152,-10.529463768005371,11.215337753295898,81.71478271484375,9.197097778320312,9.216344833374023,-16.529701232910156,21.596195220947266,-25.116653442382812,10.542902946472168,-14.2475004196167,4.384600639343262,1.5435917377471924,7.662912845611572,-12.42553997039795,-1.9002189636230469,-16.467716217041016,-19.668596267700195,-7.376601219177246,7.120086193084717,-23.11838722229004,-13.888901710510254,-24.610334396362305,17.605485916137695,-23.40083122253418,-14.429879188537598,-20.432270050048828,-6.825558662414551,-12.43630599975586,-6.855988025665283,-28.456457138061523,-30.104843139648438,8.769777297973633,-22.330543518066406,22.327835083007812],\"y\":[-1.5340672731399536,6.574012279510498,-1.8590061664581299,-0.41136372089385986,-16.96223258972168,14.269585609436035,-27.497920989990234,12.495722770690918,8.527955055236816,-22.2428035736084,11.621274948120117,-9.86121654510498,6.600394248962402,-22.95342445373535,-0.994309663772583,14.901973724365234,-15.746891975402832,6.11449670791626,-23.23505401611328,-14.151230812072754,-18.99390983581543,-23.76114273071289,-8.684488296508789,14.155314445495605,-9.423970222473145,37.35771179199219,-9.008581161499023,-25.974454879760742,-9.869290351867676,-9.65532398223877,-1.3009191751480103,4.007169246673584,11.801981925964355,-8.881010055541992,2.0357797145843506,-11.895366668701172,2.9733541011810303,0.006850101985037327,6.681643009185791,10.029695510864258,-16.246273040771484,-5.687689781188965,-5.8213324546813965,-8.03565502166748,-5.769979476928711,7.677053451538086,0.7847827076911926,-25.03753662109375,3.7726967334747314,-15.074109077453613,11.354602813720703,-5.082414150238037,-0.4331987202167511,-5.324719429016113,7.166856288909912,-15.876425743103027,-10.194954872131348,20.718265533447266,-27.792743682861328,-9.152871131896973,-28.964563369750977,-16.195659637451172,5.582106590270996,-15.532862663269043,-11.88512134552002,5.096437454223633,-29.941360473632812,4.940958499908447,-21.880420684814453,-1.447306752204895,12.868429183959961,-18.14061737060547,-15.994688987731934,9.61036491394043,-31.05203628540039,11.842206954956055,-28.931198120117188,-13.614554405212402,8.024569511413574,-6.779545783996582,-19.383331298828125,-13.033788681030273,-23.372880935668945,-25.50701141357422,-27.92346954345703,15.198331832885742,12.196139335632324,1.840895652770996,1.6657421588897705,-20.32362174987793,-9.368785858154297,11.046630859375,2.1816976070404053,-0.23901543021202087,0.09213738888502121,-4.5717453956604,0.888896644115448,8.691638946533203,84.04073333740234,-11.279043197631836,-21.84109115600586,-27.648595809936523,-5.940124034881592,-17.94634246826172,-21.76734161376953,-12.668383598327637,-24.692529678344727,-19.58407974243164,23.154285430908203,-3.6616997718811035,-0.9921901822090149,-21.47683334350586,11.465152740478516,-17.896011352539062,-0.9240994453430176,-17.478626251220703,-26.075510025024414,-24.7843017578125,-27.36046600341797,-58.84355545043945,-26.56248664855957,2.5020625591278076,-16.106048583984375,18.80419158935547,-11.221720695495605,10.017218589782715,-5.749551296234131,-12.341777801513672,-29.44001007080078,-24.91731071472168,-24.06086540222168,-21.673030853271484,-26.912843704223633,-7.033667087554932,-15.212780952453613,-21.989362716674805,39.07378387451172,3.340461492538452,-24.703784942626953,13.797632217407227,70.89799499511719,-23.343299865722656,7.078225135803223,-2.5804948806762695,15.482879638671875,8.066954612731934,-20.94005584716797,3.8352320194244385,-13.614950180053711,9.195090293884277,8.181456565856934,-26.681859970092773,-22.366670608520508,-4.300848484039307,-18.474538803100586,-0.40056312084198,2.525477409362793,9.676780700683594,-10.724989891052246,12.476180076599121,-20.476518630981445,11.262657165527344,14.594732284545898,-4.460450649261475,-22.3205509185791,-26.4284610748291,-22.955080032348633,-14.693780899047852,-6.902839660644531,12.321738243103027,-26.301456451416016,-29.170372009277344,-24.349538803100586,-2.7594263553619385,-7.684845924377441,-0.6396019458770752,-1.9303383827209473,-6.569674491882324,-23.911819458007812,6.709972381591797,-30.87407684326172,-7.752499580383301,1.7057619094848633,-7.214428901672363,6.9911208152771,-2.6022753715515137,-5.642113208770752,1.697472333908081,-12.633161544799805,-28.34609031677246,-15.012086868286133,-26.80893898010254,-13.768354415893555,1.6886509656906128,-20.635656356811523,-7.566712379455566,7.2958526611328125,9.390308380126953,5.917353630065918,4.942521095275879,8.140617370605469,3.9042539596557617,5.399032115936279,10.715322494506836,12.136685371398926,4.916201591491699,9.47164249420166,7.6441755294799805,10.483235359191895,11.333802223205566,7.568490028381348,12.665172576904297,2.596472978591919,13.581685066223145,2.2233128547668457,3.896430492401123,-26.55345344543457,-12.694981575012207,-0.7338266968727112,-9.151679039001465,-20.019012451171875,1.8799445629119873,-10.834845542907715,16.03583526611328,-25.807781219482422,0.2876308560371399,8.238428115844727,-26.54743003845215,-42.25943374633789,-2.9506189823150635,-21.734424591064453,-21.46657943725586,-27.270830154418945,-22.136302947998047,-20.029312133789062,-24.05599594116211,18.987165451049805,-25.375370025634766,-26.669729232788086,-19.037246704101562,-23.83278465270996,2.518636465072632,-17.075645446777344,16.571168899536133,-23.15620994567871,-26.801891326904297,2.065192699432373,-8.281861305236816,-6.201145648956299,-15.665863990783691,-16.88687515258789,-20.73121452331543,9.24581527709961,-24.029438018798828,-16.356306076049805,-10.200255393981934,-15.569133758544922,-28.345773696899414,-21.025455474853516,-9.832568168640137,6.120848655700684,-19.4406681060791,-14.138138771057129,-25.48404312133789,-28.423355102539062,14.127264022827148,-20.304887771606445,-29.591922760009766,-27.80733871459961,-11.261043548583984,-0.5214413404464722,127.60057067871094,-18.524980545043945,-17.843013763427734,-26.994354248046875,-29.461854934692383,-1.6086217164993286,-16.884567260742188,6.778666019439697,-13.283109664916992,10.46846866607666,-27.161678314208984,7.292974472045898,-1.563989281654358,-3.0066323280334473,-1.374645471572876,-0.4895268678665161,1.8690766096115112,2.7330658435821533,-9.777782440185547,-18.08457374572754,-15.269906044006348,0.8874223232269287,4.893166542053223,-5.919886112213135,-17.683881759643555,12.11388111114502,13.049344062805176,-4.845855236053467,-21.48969841003418,1.2905257940292358,-15.377307891845703,4.812404632568359,1.8874361515045166,10.049779891967773,7.970026016235352,-24.919008255004883],\"z\":[9.53197193145752,9.57335376739502,7.666819095611572,12.332613945007324,-2.240938425064087,4.1579461097717285,69.30937194824219,3.7845757007598877,9.218828201293945,-2.7527353763580322,-6.6117024421691895,-9.284784317016602,1.5078284740447998,-0.8405643701553345,10.754899978637695,-5.201469898223877,-1.793112874031067,5.52886438369751,8.401768684387207,-11.876882553100586,6.62180233001709,-2.591778039932251,-14.838632583618164,-2.65077805519104,24.078472137451172,-21.51104736328125,-9.853985786437988,8.165149688720703,-0.12358630448579788,-6.757519721984863,-1.8719618320465088,-13.806991577148438,-1.3568332195281982,-8.068865776062012,-3.682899236679077,-7.9292988777160645,3.1394717693328857,8.026867866516113,-9.65349292755127,10.561279296875,0.27207931876182556,-12.487892150878906,-3.1601366996765137,-4.591520309448242,20.080402374267578,-11.978772163391113,6.3451828956604,-4.866749286651611,12.558052062988281,-5.335000991821289,-14.760540962219238,15.483501434326172,3.512901544570923,23.515975952148438,-12.816399574279785,-4.340579032897949,-7.0037713050842285,-2.8299262523651123,-7.052609443664551,0.05062533915042877,-4.988108158111572,-8.432863235473633,11.647521018981934,-2.98518705368042,23.80101203918457,-8.221772193908691,-9.2034912109375,19.5771484375,7.539278507232666,-1.932456374168396,5.040639877319336,-5.628282070159912,-9.379570007324219,-15.422810554504395,-10.263843536376953,-6.007943153381348,-4.311363220214844,3.721047878265381,-5.954563617706299,-4.287938117980957,17.79243278503418,-2.181363821029663,-2.1588146686553955,-1.2434390783309937,-4.987863063812256,-3.26471209526062,6.32472562789917,12.5286865234375,-14.27605152130127,-3.1587657928466797,4.913025856018066,8.742948532104492,2.810516119003296,14.00421142578125,-4.507615566253662,9.067113876342773,3.315058708190918,-3.0897409915924072,-113.68861389160156,1.8277684450149536,2.7214672565460205,-7.884922504425049,20.4993896484375,-2.833489179611206,5.646518230438232,1.9443696737289429,1.6533063650131226,4.935474872589111,-184.99435424804688,-8.848250389099121,-16.835418701171875,-12.604214668273926,-2.0804643630981445,-5.894814968109131,-10.323206901550293,7.238590240478516,4.13508415222168,-8.491902351379395,0.769481897354126,6.1671576499938965,1.9352059364318848,13.307368278503418,-5.415008544921875,-4.522883892059326,21.3786678314209,0.7807945609092712,-7.49458122253418,-20.49005126953125,-7.104421615600586,-13.194361686706543,5.8490471839904785,2.5402815341949463,5.901520252227783,-7.182956695556641,3.5505518913269043,-2.052159309387207,-4.9472527503967285,17.425508499145508,-4.641134262084961,2.7535386085510254,105.1537857055664,-11.71806812286377,11.810522079467773,-2.9842734336853027,9.468674659729004,8.126065254211426,-2.911102771759033,-5.464696884155273,-3.654226303100586,1.4638711214065552,-12.232077598571777,6.338399410247803,12.24473762512207,-0.7461841106414795,19.872364044189453,0.9823704361915588,22.571170806884766,11.471514701843262,-18.05573844909668,3.1034491062164307,-2.2439353466033936,10.857026100158691,1.4350652694702148,-2.1864142417907715,-5.15687370300293,-4.9389448165893555,14.250812530517578,-6.177495956420898,-4.362673282623291,9.72375774383545,-15.44753646850586,-11.780966758728027,6.261496067047119,3.3633463382720947,22.781843185424805,5.082404613494873,-8.905560493469238,28.894880294799805,6.184932708740234,-4.911586761474609,-10.686809539794922,7.166134357452393,4.736314296722412,26.403093338012695,7.289196968078613,-14.066394805908203,-5.073433876037598,-15.567999839782715,-17.90410041809082,-4.997525691986084,0.43947523832321167,-10.579927444458008,-18.625900268554688,19.84807014465332,10.200603485107422,23.4647274017334,-28.48909568786621,-26.021282196044922,-30.127025604248047,-19.30973243713379,-22.706031799316406,-21.885900497436523,-23.80036735534668,-29.400466918945312,-29.82846450805664,-19.455684661865234,-31.175790786743164,-30.027124404907227,-30.204204559326172,-26.866342544555664,-30.692829132080078,-31.68842887878418,10.819082260131836,7.953589916229248,13.886260986328125,-3.5052919387817383,7.662232398986816,-0.5304073095321655,7.7279953956604,-7.936706066131592,14.7390775680542,-4.040965557098389,26.403982162475586,-2.4740195274353027,0.639200747013092,4.417971611022949,3.7034912109375,-2.3520076274871826,-2.3947806358337402,-4.764647006988525,19.44810676574707,-11.46469497680664,6.437554836273193,16.93238067626953,2.19386887550354,9.36857795715332,-2.43359112739563,1.0783576965332031,4.690735340118408,-11.598353385925293,1.6183968782424927,-8.6487398147583,-5.947238445281982,-2.706756114959717,10.59556770324707,-5.616518020629883,9.563608169555664,-11.798802375793457,25.822803497314453,-2.8336069583892822,-18.043947219848633,-9.59210205078125,-7.244292736053467,6.383376598358154,5.716250896453857,26.957326889038086,-2.5538625717163086,0.4565325379371643,5.471328258514404,26.437467575073242,16.994056701660156,18.731624603271484,-8.18108081817627,-2.2394731044769287,-4.7367777824401855,7.165168285369873,2.7587292194366455,-8.42005443572998,-1.6895893812179565,24.420547485351562,-6.521223068237305,-251.31533813476562,-17.812402725219727,-5.89098596572876,2.5832061767578125,14.49571418762207,-3.250072956085205,-3.311398983001709,13.659467697143555,-5.340887069702148,4.011509418487549,-1.9154976606369019,9.69638729095459,7.841527938842773,13.328204154968262,3.466610908508301,14.358805656433105,8.232715606689453,5.121372699737549,-5.427995681762695,-4.953825950622559,-12.105224609375,7.203308582305908,4.5866312980651855,-12.759458541870117,2.593722105026245,7.223876953125,10.430416107177734,5.988039016723633,-14.444012641906738,21.24964141845703,-5.024855613708496,-7.461827278137207,-8.295402526855469,-10.776073455810547,10.298796653747559,-4.668911457061768],\"type\":\"scatter3d\"},{\"hovertemplate\":\"color=g<br>x=%{x}<br>y=%{y}<br>z=%{z}<extra></extra>\",\"legendgroup\":\"g\",\"marker\":{\"color\":\"#EF553B\",\"symbol\":\"circle\"},\"mode\":\"markers\",\"name\":\"g\",\"scene\":\"scene\",\"showlegend\":true,\"x\":[16.983154296875,-16.63210105895996,7.697423934936523,7.258779525756836,18.547761917114258,13.493264198303223,1.7243993282318115,1.4179623126983643,8.812419891357422,12.30667495727539,3.2501838207244873,13.350851058959961,4.83257532119751,9.513137817382812,1.0056315660476685,9.77731704711914,-0.621317982673645,11.087596893310547,8.543438911437988,6.6485514640808105,119.45038604736328,0.013748791068792343,18.782182693481445,10.401054382324219,18.186777114868164,4.9118571281433105,16.083219528198242,11.511897087097168,15.475022315979004,16.06488609313965,19.05466079711914,13.101458549499512,7.995543956756592,15.77588939666748,9.068572044372559,8.362435340881348,22.07903480529785,6.7596116065979,6.902961730957031,8.086891174316406,14.3687162399292,18.539997100830078,13.235922813415527,10.457977294921875,8.404837608337402,21.565509796142578,21.585609436035156,6.600968837738037,7.064363956451416,2.4415862560272217,16.051517486572266,17.606853485107422,20.71451187133789,15.759593963623047,13.836289405822754,11.223855018615723,21.40593147277832,2.8568315505981445,25.203134536743164,13.254828453063965,15.336697578430176,8.440875053405762,25.67900276184082,13.890109062194824,17.452407836914062,23.120141983032227,9.965339660644531,5.4363789558410645,0.956437885761261,1.8093584775924683,3.794647216796875,3.0907816886901855,18.30752944946289,-31.12976837158203,11.464186668395996,10.592700958251953,-4.085951328277588,-3.614997148513794,0.025603393092751503,-5.500577926635742,-5.959803581237793,-6.767575740814209,-5.7214860916137695,-20.30048179626465,-3.098863363265991,-4.586777210235596,-7.108649730682373,-12.822087287902832,-7.577425479888916,-9.279520034790039,-4.615138053894043,-7.43548059463501,-5.046298503875732,0.003441551234573126,-6.40046501159668,-3.1918282508850098,-6.279848575592041,-6.693490982055664,-3.8456530570983887,-4.283414840698242,14.23212718963623,-3.913769245147705,-3.621323347091675,-1.5615966320037842,-3.6409952640533447,-7.73508358001709],\"y\":[10.051630973815918,19.539522171020508,23.777769088745117,27.417020797729492,19.438631057739258,18.347332000732422,28.669353485107422,28.447622299194336,24.42845916748047,26.709463119506836,31.066734313964844,21.177873611450195,25.66746711730957,26.06939125061035,30.533100128173828,24.06299591064453,27.08819580078125,27.062894821166992,26.50107765197754,27.265174865722656,7.194135665893555,31.576446533203125,19.249290466308594,20.899019241333008,16.71277618408203,26.7634334564209,20.295726776123047,24.955141067504883,22.766498565673828,19.271053314208984,19.488147735595703,22.861108779907227,25.139381408691406,19.34834098815918,26.679622650146484,24.887346267700195,14.998286247253418,23.109743118286133,25.511371612548828,23.162879943847656,17.209138870239258,17.172903060913086,19.369455337524414,23.537660598754883,24.5936279296875,17.289831161499023,15.166069984436035,25.37563133239746,26.80156135559082,38.10472106933594,19.982194900512695,15.942595481872559,17.44512939453125,16.474458694458008,25.27295684814453,24.558584213256836,18.541912078857422,26.137174606323242,15.569816589355469,16.27312469482422,21.562110900878906,25.0205135345459,15.997166633605957,19.294057846069336,18.47958755493164,16.20000457763672,24.088743209838867,28.021650314331055,24.817502975463867,22.06984519958496,24.725154876708984,28.206815719604492,14.953001976013184,30.665061950683594,27.82818603515625,26.343551635742188,9.647178649902344,22.322906494140625,18.60495948791504,12.460524559020996,23.415254592895508,14.14824104309082,12.744651794433594,-28.36433219909668,8.901036262512207,19.285240173339844,16.607826232910156,19.68012046813965,14.708717346191406,19.305889129638672,11.940206527709961,10.044224739074707,15.736417770385742,20.708059310913086,12.944133758544922,21.833450317382812,84.0194091796875,17.580738067626953,10.49262523651123,23.595195770263672,7.279542446136475,23.597152709960938,25.2569580078125,15.331459045410156,17.33540153503418,21.059579849243164],\"z\":[-14.801094055175781,-5.789161682128906,-9.234328269958496,6.563780784606934,13.252649307250977,22.675012588500977,12.067776679992676,7.7727131843566895,27.299192428588867,7.566989421844482,12.216638565063477,24.95664405822754,22.792659759521484,13.743245124816895,13.876070976257324,-2.504926919937134,5.019114971160889,1.961452603340149,8.944665908813477,13.280891418457031,44.78852462768555,10.924113273620605,6.158165454864502,26.752721786499023,11.342402458190918,20.51203155517578,21.952720642089844,5.576523780822754,17.089073181152344,12.314346313476562,1.5549989938735962,15.43603515625,23.748558044433594,8.55448055267334,-1.9826496839523315,18.252199172973633,7.3862152099609375,26.17429542541504,-4.04365348815918,21.968656539916992,25.394611358642578,4.797584533691406,27.261857986450195,-9.666274070739746,-6.371634006500244,5.751684188842773,11.83359432220459,-1.0237042903900146,2.3010106086730957,-36.83362579345703,16.699871063232422,13.858884811401367,14.245015144348145,22.3489990234375,15.859454154968262,1.5774638652801514,1.785491704940796,-5.701615333557129,7.073034286499023,20.31306266784668,9.747523307800293,-11.646202087402344,3.857192277908325,18.110687255859375,24.162580490112305,9.819003105163574,20.00321388244629,8.932872772216797,-6.9477996826171875,6.766127586364746,-8.219059944152832,14.890569686889648,24.23558235168457,56.71639633178711,4.978670597076416,11.108466148376465,-21.08344841003418,-19.58296012878418,-27.214284896850586,-21.90737533569336,-19.00640106201172,-12.353919982910156,-15.349798202514648,-7.306142330169678,-18.708662033081055,-25.388078689575195,-23.67688751220703,-7.848945617675781,-26.91334342956543,-21.590850830078125,-13.192132949829102,-29.289871215820312,-25.464258193969727,-24.95087432861328,-29.895977020263672,-22.172800064086914,-56.28150939941406,-27.188945770263672,-15.49812126159668,-15.73551082611084,-16.000593185424805,-12.802376747131348,-18.42499351501465,-29.1809139251709,-28.78260612487793,-20.232154846191406],\"type\":\"scatter3d\"}],                        {\"template\":{\"data\":{\"histogram2dcontour\":[{\"type\":\"histogram2dcontour\",\"colorbar\":{\"outlinewidth\":0,\"ticks\":\"\"},\"colorscale\":[[0.0,\"#0d0887\"],[0.1111111111111111,\"#46039f\"],[0.2222222222222222,\"#7201a8\"],[0.3333333333333333,\"#9c179e\"],[0.4444444444444444,\"#bd3786\"],[0.5555555555555556,\"#d8576b\"],[0.6666666666666666,\"#ed7953\"],[0.7777777777777778,\"#fb9f3a\"],[0.8888888888888888,\"#fdca26\"],[1.0,\"#f0f921\"]]}],\"choropleth\":[{\"type\":\"choropleth\",\"colorbar\":{\"outlinewidth\":0,\"ticks\":\"\"}}],\"histogram2d\":[{\"type\":\"histogram2d\",\"colorbar\":{\"outlinewidth\":0,\"ticks\":\"\"},\"colorscale\":[[0.0,\"#0d0887\"],[0.1111111111111111,\"#46039f\"],[0.2222222222222222,\"#7201a8\"],[0.3333333333333333,\"#9c179e\"],[0.4444444444444444,\"#bd3786\"],[0.5555555555555556,\"#d8576b\"],[0.6666666666666666,\"#ed7953\"],[0.7777777777777778,\"#fb9f3a\"],[0.8888888888888888,\"#fdca26\"],[1.0,\"#f0f921\"]]}],\"heatmap\":[{\"type\":\"heatmap\",\"colorbar\":{\"outlinewidth\":0,\"ticks\":\"\"},\"colorscale\":[[0.0,\"#0d0887\"],[0.1111111111111111,\"#46039f\"],[0.2222222222222222,\"#7201a8\"],[0.3333333333333333,\"#9c179e\"],[0.4444444444444444,\"#bd3786\"],[0.5555555555555556,\"#d8576b\"],[0.6666666666666666,\"#ed7953\"],[0.7777777777777778,\"#fb9f3a\"],[0.8888888888888888,\"#fdca26\"],[1.0,\"#f0f921\"]]}],\"heatmapgl\":[{\"type\":\"heatmapgl\",\"colorbar\":{\"outlinewidth\":0,\"ticks\":\"\"},\"colorscale\":[[0.0,\"#0d0887\"],[0.1111111111111111,\"#46039f\"],[0.2222222222222222,\"#7201a8\"],[0.3333333333333333,\"#9c179e\"],[0.4444444444444444,\"#bd3786\"],[0.5555555555555556,\"#d8576b\"],[0.6666666666666666,\"#ed7953\"],[0.7777777777777778,\"#fb9f3a\"],[0.8888888888888888,\"#fdca26\"],[1.0,\"#f0f921\"]]}],\"contourcarpet\":[{\"type\":\"contourcarpet\",\"colorbar\":{\"outlinewidth\":0,\"ticks\":\"\"}}],\"contour\":[{\"type\":\"contour\",\"colorbar\":{\"outlinewidth\":0,\"ticks\":\"\"},\"colorscale\":[[0.0,\"#0d0887\"],[0.1111111111111111,\"#46039f\"],[0.2222222222222222,\"#7201a8\"],[0.3333333333333333,\"#9c179e\"],[0.4444444444444444,\"#bd3786\"],[0.5555555555555556,\"#d8576b\"],[0.6666666666666666,\"#ed7953\"],[0.7777777777777778,\"#fb9f3a\"],[0.8888888888888888,\"#fdca26\"],[1.0,\"#f0f921\"]]}],\"surface\":[{\"type\":\"surface\",\"colorbar\":{\"outlinewidth\":0,\"ticks\":\"\"},\"colorscale\":[[0.0,\"#0d0887\"],[0.1111111111111111,\"#46039f\"],[0.2222222222222222,\"#7201a8\"],[0.3333333333333333,\"#9c179e\"],[0.4444444444444444,\"#bd3786\"],[0.5555555555555556,\"#d8576b\"],[0.6666666666666666,\"#ed7953\"],[0.7777777777777778,\"#fb9f3a\"],[0.8888888888888888,\"#fdca26\"],[1.0,\"#f0f921\"]]}],\"mesh3d\":[{\"type\":\"mesh3d\",\"colorbar\":{\"outlinewidth\":0,\"ticks\":\"\"}}],\"scatter\":[{\"fillpattern\":{\"fillmode\":\"overlay\",\"size\":10,\"solidity\":0.2},\"type\":\"scatter\"}],\"parcoords\":[{\"type\":\"parcoords\",\"line\":{\"colorbar\":{\"outlinewidth\":0,\"ticks\":\"\"}}}],\"scatterpolargl\":[{\"type\":\"scatterpolargl\",\"marker\":{\"colorbar\":{\"outlinewidth\":0,\"ticks\":\"\"}}}],\"bar\":[{\"error_x\":{\"color\":\"#2a3f5f\"},\"error_y\":{\"color\":\"#2a3f5f\"},\"marker\":{\"line\":{\"color\":\"#E5ECF6\",\"width\":0.5},\"pattern\":{\"fillmode\":\"overlay\",\"size\":10,\"solidity\":0.2}},\"type\":\"bar\"}],\"scattergeo\":[{\"type\":\"scattergeo\",\"marker\":{\"colorbar\":{\"outlinewidth\":0,\"ticks\":\"\"}}}],\"scatterpolar\":[{\"type\":\"scatterpolar\",\"marker\":{\"colorbar\":{\"outlinewidth\":0,\"ticks\":\"\"}}}],\"histogram\":[{\"marker\":{\"pattern\":{\"fillmode\":\"overlay\",\"size\":10,\"solidity\":0.2}},\"type\":\"histogram\"}],\"scattergl\":[{\"type\":\"scattergl\",\"marker\":{\"colorbar\":{\"outlinewidth\":0,\"ticks\":\"\"}}}],\"scatter3d\":[{\"type\":\"scatter3d\",\"line\":{\"colorbar\":{\"outlinewidth\":0,\"ticks\":\"\"}},\"marker\":{\"colorbar\":{\"outlinewidth\":0,\"ticks\":\"\"}}}],\"scattermapbox\":[{\"type\":\"scattermapbox\",\"marker\":{\"colorbar\":{\"outlinewidth\":0,\"ticks\":\"\"}}}],\"scatterternary\":[{\"type\":\"scatterternary\",\"marker\":{\"colorbar\":{\"outlinewidth\":0,\"ticks\":\"\"}}}],\"scattercarpet\":[{\"type\":\"scattercarpet\",\"marker\":{\"colorbar\":{\"outlinewidth\":0,\"ticks\":\"\"}}}],\"carpet\":[{\"aaxis\":{\"endlinecolor\":\"#2a3f5f\",\"gridcolor\":\"white\",\"linecolor\":\"white\",\"minorgridcolor\":\"white\",\"startlinecolor\":\"#2a3f5f\"},\"baxis\":{\"endlinecolor\":\"#2a3f5f\",\"gridcolor\":\"white\",\"linecolor\":\"white\",\"minorgridcolor\":\"white\",\"startlinecolor\":\"#2a3f5f\"},\"type\":\"carpet\"}],\"table\":[{\"cells\":{\"fill\":{\"color\":\"#EBF0F8\"},\"line\":{\"color\":\"white\"}},\"header\":{\"fill\":{\"color\":\"#C8D4E3\"},\"line\":{\"color\":\"white\"}},\"type\":\"table\"}],\"barpolar\":[{\"marker\":{\"line\":{\"color\":\"#E5ECF6\",\"width\":0.5},\"pattern\":{\"fillmode\":\"overlay\",\"size\":10,\"solidity\":0.2}},\"type\":\"barpolar\"}],\"pie\":[{\"automargin\":true,\"type\":\"pie\"}]},\"layout\":{\"autotypenumbers\":\"strict\",\"colorway\":[\"#636efa\",\"#EF553B\",\"#00cc96\",\"#ab63fa\",\"#FFA15A\",\"#19d3f3\",\"#FF6692\",\"#B6E880\",\"#FF97FF\",\"#FECB52\"],\"font\":{\"color\":\"#2a3f5f\"},\"hovermode\":\"closest\",\"hoverlabel\":{\"align\":\"left\"},\"paper_bgcolor\":\"white\",\"plot_bgcolor\":\"#E5ECF6\",\"polar\":{\"bgcolor\":\"#E5ECF6\",\"angularaxis\":{\"gridcolor\":\"white\",\"linecolor\":\"white\",\"ticks\":\"\"},\"radialaxis\":{\"gridcolor\":\"white\",\"linecolor\":\"white\",\"ticks\":\"\"}},\"ternary\":{\"bgcolor\":\"#E5ECF6\",\"aaxis\":{\"gridcolor\":\"white\",\"linecolor\":\"white\",\"ticks\":\"\"},\"baxis\":{\"gridcolor\":\"white\",\"linecolor\":\"white\",\"ticks\":\"\"},\"caxis\":{\"gridcolor\":\"white\",\"linecolor\":\"white\",\"ticks\":\"\"}},\"coloraxis\":{\"colorbar\":{\"outlinewidth\":0,\"ticks\":\"\"}},\"colorscale\":{\"sequential\":[[0.0,\"#0d0887\"],[0.1111111111111111,\"#46039f\"],[0.2222222222222222,\"#7201a8\"],[0.3333333333333333,\"#9c179e\"],[0.4444444444444444,\"#bd3786\"],[0.5555555555555556,\"#d8576b\"],[0.6666666666666666,\"#ed7953\"],[0.7777777777777778,\"#fb9f3a\"],[0.8888888888888888,\"#fdca26\"],[1.0,\"#f0f921\"]],\"sequentialminus\":[[0.0,\"#0d0887\"],[0.1111111111111111,\"#46039f\"],[0.2222222222222222,\"#7201a8\"],[0.3333333333333333,\"#9c179e\"],[0.4444444444444444,\"#bd3786\"],[0.5555555555555556,\"#d8576b\"],[0.6666666666666666,\"#ed7953\"],[0.7777777777777778,\"#fb9f3a\"],[0.8888888888888888,\"#fdca26\"],[1.0,\"#f0f921\"]],\"diverging\":[[0,\"#8e0152\"],[0.1,\"#c51b7d\"],[0.2,\"#de77ae\"],[0.3,\"#f1b6da\"],[0.4,\"#fde0ef\"],[0.5,\"#f7f7f7\"],[0.6,\"#e6f5d0\"],[0.7,\"#b8e186\"],[0.8,\"#7fbc41\"],[0.9,\"#4d9221\"],[1,\"#276419\"]]},\"xaxis\":{\"gridcolor\":\"white\",\"linecolor\":\"white\",\"ticks\":\"\",\"title\":{\"standoff\":15},\"zerolinecolor\":\"white\",\"automargin\":true,\"zerolinewidth\":2},\"yaxis\":{\"gridcolor\":\"white\",\"linecolor\":\"white\",\"ticks\":\"\",\"title\":{\"standoff\":15},\"zerolinecolor\":\"white\",\"automargin\":true,\"zerolinewidth\":2},\"scene\":{\"xaxis\":{\"backgroundcolor\":\"#E5ECF6\",\"gridcolor\":\"white\",\"linecolor\":\"white\",\"showbackground\":true,\"ticks\":\"\",\"zerolinecolor\":\"white\",\"gridwidth\":2},\"yaxis\":{\"backgroundcolor\":\"#E5ECF6\",\"gridcolor\":\"white\",\"linecolor\":\"white\",\"showbackground\":true,\"ticks\":\"\",\"zerolinecolor\":\"white\",\"gridwidth\":2},\"zaxis\":{\"backgroundcolor\":\"#E5ECF6\",\"gridcolor\":\"white\",\"linecolor\":\"white\",\"showbackground\":true,\"ticks\":\"\",\"zerolinecolor\":\"white\",\"gridwidth\":2}},\"shapedefaults\":{\"line\":{\"color\":\"#2a3f5f\"}},\"annotationdefaults\":{\"arrowcolor\":\"#2a3f5f\",\"arrowhead\":0,\"arrowwidth\":1},\"geo\":{\"bgcolor\":\"white\",\"landcolor\":\"#E5ECF6\",\"subunitcolor\":\"white\",\"showland\":true,\"showlakes\":true,\"lakecolor\":\"white\"},\"title\":{\"x\":0.05},\"mapbox\":{\"style\":\"light\"}}},\"scene\":{\"domain\":{\"x\":[0.0,1.0],\"y\":[0.0,1.0]},\"xaxis\":{\"title\":{\"text\":\"x\"}},\"yaxis\":{\"title\":{\"text\":\"y\"}},\"zaxis\":{\"title\":{\"text\":\"z\"}}},\"legend\":{\"title\":{\"text\":\"color\"},\"tracegroupgap\":0},\"margin\":{\"t\":60}},                        {\"responsive\": true}                    ).then(function(){\n",
       "                            \n",
       "var gd = document.getElementById('829a9ba1-fafd-4166-9830-cf65674648ed');\n",
       "var x = new MutationObserver(function (mutations, observer) {{\n",
       "        var display = window.getComputedStyle(gd).display;\n",
       "        if (!display || display === 'none') {{\n",
       "            console.log([gd, 'removed!']);\n",
       "            Plotly.purge(gd);\n",
       "            observer.disconnect();\n",
       "        }}\n",
       "}});\n",
       "\n",
       "// Listen for the removal of the full notebook cells\n",
       "var notebookContainer = gd.closest('#notebook-container');\n",
       "if (notebookContainer) {{\n",
       "    x.observe(notebookContainer, {childList: true});\n",
       "}}\n",
       "\n",
       "// Listen for the clearing of the current output cell\n",
       "var outputEl = gd.closest('.output');\n",
       "if (outputEl) {{\n",
       "    x.observe(outputEl, {childList: true});\n",
       "}}\n",
       "\n",
       "                        })                };                });            </script>        </div>"
      ]
     },
     "metadata": {},
     "output_type": "display_data"
    }
   ],
   "source": [
    "# plot using tsne \n",
    "X_embedded  = TSNE(n_components=3, perplexity=10,random_state=24).fit_transform( X )\n",
    "colors = np.array([x for x in 'bgrcmykbgrcmykbgrcmykbgrcmyk'])\n",
    "fig = px.scatter_3d(x=X_embedded [:,0],y=X_embedded [:,1],z=X_embedded [:,2],color=colors[mbk_means_labels])\n",
    "fig.show()"
   ]
  },
  {
   "cell_type": "markdown",
   "metadata": {},
   "source": [
    "### Hierachical Clustering\n",
    "\n",
    "Hierarchical clustering used to group objects in clusters based on their similar to each other. We would be using bottom-up clustering approach, where each data point is assigned to its own cluster, and then the similar clusters are merged iteratively until all of the data points are part of one big root cluster.\n"
   ]
  },
  {
   "cell_type": "code",
   "execution_count": 61,
   "metadata": {},
   "outputs": [],
   "source": [
    "# Single linkage: \n",
    "from scipy.cluster.hierarchy import linkage\n",
    "from scipy.cluster.hierarchy import dendrogram\n",
    "from scipy.cluster.hierarchy import cut_tree\n"
   ]
  },
  {
   "cell_type": "code",
   "execution_count": 62,
   "metadata": {},
   "outputs": [
    {
     "data": {
      "text/plain": [
       "{'affinity': ['euclidean', 'l1', 'l2', 'manhattan', 'cosine', 'precomputed'],\n",
       " 'linkage': ['ward', 'complete', 'average', 'single'],\n",
       " 'n_clusters': range(2, 15)}"
      ]
     },
     "execution_count": 62,
     "metadata": {},
     "output_type": "execute_result"
    }
   ],
   "source": [
    "agg_grid = {\n",
    "        \"affinity\": ['euclidean', 'l1', 'l2', 'manhattan', 'cosine', 'precomputed'],\n",
    "        \"linkage\" : ['ward', 'complete', 'average', 'single'],\n",
    "        \"n_clusters\": range(2, 15)\n",
    "       }\n",
    "agg_grid"
   ]
  },
  {
   "cell_type": "code",
   "execution_count": 63,
   "metadata": {},
   "outputs": [],
   "source": [
    "agg_model = AgglomerativeClustering()\n",
    "agg_params = GridSearchCV(agg_model,agg_grid,scoring=silhouette_score,cv= 10).fit(X, y)"
   ]
  },
  {
   "cell_type": "code",
   "execution_count": 64,
   "metadata": {},
   "outputs": [
    {
     "data": {
      "text/plain": [
       "(0.5093241556728305,\n",
       " {'affinity': 'euclidean', 'linkage': 'average', 'n_clusters': 2})"
      ]
     },
     "execution_count": 64,
     "metadata": {},
     "output_type": "execute_result"
    }
   ],
   "source": [
    "agg_params.best_score_, agg_params.best_params_"
   ]
  },
  {
   "cell_type": "code",
   "execution_count": 65,
   "metadata": {},
   "outputs": [],
   "source": [
    "agg_clustering_model = AgglomerativeClustering(n_clusters= agg_params.best_params_['n_clusters'], \n",
    "                                               linkage= agg_params.best_params_['linkage'], \n",
    "                                               affinity =  agg_params.best_params_['affinity'])\n",
    "agg_clustering_model.fit(X)\n",
    "agg_labels = agg_clustering_model.labels_"
   ]
  },
  {
   "cell_type": "code",
   "execution_count": 66,
   "metadata": {},
   "outputs": [
    {
     "data": {
      "text/html": [
       "<div>\n",
       "<style scoped>\n",
       "    .dataframe tbody tr th:only-of-type {\n",
       "        vertical-align: middle;\n",
       "    }\n",
       "\n",
       "    .dataframe tbody tr th {\n",
       "        vertical-align: top;\n",
       "    }\n",
       "\n",
       "    .dataframe thead th {\n",
       "        text-align: right;\n",
       "    }\n",
       "</style>\n",
       "<table border=\"1\" class=\"dataframe\">\n",
       "  <thead>\n",
       "    <tr style=\"text-align: right;\">\n",
       "      <th></th>\n",
       "      <th>Cluster</th>\n",
       "    </tr>\n",
       "  </thead>\n",
       "  <tbody>\n",
       "    <tr>\n",
       "      <th>0</th>\n",
       "      <td>409</td>\n",
       "    </tr>\n",
       "    <tr>\n",
       "      <th>1</th>\n",
       "      <td>4</td>\n",
       "    </tr>\n",
       "  </tbody>\n",
       "</table>\n",
       "</div>"
      ],
      "text/plain": [
       "   Cluster\n",
       "0      409\n",
       "1        4"
      ]
     },
     "execution_count": 66,
     "metadata": {},
     "output_type": "execute_result"
    }
   ],
   "source": [
    "agg_dataset = pd.DataFrame(X.copy())\n",
    "agg_dataset.loc[:,'Cluster'] = agg_labels\n",
    "agg_dataset.Cluster.value_counts().to_frame()"
   ]
  },
  {
   "cell_type": "code",
   "execution_count": 67,
   "metadata": {},
   "outputs": [
    {
     "data": {
      "text/plain": [
       "413"
      ]
     },
     "execution_count": 67,
     "metadata": {},
     "output_type": "execute_result"
    }
   ],
   "source": [
    "X.shape[0]"
   ]
  },
  {
   "cell_type": "code",
   "execution_count": 68,
   "metadata": {},
   "outputs": [
    {
     "data": {
      "text/plain": [
       "<matplotlib.lines.Line2D at 0x19d10501b80>"
      ]
     },
     "execution_count": 68,
     "metadata": {},
     "output_type": "execute_result"
    },
    {
     "data": {
      "image/png": "[encoded data removed]",
      "text/plain": [
       "<Figure size 576x432 with 1 Axes>"
      ]
     },
     "metadata": {
      "needs_background": "light"
     },
     "output_type": "display_data"
    }
   ],
   "source": [
    "clusters = linkage(X, method=agg_params.best_params_['linkage'])\n",
    "\n",
    "plt.figure(figsize=(8, 6))\n",
    "dendrogram = hierarchy.dendrogram(clusters)\n",
    "plt.axhline(150, color='red', linestyle='--') \n",
    "plt.axhline(100, color='crimson')"
   ]
  },
  {
   "cell_type": "code",
   "execution_count": 151,
   "metadata": {},
   "outputs": [
    {
     "data": {
      "text/html": [
       "<div>\n",
       "<style scoped>\n",
       "    .dataframe tbody tr th:only-of-type {\n",
       "        vertical-align: middle;\n",
       "    }\n",
       "\n",
       "    .dataframe tbody tr th {\n",
       "        vertical-align: top;\n",
       "    }\n",
       "\n",
       "    .dataframe thead th {\n",
       "        text-align: right;\n",
       "    }\n",
       "</style>\n",
       "<table border=\"1\" class=\"dataframe\">\n",
       "  <thead>\n",
       "    <tr style=\"text-align: right;\">\n",
       "      <th></th>\n",
       "      <th>silhouette_score</th>\n",
       "      <th>davies_bouldin_score</th>\n",
       "      <th>calinski_harabasz_score</th>\n",
       "    </tr>\n",
       "  </thead>\n",
       "  <tbody>\n",
       "    <tr>\n",
       "      <th>Agglomerative Clustering</th>\n",
       "      <td>0.636604</td>\n",
       "      <td>0.264461</td>\n",
       "      <td>11.806337</td>\n",
       "    </tr>\n",
       "  </tbody>\n",
       "</table>\n",
       "</div>"
      ],
      "text/plain": [
       "                           silhouette_score  davies_bouldin_score  \\\n",
       "Agglomerative Clustering           0.636604              0.264461   \n",
       "\n",
       "                           calinski_harabasz_score  \n",
       "Agglomerative Clustering                 11.806337  "
      ]
     },
     "execution_count": 151,
     "metadata": {},
     "output_type": "execute_result"
    }
   ],
   "source": [
    "agg_df = pd.DataFrame(estimator_evaluation(agg_clustering_model, 'Agglomerative Clustering ', X ), index=[\"Agglomerative Clustering \"])\n",
    "agg_df"
   ]
  },
  {
   "cell_type": "markdown",
   "metadata": {},
   "source": [
    "### DBSCAN\n",
    "\n",
    "DBSCAN is a non parametric clustering algorithm which groups the closed high density data points and those points that lie in the lower density areas are treated as outliers. It does this using Epsilon Parameter (Degree of closeness of points in the same cluster) and MinPts ( Minimum number of points inside the radius of circle )"
   ]
  },
  {
   "cell_type": "code",
   "execution_count": 70,
   "metadata": {},
   "outputs": [],
   "source": [
    "dbscan_grid = {\n",
    "        \"min_samples\": range(2,20,3),\n",
    "        \"metric\": ['euclidean','dice' 'manhattan', 'cosine', 'precomputed'],\n",
    "        \"algorithm\" : ['auto', 'ball_tree', 'kd_tree', 'brute'],\n",
    "        \"eps\": np.arange(0.01,3,0.01)\n",
    "       }\n",
    "#dbscan_grid"
   ]
  },
  {
   "cell_type": "code",
   "execution_count": 72,
   "metadata": {},
   "outputs": [
    {
     "data": {
      "text/plain": [
       "(0.43790412807452206,\n",
       " {'algorithm': 'auto', 'eps': 0.3, 'metric': 'euclidean', 'min_samples': 11})"
      ]
     },
     "execution_count": 72,
     "metadata": {},
     "output_type": "execute_result"
    }
   ],
   "source": [
    "dbscan_params.best_score_, dbscan_params.best_params_"
   ]
  },
  {
   "cell_type": "code",
   "execution_count": 74,
   "metadata": {},
   "outputs": [],
   "source": [
    "dbscan_clustering = DBSCAN(eps= dbscan_params.best_params_['eps'], \n",
    "                    min_samples= dbscan_params.best_params_['min_samples'],\n",
    "                    algorithm = dbscan_params.best_params_['algorithm'],\n",
    "                    metric = dbscan_params.best_params_['metric']\n",
    "                   ).fit(X)\n",
    "DBSCAN_dataset = pd.DataFrame(X.copy())\n",
    "DBSCAN_dataset.loc[:,'Cluster'] = dbscan_clustering.labels_ "
   ]
  },
  {
   "cell_type": "code",
   "execution_count": 75,
   "metadata": {},
   "outputs": [
    {
     "data": {
      "text/html": [
       "<div>\n",
       "<style scoped>\n",
       "    .dataframe tbody tr th:only-of-type {\n",
       "        vertical-align: middle;\n",
       "    }\n",
       "\n",
       "    .dataframe tbody tr th {\n",
       "        vertical-align: top;\n",
       "    }\n",
       "\n",
       "    .dataframe thead th {\n",
       "        text-align: right;\n",
       "    }\n",
       "</style>\n",
       "<table border=\"1\" class=\"dataframe\">\n",
       "  <thead>\n",
       "    <tr style=\"text-align: right;\">\n",
       "      <th></th>\n",
       "      <th>Cluster</th>\n",
       "    </tr>\n",
       "  </thead>\n",
       "  <tbody>\n",
       "    <tr>\n",
       "      <th>0</th>\n",
       "      <td>285</td>\n",
       "    </tr>\n",
       "    <tr>\n",
       "      <th>1</th>\n",
       "      <td>69</td>\n",
       "    </tr>\n",
       "    <tr>\n",
       "      <th>2</th>\n",
       "      <td>42</td>\n",
       "    </tr>\n",
       "    <tr>\n",
       "      <th>-1</th>\n",
       "      <td>17</td>\n",
       "    </tr>\n",
       "  </tbody>\n",
       "</table>\n",
       "</div>"
      ],
      "text/plain": [
       "    Cluster\n",
       " 0      285\n",
       " 1       69\n",
       " 2       42\n",
       "-1       17"
      ]
     },
     "execution_count": 75,
     "metadata": {},
     "output_type": "execute_result"
    }
   ],
   "source": [
    "DBSCAN_dataset.Cluster.value_counts().to_frame()"
   ]
  },
  {
   "cell_type": "code",
   "execution_count": 156,
   "metadata": {},
   "outputs": [
    {
     "data": {
      "text/html": [
       "<div>\n",
       "<style scoped>\n",
       "    .dataframe tbody tr th:only-of-type {\n",
       "        vertical-align: middle;\n",
       "    }\n",
       "\n",
       "    .dataframe tbody tr th {\n",
       "        vertical-align: top;\n",
       "    }\n",
       "\n",
       "    .dataframe thead th {\n",
       "        text-align: right;\n",
       "    }\n",
       "</style>\n",
       "<table border=\"1\" class=\"dataframe\">\n",
       "  <thead>\n",
       "    <tr style=\"text-align: right;\">\n",
       "      <th></th>\n",
       "      <th>silhouette_score</th>\n",
       "      <th>davies_bouldin_score</th>\n",
       "      <th>calinski_harabasz_score</th>\n",
       "    </tr>\n",
       "  </thead>\n",
       "  <tbody>\n",
       "    <tr>\n",
       "      <th>DBSCAN</th>\n",
       "      <td>0.300341</td>\n",
       "      <td>1.252488</td>\n",
       "      <td>125.775306</td>\n",
       "    </tr>\n",
       "  </tbody>\n",
       "</table>\n",
       "</div>"
      ],
      "text/plain": [
       "        silhouette_score  davies_bouldin_score  calinski_harabasz_score\n",
       "DBSCAN          0.300341              1.252488               125.775306"
      ]
     },
     "execution_count": 156,
     "metadata": {},
     "output_type": "execute_result"
    }
   ],
   "source": [
    "dbscan_df = pd.DataFrame(estimator_evaluation(dbscan_clustering, 'DBSCAN', X), index=[\"DBSCAN\"])\n",
    "dbscan_df"
   ]
  },
  {
   "cell_type": "code",
   "execution_count": null,
   "metadata": {},
   "outputs": [],
   "source": [
    "dbscan_df = pd.DataFrame(estimator_evaluation(dbscan_clustering, 'DBSCAN', X ,y), index=[\"DBSCAN\"])\n",
    "dbscan_df"
   ]
  },
  {
   "cell_type": "code",
   "execution_count": 79,
   "metadata": {},
   "outputs": [
    {
     "data": {
      "application/vnd.plotly.v1+json": {
       "config": {
        "plotlyServerURL": "https://plot.ly"
       },
       "data": [
        {
         "hovertemplate": "color=b<br>x=%{x}<br>y=%{y}<br>z=%{z}<extra></extra>",
         "legendgroup": "b",
         "marker": {
          "color": "#636efa",
          "symbol": "circle"
         },
         "mode": "markers",
         "name": "b",
         "scene": "scene",
         "showlegend": true,
         "type": "scatter3d",
         "x": [
          -9.046331405639648,
          -11.44273853302002,
          -21.65359878540039,
          -10.454161643981934,
          4.739521503448486,
          -19.475872039794922,
          17.40998649597168,
          -9.488744735717773,
          -9.10183048248291,
          -0.4006132185459137,
          -28.92538833618164,
          -6.156496047973633,
          -15.647710800170898,
          6.842092037200928,
          2.4186394214630127,
          -22.01750373840332,
          7.418874740600586,
          -20.109895706176758,
          3.140411615371704,
          9.601218223571777,
          -7.681477069854736,
          -2.822824001312256,
          -22.153762817382812,
          -23.4920711517334,
          2.5159270763397217,
          -53.05295944213867,
          -20.876514434814453,
          22.53696632385254,
          18.218494415283203,
          -4.738011360168457,
          11.321849822998047,
          -24.681163787841797,
          13.276442527770996,
          16.02425765991211,
          13.19835090637207,
          -0.4524790942668915,
          -7.665225505828857,
          9.751333236694336,
          -24.262834548950195,
          18.003067016601562,
          -22.20755386352539,
          16.76701545715332,
          -21.5905704498291,
          0.016933299601078033,
          10.16472339630127,
          -0.188185915350914,
          -0.545369029045105,
          -8.661247253417969,
          12.27123737335205,
          1.374219298362732,
          -3.0602657794952393,
          -3.1432130336761475,
          22.514066696166992,
          -7.357227802276611,
          -20.091787338256836,
          14.787997245788574,
          -20.44294548034668,
          11.562552452087402,
          -12.350040435791016,
          -13.450438499450684,
          -18.168781280517578,
          0.7296750545501709,
          8.441187858581543,
          8.892831802368164,
          -14.191119194030762,
          6.428370475769043,
          17.71136474609375,
          -16.78411102294922,
          -13.253026962280273,
          10.658899307250977,
          5.847597122192383,
          -24.23939323425293,
          0.8367011547088623,
          -17.906381607055664,
          -23.212451934814453,
          13.700352668762207,
          4.769161224365234,
          21.045066833496094,
          24.951366424560547,
          26.944141387939453,
          3.0134897232055664,
          -17.8173885345459,
          -7.3868279457092285,
          -4.03265380859375,
          -2.5581603050231934,
          -18.897409439086914,
          -6.155820369720459,
          -3.4224536418914795,
          -1.1587519645690918,
          18.633831024169922,
          -19.66817855834961,
          -5.748752593994141,
          -25.100772857666016,
          10.462860107421875,
          -18.787124633789062,
          -3.2394230365753174,
          9.277685165405273,
          -3.0637855529785156,
          -16.58060073852539,
          -2.1501715183258057,
          -15.762643814086914,
          17.20548439025879,
          -9.80859088897705,
          -81.791015625,
          -25.88500213623047,
          -13.466221809387207,
          -21.783063888549805,
          21.90608024597168,
          -26.178306579589844,
          -10.187676429748535,
          22.5817928314209,
          0.6889179944992065,
          8.243086814880371,
          111.77555847167969,
          14.432371139526367,
          -10.683236122131348,
          18.909774780273438,
          -21.875226974487305,
          1.712481141090393,
          -23.596887588500977,
          -19.863386154174805,
          -16.37049674987793,
          -0.6079948544502258,
          -0.9830238819122314,
          5.461564064025879,
          5.218622207641602,
          9.420888900756836,
          -23.068599700927734,
          -15.083608627319336,
          -57.99257278442383,
          21.915943145751953,
          -13.269302368164062,
          26.272008895874023,
          -7.556407928466797,
          -2.2214200496673584,
          -7.438316822052002,
          -7.536221981048584,
          14.945371627807617,
          -13.286153793334961,
          -24.12965202331543,
          -5.632994174957275,
          11.121540069580078,
          13.428407669067383,
          -14.717876434326172,
          -16.63210105895996,
          -14.445272445678711,
          12.615036964416504,
          -2.2531309127807617,
          15.554095268249512,
          7.517563819885254,
          8.247428894042969,
          -14.375052452087402,
          -6.913936614990234,
          -18.74449920654297,
          -23.160602569580078,
          6.463624954223633,
          -21.889911651611328,
          -21.653825759887695,
          19.019359588623047,
          23.89085578918457,
          11.498507499694824,
          -0.3595922291278839,
          15.935079574584961,
          11.015056610107422,
          -8.33598804473877,
          -2.5350711345672607,
          6.526896953582764,
          15.086762428283691,
          9.853147506713867,
          -4.403838634490967,
          -21.218069076538086,
          -28.311573028564453,
          1.472746729850769,
          23.024507522583008,
          -27.26386833190918,
          -0.9812009930610657,
          -19.006839752197266,
          -14.563387870788574,
          -0.874816358089447,
          -18.170169830322266,
          -25.504581451416016,
          -23.460344314575195,
          -15.870013236999512,
          16.130596160888672,
          -17.349424362182617,
          0.70964515209198,
          -18.17450523376465,
          -14.88231372833252,
          -0.32087424397468567,
          -0.31290146708488464,
          -0.15711086988449097,
          -12.32091236114502,
          -1.053704023361206,
          13.93487548828125,
          18.37950325012207,
          18.96958351135254,
          1.8260059356689453,
          -10.412586212158203,
          1.61017644405365,
          10.402091026306152,
          -1.1181079149246216,
          -13.621132850646973,
          24.572240829467773,
          4.072630405426025,
          -22.740121841430664,
          24.344881057739258,
          -38.88062286376953,
          18.040685653686523,
          4.244079113006592,
          -9.578176498413086,
          15.709016799926758,
          1.9835727214813232,
          18.174583435058594,
          20.06842041015625,
          -17.727121353149414,
          5.719417095184326,
          18.981515884399414,
          -11.758330345153809,
          14.255215644836426,
          -27.391080856323242,
          -16.267925262451172,
          -21.71391487121582,
          0.1479852795600891,
          18.608003616333008,
          -4.883203983306885,
          -23.714614868164062,
          1.5827901363372803,
          17.46265983581543,
          -13.065000534057617,
          -13.370770454406738,
          -28.16254997253418,
          18.554306030273438,
          -12.714818954467773,
          2.401414155960083,
          -15.110689163208008,
          5.053903579711914,
          -4.5065131187438965,
          -4.486534118652344,
          -16.506053924560547,
          2.0014686584472656,
          -16.786325454711914,
          0.11428079009056091,
          7.675745487213135,
          -15.224557876586914,
          -8.314894676208496,
          1.9760621786117554,
          6.619262218475342,
          -3.8100340366363525,
          -27.496360778808594,
          -118.56483459472656,
          -8.659415245056152,
          -10.529463768005371,
          11.215337753295898,
          81.71478271484375,
          9.197097778320312,
          9.216344833374023,
          -16.529701232910156,
          21.596195220947266,
          -25.116653442382812,
          10.542902946472168,
          -14.2475004196167,
          4.384600639343262,
          1.5435917377471924,
          7.662912845611572,
          -12.42553997039795,
          -1.9002189636230469,
          -16.467716217041016,
          -19.668596267700195,
          -7.376601219177246,
          7.120086193084717,
          -23.11838722229004,
          -13.888901710510254,
          -24.610334396362305,
          17.605485916137695,
          -23.40083122253418,
          -14.429879188537598,
          -20.432270050048828,
          -6.825558662414551,
          -12.43630599975586,
          -6.855988025665283,
          -28.456457138061523,
          -30.104843139648438,
          8.769777297973633,
          -22.330543518066406,
          22.327835083007812
         ],
         "y": [
          -1.5340672731399536,
          6.574012279510498,
          -1.8590061664581299,
          -0.41136372089385986,
          -16.96223258972168,
          14.269585609436035,
          -27.497920989990234,
          12.495722770690918,
          8.527955055236816,
          -22.2428035736084,
          11.621274948120117,
          -9.86121654510498,
          6.600394248962402,
          -22.95342445373535,
          -0.994309663772583,
          14.901973724365234,
          -15.746891975402832,
          6.11449670791626,
          -23.23505401611328,
          -14.151230812072754,
          -18.99390983581543,
          -23.76114273071289,
          -8.684488296508789,
          14.155314445495605,
          -9.423970222473145,
          37.35771179199219,
          -9.008581161499023,
          -25.974454879760742,
          -9.869290351867676,
          -9.65532398223877,
          -1.3009191751480103,
          11.801981925964355,
          -8.881010055541992,
          2.0357797145843506,
          -11.895366668701172,
          2.9733541011810303,
          0.006850101985037327,
          6.681643009185791,
          10.029695510864258,
          -16.246273040771484,
          -5.687689781188965,
          -5.8213324546813965,
          -8.03565502166748,
          -5.769979476928711,
          7.677053451538086,
          0.7847827076911926,
          -25.03753662109375,
          3.7726967334747314,
          -15.074109077453613,
          -5.082414150238037,
          -0.4331987202167511,
          -5.324719429016113,
          -15.876425743103027,
          -10.194954872131348,
          20.718265533447266,
          -27.792743682861328,
          -9.152871131896973,
          -28.964563369750977,
          -16.195659637451172,
          5.582106590270996,
          -15.532862663269043,
          -11.88512134552002,
          5.096437454223633,
          -29.941360473632812,
          4.940958499908447,
          -21.880420684814453,
          -1.447306752204895,
          12.868429183959961,
          -18.14061737060547,
          -15.994688987731934,
          -31.05203628540039,
          11.842206954956055,
          -28.931198120117188,
          -13.614554405212402,
          8.024569511413574,
          -6.779545783996582,
          -19.383331298828125,
          -13.033788681030273,
          -23.372880935668945,
          -25.50701141357422,
          -27.92346954345703,
          15.198331832885742,
          12.196139335632324,
          1.840895652770996,
          -20.32362174987793,
          -9.368785858154297,
          11.046630859375,
          2.1816976070404053,
          -0.23901543021202087,
          0.09213738888502121,
          -4.5717453956604,
          0.888896644115448,
          8.691638946533203,
          84.04073333740234,
          -11.279043197631836,
          -21.84109115600586,
          -27.648595809936523,
          -5.940124034881592,
          -17.94634246826172,
          -21.76734161376953,
          -12.668383598327637,
          -24.692529678344727,
          -19.58407974243164,
          23.154285430908203,
          -3.6616997718811035,
          -21.47683334350586,
          11.465152740478516,
          -17.896011352539062,
          -0.9240994453430176,
          -17.478626251220703,
          -26.075510025024414,
          -24.7843017578125,
          -27.36046600341797,
          -58.84355545043945,
          -26.56248664855957,
          2.5020625591278076,
          -16.106048583984375,
          18.80419158935547,
          -11.221720695495605,
          10.017218589782715,
          -5.749551296234131,
          -12.341777801513672,
          -29.44001007080078,
          -24.91731071472168,
          -24.06086540222168,
          -21.673030853271484,
          -26.912843704223633,
          -7.033667087554932,
          -15.212780952453613,
          -21.989362716674805,
          39.07378387451172,
          3.340461492538452,
          -24.703784942626953,
          13.797632217407227,
          70.89799499511719,
          -23.343299865722656,
          7.078225135803223,
          -2.5804948806762695,
          15.482879638671875,
          8.066954612731934,
          -20.94005584716797,
          3.8352320194244385,
          -13.614950180053711,
          9.195090293884277,
          19.539522171020508,
          8.181456565856934,
          -26.681859970092773,
          -22.366670608520508,
          -4.300848484039307,
          -18.474538803100586,
          -0.40056312084198,
          2.525477409362793,
          9.676780700683594,
          -10.724989891052246,
          12.476180076599121,
          -20.476518630981445,
          11.262657165527344,
          14.594732284545898,
          -4.460450649261475,
          -22.3205509185791,
          -26.4284610748291,
          -22.955080032348633,
          -14.693780899047852,
          -6.902839660644531,
          12.321738243103027,
          -26.301456451416016,
          -29.170372009277344,
          -24.349538803100586,
          -2.7594263553619385,
          -7.684845924377441,
          -0.6396019458770752,
          -1.9303383827209473,
          -6.569674491882324,
          -23.911819458007812,
          6.709972381591797,
          -30.87407684326172,
          -7.752499580383301,
          1.7057619094848633,
          -7.214428901672363,
          6.9911208152771,
          -2.6022753715515137,
          -5.642113208770752,
          -12.633161544799805,
          -28.34609031677246,
          -15.012086868286133,
          -26.80893898010254,
          -13.768354415893555,
          1.6886509656906128,
          -20.635656356811523,
          -7.566712379455566,
          2.596472978591919,
          13.581685066223145,
          2.2233128547668457,
          3.896430492401123,
          -26.55345344543457,
          -12.694981575012207,
          -0.7338266968727112,
          -9.151679039001465,
          -20.019012451171875,
          1.8799445629119873,
          -10.834845542907715,
          16.03583526611328,
          -25.807781219482422,
          0.2876308560371399,
          8.238428115844727,
          -26.54743003845215,
          -42.25943374633789,
          -2.9506189823150635,
          -21.734424591064453,
          -21.46657943725586,
          -27.270830154418945,
          -22.136302947998047,
          -20.029312133789062,
          -24.05599594116211,
          18.987165451049805,
          -25.375370025634766,
          -26.669729232788086,
          -19.037246704101562,
          -23.83278465270996,
          2.518636465072632,
          -17.075645446777344,
          16.571168899536133,
          -23.15620994567871,
          -26.801891326904297,
          2.065192699432373,
          -8.281861305236816,
          -6.201145648956299,
          -15.665863990783691,
          -16.88687515258789,
          -20.73121452331543,
          9.24581527709961,
          -24.029438018798828,
          -16.356306076049805,
          -10.200255393981934,
          -15.569133758544922,
          -28.345773696899414,
          -21.025455474853516,
          -9.832568168640137,
          6.120848655700684,
          -19.4406681060791,
          -14.138138771057129,
          -25.48404312133789,
          -28.423355102539062,
          14.127264022827148,
          -20.304887771606445,
          -29.591922760009766,
          -27.80733871459961,
          -11.261043548583984,
          -0.5214413404464722,
          127.60057067871094,
          -18.524980545043945,
          -17.843013763427734,
          -26.994354248046875,
          -29.461854934692383,
          -1.6086217164993286,
          -16.884567260742188,
          6.778666019439697,
          -13.283109664916992,
          10.46846866607666,
          -27.161678314208984,
          7.292974472045898,
          -1.563989281654358,
          -3.0066323280334473,
          -1.374645471572876,
          -0.4895268678665161,
          1.8690766096115112,
          2.7330658435821533,
          -9.777782440185547,
          -18.08457374572754,
          -15.269906044006348,
          0.8874223232269287,
          4.893166542053223,
          -5.919886112213135,
          -17.683881759643555,
          12.11388111114502,
          13.049344062805176,
          -4.845855236053467,
          -21.48969841003418,
          1.2905257940292358,
          -15.377307891845703,
          4.812404632568359,
          1.8874361515045166,
          10.049779891967773,
          7.970026016235352,
          -24.919008255004883
         ],
         "z": [
          9.53197193145752,
          9.57335376739502,
          7.666819095611572,
          12.332613945007324,
          -2.240938425064087,
          4.1579461097717285,
          69.30937194824219,
          3.7845757007598877,
          9.218828201293945,
          -2.7527353763580322,
          -6.6117024421691895,
          -9.284784317016602,
          1.5078284740447998,
          -0.8405643701553345,
          10.754899978637695,
          -5.201469898223877,
          -1.793112874031067,
          5.52886438369751,
          8.401768684387207,
          -11.876882553100586,
          6.62180233001709,
          -2.591778039932251,
          -14.838632583618164,
          -2.65077805519104,
          24.078472137451172,
          -21.51104736328125,
          -9.853985786437988,
          8.165149688720703,
          -0.12358630448579788,
          -6.757519721984863,
          -1.8719618320465088,
          -1.3568332195281982,
          -8.068865776062012,
          -3.682899236679077,
          -7.9292988777160645,
          3.1394717693328857,
          8.026867866516113,
          -9.65349292755127,
          10.561279296875,
          0.27207931876182556,
          -12.487892150878906,
          -3.1601366996765137,
          -4.591520309448242,
          20.080402374267578,
          -11.978772163391113,
          6.3451828956604,
          -4.866749286651611,
          12.558052062988281,
          -5.335000991821289,
          15.483501434326172,
          3.512901544570923,
          23.515975952148438,
          -4.340579032897949,
          -7.0037713050842285,
          -2.8299262523651123,
          -7.052609443664551,
          0.05062533915042877,
          -4.988108158111572,
          -8.432863235473633,
          11.647521018981934,
          -2.98518705368042,
          23.80101203918457,
          -8.221772193908691,
          -9.2034912109375,
          19.5771484375,
          7.539278507232666,
          -1.932456374168396,
          5.040639877319336,
          -5.628282070159912,
          -9.379570007324219,
          -10.263843536376953,
          -6.007943153381348,
          -4.311363220214844,
          3.721047878265381,
          -5.954563617706299,
          -4.287938117980957,
          17.79243278503418,
          -2.181363821029663,
          -2.1588146686553955,
          -1.2434390783309937,
          -4.987863063812256,
          -3.26471209526062,
          6.32472562789917,
          12.5286865234375,
          -3.1587657928466797,
          4.913025856018066,
          8.742948532104492,
          2.810516119003296,
          14.00421142578125,
          -4.507615566253662,
          9.067113876342773,
          3.315058708190918,
          -3.0897409915924072,
          -113.68861389160156,
          1.8277684450149536,
          2.7214672565460205,
          -7.884922504425049,
          20.4993896484375,
          -2.833489179611206,
          5.646518230438232,
          1.9443696737289429,
          1.6533063650131226,
          4.935474872589111,
          -184.99435424804688,
          -8.848250389099121,
          -12.604214668273926,
          -2.0804643630981445,
          -5.894814968109131,
          -10.323206901550293,
          7.238590240478516,
          4.13508415222168,
          -8.491902351379395,
          0.769481897354126,
          6.1671576499938965,
          1.9352059364318848,
          13.307368278503418,
          -5.415008544921875,
          -4.522883892059326,
          21.3786678314209,
          0.7807945609092712,
          -7.49458122253418,
          -20.49005126953125,
          -7.104421615600586,
          -13.194361686706543,
          5.8490471839904785,
          2.5402815341949463,
          5.901520252227783,
          -7.182956695556641,
          3.5505518913269043,
          -2.052159309387207,
          -4.9472527503967285,
          17.425508499145508,
          -4.641134262084961,
          2.7535386085510254,
          105.1537857055664,
          -11.71806812286377,
          11.810522079467773,
          -2.9842734336853027,
          9.468674659729004,
          8.126065254211426,
          -2.911102771759033,
          -5.464696884155273,
          -3.654226303100586,
          1.4638711214065552,
          -5.789161682128906,
          -12.232077598571777,
          6.338399410247803,
          12.24473762512207,
          -0.7461841106414795,
          19.872364044189453,
          0.9823704361915588,
          22.571170806884766,
          11.471514701843262,
          -18.05573844909668,
          3.1034491062164307,
          -2.2439353466033936,
          10.857026100158691,
          1.4350652694702148,
          -2.1864142417907715,
          -5.15687370300293,
          -4.9389448165893555,
          14.250812530517578,
          -6.177495956420898,
          -4.362673282623291,
          9.72375774383545,
          -15.44753646850586,
          -11.780966758728027,
          6.261496067047119,
          3.3633463382720947,
          22.781843185424805,
          5.082404613494873,
          -8.905560493469238,
          28.894880294799805,
          6.184932708740234,
          -4.911586761474609,
          -10.686809539794922,
          7.166134357452393,
          4.736314296722412,
          26.403093338012695,
          7.289196968078613,
          -14.066394805908203,
          -5.073433876037598,
          -17.90410041809082,
          -4.997525691986084,
          0.43947523832321167,
          -10.579927444458008,
          -18.625900268554688,
          19.84807014465332,
          10.200603485107422,
          23.4647274017334,
          10.819082260131836,
          7.953589916229248,
          13.886260986328125,
          -3.5052919387817383,
          7.662232398986816,
          -0.5304073095321655,
          7.7279953956604,
          -7.936706066131592,
          14.7390775680542,
          -4.040965557098389,
          26.403982162475586,
          -2.4740195274353027,
          0.639200747013092,
          4.417971611022949,
          3.7034912109375,
          -2.3520076274871826,
          -2.3947806358337402,
          -4.764647006988525,
          19.44810676574707,
          -11.46469497680664,
          6.437554836273193,
          16.93238067626953,
          2.19386887550354,
          9.36857795715332,
          -2.43359112739563,
          1.0783576965332031,
          4.690735340118408,
          -11.598353385925293,
          1.6183968782424927,
          -8.6487398147583,
          -5.947238445281982,
          -2.706756114959717,
          10.59556770324707,
          -5.616518020629883,
          9.563608169555664,
          -11.798802375793457,
          25.822803497314453,
          -2.8336069583892822,
          -18.043947219848633,
          -9.59210205078125,
          -7.244292736053467,
          6.383376598358154,
          5.716250896453857,
          26.957326889038086,
          -2.5538625717163086,
          0.4565325379371643,
          5.471328258514404,
          26.437467575073242,
          16.994056701660156,
          18.731624603271484,
          -8.18108081817627,
          -2.2394731044769287,
          -4.7367777824401855,
          7.165168285369873,
          2.7587292194366455,
          -8.42005443572998,
          -1.6895893812179565,
          24.420547485351562,
          -6.521223068237305,
          -251.31533813476562,
          -17.812402725219727,
          -5.89098596572876,
          2.5832061767578125,
          14.49571418762207,
          -3.250072956085205,
          -3.311398983001709,
          13.659467697143555,
          -5.340887069702148,
          4.011509418487549,
          -1.9154976606369019,
          9.69638729095459,
          7.841527938842773,
          13.328204154968262,
          3.466610908508301,
          14.358805656433105,
          8.232715606689453,
          5.121372699737549,
          -5.427995681762695,
          -4.953825950622559,
          -12.105224609375,
          7.203308582305908,
          4.5866312980651855,
          -12.759458541870117,
          2.593722105026245,
          7.223876953125,
          10.430416107177734,
          5.988039016723633,
          -14.444012641906738,
          21.24964141845703,
          -5.024855613708496,
          -7.461827278137207,
          -8.295402526855469,
          -10.776073455810547,
          10.298796653747559,
          -4.668911457061768
         ]
        },
        {
         "hovertemplate": "color=k<br>x=%{x}<br>y=%{y}<br>z=%{z}<extra></extra>",
         "legendgroup": "k",
         "marker": {
          "color": "#EF553B",
          "symbol": "circle"
         },
         "mode": "markers",
         "name": "k",
         "scene": "scene",
         "showlegend": true,
         "type": "scatter3d",
         "x": [
          -30.420753479003906,
          14.17691421508789,
          12.718029975891113,
          16.983154296875,
          12.531632423400879,
          -31.240564346313477,
          -27.306659698486328,
          7.697423934936523,
          -0.621317982673645,
          10.457977294921875,
          8.440875053405762,
          0.956437885761261,
          -29.085914611816406,
          -6.767575740814209,
          -12.822087287902832,
          14.23212718963623,
          -3.913769245147705
         ],
         "y": [
          4.007169246673584,
          11.354602813720703,
          7.166856288909912,
          10.051630973815918,
          9.61036491394043,
          1.6657421588897705,
          -0.9921901822090149,
          23.777769088745117,
          27.08819580078125,
          23.537660598754883,
          25.0205135345459,
          24.817502975463867,
          1.697472333908081,
          14.14824104309082,
          19.68012046813965,
          7.279542446136475,
          23.597152709960938
         ],
         "z": [
          -13.806991577148438,
          -14.760540962219238,
          -12.816399574279785,
          -14.801094055175781,
          -15.422810554504395,
          -14.27605152130127,
          -16.835418701171875,
          -9.234328269958496,
          5.019114971160889,
          -9.666274070739746,
          -11.646202087402344,
          -6.9477996826171875,
          -15.567999839782715,
          -12.353919982910156,
          -7.848945617675781,
          -16.000593185424805,
          -12.802376747131348
         ]
        },
        {
         "hovertemplate": "color=g<br>x=%{x}<br>y=%{y}<br>z=%{z}<extra></extra>",
         "legendgroup": "g",
         "marker": {
          "color": "#00cc96",
          "symbol": "circle"
         },
         "mode": "markers",
         "name": "g",
         "scene": "scene",
         "showlegend": true,
         "type": "scatter3d",
         "x": [
          7.258779525756836,
          18.547761917114258,
          13.493264198303223,
          1.7243993282318115,
          1.4179623126983643,
          8.812419891357422,
          12.30667495727539,
          3.2501838207244873,
          13.350851058959961,
          4.83257532119751,
          9.513137817382812,
          1.0056315660476685,
          9.77731704711914,
          11.087596893310547,
          8.543438911437988,
          6.6485514640808105,
          119.45038604736328,
          0.013748791068792343,
          18.782182693481445,
          10.401054382324219,
          18.186777114868164,
          4.9118571281433105,
          16.083219528198242,
          11.511897087097168,
          15.475022315979004,
          16.06488609313965,
          19.05466079711914,
          13.101458549499512,
          7.995543956756592,
          15.77588939666748,
          9.068572044372559,
          8.362435340881348,
          22.07903480529785,
          6.7596116065979,
          6.902961730957031,
          8.086891174316406,
          14.3687162399292,
          18.539997100830078,
          13.235922813415527,
          8.404837608337402,
          21.565509796142578,
          21.585609436035156,
          6.600968837738037,
          7.064363956451416,
          2.4415862560272217,
          16.051517486572266,
          17.606853485107422,
          20.71451187133789,
          15.759593963623047,
          13.836289405822754,
          11.223855018615723,
          21.40593147277832,
          2.8568315505981445,
          25.203134536743164,
          13.254828453063965,
          15.336697578430176,
          25.67900276184082,
          13.890109062194824,
          17.452407836914062,
          23.120141983032227,
          9.965339660644531,
          5.4363789558410645,
          1.8093584775924683,
          3.794647216796875,
          3.0907816886901855,
          18.30752944946289,
          -31.12976837158203,
          11.464186668395996,
          10.592700958251953
         ],
         "y": [
          27.417020797729492,
          19.438631057739258,
          18.347332000732422,
          28.669353485107422,
          28.447622299194336,
          24.42845916748047,
          26.709463119506836,
          31.066734313964844,
          21.177873611450195,
          25.66746711730957,
          26.06939125061035,
          30.533100128173828,
          24.06299591064453,
          27.062894821166992,
          26.50107765197754,
          27.265174865722656,
          7.194135665893555,
          31.576446533203125,
          19.249290466308594,
          20.899019241333008,
          16.71277618408203,
          26.7634334564209,
          20.295726776123047,
          24.955141067504883,
          22.766498565673828,
          19.271053314208984,
          19.488147735595703,
          22.861108779907227,
          25.139381408691406,
          19.34834098815918,
          26.679622650146484,
          24.887346267700195,
          14.998286247253418,
          23.109743118286133,
          25.511371612548828,
          23.162879943847656,
          17.209138870239258,
          17.172903060913086,
          19.369455337524414,
          24.5936279296875,
          17.289831161499023,
          15.166069984436035,
          25.37563133239746,
          26.80156135559082,
          38.10472106933594,
          19.982194900512695,
          15.942595481872559,
          17.44512939453125,
          16.474458694458008,
          25.27295684814453,
          24.558584213256836,
          18.541912078857422,
          26.137174606323242,
          15.569816589355469,
          16.27312469482422,
          21.562110900878906,
          15.997166633605957,
          19.294057846069336,
          18.47958755493164,
          16.20000457763672,
          24.088743209838867,
          28.021650314331055,
          22.06984519958496,
          24.725154876708984,
          28.206815719604492,
          14.953001976013184,
          30.665061950683594,
          27.82818603515625,
          26.343551635742188
         ],
         "z": [
          6.563780784606934,
          13.252649307250977,
          22.675012588500977,
          12.067776679992676,
          7.7727131843566895,
          27.299192428588867,
          7.566989421844482,
          12.216638565063477,
          24.95664405822754,
          22.792659759521484,
          13.743245124816895,
          13.876070976257324,
          -2.504926919937134,
          1.961452603340149,
          8.944665908813477,
          13.280891418457031,
          44.78852462768555,
          10.924113273620605,
          6.158165454864502,
          26.752721786499023,
          11.342402458190918,
          20.51203155517578,
          21.952720642089844,
          5.576523780822754,
          17.089073181152344,
          12.314346313476562,
          1.5549989938735962,
          15.43603515625,
          23.748558044433594,
          8.55448055267334,
          -1.9826496839523315,
          18.252199172973633,
          7.3862152099609375,
          26.17429542541504,
          -4.04365348815918,
          21.968656539916992,
          25.394611358642578,
          4.797584533691406,
          27.261857986450195,
          -6.371634006500244,
          5.751684188842773,
          11.83359432220459,
          -1.0237042903900146,
          2.3010106086730957,
          -36.83362579345703,
          16.699871063232422,
          13.858884811401367,
          14.245015144348145,
          22.3489990234375,
          15.859454154968262,
          1.5774638652801514,
          1.785491704940796,
          -5.701615333557129,
          7.073034286499023,
          20.31306266784668,
          9.747523307800293,
          3.857192277908325,
          18.110687255859375,
          24.162580490112305,
          9.819003105163574,
          20.00321388244629,
          8.932872772216797,
          6.766127586364746,
          -8.219059944152832,
          14.890569686889648,
          24.23558235168457,
          56.71639633178711,
          4.978670597076416,
          11.108466148376465
         ]
        },
        {
         "hovertemplate": "color=r<br>x=%{x}<br>y=%{y}<br>z=%{z}<extra></extra>",
         "legendgroup": "r",
         "marker": {
          "color": "#ab63fa",
          "symbol": "circle"
         },
         "mode": "markers",
         "name": "r",
         "scene": "scene",
         "showlegend": true,
         "type": "scatter3d",
         "x": [
          -4.085951328277588,
          -3.614997148513794,
          -0.09093213826417923,
          0.025603393092751503,
          -0.8317543268203735,
          -5.500577926635742,
          -3.0499520301818848,
          -5.959803581237793,
          -1.6689637899398804,
          -2.4795591831207275,
          -0.99972003698349,
          -2.5517489910125732,
          -5.7214860916137695,
          -20.30048179626465,
          -3.750126838684082,
          -3.098863363265991,
          -4.586777210235596,
          5.7017621994018555,
          0.9788944125175476,
          0.6293817758560181,
          -7.108649730682373,
          -7.577425479888916,
          -9.279520034790039,
          2.730485677719116,
          -4.615138053894043,
          -7.43548059463501,
          -5.046298503875732,
          3.2228384017944336,
          0.5755764842033386,
          0.003441551234573126,
          -6.40046501159668,
          -5.2091169357299805,
          -3.1918282508850098,
          -6.279848575592041,
          -6.693490982055664,
          -3.8456530570983887,
          -4.283414840698242,
          -3.621323347091675,
          -1.5615966320037842,
          -3.6409952640533447,
          -3.3407163619995117,
          -7.73508358001709
         ],
         "y": [
          9.647178649902344,
          22.322906494140625,
          7.2958526611328125,
          18.60495948791504,
          9.390308380126953,
          12.460524559020996,
          5.917353630065918,
          23.415254592895508,
          4.942521095275879,
          8.140617370605469,
          3.9042539596557617,
          5.399032115936279,
          12.744651794433594,
          -28.36433219909668,
          10.715322494506836,
          8.901036262512207,
          19.285240173339844,
          12.136685371398926,
          4.916201591491699,
          9.47164249420166,
          16.607826232910156,
          14.708717346191406,
          19.305889129638672,
          7.6441755294799805,
          11.940206527709961,
          10.044224739074707,
          15.736417770385742,
          10.483235359191895,
          11.333802223205566,
          20.708059310913086,
          12.944133758544922,
          7.568490028381348,
          21.833450317382812,
          84.0194091796875,
          17.580738067626953,
          10.49262523651123,
          23.595195770263672,
          25.2569580078125,
          15.331459045410156,
          17.33540153503418,
          12.665172576904297,
          21.059579849243164
         ],
         "z": [
          -21.08344841003418,
          -19.58296012878418,
          -28.48909568786621,
          -27.214284896850586,
          -26.021282196044922,
          -21.90737533569336,
          -30.127025604248047,
          -19.00640106201172,
          -19.30973243713379,
          -22.706031799316406,
          -21.885900497436523,
          -23.80036735534668,
          -15.349798202514648,
          -7.306142330169678,
          -29.400466918945312,
          -18.708662033081055,
          -25.388078689575195,
          -29.82846450805664,
          -19.455684661865234,
          -31.175790786743164,
          -23.67688751220703,
          -26.91334342956543,
          -21.590850830078125,
          -30.027124404907227,
          -13.192132949829102,
          -29.289871215820312,
          -25.464258193969727,
          -30.204204559326172,
          -26.866342544555664,
          -24.95087432861328,
          -29.895977020263672,
          -30.692829132080078,
          -22.172800064086914,
          -56.28150939941406,
          -27.188945770263672,
          -15.49812126159668,
          -15.73551082611084,
          -18.42499351501465,
          -29.1809139251709,
          -28.78260612487793,
          -31.68842887878418,
          -20.232154846191406
         ]
        }
       ],
       "layout": {
        "legend": {
         "title": {
          "text": "color"
         },
         "tracegroupgap": 0
        },
        "margin": {
         "t": 60
        },
        "scene": {
         "domain": {
          "x": [
           0,
           1
          ],
          "y": [
           0,
           1
          ]
         },
         "xaxis": {
          "title": {
           "text": "x"
          }
         },
         "yaxis": {
          "title": {
           "text": "y"
          }
         },
         "zaxis": {
          "title": {
           "text": "z"
          }
         }
        },
        "template": {
         "data": {
          "bar": [
           {
            "error_x": {
             "color": "#2a3f5f"
            },
            "error_y": {
             "color": "#2a3f5f"
            },
            "marker": {
             "line": {
              "color": "#E5ECF6",
              "width": 0.5
             },
             "pattern": {
              "fillmode": "overlay",
              "size": 10,
              "solidity": 0.2
             }
            },
            "type": "bar"
           }
          ],
          "barpolar": [
           {
            "marker": {
             "line": {
              "color": "#E5ECF6",
              "width": 0.5
             },
             "pattern": {
              "fillmode": "overlay",
              "size": 10,
              "solidity": 0.2
             }
            },
            "type": "barpolar"
           }
          ],
          "carpet": [
           {
            "aaxis": {
             "endlinecolor": "#2a3f5f",
             "gridcolor": "white",
             "linecolor": "white",
             "minorgridcolor": "white",
             "startlinecolor": "#2a3f5f"
            },
            "baxis": {
             "endlinecolor": "#2a3f5f",
             "gridcolor": "white",
             "linecolor": "white",
             "minorgridcolor": "white",
             "startlinecolor": "#2a3f5f"
            },
            "type": "carpet"
           }
          ],
          "choropleth": [
           {
            "colorbar": {
             "outlinewidth": 0,
             "ticks": ""
            },
            "type": "choropleth"
           }
          ],
          "contour": [
           {
            "colorbar": {
             "outlinewidth": 0,
             "ticks": ""
            },
            "colorscale": [
             [
              0,
              "#0d0887"
             ],
             [
              0.1111111111111111,
              "#46039f"
             ],
             [
              0.2222222222222222,
              "#7201a8"
             ],
             [
              0.3333333333333333,
              "#9c179e"
             ],
             [
              0.4444444444444444,
              "#bd3786"
             ],
             [
              0.5555555555555556,
              "#d8576b"
             ],
             [
              0.6666666666666666,
              "#ed7953"
             ],
             [
              0.7777777777777778,
              "#fb9f3a"
             ],
             [
              0.8888888888888888,
              "#fdca26"
             ],
             [
              1,
              "#f0f921"
             ]
            ],
            "type": "contour"
           }
          ],
          "contourcarpet": [
           {
            "colorbar": {
             "outlinewidth": 0,
             "ticks": ""
            },
            "type": "contourcarpet"
           }
          ],
          "heatmap": [
           {
            "colorbar": {
             "outlinewidth": 0,
             "ticks": ""
            },
            "colorscale": [
             [
              0,
              "#0d0887"
             ],
             [
              0.1111111111111111,
              "#46039f"
             ],
             [
              0.2222222222222222,
              "#7201a8"
             ],
             [
              0.3333333333333333,
              "#9c179e"
             ],
             [
              0.4444444444444444,
              "#bd3786"
             ],
             [
              0.5555555555555556,
              "#d8576b"
             ],
             [
              0.6666666666666666,
              "#ed7953"
             ],
             [
              0.7777777777777778,
              "#fb9f3a"
             ],
             [
              0.8888888888888888,
              "#fdca26"
             ],
             [
              1,
              "#f0f921"
             ]
            ],
            "type": "heatmap"
           }
          ],
          "heatmapgl": [
           {
            "colorbar": {
             "outlinewidth": 0,
             "ticks": ""
            },
            "colorscale": [
             [
              0,
              "#0d0887"
             ],
             [
              0.1111111111111111,
              "#46039f"
             ],
             [
              0.2222222222222222,
              "#7201a8"
             ],
             [
              0.3333333333333333,
              "#9c179e"
             ],
             [
              0.4444444444444444,
              "#bd3786"
             ],
             [
              0.5555555555555556,
              "#d8576b"
             ],
             [
              0.6666666666666666,
              "#ed7953"
             ],
             [
              0.7777777777777778,
              "#fb9f3a"
             ],
             [
              0.8888888888888888,
              "#fdca26"
             ],
             [
              1,
              "#f0f921"
             ]
            ],
            "type": "heatmapgl"
           }
          ],
          "histogram": [
           {
            "marker": {
             "pattern": {
              "fillmode": "overlay",
              "size": 10,
              "solidity": 0.2
             }
            },
            "type": "histogram"
           }
          ],
          "histogram2d": [
           {
            "colorbar": {
             "outlinewidth": 0,
             "ticks": ""
            },
            "colorscale": [
             [
              0,
              "#0d0887"
             ],
             [
              0.1111111111111111,
              "#46039f"
             ],
             [
              0.2222222222222222,
              "#7201a8"
             ],
             [
              0.3333333333333333,
              "#9c179e"
             ],
             [
              0.4444444444444444,
              "#bd3786"
             ],
             [
              0.5555555555555556,
              "#d8576b"
             ],
             [
              0.6666666666666666,
              "#ed7953"
             ],
             [
              0.7777777777777778,
              "#fb9f3a"
             ],
             [
              0.8888888888888888,
              "#fdca26"
             ],
             [
              1,
              "#f0f921"
             ]
            ],
            "type": "histogram2d"
           }
          ],
          "histogram2dcontour": [
           {
            "colorbar": {
             "outlinewidth": 0,
             "ticks": ""
            },
            "colorscale": [
             [
              0,
              "#0d0887"
             ],
             [
              0.1111111111111111,
              "#46039f"
             ],
             [
              0.2222222222222222,
              "#7201a8"
             ],
             [
              0.3333333333333333,
              "#9c179e"
             ],
             [
              0.4444444444444444,
              "#bd3786"
             ],
             [
              0.5555555555555556,
              "#d8576b"
             ],
             [
              0.6666666666666666,
              "#ed7953"
             ],
             [
              0.7777777777777778,
              "#fb9f3a"
             ],
             [
              0.8888888888888888,
              "#fdca26"
             ],
             [
              1,
              "#f0f921"
             ]
            ],
            "type": "histogram2dcontour"
           }
          ],
          "mesh3d": [
           {
            "colorbar": {
             "outlinewidth": 0,
             "ticks": ""
            },
            "type": "mesh3d"
           }
          ],
          "parcoords": [
           {
            "line": {
             "colorbar": {
              "outlinewidth": 0,
              "ticks": ""
             }
            },
            "type": "parcoords"
           }
          ],
          "pie": [
           {
            "automargin": true,
            "type": "pie"
           }
          ],
          "scatter": [
           {
            "fillpattern": {
             "fillmode": "overlay",
             "size": 10,
             "solidity": 0.2
            },
            "type": "scatter"
           }
          ],
          "scatter3d": [
           {
            "line": {
             "colorbar": {
              "outlinewidth": 0,
              "ticks": ""
             }
            },
            "marker": {
             "colorbar": {
              "outlinewidth": 0,
              "ticks": ""
             }
            },
            "type": "scatter3d"
           }
          ],
          "scattercarpet": [
           {
            "marker": {
             "colorbar": {
              "outlinewidth": 0,
              "ticks": ""
             }
            },
            "type": "scattercarpet"
           }
          ],
          "scattergeo": [
           {
            "marker": {
             "colorbar": {
              "outlinewidth": 0,
              "ticks": ""
             }
            },
            "type": "scattergeo"
           }
          ],
          "scattergl": [
           {
            "marker": {
             "colorbar": {
              "outlinewidth": 0,
              "ticks": ""
             }
            },
            "type": "scattergl"
           }
          ],
          "scattermapbox": [
           {
            "marker": {
             "colorbar": {
              "outlinewidth": 0,
              "ticks": ""
             }
            },
            "type": "scattermapbox"
           }
          ],
          "scatterpolar": [
           {
            "marker": {
             "colorbar": {
              "outlinewidth": 0,
              "ticks": ""
             }
            },
            "type": "scatterpolar"
           }
          ],
          "scatterpolargl": [
           {
            "marker": {
             "colorbar": {
              "outlinewidth": 0,
              "ticks": ""
             }
            },
            "type": "scatterpolargl"
           }
          ],
          "scatterternary": [
           {
            "marker": {
             "colorbar": {
              "outlinewidth": 0,
              "ticks": ""
             }
            },
            "type": "scatterternary"
           }
          ],
          "surface": [
           {
            "colorbar": {
             "outlinewidth": 0,
             "ticks": ""
            },
            "colorscale": [
             [
              0,
              "#0d0887"
             ],
             [
              0.1111111111111111,
              "#46039f"
             ],
             [
              0.2222222222222222,
              "#7201a8"
             ],
             [
              0.3333333333333333,
              "#9c179e"
             ],
             [
              0.4444444444444444,
              "#bd3786"
             ],
             [
              0.5555555555555556,
              "#d8576b"
             ],
             [
              0.6666666666666666,
              "#ed7953"
             ],
             [
              0.7777777777777778,
              "#fb9f3a"
             ],
             [
              0.8888888888888888,
              "#fdca26"
             ],
             [
              1,
              "#f0f921"
             ]
            ],
            "type": "surface"
           }
          ],
          "table": [
           {
            "cells": {
             "fill": {
              "color": "#EBF0F8"
             },
             "line": {
              "color": "white"
             }
            },
            "header": {
             "fill": {
              "color": "#C8D4E3"
             },
             "line": {
              "color": "white"
             }
            },
            "type": "table"
           }
          ]
         },
         "layout": {
          "annotationdefaults": {
           "arrowcolor": "#2a3f5f",
           "arrowhead": 0,
           "arrowwidth": 1
          },
          "autotypenumbers": "strict",
          "coloraxis": {
           "colorbar": {
            "outlinewidth": 0,
            "ticks": ""
           }
          },
          "colorscale": {
           "diverging": [
            [
             0,
             "#8e0152"
            ],
            [
             0.1,
             "#c51b7d"
            ],
            [
             0.2,
             "#de77ae"
            ],
            [
             0.3,
             "#f1b6da"
            ],
            [
             0.4,
             "#fde0ef"
            ],
            [
             0.5,
             "#f7f7f7"
            ],
            [
             0.6,
             "#e6f5d0"
            ],
            [
             0.7,
             "#b8e186"
            ],
            [
             0.8,
             "#7fbc41"
            ],
            [
             0.9,
             "#4d9221"
            ],
            [
             1,
             "#276419"
            ]
           ],
           "sequential": [
            [
             0,
             "#0d0887"
            ],
            [
             0.1111111111111111,
             "#46039f"
            ],
            [
             0.2222222222222222,
             "#7201a8"
            ],
            [
             0.3333333333333333,
             "#9c179e"
            ],
            [
             0.4444444444444444,
             "#bd3786"
            ],
            [
             0.5555555555555556,
             "#d8576b"
            ],
            [
             0.6666666666666666,
             "#ed7953"
            ],
            [
             0.7777777777777778,
             "#fb9f3a"
            ],
            [
             0.8888888888888888,
             "#fdca26"
            ],
            [
             1,
             "#f0f921"
            ]
           ],
           "sequentialminus": [
            [
             0,
             "#0d0887"
            ],
            [
             0.1111111111111111,
             "#46039f"
            ],
            [
             0.2222222222222222,
             "#7201a8"
            ],
            [
             0.3333333333333333,
             "#9c179e"
            ],
            [
             0.4444444444444444,
             "#bd3786"
            ],
            [
             0.5555555555555556,
             "#d8576b"
            ],
            [
             0.6666666666666666,
             "#ed7953"
            ],
            [
             0.7777777777777778,
             "#fb9f3a"
            ],
            [
             0.8888888888888888,
             "#fdca26"
            ],
            [
             1,
             "#f0f921"
            ]
           ]
          },
          "colorway": [
           "#636efa",
           "#EF553B",
           "#00cc96",
           "#ab63fa",
           "#FFA15A",
           "#19d3f3",
           "#FF6692",
           "#B6E880",
           "#FF97FF",
           "#FECB52"
          ],
          "font": {
           "color": "#2a3f5f"
          },
          "geo": {
           "bgcolor": "white",
           "lakecolor": "white",
           "landcolor": "#E5ECF6",
           "showlakes": true,
           "showland": true,
           "subunitcolor": "white"
          },
          "hoverlabel": {
           "align": "left"
          },
          "hovermode": "closest",
          "mapbox": {
           "style": "light"
          },
          "paper_bgcolor": "white",
          "plot_bgcolor": "#E5ECF6",
          "polar": {
           "angularaxis": {
            "gridcolor": "white",
            "linecolor": "white",
            "ticks": ""
           },
           "bgcolor": "#E5ECF6",
           "radialaxis": {
            "gridcolor": "white",
            "linecolor": "white",
            "ticks": ""
           }
          },
          "scene": {
           "xaxis": {
            "backgroundcolor": "#E5ECF6",
            "gridcolor": "white",
            "gridwidth": 2,
            "linecolor": "white",
            "showbackground": true,
            "ticks": "",
            "zerolinecolor": "white"
           },
           "yaxis": {
            "backgroundcolor": "#E5ECF6",
            "gridcolor": "white",
            "gridwidth": 2,
            "linecolor": "white",
            "showbackground": true,
            "ticks": "",
            "zerolinecolor": "white"
           },
           "zaxis": {
            "backgroundcolor": "#E5ECF6",
            "gridcolor": "white",
            "gridwidth": 2,
            "linecolor": "white",
            "showbackground": true,
            "ticks": "",
            "zerolinecolor": "white"
           }
          },
          "shapedefaults": {
           "line": {
            "color": "#2a3f5f"
           }
          },
          "ternary": {
           "aaxis": {
            "gridcolor": "white",
            "linecolor": "white",
            "ticks": ""
           },
           "baxis": {
            "gridcolor": "white",
            "linecolor": "white",
            "ticks": ""
           },
           "bgcolor": "#E5ECF6",
           "caxis": {
            "gridcolor": "white",
            "linecolor": "white",
            "ticks": ""
           }
          },
          "title": {
           "x": 0.05
          },
          "xaxis": {
           "automargin": true,
           "gridcolor": "white",
           "linecolor": "white",
           "ticks": "",
           "title": {
            "standoff": 15
           },
           "zerolinecolor": "white",
           "zerolinewidth": 2
          },
          "yaxis": {
           "automargin": true,
           "gridcolor": "white",
           "linecolor": "white",
           "ticks": "",
           "title": {
            "standoff": 15
           },
           "zerolinecolor": "white",
           "zerolinewidth": 2
          }
         }
        }
       }
      },
      "text/html": [
       "<div>                            <div id=\"b855a188-e2b2-49df-81d9-c19f8ecb4d21\" class=\"plotly-graph-div\" style=\"height:525px; width:100%;\"></div>            <script type=\"text/javascript\">                require([\"plotly\"], function(Plotly) {                    window.PLOTLYENV=window.PLOTLYENV || {};                                    if (document.getElementById(\"b855a188-e2b2-49df-81d9-c19f8ecb4d21\")) {                    Plotly.newPlot(                        \"b855a188-e2b2-49df-81d9-c19f8ecb4d21\",                        [{\"hovertemplate\":\"color=b<br>x=%{x}<br>y=%{y}<br>z=%{z}<extra></extra>\",\"legendgroup\":\"b\",\"marker\":{\"color\":\"#636efa\",\"symbol\":\"circle\"},\"mode\":\"markers\",\"name\":\"b\",\"scene\":\"scene\",\"showlegend\":true,\"x\":[-9.046331405639648,-11.44273853302002,-21.65359878540039,-10.454161643981934,4.739521503448486,-19.475872039794922,17.40998649597168,-9.488744735717773,-9.10183048248291,-0.4006132185459137,-28.92538833618164,-6.156496047973633,-15.647710800170898,6.842092037200928,2.4186394214630127,-22.01750373840332,7.418874740600586,-20.109895706176758,3.140411615371704,9.601218223571777,-7.681477069854736,-2.822824001312256,-22.153762817382812,-23.4920711517334,2.5159270763397217,-53.05295944213867,-20.876514434814453,22.53696632385254,18.218494415283203,-4.738011360168457,11.321849822998047,-24.681163787841797,13.276442527770996,16.02425765991211,13.19835090637207,-0.4524790942668915,-7.665225505828857,9.751333236694336,-24.262834548950195,18.003067016601562,-22.20755386352539,16.76701545715332,-21.5905704498291,0.016933299601078033,10.16472339630127,-0.188185915350914,-0.545369029045105,-8.661247253417969,12.27123737335205,1.374219298362732,-3.0602657794952393,-3.1432130336761475,22.514066696166992,-7.357227802276611,-20.091787338256836,14.787997245788574,-20.44294548034668,11.562552452087402,-12.350040435791016,-13.450438499450684,-18.168781280517578,0.7296750545501709,8.441187858581543,8.892831802368164,-14.191119194030762,6.428370475769043,17.71136474609375,-16.78411102294922,-13.253026962280273,10.658899307250977,5.847597122192383,-24.23939323425293,0.8367011547088623,-17.906381607055664,-23.212451934814453,13.700352668762207,4.769161224365234,21.045066833496094,24.951366424560547,26.944141387939453,3.0134897232055664,-17.8173885345459,-7.3868279457092285,-4.03265380859375,-2.5581603050231934,-18.897409439086914,-6.155820369720459,-3.4224536418914795,-1.1587519645690918,18.633831024169922,-19.66817855834961,-5.748752593994141,-25.100772857666016,10.462860107421875,-18.787124633789062,-3.2394230365753174,9.277685165405273,-3.0637855529785156,-16.58060073852539,-2.1501715183258057,-15.762643814086914,17.20548439025879,-9.80859088897705,-81.791015625,-25.88500213623047,-13.466221809387207,-21.783063888549805,21.90608024597168,-26.178306579589844,-10.187676429748535,22.5817928314209,0.6889179944992065,8.243086814880371,111.77555847167969,14.432371139526367,-10.683236122131348,18.909774780273438,-21.875226974487305,1.712481141090393,-23.596887588500977,-19.863386154174805,-16.37049674987793,-0.6079948544502258,-0.9830238819122314,5.461564064025879,5.218622207641602,9.420888900756836,-23.068599700927734,-15.083608627319336,-57.99257278442383,21.915943145751953,-13.269302368164062,26.272008895874023,-7.556407928466797,-2.2214200496673584,-7.438316822052002,-7.536221981048584,14.945371627807617,-13.286153793334961,-24.12965202331543,-5.632994174957275,11.121540069580078,13.428407669067383,-14.717876434326172,-16.63210105895996,-14.445272445678711,12.615036964416504,-2.2531309127807617,15.554095268249512,7.517563819885254,8.247428894042969,-14.375052452087402,-6.913936614990234,-18.74449920654297,-23.160602569580078,6.463624954223633,-21.889911651611328,-21.653825759887695,19.019359588623047,23.89085578918457,11.498507499694824,-0.3595922291278839,15.935079574584961,11.015056610107422,-8.33598804473877,-2.5350711345672607,6.526896953582764,15.086762428283691,9.853147506713867,-4.403838634490967,-21.218069076538086,-28.311573028564453,1.472746729850769,23.024507522583008,-27.26386833190918,-0.9812009930610657,-19.006839752197266,-14.563387870788574,-0.874816358089447,-18.170169830322266,-25.504581451416016,-23.460344314575195,-15.870013236999512,16.130596160888672,-17.349424362182617,0.70964515209198,-18.17450523376465,-14.88231372833252,-0.32087424397468567,-0.31290146708488464,-0.15711086988449097,-12.32091236114502,-1.053704023361206,13.93487548828125,18.37950325012207,18.96958351135254,1.8260059356689453,-10.412586212158203,1.61017644405365,10.402091026306152,-1.1181079149246216,-13.621132850646973,24.572240829467773,4.072630405426025,-22.740121841430664,24.344881057739258,-38.88062286376953,18.040685653686523,4.244079113006592,-9.578176498413086,15.709016799926758,1.9835727214813232,18.174583435058594,20.06842041015625,-17.727121353149414,5.719417095184326,18.981515884399414,-11.758330345153809,14.255215644836426,-27.391080856323242,-16.267925262451172,-21.71391487121582,0.1479852795600891,18.608003616333008,-4.883203983306885,-23.714614868164062,1.5827901363372803,17.46265983581543,-13.065000534057617,-13.370770454406738,-28.16254997253418,18.554306030273438,-12.714818954467773,2.401414155960083,-15.110689163208008,5.053903579711914,-4.5065131187438965,-4.486534118652344,-16.506053924560547,2.0014686584472656,-16.786325454711914,0.11428079009056091,7.675745487213135,-15.224557876586914,-8.314894676208496,1.9760621786117554,6.619262218475342,-3.8100340366363525,-27.496360778808594,-118.56483459472656,-8.659415245056152,-10.529463768005371,11.215337753295898,81.71478271484375,9.197097778320312,9.216344833374023,-16.529701232910156,21.596195220947266,-25.116653442382812,10.542902946472168,-14.2475004196167,4.384600639343262,1.5435917377471924,7.662912845611572,-12.42553997039795,-1.9002189636230469,-16.467716217041016,-19.668596267700195,-7.376601219177246,7.120086193084717,-23.11838722229004,-13.888901710510254,-24.610334396362305,17.605485916137695,-23.40083122253418,-14.429879188537598,-20.432270050048828,-6.825558662414551,-12.43630599975586,-6.855988025665283,-28.456457138061523,-30.104843139648438,8.769777297973633,-22.330543518066406,22.327835083007812],\"y\":[-1.5340672731399536,6.574012279510498,-1.8590061664581299,-0.41136372089385986,-16.96223258972168,14.269585609436035,-27.497920989990234,12.495722770690918,8.527955055236816,-22.2428035736084,11.621274948120117,-9.86121654510498,6.600394248962402,-22.95342445373535,-0.994309663772583,14.901973724365234,-15.746891975402832,6.11449670791626,-23.23505401611328,-14.151230812072754,-18.99390983581543,-23.76114273071289,-8.684488296508789,14.155314445495605,-9.423970222473145,37.35771179199219,-9.008581161499023,-25.974454879760742,-9.869290351867676,-9.65532398223877,-1.3009191751480103,11.801981925964355,-8.881010055541992,2.0357797145843506,-11.895366668701172,2.9733541011810303,0.006850101985037327,6.681643009185791,10.029695510864258,-16.246273040771484,-5.687689781188965,-5.8213324546813965,-8.03565502166748,-5.769979476928711,7.677053451538086,0.7847827076911926,-25.03753662109375,3.7726967334747314,-15.074109077453613,-5.082414150238037,-0.4331987202167511,-5.324719429016113,-15.876425743103027,-10.194954872131348,20.718265533447266,-27.792743682861328,-9.152871131896973,-28.964563369750977,-16.195659637451172,5.582106590270996,-15.532862663269043,-11.88512134552002,5.096437454223633,-29.941360473632812,4.940958499908447,-21.880420684814453,-1.447306752204895,12.868429183959961,-18.14061737060547,-15.994688987731934,-31.05203628540039,11.842206954956055,-28.931198120117188,-13.614554405212402,8.024569511413574,-6.779545783996582,-19.383331298828125,-13.033788681030273,-23.372880935668945,-25.50701141357422,-27.92346954345703,15.198331832885742,12.196139335632324,1.840895652770996,-20.32362174987793,-9.368785858154297,11.046630859375,2.1816976070404053,-0.23901543021202087,0.09213738888502121,-4.5717453956604,0.888896644115448,8.691638946533203,84.04073333740234,-11.279043197631836,-21.84109115600586,-27.648595809936523,-5.940124034881592,-17.94634246826172,-21.76734161376953,-12.668383598327637,-24.692529678344727,-19.58407974243164,23.154285430908203,-3.6616997718811035,-21.47683334350586,11.465152740478516,-17.896011352539062,-0.9240994453430176,-17.478626251220703,-26.075510025024414,-24.7843017578125,-27.36046600341797,-58.84355545043945,-26.56248664855957,2.5020625591278076,-16.106048583984375,18.80419158935547,-11.221720695495605,10.017218589782715,-5.749551296234131,-12.341777801513672,-29.44001007080078,-24.91731071472168,-24.06086540222168,-21.673030853271484,-26.912843704223633,-7.033667087554932,-15.212780952453613,-21.989362716674805,39.07378387451172,3.340461492538452,-24.703784942626953,13.797632217407227,70.89799499511719,-23.343299865722656,7.078225135803223,-2.5804948806762695,15.482879638671875,8.066954612731934,-20.94005584716797,3.8352320194244385,-13.614950180053711,9.195090293884277,19.539522171020508,8.181456565856934,-26.681859970092773,-22.366670608520508,-4.300848484039307,-18.474538803100586,-0.40056312084198,2.525477409362793,9.676780700683594,-10.724989891052246,12.476180076599121,-20.476518630981445,11.262657165527344,14.594732284545898,-4.460450649261475,-22.3205509185791,-26.4284610748291,-22.955080032348633,-14.693780899047852,-6.902839660644531,12.321738243103027,-26.301456451416016,-29.170372009277344,-24.349538803100586,-2.7594263553619385,-7.684845924377441,-0.6396019458770752,-1.9303383827209473,-6.569674491882324,-23.911819458007812,6.709972381591797,-30.87407684326172,-7.752499580383301,1.7057619094848633,-7.214428901672363,6.9911208152771,-2.6022753715515137,-5.642113208770752,-12.633161544799805,-28.34609031677246,-15.012086868286133,-26.80893898010254,-13.768354415893555,1.6886509656906128,-20.635656356811523,-7.566712379455566,2.596472978591919,13.581685066223145,2.2233128547668457,3.896430492401123,-26.55345344543457,-12.694981575012207,-0.7338266968727112,-9.151679039001465,-20.019012451171875,1.8799445629119873,-10.834845542907715,16.03583526611328,-25.807781219482422,0.2876308560371399,8.238428115844727,-26.54743003845215,-42.25943374633789,-2.9506189823150635,-21.734424591064453,-21.46657943725586,-27.270830154418945,-22.136302947998047,-20.029312133789062,-24.05599594116211,18.987165451049805,-25.375370025634766,-26.669729232788086,-19.037246704101562,-23.83278465270996,2.518636465072632,-17.075645446777344,16.571168899536133,-23.15620994567871,-26.801891326904297,2.065192699432373,-8.281861305236816,-6.201145648956299,-15.665863990783691,-16.88687515258789,-20.73121452331543,9.24581527709961,-24.029438018798828,-16.356306076049805,-10.200255393981934,-15.569133758544922,-28.345773696899414,-21.025455474853516,-9.832568168640137,6.120848655700684,-19.4406681060791,-14.138138771057129,-25.48404312133789,-28.423355102539062,14.127264022827148,-20.304887771606445,-29.591922760009766,-27.80733871459961,-11.261043548583984,-0.5214413404464722,127.60057067871094,-18.524980545043945,-17.843013763427734,-26.994354248046875,-29.461854934692383,-1.6086217164993286,-16.884567260742188,6.778666019439697,-13.283109664916992,10.46846866607666,-27.161678314208984,7.292974472045898,-1.563989281654358,-3.0066323280334473,-1.374645471572876,-0.4895268678665161,1.8690766096115112,2.7330658435821533,-9.777782440185547,-18.08457374572754,-15.269906044006348,0.8874223232269287,4.893166542053223,-5.919886112213135,-17.683881759643555,12.11388111114502,13.049344062805176,-4.845855236053467,-21.48969841003418,1.2905257940292358,-15.377307891845703,4.812404632568359,1.8874361515045166,10.049779891967773,7.970026016235352,-24.919008255004883],\"z\":[9.53197193145752,9.57335376739502,7.666819095611572,12.332613945007324,-2.240938425064087,4.1579461097717285,69.30937194824219,3.7845757007598877,9.218828201293945,-2.7527353763580322,-6.6117024421691895,-9.284784317016602,1.5078284740447998,-0.8405643701553345,10.754899978637695,-5.201469898223877,-1.793112874031067,5.52886438369751,8.401768684387207,-11.876882553100586,6.62180233001709,-2.591778039932251,-14.838632583618164,-2.65077805519104,24.078472137451172,-21.51104736328125,-9.853985786437988,8.165149688720703,-0.12358630448579788,-6.757519721984863,-1.8719618320465088,-1.3568332195281982,-8.068865776062012,-3.682899236679077,-7.9292988777160645,3.1394717693328857,8.026867866516113,-9.65349292755127,10.561279296875,0.27207931876182556,-12.487892150878906,-3.1601366996765137,-4.591520309448242,20.080402374267578,-11.978772163391113,6.3451828956604,-4.866749286651611,12.558052062988281,-5.335000991821289,15.483501434326172,3.512901544570923,23.515975952148438,-4.340579032897949,-7.0037713050842285,-2.8299262523651123,-7.052609443664551,0.05062533915042877,-4.988108158111572,-8.432863235473633,11.647521018981934,-2.98518705368042,23.80101203918457,-8.221772193908691,-9.2034912109375,19.5771484375,7.539278507232666,-1.932456374168396,5.040639877319336,-5.628282070159912,-9.379570007324219,-10.263843536376953,-6.007943153381348,-4.311363220214844,3.721047878265381,-5.954563617706299,-4.287938117980957,17.79243278503418,-2.181363821029663,-2.1588146686553955,-1.2434390783309937,-4.987863063812256,-3.26471209526062,6.32472562789917,12.5286865234375,-3.1587657928466797,4.913025856018066,8.742948532104492,2.810516119003296,14.00421142578125,-4.507615566253662,9.067113876342773,3.315058708190918,-3.0897409915924072,-113.68861389160156,1.8277684450149536,2.7214672565460205,-7.884922504425049,20.4993896484375,-2.833489179611206,5.646518230438232,1.9443696737289429,1.6533063650131226,4.935474872589111,-184.99435424804688,-8.848250389099121,-12.604214668273926,-2.0804643630981445,-5.894814968109131,-10.323206901550293,7.238590240478516,4.13508415222168,-8.491902351379395,0.769481897354126,6.1671576499938965,1.9352059364318848,13.307368278503418,-5.415008544921875,-4.522883892059326,21.3786678314209,0.7807945609092712,-7.49458122253418,-20.49005126953125,-7.104421615600586,-13.194361686706543,5.8490471839904785,2.5402815341949463,5.901520252227783,-7.182956695556641,3.5505518913269043,-2.052159309387207,-4.9472527503967285,17.425508499145508,-4.641134262084961,2.7535386085510254,105.1537857055664,-11.71806812286377,11.810522079467773,-2.9842734336853027,9.468674659729004,8.126065254211426,-2.911102771759033,-5.464696884155273,-3.654226303100586,1.4638711214065552,-5.789161682128906,-12.232077598571777,6.338399410247803,12.24473762512207,-0.7461841106414795,19.872364044189453,0.9823704361915588,22.571170806884766,11.471514701843262,-18.05573844909668,3.1034491062164307,-2.2439353466033936,10.857026100158691,1.4350652694702148,-2.1864142417907715,-5.15687370300293,-4.9389448165893555,14.250812530517578,-6.177495956420898,-4.362673282623291,9.72375774383545,-15.44753646850586,-11.780966758728027,6.261496067047119,3.3633463382720947,22.781843185424805,5.082404613494873,-8.905560493469238,28.894880294799805,6.184932708740234,-4.911586761474609,-10.686809539794922,7.166134357452393,4.736314296722412,26.403093338012695,7.289196968078613,-14.066394805908203,-5.073433876037598,-17.90410041809082,-4.997525691986084,0.43947523832321167,-10.579927444458008,-18.625900268554688,19.84807014465332,10.200603485107422,23.4647274017334,10.819082260131836,7.953589916229248,13.886260986328125,-3.5052919387817383,7.662232398986816,-0.5304073095321655,7.7279953956604,-7.936706066131592,14.7390775680542,-4.040965557098389,26.403982162475586,-2.4740195274353027,0.639200747013092,4.417971611022949,3.7034912109375,-2.3520076274871826,-2.3947806358337402,-4.764647006988525,19.44810676574707,-11.46469497680664,6.437554836273193,16.93238067626953,2.19386887550354,9.36857795715332,-2.43359112739563,1.0783576965332031,4.690735340118408,-11.598353385925293,1.6183968782424927,-8.6487398147583,-5.947238445281982,-2.706756114959717,10.59556770324707,-5.616518020629883,9.563608169555664,-11.798802375793457,25.822803497314453,-2.8336069583892822,-18.043947219848633,-9.59210205078125,-7.244292736053467,6.383376598358154,5.716250896453857,26.957326889038086,-2.5538625717163086,0.4565325379371643,5.471328258514404,26.437467575073242,16.994056701660156,18.731624603271484,-8.18108081817627,-2.2394731044769287,-4.7367777824401855,7.165168285369873,2.7587292194366455,-8.42005443572998,-1.6895893812179565,24.420547485351562,-6.521223068237305,-251.31533813476562,-17.812402725219727,-5.89098596572876,2.5832061767578125,14.49571418762207,-3.250072956085205,-3.311398983001709,13.659467697143555,-5.340887069702148,4.011509418487549,-1.9154976606369019,9.69638729095459,7.841527938842773,13.328204154968262,3.466610908508301,14.358805656433105,8.232715606689453,5.121372699737549,-5.427995681762695,-4.953825950622559,-12.105224609375,7.203308582305908,4.5866312980651855,-12.759458541870117,2.593722105026245,7.223876953125,10.430416107177734,5.988039016723633,-14.444012641906738,21.24964141845703,-5.024855613708496,-7.461827278137207,-8.295402526855469,-10.776073455810547,10.298796653747559,-4.668911457061768],\"type\":\"scatter3d\"},{\"hovertemplate\":\"color=k<br>x=%{x}<br>y=%{y}<br>z=%{z}<extra></extra>\",\"legendgroup\":\"k\",\"marker\":{\"color\":\"#EF553B\",\"symbol\":\"circle\"},\"mode\":\"markers\",\"name\":\"k\",\"scene\":\"scene\",\"showlegend\":true,\"x\":[-30.420753479003906,14.17691421508789,12.718029975891113,16.983154296875,12.531632423400879,-31.240564346313477,-27.306659698486328,7.697423934936523,-0.621317982673645,10.457977294921875,8.440875053405762,0.956437885761261,-29.085914611816406,-6.767575740814209,-12.822087287902832,14.23212718963623,-3.913769245147705],\"y\":[4.007169246673584,11.354602813720703,7.166856288909912,10.051630973815918,9.61036491394043,1.6657421588897705,-0.9921901822090149,23.777769088745117,27.08819580078125,23.537660598754883,25.0205135345459,24.817502975463867,1.697472333908081,14.14824104309082,19.68012046813965,7.279542446136475,23.597152709960938],\"z\":[-13.806991577148438,-14.760540962219238,-12.816399574279785,-14.801094055175781,-15.422810554504395,-14.27605152130127,-16.835418701171875,-9.234328269958496,5.019114971160889,-9.666274070739746,-11.646202087402344,-6.9477996826171875,-15.567999839782715,-12.353919982910156,-7.848945617675781,-16.000593185424805,-12.802376747131348],\"type\":\"scatter3d\"},{\"hovertemplate\":\"color=g<br>x=%{x}<br>y=%{y}<br>z=%{z}<extra></extra>\",\"legendgroup\":\"g\",\"marker\":{\"color\":\"#00cc96\",\"symbol\":\"circle\"},\"mode\":\"markers\",\"name\":\"g\",\"scene\":\"scene\",\"showlegend\":true,\"x\":[7.258779525756836,18.547761917114258,13.493264198303223,1.7243993282318115,1.4179623126983643,8.812419891357422,12.30667495727539,3.2501838207244873,13.350851058959961,4.83257532119751,9.513137817382812,1.0056315660476685,9.77731704711914,11.087596893310547,8.543438911437988,6.6485514640808105,119.45038604736328,0.013748791068792343,18.782182693481445,10.401054382324219,18.186777114868164,4.9118571281433105,16.083219528198242,11.511897087097168,15.475022315979004,16.06488609313965,19.05466079711914,13.101458549499512,7.995543956756592,15.77588939666748,9.068572044372559,8.362435340881348,22.07903480529785,6.7596116065979,6.902961730957031,8.086891174316406,14.3687162399292,18.539997100830078,13.235922813415527,8.404837608337402,21.565509796142578,21.585609436035156,6.600968837738037,7.064363956451416,2.4415862560272217,16.051517486572266,17.606853485107422,20.71451187133789,15.759593963623047,13.836289405822754,11.223855018615723,21.40593147277832,2.8568315505981445,25.203134536743164,13.254828453063965,15.336697578430176,25.67900276184082,13.890109062194824,17.452407836914062,23.120141983032227,9.965339660644531,5.4363789558410645,1.8093584775924683,3.794647216796875,3.0907816886901855,18.30752944946289,-31.12976837158203,11.464186668395996,10.592700958251953],\"y\":[27.417020797729492,19.438631057739258,18.347332000732422,28.669353485107422,28.447622299194336,24.42845916748047,26.709463119506836,31.066734313964844,21.177873611450195,25.66746711730957,26.06939125061035,30.533100128173828,24.06299591064453,27.062894821166992,26.50107765197754,27.265174865722656,7.194135665893555,31.576446533203125,19.249290466308594,20.899019241333008,16.71277618408203,26.7634334564209,20.295726776123047,24.955141067504883,22.766498565673828,19.271053314208984,19.488147735595703,22.861108779907227,25.139381408691406,19.34834098815918,26.679622650146484,24.887346267700195,14.998286247253418,23.109743118286133,25.511371612548828,23.162879943847656,17.209138870239258,17.172903060913086,19.369455337524414,24.5936279296875,17.289831161499023,15.166069984436035,25.37563133239746,26.80156135559082,38.10472106933594,19.982194900512695,15.942595481872559,17.44512939453125,16.474458694458008,25.27295684814453,24.558584213256836,18.541912078857422,26.137174606323242,15.569816589355469,16.27312469482422,21.562110900878906,15.997166633605957,19.294057846069336,18.47958755493164,16.20000457763672,24.088743209838867,28.021650314331055,22.06984519958496,24.725154876708984,28.206815719604492,14.953001976013184,30.665061950683594,27.82818603515625,26.343551635742188],\"z\":[6.563780784606934,13.252649307250977,22.675012588500977,12.067776679992676,7.7727131843566895,27.299192428588867,7.566989421844482,12.216638565063477,24.95664405822754,22.792659759521484,13.743245124816895,13.876070976257324,-2.504926919937134,1.961452603340149,8.944665908813477,13.280891418457031,44.78852462768555,10.924113273620605,6.158165454864502,26.752721786499023,11.342402458190918,20.51203155517578,21.952720642089844,5.576523780822754,17.089073181152344,12.314346313476562,1.5549989938735962,15.43603515625,23.748558044433594,8.55448055267334,-1.9826496839523315,18.252199172973633,7.3862152099609375,26.17429542541504,-4.04365348815918,21.968656539916992,25.394611358642578,4.797584533691406,27.261857986450195,-6.371634006500244,5.751684188842773,11.83359432220459,-1.0237042903900146,2.3010106086730957,-36.83362579345703,16.699871063232422,13.858884811401367,14.245015144348145,22.3489990234375,15.859454154968262,1.5774638652801514,1.785491704940796,-5.701615333557129,7.073034286499023,20.31306266784668,9.747523307800293,3.857192277908325,18.110687255859375,24.162580490112305,9.819003105163574,20.00321388244629,8.932872772216797,6.766127586364746,-8.219059944152832,14.890569686889648,24.23558235168457,56.71639633178711,4.978670597076416,11.108466148376465],\"type\":\"scatter3d\"},{\"hovertemplate\":\"color=r<br>x=%{x}<br>y=%{y}<br>z=%{z}<extra></extra>\",\"legendgroup\":\"r\",\"marker\":{\"color\":\"#ab63fa\",\"symbol\":\"circle\"},\"mode\":\"markers\",\"name\":\"r\",\"scene\":\"scene\",\"showlegend\":true,\"x\":[-4.085951328277588,-3.614997148513794,-0.09093213826417923,0.025603393092751503,-0.8317543268203735,-5.500577926635742,-3.0499520301818848,-5.959803581237793,-1.6689637899398804,-2.4795591831207275,-0.99972003698349,-2.5517489910125732,-5.7214860916137695,-20.30048179626465,-3.750126838684082,-3.098863363265991,-4.586777210235596,5.7017621994018555,0.9788944125175476,0.6293817758560181,-7.108649730682373,-7.577425479888916,-9.279520034790039,2.730485677719116,-4.615138053894043,-7.43548059463501,-5.046298503875732,3.2228384017944336,0.5755764842033386,0.003441551234573126,-6.40046501159668,-5.2091169357299805,-3.1918282508850098,-6.279848575592041,-6.693490982055664,-3.8456530570983887,-4.283414840698242,-3.621323347091675,-1.5615966320037842,-3.6409952640533447,-3.3407163619995117,-7.73508358001709],\"y\":[9.647178649902344,22.322906494140625,7.2958526611328125,18.60495948791504,9.390308380126953,12.460524559020996,5.917353630065918,23.415254592895508,4.942521095275879,8.140617370605469,3.9042539596557617,5.399032115936279,12.744651794433594,-28.36433219909668,10.715322494506836,8.901036262512207,19.285240173339844,12.136685371398926,4.916201591491699,9.47164249420166,16.607826232910156,14.708717346191406,19.305889129638672,7.6441755294799805,11.940206527709961,10.044224739074707,15.736417770385742,10.483235359191895,11.333802223205566,20.708059310913086,12.944133758544922,7.568490028381348,21.833450317382812,84.0194091796875,17.580738067626953,10.49262523651123,23.595195770263672,25.2569580078125,15.331459045410156,17.33540153503418,12.665172576904297,21.059579849243164],\"z\":[-21.08344841003418,-19.58296012878418,-28.48909568786621,-27.214284896850586,-26.021282196044922,-21.90737533569336,-30.127025604248047,-19.00640106201172,-19.30973243713379,-22.706031799316406,-21.885900497436523,-23.80036735534668,-15.349798202514648,-7.306142330169678,-29.400466918945312,-18.708662033081055,-25.388078689575195,-29.82846450805664,-19.455684661865234,-31.175790786743164,-23.67688751220703,-26.91334342956543,-21.590850830078125,-30.027124404907227,-13.192132949829102,-29.289871215820312,-25.464258193969727,-30.204204559326172,-26.866342544555664,-24.95087432861328,-29.895977020263672,-30.692829132080078,-22.172800064086914,-56.28150939941406,-27.188945770263672,-15.49812126159668,-15.73551082611084,-18.42499351501465,-29.1809139251709,-28.78260612487793,-31.68842887878418,-20.232154846191406],\"type\":\"scatter3d\"}],                        {\"template\":{\"data\":{\"histogram2dcontour\":[{\"type\":\"histogram2dcontour\",\"colorbar\":{\"outlinewidth\":0,\"ticks\":\"\"},\"colorscale\":[[0.0,\"#0d0887\"],[0.1111111111111111,\"#46039f\"],[0.2222222222222222,\"#7201a8\"],[0.3333333333333333,\"#9c179e\"],[0.4444444444444444,\"#bd3786\"],[0.5555555555555556,\"#d8576b\"],[0.6666666666666666,\"#ed7953\"],[0.7777777777777778,\"#fb9f3a\"],[0.8888888888888888,\"#fdca26\"],[1.0,\"#f0f921\"]]}],\"choropleth\":[{\"type\":\"choropleth\",\"colorbar\":{\"outlinewidth\":0,\"ticks\":\"\"}}],\"histogram2d\":[{\"type\":\"histogram2d\",\"colorbar\":{\"outlinewidth\":0,\"ticks\":\"\"},\"colorscale\":[[0.0,\"#0d0887\"],[0.1111111111111111,\"#46039f\"],[0.2222222222222222,\"#7201a8\"],[0.3333333333333333,\"#9c179e\"],[0.4444444444444444,\"#bd3786\"],[0.5555555555555556,\"#d8576b\"],[0.6666666666666666,\"#ed7953\"],[0.7777777777777778,\"#fb9f3a\"],[0.8888888888888888,\"#fdca26\"],[1.0,\"#f0f921\"]]}],\"heatmap\":[{\"type\":\"heatmap\",\"colorbar\":{\"outlinewidth\":0,\"ticks\":\"\"},\"colorscale\":[[0.0,\"#0d0887\"],[0.1111111111111111,\"#46039f\"],[0.2222222222222222,\"#7201a8\"],[0.3333333333333333,\"#9c179e\"],[0.4444444444444444,\"#bd3786\"],[0.5555555555555556,\"#d8576b\"],[0.6666666666666666,\"#ed7953\"],[0.7777777777777778,\"#fb9f3a\"],[0.8888888888888888,\"#fdca26\"],[1.0,\"#f0f921\"]]}],\"heatmapgl\":[{\"type\":\"heatmapgl\",\"colorbar\":{\"outlinewidth\":0,\"ticks\":\"\"},\"colorscale\":[[0.0,\"#0d0887\"],[0.1111111111111111,\"#46039f\"],[0.2222222222222222,\"#7201a8\"],[0.3333333333333333,\"#9c179e\"],[0.4444444444444444,\"#bd3786\"],[0.5555555555555556,\"#d8576b\"],[0.6666666666666666,\"#ed7953\"],[0.7777777777777778,\"#fb9f3a\"],[0.8888888888888888,\"#fdca26\"],[1.0,\"#f0f921\"]]}],\"contourcarpet\":[{\"type\":\"contourcarpet\",\"colorbar\":{\"outlinewidth\":0,\"ticks\":\"\"}}],\"contour\":[{\"type\":\"contour\",\"colorbar\":{\"outlinewidth\":0,\"ticks\":\"\"},\"colorscale\":[[0.0,\"#0d0887\"],[0.1111111111111111,\"#46039f\"],[0.2222222222222222,\"#7201a8\"],[0.3333333333333333,\"#9c179e\"],[0.4444444444444444,\"#bd3786\"],[0.5555555555555556,\"#d8576b\"],[0.6666666666666666,\"#ed7953\"],[0.7777777777777778,\"#fb9f3a\"],[0.8888888888888888,\"#fdca26\"],[1.0,\"#f0f921\"]]}],\"surface\":[{\"type\":\"surface\",\"colorbar\":{\"outlinewidth\":0,\"ticks\":\"\"},\"colorscale\":[[0.0,\"#0d0887\"],[0.1111111111111111,\"#46039f\"],[0.2222222222222222,\"#7201a8\"],[0.3333333333333333,\"#9c179e\"],[0.4444444444444444,\"#bd3786\"],[0.5555555555555556,\"#d8576b\"],[0.6666666666666666,\"#ed7953\"],[0.7777777777777778,\"#fb9f3a\"],[0.8888888888888888,\"#fdca26\"],[1.0,\"#f0f921\"]]}],\"mesh3d\":[{\"type\":\"mesh3d\",\"colorbar\":{\"outlinewidth\":0,\"ticks\":\"\"}}],\"scatter\":[{\"fillpattern\":{\"fillmode\":\"overlay\",\"size\":10,\"solidity\":0.2},\"type\":\"scatter\"}],\"parcoords\":[{\"type\":\"parcoords\",\"line\":{\"colorbar\":{\"outlinewidth\":0,\"ticks\":\"\"}}}],\"scatterpolargl\":[{\"type\":\"scatterpolargl\",\"marker\":{\"colorbar\":{\"outlinewidth\":0,\"ticks\":\"\"}}}],\"bar\":[{\"error_x\":{\"color\":\"#2a3f5f\"},\"error_y\":{\"color\":\"#2a3f5f\"},\"marker\":{\"line\":{\"color\":\"#E5ECF6\",\"width\":0.5},\"pattern\":{\"fillmode\":\"overlay\",\"size\":10,\"solidity\":0.2}},\"type\":\"bar\"}],\"scattergeo\":[{\"type\":\"scattergeo\",\"marker\":{\"colorbar\":{\"outlinewidth\":0,\"ticks\":\"\"}}}],\"scatterpolar\":[{\"type\":\"scatterpolar\",\"marker\":{\"colorbar\":{\"outlinewidth\":0,\"ticks\":\"\"}}}],\"histogram\":[{\"marker\":{\"pattern\":{\"fillmode\":\"overlay\",\"size\":10,\"solidity\":0.2}},\"type\":\"histogram\"}],\"scattergl\":[{\"type\":\"scattergl\",\"marker\":{\"colorbar\":{\"outlinewidth\":0,\"ticks\":\"\"}}}],\"scatter3d\":[{\"type\":\"scatter3d\",\"line\":{\"colorbar\":{\"outlinewidth\":0,\"ticks\":\"\"}},\"marker\":{\"colorbar\":{\"outlinewidth\":0,\"ticks\":\"\"}}}],\"scattermapbox\":[{\"type\":\"scattermapbox\",\"marker\":{\"colorbar\":{\"outlinewidth\":0,\"ticks\":\"\"}}}],\"scatterternary\":[{\"type\":\"scatterternary\",\"marker\":{\"colorbar\":{\"outlinewidth\":0,\"ticks\":\"\"}}}],\"scattercarpet\":[{\"type\":\"scattercarpet\",\"marker\":{\"colorbar\":{\"outlinewidth\":0,\"ticks\":\"\"}}}],\"carpet\":[{\"aaxis\":{\"endlinecolor\":\"#2a3f5f\",\"gridcolor\":\"white\",\"linecolor\":\"white\",\"minorgridcolor\":\"white\",\"startlinecolor\":\"#2a3f5f\"},\"baxis\":{\"endlinecolor\":\"#2a3f5f\",\"gridcolor\":\"white\",\"linecolor\":\"white\",\"minorgridcolor\":\"white\",\"startlinecolor\":\"#2a3f5f\"},\"type\":\"carpet\"}],\"table\":[{\"cells\":{\"fill\":{\"color\":\"#EBF0F8\"},\"line\":{\"color\":\"white\"}},\"header\":{\"fill\":{\"color\":\"#C8D4E3\"},\"line\":{\"color\":\"white\"}},\"type\":\"table\"}],\"barpolar\":[{\"marker\":{\"line\":{\"color\":\"#E5ECF6\",\"width\":0.5},\"pattern\":{\"fillmode\":\"overlay\",\"size\":10,\"solidity\":0.2}},\"type\":\"barpolar\"}],\"pie\":[{\"automargin\":true,\"type\":\"pie\"}]},\"layout\":{\"autotypenumbers\":\"strict\",\"colorway\":[\"#636efa\",\"#EF553B\",\"#00cc96\",\"#ab63fa\",\"#FFA15A\",\"#19d3f3\",\"#FF6692\",\"#B6E880\",\"#FF97FF\",\"#FECB52\"],\"font\":{\"color\":\"#2a3f5f\"},\"hovermode\":\"closest\",\"hoverlabel\":{\"align\":\"left\"},\"paper_bgcolor\":\"white\",\"plot_bgcolor\":\"#E5ECF6\",\"polar\":{\"bgcolor\":\"#E5ECF6\",\"angularaxis\":{\"gridcolor\":\"white\",\"linecolor\":\"white\",\"ticks\":\"\"},\"radialaxis\":{\"gridcolor\":\"white\",\"linecolor\":\"white\",\"ticks\":\"\"}},\"ternary\":{\"bgcolor\":\"#E5ECF6\",\"aaxis\":{\"gridcolor\":\"white\",\"linecolor\":\"white\",\"ticks\":\"\"},\"baxis\":{\"gridcolor\":\"white\",\"linecolor\":\"white\",\"ticks\":\"\"},\"caxis\":{\"gridcolor\":\"white\",\"linecolor\":\"white\",\"ticks\":\"\"}},\"coloraxis\":{\"colorbar\":{\"outlinewidth\":0,\"ticks\":\"\"}},\"colorscale\":{\"sequential\":[[0.0,\"#0d0887\"],[0.1111111111111111,\"#46039f\"],[0.2222222222222222,\"#7201a8\"],[0.3333333333333333,\"#9c179e\"],[0.4444444444444444,\"#bd3786\"],[0.5555555555555556,\"#d8576b\"],[0.6666666666666666,\"#ed7953\"],[0.7777777777777778,\"#fb9f3a\"],[0.8888888888888888,\"#fdca26\"],[1.0,\"#f0f921\"]],\"sequentialminus\":[[0.0,\"#0d0887\"],[0.1111111111111111,\"#46039f\"],[0.2222222222222222,\"#7201a8\"],[0.3333333333333333,\"#9c179e\"],[0.4444444444444444,\"#bd3786\"],[0.5555555555555556,\"#d8576b\"],[0.6666666666666666,\"#ed7953\"],[0.7777777777777778,\"#fb9f3a\"],[0.8888888888888888,\"#fdca26\"],[1.0,\"#f0f921\"]],\"diverging\":[[0,\"#8e0152\"],[0.1,\"#c51b7d\"],[0.2,\"#de77ae\"],[0.3,\"#f1b6da\"],[0.4,\"#fde0ef\"],[0.5,\"#f7f7f7\"],[0.6,\"#e6f5d0\"],[0.7,\"#b8e186\"],[0.8,\"#7fbc41\"],[0.9,\"#4d9221\"],[1,\"#276419\"]]},\"xaxis\":{\"gridcolor\":\"white\",\"linecolor\":\"white\",\"ticks\":\"\",\"title\":{\"standoff\":15},\"zerolinecolor\":\"white\",\"automargin\":true,\"zerolinewidth\":2},\"yaxis\":{\"gridcolor\":\"white\",\"linecolor\":\"white\",\"ticks\":\"\",\"title\":{\"standoff\":15},\"zerolinecolor\":\"white\",\"automargin\":true,\"zerolinewidth\":2},\"scene\":{\"xaxis\":{\"backgroundcolor\":\"#E5ECF6\",\"gridcolor\":\"white\",\"linecolor\":\"white\",\"showbackground\":true,\"ticks\":\"\",\"zerolinecolor\":\"white\",\"gridwidth\":2},\"yaxis\":{\"backgroundcolor\":\"#E5ECF6\",\"gridcolor\":\"white\",\"linecolor\":\"white\",\"showbackground\":true,\"ticks\":\"\",\"zerolinecolor\":\"white\",\"gridwidth\":2},\"zaxis\":{\"backgroundcolor\":\"#E5ECF6\",\"gridcolor\":\"white\",\"linecolor\":\"white\",\"showbackground\":true,\"ticks\":\"\",\"zerolinecolor\":\"white\",\"gridwidth\":2}},\"shapedefaults\":{\"line\":{\"color\":\"#2a3f5f\"}},\"annotationdefaults\":{\"arrowcolor\":\"#2a3f5f\",\"arrowhead\":0,\"arrowwidth\":1},\"geo\":{\"bgcolor\":\"white\",\"landcolor\":\"#E5ECF6\",\"subunitcolor\":\"white\",\"showland\":true,\"showlakes\":true,\"lakecolor\":\"white\"},\"title\":{\"x\":0.05},\"mapbox\":{\"style\":\"light\"}}},\"scene\":{\"domain\":{\"x\":[0.0,1.0],\"y\":[0.0,1.0]},\"xaxis\":{\"title\":{\"text\":\"x\"}},\"yaxis\":{\"title\":{\"text\":\"y\"}},\"zaxis\":{\"title\":{\"text\":\"z\"}}},\"legend\":{\"title\":{\"text\":\"color\"},\"tracegroupgap\":0},\"margin\":{\"t\":60}},                        {\"responsive\": true}                    ).then(function(){\n",
       "                            \n",
       "var gd = document.getElementById('b855a188-e2b2-49df-81d9-c19f8ecb4d21');\n",
       "var x = new MutationObserver(function (mutations, observer) {{\n",
       "        var display = window.getComputedStyle(gd).display;\n",
       "        if (!display || display === 'none') {{\n",
       "            console.log([gd, 'removed!']);\n",
       "            Plotly.purge(gd);\n",
       "            observer.disconnect();\n",
       "        }}\n",
       "}});\n",
       "\n",
       "// Listen for the removal of the full notebook cells\n",
       "var notebookContainer = gd.closest('#notebook-container');\n",
       "if (notebookContainer) {{\n",
       "    x.observe(notebookContainer, {childList: true});\n",
       "}}\n",
       "\n",
       "// Listen for the clearing of the current output cell\n",
       "var outputEl = gd.closest('.output');\n",
       "if (outputEl) {{\n",
       "    x.observe(outputEl, {childList: true});\n",
       "}}\n",
       "\n",
       "                        })                };                });            </script>        </div>"
      ]
     },
     "metadata": {},
     "output_type": "display_data"
    }
   ],
   "source": [
    "# plot using tsne \n",
    "X_embedded  = TSNE(n_components=3, perplexity=10,random_state=24).fit_transform( X )\n",
    "colors = np.array([x for x in 'bgrcmykbgrcmykbgrcmykbgrcmyk'])\n",
    "fig = px.scatter_3d(x=X_embedded [:,0],y=X_embedded [:,1],z=X_embedded [:,2],color=colors[dbscan_clustering.labels_])\n",
    "fig.show()"
   ]
  },
  {
   "cell_type": "markdown",
   "metadata": {},
   "source": [
    "### Optics\n",
    "\n",
    "OPTICS is also a density-based algorithm similar to DBSCAN, but as compare to DBSCAN, OPTICS can find meaningful clusters in data that varies in density. OPTICS does process by ordering the data points so that the closest points are neighbors in the ordering. "
   ]
  },
  {
   "cell_type": "code",
   "execution_count": 80,
   "metadata": {},
   "outputs": [],
   "source": [
    "optics_grid = {\n",
    "        \"min_samples\" : range(7,20,3),\n",
    "        \"metric\": ['euclidean','dice' 'manhattan', 'cosine', 'precomputed'],\n",
    "        \"algorithm\" : ['auto', 'ball_tree', 'kd_tree', 'brute'],\n",
    "        \"eps\": np.arange(0.01,1.1,0.01)\n",
    "       }\n",
    "#dbscan_grid"
   ]
  },
  {
   "cell_type": "code",
   "execution_count": 81,
   "metadata": {},
   "outputs": [],
   "source": [
    "optics_model = OPTICS()\n",
    "optics_params = GridSearchCV(optics_model,optics_grid,scoring=silhouette_score2,cv= 10).fit(X, y)"
   ]
  },
  {
   "cell_type": "code",
   "execution_count": 82,
   "metadata": {},
   "outputs": [
    {
     "data": {
      "text/plain": [
       "(0.3535810123180984,\n",
       " {'algorithm': 'auto', 'eps': 0.01, 'metric': 'cosine', 'min_samples': 7})"
      ]
     },
     "execution_count": 82,
     "metadata": {},
     "output_type": "execute_result"
    }
   ],
   "source": [
    "optics_params.best_score_, optics_params.best_params_"
   ]
  },
  {
   "cell_type": "code",
   "execution_count": 83,
   "metadata": {},
   "outputs": [],
   "source": [
    "optics_clustering = OPTICS(min_samples = optics_params.best_params_['min_samples'],\n",
    "                           algorithm = optics_params.best_params_['algorithm'],\n",
    "                           metric = optics_params.best_params_['metric'],\n",
    "                           eps = optics_params.best_params_['eps']\n",
    "                          ).fit(X)\n",
    "cluster = list(optics_clustering.labels_)\n",
    "values, counts = np.unique(cluster, return_counts=True)      \n",
    "optics_dataset = pd.DataFrame(X.copy())\n",
    "optics_dataset.loc[:,'Cluster'] = optics_clustering.labels_\n"
   ]
  },
  {
   "cell_type": "code",
   "execution_count": 84,
   "metadata": {},
   "outputs": [
    {
     "data": {
      "text/html": [
       "<div>\n",
       "<style scoped>\n",
       "    .dataframe tbody tr th:only-of-type {\n",
       "        vertical-align: middle;\n",
       "    }\n",
       "\n",
       "    .dataframe tbody tr th {\n",
       "        vertical-align: top;\n",
       "    }\n",
       "\n",
       "    .dataframe thead th {\n",
       "        text-align: right;\n",
       "    }\n",
       "</style>\n",
       "<table border=\"1\" class=\"dataframe\">\n",
       "  <thead>\n",
       "    <tr style=\"text-align: right;\">\n",
       "      <th></th>\n",
       "      <th>Cluster</th>\n",
       "    </tr>\n",
       "  </thead>\n",
       "  <tbody>\n",
       "    <tr>\n",
       "      <th>-1</th>\n",
       "      <td>290</td>\n",
       "    </tr>\n",
       "    <tr>\n",
       "      <th>1</th>\n",
       "      <td>34</td>\n",
       "    </tr>\n",
       "    <tr>\n",
       "      <th>2</th>\n",
       "      <td>20</td>\n",
       "    </tr>\n",
       "    <tr>\n",
       "      <th>6</th>\n",
       "      <td>20</td>\n",
       "    </tr>\n",
       "    <tr>\n",
       "      <th>3</th>\n",
       "      <td>16</td>\n",
       "    </tr>\n",
       "    <tr>\n",
       "      <th>5</th>\n",
       "      <td>15</td>\n",
       "    </tr>\n",
       "    <tr>\n",
       "      <th>4</th>\n",
       "      <td>10</td>\n",
       "    </tr>\n",
       "    <tr>\n",
       "      <th>0</th>\n",
       "      <td>8</td>\n",
       "    </tr>\n",
       "  </tbody>\n",
       "</table>\n",
       "</div>"
      ],
      "text/plain": [
       "    Cluster\n",
       "-1      290\n",
       " 1       34\n",
       " 2       20\n",
       " 6       20\n",
       " 3       16\n",
       " 5       15\n",
       " 4       10\n",
       " 0        8"
      ]
     },
     "execution_count": 84,
     "metadata": {},
     "output_type": "execute_result"
    }
   ],
   "source": [
    "optics_dataset.Cluster.value_counts().to_frame()"
   ]
  },
  {
   "cell_type": "code",
   "execution_count": 152,
   "metadata": {},
   "outputs": [
    {
     "data": {
      "text/html": [
       "<div>\n",
       "<style scoped>\n",
       "    .dataframe tbody tr th:only-of-type {\n",
       "        vertical-align: middle;\n",
       "    }\n",
       "\n",
       "    .dataframe tbody tr th {\n",
       "        vertical-align: top;\n",
       "    }\n",
       "\n",
       "    .dataframe thead th {\n",
       "        text-align: right;\n",
       "    }\n",
       "</style>\n",
       "<table border=\"1\" class=\"dataframe\">\n",
       "  <thead>\n",
       "    <tr style=\"text-align: right;\">\n",
       "      <th></th>\n",
       "      <th>silhouette_score</th>\n",
       "      <th>davies_bouldin_score</th>\n",
       "      <th>calinski_harabasz_score</th>\n",
       "    </tr>\n",
       "  </thead>\n",
       "  <tbody>\n",
       "    <tr>\n",
       "      <th>Optics</th>\n",
       "      <td>-0.26129</td>\n",
       "      <td>1.472163</td>\n",
       "      <td>14.314452</td>\n",
       "    </tr>\n",
       "  </tbody>\n",
       "</table>\n",
       "</div>"
      ],
      "text/plain": [
       "        silhouette_score  davies_bouldin_score  calinski_harabasz_score\n",
       "Optics          -0.26129              1.472163                14.314452"
      ]
     },
     "execution_count": 152,
     "metadata": {},
     "output_type": "execute_result"
    }
   ],
   "source": [
    "\n",
    "Optics_df = pd.DataFrame(estimator_evaluation(optics_clustering, 'Optics ', X ), index=[\"Optics\"])\n",
    "Optics_df"
   ]
  },
  {
   "cell_type": "code",
   "execution_count": 86,
   "metadata": {},
   "outputs": [
    {
     "data": {
      "application/vnd.plotly.v1+json": {
       "config": {
        "plotlyServerURL": "https://plot.ly"
       },
       "data": [
        {
         "hovertemplate": "color=k<br>x=%{x}<br>y=%{y}<br>z=%{z}<extra></extra>",
         "legendgroup": "k",
         "marker": {
          "color": "#636efa",
          "symbol": "circle"
         },
         "mode": "markers",
         "name": "k",
         "scene": "scene",
         "showlegend": true,
         "type": "scatter3d",
         "x": [
          -9.046331405639648,
          -11.44273853302002,
          -21.65359878540039,
          -10.454161643981934,
          4.739521503448486,
          17.40998649597168,
          -9.488744735717773,
          -0.4006132185459137,
          -6.156496047973633,
          -15.647710800170898,
          6.842092037200928,
          2.4186394214630127,
          7.418874740600586,
          3.140411615371704,
          9.601218223571777,
          -7.681477069854736,
          -2.822824001312256,
          -53.05295944213867,
          22.53696632385254,
          18.218494415283203,
          -4.738011360168457,
          11.321849822998047,
          13.276442527770996,
          13.19835090637207,
          -0.4524790942668915,
          -7.665225505828857,
          9.751333236694336,
          18.003067016601562,
          10.16472339630127,
          -0.188185915350914,
          -0.545369029045105,
          -8.661247253417969,
          12.27123737335205,
          14.17691421508789,
          1.374219298362732,
          -3.0602657794952393,
          12.718029975891113,
          22.514066696166992,
          -7.357227802276611,
          14.787997245788574,
          -20.44294548034668,
          11.562552452087402,
          -12.350040435791016,
          -13.450438499450684,
          -18.168781280517578,
          8.441187858581543,
          8.892831802368164,
          -14.191119194030762,
          -13.253026962280273,
          10.658899307250977,
          16.983154296875,
          12.531632423400879,
          5.847597122192383,
          0.8367011547088623,
          -17.906381607055664,
          4.769161224365234,
          21.045066833496094,
          24.951366424560547,
          3.0134897232055664,
          -4.03265380859375,
          -2.5581603050231934,
          -18.897409439086914,
          -3.4224536418914795,
          -1.1587519645690918,
          -19.66817855834961,
          -5.748752593994141,
          10.462860107421875,
          -18.787124633789062,
          -3.2394230365753174,
          9.277685165405273,
          -16.58060073852539,
          -2.1501715183258057,
          -15.762643814086914,
          -9.80859088897705,
          -81.791015625,
          -27.306659698486328,
          -13.466221809387207,
          21.90608024597168,
          -10.187676429748535,
          0.6889179944992065,
          8.243086814880371,
          14.432371139526367,
          -10.683236122131348,
          18.909774780273438,
          -19.863386154174805,
          -16.37049674987793,
          -0.6079948544502258,
          -0.9830238819122314,
          5.461564064025879,
          5.218622207641602,
          -15.083608627319336,
          -57.99257278442383,
          21.915943145751953,
          -13.269302368164062,
          26.272008895874023,
          -7.556407928466797,
          -7.438316822052002,
          -5.632994174957275,
          11.121540069580078,
          13.428407669067383,
          -14.717876434326172,
          -14.445272445678711,
          -2.2531309127807617,
          7.517563819885254,
          8.247428894042969,
          -14.375052452087402,
          -18.74449920654297,
          6.463624954223633,
          23.89085578918457,
          11.498507499694824,
          -0.3595922291278839,
          15.935079574584961,
          -2.5350711345672607,
          6.526896953582764,
          9.853147506713867,
          -21.218069076538086,
          7.697423934936523,
          7.258779525756836,
          18.547761917114258,
          13.493264198303223,
          1.7243993282318115,
          1.4179623126983643,
          8.812419891357422,
          12.30667495727539,
          3.2501838207244873,
          13.350851058959961,
          4.83257532119751,
          9.513137817382812,
          1.0056315660476685,
          9.77731704711914,
          -0.621317982673645,
          11.087596893310547,
          8.543438911437988,
          6.6485514640808105,
          119.45038604736328,
          0.013748791068792343,
          18.782182693481445,
          10.401054382324219,
          18.186777114868164,
          4.9118571281433105,
          16.083219528198242,
          11.511897087097168,
          15.475022315979004,
          16.06488609313965,
          19.05466079711914,
          13.101458549499512,
          7.995543956756592,
          15.77588939666748,
          9.068572044372559,
          8.362435340881348,
          22.07903480529785,
          6.7596116065979,
          6.902961730957031,
          8.086891174316406,
          14.3687162399292,
          18.539997100830078,
          13.235922813415527,
          10.457977294921875,
          8.404837608337402,
          21.565509796142578,
          21.585609436035156,
          6.600968837738037,
          7.064363956451416,
          2.4415862560272217,
          16.051517486572266,
          17.606853485107422,
          20.71451187133789,
          15.759593963623047,
          13.836289405822754,
          11.223855018615723,
          21.40593147277832,
          2.8568315505981445,
          25.203134536743164,
          13.254828453063965,
          15.336697578430176,
          8.440875053405762,
          25.67900276184082,
          13.890109062194824,
          17.452407836914062,
          23.120141983032227,
          9.965339660644531,
          5.4363789558410645,
          0.956437885761261,
          1.8093584775924683,
          3.794647216796875,
          3.0907816886901855,
          18.30752944946289,
          -31.12976837158203,
          11.464186668395996,
          10.592700958251953,
          -0.9812009930610657,
          -19.006839752197266,
          -14.563387870788574,
          -15.870013236999512,
          16.130596160888672,
          -17.349424362182617,
          0.70964515209198,
          -18.17450523376465,
          -14.88231372833252,
          -0.32087424397468567,
          -4.085951328277588,
          -3.614997148513794,
          -0.09093213826417923,
          0.025603393092751503,
          -0.8317543268203735,
          -5.500577926635742,
          -3.0499520301818848,
          -5.959803581237793,
          -1.6689637899398804,
          -2.4795591831207275,
          -0.99972003698349,
          -6.767575740814209,
          -2.5517489910125732,
          -5.7214860916137695,
          -20.30048179626465,
          -3.750126838684082,
          -3.098863363265991,
          -4.586777210235596,
          5.7017621994018555,
          0.9788944125175476,
          0.6293817758560181,
          -7.108649730682373,
          -12.822087287902832,
          -7.577425479888916,
          -9.279520034790039,
          2.730485677719116,
          -4.615138053894043,
          -7.43548059463501,
          -5.046298503875732,
          3.2228384017944336,
          0.5755764842033386,
          0.003441551234573126,
          -6.40046501159668,
          -5.2091169357299805,
          -3.1918282508850098,
          -6.279848575592041,
          -6.693490982055664,
          -3.8456530570983887,
          -4.283414840698242,
          14.23212718963623,
          -3.913769245147705,
          -3.621323347091675,
          -1.5615966320037842,
          -3.6409952640533447,
          -3.3407163619995117,
          -7.73508358001709,
          -0.15711086988449097,
          -1.053704023361206,
          13.93487548828125,
          18.96958351135254,
          1.8260059356689453,
          -10.412586212158203,
          1.61017644405365,
          10.402091026306152,
          -13.621132850646973,
          4.072630405426025,
          24.344881057739258,
          -38.88062286376953,
          4.244079113006592,
          -9.578176498413086,
          1.9835727214813232,
          18.174583435058594,
          5.719417095184326,
          -11.758330345153809,
          -16.267925262451172,
          0.1479852795600891,
          18.608003616333008,
          -4.883203983306885,
          17.46265983581543,
          -13.065000534057617,
          -13.370770454406738,
          -28.16254997253418,
          -12.714818954467773,
          -15.110689163208008,
          5.053903579711914,
          -4.5065131187438965,
          -16.506053924560547,
          2.0014686584472656,
          -16.786325454711914,
          0.11428079009056091,
          7.675745487213135,
          -8.314894676208496,
          1.9760621786117554,
          6.619262218475342,
          -118.56483459472656,
          -8.659415245056152,
          -10.529463768005371,
          11.215337753295898,
          9.197097778320312,
          9.216344833374023,
          21.596195220947266,
          10.542902946472168,
          4.384600639343262,
          1.5435917377471924,
          7.662912845611572,
          -12.42553997039795,
          -1.9002189636230469,
          -16.467716217041016,
          -7.376601219177246,
          7.120086193084717,
          -23.11838722229004,
          -13.888901710510254,
          17.605485916137695,
          -20.432270050048828,
          -6.825558662414551,
          -12.43630599975586,
          -6.855988025665283,
          -28.456457138061523,
          8.769777297973633,
          22.327835083007812
         ],
         "y": [
          -1.5340672731399536,
          6.574012279510498,
          -1.8590061664581299,
          -0.41136372089385986,
          -16.96223258972168,
          -27.497920989990234,
          12.495722770690918,
          -22.2428035736084,
          -9.86121654510498,
          6.600394248962402,
          -22.95342445373535,
          -0.994309663772583,
          -15.746891975402832,
          -23.23505401611328,
          -14.151230812072754,
          -18.99390983581543,
          -23.76114273071289,
          37.35771179199219,
          -25.974454879760742,
          -9.869290351867676,
          -9.65532398223877,
          -1.3009191751480103,
          -8.881010055541992,
          -11.895366668701172,
          2.9733541011810303,
          0.006850101985037327,
          6.681643009185791,
          -16.246273040771484,
          7.677053451538086,
          0.7847827076911926,
          -25.03753662109375,
          3.7726967334747314,
          -15.074109077453613,
          11.354602813720703,
          -5.082414150238037,
          -0.4331987202167511,
          7.166856288909912,
          -15.876425743103027,
          -10.194954872131348,
          -27.792743682861328,
          -9.152871131896973,
          -28.964563369750977,
          -16.195659637451172,
          5.582106590270996,
          -15.532862663269043,
          5.096437454223633,
          -29.941360473632812,
          4.940958499908447,
          -18.14061737060547,
          -15.994688987731934,
          10.051630973815918,
          9.61036491394043,
          -31.05203628540039,
          -28.931198120117188,
          -13.614554405212402,
          -19.383331298828125,
          -13.033788681030273,
          -23.372880935668945,
          -27.92346954345703,
          1.840895652770996,
          -20.32362174987793,
          -9.368785858154297,
          2.1816976070404053,
          -0.23901543021202087,
          -4.5717453956604,
          0.888896644115448,
          84.04073333740234,
          -11.279043197631836,
          -21.84109115600586,
          -27.648595809936523,
          -17.94634246826172,
          -21.76734161376953,
          -12.668383598327637,
          -19.58407974243164,
          23.154285430908203,
          -0.9921901822090149,
          -21.47683334350586,
          -17.896011352539062,
          -17.478626251220703,
          -24.7843017578125,
          -27.36046600341797,
          -26.56248664855957,
          2.5020625591278076,
          -16.106048583984375,
          -5.749551296234131,
          -12.341777801513672,
          -29.44001007080078,
          -24.91731071472168,
          -24.06086540222168,
          -21.673030853271484,
          -15.212780952453613,
          -21.989362716674805,
          39.07378387451172,
          3.340461492538452,
          -24.703784942626953,
          13.797632217407227,
          -23.343299865722656,
          -20.94005584716797,
          3.8352320194244385,
          -13.614950180053711,
          9.195090293884277,
          8.181456565856934,
          -22.366670608520508,
          -18.474538803100586,
          -0.40056312084198,
          2.525477409362793,
          -10.724989891052246,
          -20.476518630981445,
          -22.3205509185791,
          -26.4284610748291,
          -22.955080032348633,
          -14.693780899047852,
          -26.301456451416016,
          -29.170372009277344,
          -2.7594263553619385,
          -0.6396019458770752,
          23.777769088745117,
          27.417020797729492,
          19.438631057739258,
          18.347332000732422,
          28.669353485107422,
          28.447622299194336,
          24.42845916748047,
          26.709463119506836,
          31.066734313964844,
          21.177873611450195,
          25.66746711730957,
          26.06939125061035,
          30.533100128173828,
          24.06299591064453,
          27.08819580078125,
          27.062894821166992,
          26.50107765197754,
          27.265174865722656,
          7.194135665893555,
          31.576446533203125,
          19.249290466308594,
          20.899019241333008,
          16.71277618408203,
          26.7634334564209,
          20.295726776123047,
          24.955141067504883,
          22.766498565673828,
          19.271053314208984,
          19.488147735595703,
          22.861108779907227,
          25.139381408691406,
          19.34834098815918,
          26.679622650146484,
          24.887346267700195,
          14.998286247253418,
          23.109743118286133,
          25.511371612548828,
          23.162879943847656,
          17.209138870239258,
          17.172903060913086,
          19.369455337524414,
          23.537660598754883,
          24.5936279296875,
          17.289831161499023,
          15.166069984436035,
          25.37563133239746,
          26.80156135559082,
          38.10472106933594,
          19.982194900512695,
          15.942595481872559,
          17.44512939453125,
          16.474458694458008,
          25.27295684814453,
          24.558584213256836,
          18.541912078857422,
          26.137174606323242,
          15.569816589355469,
          16.27312469482422,
          21.562110900878906,
          25.0205135345459,
          15.997166633605957,
          19.294057846069336,
          18.47958755493164,
          16.20000457763672,
          24.088743209838867,
          28.021650314331055,
          24.817502975463867,
          22.06984519958496,
          24.725154876708984,
          28.206815719604492,
          14.953001976013184,
          30.665061950683594,
          27.82818603515625,
          26.343551635742188,
          -30.87407684326172,
          -7.752499580383301,
          1.7057619094848633,
          -12.633161544799805,
          -28.34609031677246,
          -15.012086868286133,
          -26.80893898010254,
          -13.768354415893555,
          1.6886509656906128,
          -20.635656356811523,
          9.647178649902344,
          22.322906494140625,
          7.2958526611328125,
          18.60495948791504,
          9.390308380126953,
          12.460524559020996,
          5.917353630065918,
          23.415254592895508,
          4.942521095275879,
          8.140617370605469,
          3.9042539596557617,
          14.14824104309082,
          5.399032115936279,
          12.744651794433594,
          -28.36433219909668,
          10.715322494506836,
          8.901036262512207,
          19.285240173339844,
          12.136685371398926,
          4.916201591491699,
          9.47164249420166,
          16.607826232910156,
          19.68012046813965,
          14.708717346191406,
          19.305889129638672,
          7.6441755294799805,
          11.940206527709961,
          10.044224739074707,
          15.736417770385742,
          10.483235359191895,
          11.333802223205566,
          20.708059310913086,
          12.944133758544922,
          7.568490028381348,
          21.833450317382812,
          84.0194091796875,
          17.580738067626953,
          10.49262523651123,
          23.595195770263672,
          7.279542446136475,
          23.597152709960938,
          25.2569580078125,
          15.331459045410156,
          17.33540153503418,
          12.665172576904297,
          21.059579849243164,
          2.596472978591919,
          2.2233128547668457,
          3.896430492401123,
          -12.694981575012207,
          -0.7338266968727112,
          -9.151679039001465,
          -20.019012451171875,
          1.8799445629119873,
          16.03583526611328,
          0.2876308560371399,
          -26.54743003845215,
          -42.25943374633789,
          -21.734424591064453,
          -21.46657943725586,
          -22.136302947998047,
          -20.029312133789062,
          -25.375370025634766,
          -19.037246704101562,
          -17.075645446777344,
          -23.15620994567871,
          -26.801891326904297,
          2.065192699432373,
          -15.665863990783691,
          -16.88687515258789,
          -20.73121452331543,
          9.24581527709961,
          -16.356306076049805,
          -15.569133758544922,
          -28.345773696899414,
          -21.025455474853516,
          6.120848655700684,
          -19.4406681060791,
          -14.138138771057129,
          -25.48404312133789,
          -28.423355102539062,
          -20.304887771606445,
          -29.591922760009766,
          -27.80733871459961,
          127.60057067871094,
          -18.524980545043945,
          -17.843013763427734,
          -26.994354248046875,
          -1.6086217164993286,
          -16.884567260742188,
          -13.283109664916992,
          -27.161678314208984,
          -1.563989281654358,
          -3.0066323280334473,
          -1.374645471572876,
          -0.4895268678665161,
          1.8690766096115112,
          2.7330658435821533,
          -18.08457374572754,
          -15.269906044006348,
          0.8874223232269287,
          4.893166542053223,
          -17.683881759643555,
          -4.845855236053467,
          -21.48969841003418,
          1.2905257940292358,
          -15.377307891845703,
          4.812404632568359,
          10.049779891967773,
          -24.919008255004883
         ],
         "z": [
          9.53197193145752,
          9.57335376739502,
          7.666819095611572,
          12.332613945007324,
          -2.240938425064087,
          69.30937194824219,
          3.7845757007598877,
          -2.7527353763580322,
          -9.284784317016602,
          1.5078284740447998,
          -0.8405643701553345,
          10.754899978637695,
          -1.793112874031067,
          8.401768684387207,
          -11.876882553100586,
          6.62180233001709,
          -2.591778039932251,
          -21.51104736328125,
          8.165149688720703,
          -0.12358630448579788,
          -6.757519721984863,
          -1.8719618320465088,
          -8.068865776062012,
          -7.9292988777160645,
          3.1394717693328857,
          8.026867866516113,
          -9.65349292755127,
          0.27207931876182556,
          -11.978772163391113,
          6.3451828956604,
          -4.866749286651611,
          12.558052062988281,
          -5.335000991821289,
          -14.760540962219238,
          15.483501434326172,
          3.512901544570923,
          -12.816399574279785,
          -4.340579032897949,
          -7.0037713050842285,
          -7.052609443664551,
          0.05062533915042877,
          -4.988108158111572,
          -8.432863235473633,
          11.647521018981934,
          -2.98518705368042,
          -8.221772193908691,
          -9.2034912109375,
          19.5771484375,
          -5.628282070159912,
          -9.379570007324219,
          -14.801094055175781,
          -15.422810554504395,
          -10.263843536376953,
          -4.311363220214844,
          3.721047878265381,
          17.79243278503418,
          -2.181363821029663,
          -2.1588146686553955,
          -4.987863063812256,
          12.5286865234375,
          -3.1587657928466797,
          4.913025856018066,
          2.810516119003296,
          14.00421142578125,
          9.067113876342773,
          3.315058708190918,
          -113.68861389160156,
          1.8277684450149536,
          2.7214672565460205,
          -7.884922504425049,
          -2.833489179611206,
          5.646518230438232,
          1.9443696737289429,
          4.935474872589111,
          -184.99435424804688,
          -16.835418701171875,
          -12.604214668273926,
          -5.894814968109131,
          7.238590240478516,
          -8.491902351379395,
          0.769481897354126,
          1.9352059364318848,
          13.307368278503418,
          -5.415008544921875,
          -7.49458122253418,
          -20.49005126953125,
          -7.104421615600586,
          -13.194361686706543,
          5.8490471839904785,
          2.5402815341949463,
          3.5505518913269043,
          -2.052159309387207,
          -4.9472527503967285,
          17.425508499145508,
          -4.641134262084961,
          2.7535386085510254,
          -11.71806812286377,
          -2.911102771759033,
          -5.464696884155273,
          -3.654226303100586,
          1.4638711214065552,
          -12.232077598571777,
          12.24473762512207,
          19.872364044189453,
          0.9823704361915588,
          22.571170806884766,
          -18.05573844909668,
          -2.2439353466033936,
          -5.15687370300293,
          -4.9389448165893555,
          14.250812530517578,
          -6.177495956420898,
          -15.44753646850586,
          -11.780966758728027,
          3.3633463382720947,
          5.082404613494873,
          -9.234328269958496,
          6.563780784606934,
          13.252649307250977,
          22.675012588500977,
          12.067776679992676,
          7.7727131843566895,
          27.299192428588867,
          7.566989421844482,
          12.216638565063477,
          24.95664405822754,
          22.792659759521484,
          13.743245124816895,
          13.876070976257324,
          -2.504926919937134,
          5.019114971160889,
          1.961452603340149,
          8.944665908813477,
          13.280891418457031,
          44.78852462768555,
          10.924113273620605,
          6.158165454864502,
          26.752721786499023,
          11.342402458190918,
          20.51203155517578,
          21.952720642089844,
          5.576523780822754,
          17.089073181152344,
          12.314346313476562,
          1.5549989938735962,
          15.43603515625,
          23.748558044433594,
          8.55448055267334,
          -1.9826496839523315,
          18.252199172973633,
          7.3862152099609375,
          26.17429542541504,
          -4.04365348815918,
          21.968656539916992,
          25.394611358642578,
          4.797584533691406,
          27.261857986450195,
          -9.666274070739746,
          -6.371634006500244,
          5.751684188842773,
          11.83359432220459,
          -1.0237042903900146,
          2.3010106086730957,
          -36.83362579345703,
          16.699871063232422,
          13.858884811401367,
          14.245015144348145,
          22.3489990234375,
          15.859454154968262,
          1.5774638652801514,
          1.785491704940796,
          -5.701615333557129,
          7.073034286499023,
          20.31306266784668,
          9.747523307800293,
          -11.646202087402344,
          3.857192277908325,
          18.110687255859375,
          24.162580490112305,
          9.819003105163574,
          20.00321388244629,
          8.932872772216797,
          -6.9477996826171875,
          6.766127586364746,
          -8.219059944152832,
          14.890569686889648,
          24.23558235168457,
          56.71639633178711,
          4.978670597076416,
          11.108466148376465,
          -10.686809539794922,
          7.166134357452393,
          4.736314296722412,
          -17.90410041809082,
          -4.997525691986084,
          0.43947523832321167,
          -10.579927444458008,
          -18.625900268554688,
          19.84807014465332,
          10.200603485107422,
          -21.08344841003418,
          -19.58296012878418,
          -28.48909568786621,
          -27.214284896850586,
          -26.021282196044922,
          -21.90737533569336,
          -30.127025604248047,
          -19.00640106201172,
          -19.30973243713379,
          -22.706031799316406,
          -21.885900497436523,
          -12.353919982910156,
          -23.80036735534668,
          -15.349798202514648,
          -7.306142330169678,
          -29.400466918945312,
          -18.708662033081055,
          -25.388078689575195,
          -29.82846450805664,
          -19.455684661865234,
          -31.175790786743164,
          -23.67688751220703,
          -7.848945617675781,
          -26.91334342956543,
          -21.590850830078125,
          -30.027124404907227,
          -13.192132949829102,
          -29.289871215820312,
          -25.464258193969727,
          -30.204204559326172,
          -26.866342544555664,
          -24.95087432861328,
          -29.895977020263672,
          -30.692829132080078,
          -22.172800064086914,
          -56.28150939941406,
          -27.188945770263672,
          -15.49812126159668,
          -15.73551082611084,
          -16.000593185424805,
          -12.802376747131348,
          -18.42499351501465,
          -29.1809139251709,
          -28.78260612487793,
          -31.68842887878418,
          -20.232154846191406,
          10.819082260131836,
          13.886260986328125,
          -3.5052919387817383,
          -0.5304073095321655,
          7.7279953956604,
          -7.936706066131592,
          14.7390775680542,
          -4.040965557098389,
          -2.4740195274353027,
          4.417971611022949,
          -2.3520076274871826,
          -2.3947806358337402,
          19.44810676574707,
          -11.46469497680664,
          16.93238067626953,
          2.19386887550354,
          1.0783576965332031,
          -11.598353385925293,
          -5.947238445281982,
          10.59556770324707,
          -5.616518020629883,
          9.563608169555664,
          -2.8336069583892822,
          -18.043947219848633,
          -9.59210205078125,
          -7.244292736053467,
          5.716250896453857,
          -2.5538625717163086,
          0.4565325379371643,
          5.471328258514404,
          16.994056701660156,
          18.731624603271484,
          -8.18108081817627,
          -2.2394731044769287,
          -4.7367777824401855,
          2.7587292194366455,
          -8.42005443572998,
          -1.6895893812179565,
          -251.31533813476562,
          -17.812402725219727,
          -5.89098596572876,
          2.5832061767578125,
          -3.250072956085205,
          -3.311398983001709,
          -5.340887069702148,
          -1.9154976606369019,
          7.841527938842773,
          13.328204154968262,
          3.466610908508301,
          14.358805656433105,
          8.232715606689453,
          5.121372699737549,
          -4.953825950622559,
          -12.105224609375,
          7.203308582305908,
          4.5866312980651855,
          2.593722105026245,
          5.988039016723633,
          -14.444012641906738,
          21.24964141845703,
          -5.024855613708496,
          -7.461827278137207,
          -10.776073455810547,
          -4.668911457061768
         ]
        },
        {
         "hovertemplate": "color=g<br>x=%{x}<br>y=%{y}<br>z=%{z}<extra></extra>",
         "legendgroup": "g",
         "marker": {
          "color": "#EF553B",
          "symbol": "circle"
         },
         "mode": "markers",
         "name": "g",
         "scene": "scene",
         "showlegend": true,
         "type": "scatter3d",
         "x": [
          -19.475872039794922,
          -28.92538833618164,
          -22.01750373840332,
          -20.109895706176758,
          -23.4920711517334,
          -24.681163787841797,
          -24.262834548950195,
          -20.091787338256836,
          -16.78411102294922,
          -24.23939323425293,
          -23.212451934814453,
          -17.8173885345459,
          -25.100772857666016,
          -21.783063888549805,
          -21.875226974487305,
          -23.596887588500977,
          -2.2214200496673584,
          -24.12965202331543,
          -16.63210105895996,
          -23.160602569580078,
          -21.889911651611328,
          -21.653825759887695,
          -27.26386833190918,
          -18.170169830322266,
          -22.740121841430664,
          -17.727121353149414,
          -21.71391487121582,
          -15.224557876586914,
          -16.529701232910156,
          -25.116653442382812,
          -14.2475004196167,
          -23.40083122253418,
          -14.429879188537598,
          -22.330543518066406
         ],
         "y": [
          14.269585609436035,
          11.621274948120117,
          14.901973724365234,
          6.11449670791626,
          14.155314445495605,
          11.801981925964355,
          10.029695510864258,
          20.718265533447266,
          12.868429183959961,
          11.842206954956055,
          8.024569511413574,
          15.198331832885742,
          8.691638946533203,
          11.465152740478516,
          18.80419158935547,
          10.017218589782715,
          70.89799499511719,
          8.066954612731934,
          19.539522171020508,
          12.476180076599121,
          11.262657165527344,
          14.594732284545898,
          6.709972381591797,
          6.9911208152771,
          8.238428115844727,
          18.987165451049805,
          16.571168899536133,
          14.127264022827148,
          6.778666019439697,
          10.46846866607666,
          7.292974472045898,
          12.11388111114502,
          13.049344062805176,
          7.970026016235352
         ],
         "z": [
          4.1579461097717285,
          -6.6117024421691895,
          -5.201469898223877,
          5.52886438369751,
          -2.65077805519104,
          -1.3568332195281982,
          10.561279296875,
          -2.8299262523651123,
          5.040639877319336,
          -6.007943153381348,
          -5.954563617706299,
          -3.26471209526062,
          -3.0897409915924072,
          -2.0804643630981445,
          -4.522883892059326,
          0.7807945609092712,
          105.1537857055664,
          8.126065254211426,
          -5.789161682128906,
          3.1034491062164307,
          10.857026100158691,
          1.4350652694702148,
          -4.911586761474609,
          7.289196968078613,
          3.7034912109375,
          -2.43359112739563,
          -2.706756114959717,
          7.165168285369873,
          13.659467697143555,
          4.011509418487549,
          9.69638729095459,
          7.223876953125,
          10.430416107177734,
          10.298796653747559
         ]
        },
        {
         "hovertemplate": "color=b<br>x=%{x}<br>y=%{y}<br>z=%{z}<extra></extra>",
         "legendgroup": "b",
         "marker": {
          "color": "#00cc96",
          "symbol": "circle"
         },
         "mode": "markers",
         "name": "b",
         "scene": "scene",
         "showlegend": true,
         "type": "scatter3d",
         "x": [
          -9.10183048248291,
          -7.3868279457092285,
          -6.155820369720459,
          -7.536221981048584,
          -13.286153793334961,
          -6.913936614990234,
          -8.33598804473877,
          -12.32091236114502
         ],
         "y": [
          8.527955055236816,
          12.196139335632324,
          11.046630859375,
          7.078225135803223,
          15.482879638671875,
          9.676780700683594,
          12.321738243103027,
          13.581685066223145
         ],
         "z": [
          9.218828201293945,
          6.32472562789917,
          8.742948532104492,
          11.810522079467773,
          9.468674659729004,
          11.471514701843262,
          9.72375774383545,
          7.953589916229248
         ]
        },
        {
         "hovertemplate": "color=r<br>x=%{x}<br>y=%{y}<br>z=%{z}<extra></extra>",
         "legendgroup": "r",
         "marker": {
          "color": "#ab63fa",
          "symbol": "circle"
         },
         "mode": "markers",
         "name": "r",
         "scene": "scene",
         "showlegend": true,
         "type": "scatter3d",
         "x": [
          -22.153762817382812,
          -20.876514434814453,
          -30.420753479003906,
          -22.20755386352539,
          -21.5905704498291,
          -31.240564346313477,
          -25.88500213623047,
          -26.178306579589844,
          -23.068599700927734,
          -28.311573028564453,
          -25.504581451416016,
          -23.460344314575195,
          -29.085914611816406,
          -27.391080856323242,
          -23.714614868164062,
          -27.496360778808594,
          81.71478271484375,
          -19.668596267700195,
          -24.610334396362305,
          -30.104843139648438
         ],
         "y": [
          -8.684488296508789,
          -9.008581161499023,
          4.007169246673584,
          -5.687689781188965,
          -8.03565502166748,
          1.6657421588897705,
          -3.6616997718811035,
          -0.9240994453430176,
          -7.033667087554932,
          -1.9303383827209473,
          -2.6022753715515137,
          -5.642113208770752,
          1.697472333908081,
          2.518636465072632,
          -8.281861305236816,
          -0.5214413404464722,
          -29.461854934692383,
          -9.777782440185547,
          -5.919886112213135,
          1.8874361515045166
         ],
         "z": [
          -14.838632583618164,
          -9.853985786437988,
          -13.806991577148438,
          -12.487892150878906,
          -4.591520309448242,
          -14.27605152130127,
          -8.848250389099121,
          -10.323206901550293,
          -7.182956695556641,
          -8.905560493469238,
          -14.066394805908203,
          -5.073433876037598,
          -15.567999839782715,
          -8.6487398147583,
          -11.798802375793457,
          -6.521223068237305,
          14.49571418762207,
          -5.427995681762695,
          -12.759458541870117,
          -8.295402526855469
         ]
        },
        {
         "hovertemplate": "color=y<br>x=%{x}<br>y=%{y}<br>z=%{z}<extra></extra>",
         "legendgroup": "y",
         "marker": {
          "color": "#FFA15A",
          "symbol": "circle"
         },
         "mode": "markers",
         "name": "y",
         "scene": "scene",
         "showlegend": true,
         "type": "scatter3d",
         "x": [
          2.5159270763397217,
          0.016933299601078033,
          -3.1432130336761475,
          0.7296750545501709,
          -3.0637855529785156,
          1.712481141090393,
          -4.403838634490967,
          1.472746729850769,
          -0.874816358089447,
          -0.31290146708488464,
          -1.1181079149246216,
          1.5827901363372803,
          2.401414155960083,
          -4.486534118652344,
          -3.8100340366363525
         ],
         "y": [
          -9.423970222473145,
          -5.769979476928711,
          -5.324719429016113,
          -11.88512134552002,
          -5.940124034881592,
          -11.221720695495605,
          -7.684845924377441,
          -6.569674491882324,
          -7.214428901672363,
          -7.566712379455566,
          -10.834845542907715,
          -6.201145648956299,
          -10.200255393981934,
          -9.832568168640137,
          -11.261043548583984
         ],
         "z": [
          24.078472137451172,
          20.080402374267578,
          23.515975952148438,
          23.80101203918457,
          20.4993896484375,
          21.3786678314209,
          22.781843185424805,
          28.894880294799805,
          26.403093338012695,
          23.4647274017334,
          26.403982162475586,
          25.822803497314453,
          26.957326889038086,
          26.437467575073242,
          24.420547485351562
         ]
        },
        {
         "hovertemplate": "color=m<br>x=%{x}<br>y=%{y}<br>z=%{z}<extra></extra>",
         "legendgroup": "m",
         "marker": {
          "color": "#19d3f3",
          "symbol": "circle"
         },
         "mode": "markers",
         "name": "m",
         "scene": "scene",
         "showlegend": true,
         "type": "scatter3d",
         "x": [
          16.02425765991211,
          16.76701545715332,
          17.71136474609375,
          13.700352668762207,
          18.633831024169922,
          14.945371627807617,
          15.554095268249512,
          19.019359588623047,
          11.015056610107422,
          18.040685653686523
         ],
         "y": [
          2.0357797145843506,
          -5.8213324546813965,
          -1.447306752204895,
          -6.779545783996582,
          0.09213738888502121,
          -2.5804948806762695,
          -4.300848484039307,
          -4.460450649261475,
          -6.902839660644531,
          -2.9506189823150635
         ],
         "z": [
          -3.682899236679077,
          -3.1601366996765137,
          -1.932456374168396,
          -4.287938117980957,
          -4.507615566253662,
          -2.9842734336853027,
          -0.7461841106414795,
          -2.1864142417907715,
          -4.362673282623291,
          -4.764647006988525
         ]
        },
        {
         "hovertemplate": "color=c<br>x=%{x}<br>y=%{y}<br>z=%{z}<extra></extra>",
         "legendgroup": "c",
         "marker": {
          "color": "#FF6692",
          "symbol": "circle"
         },
         "mode": "markers",
         "name": "c",
         "scene": "scene",
         "showlegend": true,
         "type": "scatter3d",
         "x": [
          6.428370475769043,
          26.944141387939453,
          17.20548439025879,
          22.5817928314209,
          111.77555847167969,
          9.420888900756836,
          12.615036964416504,
          15.086762428283691,
          23.024507522583008,
          18.37950325012207,
          24.572240829467773,
          15.709016799926758,
          20.06842041015625,
          18.981515884399414,
          14.255215644836426,
          18.554306030273438
         ],
         "y": [
          -21.880420684814453,
          -25.50701141357422,
          -24.692529678344727,
          -26.075510025024414,
          -58.84355545043945,
          -26.912843704223633,
          -26.681859970092773,
          -24.349538803100586,
          -23.911819458007812,
          -26.55345344543457,
          -25.807781219482422,
          -27.270830154418945,
          -24.05599594116211,
          -26.669729232788086,
          -23.83278465270996,
          -24.029438018798828
         ],
         "z": [
          7.539278507232666,
          -1.2434390783309937,
          1.6533063650131226,
          4.13508415222168,
          6.1671576499938965,
          5.901520252227783,
          6.338399410247803,
          6.261496067047119,
          6.184932708740234,
          7.662232398986816,
          0.639200747013092,
          6.437554836273193,
          9.36857795715332,
          4.690735340118408,
          1.6183968782424927,
          6.383376598358154
         ]
        }
       ],
       "layout": {
        "legend": {
         "title": {
          "text": "color"
         },
         "tracegroupgap": 0
        },
        "margin": {
         "t": 60
        },
        "scene": {
         "domain": {
          "x": [
           0,
           1
          ],
          "y": [
           0,
           1
          ]
         },
         "xaxis": {
          "title": {
           "text": "x"
          }
         },
         "yaxis": {
          "title": {
           "text": "y"
          }
         },
         "zaxis": {
          "title": {
           "text": "z"
          }
         }
        },
        "template": {
         "data": {
          "bar": [
           {
            "error_x": {
             "color": "#2a3f5f"
            },
            "error_y": {
             "color": "#2a3f5f"
            },
            "marker": {
             "line": {
              "color": "#E5ECF6",
              "width": 0.5
             },
             "pattern": {
              "fillmode": "overlay",
              "size": 10,
              "solidity": 0.2
             }
            },
            "type": "bar"
           }
          ],
          "barpolar": [
           {
            "marker": {
             "line": {
              "color": "#E5ECF6",
              "width": 0.5
             },
             "pattern": {
              "fillmode": "overlay",
              "size": 10,
              "solidity": 0.2
             }
            },
            "type": "barpolar"
           }
          ],
          "carpet": [
           {
            "aaxis": {
             "endlinecolor": "#2a3f5f",
             "gridcolor": "white",
             "linecolor": "white",
             "minorgridcolor": "white",
             "startlinecolor": "#2a3f5f"
            },
            "baxis": {
             "endlinecolor": "#2a3f5f",
             "gridcolor": "white",
             "linecolor": "white",
             "minorgridcolor": "white",
             "startlinecolor": "#2a3f5f"
            },
            "type": "carpet"
           }
          ],
          "choropleth": [
           {
            "colorbar": {
             "outlinewidth": 0,
             "ticks": ""
            },
            "type": "choropleth"
           }
          ],
          "contour": [
           {
            "colorbar": {
             "outlinewidth": 0,
             "ticks": ""
            },
            "colorscale": [
             [
              0,
              "#0d0887"
             ],
             [
              0.1111111111111111,
              "#46039f"
             ],
             [
              0.2222222222222222,
              "#7201a8"
             ],
             [
              0.3333333333333333,
              "#9c179e"
             ],
             [
              0.4444444444444444,
              "#bd3786"
             ],
             [
              0.5555555555555556,
              "#d8576b"
             ],
             [
              0.6666666666666666,
              "#ed7953"
             ],
             [
              0.7777777777777778,
              "#fb9f3a"
             ],
             [
              0.8888888888888888,
              "#fdca26"
             ],
             [
              1,
              "#f0f921"
             ]
            ],
            "type": "contour"
           }
          ],
          "contourcarpet": [
           {
            "colorbar": {
             "outlinewidth": 0,
             "ticks": ""
            },
            "type": "contourcarpet"
           }
          ],
          "heatmap": [
           {
            "colorbar": {
             "outlinewidth": 0,
             "ticks": ""
            },
            "colorscale": [
             [
              0,
              "#0d0887"
             ],
             [
              0.1111111111111111,
              "#46039f"
             ],
             [
              0.2222222222222222,
              "#7201a8"
             ],
             [
              0.3333333333333333,
              "#9c179e"
             ],
             [
              0.4444444444444444,
              "#bd3786"
             ],
             [
              0.5555555555555556,
              "#d8576b"
             ],
             [
              0.6666666666666666,
              "#ed7953"
             ],
             [
              0.7777777777777778,
              "#fb9f3a"
             ],
             [
              0.8888888888888888,
              "#fdca26"
             ],
             [
              1,
              "#f0f921"
             ]
            ],
            "type": "heatmap"
           }
          ],
          "heatmapgl": [
           {
            "colorbar": {
             "outlinewidth": 0,
             "ticks": ""
            },
            "colorscale": [
             [
              0,
              "#0d0887"
             ],
             [
              0.1111111111111111,
              "#46039f"
             ],
             [
              0.2222222222222222,
              "#7201a8"
             ],
             [
              0.3333333333333333,
              "#9c179e"
             ],
             [
              0.4444444444444444,
              "#bd3786"
             ],
             [
              0.5555555555555556,
              "#d8576b"
             ],
             [
              0.6666666666666666,
              "#ed7953"
             ],
             [
              0.7777777777777778,
              "#fb9f3a"
             ],
             [
              0.8888888888888888,
              "#fdca26"
             ],
             [
              1,
              "#f0f921"
             ]
            ],
            "type": "heatmapgl"
           }
          ],
          "histogram": [
           {
            "marker": {
             "pattern": {
              "fillmode": "overlay",
              "size": 10,
              "solidity": 0.2
             }
            },
            "type": "histogram"
           }
          ],
          "histogram2d": [
           {
            "colorbar": {
             "outlinewidth": 0,
             "ticks": ""
            },
            "colorscale": [
             [
              0,
              "#0d0887"
             ],
             [
              0.1111111111111111,
              "#46039f"
             ],
             [
              0.2222222222222222,
              "#7201a8"
             ],
             [
              0.3333333333333333,
              "#9c179e"
             ],
             [
              0.4444444444444444,
              "#bd3786"
             ],
             [
              0.5555555555555556,
              "#d8576b"
             ],
             [
              0.6666666666666666,
              "#ed7953"
             ],
             [
              0.7777777777777778,
              "#fb9f3a"
             ],
             [
              0.8888888888888888,
              "#fdca26"
             ],
             [
              1,
              "#f0f921"
             ]
            ],
            "type": "histogram2d"
           }
          ],
          "histogram2dcontour": [
           {
            "colorbar": {
             "outlinewidth": 0,
             "ticks": ""
            },
            "colorscale": [
             [
              0,
              "#0d0887"
             ],
             [
              0.1111111111111111,
              "#46039f"
             ],
             [
              0.2222222222222222,
              "#7201a8"
             ],
             [
              0.3333333333333333,
              "#9c179e"
             ],
             [
              0.4444444444444444,
              "#bd3786"
             ],
             [
              0.5555555555555556,
              "#d8576b"
             ],
             [
              0.6666666666666666,
              "#ed7953"
             ],
             [
              0.7777777777777778,
              "#fb9f3a"
             ],
             [
              0.8888888888888888,
              "#fdca26"
             ],
             [
              1,
              "#f0f921"
             ]
            ],
            "type": "histogram2dcontour"
           }
          ],
          "mesh3d": [
           {
            "colorbar": {
             "outlinewidth": 0,
             "ticks": ""
            },
            "type": "mesh3d"
           }
          ],
          "parcoords": [
           {
            "line": {
             "colorbar": {
              "outlinewidth": 0,
              "ticks": ""
             }
            },
            "type": "parcoords"
           }
          ],
          "pie": [
           {
            "automargin": true,
            "type": "pie"
           }
          ],
          "scatter": [
           {
            "fillpattern": {
             "fillmode": "overlay",
             "size": 10,
             "solidity": 0.2
            },
            "type": "scatter"
           }
          ],
          "scatter3d": [
           {
            "line": {
             "colorbar": {
              "outlinewidth": 0,
              "ticks": ""
             }
            },
            "marker": {
             "colorbar": {
              "outlinewidth": 0,
              "ticks": ""
             }
            },
            "type": "scatter3d"
           }
          ],
          "scattercarpet": [
           {
            "marker": {
             "colorbar": {
              "outlinewidth": 0,
              "ticks": ""
             }
            },
            "type": "scattercarpet"
           }
          ],
          "scattergeo": [
           {
            "marker": {
             "colorbar": {
              "outlinewidth": 0,
              "ticks": ""
             }
            },
            "type": "scattergeo"
           }
          ],
          "scattergl": [
           {
            "marker": {
             "colorbar": {
              "outlinewidth": 0,
              "ticks": ""
             }
            },
            "type": "scattergl"
           }
          ],
          "scattermapbox": [
           {
            "marker": {
             "colorbar": {
              "outlinewidth": 0,
              "ticks": ""
             }
            },
            "type": "scattermapbox"
           }
          ],
          "scatterpolar": [
           {
            "marker": {
             "colorbar": {
              "outlinewidth": 0,
              "ticks": ""
             }
            },
            "type": "scatterpolar"
           }
          ],
          "scatterpolargl": [
           {
            "marker": {
             "colorbar": {
              "outlinewidth": 0,
              "ticks": ""
             }
            },
            "type": "scatterpolargl"
           }
          ],
          "scatterternary": [
           {
            "marker": {
             "colorbar": {
              "outlinewidth": 0,
              "ticks": ""
             }
            },
            "type": "scatterternary"
           }
          ],
          "surface": [
           {
            "colorbar": {
             "outlinewidth": 0,
             "ticks": ""
            },
            "colorscale": [
             [
              0,
              "#0d0887"
             ],
             [
              0.1111111111111111,
              "#46039f"
             ],
             [
              0.2222222222222222,
              "#7201a8"
             ],
             [
              0.3333333333333333,
              "#9c179e"
             ],
             [
              0.4444444444444444,
              "#bd3786"
             ],
             [
              0.5555555555555556,
              "#d8576b"
             ],
             [
              0.6666666666666666,
              "#ed7953"
             ],
             [
              0.7777777777777778,
              "#fb9f3a"
             ],
             [
              0.8888888888888888,
              "#fdca26"
             ],
             [
              1,
              "#f0f921"
             ]
            ],
            "type": "surface"
           }
          ],
          "table": [
           {
            "cells": {
             "fill": {
              "color": "#EBF0F8"
             },
             "line": {
              "color": "white"
             }
            },
            "header": {
             "fill": {
              "color": "#C8D4E3"
             },
             "line": {
              "color": "white"
             }
            },
            "type": "table"
           }
          ]
         },
         "layout": {
          "annotationdefaults": {
           "arrowcolor": "#2a3f5f",
           "arrowhead": 0,
           "arrowwidth": 1
          },
          "autotypenumbers": "strict",
          "coloraxis": {
           "colorbar": {
            "outlinewidth": 0,
            "ticks": ""
           }
          },
          "colorscale": {
           "diverging": [
            [
             0,
             "#8e0152"
            ],
            [
             0.1,
             "#c51b7d"
            ],
            [
             0.2,
             "#de77ae"
            ],
            [
             0.3,
             "#f1b6da"
            ],
            [
             0.4,
             "#fde0ef"
            ],
            [
             0.5,
             "#f7f7f7"
            ],
            [
             0.6,
             "#e6f5d0"
            ],
            [
             0.7,
             "#b8e186"
            ],
            [
             0.8,
             "#7fbc41"
            ],
            [
             0.9,
             "#4d9221"
            ],
            [
             1,
             "#276419"
            ]
           ],
           "sequential": [
            [
             0,
             "#0d0887"
            ],
            [
             0.1111111111111111,
             "#46039f"
            ],
            [
             0.2222222222222222,
             "#7201a8"
            ],
            [
             0.3333333333333333,
             "#9c179e"
            ],
            [
             0.4444444444444444,
             "#bd3786"
            ],
            [
             0.5555555555555556,
             "#d8576b"
            ],
            [
             0.6666666666666666,
             "#ed7953"
            ],
            [
             0.7777777777777778,
             "#fb9f3a"
            ],
            [
             0.8888888888888888,
             "#fdca26"
            ],
            [
             1,
             "#f0f921"
            ]
           ],
           "sequentialminus": [
            [
             0,
             "#0d0887"
            ],
            [
             0.1111111111111111,
             "#46039f"
            ],
            [
             0.2222222222222222,
             "#7201a8"
            ],
            [
             0.3333333333333333,
             "#9c179e"
            ],
            [
             0.4444444444444444,
             "#bd3786"
            ],
            [
             0.5555555555555556,
             "#d8576b"
            ],
            [
             0.6666666666666666,
             "#ed7953"
            ],
            [
             0.7777777777777778,
             "#fb9f3a"
            ],
            [
             0.8888888888888888,
             "#fdca26"
            ],
            [
             1,
             "#f0f921"
            ]
           ]
          },
          "colorway": [
           "#636efa",
           "#EF553B",
           "#00cc96",
           "#ab63fa",
           "#FFA15A",
           "#19d3f3",
           "#FF6692",
           "#B6E880",
           "#FF97FF",
           "#FECB52"
          ],
          "font": {
           "color": "#2a3f5f"
          },
          "geo": {
           "bgcolor": "white",
           "lakecolor": "white",
           "landcolor": "#E5ECF6",
           "showlakes": true,
           "showland": true,
           "subunitcolor": "white"
          },
          "hoverlabel": {
           "align": "left"
          },
          "hovermode": "closest",
          "mapbox": {
           "style": "light"
          },
          "paper_bgcolor": "white",
          "plot_bgcolor": "#E5ECF6",
          "polar": {
           "angularaxis": {
            "gridcolor": "white",
            "linecolor": "white",
            "ticks": ""
           },
           "bgcolor": "#E5ECF6",
           "radialaxis": {
            "gridcolor": "white",
            "linecolor": "white",
            "ticks": ""
           }
          },
          "scene": {
           "xaxis": {
            "backgroundcolor": "#E5ECF6",
            "gridcolor": "white",
            "gridwidth": 2,
            "linecolor": "white",
            "showbackground": true,
            "ticks": "",
            "zerolinecolor": "white"
           },
           "yaxis": {
            "backgroundcolor": "#E5ECF6",
            "gridcolor": "white",
            "gridwidth": 2,
            "linecolor": "white",
            "showbackground": true,
            "ticks": "",
            "zerolinecolor": "white"
           },
           "zaxis": {
            "backgroundcolor": "#E5ECF6",
            "gridcolor": "white",
            "gridwidth": 2,
            "linecolor": "white",
            "showbackground": true,
            "ticks": "",
            "zerolinecolor": "white"
           }
          },
          "shapedefaults": {
           "line": {
            "color": "#2a3f5f"
           }
          },
          "ternary": {
           "aaxis": {
            "gridcolor": "white",
            "linecolor": "white",
            "ticks": ""
           },
           "baxis": {
            "gridcolor": "white",
            "linecolor": "white",
            "ticks": ""
           },
           "bgcolor": "#E5ECF6",
           "caxis": {
            "gridcolor": "white",
            "linecolor": "white",
            "ticks": ""
           }
          },
          "title": {
           "x": 0.05
          },
          "xaxis": {
           "automargin": true,
           "gridcolor": "white",
           "linecolor": "white",
           "ticks": "",
           "title": {
            "standoff": 15
           },
           "zerolinecolor": "white",
           "zerolinewidth": 2
          },
          "yaxis": {
           "automargin": true,
           "gridcolor": "white",
           "linecolor": "white",
           "ticks": "",
           "title": {
            "standoff": 15
           },
           "zerolinecolor": "white",
           "zerolinewidth": 2
          }
         }
        }
       }
      },
      "text/html": [
       "<div>                            <div id=\"66ab08b1-c990-45c7-8502-5274977f4ee3\" class=\"plotly-graph-div\" style=\"height:525px; width:100%;\"></div>            <script type=\"text/javascript\">                require([\"plotly\"], function(Plotly) {                    window.PLOTLYENV=window.PLOTLYENV || {};                                    if (document.getElementById(\"66ab08b1-c990-45c7-8502-5274977f4ee3\")) {                    Plotly.newPlot(                        \"66ab08b1-c990-45c7-8502-5274977f4ee3\",                        [{\"hovertemplate\":\"color=k<br>x=%{x}<br>y=%{y}<br>z=%{z}<extra></extra>\",\"legendgroup\":\"k\",\"marker\":{\"color\":\"#636efa\",\"symbol\":\"circle\"},\"mode\":\"markers\",\"name\":\"k\",\"scene\":\"scene\",\"showlegend\":true,\"x\":[-9.046331405639648,-11.44273853302002,-21.65359878540039,-10.454161643981934,4.739521503448486,17.40998649597168,-9.488744735717773,-0.4006132185459137,-6.156496047973633,-15.647710800170898,6.842092037200928,2.4186394214630127,7.418874740600586,3.140411615371704,9.601218223571777,-7.681477069854736,-2.822824001312256,-53.05295944213867,22.53696632385254,18.218494415283203,-4.738011360168457,11.321849822998047,13.276442527770996,13.19835090637207,-0.4524790942668915,-7.665225505828857,9.751333236694336,18.003067016601562,10.16472339630127,-0.188185915350914,-0.545369029045105,-8.661247253417969,12.27123737335205,14.17691421508789,1.374219298362732,-3.0602657794952393,12.718029975891113,22.514066696166992,-7.357227802276611,14.787997245788574,-20.44294548034668,11.562552452087402,-12.350040435791016,-13.450438499450684,-18.168781280517578,8.441187858581543,8.892831802368164,-14.191119194030762,-13.253026962280273,10.658899307250977,16.983154296875,12.531632423400879,5.847597122192383,0.8367011547088623,-17.906381607055664,4.769161224365234,21.045066833496094,24.951366424560547,3.0134897232055664,-4.03265380859375,-2.5581603050231934,-18.897409439086914,-3.4224536418914795,-1.1587519645690918,-19.66817855834961,-5.748752593994141,10.462860107421875,-18.787124633789062,-3.2394230365753174,9.277685165405273,-16.58060073852539,-2.1501715183258057,-15.762643814086914,-9.80859088897705,-81.791015625,-27.306659698486328,-13.466221809387207,21.90608024597168,-10.187676429748535,0.6889179944992065,8.243086814880371,14.432371139526367,-10.683236122131348,18.909774780273438,-19.863386154174805,-16.37049674987793,-0.6079948544502258,-0.9830238819122314,5.461564064025879,5.218622207641602,-15.083608627319336,-57.99257278442383,21.915943145751953,-13.269302368164062,26.272008895874023,-7.556407928466797,-7.438316822052002,-5.632994174957275,11.121540069580078,13.428407669067383,-14.717876434326172,-14.445272445678711,-2.2531309127807617,7.517563819885254,8.247428894042969,-14.375052452087402,-18.74449920654297,6.463624954223633,23.89085578918457,11.498507499694824,-0.3595922291278839,15.935079574584961,-2.5350711345672607,6.526896953582764,9.853147506713867,-21.218069076538086,7.697423934936523,7.258779525756836,18.547761917114258,13.493264198303223,1.7243993282318115,1.4179623126983643,8.812419891357422,12.30667495727539,3.2501838207244873,13.350851058959961,4.83257532119751,9.513137817382812,1.0056315660476685,9.77731704711914,-0.621317982673645,11.087596893310547,8.543438911437988,6.6485514640808105,119.45038604736328,0.013748791068792343,18.782182693481445,10.401054382324219,18.186777114868164,4.9118571281433105,16.083219528198242,11.511897087097168,15.475022315979004,16.06488609313965,19.05466079711914,13.101458549499512,7.995543956756592,15.77588939666748,9.068572044372559,8.362435340881348,22.07903480529785,6.7596116065979,6.902961730957031,8.086891174316406,14.3687162399292,18.539997100830078,13.235922813415527,10.457977294921875,8.404837608337402,21.565509796142578,21.585609436035156,6.600968837738037,7.064363956451416,2.4415862560272217,16.051517486572266,17.606853485107422,20.71451187133789,15.759593963623047,13.836289405822754,11.223855018615723,21.40593147277832,2.8568315505981445,25.203134536743164,13.254828453063965,15.336697578430176,8.440875053405762,25.67900276184082,13.890109062194824,17.452407836914062,23.120141983032227,9.965339660644531,5.4363789558410645,0.956437885761261,1.8093584775924683,3.794647216796875,3.0907816886901855,18.30752944946289,-31.12976837158203,11.464186668395996,10.592700958251953,-0.9812009930610657,-19.006839752197266,-14.563387870788574,-15.870013236999512,16.130596160888672,-17.349424362182617,0.70964515209198,-18.17450523376465,-14.88231372833252,-0.32087424397468567,-4.085951328277588,-3.614997148513794,-0.09093213826417923,0.025603393092751503,-0.8317543268203735,-5.500577926635742,-3.0499520301818848,-5.959803581237793,-1.6689637899398804,-2.4795591831207275,-0.99972003698349,-6.767575740814209,-2.5517489910125732,-5.7214860916137695,-20.30048179626465,-3.750126838684082,-3.098863363265991,-4.586777210235596,5.7017621994018555,0.9788944125175476,0.6293817758560181,-7.108649730682373,-12.822087287902832,-7.577425479888916,-9.279520034790039,2.730485677719116,-4.615138053894043,-7.43548059463501,-5.046298503875732,3.2228384017944336,0.5755764842033386,0.003441551234573126,-6.40046501159668,-5.2091169357299805,-3.1918282508850098,-6.279848575592041,-6.693490982055664,-3.8456530570983887,-4.283414840698242,14.23212718963623,-3.913769245147705,-3.621323347091675,-1.5615966320037842,-3.6409952640533447,-3.3407163619995117,-7.73508358001709,-0.15711086988449097,-1.053704023361206,13.93487548828125,18.96958351135254,1.8260059356689453,-10.412586212158203,1.61017644405365,10.402091026306152,-13.621132850646973,4.072630405426025,24.344881057739258,-38.88062286376953,4.244079113006592,-9.578176498413086,1.9835727214813232,18.174583435058594,5.719417095184326,-11.758330345153809,-16.267925262451172,0.1479852795600891,18.608003616333008,-4.883203983306885,17.46265983581543,-13.065000534057617,-13.370770454406738,-28.16254997253418,-12.714818954467773,-15.110689163208008,5.053903579711914,-4.5065131187438965,-16.506053924560547,2.0014686584472656,-16.786325454711914,0.11428079009056091,7.675745487213135,-8.314894676208496,1.9760621786117554,6.619262218475342,-118.56483459472656,-8.659415245056152,-10.529463768005371,11.215337753295898,9.197097778320312,9.216344833374023,21.596195220947266,10.542902946472168,4.384600639343262,1.5435917377471924,7.662912845611572,-12.42553997039795,-1.9002189636230469,-16.467716217041016,-7.376601219177246,7.120086193084717,-23.11838722229004,-13.888901710510254,17.605485916137695,-20.432270050048828,-6.825558662414551,-12.43630599975586,-6.855988025665283,-28.456457138061523,8.769777297973633,22.327835083007812],\"y\":[-1.5340672731399536,6.574012279510498,-1.8590061664581299,-0.41136372089385986,-16.96223258972168,-27.497920989990234,12.495722770690918,-22.2428035736084,-9.86121654510498,6.600394248962402,-22.95342445373535,-0.994309663772583,-15.746891975402832,-23.23505401611328,-14.151230812072754,-18.99390983581543,-23.76114273071289,37.35771179199219,-25.974454879760742,-9.869290351867676,-9.65532398223877,-1.3009191751480103,-8.881010055541992,-11.895366668701172,2.9733541011810303,0.006850101985037327,6.681643009185791,-16.246273040771484,7.677053451538086,0.7847827076911926,-25.03753662109375,3.7726967334747314,-15.074109077453613,11.354602813720703,-5.082414150238037,-0.4331987202167511,7.166856288909912,-15.876425743103027,-10.194954872131348,-27.792743682861328,-9.152871131896973,-28.964563369750977,-16.195659637451172,5.582106590270996,-15.532862663269043,5.096437454223633,-29.941360473632812,4.940958499908447,-18.14061737060547,-15.994688987731934,10.051630973815918,9.61036491394043,-31.05203628540039,-28.931198120117188,-13.614554405212402,-19.383331298828125,-13.033788681030273,-23.372880935668945,-27.92346954345703,1.840895652770996,-20.32362174987793,-9.368785858154297,2.1816976070404053,-0.23901543021202087,-4.5717453956604,0.888896644115448,84.04073333740234,-11.279043197631836,-21.84109115600586,-27.648595809936523,-17.94634246826172,-21.76734161376953,-12.668383598327637,-19.58407974243164,23.154285430908203,-0.9921901822090149,-21.47683334350586,-17.896011352539062,-17.478626251220703,-24.7843017578125,-27.36046600341797,-26.56248664855957,2.5020625591278076,-16.106048583984375,-5.749551296234131,-12.341777801513672,-29.44001007080078,-24.91731071472168,-24.06086540222168,-21.673030853271484,-15.212780952453613,-21.989362716674805,39.07378387451172,3.340461492538452,-24.703784942626953,13.797632217407227,-23.343299865722656,-20.94005584716797,3.8352320194244385,-13.614950180053711,9.195090293884277,8.181456565856934,-22.366670608520508,-18.474538803100586,-0.40056312084198,2.525477409362793,-10.724989891052246,-20.476518630981445,-22.3205509185791,-26.4284610748291,-22.955080032348633,-14.693780899047852,-26.301456451416016,-29.170372009277344,-2.7594263553619385,-0.6396019458770752,23.777769088745117,27.417020797729492,19.438631057739258,18.347332000732422,28.669353485107422,28.447622299194336,24.42845916748047,26.709463119506836,31.066734313964844,21.177873611450195,25.66746711730957,26.06939125061035,30.533100128173828,24.06299591064453,27.08819580078125,27.062894821166992,26.50107765197754,27.265174865722656,7.194135665893555,31.576446533203125,19.249290466308594,20.899019241333008,16.71277618408203,26.7634334564209,20.295726776123047,24.955141067504883,22.766498565673828,19.271053314208984,19.488147735595703,22.861108779907227,25.139381408691406,19.34834098815918,26.679622650146484,24.887346267700195,14.998286247253418,23.109743118286133,25.511371612548828,23.162879943847656,17.209138870239258,17.172903060913086,19.369455337524414,23.537660598754883,24.5936279296875,17.289831161499023,15.166069984436035,25.37563133239746,26.80156135559082,38.10472106933594,19.982194900512695,15.942595481872559,17.44512939453125,16.474458694458008,25.27295684814453,24.558584213256836,18.541912078857422,26.137174606323242,15.569816589355469,16.27312469482422,21.562110900878906,25.0205135345459,15.997166633605957,19.294057846069336,18.47958755493164,16.20000457763672,24.088743209838867,28.021650314331055,24.817502975463867,22.06984519958496,24.725154876708984,28.206815719604492,14.953001976013184,30.665061950683594,27.82818603515625,26.343551635742188,-30.87407684326172,-7.752499580383301,1.7057619094848633,-12.633161544799805,-28.34609031677246,-15.012086868286133,-26.80893898010254,-13.768354415893555,1.6886509656906128,-20.635656356811523,9.647178649902344,22.322906494140625,7.2958526611328125,18.60495948791504,9.390308380126953,12.460524559020996,5.917353630065918,23.415254592895508,4.942521095275879,8.140617370605469,3.9042539596557617,14.14824104309082,5.399032115936279,12.744651794433594,-28.36433219909668,10.715322494506836,8.901036262512207,19.285240173339844,12.136685371398926,4.916201591491699,9.47164249420166,16.607826232910156,19.68012046813965,14.708717346191406,19.305889129638672,7.6441755294799805,11.940206527709961,10.044224739074707,15.736417770385742,10.483235359191895,11.333802223205566,20.708059310913086,12.944133758544922,7.568490028381348,21.833450317382812,84.0194091796875,17.580738067626953,10.49262523651123,23.595195770263672,7.279542446136475,23.597152709960938,25.2569580078125,15.331459045410156,17.33540153503418,12.665172576904297,21.059579849243164,2.596472978591919,2.2233128547668457,3.896430492401123,-12.694981575012207,-0.7338266968727112,-9.151679039001465,-20.019012451171875,1.8799445629119873,16.03583526611328,0.2876308560371399,-26.54743003845215,-42.25943374633789,-21.734424591064453,-21.46657943725586,-22.136302947998047,-20.029312133789062,-25.375370025634766,-19.037246704101562,-17.075645446777344,-23.15620994567871,-26.801891326904297,2.065192699432373,-15.665863990783691,-16.88687515258789,-20.73121452331543,9.24581527709961,-16.356306076049805,-15.569133758544922,-28.345773696899414,-21.025455474853516,6.120848655700684,-19.4406681060791,-14.138138771057129,-25.48404312133789,-28.423355102539062,-20.304887771606445,-29.591922760009766,-27.80733871459961,127.60057067871094,-18.524980545043945,-17.843013763427734,-26.994354248046875,-1.6086217164993286,-16.884567260742188,-13.283109664916992,-27.161678314208984,-1.563989281654358,-3.0066323280334473,-1.374645471572876,-0.4895268678665161,1.8690766096115112,2.7330658435821533,-18.08457374572754,-15.269906044006348,0.8874223232269287,4.893166542053223,-17.683881759643555,-4.845855236053467,-21.48969841003418,1.2905257940292358,-15.377307891845703,4.812404632568359,10.049779891967773,-24.919008255004883],\"z\":[9.53197193145752,9.57335376739502,7.666819095611572,12.332613945007324,-2.240938425064087,69.30937194824219,3.7845757007598877,-2.7527353763580322,-9.284784317016602,1.5078284740447998,-0.8405643701553345,10.754899978637695,-1.793112874031067,8.401768684387207,-11.876882553100586,6.62180233001709,-2.591778039932251,-21.51104736328125,8.165149688720703,-0.12358630448579788,-6.757519721984863,-1.8719618320465088,-8.068865776062012,-7.9292988777160645,3.1394717693328857,8.026867866516113,-9.65349292755127,0.27207931876182556,-11.978772163391113,6.3451828956604,-4.866749286651611,12.558052062988281,-5.335000991821289,-14.760540962219238,15.483501434326172,3.512901544570923,-12.816399574279785,-4.340579032897949,-7.0037713050842285,-7.052609443664551,0.05062533915042877,-4.988108158111572,-8.432863235473633,11.647521018981934,-2.98518705368042,-8.221772193908691,-9.2034912109375,19.5771484375,-5.628282070159912,-9.379570007324219,-14.801094055175781,-15.422810554504395,-10.263843536376953,-4.311363220214844,3.721047878265381,17.79243278503418,-2.181363821029663,-2.1588146686553955,-4.987863063812256,12.5286865234375,-3.1587657928466797,4.913025856018066,2.810516119003296,14.00421142578125,9.067113876342773,3.315058708190918,-113.68861389160156,1.8277684450149536,2.7214672565460205,-7.884922504425049,-2.833489179611206,5.646518230438232,1.9443696737289429,4.935474872589111,-184.99435424804688,-16.835418701171875,-12.604214668273926,-5.894814968109131,7.238590240478516,-8.491902351379395,0.769481897354126,1.9352059364318848,13.307368278503418,-5.415008544921875,-7.49458122253418,-20.49005126953125,-7.104421615600586,-13.194361686706543,5.8490471839904785,2.5402815341949463,3.5505518913269043,-2.052159309387207,-4.9472527503967285,17.425508499145508,-4.641134262084961,2.7535386085510254,-11.71806812286377,-2.911102771759033,-5.464696884155273,-3.654226303100586,1.4638711214065552,-12.232077598571777,12.24473762512207,19.872364044189453,0.9823704361915588,22.571170806884766,-18.05573844909668,-2.2439353466033936,-5.15687370300293,-4.9389448165893555,14.250812530517578,-6.177495956420898,-15.44753646850586,-11.780966758728027,3.3633463382720947,5.082404613494873,-9.234328269958496,6.563780784606934,13.252649307250977,22.675012588500977,12.067776679992676,7.7727131843566895,27.299192428588867,7.566989421844482,12.216638565063477,24.95664405822754,22.792659759521484,13.743245124816895,13.876070976257324,-2.504926919937134,5.019114971160889,1.961452603340149,8.944665908813477,13.280891418457031,44.78852462768555,10.924113273620605,6.158165454864502,26.752721786499023,11.342402458190918,20.51203155517578,21.952720642089844,5.576523780822754,17.089073181152344,12.314346313476562,1.5549989938735962,15.43603515625,23.748558044433594,8.55448055267334,-1.9826496839523315,18.252199172973633,7.3862152099609375,26.17429542541504,-4.04365348815918,21.968656539916992,25.394611358642578,4.797584533691406,27.261857986450195,-9.666274070739746,-6.371634006500244,5.751684188842773,11.83359432220459,-1.0237042903900146,2.3010106086730957,-36.83362579345703,16.699871063232422,13.858884811401367,14.245015144348145,22.3489990234375,15.859454154968262,1.5774638652801514,1.785491704940796,-5.701615333557129,7.073034286499023,20.31306266784668,9.747523307800293,-11.646202087402344,3.857192277908325,18.110687255859375,24.162580490112305,9.819003105163574,20.00321388244629,8.932872772216797,-6.9477996826171875,6.766127586364746,-8.219059944152832,14.890569686889648,24.23558235168457,56.71639633178711,4.978670597076416,11.108466148376465,-10.686809539794922,7.166134357452393,4.736314296722412,-17.90410041809082,-4.997525691986084,0.43947523832321167,-10.579927444458008,-18.625900268554688,19.84807014465332,10.200603485107422,-21.08344841003418,-19.58296012878418,-28.48909568786621,-27.214284896850586,-26.021282196044922,-21.90737533569336,-30.127025604248047,-19.00640106201172,-19.30973243713379,-22.706031799316406,-21.885900497436523,-12.353919982910156,-23.80036735534668,-15.349798202514648,-7.306142330169678,-29.400466918945312,-18.708662033081055,-25.388078689575195,-29.82846450805664,-19.455684661865234,-31.175790786743164,-23.67688751220703,-7.848945617675781,-26.91334342956543,-21.590850830078125,-30.027124404907227,-13.192132949829102,-29.289871215820312,-25.464258193969727,-30.204204559326172,-26.866342544555664,-24.95087432861328,-29.895977020263672,-30.692829132080078,-22.172800064086914,-56.28150939941406,-27.188945770263672,-15.49812126159668,-15.73551082611084,-16.000593185424805,-12.802376747131348,-18.42499351501465,-29.1809139251709,-28.78260612487793,-31.68842887878418,-20.232154846191406,10.819082260131836,13.886260986328125,-3.5052919387817383,-0.5304073095321655,7.7279953956604,-7.936706066131592,14.7390775680542,-4.040965557098389,-2.4740195274353027,4.417971611022949,-2.3520076274871826,-2.3947806358337402,19.44810676574707,-11.46469497680664,16.93238067626953,2.19386887550354,1.0783576965332031,-11.598353385925293,-5.947238445281982,10.59556770324707,-5.616518020629883,9.563608169555664,-2.8336069583892822,-18.043947219848633,-9.59210205078125,-7.244292736053467,5.716250896453857,-2.5538625717163086,0.4565325379371643,5.471328258514404,16.994056701660156,18.731624603271484,-8.18108081817627,-2.2394731044769287,-4.7367777824401855,2.7587292194366455,-8.42005443572998,-1.6895893812179565,-251.31533813476562,-17.812402725219727,-5.89098596572876,2.5832061767578125,-3.250072956085205,-3.311398983001709,-5.340887069702148,-1.9154976606369019,7.841527938842773,13.328204154968262,3.466610908508301,14.358805656433105,8.232715606689453,5.121372699737549,-4.953825950622559,-12.105224609375,7.203308582305908,4.5866312980651855,2.593722105026245,5.988039016723633,-14.444012641906738,21.24964141845703,-5.024855613708496,-7.461827278137207,-10.776073455810547,-4.668911457061768],\"type\":\"scatter3d\"},{\"hovertemplate\":\"color=g<br>x=%{x}<br>y=%{y}<br>z=%{z}<extra></extra>\",\"legendgroup\":\"g\",\"marker\":{\"color\":\"#EF553B\",\"symbol\":\"circle\"},\"mode\":\"markers\",\"name\":\"g\",\"scene\":\"scene\",\"showlegend\":true,\"x\":[-19.475872039794922,-28.92538833618164,-22.01750373840332,-20.109895706176758,-23.4920711517334,-24.681163787841797,-24.262834548950195,-20.091787338256836,-16.78411102294922,-24.23939323425293,-23.212451934814453,-17.8173885345459,-25.100772857666016,-21.783063888549805,-21.875226974487305,-23.596887588500977,-2.2214200496673584,-24.12965202331543,-16.63210105895996,-23.160602569580078,-21.889911651611328,-21.653825759887695,-27.26386833190918,-18.170169830322266,-22.740121841430664,-17.727121353149414,-21.71391487121582,-15.224557876586914,-16.529701232910156,-25.116653442382812,-14.2475004196167,-23.40083122253418,-14.429879188537598,-22.330543518066406],\"y\":[14.269585609436035,11.621274948120117,14.901973724365234,6.11449670791626,14.155314445495605,11.801981925964355,10.029695510864258,20.718265533447266,12.868429183959961,11.842206954956055,8.024569511413574,15.198331832885742,8.691638946533203,11.465152740478516,18.80419158935547,10.017218589782715,70.89799499511719,8.066954612731934,19.539522171020508,12.476180076599121,11.262657165527344,14.594732284545898,6.709972381591797,6.9911208152771,8.238428115844727,18.987165451049805,16.571168899536133,14.127264022827148,6.778666019439697,10.46846866607666,7.292974472045898,12.11388111114502,13.049344062805176,7.970026016235352],\"z\":[4.1579461097717285,-6.6117024421691895,-5.201469898223877,5.52886438369751,-2.65077805519104,-1.3568332195281982,10.561279296875,-2.8299262523651123,5.040639877319336,-6.007943153381348,-5.954563617706299,-3.26471209526062,-3.0897409915924072,-2.0804643630981445,-4.522883892059326,0.7807945609092712,105.1537857055664,8.126065254211426,-5.789161682128906,3.1034491062164307,10.857026100158691,1.4350652694702148,-4.911586761474609,7.289196968078613,3.7034912109375,-2.43359112739563,-2.706756114959717,7.165168285369873,13.659467697143555,4.011509418487549,9.69638729095459,7.223876953125,10.430416107177734,10.298796653747559],\"type\":\"scatter3d\"},{\"hovertemplate\":\"color=b<br>x=%{x}<br>y=%{y}<br>z=%{z}<extra></extra>\",\"legendgroup\":\"b\",\"marker\":{\"color\":\"#00cc96\",\"symbol\":\"circle\"},\"mode\":\"markers\",\"name\":\"b\",\"scene\":\"scene\",\"showlegend\":true,\"x\":[-9.10183048248291,-7.3868279457092285,-6.155820369720459,-7.536221981048584,-13.286153793334961,-6.913936614990234,-8.33598804473877,-12.32091236114502],\"y\":[8.527955055236816,12.196139335632324,11.046630859375,7.078225135803223,15.482879638671875,9.676780700683594,12.321738243103027,13.581685066223145],\"z\":[9.218828201293945,6.32472562789917,8.742948532104492,11.810522079467773,9.468674659729004,11.471514701843262,9.72375774383545,7.953589916229248],\"type\":\"scatter3d\"},{\"hovertemplate\":\"color=r<br>x=%{x}<br>y=%{y}<br>z=%{z}<extra></extra>\",\"legendgroup\":\"r\",\"marker\":{\"color\":\"#ab63fa\",\"symbol\":\"circle\"},\"mode\":\"markers\",\"name\":\"r\",\"scene\":\"scene\",\"showlegend\":true,\"x\":[-22.153762817382812,-20.876514434814453,-30.420753479003906,-22.20755386352539,-21.5905704498291,-31.240564346313477,-25.88500213623047,-26.178306579589844,-23.068599700927734,-28.311573028564453,-25.504581451416016,-23.460344314575195,-29.085914611816406,-27.391080856323242,-23.714614868164062,-27.496360778808594,81.71478271484375,-19.668596267700195,-24.610334396362305,-30.104843139648438],\"y\":[-8.684488296508789,-9.008581161499023,4.007169246673584,-5.687689781188965,-8.03565502166748,1.6657421588897705,-3.6616997718811035,-0.9240994453430176,-7.033667087554932,-1.9303383827209473,-2.6022753715515137,-5.642113208770752,1.697472333908081,2.518636465072632,-8.281861305236816,-0.5214413404464722,-29.461854934692383,-9.777782440185547,-5.919886112213135,1.8874361515045166],\"z\":[-14.838632583618164,-9.853985786437988,-13.806991577148438,-12.487892150878906,-4.591520309448242,-14.27605152130127,-8.848250389099121,-10.323206901550293,-7.182956695556641,-8.905560493469238,-14.066394805908203,-5.073433876037598,-15.567999839782715,-8.6487398147583,-11.798802375793457,-6.521223068237305,14.49571418762207,-5.427995681762695,-12.759458541870117,-8.295402526855469],\"type\":\"scatter3d\"},{\"hovertemplate\":\"color=y<br>x=%{x}<br>y=%{y}<br>z=%{z}<extra></extra>\",\"legendgroup\":\"y\",\"marker\":{\"color\":\"#FFA15A\",\"symbol\":\"circle\"},\"mode\":\"markers\",\"name\":\"y\",\"scene\":\"scene\",\"showlegend\":true,\"x\":[2.5159270763397217,0.016933299601078033,-3.1432130336761475,0.7296750545501709,-3.0637855529785156,1.712481141090393,-4.403838634490967,1.472746729850769,-0.874816358089447,-0.31290146708488464,-1.1181079149246216,1.5827901363372803,2.401414155960083,-4.486534118652344,-3.8100340366363525],\"y\":[-9.423970222473145,-5.769979476928711,-5.324719429016113,-11.88512134552002,-5.940124034881592,-11.221720695495605,-7.684845924377441,-6.569674491882324,-7.214428901672363,-7.566712379455566,-10.834845542907715,-6.201145648956299,-10.200255393981934,-9.832568168640137,-11.261043548583984],\"z\":[24.078472137451172,20.080402374267578,23.515975952148438,23.80101203918457,20.4993896484375,21.3786678314209,22.781843185424805,28.894880294799805,26.403093338012695,23.4647274017334,26.403982162475586,25.822803497314453,26.957326889038086,26.437467575073242,24.420547485351562],\"type\":\"scatter3d\"},{\"hovertemplate\":\"color=m<br>x=%{x}<br>y=%{y}<br>z=%{z}<extra></extra>\",\"legendgroup\":\"m\",\"marker\":{\"color\":\"#19d3f3\",\"symbol\":\"circle\"},\"mode\":\"markers\",\"name\":\"m\",\"scene\":\"scene\",\"showlegend\":true,\"x\":[16.02425765991211,16.76701545715332,17.71136474609375,13.700352668762207,18.633831024169922,14.945371627807617,15.554095268249512,19.019359588623047,11.015056610107422,18.040685653686523],\"y\":[2.0357797145843506,-5.8213324546813965,-1.447306752204895,-6.779545783996582,0.09213738888502121,-2.5804948806762695,-4.300848484039307,-4.460450649261475,-6.902839660644531,-2.9506189823150635],\"z\":[-3.682899236679077,-3.1601366996765137,-1.932456374168396,-4.287938117980957,-4.507615566253662,-2.9842734336853027,-0.7461841106414795,-2.1864142417907715,-4.362673282623291,-4.764647006988525],\"type\":\"scatter3d\"},{\"hovertemplate\":\"color=c<br>x=%{x}<br>y=%{y}<br>z=%{z}<extra></extra>\",\"legendgroup\":\"c\",\"marker\":{\"color\":\"#FF6692\",\"symbol\":\"circle\"},\"mode\":\"markers\",\"name\":\"c\",\"scene\":\"scene\",\"showlegend\":true,\"x\":[6.428370475769043,26.944141387939453,17.20548439025879,22.5817928314209,111.77555847167969,9.420888900756836,12.615036964416504,15.086762428283691,23.024507522583008,18.37950325012207,24.572240829467773,15.709016799926758,20.06842041015625,18.981515884399414,14.255215644836426,18.554306030273438],\"y\":[-21.880420684814453,-25.50701141357422,-24.692529678344727,-26.075510025024414,-58.84355545043945,-26.912843704223633,-26.681859970092773,-24.349538803100586,-23.911819458007812,-26.55345344543457,-25.807781219482422,-27.270830154418945,-24.05599594116211,-26.669729232788086,-23.83278465270996,-24.029438018798828],\"z\":[7.539278507232666,-1.2434390783309937,1.6533063650131226,4.13508415222168,6.1671576499938965,5.901520252227783,6.338399410247803,6.261496067047119,6.184932708740234,7.662232398986816,0.639200747013092,6.437554836273193,9.36857795715332,4.690735340118408,1.6183968782424927,6.383376598358154],\"type\":\"scatter3d\"}],                        {\"template\":{\"data\":{\"histogram2dcontour\":[{\"type\":\"histogram2dcontour\",\"colorbar\":{\"outlinewidth\":0,\"ticks\":\"\"},\"colorscale\":[[0.0,\"#0d0887\"],[0.1111111111111111,\"#46039f\"],[0.2222222222222222,\"#7201a8\"],[0.3333333333333333,\"#9c179e\"],[0.4444444444444444,\"#bd3786\"],[0.5555555555555556,\"#d8576b\"],[0.6666666666666666,\"#ed7953\"],[0.7777777777777778,\"#fb9f3a\"],[0.8888888888888888,\"#fdca26\"],[1.0,\"#f0f921\"]]}],\"choropleth\":[{\"type\":\"choropleth\",\"colorbar\":{\"outlinewidth\":0,\"ticks\":\"\"}}],\"histogram2d\":[{\"type\":\"histogram2d\",\"colorbar\":{\"outlinewidth\":0,\"ticks\":\"\"},\"colorscale\":[[0.0,\"#0d0887\"],[0.1111111111111111,\"#46039f\"],[0.2222222222222222,\"#7201a8\"],[0.3333333333333333,\"#9c179e\"],[0.4444444444444444,\"#bd3786\"],[0.5555555555555556,\"#d8576b\"],[0.6666666666666666,\"#ed7953\"],[0.7777777777777778,\"#fb9f3a\"],[0.8888888888888888,\"#fdca26\"],[1.0,\"#f0f921\"]]}],\"heatmap\":[{\"type\":\"heatmap\",\"colorbar\":{\"outlinewidth\":0,\"ticks\":\"\"},\"colorscale\":[[0.0,\"#0d0887\"],[0.1111111111111111,\"#46039f\"],[0.2222222222222222,\"#7201a8\"],[0.3333333333333333,\"#9c179e\"],[0.4444444444444444,\"#bd3786\"],[0.5555555555555556,\"#d8576b\"],[0.6666666666666666,\"#ed7953\"],[0.7777777777777778,\"#fb9f3a\"],[0.8888888888888888,\"#fdca26\"],[1.0,\"#f0f921\"]]}],\"heatmapgl\":[{\"type\":\"heatmapgl\",\"colorbar\":{\"outlinewidth\":0,\"ticks\":\"\"},\"colorscale\":[[0.0,\"#0d0887\"],[0.1111111111111111,\"#46039f\"],[0.2222222222222222,\"#7201a8\"],[0.3333333333333333,\"#9c179e\"],[0.4444444444444444,\"#bd3786\"],[0.5555555555555556,\"#d8576b\"],[0.6666666666666666,\"#ed7953\"],[0.7777777777777778,\"#fb9f3a\"],[0.8888888888888888,\"#fdca26\"],[1.0,\"#f0f921\"]]}],\"contourcarpet\":[{\"type\":\"contourcarpet\",\"colorbar\":{\"outlinewidth\":0,\"ticks\":\"\"}}],\"contour\":[{\"type\":\"contour\",\"colorbar\":{\"outlinewidth\":0,\"ticks\":\"\"},\"colorscale\":[[0.0,\"#0d0887\"],[0.1111111111111111,\"#46039f\"],[0.2222222222222222,\"#7201a8\"],[0.3333333333333333,\"#9c179e\"],[0.4444444444444444,\"#bd3786\"],[0.5555555555555556,\"#d8576b\"],[0.6666666666666666,\"#ed7953\"],[0.7777777777777778,\"#fb9f3a\"],[0.8888888888888888,\"#fdca26\"],[1.0,\"#f0f921\"]]}],\"surface\":[{\"type\":\"surface\",\"colorbar\":{\"outlinewidth\":0,\"ticks\":\"\"},\"colorscale\":[[0.0,\"#0d0887\"],[0.1111111111111111,\"#46039f\"],[0.2222222222222222,\"#7201a8\"],[0.3333333333333333,\"#9c179e\"],[0.4444444444444444,\"#bd3786\"],[0.5555555555555556,\"#d8576b\"],[0.6666666666666666,\"#ed7953\"],[0.7777777777777778,\"#fb9f3a\"],[0.8888888888888888,\"#fdca26\"],[1.0,\"#f0f921\"]]}],\"mesh3d\":[{\"type\":\"mesh3d\",\"colorbar\":{\"outlinewidth\":0,\"ticks\":\"\"}}],\"scatter\":[{\"fillpattern\":{\"fillmode\":\"overlay\",\"size\":10,\"solidity\":0.2},\"type\":\"scatter\"}],\"parcoords\":[{\"type\":\"parcoords\",\"line\":{\"colorbar\":{\"outlinewidth\":0,\"ticks\":\"\"}}}],\"scatterpolargl\":[{\"type\":\"scatterpolargl\",\"marker\":{\"colorbar\":{\"outlinewidth\":0,\"ticks\":\"\"}}}],\"bar\":[{\"error_x\":{\"color\":\"#2a3f5f\"},\"error_y\":{\"color\":\"#2a3f5f\"},\"marker\":{\"line\":{\"color\":\"#E5ECF6\",\"width\":0.5},\"pattern\":{\"fillmode\":\"overlay\",\"size\":10,\"solidity\":0.2}},\"type\":\"bar\"}],\"scattergeo\":[{\"type\":\"scattergeo\",\"marker\":{\"colorbar\":{\"outlinewidth\":0,\"ticks\":\"\"}}}],\"scatterpolar\":[{\"type\":\"scatterpolar\",\"marker\":{\"colorbar\":{\"outlinewidth\":0,\"ticks\":\"\"}}}],\"histogram\":[{\"marker\":{\"pattern\":{\"fillmode\":\"overlay\",\"size\":10,\"solidity\":0.2}},\"type\":\"histogram\"}],\"scattergl\":[{\"type\":\"scattergl\",\"marker\":{\"colorbar\":{\"outlinewidth\":0,\"ticks\":\"\"}}}],\"scatter3d\":[{\"type\":\"scatter3d\",\"line\":{\"colorbar\":{\"outlinewidth\":0,\"ticks\":\"\"}},\"marker\":{\"colorbar\":{\"outlinewidth\":0,\"ticks\":\"\"}}}],\"scattermapbox\":[{\"type\":\"scattermapbox\",\"marker\":{\"colorbar\":{\"outlinewidth\":0,\"ticks\":\"\"}}}],\"scatterternary\":[{\"type\":\"scatterternary\",\"marker\":{\"colorbar\":{\"outlinewidth\":0,\"ticks\":\"\"}}}],\"scattercarpet\":[{\"type\":\"scattercarpet\",\"marker\":{\"colorbar\":{\"outlinewidth\":0,\"ticks\":\"\"}}}],\"carpet\":[{\"aaxis\":{\"endlinecolor\":\"#2a3f5f\",\"gridcolor\":\"white\",\"linecolor\":\"white\",\"minorgridcolor\":\"white\",\"startlinecolor\":\"#2a3f5f\"},\"baxis\":{\"endlinecolor\":\"#2a3f5f\",\"gridcolor\":\"white\",\"linecolor\":\"white\",\"minorgridcolor\":\"white\",\"startlinecolor\":\"#2a3f5f\"},\"type\":\"carpet\"}],\"table\":[{\"cells\":{\"fill\":{\"color\":\"#EBF0F8\"},\"line\":{\"color\":\"white\"}},\"header\":{\"fill\":{\"color\":\"#C8D4E3\"},\"line\":{\"color\":\"white\"}},\"type\":\"table\"}],\"barpolar\":[{\"marker\":{\"line\":{\"color\":\"#E5ECF6\",\"width\":0.5},\"pattern\":{\"fillmode\":\"overlay\",\"size\":10,\"solidity\":0.2}},\"type\":\"barpolar\"}],\"pie\":[{\"automargin\":true,\"type\":\"pie\"}]},\"layout\":{\"autotypenumbers\":\"strict\",\"colorway\":[\"#636efa\",\"#EF553B\",\"#00cc96\",\"#ab63fa\",\"#FFA15A\",\"#19d3f3\",\"#FF6692\",\"#B6E880\",\"#FF97FF\",\"#FECB52\"],\"font\":{\"color\":\"#2a3f5f\"},\"hovermode\":\"closest\",\"hoverlabel\":{\"align\":\"left\"},\"paper_bgcolor\":\"white\",\"plot_bgcolor\":\"#E5ECF6\",\"polar\":{\"bgcolor\":\"#E5ECF6\",\"angularaxis\":{\"gridcolor\":\"white\",\"linecolor\":\"white\",\"ticks\":\"\"},\"radialaxis\":{\"gridcolor\":\"white\",\"linecolor\":\"white\",\"ticks\":\"\"}},\"ternary\":{\"bgcolor\":\"#E5ECF6\",\"aaxis\":{\"gridcolor\":\"white\",\"linecolor\":\"white\",\"ticks\":\"\"},\"baxis\":{\"gridcolor\":\"white\",\"linecolor\":\"white\",\"ticks\":\"\"},\"caxis\":{\"gridcolor\":\"white\",\"linecolor\":\"white\",\"ticks\":\"\"}},\"coloraxis\":{\"colorbar\":{\"outlinewidth\":0,\"ticks\":\"\"}},\"colorscale\":{\"sequential\":[[0.0,\"#0d0887\"],[0.1111111111111111,\"#46039f\"],[0.2222222222222222,\"#7201a8\"],[0.3333333333333333,\"#9c179e\"],[0.4444444444444444,\"#bd3786\"],[0.5555555555555556,\"#d8576b\"],[0.6666666666666666,\"#ed7953\"],[0.7777777777777778,\"#fb9f3a\"],[0.8888888888888888,\"#fdca26\"],[1.0,\"#f0f921\"]],\"sequentialminus\":[[0.0,\"#0d0887\"],[0.1111111111111111,\"#46039f\"],[0.2222222222222222,\"#7201a8\"],[0.3333333333333333,\"#9c179e\"],[0.4444444444444444,\"#bd3786\"],[0.5555555555555556,\"#d8576b\"],[0.6666666666666666,\"#ed7953\"],[0.7777777777777778,\"#fb9f3a\"],[0.8888888888888888,\"#fdca26\"],[1.0,\"#f0f921\"]],\"diverging\":[[0,\"#8e0152\"],[0.1,\"#c51b7d\"],[0.2,\"#de77ae\"],[0.3,\"#f1b6da\"],[0.4,\"#fde0ef\"],[0.5,\"#f7f7f7\"],[0.6,\"#e6f5d0\"],[0.7,\"#b8e186\"],[0.8,\"#7fbc41\"],[0.9,\"#4d9221\"],[1,\"#276419\"]]},\"xaxis\":{\"gridcolor\":\"white\",\"linecolor\":\"white\",\"ticks\":\"\",\"title\":{\"standoff\":15},\"zerolinecolor\":\"white\",\"automargin\":true,\"zerolinewidth\":2},\"yaxis\":{\"gridcolor\":\"white\",\"linecolor\":\"white\",\"ticks\":\"\",\"title\":{\"standoff\":15},\"zerolinecolor\":\"white\",\"automargin\":true,\"zerolinewidth\":2},\"scene\":{\"xaxis\":{\"backgroundcolor\":\"#E5ECF6\",\"gridcolor\":\"white\",\"linecolor\":\"white\",\"showbackground\":true,\"ticks\":\"\",\"zerolinecolor\":\"white\",\"gridwidth\":2},\"yaxis\":{\"backgroundcolor\":\"#E5ECF6\",\"gridcolor\":\"white\",\"linecolor\":\"white\",\"showbackground\":true,\"ticks\":\"\",\"zerolinecolor\":\"white\",\"gridwidth\":2},\"zaxis\":{\"backgroundcolor\":\"#E5ECF6\",\"gridcolor\":\"white\",\"linecolor\":\"white\",\"showbackground\":true,\"ticks\":\"\",\"zerolinecolor\":\"white\",\"gridwidth\":2}},\"shapedefaults\":{\"line\":{\"color\":\"#2a3f5f\"}},\"annotationdefaults\":{\"arrowcolor\":\"#2a3f5f\",\"arrowhead\":0,\"arrowwidth\":1},\"geo\":{\"bgcolor\":\"white\",\"landcolor\":\"#E5ECF6\",\"subunitcolor\":\"white\",\"showland\":true,\"showlakes\":true,\"lakecolor\":\"white\"},\"title\":{\"x\":0.05},\"mapbox\":{\"style\":\"light\"}}},\"scene\":{\"domain\":{\"x\":[0.0,1.0],\"y\":[0.0,1.0]},\"xaxis\":{\"title\":{\"text\":\"x\"}},\"yaxis\":{\"title\":{\"text\":\"y\"}},\"zaxis\":{\"title\":{\"text\":\"z\"}}},\"legend\":{\"title\":{\"text\":\"color\"},\"tracegroupgap\":0},\"margin\":{\"t\":60}},                        {\"responsive\": true}                    ).then(function(){\n",
       "                            \n",
       "var gd = document.getElementById('66ab08b1-c990-45c7-8502-5274977f4ee3');\n",
       "var x = new MutationObserver(function (mutations, observer) {{\n",
       "        var display = window.getComputedStyle(gd).display;\n",
       "        if (!display || display === 'none') {{\n",
       "            console.log([gd, 'removed!']);\n",
       "            Plotly.purge(gd);\n",
       "            observer.disconnect();\n",
       "        }}\n",
       "}});\n",
       "\n",
       "// Listen for the removal of the full notebook cells\n",
       "var notebookContainer = gd.closest('#notebook-container');\n",
       "if (notebookContainer) {{\n",
       "    x.observe(notebookContainer, {childList: true});\n",
       "}}\n",
       "\n",
       "// Listen for the clearing of the current output cell\n",
       "var outputEl = gd.closest('.output');\n",
       "if (outputEl) {{\n",
       "    x.observe(outputEl, {childList: true});\n",
       "}}\n",
       "\n",
       "                        })                };                });            </script>        </div>"
      ]
     },
     "metadata": {},
     "output_type": "display_data"
    }
   ],
   "source": [
    "# plot using tsne \n",
    "X_embedded  = TSNE(n_components=3, perplexity=10,random_state=24).fit_transform( X )\n",
    "colors = np.array([x for x in 'bgrcmykbgrcmykbgrcmykbgrcmyk'])\n",
    "fig = px.scatter_3d(x=X_embedded [:,0],y=X_embedded [:,1],z=X_embedded [:,2],color=colors[optics_clustering.labels_])\n",
    "fig.show()"
   ]
  },
  {
   "cell_type": "markdown",
   "metadata": {},
   "source": [
    "### Spectral Clustering\n",
    "\n",
    "Spectral CLustering is a graph based clustering technique which is used to identify communities of nodes in a graph based on the edges connecting the nodes. It uses an information from the eigenvalues of special matrices that are built from the graph/data set."
   ]
  },
  {
   "cell_type": "code",
   "execution_count": 87,
   "metadata": {},
   "outputs": [],
   "source": [
    "spectral_grid = {\n",
    "        \"eigen_solver\" : ['arpack','amg'],\n",
    "        \"n_clusters\" : range(2,10),\n",
    "        \"n_init\" : range(2,6),\n",
    "    \n",
    "        \"n_neighbors\" : range(7,20,2),\n",
    "        \"affinity\": ['nearest_neighbors','rbf' 'precomputed'],\n",
    "        \"assign_labels\" : ['kmeans', 'discretize', 'cluster_qr'],\n",
    "       }\n",
    "#spectral_grid"
   ]
  },
  {
   "cell_type": "code",
   "execution_count": 89,
   "metadata": {},
   "outputs": [],
   "source": [
    "spectral_model = SpectralClustering()\n",
    "spectral_params = GridSearchCV(spectral_model,spectral_grid,scoring=silhouette_score2,cv= 10).fit(X, y)"
   ]
  },
  {
   "cell_type": "code",
   "execution_count": 90,
   "metadata": {},
   "outputs": [
    {
     "data": {
      "text/plain": [
       "(0.39325605403653696,\n",
       " {'affinity': 'nearest_neighbors',\n",
       "  'assign_labels': 'kmeans',\n",
       "  'eigen_solver': 'arpack',\n",
       "  'n_clusters': 2,\n",
       "  'n_init': 4,\n",
       "  'n_neighbors': 11})"
      ]
     },
     "execution_count": 90,
     "metadata": {},
     "output_type": "execute_result"
    }
   ],
   "source": [
    "spectral_params.best_score_, spectral_params.best_params_"
   ]
  },
  {
   "cell_type": "code",
   "execution_count": 91,
   "metadata": {},
   "outputs": [],
   "source": [
    "Spectral_clustering = SpectralClustering(affinity = spectral_params.best_params_['affinity'],\n",
    "                           assign_labels = spectral_params.best_params_['assign_labels'],\n",
    "                           eigen_solver = spectral_params.best_params_['eigen_solver'],\n",
    "                           n_clusters = spectral_params.best_params_['n_clusters'],\n",
    "                           n_init = spectral_params.best_params_['n_init'],\n",
    "                           n_neighbors = spectral_params.best_params_['n_neighbors']\n",
    "                          ).fit(X)\n",
    "cluster = list(Spectral_clustering.labels_)\n",
    "values, counts = np.unique(cluster, return_counts=True)      \n",
    "Spectral_dataset = pd.DataFrame(X.copy())\n",
    "Spectral_dataset.loc[:,'Cluster'] = Spectral_clustering.labels_\n"
   ]
  },
  {
   "cell_type": "code",
   "execution_count": 92,
   "metadata": {},
   "outputs": [
    {
     "data": {
      "text/html": [
       "<div>\n",
       "<style scoped>\n",
       "    .dataframe tbody tr th:only-of-type {\n",
       "        vertical-align: middle;\n",
       "    }\n",
       "\n",
       "    .dataframe tbody tr th {\n",
       "        vertical-align: top;\n",
       "    }\n",
       "\n",
       "    .dataframe thead th {\n",
       "        text-align: right;\n",
       "    }\n",
       "</style>\n",
       "<table border=\"1\" class=\"dataframe\">\n",
       "  <thead>\n",
       "    <tr style=\"text-align: right;\">\n",
       "      <th></th>\n",
       "      <th>Cluster</th>\n",
       "    </tr>\n",
       "  </thead>\n",
       "  <tbody>\n",
       "    <tr>\n",
       "      <th>0</th>\n",
       "      <td>294</td>\n",
       "    </tr>\n",
       "    <tr>\n",
       "      <th>1</th>\n",
       "      <td>119</td>\n",
       "    </tr>\n",
       "  </tbody>\n",
       "</table>\n",
       "</div>"
      ],
      "text/plain": [
       "   Cluster\n",
       "0      294\n",
       "1      119"
      ]
     },
     "execution_count": 92,
     "metadata": {},
     "output_type": "execute_result"
    }
   ],
   "source": [
    "Spectral_dataset.Cluster.value_counts().to_frame()"
   ]
  },
  {
   "cell_type": "code",
   "execution_count": 153,
   "metadata": {},
   "outputs": [
    {
     "data": {
      "text/html": [
       "<div>\n",
       "<style scoped>\n",
       "    .dataframe tbody tr th:only-of-type {\n",
       "        vertical-align: middle;\n",
       "    }\n",
       "\n",
       "    .dataframe tbody tr th {\n",
       "        vertical-align: top;\n",
       "    }\n",
       "\n",
       "    .dataframe thead th {\n",
       "        text-align: right;\n",
       "    }\n",
       "</style>\n",
       "<table border=\"1\" class=\"dataframe\">\n",
       "  <thead>\n",
       "    <tr style=\"text-align: right;\">\n",
       "      <th></th>\n",
       "      <th>silhouette_score</th>\n",
       "      <th>davies_bouldin_score</th>\n",
       "      <th>calinski_harabasz_score</th>\n",
       "    </tr>\n",
       "  </thead>\n",
       "  <tbody>\n",
       "    <tr>\n",
       "      <th>SpectralClustering</th>\n",
       "      <td>0.442794</td>\n",
       "      <td>1.051217</td>\n",
       "      <td>254.891933</td>\n",
       "    </tr>\n",
       "  </tbody>\n",
       "</table>\n",
       "</div>"
      ],
      "text/plain": [
       "                    silhouette_score  davies_bouldin_score  \\\n",
       "SpectralClustering          0.442794              1.051217   \n",
       "\n",
       "                    calinski_harabasz_score  \n",
       "SpectralClustering               254.891933  "
      ]
     },
     "execution_count": 153,
     "metadata": {},
     "output_type": "execute_result"
    }
   ],
   "source": [
    "Spectral_df = pd.DataFrame(estimator_evaluation(Spectral_clustering, 'Spectral ', X ), index=[\"SpectralClustering\"])\n",
    "Spectral_df"
   ]
  },
  {
   "cell_type": "code",
   "execution_count": 94,
   "metadata": {},
   "outputs": [
    {
     "data": {
      "application/vnd.plotly.v1+json": {
       "config": {
        "plotlyServerURL": "https://plot.ly"
       },
       "data": [
        {
         "hovertemplate": "color=g<br>x=%{x}<br>y=%{y}<br>z=%{z}<extra></extra>",
         "legendgroup": "g",
         "marker": {
          "color": "#636efa",
          "symbol": "circle"
         },
         "mode": "markers",
         "name": "g",
         "scene": "scene",
         "showlegend": true,
         "type": "scatter3d",
         "x": [
          -9.046331405639648,
          -11.44273853302002,
          -21.65359878540039,
          -10.454161643981934,
          4.739521503448486,
          -19.475872039794922,
          17.40998649597168,
          -9.488744735717773,
          -9.10183048248291,
          -0.4006132185459137,
          -28.92538833618164,
          -6.156496047973633,
          -15.647710800170898,
          6.842092037200928,
          2.4186394214630127,
          -22.01750373840332,
          7.418874740600586,
          -20.109895706176758,
          3.140411615371704,
          9.601218223571777,
          -7.681477069854736,
          -2.822824001312256,
          -22.153762817382812,
          -23.4920711517334,
          2.5159270763397217,
          -53.05295944213867,
          -20.876514434814453,
          22.53696632385254,
          18.218494415283203,
          -4.738011360168457,
          11.321849822998047,
          -30.420753479003906,
          -24.681163787841797,
          13.276442527770996,
          16.02425765991211,
          13.19835090637207,
          -0.4524790942668915,
          -7.665225505828857,
          9.751333236694336,
          -24.262834548950195,
          18.003067016601562,
          -22.20755386352539,
          16.76701545715332,
          -21.5905704498291,
          0.016933299601078033,
          10.16472339630127,
          -0.188185915350914,
          -0.545369029045105,
          -8.661247253417969,
          12.27123737335205,
          14.17691421508789,
          1.374219298362732,
          -3.0602657794952393,
          -3.1432130336761475,
          12.718029975891113,
          22.514066696166992,
          -7.357227802276611,
          -20.091787338256836,
          14.787997245788574,
          -20.44294548034668,
          11.562552452087402,
          -12.350040435791016,
          -13.450438499450684,
          -18.168781280517578,
          0.7296750545501709,
          8.441187858581543,
          8.892831802368164,
          -14.191119194030762,
          6.428370475769043,
          17.71136474609375,
          -16.78411102294922,
          -13.253026962280273,
          10.658899307250977,
          16.983154296875,
          12.531632423400879,
          5.847597122192383,
          -24.23939323425293,
          0.8367011547088623,
          -17.906381607055664,
          -23.212451934814453,
          13.700352668762207,
          4.769161224365234,
          21.045066833496094,
          24.951366424560547,
          26.944141387939453,
          3.0134897232055664,
          -17.8173885345459,
          -7.3868279457092285,
          -4.03265380859375,
          -31.240564346313477,
          -2.5581603050231934,
          -18.897409439086914,
          -6.155820369720459,
          -3.4224536418914795,
          -1.1587519645690918,
          18.633831024169922,
          -19.66817855834961,
          -5.748752593994141,
          -25.100772857666016,
          10.462860107421875,
          -18.787124633789062,
          -3.2394230365753174,
          9.277685165405273,
          -3.0637855529785156,
          -16.58060073852539,
          -2.1501715183258057,
          -15.762643814086914,
          17.20548439025879,
          -9.80859088897705,
          -81.791015625,
          -25.88500213623047,
          -27.306659698486328,
          -13.466221809387207,
          -21.783063888549805,
          21.90608024597168,
          -26.178306579589844,
          -10.187676429748535,
          22.5817928314209,
          0.6889179944992065,
          8.243086814880371,
          111.77555847167969,
          14.432371139526367,
          -10.683236122131348,
          18.909774780273438,
          -21.875226974487305,
          1.712481141090393,
          -23.596887588500977,
          -19.863386154174805,
          -16.37049674987793,
          -0.6079948544502258,
          -0.9830238819122314,
          5.461564064025879,
          5.218622207641602,
          9.420888900756836,
          -23.068599700927734,
          -15.083608627319336,
          -57.99257278442383,
          21.915943145751953,
          -13.269302368164062,
          26.272008895874023,
          -7.556407928466797,
          -2.2214200496673584,
          -7.438316822052002,
          -7.536221981048584,
          14.945371627807617,
          -13.286153793334961,
          -24.12965202331543,
          -5.632994174957275,
          11.121540069580078,
          13.428407669067383,
          -14.717876434326172,
          -16.63210105895996,
          -14.445272445678711,
          12.615036964416504,
          -2.2531309127807617,
          15.554095268249512,
          7.517563819885254,
          8.247428894042969,
          -14.375052452087402,
          -6.913936614990234,
          -18.74449920654297,
          -23.160602569580078,
          6.463624954223633,
          -21.889911651611328,
          -21.653825759887695,
          19.019359588623047,
          23.89085578918457,
          11.498507499694824,
          -0.3595922291278839,
          15.935079574584961,
          11.015056610107422,
          -8.33598804473877,
          -2.5350711345672607,
          6.526896953582764,
          15.086762428283691,
          9.853147506713867,
          -4.403838634490967,
          -21.218069076538086,
          -28.311573028564453,
          1.472746729850769,
          23.024507522583008,
          -27.26386833190918,
          -0.9812009930610657,
          -19.006839752197266,
          -14.563387870788574,
          -0.874816358089447,
          -18.170169830322266,
          -25.504581451416016,
          -23.460344314575195,
          -29.085914611816406,
          -15.870013236999512,
          16.130596160888672,
          -17.349424362182617,
          0.70964515209198,
          -18.17450523376465,
          -14.88231372833252,
          -0.32087424397468567,
          -0.31290146708488464,
          14.23212718963623,
          -0.15711086988449097,
          -12.32091236114502,
          -1.053704023361206,
          13.93487548828125,
          18.37950325012207,
          18.96958351135254,
          1.8260059356689453,
          -10.412586212158203,
          1.61017644405365,
          10.402091026306152,
          -1.1181079149246216,
          -13.621132850646973,
          24.572240829467773,
          4.072630405426025,
          -22.740121841430664,
          24.344881057739258,
          -38.88062286376953,
          18.040685653686523,
          4.244079113006592,
          -9.578176498413086,
          15.709016799926758,
          1.9835727214813232,
          18.174583435058594,
          20.06842041015625,
          -17.727121353149414,
          5.719417095184326,
          18.981515884399414,
          -11.758330345153809,
          14.255215644836426,
          -27.391080856323242,
          -16.267925262451172,
          -21.71391487121582,
          0.1479852795600891,
          18.608003616333008,
          -4.883203983306885,
          -23.714614868164062,
          1.5827901363372803,
          17.46265983581543,
          -13.065000534057617,
          -13.370770454406738,
          -28.16254997253418,
          18.554306030273438,
          -12.714818954467773,
          2.401414155960083,
          -15.110689163208008,
          5.053903579711914,
          -4.5065131187438965,
          -4.486534118652344,
          -16.506053924560547,
          2.0014686584472656,
          -16.786325454711914,
          0.11428079009056091,
          7.675745487213135,
          -15.224557876586914,
          -8.314894676208496,
          1.9760621786117554,
          6.619262218475342,
          -3.8100340366363525,
          -27.496360778808594,
          -118.56483459472656,
          -8.659415245056152,
          -10.529463768005371,
          11.215337753295898,
          81.71478271484375,
          9.197097778320312,
          9.216344833374023,
          -16.529701232910156,
          21.596195220947266,
          -25.116653442382812,
          10.542902946472168,
          -14.2475004196167,
          4.384600639343262,
          1.5435917377471924,
          7.662912845611572,
          -12.42553997039795,
          -1.9002189636230469,
          -16.467716217041016,
          -19.668596267700195,
          -7.376601219177246,
          7.120086193084717,
          -23.11838722229004,
          -13.888901710510254,
          -24.610334396362305,
          17.605485916137695,
          -23.40083122253418,
          -14.429879188537598,
          -20.432270050048828,
          -6.825558662414551,
          -12.43630599975586,
          -6.855988025665283,
          -28.456457138061523,
          -30.104843139648438,
          8.769777297973633,
          -22.330543518066406,
          22.327835083007812
         ],
         "y": [
          -1.5340672731399536,
          6.574012279510498,
          -1.8590061664581299,
          -0.41136372089385986,
          -16.96223258972168,
          14.269585609436035,
          -27.497920989990234,
          12.495722770690918,
          8.527955055236816,
          -22.2428035736084,
          11.621274948120117,
          -9.86121654510498,
          6.600394248962402,
          -22.95342445373535,
          -0.994309663772583,
          14.901973724365234,
          -15.746891975402832,
          6.11449670791626,
          -23.23505401611328,
          -14.151230812072754,
          -18.99390983581543,
          -23.76114273071289,
          -8.684488296508789,
          14.155314445495605,
          -9.423970222473145,
          37.35771179199219,
          -9.008581161499023,
          -25.974454879760742,
          -9.869290351867676,
          -9.65532398223877,
          -1.3009191751480103,
          4.007169246673584,
          11.801981925964355,
          -8.881010055541992,
          2.0357797145843506,
          -11.895366668701172,
          2.9733541011810303,
          0.006850101985037327,
          6.681643009185791,
          10.029695510864258,
          -16.246273040771484,
          -5.687689781188965,
          -5.8213324546813965,
          -8.03565502166748,
          -5.769979476928711,
          7.677053451538086,
          0.7847827076911926,
          -25.03753662109375,
          3.7726967334747314,
          -15.074109077453613,
          11.354602813720703,
          -5.082414150238037,
          -0.4331987202167511,
          -5.324719429016113,
          7.166856288909912,
          -15.876425743103027,
          -10.194954872131348,
          20.718265533447266,
          -27.792743682861328,
          -9.152871131896973,
          -28.964563369750977,
          -16.195659637451172,
          5.582106590270996,
          -15.532862663269043,
          -11.88512134552002,
          5.096437454223633,
          -29.941360473632812,
          4.940958499908447,
          -21.880420684814453,
          -1.447306752204895,
          12.868429183959961,
          -18.14061737060547,
          -15.994688987731934,
          10.051630973815918,
          9.61036491394043,
          -31.05203628540039,
          11.842206954956055,
          -28.931198120117188,
          -13.614554405212402,
          8.024569511413574,
          -6.779545783996582,
          -19.383331298828125,
          -13.033788681030273,
          -23.372880935668945,
          -25.50701141357422,
          -27.92346954345703,
          15.198331832885742,
          12.196139335632324,
          1.840895652770996,
          1.6657421588897705,
          -20.32362174987793,
          -9.368785858154297,
          11.046630859375,
          2.1816976070404053,
          -0.23901543021202087,
          0.09213738888502121,
          -4.5717453956604,
          0.888896644115448,
          8.691638946533203,
          84.04073333740234,
          -11.279043197631836,
          -21.84109115600586,
          -27.648595809936523,
          -5.940124034881592,
          -17.94634246826172,
          -21.76734161376953,
          -12.668383598327637,
          -24.692529678344727,
          -19.58407974243164,
          23.154285430908203,
          -3.6616997718811035,
          -0.9921901822090149,
          -21.47683334350586,
          11.465152740478516,
          -17.896011352539062,
          -0.9240994453430176,
          -17.478626251220703,
          -26.075510025024414,
          -24.7843017578125,
          -27.36046600341797,
          -58.84355545043945,
          -26.56248664855957,
          2.5020625591278076,
          -16.106048583984375,
          18.80419158935547,
          -11.221720695495605,
          10.017218589782715,
          -5.749551296234131,
          -12.341777801513672,
          -29.44001007080078,
          -24.91731071472168,
          -24.06086540222168,
          -21.673030853271484,
          -26.912843704223633,
          -7.033667087554932,
          -15.212780952453613,
          -21.989362716674805,
          39.07378387451172,
          3.340461492538452,
          -24.703784942626953,
          13.797632217407227,
          70.89799499511719,
          -23.343299865722656,
          7.078225135803223,
          -2.5804948806762695,
          15.482879638671875,
          8.066954612731934,
          -20.94005584716797,
          3.8352320194244385,
          -13.614950180053711,
          9.195090293884277,
          19.539522171020508,
          8.181456565856934,
          -26.681859970092773,
          -22.366670608520508,
          -4.300848484039307,
          -18.474538803100586,
          -0.40056312084198,
          2.525477409362793,
          9.676780700683594,
          -10.724989891052246,
          12.476180076599121,
          -20.476518630981445,
          11.262657165527344,
          14.594732284545898,
          -4.460450649261475,
          -22.3205509185791,
          -26.4284610748291,
          -22.955080032348633,
          -14.693780899047852,
          -6.902839660644531,
          12.321738243103027,
          -26.301456451416016,
          -29.170372009277344,
          -24.349538803100586,
          -2.7594263553619385,
          -7.684845924377441,
          -0.6396019458770752,
          -1.9303383827209473,
          -6.569674491882324,
          -23.911819458007812,
          6.709972381591797,
          -30.87407684326172,
          -7.752499580383301,
          1.7057619094848633,
          -7.214428901672363,
          6.9911208152771,
          -2.6022753715515137,
          -5.642113208770752,
          1.697472333908081,
          -12.633161544799805,
          -28.34609031677246,
          -15.012086868286133,
          -26.80893898010254,
          -13.768354415893555,
          1.6886509656906128,
          -20.635656356811523,
          -7.566712379455566,
          7.279542446136475,
          2.596472978591919,
          13.581685066223145,
          2.2233128547668457,
          3.896430492401123,
          -26.55345344543457,
          -12.694981575012207,
          -0.7338266968727112,
          -9.151679039001465,
          -20.019012451171875,
          1.8799445629119873,
          -10.834845542907715,
          16.03583526611328,
          -25.807781219482422,
          0.2876308560371399,
          8.238428115844727,
          -26.54743003845215,
          -42.25943374633789,
          -2.9506189823150635,
          -21.734424591064453,
          -21.46657943725586,
          -27.270830154418945,
          -22.136302947998047,
          -20.029312133789062,
          -24.05599594116211,
          18.987165451049805,
          -25.375370025634766,
          -26.669729232788086,
          -19.037246704101562,
          -23.83278465270996,
          2.518636465072632,
          -17.075645446777344,
          16.571168899536133,
          -23.15620994567871,
          -26.801891326904297,
          2.065192699432373,
          -8.281861305236816,
          -6.201145648956299,
          -15.665863990783691,
          -16.88687515258789,
          -20.73121452331543,
          9.24581527709961,
          -24.029438018798828,
          -16.356306076049805,
          -10.200255393981934,
          -15.569133758544922,
          -28.345773696899414,
          -21.025455474853516,
          -9.832568168640137,
          6.120848655700684,
          -19.4406681060791,
          -14.138138771057129,
          -25.48404312133789,
          -28.423355102539062,
          14.127264022827148,
          -20.304887771606445,
          -29.591922760009766,
          -27.80733871459961,
          -11.261043548583984,
          -0.5214413404464722,
          127.60057067871094,
          -18.524980545043945,
          -17.843013763427734,
          -26.994354248046875,
          -29.461854934692383,
          -1.6086217164993286,
          -16.884567260742188,
          6.778666019439697,
          -13.283109664916992,
          10.46846866607666,
          -27.161678314208984,
          7.292974472045898,
          -1.563989281654358,
          -3.0066323280334473,
          -1.374645471572876,
          -0.4895268678665161,
          1.8690766096115112,
          2.7330658435821533,
          -9.777782440185547,
          -18.08457374572754,
          -15.269906044006348,
          0.8874223232269287,
          4.893166542053223,
          -5.919886112213135,
          -17.683881759643555,
          12.11388111114502,
          13.049344062805176,
          -4.845855236053467,
          -21.48969841003418,
          1.2905257940292358,
          -15.377307891845703,
          4.812404632568359,
          1.8874361515045166,
          10.049779891967773,
          7.970026016235352,
          -24.919008255004883
         ],
         "z": [
          9.53197193145752,
          9.57335376739502,
          7.666819095611572,
          12.332613945007324,
          -2.240938425064087,
          4.1579461097717285,
          69.30937194824219,
          3.7845757007598877,
          9.218828201293945,
          -2.7527353763580322,
          -6.6117024421691895,
          -9.284784317016602,
          1.5078284740447998,
          -0.8405643701553345,
          10.754899978637695,
          -5.201469898223877,
          -1.793112874031067,
          5.52886438369751,
          8.401768684387207,
          -11.876882553100586,
          6.62180233001709,
          -2.591778039932251,
          -14.838632583618164,
          -2.65077805519104,
          24.078472137451172,
          -21.51104736328125,
          -9.853985786437988,
          8.165149688720703,
          -0.12358630448579788,
          -6.757519721984863,
          -1.8719618320465088,
          -13.806991577148438,
          -1.3568332195281982,
          -8.068865776062012,
          -3.682899236679077,
          -7.9292988777160645,
          3.1394717693328857,
          8.026867866516113,
          -9.65349292755127,
          10.561279296875,
          0.27207931876182556,
          -12.487892150878906,
          -3.1601366996765137,
          -4.591520309448242,
          20.080402374267578,
          -11.978772163391113,
          6.3451828956604,
          -4.866749286651611,
          12.558052062988281,
          -5.335000991821289,
          -14.760540962219238,
          15.483501434326172,
          3.512901544570923,
          23.515975952148438,
          -12.816399574279785,
          -4.340579032897949,
          -7.0037713050842285,
          -2.8299262523651123,
          -7.052609443664551,
          0.05062533915042877,
          -4.988108158111572,
          -8.432863235473633,
          11.647521018981934,
          -2.98518705368042,
          23.80101203918457,
          -8.221772193908691,
          -9.2034912109375,
          19.5771484375,
          7.539278507232666,
          -1.932456374168396,
          5.040639877319336,
          -5.628282070159912,
          -9.379570007324219,
          -14.801094055175781,
          -15.422810554504395,
          -10.263843536376953,
          -6.007943153381348,
          -4.311363220214844,
          3.721047878265381,
          -5.954563617706299,
          -4.287938117980957,
          17.79243278503418,
          -2.181363821029663,
          -2.1588146686553955,
          -1.2434390783309937,
          -4.987863063812256,
          -3.26471209526062,
          6.32472562789917,
          12.5286865234375,
          -14.27605152130127,
          -3.1587657928466797,
          4.913025856018066,
          8.742948532104492,
          2.810516119003296,
          14.00421142578125,
          -4.507615566253662,
          9.067113876342773,
          3.315058708190918,
          -3.0897409915924072,
          -113.68861389160156,
          1.8277684450149536,
          2.7214672565460205,
          -7.884922504425049,
          20.4993896484375,
          -2.833489179611206,
          5.646518230438232,
          1.9443696737289429,
          1.6533063650131226,
          4.935474872589111,
          -184.99435424804688,
          -8.848250389099121,
          -16.835418701171875,
          -12.604214668273926,
          -2.0804643630981445,
          -5.894814968109131,
          -10.323206901550293,
          7.238590240478516,
          4.13508415222168,
          -8.491902351379395,
          0.769481897354126,
          6.1671576499938965,
          1.9352059364318848,
          13.307368278503418,
          -5.415008544921875,
          -4.522883892059326,
          21.3786678314209,
          0.7807945609092712,
          -7.49458122253418,
          -20.49005126953125,
          -7.104421615600586,
          -13.194361686706543,
          5.8490471839904785,
          2.5402815341949463,
          5.901520252227783,
          -7.182956695556641,
          3.5505518913269043,
          -2.052159309387207,
          -4.9472527503967285,
          17.425508499145508,
          -4.641134262084961,
          2.7535386085510254,
          105.1537857055664,
          -11.71806812286377,
          11.810522079467773,
          -2.9842734336853027,
          9.468674659729004,
          8.126065254211426,
          -2.911102771759033,
          -5.464696884155273,
          -3.654226303100586,
          1.4638711214065552,
          -5.789161682128906,
          -12.232077598571777,
          6.338399410247803,
          12.24473762512207,
          -0.7461841106414795,
          19.872364044189453,
          0.9823704361915588,
          22.571170806884766,
          11.471514701843262,
          -18.05573844909668,
          3.1034491062164307,
          -2.2439353466033936,
          10.857026100158691,
          1.4350652694702148,
          -2.1864142417907715,
          -5.15687370300293,
          -4.9389448165893555,
          14.250812530517578,
          -6.177495956420898,
          -4.362673282623291,
          9.72375774383545,
          -15.44753646850586,
          -11.780966758728027,
          6.261496067047119,
          3.3633463382720947,
          22.781843185424805,
          5.082404613494873,
          -8.905560493469238,
          28.894880294799805,
          6.184932708740234,
          -4.911586761474609,
          -10.686809539794922,
          7.166134357452393,
          4.736314296722412,
          26.403093338012695,
          7.289196968078613,
          -14.066394805908203,
          -5.073433876037598,
          -15.567999839782715,
          -17.90410041809082,
          -4.997525691986084,
          0.43947523832321167,
          -10.579927444458008,
          -18.625900268554688,
          19.84807014465332,
          10.200603485107422,
          23.4647274017334,
          -16.000593185424805,
          10.819082260131836,
          7.953589916229248,
          13.886260986328125,
          -3.5052919387817383,
          7.662232398986816,
          -0.5304073095321655,
          7.7279953956604,
          -7.936706066131592,
          14.7390775680542,
          -4.040965557098389,
          26.403982162475586,
          -2.4740195274353027,
          0.639200747013092,
          4.417971611022949,
          3.7034912109375,
          -2.3520076274871826,
          -2.3947806358337402,
          -4.764647006988525,
          19.44810676574707,
          -11.46469497680664,
          6.437554836273193,
          16.93238067626953,
          2.19386887550354,
          9.36857795715332,
          -2.43359112739563,
          1.0783576965332031,
          4.690735340118408,
          -11.598353385925293,
          1.6183968782424927,
          -8.6487398147583,
          -5.947238445281982,
          -2.706756114959717,
          10.59556770324707,
          -5.616518020629883,
          9.563608169555664,
          -11.798802375793457,
          25.822803497314453,
          -2.8336069583892822,
          -18.043947219848633,
          -9.59210205078125,
          -7.244292736053467,
          6.383376598358154,
          5.716250896453857,
          26.957326889038086,
          -2.5538625717163086,
          0.4565325379371643,
          5.471328258514404,
          26.437467575073242,
          16.994056701660156,
          18.731624603271484,
          -8.18108081817627,
          -2.2394731044769287,
          -4.7367777824401855,
          7.165168285369873,
          2.7587292194366455,
          -8.42005443572998,
          -1.6895893812179565,
          24.420547485351562,
          -6.521223068237305,
          -251.31533813476562,
          -17.812402725219727,
          -5.89098596572876,
          2.5832061767578125,
          14.49571418762207,
          -3.250072956085205,
          -3.311398983001709,
          13.659467697143555,
          -5.340887069702148,
          4.011509418487549,
          -1.9154976606369019,
          9.69638729095459,
          7.841527938842773,
          13.328204154968262,
          3.466610908508301,
          14.358805656433105,
          8.232715606689453,
          5.121372699737549,
          -5.427995681762695,
          -4.953825950622559,
          -12.105224609375,
          7.203308582305908,
          4.5866312980651855,
          -12.759458541870117,
          2.593722105026245,
          7.223876953125,
          10.430416107177734,
          5.988039016723633,
          -14.444012641906738,
          21.24964141845703,
          -5.024855613708496,
          -7.461827278137207,
          -8.295402526855469,
          -10.776073455810547,
          10.298796653747559,
          -4.668911457061768
         ]
        },
        {
         "hovertemplate": "color=b<br>x=%{x}<br>y=%{y}<br>z=%{z}<extra></extra>",
         "legendgroup": "b",
         "marker": {
          "color": "#EF553B",
          "symbol": "circle"
         },
         "mode": "markers",
         "name": "b",
         "scene": "scene",
         "showlegend": true,
         "type": "scatter3d",
         "x": [
          7.697423934936523,
          7.258779525756836,
          18.547761917114258,
          13.493264198303223,
          1.7243993282318115,
          1.4179623126983643,
          8.812419891357422,
          12.30667495727539,
          3.2501838207244873,
          13.350851058959961,
          4.83257532119751,
          9.513137817382812,
          1.0056315660476685,
          9.77731704711914,
          -0.621317982673645,
          11.087596893310547,
          8.543438911437988,
          6.6485514640808105,
          119.45038604736328,
          0.013748791068792343,
          18.782182693481445,
          10.401054382324219,
          18.186777114868164,
          4.9118571281433105,
          16.083219528198242,
          11.511897087097168,
          15.475022315979004,
          16.06488609313965,
          19.05466079711914,
          13.101458549499512,
          7.995543956756592,
          15.77588939666748,
          9.068572044372559,
          8.362435340881348,
          22.07903480529785,
          6.7596116065979,
          6.902961730957031,
          8.086891174316406,
          14.3687162399292,
          18.539997100830078,
          13.235922813415527,
          10.457977294921875,
          8.404837608337402,
          21.565509796142578,
          21.585609436035156,
          6.600968837738037,
          7.064363956451416,
          2.4415862560272217,
          16.051517486572266,
          17.606853485107422,
          20.71451187133789,
          15.759593963623047,
          13.836289405822754,
          11.223855018615723,
          21.40593147277832,
          2.8568315505981445,
          25.203134536743164,
          13.254828453063965,
          15.336697578430176,
          8.440875053405762,
          25.67900276184082,
          13.890109062194824,
          17.452407836914062,
          23.120141983032227,
          9.965339660644531,
          5.4363789558410645,
          0.956437885761261,
          1.8093584775924683,
          3.794647216796875,
          3.0907816886901855,
          18.30752944946289,
          -31.12976837158203,
          11.464186668395996,
          10.592700958251953,
          -4.085951328277588,
          -3.614997148513794,
          -0.09093213826417923,
          0.025603393092751503,
          -0.8317543268203735,
          -5.500577926635742,
          -3.0499520301818848,
          -5.959803581237793,
          -1.6689637899398804,
          -2.4795591831207275,
          -0.99972003698349,
          -6.767575740814209,
          -2.5517489910125732,
          -5.7214860916137695,
          -20.30048179626465,
          -3.750126838684082,
          -3.098863363265991,
          -4.586777210235596,
          5.7017621994018555,
          0.9788944125175476,
          0.6293817758560181,
          -7.108649730682373,
          -12.822087287902832,
          -7.577425479888916,
          -9.279520034790039,
          2.730485677719116,
          -4.615138053894043,
          -7.43548059463501,
          -5.046298503875732,
          3.2228384017944336,
          0.5755764842033386,
          0.003441551234573126,
          -6.40046501159668,
          -5.2091169357299805,
          -3.1918282508850098,
          -6.279848575592041,
          -6.693490982055664,
          -3.8456530570983887,
          -4.283414840698242,
          -3.913769245147705,
          -3.621323347091675,
          -1.5615966320037842,
          -3.6409952640533447,
          -3.3407163619995117,
          -7.73508358001709
         ],
         "y": [
          23.777769088745117,
          27.417020797729492,
          19.438631057739258,
          18.347332000732422,
          28.669353485107422,
          28.447622299194336,
          24.42845916748047,
          26.709463119506836,
          31.066734313964844,
          21.177873611450195,
          25.66746711730957,
          26.06939125061035,
          30.533100128173828,
          24.06299591064453,
          27.08819580078125,
          27.062894821166992,
          26.50107765197754,
          27.265174865722656,
          7.194135665893555,
          31.576446533203125,
          19.249290466308594,
          20.899019241333008,
          16.71277618408203,
          26.7634334564209,
          20.295726776123047,
          24.955141067504883,
          22.766498565673828,
          19.271053314208984,
          19.488147735595703,
          22.861108779907227,
          25.139381408691406,
          19.34834098815918,
          26.679622650146484,
          24.887346267700195,
          14.998286247253418,
          23.109743118286133,
          25.511371612548828,
          23.162879943847656,
          17.209138870239258,
          17.172903060913086,
          19.369455337524414,
          23.537660598754883,
          24.5936279296875,
          17.289831161499023,
          15.166069984436035,
          25.37563133239746,
          26.80156135559082,
          38.10472106933594,
          19.982194900512695,
          15.942595481872559,
          17.44512939453125,
          16.474458694458008,
          25.27295684814453,
          24.558584213256836,
          18.541912078857422,
          26.137174606323242,
          15.569816589355469,
          16.27312469482422,
          21.562110900878906,
          25.0205135345459,
          15.997166633605957,
          19.294057846069336,
          18.47958755493164,
          16.20000457763672,
          24.088743209838867,
          28.021650314331055,
          24.817502975463867,
          22.06984519958496,
          24.725154876708984,
          28.206815719604492,
          14.953001976013184,
          30.665061950683594,
          27.82818603515625,
          26.343551635742188,
          9.647178649902344,
          22.322906494140625,
          7.2958526611328125,
          18.60495948791504,
          9.390308380126953,
          12.460524559020996,
          5.917353630065918,
          23.415254592895508,
          4.942521095275879,
          8.140617370605469,
          3.9042539596557617,
          14.14824104309082,
          5.399032115936279,
          12.744651794433594,
          -28.36433219909668,
          10.715322494506836,
          8.901036262512207,
          19.285240173339844,
          12.136685371398926,
          4.916201591491699,
          9.47164249420166,
          16.607826232910156,
          19.68012046813965,
          14.708717346191406,
          19.305889129638672,
          7.6441755294799805,
          11.940206527709961,
          10.044224739074707,
          15.736417770385742,
          10.483235359191895,
          11.333802223205566,
          20.708059310913086,
          12.944133758544922,
          7.568490028381348,
          21.833450317382812,
          84.0194091796875,
          17.580738067626953,
          10.49262523651123,
          23.595195770263672,
          23.597152709960938,
          25.2569580078125,
          15.331459045410156,
          17.33540153503418,
          12.665172576904297,
          21.059579849243164
         ],
         "z": [
          -9.234328269958496,
          6.563780784606934,
          13.252649307250977,
          22.675012588500977,
          12.067776679992676,
          7.7727131843566895,
          27.299192428588867,
          7.566989421844482,
          12.216638565063477,
          24.95664405822754,
          22.792659759521484,
          13.743245124816895,
          13.876070976257324,
          -2.504926919937134,
          5.019114971160889,
          1.961452603340149,
          8.944665908813477,
          13.280891418457031,
          44.78852462768555,
          10.924113273620605,
          6.158165454864502,
          26.752721786499023,
          11.342402458190918,
          20.51203155517578,
          21.952720642089844,
          5.576523780822754,
          17.089073181152344,
          12.314346313476562,
          1.5549989938735962,
          15.43603515625,
          23.748558044433594,
          8.55448055267334,
          -1.9826496839523315,
          18.252199172973633,
          7.3862152099609375,
          26.17429542541504,
          -4.04365348815918,
          21.968656539916992,
          25.394611358642578,
          4.797584533691406,
          27.261857986450195,
          -9.666274070739746,
          -6.371634006500244,
          5.751684188842773,
          11.83359432220459,
          -1.0237042903900146,
          2.3010106086730957,
          -36.83362579345703,
          16.699871063232422,
          13.858884811401367,
          14.245015144348145,
          22.3489990234375,
          15.859454154968262,
          1.5774638652801514,
          1.785491704940796,
          -5.701615333557129,
          7.073034286499023,
          20.31306266784668,
          9.747523307800293,
          -11.646202087402344,
          3.857192277908325,
          18.110687255859375,
          24.162580490112305,
          9.819003105163574,
          20.00321388244629,
          8.932872772216797,
          -6.9477996826171875,
          6.766127586364746,
          -8.219059944152832,
          14.890569686889648,
          24.23558235168457,
          56.71639633178711,
          4.978670597076416,
          11.108466148376465,
          -21.08344841003418,
          -19.58296012878418,
          -28.48909568786621,
          -27.214284896850586,
          -26.021282196044922,
          -21.90737533569336,
          -30.127025604248047,
          -19.00640106201172,
          -19.30973243713379,
          -22.706031799316406,
          -21.885900497436523,
          -12.353919982910156,
          -23.80036735534668,
          -15.349798202514648,
          -7.306142330169678,
          -29.400466918945312,
          -18.708662033081055,
          -25.388078689575195,
          -29.82846450805664,
          -19.455684661865234,
          -31.175790786743164,
          -23.67688751220703,
          -7.848945617675781,
          -26.91334342956543,
          -21.590850830078125,
          -30.027124404907227,
          -13.192132949829102,
          -29.289871215820312,
          -25.464258193969727,
          -30.204204559326172,
          -26.866342544555664,
          -24.95087432861328,
          -29.895977020263672,
          -30.692829132080078,
          -22.172800064086914,
          -56.28150939941406,
          -27.188945770263672,
          -15.49812126159668,
          -15.73551082611084,
          -12.802376747131348,
          -18.42499351501465,
          -29.1809139251709,
          -28.78260612487793,
          -31.68842887878418,
          -20.232154846191406
         ]
        }
       ],
       "layout": {
        "legend": {
         "title": {
          "text": "color"
         },
         "tracegroupgap": 0
        },
        "margin": {
         "t": 60
        },
        "scene": {
         "domain": {
          "x": [
           0,
           1
          ],
          "y": [
           0,
           1
          ]
         },
         "xaxis": {
          "title": {
           "text": "x"
          }
         },
         "yaxis": {
          "title": {
           "text": "y"
          }
         },
         "zaxis": {
          "title": {
           "text": "z"
          }
         }
        },
        "template": {
         "data": {
          "bar": [
           {
            "error_x": {
             "color": "#2a3f5f"
            },
            "error_y": {
             "color": "#2a3f5f"
            },
            "marker": {
             "line": {
              "color": "#E5ECF6",
              "width": 0.5
             },
             "pattern": {
              "fillmode": "overlay",
              "size": 10,
              "solidity": 0.2
             }
            },
            "type": "bar"
           }
          ],
          "barpolar": [
           {
            "marker": {
             "line": {
              "color": "#E5ECF6",
              "width": 0.5
             },
             "pattern": {
              "fillmode": "overlay",
              "size": 10,
              "solidity": 0.2
             }
            },
            "type": "barpolar"
           }
          ],
          "carpet": [
           {
            "aaxis": {
             "endlinecolor": "#2a3f5f",
             "gridcolor": "white",
             "linecolor": "white",
             "minorgridcolor": "white",
             "startlinecolor": "#2a3f5f"
            },
            "baxis": {
             "endlinecolor": "#2a3f5f",
             "gridcolor": "white",
             "linecolor": "white",
             "minorgridcolor": "white",
             "startlinecolor": "#2a3f5f"
            },
            "type": "carpet"
           }
          ],
          "choropleth": [
           {
            "colorbar": {
             "outlinewidth": 0,
             "ticks": ""
            },
            "type": "choropleth"
           }
          ],
          "contour": [
           {
            "colorbar": {
             "outlinewidth": 0,
             "ticks": ""
            },
            "colorscale": [
             [
              0,
              "#0d0887"
             ],
             [
              0.1111111111111111,
              "#46039f"
             ],
             [
              0.2222222222222222,
              "#7201a8"
             ],
             [
              0.3333333333333333,
              "#9c179e"
             ],
             [
              0.4444444444444444,
              "#bd3786"
             ],
             [
              0.5555555555555556,
              "#d8576b"
             ],
             [
              0.6666666666666666,
              "#ed7953"
             ],
             [
              0.7777777777777778,
              "#fb9f3a"
             ],
             [
              0.8888888888888888,
              "#fdca26"
             ],
             [
              1,
              "#f0f921"
             ]
            ],
            "type": "contour"
           }
          ],
          "contourcarpet": [
           {
            "colorbar": {
             "outlinewidth": 0,
             "ticks": ""
            },
            "type": "contourcarpet"
           }
          ],
          "heatmap": [
           {
            "colorbar": {
             "outlinewidth": 0,
             "ticks": ""
            },
            "colorscale": [
             [
              0,
              "#0d0887"
             ],
             [
              0.1111111111111111,
              "#46039f"
             ],
             [
              0.2222222222222222,
              "#7201a8"
             ],
             [
              0.3333333333333333,
              "#9c179e"
             ],
             [
              0.4444444444444444,
              "#bd3786"
             ],
             [
              0.5555555555555556,
              "#d8576b"
             ],
             [
              0.6666666666666666,
              "#ed7953"
             ],
             [
              0.7777777777777778,
              "#fb9f3a"
             ],
             [
              0.8888888888888888,
              "#fdca26"
             ],
             [
              1,
              "#f0f921"
             ]
            ],
            "type": "heatmap"
           }
          ],
          "heatmapgl": [
           {
            "colorbar": {
             "outlinewidth": 0,
             "ticks": ""
            },
            "colorscale": [
             [
              0,
              "#0d0887"
             ],
             [
              0.1111111111111111,
              "#46039f"
             ],
             [
              0.2222222222222222,
              "#7201a8"
             ],
             [
              0.3333333333333333,
              "#9c179e"
             ],
             [
              0.4444444444444444,
              "#bd3786"
             ],
             [
              0.5555555555555556,
              "#d8576b"
             ],
             [
              0.6666666666666666,
              "#ed7953"
             ],
             [
              0.7777777777777778,
              "#fb9f3a"
             ],
             [
              0.8888888888888888,
              "#fdca26"
             ],
             [
              1,
              "#f0f921"
             ]
            ],
            "type": "heatmapgl"
           }
          ],
          "histogram": [
           {
            "marker": {
             "pattern": {
              "fillmode": "overlay",
              "size": 10,
              "solidity": 0.2
             }
            },
            "type": "histogram"
           }
          ],
          "histogram2d": [
           {
            "colorbar": {
             "outlinewidth": 0,
             "ticks": ""
            },
            "colorscale": [
             [
              0,
              "#0d0887"
             ],
             [
              0.1111111111111111,
              "#46039f"
             ],
             [
              0.2222222222222222,
              "#7201a8"
             ],
             [
              0.3333333333333333,
              "#9c179e"
             ],
             [
              0.4444444444444444,
              "#bd3786"
             ],
             [
              0.5555555555555556,
              "#d8576b"
             ],
             [
              0.6666666666666666,
              "#ed7953"
             ],
             [
              0.7777777777777778,
              "#fb9f3a"
             ],
             [
              0.8888888888888888,
              "#fdca26"
             ],
             [
              1,
              "#f0f921"
             ]
            ],
            "type": "histogram2d"
           }
          ],
          "histogram2dcontour": [
           {
            "colorbar": {
             "outlinewidth": 0,
             "ticks": ""
            },
            "colorscale": [
             [
              0,
              "#0d0887"
             ],
             [
              0.1111111111111111,
              "#46039f"
             ],
             [
              0.2222222222222222,
              "#7201a8"
             ],
             [
              0.3333333333333333,
              "#9c179e"
             ],
             [
              0.4444444444444444,
              "#bd3786"
             ],
             [
              0.5555555555555556,
              "#d8576b"
             ],
             [
              0.6666666666666666,
              "#ed7953"
             ],
             [
              0.7777777777777778,
              "#fb9f3a"
             ],
             [
              0.8888888888888888,
              "#fdca26"
             ],
             [
              1,
              "#f0f921"
             ]
            ],
            "type": "histogram2dcontour"
           }
          ],
          "mesh3d": [
           {
            "colorbar": {
             "outlinewidth": 0,
             "ticks": ""
            },
            "type": "mesh3d"
           }
          ],
          "parcoords": [
           {
            "line": {
             "colorbar": {
              "outlinewidth": 0,
              "ticks": ""
             }
            },
            "type": "parcoords"
           }
          ],
          "pie": [
           {
            "automargin": true,
            "type": "pie"
           }
          ],
          "scatter": [
           {
            "fillpattern": {
             "fillmode": "overlay",
             "size": 10,
             "solidity": 0.2
            },
            "type": "scatter"
           }
          ],
          "scatter3d": [
           {
            "line": {
             "colorbar": {
              "outlinewidth": 0,
              "ticks": ""
             }
            },
            "marker": {
             "colorbar": {
              "outlinewidth": 0,
              "ticks": ""
             }
            },
            "type": "scatter3d"
           }
          ],
          "scattercarpet": [
           {
            "marker": {
             "colorbar": {
              "outlinewidth": 0,
              "ticks": ""
             }
            },
            "type": "scattercarpet"
           }
          ],
          "scattergeo": [
           {
            "marker": {
             "colorbar": {
              "outlinewidth": 0,
              "ticks": ""
             }
            },
            "type": "scattergeo"
           }
          ],
          "scattergl": [
           {
            "marker": {
             "colorbar": {
              "outlinewidth": 0,
              "ticks": ""
             }
            },
            "type": "scattergl"
           }
          ],
          "scattermapbox": [
           {
            "marker": {
             "colorbar": {
              "outlinewidth": 0,
              "ticks": ""
             }
            },
            "type": "scattermapbox"
           }
          ],
          "scatterpolar": [
           {
            "marker": {
             "colorbar": {
              "outlinewidth": 0,
              "ticks": ""
             }
            },
            "type": "scatterpolar"
           }
          ],
          "scatterpolargl": [
           {
            "marker": {
             "colorbar": {
              "outlinewidth": 0,
              "ticks": ""
             }
            },
            "type": "scatterpolargl"
           }
          ],
          "scatterternary": [
           {
            "marker": {
             "colorbar": {
              "outlinewidth": 0,
              "ticks": ""
             }
            },
            "type": "scatterternary"
           }
          ],
          "surface": [
           {
            "colorbar": {
             "outlinewidth": 0,
             "ticks": ""
            },
            "colorscale": [
             [
              0,
              "#0d0887"
             ],
             [
              0.1111111111111111,
              "#46039f"
             ],
             [
              0.2222222222222222,
              "#7201a8"
             ],
             [
              0.3333333333333333,
              "#9c179e"
             ],
             [
              0.4444444444444444,
              "#bd3786"
             ],
             [
              0.5555555555555556,
              "#d8576b"
             ],
             [
              0.6666666666666666,
              "#ed7953"
             ],
             [
              0.7777777777777778,
              "#fb9f3a"
             ],
             [
              0.8888888888888888,
              "#fdca26"
             ],
             [
              1,
              "#f0f921"
             ]
            ],
            "type": "surface"
           }
          ],
          "table": [
           {
            "cells": {
             "fill": {
              "color": "#EBF0F8"
             },
             "line": {
              "color": "white"
             }
            },
            "header": {
             "fill": {
              "color": "#C8D4E3"
             },
             "line": {
              "color": "white"
             }
            },
            "type": "table"
           }
          ]
         },
         "layout": {
          "annotationdefaults": {
           "arrowcolor": "#2a3f5f",
           "arrowhead": 0,
           "arrowwidth": 1
          },
          "autotypenumbers": "strict",
          "coloraxis": {
           "colorbar": {
            "outlinewidth": 0,
            "ticks": ""
           }
          },
          "colorscale": {
           "diverging": [
            [
             0,
             "#8e0152"
            ],
            [
             0.1,
             "#c51b7d"
            ],
            [
             0.2,
             "#de77ae"
            ],
            [
             0.3,
             "#f1b6da"
            ],
            [
             0.4,
             "#fde0ef"
            ],
            [
             0.5,
             "#f7f7f7"
            ],
            [
             0.6,
             "#e6f5d0"
            ],
            [
             0.7,
             "#b8e186"
            ],
            [
             0.8,
             "#7fbc41"
            ],
            [
             0.9,
             "#4d9221"
            ],
            [
             1,
             "#276419"
            ]
           ],
           "sequential": [
            [
             0,
             "#0d0887"
            ],
            [
             0.1111111111111111,
             "#46039f"
            ],
            [
             0.2222222222222222,
             "#7201a8"
            ],
            [
             0.3333333333333333,
             "#9c179e"
            ],
            [
             0.4444444444444444,
             "#bd3786"
            ],
            [
             0.5555555555555556,
             "#d8576b"
            ],
            [
             0.6666666666666666,
             "#ed7953"
            ],
            [
             0.7777777777777778,
             "#fb9f3a"
            ],
            [
             0.8888888888888888,
             "#fdca26"
            ],
            [
             1,
             "#f0f921"
            ]
           ],
           "sequentialminus": [
            [
             0,
             "#0d0887"
            ],
            [
             0.1111111111111111,
             "#46039f"
            ],
            [
             0.2222222222222222,
             "#7201a8"
            ],
            [
             0.3333333333333333,
             "#9c179e"
            ],
            [
             0.4444444444444444,
             "#bd3786"
            ],
            [
             0.5555555555555556,
             "#d8576b"
            ],
            [
             0.6666666666666666,
             "#ed7953"
            ],
            [
             0.7777777777777778,
             "#fb9f3a"
            ],
            [
             0.8888888888888888,
             "#fdca26"
            ],
            [
             1,
             "#f0f921"
            ]
           ]
          },
          "colorway": [
           "#636efa",
           "#EF553B",
           "#00cc96",
           "#ab63fa",
           "#FFA15A",
           "#19d3f3",
           "#FF6692",
           "#B6E880",
           "#FF97FF",
           "#FECB52"
          ],
          "font": {
           "color": "#2a3f5f"
          },
          "geo": {
           "bgcolor": "white",
           "lakecolor": "white",
           "landcolor": "#E5ECF6",
           "showlakes": true,
           "showland": true,
           "subunitcolor": "white"
          },
          "hoverlabel": {
           "align": "left"
          },
          "hovermode": "closest",
          "mapbox": {
           "style": "light"
          },
          "paper_bgcolor": "white",
          "plot_bgcolor": "#E5ECF6",
          "polar": {
           "angularaxis": {
            "gridcolor": "white",
            "linecolor": "white",
            "ticks": ""
           },
           "bgcolor": "#E5ECF6",
           "radialaxis": {
            "gridcolor": "white",
            "linecolor": "white",
            "ticks": ""
           }
          },
          "scene": {
           "xaxis": {
            "backgroundcolor": "#E5ECF6",
            "gridcolor": "white",
            "gridwidth": 2,
            "linecolor": "white",
            "showbackground": true,
            "ticks": "",
            "zerolinecolor": "white"
           },
           "yaxis": {
            "backgroundcolor": "#E5ECF6",
            "gridcolor": "white",
            "gridwidth": 2,
            "linecolor": "white",
            "showbackground": true,
            "ticks": "",
            "zerolinecolor": "white"
           },
           "zaxis": {
            "backgroundcolor": "#E5ECF6",
            "gridcolor": "white",
            "gridwidth": 2,
            "linecolor": "white",
            "showbackground": true,
            "ticks": "",
            "zerolinecolor": "white"
           }
          },
          "shapedefaults": {
           "line": {
            "color": "#2a3f5f"
           }
          },
          "ternary": {
           "aaxis": {
            "gridcolor": "white",
            "linecolor": "white",
            "ticks": ""
           },
           "baxis": {
            "gridcolor": "white",
            "linecolor": "white",
            "ticks": ""
           },
           "bgcolor": "#E5ECF6",
           "caxis": {
            "gridcolor": "white",
            "linecolor": "white",
            "ticks": ""
           }
          },
          "title": {
           "x": 0.05
          },
          "xaxis": {
           "automargin": true,
           "gridcolor": "white",
           "linecolor": "white",
           "ticks": "",
           "title": {
            "standoff": 15
           },
           "zerolinecolor": "white",
           "zerolinewidth": 2
          },
          "yaxis": {
           "automargin": true,
           "gridcolor": "white",
           "linecolor": "white",
           "ticks": "",
           "title": {
            "standoff": 15
           },
           "zerolinecolor": "white",
           "zerolinewidth": 2
          }
         }
        }
       }
      },
      "text/html": [
       "<div>                            <div id=\"7bc47bea-7f7f-4a96-aceb-c39e6ea79dae\" class=\"plotly-graph-div\" style=\"height:525px; width:100%;\"></div>            <script type=\"text/javascript\">                require([\"plotly\"], function(Plotly) {                    window.PLOTLYENV=window.PLOTLYENV || {};                                    if (document.getElementById(\"7bc47bea-7f7f-4a96-aceb-c39e6ea79dae\")) {                    Plotly.newPlot(                        \"7bc47bea-7f7f-4a96-aceb-c39e6ea79dae\",                        [{\"hovertemplate\":\"color=g<br>x=%{x}<br>y=%{y}<br>z=%{z}<extra></extra>\",\"legendgroup\":\"g\",\"marker\":{\"color\":\"#636efa\",\"symbol\":\"circle\"},\"mode\":\"markers\",\"name\":\"g\",\"scene\":\"scene\",\"showlegend\":true,\"x\":[-9.046331405639648,-11.44273853302002,-21.65359878540039,-10.454161643981934,4.739521503448486,-19.475872039794922,17.40998649597168,-9.488744735717773,-9.10183048248291,-0.4006132185459137,-28.92538833618164,-6.156496047973633,-15.647710800170898,6.842092037200928,2.4186394214630127,-22.01750373840332,7.418874740600586,-20.109895706176758,3.140411615371704,9.601218223571777,-7.681477069854736,-2.822824001312256,-22.153762817382812,-23.4920711517334,2.5159270763397217,-53.05295944213867,-20.876514434814453,22.53696632385254,18.218494415283203,-4.738011360168457,11.321849822998047,-30.420753479003906,-24.681163787841797,13.276442527770996,16.02425765991211,13.19835090637207,-0.4524790942668915,-7.665225505828857,9.751333236694336,-24.262834548950195,18.003067016601562,-22.20755386352539,16.76701545715332,-21.5905704498291,0.016933299601078033,10.16472339630127,-0.188185915350914,-0.545369029045105,-8.661247253417969,12.27123737335205,14.17691421508789,1.374219298362732,-3.0602657794952393,-3.1432130336761475,12.718029975891113,22.514066696166992,-7.357227802276611,-20.091787338256836,14.787997245788574,-20.44294548034668,11.562552452087402,-12.350040435791016,-13.450438499450684,-18.168781280517578,0.7296750545501709,8.441187858581543,8.892831802368164,-14.191119194030762,6.428370475769043,17.71136474609375,-16.78411102294922,-13.253026962280273,10.658899307250977,16.983154296875,12.531632423400879,5.847597122192383,-24.23939323425293,0.8367011547088623,-17.906381607055664,-23.212451934814453,13.700352668762207,4.769161224365234,21.045066833496094,24.951366424560547,26.944141387939453,3.0134897232055664,-17.8173885345459,-7.3868279457092285,-4.03265380859375,-31.240564346313477,-2.5581603050231934,-18.897409439086914,-6.155820369720459,-3.4224536418914795,-1.1587519645690918,18.633831024169922,-19.66817855834961,-5.748752593994141,-25.100772857666016,10.462860107421875,-18.787124633789062,-3.2394230365753174,9.277685165405273,-3.0637855529785156,-16.58060073852539,-2.1501715183258057,-15.762643814086914,17.20548439025879,-9.80859088897705,-81.791015625,-25.88500213623047,-27.306659698486328,-13.466221809387207,-21.783063888549805,21.90608024597168,-26.178306579589844,-10.187676429748535,22.5817928314209,0.6889179944992065,8.243086814880371,111.77555847167969,14.432371139526367,-10.683236122131348,18.909774780273438,-21.875226974487305,1.712481141090393,-23.596887588500977,-19.863386154174805,-16.37049674987793,-0.6079948544502258,-0.9830238819122314,5.461564064025879,5.218622207641602,9.420888900756836,-23.068599700927734,-15.083608627319336,-57.99257278442383,21.915943145751953,-13.269302368164062,26.272008895874023,-7.556407928466797,-2.2214200496673584,-7.438316822052002,-7.536221981048584,14.945371627807617,-13.286153793334961,-24.12965202331543,-5.632994174957275,11.121540069580078,13.428407669067383,-14.717876434326172,-16.63210105895996,-14.445272445678711,12.615036964416504,-2.2531309127807617,15.554095268249512,7.517563819885254,8.247428894042969,-14.375052452087402,-6.913936614990234,-18.74449920654297,-23.160602569580078,6.463624954223633,-21.889911651611328,-21.653825759887695,19.019359588623047,23.89085578918457,11.498507499694824,-0.3595922291278839,15.935079574584961,11.015056610107422,-8.33598804473877,-2.5350711345672607,6.526896953582764,15.086762428283691,9.853147506713867,-4.403838634490967,-21.218069076538086,-28.311573028564453,1.472746729850769,23.024507522583008,-27.26386833190918,-0.9812009930610657,-19.006839752197266,-14.563387870788574,-0.874816358089447,-18.170169830322266,-25.504581451416016,-23.460344314575195,-29.085914611816406,-15.870013236999512,16.130596160888672,-17.349424362182617,0.70964515209198,-18.17450523376465,-14.88231372833252,-0.32087424397468567,-0.31290146708488464,14.23212718963623,-0.15711086988449097,-12.32091236114502,-1.053704023361206,13.93487548828125,18.37950325012207,18.96958351135254,1.8260059356689453,-10.412586212158203,1.61017644405365,10.402091026306152,-1.1181079149246216,-13.621132850646973,24.572240829467773,4.072630405426025,-22.740121841430664,24.344881057739258,-38.88062286376953,18.040685653686523,4.244079113006592,-9.578176498413086,15.709016799926758,1.9835727214813232,18.174583435058594,20.06842041015625,-17.727121353149414,5.719417095184326,18.981515884399414,-11.758330345153809,14.255215644836426,-27.391080856323242,-16.267925262451172,-21.71391487121582,0.1479852795600891,18.608003616333008,-4.883203983306885,-23.714614868164062,1.5827901363372803,17.46265983581543,-13.065000534057617,-13.370770454406738,-28.16254997253418,18.554306030273438,-12.714818954467773,2.401414155960083,-15.110689163208008,5.053903579711914,-4.5065131187438965,-4.486534118652344,-16.506053924560547,2.0014686584472656,-16.786325454711914,0.11428079009056091,7.675745487213135,-15.224557876586914,-8.314894676208496,1.9760621786117554,6.619262218475342,-3.8100340366363525,-27.496360778808594,-118.56483459472656,-8.659415245056152,-10.529463768005371,11.215337753295898,81.71478271484375,9.197097778320312,9.216344833374023,-16.529701232910156,21.596195220947266,-25.116653442382812,10.542902946472168,-14.2475004196167,4.384600639343262,1.5435917377471924,7.662912845611572,-12.42553997039795,-1.9002189636230469,-16.467716217041016,-19.668596267700195,-7.376601219177246,7.120086193084717,-23.11838722229004,-13.888901710510254,-24.610334396362305,17.605485916137695,-23.40083122253418,-14.429879188537598,-20.432270050048828,-6.825558662414551,-12.43630599975586,-6.855988025665283,-28.456457138061523,-30.104843139648438,8.769777297973633,-22.330543518066406,22.327835083007812],\"y\":[-1.5340672731399536,6.574012279510498,-1.8590061664581299,-0.41136372089385986,-16.96223258972168,14.269585609436035,-27.497920989990234,12.495722770690918,8.527955055236816,-22.2428035736084,11.621274948120117,-9.86121654510498,6.600394248962402,-22.95342445373535,-0.994309663772583,14.901973724365234,-15.746891975402832,6.11449670791626,-23.23505401611328,-14.151230812072754,-18.99390983581543,-23.76114273071289,-8.684488296508789,14.155314445495605,-9.423970222473145,37.35771179199219,-9.008581161499023,-25.974454879760742,-9.869290351867676,-9.65532398223877,-1.3009191751480103,4.007169246673584,11.801981925964355,-8.881010055541992,2.0357797145843506,-11.895366668701172,2.9733541011810303,0.006850101985037327,6.681643009185791,10.029695510864258,-16.246273040771484,-5.687689781188965,-5.8213324546813965,-8.03565502166748,-5.769979476928711,7.677053451538086,0.7847827076911926,-25.03753662109375,3.7726967334747314,-15.074109077453613,11.354602813720703,-5.082414150238037,-0.4331987202167511,-5.324719429016113,7.166856288909912,-15.876425743103027,-10.194954872131348,20.718265533447266,-27.792743682861328,-9.152871131896973,-28.964563369750977,-16.195659637451172,5.582106590270996,-15.532862663269043,-11.88512134552002,5.096437454223633,-29.941360473632812,4.940958499908447,-21.880420684814453,-1.447306752204895,12.868429183959961,-18.14061737060547,-15.994688987731934,10.051630973815918,9.61036491394043,-31.05203628540039,11.842206954956055,-28.931198120117188,-13.614554405212402,8.024569511413574,-6.779545783996582,-19.383331298828125,-13.033788681030273,-23.372880935668945,-25.50701141357422,-27.92346954345703,15.198331832885742,12.196139335632324,1.840895652770996,1.6657421588897705,-20.32362174987793,-9.368785858154297,11.046630859375,2.1816976070404053,-0.23901543021202087,0.09213738888502121,-4.5717453956604,0.888896644115448,8.691638946533203,84.04073333740234,-11.279043197631836,-21.84109115600586,-27.648595809936523,-5.940124034881592,-17.94634246826172,-21.76734161376953,-12.668383598327637,-24.692529678344727,-19.58407974243164,23.154285430908203,-3.6616997718811035,-0.9921901822090149,-21.47683334350586,11.465152740478516,-17.896011352539062,-0.9240994453430176,-17.478626251220703,-26.075510025024414,-24.7843017578125,-27.36046600341797,-58.84355545043945,-26.56248664855957,2.5020625591278076,-16.106048583984375,18.80419158935547,-11.221720695495605,10.017218589782715,-5.749551296234131,-12.341777801513672,-29.44001007080078,-24.91731071472168,-24.06086540222168,-21.673030853271484,-26.912843704223633,-7.033667087554932,-15.212780952453613,-21.989362716674805,39.07378387451172,3.340461492538452,-24.703784942626953,13.797632217407227,70.89799499511719,-23.343299865722656,7.078225135803223,-2.5804948806762695,15.482879638671875,8.066954612731934,-20.94005584716797,3.8352320194244385,-13.614950180053711,9.195090293884277,19.539522171020508,8.181456565856934,-26.681859970092773,-22.366670608520508,-4.300848484039307,-18.474538803100586,-0.40056312084198,2.525477409362793,9.676780700683594,-10.724989891052246,12.476180076599121,-20.476518630981445,11.262657165527344,14.594732284545898,-4.460450649261475,-22.3205509185791,-26.4284610748291,-22.955080032348633,-14.693780899047852,-6.902839660644531,12.321738243103027,-26.301456451416016,-29.170372009277344,-24.349538803100586,-2.7594263553619385,-7.684845924377441,-0.6396019458770752,-1.9303383827209473,-6.569674491882324,-23.911819458007812,6.709972381591797,-30.87407684326172,-7.752499580383301,1.7057619094848633,-7.214428901672363,6.9911208152771,-2.6022753715515137,-5.642113208770752,1.697472333908081,-12.633161544799805,-28.34609031677246,-15.012086868286133,-26.80893898010254,-13.768354415893555,1.6886509656906128,-20.635656356811523,-7.566712379455566,7.279542446136475,2.596472978591919,13.581685066223145,2.2233128547668457,3.896430492401123,-26.55345344543457,-12.694981575012207,-0.7338266968727112,-9.151679039001465,-20.019012451171875,1.8799445629119873,-10.834845542907715,16.03583526611328,-25.807781219482422,0.2876308560371399,8.238428115844727,-26.54743003845215,-42.25943374633789,-2.9506189823150635,-21.734424591064453,-21.46657943725586,-27.270830154418945,-22.136302947998047,-20.029312133789062,-24.05599594116211,18.987165451049805,-25.375370025634766,-26.669729232788086,-19.037246704101562,-23.83278465270996,2.518636465072632,-17.075645446777344,16.571168899536133,-23.15620994567871,-26.801891326904297,2.065192699432373,-8.281861305236816,-6.201145648956299,-15.665863990783691,-16.88687515258789,-20.73121452331543,9.24581527709961,-24.029438018798828,-16.356306076049805,-10.200255393981934,-15.569133758544922,-28.345773696899414,-21.025455474853516,-9.832568168640137,6.120848655700684,-19.4406681060791,-14.138138771057129,-25.48404312133789,-28.423355102539062,14.127264022827148,-20.304887771606445,-29.591922760009766,-27.80733871459961,-11.261043548583984,-0.5214413404464722,127.60057067871094,-18.524980545043945,-17.843013763427734,-26.994354248046875,-29.461854934692383,-1.6086217164993286,-16.884567260742188,6.778666019439697,-13.283109664916992,10.46846866607666,-27.161678314208984,7.292974472045898,-1.563989281654358,-3.0066323280334473,-1.374645471572876,-0.4895268678665161,1.8690766096115112,2.7330658435821533,-9.777782440185547,-18.08457374572754,-15.269906044006348,0.8874223232269287,4.893166542053223,-5.919886112213135,-17.683881759643555,12.11388111114502,13.049344062805176,-4.845855236053467,-21.48969841003418,1.2905257940292358,-15.377307891845703,4.812404632568359,1.8874361515045166,10.049779891967773,7.970026016235352,-24.919008255004883],\"z\":[9.53197193145752,9.57335376739502,7.666819095611572,12.332613945007324,-2.240938425064087,4.1579461097717285,69.30937194824219,3.7845757007598877,9.218828201293945,-2.7527353763580322,-6.6117024421691895,-9.284784317016602,1.5078284740447998,-0.8405643701553345,10.754899978637695,-5.201469898223877,-1.793112874031067,5.52886438369751,8.401768684387207,-11.876882553100586,6.62180233001709,-2.591778039932251,-14.838632583618164,-2.65077805519104,24.078472137451172,-21.51104736328125,-9.853985786437988,8.165149688720703,-0.12358630448579788,-6.757519721984863,-1.8719618320465088,-13.806991577148438,-1.3568332195281982,-8.068865776062012,-3.682899236679077,-7.9292988777160645,3.1394717693328857,8.026867866516113,-9.65349292755127,10.561279296875,0.27207931876182556,-12.487892150878906,-3.1601366996765137,-4.591520309448242,20.080402374267578,-11.978772163391113,6.3451828956604,-4.866749286651611,12.558052062988281,-5.335000991821289,-14.760540962219238,15.483501434326172,3.512901544570923,23.515975952148438,-12.816399574279785,-4.340579032897949,-7.0037713050842285,-2.8299262523651123,-7.052609443664551,0.05062533915042877,-4.988108158111572,-8.432863235473633,11.647521018981934,-2.98518705368042,23.80101203918457,-8.221772193908691,-9.2034912109375,19.5771484375,7.539278507232666,-1.932456374168396,5.040639877319336,-5.628282070159912,-9.379570007324219,-14.801094055175781,-15.422810554504395,-10.263843536376953,-6.007943153381348,-4.311363220214844,3.721047878265381,-5.954563617706299,-4.287938117980957,17.79243278503418,-2.181363821029663,-2.1588146686553955,-1.2434390783309937,-4.987863063812256,-3.26471209526062,6.32472562789917,12.5286865234375,-14.27605152130127,-3.1587657928466797,4.913025856018066,8.742948532104492,2.810516119003296,14.00421142578125,-4.507615566253662,9.067113876342773,3.315058708190918,-3.0897409915924072,-113.68861389160156,1.8277684450149536,2.7214672565460205,-7.884922504425049,20.4993896484375,-2.833489179611206,5.646518230438232,1.9443696737289429,1.6533063650131226,4.935474872589111,-184.99435424804688,-8.848250389099121,-16.835418701171875,-12.604214668273926,-2.0804643630981445,-5.894814968109131,-10.323206901550293,7.238590240478516,4.13508415222168,-8.491902351379395,0.769481897354126,6.1671576499938965,1.9352059364318848,13.307368278503418,-5.415008544921875,-4.522883892059326,21.3786678314209,0.7807945609092712,-7.49458122253418,-20.49005126953125,-7.104421615600586,-13.194361686706543,5.8490471839904785,2.5402815341949463,5.901520252227783,-7.182956695556641,3.5505518913269043,-2.052159309387207,-4.9472527503967285,17.425508499145508,-4.641134262084961,2.7535386085510254,105.1537857055664,-11.71806812286377,11.810522079467773,-2.9842734336853027,9.468674659729004,8.126065254211426,-2.911102771759033,-5.464696884155273,-3.654226303100586,1.4638711214065552,-5.789161682128906,-12.232077598571777,6.338399410247803,12.24473762512207,-0.7461841106414795,19.872364044189453,0.9823704361915588,22.571170806884766,11.471514701843262,-18.05573844909668,3.1034491062164307,-2.2439353466033936,10.857026100158691,1.4350652694702148,-2.1864142417907715,-5.15687370300293,-4.9389448165893555,14.250812530517578,-6.177495956420898,-4.362673282623291,9.72375774383545,-15.44753646850586,-11.780966758728027,6.261496067047119,3.3633463382720947,22.781843185424805,5.082404613494873,-8.905560493469238,28.894880294799805,6.184932708740234,-4.911586761474609,-10.686809539794922,7.166134357452393,4.736314296722412,26.403093338012695,7.289196968078613,-14.066394805908203,-5.073433876037598,-15.567999839782715,-17.90410041809082,-4.997525691986084,0.43947523832321167,-10.579927444458008,-18.625900268554688,19.84807014465332,10.200603485107422,23.4647274017334,-16.000593185424805,10.819082260131836,7.953589916229248,13.886260986328125,-3.5052919387817383,7.662232398986816,-0.5304073095321655,7.7279953956604,-7.936706066131592,14.7390775680542,-4.040965557098389,26.403982162475586,-2.4740195274353027,0.639200747013092,4.417971611022949,3.7034912109375,-2.3520076274871826,-2.3947806358337402,-4.764647006988525,19.44810676574707,-11.46469497680664,6.437554836273193,16.93238067626953,2.19386887550354,9.36857795715332,-2.43359112739563,1.0783576965332031,4.690735340118408,-11.598353385925293,1.6183968782424927,-8.6487398147583,-5.947238445281982,-2.706756114959717,10.59556770324707,-5.616518020629883,9.563608169555664,-11.798802375793457,25.822803497314453,-2.8336069583892822,-18.043947219848633,-9.59210205078125,-7.244292736053467,6.383376598358154,5.716250896453857,26.957326889038086,-2.5538625717163086,0.4565325379371643,5.471328258514404,26.437467575073242,16.994056701660156,18.731624603271484,-8.18108081817627,-2.2394731044769287,-4.7367777824401855,7.165168285369873,2.7587292194366455,-8.42005443572998,-1.6895893812179565,24.420547485351562,-6.521223068237305,-251.31533813476562,-17.812402725219727,-5.89098596572876,2.5832061767578125,14.49571418762207,-3.250072956085205,-3.311398983001709,13.659467697143555,-5.340887069702148,4.011509418487549,-1.9154976606369019,9.69638729095459,7.841527938842773,13.328204154968262,3.466610908508301,14.358805656433105,8.232715606689453,5.121372699737549,-5.427995681762695,-4.953825950622559,-12.105224609375,7.203308582305908,4.5866312980651855,-12.759458541870117,2.593722105026245,7.223876953125,10.430416107177734,5.988039016723633,-14.444012641906738,21.24964141845703,-5.024855613708496,-7.461827278137207,-8.295402526855469,-10.776073455810547,10.298796653747559,-4.668911457061768],\"type\":\"scatter3d\"},{\"hovertemplate\":\"color=b<br>x=%{x}<br>y=%{y}<br>z=%{z}<extra></extra>\",\"legendgroup\":\"b\",\"marker\":{\"color\":\"#EF553B\",\"symbol\":\"circle\"},\"mode\":\"markers\",\"name\":\"b\",\"scene\":\"scene\",\"showlegend\":true,\"x\":[7.697423934936523,7.258779525756836,18.547761917114258,13.493264198303223,1.7243993282318115,1.4179623126983643,8.812419891357422,12.30667495727539,3.2501838207244873,13.350851058959961,4.83257532119751,9.513137817382812,1.0056315660476685,9.77731704711914,-0.621317982673645,11.087596893310547,8.543438911437988,6.6485514640808105,119.45038604736328,0.013748791068792343,18.782182693481445,10.401054382324219,18.186777114868164,4.9118571281433105,16.083219528198242,11.511897087097168,15.475022315979004,16.06488609313965,19.05466079711914,13.101458549499512,7.995543956756592,15.77588939666748,9.068572044372559,8.362435340881348,22.07903480529785,6.7596116065979,6.902961730957031,8.086891174316406,14.3687162399292,18.539997100830078,13.235922813415527,10.457977294921875,8.404837608337402,21.565509796142578,21.585609436035156,6.600968837738037,7.064363956451416,2.4415862560272217,16.051517486572266,17.606853485107422,20.71451187133789,15.759593963623047,13.836289405822754,11.223855018615723,21.40593147277832,2.8568315505981445,25.203134536743164,13.254828453063965,15.336697578430176,8.440875053405762,25.67900276184082,13.890109062194824,17.452407836914062,23.120141983032227,9.965339660644531,5.4363789558410645,0.956437885761261,1.8093584775924683,3.794647216796875,3.0907816886901855,18.30752944946289,-31.12976837158203,11.464186668395996,10.592700958251953,-4.085951328277588,-3.614997148513794,-0.09093213826417923,0.025603393092751503,-0.8317543268203735,-5.500577926635742,-3.0499520301818848,-5.959803581237793,-1.6689637899398804,-2.4795591831207275,-0.99972003698349,-6.767575740814209,-2.5517489910125732,-5.7214860916137695,-20.30048179626465,-3.750126838684082,-3.098863363265991,-4.586777210235596,5.7017621994018555,0.9788944125175476,0.6293817758560181,-7.108649730682373,-12.822087287902832,-7.577425479888916,-9.279520034790039,2.730485677719116,-4.615138053894043,-7.43548059463501,-5.046298503875732,3.2228384017944336,0.5755764842033386,0.003441551234573126,-6.40046501159668,-5.2091169357299805,-3.1918282508850098,-6.279848575592041,-6.693490982055664,-3.8456530570983887,-4.283414840698242,-3.913769245147705,-3.621323347091675,-1.5615966320037842,-3.6409952640533447,-3.3407163619995117,-7.73508358001709],\"y\":[23.777769088745117,27.417020797729492,19.438631057739258,18.347332000732422,28.669353485107422,28.447622299194336,24.42845916748047,26.709463119506836,31.066734313964844,21.177873611450195,25.66746711730957,26.06939125061035,30.533100128173828,24.06299591064453,27.08819580078125,27.062894821166992,26.50107765197754,27.265174865722656,7.194135665893555,31.576446533203125,19.249290466308594,20.899019241333008,16.71277618408203,26.7634334564209,20.295726776123047,24.955141067504883,22.766498565673828,19.271053314208984,19.488147735595703,22.861108779907227,25.139381408691406,19.34834098815918,26.679622650146484,24.887346267700195,14.998286247253418,23.109743118286133,25.511371612548828,23.162879943847656,17.209138870239258,17.172903060913086,19.369455337524414,23.537660598754883,24.5936279296875,17.289831161499023,15.166069984436035,25.37563133239746,26.80156135559082,38.10472106933594,19.982194900512695,15.942595481872559,17.44512939453125,16.474458694458008,25.27295684814453,24.558584213256836,18.541912078857422,26.137174606323242,15.569816589355469,16.27312469482422,21.562110900878906,25.0205135345459,15.997166633605957,19.294057846069336,18.47958755493164,16.20000457763672,24.088743209838867,28.021650314331055,24.817502975463867,22.06984519958496,24.725154876708984,28.206815719604492,14.953001976013184,30.665061950683594,27.82818603515625,26.343551635742188,9.647178649902344,22.322906494140625,7.2958526611328125,18.60495948791504,9.390308380126953,12.460524559020996,5.917353630065918,23.415254592895508,4.942521095275879,8.140617370605469,3.9042539596557617,14.14824104309082,5.399032115936279,12.744651794433594,-28.36433219909668,10.715322494506836,8.901036262512207,19.285240173339844,12.136685371398926,4.916201591491699,9.47164249420166,16.607826232910156,19.68012046813965,14.708717346191406,19.305889129638672,7.6441755294799805,11.940206527709961,10.044224739074707,15.736417770385742,10.483235359191895,11.333802223205566,20.708059310913086,12.944133758544922,7.568490028381348,21.833450317382812,84.0194091796875,17.580738067626953,10.49262523651123,23.595195770263672,23.597152709960938,25.2569580078125,15.331459045410156,17.33540153503418,12.665172576904297,21.059579849243164],\"z\":[-9.234328269958496,6.563780784606934,13.252649307250977,22.675012588500977,12.067776679992676,7.7727131843566895,27.299192428588867,7.566989421844482,12.216638565063477,24.95664405822754,22.792659759521484,13.743245124816895,13.876070976257324,-2.504926919937134,5.019114971160889,1.961452603340149,8.944665908813477,13.280891418457031,44.78852462768555,10.924113273620605,6.158165454864502,26.752721786499023,11.342402458190918,20.51203155517578,21.952720642089844,5.576523780822754,17.089073181152344,12.314346313476562,1.5549989938735962,15.43603515625,23.748558044433594,8.55448055267334,-1.9826496839523315,18.252199172973633,7.3862152099609375,26.17429542541504,-4.04365348815918,21.968656539916992,25.394611358642578,4.797584533691406,27.261857986450195,-9.666274070739746,-6.371634006500244,5.751684188842773,11.83359432220459,-1.0237042903900146,2.3010106086730957,-36.83362579345703,16.699871063232422,13.858884811401367,14.245015144348145,22.3489990234375,15.859454154968262,1.5774638652801514,1.785491704940796,-5.701615333557129,7.073034286499023,20.31306266784668,9.747523307800293,-11.646202087402344,3.857192277908325,18.110687255859375,24.162580490112305,9.819003105163574,20.00321388244629,8.932872772216797,-6.9477996826171875,6.766127586364746,-8.219059944152832,14.890569686889648,24.23558235168457,56.71639633178711,4.978670597076416,11.108466148376465,-21.08344841003418,-19.58296012878418,-28.48909568786621,-27.214284896850586,-26.021282196044922,-21.90737533569336,-30.127025604248047,-19.00640106201172,-19.30973243713379,-22.706031799316406,-21.885900497436523,-12.353919982910156,-23.80036735534668,-15.349798202514648,-7.306142330169678,-29.400466918945312,-18.708662033081055,-25.388078689575195,-29.82846450805664,-19.455684661865234,-31.175790786743164,-23.67688751220703,-7.848945617675781,-26.91334342956543,-21.590850830078125,-30.027124404907227,-13.192132949829102,-29.289871215820312,-25.464258193969727,-30.204204559326172,-26.866342544555664,-24.95087432861328,-29.895977020263672,-30.692829132080078,-22.172800064086914,-56.28150939941406,-27.188945770263672,-15.49812126159668,-15.73551082611084,-12.802376747131348,-18.42499351501465,-29.1809139251709,-28.78260612487793,-31.68842887878418,-20.232154846191406],\"type\":\"scatter3d\"}],                        {\"template\":{\"data\":{\"histogram2dcontour\":[{\"type\":\"histogram2dcontour\",\"colorbar\":{\"outlinewidth\":0,\"ticks\":\"\"},\"colorscale\":[[0.0,\"#0d0887\"],[0.1111111111111111,\"#46039f\"],[0.2222222222222222,\"#7201a8\"],[0.3333333333333333,\"#9c179e\"],[0.4444444444444444,\"#bd3786\"],[0.5555555555555556,\"#d8576b\"],[0.6666666666666666,\"#ed7953\"],[0.7777777777777778,\"#fb9f3a\"],[0.8888888888888888,\"#fdca26\"],[1.0,\"#f0f921\"]]}],\"choropleth\":[{\"type\":\"choropleth\",\"colorbar\":{\"outlinewidth\":0,\"ticks\":\"\"}}],\"histogram2d\":[{\"type\":\"histogram2d\",\"colorbar\":{\"outlinewidth\":0,\"ticks\":\"\"},\"colorscale\":[[0.0,\"#0d0887\"],[0.1111111111111111,\"#46039f\"],[0.2222222222222222,\"#7201a8\"],[0.3333333333333333,\"#9c179e\"],[0.4444444444444444,\"#bd3786\"],[0.5555555555555556,\"#d8576b\"],[0.6666666666666666,\"#ed7953\"],[0.7777777777777778,\"#fb9f3a\"],[0.8888888888888888,\"#fdca26\"],[1.0,\"#f0f921\"]]}],\"heatmap\":[{\"type\":\"heatmap\",\"colorbar\":{\"outlinewidth\":0,\"ticks\":\"\"},\"colorscale\":[[0.0,\"#0d0887\"],[0.1111111111111111,\"#46039f\"],[0.2222222222222222,\"#7201a8\"],[0.3333333333333333,\"#9c179e\"],[0.4444444444444444,\"#bd3786\"],[0.5555555555555556,\"#d8576b\"],[0.6666666666666666,\"#ed7953\"],[0.7777777777777778,\"#fb9f3a\"],[0.8888888888888888,\"#fdca26\"],[1.0,\"#f0f921\"]]}],\"heatmapgl\":[{\"type\":\"heatmapgl\",\"colorbar\":{\"outlinewidth\":0,\"ticks\":\"\"},\"colorscale\":[[0.0,\"#0d0887\"],[0.1111111111111111,\"#46039f\"],[0.2222222222222222,\"#7201a8\"],[0.3333333333333333,\"#9c179e\"],[0.4444444444444444,\"#bd3786\"],[0.5555555555555556,\"#d8576b\"],[0.6666666666666666,\"#ed7953\"],[0.7777777777777778,\"#fb9f3a\"],[0.8888888888888888,\"#fdca26\"],[1.0,\"#f0f921\"]]}],\"contourcarpet\":[{\"type\":\"contourcarpet\",\"colorbar\":{\"outlinewidth\":0,\"ticks\":\"\"}}],\"contour\":[{\"type\":\"contour\",\"colorbar\":{\"outlinewidth\":0,\"ticks\":\"\"},\"colorscale\":[[0.0,\"#0d0887\"],[0.1111111111111111,\"#46039f\"],[0.2222222222222222,\"#7201a8\"],[0.3333333333333333,\"#9c179e\"],[0.4444444444444444,\"#bd3786\"],[0.5555555555555556,\"#d8576b\"],[0.6666666666666666,\"#ed7953\"],[0.7777777777777778,\"#fb9f3a\"],[0.8888888888888888,\"#fdca26\"],[1.0,\"#f0f921\"]]}],\"surface\":[{\"type\":\"surface\",\"colorbar\":{\"outlinewidth\":0,\"ticks\":\"\"},\"colorscale\":[[0.0,\"#0d0887\"],[0.1111111111111111,\"#46039f\"],[0.2222222222222222,\"#7201a8\"],[0.3333333333333333,\"#9c179e\"],[0.4444444444444444,\"#bd3786\"],[0.5555555555555556,\"#d8576b\"],[0.6666666666666666,\"#ed7953\"],[0.7777777777777778,\"#fb9f3a\"],[0.8888888888888888,\"#fdca26\"],[1.0,\"#f0f921\"]]}],\"mesh3d\":[{\"type\":\"mesh3d\",\"colorbar\":{\"outlinewidth\":0,\"ticks\":\"\"}}],\"scatter\":[{\"fillpattern\":{\"fillmode\":\"overlay\",\"size\":10,\"solidity\":0.2},\"type\":\"scatter\"}],\"parcoords\":[{\"type\":\"parcoords\",\"line\":{\"colorbar\":{\"outlinewidth\":0,\"ticks\":\"\"}}}],\"scatterpolargl\":[{\"type\":\"scatterpolargl\",\"marker\":{\"colorbar\":{\"outlinewidth\":0,\"ticks\":\"\"}}}],\"bar\":[{\"error_x\":{\"color\":\"#2a3f5f\"},\"error_y\":{\"color\":\"#2a3f5f\"},\"marker\":{\"line\":{\"color\":\"#E5ECF6\",\"width\":0.5},\"pattern\":{\"fillmode\":\"overlay\",\"size\":10,\"solidity\":0.2}},\"type\":\"bar\"}],\"scattergeo\":[{\"type\":\"scattergeo\",\"marker\":{\"colorbar\":{\"outlinewidth\":0,\"ticks\":\"\"}}}],\"scatterpolar\":[{\"type\":\"scatterpolar\",\"marker\":{\"colorbar\":{\"outlinewidth\":0,\"ticks\":\"\"}}}],\"histogram\":[{\"marker\":{\"pattern\":{\"fillmode\":\"overlay\",\"size\":10,\"solidity\":0.2}},\"type\":\"histogram\"}],\"scattergl\":[{\"type\":\"scattergl\",\"marker\":{\"colorbar\":{\"outlinewidth\":0,\"ticks\":\"\"}}}],\"scatter3d\":[{\"type\":\"scatter3d\",\"line\":{\"colorbar\":{\"outlinewidth\":0,\"ticks\":\"\"}},\"marker\":{\"colorbar\":{\"outlinewidth\":0,\"ticks\":\"\"}}}],\"scattermapbox\":[{\"type\":\"scattermapbox\",\"marker\":{\"colorbar\":{\"outlinewidth\":0,\"ticks\":\"\"}}}],\"scatterternary\":[{\"type\":\"scatterternary\",\"marker\":{\"colorbar\":{\"outlinewidth\":0,\"ticks\":\"\"}}}],\"scattercarpet\":[{\"type\":\"scattercarpet\",\"marker\":{\"colorbar\":{\"outlinewidth\":0,\"ticks\":\"\"}}}],\"carpet\":[{\"aaxis\":{\"endlinecolor\":\"#2a3f5f\",\"gridcolor\":\"white\",\"linecolor\":\"white\",\"minorgridcolor\":\"white\",\"startlinecolor\":\"#2a3f5f\"},\"baxis\":{\"endlinecolor\":\"#2a3f5f\",\"gridcolor\":\"white\",\"linecolor\":\"white\",\"minorgridcolor\":\"white\",\"startlinecolor\":\"#2a3f5f\"},\"type\":\"carpet\"}],\"table\":[{\"cells\":{\"fill\":{\"color\":\"#EBF0F8\"},\"line\":{\"color\":\"white\"}},\"header\":{\"fill\":{\"color\":\"#C8D4E3\"},\"line\":{\"color\":\"white\"}},\"type\":\"table\"}],\"barpolar\":[{\"marker\":{\"line\":{\"color\":\"#E5ECF6\",\"width\":0.5},\"pattern\":{\"fillmode\":\"overlay\",\"size\":10,\"solidity\":0.2}},\"type\":\"barpolar\"}],\"pie\":[{\"automargin\":true,\"type\":\"pie\"}]},\"layout\":{\"autotypenumbers\":\"strict\",\"colorway\":[\"#636efa\",\"#EF553B\",\"#00cc96\",\"#ab63fa\",\"#FFA15A\",\"#19d3f3\",\"#FF6692\",\"#B6E880\",\"#FF97FF\",\"#FECB52\"],\"font\":{\"color\":\"#2a3f5f\"},\"hovermode\":\"closest\",\"hoverlabel\":{\"align\":\"left\"},\"paper_bgcolor\":\"white\",\"plot_bgcolor\":\"#E5ECF6\",\"polar\":{\"bgcolor\":\"#E5ECF6\",\"angularaxis\":{\"gridcolor\":\"white\",\"linecolor\":\"white\",\"ticks\":\"\"},\"radialaxis\":{\"gridcolor\":\"white\",\"linecolor\":\"white\",\"ticks\":\"\"}},\"ternary\":{\"bgcolor\":\"#E5ECF6\",\"aaxis\":{\"gridcolor\":\"white\",\"linecolor\":\"white\",\"ticks\":\"\"},\"baxis\":{\"gridcolor\":\"white\",\"linecolor\":\"white\",\"ticks\":\"\"},\"caxis\":{\"gridcolor\":\"white\",\"linecolor\":\"white\",\"ticks\":\"\"}},\"coloraxis\":{\"colorbar\":{\"outlinewidth\":0,\"ticks\":\"\"}},\"colorscale\":{\"sequential\":[[0.0,\"#0d0887\"],[0.1111111111111111,\"#46039f\"],[0.2222222222222222,\"#7201a8\"],[0.3333333333333333,\"#9c179e\"],[0.4444444444444444,\"#bd3786\"],[0.5555555555555556,\"#d8576b\"],[0.6666666666666666,\"#ed7953\"],[0.7777777777777778,\"#fb9f3a\"],[0.8888888888888888,\"#fdca26\"],[1.0,\"#f0f921\"]],\"sequentialminus\":[[0.0,\"#0d0887\"],[0.1111111111111111,\"#46039f\"],[0.2222222222222222,\"#7201a8\"],[0.3333333333333333,\"#9c179e\"],[0.4444444444444444,\"#bd3786\"],[0.5555555555555556,\"#d8576b\"],[0.6666666666666666,\"#ed7953\"],[0.7777777777777778,\"#fb9f3a\"],[0.8888888888888888,\"#fdca26\"],[1.0,\"#f0f921\"]],\"diverging\":[[0,\"#8e0152\"],[0.1,\"#c51b7d\"],[0.2,\"#de77ae\"],[0.3,\"#f1b6da\"],[0.4,\"#fde0ef\"],[0.5,\"#f7f7f7\"],[0.6,\"#e6f5d0\"],[0.7,\"#b8e186\"],[0.8,\"#7fbc41\"],[0.9,\"#4d9221\"],[1,\"#276419\"]]},\"xaxis\":{\"gridcolor\":\"white\",\"linecolor\":\"white\",\"ticks\":\"\",\"title\":{\"standoff\":15},\"zerolinecolor\":\"white\",\"automargin\":true,\"zerolinewidth\":2},\"yaxis\":{\"gridcolor\":\"white\",\"linecolor\":\"white\",\"ticks\":\"\",\"title\":{\"standoff\":15},\"zerolinecolor\":\"white\",\"automargin\":true,\"zerolinewidth\":2},\"scene\":{\"xaxis\":{\"backgroundcolor\":\"#E5ECF6\",\"gridcolor\":\"white\",\"linecolor\":\"white\",\"showbackground\":true,\"ticks\":\"\",\"zerolinecolor\":\"white\",\"gridwidth\":2},\"yaxis\":{\"backgroundcolor\":\"#E5ECF6\",\"gridcolor\":\"white\",\"linecolor\":\"white\",\"showbackground\":true,\"ticks\":\"\",\"zerolinecolor\":\"white\",\"gridwidth\":2},\"zaxis\":{\"backgroundcolor\":\"#E5ECF6\",\"gridcolor\":\"white\",\"linecolor\":\"white\",\"showbackground\":true,\"ticks\":\"\",\"zerolinecolor\":\"white\",\"gridwidth\":2}},\"shapedefaults\":{\"line\":{\"color\":\"#2a3f5f\"}},\"annotationdefaults\":{\"arrowcolor\":\"#2a3f5f\",\"arrowhead\":0,\"arrowwidth\":1},\"geo\":{\"bgcolor\":\"white\",\"landcolor\":\"#E5ECF6\",\"subunitcolor\":\"white\",\"showland\":true,\"showlakes\":true,\"lakecolor\":\"white\"},\"title\":{\"x\":0.05},\"mapbox\":{\"style\":\"light\"}}},\"scene\":{\"domain\":{\"x\":[0.0,1.0],\"y\":[0.0,1.0]},\"xaxis\":{\"title\":{\"text\":\"x\"}},\"yaxis\":{\"title\":{\"text\":\"y\"}},\"zaxis\":{\"title\":{\"text\":\"z\"}}},\"legend\":{\"title\":{\"text\":\"color\"},\"tracegroupgap\":0},\"margin\":{\"t\":60}},                        {\"responsive\": true}                    ).then(function(){\n",
       "                            \n",
       "var gd = document.getElementById('7bc47bea-7f7f-4a96-aceb-c39e6ea79dae');\n",
       "var x = new MutationObserver(function (mutations, observer) {{\n",
       "        var display = window.getComputedStyle(gd).display;\n",
       "        if (!display || display === 'none') {{\n",
       "            console.log([gd, 'removed!']);\n",
       "            Plotly.purge(gd);\n",
       "            observer.disconnect();\n",
       "        }}\n",
       "}});\n",
       "\n",
       "// Listen for the removal of the full notebook cells\n",
       "var notebookContainer = gd.closest('#notebook-container');\n",
       "if (notebookContainer) {{\n",
       "    x.observe(notebookContainer, {childList: true});\n",
       "}}\n",
       "\n",
       "// Listen for the clearing of the current output cell\n",
       "var outputEl = gd.closest('.output');\n",
       "if (outputEl) {{\n",
       "    x.observe(outputEl, {childList: true});\n",
       "}}\n",
       "\n",
       "                        })                };                });            </script>        </div>"
      ]
     },
     "metadata": {},
     "output_type": "display_data"
    }
   ],
   "source": [
    "# plot using tsne \n",
    "X_embedded  = TSNE(n_components=3, perplexity=10,random_state=24).fit_transform( X )\n",
    "colors = np.array([x for x in 'bgrcmykbgrcmykbgrcmykbgrcmyk'])\n",
    "fig = px.scatter_3d(x=X_embedded [:,0],y=X_embedded [:,1],z=X_embedded [:,2],color=colors[Spectral_clustering.labels_])\n",
    "fig.show()"
   ]
  },
  {
   "cell_type": "markdown",
   "metadata": {},
   "source": [
    "### Affinity Propagation\n",
    "\n",
    "In Affinity Propagation, each data point is considered as a node in a network that communicates with all other nodes to let each other know that how similar they are and starts forming clusters on the basis of nodes similarity in the data set. \n",
    "\n",
    "As messages are sent between nodes, sets of nodes (exemplars) are found and they represent the clusters."
   ]
  },
  {
   "cell_type": "code",
   "execution_count": 95,
   "metadata": {},
   "outputs": [],
   "source": [
    "aff_prop_grid = {\n",
    "        \"max_iter\": [50, 100, 150, 200],\n",
    "        \"convergence_iter\" : range(2,5),\n",
    "        \"damping\" : np.arange(0.5,1.1,0.1),\n",
    "        \"affinity\": ['euclidean']#,'precomputed']\n",
    "       }\n",
    "#aff_prop_grid"
   ]
  },
  {
   "cell_type": "code",
   "execution_count": 96,
   "metadata": {},
   "outputs": [],
   "source": [
    "#aff_prop_grid\n",
    "aff_prop_model = AffinityPropagation()\n",
    "aff_prop_params = GridSearchCV(aff_prop_model,aff_prop_grid,scoring=silhouette_score2,cv= 10).fit(X, y)"
   ]
  },
  {
   "cell_type": "code",
   "execution_count": 97,
   "metadata": {},
   "outputs": [
    {
     "data": {
      "text/plain": [
       "(0.4142138113764018,\n",
       " {'affinity': 'euclidean',\n",
       "  'convergence_iter': 3,\n",
       "  'damping': 0.6,\n",
       "  'max_iter': 50})"
      ]
     },
     "execution_count": 97,
     "metadata": {},
     "output_type": "execute_result"
    }
   ],
   "source": [
    "aff_prop_params.best_score_, aff_prop_params.best_params_"
   ]
  },
  {
   "cell_type": "code",
   "execution_count": 98,
   "metadata": {},
   "outputs": [],
   "source": [
    "aff_prop_clustering = AffinityPropagation(affinity = aff_prop_params.best_params_['affinity'],\n",
    "                           convergence_iter = aff_prop_params.best_params_['convergence_iter'],\n",
    "                           damping = aff_prop_params.best_params_['damping'],\n",
    "                           max_iter = aff_prop_params.best_params_['max_iter']\n",
    "                          ).fit(X)\n",
    "cluster = list(aff_prop_clustering.labels_)\n",
    "values, counts = np.unique(cluster, return_counts=True)      \n",
    "aff_prop_dataset = pd.DataFrame(X.copy())\n",
    "aff_prop_dataset.loc[:,'Cluster'] = aff_prop_clustering.labels_\n"
   ]
  },
  {
   "cell_type": "code",
   "execution_count": 99,
   "metadata": {},
   "outputs": [
    {
     "data": {
      "text/html": [
       "<div>\n",
       "<style scoped>\n",
       "    .dataframe tbody tr th:only-of-type {\n",
       "        vertical-align: middle;\n",
       "    }\n",
       "\n",
       "    .dataframe tbody tr th {\n",
       "        vertical-align: top;\n",
       "    }\n",
       "\n",
       "    .dataframe thead th {\n",
       "        text-align: right;\n",
       "    }\n",
       "</style>\n",
       "<table border=\"1\" class=\"dataframe\">\n",
       "  <thead>\n",
       "    <tr style=\"text-align: right;\">\n",
       "      <th></th>\n",
       "      <th>Cluster</th>\n",
       "    </tr>\n",
       "  </thead>\n",
       "  <tbody>\n",
       "    <tr>\n",
       "      <th>27</th>\n",
       "      <td>47</td>\n",
       "    </tr>\n",
       "    <tr>\n",
       "      <th>3</th>\n",
       "      <td>32</td>\n",
       "    </tr>\n",
       "    <tr>\n",
       "      <th>12</th>\n",
       "      <td>30</td>\n",
       "    </tr>\n",
       "    <tr>\n",
       "      <th>19</th>\n",
       "      <td>27</td>\n",
       "    </tr>\n",
       "    <tr>\n",
       "      <th>10</th>\n",
       "      <td>27</td>\n",
       "    </tr>\n",
       "    <tr>\n",
       "      <th>29</th>\n",
       "      <td>24</td>\n",
       "    </tr>\n",
       "    <tr>\n",
       "      <th>25</th>\n",
       "      <td>24</td>\n",
       "    </tr>\n",
       "    <tr>\n",
       "      <th>26</th>\n",
       "      <td>22</td>\n",
       "    </tr>\n",
       "    <tr>\n",
       "      <th>0</th>\n",
       "      <td>20</td>\n",
       "    </tr>\n",
       "    <tr>\n",
       "      <th>24</th>\n",
       "      <td>20</td>\n",
       "    </tr>\n",
       "    <tr>\n",
       "      <th>28</th>\n",
       "      <td>17</td>\n",
       "    </tr>\n",
       "    <tr>\n",
       "      <th>1</th>\n",
       "      <td>16</td>\n",
       "    </tr>\n",
       "    <tr>\n",
       "      <th>7</th>\n",
       "      <td>14</td>\n",
       "    </tr>\n",
       "    <tr>\n",
       "      <th>22</th>\n",
       "      <td>12</td>\n",
       "    </tr>\n",
       "    <tr>\n",
       "      <th>16</th>\n",
       "      <td>10</td>\n",
       "    </tr>\n",
       "    <tr>\n",
       "      <th>15</th>\n",
       "      <td>10</td>\n",
       "    </tr>\n",
       "    <tr>\n",
       "      <th>13</th>\n",
       "      <td>8</td>\n",
       "    </tr>\n",
       "    <tr>\n",
       "      <th>17</th>\n",
       "      <td>7</td>\n",
       "    </tr>\n",
       "    <tr>\n",
       "      <th>21</th>\n",
       "      <td>7</td>\n",
       "    </tr>\n",
       "    <tr>\n",
       "      <th>9</th>\n",
       "      <td>7</td>\n",
       "    </tr>\n",
       "    <tr>\n",
       "      <th>20</th>\n",
       "      <td>5</td>\n",
       "    </tr>\n",
       "    <tr>\n",
       "      <th>18</th>\n",
       "      <td>5</td>\n",
       "    </tr>\n",
       "    <tr>\n",
       "      <th>2</th>\n",
       "      <td>5</td>\n",
       "    </tr>\n",
       "    <tr>\n",
       "      <th>23</th>\n",
       "      <td>4</td>\n",
       "    </tr>\n",
       "    <tr>\n",
       "      <th>11</th>\n",
       "      <td>4</td>\n",
       "    </tr>\n",
       "    <tr>\n",
       "      <th>5</th>\n",
       "      <td>3</td>\n",
       "    </tr>\n",
       "    <tr>\n",
       "      <th>6</th>\n",
       "      <td>3</td>\n",
       "    </tr>\n",
       "    <tr>\n",
       "      <th>4</th>\n",
       "      <td>1</td>\n",
       "    </tr>\n",
       "    <tr>\n",
       "      <th>8</th>\n",
       "      <td>1</td>\n",
       "    </tr>\n",
       "    <tr>\n",
       "      <th>14</th>\n",
       "      <td>1</td>\n",
       "    </tr>\n",
       "  </tbody>\n",
       "</table>\n",
       "</div>"
      ],
      "text/plain": [
       "    Cluster\n",
       "27       47\n",
       "3        32\n",
       "12       30\n",
       "19       27\n",
       "10       27\n",
       "29       24\n",
       "25       24\n",
       "26       22\n",
       "0        20\n",
       "24       20\n",
       "28       17\n",
       "1        16\n",
       "7        14\n",
       "22       12\n",
       "16       10\n",
       "15       10\n",
       "13        8\n",
       "17        7\n",
       "21        7\n",
       "9         7\n",
       "20        5\n",
       "18        5\n",
       "2         5\n",
       "23        4\n",
       "11        4\n",
       "5         3\n",
       "6         3\n",
       "4         1\n",
       "8         1\n",
       "14        1"
      ]
     },
     "execution_count": 99,
     "metadata": {},
     "output_type": "execute_result"
    }
   ],
   "source": [
    "aff_prop_dataset.Cluster.value_counts().to_frame()"
   ]
  },
  {
   "cell_type": "code",
   "execution_count": 154,
   "metadata": {},
   "outputs": [
    {
     "data": {
      "text/html": [
       "<div>\n",
       "<style scoped>\n",
       "    .dataframe tbody tr th:only-of-type {\n",
       "        vertical-align: middle;\n",
       "    }\n",
       "\n",
       "    .dataframe tbody tr th {\n",
       "        vertical-align: top;\n",
       "    }\n",
       "\n",
       "    .dataframe thead th {\n",
       "        text-align: right;\n",
       "    }\n",
       "</style>\n",
       "<table border=\"1\" class=\"dataframe\">\n",
       "  <thead>\n",
       "    <tr style=\"text-align: right;\">\n",
       "      <th></th>\n",
       "      <th>silhouette_score</th>\n",
       "      <th>davies_bouldin_score</th>\n",
       "      <th>calinski_harabasz_score</th>\n",
       "    </tr>\n",
       "  </thead>\n",
       "  <tbody>\n",
       "    <tr>\n",
       "      <th>AffinityPropagation</th>\n",
       "      <td>0.351396</td>\n",
       "      <td>0.778284</td>\n",
       "      <td>249.266113</td>\n",
       "    </tr>\n",
       "  </tbody>\n",
       "</table>\n",
       "</div>"
      ],
      "text/plain": [
       "                     silhouette_score  davies_bouldin_score  \\\n",
       "AffinityPropagation          0.351396              0.778284   \n",
       "\n",
       "                     calinski_harabasz_score  \n",
       "AffinityPropagation               249.266113  "
      ]
     },
     "execution_count": 154,
     "metadata": {},
     "output_type": "execute_result"
    }
   ],
   "source": [
    "\n",
    "aff_prop_df = pd.DataFrame(estimator_evaluation(aff_prop_clustering, 'AffinityPropagation ', X), index=[\"AffinityPropagation\"])\n",
    "aff_prop_df"
   ]
  },
  {
   "cell_type": "code",
   "execution_count": 104,
   "metadata": {},
   "outputs": [
    {
     "data": {
      "application/vnd.plotly.v1+json": {
       "config": {
        "plotlyServerURL": "https://plot.ly"
       },
       "data": [
        {
         "hovertemplate": "color=b<br>x=%{x}<br>y=%{y}<br>z=%{z}<extra></extra>",
         "legendgroup": "b",
         "marker": {
          "color": "#636efa",
          "symbol": "circle"
         },
         "mode": "markers",
         "name": "b",
         "scene": "scene",
         "showlegend": true,
         "type": "scatter3d",
         "x": [
          -9.046331405639648,
          -10.454161643981934,
          -4.738011360168457,
          11.321849822998047,
          13.276442527770996,
          16.02425765991211,
          -22.20755386352539,
          16.76701545715332,
          -8.661247253417969,
          -14.191119194030762,
          17.71136474609375,
          13.700352668762207,
          -18.897409439086914,
          18.633831024169922,
          -19.66817855834961,
          10.462860107421875,
          -25.88500213623047,
          -26.178306579589844,
          -10.683236122131348,
          -19.863386154174805,
          -23.068599700927734,
          -57.99257278442383,
          -13.269302368164062,
          14.945371627807617,
          11.121540069580078,
          15.554095268249512,
          8.247428894042969,
          -14.375052452087402,
          19.019359588623047,
          11.015056610107422,
          9.853147506713867,
          -0.621317982673645,
          -28.311573028564453,
          -19.006839752197266,
          -25.504581451416016,
          -23.460344314575195,
          -14.88231372833252,
          -3.614997148513794,
          -5.959803581237793,
          -9.279520034790039,
          -3.1918282508850098,
          -4.283414840698242,
          -3.621323347091675,
          -7.73508358001709,
          13.93487548828125,
          10.402091026306152,
          18.040685653686523,
          -27.391080856323242,
          -23.714614868164062,
          -16.506053924560547,
          -27.496360778808594,
          9.197097778320312,
          7.662912845611572,
          -12.42553997039795,
          -24.610334396362305,
          -20.432270050048828,
          -12.43630599975586,
          -28.456457138061523,
          -30.104843139648438
         ],
         "y": [
          -1.5340672731399536,
          -0.41136372089385986,
          -9.65532398223877,
          -1.3009191751480103,
          -8.881010055541992,
          2.0357797145843506,
          -5.687689781188965,
          -5.8213324546813965,
          3.7726967334747314,
          4.940958499908447,
          -1.447306752204895,
          -6.779545783996582,
          -9.368785858154297,
          0.09213738888502121,
          -4.5717453956604,
          84.04073333740234,
          -3.6616997718811035,
          -0.9240994453430176,
          2.5020625591278076,
          -5.749551296234131,
          -7.033667087554932,
          -21.989362716674805,
          3.340461492538452,
          -2.5804948806762695,
          3.8352320194244385,
          -4.300848484039307,
          -0.40056312084198,
          2.525477409362793,
          -4.460450649261475,
          -6.902839660644531,
          -2.7594263553619385,
          27.08819580078125,
          -1.9303383827209473,
          -7.752499580383301,
          -2.6022753715515137,
          -5.642113208770752,
          1.6886509656906128,
          22.322906494140625,
          23.415254592895508,
          19.305889129638672,
          21.833450317382812,
          23.595195770263672,
          25.2569580078125,
          21.059579849243164,
          3.896430492401123,
          1.8799445629119873,
          -2.9506189823150635,
          2.518636465072632,
          -8.281861305236816,
          6.120848655700684,
          -0.5214413404464722,
          -1.6086217164993286,
          -1.374645471572876,
          -0.4895268678665161,
          -5.919886112213135,
          -4.845855236053467,
          1.2905257940292358,
          4.812404632568359,
          1.8874361515045166
         ],
         "z": [
          9.53197193145752,
          12.332613945007324,
          -6.757519721984863,
          -1.8719618320465088,
          -8.068865776062012,
          -3.682899236679077,
          -12.487892150878906,
          -3.1601366996765137,
          12.558052062988281,
          19.5771484375,
          -1.932456374168396,
          -4.287938117980957,
          4.913025856018066,
          -4.507615566253662,
          9.067113876342773,
          -113.68861389160156,
          -8.848250389099121,
          -10.323206901550293,
          13.307368278503418,
          -7.49458122253418,
          -7.182956695556641,
          -2.052159309387207,
          17.425508499145508,
          -2.9842734336853027,
          -5.464696884155273,
          -0.7461841106414795,
          0.9823704361915588,
          22.571170806884766,
          -2.1864142417907715,
          -4.362673282623291,
          3.3633463382720947,
          5.019114971160889,
          -8.905560493469238,
          7.166134357452393,
          -14.066394805908203,
          -5.073433876037598,
          19.84807014465332,
          -19.58296012878418,
          -19.00640106201172,
          -21.590850830078125,
          -22.172800064086914,
          -15.73551082611084,
          -18.42499351501465,
          -20.232154846191406,
          -3.5052919387817383,
          -4.040965557098389,
          -4.764647006988525,
          -8.6487398147583,
          -11.798802375793457,
          16.994056701660156,
          -6.521223068237305,
          -3.250072956085205,
          3.466610908508301,
          14.358805656433105,
          -12.759458541870117,
          5.988039016723633,
          21.24964141845703,
          -7.461827278137207,
          -8.295402526855469
         ]
        },
        {
         "hovertemplate": "color=y<br>x=%{x}<br>y=%{y}<br>z=%{z}<extra></extra>",
         "legendgroup": "y",
         "marker": {
          "color": "#EF553B",
          "symbol": "circle"
         },
         "mode": "markers",
         "name": "y",
         "scene": "scene",
         "showlegend": true,
         "type": "scatter3d",
         "x": [
          -11.44273853302002,
          -21.65359878540039,
          -19.475872039794922,
          -9.488744735717773,
          -15.647710800170898,
          -20.109895706176758,
          -20.876514434814453,
          -24.262834548950195,
          -21.5905704498291,
          14.17691421508789,
          -7.357227802276611,
          -20.44294548034668,
          -12.350040435791016,
          -13.450438499450684,
          -18.168781280517578,
          -16.78411102294922,
          -13.253026962280273,
          12.531632423400879,
          -17.906381607055664,
          -18.787124633789062,
          -16.58060073852539,
          -15.762643814086914,
          -15.083608627319336,
          -13.286153793334961,
          -24.12965202331543,
          -14.717876434326172,
          -21.889911651611328,
          -21.218069076538086,
          18.547761917114258,
          13.493264198303223,
          8.812419891357422,
          13.350851058959961,
          4.83257532119751,
          9.513137817382812,
          10.401054382324219,
          18.186777114868164,
          4.9118571281433105,
          16.083219528198242,
          15.475022315979004,
          16.06488609313965,
          13.101458549499512,
          7.995543956756592,
          8.362435340881348,
          6.7596116065979,
          8.086891174316406,
          14.3687162399292,
          13.235922813415527,
          16.051517486572266,
          17.606853485107422,
          20.71451187133789,
          15.759593963623047,
          13.836289405822754,
          13.254828453063965,
          13.890109062194824,
          17.452407836914062,
          9.965339660644531,
          18.30752944946289,
          -31.12976837158203,
          -14.563387870788574,
          -18.170169830322266,
          -17.349424362182617,
          14.23212718963623,
          -12.32091236114502,
          -10.412586212158203,
          -22.740121841430664,
          -16.267925262451172,
          -15.110689163208008,
          -16.786325454711914,
          -15.224557876586914,
          -8.314894676208496,
          -10.529463768005371,
          81.71478271484375,
          -16.529701232910156,
          -14.2475004196167,
          -16.467716217041016,
          -19.668596267700195,
          -23.11838722229004,
          -13.888901710510254,
          -23.40083122253418,
          -14.429879188537598,
          -6.855988025665283,
          -22.330543518066406
         ],
         "y": [
          6.574012279510498,
          -1.8590061664581299,
          14.269585609436035,
          12.495722770690918,
          6.600394248962402,
          6.11449670791626,
          -9.008581161499023,
          10.029695510864258,
          -8.03565502166748,
          11.354602813720703,
          -10.194954872131348,
          -9.152871131896973,
          -16.195659637451172,
          5.582106590270996,
          -15.532862663269043,
          12.868429183959961,
          -18.14061737060547,
          9.61036491394043,
          -13.614554405212402,
          -11.279043197631836,
          -17.94634246826172,
          -12.668383598327637,
          -15.212780952453613,
          15.482879638671875,
          8.066954612731934,
          9.195090293884277,
          11.262657165527344,
          -0.6396019458770752,
          19.438631057739258,
          18.347332000732422,
          24.42845916748047,
          21.177873611450195,
          25.66746711730957,
          26.06939125061035,
          20.899019241333008,
          16.71277618408203,
          26.7634334564209,
          20.295726776123047,
          22.766498565673828,
          19.271053314208984,
          22.861108779907227,
          25.139381408691406,
          24.887346267700195,
          23.109743118286133,
          23.162879943847656,
          17.209138870239258,
          19.369455337524414,
          19.982194900512695,
          15.942595481872559,
          17.44512939453125,
          16.474458694458008,
          25.27295684814453,
          16.27312469482422,
          19.294057846069336,
          18.47958755493164,
          24.088743209838867,
          14.953001976013184,
          30.665061950683594,
          1.7057619094848633,
          6.9911208152771,
          -15.012086868286133,
          7.279542446136475,
          13.581685066223145,
          -9.151679039001465,
          8.238428115844727,
          -17.075645446777344,
          -15.569133758544922,
          -14.138138771057129,
          14.127264022827148,
          -20.304887771606445,
          -17.843013763427734,
          -29.461854934692383,
          6.778666019439697,
          7.292974472045898,
          2.7330658435821533,
          -9.777782440185547,
          0.8874223232269287,
          4.893166542053223,
          12.11388111114502,
          13.049344062805176,
          -15.377307891845703,
          7.970026016235352
         ],
         "z": [
          9.57335376739502,
          7.666819095611572,
          4.1579461097717285,
          3.7845757007598877,
          1.5078284740447998,
          5.52886438369751,
          -9.853985786437988,
          10.561279296875,
          -4.591520309448242,
          -14.760540962219238,
          -7.0037713050842285,
          0.05062533915042877,
          -8.432863235473633,
          11.647521018981934,
          -2.98518705368042,
          5.040639877319336,
          -5.628282070159912,
          -15.422810554504395,
          3.721047878265381,
          1.8277684450149536,
          -2.833489179611206,
          1.9443696737289429,
          3.5505518913269043,
          9.468674659729004,
          8.126065254211426,
          1.4638711214065552,
          10.857026100158691,
          5.082404613494873,
          13.252649307250977,
          22.675012588500977,
          27.299192428588867,
          24.95664405822754,
          22.792659759521484,
          13.743245124816895,
          26.752721786499023,
          11.342402458190918,
          20.51203155517578,
          21.952720642089844,
          17.089073181152344,
          12.314346313476562,
          15.43603515625,
          23.748558044433594,
          18.252199172973633,
          26.17429542541504,
          21.968656539916992,
          25.394611358642578,
          27.261857986450195,
          16.699871063232422,
          13.858884811401367,
          14.245015144348145,
          22.3489990234375,
          15.859454154968262,
          20.31306266784668,
          18.110687255859375,
          24.162580490112305,
          20.00321388244629,
          24.23558235168457,
          56.71639633178711,
          4.736314296722412,
          7.289196968078613,
          0.43947523832321167,
          -16.000593185424805,
          7.953589916229248,
          -7.936706066131592,
          3.7034912109375,
          -5.947238445281982,
          -2.5538625717163086,
          -8.18108081817627,
          7.165168285369873,
          2.7587292194366455,
          -5.89098596572876,
          14.49571418762207,
          13.659467697143555,
          9.69638729095459,
          5.121372699737549,
          -5.427995681762695,
          7.203308582305908,
          4.5866312980651855,
          7.223876953125,
          10.430416107177734,
          -5.024855613708496,
          10.298796653747559
         ]
        },
        {
         "hovertemplate": "color=k<br>x=%{x}<br>y=%{y}<br>z=%{z}<extra></extra>",
         "legendgroup": "k",
         "marker": {
          "color": "#00cc96",
          "symbol": "circle"
         },
         "mode": "markers",
         "name": "k",
         "scene": "scene",
         "showlegend": true,
         "type": "scatter3d",
         "x": [
          4.739521503448486,
          6.842092037200928,
          3.140411615371704,
          -22.153762817382812,
          22.53696632385254,
          -30.420753479003906,
          14.787997245788574,
          11.562552452087402,
          8.892831802368164,
          6.428370475769043,
          5.847597122192383,
          0.8367011547088623,
          26.944141387939453,
          3.0134897232055664,
          -31.240564346313477,
          -3.2394230365753174,
          9.277685165405273,
          -2.1501715183258057,
          17.20548439025879,
          22.5817928314209,
          8.243086814880371,
          111.77555847167969,
          14.432371139526367,
          -16.37049674987793,
          5.461564064025879,
          5.218622207641602,
          9.420888900756836,
          12.615036964416504,
          -18.74449920654297,
          6.463624954223633,
          11.498507499694824,
          6.526896953582764,
          15.086762428283691,
          1.7243993282318115,
          1.4179623126983643,
          3.2501838207244873,
          1.0056315660476685,
          6.6485514640808105,
          0.013748791068792343,
          5.4363789558410645,
          3.0907816886901855,
          23.024507522583008,
          -29.085914611816406,
          -15.870013236999512,
          16.130596160888672,
          -18.17450523376465,
          18.37950325012207,
          24.572240829467773,
          15.709016799926758,
          18.174583435058594,
          20.06842041015625,
          5.719417095184326,
          18.981515884399414,
          14.255215644836426,
          18.608003616333008,
          18.554306030273438,
          5.053903579711914,
          -4.5065131187438965,
          0.11428079009056091,
          7.675745487213135,
          6.619262218475342,
          11.215337753295898,
          10.542902946472168
         ],
         "y": [
          -16.96223258972168,
          -22.95342445373535,
          -23.23505401611328,
          -8.684488296508789,
          -25.974454879760742,
          4.007169246673584,
          -27.792743682861328,
          -28.964563369750977,
          -29.941360473632812,
          -21.880420684814453,
          -31.05203628540039,
          -28.931198120117188,
          -25.50701141357422,
          -27.92346954345703,
          1.6657421588897705,
          -21.84109115600586,
          -27.648595809936523,
          -21.76734161376953,
          -24.692529678344727,
          -26.075510025024414,
          -27.36046600341797,
          -58.84355545043945,
          -26.56248664855957,
          -12.341777801513672,
          -24.06086540222168,
          -21.673030853271484,
          -26.912843704223633,
          -26.681859970092773,
          -10.724989891052246,
          -20.476518630981445,
          -26.4284610748291,
          -29.170372009277344,
          -24.349538803100586,
          28.669353485107422,
          28.447622299194336,
          31.066734313964844,
          30.533100128173828,
          27.265174865722656,
          31.576446533203125,
          28.021650314331055,
          28.206815719604492,
          -23.911819458007812,
          1.697472333908081,
          -12.633161544799805,
          -28.34609031677246,
          -13.768354415893555,
          -26.55345344543457,
          -25.807781219482422,
          -27.270830154418945,
          -20.029312133789062,
          -24.05599594116211,
          -25.375370025634766,
          -26.669729232788086,
          -23.83278465270996,
          -26.801891326904297,
          -24.029438018798828,
          -28.345773696899414,
          -21.025455474853516,
          -25.48404312133789,
          -28.423355102539062,
          -27.80733871459961,
          -26.994354248046875,
          -27.161678314208984
         ],
         "z": [
          -2.240938425064087,
          -0.8405643701553345,
          8.401768684387207,
          -14.838632583618164,
          8.165149688720703,
          -13.806991577148438,
          -7.052609443664551,
          -4.988108158111572,
          -9.2034912109375,
          7.539278507232666,
          -10.263843536376953,
          -4.311363220214844,
          -1.2434390783309937,
          -4.987863063812256,
          -14.27605152130127,
          2.7214672565460205,
          -7.884922504425049,
          5.646518230438232,
          1.6533063650131226,
          4.13508415222168,
          0.769481897354126,
          6.1671576499938965,
          1.9352059364318848,
          -20.49005126953125,
          5.8490471839904785,
          2.5402815341949463,
          5.901520252227783,
          6.338399410247803,
          -18.05573844909668,
          -2.2439353466033936,
          -4.9389448165893555,
          -11.780966758728027,
          6.261496067047119,
          12.067776679992676,
          7.7727131843566895,
          12.216638565063477,
          13.876070976257324,
          13.280891418457031,
          10.924113273620605,
          8.932872772216797,
          14.890569686889648,
          6.184932708740234,
          -15.567999839782715,
          -17.90410041809082,
          -4.997525691986084,
          -18.625900268554688,
          7.662232398986816,
          0.639200747013092,
          6.437554836273193,
          2.19386887550354,
          9.36857795715332,
          1.0783576965332031,
          4.690735340118408,
          1.6183968782424927,
          -5.616518020629883,
          6.383376598358154,
          0.4565325379371643,
          5.471328258514404,
          -2.2394731044769287,
          -4.7367777824401855,
          -1.6895893812179565,
          2.5832061767578125,
          -1.9154976606369019
         ]
        },
        {
         "hovertemplate": "color=c<br>x=%{x}<br>y=%{y}<br>z=%{z}<extra></extra>",
         "legendgroup": "c",
         "marker": {
          "color": "#ab63fa",
          "symbol": "circle"
         },
         "mode": "markers",
         "name": "c",
         "scene": "scene",
         "showlegend": true,
         "type": "scatter3d",
         "x": [
          17.40998649597168,
          -0.4006132185459137,
          -6.156496047973633,
          -7.681477069854736,
          -2.822824001312256,
          2.5159270763397217,
          -53.05295944213867,
          0.016933299601078033,
          -0.545369029045105,
          1.374219298362732,
          -3.1432130336761475,
          0.7296750545501709,
          4.769161224365234,
          -2.5581603050231934,
          -3.0637855529785156,
          -9.80859088897705,
          -13.466221809387207,
          -10.187676429748535,
          0.6889179944992065,
          1.712481141090393,
          -0.6079948544502258,
          -0.9830238819122314,
          21.915943145751953,
          -7.438316822052002,
          -5.632994174957275,
          -14.445272445678711,
          -2.2531309127807617,
          7.517563819885254,
          -0.3595922291278839,
          -2.5350711345672607,
          -4.403838634490967,
          9.77731704711914,
          119.45038604736328,
          9.068572044372559,
          6.902961730957031,
          6.600968837738037,
          7.064363956451416,
          1.8093584775924683,
          1.472746729850769,
          -0.9812009930610657,
          -0.874816358089447,
          0.70964515209198,
          -0.32087424397468567,
          -0.31290146708488464,
          0.025603393092751503,
          -20.30048179626465,
          -3.750126838684082,
          -4.586777210235596,
          5.7017621994018555,
          0.6293817758560181,
          -7.108649730682373,
          -7.577425479888916,
          2.730485677719116,
          -7.43548059463501,
          -5.046298503875732,
          3.2228384017944336,
          0.5755764842033386,
          0.003441551234573126,
          -6.40046501159668,
          -6.279848575592041,
          -6.693490982055664,
          -1.5615966320037842,
          -3.6409952640533447,
          -3.3407163619995117,
          1.61017644405365,
          -1.1181079149246216,
          -38.88062286376953,
          4.244079113006592,
          -9.578176498413086,
          1.9835727214813232,
          -11.758330345153809,
          0.1479852795600891,
          1.5827901363372803,
          -13.065000534057617,
          -13.370770454406738,
          -12.714818954467773,
          2.401414155960083,
          -4.486534118652344,
          2.0014686584472656,
          1.9760621786117554,
          -3.8100340366363525,
          -118.56483459472656,
          -8.659415245056152,
          -7.376601219177246,
          7.120086193084717,
          -6.825558662414551
         ],
         "y": [
          -27.497920989990234,
          -22.2428035736084,
          -9.86121654510498,
          -18.99390983581543,
          -23.76114273071289,
          -9.423970222473145,
          37.35771179199219,
          -5.769979476928711,
          -25.03753662109375,
          -5.082414150238037,
          -5.324719429016113,
          -11.88512134552002,
          -19.383331298828125,
          -20.32362174987793,
          -5.940124034881592,
          -19.58407974243164,
          -21.47683334350586,
          -17.478626251220703,
          -24.7843017578125,
          -11.221720695495605,
          -29.44001007080078,
          -24.91731071472168,
          39.07378387451172,
          -23.343299865722656,
          -20.94005584716797,
          8.181456565856934,
          -22.366670608520508,
          -18.474538803100586,
          -22.955080032348633,
          -26.301456451416016,
          -7.684845924377441,
          24.06299591064453,
          7.194135665893555,
          26.679622650146484,
          25.511371612548828,
          25.37563133239746,
          26.80156135559082,
          22.06984519958496,
          -6.569674491882324,
          -30.87407684326172,
          -7.214428901672363,
          -26.80893898010254,
          -20.635656356811523,
          -7.566712379455566,
          18.60495948791504,
          -28.36433219909668,
          10.715322494506836,
          19.285240173339844,
          12.136685371398926,
          9.47164249420166,
          16.607826232910156,
          14.708717346191406,
          7.6441755294799805,
          10.044224739074707,
          15.736417770385742,
          10.483235359191895,
          11.333802223205566,
          20.708059310913086,
          12.944133758544922,
          84.0194091796875,
          17.580738067626953,
          15.331459045410156,
          17.33540153503418,
          12.665172576904297,
          -20.019012451171875,
          -10.834845542907715,
          -42.25943374633789,
          -21.734424591064453,
          -21.46657943725586,
          -22.136302947998047,
          -19.037246704101562,
          -23.15620994567871,
          -6.201145648956299,
          -16.88687515258789,
          -20.73121452331543,
          -16.356306076049805,
          -10.200255393981934,
          -9.832568168640137,
          -19.4406681060791,
          -29.591922760009766,
          -11.261043548583984,
          127.60057067871094,
          -18.524980545043945,
          -18.08457374572754,
          -15.269906044006348,
          -21.48969841003418
         ],
         "z": [
          69.30937194824219,
          -2.7527353763580322,
          -9.284784317016602,
          6.62180233001709,
          -2.591778039932251,
          24.078472137451172,
          -21.51104736328125,
          20.080402374267578,
          -4.866749286651611,
          15.483501434326172,
          23.515975952148438,
          23.80101203918457,
          17.79243278503418,
          -3.1587657928466797,
          20.4993896484375,
          4.935474872589111,
          -12.604214668273926,
          7.238590240478516,
          -8.491902351379395,
          21.3786678314209,
          -7.104421615600586,
          -13.194361686706543,
          -4.9472527503967285,
          -11.71806812286377,
          -2.911102771759033,
          -12.232077598571777,
          12.24473762512207,
          19.872364044189453,
          14.250812530517578,
          -15.44753646850586,
          22.781843185424805,
          -2.504926919937134,
          44.78852462768555,
          -1.9826496839523315,
          -4.04365348815918,
          -1.0237042903900146,
          2.3010106086730957,
          6.766127586364746,
          28.894880294799805,
          -10.686809539794922,
          26.403093338012695,
          -10.579927444458008,
          10.200603485107422,
          23.4647274017334,
          -27.214284896850586,
          -7.306142330169678,
          -29.400466918945312,
          -25.388078689575195,
          -29.82846450805664,
          -31.175790786743164,
          -23.67688751220703,
          -26.91334342956543,
          -30.027124404907227,
          -29.289871215820312,
          -25.464258193969727,
          -30.204204559326172,
          -26.866342544555664,
          -24.95087432861328,
          -29.895977020263672,
          -56.28150939941406,
          -27.188945770263672,
          -29.1809139251709,
          -28.78260612487793,
          -31.68842887878418,
          14.7390775680542,
          26.403982162475586,
          -2.3947806358337402,
          19.44810676574707,
          -11.46469497680664,
          16.93238067626953,
          -11.598353385925293,
          10.59556770324707,
          25.822803497314453,
          -18.043947219848633,
          -9.59210205078125,
          5.716250896453857,
          26.957326889038086,
          26.437467575073242,
          18.731624603271484,
          -8.42005443572998,
          24.420547485351562,
          -251.31533813476562,
          -17.812402725219727,
          -4.953825950622559,
          -12.105224609375,
          -14.444012641906738
         ]
        },
        {
         "hovertemplate": "color=g<br>x=%{x}<br>y=%{y}<br>z=%{z}<extra></extra>",
         "legendgroup": "g",
         "marker": {
          "color": "#FFA15A",
          "symbol": "circle"
         },
         "mode": "markers",
         "name": "g",
         "scene": "scene",
         "showlegend": true,
         "type": "scatter3d",
         "x": [
          -9.10183048248291,
          -28.92538833618164,
          2.4186394214630127,
          -22.01750373840332,
          -23.4920711517334,
          -24.681163787841797,
          -0.4524790942668915,
          -7.665225505828857,
          -0.188185915350914,
          -3.0602657794952393,
          -24.23939323425293,
          -23.212451934814453,
          -7.3868279457092285,
          -4.03265380859375,
          -6.155820369720459,
          -3.4224536418914795,
          -1.1587519645690918,
          -5.748752593994141,
          -25.100772857666016,
          -27.306659698486328,
          -21.783063888549805,
          -21.875226974487305,
          -23.596887588500977,
          -7.556407928466797,
          -7.536221981048584,
          -6.913936614990234,
          -23.160602569580078,
          -21.653825759887695,
          -8.33598804473877,
          7.258779525756836,
          12.30667495727539,
          11.087596893310547,
          8.543438911437988,
          11.511897087097168,
          15.77588939666748,
          11.223855018615723,
          15.336697578430176,
          11.464186668395996,
          10.592700958251953,
          -27.26386833190918,
          -4.085951328277588,
          -0.09093213826417923,
          -0.8317543268203735,
          -5.500577926635742,
          -3.0499520301818848,
          -1.6689637899398804,
          -2.4795591831207275,
          -0.99972003698349,
          -2.5517489910125732,
          -3.098863363265991,
          0.9788944125175476,
          -5.2091169357299805,
          -0.15711086988449097,
          -1.053704023361206,
          1.8260059356689453,
          4.072630405426025,
          -21.71391487121582,
          -4.883203983306885,
          -28.16254997253418,
          -25.116653442382812,
          4.384600639343262,
          1.5435917377471924,
          -1.9002189636230469
         ],
         "y": [
          8.527955055236816,
          11.621274948120117,
          -0.994309663772583,
          14.901973724365234,
          14.155314445495605,
          11.801981925964355,
          2.9733541011810303,
          0.006850101985037327,
          0.7847827076911926,
          -0.4331987202167511,
          11.842206954956055,
          8.024569511413574,
          12.196139335632324,
          1.840895652770996,
          11.046630859375,
          2.1816976070404053,
          -0.23901543021202087,
          0.888896644115448,
          8.691638946533203,
          -0.9921901822090149,
          11.465152740478516,
          18.80419158935547,
          10.017218589782715,
          13.797632217407227,
          7.078225135803223,
          9.676780700683594,
          12.476180076599121,
          14.594732284545898,
          12.321738243103027,
          27.417020797729492,
          26.709463119506836,
          27.062894821166992,
          26.50107765197754,
          24.955141067504883,
          19.34834098815918,
          24.558584213256836,
          21.562110900878906,
          27.82818603515625,
          26.343551635742188,
          6.709972381591797,
          9.647178649902344,
          7.2958526611328125,
          9.390308380126953,
          12.460524559020996,
          5.917353630065918,
          4.942521095275879,
          8.140617370605469,
          3.9042539596557617,
          5.399032115936279,
          8.901036262512207,
          4.916201591491699,
          7.568490028381348,
          2.596472978591919,
          2.2233128547668457,
          -0.7338266968727112,
          0.2876308560371399,
          16.571168899536133,
          2.065192699432373,
          9.24581527709961,
          10.46846866607666,
          -1.563989281654358,
          -3.0066323280334473,
          1.8690766096115112
         ],
         "z": [
          9.218828201293945,
          -6.6117024421691895,
          10.754899978637695,
          -5.201469898223877,
          -2.65077805519104,
          -1.3568332195281982,
          3.1394717693328857,
          8.026867866516113,
          6.3451828956604,
          3.512901544570923,
          -6.007943153381348,
          -5.954563617706299,
          6.32472562789917,
          12.5286865234375,
          8.742948532104492,
          2.810516119003296,
          14.00421142578125,
          3.315058708190918,
          -3.0897409915924072,
          -16.835418701171875,
          -2.0804643630981445,
          -4.522883892059326,
          0.7807945609092712,
          2.7535386085510254,
          11.810522079467773,
          11.471514701843262,
          3.1034491062164307,
          1.4350652694702148,
          9.72375774383545,
          6.563780784606934,
          7.566989421844482,
          1.961452603340149,
          8.944665908813477,
          5.576523780822754,
          8.55448055267334,
          1.5774638652801514,
          9.747523307800293,
          4.978670597076416,
          11.108466148376465,
          -4.911586761474609,
          -21.08344841003418,
          -28.48909568786621,
          -26.021282196044922,
          -21.90737533569336,
          -30.127025604248047,
          -19.30973243713379,
          -22.706031799316406,
          -21.885900497436523,
          -23.80036735534668,
          -18.708662033081055,
          -19.455684661865234,
          -30.692829132080078,
          10.819082260131836,
          13.886260986328125,
          7.7279953956604,
          4.417971611022949,
          -2.706756114959717,
          9.563608169555664,
          -7.244292736053467,
          4.011509418487549,
          7.841527938842773,
          13.328204154968262,
          8.232715606689453
         ]
        },
        {
         "hovertemplate": "color=m<br>x=%{x}<br>y=%{y}<br>z=%{z}<extra></extra>",
         "legendgroup": "m",
         "marker": {
          "color": "#19d3f3",
          "symbol": "circle"
         },
         "mode": "markers",
         "name": "m",
         "scene": "scene",
         "showlegend": true,
         "type": "scatter3d",
         "x": [
          7.418874740600586,
          9.601218223571777,
          18.218494415283203,
          13.19835090637207,
          18.003067016601562,
          12.27123737335205,
          22.514066696166992,
          10.658899307250977,
          16.983154296875,
          21.045066833496094,
          24.951366424560547,
          -81.791015625,
          21.90608024597168,
          18.909774780273438,
          26.272008895874023,
          13.428407669067383,
          23.89085578918457,
          15.935079574584961,
          7.697423934936523,
          10.457977294921875,
          8.404837608337402,
          2.4415862560272217,
          2.8568315505981445,
          8.440875053405762,
          0.956437885761261,
          3.794647216796875,
          -3.913769245147705,
          18.96958351135254,
          24.344881057739258,
          17.46265983581543,
          9.216344833374023,
          21.596195220947266,
          17.605485916137695,
          22.327835083007812
         ],
         "y": [
          -15.746891975402832,
          -14.151230812072754,
          -9.869290351867676,
          -11.895366668701172,
          -16.246273040771484,
          -15.074109077453613,
          -15.876425743103027,
          -15.994688987731934,
          10.051630973815918,
          -13.033788681030273,
          -23.372880935668945,
          23.154285430908203,
          -17.896011352539062,
          -16.106048583984375,
          -24.703784942626953,
          -13.614950180053711,
          -22.3205509185791,
          -14.693780899047852,
          23.777769088745117,
          23.537660598754883,
          24.5936279296875,
          38.10472106933594,
          26.137174606323242,
          25.0205135345459,
          24.817502975463867,
          24.725154876708984,
          23.597152709960938,
          -12.694981575012207,
          -26.54743003845215,
          -15.665863990783691,
          -16.884567260742188,
          -13.283109664916992,
          -17.683881759643555,
          -24.919008255004883
         ],
         "z": [
          -1.793112874031067,
          -11.876882553100586,
          -0.12358630448579788,
          -7.9292988777160645,
          0.27207931876182556,
          -5.335000991821289,
          -4.340579032897949,
          -9.379570007324219,
          -14.801094055175781,
          -2.181363821029663,
          -2.1588146686553955,
          -184.99435424804688,
          -5.894814968109131,
          -5.415008544921875,
          -4.641134262084961,
          -3.654226303100586,
          -5.15687370300293,
          -6.177495956420898,
          -9.234328269958496,
          -9.666274070739746,
          -6.371634006500244,
          -36.83362579345703,
          -5.701615333557129,
          -11.646202087402344,
          -6.9477996826171875,
          -8.219059944152832,
          -12.802376747131348,
          -0.5304073095321655,
          -2.3520076274871826,
          -2.8336069583892822,
          -3.311398983001709,
          -5.340887069702148,
          2.593722105026245,
          -4.668911457061768
         ]
        },
        {
         "hovertemplate": "color=r<br>x=%{x}<br>y=%{y}<br>z=%{z}<extra></extra>",
         "legendgroup": "r",
         "marker": {
          "color": "#FF6692",
          "symbol": "circle"
         },
         "mode": "markers",
         "name": "r",
         "scene": "scene",
         "showlegend": true,
         "type": "scatter3d",
         "x": [
          9.751333236694336,
          10.16472339630127,
          12.718029975891113,
          -20.091787338256836,
          8.441187858581543,
          -17.8173885345459,
          -2.2214200496673584,
          -16.63210105895996,
          18.782182693481445,
          19.05466079711914,
          22.07903480529785,
          18.539997100830078,
          21.565509796142578,
          21.585609436035156,
          21.40593147277832,
          25.203134536743164,
          25.67900276184082,
          23.120141983032227,
          -6.767575740814209,
          -5.7214860916137695,
          -12.822087287902832,
          -4.615138053894043,
          -3.8456530570983887,
          -13.621132850646973,
          -17.727121353149414,
          8.769777297973633
         ],
         "y": [
          6.681643009185791,
          7.677053451538086,
          7.166856288909912,
          20.718265533447266,
          5.096437454223633,
          15.198331832885742,
          70.89799499511719,
          19.539522171020508,
          19.249290466308594,
          19.488147735595703,
          14.998286247253418,
          17.172903060913086,
          17.289831161499023,
          15.166069984436035,
          18.541912078857422,
          15.569816589355469,
          15.997166633605957,
          16.20000457763672,
          14.14824104309082,
          12.744651794433594,
          19.68012046813965,
          11.940206527709961,
          10.49262523651123,
          16.03583526611328,
          18.987165451049805,
          10.049779891967773
         ],
         "z": [
          -9.65349292755127,
          -11.978772163391113,
          -12.816399574279785,
          -2.8299262523651123,
          -8.221772193908691,
          -3.26471209526062,
          105.1537857055664,
          -5.789161682128906,
          6.158165454864502,
          1.5549989938735962,
          7.3862152099609375,
          4.797584533691406,
          5.751684188842773,
          11.83359432220459,
          1.785491704940796,
          7.073034286499023,
          3.857192277908325,
          9.819003105163574,
          -12.353919982910156,
          -15.349798202514648,
          -7.848945617675781,
          -13.192132949829102,
          -15.49812126159668,
          -2.4740195274353027,
          -2.43359112739563,
          -10.776073455810547
         ]
        }
       ],
       "layout": {
        "legend": {
         "title": {
          "text": "color"
         },
         "tracegroupgap": 0
        },
        "margin": {
         "t": 60
        },
        "scene": {
         "domain": {
          "x": [
           0,
           1
          ],
          "y": [
           0,
           1
          ]
         },
         "xaxis": {
          "title": {
           "text": "x"
          }
         },
         "yaxis": {
          "title": {
           "text": "y"
          }
         },
         "zaxis": {
          "title": {
           "text": "z"
          }
         }
        },
        "template": {
         "data": {
          "bar": [
           {
            "error_x": {
             "color": "#2a3f5f"
            },
            "error_y": {
             "color": "#2a3f5f"
            },
            "marker": {
             "line": {
              "color": "#E5ECF6",
              "width": 0.5
             },
             "pattern": {
              "fillmode": "overlay",
              "size": 10,
              "solidity": 0.2
             }
            },
            "type": "bar"
           }
          ],
          "barpolar": [
           {
            "marker": {
             "line": {
              "color": "#E5ECF6",
              "width": 0.5
             },
             "pattern": {
              "fillmode": "overlay",
              "size": 10,
              "solidity": 0.2
             }
            },
            "type": "barpolar"
           }
          ],
          "carpet": [
           {
            "aaxis": {
             "endlinecolor": "#2a3f5f",
             "gridcolor": "white",
             "linecolor": "white",
             "minorgridcolor": "white",
             "startlinecolor": "#2a3f5f"
            },
            "baxis": {
             "endlinecolor": "#2a3f5f",
             "gridcolor": "white",
             "linecolor": "white",
             "minorgridcolor": "white",
             "startlinecolor": "#2a3f5f"
            },
            "type": "carpet"
           }
          ],
          "choropleth": [
           {
            "colorbar": {
             "outlinewidth": 0,
             "ticks": ""
            },
            "type": "choropleth"
           }
          ],
          "contour": [
           {
            "colorbar": {
             "outlinewidth": 0,
             "ticks": ""
            },
            "colorscale": [
             [
              0,
              "#0d0887"
             ],
             [
              0.1111111111111111,
              "#46039f"
             ],
             [
              0.2222222222222222,
              "#7201a8"
             ],
             [
              0.3333333333333333,
              "#9c179e"
             ],
             [
              0.4444444444444444,
              "#bd3786"
             ],
             [
              0.5555555555555556,
              "#d8576b"
             ],
             [
              0.6666666666666666,
              "#ed7953"
             ],
             [
              0.7777777777777778,
              "#fb9f3a"
             ],
             [
              0.8888888888888888,
              "#fdca26"
             ],
             [
              1,
              "#f0f921"
             ]
            ],
            "type": "contour"
           }
          ],
          "contourcarpet": [
           {
            "colorbar": {
             "outlinewidth": 0,
             "ticks": ""
            },
            "type": "contourcarpet"
           }
          ],
          "heatmap": [
           {
            "colorbar": {
             "outlinewidth": 0,
             "ticks": ""
            },
            "colorscale": [
             [
              0,
              "#0d0887"
             ],
             [
              0.1111111111111111,
              "#46039f"
             ],
             [
              0.2222222222222222,
              "#7201a8"
             ],
             [
              0.3333333333333333,
              "#9c179e"
             ],
             [
              0.4444444444444444,
              "#bd3786"
             ],
             [
              0.5555555555555556,
              "#d8576b"
             ],
             [
              0.6666666666666666,
              "#ed7953"
             ],
             [
              0.7777777777777778,
              "#fb9f3a"
             ],
             [
              0.8888888888888888,
              "#fdca26"
             ],
             [
              1,
              "#f0f921"
             ]
            ],
            "type": "heatmap"
           }
          ],
          "heatmapgl": [
           {
            "colorbar": {
             "outlinewidth": 0,
             "ticks": ""
            },
            "colorscale": [
             [
              0,
              "#0d0887"
             ],
             [
              0.1111111111111111,
              "#46039f"
             ],
             [
              0.2222222222222222,
              "#7201a8"
             ],
             [
              0.3333333333333333,
              "#9c179e"
             ],
             [
              0.4444444444444444,
              "#bd3786"
             ],
             [
              0.5555555555555556,
              "#d8576b"
             ],
             [
              0.6666666666666666,
              "#ed7953"
             ],
             [
              0.7777777777777778,
              "#fb9f3a"
             ],
             [
              0.8888888888888888,
              "#fdca26"
             ],
             [
              1,
              "#f0f921"
             ]
            ],
            "type": "heatmapgl"
           }
          ],
          "histogram": [
           {
            "marker": {
             "pattern": {
              "fillmode": "overlay",
              "size": 10,
              "solidity": 0.2
             }
            },
            "type": "histogram"
           }
          ],
          "histogram2d": [
           {
            "colorbar": {
             "outlinewidth": 0,
             "ticks": ""
            },
            "colorscale": [
             [
              0,
              "#0d0887"
             ],
             [
              0.1111111111111111,
              "#46039f"
             ],
             [
              0.2222222222222222,
              "#7201a8"
             ],
             [
              0.3333333333333333,
              "#9c179e"
             ],
             [
              0.4444444444444444,
              "#bd3786"
             ],
             [
              0.5555555555555556,
              "#d8576b"
             ],
             [
              0.6666666666666666,
              "#ed7953"
             ],
             [
              0.7777777777777778,
              "#fb9f3a"
             ],
             [
              0.8888888888888888,
              "#fdca26"
             ],
             [
              1,
              "#f0f921"
             ]
            ],
            "type": "histogram2d"
           }
          ],
          "histogram2dcontour": [
           {
            "colorbar": {
             "outlinewidth": 0,
             "ticks": ""
            },
            "colorscale": [
             [
              0,
              "#0d0887"
             ],
             [
              0.1111111111111111,
              "#46039f"
             ],
             [
              0.2222222222222222,
              "#7201a8"
             ],
             [
              0.3333333333333333,
              "#9c179e"
             ],
             [
              0.4444444444444444,
              "#bd3786"
             ],
             [
              0.5555555555555556,
              "#d8576b"
             ],
             [
              0.6666666666666666,
              "#ed7953"
             ],
             [
              0.7777777777777778,
              "#fb9f3a"
             ],
             [
              0.8888888888888888,
              "#fdca26"
             ],
             [
              1,
              "#f0f921"
             ]
            ],
            "type": "histogram2dcontour"
           }
          ],
          "mesh3d": [
           {
            "colorbar": {
             "outlinewidth": 0,
             "ticks": ""
            },
            "type": "mesh3d"
           }
          ],
          "parcoords": [
           {
            "line": {
             "colorbar": {
              "outlinewidth": 0,
              "ticks": ""
             }
            },
            "type": "parcoords"
           }
          ],
          "pie": [
           {
            "automargin": true,
            "type": "pie"
           }
          ],
          "scatter": [
           {
            "fillpattern": {
             "fillmode": "overlay",
             "size": 10,
             "solidity": 0.2
            },
            "type": "scatter"
           }
          ],
          "scatter3d": [
           {
            "line": {
             "colorbar": {
              "outlinewidth": 0,
              "ticks": ""
             }
            },
            "marker": {
             "colorbar": {
              "outlinewidth": 0,
              "ticks": ""
             }
            },
            "type": "scatter3d"
           }
          ],
          "scattercarpet": [
           {
            "marker": {
             "colorbar": {
              "outlinewidth": 0,
              "ticks": ""
             }
            },
            "type": "scattercarpet"
           }
          ],
          "scattergeo": [
           {
            "marker": {
             "colorbar": {
              "outlinewidth": 0,
              "ticks": ""
             }
            },
            "type": "scattergeo"
           }
          ],
          "scattergl": [
           {
            "marker": {
             "colorbar": {
              "outlinewidth": 0,
              "ticks": ""
             }
            },
            "type": "scattergl"
           }
          ],
          "scattermapbox": [
           {
            "marker": {
             "colorbar": {
              "outlinewidth": 0,
              "ticks": ""
             }
            },
            "type": "scattermapbox"
           }
          ],
          "scatterpolar": [
           {
            "marker": {
             "colorbar": {
              "outlinewidth": 0,
              "ticks": ""
             }
            },
            "type": "scatterpolar"
           }
          ],
          "scatterpolargl": [
           {
            "marker": {
             "colorbar": {
              "outlinewidth": 0,
              "ticks": ""
             }
            },
            "type": "scatterpolargl"
           }
          ],
          "scatterternary": [
           {
            "marker": {
             "colorbar": {
              "outlinewidth": 0,
              "ticks": ""
             }
            },
            "type": "scatterternary"
           }
          ],
          "surface": [
           {
            "colorbar": {
             "outlinewidth": 0,
             "ticks": ""
            },
            "colorscale": [
             [
              0,
              "#0d0887"
             ],
             [
              0.1111111111111111,
              "#46039f"
             ],
             [
              0.2222222222222222,
              "#7201a8"
             ],
             [
              0.3333333333333333,
              "#9c179e"
             ],
             [
              0.4444444444444444,
              "#bd3786"
             ],
             [
              0.5555555555555556,
              "#d8576b"
             ],
             [
              0.6666666666666666,
              "#ed7953"
             ],
             [
              0.7777777777777778,
              "#fb9f3a"
             ],
             [
              0.8888888888888888,
              "#fdca26"
             ],
             [
              1,
              "#f0f921"
             ]
            ],
            "type": "surface"
           }
          ],
          "table": [
           {
            "cells": {
             "fill": {
              "color": "#EBF0F8"
             },
             "line": {
              "color": "white"
             }
            },
            "header": {
             "fill": {
              "color": "#C8D4E3"
             },
             "line": {
              "color": "white"
             }
            },
            "type": "table"
           }
          ]
         },
         "layout": {
          "annotationdefaults": {
           "arrowcolor": "#2a3f5f",
           "arrowhead": 0,
           "arrowwidth": 1
          },
          "autotypenumbers": "strict",
          "coloraxis": {
           "colorbar": {
            "outlinewidth": 0,
            "ticks": ""
           }
          },
          "colorscale": {
           "diverging": [
            [
             0,
             "#8e0152"
            ],
            [
             0.1,
             "#c51b7d"
            ],
            [
             0.2,
             "#de77ae"
            ],
            [
             0.3,
             "#f1b6da"
            ],
            [
             0.4,
             "#fde0ef"
            ],
            [
             0.5,
             "#f7f7f7"
            ],
            [
             0.6,
             "#e6f5d0"
            ],
            [
             0.7,
             "#b8e186"
            ],
            [
             0.8,
             "#7fbc41"
            ],
            [
             0.9,
             "#4d9221"
            ],
            [
             1,
             "#276419"
            ]
           ],
           "sequential": [
            [
             0,
             "#0d0887"
            ],
            [
             0.1111111111111111,
             "#46039f"
            ],
            [
             0.2222222222222222,
             "#7201a8"
            ],
            [
             0.3333333333333333,
             "#9c179e"
            ],
            [
             0.4444444444444444,
             "#bd3786"
            ],
            [
             0.5555555555555556,
             "#d8576b"
            ],
            [
             0.6666666666666666,
             "#ed7953"
            ],
            [
             0.7777777777777778,
             "#fb9f3a"
            ],
            [
             0.8888888888888888,
             "#fdca26"
            ],
            [
             1,
             "#f0f921"
            ]
           ],
           "sequentialminus": [
            [
             0,
             "#0d0887"
            ],
            [
             0.1111111111111111,
             "#46039f"
            ],
            [
             0.2222222222222222,
             "#7201a8"
            ],
            [
             0.3333333333333333,
             "#9c179e"
            ],
            [
             0.4444444444444444,
             "#bd3786"
            ],
            [
             0.5555555555555556,
             "#d8576b"
            ],
            [
             0.6666666666666666,
             "#ed7953"
            ],
            [
             0.7777777777777778,
             "#fb9f3a"
            ],
            [
             0.8888888888888888,
             "#fdca26"
            ],
            [
             1,
             "#f0f921"
            ]
           ]
          },
          "colorway": [
           "#636efa",
           "#EF553B",
           "#00cc96",
           "#ab63fa",
           "#FFA15A",
           "#19d3f3",
           "#FF6692",
           "#B6E880",
           "#FF97FF",
           "#FECB52"
          ],
          "font": {
           "color": "#2a3f5f"
          },
          "geo": {
           "bgcolor": "white",
           "lakecolor": "white",
           "landcolor": "#E5ECF6",
           "showlakes": true,
           "showland": true,
           "subunitcolor": "white"
          },
          "hoverlabel": {
           "align": "left"
          },
          "hovermode": "closest",
          "mapbox": {
           "style": "light"
          },
          "paper_bgcolor": "white",
          "plot_bgcolor": "#E5ECF6",
          "polar": {
           "angularaxis": {
            "gridcolor": "white",
            "linecolor": "white",
            "ticks": ""
           },
           "bgcolor": "#E5ECF6",
           "radialaxis": {
            "gridcolor": "white",
            "linecolor": "white",
            "ticks": ""
           }
          },
          "scene": {
           "xaxis": {
            "backgroundcolor": "#E5ECF6",
            "gridcolor": "white",
            "gridwidth": 2,
            "linecolor": "white",
            "showbackground": true,
            "ticks": "",
            "zerolinecolor": "white"
           },
           "yaxis": {
            "backgroundcolor": "#E5ECF6",
            "gridcolor": "white",
            "gridwidth": 2,
            "linecolor": "white",
            "showbackground": true,
            "ticks": "",
            "zerolinecolor": "white"
           },
           "zaxis": {
            "backgroundcolor": "#E5ECF6",
            "gridcolor": "white",
            "gridwidth": 2,
            "linecolor": "white",
            "showbackground": true,
            "ticks": "",
            "zerolinecolor": "white"
           }
          },
          "shapedefaults": {
           "line": {
            "color": "#2a3f5f"
           }
          },
          "ternary": {
           "aaxis": {
            "gridcolor": "white",
            "linecolor": "white",
            "ticks": ""
           },
           "baxis": {
            "gridcolor": "white",
            "linecolor": "white",
            "ticks": ""
           },
           "bgcolor": "#E5ECF6",
           "caxis": {
            "gridcolor": "white",
            "linecolor": "white",
            "ticks": ""
           }
          },
          "title": {
           "x": 0.05
          },
          "xaxis": {
           "automargin": true,
           "gridcolor": "white",
           "linecolor": "white",
           "ticks": "",
           "title": {
            "standoff": 15
           },
           "zerolinecolor": "white",
           "zerolinewidth": 2
          },
          "yaxis": {
           "automargin": true,
           "gridcolor": "white",
           "linecolor": "white",
           "ticks": "",
           "title": {
            "standoff": 15
           },
           "zerolinecolor": "white",
           "zerolinewidth": 2
          }
         }
        }
       }
      },
      "text/html": [
       "<div>                            <div id=\"2f85eb17-5d77-4d8f-b808-5304f268f01b\" class=\"plotly-graph-div\" style=\"height:525px; width:100%;\"></div>            <script type=\"text/javascript\">                require([\"plotly\"], function(Plotly) {                    window.PLOTLYENV=window.PLOTLYENV || {};                                    if (document.getElementById(\"2f85eb17-5d77-4d8f-b808-5304f268f01b\")) {                    Plotly.newPlot(                        \"2f85eb17-5d77-4d8f-b808-5304f268f01b\",                        [{\"hovertemplate\":\"color=b<br>x=%{x}<br>y=%{y}<br>z=%{z}<extra></extra>\",\"legendgroup\":\"b\",\"marker\":{\"color\":\"#636efa\",\"symbol\":\"circle\"},\"mode\":\"markers\",\"name\":\"b\",\"scene\":\"scene\",\"showlegend\":true,\"x\":[-9.046331405639648,-10.454161643981934,-4.738011360168457,11.321849822998047,13.276442527770996,16.02425765991211,-22.20755386352539,16.76701545715332,-8.661247253417969,-14.191119194030762,17.71136474609375,13.700352668762207,-18.897409439086914,18.633831024169922,-19.66817855834961,10.462860107421875,-25.88500213623047,-26.178306579589844,-10.683236122131348,-19.863386154174805,-23.068599700927734,-57.99257278442383,-13.269302368164062,14.945371627807617,11.121540069580078,15.554095268249512,8.247428894042969,-14.375052452087402,19.019359588623047,11.015056610107422,9.853147506713867,-0.621317982673645,-28.311573028564453,-19.006839752197266,-25.504581451416016,-23.460344314575195,-14.88231372833252,-3.614997148513794,-5.959803581237793,-9.279520034790039,-3.1918282508850098,-4.283414840698242,-3.621323347091675,-7.73508358001709,13.93487548828125,10.402091026306152,18.040685653686523,-27.391080856323242,-23.714614868164062,-16.506053924560547,-27.496360778808594,9.197097778320312,7.662912845611572,-12.42553997039795,-24.610334396362305,-20.432270050048828,-12.43630599975586,-28.456457138061523,-30.104843139648438],\"y\":[-1.5340672731399536,-0.41136372089385986,-9.65532398223877,-1.3009191751480103,-8.881010055541992,2.0357797145843506,-5.687689781188965,-5.8213324546813965,3.7726967334747314,4.940958499908447,-1.447306752204895,-6.779545783996582,-9.368785858154297,0.09213738888502121,-4.5717453956604,84.04073333740234,-3.6616997718811035,-0.9240994453430176,2.5020625591278076,-5.749551296234131,-7.033667087554932,-21.989362716674805,3.340461492538452,-2.5804948806762695,3.8352320194244385,-4.300848484039307,-0.40056312084198,2.525477409362793,-4.460450649261475,-6.902839660644531,-2.7594263553619385,27.08819580078125,-1.9303383827209473,-7.752499580383301,-2.6022753715515137,-5.642113208770752,1.6886509656906128,22.322906494140625,23.415254592895508,19.305889129638672,21.833450317382812,23.595195770263672,25.2569580078125,21.059579849243164,3.896430492401123,1.8799445629119873,-2.9506189823150635,2.518636465072632,-8.281861305236816,6.120848655700684,-0.5214413404464722,-1.6086217164993286,-1.374645471572876,-0.4895268678665161,-5.919886112213135,-4.845855236053467,1.2905257940292358,4.812404632568359,1.8874361515045166],\"z\":[9.53197193145752,12.332613945007324,-6.757519721984863,-1.8719618320465088,-8.068865776062012,-3.682899236679077,-12.487892150878906,-3.1601366996765137,12.558052062988281,19.5771484375,-1.932456374168396,-4.287938117980957,4.913025856018066,-4.507615566253662,9.067113876342773,-113.68861389160156,-8.848250389099121,-10.323206901550293,13.307368278503418,-7.49458122253418,-7.182956695556641,-2.052159309387207,17.425508499145508,-2.9842734336853027,-5.464696884155273,-0.7461841106414795,0.9823704361915588,22.571170806884766,-2.1864142417907715,-4.362673282623291,3.3633463382720947,5.019114971160889,-8.905560493469238,7.166134357452393,-14.066394805908203,-5.073433876037598,19.84807014465332,-19.58296012878418,-19.00640106201172,-21.590850830078125,-22.172800064086914,-15.73551082611084,-18.42499351501465,-20.232154846191406,-3.5052919387817383,-4.040965557098389,-4.764647006988525,-8.6487398147583,-11.798802375793457,16.994056701660156,-6.521223068237305,-3.250072956085205,3.466610908508301,14.358805656433105,-12.759458541870117,5.988039016723633,21.24964141845703,-7.461827278137207,-8.295402526855469],\"type\":\"scatter3d\"},{\"hovertemplate\":\"color=y<br>x=%{x}<br>y=%{y}<br>z=%{z}<extra></extra>\",\"legendgroup\":\"y\",\"marker\":{\"color\":\"#EF553B\",\"symbol\":\"circle\"},\"mode\":\"markers\",\"name\":\"y\",\"scene\":\"scene\",\"showlegend\":true,\"x\":[-11.44273853302002,-21.65359878540039,-19.475872039794922,-9.488744735717773,-15.647710800170898,-20.109895706176758,-20.876514434814453,-24.262834548950195,-21.5905704498291,14.17691421508789,-7.357227802276611,-20.44294548034668,-12.350040435791016,-13.450438499450684,-18.168781280517578,-16.78411102294922,-13.253026962280273,12.531632423400879,-17.906381607055664,-18.787124633789062,-16.58060073852539,-15.762643814086914,-15.083608627319336,-13.286153793334961,-24.12965202331543,-14.717876434326172,-21.889911651611328,-21.218069076538086,18.547761917114258,13.493264198303223,8.812419891357422,13.350851058959961,4.83257532119751,9.513137817382812,10.401054382324219,18.186777114868164,4.9118571281433105,16.083219528198242,15.475022315979004,16.06488609313965,13.101458549499512,7.995543956756592,8.362435340881348,6.7596116065979,8.086891174316406,14.3687162399292,13.235922813415527,16.051517486572266,17.606853485107422,20.71451187133789,15.759593963623047,13.836289405822754,13.254828453063965,13.890109062194824,17.452407836914062,9.965339660644531,18.30752944946289,-31.12976837158203,-14.563387870788574,-18.170169830322266,-17.349424362182617,14.23212718963623,-12.32091236114502,-10.412586212158203,-22.740121841430664,-16.267925262451172,-15.110689163208008,-16.786325454711914,-15.224557876586914,-8.314894676208496,-10.529463768005371,81.71478271484375,-16.529701232910156,-14.2475004196167,-16.467716217041016,-19.668596267700195,-23.11838722229004,-13.888901710510254,-23.40083122253418,-14.429879188537598,-6.855988025665283,-22.330543518066406],\"y\":[6.574012279510498,-1.8590061664581299,14.269585609436035,12.495722770690918,6.600394248962402,6.11449670791626,-9.008581161499023,10.029695510864258,-8.03565502166748,11.354602813720703,-10.194954872131348,-9.152871131896973,-16.195659637451172,5.582106590270996,-15.532862663269043,12.868429183959961,-18.14061737060547,9.61036491394043,-13.614554405212402,-11.279043197631836,-17.94634246826172,-12.668383598327637,-15.212780952453613,15.482879638671875,8.066954612731934,9.195090293884277,11.262657165527344,-0.6396019458770752,19.438631057739258,18.347332000732422,24.42845916748047,21.177873611450195,25.66746711730957,26.06939125061035,20.899019241333008,16.71277618408203,26.7634334564209,20.295726776123047,22.766498565673828,19.271053314208984,22.861108779907227,25.139381408691406,24.887346267700195,23.109743118286133,23.162879943847656,17.209138870239258,19.369455337524414,19.982194900512695,15.942595481872559,17.44512939453125,16.474458694458008,25.27295684814453,16.27312469482422,19.294057846069336,18.47958755493164,24.088743209838867,14.953001976013184,30.665061950683594,1.7057619094848633,6.9911208152771,-15.012086868286133,7.279542446136475,13.581685066223145,-9.151679039001465,8.238428115844727,-17.075645446777344,-15.569133758544922,-14.138138771057129,14.127264022827148,-20.304887771606445,-17.843013763427734,-29.461854934692383,6.778666019439697,7.292974472045898,2.7330658435821533,-9.777782440185547,0.8874223232269287,4.893166542053223,12.11388111114502,13.049344062805176,-15.377307891845703,7.970026016235352],\"z\":[9.57335376739502,7.666819095611572,4.1579461097717285,3.7845757007598877,1.5078284740447998,5.52886438369751,-9.853985786437988,10.561279296875,-4.591520309448242,-14.760540962219238,-7.0037713050842285,0.05062533915042877,-8.432863235473633,11.647521018981934,-2.98518705368042,5.040639877319336,-5.628282070159912,-15.422810554504395,3.721047878265381,1.8277684450149536,-2.833489179611206,1.9443696737289429,3.5505518913269043,9.468674659729004,8.126065254211426,1.4638711214065552,10.857026100158691,5.082404613494873,13.252649307250977,22.675012588500977,27.299192428588867,24.95664405822754,22.792659759521484,13.743245124816895,26.752721786499023,11.342402458190918,20.51203155517578,21.952720642089844,17.089073181152344,12.314346313476562,15.43603515625,23.748558044433594,18.252199172973633,26.17429542541504,21.968656539916992,25.394611358642578,27.261857986450195,16.699871063232422,13.858884811401367,14.245015144348145,22.3489990234375,15.859454154968262,20.31306266784668,18.110687255859375,24.162580490112305,20.00321388244629,24.23558235168457,56.71639633178711,4.736314296722412,7.289196968078613,0.43947523832321167,-16.000593185424805,7.953589916229248,-7.936706066131592,3.7034912109375,-5.947238445281982,-2.5538625717163086,-8.18108081817627,7.165168285369873,2.7587292194366455,-5.89098596572876,14.49571418762207,13.659467697143555,9.69638729095459,5.121372699737549,-5.427995681762695,7.203308582305908,4.5866312980651855,7.223876953125,10.430416107177734,-5.024855613708496,10.298796653747559],\"type\":\"scatter3d\"},{\"hovertemplate\":\"color=k<br>x=%{x}<br>y=%{y}<br>z=%{z}<extra></extra>\",\"legendgroup\":\"k\",\"marker\":{\"color\":\"#00cc96\",\"symbol\":\"circle\"},\"mode\":\"markers\",\"name\":\"k\",\"scene\":\"scene\",\"showlegend\":true,\"x\":[4.739521503448486,6.842092037200928,3.140411615371704,-22.153762817382812,22.53696632385254,-30.420753479003906,14.787997245788574,11.562552452087402,8.892831802368164,6.428370475769043,5.847597122192383,0.8367011547088623,26.944141387939453,3.0134897232055664,-31.240564346313477,-3.2394230365753174,9.277685165405273,-2.1501715183258057,17.20548439025879,22.5817928314209,8.243086814880371,111.77555847167969,14.432371139526367,-16.37049674987793,5.461564064025879,5.218622207641602,9.420888900756836,12.615036964416504,-18.74449920654297,6.463624954223633,11.498507499694824,6.526896953582764,15.086762428283691,1.7243993282318115,1.4179623126983643,3.2501838207244873,1.0056315660476685,6.6485514640808105,0.013748791068792343,5.4363789558410645,3.0907816886901855,23.024507522583008,-29.085914611816406,-15.870013236999512,16.130596160888672,-18.17450523376465,18.37950325012207,24.572240829467773,15.709016799926758,18.174583435058594,20.06842041015625,5.719417095184326,18.981515884399414,14.255215644836426,18.608003616333008,18.554306030273438,5.053903579711914,-4.5065131187438965,0.11428079009056091,7.675745487213135,6.619262218475342,11.215337753295898,10.542902946472168],\"y\":[-16.96223258972168,-22.95342445373535,-23.23505401611328,-8.684488296508789,-25.974454879760742,4.007169246673584,-27.792743682861328,-28.964563369750977,-29.941360473632812,-21.880420684814453,-31.05203628540039,-28.931198120117188,-25.50701141357422,-27.92346954345703,1.6657421588897705,-21.84109115600586,-27.648595809936523,-21.76734161376953,-24.692529678344727,-26.075510025024414,-27.36046600341797,-58.84355545043945,-26.56248664855957,-12.341777801513672,-24.06086540222168,-21.673030853271484,-26.912843704223633,-26.681859970092773,-10.724989891052246,-20.476518630981445,-26.4284610748291,-29.170372009277344,-24.349538803100586,28.669353485107422,28.447622299194336,31.066734313964844,30.533100128173828,27.265174865722656,31.576446533203125,28.021650314331055,28.206815719604492,-23.911819458007812,1.697472333908081,-12.633161544799805,-28.34609031677246,-13.768354415893555,-26.55345344543457,-25.807781219482422,-27.270830154418945,-20.029312133789062,-24.05599594116211,-25.375370025634766,-26.669729232788086,-23.83278465270996,-26.801891326904297,-24.029438018798828,-28.345773696899414,-21.025455474853516,-25.48404312133789,-28.423355102539062,-27.80733871459961,-26.994354248046875,-27.161678314208984],\"z\":[-2.240938425064087,-0.8405643701553345,8.401768684387207,-14.838632583618164,8.165149688720703,-13.806991577148438,-7.052609443664551,-4.988108158111572,-9.2034912109375,7.539278507232666,-10.263843536376953,-4.311363220214844,-1.2434390783309937,-4.987863063812256,-14.27605152130127,2.7214672565460205,-7.884922504425049,5.646518230438232,1.6533063650131226,4.13508415222168,0.769481897354126,6.1671576499938965,1.9352059364318848,-20.49005126953125,5.8490471839904785,2.5402815341949463,5.901520252227783,6.338399410247803,-18.05573844909668,-2.2439353466033936,-4.9389448165893555,-11.780966758728027,6.261496067047119,12.067776679992676,7.7727131843566895,12.216638565063477,13.876070976257324,13.280891418457031,10.924113273620605,8.932872772216797,14.890569686889648,6.184932708740234,-15.567999839782715,-17.90410041809082,-4.997525691986084,-18.625900268554688,7.662232398986816,0.639200747013092,6.437554836273193,2.19386887550354,9.36857795715332,1.0783576965332031,4.690735340118408,1.6183968782424927,-5.616518020629883,6.383376598358154,0.4565325379371643,5.471328258514404,-2.2394731044769287,-4.7367777824401855,-1.6895893812179565,2.5832061767578125,-1.9154976606369019],\"type\":\"scatter3d\"},{\"hovertemplate\":\"color=c<br>x=%{x}<br>y=%{y}<br>z=%{z}<extra></extra>\",\"legendgroup\":\"c\",\"marker\":{\"color\":\"#ab63fa\",\"symbol\":\"circle\"},\"mode\":\"markers\",\"name\":\"c\",\"scene\":\"scene\",\"showlegend\":true,\"x\":[17.40998649597168,-0.4006132185459137,-6.156496047973633,-7.681477069854736,-2.822824001312256,2.5159270763397217,-53.05295944213867,0.016933299601078033,-0.545369029045105,1.374219298362732,-3.1432130336761475,0.7296750545501709,4.769161224365234,-2.5581603050231934,-3.0637855529785156,-9.80859088897705,-13.466221809387207,-10.187676429748535,0.6889179944992065,1.712481141090393,-0.6079948544502258,-0.9830238819122314,21.915943145751953,-7.438316822052002,-5.632994174957275,-14.445272445678711,-2.2531309127807617,7.517563819885254,-0.3595922291278839,-2.5350711345672607,-4.403838634490967,9.77731704711914,119.45038604736328,9.068572044372559,6.902961730957031,6.600968837738037,7.064363956451416,1.8093584775924683,1.472746729850769,-0.9812009930610657,-0.874816358089447,0.70964515209198,-0.32087424397468567,-0.31290146708488464,0.025603393092751503,-20.30048179626465,-3.750126838684082,-4.586777210235596,5.7017621994018555,0.6293817758560181,-7.108649730682373,-7.577425479888916,2.730485677719116,-7.43548059463501,-5.046298503875732,3.2228384017944336,0.5755764842033386,0.003441551234573126,-6.40046501159668,-6.279848575592041,-6.693490982055664,-1.5615966320037842,-3.6409952640533447,-3.3407163619995117,1.61017644405365,-1.1181079149246216,-38.88062286376953,4.244079113006592,-9.578176498413086,1.9835727214813232,-11.758330345153809,0.1479852795600891,1.5827901363372803,-13.065000534057617,-13.370770454406738,-12.714818954467773,2.401414155960083,-4.486534118652344,2.0014686584472656,1.9760621786117554,-3.8100340366363525,-118.56483459472656,-8.659415245056152,-7.376601219177246,7.120086193084717,-6.825558662414551],\"y\":[-27.497920989990234,-22.2428035736084,-9.86121654510498,-18.99390983581543,-23.76114273071289,-9.423970222473145,37.35771179199219,-5.769979476928711,-25.03753662109375,-5.082414150238037,-5.324719429016113,-11.88512134552002,-19.383331298828125,-20.32362174987793,-5.940124034881592,-19.58407974243164,-21.47683334350586,-17.478626251220703,-24.7843017578125,-11.221720695495605,-29.44001007080078,-24.91731071472168,39.07378387451172,-23.343299865722656,-20.94005584716797,8.181456565856934,-22.366670608520508,-18.474538803100586,-22.955080032348633,-26.301456451416016,-7.684845924377441,24.06299591064453,7.194135665893555,26.679622650146484,25.511371612548828,25.37563133239746,26.80156135559082,22.06984519958496,-6.569674491882324,-30.87407684326172,-7.214428901672363,-26.80893898010254,-20.635656356811523,-7.566712379455566,18.60495948791504,-28.36433219909668,10.715322494506836,19.285240173339844,12.136685371398926,9.47164249420166,16.607826232910156,14.708717346191406,7.6441755294799805,10.044224739074707,15.736417770385742,10.483235359191895,11.333802223205566,20.708059310913086,12.944133758544922,84.0194091796875,17.580738067626953,15.331459045410156,17.33540153503418,12.665172576904297,-20.019012451171875,-10.834845542907715,-42.25943374633789,-21.734424591064453,-21.46657943725586,-22.136302947998047,-19.037246704101562,-23.15620994567871,-6.201145648956299,-16.88687515258789,-20.73121452331543,-16.356306076049805,-10.200255393981934,-9.832568168640137,-19.4406681060791,-29.591922760009766,-11.261043548583984,127.60057067871094,-18.524980545043945,-18.08457374572754,-15.269906044006348,-21.48969841003418],\"z\":[69.30937194824219,-2.7527353763580322,-9.284784317016602,6.62180233001709,-2.591778039932251,24.078472137451172,-21.51104736328125,20.080402374267578,-4.866749286651611,15.483501434326172,23.515975952148438,23.80101203918457,17.79243278503418,-3.1587657928466797,20.4993896484375,4.935474872589111,-12.604214668273926,7.238590240478516,-8.491902351379395,21.3786678314209,-7.104421615600586,-13.194361686706543,-4.9472527503967285,-11.71806812286377,-2.911102771759033,-12.232077598571777,12.24473762512207,19.872364044189453,14.250812530517578,-15.44753646850586,22.781843185424805,-2.504926919937134,44.78852462768555,-1.9826496839523315,-4.04365348815918,-1.0237042903900146,2.3010106086730957,6.766127586364746,28.894880294799805,-10.686809539794922,26.403093338012695,-10.579927444458008,10.200603485107422,23.4647274017334,-27.214284896850586,-7.306142330169678,-29.400466918945312,-25.388078689575195,-29.82846450805664,-31.175790786743164,-23.67688751220703,-26.91334342956543,-30.027124404907227,-29.289871215820312,-25.464258193969727,-30.204204559326172,-26.866342544555664,-24.95087432861328,-29.895977020263672,-56.28150939941406,-27.188945770263672,-29.1809139251709,-28.78260612487793,-31.68842887878418,14.7390775680542,26.403982162475586,-2.3947806358337402,19.44810676574707,-11.46469497680664,16.93238067626953,-11.598353385925293,10.59556770324707,25.822803497314453,-18.043947219848633,-9.59210205078125,5.716250896453857,26.957326889038086,26.437467575073242,18.731624603271484,-8.42005443572998,24.420547485351562,-251.31533813476562,-17.812402725219727,-4.953825950622559,-12.105224609375,-14.444012641906738],\"type\":\"scatter3d\"},{\"hovertemplate\":\"color=g<br>x=%{x}<br>y=%{y}<br>z=%{z}<extra></extra>\",\"legendgroup\":\"g\",\"marker\":{\"color\":\"#FFA15A\",\"symbol\":\"circle\"},\"mode\":\"markers\",\"name\":\"g\",\"scene\":\"scene\",\"showlegend\":true,\"x\":[-9.10183048248291,-28.92538833618164,2.4186394214630127,-22.01750373840332,-23.4920711517334,-24.681163787841797,-0.4524790942668915,-7.665225505828857,-0.188185915350914,-3.0602657794952393,-24.23939323425293,-23.212451934814453,-7.3868279457092285,-4.03265380859375,-6.155820369720459,-3.4224536418914795,-1.1587519645690918,-5.748752593994141,-25.100772857666016,-27.306659698486328,-21.783063888549805,-21.875226974487305,-23.596887588500977,-7.556407928466797,-7.536221981048584,-6.913936614990234,-23.160602569580078,-21.653825759887695,-8.33598804473877,7.258779525756836,12.30667495727539,11.087596893310547,8.543438911437988,11.511897087097168,15.77588939666748,11.223855018615723,15.336697578430176,11.464186668395996,10.592700958251953,-27.26386833190918,-4.085951328277588,-0.09093213826417923,-0.8317543268203735,-5.500577926635742,-3.0499520301818848,-1.6689637899398804,-2.4795591831207275,-0.99972003698349,-2.5517489910125732,-3.098863363265991,0.9788944125175476,-5.2091169357299805,-0.15711086988449097,-1.053704023361206,1.8260059356689453,4.072630405426025,-21.71391487121582,-4.883203983306885,-28.16254997253418,-25.116653442382812,4.384600639343262,1.5435917377471924,-1.9002189636230469],\"y\":[8.527955055236816,11.621274948120117,-0.994309663772583,14.901973724365234,14.155314445495605,11.801981925964355,2.9733541011810303,0.006850101985037327,0.7847827076911926,-0.4331987202167511,11.842206954956055,8.024569511413574,12.196139335632324,1.840895652770996,11.046630859375,2.1816976070404053,-0.23901543021202087,0.888896644115448,8.691638946533203,-0.9921901822090149,11.465152740478516,18.80419158935547,10.017218589782715,13.797632217407227,7.078225135803223,9.676780700683594,12.476180076599121,14.594732284545898,12.321738243103027,27.417020797729492,26.709463119506836,27.062894821166992,26.50107765197754,24.955141067504883,19.34834098815918,24.558584213256836,21.562110900878906,27.82818603515625,26.343551635742188,6.709972381591797,9.647178649902344,7.2958526611328125,9.390308380126953,12.460524559020996,5.917353630065918,4.942521095275879,8.140617370605469,3.9042539596557617,5.399032115936279,8.901036262512207,4.916201591491699,7.568490028381348,2.596472978591919,2.2233128547668457,-0.7338266968727112,0.2876308560371399,16.571168899536133,2.065192699432373,9.24581527709961,10.46846866607666,-1.563989281654358,-3.0066323280334473,1.8690766096115112],\"z\":[9.218828201293945,-6.6117024421691895,10.754899978637695,-5.201469898223877,-2.65077805519104,-1.3568332195281982,3.1394717693328857,8.026867866516113,6.3451828956604,3.512901544570923,-6.007943153381348,-5.954563617706299,6.32472562789917,12.5286865234375,8.742948532104492,2.810516119003296,14.00421142578125,3.315058708190918,-3.0897409915924072,-16.835418701171875,-2.0804643630981445,-4.522883892059326,0.7807945609092712,2.7535386085510254,11.810522079467773,11.471514701843262,3.1034491062164307,1.4350652694702148,9.72375774383545,6.563780784606934,7.566989421844482,1.961452603340149,8.944665908813477,5.576523780822754,8.55448055267334,1.5774638652801514,9.747523307800293,4.978670597076416,11.108466148376465,-4.911586761474609,-21.08344841003418,-28.48909568786621,-26.021282196044922,-21.90737533569336,-30.127025604248047,-19.30973243713379,-22.706031799316406,-21.885900497436523,-23.80036735534668,-18.708662033081055,-19.455684661865234,-30.692829132080078,10.819082260131836,13.886260986328125,7.7279953956604,4.417971611022949,-2.706756114959717,9.563608169555664,-7.244292736053467,4.011509418487549,7.841527938842773,13.328204154968262,8.232715606689453],\"type\":\"scatter3d\"},{\"hovertemplate\":\"color=m<br>x=%{x}<br>y=%{y}<br>z=%{z}<extra></extra>\",\"legendgroup\":\"m\",\"marker\":{\"color\":\"#19d3f3\",\"symbol\":\"circle\"},\"mode\":\"markers\",\"name\":\"m\",\"scene\":\"scene\",\"showlegend\":true,\"x\":[7.418874740600586,9.601218223571777,18.218494415283203,13.19835090637207,18.003067016601562,12.27123737335205,22.514066696166992,10.658899307250977,16.983154296875,21.045066833496094,24.951366424560547,-81.791015625,21.90608024597168,18.909774780273438,26.272008895874023,13.428407669067383,23.89085578918457,15.935079574584961,7.697423934936523,10.457977294921875,8.404837608337402,2.4415862560272217,2.8568315505981445,8.440875053405762,0.956437885761261,3.794647216796875,-3.913769245147705,18.96958351135254,24.344881057739258,17.46265983581543,9.216344833374023,21.596195220947266,17.605485916137695,22.327835083007812],\"y\":[-15.746891975402832,-14.151230812072754,-9.869290351867676,-11.895366668701172,-16.246273040771484,-15.074109077453613,-15.876425743103027,-15.994688987731934,10.051630973815918,-13.033788681030273,-23.372880935668945,23.154285430908203,-17.896011352539062,-16.106048583984375,-24.703784942626953,-13.614950180053711,-22.3205509185791,-14.693780899047852,23.777769088745117,23.537660598754883,24.5936279296875,38.10472106933594,26.137174606323242,25.0205135345459,24.817502975463867,24.725154876708984,23.597152709960938,-12.694981575012207,-26.54743003845215,-15.665863990783691,-16.884567260742188,-13.283109664916992,-17.683881759643555,-24.919008255004883],\"z\":[-1.793112874031067,-11.876882553100586,-0.12358630448579788,-7.9292988777160645,0.27207931876182556,-5.335000991821289,-4.340579032897949,-9.379570007324219,-14.801094055175781,-2.181363821029663,-2.1588146686553955,-184.99435424804688,-5.894814968109131,-5.415008544921875,-4.641134262084961,-3.654226303100586,-5.15687370300293,-6.177495956420898,-9.234328269958496,-9.666274070739746,-6.371634006500244,-36.83362579345703,-5.701615333557129,-11.646202087402344,-6.9477996826171875,-8.219059944152832,-12.802376747131348,-0.5304073095321655,-2.3520076274871826,-2.8336069583892822,-3.311398983001709,-5.340887069702148,2.593722105026245,-4.668911457061768],\"type\":\"scatter3d\"},{\"hovertemplate\":\"color=r<br>x=%{x}<br>y=%{y}<br>z=%{z}<extra></extra>\",\"legendgroup\":\"r\",\"marker\":{\"color\":\"#FF6692\",\"symbol\":\"circle\"},\"mode\":\"markers\",\"name\":\"r\",\"scene\":\"scene\",\"showlegend\":true,\"x\":[9.751333236694336,10.16472339630127,12.718029975891113,-20.091787338256836,8.441187858581543,-17.8173885345459,-2.2214200496673584,-16.63210105895996,18.782182693481445,19.05466079711914,22.07903480529785,18.539997100830078,21.565509796142578,21.585609436035156,21.40593147277832,25.203134536743164,25.67900276184082,23.120141983032227,-6.767575740814209,-5.7214860916137695,-12.822087287902832,-4.615138053894043,-3.8456530570983887,-13.621132850646973,-17.727121353149414,8.769777297973633],\"y\":[6.681643009185791,7.677053451538086,7.166856288909912,20.718265533447266,5.096437454223633,15.198331832885742,70.89799499511719,19.539522171020508,19.249290466308594,19.488147735595703,14.998286247253418,17.172903060913086,17.289831161499023,15.166069984436035,18.541912078857422,15.569816589355469,15.997166633605957,16.20000457763672,14.14824104309082,12.744651794433594,19.68012046813965,11.940206527709961,10.49262523651123,16.03583526611328,18.987165451049805,10.049779891967773],\"z\":[-9.65349292755127,-11.978772163391113,-12.816399574279785,-2.8299262523651123,-8.221772193908691,-3.26471209526062,105.1537857055664,-5.789161682128906,6.158165454864502,1.5549989938735962,7.3862152099609375,4.797584533691406,5.751684188842773,11.83359432220459,1.785491704940796,7.073034286499023,3.857192277908325,9.819003105163574,-12.353919982910156,-15.349798202514648,-7.848945617675781,-13.192132949829102,-15.49812126159668,-2.4740195274353027,-2.43359112739563,-10.776073455810547],\"type\":\"scatter3d\"}],                        {\"template\":{\"data\":{\"histogram2dcontour\":[{\"type\":\"histogram2dcontour\",\"colorbar\":{\"outlinewidth\":0,\"ticks\":\"\"},\"colorscale\":[[0.0,\"#0d0887\"],[0.1111111111111111,\"#46039f\"],[0.2222222222222222,\"#7201a8\"],[0.3333333333333333,\"#9c179e\"],[0.4444444444444444,\"#bd3786\"],[0.5555555555555556,\"#d8576b\"],[0.6666666666666666,\"#ed7953\"],[0.7777777777777778,\"#fb9f3a\"],[0.8888888888888888,\"#fdca26\"],[1.0,\"#f0f921\"]]}],\"choropleth\":[{\"type\":\"choropleth\",\"colorbar\":{\"outlinewidth\":0,\"ticks\":\"\"}}],\"histogram2d\":[{\"type\":\"histogram2d\",\"colorbar\":{\"outlinewidth\":0,\"ticks\":\"\"},\"colorscale\":[[0.0,\"#0d0887\"],[0.1111111111111111,\"#46039f\"],[0.2222222222222222,\"#7201a8\"],[0.3333333333333333,\"#9c179e\"],[0.4444444444444444,\"#bd3786\"],[0.5555555555555556,\"#d8576b\"],[0.6666666666666666,\"#ed7953\"],[0.7777777777777778,\"#fb9f3a\"],[0.8888888888888888,\"#fdca26\"],[1.0,\"#f0f921\"]]}],\"heatmap\":[{\"type\":\"heatmap\",\"colorbar\":{\"outlinewidth\":0,\"ticks\":\"\"},\"colorscale\":[[0.0,\"#0d0887\"],[0.1111111111111111,\"#46039f\"],[0.2222222222222222,\"#7201a8\"],[0.3333333333333333,\"#9c179e\"],[0.4444444444444444,\"#bd3786\"],[0.5555555555555556,\"#d8576b\"],[0.6666666666666666,\"#ed7953\"],[0.7777777777777778,\"#fb9f3a\"],[0.8888888888888888,\"#fdca26\"],[1.0,\"#f0f921\"]]}],\"heatmapgl\":[{\"type\":\"heatmapgl\",\"colorbar\":{\"outlinewidth\":0,\"ticks\":\"\"},\"colorscale\":[[0.0,\"#0d0887\"],[0.1111111111111111,\"#46039f\"],[0.2222222222222222,\"#7201a8\"],[0.3333333333333333,\"#9c179e\"],[0.4444444444444444,\"#bd3786\"],[0.5555555555555556,\"#d8576b\"],[0.6666666666666666,\"#ed7953\"],[0.7777777777777778,\"#fb9f3a\"],[0.8888888888888888,\"#fdca26\"],[1.0,\"#f0f921\"]]}],\"contourcarpet\":[{\"type\":\"contourcarpet\",\"colorbar\":{\"outlinewidth\":0,\"ticks\":\"\"}}],\"contour\":[{\"type\":\"contour\",\"colorbar\":{\"outlinewidth\":0,\"ticks\":\"\"},\"colorscale\":[[0.0,\"#0d0887\"],[0.1111111111111111,\"#46039f\"],[0.2222222222222222,\"#7201a8\"],[0.3333333333333333,\"#9c179e\"],[0.4444444444444444,\"#bd3786\"],[0.5555555555555556,\"#d8576b\"],[0.6666666666666666,\"#ed7953\"],[0.7777777777777778,\"#fb9f3a\"],[0.8888888888888888,\"#fdca26\"],[1.0,\"#f0f921\"]]}],\"surface\":[{\"type\":\"surface\",\"colorbar\":{\"outlinewidth\":0,\"ticks\":\"\"},\"colorscale\":[[0.0,\"#0d0887\"],[0.1111111111111111,\"#46039f\"],[0.2222222222222222,\"#7201a8\"],[0.3333333333333333,\"#9c179e\"],[0.4444444444444444,\"#bd3786\"],[0.5555555555555556,\"#d8576b\"],[0.6666666666666666,\"#ed7953\"],[0.7777777777777778,\"#fb9f3a\"],[0.8888888888888888,\"#fdca26\"],[1.0,\"#f0f921\"]]}],\"mesh3d\":[{\"type\":\"mesh3d\",\"colorbar\":{\"outlinewidth\":0,\"ticks\":\"\"}}],\"scatter\":[{\"fillpattern\":{\"fillmode\":\"overlay\",\"size\":10,\"solidity\":0.2},\"type\":\"scatter\"}],\"parcoords\":[{\"type\":\"parcoords\",\"line\":{\"colorbar\":{\"outlinewidth\":0,\"ticks\":\"\"}}}],\"scatterpolargl\":[{\"type\":\"scatterpolargl\",\"marker\":{\"colorbar\":{\"outlinewidth\":0,\"ticks\":\"\"}}}],\"bar\":[{\"error_x\":{\"color\":\"#2a3f5f\"},\"error_y\":{\"color\":\"#2a3f5f\"},\"marker\":{\"line\":{\"color\":\"#E5ECF6\",\"width\":0.5},\"pattern\":{\"fillmode\":\"overlay\",\"size\":10,\"solidity\":0.2}},\"type\":\"bar\"}],\"scattergeo\":[{\"type\":\"scattergeo\",\"marker\":{\"colorbar\":{\"outlinewidth\":0,\"ticks\":\"\"}}}],\"scatterpolar\":[{\"type\":\"scatterpolar\",\"marker\":{\"colorbar\":{\"outlinewidth\":0,\"ticks\":\"\"}}}],\"histogram\":[{\"marker\":{\"pattern\":{\"fillmode\":\"overlay\",\"size\":10,\"solidity\":0.2}},\"type\":\"histogram\"}],\"scattergl\":[{\"type\":\"scattergl\",\"marker\":{\"colorbar\":{\"outlinewidth\":0,\"ticks\":\"\"}}}],\"scatter3d\":[{\"type\":\"scatter3d\",\"line\":{\"colorbar\":{\"outlinewidth\":0,\"ticks\":\"\"}},\"marker\":{\"colorbar\":{\"outlinewidth\":0,\"ticks\":\"\"}}}],\"scattermapbox\":[{\"type\":\"scattermapbox\",\"marker\":{\"colorbar\":{\"outlinewidth\":0,\"ticks\":\"\"}}}],\"scatterternary\":[{\"type\":\"scatterternary\",\"marker\":{\"colorbar\":{\"outlinewidth\":0,\"ticks\":\"\"}}}],\"scattercarpet\":[{\"type\":\"scattercarpet\",\"marker\":{\"colorbar\":{\"outlinewidth\":0,\"ticks\":\"\"}}}],\"carpet\":[{\"aaxis\":{\"endlinecolor\":\"#2a3f5f\",\"gridcolor\":\"white\",\"linecolor\":\"white\",\"minorgridcolor\":\"white\",\"startlinecolor\":\"#2a3f5f\"},\"baxis\":{\"endlinecolor\":\"#2a3f5f\",\"gridcolor\":\"white\",\"linecolor\":\"white\",\"minorgridcolor\":\"white\",\"startlinecolor\":\"#2a3f5f\"},\"type\":\"carpet\"}],\"table\":[{\"cells\":{\"fill\":{\"color\":\"#EBF0F8\"},\"line\":{\"color\":\"white\"}},\"header\":{\"fill\":{\"color\":\"#C8D4E3\"},\"line\":{\"color\":\"white\"}},\"type\":\"table\"}],\"barpolar\":[{\"marker\":{\"line\":{\"color\":\"#E5ECF6\",\"width\":0.5},\"pattern\":{\"fillmode\":\"overlay\",\"size\":10,\"solidity\":0.2}},\"type\":\"barpolar\"}],\"pie\":[{\"automargin\":true,\"type\":\"pie\"}]},\"layout\":{\"autotypenumbers\":\"strict\",\"colorway\":[\"#636efa\",\"#EF553B\",\"#00cc96\",\"#ab63fa\",\"#FFA15A\",\"#19d3f3\",\"#FF6692\",\"#B6E880\",\"#FF97FF\",\"#FECB52\"],\"font\":{\"color\":\"#2a3f5f\"},\"hovermode\":\"closest\",\"hoverlabel\":{\"align\":\"left\"},\"paper_bgcolor\":\"white\",\"plot_bgcolor\":\"#E5ECF6\",\"polar\":{\"bgcolor\":\"#E5ECF6\",\"angularaxis\":{\"gridcolor\":\"white\",\"linecolor\":\"white\",\"ticks\":\"\"},\"radialaxis\":{\"gridcolor\":\"white\",\"linecolor\":\"white\",\"ticks\":\"\"}},\"ternary\":{\"bgcolor\":\"#E5ECF6\",\"aaxis\":{\"gridcolor\":\"white\",\"linecolor\":\"white\",\"ticks\":\"\"},\"baxis\":{\"gridcolor\":\"white\",\"linecolor\":\"white\",\"ticks\":\"\"},\"caxis\":{\"gridcolor\":\"white\",\"linecolor\":\"white\",\"ticks\":\"\"}},\"coloraxis\":{\"colorbar\":{\"outlinewidth\":0,\"ticks\":\"\"}},\"colorscale\":{\"sequential\":[[0.0,\"#0d0887\"],[0.1111111111111111,\"#46039f\"],[0.2222222222222222,\"#7201a8\"],[0.3333333333333333,\"#9c179e\"],[0.4444444444444444,\"#bd3786\"],[0.5555555555555556,\"#d8576b\"],[0.6666666666666666,\"#ed7953\"],[0.7777777777777778,\"#fb9f3a\"],[0.8888888888888888,\"#fdca26\"],[1.0,\"#f0f921\"]],\"sequentialminus\":[[0.0,\"#0d0887\"],[0.1111111111111111,\"#46039f\"],[0.2222222222222222,\"#7201a8\"],[0.3333333333333333,\"#9c179e\"],[0.4444444444444444,\"#bd3786\"],[0.5555555555555556,\"#d8576b\"],[0.6666666666666666,\"#ed7953\"],[0.7777777777777778,\"#fb9f3a\"],[0.8888888888888888,\"#fdca26\"],[1.0,\"#f0f921\"]],\"diverging\":[[0,\"#8e0152\"],[0.1,\"#c51b7d\"],[0.2,\"#de77ae\"],[0.3,\"#f1b6da\"],[0.4,\"#fde0ef\"],[0.5,\"#f7f7f7\"],[0.6,\"#e6f5d0\"],[0.7,\"#b8e186\"],[0.8,\"#7fbc41\"],[0.9,\"#4d9221\"],[1,\"#276419\"]]},\"xaxis\":{\"gridcolor\":\"white\",\"linecolor\":\"white\",\"ticks\":\"\",\"title\":{\"standoff\":15},\"zerolinecolor\":\"white\",\"automargin\":true,\"zerolinewidth\":2},\"yaxis\":{\"gridcolor\":\"white\",\"linecolor\":\"white\",\"ticks\":\"\",\"title\":{\"standoff\":15},\"zerolinecolor\":\"white\",\"automargin\":true,\"zerolinewidth\":2},\"scene\":{\"xaxis\":{\"backgroundcolor\":\"#E5ECF6\",\"gridcolor\":\"white\",\"linecolor\":\"white\",\"showbackground\":true,\"ticks\":\"\",\"zerolinecolor\":\"white\",\"gridwidth\":2},\"yaxis\":{\"backgroundcolor\":\"#E5ECF6\",\"gridcolor\":\"white\",\"linecolor\":\"white\",\"showbackground\":true,\"ticks\":\"\",\"zerolinecolor\":\"white\",\"gridwidth\":2},\"zaxis\":{\"backgroundcolor\":\"#E5ECF6\",\"gridcolor\":\"white\",\"linecolor\":\"white\",\"showbackground\":true,\"ticks\":\"\",\"zerolinecolor\":\"white\",\"gridwidth\":2}},\"shapedefaults\":{\"line\":{\"color\":\"#2a3f5f\"}},\"annotationdefaults\":{\"arrowcolor\":\"#2a3f5f\",\"arrowhead\":0,\"arrowwidth\":1},\"geo\":{\"bgcolor\":\"white\",\"landcolor\":\"#E5ECF6\",\"subunitcolor\":\"white\",\"showland\":true,\"showlakes\":true,\"lakecolor\":\"white\"},\"title\":{\"x\":0.05},\"mapbox\":{\"style\":\"light\"}}},\"scene\":{\"domain\":{\"x\":[0.0,1.0],\"y\":[0.0,1.0]},\"xaxis\":{\"title\":{\"text\":\"x\"}},\"yaxis\":{\"title\":{\"text\":\"y\"}},\"zaxis\":{\"title\":{\"text\":\"z\"}}},\"legend\":{\"title\":{\"text\":\"color\"},\"tracegroupgap\":0},\"margin\":{\"t\":60}},                        {\"responsive\": true}                    ).then(function(){\n",
       "                            \n",
       "var gd = document.getElementById('2f85eb17-5d77-4d8f-b808-5304f268f01b');\n",
       "var x = new MutationObserver(function (mutations, observer) {{\n",
       "        var display = window.getComputedStyle(gd).display;\n",
       "        if (!display || display === 'none') {{\n",
       "            console.log([gd, 'removed!']);\n",
       "            Plotly.purge(gd);\n",
       "            observer.disconnect();\n",
       "        }}\n",
       "}});\n",
       "\n",
       "// Listen for the removal of the full notebook cells\n",
       "var notebookContainer = gd.closest('#notebook-container');\n",
       "if (notebookContainer) {{\n",
       "    x.observe(notebookContainer, {childList: true});\n",
       "}}\n",
       "\n",
       "// Listen for the clearing of the current output cell\n",
       "var outputEl = gd.closest('.output');\n",
       "if (outputEl) {{\n",
       "    x.observe(outputEl, {childList: true});\n",
       "}}\n",
       "\n",
       "                        })                };                });            </script>        </div>"
      ]
     },
     "metadata": {},
     "output_type": "display_data"
    }
   ],
   "source": [
    "\n",
    "X_embedded  = TSNE(n_components=3, perplexity=10,random_state=24).fit_transform( X )\n",
    "colors = np.array([x for x in 'bgrcmykbgrcmykbgrcmykbgrcmykbg'])\n",
    "fig = px.scatter_3d(x=X_embedded [:,0],y=X_embedded [:,1],z=X_embedded [:,2],color=colors[aff_prop_clustering.labels_])\n",
    "fig.show()"
   ]
  },
  {
   "cell_type": "code",
   "execution_count": 157,
   "metadata": {},
   "outputs": [
    {
     "data": {
      "text/html": [
       "<div>\n",
       "<style scoped>\n",
       "    .dataframe tbody tr th:only-of-type {\n",
       "        vertical-align: middle;\n",
       "    }\n",
       "\n",
       "    .dataframe tbody tr th {\n",
       "        vertical-align: top;\n",
       "    }\n",
       "\n",
       "    .dataframe thead th {\n",
       "        text-align: right;\n",
       "    }\n",
       "</style>\n",
       "<table border=\"1\" class=\"dataframe\">\n",
       "  <thead>\n",
       "    <tr style=\"text-align: right;\">\n",
       "      <th></th>\n",
       "      <th>silhouette_score</th>\n",
       "      <th>davies_bouldin_score</th>\n",
       "      <th>calinski_harabasz_score</th>\n",
       "    </tr>\n",
       "  </thead>\n",
       "  <tbody>\n",
       "    <tr>\n",
       "      <th>Mini-Batch Kmean</th>\n",
       "      <td>0.442794</td>\n",
       "      <td>1.051217</td>\n",
       "      <td>254.891933</td>\n",
       "    </tr>\n",
       "    <tr>\n",
       "      <th>GaussianMixture</th>\n",
       "      <td>0.442794</td>\n",
       "      <td>1.051217</td>\n",
       "      <td>254.891933</td>\n",
       "    </tr>\n",
       "    <tr>\n",
       "      <th>BayesianGaussianMixture</th>\n",
       "      <td>0.442794</td>\n",
       "      <td>1.051217</td>\n",
       "      <td>254.891933</td>\n",
       "    </tr>\n",
       "    <tr>\n",
       "      <th>Agglomerative Clustering</th>\n",
       "      <td>0.636604</td>\n",
       "      <td>0.264461</td>\n",
       "      <td>11.806337</td>\n",
       "    </tr>\n",
       "    <tr>\n",
       "      <th>DBSCAN</th>\n",
       "      <td>0.300341</td>\n",
       "      <td>1.252488</td>\n",
       "      <td>125.775306</td>\n",
       "    </tr>\n",
       "    <tr>\n",
       "      <th>Optics</th>\n",
       "      <td>-0.261290</td>\n",
       "      <td>1.472163</td>\n",
       "      <td>14.314452</td>\n",
       "    </tr>\n",
       "    <tr>\n",
       "      <th>SpectralClustering</th>\n",
       "      <td>0.442794</td>\n",
       "      <td>1.051217</td>\n",
       "      <td>254.891933</td>\n",
       "    </tr>\n",
       "    <tr>\n",
       "      <th>AffinityPropagation</th>\n",
       "      <td>0.351396</td>\n",
       "      <td>0.778284</td>\n",
       "      <td>249.266113</td>\n",
       "    </tr>\n",
       "  </tbody>\n",
       "</table>\n",
       "</div>"
      ],
      "text/plain": [
       "                           silhouette_score  davies_bouldin_score  \\\n",
       "Mini-Batch Kmean                   0.442794              1.051217   \n",
       "GaussianMixture                    0.442794              1.051217   \n",
       "BayesianGaussianMixture            0.442794              1.051217   \n",
       "Agglomerative Clustering           0.636604              0.264461   \n",
       "DBSCAN                             0.300341              1.252488   \n",
       "Optics                            -0.261290              1.472163   \n",
       "SpectralClustering                 0.442794              1.051217   \n",
       "AffinityPropagation                0.351396              0.778284   \n",
       "\n",
       "                           calinski_harabasz_score  \n",
       "Mini-Batch Kmean                        254.891933  \n",
       "GaussianMixture                         254.891933  \n",
       "BayesianGaussianMixture                 254.891933  \n",
       "Agglomerative Clustering                 11.806337  \n",
       "DBSCAN                                  125.775306  \n",
       "Optics                                   14.314452  \n",
       "SpectralClustering                      254.891933  \n",
       "AffinityPropagation                     249.266113  "
      ]
     },
     "execution_count": 157,
     "metadata": {},
     "output_type": "execute_result"
    }
   ],
   "source": [
    "result = kmean_df.append([gmm_df, bgm_df, agg_df, dbscan_df,Optics_df, Spectral_df, aff_prop_df])\n",
    "result"
   ]
  },
  {
   "cell_type": "markdown",
   "metadata": {},
   "source": [
    "### Part 2  Performance Analysis:\n",
    "\n",
    "From the above result set of all those 7 models, we are able to conclude that for this analysis, choosing best algorithm would mainly be on the basis of Extrinsic measures.\n",
    "\n",
    "Silhoutte score, Calinski-Harabasz and Davies-Bouldin Index are not a good measure when comparing different types of clustering algorithms as these scores tend to be higher for density-based clustering algorithms, so it would not be fair to compare desnity based algorithm with other other types of clustering algorithms.\n",
    "\n",
    "As for the individual analysis, Silhoutte score, as expected, is higher for the DBSCAN which is 0.30, but it is highest for Agglomerative Clustering which is 0.63, also  while it is almost -0.26% for Optics, Optics has badly failed to analyze any of the similarity in the dataset and the clusters are not dense and well separated. It has almost shown most of the values as noise.\n",
    "\n",
    "Hence using all the measures, Gaussian Mixture Model Clustering, SpectralClustering, Bayesian Gaussian Mixture,and Agglomerative Clustering has given significantly higher score and performed better as compared to all other algorithms. Therefore, Gaussian Mixture Model Clustering, SpectralClustering, Bayesian Gaussian Mixture,and Agglomerative Clustering is the best possible clustering algorithm for this dataset."
   ]
  },
  {
   "cell_type": "code",
   "execution_count": null,
   "metadata": {},
   "outputs": [],
   "source": []
  },
  {
   "cell_type": "code",
   "execution_count": null,
   "metadata": {},
   "outputs": [],
   "source": []
  },
  {
   "cell_type": "code",
   "execution_count": null,
   "metadata": {},
   "outputs": [],
   "source": []
  }
 ],
 "metadata": {
  "kernelspec": {
   "display_name": "Python 3",
   "language": "python",
   "name": "python3"
  },
  "language_info": {
   "codemirror_mode": {
    "name": "ipython",
    "version": 3
   },
   "file_extension": ".py",
   "mimetype": "text/x-python",
   "name": "python",
   "nbconvert_exporter": "python",
   "pygments_lexer": "ipython3",
   "version": "3.8.5"
  }
 },
 "nbformat": 4,
 "nbformat_minor": 5
}
