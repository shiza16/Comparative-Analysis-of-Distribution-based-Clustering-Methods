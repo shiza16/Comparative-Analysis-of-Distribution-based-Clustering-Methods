{
 "cells": [
  {
   "cell_type": "markdown",
   "metadata": {},
   "source": [
    "# Data Dictionary\n",
    "\n",
    "The database can be downloaded from this [link](https://archive.ics.uci.edu/ml/datasets/Cervical+Cancer+Behavior+Risk)\n",
    "\n",
    "| Column   Position| Atrribute Name | Definition    | Data Type| Example | \n",
    "|---:|:-------------|:-----------|:-------------|:-----------|\n",
    "| 1 | behavior_sexualRisk | Eating Behaviour       | Quantitative | 1,2,3,4,..|\n",
    "| 2 | behavior_eating | Eating Behaviour       |  Quantitative | 1,2,3,4,..|\n",
    "| 3 | behavior_personalHygine  | Personal Hygine    |  Quantitative | 1,2,3,4,..|\n",
    "| 4 | intention_aggregation | N/A      |  Quantitative | 1,2,3,4,..|\n",
    "| 5 | behavior_personalHygine  | behavior_personalHygine of patient    |  Quantitative | 1,2,3,4,..|\n",
    "| 6 | attitude_consistency | attitude_consistency of patient          |  Quantitative | 1,2,3,4,..|\n",
    "| 7 | attitude_spontaneity  | attitude_spontaneity of patient        |  Quantitative | 1,2,3,4,..|\n",
    "| 8 | norm_significantPerson | N/A      |  Quantitative | 1,2,3,4,..|\n",
    "| 9 | norm_fulfillment  | N/A      |  Quantitative | 1,2,3,4,..|\n",
    "| 10 | perception_vulnerability | perception_vulnerability Behaviour of customer      |  Quantitative | 1,2,3,4,..|\n",
    "| 11 | perception_severity  | perception_severity of customer   |  Quantitative | 1,2,3,4,..|\n",
    "| 12 | motivation_strength | motivation_strength of customer    |  Quantitative | 1,2,3,4,..|\n",
    "| 13 | motivation_willingness  | motivation_willingness of customer    |  Quantitative | 1,2,3,4,..|\n",
    "| 14 | socialSupport_emotionality  | socialSupport_emotionality of customer    |  Quantitative | 1,2,3,4,..|\n",
    "| 15 | socialSupport_appreciation | socialSupport_appreciation  of customer   |  Quantitative | 1,2,3,4,..|\n",
    "| 16 | socialSupport_instrumental  | socialSupport_instrumental of customer   |  Quantitative | 1,2,3,4,..|\n",
    "| 17 | empowerment_knowledge | N/A       |  Quantitative | 1,2,3,4,..|\n",
    "| 18 | empowerment_abilities  | N/A   |  Quantitative | 1,2,3,4,..|\n",
    "| 19 | empowerment_desires | N/A      |  Quantitative | 1,2,3,4,..|\n",
    "| 20 | ca_cervix  | target variable with 0 (without cervical cancer) and 1 (with cervical cancer)    |  Quantitative | 1,0|\n"
   ]
  },
  {
   "cell_type": "code",
   "execution_count": 1,
   "metadata": {},
   "outputs": [],
   "source": [
    "import pandas as pd\n",
    "import numpy as np\n",
    "import matplotlib.pyplot as plt\n",
    "import seaborn as sns\n",
    "from sklearn.preprocessing import StandardScaler, OneHotEncoder, MinMaxScaler\n",
    "from sklearn.pipeline import Pipeline\n",
    "from sklearn.compose import ColumnTransformer\n",
    "from sklearn.manifold import TSNE\n",
    "import plotly.express as px\n",
    "from sklearn.metrics import silhouette_samples, silhouette_score, homogeneity_score, completeness_score, v_measure_score, adjusted_rand_score, adjusted_mutual_info_score, fowlkes_mallows_score\n",
    "from scipy.spatial import distance_matrix \n",
    "import time\n",
    "import sklearn.metrics as metrics\n",
    "from sklearn.cluster import MiniBatchKMeans, KMeans, AgglomerativeClustering, OPTICS, MeanShift, estimate_bandwidth, DBSCAN, AffinityPropagation ,SpectralClustering\n",
    "from sklearn.metrics.pairwise import pairwise_distances_argmin\n",
    "import scipy.cluster.hierarchy as hcluster\n",
    "from  scipy.cluster import hierarchy\n",
    "from sklearn.model_selection import GridSearchCV\n",
    "from sklearn.mixture import GaussianMixture, BayesianGaussianMixture\n",
    "import matplotlib.cm as cm\n",
    "import warnings\n",
    "warnings.filterwarnings('ignore')"
   ]
  },
  {
   "cell_type": "code",
   "execution_count": 2,
   "metadata": {},
   "outputs": [
    {
     "name": "stdout",
     "output_type": "stream",
     "text": [
      "data size : (72, 20) \n"
     ]
    }
   ],
   "source": [
    "df = pd.read_csv(\"data/cancer_cervical_risk.csv\")\n",
    "\n",
    "print(\"data size : {} \".format(df.shape))"
   ]
  },
  {
   "cell_type": "markdown",
   "metadata": {},
   "source": [
    "This dataset containes 72 and 20 columns."
   ]
  },
  {
   "cell_type": "code",
   "execution_count": 3,
   "metadata": {},
   "outputs": [
    {
     "data": {
      "text/html": [
       "<div>\n",
       "<style scoped>\n",
       "    .dataframe tbody tr th:only-of-type {\n",
       "        vertical-align: middle;\n",
       "    }\n",
       "\n",
       "    .dataframe tbody tr th {\n",
       "        vertical-align: top;\n",
       "    }\n",
       "\n",
       "    .dataframe thead th {\n",
       "        text-align: right;\n",
       "    }\n",
       "</style>\n",
       "<table border=\"1\" class=\"dataframe\">\n",
       "  <thead>\n",
       "    <tr style=\"text-align: right;\">\n",
       "      <th></th>\n",
       "      <th>behavior_sexualRisk</th>\n",
       "      <th>behavior_eating</th>\n",
       "      <th>behavior_personalHygine</th>\n",
       "      <th>intention_aggregation</th>\n",
       "      <th>intention_commitment</th>\n",
       "      <th>attitude_consistency</th>\n",
       "      <th>attitude_spontaneity</th>\n",
       "      <th>norm_significantPerson</th>\n",
       "      <th>norm_fulfillment</th>\n",
       "      <th>perception_vulnerability</th>\n",
       "      <th>perception_severity</th>\n",
       "      <th>motivation_strength</th>\n",
       "      <th>motivation_willingness</th>\n",
       "      <th>socialSupport_emotionality</th>\n",
       "      <th>socialSupport_appreciation</th>\n",
       "      <th>socialSupport_instrumental</th>\n",
       "      <th>empowerment_knowledge</th>\n",
       "      <th>empowerment_abilities</th>\n",
       "      <th>empowerment_desires</th>\n",
       "      <th>ca_cervix</th>\n",
       "    </tr>\n",
       "  </thead>\n",
       "  <tbody>\n",
       "    <tr>\n",
       "      <th>0</th>\n",
       "      <td>10</td>\n",
       "      <td>13</td>\n",
       "      <td>12</td>\n",
       "      <td>4</td>\n",
       "      <td>7</td>\n",
       "      <td>9</td>\n",
       "      <td>10</td>\n",
       "      <td>1</td>\n",
       "      <td>8</td>\n",
       "      <td>7</td>\n",
       "      <td>3</td>\n",
       "      <td>14</td>\n",
       "      <td>8</td>\n",
       "      <td>5</td>\n",
       "      <td>7</td>\n",
       "      <td>12</td>\n",
       "      <td>12</td>\n",
       "      <td>11</td>\n",
       "      <td>8</td>\n",
       "      <td>1</td>\n",
       "    </tr>\n",
       "    <tr>\n",
       "      <th>1</th>\n",
       "      <td>10</td>\n",
       "      <td>11</td>\n",
       "      <td>11</td>\n",
       "      <td>10</td>\n",
       "      <td>14</td>\n",
       "      <td>7</td>\n",
       "      <td>7</td>\n",
       "      <td>5</td>\n",
       "      <td>5</td>\n",
       "      <td>4</td>\n",
       "      <td>2</td>\n",
       "      <td>15</td>\n",
       "      <td>13</td>\n",
       "      <td>7</td>\n",
       "      <td>6</td>\n",
       "      <td>5</td>\n",
       "      <td>5</td>\n",
       "      <td>4</td>\n",
       "      <td>4</td>\n",
       "      <td>1</td>\n",
       "    </tr>\n",
       "    <tr>\n",
       "      <th>2</th>\n",
       "      <td>10</td>\n",
       "      <td>15</td>\n",
       "      <td>3</td>\n",
       "      <td>2</td>\n",
       "      <td>14</td>\n",
       "      <td>8</td>\n",
       "      <td>10</td>\n",
       "      <td>1</td>\n",
       "      <td>4</td>\n",
       "      <td>7</td>\n",
       "      <td>2</td>\n",
       "      <td>7</td>\n",
       "      <td>3</td>\n",
       "      <td>3</td>\n",
       "      <td>6</td>\n",
       "      <td>11</td>\n",
       "      <td>3</td>\n",
       "      <td>3</td>\n",
       "      <td>15</td>\n",
       "      <td>1</td>\n",
       "    </tr>\n",
       "    <tr>\n",
       "      <th>3</th>\n",
       "      <td>10</td>\n",
       "      <td>11</td>\n",
       "      <td>10</td>\n",
       "      <td>10</td>\n",
       "      <td>15</td>\n",
       "      <td>7</td>\n",
       "      <td>7</td>\n",
       "      <td>1</td>\n",
       "      <td>5</td>\n",
       "      <td>4</td>\n",
       "      <td>2</td>\n",
       "      <td>15</td>\n",
       "      <td>13</td>\n",
       "      <td>7</td>\n",
       "      <td>4</td>\n",
       "      <td>4</td>\n",
       "      <td>4</td>\n",
       "      <td>4</td>\n",
       "      <td>4</td>\n",
       "      <td>1</td>\n",
       "    </tr>\n",
       "    <tr>\n",
       "      <th>4</th>\n",
       "      <td>8</td>\n",
       "      <td>11</td>\n",
       "      <td>7</td>\n",
       "      <td>8</td>\n",
       "      <td>10</td>\n",
       "      <td>7</td>\n",
       "      <td>8</td>\n",
       "      <td>1</td>\n",
       "      <td>5</td>\n",
       "      <td>3</td>\n",
       "      <td>2</td>\n",
       "      <td>15</td>\n",
       "      <td>5</td>\n",
       "      <td>3</td>\n",
       "      <td>6</td>\n",
       "      <td>12</td>\n",
       "      <td>5</td>\n",
       "      <td>4</td>\n",
       "      <td>7</td>\n",
       "      <td>1</td>\n",
       "    </tr>\n",
       "  </tbody>\n",
       "</table>\n",
       "</div>"
      ],
      "text/plain": [
       "   behavior_sexualRisk  behavior_eating  behavior_personalHygine  \\\n",
       "0                   10               13                       12   \n",
       "1                   10               11                       11   \n",
       "2                   10               15                        3   \n",
       "3                   10               11                       10   \n",
       "4                    8               11                        7   \n",
       "\n",
       "   intention_aggregation  intention_commitment  attitude_consistency  \\\n",
       "0                      4                     7                     9   \n",
       "1                     10                    14                     7   \n",
       "2                      2                    14                     8   \n",
       "3                     10                    15                     7   \n",
       "4                      8                    10                     7   \n",
       "\n",
       "   attitude_spontaneity  norm_significantPerson  norm_fulfillment  \\\n",
       "0                    10                       1                 8   \n",
       "1                     7                       5                 5   \n",
       "2                    10                       1                 4   \n",
       "3                     7                       1                 5   \n",
       "4                     8                       1                 5   \n",
       "\n",
       "   perception_vulnerability  perception_severity  motivation_strength  \\\n",
       "0                         7                    3                   14   \n",
       "1                         4                    2                   15   \n",
       "2                         7                    2                    7   \n",
       "3                         4                    2                   15   \n",
       "4                         3                    2                   15   \n",
       "\n",
       "   motivation_willingness  socialSupport_emotionality  \\\n",
       "0                       8                           5   \n",
       "1                      13                           7   \n",
       "2                       3                           3   \n",
       "3                      13                           7   \n",
       "4                       5                           3   \n",
       "\n",
       "   socialSupport_appreciation  socialSupport_instrumental  \\\n",
       "0                           7                          12   \n",
       "1                           6                           5   \n",
       "2                           6                          11   \n",
       "3                           4                           4   \n",
       "4                           6                          12   \n",
       "\n",
       "   empowerment_knowledge  empowerment_abilities  empowerment_desires  \\\n",
       "0                     12                     11                    8   \n",
       "1                      5                      4                    4   \n",
       "2                      3                      3                   15   \n",
       "3                      4                      4                    4   \n",
       "4                      5                      4                    7   \n",
       "\n",
       "   ca_cervix  \n",
       "0          1  \n",
       "1          1  \n",
       "2          1  \n",
       "3          1  \n",
       "4          1  "
      ]
     },
     "execution_count": 3,
     "metadata": {},
     "output_type": "execute_result"
    }
   ],
   "source": [
    "df.head()"
   ]
  },
  {
   "cell_type": "code",
   "execution_count": 4,
   "metadata": {},
   "outputs": [
    {
     "name": "stdout",
     "output_type": "stream",
     "text": [
      "<class 'pandas.core.frame.DataFrame'>\n",
      "RangeIndex: 72 entries, 0 to 71\n",
      "Data columns (total 20 columns):\n",
      " #   Column                      Non-Null Count  Dtype\n",
      "---  ------                      --------------  -----\n",
      " 0   behavior_sexualRisk         72 non-null     int64\n",
      " 1   behavior_eating             72 non-null     int64\n",
      " 2   behavior_personalHygine     72 non-null     int64\n",
      " 3   intention_aggregation       72 non-null     int64\n",
      " 4   intention_commitment        72 non-null     int64\n",
      " 5   attitude_consistency        72 non-null     int64\n",
      " 6   attitude_spontaneity        72 non-null     int64\n",
      " 7   norm_significantPerson      72 non-null     int64\n",
      " 8   norm_fulfillment            72 non-null     int64\n",
      " 9   perception_vulnerability    72 non-null     int64\n",
      " 10  perception_severity         72 non-null     int64\n",
      " 11  motivation_strength         72 non-null     int64\n",
      " 12  motivation_willingness      72 non-null     int64\n",
      " 13  socialSupport_emotionality  72 non-null     int64\n",
      " 14  socialSupport_appreciation  72 non-null     int64\n",
      " 15  socialSupport_instrumental  72 non-null     int64\n",
      " 16  empowerment_knowledge       72 non-null     int64\n",
      " 17  empowerment_abilities       72 non-null     int64\n",
      " 18  empowerment_desires         72 non-null     int64\n",
      " 19  ca_cervix                   72 non-null     int64\n",
      "dtypes: int64(20)\n",
      "memory usage: 11.4 KB\n"
     ]
    }
   ],
   "source": [
    "df.info()"
   ]
  },
  {
   "cell_type": "markdown",
   "metadata": {},
   "source": [
    "We do not have any null values in the dataset, and all values are integer"
   ]
  },
  {
   "cell_type": "code",
   "execution_count": 5,
   "metadata": {},
   "outputs": [
    {
     "data": {
      "text/html": [
       "<div>\n",
       "<style scoped>\n",
       "    .dataframe tbody tr th:only-of-type {\n",
       "        vertical-align: middle;\n",
       "    }\n",
       "\n",
       "    .dataframe tbody tr th {\n",
       "        vertical-align: top;\n",
       "    }\n",
       "\n",
       "    .dataframe thead th {\n",
       "        text-align: right;\n",
       "    }\n",
       "</style>\n",
       "<table border=\"1\" class=\"dataframe\">\n",
       "  <thead>\n",
       "    <tr style=\"text-align: right;\">\n",
       "      <th></th>\n",
       "      <th>behavior_sexualRisk</th>\n",
       "      <th>behavior_eating</th>\n",
       "      <th>behavior_personalHygine</th>\n",
       "      <th>intention_aggregation</th>\n",
       "      <th>intention_commitment</th>\n",
       "      <th>attitude_consistency</th>\n",
       "      <th>attitude_spontaneity</th>\n",
       "      <th>norm_significantPerson</th>\n",
       "      <th>norm_fulfillment</th>\n",
       "      <th>perception_vulnerability</th>\n",
       "      <th>perception_severity</th>\n",
       "      <th>motivation_strength</th>\n",
       "      <th>motivation_willingness</th>\n",
       "      <th>socialSupport_emotionality</th>\n",
       "      <th>socialSupport_appreciation</th>\n",
       "      <th>socialSupport_instrumental</th>\n",
       "      <th>empowerment_knowledge</th>\n",
       "      <th>empowerment_abilities</th>\n",
       "      <th>empowerment_desires</th>\n",
       "      <th>ca_cervix</th>\n",
       "    </tr>\n",
       "  </thead>\n",
       "  <tbody>\n",
       "    <tr>\n",
       "      <th>count</th>\n",
       "      <td>72.000000</td>\n",
       "      <td>72.000000</td>\n",
       "      <td>72.000000</td>\n",
       "      <td>72.000000</td>\n",
       "      <td>72.000000</td>\n",
       "      <td>72.000000</td>\n",
       "      <td>72.000000</td>\n",
       "      <td>72.000000</td>\n",
       "      <td>72.000000</td>\n",
       "      <td>72.000000</td>\n",
       "      <td>72.000000</td>\n",
       "      <td>72.000000</td>\n",
       "      <td>72.000000</td>\n",
       "      <td>72.000000</td>\n",
       "      <td>72.000000</td>\n",
       "      <td>72.000000</td>\n",
       "      <td>72.000000</td>\n",
       "      <td>72.000000</td>\n",
       "      <td>72.000000</td>\n",
       "      <td>72.000000</td>\n",
       "    </tr>\n",
       "    <tr>\n",
       "      <th>mean</th>\n",
       "      <td>9.666667</td>\n",
       "      <td>12.791667</td>\n",
       "      <td>11.083333</td>\n",
       "      <td>7.902778</td>\n",
       "      <td>13.347222</td>\n",
       "      <td>7.180556</td>\n",
       "      <td>8.611111</td>\n",
       "      <td>3.125000</td>\n",
       "      <td>8.486111</td>\n",
       "      <td>8.513889</td>\n",
       "      <td>5.388889</td>\n",
       "      <td>12.652778</td>\n",
       "      <td>9.694444</td>\n",
       "      <td>8.097222</td>\n",
       "      <td>6.166667</td>\n",
       "      <td>10.375000</td>\n",
       "      <td>10.541667</td>\n",
       "      <td>9.319444</td>\n",
       "      <td>10.277778</td>\n",
       "      <td>0.291667</td>\n",
       "    </tr>\n",
       "    <tr>\n",
       "      <th>std</th>\n",
       "      <td>1.186782</td>\n",
       "      <td>2.361293</td>\n",
       "      <td>3.033847</td>\n",
       "      <td>2.738148</td>\n",
       "      <td>2.374511</td>\n",
       "      <td>1.522844</td>\n",
       "      <td>1.515698</td>\n",
       "      <td>1.845722</td>\n",
       "      <td>4.907577</td>\n",
       "      <td>4.275686</td>\n",
       "      <td>3.400727</td>\n",
       "      <td>3.207209</td>\n",
       "      <td>4.130406</td>\n",
       "      <td>4.243171</td>\n",
       "      <td>2.897303</td>\n",
       "      <td>4.316485</td>\n",
       "      <td>4.366768</td>\n",
       "      <td>4.181874</td>\n",
       "      <td>4.482273</td>\n",
       "      <td>0.457719</td>\n",
       "    </tr>\n",
       "    <tr>\n",
       "      <th>min</th>\n",
       "      <td>2.000000</td>\n",
       "      <td>3.000000</td>\n",
       "      <td>3.000000</td>\n",
       "      <td>2.000000</td>\n",
       "      <td>6.000000</td>\n",
       "      <td>2.000000</td>\n",
       "      <td>4.000000</td>\n",
       "      <td>1.000000</td>\n",
       "      <td>3.000000</td>\n",
       "      <td>3.000000</td>\n",
       "      <td>2.000000</td>\n",
       "      <td>3.000000</td>\n",
       "      <td>3.000000</td>\n",
       "      <td>3.000000</td>\n",
       "      <td>2.000000</td>\n",
       "      <td>3.000000</td>\n",
       "      <td>3.000000</td>\n",
       "      <td>3.000000</td>\n",
       "      <td>3.000000</td>\n",
       "      <td>0.000000</td>\n",
       "    </tr>\n",
       "    <tr>\n",
       "      <th>25%</th>\n",
       "      <td>10.000000</td>\n",
       "      <td>11.000000</td>\n",
       "      <td>9.000000</td>\n",
       "      <td>6.000000</td>\n",
       "      <td>11.000000</td>\n",
       "      <td>6.000000</td>\n",
       "      <td>8.000000</td>\n",
       "      <td>1.000000</td>\n",
       "      <td>3.000000</td>\n",
       "      <td>5.000000</td>\n",
       "      <td>2.000000</td>\n",
       "      <td>11.000000</td>\n",
       "      <td>7.000000</td>\n",
       "      <td>3.000000</td>\n",
       "      <td>3.750000</td>\n",
       "      <td>6.750000</td>\n",
       "      <td>7.000000</td>\n",
       "      <td>5.000000</td>\n",
       "      <td>6.750000</td>\n",
       "      <td>0.000000</td>\n",
       "    </tr>\n",
       "    <tr>\n",
       "      <th>50%</th>\n",
       "      <td>10.000000</td>\n",
       "      <td>13.000000</td>\n",
       "      <td>11.000000</td>\n",
       "      <td>10.000000</td>\n",
       "      <td>15.000000</td>\n",
       "      <td>7.000000</td>\n",
       "      <td>9.000000</td>\n",
       "      <td>3.000000</td>\n",
       "      <td>7.000000</td>\n",
       "      <td>8.000000</td>\n",
       "      <td>4.000000</td>\n",
       "      <td>14.000000</td>\n",
       "      <td>11.000000</td>\n",
       "      <td>9.000000</td>\n",
       "      <td>6.500000</td>\n",
       "      <td>12.000000</td>\n",
       "      <td>12.000000</td>\n",
       "      <td>10.000000</td>\n",
       "      <td>11.000000</td>\n",
       "      <td>0.000000</td>\n",
       "    </tr>\n",
       "    <tr>\n",
       "      <th>75%</th>\n",
       "      <td>10.000000</td>\n",
       "      <td>15.000000</td>\n",
       "      <td>14.000000</td>\n",
       "      <td>10.000000</td>\n",
       "      <td>15.000000</td>\n",
       "      <td>8.000000</td>\n",
       "      <td>10.000000</td>\n",
       "      <td>5.000000</td>\n",
       "      <td>14.000000</td>\n",
       "      <td>13.000000</td>\n",
       "      <td>9.000000</td>\n",
       "      <td>15.000000</td>\n",
       "      <td>13.000000</td>\n",
       "      <td>11.250000</td>\n",
       "      <td>9.000000</td>\n",
       "      <td>14.250000</td>\n",
       "      <td>15.000000</td>\n",
       "      <td>13.000000</td>\n",
       "      <td>15.000000</td>\n",
       "      <td>1.000000</td>\n",
       "    </tr>\n",
       "    <tr>\n",
       "      <th>max</th>\n",
       "      <td>10.000000</td>\n",
       "      <td>15.000000</td>\n",
       "      <td>15.000000</td>\n",
       "      <td>10.000000</td>\n",
       "      <td>15.000000</td>\n",
       "      <td>10.000000</td>\n",
       "      <td>10.000000</td>\n",
       "      <td>5.000000</td>\n",
       "      <td>15.000000</td>\n",
       "      <td>15.000000</td>\n",
       "      <td>10.000000</td>\n",
       "      <td>15.000000</td>\n",
       "      <td>15.000000</td>\n",
       "      <td>15.000000</td>\n",
       "      <td>10.000000</td>\n",
       "      <td>15.000000</td>\n",
       "      <td>15.000000</td>\n",
       "      <td>15.000000</td>\n",
       "      <td>15.000000</td>\n",
       "      <td>1.000000</td>\n",
       "    </tr>\n",
       "  </tbody>\n",
       "</table>\n",
       "</div>"
      ],
      "text/plain": [
       "       behavior_sexualRisk  behavior_eating  behavior_personalHygine  \\\n",
       "count            72.000000        72.000000                72.000000   \n",
       "mean              9.666667        12.791667                11.083333   \n",
       "std               1.186782         2.361293                 3.033847   \n",
       "min               2.000000         3.000000                 3.000000   \n",
       "25%              10.000000        11.000000                 9.000000   \n",
       "50%              10.000000        13.000000                11.000000   \n",
       "75%              10.000000        15.000000                14.000000   \n",
       "max              10.000000        15.000000                15.000000   \n",
       "\n",
       "       intention_aggregation  intention_commitment  attitude_consistency  \\\n",
       "count              72.000000             72.000000             72.000000   \n",
       "mean                7.902778             13.347222              7.180556   \n",
       "std                 2.738148              2.374511              1.522844   \n",
       "min                 2.000000              6.000000              2.000000   \n",
       "25%                 6.000000             11.000000              6.000000   \n",
       "50%                10.000000             15.000000              7.000000   \n",
       "75%                10.000000             15.000000              8.000000   \n",
       "max                10.000000             15.000000             10.000000   \n",
       "\n",
       "       attitude_spontaneity  norm_significantPerson  norm_fulfillment  \\\n",
       "count             72.000000               72.000000         72.000000   \n",
       "mean               8.611111                3.125000          8.486111   \n",
       "std                1.515698                1.845722          4.907577   \n",
       "min                4.000000                1.000000          3.000000   \n",
       "25%                8.000000                1.000000          3.000000   \n",
       "50%                9.000000                3.000000          7.000000   \n",
       "75%               10.000000                5.000000         14.000000   \n",
       "max               10.000000                5.000000         15.000000   \n",
       "\n",
       "       perception_vulnerability  perception_severity  motivation_strength  \\\n",
       "count                 72.000000            72.000000            72.000000   \n",
       "mean                   8.513889             5.388889            12.652778   \n",
       "std                    4.275686             3.400727             3.207209   \n",
       "min                    3.000000             2.000000             3.000000   \n",
       "25%                    5.000000             2.000000            11.000000   \n",
       "50%                    8.000000             4.000000            14.000000   \n",
       "75%                   13.000000             9.000000            15.000000   \n",
       "max                   15.000000            10.000000            15.000000   \n",
       "\n",
       "       motivation_willingness  socialSupport_emotionality  \\\n",
       "count               72.000000                   72.000000   \n",
       "mean                 9.694444                    8.097222   \n",
       "std                  4.130406                    4.243171   \n",
       "min                  3.000000                    3.000000   \n",
       "25%                  7.000000                    3.000000   \n",
       "50%                 11.000000                    9.000000   \n",
       "75%                 13.000000                   11.250000   \n",
       "max                 15.000000                   15.000000   \n",
       "\n",
       "       socialSupport_appreciation  socialSupport_instrumental  \\\n",
       "count                   72.000000                   72.000000   \n",
       "mean                     6.166667                   10.375000   \n",
       "std                      2.897303                    4.316485   \n",
       "min                      2.000000                    3.000000   \n",
       "25%                      3.750000                    6.750000   \n",
       "50%                      6.500000                   12.000000   \n",
       "75%                      9.000000                   14.250000   \n",
       "max                     10.000000                   15.000000   \n",
       "\n",
       "       empowerment_knowledge  empowerment_abilities  empowerment_desires  \\\n",
       "count              72.000000              72.000000            72.000000   \n",
       "mean               10.541667               9.319444            10.277778   \n",
       "std                 4.366768               4.181874             4.482273   \n",
       "min                 3.000000               3.000000             3.000000   \n",
       "25%                 7.000000               5.000000             6.750000   \n",
       "50%                12.000000              10.000000            11.000000   \n",
       "75%                15.000000              13.000000            15.000000   \n",
       "max                15.000000              15.000000            15.000000   \n",
       "\n",
       "       ca_cervix  \n",
       "count  72.000000  \n",
       "mean    0.291667  \n",
       "std     0.457719  \n",
       "min     0.000000  \n",
       "25%     0.000000  \n",
       "50%     0.000000  \n",
       "75%     1.000000  \n",
       "max     1.000000  "
      ]
     },
     "execution_count": 5,
     "metadata": {},
     "output_type": "execute_result"
    }
   ],
   "source": [
    "df.describe()"
   ]
  },
  {
   "cell_type": "markdown",
   "metadata": {},
   "source": [
    "From the above data set described information, it can be observed that there are no missing values in the data and since the data is already in the integer form, so we are not required the data preprocessing steps and we are assuming that it has already been completed."
   ]
  },
  {
   "cell_type": "code",
   "execution_count": 6,
   "metadata": {},
   "outputs": [
    {
     "data": {
      "image/png": "[encoded data removed]",
      "text/plain": [
       "<Figure size 1080x288 with 1 Axes>"
      ]
     },
     "metadata": {
      "needs_background": "light"
     },
     "output_type": "display_data"
    }
   ],
   "source": [
    "plt.figure(1 , figsize = (15 , 4))\n",
    "color_palette = [\"#FA5858\", \"#58D3F7\", \"#704041\", \"#f5c3c4\"]\n",
    "sns.countplot(y = 'ca_cervix' , data = df, palette = color_palette)\n",
    "plt.show()"
   ]
  },
  {
   "cell_type": "markdown",
   "metadata": {},
   "source": [
    "we have more data of non-cancerous people than cancerous people in our dataset."
   ]
  },
  {
   "cell_type": "markdown",
   "metadata": {},
   "source": [
    "#####  ploting distribution of numerical attributes"
   ]
  },
  {
   "cell_type": "code",
   "execution_count": 8,
   "metadata": {},
   "outputs": [
    {
     "data": {
      "image/png": "[encoded data removed]",
      "text/plain": [
       "<Figure size 1440x1440 with 7 Axes>"
      ]
     },
     "metadata": {
      "needs_background": "light"
     },
     "output_type": "display_data"
    }
   ],
   "source": [
    "numerical_attributes_plot_distrbution(df)"
   ]
  },
  {
   "cell_type": "markdown",
   "metadata": {},
   "source": [
    "#### Checking for Outliers\n",
    "\n",
    "Here we are checking for all the outliers, by getting each variable upper and lower extream values and replacing all the outliers balues to their respective mean values"
   ]
  },
  {
   "cell_type": "code",
   "execution_count": 12,
   "metadata": {},
   "outputs": [
    {
     "data": {
      "text/plain": [
       "72"
      ]
     },
     "execution_count": 12,
     "metadata": {},
     "output_type": "execute_result"
    }
   ],
   "source": [
    "cleaned_data = process_outliers(df)\n",
    "len(cleaned_data)"
   ]
  },
  {
   "cell_type": "markdown",
   "metadata": {},
   "source": [
    "Here we are scaling the data for reducing the dimensionality of the dataset"
   ]
  },
  {
   "cell_type": "code",
   "execution_count": 14,
   "metadata": {},
   "outputs": [
    {
     "data": {
      "text/html": [
       "<div>\n",
       "<style scoped>\n",
       "    .dataframe tbody tr th:only-of-type {\n",
       "        vertical-align: middle;\n",
       "    }\n",
       "\n",
       "    .dataframe tbody tr th {\n",
       "        vertical-align: top;\n",
       "    }\n",
       "\n",
       "    .dataframe thead th {\n",
       "        text-align: right;\n",
       "    }\n",
       "</style>\n",
       "<table border=\"1\" class=\"dataframe\">\n",
       "  <thead>\n",
       "    <tr style=\"text-align: right;\">\n",
       "      <th></th>\n",
       "      <th>behavior_sexualRisk</th>\n",
       "      <th>behavior_eating</th>\n",
       "      <th>behavior_personalHygine</th>\n",
       "      <th>intention_aggregation</th>\n",
       "      <th>intention_commitment</th>\n",
       "      <th>attitude_consistency</th>\n",
       "      <th>attitude_spontaneity</th>\n",
       "      <th>norm_significantPerson</th>\n",
       "      <th>norm_fulfillment</th>\n",
       "      <th>perception_vulnerability</th>\n",
       "      <th>perception_severity</th>\n",
       "      <th>motivation_strength</th>\n",
       "      <th>motivation_willingness</th>\n",
       "      <th>socialSupport_emotionality</th>\n",
       "      <th>socialSupport_appreciation</th>\n",
       "      <th>socialSupport_instrumental</th>\n",
       "      <th>empowerment_knowledge</th>\n",
       "      <th>empowerment_abilities</th>\n",
       "      <th>empowerment_desires</th>\n",
       "      <th>ca_cervix</th>\n",
       "    </tr>\n",
       "  </thead>\n",
       "  <tbody>\n",
       "    <tr>\n",
       "      <th>0</th>\n",
       "      <td>1.0</td>\n",
       "      <td>0.866667</td>\n",
       "      <td>0.800000</td>\n",
       "      <td>0.4</td>\n",
       "      <td>0.466667</td>\n",
       "      <td>0.9</td>\n",
       "      <td>1.0</td>\n",
       "      <td>0.2</td>\n",
       "      <td>0.533333</td>\n",
       "      <td>0.466667</td>\n",
       "      <td>0.3</td>\n",
       "      <td>0.933333</td>\n",
       "      <td>0.533333</td>\n",
       "      <td>0.333333</td>\n",
       "      <td>0.7</td>\n",
       "      <td>0.800000</td>\n",
       "      <td>0.800000</td>\n",
       "      <td>0.733333</td>\n",
       "      <td>0.533333</td>\n",
       "      <td>1.0</td>\n",
       "    </tr>\n",
       "    <tr>\n",
       "      <th>1</th>\n",
       "      <td>1.0</td>\n",
       "      <td>0.733333</td>\n",
       "      <td>0.733333</td>\n",
       "      <td>1.0</td>\n",
       "      <td>0.933333</td>\n",
       "      <td>0.7</td>\n",
       "      <td>0.7</td>\n",
       "      <td>1.0</td>\n",
       "      <td>0.333333</td>\n",
       "      <td>0.266667</td>\n",
       "      <td>0.2</td>\n",
       "      <td>1.000000</td>\n",
       "      <td>0.866667</td>\n",
       "      <td>0.466667</td>\n",
       "      <td>0.6</td>\n",
       "      <td>0.333333</td>\n",
       "      <td>0.333333</td>\n",
       "      <td>0.266667</td>\n",
       "      <td>0.266667</td>\n",
       "      <td>1.0</td>\n",
       "    </tr>\n",
       "    <tr>\n",
       "      <th>2</th>\n",
       "      <td>1.0</td>\n",
       "      <td>1.000000</td>\n",
       "      <td>0.200000</td>\n",
       "      <td>0.2</td>\n",
       "      <td>0.933333</td>\n",
       "      <td>0.8</td>\n",
       "      <td>1.0</td>\n",
       "      <td>0.2</td>\n",
       "      <td>0.266667</td>\n",
       "      <td>0.466667</td>\n",
       "      <td>0.2</td>\n",
       "      <td>0.466667</td>\n",
       "      <td>0.200000</td>\n",
       "      <td>0.200000</td>\n",
       "      <td>0.6</td>\n",
       "      <td>0.733333</td>\n",
       "      <td>0.200000</td>\n",
       "      <td>0.200000</td>\n",
       "      <td>1.000000</td>\n",
       "      <td>1.0</td>\n",
       "    </tr>\n",
       "    <tr>\n",
       "      <th>3</th>\n",
       "      <td>1.0</td>\n",
       "      <td>0.733333</td>\n",
       "      <td>0.666667</td>\n",
       "      <td>1.0</td>\n",
       "      <td>1.000000</td>\n",
       "      <td>0.7</td>\n",
       "      <td>0.7</td>\n",
       "      <td>0.2</td>\n",
       "      <td>0.333333</td>\n",
       "      <td>0.266667</td>\n",
       "      <td>0.2</td>\n",
       "      <td>1.000000</td>\n",
       "      <td>0.866667</td>\n",
       "      <td>0.466667</td>\n",
       "      <td>0.4</td>\n",
       "      <td>0.266667</td>\n",
       "      <td>0.266667</td>\n",
       "      <td>0.266667</td>\n",
       "      <td>0.266667</td>\n",
       "      <td>1.0</td>\n",
       "    </tr>\n",
       "    <tr>\n",
       "      <th>4</th>\n",
       "      <td>0.8</td>\n",
       "      <td>0.733333</td>\n",
       "      <td>0.466667</td>\n",
       "      <td>0.8</td>\n",
       "      <td>0.666667</td>\n",
       "      <td>0.7</td>\n",
       "      <td>0.8</td>\n",
       "      <td>0.2</td>\n",
       "      <td>0.333333</td>\n",
       "      <td>0.200000</td>\n",
       "      <td>0.2</td>\n",
       "      <td>1.000000</td>\n",
       "      <td>0.333333</td>\n",
       "      <td>0.200000</td>\n",
       "      <td>0.6</td>\n",
       "      <td>0.800000</td>\n",
       "      <td>0.333333</td>\n",
       "      <td>0.266667</td>\n",
       "      <td>0.466667</td>\n",
       "      <td>1.0</td>\n",
       "    </tr>\n",
       "    <tr>\n",
       "      <th>...</th>\n",
       "      <td>...</td>\n",
       "      <td>...</td>\n",
       "      <td>...</td>\n",
       "      <td>...</td>\n",
       "      <td>...</td>\n",
       "      <td>...</td>\n",
       "      <td>...</td>\n",
       "      <td>...</td>\n",
       "      <td>...</td>\n",
       "      <td>...</td>\n",
       "      <td>...</td>\n",
       "      <td>...</td>\n",
       "      <td>...</td>\n",
       "      <td>...</td>\n",
       "      <td>...</td>\n",
       "      <td>...</td>\n",
       "      <td>...</td>\n",
       "      <td>...</td>\n",
       "      <td>...</td>\n",
       "      <td>...</td>\n",
       "    </tr>\n",
       "    <tr>\n",
       "      <th>67</th>\n",
       "      <td>1.0</td>\n",
       "      <td>0.933333</td>\n",
       "      <td>0.933333</td>\n",
       "      <td>1.0</td>\n",
       "      <td>1.000000</td>\n",
       "      <td>0.6</td>\n",
       "      <td>0.7</td>\n",
       "      <td>1.0</td>\n",
       "      <td>1.000000</td>\n",
       "      <td>0.933333</td>\n",
       "      <td>1.0</td>\n",
       "      <td>1.000000</td>\n",
       "      <td>0.866667</td>\n",
       "      <td>0.600000</td>\n",
       "      <td>0.8</td>\n",
       "      <td>0.800000</td>\n",
       "      <td>0.800000</td>\n",
       "      <td>0.733333</td>\n",
       "      <td>0.600000</td>\n",
       "      <td>0.0</td>\n",
       "    </tr>\n",
       "    <tr>\n",
       "      <th>68</th>\n",
       "      <td>1.0</td>\n",
       "      <td>0.800000</td>\n",
       "      <td>1.000000</td>\n",
       "      <td>1.0</td>\n",
       "      <td>1.000000</td>\n",
       "      <td>0.8</td>\n",
       "      <td>0.8</td>\n",
       "      <td>1.0</td>\n",
       "      <td>1.000000</td>\n",
       "      <td>0.933333</td>\n",
       "      <td>0.8</td>\n",
       "      <td>0.800000</td>\n",
       "      <td>0.933333</td>\n",
       "      <td>0.733333</td>\n",
       "      <td>0.7</td>\n",
       "      <td>0.866667</td>\n",
       "      <td>1.000000</td>\n",
       "      <td>0.733333</td>\n",
       "      <td>0.933333</td>\n",
       "      <td>0.0</td>\n",
       "    </tr>\n",
       "    <tr>\n",
       "      <th>69</th>\n",
       "      <td>1.0</td>\n",
       "      <td>0.533333</td>\n",
       "      <td>0.733333</td>\n",
       "      <td>0.6</td>\n",
       "      <td>0.666667</td>\n",
       "      <td>0.6</td>\n",
       "      <td>0.4</td>\n",
       "      <td>0.6</td>\n",
       "      <td>0.866667</td>\n",
       "      <td>0.600000</td>\n",
       "      <td>0.8</td>\n",
       "      <td>0.933333</td>\n",
       "      <td>0.800000</td>\n",
       "      <td>0.600000</td>\n",
       "      <td>0.7</td>\n",
       "      <td>0.733333</td>\n",
       "      <td>0.800000</td>\n",
       "      <td>0.666667</td>\n",
       "      <td>0.666667</td>\n",
       "      <td>0.0</td>\n",
       "    </tr>\n",
       "    <tr>\n",
       "      <th>70</th>\n",
       "      <td>0.9</td>\n",
       "      <td>0.800000</td>\n",
       "      <td>0.866667</td>\n",
       "      <td>1.0</td>\n",
       "      <td>0.866667</td>\n",
       "      <td>0.6</td>\n",
       "      <td>0.6</td>\n",
       "      <td>1.0</td>\n",
       "      <td>0.933333</td>\n",
       "      <td>0.866667</td>\n",
       "      <td>1.0</td>\n",
       "      <td>0.866667</td>\n",
       "      <td>0.800000</td>\n",
       "      <td>0.733333</td>\n",
       "      <td>0.8</td>\n",
       "      <td>0.800000</td>\n",
       "      <td>0.733333</td>\n",
       "      <td>0.866667</td>\n",
       "      <td>1.000000</td>\n",
       "      <td>0.0</td>\n",
       "    </tr>\n",
       "    <tr>\n",
       "      <th>71</th>\n",
       "      <td>1.0</td>\n",
       "      <td>0.933333</td>\n",
       "      <td>0.933333</td>\n",
       "      <td>0.6</td>\n",
       "      <td>0.800000</td>\n",
       "      <td>0.7</td>\n",
       "      <td>0.8</td>\n",
       "      <td>1.0</td>\n",
       "      <td>1.000000</td>\n",
       "      <td>0.800000</td>\n",
       "      <td>1.0</td>\n",
       "      <td>0.666667</td>\n",
       "      <td>0.866667</td>\n",
       "      <td>0.733333</td>\n",
       "      <td>0.9</td>\n",
       "      <td>0.933333</td>\n",
       "      <td>0.866667</td>\n",
       "      <td>1.000000</td>\n",
       "      <td>1.000000</td>\n",
       "      <td>0.0</td>\n",
       "    </tr>\n",
       "  </tbody>\n",
       "</table>\n",
       "<p>72 rows × 20 columns</p>\n",
       "</div>"
      ],
      "text/plain": [
       "    behavior_sexualRisk  behavior_eating  behavior_personalHygine  \\\n",
       "0                   1.0         0.866667                 0.800000   \n",
       "1                   1.0         0.733333                 0.733333   \n",
       "2                   1.0         1.000000                 0.200000   \n",
       "3                   1.0         0.733333                 0.666667   \n",
       "4                   0.8         0.733333                 0.466667   \n",
       "..                  ...              ...                      ...   \n",
       "67                  1.0         0.933333                 0.933333   \n",
       "68                  1.0         0.800000                 1.000000   \n",
       "69                  1.0         0.533333                 0.733333   \n",
       "70                  0.9         0.800000                 0.866667   \n",
       "71                  1.0         0.933333                 0.933333   \n",
       "\n",
       "    intention_aggregation  intention_commitment  attitude_consistency  \\\n",
       "0                     0.4              0.466667                   0.9   \n",
       "1                     1.0              0.933333                   0.7   \n",
       "2                     0.2              0.933333                   0.8   \n",
       "3                     1.0              1.000000                   0.7   \n",
       "4                     0.8              0.666667                   0.7   \n",
       "..                    ...                   ...                   ...   \n",
       "67                    1.0              1.000000                   0.6   \n",
       "68                    1.0              1.000000                   0.8   \n",
       "69                    0.6              0.666667                   0.6   \n",
       "70                    1.0              0.866667                   0.6   \n",
       "71                    0.6              0.800000                   0.7   \n",
       "\n",
       "    attitude_spontaneity  norm_significantPerson  norm_fulfillment  \\\n",
       "0                    1.0                     0.2          0.533333   \n",
       "1                    0.7                     1.0          0.333333   \n",
       "2                    1.0                     0.2          0.266667   \n",
       "3                    0.7                     0.2          0.333333   \n",
       "4                    0.8                     0.2          0.333333   \n",
       "..                   ...                     ...               ...   \n",
       "67                   0.7                     1.0          1.000000   \n",
       "68                   0.8                     1.0          1.000000   \n",
       "69                   0.4                     0.6          0.866667   \n",
       "70                   0.6                     1.0          0.933333   \n",
       "71                   0.8                     1.0          1.000000   \n",
       "\n",
       "    perception_vulnerability  perception_severity  motivation_strength  \\\n",
       "0                   0.466667                  0.3             0.933333   \n",
       "1                   0.266667                  0.2             1.000000   \n",
       "2                   0.466667                  0.2             0.466667   \n",
       "3                   0.266667                  0.2             1.000000   \n",
       "4                   0.200000                  0.2             1.000000   \n",
       "..                       ...                  ...                  ...   \n",
       "67                  0.933333                  1.0             1.000000   \n",
       "68                  0.933333                  0.8             0.800000   \n",
       "69                  0.600000                  0.8             0.933333   \n",
       "70                  0.866667                  1.0             0.866667   \n",
       "71                  0.800000                  1.0             0.666667   \n",
       "\n",
       "    motivation_willingness  socialSupport_emotionality  \\\n",
       "0                 0.533333                    0.333333   \n",
       "1                 0.866667                    0.466667   \n",
       "2                 0.200000                    0.200000   \n",
       "3                 0.866667                    0.466667   \n",
       "4                 0.333333                    0.200000   \n",
       "..                     ...                         ...   \n",
       "67                0.866667                    0.600000   \n",
       "68                0.933333                    0.733333   \n",
       "69                0.800000                    0.600000   \n",
       "70                0.800000                    0.733333   \n",
       "71                0.866667                    0.733333   \n",
       "\n",
       "    socialSupport_appreciation  socialSupport_instrumental  \\\n",
       "0                          0.7                    0.800000   \n",
       "1                          0.6                    0.333333   \n",
       "2                          0.6                    0.733333   \n",
       "3                          0.4                    0.266667   \n",
       "4                          0.6                    0.800000   \n",
       "..                         ...                         ...   \n",
       "67                         0.8                    0.800000   \n",
       "68                         0.7                    0.866667   \n",
       "69                         0.7                    0.733333   \n",
       "70                         0.8                    0.800000   \n",
       "71                         0.9                    0.933333   \n",
       "\n",
       "    empowerment_knowledge  empowerment_abilities  empowerment_desires  \\\n",
       "0                0.800000               0.733333             0.533333   \n",
       "1                0.333333               0.266667             0.266667   \n",
       "2                0.200000               0.200000             1.000000   \n",
       "3                0.266667               0.266667             0.266667   \n",
       "4                0.333333               0.266667             0.466667   \n",
       "..                    ...                    ...                  ...   \n",
       "67               0.800000               0.733333             0.600000   \n",
       "68               1.000000               0.733333             0.933333   \n",
       "69               0.800000               0.666667             0.666667   \n",
       "70               0.733333               0.866667             1.000000   \n",
       "71               0.866667               1.000000             1.000000   \n",
       "\n",
       "    ca_cervix  \n",
       "0         1.0  \n",
       "1         1.0  \n",
       "2         1.0  \n",
       "3         1.0  \n",
       "4         1.0  \n",
       "..        ...  \n",
       "67        0.0  \n",
       "68        0.0  \n",
       "69        0.0  \n",
       "70        0.0  \n",
       "71        0.0  \n",
       "\n",
       "[72 rows x 20 columns]"
      ]
     },
     "execution_count": 14,
     "metadata": {},
     "output_type": "execute_result"
    }
   ],
   "source": [
    "df_max_scaled = min_max_scaled(cleaned_data)\n",
    "df_max_scaled"
   ]
  },
  {
   "cell_type": "code",
   "execution_count": 15,
   "metadata": {},
   "outputs": [],
   "source": [
    "X = df_max_scaled.loc[:, df_max_scaled.columns != 'ca_cervix']\n",
    "y = df[['ca_cervix']]"
   ]
  },
  {
   "cell_type": "code",
   "execution_count": 16,
   "metadata": {},
   "outputs": [
    {
     "data": {
      "text/plain": [
       "Text(0, 0.5, 'Cumulative explained variance')"
      ]
     },
     "execution_count": 16,
     "metadata": {},
     "output_type": "execute_result"
    },
    {
     "data": {
      "image/png": "[encoded data removed]",
      "text/plain": [
       "<Figure size 432x288 with 1 Axes>"
      ]
     },
     "metadata": {
      "needs_background": "light"
     },
     "output_type": "display_data"
    }
   ],
   "source": [
    "plot_PCA_graph(X)"
   ]
  },
  {
   "cell_type": "code",
   "execution_count": 153,
   "metadata": {},
   "outputs": [],
   "source": [
    "pca = PCA(n_components=3)\n",
    "projected = pca.fit_transform(X)"
   ]
  },
  {
   "cell_type": "code",
   "execution_count": 154,
   "metadata": {},
   "outputs": [
    {
     "data": {
      "text/plain": [
       "array([0.4481296 , 0.37928269, 0.10516681])"
      ]
     },
     "execution_count": 154,
     "metadata": {},
     "output_type": "execute_result"
    }
   ],
   "source": [
    "explained_variance = pca.explained_variance_ratio_\n",
    "explained_variance"
   ]
  },
  {
   "cell_type": "code",
   "execution_count": 155,
   "metadata": {},
   "outputs": [
    {
     "data": {
      "text/html": [
       "<div>\n",
       "<style scoped>\n",
       "    .dataframe tbody tr th:only-of-type {\n",
       "        vertical-align: middle;\n",
       "    }\n",
       "\n",
       "    .dataframe tbody tr th {\n",
       "        vertical-align: top;\n",
       "    }\n",
       "\n",
       "    .dataframe thead th {\n",
       "        text-align: right;\n",
       "    }\n",
       "</style>\n",
       "<table border=\"1\" class=\"dataframe\">\n",
       "  <thead>\n",
       "    <tr style=\"text-align: right;\">\n",
       "      <th></th>\n",
       "      <th>0</th>\n",
       "      <th>1</th>\n",
       "      <th>2</th>\n",
       "      <th>ca_cervix</th>\n",
       "    </tr>\n",
       "  </thead>\n",
       "  <tbody>\n",
       "    <tr>\n",
       "      <th>0</th>\n",
       "      <td>0.013463</td>\n",
       "      <td>-0.413494</td>\n",
       "      <td>0.361464</td>\n",
       "      <td>1</td>\n",
       "    </tr>\n",
       "    <tr>\n",
       "      <th>1</th>\n",
       "      <td>0.506869</td>\n",
       "      <td>-0.200883</td>\n",
       "      <td>-0.641705</td>\n",
       "      <td>1</td>\n",
       "    </tr>\n",
       "    <tr>\n",
       "      <th>2</th>\n",
       "      <td>0.598123</td>\n",
       "      <td>-0.830247</td>\n",
       "      <td>0.802759</td>\n",
       "      <td>1</td>\n",
       "    </tr>\n",
       "    <tr>\n",
       "      <th>3</th>\n",
       "      <td>0.556105</td>\n",
       "      <td>-0.601958</td>\n",
       "      <td>-0.519234</td>\n",
       "      <td>1</td>\n",
       "    </tr>\n",
       "    <tr>\n",
       "      <th>4</th>\n",
       "      <td>0.522467</td>\n",
       "      <td>-0.775431</td>\n",
       "      <td>-0.012104</td>\n",
       "      <td>1</td>\n",
       "    </tr>\n",
       "  </tbody>\n",
       "</table>\n",
       "</div>"
      ],
      "text/plain": [
       "          0         1         2  ca_cervix\n",
       "0  0.013463 -0.413494  0.361464          1\n",
       "1  0.506869 -0.200883 -0.641705          1\n",
       "2  0.598123 -0.830247  0.802759          1\n",
       "3  0.556105 -0.601958 -0.519234          1\n",
       "4  0.522467 -0.775431 -0.012104          1"
      ]
     },
     "execution_count": 155,
     "metadata": {},
     "output_type": "execute_result"
    }
   ],
   "source": [
    "principal_df = pd.DataFrame(data = projected)\n",
    "df_pca = principal_df.join(y, how='outer')\n",
    "df_pca.head(5)"
   ]
  },
  {
   "cell_type": "code",
   "execution_count": 156,
   "metadata": {},
   "outputs": [],
   "source": [
    "df1 = df_pca.dropna()\n",
    "\n",
    "X = df1.loc[:, df1.columns != 'ca_cervix']\n",
    "y = df1[['ca_cervix']]"
   ]
  },
  {
   "cell_type": "code",
   "execution_count": 157,
   "metadata": {},
   "outputs": [
    {
     "data": {
      "text/plain": [
       "(72, 3)"
      ]
     },
     "execution_count": 157,
     "metadata": {},
     "output_type": "execute_result"
    }
   ],
   "source": [
    "X.shape"
   ]
  },
  {
   "cell_type": "code",
   "execution_count": 158,
   "metadata": {},
   "outputs": [
    {
     "data": {
      "text/plain": [
       "(72, 1)"
      ]
     },
     "execution_count": 158,
     "metadata": {},
     "output_type": "execute_result"
    }
   ],
   "source": [
    "y.shape"
   ]
  },
  {
   "cell_type": "markdown",
   "metadata": {},
   "source": [
    "# Cluster Analysis\n",
    "\n",
    "This section is divided into two parts. In the first part we will be doing a comparative analysis of Gaussian mixture model with it's paramter's best value using Grid Search Technique. And In the second part we will be performing a comparartive analysis of <b>Gaussian mixture model </b> with other models that include <b>Bayesian Gaussian Mixture, Mini-Batch K-means, OPTICS, DBSCAN, Agglomerative, Spectral Clustering and Affinity Propagation </b> with their respective hyper-paramter tuning using Grid Search Technique. No of best paramters would be chosen on the basis of maximum silhoutte score.\n",
    "\n",
    "We will be further evaulating our cluster performance using following measures: \n",
    "    \n",
    "###### Intrinsic Measures that does not require ground truth labels (y)\n",
    "- silhouette_score measures the between-cluster distance against within-cluster distance. A higher score signifies better-defined clusters. It is good for well define cluster as well as measure the interpretability of clusters.\n",
    "- davies_bouldin_score measures the size of clusters against the average distance between clusters. A lower score signifies better-defined clusters. A lower score means that the cluster is relatively small compared to the distance to another cluster, hence well-defined.\n",
    "- calinski_harabasz_score measures the between-cluster dispersion against within-cluster dispersion. A higher score signifies better-defined clusters. A higher ratio signifies the cluster is far away from its other clusters and that the cluster is more well-defined\n",
    "    \n",
    "    \n",
    "###### Extrinsic Measures that requires ground truth labels (y)\n",
    "- fowlkes_mallows_score measure the correctness of the cluster assignments using pairwise precision and recall. A higher score signifies higher similarity.\n",
    "- adjusted_rand_score measures the similarity between the cluster assignments by making pair-wise comparisons. A higher score signifies higher similarity.\n",
    "- adjusted_mutual_info_score measures the agreement between the cluster assignments. A higher score signifies higher similarity.\n",
    "- homogeneity_score measures the precision of cluster, meaning each cluster contains only members of a single class. \n",
    "- completeness_score measures the recall of cluster, meaning all members of a given class are assigned to the same cluster.\n",
    "- v_measure_score measures the correctness of the cluster assignments and used to measure interpretability of clusters. A higher score signifies higher similarity.\n",
    "\n",
    "\n",
    "## Part 1: Comparative Analysis of Gaussian mixture model with it's hyper-parameters\n",
    "\n",
    "A Gaussian mixture model (GMM) assists to find a mixture of multi-dimensional Gaussian probability distributions that best models dataset. In the simplest case, GMMs can be used for finding clusters in the same manner as k-means.\n",
    "\n",
    "Here, first we would only be applying Gaussian Mixture Model with 2 components, then with addition of each hyperparamter using Grid Search to get the best possible attribute combination, we would be doing a comparative analysis as how each parameter is effecting the result of clustering. We would be doing comparative analysis using\n",
    "\n",
    "- GMM with n_components = 2\n",
    "- GMM with n_components and covariance_type using Grid Search \n",
    "- GMM with n_components and max_iter using Grid Search \n",
    "- GMM with n_components and init_params using Grid Search \n",
    "- GMM with n_components and n_init using Grid Search \n",
    "\n",
    "\n",
    "#### GMM with n_components = 2\n",
    "\n",
    "n_components refers to the number of mixture components.\n",
    "\n",
    "First we would just be using fixed no of n_components with all the default parameters to see how the clusers are formed for our dataset."
   ]
  },
  {
   "cell_type": "code",
   "execution_count": 159,
   "metadata": {},
   "outputs": [
    {
     "data": {
      "text/html": [
       "<div>\n",
       "<style scoped>\n",
       "    .dataframe tbody tr th:only-of-type {\n",
       "        vertical-align: middle;\n",
       "    }\n",
       "\n",
       "    .dataframe tbody tr th {\n",
       "        vertical-align: top;\n",
       "    }\n",
       "\n",
       "    .dataframe thead th {\n",
       "        text-align: right;\n",
       "    }\n",
       "</style>\n",
       "<table border=\"1\" class=\"dataframe\">\n",
       "  <thead>\n",
       "    <tr style=\"text-align: right;\">\n",
       "      <th></th>\n",
       "      <th>Cluster</th>\n",
       "    </tr>\n",
       "  </thead>\n",
       "  <tbody>\n",
       "    <tr>\n",
       "      <th>0</th>\n",
       "      <td>42</td>\n",
       "    </tr>\n",
       "    <tr>\n",
       "      <th>1</th>\n",
       "      <td>30</td>\n",
       "    </tr>\n",
       "  </tbody>\n",
       "</table>\n",
       "</div>"
      ],
      "text/plain": [
       "   Cluster\n",
       "0       42\n",
       "1       30"
      ]
     },
     "execution_count": 159,
     "metadata": {},
     "output_type": "execute_result"
    }
   ],
   "source": [
    "gmm1 = GaussianMixture(n_components = 2)\n",
    "\n",
    "gmm1.fit(X)\n",
    "gmm1_labels = gmm1.fit_predict(X)\n",
    "gmm1_dataset = pd.DataFrame(X.copy())\n",
    "gmm1_dataset.loc[:,'Cluster'] = gmm1_labels\n",
    "gmm1_dataset.Cluster.value_counts().to_frame()"
   ]
  },
  {
   "cell_type": "code",
   "execution_count": 160,
   "metadata": {},
   "outputs": [
    {
     "data": {
      "text/html": [
       "<div>\n",
       "<style scoped>\n",
       "    .dataframe tbody tr th:only-of-type {\n",
       "        vertical-align: middle;\n",
       "    }\n",
       "\n",
       "    .dataframe tbody tr th {\n",
       "        vertical-align: top;\n",
       "    }\n",
       "\n",
       "    .dataframe thead th {\n",
       "        text-align: right;\n",
       "    }\n",
       "</style>\n",
       "<table border=\"1\" class=\"dataframe\">\n",
       "  <thead>\n",
       "    <tr style=\"text-align: right;\">\n",
       "      <th></th>\n",
       "      <th>silhouette_score</th>\n",
       "      <th>davies_bouldin_score</th>\n",
       "      <th>calinski_harabasz_score</th>\n",
       "      <th>fowlkes_mallows_score</th>\n",
       "      <th>adjusted_rand_score</th>\n",
       "      <th>adjusted_mutual_info_score</th>\n",
       "      <th>homogeneity_score</th>\n",
       "      <th>completeness_score</th>\n",
       "      <th>v_measure_score</th>\n",
       "    </tr>\n",
       "  </thead>\n",
       "  <tbody>\n",
       "    <tr>\n",
       "      <th>GaussianMixture with n_components only</th>\n",
       "      <td>0.369837</td>\n",
       "      <td>1.210983</td>\n",
       "      <td>40.024168</td>\n",
       "      <td>0.616312</td>\n",
       "      <td>0.160056</td>\n",
       "      <td>0.302954</td>\n",
       "      <td>0.330167</td>\n",
       "      <td>0.293438</td>\n",
       "      <td>0.310721</td>\n",
       "    </tr>\n",
       "  </tbody>\n",
       "</table>\n",
       "</div>"
      ],
      "text/plain": [
       "                                        silhouette_score  \\\n",
       "GaussianMixture with n_components only          0.369837   \n",
       "\n",
       "                                        davies_bouldin_score  \\\n",
       "GaussianMixture with n_components only              1.210983   \n",
       "\n",
       "                                        calinski_harabasz_score  \\\n",
       "GaussianMixture with n_components only                40.024168   \n",
       "\n",
       "                                        fowlkes_mallows_score  \\\n",
       "GaussianMixture with n_components only               0.616312   \n",
       "\n",
       "                                        adjusted_rand_score  \\\n",
       "GaussianMixture with n_components only             0.160056   \n",
       "\n",
       "                                        adjusted_mutual_info_score  \\\n",
       "GaussianMixture with n_components only                    0.302954   \n",
       "\n",
       "                                        homogeneity_score  completeness_score  \\\n",
       "GaussianMixture with n_components only           0.330167            0.293438   \n",
       "\n",
       "                                        v_measure_score  \n",
       "GaussianMixture with n_components only         0.310721  "
      ]
     },
     "execution_count": 160,
     "metadata": {},
     "output_type": "execute_result"
    }
   ],
   "source": [
    "gmm_df1 = pd.DataFrame(estimator_evaluation2(gmm1, 'GaussianMixture ', X , y), index=[\"GaussianMixture with n_components only\"])\n",
    "gmm_df1"
   ]
  },
  {
   "cell_type": "markdown",
   "metadata": {},
   "source": [
    "#### GMM with n_components and covariance_type using Grid Search\n",
    "\n",
    "covariance_type parameter controls the degrees of freedom in the shape of cluster. That is what allows for adjusting for different shapes of the clusters and that is why it is an essential to set this carefully for the given problem. \n",
    "\n",
    "\n",
    "- full(default): it referes to have each component has its own general covariance matrix, which allows each cluster to be modeled as an ellipse with it's arbitrary orientation.\n",
    "- tied: it referes to have all components share the same general covariance matrix.\n",
    "- diag: it referes to have each component has its own diagonal covariance matrix, which means that the size of the cluster with each dimension can be set independently.\n",
    "- spherical: it referes to have each component has its own single variance, which is a simpler and faster model that constrains the shape of the cluster such that all dimensions are equal. The resulting clustering will have similar characteristics to that of k-means.\n",
    "\n",
    "We would be using the best covariance_type for our problem analysis using Grid Search Hyper-parameter technique."
   ]
  },
  {
   "cell_type": "code",
   "execution_count": 161,
   "metadata": {},
   "outputs": [
    {
     "name": "stdout",
     "output_type": "stream",
     "text": [
      "{'covariance_type': 'full', 'n_components': 2}\n"
     ]
    },
    {
     "data": {
      "text/html": [
       "<div>\n",
       "<style scoped>\n",
       "    .dataframe tbody tr th:only-of-type {\n",
       "        vertical-align: middle;\n",
       "    }\n",
       "\n",
       "    .dataframe tbody tr th {\n",
       "        vertical-align: top;\n",
       "    }\n",
       "\n",
       "    .dataframe thead th {\n",
       "        text-align: right;\n",
       "    }\n",
       "</style>\n",
       "<table border=\"1\" class=\"dataframe\">\n",
       "  <thead>\n",
       "    <tr style=\"text-align: right;\">\n",
       "      <th></th>\n",
       "      <th>Cluster</th>\n",
       "    </tr>\n",
       "  </thead>\n",
       "  <tbody>\n",
       "    <tr>\n",
       "      <th>0</th>\n",
       "      <td>45</td>\n",
       "    </tr>\n",
       "    <tr>\n",
       "      <th>1</th>\n",
       "      <td>27</td>\n",
       "    </tr>\n",
       "  </tbody>\n",
       "</table>\n",
       "</div>"
      ],
      "text/plain": [
       "   Cluster\n",
       "0       45\n",
       "1       27"
      ]
     },
     "execution_count": 161,
     "metadata": {},
     "output_type": "execute_result"
    }
   ],
   "source": [
    "gmm_grid = {\n",
    "        \"covariance_type\": ['full', 'tied', 'diag', 'spherical'],\n",
    "        \"n_components\": range(2, 5)\n",
    "       }\n",
    "gmm_grid\n",
    "gmm_model2 = GaussianMixture()\n",
    "gmm_params2 = GridSearchCV(gmm_model2,gmm_grid,scoring=silhouette_score3,cv= 10).fit(X, y)\n",
    "print(gmm_params2.best_params_)\n",
    "gmm2 = GaussianMixture(covariance_type = gmm_params2.best_params_['covariance_type'],\n",
    "                      n_components = gmm_params2.best_params_['n_components'])\n",
    "\n",
    "gmm2.fit(X)\n",
    "gmm2_labels = gmm2.fit_predict(X)\n",
    "gmm2_dataset = pd.DataFrame(X.copy())\n",
    "gmm2_dataset.loc[:,'Cluster'] = gmm2_labels\n",
    "gmm2_dataset.Cluster.value_counts().to_frame()"
   ]
  },
  {
   "cell_type": "code",
   "execution_count": 162,
   "metadata": {},
   "outputs": [
    {
     "data": {
      "text/html": [
       "<div>\n",
       "<style scoped>\n",
       "    .dataframe tbody tr th:only-of-type {\n",
       "        vertical-align: middle;\n",
       "    }\n",
       "\n",
       "    .dataframe tbody tr th {\n",
       "        vertical-align: top;\n",
       "    }\n",
       "\n",
       "    .dataframe thead th {\n",
       "        text-align: right;\n",
       "    }\n",
       "</style>\n",
       "<table border=\"1\" class=\"dataframe\">\n",
       "  <thead>\n",
       "    <tr style=\"text-align: right;\">\n",
       "      <th></th>\n",
       "      <th>silhouette_score</th>\n",
       "      <th>davies_bouldin_score</th>\n",
       "      <th>calinski_harabasz_score</th>\n",
       "      <th>fowlkes_mallows_score</th>\n",
       "      <th>adjusted_rand_score</th>\n",
       "      <th>adjusted_mutual_info_score</th>\n",
       "      <th>homogeneity_score</th>\n",
       "      <th>completeness_score</th>\n",
       "      <th>v_measure_score</th>\n",
       "    </tr>\n",
       "  </thead>\n",
       "  <tbody>\n",
       "    <tr>\n",
       "      <th>GaussianMixture with covariance_type</th>\n",
       "      <td>0.343037</td>\n",
       "      <td>1.199572</td>\n",
       "      <td>40.405381</td>\n",
       "      <td>0.713595</td>\n",
       "      <td>0.359518</td>\n",
       "      <td>0.258732</td>\n",
       "      <td>0.279937</td>\n",
       "      <td>0.255426</td>\n",
       "      <td>0.26712</td>\n",
       "    </tr>\n",
       "  </tbody>\n",
       "</table>\n",
       "</div>"
      ],
      "text/plain": [
       "                                      silhouette_score  davies_bouldin_score  \\\n",
       "GaussianMixture with covariance_type          0.343037              1.199572   \n",
       "\n",
       "                                      calinski_harabasz_score  \\\n",
       "GaussianMixture with covariance_type                40.405381   \n",
       "\n",
       "                                      fowlkes_mallows_score  \\\n",
       "GaussianMixture with covariance_type               0.713595   \n",
       "\n",
       "                                      adjusted_rand_score  \\\n",
       "GaussianMixture with covariance_type             0.359518   \n",
       "\n",
       "                                      adjusted_mutual_info_score  \\\n",
       "GaussianMixture with covariance_type                    0.258732   \n",
       "\n",
       "                                      homogeneity_score  completeness_score  \\\n",
       "GaussianMixture with covariance_type           0.279937            0.255426   \n",
       "\n",
       "                                      v_measure_score  \n",
       "GaussianMixture with covariance_type          0.26712  "
      ]
     },
     "execution_count": 162,
     "metadata": {},
     "output_type": "execute_result"
    }
   ],
   "source": [
    "gmm_df2 = pd.DataFrame(estimator_evaluation2(gmm2, 'GaussianMixture ', X , y), index=[\"GaussianMixture with covariance_type\"])\n",
    "gmm_df2"
   ]
  },
  {
   "cell_type": "markdown",
   "metadata": {},
   "source": [
    "#### GMM with n_components and max_iter using Grid Search \n",
    "\n",
    "max_iter refers to the number of EM iterations to perform.\n",
    "\n",
    "As Gaussian Mixture models takes quite much time to run as compare to K-Means model because GMM takes long time to converge.\n",
    "That is why we need to consider the amount of data and the features that needs to be given to GMM. When experimenting with the Bayesian Gaussian Mixture class, it often gives an errors of convergence that couldn’t be reached, in that case we need to increase the max_iter parameter.\n",
    "\n",
    "We would be using the best max_iter for our problem analysis using Grid Search Hyper-paramter technique."
   ]
  },
  {
   "cell_type": "code",
   "execution_count": 163,
   "metadata": {},
   "outputs": [
    {
     "name": "stdout",
     "output_type": "stream",
     "text": [
      "{'max_iter': 150, 'n_components': 2}\n"
     ]
    },
    {
     "data": {
      "text/html": [
       "<div>\n",
       "<style scoped>\n",
       "    .dataframe tbody tr th:only-of-type {\n",
       "        vertical-align: middle;\n",
       "    }\n",
       "\n",
       "    .dataframe tbody tr th {\n",
       "        vertical-align: top;\n",
       "    }\n",
       "\n",
       "    .dataframe thead th {\n",
       "        text-align: right;\n",
       "    }\n",
       "</style>\n",
       "<table border=\"1\" class=\"dataframe\">\n",
       "  <thead>\n",
       "    <tr style=\"text-align: right;\">\n",
       "      <th></th>\n",
       "      <th>Cluster</th>\n",
       "    </tr>\n",
       "  </thead>\n",
       "  <tbody>\n",
       "    <tr>\n",
       "      <th>0</th>\n",
       "      <td>42</td>\n",
       "    </tr>\n",
       "    <tr>\n",
       "      <th>1</th>\n",
       "      <td>30</td>\n",
       "    </tr>\n",
       "  </tbody>\n",
       "</table>\n",
       "</div>"
      ],
      "text/plain": [
       "   Cluster\n",
       "0       42\n",
       "1       30"
      ]
     },
     "execution_count": 163,
     "metadata": {},
     "output_type": "execute_result"
    }
   ],
   "source": [
    "gmm_grid = {\n",
    "        \"max_iter\": [50, 100, 150, 200, 250, 300],\n",
    "        \"n_components\": range(2, 5)\n",
    "       }\n",
    "gmm_grid\n",
    "gmm_model3 = GaussianMixture()\n",
    "gmm_params3 = GridSearchCV(gmm_model3,gmm_grid,scoring=silhouette_score3,cv= 10).fit(X, y)\n",
    "print(gmm_params3.best_params_)\n",
    "gmm3 = GaussianMixture(max_iter = gmm_params3.best_params_['max_iter'],\n",
    "                      n_components = gmm_params3.best_params_['n_components'])\n",
    "\n",
    "gmm3.fit(X)\n",
    "gmm3_labels = gmm3.fit_predict(X)\n",
    "gmm3_dataset = pd.DataFrame(X.copy())\n",
    "gmm3_dataset.loc[:,'Cluster'] = gmm3_labels\n",
    "gmm3_dataset.Cluster.value_counts().to_frame()"
   ]
  },
  {
   "cell_type": "code",
   "execution_count": 164,
   "metadata": {},
   "outputs": [
    {
     "data": {
      "text/html": [
       "<div>\n",
       "<style scoped>\n",
       "    .dataframe tbody tr th:only-of-type {\n",
       "        vertical-align: middle;\n",
       "    }\n",
       "\n",
       "    .dataframe tbody tr th {\n",
       "        vertical-align: top;\n",
       "    }\n",
       "\n",
       "    .dataframe thead th {\n",
       "        text-align: right;\n",
       "    }\n",
       "</style>\n",
       "<table border=\"1\" class=\"dataframe\">\n",
       "  <thead>\n",
       "    <tr style=\"text-align: right;\">\n",
       "      <th></th>\n",
       "      <th>silhouette_score</th>\n",
       "      <th>davies_bouldin_score</th>\n",
       "      <th>calinski_harabasz_score</th>\n",
       "      <th>fowlkes_mallows_score</th>\n",
       "      <th>adjusted_rand_score</th>\n",
       "      <th>adjusted_mutual_info_score</th>\n",
       "      <th>homogeneity_score</th>\n",
       "      <th>completeness_score</th>\n",
       "      <th>v_measure_score</th>\n",
       "    </tr>\n",
       "  </thead>\n",
       "  <tbody>\n",
       "    <tr>\n",
       "      <th>GaussianMixture with max_iter</th>\n",
       "      <td>0.343037</td>\n",
       "      <td>1.199572</td>\n",
       "      <td>40.405381</td>\n",
       "      <td>0.713595</td>\n",
       "      <td>0.359518</td>\n",
       "      <td>0.258732</td>\n",
       "      <td>0.279937</td>\n",
       "      <td>0.255426</td>\n",
       "      <td>0.26712</td>\n",
       "    </tr>\n",
       "  </tbody>\n",
       "</table>\n",
       "</div>"
      ],
      "text/plain": [
       "                               silhouette_score  davies_bouldin_score  \\\n",
       "GaussianMixture with max_iter          0.343037              1.199572   \n",
       "\n",
       "                               calinski_harabasz_score  fowlkes_mallows_score  \\\n",
       "GaussianMixture with max_iter                40.405381               0.713595   \n",
       "\n",
       "                               adjusted_rand_score  \\\n",
       "GaussianMixture with max_iter             0.359518   \n",
       "\n",
       "                               adjusted_mutual_info_score  homogeneity_score  \\\n",
       "GaussianMixture with max_iter                    0.258732           0.279937   \n",
       "\n",
       "                               completeness_score  v_measure_score  \n",
       "GaussianMixture with max_iter            0.255426          0.26712  "
      ]
     },
     "execution_count": 164,
     "metadata": {},
     "output_type": "execute_result"
    }
   ],
   "source": [
    "gmm_df3 = pd.DataFrame(estimator_evaluation2(gmm3, 'GaussianMixture ', X , y), index=[\"GaussianMixture with max_iter\"])\n",
    "gmm_df3"
   ]
  },
  {
   "cell_type": "markdown",
   "metadata": {},
   "source": [
    "#### GMM with n_components and init_params using Grid Search \n",
    "\n",
    "init_params refers to Initialization methods that helps to generate the initial centers for the model components. The innitial method for GMM are:\n",
    "\n",
    "- k-means (default) :This refers to k-means clustering algorithm and can be computationally expensive compared to other initialization methods.\n",
    "\n",
    "- k-means++ : This initialization method of k-means clustering picks the first center at random from the data, then the centers will be chosen from a weighted distribution of the data that favours points that are further away from the existing centers.\n",
    "\n",
    "- random_from_data : This picks random data points from the input data as the initial centers, and it's fastest method of initialization but can result in producing non-convergent results if the selected points are way too close to each other.\n",
    "\n",
    "- random : This chooses center randomly but away from the mean of all data, but as simple as it is, it can lead to the model taking longer to converge.\n",
    "\n",
    "We would be using the best init_params for our problem analysis using Grid Search Hyper-paramter technique"
   ]
  },
  {
   "cell_type": "code",
   "execution_count": 165,
   "metadata": {},
   "outputs": [
    {
     "name": "stdout",
     "output_type": "stream",
     "text": [
      "{'init_params': 'kmeans', 'n_components': 2}\n"
     ]
    },
    {
     "data": {
      "text/html": [
       "<div>\n",
       "<style scoped>\n",
       "    .dataframe tbody tr th:only-of-type {\n",
       "        vertical-align: middle;\n",
       "    }\n",
       "\n",
       "    .dataframe tbody tr th {\n",
       "        vertical-align: top;\n",
       "    }\n",
       "\n",
       "    .dataframe thead th {\n",
       "        text-align: right;\n",
       "    }\n",
       "</style>\n",
       "<table border=\"1\" class=\"dataframe\">\n",
       "  <thead>\n",
       "    <tr style=\"text-align: right;\">\n",
       "      <th></th>\n",
       "      <th>Cluster</th>\n",
       "    </tr>\n",
       "  </thead>\n",
       "  <tbody>\n",
       "    <tr>\n",
       "      <th>1</th>\n",
       "      <td>42</td>\n",
       "    </tr>\n",
       "    <tr>\n",
       "      <th>0</th>\n",
       "      <td>30</td>\n",
       "    </tr>\n",
       "  </tbody>\n",
       "</table>\n",
       "</div>"
      ],
      "text/plain": [
       "   Cluster\n",
       "1       42\n",
       "0       30"
      ]
     },
     "execution_count": 165,
     "metadata": {},
     "output_type": "execute_result"
    }
   ],
   "source": [
    "gmm_grid = {\n",
    "        \"init_params\": ['kmeans', 'k-means++', 'random', 'random_from_data'],\n",
    "        \"n_components\": range(2, 5)\n",
    "       }\n",
    "gmm_grid\n",
    "gmm_model4 = GaussianMixture()\n",
    "gmm_params4 = GridSearchCV(gmm_model4,gmm_grid,scoring=silhouette_score3,cv= 10).fit(X, y)\n",
    "print(gmm_params4.best_params_)\n",
    "gmm4 = GaussianMixture(init_params = gmm_params4.best_params_['init_params'],\n",
    "                      n_components = gmm_params4.best_params_['n_components'])\n",
    "\n",
    "gmm4.fit(X)\n",
    "gmm4_labels = gmm4.fit_predict(X)\n",
    "gmm4_dataset = pd.DataFrame(X.copy())\n",
    "gmm4_dataset.loc[:,'Cluster'] = gmm4_labels\n",
    "gmm4_dataset.Cluster.value_counts().to_frame()"
   ]
  },
  {
   "cell_type": "code",
   "execution_count": 166,
   "metadata": {},
   "outputs": [
    {
     "data": {
      "text/html": [
       "<div>\n",
       "<style scoped>\n",
       "    .dataframe tbody tr th:only-of-type {\n",
       "        vertical-align: middle;\n",
       "    }\n",
       "\n",
       "    .dataframe tbody tr th {\n",
       "        vertical-align: top;\n",
       "    }\n",
       "\n",
       "    .dataframe thead th {\n",
       "        text-align: right;\n",
       "    }\n",
       "</style>\n",
       "<table border=\"1\" class=\"dataframe\">\n",
       "  <thead>\n",
       "    <tr style=\"text-align: right;\">\n",
       "      <th></th>\n",
       "      <th>silhouette_score</th>\n",
       "      <th>davies_bouldin_score</th>\n",
       "      <th>calinski_harabasz_score</th>\n",
       "      <th>fowlkes_mallows_score</th>\n",
       "      <th>adjusted_rand_score</th>\n",
       "      <th>adjusted_mutual_info_score</th>\n",
       "      <th>homogeneity_score</th>\n",
       "      <th>completeness_score</th>\n",
       "      <th>v_measure_score</th>\n",
       "    </tr>\n",
       "  </thead>\n",
       "  <tbody>\n",
       "    <tr>\n",
       "      <th>GaussianMixture with init_params</th>\n",
       "      <td>0.343037</td>\n",
       "      <td>1.199572</td>\n",
       "      <td>40.405381</td>\n",
       "      <td>0.713595</td>\n",
       "      <td>0.359518</td>\n",
       "      <td>0.258732</td>\n",
       "      <td>0.279937</td>\n",
       "      <td>0.255426</td>\n",
       "      <td>0.26712</td>\n",
       "    </tr>\n",
       "  </tbody>\n",
       "</table>\n",
       "</div>"
      ],
      "text/plain": [
       "                                  silhouette_score  davies_bouldin_score  \\\n",
       "GaussianMixture with init_params          0.343037              1.199572   \n",
       "\n",
       "                                  calinski_harabasz_score  \\\n",
       "GaussianMixture with init_params                40.405381   \n",
       "\n",
       "                                  fowlkes_mallows_score  adjusted_rand_score  \\\n",
       "GaussianMixture with init_params               0.713595             0.359518   \n",
       "\n",
       "                                  adjusted_mutual_info_score  \\\n",
       "GaussianMixture with init_params                    0.258732   \n",
       "\n",
       "                                  homogeneity_score  completeness_score  \\\n",
       "GaussianMixture with init_params           0.279937            0.255426   \n",
       "\n",
       "                                  v_measure_score  \n",
       "GaussianMixture with init_params          0.26712  "
      ]
     },
     "execution_count": 166,
     "metadata": {},
     "output_type": "execute_result"
    }
   ],
   "source": [
    "gmm_df4 = pd.DataFrame(estimator_evaluation2(gmm4, 'GaussianMixture ', X , y), index=[\"GaussianMixture with init_params\"])\n",
    "gmm_df4"
   ]
  },
  {
   "cell_type": "markdown",
   "metadata": {},
   "source": [
    "#### GMM with n_components and n_init using Grid Search \n",
    "\n",
    "n_init refers to the number of initializations to be performed in GMM.\n",
    "\n",
    "We would be using the best n_init for our problem analysis using Grid Search Hyper-paramter technique"
   ]
  },
  {
   "cell_type": "code",
   "execution_count": 167,
   "metadata": {},
   "outputs": [
    {
     "name": "stdout",
     "output_type": "stream",
     "text": [
      "{'n_components': 2, 'n_init': 1}\n"
     ]
    },
    {
     "data": {
      "text/html": [
       "<div>\n",
       "<style scoped>\n",
       "    .dataframe tbody tr th:only-of-type {\n",
       "        vertical-align: middle;\n",
       "    }\n",
       "\n",
       "    .dataframe tbody tr th {\n",
       "        vertical-align: top;\n",
       "    }\n",
       "\n",
       "    .dataframe thead th {\n",
       "        text-align: right;\n",
       "    }\n",
       "</style>\n",
       "<table border=\"1\" class=\"dataframe\">\n",
       "  <thead>\n",
       "    <tr style=\"text-align: right;\">\n",
       "      <th></th>\n",
       "      <th>Cluster</th>\n",
       "    </tr>\n",
       "  </thead>\n",
       "  <tbody>\n",
       "    <tr>\n",
       "      <th>1</th>\n",
       "      <td>45</td>\n",
       "    </tr>\n",
       "    <tr>\n",
       "      <th>0</th>\n",
       "      <td>27</td>\n",
       "    </tr>\n",
       "  </tbody>\n",
       "</table>\n",
       "</div>"
      ],
      "text/plain": [
       "   Cluster\n",
       "1       45\n",
       "0       27"
      ]
     },
     "execution_count": 167,
     "metadata": {},
     "output_type": "execute_result"
    }
   ],
   "source": [
    "gmm_grid = {\n",
    "        \"n_init\": range(1, 6),\n",
    "        \"n_components\": range(2, 5)\n",
    "       }\n",
    "gmm_grid\n",
    "gmm_model5 = GaussianMixture()\n",
    "gmm_params5 = GridSearchCV(gmm_model5,gmm_grid,scoring=silhouette_score3,cv= 10).fit(X, y)\n",
    "print(gmm_params5.best_params_)\n",
    "gmm5 = GaussianMixture(n_init = gmm_params5.best_params_['n_init'],\n",
    "                      n_components = gmm_params5.best_params_['n_components'])\n",
    "\n",
    "gmm5.fit(X)\n",
    "gmm5_labels = gmm5.fit_predict(X)\n",
    "gmm5_dataset = pd.DataFrame(X.copy())\n",
    "gmm5_dataset.loc[:,'Cluster'] = gmm5_labels\n",
    "gmm5_dataset.Cluster.value_counts().to_frame()"
   ]
  },
  {
   "cell_type": "code",
   "execution_count": 168,
   "metadata": {},
   "outputs": [
    {
     "data": {
      "text/html": [
       "<div>\n",
       "<style scoped>\n",
       "    .dataframe tbody tr th:only-of-type {\n",
       "        vertical-align: middle;\n",
       "    }\n",
       "\n",
       "    .dataframe tbody tr th {\n",
       "        vertical-align: top;\n",
       "    }\n",
       "\n",
       "    .dataframe thead th {\n",
       "        text-align: right;\n",
       "    }\n",
       "</style>\n",
       "<table border=\"1\" class=\"dataframe\">\n",
       "  <thead>\n",
       "    <tr style=\"text-align: right;\">\n",
       "      <th></th>\n",
       "      <th>silhouette_score</th>\n",
       "      <th>davies_bouldin_score</th>\n",
       "      <th>calinski_harabasz_score</th>\n",
       "      <th>fowlkes_mallows_score</th>\n",
       "      <th>adjusted_rand_score</th>\n",
       "      <th>adjusted_mutual_info_score</th>\n",
       "      <th>homogeneity_score</th>\n",
       "      <th>completeness_score</th>\n",
       "      <th>v_measure_score</th>\n",
       "    </tr>\n",
       "  </thead>\n",
       "  <tbody>\n",
       "    <tr>\n",
       "      <th>GaussianMixture with n_init</th>\n",
       "      <td>0.343037</td>\n",
       "      <td>1.199572</td>\n",
       "      <td>40.405381</td>\n",
       "      <td>0.713595</td>\n",
       "      <td>0.359518</td>\n",
       "      <td>0.258732</td>\n",
       "      <td>0.279937</td>\n",
       "      <td>0.255426</td>\n",
       "      <td>0.26712</td>\n",
       "    </tr>\n",
       "  </tbody>\n",
       "</table>\n",
       "</div>"
      ],
      "text/plain": [
       "                             silhouette_score  davies_bouldin_score  \\\n",
       "GaussianMixture with n_init          0.343037              1.199572   \n",
       "\n",
       "                             calinski_harabasz_score  fowlkes_mallows_score  \\\n",
       "GaussianMixture with n_init                40.405381               0.713595   \n",
       "\n",
       "                             adjusted_rand_score  adjusted_mutual_info_score  \\\n",
       "GaussianMixture with n_init             0.359518                    0.258732   \n",
       "\n",
       "                             homogeneity_score  completeness_score  \\\n",
       "GaussianMixture with n_init           0.279937            0.255426   \n",
       "\n",
       "                             v_measure_score  \n",
       "GaussianMixture with n_init          0.26712  "
      ]
     },
     "execution_count": 168,
     "metadata": {},
     "output_type": "execute_result"
    }
   ],
   "source": [
    "gmm_df5 = pd.DataFrame(estimator_evaluation2(gmm5, 'GaussianMixture ', X , y), index=[\"GaussianMixture with n_init\"])\n",
    "gmm_df5"
   ]
  },
  {
   "cell_type": "code",
   "execution_count": 169,
   "metadata": {},
   "outputs": [
    {
     "data": {
      "text/html": [
       "<div>\n",
       "<style scoped>\n",
       "    .dataframe tbody tr th:only-of-type {\n",
       "        vertical-align: middle;\n",
       "    }\n",
       "\n",
       "    .dataframe tbody tr th {\n",
       "        vertical-align: top;\n",
       "    }\n",
       "\n",
       "    .dataframe thead th {\n",
       "        text-align: right;\n",
       "    }\n",
       "</style>\n",
       "<table border=\"1\" class=\"dataframe\">\n",
       "  <thead>\n",
       "    <tr style=\"text-align: right;\">\n",
       "      <th></th>\n",
       "      <th>silhouette_score</th>\n",
       "      <th>davies_bouldin_score</th>\n",
       "      <th>calinski_harabasz_score</th>\n",
       "      <th>fowlkes_mallows_score</th>\n",
       "      <th>adjusted_rand_score</th>\n",
       "      <th>adjusted_mutual_info_score</th>\n",
       "      <th>homogeneity_score</th>\n",
       "      <th>completeness_score</th>\n",
       "      <th>v_measure_score</th>\n",
       "    </tr>\n",
       "  </thead>\n",
       "  <tbody>\n",
       "    <tr>\n",
       "      <th>GaussianMixture with n_components only</th>\n",
       "      <td>0.369837</td>\n",
       "      <td>1.210983</td>\n",
       "      <td>40.024168</td>\n",
       "      <td>0.616312</td>\n",
       "      <td>0.160056</td>\n",
       "      <td>0.302954</td>\n",
       "      <td>0.330167</td>\n",
       "      <td>0.293438</td>\n",
       "      <td>0.310721</td>\n",
       "    </tr>\n",
       "    <tr>\n",
       "      <th>GaussianMixture with covariance_type</th>\n",
       "      <td>0.343037</td>\n",
       "      <td>1.199572</td>\n",
       "      <td>40.405381</td>\n",
       "      <td>0.713595</td>\n",
       "      <td>0.359518</td>\n",
       "      <td>0.258732</td>\n",
       "      <td>0.279937</td>\n",
       "      <td>0.255426</td>\n",
       "      <td>0.267120</td>\n",
       "    </tr>\n",
       "    <tr>\n",
       "      <th>GaussianMixture with max_iter</th>\n",
       "      <td>0.343037</td>\n",
       "      <td>1.199572</td>\n",
       "      <td>40.405381</td>\n",
       "      <td>0.713595</td>\n",
       "      <td>0.359518</td>\n",
       "      <td>0.258732</td>\n",
       "      <td>0.279937</td>\n",
       "      <td>0.255426</td>\n",
       "      <td>0.267120</td>\n",
       "    </tr>\n",
       "    <tr>\n",
       "      <th>GaussianMixture with init_params</th>\n",
       "      <td>0.343037</td>\n",
       "      <td>1.199572</td>\n",
       "      <td>40.405381</td>\n",
       "      <td>0.713595</td>\n",
       "      <td>0.359518</td>\n",
       "      <td>0.258732</td>\n",
       "      <td>0.279937</td>\n",
       "      <td>0.255426</td>\n",
       "      <td>0.267120</td>\n",
       "    </tr>\n",
       "    <tr>\n",
       "      <th>GaussianMixture with n_init</th>\n",
       "      <td>0.343037</td>\n",
       "      <td>1.199572</td>\n",
       "      <td>40.405381</td>\n",
       "      <td>0.713595</td>\n",
       "      <td>0.359518</td>\n",
       "      <td>0.258732</td>\n",
       "      <td>0.279937</td>\n",
       "      <td>0.255426</td>\n",
       "      <td>0.267120</td>\n",
       "    </tr>\n",
       "  </tbody>\n",
       "</table>\n",
       "</div>"
      ],
      "text/plain": [
       "                                        silhouette_score  \\\n",
       "GaussianMixture with n_components only          0.369837   \n",
       "GaussianMixture with covariance_type            0.343037   \n",
       "GaussianMixture with max_iter                   0.343037   \n",
       "GaussianMixture with init_params                0.343037   \n",
       "GaussianMixture with n_init                     0.343037   \n",
       "\n",
       "                                        davies_bouldin_score  \\\n",
       "GaussianMixture with n_components only              1.210983   \n",
       "GaussianMixture with covariance_type                1.199572   \n",
       "GaussianMixture with max_iter                       1.199572   \n",
       "GaussianMixture with init_params                    1.199572   \n",
       "GaussianMixture with n_init                         1.199572   \n",
       "\n",
       "                                        calinski_harabasz_score  \\\n",
       "GaussianMixture with n_components only                40.024168   \n",
       "GaussianMixture with covariance_type                  40.405381   \n",
       "GaussianMixture with max_iter                         40.405381   \n",
       "GaussianMixture with init_params                      40.405381   \n",
       "GaussianMixture with n_init                           40.405381   \n",
       "\n",
       "                                        fowlkes_mallows_score  \\\n",
       "GaussianMixture with n_components only               0.616312   \n",
       "GaussianMixture with covariance_type                 0.713595   \n",
       "GaussianMixture with max_iter                        0.713595   \n",
       "GaussianMixture with init_params                     0.713595   \n",
       "GaussianMixture with n_init                          0.713595   \n",
       "\n",
       "                                        adjusted_rand_score  \\\n",
       "GaussianMixture with n_components only             0.160056   \n",
       "GaussianMixture with covariance_type               0.359518   \n",
       "GaussianMixture with max_iter                      0.359518   \n",
       "GaussianMixture with init_params                   0.359518   \n",
       "GaussianMixture with n_init                        0.359518   \n",
       "\n",
       "                                        adjusted_mutual_info_score  \\\n",
       "GaussianMixture with n_components only                    0.302954   \n",
       "GaussianMixture with covariance_type                      0.258732   \n",
       "GaussianMixture with max_iter                             0.258732   \n",
       "GaussianMixture with init_params                          0.258732   \n",
       "GaussianMixture with n_init                               0.258732   \n",
       "\n",
       "                                        homogeneity_score  completeness_score  \\\n",
       "GaussianMixture with n_components only           0.330167            0.293438   \n",
       "GaussianMixture with covariance_type             0.279937            0.255426   \n",
       "GaussianMixture with max_iter                    0.279937            0.255426   \n",
       "GaussianMixture with init_params                 0.279937            0.255426   \n",
       "GaussianMixture with n_init                      0.279937            0.255426   \n",
       "\n",
       "                                        v_measure_score  \n",
       "GaussianMixture with n_components only         0.310721  \n",
       "GaussianMixture with covariance_type           0.267120  \n",
       "GaussianMixture with max_iter                  0.267120  \n",
       "GaussianMixture with init_params               0.267120  \n",
       "GaussianMixture with n_init                    0.267120  "
      ]
     },
     "execution_count": 169,
     "metadata": {},
     "output_type": "execute_result"
    }
   ],
   "source": [
    "gmm_result = gmm_df1.append([gmm_df2, gmm_df3,gmm_df4,gmm_df5])\n",
    "gmm_result"
   ]
  },
  {
   "cell_type": "markdown",
   "metadata": {},
   "source": [
    "### Part 1 Performance Analysis:\n",
    "\n",
    "From the above result set of all those 5 GMM model with it's different paramters, we can conclude that\n",
    "\n",
    "- Silhoutte Score of each model seems to be similar for all different parameters of GMM, there is an inccrease of 2% with n_components = 2 and all default values for other paramteres otherwise the score seems to similar for other models, except this Silhoutte Score of each model seems to be similar for 4 other models.\n",
    "- Davies_bouldin_score seems to be good for each model, meaning the GMM has build the clusters that are farther apart and less dispersed on our dataset. \n",
    "- Calinski_harabasz_score is quite high for n_components = 2, covariance_type = tied and all default values for other paramteres but similar for other models, means the clusters are dense and well separated.\n",
    "- V-measure of each models is way less for each model but GaussianMixture with n_components only, meaning  GMM was able to cluster 31% of the data points in the cluster correctly.\n",
    "- adjusted_rand_score is above 35% for all models, meaning that the clusterings that we are comparing have 35% in common.\n",
    " \n",
    "\n",
    "\n",
    "## Part 2: Comparative Analysis of Gaussian Mixture Model with Bayesian Gaussian Mixture, Mini-Batch K-means, OPTICS, DBSCAN, Agglomerative, Spectral Clustering and Affinity Propagation\n",
    "\n",
    "### Gaussian Mixture Model\n",
    "\n",
    "A Gaussian mixture model (GMM) assists to find a mixture of multi-dimensional Gaussian probability distributions that best models dataset. In the simplest case, GMMs can be used for finding clusters in the same manner as k-means."
   ]
  },
  {
   "cell_type": "code",
   "execution_count": 170,
   "metadata": {},
   "outputs": [
    {
     "data": {
      "text/plain": [
       "{'covariance_type': ['full', 'tied', 'diag', 'spherical'],\n",
       " 'max_iter': [50, 100, 150, 200, 250, 300],\n",
       " 'init_params': ['kmeans', 'k-means++', 'random', 'random_from_data'],\n",
       " 'n_components': range(2, 6),\n",
       " 'n_init': range(1, 5)}"
      ]
     },
     "execution_count": 170,
     "metadata": {},
     "output_type": "execute_result"
    }
   ],
   "source": [
    "\n",
    "gmm_grid = {\n",
    "        \"covariance_type\": ['full', 'tied', 'diag', 'spherical'],\n",
    "        \"max_iter\": [50, 100, 150, 200, 250, 300],\n",
    "        \"init_params\": ['kmeans', 'k-means++', 'random', 'random_from_data'],\n",
    "        \"n_components\": range(2, 6),\n",
    "        \"n_init\": range(1, 5)\n",
    "       }\n",
    "gmm_grid"
   ]
  },
  {
   "cell_type": "code",
   "execution_count": 171,
   "metadata": {},
   "outputs": [],
   "source": [
    "gmm_model = GaussianMixture()\n",
    "gmm_params = GridSearchCV(gmm_model,gmm_grid,scoring=silhouette_score3,cv= 10).fit(X, y)"
   ]
  },
  {
   "cell_type": "code",
   "execution_count": 172,
   "metadata": {},
   "outputs": [
    {
     "data": {
      "text/plain": [
       "(0.49457686726935435,\n",
       " {'covariance_type': 'spherical',\n",
       "  'init_params': 'kmeans',\n",
       "  'max_iter': 50,\n",
       "  'n_components': 2,\n",
       "  'n_init': 1})"
      ]
     },
     "execution_count": 172,
     "metadata": {},
     "output_type": "execute_result"
    }
   ],
   "source": [
    "gmm_params.best_score_, gmm_params.best_params_"
   ]
  },
  {
   "cell_type": "code",
   "execution_count": 173,
   "metadata": {},
   "outputs": [],
   "source": [
    "gmm = GaussianMixture(covariance_type = gmm_params.best_params_['covariance_type'],\n",
    "                      init_params = gmm_params.best_params_['init_params'],\n",
    "                      n_components = gmm_params.best_params_['n_components'],\n",
    "                      n_init = gmm_params.best_params_['n_init'],\n",
    "                      max_iter = gmm_params.best_params_['max_iter'])\n",
    "\n",
    "gmm.fit(X)\n",
    "gmm_labels = gmm.fit_predict(X)"
   ]
  },
  {
   "cell_type": "code",
   "execution_count": 174,
   "metadata": {},
   "outputs": [
    {
     "data": {
      "text/html": [
       "<div>\n",
       "<style scoped>\n",
       "    .dataframe tbody tr th:only-of-type {\n",
       "        vertical-align: middle;\n",
       "    }\n",
       "\n",
       "    .dataframe tbody tr th {\n",
       "        vertical-align: top;\n",
       "    }\n",
       "\n",
       "    .dataframe thead th {\n",
       "        text-align: right;\n",
       "    }\n",
       "</style>\n",
       "<table border=\"1\" class=\"dataframe\">\n",
       "  <thead>\n",
       "    <tr style=\"text-align: right;\">\n",
       "      <th></th>\n",
       "      <th>Cluster</th>\n",
       "    </tr>\n",
       "  </thead>\n",
       "  <tbody>\n",
       "    <tr>\n",
       "      <th>0</th>\n",
       "      <td>44</td>\n",
       "    </tr>\n",
       "    <tr>\n",
       "      <th>1</th>\n",
       "      <td>28</td>\n",
       "    </tr>\n",
       "  </tbody>\n",
       "</table>\n",
       "</div>"
      ],
      "text/plain": [
       "   Cluster\n",
       "0       44\n",
       "1       28"
      ]
     },
     "execution_count": 174,
     "metadata": {},
     "output_type": "execute_result"
    }
   ],
   "source": [
    "gmm_dataset = pd.DataFrame(X.copy())\n",
    "gmm_dataset.loc[:,'Cluster'] = gmm_labels\n",
    "gmm_dataset.Cluster.value_counts().to_frame()"
   ]
  },
  {
   "cell_type": "code",
   "execution_count": 175,
   "metadata": {},
   "outputs": [
    {
     "data": {
      "text/html": [
       "<div>\n",
       "<style scoped>\n",
       "    .dataframe tbody tr th:only-of-type {\n",
       "        vertical-align: middle;\n",
       "    }\n",
       "\n",
       "    .dataframe tbody tr th {\n",
       "        vertical-align: top;\n",
       "    }\n",
       "\n",
       "    .dataframe thead th {\n",
       "        text-align: right;\n",
       "    }\n",
       "</style>\n",
       "<table border=\"1\" class=\"dataframe\">\n",
       "  <thead>\n",
       "    <tr style=\"text-align: right;\">\n",
       "      <th></th>\n",
       "      <th>silhouette_score</th>\n",
       "      <th>davies_bouldin_score</th>\n",
       "      <th>calinski_harabasz_score</th>\n",
       "      <th>fowlkes_mallows_score</th>\n",
       "      <th>adjusted_rand_score</th>\n",
       "      <th>adjusted_mutual_info_score</th>\n",
       "      <th>homogeneity_score</th>\n",
       "      <th>completeness_score</th>\n",
       "      <th>v_measure_score</th>\n",
       "    </tr>\n",
       "  </thead>\n",
       "  <tbody>\n",
       "    <tr>\n",
       "      <th>GaussianMixture</th>\n",
       "      <td>0.369837</td>\n",
       "      <td>1.210983</td>\n",
       "      <td>40.024168</td>\n",
       "      <td>0.616312</td>\n",
       "      <td>0.160056</td>\n",
       "      <td>0.302954</td>\n",
       "      <td>0.330167</td>\n",
       "      <td>0.293438</td>\n",
       "      <td>0.310721</td>\n",
       "    </tr>\n",
       "  </tbody>\n",
       "</table>\n",
       "</div>"
      ],
      "text/plain": [
       "                 silhouette_score  davies_bouldin_score  \\\n",
       "GaussianMixture          0.369837              1.210983   \n",
       "\n",
       "                 calinski_harabasz_score  fowlkes_mallows_score  \\\n",
       "GaussianMixture                40.024168               0.616312   \n",
       "\n",
       "                 adjusted_rand_score  adjusted_mutual_info_score  \\\n",
       "GaussianMixture             0.160056                    0.302954   \n",
       "\n",
       "                 homogeneity_score  completeness_score  v_measure_score  \n",
       "GaussianMixture           0.330167            0.293438         0.310721  "
      ]
     },
     "execution_count": 175,
     "metadata": {},
     "output_type": "execute_result"
    }
   ],
   "source": [
    "gmm_df = pd.DataFrame(estimator_evaluation2(gmm, 'GaussianMixture ', X , y), index=[\"GaussianMixture\"])\n",
    "gmm_df"
   ]
  },
  {
   "cell_type": "code",
   "execution_count": 176,
   "metadata": {},
   "outputs": [
    {
     "data": {
      "application/vnd.plotly.v1+json": {
       "config": {
        "plotlyServerURL": "https://plot.ly"
       },
       "data": [
        {
         "hovertemplate": "color=b<br>x=%{x}<br>y=%{y}<br>z=%{z}<extra></extra>",
         "legendgroup": "b",
         "marker": {
          "color": "#636efa",
          "symbol": "circle"
         },
         "mode": "markers",
         "name": "b",
         "scene": "scene",
         "showlegend": true,
         "type": "scatter3d",
         "x": [
          -222.25685119628906,
          -192.41990661621094,
          66.4457778930664,
          27.940114974975586,
          -10.688939094543457,
          -40.88806915283203,
          -7.831593036651611,
          1.5661554336547852,
          77.92326354980469,
          94.50299072265625,
          -76.70748901367188,
          154.04307556152344,
          -125.14037322998047,
          -194.5255126953125,
          -171.12765502929688,
          -58.37281799316406,
          -123.60993957519531,
          166.2958526611328,
          74.19873046875,
          -235.4899139404297,
          -20.661266326904297,
          215.47412109375,
          244.2310333251953,
          -106.86402130126953,
          216.59251403808594,
          -87.39492797851562,
          -243.91636657714844,
          117.71082305908203,
          -55.477081298828125,
          574.46533203125,
          -472.7052001953125,
          189.8723602294922,
          97.12095642089844,
          -125.23223114013672,
          -7.945499420166016,
          -853.9267578125,
          -121.51959991455078,
          273.0644226074219,
          87.75641632080078,
          215.19900512695312,
          157.99874877929688,
          -528.190185546875,
          -149.7468719482422,
          31.735546112060547
         ],
         "y": [
          135.30206298828125,
          -14.947516441345215,
          197.68235778808594,
          105.18840789794922,
          170.22706604003906,
          -99.29610443115234,
          -204.01602172851562,
          187.73544311523438,
          -156.25172424316406,
          177.0645751953125,
          -50.088504791259766,
          -108.4754638671875,
          203.1099395751953,
          126.3804702758789,
          0.8603398203849792,
          153.9667510986328,
          228.1318359375,
          -124.4136734008789,
          10.972871780395508,
          -270.4643859863281,
          -132.0785369873047,
          -68.2504653930664,
          -43.42403030395508,
          85.46910095214844,
          114.33827209472656,
          58.3590202331543,
          3.583927631378174,
          -259.4632263183594,
          112.51338958740234,
          660.684814453125,
          -258.1738586425781,
          39.25485610961914,
          -676.337646484375,
          -136.2206268310547,
          60.50465774536133,
          -795.32421875,
          8.41312313079834,
          576.7789916992188,
          -74.94046020507812,
          127.17420196533203,
          125.32418060302734,
          -322.5052795410156,
          84.66069793701172,
          138.36749267578125
         ],
         "z": [
          -43.70221710205078,
          152.29222106933594,
          108.76335906982422,
          66.8324966430664,
          161.2058868408203,
          -79.23223876953125,
          -112.17604064941406,
          6.635348320007324,
          95.44732666015625,
          -11.401665687561035,
          8.731574058532715,
          -143.4044189453125,
          -236.89608764648438,
          112.22435760498047,
          20.69046401977539,
          80.18512725830078,
          -1.9881219863891602,
          204.8857421875,
          -141.8531036376953,
          181.6068115234375,
          15.802854537963867,
          -74.82068634033203,
          -193.35533142089844,
          -15.591598510742188,
          33.415924072265625,
          172.13238525390625,
          -85.99236297607422,
          224.80979919433594,
          -111.12268829345703,
          -24.78403091430664,
          -915.7365112304688,
          100.69973754882812,
          -11.791769027709961,
          -172.39096069335938,
          -208.38368225097656,
          -1089.1279296875,
          -112.42800903320312,
          282.93768310546875,
          -41.91459274291992,
          237.6306915283203,
          154.82005310058594,
          55.0999870300293,
          -165.8447723388672,
          -122.94525909423828
         ]
        },
        {
         "hovertemplate": "color=g<br>x=%{x}<br>y=%{y}<br>z=%{z}<extra></extra>",
         "legendgroup": "g",
         "marker": {
          "color": "#EF553B",
          "symbol": "circle"
         },
         "mode": "markers",
         "name": "g",
         "scene": "scene",
         "showlegend": true,
         "type": "scatter3d",
         "x": [
          -56.870540618896484,
          44.65104675292969,
          -86.93032836914062,
          -239.43260192871094,
          -217.6259765625,
          -114.09321594238281,
          -182.896728515625,
          -106.96979522705078,
          3.260634422302246,
          -206.66896057128906,
          399.9635314941406,
          -47.97267150878906,
          1841.989013671875,
          -1801.2679443359375,
          -4.6844801902771,
          196.72329711914062,
          -57.61237716674805,
          213.12448120117188,
          -141.02459716796875,
          171.6178436279297,
          131.60308837890625,
          6.30012845993042,
          80.25542449951172,
          82.18209075927734,
          75.19206237792969,
          166.6962127685547,
          37.07628631591797,
          77.3011703491211
         ],
         "y": [
          253.809326171875,
          164.7206573486328,
          -228.12095642089844,
          -92.80677795410156,
          249.48431396484375,
          -130.23472595214844,
          -122.88432312011719,
          -25.81893539428711,
          24.458255767822266,
          -173.1040802001953,
          -256.8039245605469,
          -56.51859664916992,
          1467.8935546875,
          -1447.1446533203125,
          -163.4218292236328,
          -188.7790069580078,
          -64.56523895263672,
          239.56362915039062,
          -195.98233032226562,
          64.07123565673828,
          18.285236358642578,
          -2.807375192642212,
          -23.86867904663086,
          5.163120746612549,
          -23.467269897460938,
          -72.72796630859375,
          -100.8333511352539,
          -198.02752685546875
         ],
         "z": [
          -116.54869842529297,
          -253.41453552246094,
          57.316314697265625,
          59.41981887817383,
          371.1182861328125,
          162.01087951660156,
          -57.169219970703125,
          -225.64120483398438,
          -31.485342025756836,
          101.13890838623047,
          -463.7212829589844,
          119.77942657470703,
          492.49163818359375,
          -205.75930786132812,
          202.48915100097656,
          -6.538973808288574,
          -284.97076416015625,
          -72.37076568603516,
          -7.4254255294799805,
          -89.58865356445312,
          -25.496044158935547,
          236.02667236328125,
          -263.61279296875,
          169.1348114013672,
          78.81763458251953,
          63.962032318115234,
          -176.89260864257812,
          -24.913532257080078
         ]
        }
       ],
       "layout": {
        "legend": {
         "title": {
          "text": "color"
         },
         "tracegroupgap": 0
        },
        "margin": {
         "t": 60
        },
        "scene": {
         "domain": {
          "x": [
           0,
           1
          ],
          "y": [
           0,
           1
          ]
         },
         "xaxis": {
          "title": {
           "text": "x"
          }
         },
         "yaxis": {
          "title": {
           "text": "y"
          }
         },
         "zaxis": {
          "title": {
           "text": "z"
          }
         }
        },
        "template": {
         "data": {
          "bar": [
           {
            "error_x": {
             "color": "#2a3f5f"
            },
            "error_y": {
             "color": "#2a3f5f"
            },
            "marker": {
             "line": {
              "color": "#E5ECF6",
              "width": 0.5
             },
             "pattern": {
              "fillmode": "overlay",
              "size": 10,
              "solidity": 0.2
             }
            },
            "type": "bar"
           }
          ],
          "barpolar": [
           {
            "marker": {
             "line": {
              "color": "#E5ECF6",
              "width": 0.5
             },
             "pattern": {
              "fillmode": "overlay",
              "size": 10,
              "solidity": 0.2
             }
            },
            "type": "barpolar"
           }
          ],
          "carpet": [
           {
            "aaxis": {
             "endlinecolor": "#2a3f5f",
             "gridcolor": "white",
             "linecolor": "white",
             "minorgridcolor": "white",
             "startlinecolor": "#2a3f5f"
            },
            "baxis": {
             "endlinecolor": "#2a3f5f",
             "gridcolor": "white",
             "linecolor": "white",
             "minorgridcolor": "white",
             "startlinecolor": "#2a3f5f"
            },
            "type": "carpet"
           }
          ],
          "choropleth": [
           {
            "colorbar": {
             "outlinewidth": 0,
             "ticks": ""
            },
            "type": "choropleth"
           }
          ],
          "contour": [
           {
            "colorbar": {
             "outlinewidth": 0,
             "ticks": ""
            },
            "colorscale": [
             [
              0,
              "#0d0887"
             ],
             [
              0.1111111111111111,
              "#46039f"
             ],
             [
              0.2222222222222222,
              "#7201a8"
             ],
             [
              0.3333333333333333,
              "#9c179e"
             ],
             [
              0.4444444444444444,
              "#bd3786"
             ],
             [
              0.5555555555555556,
              "#d8576b"
             ],
             [
              0.6666666666666666,
              "#ed7953"
             ],
             [
              0.7777777777777778,
              "#fb9f3a"
             ],
             [
              0.8888888888888888,
              "#fdca26"
             ],
             [
              1,
              "#f0f921"
             ]
            ],
            "type": "contour"
           }
          ],
          "contourcarpet": [
           {
            "colorbar": {
             "outlinewidth": 0,
             "ticks": ""
            },
            "type": "contourcarpet"
           }
          ],
          "heatmap": [
           {
            "colorbar": {
             "outlinewidth": 0,
             "ticks": ""
            },
            "colorscale": [
             [
              0,
              "#0d0887"
             ],
             [
              0.1111111111111111,
              "#46039f"
             ],
             [
              0.2222222222222222,
              "#7201a8"
             ],
             [
              0.3333333333333333,
              "#9c179e"
             ],
             [
              0.4444444444444444,
              "#bd3786"
             ],
             [
              0.5555555555555556,
              "#d8576b"
             ],
             [
              0.6666666666666666,
              "#ed7953"
             ],
             [
              0.7777777777777778,
              "#fb9f3a"
             ],
             [
              0.8888888888888888,
              "#fdca26"
             ],
             [
              1,
              "#f0f921"
             ]
            ],
            "type": "heatmap"
           }
          ],
          "heatmapgl": [
           {
            "colorbar": {
             "outlinewidth": 0,
             "ticks": ""
            },
            "colorscale": [
             [
              0,
              "#0d0887"
             ],
             [
              0.1111111111111111,
              "#46039f"
             ],
             [
              0.2222222222222222,
              "#7201a8"
             ],
             [
              0.3333333333333333,
              "#9c179e"
             ],
             [
              0.4444444444444444,
              "#bd3786"
             ],
             [
              0.5555555555555556,
              "#d8576b"
             ],
             [
              0.6666666666666666,
              "#ed7953"
             ],
             [
              0.7777777777777778,
              "#fb9f3a"
             ],
             [
              0.8888888888888888,
              "#fdca26"
             ],
             [
              1,
              "#f0f921"
             ]
            ],
            "type": "heatmapgl"
           }
          ],
          "histogram": [
           {
            "marker": {
             "pattern": {
              "fillmode": "overlay",
              "size": 10,
              "solidity": 0.2
             }
            },
            "type": "histogram"
           }
          ],
          "histogram2d": [
           {
            "colorbar": {
             "outlinewidth": 0,
             "ticks": ""
            },
            "colorscale": [
             [
              0,
              "#0d0887"
             ],
             [
              0.1111111111111111,
              "#46039f"
             ],
             [
              0.2222222222222222,
              "#7201a8"
             ],
             [
              0.3333333333333333,
              "#9c179e"
             ],
             [
              0.4444444444444444,
              "#bd3786"
             ],
             [
              0.5555555555555556,
              "#d8576b"
             ],
             [
              0.6666666666666666,
              "#ed7953"
             ],
             [
              0.7777777777777778,
              "#fb9f3a"
             ],
             [
              0.8888888888888888,
              "#fdca26"
             ],
             [
              1,
              "#f0f921"
             ]
            ],
            "type": "histogram2d"
           }
          ],
          "histogram2dcontour": [
           {
            "colorbar": {
             "outlinewidth": 0,
             "ticks": ""
            },
            "colorscale": [
             [
              0,
              "#0d0887"
             ],
             [
              0.1111111111111111,
              "#46039f"
             ],
             [
              0.2222222222222222,
              "#7201a8"
             ],
             [
              0.3333333333333333,
              "#9c179e"
             ],
             [
              0.4444444444444444,
              "#bd3786"
             ],
             [
              0.5555555555555556,
              "#d8576b"
             ],
             [
              0.6666666666666666,
              "#ed7953"
             ],
             [
              0.7777777777777778,
              "#fb9f3a"
             ],
             [
              0.8888888888888888,
              "#fdca26"
             ],
             [
              1,
              "#f0f921"
             ]
            ],
            "type": "histogram2dcontour"
           }
          ],
          "mesh3d": [
           {
            "colorbar": {
             "outlinewidth": 0,
             "ticks": ""
            },
            "type": "mesh3d"
           }
          ],
          "parcoords": [
           {
            "line": {
             "colorbar": {
              "outlinewidth": 0,
              "ticks": ""
             }
            },
            "type": "parcoords"
           }
          ],
          "pie": [
           {
            "automargin": true,
            "type": "pie"
           }
          ],
          "scatter": [
           {
            "fillpattern": {
             "fillmode": "overlay",
             "size": 10,
             "solidity": 0.2
            },
            "type": "scatter"
           }
          ],
          "scatter3d": [
           {
            "line": {
             "colorbar": {
              "outlinewidth": 0,
              "ticks": ""
             }
            },
            "marker": {
             "colorbar": {
              "outlinewidth": 0,
              "ticks": ""
             }
            },
            "type": "scatter3d"
           }
          ],
          "scattercarpet": [
           {
            "marker": {
             "colorbar": {
              "outlinewidth": 0,
              "ticks": ""
             }
            },
            "type": "scattercarpet"
           }
          ],
          "scattergeo": [
           {
            "marker": {
             "colorbar": {
              "outlinewidth": 0,
              "ticks": ""
             }
            },
            "type": "scattergeo"
           }
          ],
          "scattergl": [
           {
            "marker": {
             "colorbar": {
              "outlinewidth": 0,
              "ticks": ""
             }
            },
            "type": "scattergl"
           }
          ],
          "scattermapbox": [
           {
            "marker": {
             "colorbar": {
              "outlinewidth": 0,
              "ticks": ""
             }
            },
            "type": "scattermapbox"
           }
          ],
          "scatterpolar": [
           {
            "marker": {
             "colorbar": {
              "outlinewidth": 0,
              "ticks": ""
             }
            },
            "type": "scatterpolar"
           }
          ],
          "scatterpolargl": [
           {
            "marker": {
             "colorbar": {
              "outlinewidth": 0,
              "ticks": ""
             }
            },
            "type": "scatterpolargl"
           }
          ],
          "scatterternary": [
           {
            "marker": {
             "colorbar": {
              "outlinewidth": 0,
              "ticks": ""
             }
            },
            "type": "scatterternary"
           }
          ],
          "surface": [
           {
            "colorbar": {
             "outlinewidth": 0,
             "ticks": ""
            },
            "colorscale": [
             [
              0,
              "#0d0887"
             ],
             [
              0.1111111111111111,
              "#46039f"
             ],
             [
              0.2222222222222222,
              "#7201a8"
             ],
             [
              0.3333333333333333,
              "#9c179e"
             ],
             [
              0.4444444444444444,
              "#bd3786"
             ],
             [
              0.5555555555555556,
              "#d8576b"
             ],
             [
              0.6666666666666666,
              "#ed7953"
             ],
             [
              0.7777777777777778,
              "#fb9f3a"
             ],
             [
              0.8888888888888888,
              "#fdca26"
             ],
             [
              1,
              "#f0f921"
             ]
            ],
            "type": "surface"
           }
          ],
          "table": [
           {
            "cells": {
             "fill": {
              "color": "#EBF0F8"
             },
             "line": {
              "color": "white"
             }
            },
            "header": {
             "fill": {
              "color": "#C8D4E3"
             },
             "line": {
              "color": "white"
             }
            },
            "type": "table"
           }
          ]
         },
         "layout": {
          "annotationdefaults": {
           "arrowcolor": "#2a3f5f",
           "arrowhead": 0,
           "arrowwidth": 1
          },
          "autotypenumbers": "strict",
          "coloraxis": {
           "colorbar": {
            "outlinewidth": 0,
            "ticks": ""
           }
          },
          "colorscale": {
           "diverging": [
            [
             0,
             "#8e0152"
            ],
            [
             0.1,
             "#c51b7d"
            ],
            [
             0.2,
             "#de77ae"
            ],
            [
             0.3,
             "#f1b6da"
            ],
            [
             0.4,
             "#fde0ef"
            ],
            [
             0.5,
             "#f7f7f7"
            ],
            [
             0.6,
             "#e6f5d0"
            ],
            [
             0.7,
             "#b8e186"
            ],
            [
             0.8,
             "#7fbc41"
            ],
            [
             0.9,
             "#4d9221"
            ],
            [
             1,
             "#276419"
            ]
           ],
           "sequential": [
            [
             0,
             "#0d0887"
            ],
            [
             0.1111111111111111,
             "#46039f"
            ],
            [
             0.2222222222222222,
             "#7201a8"
            ],
            [
             0.3333333333333333,
             "#9c179e"
            ],
            [
             0.4444444444444444,
             "#bd3786"
            ],
            [
             0.5555555555555556,
             "#d8576b"
            ],
            [
             0.6666666666666666,
             "#ed7953"
            ],
            [
             0.7777777777777778,
             "#fb9f3a"
            ],
            [
             0.8888888888888888,
             "#fdca26"
            ],
            [
             1,
             "#f0f921"
            ]
           ],
           "sequentialminus": [
            [
             0,
             "#0d0887"
            ],
            [
             0.1111111111111111,
             "#46039f"
            ],
            [
             0.2222222222222222,
             "#7201a8"
            ],
            [
             0.3333333333333333,
             "#9c179e"
            ],
            [
             0.4444444444444444,
             "#bd3786"
            ],
            [
             0.5555555555555556,
             "#d8576b"
            ],
            [
             0.6666666666666666,
             "#ed7953"
            ],
            [
             0.7777777777777778,
             "#fb9f3a"
            ],
            [
             0.8888888888888888,
             "#fdca26"
            ],
            [
             1,
             "#f0f921"
            ]
           ]
          },
          "colorway": [
           "#636efa",
           "#EF553B",
           "#00cc96",
           "#ab63fa",
           "#FFA15A",
           "#19d3f3",
           "#FF6692",
           "#B6E880",
           "#FF97FF",
           "#FECB52"
          ],
          "font": {
           "color": "#2a3f5f"
          },
          "geo": {
           "bgcolor": "white",
           "lakecolor": "white",
           "landcolor": "#E5ECF6",
           "showlakes": true,
           "showland": true,
           "subunitcolor": "white"
          },
          "hoverlabel": {
           "align": "left"
          },
          "hovermode": "closest",
          "mapbox": {
           "style": "light"
          },
          "paper_bgcolor": "white",
          "plot_bgcolor": "#E5ECF6",
          "polar": {
           "angularaxis": {
            "gridcolor": "white",
            "linecolor": "white",
            "ticks": ""
           },
           "bgcolor": "#E5ECF6",
           "radialaxis": {
            "gridcolor": "white",
            "linecolor": "white",
            "ticks": ""
           }
          },
          "scene": {
           "xaxis": {
            "backgroundcolor": "#E5ECF6",
            "gridcolor": "white",
            "gridwidth": 2,
            "linecolor": "white",
            "showbackground": true,
            "ticks": "",
            "zerolinecolor": "white"
           },
           "yaxis": {
            "backgroundcolor": "#E5ECF6",
            "gridcolor": "white",
            "gridwidth": 2,
            "linecolor": "white",
            "showbackground": true,
            "ticks": "",
            "zerolinecolor": "white"
           },
           "zaxis": {
            "backgroundcolor": "#E5ECF6",
            "gridcolor": "white",
            "gridwidth": 2,
            "linecolor": "white",
            "showbackground": true,
            "ticks": "",
            "zerolinecolor": "white"
           }
          },
          "shapedefaults": {
           "line": {
            "color": "#2a3f5f"
           }
          },
          "ternary": {
           "aaxis": {
            "gridcolor": "white",
            "linecolor": "white",
            "ticks": ""
           },
           "baxis": {
            "gridcolor": "white",
            "linecolor": "white",
            "ticks": ""
           },
           "bgcolor": "#E5ECF6",
           "caxis": {
            "gridcolor": "white",
            "linecolor": "white",
            "ticks": ""
           }
          },
          "title": {
           "x": 0.05
          },
          "xaxis": {
           "automargin": true,
           "gridcolor": "white",
           "linecolor": "white",
           "ticks": "",
           "title": {
            "standoff": 15
           },
           "zerolinecolor": "white",
           "zerolinewidth": 2
          },
          "yaxis": {
           "automargin": true,
           "gridcolor": "white",
           "linecolor": "white",
           "ticks": "",
           "title": {
            "standoff": 15
           },
           "zerolinecolor": "white",
           "zerolinewidth": 2
          }
         }
        }
       }
      },
      "text/html": [
       "<div>                            <div id=\"d4960295-6c83-4dfa-849c-f562715e4326\" class=\"plotly-graph-div\" style=\"height:525px; width:100%;\"></div>            <script type=\"text/javascript\">                require([\"plotly\"], function(Plotly) {                    window.PLOTLYENV=window.PLOTLYENV || {};                                    if (document.getElementById(\"d4960295-6c83-4dfa-849c-f562715e4326\")) {                    Plotly.newPlot(                        \"d4960295-6c83-4dfa-849c-f562715e4326\",                        [{\"hovertemplate\":\"color=b<br>x=%{x}<br>y=%{y}<br>z=%{z}<extra></extra>\",\"legendgroup\":\"b\",\"marker\":{\"color\":\"#636efa\",\"symbol\":\"circle\"},\"mode\":\"markers\",\"name\":\"b\",\"scene\":\"scene\",\"showlegend\":true,\"x\":[-222.25685119628906,-192.41990661621094,66.4457778930664,27.940114974975586,-10.688939094543457,-40.88806915283203,-7.831593036651611,1.5661554336547852,77.92326354980469,94.50299072265625,-76.70748901367188,154.04307556152344,-125.14037322998047,-194.5255126953125,-171.12765502929688,-58.37281799316406,-123.60993957519531,166.2958526611328,74.19873046875,-235.4899139404297,-20.661266326904297,215.47412109375,244.2310333251953,-106.86402130126953,216.59251403808594,-87.39492797851562,-243.91636657714844,117.71082305908203,-55.477081298828125,574.46533203125,-472.7052001953125,189.8723602294922,97.12095642089844,-125.23223114013672,-7.945499420166016,-853.9267578125,-121.51959991455078,273.0644226074219,87.75641632080078,215.19900512695312,157.99874877929688,-528.190185546875,-149.7468719482422,31.735546112060547],\"y\":[135.30206298828125,-14.947516441345215,197.68235778808594,105.18840789794922,170.22706604003906,-99.29610443115234,-204.01602172851562,187.73544311523438,-156.25172424316406,177.0645751953125,-50.088504791259766,-108.4754638671875,203.1099395751953,126.3804702758789,0.8603398203849792,153.9667510986328,228.1318359375,-124.4136734008789,10.972871780395508,-270.4643859863281,-132.0785369873047,-68.2504653930664,-43.42403030395508,85.46910095214844,114.33827209472656,58.3590202331543,3.583927631378174,-259.4632263183594,112.51338958740234,660.684814453125,-258.1738586425781,39.25485610961914,-676.337646484375,-136.2206268310547,60.50465774536133,-795.32421875,8.41312313079834,576.7789916992188,-74.94046020507812,127.17420196533203,125.32418060302734,-322.5052795410156,84.66069793701172,138.36749267578125],\"z\":[-43.70221710205078,152.29222106933594,108.76335906982422,66.8324966430664,161.2058868408203,-79.23223876953125,-112.17604064941406,6.635348320007324,95.44732666015625,-11.401665687561035,8.731574058532715,-143.4044189453125,-236.89608764648438,112.22435760498047,20.69046401977539,80.18512725830078,-1.9881219863891602,204.8857421875,-141.8531036376953,181.6068115234375,15.802854537963867,-74.82068634033203,-193.35533142089844,-15.591598510742188,33.415924072265625,172.13238525390625,-85.99236297607422,224.80979919433594,-111.12268829345703,-24.78403091430664,-915.7365112304688,100.69973754882812,-11.791769027709961,-172.39096069335938,-208.38368225097656,-1089.1279296875,-112.42800903320312,282.93768310546875,-41.91459274291992,237.6306915283203,154.82005310058594,55.0999870300293,-165.8447723388672,-122.94525909423828],\"type\":\"scatter3d\"},{\"hovertemplate\":\"color=g<br>x=%{x}<br>y=%{y}<br>z=%{z}<extra></extra>\",\"legendgroup\":\"g\",\"marker\":{\"color\":\"#EF553B\",\"symbol\":\"circle\"},\"mode\":\"markers\",\"name\":\"g\",\"scene\":\"scene\",\"showlegend\":true,\"x\":[-56.870540618896484,44.65104675292969,-86.93032836914062,-239.43260192871094,-217.6259765625,-114.09321594238281,-182.896728515625,-106.96979522705078,3.260634422302246,-206.66896057128906,399.9635314941406,-47.97267150878906,1841.989013671875,-1801.2679443359375,-4.6844801902771,196.72329711914062,-57.61237716674805,213.12448120117188,-141.02459716796875,171.6178436279297,131.60308837890625,6.30012845993042,80.25542449951172,82.18209075927734,75.19206237792969,166.6962127685547,37.07628631591797,77.3011703491211],\"y\":[253.809326171875,164.7206573486328,-228.12095642089844,-92.80677795410156,249.48431396484375,-130.23472595214844,-122.88432312011719,-25.81893539428711,24.458255767822266,-173.1040802001953,-256.8039245605469,-56.51859664916992,1467.8935546875,-1447.1446533203125,-163.4218292236328,-188.7790069580078,-64.56523895263672,239.56362915039062,-195.98233032226562,64.07123565673828,18.285236358642578,-2.807375192642212,-23.86867904663086,5.163120746612549,-23.467269897460938,-72.72796630859375,-100.8333511352539,-198.02752685546875],\"z\":[-116.54869842529297,-253.41453552246094,57.316314697265625,59.41981887817383,371.1182861328125,162.01087951660156,-57.169219970703125,-225.64120483398438,-31.485342025756836,101.13890838623047,-463.7212829589844,119.77942657470703,492.49163818359375,-205.75930786132812,202.48915100097656,-6.538973808288574,-284.97076416015625,-72.37076568603516,-7.4254255294799805,-89.58865356445312,-25.496044158935547,236.02667236328125,-263.61279296875,169.1348114013672,78.81763458251953,63.962032318115234,-176.89260864257812,-24.913532257080078],\"type\":\"scatter3d\"}],                        {\"template\":{\"data\":{\"histogram2dcontour\":[{\"type\":\"histogram2dcontour\",\"colorbar\":{\"outlinewidth\":0,\"ticks\":\"\"},\"colorscale\":[[0.0,\"#0d0887\"],[0.1111111111111111,\"#46039f\"],[0.2222222222222222,\"#7201a8\"],[0.3333333333333333,\"#9c179e\"],[0.4444444444444444,\"#bd3786\"],[0.5555555555555556,\"#d8576b\"],[0.6666666666666666,\"#ed7953\"],[0.7777777777777778,\"#fb9f3a\"],[0.8888888888888888,\"#fdca26\"],[1.0,\"#f0f921\"]]}],\"choropleth\":[{\"type\":\"choropleth\",\"colorbar\":{\"outlinewidth\":0,\"ticks\":\"\"}}],\"histogram2d\":[{\"type\":\"histogram2d\",\"colorbar\":{\"outlinewidth\":0,\"ticks\":\"\"},\"colorscale\":[[0.0,\"#0d0887\"],[0.1111111111111111,\"#46039f\"],[0.2222222222222222,\"#7201a8\"],[0.3333333333333333,\"#9c179e\"],[0.4444444444444444,\"#bd3786\"],[0.5555555555555556,\"#d8576b\"],[0.6666666666666666,\"#ed7953\"],[0.7777777777777778,\"#fb9f3a\"],[0.8888888888888888,\"#fdca26\"],[1.0,\"#f0f921\"]]}],\"heatmap\":[{\"type\":\"heatmap\",\"colorbar\":{\"outlinewidth\":0,\"ticks\":\"\"},\"colorscale\":[[0.0,\"#0d0887\"],[0.1111111111111111,\"#46039f\"],[0.2222222222222222,\"#7201a8\"],[0.3333333333333333,\"#9c179e\"],[0.4444444444444444,\"#bd3786\"],[0.5555555555555556,\"#d8576b\"],[0.6666666666666666,\"#ed7953\"],[0.7777777777777778,\"#fb9f3a\"],[0.8888888888888888,\"#fdca26\"],[1.0,\"#f0f921\"]]}],\"heatmapgl\":[{\"type\":\"heatmapgl\",\"colorbar\":{\"outlinewidth\":0,\"ticks\":\"\"},\"colorscale\":[[0.0,\"#0d0887\"],[0.1111111111111111,\"#46039f\"],[0.2222222222222222,\"#7201a8\"],[0.3333333333333333,\"#9c179e\"],[0.4444444444444444,\"#bd3786\"],[0.5555555555555556,\"#d8576b\"],[0.6666666666666666,\"#ed7953\"],[0.7777777777777778,\"#fb9f3a\"],[0.8888888888888888,\"#fdca26\"],[1.0,\"#f0f921\"]]}],\"contourcarpet\":[{\"type\":\"contourcarpet\",\"colorbar\":{\"outlinewidth\":0,\"ticks\":\"\"}}],\"contour\":[{\"type\":\"contour\",\"colorbar\":{\"outlinewidth\":0,\"ticks\":\"\"},\"colorscale\":[[0.0,\"#0d0887\"],[0.1111111111111111,\"#46039f\"],[0.2222222222222222,\"#7201a8\"],[0.3333333333333333,\"#9c179e\"],[0.4444444444444444,\"#bd3786\"],[0.5555555555555556,\"#d8576b\"],[0.6666666666666666,\"#ed7953\"],[0.7777777777777778,\"#fb9f3a\"],[0.8888888888888888,\"#fdca26\"],[1.0,\"#f0f921\"]]}],\"surface\":[{\"type\":\"surface\",\"colorbar\":{\"outlinewidth\":0,\"ticks\":\"\"},\"colorscale\":[[0.0,\"#0d0887\"],[0.1111111111111111,\"#46039f\"],[0.2222222222222222,\"#7201a8\"],[0.3333333333333333,\"#9c179e\"],[0.4444444444444444,\"#bd3786\"],[0.5555555555555556,\"#d8576b\"],[0.6666666666666666,\"#ed7953\"],[0.7777777777777778,\"#fb9f3a\"],[0.8888888888888888,\"#fdca26\"],[1.0,\"#f0f921\"]]}],\"mesh3d\":[{\"type\":\"mesh3d\",\"colorbar\":{\"outlinewidth\":0,\"ticks\":\"\"}}],\"scatter\":[{\"fillpattern\":{\"fillmode\":\"overlay\",\"size\":10,\"solidity\":0.2},\"type\":\"scatter\"}],\"parcoords\":[{\"type\":\"parcoords\",\"line\":{\"colorbar\":{\"outlinewidth\":0,\"ticks\":\"\"}}}],\"scatterpolargl\":[{\"type\":\"scatterpolargl\",\"marker\":{\"colorbar\":{\"outlinewidth\":0,\"ticks\":\"\"}}}],\"bar\":[{\"error_x\":{\"color\":\"#2a3f5f\"},\"error_y\":{\"color\":\"#2a3f5f\"},\"marker\":{\"line\":{\"color\":\"#E5ECF6\",\"width\":0.5},\"pattern\":{\"fillmode\":\"overlay\",\"size\":10,\"solidity\":0.2}},\"type\":\"bar\"}],\"scattergeo\":[{\"type\":\"scattergeo\",\"marker\":{\"colorbar\":{\"outlinewidth\":0,\"ticks\":\"\"}}}],\"scatterpolar\":[{\"type\":\"scatterpolar\",\"marker\":{\"colorbar\":{\"outlinewidth\":0,\"ticks\":\"\"}}}],\"histogram\":[{\"marker\":{\"pattern\":{\"fillmode\":\"overlay\",\"size\":10,\"solidity\":0.2}},\"type\":\"histogram\"}],\"scattergl\":[{\"type\":\"scattergl\",\"marker\":{\"colorbar\":{\"outlinewidth\":0,\"ticks\":\"\"}}}],\"scatter3d\":[{\"type\":\"scatter3d\",\"line\":{\"colorbar\":{\"outlinewidth\":0,\"ticks\":\"\"}},\"marker\":{\"colorbar\":{\"outlinewidth\":0,\"ticks\":\"\"}}}],\"scattermapbox\":[{\"type\":\"scattermapbox\",\"marker\":{\"colorbar\":{\"outlinewidth\":0,\"ticks\":\"\"}}}],\"scatterternary\":[{\"type\":\"scatterternary\",\"marker\":{\"colorbar\":{\"outlinewidth\":0,\"ticks\":\"\"}}}],\"scattercarpet\":[{\"type\":\"scattercarpet\",\"marker\":{\"colorbar\":{\"outlinewidth\":0,\"ticks\":\"\"}}}],\"carpet\":[{\"aaxis\":{\"endlinecolor\":\"#2a3f5f\",\"gridcolor\":\"white\",\"linecolor\":\"white\",\"minorgridcolor\":\"white\",\"startlinecolor\":\"#2a3f5f\"},\"baxis\":{\"endlinecolor\":\"#2a3f5f\",\"gridcolor\":\"white\",\"linecolor\":\"white\",\"minorgridcolor\":\"white\",\"startlinecolor\":\"#2a3f5f\"},\"type\":\"carpet\"}],\"table\":[{\"cells\":{\"fill\":{\"color\":\"#EBF0F8\"},\"line\":{\"color\":\"white\"}},\"header\":{\"fill\":{\"color\":\"#C8D4E3\"},\"line\":{\"color\":\"white\"}},\"type\":\"table\"}],\"barpolar\":[{\"marker\":{\"line\":{\"color\":\"#E5ECF6\",\"width\":0.5},\"pattern\":{\"fillmode\":\"overlay\",\"size\":10,\"solidity\":0.2}},\"type\":\"barpolar\"}],\"pie\":[{\"automargin\":true,\"type\":\"pie\"}]},\"layout\":{\"autotypenumbers\":\"strict\",\"colorway\":[\"#636efa\",\"#EF553B\",\"#00cc96\",\"#ab63fa\",\"#FFA15A\",\"#19d3f3\",\"#FF6692\",\"#B6E880\",\"#FF97FF\",\"#FECB52\"],\"font\":{\"color\":\"#2a3f5f\"},\"hovermode\":\"closest\",\"hoverlabel\":{\"align\":\"left\"},\"paper_bgcolor\":\"white\",\"plot_bgcolor\":\"#E5ECF6\",\"polar\":{\"bgcolor\":\"#E5ECF6\",\"angularaxis\":{\"gridcolor\":\"white\",\"linecolor\":\"white\",\"ticks\":\"\"},\"radialaxis\":{\"gridcolor\":\"white\",\"linecolor\":\"white\",\"ticks\":\"\"}},\"ternary\":{\"bgcolor\":\"#E5ECF6\",\"aaxis\":{\"gridcolor\":\"white\",\"linecolor\":\"white\",\"ticks\":\"\"},\"baxis\":{\"gridcolor\":\"white\",\"linecolor\":\"white\",\"ticks\":\"\"},\"caxis\":{\"gridcolor\":\"white\",\"linecolor\":\"white\",\"ticks\":\"\"}},\"coloraxis\":{\"colorbar\":{\"outlinewidth\":0,\"ticks\":\"\"}},\"colorscale\":{\"sequential\":[[0.0,\"#0d0887\"],[0.1111111111111111,\"#46039f\"],[0.2222222222222222,\"#7201a8\"],[0.3333333333333333,\"#9c179e\"],[0.4444444444444444,\"#bd3786\"],[0.5555555555555556,\"#d8576b\"],[0.6666666666666666,\"#ed7953\"],[0.7777777777777778,\"#fb9f3a\"],[0.8888888888888888,\"#fdca26\"],[1.0,\"#f0f921\"]],\"sequentialminus\":[[0.0,\"#0d0887\"],[0.1111111111111111,\"#46039f\"],[0.2222222222222222,\"#7201a8\"],[0.3333333333333333,\"#9c179e\"],[0.4444444444444444,\"#bd3786\"],[0.5555555555555556,\"#d8576b\"],[0.6666666666666666,\"#ed7953\"],[0.7777777777777778,\"#fb9f3a\"],[0.8888888888888888,\"#fdca26\"],[1.0,\"#f0f921\"]],\"diverging\":[[0,\"#8e0152\"],[0.1,\"#c51b7d\"],[0.2,\"#de77ae\"],[0.3,\"#f1b6da\"],[0.4,\"#fde0ef\"],[0.5,\"#f7f7f7\"],[0.6,\"#e6f5d0\"],[0.7,\"#b8e186\"],[0.8,\"#7fbc41\"],[0.9,\"#4d9221\"],[1,\"#276419\"]]},\"xaxis\":{\"gridcolor\":\"white\",\"linecolor\":\"white\",\"ticks\":\"\",\"title\":{\"standoff\":15},\"zerolinecolor\":\"white\",\"automargin\":true,\"zerolinewidth\":2},\"yaxis\":{\"gridcolor\":\"white\",\"linecolor\":\"white\",\"ticks\":\"\",\"title\":{\"standoff\":15},\"zerolinecolor\":\"white\",\"automargin\":true,\"zerolinewidth\":2},\"scene\":{\"xaxis\":{\"backgroundcolor\":\"#E5ECF6\",\"gridcolor\":\"white\",\"linecolor\":\"white\",\"showbackground\":true,\"ticks\":\"\",\"zerolinecolor\":\"white\",\"gridwidth\":2},\"yaxis\":{\"backgroundcolor\":\"#E5ECF6\",\"gridcolor\":\"white\",\"linecolor\":\"white\",\"showbackground\":true,\"ticks\":\"\",\"zerolinecolor\":\"white\",\"gridwidth\":2},\"zaxis\":{\"backgroundcolor\":\"#E5ECF6\",\"gridcolor\":\"white\",\"linecolor\":\"white\",\"showbackground\":true,\"ticks\":\"\",\"zerolinecolor\":\"white\",\"gridwidth\":2}},\"shapedefaults\":{\"line\":{\"color\":\"#2a3f5f\"}},\"annotationdefaults\":{\"arrowcolor\":\"#2a3f5f\",\"arrowhead\":0,\"arrowwidth\":1},\"geo\":{\"bgcolor\":\"white\",\"landcolor\":\"#E5ECF6\",\"subunitcolor\":\"white\",\"showland\":true,\"showlakes\":true,\"lakecolor\":\"white\"},\"title\":{\"x\":0.05},\"mapbox\":{\"style\":\"light\"}}},\"scene\":{\"domain\":{\"x\":[0.0,1.0],\"y\":[0.0,1.0]},\"xaxis\":{\"title\":{\"text\":\"x\"}},\"yaxis\":{\"title\":{\"text\":\"y\"}},\"zaxis\":{\"title\":{\"text\":\"z\"}}},\"legend\":{\"title\":{\"text\":\"color\"},\"tracegroupgap\":0},\"margin\":{\"t\":60}},                        {\"responsive\": true}                    ).then(function(){\n",
       "                            \n",
       "var gd = document.getElementById('d4960295-6c83-4dfa-849c-f562715e4326');\n",
       "var x = new MutationObserver(function (mutations, observer) {{\n",
       "        var display = window.getComputedStyle(gd).display;\n",
       "        if (!display || display === 'none') {{\n",
       "            console.log([gd, 'removed!']);\n",
       "            Plotly.purge(gd);\n",
       "            observer.disconnect();\n",
       "        }}\n",
       "}});\n",
       "\n",
       "// Listen for the removal of the full notebook cells\n",
       "var notebookContainer = gd.closest('#notebook-container');\n",
       "if (notebookContainer) {{\n",
       "    x.observe(notebookContainer, {childList: true});\n",
       "}}\n",
       "\n",
       "// Listen for the clearing of the current output cell\n",
       "var outputEl = gd.closest('.output');\n",
       "if (outputEl) {{\n",
       "    x.observe(outputEl, {childList: true});\n",
       "}}\n",
       "\n",
       "                        })                };                });            </script>        </div>"
      ]
     },
     "metadata": {},
     "output_type": "display_data"
    }
   ],
   "source": [
    "# plot using tsne \n",
    "X_embedded  = TSNE(n_components=3, perplexity=10,random_state=24).fit_transform( X )\n",
    "colors = np.array([x for x in 'bgrcmykbgrcmykbgrcmykbgrcmyk'])\n",
    "fig = px.scatter_3d(x=X_embedded [:,0],y=X_embedded [:,1],z=X_embedded [:,2],color=colors[gmm_labels])\n",
    "fig.show()"
   ]
  },
  {
   "cell_type": "markdown",
   "metadata": {},
   "source": [
    "### Bayesian Gaussian Mixture\n",
    "\n",
    "Mixture models are useful for integrating multiple data generating processes into a single model. A gaussian mixture model is a probabilistic model that assumes all the data points are generated from a mixture of a finite number of gaussian distributions with unknown parameters.\n",
    "\n",
    "The Bayesian gaussian mixture is a variation of the Gaussian mixture. BGM is less sensitive to the number of parameters and it chooses effective components automatically."
   ]
  },
  {
   "cell_type": "code",
   "execution_count": 46,
   "metadata": {},
   "outputs": [],
   "source": [
    "bgm_grid = {\n",
    "        \"covariance_type\": ['full', 'tied', 'diag', 'spherical'],\n",
    "        \"max_iter\": [50, 100, 150, 200],\n",
    "        \"init_params\": ['kmeans', 'k-means++', 'random', 'random_from_data'],\n",
    "        \"n_components\": range(2, 7),\n",
    "        \"n_init\": range(1, 6),\n",
    "        \"weight_concentration_prior_type\" : ['dirichlet_process', 'dirichlet_distribution']\n",
    "       }\n",
    "\n",
    "#bgm_grid"
   ]
  },
  {
   "cell_type": "code",
   "execution_count": 47,
   "metadata": {},
   "outputs": [],
   "source": [
    "bgm_model = BayesianGaussianMixture()\n",
    "bgm_params = GridSearchCV(bgm_model,bgm_grid,scoring=silhouette_score3,cv= 10).fit(X, y)"
   ]
  },
  {
   "cell_type": "code",
   "execution_count": 48,
   "metadata": {},
   "outputs": [
    {
     "data": {
      "text/plain": [
       "(0.4275664081806694,\n",
       " {'covariance_type': 'tied',\n",
       "  'init_params': 'kmeans',\n",
       "  'max_iter': 50,\n",
       "  'n_components': 2,\n",
       "  'n_init': 5,\n",
       "  'weight_concentration_prior_type': 'dirichlet_process'})"
      ]
     },
     "execution_count": 48,
     "metadata": {},
     "output_type": "execute_result"
    }
   ],
   "source": [
    "bgm_params.best_score_, bgm_params.best_params_"
   ]
  },
  {
   "cell_type": "code",
   "execution_count": 49,
   "metadata": {},
   "outputs": [],
   "source": [
    "bgm = BayesianGaussianMixture(covariance_type = bgm_params.best_params_['covariance_type'],\n",
    "                      init_params = bgm_params.best_params_['init_params'],\n",
    "                      n_components = bgm_params.best_params_['n_components'],\n",
    "                      n_init = bgm_params.best_params_['n_init'],\n",
    "                      max_iter = bgm_params.best_params_['max_iter'],\n",
    "                      weight_concentration_prior_type = bgm_params.best_params_['weight_concentration_prior_type'])\n",
    "\n",
    "bgm.fit(X)\n",
    "bgm_labels = bgm.fit_predict(X)"
   ]
  },
  {
   "cell_type": "code",
   "execution_count": 50,
   "metadata": {},
   "outputs": [
    {
     "data": {
      "text/html": [
       "<div>\n",
       "<style scoped>\n",
       "    .dataframe tbody tr th:only-of-type {\n",
       "        vertical-align: middle;\n",
       "    }\n",
       "\n",
       "    .dataframe tbody tr th {\n",
       "        vertical-align: top;\n",
       "    }\n",
       "\n",
       "    .dataframe thead th {\n",
       "        text-align: right;\n",
       "    }\n",
       "</style>\n",
       "<table border=\"1\" class=\"dataframe\">\n",
       "  <thead>\n",
       "    <tr style=\"text-align: right;\">\n",
       "      <th></th>\n",
       "      <th>Cluster</th>\n",
       "    </tr>\n",
       "  </thead>\n",
       "  <tbody>\n",
       "    <tr>\n",
       "      <th>0</th>\n",
       "      <td>42</td>\n",
       "    </tr>\n",
       "    <tr>\n",
       "      <th>1</th>\n",
       "      <td>30</td>\n",
       "    </tr>\n",
       "  </tbody>\n",
       "</table>\n",
       "</div>"
      ],
      "text/plain": [
       "   Cluster\n",
       "0       42\n",
       "1       30"
      ]
     },
     "execution_count": 50,
     "metadata": {},
     "output_type": "execute_result"
    }
   ],
   "source": [
    "bgm_dataset = pd.DataFrame(X.copy())\n",
    "bgm_dataset.loc[:,'Cluster'] = bgm_labels\n",
    "bgm_dataset.Cluster.value_counts().to_frame()"
   ]
  },
  {
   "cell_type": "code",
   "execution_count": 51,
   "metadata": {},
   "outputs": [
    {
     "data": {
      "text/html": [
       "<div>\n",
       "<style scoped>\n",
       "    .dataframe tbody tr th:only-of-type {\n",
       "        vertical-align: middle;\n",
       "    }\n",
       "\n",
       "    .dataframe tbody tr th {\n",
       "        vertical-align: top;\n",
       "    }\n",
       "\n",
       "    .dataframe thead th {\n",
       "        text-align: right;\n",
       "    }\n",
       "</style>\n",
       "<table border=\"1\" class=\"dataframe\">\n",
       "  <thead>\n",
       "    <tr style=\"text-align: right;\">\n",
       "      <th></th>\n",
       "      <th>silhouette_score</th>\n",
       "      <th>davies_bouldin_score</th>\n",
       "      <th>calinski_harabasz_score</th>\n",
       "      <th>fowlkes_mallows_score</th>\n",
       "      <th>adjusted_rand_score</th>\n",
       "      <th>adjusted_mutual_info_score</th>\n",
       "      <th>homogeneity_score</th>\n",
       "      <th>completeness_score</th>\n",
       "      <th>v_measure_score</th>\n",
       "    </tr>\n",
       "  </thead>\n",
       "  <tbody>\n",
       "    <tr>\n",
       "      <th>BayesianGaussianMixture</th>\n",
       "      <td>0.320568</td>\n",
       "      <td>1.360494</td>\n",
       "      <td>33.214029</td>\n",
       "      <td>0.616312</td>\n",
       "      <td>0.160056</td>\n",
       "      <td>0.302954</td>\n",
       "      <td>0.330167</td>\n",
       "      <td>0.293438</td>\n",
       "      <td>0.310721</td>\n",
       "    </tr>\n",
       "  </tbody>\n",
       "</table>\n",
       "</div>"
      ],
      "text/plain": [
       "                         silhouette_score  davies_bouldin_score  \\\n",
       "BayesianGaussianMixture          0.320568              1.360494   \n",
       "\n",
       "                         calinski_harabasz_score  fowlkes_mallows_score  \\\n",
       "BayesianGaussianMixture                33.214029               0.616312   \n",
       "\n",
       "                         adjusted_rand_score  adjusted_mutual_info_score  \\\n",
       "BayesianGaussianMixture             0.160056                    0.302954   \n",
       "\n",
       "                         homogeneity_score  completeness_score  \\\n",
       "BayesianGaussianMixture           0.330167            0.293438   \n",
       "\n",
       "                         v_measure_score  \n",
       "BayesianGaussianMixture         0.310721  "
      ]
     },
     "execution_count": 51,
     "metadata": {},
     "output_type": "execute_result"
    }
   ],
   "source": [
    "bgm_df = pd.DataFrame(estimator_evaluation2(bgm, 'BayesianGaussianMixture ', X , y), index=[\"BayesianGaussianMixture\"])\n",
    "bgm_df"
   ]
  },
  {
   "cell_type": "code",
   "execution_count": 52,
   "metadata": {},
   "outputs": [
    {
     "data": {
      "application/vnd.plotly.v1+json": {
       "config": {
        "plotlyServerURL": "https://plot.ly"
       },
       "data": [
        {
         "hovertemplate": "color=b<br>x=%{x}<br>y=%{y}<br>z=%{z}<extra></extra>",
         "legendgroup": "b",
         "marker": {
          "color": "#636efa",
          "symbol": "circle"
         },
         "mode": "markers",
         "name": "b",
         "scene": "scene",
         "showlegend": true,
         "type": "scatter3d",
         "x": [
          54.39824676513672,
          -104.405029296875,
          -92.3411636352539,
          -25.17253303527832,
          -86.90068054199219,
          -10.34064769744873,
          204.48773193359375,
          -190.931884765625,
          281.1160888671875,
          -69.62832641601562,
          -46.73051452636719,
          -1.160131812095642,
          -4.386834621429443,
          -81.10374450683594,
          50.420894622802734,
          -509.10369873046875,
          125.9596176147461,
          -141.36537170410156,
          176.28697204589844,
          123.61895751953125,
          364.7788391113281,
          282.7977294921875,
          117.1858139038086,
          -111.40291595458984,
          68.5169906616211,
          29.8516788482666,
          61.97865295410156,
          134.4958038330078,
          234.57496643066406,
          3.9539427757263184,
          155.57276916503906,
          24.499691009521484,
          176.75820922851562,
          -221.332275390625,
          181.93836975097656,
          -62.405765533447266,
          -253.1529998779297,
          -229.98179626464844,
          -160.64166259765625,
          -248.51275634765625,
          327.8975524902344,
          -122.64978790283203
         ],
         "y": [
          -17.7921199798584,
          -151.1445770263672,
          -0.6023266315460205,
          -140.59397888183594,
          216.56382751464844,
          -50.751922607421875,
          645.0765991210938,
          236.5088653564453,
          -3672.819091796875,
          -232.08255004882812,
          -41.774871826171875,
          18.985397338867188,
          55.977962493896484,
          -147.03456115722656,
          -170.69659423828125,
          -318.9941711425781,
          -236.71954345703125,
          63.72425079345703,
          -95.95589447021484,
          52.63320541381836,
          214.60443115234375,
          -131.42625427246094,
          -97.71260070800781,
          76.7126235961914,
          -107.78277587890625,
          118.75947570800781,
          -88.785888671875,
          -7.423516273498535,
          -38.8995361328125,
          -195.29336547851562,
          -161.49136352539062,
          -98.06209564208984,
          -47.36521911621094,
          134.01116943359375,
          -63.577430725097656,
          -20.09079933166504,
          820.905029296875,
          365.770751953125,
          -10.786933898925781,
          16.786941528320312,
          -3.913609027862549,
          -236.65992736816406
         ],
         "z": [
          120.4260482788086,
          49.10527420043945,
          117.17853546142578,
          101.8860855102539,
          51.452545166015625,
          35.10219955444336,
          -144.79293823242188,
          -99.18456268310547,
          -964.069091796875,
          138.58692932128906,
          182.5222625732422,
          -226.44650268554688,
          76.52820587158203,
          -88.2967758178711,
          75.45574951171875,
          -490.2718200683594,
          103.27611541748047,
          203.02464294433594,
          -198.4884796142578,
          139.1840362548828,
          168.8258819580078,
          -117.53673553466797,
          4.0873308181762695,
          -197.3820343017578,
          172.60047912597656,
          184.1371307373047,
          -149.67530822753906,
          5.364277362823486,
          43.62211990356445,
          0.7905405759811401,
          -61.82041549682617,
          -82.02984619140625,
          115.56507873535156,
          120.3888931274414,
          -57.45415496826172,
          -100.5999755859375,
          467.602294921875,
          -73.48706817626953,
          -166.83067321777344,
          -127.20647430419922,
          242.21034240722656,
          -12.190556526184082
         ]
        },
        {
         "hovertemplate": "color=g<br>x=%{x}<br>y=%{y}<br>z=%{z}<extra></extra>",
         "legendgroup": "g",
         "marker": {
          "color": "#EF553B",
          "symbol": "circle"
         },
         "mode": "markers",
         "name": "g",
         "scene": "scene",
         "showlegend": true,
         "type": "scatter3d",
         "x": [
          138.17185974121094,
          197.3690643310547,
          57.298397064208984,
          159.53662109375,
          -127.79114532470703,
          -270.8042297363281,
          -31.529150009155273,
          20.34578514099121,
          242.49798583984375,
          -208.94606018066406,
          93.52122497558594,
          226.2401885986328,
          137.59536743164062,
          -126.31924438476562,
          171.1299591064453,
          -56.72102355957031,
          21.489639282226562,
          4.701611518859863,
          -212.04412841796875,
          127.86165618896484,
          -219.02267456054688,
          -223.34352111816406,
          -72.8368911743164,
          17.611583709716797,
          14.073572158813477,
          54.979339599609375,
          -172.43362426757812,
          -91.89537811279297,
          -247.02098083496094,
          120.85735321044922
         ],
         "y": [
          163.95701599121094,
          101.53277587890625,
          78.5379638671875,
          180.1878662109375,
          -31.368877410888672,
          -13.001945495605469,
          69.38524627685547,
          181.30636596679688,
          140.3838653564453,
          -85.48141479492188,
          -60.295387268066406,
          -157.4993133544922,
          180.32948303222656,
          85.86153411865234,
          35.13582992553711,
          -123.10900115966797,
          -222.17803955078125,
          -367.8336486816406,
          141.31759643554688,
          103.09120178222656,
          48.18849563598633,
          924.9844970703125,
          133.08245849609375,
          41.0538330078125,
          143.2736053466797,
          49.51226043701172,
          -80.40029907226562,
          176.59315490722656,
          -473.7267150878906,
          109.45452880859375
         ],
         "z": [
          57.4832649230957,
          5.899890422821045,
          -25.71930694580078,
          -25.59748077392578,
          -2.3805480003356934,
          154.52577209472656,
          -25.099042892456055,
          -19.020042419433594,
          -98.13838958740234,
          64.99100494384766,
          269.28765869140625,
          101.19338989257812,
          -125.3395004272461,
          -75.91531372070312,
          -130.69808959960938,
          -210.65744018554688,
          -144.29714965820312,
          258.07598876953125,
          -9.881230354309082,
          -366.44140625,
          15.464807510375977,
          -1039.857666015625,
          121.7176284790039,
          274.16741943359375,
          -115.05498504638672,
          -126.34053039550781,
          162.4457244873047,
          -78.59223175048828,
          236.9925994873047,
          -219.5717315673828
         ]
        }
       ],
       "layout": {
        "legend": {
         "title": {
          "text": "color"
         },
         "tracegroupgap": 0
        },
        "margin": {
         "t": 60
        },
        "scene": {
         "domain": {
          "x": [
           0,
           1
          ],
          "y": [
           0,
           1
          ]
         },
         "xaxis": {
          "title": {
           "text": "x"
          }
         },
         "yaxis": {
          "title": {
           "text": "y"
          }
         },
         "zaxis": {
          "title": {
           "text": "z"
          }
         }
        },
        "template": {
         "data": {
          "bar": [
           {
            "error_x": {
             "color": "#2a3f5f"
            },
            "error_y": {
             "color": "#2a3f5f"
            },
            "marker": {
             "line": {
              "color": "#E5ECF6",
              "width": 0.5
             },
             "pattern": {
              "fillmode": "overlay",
              "size": 10,
              "solidity": 0.2
             }
            },
            "type": "bar"
           }
          ],
          "barpolar": [
           {
            "marker": {
             "line": {
              "color": "#E5ECF6",
              "width": 0.5
             },
             "pattern": {
              "fillmode": "overlay",
              "size": 10,
              "solidity": 0.2
             }
            },
            "type": "barpolar"
           }
          ],
          "carpet": [
           {
            "aaxis": {
             "endlinecolor": "#2a3f5f",
             "gridcolor": "white",
             "linecolor": "white",
             "minorgridcolor": "white",
             "startlinecolor": "#2a3f5f"
            },
            "baxis": {
             "endlinecolor": "#2a3f5f",
             "gridcolor": "white",
             "linecolor": "white",
             "minorgridcolor": "white",
             "startlinecolor": "#2a3f5f"
            },
            "type": "carpet"
           }
          ],
          "choropleth": [
           {
            "colorbar": {
             "outlinewidth": 0,
             "ticks": ""
            },
            "type": "choropleth"
           }
          ],
          "contour": [
           {
            "colorbar": {
             "outlinewidth": 0,
             "ticks": ""
            },
            "colorscale": [
             [
              0,
              "#0d0887"
             ],
             [
              0.1111111111111111,
              "#46039f"
             ],
             [
              0.2222222222222222,
              "#7201a8"
             ],
             [
              0.3333333333333333,
              "#9c179e"
             ],
             [
              0.4444444444444444,
              "#bd3786"
             ],
             [
              0.5555555555555556,
              "#d8576b"
             ],
             [
              0.6666666666666666,
              "#ed7953"
             ],
             [
              0.7777777777777778,
              "#fb9f3a"
             ],
             [
              0.8888888888888888,
              "#fdca26"
             ],
             [
              1,
              "#f0f921"
             ]
            ],
            "type": "contour"
           }
          ],
          "contourcarpet": [
           {
            "colorbar": {
             "outlinewidth": 0,
             "ticks": ""
            },
            "type": "contourcarpet"
           }
          ],
          "heatmap": [
           {
            "colorbar": {
             "outlinewidth": 0,
             "ticks": ""
            },
            "colorscale": [
             [
              0,
              "#0d0887"
             ],
             [
              0.1111111111111111,
              "#46039f"
             ],
             [
              0.2222222222222222,
              "#7201a8"
             ],
             [
              0.3333333333333333,
              "#9c179e"
             ],
             [
              0.4444444444444444,
              "#bd3786"
             ],
             [
              0.5555555555555556,
              "#d8576b"
             ],
             [
              0.6666666666666666,
              "#ed7953"
             ],
             [
              0.7777777777777778,
              "#fb9f3a"
             ],
             [
              0.8888888888888888,
              "#fdca26"
             ],
             [
              1,
              "#f0f921"
             ]
            ],
            "type": "heatmap"
           }
          ],
          "heatmapgl": [
           {
            "colorbar": {
             "outlinewidth": 0,
             "ticks": ""
            },
            "colorscale": [
             [
              0,
              "#0d0887"
             ],
             [
              0.1111111111111111,
              "#46039f"
             ],
             [
              0.2222222222222222,
              "#7201a8"
             ],
             [
              0.3333333333333333,
              "#9c179e"
             ],
             [
              0.4444444444444444,
              "#bd3786"
             ],
             [
              0.5555555555555556,
              "#d8576b"
             ],
             [
              0.6666666666666666,
              "#ed7953"
             ],
             [
              0.7777777777777778,
              "#fb9f3a"
             ],
             [
              0.8888888888888888,
              "#fdca26"
             ],
             [
              1,
              "#f0f921"
             ]
            ],
            "type": "heatmapgl"
           }
          ],
          "histogram": [
           {
            "marker": {
             "pattern": {
              "fillmode": "overlay",
              "size": 10,
              "solidity": 0.2
             }
            },
            "type": "histogram"
           }
          ],
          "histogram2d": [
           {
            "colorbar": {
             "outlinewidth": 0,
             "ticks": ""
            },
            "colorscale": [
             [
              0,
              "#0d0887"
             ],
             [
              0.1111111111111111,
              "#46039f"
             ],
             [
              0.2222222222222222,
              "#7201a8"
             ],
             [
              0.3333333333333333,
              "#9c179e"
             ],
             [
              0.4444444444444444,
              "#bd3786"
             ],
             [
              0.5555555555555556,
              "#d8576b"
             ],
             [
              0.6666666666666666,
              "#ed7953"
             ],
             [
              0.7777777777777778,
              "#fb9f3a"
             ],
             [
              0.8888888888888888,
              "#fdca26"
             ],
             [
              1,
              "#f0f921"
             ]
            ],
            "type": "histogram2d"
           }
          ],
          "histogram2dcontour": [
           {
            "colorbar": {
             "outlinewidth": 0,
             "ticks": ""
            },
            "colorscale": [
             [
              0,
              "#0d0887"
             ],
             [
              0.1111111111111111,
              "#46039f"
             ],
             [
              0.2222222222222222,
              "#7201a8"
             ],
             [
              0.3333333333333333,
              "#9c179e"
             ],
             [
              0.4444444444444444,
              "#bd3786"
             ],
             [
              0.5555555555555556,
              "#d8576b"
             ],
             [
              0.6666666666666666,
              "#ed7953"
             ],
             [
              0.7777777777777778,
              "#fb9f3a"
             ],
             [
              0.8888888888888888,
              "#fdca26"
             ],
             [
              1,
              "#f0f921"
             ]
            ],
            "type": "histogram2dcontour"
           }
          ],
          "mesh3d": [
           {
            "colorbar": {
             "outlinewidth": 0,
             "ticks": ""
            },
            "type": "mesh3d"
           }
          ],
          "parcoords": [
           {
            "line": {
             "colorbar": {
              "outlinewidth": 0,
              "ticks": ""
             }
            },
            "type": "parcoords"
           }
          ],
          "pie": [
           {
            "automargin": true,
            "type": "pie"
           }
          ],
          "scatter": [
           {
            "fillpattern": {
             "fillmode": "overlay",
             "size": 10,
             "solidity": 0.2
            },
            "type": "scatter"
           }
          ],
          "scatter3d": [
           {
            "line": {
             "colorbar": {
              "outlinewidth": 0,
              "ticks": ""
             }
            },
            "marker": {
             "colorbar": {
              "outlinewidth": 0,
              "ticks": ""
             }
            },
            "type": "scatter3d"
           }
          ],
          "scattercarpet": [
           {
            "marker": {
             "colorbar": {
              "outlinewidth": 0,
              "ticks": ""
             }
            },
            "type": "scattercarpet"
           }
          ],
          "scattergeo": [
           {
            "marker": {
             "colorbar": {
              "outlinewidth": 0,
              "ticks": ""
             }
            },
            "type": "scattergeo"
           }
          ],
          "scattergl": [
           {
            "marker": {
             "colorbar": {
              "outlinewidth": 0,
              "ticks": ""
             }
            },
            "type": "scattergl"
           }
          ],
          "scattermapbox": [
           {
            "marker": {
             "colorbar": {
              "outlinewidth": 0,
              "ticks": ""
             }
            },
            "type": "scattermapbox"
           }
          ],
          "scatterpolar": [
           {
            "marker": {
             "colorbar": {
              "outlinewidth": 0,
              "ticks": ""
             }
            },
            "type": "scatterpolar"
           }
          ],
          "scatterpolargl": [
           {
            "marker": {
             "colorbar": {
              "outlinewidth": 0,
              "ticks": ""
             }
            },
            "type": "scatterpolargl"
           }
          ],
          "scatterternary": [
           {
            "marker": {
             "colorbar": {
              "outlinewidth": 0,
              "ticks": ""
             }
            },
            "type": "scatterternary"
           }
          ],
          "surface": [
           {
            "colorbar": {
             "outlinewidth": 0,
             "ticks": ""
            },
            "colorscale": [
             [
              0,
              "#0d0887"
             ],
             [
              0.1111111111111111,
              "#46039f"
             ],
             [
              0.2222222222222222,
              "#7201a8"
             ],
             [
              0.3333333333333333,
              "#9c179e"
             ],
             [
              0.4444444444444444,
              "#bd3786"
             ],
             [
              0.5555555555555556,
              "#d8576b"
             ],
             [
              0.6666666666666666,
              "#ed7953"
             ],
             [
              0.7777777777777778,
              "#fb9f3a"
             ],
             [
              0.8888888888888888,
              "#fdca26"
             ],
             [
              1,
              "#f0f921"
             ]
            ],
            "type": "surface"
           }
          ],
          "table": [
           {
            "cells": {
             "fill": {
              "color": "#EBF0F8"
             },
             "line": {
              "color": "white"
             }
            },
            "header": {
             "fill": {
              "color": "#C8D4E3"
             },
             "line": {
              "color": "white"
             }
            },
            "type": "table"
           }
          ]
         },
         "layout": {
          "annotationdefaults": {
           "arrowcolor": "#2a3f5f",
           "arrowhead": 0,
           "arrowwidth": 1
          },
          "autotypenumbers": "strict",
          "coloraxis": {
           "colorbar": {
            "outlinewidth": 0,
            "ticks": ""
           }
          },
          "colorscale": {
           "diverging": [
            [
             0,
             "#8e0152"
            ],
            [
             0.1,
             "#c51b7d"
            ],
            [
             0.2,
             "#de77ae"
            ],
            [
             0.3,
             "#f1b6da"
            ],
            [
             0.4,
             "#fde0ef"
            ],
            [
             0.5,
             "#f7f7f7"
            ],
            [
             0.6,
             "#e6f5d0"
            ],
            [
             0.7,
             "#b8e186"
            ],
            [
             0.8,
             "#7fbc41"
            ],
            [
             0.9,
             "#4d9221"
            ],
            [
             1,
             "#276419"
            ]
           ],
           "sequential": [
            [
             0,
             "#0d0887"
            ],
            [
             0.1111111111111111,
             "#46039f"
            ],
            [
             0.2222222222222222,
             "#7201a8"
            ],
            [
             0.3333333333333333,
             "#9c179e"
            ],
            [
             0.4444444444444444,
             "#bd3786"
            ],
            [
             0.5555555555555556,
             "#d8576b"
            ],
            [
             0.6666666666666666,
             "#ed7953"
            ],
            [
             0.7777777777777778,
             "#fb9f3a"
            ],
            [
             0.8888888888888888,
             "#fdca26"
            ],
            [
             1,
             "#f0f921"
            ]
           ],
           "sequentialminus": [
            [
             0,
             "#0d0887"
            ],
            [
             0.1111111111111111,
             "#46039f"
            ],
            [
             0.2222222222222222,
             "#7201a8"
            ],
            [
             0.3333333333333333,
             "#9c179e"
            ],
            [
             0.4444444444444444,
             "#bd3786"
            ],
            [
             0.5555555555555556,
             "#d8576b"
            ],
            [
             0.6666666666666666,
             "#ed7953"
            ],
            [
             0.7777777777777778,
             "#fb9f3a"
            ],
            [
             0.8888888888888888,
             "#fdca26"
            ],
            [
             1,
             "#f0f921"
            ]
           ]
          },
          "colorway": [
           "#636efa",
           "#EF553B",
           "#00cc96",
           "#ab63fa",
           "#FFA15A",
           "#19d3f3",
           "#FF6692",
           "#B6E880",
           "#FF97FF",
           "#FECB52"
          ],
          "font": {
           "color": "#2a3f5f"
          },
          "geo": {
           "bgcolor": "white",
           "lakecolor": "white",
           "landcolor": "#E5ECF6",
           "showlakes": true,
           "showland": true,
           "subunitcolor": "white"
          },
          "hoverlabel": {
           "align": "left"
          },
          "hovermode": "closest",
          "mapbox": {
           "style": "light"
          },
          "paper_bgcolor": "white",
          "plot_bgcolor": "#E5ECF6",
          "polar": {
           "angularaxis": {
            "gridcolor": "white",
            "linecolor": "white",
            "ticks": ""
           },
           "bgcolor": "#E5ECF6",
           "radialaxis": {
            "gridcolor": "white",
            "linecolor": "white",
            "ticks": ""
           }
          },
          "scene": {
           "xaxis": {
            "backgroundcolor": "#E5ECF6",
            "gridcolor": "white",
            "gridwidth": 2,
            "linecolor": "white",
            "showbackground": true,
            "ticks": "",
            "zerolinecolor": "white"
           },
           "yaxis": {
            "backgroundcolor": "#E5ECF6",
            "gridcolor": "white",
            "gridwidth": 2,
            "linecolor": "white",
            "showbackground": true,
            "ticks": "",
            "zerolinecolor": "white"
           },
           "zaxis": {
            "backgroundcolor": "#E5ECF6",
            "gridcolor": "white",
            "gridwidth": 2,
            "linecolor": "white",
            "showbackground": true,
            "ticks": "",
            "zerolinecolor": "white"
           }
          },
          "shapedefaults": {
           "line": {
            "color": "#2a3f5f"
           }
          },
          "ternary": {
           "aaxis": {
            "gridcolor": "white",
            "linecolor": "white",
            "ticks": ""
           },
           "baxis": {
            "gridcolor": "white",
            "linecolor": "white",
            "ticks": ""
           },
           "bgcolor": "#E5ECF6",
           "caxis": {
            "gridcolor": "white",
            "linecolor": "white",
            "ticks": ""
           }
          },
          "title": {
           "x": 0.05
          },
          "xaxis": {
           "automargin": true,
           "gridcolor": "white",
           "linecolor": "white",
           "ticks": "",
           "title": {
            "standoff": 15
           },
           "zerolinecolor": "white",
           "zerolinewidth": 2
          },
          "yaxis": {
           "automargin": true,
           "gridcolor": "white",
           "linecolor": "white",
           "ticks": "",
           "title": {
            "standoff": 15
           },
           "zerolinecolor": "white",
           "zerolinewidth": 2
          }
         }
        }
       }
      },
      "text/html": [
       "<div>                            <div id=\"4083400e-54ca-419e-8ae5-7dd5d9941497\" class=\"plotly-graph-div\" style=\"height:525px; width:100%;\"></div>            <script type=\"text/javascript\">                require([\"plotly\"], function(Plotly) {                    window.PLOTLYENV=window.PLOTLYENV || {};                                    if (document.getElementById(\"4083400e-54ca-419e-8ae5-7dd5d9941497\")) {                    Plotly.newPlot(                        \"4083400e-54ca-419e-8ae5-7dd5d9941497\",                        [{\"hovertemplate\":\"color=b<br>x=%{x}<br>y=%{y}<br>z=%{z}<extra></extra>\",\"legendgroup\":\"b\",\"marker\":{\"color\":\"#636efa\",\"symbol\":\"circle\"},\"mode\":\"markers\",\"name\":\"b\",\"scene\":\"scene\",\"showlegend\":true,\"x\":[54.39824676513672,-104.405029296875,-92.3411636352539,-25.17253303527832,-86.90068054199219,-10.34064769744873,204.48773193359375,-190.931884765625,281.1160888671875,-69.62832641601562,-46.73051452636719,-1.160131812095642,-4.386834621429443,-81.10374450683594,50.420894622802734,-509.10369873046875,125.9596176147461,-141.36537170410156,176.28697204589844,123.61895751953125,364.7788391113281,282.7977294921875,117.1858139038086,-111.40291595458984,68.5169906616211,29.8516788482666,61.97865295410156,134.4958038330078,234.57496643066406,3.9539427757263184,155.57276916503906,24.499691009521484,176.75820922851562,-221.332275390625,181.93836975097656,-62.405765533447266,-253.1529998779297,-229.98179626464844,-160.64166259765625,-248.51275634765625,327.8975524902344,-122.64978790283203],\"y\":[-17.7921199798584,-151.1445770263672,-0.6023266315460205,-140.59397888183594,216.56382751464844,-50.751922607421875,645.0765991210938,236.5088653564453,-3672.819091796875,-232.08255004882812,-41.774871826171875,18.985397338867188,55.977962493896484,-147.03456115722656,-170.69659423828125,-318.9941711425781,-236.71954345703125,63.72425079345703,-95.95589447021484,52.63320541381836,214.60443115234375,-131.42625427246094,-97.71260070800781,76.7126235961914,-107.78277587890625,118.75947570800781,-88.785888671875,-7.423516273498535,-38.8995361328125,-195.29336547851562,-161.49136352539062,-98.06209564208984,-47.36521911621094,134.01116943359375,-63.577430725097656,-20.09079933166504,820.905029296875,365.770751953125,-10.786933898925781,16.786941528320312,-3.913609027862549,-236.65992736816406],\"z\":[120.4260482788086,49.10527420043945,117.17853546142578,101.8860855102539,51.452545166015625,35.10219955444336,-144.79293823242188,-99.18456268310547,-964.069091796875,138.58692932128906,182.5222625732422,-226.44650268554688,76.52820587158203,-88.2967758178711,75.45574951171875,-490.2718200683594,103.27611541748047,203.02464294433594,-198.4884796142578,139.1840362548828,168.8258819580078,-117.53673553466797,4.0873308181762695,-197.3820343017578,172.60047912597656,184.1371307373047,-149.67530822753906,5.364277362823486,43.62211990356445,0.7905405759811401,-61.82041549682617,-82.02984619140625,115.56507873535156,120.3888931274414,-57.45415496826172,-100.5999755859375,467.602294921875,-73.48706817626953,-166.83067321777344,-127.20647430419922,242.21034240722656,-12.190556526184082],\"type\":\"scatter3d\"},{\"hovertemplate\":\"color=g<br>x=%{x}<br>y=%{y}<br>z=%{z}<extra></extra>\",\"legendgroup\":\"g\",\"marker\":{\"color\":\"#EF553B\",\"symbol\":\"circle\"},\"mode\":\"markers\",\"name\":\"g\",\"scene\":\"scene\",\"showlegend\":true,\"x\":[138.17185974121094,197.3690643310547,57.298397064208984,159.53662109375,-127.79114532470703,-270.8042297363281,-31.529150009155273,20.34578514099121,242.49798583984375,-208.94606018066406,93.52122497558594,226.2401885986328,137.59536743164062,-126.31924438476562,171.1299591064453,-56.72102355957031,21.489639282226562,4.701611518859863,-212.04412841796875,127.86165618896484,-219.02267456054688,-223.34352111816406,-72.8368911743164,17.611583709716797,14.073572158813477,54.979339599609375,-172.43362426757812,-91.89537811279297,-247.02098083496094,120.85735321044922],\"y\":[163.95701599121094,101.53277587890625,78.5379638671875,180.1878662109375,-31.368877410888672,-13.001945495605469,69.38524627685547,181.30636596679688,140.3838653564453,-85.48141479492188,-60.295387268066406,-157.4993133544922,180.32948303222656,85.86153411865234,35.13582992553711,-123.10900115966797,-222.17803955078125,-367.8336486816406,141.31759643554688,103.09120178222656,48.18849563598633,924.9844970703125,133.08245849609375,41.0538330078125,143.2736053466797,49.51226043701172,-80.40029907226562,176.59315490722656,-473.7267150878906,109.45452880859375],\"z\":[57.4832649230957,5.899890422821045,-25.71930694580078,-25.59748077392578,-2.3805480003356934,154.52577209472656,-25.099042892456055,-19.020042419433594,-98.13838958740234,64.99100494384766,269.28765869140625,101.19338989257812,-125.3395004272461,-75.91531372070312,-130.69808959960938,-210.65744018554688,-144.29714965820312,258.07598876953125,-9.881230354309082,-366.44140625,15.464807510375977,-1039.857666015625,121.7176284790039,274.16741943359375,-115.05498504638672,-126.34053039550781,162.4457244873047,-78.59223175048828,236.9925994873047,-219.5717315673828],\"type\":\"scatter3d\"}],                        {\"template\":{\"data\":{\"histogram2dcontour\":[{\"type\":\"histogram2dcontour\",\"colorbar\":{\"outlinewidth\":0,\"ticks\":\"\"},\"colorscale\":[[0.0,\"#0d0887\"],[0.1111111111111111,\"#46039f\"],[0.2222222222222222,\"#7201a8\"],[0.3333333333333333,\"#9c179e\"],[0.4444444444444444,\"#bd3786\"],[0.5555555555555556,\"#d8576b\"],[0.6666666666666666,\"#ed7953\"],[0.7777777777777778,\"#fb9f3a\"],[0.8888888888888888,\"#fdca26\"],[1.0,\"#f0f921\"]]}],\"choropleth\":[{\"type\":\"choropleth\",\"colorbar\":{\"outlinewidth\":0,\"ticks\":\"\"}}],\"histogram2d\":[{\"type\":\"histogram2d\",\"colorbar\":{\"outlinewidth\":0,\"ticks\":\"\"},\"colorscale\":[[0.0,\"#0d0887\"],[0.1111111111111111,\"#46039f\"],[0.2222222222222222,\"#7201a8\"],[0.3333333333333333,\"#9c179e\"],[0.4444444444444444,\"#bd3786\"],[0.5555555555555556,\"#d8576b\"],[0.6666666666666666,\"#ed7953\"],[0.7777777777777778,\"#fb9f3a\"],[0.8888888888888888,\"#fdca26\"],[1.0,\"#f0f921\"]]}],\"heatmap\":[{\"type\":\"heatmap\",\"colorbar\":{\"outlinewidth\":0,\"ticks\":\"\"},\"colorscale\":[[0.0,\"#0d0887\"],[0.1111111111111111,\"#46039f\"],[0.2222222222222222,\"#7201a8\"],[0.3333333333333333,\"#9c179e\"],[0.4444444444444444,\"#bd3786\"],[0.5555555555555556,\"#d8576b\"],[0.6666666666666666,\"#ed7953\"],[0.7777777777777778,\"#fb9f3a\"],[0.8888888888888888,\"#fdca26\"],[1.0,\"#f0f921\"]]}],\"heatmapgl\":[{\"type\":\"heatmapgl\",\"colorbar\":{\"outlinewidth\":0,\"ticks\":\"\"},\"colorscale\":[[0.0,\"#0d0887\"],[0.1111111111111111,\"#46039f\"],[0.2222222222222222,\"#7201a8\"],[0.3333333333333333,\"#9c179e\"],[0.4444444444444444,\"#bd3786\"],[0.5555555555555556,\"#d8576b\"],[0.6666666666666666,\"#ed7953\"],[0.7777777777777778,\"#fb9f3a\"],[0.8888888888888888,\"#fdca26\"],[1.0,\"#f0f921\"]]}],\"contourcarpet\":[{\"type\":\"contourcarpet\",\"colorbar\":{\"outlinewidth\":0,\"ticks\":\"\"}}],\"contour\":[{\"type\":\"contour\",\"colorbar\":{\"outlinewidth\":0,\"ticks\":\"\"},\"colorscale\":[[0.0,\"#0d0887\"],[0.1111111111111111,\"#46039f\"],[0.2222222222222222,\"#7201a8\"],[0.3333333333333333,\"#9c179e\"],[0.4444444444444444,\"#bd3786\"],[0.5555555555555556,\"#d8576b\"],[0.6666666666666666,\"#ed7953\"],[0.7777777777777778,\"#fb9f3a\"],[0.8888888888888888,\"#fdca26\"],[1.0,\"#f0f921\"]]}],\"surface\":[{\"type\":\"surface\",\"colorbar\":{\"outlinewidth\":0,\"ticks\":\"\"},\"colorscale\":[[0.0,\"#0d0887\"],[0.1111111111111111,\"#46039f\"],[0.2222222222222222,\"#7201a8\"],[0.3333333333333333,\"#9c179e\"],[0.4444444444444444,\"#bd3786\"],[0.5555555555555556,\"#d8576b\"],[0.6666666666666666,\"#ed7953\"],[0.7777777777777778,\"#fb9f3a\"],[0.8888888888888888,\"#fdca26\"],[1.0,\"#f0f921\"]]}],\"mesh3d\":[{\"type\":\"mesh3d\",\"colorbar\":{\"outlinewidth\":0,\"ticks\":\"\"}}],\"scatter\":[{\"fillpattern\":{\"fillmode\":\"overlay\",\"size\":10,\"solidity\":0.2},\"type\":\"scatter\"}],\"parcoords\":[{\"type\":\"parcoords\",\"line\":{\"colorbar\":{\"outlinewidth\":0,\"ticks\":\"\"}}}],\"scatterpolargl\":[{\"type\":\"scatterpolargl\",\"marker\":{\"colorbar\":{\"outlinewidth\":0,\"ticks\":\"\"}}}],\"bar\":[{\"error_x\":{\"color\":\"#2a3f5f\"},\"error_y\":{\"color\":\"#2a3f5f\"},\"marker\":{\"line\":{\"color\":\"#E5ECF6\",\"width\":0.5},\"pattern\":{\"fillmode\":\"overlay\",\"size\":10,\"solidity\":0.2}},\"type\":\"bar\"}],\"scattergeo\":[{\"type\":\"scattergeo\",\"marker\":{\"colorbar\":{\"outlinewidth\":0,\"ticks\":\"\"}}}],\"scatterpolar\":[{\"type\":\"scatterpolar\",\"marker\":{\"colorbar\":{\"outlinewidth\":0,\"ticks\":\"\"}}}],\"histogram\":[{\"marker\":{\"pattern\":{\"fillmode\":\"overlay\",\"size\":10,\"solidity\":0.2}},\"type\":\"histogram\"}],\"scattergl\":[{\"type\":\"scattergl\",\"marker\":{\"colorbar\":{\"outlinewidth\":0,\"ticks\":\"\"}}}],\"scatter3d\":[{\"type\":\"scatter3d\",\"line\":{\"colorbar\":{\"outlinewidth\":0,\"ticks\":\"\"}},\"marker\":{\"colorbar\":{\"outlinewidth\":0,\"ticks\":\"\"}}}],\"scattermapbox\":[{\"type\":\"scattermapbox\",\"marker\":{\"colorbar\":{\"outlinewidth\":0,\"ticks\":\"\"}}}],\"scatterternary\":[{\"type\":\"scatterternary\",\"marker\":{\"colorbar\":{\"outlinewidth\":0,\"ticks\":\"\"}}}],\"scattercarpet\":[{\"type\":\"scattercarpet\",\"marker\":{\"colorbar\":{\"outlinewidth\":0,\"ticks\":\"\"}}}],\"carpet\":[{\"aaxis\":{\"endlinecolor\":\"#2a3f5f\",\"gridcolor\":\"white\",\"linecolor\":\"white\",\"minorgridcolor\":\"white\",\"startlinecolor\":\"#2a3f5f\"},\"baxis\":{\"endlinecolor\":\"#2a3f5f\",\"gridcolor\":\"white\",\"linecolor\":\"white\",\"minorgridcolor\":\"white\",\"startlinecolor\":\"#2a3f5f\"},\"type\":\"carpet\"}],\"table\":[{\"cells\":{\"fill\":{\"color\":\"#EBF0F8\"},\"line\":{\"color\":\"white\"}},\"header\":{\"fill\":{\"color\":\"#C8D4E3\"},\"line\":{\"color\":\"white\"}},\"type\":\"table\"}],\"barpolar\":[{\"marker\":{\"line\":{\"color\":\"#E5ECF6\",\"width\":0.5},\"pattern\":{\"fillmode\":\"overlay\",\"size\":10,\"solidity\":0.2}},\"type\":\"barpolar\"}],\"pie\":[{\"automargin\":true,\"type\":\"pie\"}]},\"layout\":{\"autotypenumbers\":\"strict\",\"colorway\":[\"#636efa\",\"#EF553B\",\"#00cc96\",\"#ab63fa\",\"#FFA15A\",\"#19d3f3\",\"#FF6692\",\"#B6E880\",\"#FF97FF\",\"#FECB52\"],\"font\":{\"color\":\"#2a3f5f\"},\"hovermode\":\"closest\",\"hoverlabel\":{\"align\":\"left\"},\"paper_bgcolor\":\"white\",\"plot_bgcolor\":\"#E5ECF6\",\"polar\":{\"bgcolor\":\"#E5ECF6\",\"angularaxis\":{\"gridcolor\":\"white\",\"linecolor\":\"white\",\"ticks\":\"\"},\"radialaxis\":{\"gridcolor\":\"white\",\"linecolor\":\"white\",\"ticks\":\"\"}},\"ternary\":{\"bgcolor\":\"#E5ECF6\",\"aaxis\":{\"gridcolor\":\"white\",\"linecolor\":\"white\",\"ticks\":\"\"},\"baxis\":{\"gridcolor\":\"white\",\"linecolor\":\"white\",\"ticks\":\"\"},\"caxis\":{\"gridcolor\":\"white\",\"linecolor\":\"white\",\"ticks\":\"\"}},\"coloraxis\":{\"colorbar\":{\"outlinewidth\":0,\"ticks\":\"\"}},\"colorscale\":{\"sequential\":[[0.0,\"#0d0887\"],[0.1111111111111111,\"#46039f\"],[0.2222222222222222,\"#7201a8\"],[0.3333333333333333,\"#9c179e\"],[0.4444444444444444,\"#bd3786\"],[0.5555555555555556,\"#d8576b\"],[0.6666666666666666,\"#ed7953\"],[0.7777777777777778,\"#fb9f3a\"],[0.8888888888888888,\"#fdca26\"],[1.0,\"#f0f921\"]],\"sequentialminus\":[[0.0,\"#0d0887\"],[0.1111111111111111,\"#46039f\"],[0.2222222222222222,\"#7201a8\"],[0.3333333333333333,\"#9c179e\"],[0.4444444444444444,\"#bd3786\"],[0.5555555555555556,\"#d8576b\"],[0.6666666666666666,\"#ed7953\"],[0.7777777777777778,\"#fb9f3a\"],[0.8888888888888888,\"#fdca26\"],[1.0,\"#f0f921\"]],\"diverging\":[[0,\"#8e0152\"],[0.1,\"#c51b7d\"],[0.2,\"#de77ae\"],[0.3,\"#f1b6da\"],[0.4,\"#fde0ef\"],[0.5,\"#f7f7f7\"],[0.6,\"#e6f5d0\"],[0.7,\"#b8e186\"],[0.8,\"#7fbc41\"],[0.9,\"#4d9221\"],[1,\"#276419\"]]},\"xaxis\":{\"gridcolor\":\"white\",\"linecolor\":\"white\",\"ticks\":\"\",\"title\":{\"standoff\":15},\"zerolinecolor\":\"white\",\"automargin\":true,\"zerolinewidth\":2},\"yaxis\":{\"gridcolor\":\"white\",\"linecolor\":\"white\",\"ticks\":\"\",\"title\":{\"standoff\":15},\"zerolinecolor\":\"white\",\"automargin\":true,\"zerolinewidth\":2},\"scene\":{\"xaxis\":{\"backgroundcolor\":\"#E5ECF6\",\"gridcolor\":\"white\",\"linecolor\":\"white\",\"showbackground\":true,\"ticks\":\"\",\"zerolinecolor\":\"white\",\"gridwidth\":2},\"yaxis\":{\"backgroundcolor\":\"#E5ECF6\",\"gridcolor\":\"white\",\"linecolor\":\"white\",\"showbackground\":true,\"ticks\":\"\",\"zerolinecolor\":\"white\",\"gridwidth\":2},\"zaxis\":{\"backgroundcolor\":\"#E5ECF6\",\"gridcolor\":\"white\",\"linecolor\":\"white\",\"showbackground\":true,\"ticks\":\"\",\"zerolinecolor\":\"white\",\"gridwidth\":2}},\"shapedefaults\":{\"line\":{\"color\":\"#2a3f5f\"}},\"annotationdefaults\":{\"arrowcolor\":\"#2a3f5f\",\"arrowhead\":0,\"arrowwidth\":1},\"geo\":{\"bgcolor\":\"white\",\"landcolor\":\"#E5ECF6\",\"subunitcolor\":\"white\",\"showland\":true,\"showlakes\":true,\"lakecolor\":\"white\"},\"title\":{\"x\":0.05},\"mapbox\":{\"style\":\"light\"}}},\"scene\":{\"domain\":{\"x\":[0.0,1.0],\"y\":[0.0,1.0]},\"xaxis\":{\"title\":{\"text\":\"x\"}},\"yaxis\":{\"title\":{\"text\":\"y\"}},\"zaxis\":{\"title\":{\"text\":\"z\"}}},\"legend\":{\"title\":{\"text\":\"color\"},\"tracegroupgap\":0},\"margin\":{\"t\":60}},                        {\"responsive\": true}                    ).then(function(){\n",
       "                            \n",
       "var gd = document.getElementById('4083400e-54ca-419e-8ae5-7dd5d9941497');\n",
       "var x = new MutationObserver(function (mutations, observer) {{\n",
       "        var display = window.getComputedStyle(gd).display;\n",
       "        if (!display || display === 'none') {{\n",
       "            console.log([gd, 'removed!']);\n",
       "            Plotly.purge(gd);\n",
       "            observer.disconnect();\n",
       "        }}\n",
       "}});\n",
       "\n",
       "// Listen for the removal of the full notebook cells\n",
       "var notebookContainer = gd.closest('#notebook-container');\n",
       "if (notebookContainer) {{\n",
       "    x.observe(notebookContainer, {childList: true});\n",
       "}}\n",
       "\n",
       "// Listen for the clearing of the current output cell\n",
       "var outputEl = gd.closest('.output');\n",
       "if (outputEl) {{\n",
       "    x.observe(outputEl, {childList: true});\n",
       "}}\n",
       "\n",
       "                        })                };                });            </script>        </div>"
      ]
     },
     "metadata": {},
     "output_type": "display_data"
    }
   ],
   "source": [
    "# plot using tsne \n",
    "X_embedded  = TSNE(n_components=3, perplexity=10,random_state=24).fit_transform( X )\n",
    "colors = np.array([x for x in 'bgrcmykbgrcmykbgrcmykbgrcmyk'])\n",
    "fig = px.scatter_3d(x=X_embedded [:,0],y=X_embedded [:,1],z=X_embedded [:,2],color=colors[bgm_labels])\n",
    "fig.show()"
   ]
  },
  {
   "cell_type": "markdown",
   "metadata": {},
   "source": [
    "### Mini-Batch Kmean Clustering\n",
    "\n",
    "Mini Batch K-means is a variation of K-means algorithm which introduces an idea of using small random batches of data of fixed size. For each iteration, a new random sample from the dataset is taken and used to modify the clusters and this process is repeated until convergence."
   ]
  },
  {
   "cell_type": "code",
   "execution_count": 53,
   "metadata": {},
   "outputs": [
    {
     "data": {
      "text/plain": [
       "{'batch_size': [50, 100, 150, 200],\n",
       " 'max_iter': [50, 100, 150, 200],\n",
       " 'init': ['k-means++', 'random'],\n",
       " 'n_clusters': range(2, 7),\n",
       " 'n_init': range(1, 6)}"
      ]
     },
     "execution_count": 53,
     "metadata": {},
     "output_type": "execute_result"
    }
   ],
   "source": [
    "k_mean_grid = {\n",
    "        \"batch_size\": [50, 100, 150, 200],\n",
    "        \"max_iter\": [50, 100, 150, 200],\n",
    "        \"init\": ['k-means++', 'random'],\n",
    "        \"n_clusters\": range(2, 7),\n",
    "        \"n_init\": range(1, 6)\n",
    "       }\n",
    "k_mean_grid"
   ]
  },
  {
   "cell_type": "code",
   "execution_count": 54,
   "metadata": {},
   "outputs": [],
   "source": [
    "mbk_model = MiniBatchKMeans()\n",
    "mbk_params = GridSearchCV(mbk_model,k_mean_grid,scoring=silhouette_score,cv= 10).fit(X, y)"
   ]
  },
  {
   "cell_type": "code",
   "execution_count": 55,
   "metadata": {},
   "outputs": [
    {
     "data": {
      "text/plain": [
       "(0.4248799836148375,\n",
       " {'batch_size': 150,\n",
       "  'init': 'k-means++',\n",
       "  'max_iter': 50,\n",
       "  'n_clusters': 2,\n",
       "  'n_init': 2})"
      ]
     },
     "execution_count": 55,
     "metadata": {},
     "output_type": "execute_result"
    }
   ],
   "source": [
    "mbk_params.best_score_, mbk_params.best_params_"
   ]
  },
  {
   "cell_type": "code",
   "execution_count": 56,
   "metadata": {},
   "outputs": [],
   "source": [
    "batch_size = 45\n",
    "mbk = MiniBatchKMeans(init = mbk_params.best_params_['init'],\n",
    "                      n_clusters = mbk_params.best_params_['n_clusters'],\n",
    "                      batch_size = mbk_params.best_params_['batch_size'],\n",
    "                      n_init = mbk_params.best_params_['n_init'],\n",
    "                      max_iter = mbk_params.best_params_['max_iter'],\n",
    "                      max_no_improvement = 10, verbose = 0)\n",
    "\n",
    "mbk.fit(X)\n",
    "mbk_means_cluster_centers = np.sort(mbk.cluster_centers_, axis = 0)\n",
    "mbk_means_labels = pairwise_distances_argmin(X, mbk_means_cluster_centers)\n"
   ]
  },
  {
   "cell_type": "code",
   "execution_count": 57,
   "metadata": {},
   "outputs": [],
   "source": [
    "mbk_dataset = pd.DataFrame(X.copy())\n",
    "mbk_dataset.loc[:,'Cluster'] = mbk_means_labels"
   ]
  },
  {
   "cell_type": "code",
   "execution_count": 58,
   "metadata": {},
   "outputs": [
    {
     "data": {
      "text/html": [
       "<div>\n",
       "<style scoped>\n",
       "    .dataframe tbody tr th:only-of-type {\n",
       "        vertical-align: middle;\n",
       "    }\n",
       "\n",
       "    .dataframe tbody tr th {\n",
       "        vertical-align: top;\n",
       "    }\n",
       "\n",
       "    .dataframe thead th {\n",
       "        text-align: right;\n",
       "    }\n",
       "</style>\n",
       "<table border=\"1\" class=\"dataframe\">\n",
       "  <thead>\n",
       "    <tr style=\"text-align: right;\">\n",
       "      <th></th>\n",
       "      <th>Cluster</th>\n",
       "    </tr>\n",
       "  </thead>\n",
       "  <tbody>\n",
       "    <tr>\n",
       "      <th>0</th>\n",
       "      <td>41</td>\n",
       "    </tr>\n",
       "    <tr>\n",
       "      <th>1</th>\n",
       "      <td>31</td>\n",
       "    </tr>\n",
       "  </tbody>\n",
       "</table>\n",
       "</div>"
      ],
      "text/plain": [
       "   Cluster\n",
       "0       41\n",
       "1       31"
      ]
     },
     "execution_count": 58,
     "metadata": {},
     "output_type": "execute_result"
    }
   ],
   "source": [
    "mbk_dataset.Cluster.value_counts().to_frame()"
   ]
  },
  {
   "cell_type": "code",
   "execution_count": 59,
   "metadata": {},
   "outputs": [
    {
     "data": {
      "text/html": [
       "<div>\n",
       "<style scoped>\n",
       "    .dataframe tbody tr th:only-of-type {\n",
       "        vertical-align: middle;\n",
       "    }\n",
       "\n",
       "    .dataframe tbody tr th {\n",
       "        vertical-align: top;\n",
       "    }\n",
       "\n",
       "    .dataframe thead th {\n",
       "        text-align: right;\n",
       "    }\n",
       "</style>\n",
       "<table border=\"1\" class=\"dataframe\">\n",
       "  <thead>\n",
       "    <tr style=\"text-align: right;\">\n",
       "      <th></th>\n",
       "      <th>silhouette_score</th>\n",
       "      <th>davies_bouldin_score</th>\n",
       "      <th>calinski_harabasz_score</th>\n",
       "      <th>fowlkes_mallows_score</th>\n",
       "      <th>adjusted_rand_score</th>\n",
       "      <th>adjusted_mutual_info_score</th>\n",
       "      <th>homogeneity_score</th>\n",
       "      <th>completeness_score</th>\n",
       "      <th>v_measure_score</th>\n",
       "    </tr>\n",
       "  </thead>\n",
       "  <tbody>\n",
       "    <tr>\n",
       "      <th>Mini-Batch Kmean</th>\n",
       "      <td>0.298728</td>\n",
       "      <td>1.393576</td>\n",
       "      <td>34.235183</td>\n",
       "      <td>0.637105</td>\n",
       "      <td>0.21225</td>\n",
       "      <td>0.170329</td>\n",
       "      <td>0.191901</td>\n",
       "      <td>0.168625</td>\n",
       "      <td>0.179512</td>\n",
       "    </tr>\n",
       "  </tbody>\n",
       "</table>\n",
       "</div>"
      ],
      "text/plain": [
       "                  silhouette_score  davies_bouldin_score  \\\n",
       "Mini-Batch Kmean          0.298728              1.393576   \n",
       "\n",
       "                  calinski_harabasz_score  fowlkes_mallows_score  \\\n",
       "Mini-Batch Kmean                34.235183               0.637105   \n",
       "\n",
       "                  adjusted_rand_score  adjusted_mutual_info_score  \\\n",
       "Mini-Batch Kmean              0.21225                    0.170329   \n",
       "\n",
       "                  homogeneity_score  completeness_score  v_measure_score  \n",
       "Mini-Batch Kmean           0.191901            0.168625         0.179512  "
      ]
     },
     "execution_count": 59,
     "metadata": {},
     "output_type": "execute_result"
    }
   ],
   "source": [
    "kmean_df = pd.DataFrame(estimator_evaluation(mbk, 'Mini-Batch K-means', X , y ), index=[\"Mini-Batch Kmean\"])\n",
    "kmean_df"
   ]
  },
  {
   "cell_type": "code",
   "execution_count": 60,
   "metadata": {},
   "outputs": [
    {
     "data": {
      "application/vnd.plotly.v1+json": {
       "config": {
        "plotlyServerURL": "https://plot.ly"
       },
       "data": [
        {
         "hovertemplate": "color=b<br>x=%{x}<br>y=%{y}<br>z=%{z}<extra></extra>",
         "legendgroup": "b",
         "marker": {
          "color": "#636efa",
          "symbol": "circle"
         },
         "mode": "markers",
         "name": "b",
         "scene": "scene",
         "showlegend": true,
         "type": "scatter3d",
         "x": [
          54.39824676513672,
          -104.405029296875,
          -92.3411636352539,
          -25.17253303527832,
          -86.90068054199219,
          -10.34064769744873,
          204.48773193359375,
          -190.931884765625,
          281.1160888671875,
          -69.62832641601562,
          -46.73051452636719,
          -1.160131812095642,
          -4.386834621429443,
          -81.10374450683594,
          50.420894622802734,
          -509.10369873046875,
          125.9596176147461,
          -141.36537170410156,
          123.61895751953125,
          364.7788391113281,
          282.7977294921875,
          117.1858139038086,
          -111.40291595458984,
          68.5169906616211,
          29.8516788482666,
          61.97865295410156,
          134.4958038330078,
          234.57496643066406,
          3.9539427757263184,
          155.57276916503906,
          24.499691009521484,
          176.75820922851562,
          -221.332275390625,
          181.93836975097656,
          -62.405765533447266,
          -253.1529998779297,
          -229.98179626464844,
          -160.64166259765625,
          -248.51275634765625,
          327.8975524902344,
          -122.64978790283203
         ],
         "y": [
          -17.7921199798584,
          -151.1445770263672,
          -0.6023266315460205,
          -140.59397888183594,
          216.56382751464844,
          -50.751922607421875,
          645.0765991210938,
          236.5088653564453,
          -3672.819091796875,
          -232.08255004882812,
          -41.774871826171875,
          18.985397338867188,
          55.977962493896484,
          -147.03456115722656,
          -170.69659423828125,
          -318.9941711425781,
          -236.71954345703125,
          63.72425079345703,
          52.63320541381836,
          214.60443115234375,
          -131.42625427246094,
          -97.71260070800781,
          76.7126235961914,
          -107.78277587890625,
          118.75947570800781,
          -88.785888671875,
          -7.423516273498535,
          -38.8995361328125,
          -195.29336547851562,
          -161.49136352539062,
          -98.06209564208984,
          -47.36521911621094,
          134.01116943359375,
          -63.577430725097656,
          -20.09079933166504,
          820.905029296875,
          365.770751953125,
          -10.786933898925781,
          16.786941528320312,
          -3.913609027862549,
          -236.65992736816406
         ],
         "z": [
          120.4260482788086,
          49.10527420043945,
          117.17853546142578,
          101.8860855102539,
          51.452545166015625,
          35.10219955444336,
          -144.79293823242188,
          -99.18456268310547,
          -964.069091796875,
          138.58692932128906,
          182.5222625732422,
          -226.44650268554688,
          76.52820587158203,
          -88.2967758178711,
          75.45574951171875,
          -490.2718200683594,
          103.27611541748047,
          203.02464294433594,
          139.1840362548828,
          168.8258819580078,
          -117.53673553466797,
          4.0873308181762695,
          -197.3820343017578,
          172.60047912597656,
          184.1371307373047,
          -149.67530822753906,
          5.364277362823486,
          43.62211990356445,
          0.7905405759811401,
          -61.82041549682617,
          -82.02984619140625,
          115.56507873535156,
          120.3888931274414,
          -57.45415496826172,
          -100.5999755859375,
          467.602294921875,
          -73.48706817626953,
          -166.83067321777344,
          -127.20647430419922,
          242.21034240722656,
          -12.190556526184082
         ]
        },
        {
         "hovertemplate": "color=g<br>x=%{x}<br>y=%{y}<br>z=%{z}<extra></extra>",
         "legendgroup": "g",
         "marker": {
          "color": "#EF553B",
          "symbol": "circle"
         },
         "mode": "markers",
         "name": "g",
         "scene": "scene",
         "showlegend": true,
         "type": "scatter3d",
         "x": [
          176.28697204589844,
          138.17185974121094,
          197.3690643310547,
          57.298397064208984,
          159.53662109375,
          -127.79114532470703,
          -270.8042297363281,
          -31.529150009155273,
          20.34578514099121,
          242.49798583984375,
          -208.94606018066406,
          93.52122497558594,
          226.2401885986328,
          137.59536743164062,
          -126.31924438476562,
          171.1299591064453,
          -56.72102355957031,
          21.489639282226562,
          4.701611518859863,
          -212.04412841796875,
          127.86165618896484,
          -219.02267456054688,
          -223.34352111816406,
          -72.8368911743164,
          17.611583709716797,
          14.073572158813477,
          54.979339599609375,
          -172.43362426757812,
          -91.89537811279297,
          -247.02098083496094,
          120.85735321044922
         ],
         "y": [
          -95.95589447021484,
          163.95701599121094,
          101.53277587890625,
          78.5379638671875,
          180.1878662109375,
          -31.368877410888672,
          -13.001945495605469,
          69.38524627685547,
          181.30636596679688,
          140.3838653564453,
          -85.48141479492188,
          -60.295387268066406,
          -157.4993133544922,
          180.32948303222656,
          85.86153411865234,
          35.13582992553711,
          -123.10900115966797,
          -222.17803955078125,
          -367.8336486816406,
          141.31759643554688,
          103.09120178222656,
          48.18849563598633,
          924.9844970703125,
          133.08245849609375,
          41.0538330078125,
          143.2736053466797,
          49.51226043701172,
          -80.40029907226562,
          176.59315490722656,
          -473.7267150878906,
          109.45452880859375
         ],
         "z": [
          -198.4884796142578,
          57.4832649230957,
          5.899890422821045,
          -25.71930694580078,
          -25.59748077392578,
          -2.3805480003356934,
          154.52577209472656,
          -25.099042892456055,
          -19.020042419433594,
          -98.13838958740234,
          64.99100494384766,
          269.28765869140625,
          101.19338989257812,
          -125.3395004272461,
          -75.91531372070312,
          -130.69808959960938,
          -210.65744018554688,
          -144.29714965820312,
          258.07598876953125,
          -9.881230354309082,
          -366.44140625,
          15.464807510375977,
          -1039.857666015625,
          121.7176284790039,
          274.16741943359375,
          -115.05498504638672,
          -126.34053039550781,
          162.4457244873047,
          -78.59223175048828,
          236.9925994873047,
          -219.5717315673828
         ]
        }
       ],
       "layout": {
        "legend": {
         "title": {
          "text": "color"
         },
         "tracegroupgap": 0
        },
        "margin": {
         "t": 60
        },
        "scene": {
         "domain": {
          "x": [
           0,
           1
          ],
          "y": [
           0,
           1
          ]
         },
         "xaxis": {
          "title": {
           "text": "x"
          }
         },
         "yaxis": {
          "title": {
           "text": "y"
          }
         },
         "zaxis": {
          "title": {
           "text": "z"
          }
         }
        },
        "template": {
         "data": {
          "bar": [
           {
            "error_x": {
             "color": "#2a3f5f"
            },
            "error_y": {
             "color": "#2a3f5f"
            },
            "marker": {
             "line": {
              "color": "#E5ECF6",
              "width": 0.5
             },
             "pattern": {
              "fillmode": "overlay",
              "size": 10,
              "solidity": 0.2
             }
            },
            "type": "bar"
           }
          ],
          "barpolar": [
           {
            "marker": {
             "line": {
              "color": "#E5ECF6",
              "width": 0.5
             },
             "pattern": {
              "fillmode": "overlay",
              "size": 10,
              "solidity": 0.2
             }
            },
            "type": "barpolar"
           }
          ],
          "carpet": [
           {
            "aaxis": {
             "endlinecolor": "#2a3f5f",
             "gridcolor": "white",
             "linecolor": "white",
             "minorgridcolor": "white",
             "startlinecolor": "#2a3f5f"
            },
            "baxis": {
             "endlinecolor": "#2a3f5f",
             "gridcolor": "white",
             "linecolor": "white",
             "minorgridcolor": "white",
             "startlinecolor": "#2a3f5f"
            },
            "type": "carpet"
           }
          ],
          "choropleth": [
           {
            "colorbar": {
             "outlinewidth": 0,
             "ticks": ""
            },
            "type": "choropleth"
           }
          ],
          "contour": [
           {
            "colorbar": {
             "outlinewidth": 0,
             "ticks": ""
            },
            "colorscale": [
             [
              0,
              "#0d0887"
             ],
             [
              0.1111111111111111,
              "#46039f"
             ],
             [
              0.2222222222222222,
              "#7201a8"
             ],
             [
              0.3333333333333333,
              "#9c179e"
             ],
             [
              0.4444444444444444,
              "#bd3786"
             ],
             [
              0.5555555555555556,
              "#d8576b"
             ],
             [
              0.6666666666666666,
              "#ed7953"
             ],
             [
              0.7777777777777778,
              "#fb9f3a"
             ],
             [
              0.8888888888888888,
              "#fdca26"
             ],
             [
              1,
              "#f0f921"
             ]
            ],
            "type": "contour"
           }
          ],
          "contourcarpet": [
           {
            "colorbar": {
             "outlinewidth": 0,
             "ticks": ""
            },
            "type": "contourcarpet"
           }
          ],
          "heatmap": [
           {
            "colorbar": {
             "outlinewidth": 0,
             "ticks": ""
            },
            "colorscale": [
             [
              0,
              "#0d0887"
             ],
             [
              0.1111111111111111,
              "#46039f"
             ],
             [
              0.2222222222222222,
              "#7201a8"
             ],
             [
              0.3333333333333333,
              "#9c179e"
             ],
             [
              0.4444444444444444,
              "#bd3786"
             ],
             [
              0.5555555555555556,
              "#d8576b"
             ],
             [
              0.6666666666666666,
              "#ed7953"
             ],
             [
              0.7777777777777778,
              "#fb9f3a"
             ],
             [
              0.8888888888888888,
              "#fdca26"
             ],
             [
              1,
              "#f0f921"
             ]
            ],
            "type": "heatmap"
           }
          ],
          "heatmapgl": [
           {
            "colorbar": {
             "outlinewidth": 0,
             "ticks": ""
            },
            "colorscale": [
             [
              0,
              "#0d0887"
             ],
             [
              0.1111111111111111,
              "#46039f"
             ],
             [
              0.2222222222222222,
              "#7201a8"
             ],
             [
              0.3333333333333333,
              "#9c179e"
             ],
             [
              0.4444444444444444,
              "#bd3786"
             ],
             [
              0.5555555555555556,
              "#d8576b"
             ],
             [
              0.6666666666666666,
              "#ed7953"
             ],
             [
              0.7777777777777778,
              "#fb9f3a"
             ],
             [
              0.8888888888888888,
              "#fdca26"
             ],
             [
              1,
              "#f0f921"
             ]
            ],
            "type": "heatmapgl"
           }
          ],
          "histogram": [
           {
            "marker": {
             "pattern": {
              "fillmode": "overlay",
              "size": 10,
              "solidity": 0.2
             }
            },
            "type": "histogram"
           }
          ],
          "histogram2d": [
           {
            "colorbar": {
             "outlinewidth": 0,
             "ticks": ""
            },
            "colorscale": [
             [
              0,
              "#0d0887"
             ],
             [
              0.1111111111111111,
              "#46039f"
             ],
             [
              0.2222222222222222,
              "#7201a8"
             ],
             [
              0.3333333333333333,
              "#9c179e"
             ],
             [
              0.4444444444444444,
              "#bd3786"
             ],
             [
              0.5555555555555556,
              "#d8576b"
             ],
             [
              0.6666666666666666,
              "#ed7953"
             ],
             [
              0.7777777777777778,
              "#fb9f3a"
             ],
             [
              0.8888888888888888,
              "#fdca26"
             ],
             [
              1,
              "#f0f921"
             ]
            ],
            "type": "histogram2d"
           }
          ],
          "histogram2dcontour": [
           {
            "colorbar": {
             "outlinewidth": 0,
             "ticks": ""
            },
            "colorscale": [
             [
              0,
              "#0d0887"
             ],
             [
              0.1111111111111111,
              "#46039f"
             ],
             [
              0.2222222222222222,
              "#7201a8"
             ],
             [
              0.3333333333333333,
              "#9c179e"
             ],
             [
              0.4444444444444444,
              "#bd3786"
             ],
             [
              0.5555555555555556,
              "#d8576b"
             ],
             [
              0.6666666666666666,
              "#ed7953"
             ],
             [
              0.7777777777777778,
              "#fb9f3a"
             ],
             [
              0.8888888888888888,
              "#fdca26"
             ],
             [
              1,
              "#f0f921"
             ]
            ],
            "type": "histogram2dcontour"
           }
          ],
          "mesh3d": [
           {
            "colorbar": {
             "outlinewidth": 0,
             "ticks": ""
            },
            "type": "mesh3d"
           }
          ],
          "parcoords": [
           {
            "line": {
             "colorbar": {
              "outlinewidth": 0,
              "ticks": ""
             }
            },
            "type": "parcoords"
           }
          ],
          "pie": [
           {
            "automargin": true,
            "type": "pie"
           }
          ],
          "scatter": [
           {
            "fillpattern": {
             "fillmode": "overlay",
             "size": 10,
             "solidity": 0.2
            },
            "type": "scatter"
           }
          ],
          "scatter3d": [
           {
            "line": {
             "colorbar": {
              "outlinewidth": 0,
              "ticks": ""
             }
            },
            "marker": {
             "colorbar": {
              "outlinewidth": 0,
              "ticks": ""
             }
            },
            "type": "scatter3d"
           }
          ],
          "scattercarpet": [
           {
            "marker": {
             "colorbar": {
              "outlinewidth": 0,
              "ticks": ""
             }
            },
            "type": "scattercarpet"
           }
          ],
          "scattergeo": [
           {
            "marker": {
             "colorbar": {
              "outlinewidth": 0,
              "ticks": ""
             }
            },
            "type": "scattergeo"
           }
          ],
          "scattergl": [
           {
            "marker": {
             "colorbar": {
              "outlinewidth": 0,
              "ticks": ""
             }
            },
            "type": "scattergl"
           }
          ],
          "scattermapbox": [
           {
            "marker": {
             "colorbar": {
              "outlinewidth": 0,
              "ticks": ""
             }
            },
            "type": "scattermapbox"
           }
          ],
          "scatterpolar": [
           {
            "marker": {
             "colorbar": {
              "outlinewidth": 0,
              "ticks": ""
             }
            },
            "type": "scatterpolar"
           }
          ],
          "scatterpolargl": [
           {
            "marker": {
             "colorbar": {
              "outlinewidth": 0,
              "ticks": ""
             }
            },
            "type": "scatterpolargl"
           }
          ],
          "scatterternary": [
           {
            "marker": {
             "colorbar": {
              "outlinewidth": 0,
              "ticks": ""
             }
            },
            "type": "scatterternary"
           }
          ],
          "surface": [
           {
            "colorbar": {
             "outlinewidth": 0,
             "ticks": ""
            },
            "colorscale": [
             [
              0,
              "#0d0887"
             ],
             [
              0.1111111111111111,
              "#46039f"
             ],
             [
              0.2222222222222222,
              "#7201a8"
             ],
             [
              0.3333333333333333,
              "#9c179e"
             ],
             [
              0.4444444444444444,
              "#bd3786"
             ],
             [
              0.5555555555555556,
              "#d8576b"
             ],
             [
              0.6666666666666666,
              "#ed7953"
             ],
             [
              0.7777777777777778,
              "#fb9f3a"
             ],
             [
              0.8888888888888888,
              "#fdca26"
             ],
             [
              1,
              "#f0f921"
             ]
            ],
            "type": "surface"
           }
          ],
          "table": [
           {
            "cells": {
             "fill": {
              "color": "#EBF0F8"
             },
             "line": {
              "color": "white"
             }
            },
            "header": {
             "fill": {
              "color": "#C8D4E3"
             },
             "line": {
              "color": "white"
             }
            },
            "type": "table"
           }
          ]
         },
         "layout": {
          "annotationdefaults": {
           "arrowcolor": "#2a3f5f",
           "arrowhead": 0,
           "arrowwidth": 1
          },
          "autotypenumbers": "strict",
          "coloraxis": {
           "colorbar": {
            "outlinewidth": 0,
            "ticks": ""
           }
          },
          "colorscale": {
           "diverging": [
            [
             0,
             "#8e0152"
            ],
            [
             0.1,
             "#c51b7d"
            ],
            [
             0.2,
             "#de77ae"
            ],
            [
             0.3,
             "#f1b6da"
            ],
            [
             0.4,
             "#fde0ef"
            ],
            [
             0.5,
             "#f7f7f7"
            ],
            [
             0.6,
             "#e6f5d0"
            ],
            [
             0.7,
             "#b8e186"
            ],
            [
             0.8,
             "#7fbc41"
            ],
            [
             0.9,
             "#4d9221"
            ],
            [
             1,
             "#276419"
            ]
           ],
           "sequential": [
            [
             0,
             "#0d0887"
            ],
            [
             0.1111111111111111,
             "#46039f"
            ],
            [
             0.2222222222222222,
             "#7201a8"
            ],
            [
             0.3333333333333333,
             "#9c179e"
            ],
            [
             0.4444444444444444,
             "#bd3786"
            ],
            [
             0.5555555555555556,
             "#d8576b"
            ],
            [
             0.6666666666666666,
             "#ed7953"
            ],
            [
             0.7777777777777778,
             "#fb9f3a"
            ],
            [
             0.8888888888888888,
             "#fdca26"
            ],
            [
             1,
             "#f0f921"
            ]
           ],
           "sequentialminus": [
            [
             0,
             "#0d0887"
            ],
            [
             0.1111111111111111,
             "#46039f"
            ],
            [
             0.2222222222222222,
             "#7201a8"
            ],
            [
             0.3333333333333333,
             "#9c179e"
            ],
            [
             0.4444444444444444,
             "#bd3786"
            ],
            [
             0.5555555555555556,
             "#d8576b"
            ],
            [
             0.6666666666666666,
             "#ed7953"
            ],
            [
             0.7777777777777778,
             "#fb9f3a"
            ],
            [
             0.8888888888888888,
             "#fdca26"
            ],
            [
             1,
             "#f0f921"
            ]
           ]
          },
          "colorway": [
           "#636efa",
           "#EF553B",
           "#00cc96",
           "#ab63fa",
           "#FFA15A",
           "#19d3f3",
           "#FF6692",
           "#B6E880",
           "#FF97FF",
           "#FECB52"
          ],
          "font": {
           "color": "#2a3f5f"
          },
          "geo": {
           "bgcolor": "white",
           "lakecolor": "white",
           "landcolor": "#E5ECF6",
           "showlakes": true,
           "showland": true,
           "subunitcolor": "white"
          },
          "hoverlabel": {
           "align": "left"
          },
          "hovermode": "closest",
          "mapbox": {
           "style": "light"
          },
          "paper_bgcolor": "white",
          "plot_bgcolor": "#E5ECF6",
          "polar": {
           "angularaxis": {
            "gridcolor": "white",
            "linecolor": "white",
            "ticks": ""
           },
           "bgcolor": "#E5ECF6",
           "radialaxis": {
            "gridcolor": "white",
            "linecolor": "white",
            "ticks": ""
           }
          },
          "scene": {
           "xaxis": {
            "backgroundcolor": "#E5ECF6",
            "gridcolor": "white",
            "gridwidth": 2,
            "linecolor": "white",
            "showbackground": true,
            "ticks": "",
            "zerolinecolor": "white"
           },
           "yaxis": {
            "backgroundcolor": "#E5ECF6",
            "gridcolor": "white",
            "gridwidth": 2,
            "linecolor": "white",
            "showbackground": true,
            "ticks": "",
            "zerolinecolor": "white"
           },
           "zaxis": {
            "backgroundcolor": "#E5ECF6",
            "gridcolor": "white",
            "gridwidth": 2,
            "linecolor": "white",
            "showbackground": true,
            "ticks": "",
            "zerolinecolor": "white"
           }
          },
          "shapedefaults": {
           "line": {
            "color": "#2a3f5f"
           }
          },
          "ternary": {
           "aaxis": {
            "gridcolor": "white",
            "linecolor": "white",
            "ticks": ""
           },
           "baxis": {
            "gridcolor": "white",
            "linecolor": "white",
            "ticks": ""
           },
           "bgcolor": "#E5ECF6",
           "caxis": {
            "gridcolor": "white",
            "linecolor": "white",
            "ticks": ""
           }
          },
          "title": {
           "x": 0.05
          },
          "xaxis": {
           "automargin": true,
           "gridcolor": "white",
           "linecolor": "white",
           "ticks": "",
           "title": {
            "standoff": 15
           },
           "zerolinecolor": "white",
           "zerolinewidth": 2
          },
          "yaxis": {
           "automargin": true,
           "gridcolor": "white",
           "linecolor": "white",
           "ticks": "",
           "title": {
            "standoff": 15
           },
           "zerolinecolor": "white",
           "zerolinewidth": 2
          }
         }
        }
       }
      },
      "text/html": [
       "<div>                            <div id=\"cbc557a9-356c-4691-aabf-5edc11dfccdb\" class=\"plotly-graph-div\" style=\"height:525px; width:100%;\"></div>            <script type=\"text/javascript\">                require([\"plotly\"], function(Plotly) {                    window.PLOTLYENV=window.PLOTLYENV || {};                                    if (document.getElementById(\"cbc557a9-356c-4691-aabf-5edc11dfccdb\")) {                    Plotly.newPlot(                        \"cbc557a9-356c-4691-aabf-5edc11dfccdb\",                        [{\"hovertemplate\":\"color=b<br>x=%{x}<br>y=%{y}<br>z=%{z}<extra></extra>\",\"legendgroup\":\"b\",\"marker\":{\"color\":\"#636efa\",\"symbol\":\"circle\"},\"mode\":\"markers\",\"name\":\"b\",\"scene\":\"scene\",\"showlegend\":true,\"x\":[54.39824676513672,-104.405029296875,-92.3411636352539,-25.17253303527832,-86.90068054199219,-10.34064769744873,204.48773193359375,-190.931884765625,281.1160888671875,-69.62832641601562,-46.73051452636719,-1.160131812095642,-4.386834621429443,-81.10374450683594,50.420894622802734,-509.10369873046875,125.9596176147461,-141.36537170410156,123.61895751953125,364.7788391113281,282.7977294921875,117.1858139038086,-111.40291595458984,68.5169906616211,29.8516788482666,61.97865295410156,134.4958038330078,234.57496643066406,3.9539427757263184,155.57276916503906,24.499691009521484,176.75820922851562,-221.332275390625,181.93836975097656,-62.405765533447266,-253.1529998779297,-229.98179626464844,-160.64166259765625,-248.51275634765625,327.8975524902344,-122.64978790283203],\"y\":[-17.7921199798584,-151.1445770263672,-0.6023266315460205,-140.59397888183594,216.56382751464844,-50.751922607421875,645.0765991210938,236.5088653564453,-3672.819091796875,-232.08255004882812,-41.774871826171875,18.985397338867188,55.977962493896484,-147.03456115722656,-170.69659423828125,-318.9941711425781,-236.71954345703125,63.72425079345703,52.63320541381836,214.60443115234375,-131.42625427246094,-97.71260070800781,76.7126235961914,-107.78277587890625,118.75947570800781,-88.785888671875,-7.423516273498535,-38.8995361328125,-195.29336547851562,-161.49136352539062,-98.06209564208984,-47.36521911621094,134.01116943359375,-63.577430725097656,-20.09079933166504,820.905029296875,365.770751953125,-10.786933898925781,16.786941528320312,-3.913609027862549,-236.65992736816406],\"z\":[120.4260482788086,49.10527420043945,117.17853546142578,101.8860855102539,51.452545166015625,35.10219955444336,-144.79293823242188,-99.18456268310547,-964.069091796875,138.58692932128906,182.5222625732422,-226.44650268554688,76.52820587158203,-88.2967758178711,75.45574951171875,-490.2718200683594,103.27611541748047,203.02464294433594,139.1840362548828,168.8258819580078,-117.53673553466797,4.0873308181762695,-197.3820343017578,172.60047912597656,184.1371307373047,-149.67530822753906,5.364277362823486,43.62211990356445,0.7905405759811401,-61.82041549682617,-82.02984619140625,115.56507873535156,120.3888931274414,-57.45415496826172,-100.5999755859375,467.602294921875,-73.48706817626953,-166.83067321777344,-127.20647430419922,242.21034240722656,-12.190556526184082],\"type\":\"scatter3d\"},{\"hovertemplate\":\"color=g<br>x=%{x}<br>y=%{y}<br>z=%{z}<extra></extra>\",\"legendgroup\":\"g\",\"marker\":{\"color\":\"#EF553B\",\"symbol\":\"circle\"},\"mode\":\"markers\",\"name\":\"g\",\"scene\":\"scene\",\"showlegend\":true,\"x\":[176.28697204589844,138.17185974121094,197.3690643310547,57.298397064208984,159.53662109375,-127.79114532470703,-270.8042297363281,-31.529150009155273,20.34578514099121,242.49798583984375,-208.94606018066406,93.52122497558594,226.2401885986328,137.59536743164062,-126.31924438476562,171.1299591064453,-56.72102355957031,21.489639282226562,4.701611518859863,-212.04412841796875,127.86165618896484,-219.02267456054688,-223.34352111816406,-72.8368911743164,17.611583709716797,14.073572158813477,54.979339599609375,-172.43362426757812,-91.89537811279297,-247.02098083496094,120.85735321044922],\"y\":[-95.95589447021484,163.95701599121094,101.53277587890625,78.5379638671875,180.1878662109375,-31.368877410888672,-13.001945495605469,69.38524627685547,181.30636596679688,140.3838653564453,-85.48141479492188,-60.295387268066406,-157.4993133544922,180.32948303222656,85.86153411865234,35.13582992553711,-123.10900115966797,-222.17803955078125,-367.8336486816406,141.31759643554688,103.09120178222656,48.18849563598633,924.9844970703125,133.08245849609375,41.0538330078125,143.2736053466797,49.51226043701172,-80.40029907226562,176.59315490722656,-473.7267150878906,109.45452880859375],\"z\":[-198.4884796142578,57.4832649230957,5.899890422821045,-25.71930694580078,-25.59748077392578,-2.3805480003356934,154.52577209472656,-25.099042892456055,-19.020042419433594,-98.13838958740234,64.99100494384766,269.28765869140625,101.19338989257812,-125.3395004272461,-75.91531372070312,-130.69808959960938,-210.65744018554688,-144.29714965820312,258.07598876953125,-9.881230354309082,-366.44140625,15.464807510375977,-1039.857666015625,121.7176284790039,274.16741943359375,-115.05498504638672,-126.34053039550781,162.4457244873047,-78.59223175048828,236.9925994873047,-219.5717315673828],\"type\":\"scatter3d\"}],                        {\"template\":{\"data\":{\"histogram2dcontour\":[{\"type\":\"histogram2dcontour\",\"colorbar\":{\"outlinewidth\":0,\"ticks\":\"\"},\"colorscale\":[[0.0,\"#0d0887\"],[0.1111111111111111,\"#46039f\"],[0.2222222222222222,\"#7201a8\"],[0.3333333333333333,\"#9c179e\"],[0.4444444444444444,\"#bd3786\"],[0.5555555555555556,\"#d8576b\"],[0.6666666666666666,\"#ed7953\"],[0.7777777777777778,\"#fb9f3a\"],[0.8888888888888888,\"#fdca26\"],[1.0,\"#f0f921\"]]}],\"choropleth\":[{\"type\":\"choropleth\",\"colorbar\":{\"outlinewidth\":0,\"ticks\":\"\"}}],\"histogram2d\":[{\"type\":\"histogram2d\",\"colorbar\":{\"outlinewidth\":0,\"ticks\":\"\"},\"colorscale\":[[0.0,\"#0d0887\"],[0.1111111111111111,\"#46039f\"],[0.2222222222222222,\"#7201a8\"],[0.3333333333333333,\"#9c179e\"],[0.4444444444444444,\"#bd3786\"],[0.5555555555555556,\"#d8576b\"],[0.6666666666666666,\"#ed7953\"],[0.7777777777777778,\"#fb9f3a\"],[0.8888888888888888,\"#fdca26\"],[1.0,\"#f0f921\"]]}],\"heatmap\":[{\"type\":\"heatmap\",\"colorbar\":{\"outlinewidth\":0,\"ticks\":\"\"},\"colorscale\":[[0.0,\"#0d0887\"],[0.1111111111111111,\"#46039f\"],[0.2222222222222222,\"#7201a8\"],[0.3333333333333333,\"#9c179e\"],[0.4444444444444444,\"#bd3786\"],[0.5555555555555556,\"#d8576b\"],[0.6666666666666666,\"#ed7953\"],[0.7777777777777778,\"#fb9f3a\"],[0.8888888888888888,\"#fdca26\"],[1.0,\"#f0f921\"]]}],\"heatmapgl\":[{\"type\":\"heatmapgl\",\"colorbar\":{\"outlinewidth\":0,\"ticks\":\"\"},\"colorscale\":[[0.0,\"#0d0887\"],[0.1111111111111111,\"#46039f\"],[0.2222222222222222,\"#7201a8\"],[0.3333333333333333,\"#9c179e\"],[0.4444444444444444,\"#bd3786\"],[0.5555555555555556,\"#d8576b\"],[0.6666666666666666,\"#ed7953\"],[0.7777777777777778,\"#fb9f3a\"],[0.8888888888888888,\"#fdca26\"],[1.0,\"#f0f921\"]]}],\"contourcarpet\":[{\"type\":\"contourcarpet\",\"colorbar\":{\"outlinewidth\":0,\"ticks\":\"\"}}],\"contour\":[{\"type\":\"contour\",\"colorbar\":{\"outlinewidth\":0,\"ticks\":\"\"},\"colorscale\":[[0.0,\"#0d0887\"],[0.1111111111111111,\"#46039f\"],[0.2222222222222222,\"#7201a8\"],[0.3333333333333333,\"#9c179e\"],[0.4444444444444444,\"#bd3786\"],[0.5555555555555556,\"#d8576b\"],[0.6666666666666666,\"#ed7953\"],[0.7777777777777778,\"#fb9f3a\"],[0.8888888888888888,\"#fdca26\"],[1.0,\"#f0f921\"]]}],\"surface\":[{\"type\":\"surface\",\"colorbar\":{\"outlinewidth\":0,\"ticks\":\"\"},\"colorscale\":[[0.0,\"#0d0887\"],[0.1111111111111111,\"#46039f\"],[0.2222222222222222,\"#7201a8\"],[0.3333333333333333,\"#9c179e\"],[0.4444444444444444,\"#bd3786\"],[0.5555555555555556,\"#d8576b\"],[0.6666666666666666,\"#ed7953\"],[0.7777777777777778,\"#fb9f3a\"],[0.8888888888888888,\"#fdca26\"],[1.0,\"#f0f921\"]]}],\"mesh3d\":[{\"type\":\"mesh3d\",\"colorbar\":{\"outlinewidth\":0,\"ticks\":\"\"}}],\"scatter\":[{\"fillpattern\":{\"fillmode\":\"overlay\",\"size\":10,\"solidity\":0.2},\"type\":\"scatter\"}],\"parcoords\":[{\"type\":\"parcoords\",\"line\":{\"colorbar\":{\"outlinewidth\":0,\"ticks\":\"\"}}}],\"scatterpolargl\":[{\"type\":\"scatterpolargl\",\"marker\":{\"colorbar\":{\"outlinewidth\":0,\"ticks\":\"\"}}}],\"bar\":[{\"error_x\":{\"color\":\"#2a3f5f\"},\"error_y\":{\"color\":\"#2a3f5f\"},\"marker\":{\"line\":{\"color\":\"#E5ECF6\",\"width\":0.5},\"pattern\":{\"fillmode\":\"overlay\",\"size\":10,\"solidity\":0.2}},\"type\":\"bar\"}],\"scattergeo\":[{\"type\":\"scattergeo\",\"marker\":{\"colorbar\":{\"outlinewidth\":0,\"ticks\":\"\"}}}],\"scatterpolar\":[{\"type\":\"scatterpolar\",\"marker\":{\"colorbar\":{\"outlinewidth\":0,\"ticks\":\"\"}}}],\"histogram\":[{\"marker\":{\"pattern\":{\"fillmode\":\"overlay\",\"size\":10,\"solidity\":0.2}},\"type\":\"histogram\"}],\"scattergl\":[{\"type\":\"scattergl\",\"marker\":{\"colorbar\":{\"outlinewidth\":0,\"ticks\":\"\"}}}],\"scatter3d\":[{\"type\":\"scatter3d\",\"line\":{\"colorbar\":{\"outlinewidth\":0,\"ticks\":\"\"}},\"marker\":{\"colorbar\":{\"outlinewidth\":0,\"ticks\":\"\"}}}],\"scattermapbox\":[{\"type\":\"scattermapbox\",\"marker\":{\"colorbar\":{\"outlinewidth\":0,\"ticks\":\"\"}}}],\"scatterternary\":[{\"type\":\"scatterternary\",\"marker\":{\"colorbar\":{\"outlinewidth\":0,\"ticks\":\"\"}}}],\"scattercarpet\":[{\"type\":\"scattercarpet\",\"marker\":{\"colorbar\":{\"outlinewidth\":0,\"ticks\":\"\"}}}],\"carpet\":[{\"aaxis\":{\"endlinecolor\":\"#2a3f5f\",\"gridcolor\":\"white\",\"linecolor\":\"white\",\"minorgridcolor\":\"white\",\"startlinecolor\":\"#2a3f5f\"},\"baxis\":{\"endlinecolor\":\"#2a3f5f\",\"gridcolor\":\"white\",\"linecolor\":\"white\",\"minorgridcolor\":\"white\",\"startlinecolor\":\"#2a3f5f\"},\"type\":\"carpet\"}],\"table\":[{\"cells\":{\"fill\":{\"color\":\"#EBF0F8\"},\"line\":{\"color\":\"white\"}},\"header\":{\"fill\":{\"color\":\"#C8D4E3\"},\"line\":{\"color\":\"white\"}},\"type\":\"table\"}],\"barpolar\":[{\"marker\":{\"line\":{\"color\":\"#E5ECF6\",\"width\":0.5},\"pattern\":{\"fillmode\":\"overlay\",\"size\":10,\"solidity\":0.2}},\"type\":\"barpolar\"}],\"pie\":[{\"automargin\":true,\"type\":\"pie\"}]},\"layout\":{\"autotypenumbers\":\"strict\",\"colorway\":[\"#636efa\",\"#EF553B\",\"#00cc96\",\"#ab63fa\",\"#FFA15A\",\"#19d3f3\",\"#FF6692\",\"#B6E880\",\"#FF97FF\",\"#FECB52\"],\"font\":{\"color\":\"#2a3f5f\"},\"hovermode\":\"closest\",\"hoverlabel\":{\"align\":\"left\"},\"paper_bgcolor\":\"white\",\"plot_bgcolor\":\"#E5ECF6\",\"polar\":{\"bgcolor\":\"#E5ECF6\",\"angularaxis\":{\"gridcolor\":\"white\",\"linecolor\":\"white\",\"ticks\":\"\"},\"radialaxis\":{\"gridcolor\":\"white\",\"linecolor\":\"white\",\"ticks\":\"\"}},\"ternary\":{\"bgcolor\":\"#E5ECF6\",\"aaxis\":{\"gridcolor\":\"white\",\"linecolor\":\"white\",\"ticks\":\"\"},\"baxis\":{\"gridcolor\":\"white\",\"linecolor\":\"white\",\"ticks\":\"\"},\"caxis\":{\"gridcolor\":\"white\",\"linecolor\":\"white\",\"ticks\":\"\"}},\"coloraxis\":{\"colorbar\":{\"outlinewidth\":0,\"ticks\":\"\"}},\"colorscale\":{\"sequential\":[[0.0,\"#0d0887\"],[0.1111111111111111,\"#46039f\"],[0.2222222222222222,\"#7201a8\"],[0.3333333333333333,\"#9c179e\"],[0.4444444444444444,\"#bd3786\"],[0.5555555555555556,\"#d8576b\"],[0.6666666666666666,\"#ed7953\"],[0.7777777777777778,\"#fb9f3a\"],[0.8888888888888888,\"#fdca26\"],[1.0,\"#f0f921\"]],\"sequentialminus\":[[0.0,\"#0d0887\"],[0.1111111111111111,\"#46039f\"],[0.2222222222222222,\"#7201a8\"],[0.3333333333333333,\"#9c179e\"],[0.4444444444444444,\"#bd3786\"],[0.5555555555555556,\"#d8576b\"],[0.6666666666666666,\"#ed7953\"],[0.7777777777777778,\"#fb9f3a\"],[0.8888888888888888,\"#fdca26\"],[1.0,\"#f0f921\"]],\"diverging\":[[0,\"#8e0152\"],[0.1,\"#c51b7d\"],[0.2,\"#de77ae\"],[0.3,\"#f1b6da\"],[0.4,\"#fde0ef\"],[0.5,\"#f7f7f7\"],[0.6,\"#e6f5d0\"],[0.7,\"#b8e186\"],[0.8,\"#7fbc41\"],[0.9,\"#4d9221\"],[1,\"#276419\"]]},\"xaxis\":{\"gridcolor\":\"white\",\"linecolor\":\"white\",\"ticks\":\"\",\"title\":{\"standoff\":15},\"zerolinecolor\":\"white\",\"automargin\":true,\"zerolinewidth\":2},\"yaxis\":{\"gridcolor\":\"white\",\"linecolor\":\"white\",\"ticks\":\"\",\"title\":{\"standoff\":15},\"zerolinecolor\":\"white\",\"automargin\":true,\"zerolinewidth\":2},\"scene\":{\"xaxis\":{\"backgroundcolor\":\"#E5ECF6\",\"gridcolor\":\"white\",\"linecolor\":\"white\",\"showbackground\":true,\"ticks\":\"\",\"zerolinecolor\":\"white\",\"gridwidth\":2},\"yaxis\":{\"backgroundcolor\":\"#E5ECF6\",\"gridcolor\":\"white\",\"linecolor\":\"white\",\"showbackground\":true,\"ticks\":\"\",\"zerolinecolor\":\"white\",\"gridwidth\":2},\"zaxis\":{\"backgroundcolor\":\"#E5ECF6\",\"gridcolor\":\"white\",\"linecolor\":\"white\",\"showbackground\":true,\"ticks\":\"\",\"zerolinecolor\":\"white\",\"gridwidth\":2}},\"shapedefaults\":{\"line\":{\"color\":\"#2a3f5f\"}},\"annotationdefaults\":{\"arrowcolor\":\"#2a3f5f\",\"arrowhead\":0,\"arrowwidth\":1},\"geo\":{\"bgcolor\":\"white\",\"landcolor\":\"#E5ECF6\",\"subunitcolor\":\"white\",\"showland\":true,\"showlakes\":true,\"lakecolor\":\"white\"},\"title\":{\"x\":0.05},\"mapbox\":{\"style\":\"light\"}}},\"scene\":{\"domain\":{\"x\":[0.0,1.0],\"y\":[0.0,1.0]},\"xaxis\":{\"title\":{\"text\":\"x\"}},\"yaxis\":{\"title\":{\"text\":\"y\"}},\"zaxis\":{\"title\":{\"text\":\"z\"}}},\"legend\":{\"title\":{\"text\":\"color\"},\"tracegroupgap\":0},\"margin\":{\"t\":60}},                        {\"responsive\": true}                    ).then(function(){\n",
       "                            \n",
       "var gd = document.getElementById('cbc557a9-356c-4691-aabf-5edc11dfccdb');\n",
       "var x = new MutationObserver(function (mutations, observer) {{\n",
       "        var display = window.getComputedStyle(gd).display;\n",
       "        if (!display || display === 'none') {{\n",
       "            console.log([gd, 'removed!']);\n",
       "            Plotly.purge(gd);\n",
       "            observer.disconnect();\n",
       "        }}\n",
       "}});\n",
       "\n",
       "// Listen for the removal of the full notebook cells\n",
       "var notebookContainer = gd.closest('#notebook-container');\n",
       "if (notebookContainer) {{\n",
       "    x.observe(notebookContainer, {childList: true});\n",
       "}}\n",
       "\n",
       "// Listen for the clearing of the current output cell\n",
       "var outputEl = gd.closest('.output');\n",
       "if (outputEl) {{\n",
       "    x.observe(outputEl, {childList: true});\n",
       "}}\n",
       "\n",
       "                        })                };                });            </script>        </div>"
      ]
     },
     "metadata": {},
     "output_type": "display_data"
    }
   ],
   "source": [
    "# plot using tsne \n",
    "X_embedded  = TSNE(n_components=3, perplexity=10,random_state=24).fit_transform( X )\n",
    "colors = np.array([x for x in 'bgrcmykbgrcmykbgrcmykbgrcmyk'])\n",
    "fig = px.scatter_3d(x=X_embedded [:,0],y=X_embedded [:,1],z=X_embedded [:,2],color=colors[mbk_means_labels])\n",
    "fig.show()"
   ]
  },
  {
   "cell_type": "markdown",
   "metadata": {},
   "source": [
    "### Hierachical Clustering\n",
    "\n",
    "Hierarchical clustering used to group objects in clusters based on their similar to each other. We would be using bottom-up clustering approach, where each data point is assigned to its own cluster, and then the similar clusters are merged iteratively until all of the data points are part of one big root cluster.\n"
   ]
  },
  {
   "cell_type": "code",
   "execution_count": 61,
   "metadata": {},
   "outputs": [],
   "source": [
    "# Single linkage: \n",
    "from scipy.cluster.hierarchy import linkage\n",
    "from scipy.cluster.hierarchy import dendrogram\n",
    "from scipy.cluster.hierarchy import cut_tree\n"
   ]
  },
  {
   "cell_type": "code",
   "execution_count": 62,
   "metadata": {},
   "outputs": [
    {
     "data": {
      "text/plain": [
       "{'affinity': ['euclidean', 'l1', 'l2', 'manhattan', 'cosine', 'precomputed'],\n",
       " 'linkage': ['ward', 'complete', 'average', 'single'],\n",
       " 'n_clusters': range(2, 7)}"
      ]
     },
     "execution_count": 62,
     "metadata": {},
     "output_type": "execute_result"
    }
   ],
   "source": [
    "agg_grid = {\n",
    "        \"affinity\": ['euclidean', 'l1', 'l2', 'manhattan', 'cosine', 'precomputed'],\n",
    "        \"linkage\" : ['ward', 'complete', 'average', 'single'],\n",
    "        \"n_clusters\": range(2, 7)\n",
    "       }\n",
    "agg_grid"
   ]
  },
  {
   "cell_type": "code",
   "execution_count": 63,
   "metadata": {},
   "outputs": [],
   "source": [
    "agg_model = AgglomerativeClustering()\n",
    "agg_params = GridSearchCV(agg_model,agg_grid,scoring=silhouette_score,cv= 10).fit(X, y)"
   ]
  },
  {
   "cell_type": "code",
   "execution_count": 64,
   "metadata": {},
   "outputs": [
    {
     "data": {
      "text/plain": [
       "(0.4248799836148375,\n",
       " {'affinity': 'euclidean', 'linkage': 'ward', 'n_clusters': 2})"
      ]
     },
     "execution_count": 64,
     "metadata": {},
     "output_type": "execute_result"
    }
   ],
   "source": [
    "agg_params.best_score_, agg_params.best_params_"
   ]
  },
  {
   "cell_type": "code",
   "execution_count": 65,
   "metadata": {},
   "outputs": [],
   "source": [
    "agg_clustering_model = AgglomerativeClustering(n_clusters= agg_params.best_params_['n_clusters'], \n",
    "                                               linkage= agg_params.best_params_['linkage'], \n",
    "                                               affinity =  agg_params.best_params_['affinity'])\n",
    "agg_clustering_model.fit(X)\n",
    "agg_labels = agg_clustering_model.labels_"
   ]
  },
  {
   "cell_type": "code",
   "execution_count": 66,
   "metadata": {},
   "outputs": [
    {
     "data": {
      "text/html": [
       "<div>\n",
       "<style scoped>\n",
       "    .dataframe tbody tr th:only-of-type {\n",
       "        vertical-align: middle;\n",
       "    }\n",
       "\n",
       "    .dataframe tbody tr th {\n",
       "        vertical-align: top;\n",
       "    }\n",
       "\n",
       "    .dataframe thead th {\n",
       "        text-align: right;\n",
       "    }\n",
       "</style>\n",
       "<table border=\"1\" class=\"dataframe\">\n",
       "  <thead>\n",
       "    <tr style=\"text-align: right;\">\n",
       "      <th></th>\n",
       "      <th>Cluster</th>\n",
       "    </tr>\n",
       "  </thead>\n",
       "  <tbody>\n",
       "    <tr>\n",
       "      <th>0</th>\n",
       "      <td>45</td>\n",
       "    </tr>\n",
       "    <tr>\n",
       "      <th>1</th>\n",
       "      <td>27</td>\n",
       "    </tr>\n",
       "  </tbody>\n",
       "</table>\n",
       "</div>"
      ],
      "text/plain": [
       "   Cluster\n",
       "0       45\n",
       "1       27"
      ]
     },
     "execution_count": 66,
     "metadata": {},
     "output_type": "execute_result"
    }
   ],
   "source": [
    "agg_dataset = pd.DataFrame(X.copy())\n",
    "agg_dataset.loc[:,'Cluster'] = agg_labels\n",
    "agg_dataset.Cluster.value_counts().to_frame()"
   ]
  },
  {
   "cell_type": "code",
   "execution_count": 67,
   "metadata": {},
   "outputs": [
    {
     "data": {
      "text/plain": [
       "72"
      ]
     },
     "execution_count": 67,
     "metadata": {},
     "output_type": "execute_result"
    }
   ],
   "source": [
    "X.shape[0]"
   ]
  },
  {
   "cell_type": "code",
   "execution_count": 68,
   "metadata": {},
   "outputs": [
    {
     "data": {
      "text/plain": [
       "<matplotlib.lines.Line2D at 0x203c4ab1b20>"
      ]
     },
     "execution_count": 68,
     "metadata": {},
     "output_type": "execute_result"
    },
    {
     "data": {
      "image/png": "[encoded data removed]",
      "text/plain": [
       "<Figure size 576x432 with 1 Axes>"
      ]
     },
     "metadata": {
      "needs_background": "light"
     },
     "output_type": "display_data"
    }
   ],
   "source": [
    "clusters = linkage(X, method=agg_params.best_params_['linkage'])\n",
    "\n",
    "plt.figure(figsize=(8, 6))\n",
    "dendrogram = hierarchy.dendrogram(clusters)\n",
    "plt.axhline(150, color='red', linestyle='--') \n",
    "plt.axhline(100, color='crimson')"
   ]
  },
  {
   "cell_type": "code",
   "execution_count": 70,
   "metadata": {},
   "outputs": [
    {
     "data": {
      "text/html": [
       "<div>\n",
       "<style scoped>\n",
       "    .dataframe tbody tr th:only-of-type {\n",
       "        vertical-align: middle;\n",
       "    }\n",
       "\n",
       "    .dataframe tbody tr th {\n",
       "        vertical-align: top;\n",
       "    }\n",
       "\n",
       "    .dataframe thead th {\n",
       "        text-align: right;\n",
       "    }\n",
       "</style>\n",
       "<table border=\"1\" class=\"dataframe\">\n",
       "  <thead>\n",
       "    <tr style=\"text-align: right;\">\n",
       "      <th></th>\n",
       "      <th>silhouette_score</th>\n",
       "      <th>davies_bouldin_score</th>\n",
       "      <th>calinski_harabasz_score</th>\n",
       "      <th>fowlkes_mallows_score</th>\n",
       "      <th>adjusted_rand_score</th>\n",
       "      <th>adjusted_mutual_info_score</th>\n",
       "      <th>homogeneity_score</th>\n",
       "      <th>completeness_score</th>\n",
       "      <th>v_measure_score</th>\n",
       "    </tr>\n",
       "  </thead>\n",
       "  <tbody>\n",
       "    <tr>\n",
       "      <th>Agglomerative Clustering</th>\n",
       "      <td>0.311866</td>\n",
       "      <td>1.374137</td>\n",
       "      <td>31.207496</td>\n",
       "      <td>0.593127</td>\n",
       "      <td>0.091336</td>\n",
       "      <td>0.263257</td>\n",
       "      <td>0.284625</td>\n",
       "      <td>0.259703</td>\n",
       "      <td>0.271594</td>\n",
       "    </tr>\n",
       "  </tbody>\n",
       "</table>\n",
       "</div>"
      ],
      "text/plain": [
       "                           silhouette_score  davies_bouldin_score  \\\n",
       "Agglomerative Clustering           0.311866              1.374137   \n",
       "\n",
       "                           calinski_harabasz_score  fowlkes_mallows_score  \\\n",
       "Agglomerative Clustering                 31.207496               0.593127   \n",
       "\n",
       "                           adjusted_rand_score  adjusted_mutual_info_score  \\\n",
       "Agglomerative Clustering              0.091336                    0.263257   \n",
       "\n",
       "                           homogeneity_score  completeness_score  \\\n",
       "Agglomerative Clustering            0.284625            0.259703   \n",
       "\n",
       "                           v_measure_score  \n",
       "Agglomerative Clustering          0.271594  "
      ]
     },
     "execution_count": 70,
     "metadata": {},
     "output_type": "execute_result"
    }
   ],
   "source": [
    "agg_df = pd.DataFrame(estimator_evaluation(agg_clustering_model, 'Agglomerative Clustering ', X , y), index=[\"Agglomerative Clustering \"])\n",
    "agg_df"
   ]
  },
  {
   "cell_type": "markdown",
   "metadata": {},
   "source": [
    "### DBSCAN\n",
    "\n",
    "DBSCAN is a non parametric clustering algorithm which groups the closed high density data points and those points that lie in the lower density areas are treated as outliers. It does this using Epsilon Parameter (Degree of closeness of points in the same cluster) and MinPts ( Minimum number of points inside the radius of circle )"
   ]
  },
  {
   "cell_type": "code",
   "execution_count": 71,
   "metadata": {},
   "outputs": [],
   "source": [
    "dbscan_grid = {\n",
    "        \"min_samples\": range(2,20,3),\n",
    "        \"metric\": ['euclidean','dice' 'manhattan', 'cosine', 'precomputed'],\n",
    "        \"algorithm\" : ['auto', 'ball_tree', 'kd_tree', 'brute'],\n",
    "        \"eps\": np.arange(0.01,3,0.01)\n",
    "       }\n",
    "#dbscan_grid"
   ]
  },
  {
   "cell_type": "code",
   "execution_count": 72,
   "metadata": {},
   "outputs": [],
   "source": [
    "def dbscan_silhouette_score(estimator, X,y):\n",
    "    clusters = estimator.fit_predict(X)\n",
    "    #print(\"Number of labels: \",estimator,estimator.labels_)\n",
    "    n = len(np.unique(estimator.labels_))\n",
    "    if n>1:\n",
    "        score = metrics.silhouette_score(X, estimator.labels_)\n",
    "        #print(\"Number of labels: \",estimator,estimator.labels_)\n",
    "        return score\n",
    "    else:\n",
    "        return 0\n",
    "dbscan_model = DBSCAN()\n",
    "dbscan_params = GridSearchCV(dbscan_model,dbscan_grid,scoring=dbscan_silhouette_score,cv= 10).fit(X, y)"
   ]
  },
  {
   "cell_type": "code",
   "execution_count": 73,
   "metadata": {},
   "outputs": [
    {
     "data": {
      "text/plain": [
       "(0.35973598934634327,\n",
       " {'algorithm': 'auto', 'eps': 0.63, 'metric': 'euclidean', 'min_samples': 2})"
      ]
     },
     "execution_count": 73,
     "metadata": {},
     "output_type": "execute_result"
    }
   ],
   "source": [
    "dbscan_params.best_score_, dbscan_params.best_params_"
   ]
  },
  {
   "cell_type": "code",
   "execution_count": 75,
   "metadata": {},
   "outputs": [],
   "source": [
    "dbscan_clustering = DBSCAN(eps= dbscan_params.best_params_['eps'], \n",
    "                    min_samples= dbscan_params.best_params_['min_samples'],\n",
    "                    algorithm = dbscan_params.best_params_['algorithm'],\n",
    "                    metric = dbscan_params.best_params_['metric']\n",
    "                   ).fit(X)\n",
    "DBSCAN_dataset = pd.DataFrame(X.copy())\n",
    "DBSCAN_dataset.loc[:,'Cluster'] = dbscan_clustering.labels_ "
   ]
  },
  {
   "cell_type": "code",
   "execution_count": 76,
   "metadata": {},
   "outputs": [
    {
     "data": {
      "text/html": [
       "<div>\n",
       "<style scoped>\n",
       "    .dataframe tbody tr th:only-of-type {\n",
       "        vertical-align: middle;\n",
       "    }\n",
       "\n",
       "    .dataframe tbody tr th {\n",
       "        vertical-align: top;\n",
       "    }\n",
       "\n",
       "    .dataframe thead th {\n",
       "        text-align: right;\n",
       "    }\n",
       "</style>\n",
       "<table border=\"1\" class=\"dataframe\">\n",
       "  <thead>\n",
       "    <tr style=\"text-align: right;\">\n",
       "      <th></th>\n",
       "      <th>Cluster</th>\n",
       "    </tr>\n",
       "  </thead>\n",
       "  <tbody>\n",
       "    <tr>\n",
       "      <th>0</th>\n",
       "      <td>35</td>\n",
       "    </tr>\n",
       "    <tr>\n",
       "      <th>3</th>\n",
       "      <td>26</td>\n",
       "    </tr>\n",
       "    <tr>\n",
       "      <th>-1</th>\n",
       "      <td>5</td>\n",
       "    </tr>\n",
       "    <tr>\n",
       "      <th>1</th>\n",
       "      <td>4</td>\n",
       "    </tr>\n",
       "    <tr>\n",
       "      <th>2</th>\n",
       "      <td>2</td>\n",
       "    </tr>\n",
       "  </tbody>\n",
       "</table>\n",
       "</div>"
      ],
      "text/plain": [
       "    Cluster\n",
       " 0       35\n",
       " 3       26\n",
       "-1        5\n",
       " 1        4\n",
       " 2        2"
      ]
     },
     "execution_count": 76,
     "metadata": {},
     "output_type": "execute_result"
    }
   ],
   "source": [
    "DBSCAN_dataset.Cluster.value_counts().to_frame()"
   ]
  },
  {
   "cell_type": "code",
   "execution_count": 77,
   "metadata": {},
   "outputs": [
    {
     "data": {
      "text/html": [
       "<div>\n",
       "<style scoped>\n",
       "    .dataframe tbody tr th:only-of-type {\n",
       "        vertical-align: middle;\n",
       "    }\n",
       "\n",
       "    .dataframe tbody tr th {\n",
       "        vertical-align: top;\n",
       "    }\n",
       "\n",
       "    .dataframe thead th {\n",
       "        text-align: right;\n",
       "    }\n",
       "</style>\n",
       "<table border=\"1\" class=\"dataframe\">\n",
       "  <thead>\n",
       "    <tr style=\"text-align: right;\">\n",
       "      <th></th>\n",
       "      <th>silhouette_score</th>\n",
       "      <th>davies_bouldin_score</th>\n",
       "      <th>calinski_harabasz_score</th>\n",
       "      <th>fowlkes_mallows_score</th>\n",
       "      <th>adjusted_rand_score</th>\n",
       "      <th>adjusted_mutual_info_score</th>\n",
       "      <th>homogeneity_score</th>\n",
       "      <th>completeness_score</th>\n",
       "      <th>v_measure_score</th>\n",
       "    </tr>\n",
       "  </thead>\n",
       "  <tbody>\n",
       "    <tr>\n",
       "      <th>DBSCAN</th>\n",
       "      <td>0.10808</td>\n",
       "      <td>1.971503</td>\n",
       "      <td>11.717027</td>\n",
       "      <td>0.539168</td>\n",
       "      <td>0.137435</td>\n",
       "      <td>0.208637</td>\n",
       "      <td>0.348699</td>\n",
       "      <td>0.180862</td>\n",
       "      <td>0.238184</td>\n",
       "    </tr>\n",
       "  </tbody>\n",
       "</table>\n",
       "</div>"
      ],
      "text/plain": [
       "        silhouette_score  davies_bouldin_score  calinski_harabasz_score  \\\n",
       "DBSCAN           0.10808              1.971503                11.717027   \n",
       "\n",
       "        fowlkes_mallows_score  adjusted_rand_score  \\\n",
       "DBSCAN               0.539168             0.137435   \n",
       "\n",
       "        adjusted_mutual_info_score  homogeneity_score  completeness_score  \\\n",
       "DBSCAN                    0.208637           0.348699            0.180862   \n",
       "\n",
       "        v_measure_score  \n",
       "DBSCAN         0.238184  "
      ]
     },
     "execution_count": 77,
     "metadata": {},
     "output_type": "execute_result"
    }
   ],
   "source": [
    "dbscan_df = pd.DataFrame(estimator_evaluation(dbscan_clustering, 'DBSCAN', X ,y), index=[\"DBSCAN\"])\n",
    "dbscan_df"
   ]
  },
  {
   "cell_type": "code",
   "execution_count": 78,
   "metadata": {},
   "outputs": [
    {
     "data": {
      "application/vnd.plotly.v1+json": {
       "config": {
        "plotlyServerURL": "https://plot.ly"
       },
       "data": [
        {
         "hovertemplate": "color=b<br>x=%{x}<br>y=%{y}<br>z=%{z}<extra></extra>",
         "legendgroup": "b",
         "marker": {
          "color": "#636efa",
          "symbol": "circle"
         },
         "mode": "markers",
         "name": "b",
         "scene": "scene",
         "showlegend": true,
         "type": "scatter3d",
         "x": [
          54.39824676513672,
          -25.17253303527832,
          -86.90068054199219,
          -10.34064769744873,
          -190.931884765625,
          -46.73051452636719,
          -1.160131812095642,
          -4.386834621429443,
          -81.10374450683594,
          50.420894622802734,
          125.9596176147461,
          -141.36537170410156,
          176.28697204589844,
          123.61895751953125,
          282.7977294921875,
          117.1858139038086,
          -111.40291595458984,
          68.5169906616211,
          29.8516788482666,
          61.97865295410156,
          134.4958038330078,
          234.57496643066406,
          3.9539427757263184,
          155.57276916503906,
          24.499691009521484,
          176.75820922851562,
          -221.332275390625,
          181.93836975097656,
          -229.98179626464844,
          -160.64166259765625,
          -248.51275634765625,
          327.8975524902344,
          -122.64978790283203,
          226.2401885986328,
          -91.89537811279297
         ],
         "y": [
          -17.7921199798584,
          -140.59397888183594,
          216.56382751464844,
          -50.751922607421875,
          236.5088653564453,
          -41.774871826171875,
          18.985397338867188,
          55.977962493896484,
          -147.03456115722656,
          -170.69659423828125,
          -236.71954345703125,
          63.72425079345703,
          -95.95589447021484,
          52.63320541381836,
          -131.42625427246094,
          -97.71260070800781,
          76.7126235961914,
          -107.78277587890625,
          118.75947570800781,
          -88.785888671875,
          -7.423516273498535,
          -38.8995361328125,
          -195.29336547851562,
          -161.49136352539062,
          -98.06209564208984,
          -47.36521911621094,
          134.01116943359375,
          -63.577430725097656,
          365.770751953125,
          -10.786933898925781,
          16.786941528320312,
          -3.913609027862549,
          -236.65992736816406,
          -157.4993133544922,
          176.59315490722656
         ],
         "z": [
          120.4260482788086,
          101.8860855102539,
          51.452545166015625,
          35.10219955444336,
          -99.18456268310547,
          182.5222625732422,
          -226.44650268554688,
          76.52820587158203,
          -88.2967758178711,
          75.45574951171875,
          103.27611541748047,
          203.02464294433594,
          -198.4884796142578,
          139.1840362548828,
          -117.53673553466797,
          4.0873308181762695,
          -197.3820343017578,
          172.60047912597656,
          184.1371307373047,
          -149.67530822753906,
          5.364277362823486,
          43.62211990356445,
          0.7905405759811401,
          -61.82041549682617,
          -82.02984619140625,
          115.56507873535156,
          120.3888931274414,
          -57.45415496826172,
          -73.48706817626953,
          -166.83067321777344,
          -127.20647430419922,
          242.21034240722656,
          -12.190556526184082,
          101.19338989257812,
          -78.59223175048828
         ]
        },
        {
         "hovertemplate": "color=k<br>x=%{x}<br>y=%{y}<br>z=%{z}<extra></extra>",
         "legendgroup": "k",
         "marker": {
          "color": "#EF553B",
          "symbol": "circle"
         },
         "mode": "markers",
         "name": "k",
         "scene": "scene",
         "showlegend": true,
         "type": "scatter3d",
         "x": [
          -104.405029296875,
          -92.3411636352539,
          -62.405765533447266,
          -31.529150009155273,
          -126.31924438476562
         ],
         "y": [
          -151.1445770263672,
          -0.6023266315460205,
          -20.09079933166504,
          69.38524627685547,
          85.86153411865234
         ],
         "z": [
          49.10527420043945,
          117.17853546142578,
          -100.5999755859375,
          -25.099042892456055,
          -75.91531372070312
         ]
        },
        {
         "hovertemplate": "color=g<br>x=%{x}<br>y=%{y}<br>z=%{z}<extra></extra>",
         "legendgroup": "g",
         "marker": {
          "color": "#00cc96",
          "symbol": "circle"
         },
         "mode": "markers",
         "name": "g",
         "scene": "scene",
         "showlegend": true,
         "type": "scatter3d",
         "x": [
          204.48773193359375,
          -69.62832641601562,
          -509.10369873046875,
          364.7788391113281
         ],
         "y": [
          645.0765991210938,
          -232.08255004882812,
          -318.9941711425781,
          214.60443115234375
         ],
         "z": [
          -144.79293823242188,
          138.58692932128906,
          -490.2718200683594,
          168.8258819580078
         ]
        },
        {
         "hovertemplate": "color=r<br>x=%{x}<br>y=%{y}<br>z=%{z}<extra></extra>",
         "legendgroup": "r",
         "marker": {
          "color": "#ab63fa",
          "symbol": "circle"
         },
         "mode": "markers",
         "name": "r",
         "scene": "scene",
         "showlegend": true,
         "type": "scatter3d",
         "x": [
          281.1160888671875,
          -253.1529998779297
         ],
         "y": [
          -3672.819091796875,
          820.905029296875
         ],
         "z": [
          -964.069091796875,
          467.602294921875
         ]
        },
        {
         "hovertemplate": "color=c<br>x=%{x}<br>y=%{y}<br>z=%{z}<extra></extra>",
         "legendgroup": "c",
         "marker": {
          "color": "#FFA15A",
          "symbol": "circle"
         },
         "mode": "markers",
         "name": "c",
         "scene": "scene",
         "showlegend": true,
         "type": "scatter3d",
         "x": [
          138.17185974121094,
          197.3690643310547,
          57.298397064208984,
          159.53662109375,
          -127.79114532470703,
          -270.8042297363281,
          20.34578514099121,
          242.49798583984375,
          -208.94606018066406,
          93.52122497558594,
          137.59536743164062,
          171.1299591064453,
          -56.72102355957031,
          21.489639282226562,
          4.701611518859863,
          -212.04412841796875,
          127.86165618896484,
          -219.02267456054688,
          -223.34352111816406,
          -72.8368911743164,
          17.611583709716797,
          14.073572158813477,
          54.979339599609375,
          -172.43362426757812,
          -247.02098083496094,
          120.85735321044922
         ],
         "y": [
          163.95701599121094,
          101.53277587890625,
          78.5379638671875,
          180.1878662109375,
          -31.368877410888672,
          -13.001945495605469,
          181.30636596679688,
          140.3838653564453,
          -85.48141479492188,
          -60.295387268066406,
          180.32948303222656,
          35.13582992553711,
          -123.10900115966797,
          -222.17803955078125,
          -367.8336486816406,
          141.31759643554688,
          103.09120178222656,
          48.18849563598633,
          924.9844970703125,
          133.08245849609375,
          41.0538330078125,
          143.2736053466797,
          49.51226043701172,
          -80.40029907226562,
          -473.7267150878906,
          109.45452880859375
         ],
         "z": [
          57.4832649230957,
          5.899890422821045,
          -25.71930694580078,
          -25.59748077392578,
          -2.3805480003356934,
          154.52577209472656,
          -19.020042419433594,
          -98.13838958740234,
          64.99100494384766,
          269.28765869140625,
          -125.3395004272461,
          -130.69808959960938,
          -210.65744018554688,
          -144.29714965820312,
          258.07598876953125,
          -9.881230354309082,
          -366.44140625,
          15.464807510375977,
          -1039.857666015625,
          121.7176284790039,
          274.16741943359375,
          -115.05498504638672,
          -126.34053039550781,
          162.4457244873047,
          236.9925994873047,
          -219.5717315673828
         ]
        }
       ],
       "layout": {
        "legend": {
         "title": {
          "text": "color"
         },
         "tracegroupgap": 0
        },
        "margin": {
         "t": 60
        },
        "scene": {
         "domain": {
          "x": [
           0,
           1
          ],
          "y": [
           0,
           1
          ]
         },
         "xaxis": {
          "title": {
           "text": "x"
          }
         },
         "yaxis": {
          "title": {
           "text": "y"
          }
         },
         "zaxis": {
          "title": {
           "text": "z"
          }
         }
        },
        "template": {
         "data": {
          "bar": [
           {
            "error_x": {
             "color": "#2a3f5f"
            },
            "error_y": {
             "color": "#2a3f5f"
            },
            "marker": {
             "line": {
              "color": "#E5ECF6",
              "width": 0.5
             },
             "pattern": {
              "fillmode": "overlay",
              "size": 10,
              "solidity": 0.2
             }
            },
            "type": "bar"
           }
          ],
          "barpolar": [
           {
            "marker": {
             "line": {
              "color": "#E5ECF6",
              "width": 0.5
             },
             "pattern": {
              "fillmode": "overlay",
              "size": 10,
              "solidity": 0.2
             }
            },
            "type": "barpolar"
           }
          ],
          "carpet": [
           {
            "aaxis": {
             "endlinecolor": "#2a3f5f",
             "gridcolor": "white",
             "linecolor": "white",
             "minorgridcolor": "white",
             "startlinecolor": "#2a3f5f"
            },
            "baxis": {
             "endlinecolor": "#2a3f5f",
             "gridcolor": "white",
             "linecolor": "white",
             "minorgridcolor": "white",
             "startlinecolor": "#2a3f5f"
            },
            "type": "carpet"
           }
          ],
          "choropleth": [
           {
            "colorbar": {
             "outlinewidth": 0,
             "ticks": ""
            },
            "type": "choropleth"
           }
          ],
          "contour": [
           {
            "colorbar": {
             "outlinewidth": 0,
             "ticks": ""
            },
            "colorscale": [
             [
              0,
              "#0d0887"
             ],
             [
              0.1111111111111111,
              "#46039f"
             ],
             [
              0.2222222222222222,
              "#7201a8"
             ],
             [
              0.3333333333333333,
              "#9c179e"
             ],
             [
              0.4444444444444444,
              "#bd3786"
             ],
             [
              0.5555555555555556,
              "#d8576b"
             ],
             [
              0.6666666666666666,
              "#ed7953"
             ],
             [
              0.7777777777777778,
              "#fb9f3a"
             ],
             [
              0.8888888888888888,
              "#fdca26"
             ],
             [
              1,
              "#f0f921"
             ]
            ],
            "type": "contour"
           }
          ],
          "contourcarpet": [
           {
            "colorbar": {
             "outlinewidth": 0,
             "ticks": ""
            },
            "type": "contourcarpet"
           }
          ],
          "heatmap": [
           {
            "colorbar": {
             "outlinewidth": 0,
             "ticks": ""
            },
            "colorscale": [
             [
              0,
              "#0d0887"
             ],
             [
              0.1111111111111111,
              "#46039f"
             ],
             [
              0.2222222222222222,
              "#7201a8"
             ],
             [
              0.3333333333333333,
              "#9c179e"
             ],
             [
              0.4444444444444444,
              "#bd3786"
             ],
             [
              0.5555555555555556,
              "#d8576b"
             ],
             [
              0.6666666666666666,
              "#ed7953"
             ],
             [
              0.7777777777777778,
              "#fb9f3a"
             ],
             [
              0.8888888888888888,
              "#fdca26"
             ],
             [
              1,
              "#f0f921"
             ]
            ],
            "type": "heatmap"
           }
          ],
          "heatmapgl": [
           {
            "colorbar": {
             "outlinewidth": 0,
             "ticks": ""
            },
            "colorscale": [
             [
              0,
              "#0d0887"
             ],
             [
              0.1111111111111111,
              "#46039f"
             ],
             [
              0.2222222222222222,
              "#7201a8"
             ],
             [
              0.3333333333333333,
              "#9c179e"
             ],
             [
              0.4444444444444444,
              "#bd3786"
             ],
             [
              0.5555555555555556,
              "#d8576b"
             ],
             [
              0.6666666666666666,
              "#ed7953"
             ],
             [
              0.7777777777777778,
              "#fb9f3a"
             ],
             [
              0.8888888888888888,
              "#fdca26"
             ],
             [
              1,
              "#f0f921"
             ]
            ],
            "type": "heatmapgl"
           }
          ],
          "histogram": [
           {
            "marker": {
             "pattern": {
              "fillmode": "overlay",
              "size": 10,
              "solidity": 0.2
             }
            },
            "type": "histogram"
           }
          ],
          "histogram2d": [
           {
            "colorbar": {
             "outlinewidth": 0,
             "ticks": ""
            },
            "colorscale": [
             [
              0,
              "#0d0887"
             ],
             [
              0.1111111111111111,
              "#46039f"
             ],
             [
              0.2222222222222222,
              "#7201a8"
             ],
             [
              0.3333333333333333,
              "#9c179e"
             ],
             [
              0.4444444444444444,
              "#bd3786"
             ],
             [
              0.5555555555555556,
              "#d8576b"
             ],
             [
              0.6666666666666666,
              "#ed7953"
             ],
             [
              0.7777777777777778,
              "#fb9f3a"
             ],
             [
              0.8888888888888888,
              "#fdca26"
             ],
             [
              1,
              "#f0f921"
             ]
            ],
            "type": "histogram2d"
           }
          ],
          "histogram2dcontour": [
           {
            "colorbar": {
             "outlinewidth": 0,
             "ticks": ""
            },
            "colorscale": [
             [
              0,
              "#0d0887"
             ],
             [
              0.1111111111111111,
              "#46039f"
             ],
             [
              0.2222222222222222,
              "#7201a8"
             ],
             [
              0.3333333333333333,
              "#9c179e"
             ],
             [
              0.4444444444444444,
              "#bd3786"
             ],
             [
              0.5555555555555556,
              "#d8576b"
             ],
             [
              0.6666666666666666,
              "#ed7953"
             ],
             [
              0.7777777777777778,
              "#fb9f3a"
             ],
             [
              0.8888888888888888,
              "#fdca26"
             ],
             [
              1,
              "#f0f921"
             ]
            ],
            "type": "histogram2dcontour"
           }
          ],
          "mesh3d": [
           {
            "colorbar": {
             "outlinewidth": 0,
             "ticks": ""
            },
            "type": "mesh3d"
           }
          ],
          "parcoords": [
           {
            "line": {
             "colorbar": {
              "outlinewidth": 0,
              "ticks": ""
             }
            },
            "type": "parcoords"
           }
          ],
          "pie": [
           {
            "automargin": true,
            "type": "pie"
           }
          ],
          "scatter": [
           {
            "fillpattern": {
             "fillmode": "overlay",
             "size": 10,
             "solidity": 0.2
            },
            "type": "scatter"
           }
          ],
          "scatter3d": [
           {
            "line": {
             "colorbar": {
              "outlinewidth": 0,
              "ticks": ""
             }
            },
            "marker": {
             "colorbar": {
              "outlinewidth": 0,
              "ticks": ""
             }
            },
            "type": "scatter3d"
           }
          ],
          "scattercarpet": [
           {
            "marker": {
             "colorbar": {
              "outlinewidth": 0,
              "ticks": ""
             }
            },
            "type": "scattercarpet"
           }
          ],
          "scattergeo": [
           {
            "marker": {
             "colorbar": {
              "outlinewidth": 0,
              "ticks": ""
             }
            },
            "type": "scattergeo"
           }
          ],
          "scattergl": [
           {
            "marker": {
             "colorbar": {
              "outlinewidth": 0,
              "ticks": ""
             }
            },
            "type": "scattergl"
           }
          ],
          "scattermapbox": [
           {
            "marker": {
             "colorbar": {
              "outlinewidth": 0,
              "ticks": ""
             }
            },
            "type": "scattermapbox"
           }
          ],
          "scatterpolar": [
           {
            "marker": {
             "colorbar": {
              "outlinewidth": 0,
              "ticks": ""
             }
            },
            "type": "scatterpolar"
           }
          ],
          "scatterpolargl": [
           {
            "marker": {
             "colorbar": {
              "outlinewidth": 0,
              "ticks": ""
             }
            },
            "type": "scatterpolargl"
           }
          ],
          "scatterternary": [
           {
            "marker": {
             "colorbar": {
              "outlinewidth": 0,
              "ticks": ""
             }
            },
            "type": "scatterternary"
           }
          ],
          "surface": [
           {
            "colorbar": {
             "outlinewidth": 0,
             "ticks": ""
            },
            "colorscale": [
             [
              0,
              "#0d0887"
             ],
             [
              0.1111111111111111,
              "#46039f"
             ],
             [
              0.2222222222222222,
              "#7201a8"
             ],
             [
              0.3333333333333333,
              "#9c179e"
             ],
             [
              0.4444444444444444,
              "#bd3786"
             ],
             [
              0.5555555555555556,
              "#d8576b"
             ],
             [
              0.6666666666666666,
              "#ed7953"
             ],
             [
              0.7777777777777778,
              "#fb9f3a"
             ],
             [
              0.8888888888888888,
              "#fdca26"
             ],
             [
              1,
              "#f0f921"
             ]
            ],
            "type": "surface"
           }
          ],
          "table": [
           {
            "cells": {
             "fill": {
              "color": "#EBF0F8"
             },
             "line": {
              "color": "white"
             }
            },
            "header": {
             "fill": {
              "color": "#C8D4E3"
             },
             "line": {
              "color": "white"
             }
            },
            "type": "table"
           }
          ]
         },
         "layout": {
          "annotationdefaults": {
           "arrowcolor": "#2a3f5f",
           "arrowhead": 0,
           "arrowwidth": 1
          },
          "autotypenumbers": "strict",
          "coloraxis": {
           "colorbar": {
            "outlinewidth": 0,
            "ticks": ""
           }
          },
          "colorscale": {
           "diverging": [
            [
             0,
             "#8e0152"
            ],
            [
             0.1,
             "#c51b7d"
            ],
            [
             0.2,
             "#de77ae"
            ],
            [
             0.3,
             "#f1b6da"
            ],
            [
             0.4,
             "#fde0ef"
            ],
            [
             0.5,
             "#f7f7f7"
            ],
            [
             0.6,
             "#e6f5d0"
            ],
            [
             0.7,
             "#b8e186"
            ],
            [
             0.8,
             "#7fbc41"
            ],
            [
             0.9,
             "#4d9221"
            ],
            [
             1,
             "#276419"
            ]
           ],
           "sequential": [
            [
             0,
             "#0d0887"
            ],
            [
             0.1111111111111111,
             "#46039f"
            ],
            [
             0.2222222222222222,
             "#7201a8"
            ],
            [
             0.3333333333333333,
             "#9c179e"
            ],
            [
             0.4444444444444444,
             "#bd3786"
            ],
            [
             0.5555555555555556,
             "#d8576b"
            ],
            [
             0.6666666666666666,
             "#ed7953"
            ],
            [
             0.7777777777777778,
             "#fb9f3a"
            ],
            [
             0.8888888888888888,
             "#fdca26"
            ],
            [
             1,
             "#f0f921"
            ]
           ],
           "sequentialminus": [
            [
             0,
             "#0d0887"
            ],
            [
             0.1111111111111111,
             "#46039f"
            ],
            [
             0.2222222222222222,
             "#7201a8"
            ],
            [
             0.3333333333333333,
             "#9c179e"
            ],
            [
             0.4444444444444444,
             "#bd3786"
            ],
            [
             0.5555555555555556,
             "#d8576b"
            ],
            [
             0.6666666666666666,
             "#ed7953"
            ],
            [
             0.7777777777777778,
             "#fb9f3a"
            ],
            [
             0.8888888888888888,
             "#fdca26"
            ],
            [
             1,
             "#f0f921"
            ]
           ]
          },
          "colorway": [
           "#636efa",
           "#EF553B",
           "#00cc96",
           "#ab63fa",
           "#FFA15A",
           "#19d3f3",
           "#FF6692",
           "#B6E880",
           "#FF97FF",
           "#FECB52"
          ],
          "font": {
           "color": "#2a3f5f"
          },
          "geo": {
           "bgcolor": "white",
           "lakecolor": "white",
           "landcolor": "#E5ECF6",
           "showlakes": true,
           "showland": true,
           "subunitcolor": "white"
          },
          "hoverlabel": {
           "align": "left"
          },
          "hovermode": "closest",
          "mapbox": {
           "style": "light"
          },
          "paper_bgcolor": "white",
          "plot_bgcolor": "#E5ECF6",
          "polar": {
           "angularaxis": {
            "gridcolor": "white",
            "linecolor": "white",
            "ticks": ""
           },
           "bgcolor": "#E5ECF6",
           "radialaxis": {
            "gridcolor": "white",
            "linecolor": "white",
            "ticks": ""
           }
          },
          "scene": {
           "xaxis": {
            "backgroundcolor": "#E5ECF6",
            "gridcolor": "white",
            "gridwidth": 2,
            "linecolor": "white",
            "showbackground": true,
            "ticks": "",
            "zerolinecolor": "white"
           },
           "yaxis": {
            "backgroundcolor": "#E5ECF6",
            "gridcolor": "white",
            "gridwidth": 2,
            "linecolor": "white",
            "showbackground": true,
            "ticks": "",
            "zerolinecolor": "white"
           },
           "zaxis": {
            "backgroundcolor": "#E5ECF6",
            "gridcolor": "white",
            "gridwidth": 2,
            "linecolor": "white",
            "showbackground": true,
            "ticks": "",
            "zerolinecolor": "white"
           }
          },
          "shapedefaults": {
           "line": {
            "color": "#2a3f5f"
           }
          },
          "ternary": {
           "aaxis": {
            "gridcolor": "white",
            "linecolor": "white",
            "ticks": ""
           },
           "baxis": {
            "gridcolor": "white",
            "linecolor": "white",
            "ticks": ""
           },
           "bgcolor": "#E5ECF6",
           "caxis": {
            "gridcolor": "white",
            "linecolor": "white",
            "ticks": ""
           }
          },
          "title": {
           "x": 0.05
          },
          "xaxis": {
           "automargin": true,
           "gridcolor": "white",
           "linecolor": "white",
           "ticks": "",
           "title": {
            "standoff": 15
           },
           "zerolinecolor": "white",
           "zerolinewidth": 2
          },
          "yaxis": {
           "automargin": true,
           "gridcolor": "white",
           "linecolor": "white",
           "ticks": "",
           "title": {
            "standoff": 15
           },
           "zerolinecolor": "white",
           "zerolinewidth": 2
          }
         }
        }
       }
      },
      "text/html": [
       "<div>                            <div id=\"f5497fb8-a8c1-4ebc-a245-fe8908d97a26\" class=\"plotly-graph-div\" style=\"height:525px; width:100%;\"></div>            <script type=\"text/javascript\">                require([\"plotly\"], function(Plotly) {                    window.PLOTLYENV=window.PLOTLYENV || {};                                    if (document.getElementById(\"f5497fb8-a8c1-4ebc-a245-fe8908d97a26\")) {                    Plotly.newPlot(                        \"f5497fb8-a8c1-4ebc-a245-fe8908d97a26\",                        [{\"hovertemplate\":\"color=b<br>x=%{x}<br>y=%{y}<br>z=%{z}<extra></extra>\",\"legendgroup\":\"b\",\"marker\":{\"color\":\"#636efa\",\"symbol\":\"circle\"},\"mode\":\"markers\",\"name\":\"b\",\"scene\":\"scene\",\"showlegend\":true,\"x\":[54.39824676513672,-25.17253303527832,-86.90068054199219,-10.34064769744873,-190.931884765625,-46.73051452636719,-1.160131812095642,-4.386834621429443,-81.10374450683594,50.420894622802734,125.9596176147461,-141.36537170410156,176.28697204589844,123.61895751953125,282.7977294921875,117.1858139038086,-111.40291595458984,68.5169906616211,29.8516788482666,61.97865295410156,134.4958038330078,234.57496643066406,3.9539427757263184,155.57276916503906,24.499691009521484,176.75820922851562,-221.332275390625,181.93836975097656,-229.98179626464844,-160.64166259765625,-248.51275634765625,327.8975524902344,-122.64978790283203,226.2401885986328,-91.89537811279297],\"y\":[-17.7921199798584,-140.59397888183594,216.56382751464844,-50.751922607421875,236.5088653564453,-41.774871826171875,18.985397338867188,55.977962493896484,-147.03456115722656,-170.69659423828125,-236.71954345703125,63.72425079345703,-95.95589447021484,52.63320541381836,-131.42625427246094,-97.71260070800781,76.7126235961914,-107.78277587890625,118.75947570800781,-88.785888671875,-7.423516273498535,-38.8995361328125,-195.29336547851562,-161.49136352539062,-98.06209564208984,-47.36521911621094,134.01116943359375,-63.577430725097656,365.770751953125,-10.786933898925781,16.786941528320312,-3.913609027862549,-236.65992736816406,-157.4993133544922,176.59315490722656],\"z\":[120.4260482788086,101.8860855102539,51.452545166015625,35.10219955444336,-99.18456268310547,182.5222625732422,-226.44650268554688,76.52820587158203,-88.2967758178711,75.45574951171875,103.27611541748047,203.02464294433594,-198.4884796142578,139.1840362548828,-117.53673553466797,4.0873308181762695,-197.3820343017578,172.60047912597656,184.1371307373047,-149.67530822753906,5.364277362823486,43.62211990356445,0.7905405759811401,-61.82041549682617,-82.02984619140625,115.56507873535156,120.3888931274414,-57.45415496826172,-73.48706817626953,-166.83067321777344,-127.20647430419922,242.21034240722656,-12.190556526184082,101.19338989257812,-78.59223175048828],\"type\":\"scatter3d\"},{\"hovertemplate\":\"color=k<br>x=%{x}<br>y=%{y}<br>z=%{z}<extra></extra>\",\"legendgroup\":\"k\",\"marker\":{\"color\":\"#EF553B\",\"symbol\":\"circle\"},\"mode\":\"markers\",\"name\":\"k\",\"scene\":\"scene\",\"showlegend\":true,\"x\":[-104.405029296875,-92.3411636352539,-62.405765533447266,-31.529150009155273,-126.31924438476562],\"y\":[-151.1445770263672,-0.6023266315460205,-20.09079933166504,69.38524627685547,85.86153411865234],\"z\":[49.10527420043945,117.17853546142578,-100.5999755859375,-25.099042892456055,-75.91531372070312],\"type\":\"scatter3d\"},{\"hovertemplate\":\"color=g<br>x=%{x}<br>y=%{y}<br>z=%{z}<extra></extra>\",\"legendgroup\":\"g\",\"marker\":{\"color\":\"#00cc96\",\"symbol\":\"circle\"},\"mode\":\"markers\",\"name\":\"g\",\"scene\":\"scene\",\"showlegend\":true,\"x\":[204.48773193359375,-69.62832641601562,-509.10369873046875,364.7788391113281],\"y\":[645.0765991210938,-232.08255004882812,-318.9941711425781,214.60443115234375],\"z\":[-144.79293823242188,138.58692932128906,-490.2718200683594,168.8258819580078],\"type\":\"scatter3d\"},{\"hovertemplate\":\"color=r<br>x=%{x}<br>y=%{y}<br>z=%{z}<extra></extra>\",\"legendgroup\":\"r\",\"marker\":{\"color\":\"#ab63fa\",\"symbol\":\"circle\"},\"mode\":\"markers\",\"name\":\"r\",\"scene\":\"scene\",\"showlegend\":true,\"x\":[281.1160888671875,-253.1529998779297],\"y\":[-3672.819091796875,820.905029296875],\"z\":[-964.069091796875,467.602294921875],\"type\":\"scatter3d\"},{\"hovertemplate\":\"color=c<br>x=%{x}<br>y=%{y}<br>z=%{z}<extra></extra>\",\"legendgroup\":\"c\",\"marker\":{\"color\":\"#FFA15A\",\"symbol\":\"circle\"},\"mode\":\"markers\",\"name\":\"c\",\"scene\":\"scene\",\"showlegend\":true,\"x\":[138.17185974121094,197.3690643310547,57.298397064208984,159.53662109375,-127.79114532470703,-270.8042297363281,20.34578514099121,242.49798583984375,-208.94606018066406,93.52122497558594,137.59536743164062,171.1299591064453,-56.72102355957031,21.489639282226562,4.701611518859863,-212.04412841796875,127.86165618896484,-219.02267456054688,-223.34352111816406,-72.8368911743164,17.611583709716797,14.073572158813477,54.979339599609375,-172.43362426757812,-247.02098083496094,120.85735321044922],\"y\":[163.95701599121094,101.53277587890625,78.5379638671875,180.1878662109375,-31.368877410888672,-13.001945495605469,181.30636596679688,140.3838653564453,-85.48141479492188,-60.295387268066406,180.32948303222656,35.13582992553711,-123.10900115966797,-222.17803955078125,-367.8336486816406,141.31759643554688,103.09120178222656,48.18849563598633,924.9844970703125,133.08245849609375,41.0538330078125,143.2736053466797,49.51226043701172,-80.40029907226562,-473.7267150878906,109.45452880859375],\"z\":[57.4832649230957,5.899890422821045,-25.71930694580078,-25.59748077392578,-2.3805480003356934,154.52577209472656,-19.020042419433594,-98.13838958740234,64.99100494384766,269.28765869140625,-125.3395004272461,-130.69808959960938,-210.65744018554688,-144.29714965820312,258.07598876953125,-9.881230354309082,-366.44140625,15.464807510375977,-1039.857666015625,121.7176284790039,274.16741943359375,-115.05498504638672,-126.34053039550781,162.4457244873047,236.9925994873047,-219.5717315673828],\"type\":\"scatter3d\"}],                        {\"template\":{\"data\":{\"histogram2dcontour\":[{\"type\":\"histogram2dcontour\",\"colorbar\":{\"outlinewidth\":0,\"ticks\":\"\"},\"colorscale\":[[0.0,\"#0d0887\"],[0.1111111111111111,\"#46039f\"],[0.2222222222222222,\"#7201a8\"],[0.3333333333333333,\"#9c179e\"],[0.4444444444444444,\"#bd3786\"],[0.5555555555555556,\"#d8576b\"],[0.6666666666666666,\"#ed7953\"],[0.7777777777777778,\"#fb9f3a\"],[0.8888888888888888,\"#fdca26\"],[1.0,\"#f0f921\"]]}],\"choropleth\":[{\"type\":\"choropleth\",\"colorbar\":{\"outlinewidth\":0,\"ticks\":\"\"}}],\"histogram2d\":[{\"type\":\"histogram2d\",\"colorbar\":{\"outlinewidth\":0,\"ticks\":\"\"},\"colorscale\":[[0.0,\"#0d0887\"],[0.1111111111111111,\"#46039f\"],[0.2222222222222222,\"#7201a8\"],[0.3333333333333333,\"#9c179e\"],[0.4444444444444444,\"#bd3786\"],[0.5555555555555556,\"#d8576b\"],[0.6666666666666666,\"#ed7953\"],[0.7777777777777778,\"#fb9f3a\"],[0.8888888888888888,\"#fdca26\"],[1.0,\"#f0f921\"]]}],\"heatmap\":[{\"type\":\"heatmap\",\"colorbar\":{\"outlinewidth\":0,\"ticks\":\"\"},\"colorscale\":[[0.0,\"#0d0887\"],[0.1111111111111111,\"#46039f\"],[0.2222222222222222,\"#7201a8\"],[0.3333333333333333,\"#9c179e\"],[0.4444444444444444,\"#bd3786\"],[0.5555555555555556,\"#d8576b\"],[0.6666666666666666,\"#ed7953\"],[0.7777777777777778,\"#fb9f3a\"],[0.8888888888888888,\"#fdca26\"],[1.0,\"#f0f921\"]]}],\"heatmapgl\":[{\"type\":\"heatmapgl\",\"colorbar\":{\"outlinewidth\":0,\"ticks\":\"\"},\"colorscale\":[[0.0,\"#0d0887\"],[0.1111111111111111,\"#46039f\"],[0.2222222222222222,\"#7201a8\"],[0.3333333333333333,\"#9c179e\"],[0.4444444444444444,\"#bd3786\"],[0.5555555555555556,\"#d8576b\"],[0.6666666666666666,\"#ed7953\"],[0.7777777777777778,\"#fb9f3a\"],[0.8888888888888888,\"#fdca26\"],[1.0,\"#f0f921\"]]}],\"contourcarpet\":[{\"type\":\"contourcarpet\",\"colorbar\":{\"outlinewidth\":0,\"ticks\":\"\"}}],\"contour\":[{\"type\":\"contour\",\"colorbar\":{\"outlinewidth\":0,\"ticks\":\"\"},\"colorscale\":[[0.0,\"#0d0887\"],[0.1111111111111111,\"#46039f\"],[0.2222222222222222,\"#7201a8\"],[0.3333333333333333,\"#9c179e\"],[0.4444444444444444,\"#bd3786\"],[0.5555555555555556,\"#d8576b\"],[0.6666666666666666,\"#ed7953\"],[0.7777777777777778,\"#fb9f3a\"],[0.8888888888888888,\"#fdca26\"],[1.0,\"#f0f921\"]]}],\"surface\":[{\"type\":\"surface\",\"colorbar\":{\"outlinewidth\":0,\"ticks\":\"\"},\"colorscale\":[[0.0,\"#0d0887\"],[0.1111111111111111,\"#46039f\"],[0.2222222222222222,\"#7201a8\"],[0.3333333333333333,\"#9c179e\"],[0.4444444444444444,\"#bd3786\"],[0.5555555555555556,\"#d8576b\"],[0.6666666666666666,\"#ed7953\"],[0.7777777777777778,\"#fb9f3a\"],[0.8888888888888888,\"#fdca26\"],[1.0,\"#f0f921\"]]}],\"mesh3d\":[{\"type\":\"mesh3d\",\"colorbar\":{\"outlinewidth\":0,\"ticks\":\"\"}}],\"scatter\":[{\"fillpattern\":{\"fillmode\":\"overlay\",\"size\":10,\"solidity\":0.2},\"type\":\"scatter\"}],\"parcoords\":[{\"type\":\"parcoords\",\"line\":{\"colorbar\":{\"outlinewidth\":0,\"ticks\":\"\"}}}],\"scatterpolargl\":[{\"type\":\"scatterpolargl\",\"marker\":{\"colorbar\":{\"outlinewidth\":0,\"ticks\":\"\"}}}],\"bar\":[{\"error_x\":{\"color\":\"#2a3f5f\"},\"error_y\":{\"color\":\"#2a3f5f\"},\"marker\":{\"line\":{\"color\":\"#E5ECF6\",\"width\":0.5},\"pattern\":{\"fillmode\":\"overlay\",\"size\":10,\"solidity\":0.2}},\"type\":\"bar\"}],\"scattergeo\":[{\"type\":\"scattergeo\",\"marker\":{\"colorbar\":{\"outlinewidth\":0,\"ticks\":\"\"}}}],\"scatterpolar\":[{\"type\":\"scatterpolar\",\"marker\":{\"colorbar\":{\"outlinewidth\":0,\"ticks\":\"\"}}}],\"histogram\":[{\"marker\":{\"pattern\":{\"fillmode\":\"overlay\",\"size\":10,\"solidity\":0.2}},\"type\":\"histogram\"}],\"scattergl\":[{\"type\":\"scattergl\",\"marker\":{\"colorbar\":{\"outlinewidth\":0,\"ticks\":\"\"}}}],\"scatter3d\":[{\"type\":\"scatter3d\",\"line\":{\"colorbar\":{\"outlinewidth\":0,\"ticks\":\"\"}},\"marker\":{\"colorbar\":{\"outlinewidth\":0,\"ticks\":\"\"}}}],\"scattermapbox\":[{\"type\":\"scattermapbox\",\"marker\":{\"colorbar\":{\"outlinewidth\":0,\"ticks\":\"\"}}}],\"scatterternary\":[{\"type\":\"scatterternary\",\"marker\":{\"colorbar\":{\"outlinewidth\":0,\"ticks\":\"\"}}}],\"scattercarpet\":[{\"type\":\"scattercarpet\",\"marker\":{\"colorbar\":{\"outlinewidth\":0,\"ticks\":\"\"}}}],\"carpet\":[{\"aaxis\":{\"endlinecolor\":\"#2a3f5f\",\"gridcolor\":\"white\",\"linecolor\":\"white\",\"minorgridcolor\":\"white\",\"startlinecolor\":\"#2a3f5f\"},\"baxis\":{\"endlinecolor\":\"#2a3f5f\",\"gridcolor\":\"white\",\"linecolor\":\"white\",\"minorgridcolor\":\"white\",\"startlinecolor\":\"#2a3f5f\"},\"type\":\"carpet\"}],\"table\":[{\"cells\":{\"fill\":{\"color\":\"#EBF0F8\"},\"line\":{\"color\":\"white\"}},\"header\":{\"fill\":{\"color\":\"#C8D4E3\"},\"line\":{\"color\":\"white\"}},\"type\":\"table\"}],\"barpolar\":[{\"marker\":{\"line\":{\"color\":\"#E5ECF6\",\"width\":0.5},\"pattern\":{\"fillmode\":\"overlay\",\"size\":10,\"solidity\":0.2}},\"type\":\"barpolar\"}],\"pie\":[{\"automargin\":true,\"type\":\"pie\"}]},\"layout\":{\"autotypenumbers\":\"strict\",\"colorway\":[\"#636efa\",\"#EF553B\",\"#00cc96\",\"#ab63fa\",\"#FFA15A\",\"#19d3f3\",\"#FF6692\",\"#B6E880\",\"#FF97FF\",\"#FECB52\"],\"font\":{\"color\":\"#2a3f5f\"},\"hovermode\":\"closest\",\"hoverlabel\":{\"align\":\"left\"},\"paper_bgcolor\":\"white\",\"plot_bgcolor\":\"#E5ECF6\",\"polar\":{\"bgcolor\":\"#E5ECF6\",\"angularaxis\":{\"gridcolor\":\"white\",\"linecolor\":\"white\",\"ticks\":\"\"},\"radialaxis\":{\"gridcolor\":\"white\",\"linecolor\":\"white\",\"ticks\":\"\"}},\"ternary\":{\"bgcolor\":\"#E5ECF6\",\"aaxis\":{\"gridcolor\":\"white\",\"linecolor\":\"white\",\"ticks\":\"\"},\"baxis\":{\"gridcolor\":\"white\",\"linecolor\":\"white\",\"ticks\":\"\"},\"caxis\":{\"gridcolor\":\"white\",\"linecolor\":\"white\",\"ticks\":\"\"}},\"coloraxis\":{\"colorbar\":{\"outlinewidth\":0,\"ticks\":\"\"}},\"colorscale\":{\"sequential\":[[0.0,\"#0d0887\"],[0.1111111111111111,\"#46039f\"],[0.2222222222222222,\"#7201a8\"],[0.3333333333333333,\"#9c179e\"],[0.4444444444444444,\"#bd3786\"],[0.5555555555555556,\"#d8576b\"],[0.6666666666666666,\"#ed7953\"],[0.7777777777777778,\"#fb9f3a\"],[0.8888888888888888,\"#fdca26\"],[1.0,\"#f0f921\"]],\"sequentialminus\":[[0.0,\"#0d0887\"],[0.1111111111111111,\"#46039f\"],[0.2222222222222222,\"#7201a8\"],[0.3333333333333333,\"#9c179e\"],[0.4444444444444444,\"#bd3786\"],[0.5555555555555556,\"#d8576b\"],[0.6666666666666666,\"#ed7953\"],[0.7777777777777778,\"#fb9f3a\"],[0.8888888888888888,\"#fdca26\"],[1.0,\"#f0f921\"]],\"diverging\":[[0,\"#8e0152\"],[0.1,\"#c51b7d\"],[0.2,\"#de77ae\"],[0.3,\"#f1b6da\"],[0.4,\"#fde0ef\"],[0.5,\"#f7f7f7\"],[0.6,\"#e6f5d0\"],[0.7,\"#b8e186\"],[0.8,\"#7fbc41\"],[0.9,\"#4d9221\"],[1,\"#276419\"]]},\"xaxis\":{\"gridcolor\":\"white\",\"linecolor\":\"white\",\"ticks\":\"\",\"title\":{\"standoff\":15},\"zerolinecolor\":\"white\",\"automargin\":true,\"zerolinewidth\":2},\"yaxis\":{\"gridcolor\":\"white\",\"linecolor\":\"white\",\"ticks\":\"\",\"title\":{\"standoff\":15},\"zerolinecolor\":\"white\",\"automargin\":true,\"zerolinewidth\":2},\"scene\":{\"xaxis\":{\"backgroundcolor\":\"#E5ECF6\",\"gridcolor\":\"white\",\"linecolor\":\"white\",\"showbackground\":true,\"ticks\":\"\",\"zerolinecolor\":\"white\",\"gridwidth\":2},\"yaxis\":{\"backgroundcolor\":\"#E5ECF6\",\"gridcolor\":\"white\",\"linecolor\":\"white\",\"showbackground\":true,\"ticks\":\"\",\"zerolinecolor\":\"white\",\"gridwidth\":2},\"zaxis\":{\"backgroundcolor\":\"#E5ECF6\",\"gridcolor\":\"white\",\"linecolor\":\"white\",\"showbackground\":true,\"ticks\":\"\",\"zerolinecolor\":\"white\",\"gridwidth\":2}},\"shapedefaults\":{\"line\":{\"color\":\"#2a3f5f\"}},\"annotationdefaults\":{\"arrowcolor\":\"#2a3f5f\",\"arrowhead\":0,\"arrowwidth\":1},\"geo\":{\"bgcolor\":\"white\",\"landcolor\":\"#E5ECF6\",\"subunitcolor\":\"white\",\"showland\":true,\"showlakes\":true,\"lakecolor\":\"white\"},\"title\":{\"x\":0.05},\"mapbox\":{\"style\":\"light\"}}},\"scene\":{\"domain\":{\"x\":[0.0,1.0],\"y\":[0.0,1.0]},\"xaxis\":{\"title\":{\"text\":\"x\"}},\"yaxis\":{\"title\":{\"text\":\"y\"}},\"zaxis\":{\"title\":{\"text\":\"z\"}}},\"legend\":{\"title\":{\"text\":\"color\"},\"tracegroupgap\":0},\"margin\":{\"t\":60}},                        {\"responsive\": true}                    ).then(function(){\n",
       "                            \n",
       "var gd = document.getElementById('f5497fb8-a8c1-4ebc-a245-fe8908d97a26');\n",
       "var x = new MutationObserver(function (mutations, observer) {{\n",
       "        var display = window.getComputedStyle(gd).display;\n",
       "        if (!display || display === 'none') {{\n",
       "            console.log([gd, 'removed!']);\n",
       "            Plotly.purge(gd);\n",
       "            observer.disconnect();\n",
       "        }}\n",
       "}});\n",
       "\n",
       "// Listen for the removal of the full notebook cells\n",
       "var notebookContainer = gd.closest('#notebook-container');\n",
       "if (notebookContainer) {{\n",
       "    x.observe(notebookContainer, {childList: true});\n",
       "}}\n",
       "\n",
       "// Listen for the clearing of the current output cell\n",
       "var outputEl = gd.closest('.output');\n",
       "if (outputEl) {{\n",
       "    x.observe(outputEl, {childList: true});\n",
       "}}\n",
       "\n",
       "                        })                };                });            </script>        </div>"
      ]
     },
     "metadata": {},
     "output_type": "display_data"
    }
   ],
   "source": [
    "# plot using tsne \n",
    "X_embedded  = TSNE(n_components=3, perplexity=10,random_state=24).fit_transform( X )\n",
    "colors = np.array([x for x in 'bgrcmykbgrcmykbgrcmykbgrcmyk'])\n",
    "fig = px.scatter_3d(x=X_embedded [:,0],y=X_embedded [:,1],z=X_embedded [:,2],color=colors[dbscan_clustering.labels_])\n",
    "fig.show()"
   ]
  },
  {
   "cell_type": "markdown",
   "metadata": {},
   "source": [
    "### Optics\n",
    "\n",
    "OPTICS is also a density-based algorithm similar to DBSCAN, but as compare to DBSCAN, OPTICS can find meaningful clusters in data that varies in density. OPTICS does process by ordering the data points so that the closest points are neighbors in the ordering. "
   ]
  },
  {
   "cell_type": "code",
   "execution_count": 96,
   "metadata": {},
   "outputs": [],
   "source": [
    "optics_grid = {\n",
    "        \"min_samples\" : range(2,8,2),\n",
    "        \"metric\": ['euclidean','dice' 'manhattan', 'cosine', 'precomputed'],\n",
    "        \"algorithm\" : ['auto', 'ball_tree', 'kd_tree', 'brute'],\n",
    "        \"eps\": np.arange(0.01,1.1,0.01)\n",
    "       }\n",
    "#dbscan_grid"
   ]
  },
  {
   "cell_type": "code",
   "execution_count": 97,
   "metadata": {},
   "outputs": [],
   "source": [
    "optics_model = OPTICS()\n",
    "optics_params = GridSearchCV(optics_model,optics_grid,scoring=silhouette_score2,cv= 10).fit(X, y)"
   ]
  },
  {
   "cell_type": "code",
   "execution_count": 98,
   "metadata": {},
   "outputs": [
    {
     "data": {
      "text/plain": [
       "(0.29972519355144245,\n",
       " {'algorithm': 'auto', 'eps': 0.01, 'metric': 'euclidean', 'min_samples': 2})"
      ]
     },
     "execution_count": 98,
     "metadata": {},
     "output_type": "execute_result"
    }
   ],
   "source": [
    "optics_params.best_score_, optics_params.best_params_"
   ]
  },
  {
   "cell_type": "code",
   "execution_count": 99,
   "metadata": {},
   "outputs": [],
   "source": [
    "optics_clustering = OPTICS(min_samples = optics_params.best_params_['min_samples'],\n",
    "                           algorithm = optics_params.best_params_['algorithm'],\n",
    "                           metric = optics_params.best_params_['metric'],\n",
    "                           eps = optics_params.best_params_['eps']\n",
    "                          ).fit(X)\n",
    "cluster = list(optics_clustering.labels_)\n",
    "values, counts = np.unique(cluster, return_counts=True)      \n",
    "optics_dataset = pd.DataFrame(X.copy())\n",
    "optics_dataset.loc[:,'Cluster'] = optics_clustering.labels_\n"
   ]
  },
  {
   "cell_type": "code",
   "execution_count": 100,
   "metadata": {},
   "outputs": [
    {
     "data": {
      "text/html": [
       "<div>\n",
       "<style scoped>\n",
       "    .dataframe tbody tr th:only-of-type {\n",
       "        vertical-align: middle;\n",
       "    }\n",
       "\n",
       "    .dataframe tbody tr th {\n",
       "        vertical-align: top;\n",
       "    }\n",
       "\n",
       "    .dataframe thead th {\n",
       "        text-align: right;\n",
       "    }\n",
       "</style>\n",
       "<table border=\"1\" class=\"dataframe\">\n",
       "  <thead>\n",
       "    <tr style=\"text-align: right;\">\n",
       "      <th></th>\n",
       "      <th>Cluster</th>\n",
       "    </tr>\n",
       "  </thead>\n",
       "  <tbody>\n",
       "    <tr>\n",
       "      <th>-1</th>\n",
       "      <td>13</td>\n",
       "    </tr>\n",
       "    <tr>\n",
       "      <th>11</th>\n",
       "      <td>6</td>\n",
       "    </tr>\n",
       "    <tr>\n",
       "      <th>12</th>\n",
       "      <td>4</td>\n",
       "    </tr>\n",
       "    <tr>\n",
       "      <th>0</th>\n",
       "      <td>4</td>\n",
       "    </tr>\n",
       "    <tr>\n",
       "      <th>3</th>\n",
       "      <td>4</td>\n",
       "    </tr>\n",
       "    <tr>\n",
       "      <th>7</th>\n",
       "      <td>4</td>\n",
       "    </tr>\n",
       "    <tr>\n",
       "      <th>9</th>\n",
       "      <td>4</td>\n",
       "    </tr>\n",
       "    <tr>\n",
       "      <th>16</th>\n",
       "      <td>4</td>\n",
       "    </tr>\n",
       "    <tr>\n",
       "      <th>8</th>\n",
       "      <td>3</td>\n",
       "    </tr>\n",
       "    <tr>\n",
       "      <th>15</th>\n",
       "      <td>3</td>\n",
       "    </tr>\n",
       "    <tr>\n",
       "      <th>6</th>\n",
       "      <td>3</td>\n",
       "    </tr>\n",
       "    <tr>\n",
       "      <th>4</th>\n",
       "      <td>3</td>\n",
       "    </tr>\n",
       "    <tr>\n",
       "      <th>1</th>\n",
       "      <td>3</td>\n",
       "    </tr>\n",
       "    <tr>\n",
       "      <th>13</th>\n",
       "      <td>2</td>\n",
       "    </tr>\n",
       "    <tr>\n",
       "      <th>14</th>\n",
       "      <td>2</td>\n",
       "    </tr>\n",
       "    <tr>\n",
       "      <th>10</th>\n",
       "      <td>2</td>\n",
       "    </tr>\n",
       "    <tr>\n",
       "      <th>18</th>\n",
       "      <td>2</td>\n",
       "    </tr>\n",
       "    <tr>\n",
       "      <th>5</th>\n",
       "      <td>2</td>\n",
       "    </tr>\n",
       "    <tr>\n",
       "      <th>2</th>\n",
       "      <td>2</td>\n",
       "    </tr>\n",
       "    <tr>\n",
       "      <th>17</th>\n",
       "      <td>2</td>\n",
       "    </tr>\n",
       "  </tbody>\n",
       "</table>\n",
       "</div>"
      ],
      "text/plain": [
       "     Cluster\n",
       "-1        13\n",
       " 11        6\n",
       " 12        4\n",
       " 0         4\n",
       " 3         4\n",
       " 7         4\n",
       " 9         4\n",
       " 16        4\n",
       " 8         3\n",
       " 15        3\n",
       " 6         3\n",
       " 4         3\n",
       " 1         3\n",
       " 13        2\n",
       " 14        2\n",
       " 10        2\n",
       " 18        2\n",
       " 5         2\n",
       " 2         2\n",
       " 17        2"
      ]
     },
     "execution_count": 100,
     "metadata": {},
     "output_type": "execute_result"
    }
   ],
   "source": [
    "optics_dataset.Cluster.value_counts().to_frame()"
   ]
  },
  {
   "cell_type": "code",
   "execution_count": 101,
   "metadata": {},
   "outputs": [
    {
     "data": {
      "text/html": [
       "<div>\n",
       "<style scoped>\n",
       "    .dataframe tbody tr th:only-of-type {\n",
       "        vertical-align: middle;\n",
       "    }\n",
       "\n",
       "    .dataframe tbody tr th {\n",
       "        vertical-align: top;\n",
       "    }\n",
       "\n",
       "    .dataframe thead th {\n",
       "        text-align: right;\n",
       "    }\n",
       "</style>\n",
       "<table border=\"1\" class=\"dataframe\">\n",
       "  <thead>\n",
       "    <tr style=\"text-align: right;\">\n",
       "      <th></th>\n",
       "      <th>silhouette_score</th>\n",
       "      <th>davies_bouldin_score</th>\n",
       "      <th>calinski_harabasz_score</th>\n",
       "      <th>fowlkes_mallows_score</th>\n",
       "      <th>adjusted_rand_score</th>\n",
       "      <th>adjusted_mutual_info_score</th>\n",
       "      <th>homogeneity_score</th>\n",
       "      <th>completeness_score</th>\n",
       "      <th>v_measure_score</th>\n",
       "    </tr>\n",
       "  </thead>\n",
       "  <tbody>\n",
       "    <tr>\n",
       "      <th>Optics</th>\n",
       "      <td>0.24237</td>\n",
       "      <td>1.210075</td>\n",
       "      <td>11.36451</td>\n",
       "      <td>0.217513</td>\n",
       "      <td>0.020912</td>\n",
       "      <td>0.151753</td>\n",
       "      <td>0.66597</td>\n",
       "      <td>0.141626</td>\n",
       "      <td>0.233579</td>\n",
       "    </tr>\n",
       "  </tbody>\n",
       "</table>\n",
       "</div>"
      ],
      "text/plain": [
       "        silhouette_score  davies_bouldin_score  calinski_harabasz_score  \\\n",
       "Optics           0.24237              1.210075                 11.36451   \n",
       "\n",
       "        fowlkes_mallows_score  adjusted_rand_score  \\\n",
       "Optics               0.217513             0.020912   \n",
       "\n",
       "        adjusted_mutual_info_score  homogeneity_score  completeness_score  \\\n",
       "Optics                    0.151753            0.66597            0.141626   \n",
       "\n",
       "        v_measure_score  \n",
       "Optics         0.233579  "
      ]
     },
     "execution_count": 101,
     "metadata": {},
     "output_type": "execute_result"
    }
   ],
   "source": [
    "\n",
    "Optics_df = pd.DataFrame(estimator_evaluation(optics_clustering, 'Optics ', X , y), index=[\"Optics\"])\n",
    "Optics_df"
   ]
  },
  {
   "cell_type": "code",
   "execution_count": 102,
   "metadata": {},
   "outputs": [
    {
     "data": {
      "application/vnd.plotly.v1+json": {
       "config": {
        "plotlyServerURL": "https://plot.ly"
       },
       "data": [
        {
         "hovertemplate": "color=k<br>x=%{x}<br>y=%{y}<br>z=%{z}<extra></extra>",
         "legendgroup": "k",
         "marker": {
          "color": "#636efa",
          "symbol": "circle"
         },
         "mode": "markers",
         "name": "k",
         "scene": "scene",
         "showlegend": true,
         "type": "scatter3d",
         "x": [
          54.39824676513672,
          -104.405029296875,
          -92.3411636352539,
          -25.17253303527832,
          -86.90068054199219,
          -190.931884765625,
          50.420894622802734,
          123.61895751953125,
          3.9539427757263184,
          -62.405765533447266,
          -160.64166259765625,
          -122.64978790283203,
          -270.8042297363281,
          -31.529150009155273,
          -126.31924438476562,
          17.611583709716797,
          -91.89537811279297,
          120.85735321044922
         ],
         "y": [
          -17.7921199798584,
          -151.1445770263672,
          -0.6023266315460205,
          -140.59397888183594,
          216.56382751464844,
          236.5088653564453,
          -170.69659423828125,
          52.63320541381836,
          -195.29336547851562,
          -20.09079933166504,
          -10.786933898925781,
          -236.65992736816406,
          -13.001945495605469,
          69.38524627685547,
          85.86153411865234,
          41.0538330078125,
          176.59315490722656,
          109.45452880859375
         ],
         "z": [
          120.4260482788086,
          49.10527420043945,
          117.17853546142578,
          101.8860855102539,
          51.452545166015625,
          -99.18456268310547,
          75.45574951171875,
          139.1840362548828,
          0.7905405759811401,
          -100.5999755859375,
          -166.83067321777344,
          -12.190556526184082,
          154.52577209472656,
          -25.099042892456055,
          -75.91531372070312,
          274.16741943359375,
          -78.59223175048828,
          -219.5717315673828
         ]
        },
        {
         "hovertemplate": "color=b<br>x=%{x}<br>y=%{y}<br>z=%{z}<extra></extra>",
         "legendgroup": "b",
         "marker": {
          "color": "#EF553B",
          "symbol": "circle"
         },
         "mode": "markers",
         "name": "b",
         "scene": "scene",
         "showlegend": true,
         "type": "scatter3d",
         "x": [
          -10.34064769744873,
          -46.73051452636719,
          -1.160131812095642,
          -4.386834621429443,
          -81.10374450683594,
          282.7977294921875,
          -221.332275390625,
          327.8975524902344,
          57.298397064208984,
          -127.79114532470703
         ],
         "y": [
          -50.751922607421875,
          -41.774871826171875,
          18.985397338867188,
          55.977962493896484,
          -147.03456115722656,
          -131.42625427246094,
          134.01116943359375,
          -3.913609027862549,
          78.5379638671875,
          -31.368877410888672
         ],
         "z": [
          35.10219955444336,
          182.5222625732422,
          -226.44650268554688,
          76.52820587158203,
          -88.2967758178711,
          -117.53673553466797,
          120.3888931274414,
          242.21034240722656,
          -25.71930694580078,
          -2.3805480003356934
         ]
        },
        {
         "hovertemplate": "color=r<br>x=%{x}<br>y=%{y}<br>z=%{z}<extra></extra>",
         "legendgroup": "r",
         "marker": {
          "color": "#00cc96",
          "symbol": "circle"
         },
         "mode": "markers",
         "name": "r",
         "scene": "scene",
         "showlegend": true,
         "type": "scatter3d",
         "x": [
          204.48773193359375,
          -69.62832641601562,
          -509.10369873046875,
          364.7788391113281,
          29.8516788482666,
          155.57276916503906,
          -56.72102355957031,
          4.701611518859863,
          -212.04412841796875,
          -223.34352111816406
         ],
         "y": [
          645.0765991210938,
          -232.08255004882812,
          -318.9941711425781,
          214.60443115234375,
          118.75947570800781,
          -161.49136352539062,
          -123.10900115966797,
          -367.8336486816406,
          141.31759643554688,
          924.9844970703125
         ],
         "z": [
          -144.79293823242188,
          138.58692932128906,
          -490.2718200683594,
          168.8258819580078,
          184.1371307373047,
          -61.82041549682617,
          -210.65744018554688,
          258.07598876953125,
          -9.881230354309082,
          -1039.857666015625
         ]
        },
        {
         "hovertemplate": "color=c<br>x=%{x}<br>y=%{y}<br>z=%{z}<extra></extra>",
         "legendgroup": "c",
         "marker": {
          "color": "#ab63fa",
          "symbol": "circle"
         },
         "mode": "markers",
         "name": "c",
         "scene": "scene",
         "showlegend": true,
         "type": "scatter3d",
         "x": [
          281.1160888671875,
          117.1858139038086,
          -111.40291595458984,
          134.4958038330078,
          181.93836975097656,
          -253.1529998779297,
          21.489639282226562,
          -219.02267456054688
         ],
         "y": [
          -3672.819091796875,
          -97.71260070800781,
          76.7126235961914,
          -7.423516273498535,
          -63.577430725097656,
          820.905029296875,
          -222.17803955078125,
          48.18849563598633
         ],
         "z": [
          -964.069091796875,
          4.0873308181762695,
          -197.3820343017578,
          5.364277362823486,
          -57.45415496826172,
          467.602294921875,
          -144.29714965820312,
          15.464807510375977
         ]
        },
        {
         "hovertemplate": "color=g<br>x=%{x}<br>y=%{y}<br>z=%{z}<extra></extra>",
         "legendgroup": "g",
         "marker": {
          "color": "#FFA15A",
          "symbol": "circle"
         },
         "mode": "markers",
         "name": "g",
         "scene": "scene",
         "showlegend": true,
         "type": "scatter3d",
         "x": [
          125.9596176147461,
          -141.36537170410156,
          176.28697204589844,
          68.5169906616211,
          61.97865295410156,
          24.499691009521484,
          20.34578514099121,
          93.52122497558594,
          14.073572158813477
         ],
         "y": [
          -236.71954345703125,
          63.72425079345703,
          -95.95589447021484,
          -107.78277587890625,
          -88.785888671875,
          -98.06209564208984,
          181.30636596679688,
          -60.295387268066406,
          143.2736053466797
         ],
         "z": [
          103.27611541748047,
          203.02464294433594,
          -198.4884796142578,
          172.60047912597656,
          -149.67530822753906,
          -82.02984619140625,
          -19.020042419433594,
          269.28765869140625,
          -115.05498504638672
         ]
        },
        {
         "hovertemplate": "color=m<br>x=%{x}<br>y=%{y}<br>z=%{z}<extra></extra>",
         "legendgroup": "m",
         "marker": {
          "color": "#19d3f3",
          "symbol": "circle"
         },
         "mode": "markers",
         "name": "m",
         "scene": "scene",
         "showlegend": true,
         "type": "scatter3d",
         "x": [
          234.57496643066406,
          176.75820922851562,
          -248.51275634765625,
          242.49798583984375,
          137.59536743164062,
          171.1299591064453,
          127.86165618896484,
          -72.8368911743164,
          54.979339599609375,
          -172.43362426757812,
          -247.02098083496094
         ],
         "y": [
          -38.8995361328125,
          -47.36521911621094,
          16.786941528320312,
          140.3838653564453,
          180.32948303222656,
          35.13582992553711,
          103.09120178222656,
          133.08245849609375,
          49.51226043701172,
          -80.40029907226562,
          -473.7267150878906
         ],
         "z": [
          43.62211990356445,
          115.56507873535156,
          -127.20647430419922,
          -98.13838958740234,
          -125.3395004272461,
          -130.69808959960938,
          -366.44140625,
          121.7176284790039,
          -126.34053039550781,
          162.4457244873047,
          236.9925994873047
         ]
        },
        {
         "hovertemplate": "color=y<br>x=%{x}<br>y=%{y}<br>z=%{z}<extra></extra>",
         "legendgroup": "y",
         "marker": {
          "color": "#FF6692",
          "symbol": "circle"
         },
         "mode": "markers",
         "name": "y",
         "scene": "scene",
         "showlegend": true,
         "type": "scatter3d",
         "x": [
          -229.98179626464844,
          138.17185974121094,
          197.3690643310547,
          159.53662109375,
          -208.94606018066406,
          226.2401885986328
         ],
         "y": [
          365.770751953125,
          163.95701599121094,
          101.53277587890625,
          180.1878662109375,
          -85.48141479492188,
          -157.4993133544922
         ],
         "z": [
          -73.48706817626953,
          57.4832649230957,
          5.899890422821045,
          -25.59748077392578,
          64.99100494384766,
          101.19338989257812
         ]
        }
       ],
       "layout": {
        "legend": {
         "title": {
          "text": "color"
         },
         "tracegroupgap": 0
        },
        "margin": {
         "t": 60
        },
        "scene": {
         "domain": {
          "x": [
           0,
           1
          ],
          "y": [
           0,
           1
          ]
         },
         "xaxis": {
          "title": {
           "text": "x"
          }
         },
         "yaxis": {
          "title": {
           "text": "y"
          }
         },
         "zaxis": {
          "title": {
           "text": "z"
          }
         }
        },
        "template": {
         "data": {
          "bar": [
           {
            "error_x": {
             "color": "#2a3f5f"
            },
            "error_y": {
             "color": "#2a3f5f"
            },
            "marker": {
             "line": {
              "color": "#E5ECF6",
              "width": 0.5
             },
             "pattern": {
              "fillmode": "overlay",
              "size": 10,
              "solidity": 0.2
             }
            },
            "type": "bar"
           }
          ],
          "barpolar": [
           {
            "marker": {
             "line": {
              "color": "#E5ECF6",
              "width": 0.5
             },
             "pattern": {
              "fillmode": "overlay",
              "size": 10,
              "solidity": 0.2
             }
            },
            "type": "barpolar"
           }
          ],
          "carpet": [
           {
            "aaxis": {
             "endlinecolor": "#2a3f5f",
             "gridcolor": "white",
             "linecolor": "white",
             "minorgridcolor": "white",
             "startlinecolor": "#2a3f5f"
            },
            "baxis": {
             "endlinecolor": "#2a3f5f",
             "gridcolor": "white",
             "linecolor": "white",
             "minorgridcolor": "white",
             "startlinecolor": "#2a3f5f"
            },
            "type": "carpet"
           }
          ],
          "choropleth": [
           {
            "colorbar": {
             "outlinewidth": 0,
             "ticks": ""
            },
            "type": "choropleth"
           }
          ],
          "contour": [
           {
            "colorbar": {
             "outlinewidth": 0,
             "ticks": ""
            },
            "colorscale": [
             [
              0,
              "#0d0887"
             ],
             [
              0.1111111111111111,
              "#46039f"
             ],
             [
              0.2222222222222222,
              "#7201a8"
             ],
             [
              0.3333333333333333,
              "#9c179e"
             ],
             [
              0.4444444444444444,
              "#bd3786"
             ],
             [
              0.5555555555555556,
              "#d8576b"
             ],
             [
              0.6666666666666666,
              "#ed7953"
             ],
             [
              0.7777777777777778,
              "#fb9f3a"
             ],
             [
              0.8888888888888888,
              "#fdca26"
             ],
             [
              1,
              "#f0f921"
             ]
            ],
            "type": "contour"
           }
          ],
          "contourcarpet": [
           {
            "colorbar": {
             "outlinewidth": 0,
             "ticks": ""
            },
            "type": "contourcarpet"
           }
          ],
          "heatmap": [
           {
            "colorbar": {
             "outlinewidth": 0,
             "ticks": ""
            },
            "colorscale": [
             [
              0,
              "#0d0887"
             ],
             [
              0.1111111111111111,
              "#46039f"
             ],
             [
              0.2222222222222222,
              "#7201a8"
             ],
             [
              0.3333333333333333,
              "#9c179e"
             ],
             [
              0.4444444444444444,
              "#bd3786"
             ],
             [
              0.5555555555555556,
              "#d8576b"
             ],
             [
              0.6666666666666666,
              "#ed7953"
             ],
             [
              0.7777777777777778,
              "#fb9f3a"
             ],
             [
              0.8888888888888888,
              "#fdca26"
             ],
             [
              1,
              "#f0f921"
             ]
            ],
            "type": "heatmap"
           }
          ],
          "heatmapgl": [
           {
            "colorbar": {
             "outlinewidth": 0,
             "ticks": ""
            },
            "colorscale": [
             [
              0,
              "#0d0887"
             ],
             [
              0.1111111111111111,
              "#46039f"
             ],
             [
              0.2222222222222222,
              "#7201a8"
             ],
             [
              0.3333333333333333,
              "#9c179e"
             ],
             [
              0.4444444444444444,
              "#bd3786"
             ],
             [
              0.5555555555555556,
              "#d8576b"
             ],
             [
              0.6666666666666666,
              "#ed7953"
             ],
             [
              0.7777777777777778,
              "#fb9f3a"
             ],
             [
              0.8888888888888888,
              "#fdca26"
             ],
             [
              1,
              "#f0f921"
             ]
            ],
            "type": "heatmapgl"
           }
          ],
          "histogram": [
           {
            "marker": {
             "pattern": {
              "fillmode": "overlay",
              "size": 10,
              "solidity": 0.2
             }
            },
            "type": "histogram"
           }
          ],
          "histogram2d": [
           {
            "colorbar": {
             "outlinewidth": 0,
             "ticks": ""
            },
            "colorscale": [
             [
              0,
              "#0d0887"
             ],
             [
              0.1111111111111111,
              "#46039f"
             ],
             [
              0.2222222222222222,
              "#7201a8"
             ],
             [
              0.3333333333333333,
              "#9c179e"
             ],
             [
              0.4444444444444444,
              "#bd3786"
             ],
             [
              0.5555555555555556,
              "#d8576b"
             ],
             [
              0.6666666666666666,
              "#ed7953"
             ],
             [
              0.7777777777777778,
              "#fb9f3a"
             ],
             [
              0.8888888888888888,
              "#fdca26"
             ],
             [
              1,
              "#f0f921"
             ]
            ],
            "type": "histogram2d"
           }
          ],
          "histogram2dcontour": [
           {
            "colorbar": {
             "outlinewidth": 0,
             "ticks": ""
            },
            "colorscale": [
             [
              0,
              "#0d0887"
             ],
             [
              0.1111111111111111,
              "#46039f"
             ],
             [
              0.2222222222222222,
              "#7201a8"
             ],
             [
              0.3333333333333333,
              "#9c179e"
             ],
             [
              0.4444444444444444,
              "#bd3786"
             ],
             [
              0.5555555555555556,
              "#d8576b"
             ],
             [
              0.6666666666666666,
              "#ed7953"
             ],
             [
              0.7777777777777778,
              "#fb9f3a"
             ],
             [
              0.8888888888888888,
              "#fdca26"
             ],
             [
              1,
              "#f0f921"
             ]
            ],
            "type": "histogram2dcontour"
           }
          ],
          "mesh3d": [
           {
            "colorbar": {
             "outlinewidth": 0,
             "ticks": ""
            },
            "type": "mesh3d"
           }
          ],
          "parcoords": [
           {
            "line": {
             "colorbar": {
              "outlinewidth": 0,
              "ticks": ""
             }
            },
            "type": "parcoords"
           }
          ],
          "pie": [
           {
            "automargin": true,
            "type": "pie"
           }
          ],
          "scatter": [
           {
            "fillpattern": {
             "fillmode": "overlay",
             "size": 10,
             "solidity": 0.2
            },
            "type": "scatter"
           }
          ],
          "scatter3d": [
           {
            "line": {
             "colorbar": {
              "outlinewidth": 0,
              "ticks": ""
             }
            },
            "marker": {
             "colorbar": {
              "outlinewidth": 0,
              "ticks": ""
             }
            },
            "type": "scatter3d"
           }
          ],
          "scattercarpet": [
           {
            "marker": {
             "colorbar": {
              "outlinewidth": 0,
              "ticks": ""
             }
            },
            "type": "scattercarpet"
           }
          ],
          "scattergeo": [
           {
            "marker": {
             "colorbar": {
              "outlinewidth": 0,
              "ticks": ""
             }
            },
            "type": "scattergeo"
           }
          ],
          "scattergl": [
           {
            "marker": {
             "colorbar": {
              "outlinewidth": 0,
              "ticks": ""
             }
            },
            "type": "scattergl"
           }
          ],
          "scattermapbox": [
           {
            "marker": {
             "colorbar": {
              "outlinewidth": 0,
              "ticks": ""
             }
            },
            "type": "scattermapbox"
           }
          ],
          "scatterpolar": [
           {
            "marker": {
             "colorbar": {
              "outlinewidth": 0,
              "ticks": ""
             }
            },
            "type": "scatterpolar"
           }
          ],
          "scatterpolargl": [
           {
            "marker": {
             "colorbar": {
              "outlinewidth": 0,
              "ticks": ""
             }
            },
            "type": "scatterpolargl"
           }
          ],
          "scatterternary": [
           {
            "marker": {
             "colorbar": {
              "outlinewidth": 0,
              "ticks": ""
             }
            },
            "type": "scatterternary"
           }
          ],
          "surface": [
           {
            "colorbar": {
             "outlinewidth": 0,
             "ticks": ""
            },
            "colorscale": [
             [
              0,
              "#0d0887"
             ],
             [
              0.1111111111111111,
              "#46039f"
             ],
             [
              0.2222222222222222,
              "#7201a8"
             ],
             [
              0.3333333333333333,
              "#9c179e"
             ],
             [
              0.4444444444444444,
              "#bd3786"
             ],
             [
              0.5555555555555556,
              "#d8576b"
             ],
             [
              0.6666666666666666,
              "#ed7953"
             ],
             [
              0.7777777777777778,
              "#fb9f3a"
             ],
             [
              0.8888888888888888,
              "#fdca26"
             ],
             [
              1,
              "#f0f921"
             ]
            ],
            "type": "surface"
           }
          ],
          "table": [
           {
            "cells": {
             "fill": {
              "color": "#EBF0F8"
             },
             "line": {
              "color": "white"
             }
            },
            "header": {
             "fill": {
              "color": "#C8D4E3"
             },
             "line": {
              "color": "white"
             }
            },
            "type": "table"
           }
          ]
         },
         "layout": {
          "annotationdefaults": {
           "arrowcolor": "#2a3f5f",
           "arrowhead": 0,
           "arrowwidth": 1
          },
          "autotypenumbers": "strict",
          "coloraxis": {
           "colorbar": {
            "outlinewidth": 0,
            "ticks": ""
           }
          },
          "colorscale": {
           "diverging": [
            [
             0,
             "#8e0152"
            ],
            [
             0.1,
             "#c51b7d"
            ],
            [
             0.2,
             "#de77ae"
            ],
            [
             0.3,
             "#f1b6da"
            ],
            [
             0.4,
             "#fde0ef"
            ],
            [
             0.5,
             "#f7f7f7"
            ],
            [
             0.6,
             "#e6f5d0"
            ],
            [
             0.7,
             "#b8e186"
            ],
            [
             0.8,
             "#7fbc41"
            ],
            [
             0.9,
             "#4d9221"
            ],
            [
             1,
             "#276419"
            ]
           ],
           "sequential": [
            [
             0,
             "#0d0887"
            ],
            [
             0.1111111111111111,
             "#46039f"
            ],
            [
             0.2222222222222222,
             "#7201a8"
            ],
            [
             0.3333333333333333,
             "#9c179e"
            ],
            [
             0.4444444444444444,
             "#bd3786"
            ],
            [
             0.5555555555555556,
             "#d8576b"
            ],
            [
             0.6666666666666666,
             "#ed7953"
            ],
            [
             0.7777777777777778,
             "#fb9f3a"
            ],
            [
             0.8888888888888888,
             "#fdca26"
            ],
            [
             1,
             "#f0f921"
            ]
           ],
           "sequentialminus": [
            [
             0,
             "#0d0887"
            ],
            [
             0.1111111111111111,
             "#46039f"
            ],
            [
             0.2222222222222222,
             "#7201a8"
            ],
            [
             0.3333333333333333,
             "#9c179e"
            ],
            [
             0.4444444444444444,
             "#bd3786"
            ],
            [
             0.5555555555555556,
             "#d8576b"
            ],
            [
             0.6666666666666666,
             "#ed7953"
            ],
            [
             0.7777777777777778,
             "#fb9f3a"
            ],
            [
             0.8888888888888888,
             "#fdca26"
            ],
            [
             1,
             "#f0f921"
            ]
           ]
          },
          "colorway": [
           "#636efa",
           "#EF553B",
           "#00cc96",
           "#ab63fa",
           "#FFA15A",
           "#19d3f3",
           "#FF6692",
           "#B6E880",
           "#FF97FF",
           "#FECB52"
          ],
          "font": {
           "color": "#2a3f5f"
          },
          "geo": {
           "bgcolor": "white",
           "lakecolor": "white",
           "landcolor": "#E5ECF6",
           "showlakes": true,
           "showland": true,
           "subunitcolor": "white"
          },
          "hoverlabel": {
           "align": "left"
          },
          "hovermode": "closest",
          "mapbox": {
           "style": "light"
          },
          "paper_bgcolor": "white",
          "plot_bgcolor": "#E5ECF6",
          "polar": {
           "angularaxis": {
            "gridcolor": "white",
            "linecolor": "white",
            "ticks": ""
           },
           "bgcolor": "#E5ECF6",
           "radialaxis": {
            "gridcolor": "white",
            "linecolor": "white",
            "ticks": ""
           }
          },
          "scene": {
           "xaxis": {
            "backgroundcolor": "#E5ECF6",
            "gridcolor": "white",
            "gridwidth": 2,
            "linecolor": "white",
            "showbackground": true,
            "ticks": "",
            "zerolinecolor": "white"
           },
           "yaxis": {
            "backgroundcolor": "#E5ECF6",
            "gridcolor": "white",
            "gridwidth": 2,
            "linecolor": "white",
            "showbackground": true,
            "ticks": "",
            "zerolinecolor": "white"
           },
           "zaxis": {
            "backgroundcolor": "#E5ECF6",
            "gridcolor": "white",
            "gridwidth": 2,
            "linecolor": "white",
            "showbackground": true,
            "ticks": "",
            "zerolinecolor": "white"
           }
          },
          "shapedefaults": {
           "line": {
            "color": "#2a3f5f"
           }
          },
          "ternary": {
           "aaxis": {
            "gridcolor": "white",
            "linecolor": "white",
            "ticks": ""
           },
           "baxis": {
            "gridcolor": "white",
            "linecolor": "white",
            "ticks": ""
           },
           "bgcolor": "#E5ECF6",
           "caxis": {
            "gridcolor": "white",
            "linecolor": "white",
            "ticks": ""
           }
          },
          "title": {
           "x": 0.05
          },
          "xaxis": {
           "automargin": true,
           "gridcolor": "white",
           "linecolor": "white",
           "ticks": "",
           "title": {
            "standoff": 15
           },
           "zerolinecolor": "white",
           "zerolinewidth": 2
          },
          "yaxis": {
           "automargin": true,
           "gridcolor": "white",
           "linecolor": "white",
           "ticks": "",
           "title": {
            "standoff": 15
           },
           "zerolinecolor": "white",
           "zerolinewidth": 2
          }
         }
        }
       }
      },
      "text/html": [
       "<div>                            <div id=\"858e0bd9-996b-4273-a21e-5b65c5203619\" class=\"plotly-graph-div\" style=\"height:525px; width:100%;\"></div>            <script type=\"text/javascript\">                require([\"plotly\"], function(Plotly) {                    window.PLOTLYENV=window.PLOTLYENV || {};                                    if (document.getElementById(\"858e0bd9-996b-4273-a21e-5b65c5203619\")) {                    Plotly.newPlot(                        \"858e0bd9-996b-4273-a21e-5b65c5203619\",                        [{\"hovertemplate\":\"color=k<br>x=%{x}<br>y=%{y}<br>z=%{z}<extra></extra>\",\"legendgroup\":\"k\",\"marker\":{\"color\":\"#636efa\",\"symbol\":\"circle\"},\"mode\":\"markers\",\"name\":\"k\",\"scene\":\"scene\",\"showlegend\":true,\"x\":[54.39824676513672,-104.405029296875,-92.3411636352539,-25.17253303527832,-86.90068054199219,-190.931884765625,50.420894622802734,123.61895751953125,3.9539427757263184,-62.405765533447266,-160.64166259765625,-122.64978790283203,-270.8042297363281,-31.529150009155273,-126.31924438476562,17.611583709716797,-91.89537811279297,120.85735321044922],\"y\":[-17.7921199798584,-151.1445770263672,-0.6023266315460205,-140.59397888183594,216.56382751464844,236.5088653564453,-170.69659423828125,52.63320541381836,-195.29336547851562,-20.09079933166504,-10.786933898925781,-236.65992736816406,-13.001945495605469,69.38524627685547,85.86153411865234,41.0538330078125,176.59315490722656,109.45452880859375],\"z\":[120.4260482788086,49.10527420043945,117.17853546142578,101.8860855102539,51.452545166015625,-99.18456268310547,75.45574951171875,139.1840362548828,0.7905405759811401,-100.5999755859375,-166.83067321777344,-12.190556526184082,154.52577209472656,-25.099042892456055,-75.91531372070312,274.16741943359375,-78.59223175048828,-219.5717315673828],\"type\":\"scatter3d\"},{\"hovertemplate\":\"color=b<br>x=%{x}<br>y=%{y}<br>z=%{z}<extra></extra>\",\"legendgroup\":\"b\",\"marker\":{\"color\":\"#EF553B\",\"symbol\":\"circle\"},\"mode\":\"markers\",\"name\":\"b\",\"scene\":\"scene\",\"showlegend\":true,\"x\":[-10.34064769744873,-46.73051452636719,-1.160131812095642,-4.386834621429443,-81.10374450683594,282.7977294921875,-221.332275390625,327.8975524902344,57.298397064208984,-127.79114532470703],\"y\":[-50.751922607421875,-41.774871826171875,18.985397338867188,55.977962493896484,-147.03456115722656,-131.42625427246094,134.01116943359375,-3.913609027862549,78.5379638671875,-31.368877410888672],\"z\":[35.10219955444336,182.5222625732422,-226.44650268554688,76.52820587158203,-88.2967758178711,-117.53673553466797,120.3888931274414,242.21034240722656,-25.71930694580078,-2.3805480003356934],\"type\":\"scatter3d\"},{\"hovertemplate\":\"color=r<br>x=%{x}<br>y=%{y}<br>z=%{z}<extra></extra>\",\"legendgroup\":\"r\",\"marker\":{\"color\":\"#00cc96\",\"symbol\":\"circle\"},\"mode\":\"markers\",\"name\":\"r\",\"scene\":\"scene\",\"showlegend\":true,\"x\":[204.48773193359375,-69.62832641601562,-509.10369873046875,364.7788391113281,29.8516788482666,155.57276916503906,-56.72102355957031,4.701611518859863,-212.04412841796875,-223.34352111816406],\"y\":[645.0765991210938,-232.08255004882812,-318.9941711425781,214.60443115234375,118.75947570800781,-161.49136352539062,-123.10900115966797,-367.8336486816406,141.31759643554688,924.9844970703125],\"z\":[-144.79293823242188,138.58692932128906,-490.2718200683594,168.8258819580078,184.1371307373047,-61.82041549682617,-210.65744018554688,258.07598876953125,-9.881230354309082,-1039.857666015625],\"type\":\"scatter3d\"},{\"hovertemplate\":\"color=c<br>x=%{x}<br>y=%{y}<br>z=%{z}<extra></extra>\",\"legendgroup\":\"c\",\"marker\":{\"color\":\"#ab63fa\",\"symbol\":\"circle\"},\"mode\":\"markers\",\"name\":\"c\",\"scene\":\"scene\",\"showlegend\":true,\"x\":[281.1160888671875,117.1858139038086,-111.40291595458984,134.4958038330078,181.93836975097656,-253.1529998779297,21.489639282226562,-219.02267456054688],\"y\":[-3672.819091796875,-97.71260070800781,76.7126235961914,-7.423516273498535,-63.577430725097656,820.905029296875,-222.17803955078125,48.18849563598633],\"z\":[-964.069091796875,4.0873308181762695,-197.3820343017578,5.364277362823486,-57.45415496826172,467.602294921875,-144.29714965820312,15.464807510375977],\"type\":\"scatter3d\"},{\"hovertemplate\":\"color=g<br>x=%{x}<br>y=%{y}<br>z=%{z}<extra></extra>\",\"legendgroup\":\"g\",\"marker\":{\"color\":\"#FFA15A\",\"symbol\":\"circle\"},\"mode\":\"markers\",\"name\":\"g\",\"scene\":\"scene\",\"showlegend\":true,\"x\":[125.9596176147461,-141.36537170410156,176.28697204589844,68.5169906616211,61.97865295410156,24.499691009521484,20.34578514099121,93.52122497558594,14.073572158813477],\"y\":[-236.71954345703125,63.72425079345703,-95.95589447021484,-107.78277587890625,-88.785888671875,-98.06209564208984,181.30636596679688,-60.295387268066406,143.2736053466797],\"z\":[103.27611541748047,203.02464294433594,-198.4884796142578,172.60047912597656,-149.67530822753906,-82.02984619140625,-19.020042419433594,269.28765869140625,-115.05498504638672],\"type\":\"scatter3d\"},{\"hovertemplate\":\"color=m<br>x=%{x}<br>y=%{y}<br>z=%{z}<extra></extra>\",\"legendgroup\":\"m\",\"marker\":{\"color\":\"#19d3f3\",\"symbol\":\"circle\"},\"mode\":\"markers\",\"name\":\"m\",\"scene\":\"scene\",\"showlegend\":true,\"x\":[234.57496643066406,176.75820922851562,-248.51275634765625,242.49798583984375,137.59536743164062,171.1299591064453,127.86165618896484,-72.8368911743164,54.979339599609375,-172.43362426757812,-247.02098083496094],\"y\":[-38.8995361328125,-47.36521911621094,16.786941528320312,140.3838653564453,180.32948303222656,35.13582992553711,103.09120178222656,133.08245849609375,49.51226043701172,-80.40029907226562,-473.7267150878906],\"z\":[43.62211990356445,115.56507873535156,-127.20647430419922,-98.13838958740234,-125.3395004272461,-130.69808959960938,-366.44140625,121.7176284790039,-126.34053039550781,162.4457244873047,236.9925994873047],\"type\":\"scatter3d\"},{\"hovertemplate\":\"color=y<br>x=%{x}<br>y=%{y}<br>z=%{z}<extra></extra>\",\"legendgroup\":\"y\",\"marker\":{\"color\":\"#FF6692\",\"symbol\":\"circle\"},\"mode\":\"markers\",\"name\":\"y\",\"scene\":\"scene\",\"showlegend\":true,\"x\":[-229.98179626464844,138.17185974121094,197.3690643310547,159.53662109375,-208.94606018066406,226.2401885986328],\"y\":[365.770751953125,163.95701599121094,101.53277587890625,180.1878662109375,-85.48141479492188,-157.4993133544922],\"z\":[-73.48706817626953,57.4832649230957,5.899890422821045,-25.59748077392578,64.99100494384766,101.19338989257812],\"type\":\"scatter3d\"}],                        {\"template\":{\"data\":{\"histogram2dcontour\":[{\"type\":\"histogram2dcontour\",\"colorbar\":{\"outlinewidth\":0,\"ticks\":\"\"},\"colorscale\":[[0.0,\"#0d0887\"],[0.1111111111111111,\"#46039f\"],[0.2222222222222222,\"#7201a8\"],[0.3333333333333333,\"#9c179e\"],[0.4444444444444444,\"#bd3786\"],[0.5555555555555556,\"#d8576b\"],[0.6666666666666666,\"#ed7953\"],[0.7777777777777778,\"#fb9f3a\"],[0.8888888888888888,\"#fdca26\"],[1.0,\"#f0f921\"]]}],\"choropleth\":[{\"type\":\"choropleth\",\"colorbar\":{\"outlinewidth\":0,\"ticks\":\"\"}}],\"histogram2d\":[{\"type\":\"histogram2d\",\"colorbar\":{\"outlinewidth\":0,\"ticks\":\"\"},\"colorscale\":[[0.0,\"#0d0887\"],[0.1111111111111111,\"#46039f\"],[0.2222222222222222,\"#7201a8\"],[0.3333333333333333,\"#9c179e\"],[0.4444444444444444,\"#bd3786\"],[0.5555555555555556,\"#d8576b\"],[0.6666666666666666,\"#ed7953\"],[0.7777777777777778,\"#fb9f3a\"],[0.8888888888888888,\"#fdca26\"],[1.0,\"#f0f921\"]]}],\"heatmap\":[{\"type\":\"heatmap\",\"colorbar\":{\"outlinewidth\":0,\"ticks\":\"\"},\"colorscale\":[[0.0,\"#0d0887\"],[0.1111111111111111,\"#46039f\"],[0.2222222222222222,\"#7201a8\"],[0.3333333333333333,\"#9c179e\"],[0.4444444444444444,\"#bd3786\"],[0.5555555555555556,\"#d8576b\"],[0.6666666666666666,\"#ed7953\"],[0.7777777777777778,\"#fb9f3a\"],[0.8888888888888888,\"#fdca26\"],[1.0,\"#f0f921\"]]}],\"heatmapgl\":[{\"type\":\"heatmapgl\",\"colorbar\":{\"outlinewidth\":0,\"ticks\":\"\"},\"colorscale\":[[0.0,\"#0d0887\"],[0.1111111111111111,\"#46039f\"],[0.2222222222222222,\"#7201a8\"],[0.3333333333333333,\"#9c179e\"],[0.4444444444444444,\"#bd3786\"],[0.5555555555555556,\"#d8576b\"],[0.6666666666666666,\"#ed7953\"],[0.7777777777777778,\"#fb9f3a\"],[0.8888888888888888,\"#fdca26\"],[1.0,\"#f0f921\"]]}],\"contourcarpet\":[{\"type\":\"contourcarpet\",\"colorbar\":{\"outlinewidth\":0,\"ticks\":\"\"}}],\"contour\":[{\"type\":\"contour\",\"colorbar\":{\"outlinewidth\":0,\"ticks\":\"\"},\"colorscale\":[[0.0,\"#0d0887\"],[0.1111111111111111,\"#46039f\"],[0.2222222222222222,\"#7201a8\"],[0.3333333333333333,\"#9c179e\"],[0.4444444444444444,\"#bd3786\"],[0.5555555555555556,\"#d8576b\"],[0.6666666666666666,\"#ed7953\"],[0.7777777777777778,\"#fb9f3a\"],[0.8888888888888888,\"#fdca26\"],[1.0,\"#f0f921\"]]}],\"surface\":[{\"type\":\"surface\",\"colorbar\":{\"outlinewidth\":0,\"ticks\":\"\"},\"colorscale\":[[0.0,\"#0d0887\"],[0.1111111111111111,\"#46039f\"],[0.2222222222222222,\"#7201a8\"],[0.3333333333333333,\"#9c179e\"],[0.4444444444444444,\"#bd3786\"],[0.5555555555555556,\"#d8576b\"],[0.6666666666666666,\"#ed7953\"],[0.7777777777777778,\"#fb9f3a\"],[0.8888888888888888,\"#fdca26\"],[1.0,\"#f0f921\"]]}],\"mesh3d\":[{\"type\":\"mesh3d\",\"colorbar\":{\"outlinewidth\":0,\"ticks\":\"\"}}],\"scatter\":[{\"fillpattern\":{\"fillmode\":\"overlay\",\"size\":10,\"solidity\":0.2},\"type\":\"scatter\"}],\"parcoords\":[{\"type\":\"parcoords\",\"line\":{\"colorbar\":{\"outlinewidth\":0,\"ticks\":\"\"}}}],\"scatterpolargl\":[{\"type\":\"scatterpolargl\",\"marker\":{\"colorbar\":{\"outlinewidth\":0,\"ticks\":\"\"}}}],\"bar\":[{\"error_x\":{\"color\":\"#2a3f5f\"},\"error_y\":{\"color\":\"#2a3f5f\"},\"marker\":{\"line\":{\"color\":\"#E5ECF6\",\"width\":0.5},\"pattern\":{\"fillmode\":\"overlay\",\"size\":10,\"solidity\":0.2}},\"type\":\"bar\"}],\"scattergeo\":[{\"type\":\"scattergeo\",\"marker\":{\"colorbar\":{\"outlinewidth\":0,\"ticks\":\"\"}}}],\"scatterpolar\":[{\"type\":\"scatterpolar\",\"marker\":{\"colorbar\":{\"outlinewidth\":0,\"ticks\":\"\"}}}],\"histogram\":[{\"marker\":{\"pattern\":{\"fillmode\":\"overlay\",\"size\":10,\"solidity\":0.2}},\"type\":\"histogram\"}],\"scattergl\":[{\"type\":\"scattergl\",\"marker\":{\"colorbar\":{\"outlinewidth\":0,\"ticks\":\"\"}}}],\"scatter3d\":[{\"type\":\"scatter3d\",\"line\":{\"colorbar\":{\"outlinewidth\":0,\"ticks\":\"\"}},\"marker\":{\"colorbar\":{\"outlinewidth\":0,\"ticks\":\"\"}}}],\"scattermapbox\":[{\"type\":\"scattermapbox\",\"marker\":{\"colorbar\":{\"outlinewidth\":0,\"ticks\":\"\"}}}],\"scatterternary\":[{\"type\":\"scatterternary\",\"marker\":{\"colorbar\":{\"outlinewidth\":0,\"ticks\":\"\"}}}],\"scattercarpet\":[{\"type\":\"scattercarpet\",\"marker\":{\"colorbar\":{\"outlinewidth\":0,\"ticks\":\"\"}}}],\"carpet\":[{\"aaxis\":{\"endlinecolor\":\"#2a3f5f\",\"gridcolor\":\"white\",\"linecolor\":\"white\",\"minorgridcolor\":\"white\",\"startlinecolor\":\"#2a3f5f\"},\"baxis\":{\"endlinecolor\":\"#2a3f5f\",\"gridcolor\":\"white\",\"linecolor\":\"white\",\"minorgridcolor\":\"white\",\"startlinecolor\":\"#2a3f5f\"},\"type\":\"carpet\"}],\"table\":[{\"cells\":{\"fill\":{\"color\":\"#EBF0F8\"},\"line\":{\"color\":\"white\"}},\"header\":{\"fill\":{\"color\":\"#C8D4E3\"},\"line\":{\"color\":\"white\"}},\"type\":\"table\"}],\"barpolar\":[{\"marker\":{\"line\":{\"color\":\"#E5ECF6\",\"width\":0.5},\"pattern\":{\"fillmode\":\"overlay\",\"size\":10,\"solidity\":0.2}},\"type\":\"barpolar\"}],\"pie\":[{\"automargin\":true,\"type\":\"pie\"}]},\"layout\":{\"autotypenumbers\":\"strict\",\"colorway\":[\"#636efa\",\"#EF553B\",\"#00cc96\",\"#ab63fa\",\"#FFA15A\",\"#19d3f3\",\"#FF6692\",\"#B6E880\",\"#FF97FF\",\"#FECB52\"],\"font\":{\"color\":\"#2a3f5f\"},\"hovermode\":\"closest\",\"hoverlabel\":{\"align\":\"left\"},\"paper_bgcolor\":\"white\",\"plot_bgcolor\":\"#E5ECF6\",\"polar\":{\"bgcolor\":\"#E5ECF6\",\"angularaxis\":{\"gridcolor\":\"white\",\"linecolor\":\"white\",\"ticks\":\"\"},\"radialaxis\":{\"gridcolor\":\"white\",\"linecolor\":\"white\",\"ticks\":\"\"}},\"ternary\":{\"bgcolor\":\"#E5ECF6\",\"aaxis\":{\"gridcolor\":\"white\",\"linecolor\":\"white\",\"ticks\":\"\"},\"baxis\":{\"gridcolor\":\"white\",\"linecolor\":\"white\",\"ticks\":\"\"},\"caxis\":{\"gridcolor\":\"white\",\"linecolor\":\"white\",\"ticks\":\"\"}},\"coloraxis\":{\"colorbar\":{\"outlinewidth\":0,\"ticks\":\"\"}},\"colorscale\":{\"sequential\":[[0.0,\"#0d0887\"],[0.1111111111111111,\"#46039f\"],[0.2222222222222222,\"#7201a8\"],[0.3333333333333333,\"#9c179e\"],[0.4444444444444444,\"#bd3786\"],[0.5555555555555556,\"#d8576b\"],[0.6666666666666666,\"#ed7953\"],[0.7777777777777778,\"#fb9f3a\"],[0.8888888888888888,\"#fdca26\"],[1.0,\"#f0f921\"]],\"sequentialminus\":[[0.0,\"#0d0887\"],[0.1111111111111111,\"#46039f\"],[0.2222222222222222,\"#7201a8\"],[0.3333333333333333,\"#9c179e\"],[0.4444444444444444,\"#bd3786\"],[0.5555555555555556,\"#d8576b\"],[0.6666666666666666,\"#ed7953\"],[0.7777777777777778,\"#fb9f3a\"],[0.8888888888888888,\"#fdca26\"],[1.0,\"#f0f921\"]],\"diverging\":[[0,\"#8e0152\"],[0.1,\"#c51b7d\"],[0.2,\"#de77ae\"],[0.3,\"#f1b6da\"],[0.4,\"#fde0ef\"],[0.5,\"#f7f7f7\"],[0.6,\"#e6f5d0\"],[0.7,\"#b8e186\"],[0.8,\"#7fbc41\"],[0.9,\"#4d9221\"],[1,\"#276419\"]]},\"xaxis\":{\"gridcolor\":\"white\",\"linecolor\":\"white\",\"ticks\":\"\",\"title\":{\"standoff\":15},\"zerolinecolor\":\"white\",\"automargin\":true,\"zerolinewidth\":2},\"yaxis\":{\"gridcolor\":\"white\",\"linecolor\":\"white\",\"ticks\":\"\",\"title\":{\"standoff\":15},\"zerolinecolor\":\"white\",\"automargin\":true,\"zerolinewidth\":2},\"scene\":{\"xaxis\":{\"backgroundcolor\":\"#E5ECF6\",\"gridcolor\":\"white\",\"linecolor\":\"white\",\"showbackground\":true,\"ticks\":\"\",\"zerolinecolor\":\"white\",\"gridwidth\":2},\"yaxis\":{\"backgroundcolor\":\"#E5ECF6\",\"gridcolor\":\"white\",\"linecolor\":\"white\",\"showbackground\":true,\"ticks\":\"\",\"zerolinecolor\":\"white\",\"gridwidth\":2},\"zaxis\":{\"backgroundcolor\":\"#E5ECF6\",\"gridcolor\":\"white\",\"linecolor\":\"white\",\"showbackground\":true,\"ticks\":\"\",\"zerolinecolor\":\"white\",\"gridwidth\":2}},\"shapedefaults\":{\"line\":{\"color\":\"#2a3f5f\"}},\"annotationdefaults\":{\"arrowcolor\":\"#2a3f5f\",\"arrowhead\":0,\"arrowwidth\":1},\"geo\":{\"bgcolor\":\"white\",\"landcolor\":\"#E5ECF6\",\"subunitcolor\":\"white\",\"showland\":true,\"showlakes\":true,\"lakecolor\":\"white\"},\"title\":{\"x\":0.05},\"mapbox\":{\"style\":\"light\"}}},\"scene\":{\"domain\":{\"x\":[0.0,1.0],\"y\":[0.0,1.0]},\"xaxis\":{\"title\":{\"text\":\"x\"}},\"yaxis\":{\"title\":{\"text\":\"y\"}},\"zaxis\":{\"title\":{\"text\":\"z\"}}},\"legend\":{\"title\":{\"text\":\"color\"},\"tracegroupgap\":0},\"margin\":{\"t\":60}},                        {\"responsive\": true}                    ).then(function(){\n",
       "                            \n",
       "var gd = document.getElementById('858e0bd9-996b-4273-a21e-5b65c5203619');\n",
       "var x = new MutationObserver(function (mutations, observer) {{\n",
       "        var display = window.getComputedStyle(gd).display;\n",
       "        if (!display || display === 'none') {{\n",
       "            console.log([gd, 'removed!']);\n",
       "            Plotly.purge(gd);\n",
       "            observer.disconnect();\n",
       "        }}\n",
       "}});\n",
       "\n",
       "// Listen for the removal of the full notebook cells\n",
       "var notebookContainer = gd.closest('#notebook-container');\n",
       "if (notebookContainer) {{\n",
       "    x.observe(notebookContainer, {childList: true});\n",
       "}}\n",
       "\n",
       "// Listen for the clearing of the current output cell\n",
       "var outputEl = gd.closest('.output');\n",
       "if (outputEl) {{\n",
       "    x.observe(outputEl, {childList: true});\n",
       "}}\n",
       "\n",
       "                        })                };                });            </script>        </div>"
      ]
     },
     "metadata": {},
     "output_type": "display_data"
    }
   ],
   "source": [
    "# plot using tsne \n",
    "X_embedded  = TSNE(n_components=3, perplexity=10,random_state=24).fit_transform( X )\n",
    "colors = np.array([x for x in 'bgrcmykbgrcmykbgrcmykbgrcmyk'])\n",
    "fig = px.scatter_3d(x=X_embedded [:,0],y=X_embedded [:,1],z=X_embedded [:,2],color=colors[optics_clustering.labels_])\n",
    "fig.show()"
   ]
  },
  {
   "cell_type": "markdown",
   "metadata": {},
   "source": [
    "### Spectral Clustering\n",
    "\n",
    "Spectral CLustering is a graph based clustering technique which is used to identify communities of nodes in a graph based on the edges connecting the nodes. It uses an information from the eigenvalues of special matrices that are built from the graph/data set."
   ]
  },
  {
   "cell_type": "code",
   "execution_count": 112,
   "metadata": {},
   "outputs": [],
   "source": [
    "spectral_grid = {\n",
    "        \"eigen_solver\" : ['arpack','amg'],\n",
    "        \"n_clusters\" : range(2,6),\n",
    "        \"n_init\" : range(2,6),\n",
    "    \n",
    "        \"n_neighbors\" : range(2,8,2),\n",
    "        \"affinity\": ['nearest_neighbors','rbf' 'precomputed'],\n",
    "        \"assign_labels\" : ['kmeans', 'discretize', 'cluster_qr'],\n",
    "       }\n",
    "#spectral_grid"
   ]
  },
  {
   "cell_type": "code",
   "execution_count": 113,
   "metadata": {},
   "outputs": [],
   "source": [
    "spectral_model = SpectralClustering()\n",
    "spectral_params = GridSearchCV(spectral_model,spectral_grid,scoring=silhouette_score2,cv= 10).fit(X, y)"
   ]
  },
  {
   "cell_type": "code",
   "execution_count": 114,
   "metadata": {},
   "outputs": [
    {
     "data": {
      "text/plain": [
       "(0.38571185216579285,\n",
       " {'affinity': 'nearest_neighbors',\n",
       "  'assign_labels': 'kmeans',\n",
       "  'eigen_solver': 'arpack',\n",
       "  'n_clusters': 2,\n",
       "  'n_init': 2,\n",
       "  'n_neighbors': 4})"
      ]
     },
     "execution_count": 114,
     "metadata": {},
     "output_type": "execute_result"
    }
   ],
   "source": [
    "spectral_params.best_score_, spectral_params.best_params_"
   ]
  },
  {
   "cell_type": "code",
   "execution_count": 115,
   "metadata": {},
   "outputs": [],
   "source": [
    "Spectral_clustering = SpectralClustering(affinity = spectral_params.best_params_['affinity'],\n",
    "                           assign_labels = spectral_params.best_params_['assign_labels'],\n",
    "                           eigen_solver = spectral_params.best_params_['eigen_solver'],\n",
    "                           n_clusters = spectral_params.best_params_['n_clusters'],\n",
    "                           n_init = spectral_params.best_params_['n_init'],\n",
    "                           n_neighbors = spectral_params.best_params_['n_neighbors']\n",
    "                          ).fit(X)\n",
    "cluster = list(Spectral_clustering.labels_)\n",
    "values, counts = np.unique(cluster, return_counts=True)      \n",
    "Spectral_dataset = pd.DataFrame(X.copy())\n",
    "Spectral_dataset.loc[:,'Cluster'] = Spectral_clustering.labels_\n"
   ]
  },
  {
   "cell_type": "code",
   "execution_count": 116,
   "metadata": {},
   "outputs": [
    {
     "data": {
      "text/html": [
       "<div>\n",
       "<style scoped>\n",
       "    .dataframe tbody tr th:only-of-type {\n",
       "        vertical-align: middle;\n",
       "    }\n",
       "\n",
       "    .dataframe tbody tr th {\n",
       "        vertical-align: top;\n",
       "    }\n",
       "\n",
       "    .dataframe thead th {\n",
       "        text-align: right;\n",
       "    }\n",
       "</style>\n",
       "<table border=\"1\" class=\"dataframe\">\n",
       "  <thead>\n",
       "    <tr style=\"text-align: right;\">\n",
       "      <th></th>\n",
       "      <th>Cluster</th>\n",
       "    </tr>\n",
       "  </thead>\n",
       "  <tbody>\n",
       "    <tr>\n",
       "      <th>0</th>\n",
       "      <td>42</td>\n",
       "    </tr>\n",
       "    <tr>\n",
       "      <th>1</th>\n",
       "      <td>30</td>\n",
       "    </tr>\n",
       "  </tbody>\n",
       "</table>\n",
       "</div>"
      ],
      "text/plain": [
       "   Cluster\n",
       "0       42\n",
       "1       30"
      ]
     },
     "execution_count": 116,
     "metadata": {},
     "output_type": "execute_result"
    }
   ],
   "source": [
    "Spectral_dataset.Cluster.value_counts().to_frame()"
   ]
  },
  {
   "cell_type": "code",
   "execution_count": 117,
   "metadata": {},
   "outputs": [
    {
     "data": {
      "text/html": [
       "<div>\n",
       "<style scoped>\n",
       "    .dataframe tbody tr th:only-of-type {\n",
       "        vertical-align: middle;\n",
       "    }\n",
       "\n",
       "    .dataframe tbody tr th {\n",
       "        vertical-align: top;\n",
       "    }\n",
       "\n",
       "    .dataframe thead th {\n",
       "        text-align: right;\n",
       "    }\n",
       "</style>\n",
       "<table border=\"1\" class=\"dataframe\">\n",
       "  <thead>\n",
       "    <tr style=\"text-align: right;\">\n",
       "      <th></th>\n",
       "      <th>silhouette_score</th>\n",
       "      <th>davies_bouldin_score</th>\n",
       "      <th>calinski_harabasz_score</th>\n",
       "      <th>fowlkes_mallows_score</th>\n",
       "      <th>adjusted_rand_score</th>\n",
       "      <th>adjusted_mutual_info_score</th>\n",
       "      <th>homogeneity_score</th>\n",
       "      <th>completeness_score</th>\n",
       "      <th>v_measure_score</th>\n",
       "    </tr>\n",
       "  </thead>\n",
       "  <tbody>\n",
       "    <tr>\n",
       "      <th>SpectralClustering</th>\n",
       "      <td>0.320568</td>\n",
       "      <td>1.360494</td>\n",
       "      <td>33.214029</td>\n",
       "      <td>0.616312</td>\n",
       "      <td>0.160056</td>\n",
       "      <td>0.302954</td>\n",
       "      <td>0.330167</td>\n",
       "      <td>0.293438</td>\n",
       "      <td>0.310721</td>\n",
       "    </tr>\n",
       "  </tbody>\n",
       "</table>\n",
       "</div>"
      ],
      "text/plain": [
       "                    silhouette_score  davies_bouldin_score  \\\n",
       "SpectralClustering          0.320568              1.360494   \n",
       "\n",
       "                    calinski_harabasz_score  fowlkes_mallows_score  \\\n",
       "SpectralClustering                33.214029               0.616312   \n",
       "\n",
       "                    adjusted_rand_score  adjusted_mutual_info_score  \\\n",
       "SpectralClustering             0.160056                    0.302954   \n",
       "\n",
       "                    homogeneity_score  completeness_score  v_measure_score  \n",
       "SpectralClustering           0.330167            0.293438         0.310721  "
      ]
     },
     "execution_count": 117,
     "metadata": {},
     "output_type": "execute_result"
    }
   ],
   "source": [
    "Spectral_df = pd.DataFrame(estimator_evaluation(Spectral_clustering, 'Spectral ', X , y), index=[\"SpectralClustering\"])\n",
    "Spectral_df"
   ]
  },
  {
   "cell_type": "code",
   "execution_count": 118,
   "metadata": {},
   "outputs": [
    {
     "data": {
      "application/vnd.plotly.v1+json": {
       "config": {
        "plotlyServerURL": "https://plot.ly"
       },
       "data": [
        {
         "hovertemplate": "color=b<br>x=%{x}<br>y=%{y}<br>z=%{z}<extra></extra>",
         "legendgroup": "b",
         "marker": {
          "color": "#636efa",
          "symbol": "circle"
         },
         "mode": "markers",
         "name": "b",
         "scene": "scene",
         "showlegend": true,
         "type": "scatter3d",
         "x": [
          54.39824676513672,
          -104.405029296875,
          -92.3411636352539,
          -25.17253303527832,
          -86.90068054199219,
          -10.34064769744873,
          204.48773193359375,
          -190.931884765625,
          281.1160888671875,
          -69.62832641601562,
          -46.73051452636719,
          -1.160131812095642,
          -4.386834621429443,
          -81.10374450683594,
          50.420894622802734,
          -509.10369873046875,
          125.9596176147461,
          -141.36537170410156,
          176.28697204589844,
          123.61895751953125,
          364.7788391113281,
          282.7977294921875,
          117.1858139038086,
          -111.40291595458984,
          68.5169906616211,
          29.8516788482666,
          61.97865295410156,
          134.4958038330078,
          234.57496643066406,
          3.9539427757263184,
          155.57276916503906,
          24.499691009521484,
          176.75820922851562,
          -221.332275390625,
          181.93836975097656,
          -62.405765533447266,
          -253.1529998779297,
          -229.98179626464844,
          -160.64166259765625,
          -248.51275634765625,
          327.8975524902344,
          -122.64978790283203
         ],
         "y": [
          -17.7921199798584,
          -151.1445770263672,
          -0.6023266315460205,
          -140.59397888183594,
          216.56382751464844,
          -50.751922607421875,
          645.0765991210938,
          236.5088653564453,
          -3672.819091796875,
          -232.08255004882812,
          -41.774871826171875,
          18.985397338867188,
          55.977962493896484,
          -147.03456115722656,
          -170.69659423828125,
          -318.9941711425781,
          -236.71954345703125,
          63.72425079345703,
          -95.95589447021484,
          52.63320541381836,
          214.60443115234375,
          -131.42625427246094,
          -97.71260070800781,
          76.7126235961914,
          -107.78277587890625,
          118.75947570800781,
          -88.785888671875,
          -7.423516273498535,
          -38.8995361328125,
          -195.29336547851562,
          -161.49136352539062,
          -98.06209564208984,
          -47.36521911621094,
          134.01116943359375,
          -63.577430725097656,
          -20.09079933166504,
          820.905029296875,
          365.770751953125,
          -10.786933898925781,
          16.786941528320312,
          -3.913609027862549,
          -236.65992736816406
         ],
         "z": [
          120.4260482788086,
          49.10527420043945,
          117.17853546142578,
          101.8860855102539,
          51.452545166015625,
          35.10219955444336,
          -144.79293823242188,
          -99.18456268310547,
          -964.069091796875,
          138.58692932128906,
          182.5222625732422,
          -226.44650268554688,
          76.52820587158203,
          -88.2967758178711,
          75.45574951171875,
          -490.2718200683594,
          103.27611541748047,
          203.02464294433594,
          -198.4884796142578,
          139.1840362548828,
          168.8258819580078,
          -117.53673553466797,
          4.0873308181762695,
          -197.3820343017578,
          172.60047912597656,
          184.1371307373047,
          -149.67530822753906,
          5.364277362823486,
          43.62211990356445,
          0.7905405759811401,
          -61.82041549682617,
          -82.02984619140625,
          115.56507873535156,
          120.3888931274414,
          -57.45415496826172,
          -100.5999755859375,
          467.602294921875,
          -73.48706817626953,
          -166.83067321777344,
          -127.20647430419922,
          242.21034240722656,
          -12.190556526184082
         ]
        },
        {
         "hovertemplate": "color=g<br>x=%{x}<br>y=%{y}<br>z=%{z}<extra></extra>",
         "legendgroup": "g",
         "marker": {
          "color": "#EF553B",
          "symbol": "circle"
         },
         "mode": "markers",
         "name": "g",
         "scene": "scene",
         "showlegend": true,
         "type": "scatter3d",
         "x": [
          138.17185974121094,
          197.3690643310547,
          57.298397064208984,
          159.53662109375,
          -127.79114532470703,
          -270.8042297363281,
          -31.529150009155273,
          20.34578514099121,
          242.49798583984375,
          -208.94606018066406,
          93.52122497558594,
          226.2401885986328,
          137.59536743164062,
          -126.31924438476562,
          171.1299591064453,
          -56.72102355957031,
          21.489639282226562,
          4.701611518859863,
          -212.04412841796875,
          127.86165618896484,
          -219.02267456054688,
          -223.34352111816406,
          -72.8368911743164,
          17.611583709716797,
          14.073572158813477,
          54.979339599609375,
          -172.43362426757812,
          -91.89537811279297,
          -247.02098083496094,
          120.85735321044922
         ],
         "y": [
          163.95701599121094,
          101.53277587890625,
          78.5379638671875,
          180.1878662109375,
          -31.368877410888672,
          -13.001945495605469,
          69.38524627685547,
          181.30636596679688,
          140.3838653564453,
          -85.48141479492188,
          -60.295387268066406,
          -157.4993133544922,
          180.32948303222656,
          85.86153411865234,
          35.13582992553711,
          -123.10900115966797,
          -222.17803955078125,
          -367.8336486816406,
          141.31759643554688,
          103.09120178222656,
          48.18849563598633,
          924.9844970703125,
          133.08245849609375,
          41.0538330078125,
          143.2736053466797,
          49.51226043701172,
          -80.40029907226562,
          176.59315490722656,
          -473.7267150878906,
          109.45452880859375
         ],
         "z": [
          57.4832649230957,
          5.899890422821045,
          -25.71930694580078,
          -25.59748077392578,
          -2.3805480003356934,
          154.52577209472656,
          -25.099042892456055,
          -19.020042419433594,
          -98.13838958740234,
          64.99100494384766,
          269.28765869140625,
          101.19338989257812,
          -125.3395004272461,
          -75.91531372070312,
          -130.69808959960938,
          -210.65744018554688,
          -144.29714965820312,
          258.07598876953125,
          -9.881230354309082,
          -366.44140625,
          15.464807510375977,
          -1039.857666015625,
          121.7176284790039,
          274.16741943359375,
          -115.05498504638672,
          -126.34053039550781,
          162.4457244873047,
          -78.59223175048828,
          236.9925994873047,
          -219.5717315673828
         ]
        }
       ],
       "layout": {
        "legend": {
         "title": {
          "text": "color"
         },
         "tracegroupgap": 0
        },
        "margin": {
         "t": 60
        },
        "scene": {
         "domain": {
          "x": [
           0,
           1
          ],
          "y": [
           0,
           1
          ]
         },
         "xaxis": {
          "title": {
           "text": "x"
          }
         },
         "yaxis": {
          "title": {
           "text": "y"
          }
         },
         "zaxis": {
          "title": {
           "text": "z"
          }
         }
        },
        "template": {
         "data": {
          "bar": [
           {
            "error_x": {
             "color": "#2a3f5f"
            },
            "error_y": {
             "color": "#2a3f5f"
            },
            "marker": {
             "line": {
              "color": "#E5ECF6",
              "width": 0.5
             },
             "pattern": {
              "fillmode": "overlay",
              "size": 10,
              "solidity": 0.2
             }
            },
            "type": "bar"
           }
          ],
          "barpolar": [
           {
            "marker": {
             "line": {
              "color": "#E5ECF6",
              "width": 0.5
             },
             "pattern": {
              "fillmode": "overlay",
              "size": 10,
              "solidity": 0.2
             }
            },
            "type": "barpolar"
           }
          ],
          "carpet": [
           {
            "aaxis": {
             "endlinecolor": "#2a3f5f",
             "gridcolor": "white",
             "linecolor": "white",
             "minorgridcolor": "white",
             "startlinecolor": "#2a3f5f"
            },
            "baxis": {
             "endlinecolor": "#2a3f5f",
             "gridcolor": "white",
             "linecolor": "white",
             "minorgridcolor": "white",
             "startlinecolor": "#2a3f5f"
            },
            "type": "carpet"
           }
          ],
          "choropleth": [
           {
            "colorbar": {
             "outlinewidth": 0,
             "ticks": ""
            },
            "type": "choropleth"
           }
          ],
          "contour": [
           {
            "colorbar": {
             "outlinewidth": 0,
             "ticks": ""
            },
            "colorscale": [
             [
              0,
              "#0d0887"
             ],
             [
              0.1111111111111111,
              "#46039f"
             ],
             [
              0.2222222222222222,
              "#7201a8"
             ],
             [
              0.3333333333333333,
              "#9c179e"
             ],
             [
              0.4444444444444444,
              "#bd3786"
             ],
             [
              0.5555555555555556,
              "#d8576b"
             ],
             [
              0.6666666666666666,
              "#ed7953"
             ],
             [
              0.7777777777777778,
              "#fb9f3a"
             ],
             [
              0.8888888888888888,
              "#fdca26"
             ],
             [
              1,
              "#f0f921"
             ]
            ],
            "type": "contour"
           }
          ],
          "contourcarpet": [
           {
            "colorbar": {
             "outlinewidth": 0,
             "ticks": ""
            },
            "type": "contourcarpet"
           }
          ],
          "heatmap": [
           {
            "colorbar": {
             "outlinewidth": 0,
             "ticks": ""
            },
            "colorscale": [
             [
              0,
              "#0d0887"
             ],
             [
              0.1111111111111111,
              "#46039f"
             ],
             [
              0.2222222222222222,
              "#7201a8"
             ],
             [
              0.3333333333333333,
              "#9c179e"
             ],
             [
              0.4444444444444444,
              "#bd3786"
             ],
             [
              0.5555555555555556,
              "#d8576b"
             ],
             [
              0.6666666666666666,
              "#ed7953"
             ],
             [
              0.7777777777777778,
              "#fb9f3a"
             ],
             [
              0.8888888888888888,
              "#fdca26"
             ],
             [
              1,
              "#f0f921"
             ]
            ],
            "type": "heatmap"
           }
          ],
          "heatmapgl": [
           {
            "colorbar": {
             "outlinewidth": 0,
             "ticks": ""
            },
            "colorscale": [
             [
              0,
              "#0d0887"
             ],
             [
              0.1111111111111111,
              "#46039f"
             ],
             [
              0.2222222222222222,
              "#7201a8"
             ],
             [
              0.3333333333333333,
              "#9c179e"
             ],
             [
              0.4444444444444444,
              "#bd3786"
             ],
             [
              0.5555555555555556,
              "#d8576b"
             ],
             [
              0.6666666666666666,
              "#ed7953"
             ],
             [
              0.7777777777777778,
              "#fb9f3a"
             ],
             [
              0.8888888888888888,
              "#fdca26"
             ],
             [
              1,
              "#f0f921"
             ]
            ],
            "type": "heatmapgl"
           }
          ],
          "histogram": [
           {
            "marker": {
             "pattern": {
              "fillmode": "overlay",
              "size": 10,
              "solidity": 0.2
             }
            },
            "type": "histogram"
           }
          ],
          "histogram2d": [
           {
            "colorbar": {
             "outlinewidth": 0,
             "ticks": ""
            },
            "colorscale": [
             [
              0,
              "#0d0887"
             ],
             [
              0.1111111111111111,
              "#46039f"
             ],
             [
              0.2222222222222222,
              "#7201a8"
             ],
             [
              0.3333333333333333,
              "#9c179e"
             ],
             [
              0.4444444444444444,
              "#bd3786"
             ],
             [
              0.5555555555555556,
              "#d8576b"
             ],
             [
              0.6666666666666666,
              "#ed7953"
             ],
             [
              0.7777777777777778,
              "#fb9f3a"
             ],
             [
              0.8888888888888888,
              "#fdca26"
             ],
             [
              1,
              "#f0f921"
             ]
            ],
            "type": "histogram2d"
           }
          ],
          "histogram2dcontour": [
           {
            "colorbar": {
             "outlinewidth": 0,
             "ticks": ""
            },
            "colorscale": [
             [
              0,
              "#0d0887"
             ],
             [
              0.1111111111111111,
              "#46039f"
             ],
             [
              0.2222222222222222,
              "#7201a8"
             ],
             [
              0.3333333333333333,
              "#9c179e"
             ],
             [
              0.4444444444444444,
              "#bd3786"
             ],
             [
              0.5555555555555556,
              "#d8576b"
             ],
             [
              0.6666666666666666,
              "#ed7953"
             ],
             [
              0.7777777777777778,
              "#fb9f3a"
             ],
             [
              0.8888888888888888,
              "#fdca26"
             ],
             [
              1,
              "#f0f921"
             ]
            ],
            "type": "histogram2dcontour"
           }
          ],
          "mesh3d": [
           {
            "colorbar": {
             "outlinewidth": 0,
             "ticks": ""
            },
            "type": "mesh3d"
           }
          ],
          "parcoords": [
           {
            "line": {
             "colorbar": {
              "outlinewidth": 0,
              "ticks": ""
             }
            },
            "type": "parcoords"
           }
          ],
          "pie": [
           {
            "automargin": true,
            "type": "pie"
           }
          ],
          "scatter": [
           {
            "fillpattern": {
             "fillmode": "overlay",
             "size": 10,
             "solidity": 0.2
            },
            "type": "scatter"
           }
          ],
          "scatter3d": [
           {
            "line": {
             "colorbar": {
              "outlinewidth": 0,
              "ticks": ""
             }
            },
            "marker": {
             "colorbar": {
              "outlinewidth": 0,
              "ticks": ""
             }
            },
            "type": "scatter3d"
           }
          ],
          "scattercarpet": [
           {
            "marker": {
             "colorbar": {
              "outlinewidth": 0,
              "ticks": ""
             }
            },
            "type": "scattercarpet"
           }
          ],
          "scattergeo": [
           {
            "marker": {
             "colorbar": {
              "outlinewidth": 0,
              "ticks": ""
             }
            },
            "type": "scattergeo"
           }
          ],
          "scattergl": [
           {
            "marker": {
             "colorbar": {
              "outlinewidth": 0,
              "ticks": ""
             }
            },
            "type": "scattergl"
           }
          ],
          "scattermapbox": [
           {
            "marker": {
             "colorbar": {
              "outlinewidth": 0,
              "ticks": ""
             }
            },
            "type": "scattermapbox"
           }
          ],
          "scatterpolar": [
           {
            "marker": {
             "colorbar": {
              "outlinewidth": 0,
              "ticks": ""
             }
            },
            "type": "scatterpolar"
           }
          ],
          "scatterpolargl": [
           {
            "marker": {
             "colorbar": {
              "outlinewidth": 0,
              "ticks": ""
             }
            },
            "type": "scatterpolargl"
           }
          ],
          "scatterternary": [
           {
            "marker": {
             "colorbar": {
              "outlinewidth": 0,
              "ticks": ""
             }
            },
            "type": "scatterternary"
           }
          ],
          "surface": [
           {
            "colorbar": {
             "outlinewidth": 0,
             "ticks": ""
            },
            "colorscale": [
             [
              0,
              "#0d0887"
             ],
             [
              0.1111111111111111,
              "#46039f"
             ],
             [
              0.2222222222222222,
              "#7201a8"
             ],
             [
              0.3333333333333333,
              "#9c179e"
             ],
             [
              0.4444444444444444,
              "#bd3786"
             ],
             [
              0.5555555555555556,
              "#d8576b"
             ],
             [
              0.6666666666666666,
              "#ed7953"
             ],
             [
              0.7777777777777778,
              "#fb9f3a"
             ],
             [
              0.8888888888888888,
              "#fdca26"
             ],
             [
              1,
              "#f0f921"
             ]
            ],
            "type": "surface"
           }
          ],
          "table": [
           {
            "cells": {
             "fill": {
              "color": "#EBF0F8"
             },
             "line": {
              "color": "white"
             }
            },
            "header": {
             "fill": {
              "color": "#C8D4E3"
             },
             "line": {
              "color": "white"
             }
            },
            "type": "table"
           }
          ]
         },
         "layout": {
          "annotationdefaults": {
           "arrowcolor": "#2a3f5f",
           "arrowhead": 0,
           "arrowwidth": 1
          },
          "autotypenumbers": "strict",
          "coloraxis": {
           "colorbar": {
            "outlinewidth": 0,
            "ticks": ""
           }
          },
          "colorscale": {
           "diverging": [
            [
             0,
             "#8e0152"
            ],
            [
             0.1,
             "#c51b7d"
            ],
            [
             0.2,
             "#de77ae"
            ],
            [
             0.3,
             "#f1b6da"
            ],
            [
             0.4,
             "#fde0ef"
            ],
            [
             0.5,
             "#f7f7f7"
            ],
            [
             0.6,
             "#e6f5d0"
            ],
            [
             0.7,
             "#b8e186"
            ],
            [
             0.8,
             "#7fbc41"
            ],
            [
             0.9,
             "#4d9221"
            ],
            [
             1,
             "#276419"
            ]
           ],
           "sequential": [
            [
             0,
             "#0d0887"
            ],
            [
             0.1111111111111111,
             "#46039f"
            ],
            [
             0.2222222222222222,
             "#7201a8"
            ],
            [
             0.3333333333333333,
             "#9c179e"
            ],
            [
             0.4444444444444444,
             "#bd3786"
            ],
            [
             0.5555555555555556,
             "#d8576b"
            ],
            [
             0.6666666666666666,
             "#ed7953"
            ],
            [
             0.7777777777777778,
             "#fb9f3a"
            ],
            [
             0.8888888888888888,
             "#fdca26"
            ],
            [
             1,
             "#f0f921"
            ]
           ],
           "sequentialminus": [
            [
             0,
             "#0d0887"
            ],
            [
             0.1111111111111111,
             "#46039f"
            ],
            [
             0.2222222222222222,
             "#7201a8"
            ],
            [
             0.3333333333333333,
             "#9c179e"
            ],
            [
             0.4444444444444444,
             "#bd3786"
            ],
            [
             0.5555555555555556,
             "#d8576b"
            ],
            [
             0.6666666666666666,
             "#ed7953"
            ],
            [
             0.7777777777777778,
             "#fb9f3a"
            ],
            [
             0.8888888888888888,
             "#fdca26"
            ],
            [
             1,
             "#f0f921"
            ]
           ]
          },
          "colorway": [
           "#636efa",
           "#EF553B",
           "#00cc96",
           "#ab63fa",
           "#FFA15A",
           "#19d3f3",
           "#FF6692",
           "#B6E880",
           "#FF97FF",
           "#FECB52"
          ],
          "font": {
           "color": "#2a3f5f"
          },
          "geo": {
           "bgcolor": "white",
           "lakecolor": "white",
           "landcolor": "#E5ECF6",
           "showlakes": true,
           "showland": true,
           "subunitcolor": "white"
          },
          "hoverlabel": {
           "align": "left"
          },
          "hovermode": "closest",
          "mapbox": {
           "style": "light"
          },
          "paper_bgcolor": "white",
          "plot_bgcolor": "#E5ECF6",
          "polar": {
           "angularaxis": {
            "gridcolor": "white",
            "linecolor": "white",
            "ticks": ""
           },
           "bgcolor": "#E5ECF6",
           "radialaxis": {
            "gridcolor": "white",
            "linecolor": "white",
            "ticks": ""
           }
          },
          "scene": {
           "xaxis": {
            "backgroundcolor": "#E5ECF6",
            "gridcolor": "white",
            "gridwidth": 2,
            "linecolor": "white",
            "showbackground": true,
            "ticks": "",
            "zerolinecolor": "white"
           },
           "yaxis": {
            "backgroundcolor": "#E5ECF6",
            "gridcolor": "white",
            "gridwidth": 2,
            "linecolor": "white",
            "showbackground": true,
            "ticks": "",
            "zerolinecolor": "white"
           },
           "zaxis": {
            "backgroundcolor": "#E5ECF6",
            "gridcolor": "white",
            "gridwidth": 2,
            "linecolor": "white",
            "showbackground": true,
            "ticks": "",
            "zerolinecolor": "white"
           }
          },
          "shapedefaults": {
           "line": {
            "color": "#2a3f5f"
           }
          },
          "ternary": {
           "aaxis": {
            "gridcolor": "white",
            "linecolor": "white",
            "ticks": ""
           },
           "baxis": {
            "gridcolor": "white",
            "linecolor": "white",
            "ticks": ""
           },
           "bgcolor": "#E5ECF6",
           "caxis": {
            "gridcolor": "white",
            "linecolor": "white",
            "ticks": ""
           }
          },
          "title": {
           "x": 0.05
          },
          "xaxis": {
           "automargin": true,
           "gridcolor": "white",
           "linecolor": "white",
           "ticks": "",
           "title": {
            "standoff": 15
           },
           "zerolinecolor": "white",
           "zerolinewidth": 2
          },
          "yaxis": {
           "automargin": true,
           "gridcolor": "white",
           "linecolor": "white",
           "ticks": "",
           "title": {
            "standoff": 15
           },
           "zerolinecolor": "white",
           "zerolinewidth": 2
          }
         }
        }
       }
      },
      "text/html": [
       "<div>                            <div id=\"837c088b-cedd-49bf-a3a4-39e4b9d9ed2f\" class=\"plotly-graph-div\" style=\"height:525px; width:100%;\"></div>            <script type=\"text/javascript\">                require([\"plotly\"], function(Plotly) {                    window.PLOTLYENV=window.PLOTLYENV || {};                                    if (document.getElementById(\"837c088b-cedd-49bf-a3a4-39e4b9d9ed2f\")) {                    Plotly.newPlot(                        \"837c088b-cedd-49bf-a3a4-39e4b9d9ed2f\",                        [{\"hovertemplate\":\"color=b<br>x=%{x}<br>y=%{y}<br>z=%{z}<extra></extra>\",\"legendgroup\":\"b\",\"marker\":{\"color\":\"#636efa\",\"symbol\":\"circle\"},\"mode\":\"markers\",\"name\":\"b\",\"scene\":\"scene\",\"showlegend\":true,\"x\":[54.39824676513672,-104.405029296875,-92.3411636352539,-25.17253303527832,-86.90068054199219,-10.34064769744873,204.48773193359375,-190.931884765625,281.1160888671875,-69.62832641601562,-46.73051452636719,-1.160131812095642,-4.386834621429443,-81.10374450683594,50.420894622802734,-509.10369873046875,125.9596176147461,-141.36537170410156,176.28697204589844,123.61895751953125,364.7788391113281,282.7977294921875,117.1858139038086,-111.40291595458984,68.5169906616211,29.8516788482666,61.97865295410156,134.4958038330078,234.57496643066406,3.9539427757263184,155.57276916503906,24.499691009521484,176.75820922851562,-221.332275390625,181.93836975097656,-62.405765533447266,-253.1529998779297,-229.98179626464844,-160.64166259765625,-248.51275634765625,327.8975524902344,-122.64978790283203],\"y\":[-17.7921199798584,-151.1445770263672,-0.6023266315460205,-140.59397888183594,216.56382751464844,-50.751922607421875,645.0765991210938,236.5088653564453,-3672.819091796875,-232.08255004882812,-41.774871826171875,18.985397338867188,55.977962493896484,-147.03456115722656,-170.69659423828125,-318.9941711425781,-236.71954345703125,63.72425079345703,-95.95589447021484,52.63320541381836,214.60443115234375,-131.42625427246094,-97.71260070800781,76.7126235961914,-107.78277587890625,118.75947570800781,-88.785888671875,-7.423516273498535,-38.8995361328125,-195.29336547851562,-161.49136352539062,-98.06209564208984,-47.36521911621094,134.01116943359375,-63.577430725097656,-20.09079933166504,820.905029296875,365.770751953125,-10.786933898925781,16.786941528320312,-3.913609027862549,-236.65992736816406],\"z\":[120.4260482788086,49.10527420043945,117.17853546142578,101.8860855102539,51.452545166015625,35.10219955444336,-144.79293823242188,-99.18456268310547,-964.069091796875,138.58692932128906,182.5222625732422,-226.44650268554688,76.52820587158203,-88.2967758178711,75.45574951171875,-490.2718200683594,103.27611541748047,203.02464294433594,-198.4884796142578,139.1840362548828,168.8258819580078,-117.53673553466797,4.0873308181762695,-197.3820343017578,172.60047912597656,184.1371307373047,-149.67530822753906,5.364277362823486,43.62211990356445,0.7905405759811401,-61.82041549682617,-82.02984619140625,115.56507873535156,120.3888931274414,-57.45415496826172,-100.5999755859375,467.602294921875,-73.48706817626953,-166.83067321777344,-127.20647430419922,242.21034240722656,-12.190556526184082],\"type\":\"scatter3d\"},{\"hovertemplate\":\"color=g<br>x=%{x}<br>y=%{y}<br>z=%{z}<extra></extra>\",\"legendgroup\":\"g\",\"marker\":{\"color\":\"#EF553B\",\"symbol\":\"circle\"},\"mode\":\"markers\",\"name\":\"g\",\"scene\":\"scene\",\"showlegend\":true,\"x\":[138.17185974121094,197.3690643310547,57.298397064208984,159.53662109375,-127.79114532470703,-270.8042297363281,-31.529150009155273,20.34578514099121,242.49798583984375,-208.94606018066406,93.52122497558594,226.2401885986328,137.59536743164062,-126.31924438476562,171.1299591064453,-56.72102355957031,21.489639282226562,4.701611518859863,-212.04412841796875,127.86165618896484,-219.02267456054688,-223.34352111816406,-72.8368911743164,17.611583709716797,14.073572158813477,54.979339599609375,-172.43362426757812,-91.89537811279297,-247.02098083496094,120.85735321044922],\"y\":[163.95701599121094,101.53277587890625,78.5379638671875,180.1878662109375,-31.368877410888672,-13.001945495605469,69.38524627685547,181.30636596679688,140.3838653564453,-85.48141479492188,-60.295387268066406,-157.4993133544922,180.32948303222656,85.86153411865234,35.13582992553711,-123.10900115966797,-222.17803955078125,-367.8336486816406,141.31759643554688,103.09120178222656,48.18849563598633,924.9844970703125,133.08245849609375,41.0538330078125,143.2736053466797,49.51226043701172,-80.40029907226562,176.59315490722656,-473.7267150878906,109.45452880859375],\"z\":[57.4832649230957,5.899890422821045,-25.71930694580078,-25.59748077392578,-2.3805480003356934,154.52577209472656,-25.099042892456055,-19.020042419433594,-98.13838958740234,64.99100494384766,269.28765869140625,101.19338989257812,-125.3395004272461,-75.91531372070312,-130.69808959960938,-210.65744018554688,-144.29714965820312,258.07598876953125,-9.881230354309082,-366.44140625,15.464807510375977,-1039.857666015625,121.7176284790039,274.16741943359375,-115.05498504638672,-126.34053039550781,162.4457244873047,-78.59223175048828,236.9925994873047,-219.5717315673828],\"type\":\"scatter3d\"}],                        {\"template\":{\"data\":{\"histogram2dcontour\":[{\"type\":\"histogram2dcontour\",\"colorbar\":{\"outlinewidth\":0,\"ticks\":\"\"},\"colorscale\":[[0.0,\"#0d0887\"],[0.1111111111111111,\"#46039f\"],[0.2222222222222222,\"#7201a8\"],[0.3333333333333333,\"#9c179e\"],[0.4444444444444444,\"#bd3786\"],[0.5555555555555556,\"#d8576b\"],[0.6666666666666666,\"#ed7953\"],[0.7777777777777778,\"#fb9f3a\"],[0.8888888888888888,\"#fdca26\"],[1.0,\"#f0f921\"]]}],\"choropleth\":[{\"type\":\"choropleth\",\"colorbar\":{\"outlinewidth\":0,\"ticks\":\"\"}}],\"histogram2d\":[{\"type\":\"histogram2d\",\"colorbar\":{\"outlinewidth\":0,\"ticks\":\"\"},\"colorscale\":[[0.0,\"#0d0887\"],[0.1111111111111111,\"#46039f\"],[0.2222222222222222,\"#7201a8\"],[0.3333333333333333,\"#9c179e\"],[0.4444444444444444,\"#bd3786\"],[0.5555555555555556,\"#d8576b\"],[0.6666666666666666,\"#ed7953\"],[0.7777777777777778,\"#fb9f3a\"],[0.8888888888888888,\"#fdca26\"],[1.0,\"#f0f921\"]]}],\"heatmap\":[{\"type\":\"heatmap\",\"colorbar\":{\"outlinewidth\":0,\"ticks\":\"\"},\"colorscale\":[[0.0,\"#0d0887\"],[0.1111111111111111,\"#46039f\"],[0.2222222222222222,\"#7201a8\"],[0.3333333333333333,\"#9c179e\"],[0.4444444444444444,\"#bd3786\"],[0.5555555555555556,\"#d8576b\"],[0.6666666666666666,\"#ed7953\"],[0.7777777777777778,\"#fb9f3a\"],[0.8888888888888888,\"#fdca26\"],[1.0,\"#f0f921\"]]}],\"heatmapgl\":[{\"type\":\"heatmapgl\",\"colorbar\":{\"outlinewidth\":0,\"ticks\":\"\"},\"colorscale\":[[0.0,\"#0d0887\"],[0.1111111111111111,\"#46039f\"],[0.2222222222222222,\"#7201a8\"],[0.3333333333333333,\"#9c179e\"],[0.4444444444444444,\"#bd3786\"],[0.5555555555555556,\"#d8576b\"],[0.6666666666666666,\"#ed7953\"],[0.7777777777777778,\"#fb9f3a\"],[0.8888888888888888,\"#fdca26\"],[1.0,\"#f0f921\"]]}],\"contourcarpet\":[{\"type\":\"contourcarpet\",\"colorbar\":{\"outlinewidth\":0,\"ticks\":\"\"}}],\"contour\":[{\"type\":\"contour\",\"colorbar\":{\"outlinewidth\":0,\"ticks\":\"\"},\"colorscale\":[[0.0,\"#0d0887\"],[0.1111111111111111,\"#46039f\"],[0.2222222222222222,\"#7201a8\"],[0.3333333333333333,\"#9c179e\"],[0.4444444444444444,\"#bd3786\"],[0.5555555555555556,\"#d8576b\"],[0.6666666666666666,\"#ed7953\"],[0.7777777777777778,\"#fb9f3a\"],[0.8888888888888888,\"#fdca26\"],[1.0,\"#f0f921\"]]}],\"surface\":[{\"type\":\"surface\",\"colorbar\":{\"outlinewidth\":0,\"ticks\":\"\"},\"colorscale\":[[0.0,\"#0d0887\"],[0.1111111111111111,\"#46039f\"],[0.2222222222222222,\"#7201a8\"],[0.3333333333333333,\"#9c179e\"],[0.4444444444444444,\"#bd3786\"],[0.5555555555555556,\"#d8576b\"],[0.6666666666666666,\"#ed7953\"],[0.7777777777777778,\"#fb9f3a\"],[0.8888888888888888,\"#fdca26\"],[1.0,\"#f0f921\"]]}],\"mesh3d\":[{\"type\":\"mesh3d\",\"colorbar\":{\"outlinewidth\":0,\"ticks\":\"\"}}],\"scatter\":[{\"fillpattern\":{\"fillmode\":\"overlay\",\"size\":10,\"solidity\":0.2},\"type\":\"scatter\"}],\"parcoords\":[{\"type\":\"parcoords\",\"line\":{\"colorbar\":{\"outlinewidth\":0,\"ticks\":\"\"}}}],\"scatterpolargl\":[{\"type\":\"scatterpolargl\",\"marker\":{\"colorbar\":{\"outlinewidth\":0,\"ticks\":\"\"}}}],\"bar\":[{\"error_x\":{\"color\":\"#2a3f5f\"},\"error_y\":{\"color\":\"#2a3f5f\"},\"marker\":{\"line\":{\"color\":\"#E5ECF6\",\"width\":0.5},\"pattern\":{\"fillmode\":\"overlay\",\"size\":10,\"solidity\":0.2}},\"type\":\"bar\"}],\"scattergeo\":[{\"type\":\"scattergeo\",\"marker\":{\"colorbar\":{\"outlinewidth\":0,\"ticks\":\"\"}}}],\"scatterpolar\":[{\"type\":\"scatterpolar\",\"marker\":{\"colorbar\":{\"outlinewidth\":0,\"ticks\":\"\"}}}],\"histogram\":[{\"marker\":{\"pattern\":{\"fillmode\":\"overlay\",\"size\":10,\"solidity\":0.2}},\"type\":\"histogram\"}],\"scattergl\":[{\"type\":\"scattergl\",\"marker\":{\"colorbar\":{\"outlinewidth\":0,\"ticks\":\"\"}}}],\"scatter3d\":[{\"type\":\"scatter3d\",\"line\":{\"colorbar\":{\"outlinewidth\":0,\"ticks\":\"\"}},\"marker\":{\"colorbar\":{\"outlinewidth\":0,\"ticks\":\"\"}}}],\"scattermapbox\":[{\"type\":\"scattermapbox\",\"marker\":{\"colorbar\":{\"outlinewidth\":0,\"ticks\":\"\"}}}],\"scatterternary\":[{\"type\":\"scatterternary\",\"marker\":{\"colorbar\":{\"outlinewidth\":0,\"ticks\":\"\"}}}],\"scattercarpet\":[{\"type\":\"scattercarpet\",\"marker\":{\"colorbar\":{\"outlinewidth\":0,\"ticks\":\"\"}}}],\"carpet\":[{\"aaxis\":{\"endlinecolor\":\"#2a3f5f\",\"gridcolor\":\"white\",\"linecolor\":\"white\",\"minorgridcolor\":\"white\",\"startlinecolor\":\"#2a3f5f\"},\"baxis\":{\"endlinecolor\":\"#2a3f5f\",\"gridcolor\":\"white\",\"linecolor\":\"white\",\"minorgridcolor\":\"white\",\"startlinecolor\":\"#2a3f5f\"},\"type\":\"carpet\"}],\"table\":[{\"cells\":{\"fill\":{\"color\":\"#EBF0F8\"},\"line\":{\"color\":\"white\"}},\"header\":{\"fill\":{\"color\":\"#C8D4E3\"},\"line\":{\"color\":\"white\"}},\"type\":\"table\"}],\"barpolar\":[{\"marker\":{\"line\":{\"color\":\"#E5ECF6\",\"width\":0.5},\"pattern\":{\"fillmode\":\"overlay\",\"size\":10,\"solidity\":0.2}},\"type\":\"barpolar\"}],\"pie\":[{\"automargin\":true,\"type\":\"pie\"}]},\"layout\":{\"autotypenumbers\":\"strict\",\"colorway\":[\"#636efa\",\"#EF553B\",\"#00cc96\",\"#ab63fa\",\"#FFA15A\",\"#19d3f3\",\"#FF6692\",\"#B6E880\",\"#FF97FF\",\"#FECB52\"],\"font\":{\"color\":\"#2a3f5f\"},\"hovermode\":\"closest\",\"hoverlabel\":{\"align\":\"left\"},\"paper_bgcolor\":\"white\",\"plot_bgcolor\":\"#E5ECF6\",\"polar\":{\"bgcolor\":\"#E5ECF6\",\"angularaxis\":{\"gridcolor\":\"white\",\"linecolor\":\"white\",\"ticks\":\"\"},\"radialaxis\":{\"gridcolor\":\"white\",\"linecolor\":\"white\",\"ticks\":\"\"}},\"ternary\":{\"bgcolor\":\"#E5ECF6\",\"aaxis\":{\"gridcolor\":\"white\",\"linecolor\":\"white\",\"ticks\":\"\"},\"baxis\":{\"gridcolor\":\"white\",\"linecolor\":\"white\",\"ticks\":\"\"},\"caxis\":{\"gridcolor\":\"white\",\"linecolor\":\"white\",\"ticks\":\"\"}},\"coloraxis\":{\"colorbar\":{\"outlinewidth\":0,\"ticks\":\"\"}},\"colorscale\":{\"sequential\":[[0.0,\"#0d0887\"],[0.1111111111111111,\"#46039f\"],[0.2222222222222222,\"#7201a8\"],[0.3333333333333333,\"#9c179e\"],[0.4444444444444444,\"#bd3786\"],[0.5555555555555556,\"#d8576b\"],[0.6666666666666666,\"#ed7953\"],[0.7777777777777778,\"#fb9f3a\"],[0.8888888888888888,\"#fdca26\"],[1.0,\"#f0f921\"]],\"sequentialminus\":[[0.0,\"#0d0887\"],[0.1111111111111111,\"#46039f\"],[0.2222222222222222,\"#7201a8\"],[0.3333333333333333,\"#9c179e\"],[0.4444444444444444,\"#bd3786\"],[0.5555555555555556,\"#d8576b\"],[0.6666666666666666,\"#ed7953\"],[0.7777777777777778,\"#fb9f3a\"],[0.8888888888888888,\"#fdca26\"],[1.0,\"#f0f921\"]],\"diverging\":[[0,\"#8e0152\"],[0.1,\"#c51b7d\"],[0.2,\"#de77ae\"],[0.3,\"#f1b6da\"],[0.4,\"#fde0ef\"],[0.5,\"#f7f7f7\"],[0.6,\"#e6f5d0\"],[0.7,\"#b8e186\"],[0.8,\"#7fbc41\"],[0.9,\"#4d9221\"],[1,\"#276419\"]]},\"xaxis\":{\"gridcolor\":\"white\",\"linecolor\":\"white\",\"ticks\":\"\",\"title\":{\"standoff\":15},\"zerolinecolor\":\"white\",\"automargin\":true,\"zerolinewidth\":2},\"yaxis\":{\"gridcolor\":\"white\",\"linecolor\":\"white\",\"ticks\":\"\",\"title\":{\"standoff\":15},\"zerolinecolor\":\"white\",\"automargin\":true,\"zerolinewidth\":2},\"scene\":{\"xaxis\":{\"backgroundcolor\":\"#E5ECF6\",\"gridcolor\":\"white\",\"linecolor\":\"white\",\"showbackground\":true,\"ticks\":\"\",\"zerolinecolor\":\"white\",\"gridwidth\":2},\"yaxis\":{\"backgroundcolor\":\"#E5ECF6\",\"gridcolor\":\"white\",\"linecolor\":\"white\",\"showbackground\":true,\"ticks\":\"\",\"zerolinecolor\":\"white\",\"gridwidth\":2},\"zaxis\":{\"backgroundcolor\":\"#E5ECF6\",\"gridcolor\":\"white\",\"linecolor\":\"white\",\"showbackground\":true,\"ticks\":\"\",\"zerolinecolor\":\"white\",\"gridwidth\":2}},\"shapedefaults\":{\"line\":{\"color\":\"#2a3f5f\"}},\"annotationdefaults\":{\"arrowcolor\":\"#2a3f5f\",\"arrowhead\":0,\"arrowwidth\":1},\"geo\":{\"bgcolor\":\"white\",\"landcolor\":\"#E5ECF6\",\"subunitcolor\":\"white\",\"showland\":true,\"showlakes\":true,\"lakecolor\":\"white\"},\"title\":{\"x\":0.05},\"mapbox\":{\"style\":\"light\"}}},\"scene\":{\"domain\":{\"x\":[0.0,1.0],\"y\":[0.0,1.0]},\"xaxis\":{\"title\":{\"text\":\"x\"}},\"yaxis\":{\"title\":{\"text\":\"y\"}},\"zaxis\":{\"title\":{\"text\":\"z\"}}},\"legend\":{\"title\":{\"text\":\"color\"},\"tracegroupgap\":0},\"margin\":{\"t\":60}},                        {\"responsive\": true}                    ).then(function(){\n",
       "                            \n",
       "var gd = document.getElementById('837c088b-cedd-49bf-a3a4-39e4b9d9ed2f');\n",
       "var x = new MutationObserver(function (mutations, observer) {{\n",
       "        var display = window.getComputedStyle(gd).display;\n",
       "        if (!display || display === 'none') {{\n",
       "            console.log([gd, 'removed!']);\n",
       "            Plotly.purge(gd);\n",
       "            observer.disconnect();\n",
       "        }}\n",
       "}});\n",
       "\n",
       "// Listen for the removal of the full notebook cells\n",
       "var notebookContainer = gd.closest('#notebook-container');\n",
       "if (notebookContainer) {{\n",
       "    x.observe(notebookContainer, {childList: true});\n",
       "}}\n",
       "\n",
       "// Listen for the clearing of the current output cell\n",
       "var outputEl = gd.closest('.output');\n",
       "if (outputEl) {{\n",
       "    x.observe(outputEl, {childList: true});\n",
       "}}\n",
       "\n",
       "                        })                };                });            </script>        </div>"
      ]
     },
     "metadata": {},
     "output_type": "display_data"
    }
   ],
   "source": [
    "# plot using tsne \n",
    "X_embedded  = TSNE(n_components=3, perplexity=10,random_state=24).fit_transform( X )\n",
    "colors = np.array([x for x in 'bgrcmykbgrcmykbgrcmykbgrcmyk'])\n",
    "fig = px.scatter_3d(x=X_embedded [:,0],y=X_embedded [:,1],z=X_embedded [:,2],color=colors[Spectral_clustering.labels_])\n",
    "fig.show()"
   ]
  },
  {
   "cell_type": "markdown",
   "metadata": {},
   "source": [
    "### Affinity Propagation\n",
    "\n",
    "In Affinity Propagation, each data point is considered as a node in a network that communicates with all other nodes to let each other know that how similar they are and starts forming clusters on the basis of nodes similarity in the data set. \n",
    "\n",
    "As messages are sent between nodes, sets of nodes (exemplars) are found and they represent the clusters."
   ]
  },
  {
   "cell_type": "code",
   "execution_count": 84,
   "metadata": {},
   "outputs": [],
   "source": [
    "aff_prop_grid = {\n",
    "        \"max_iter\": [50, 100, 150, 200],\n",
    "        \"convergence_iter\" : range(2,5),\n",
    "        \"damping\" : np.arange(0.5,1.1,0.1),\n",
    "        \"affinity\": ['euclidean']#,'precomputed']\n",
    "       }\n",
    "#aff_prop_grid"
   ]
  },
  {
   "cell_type": "code",
   "execution_count": 85,
   "metadata": {},
   "outputs": [],
   "source": [
    "#aff_prop_grid\n",
    "aff_prop_model = AffinityPropagation()\n",
    "aff_prop_params = GridSearchCV(aff_prop_model,aff_prop_grid,scoring=silhouette_score2,cv= 10).fit(X, y)"
   ]
  },
  {
   "cell_type": "code",
   "execution_count": 86,
   "metadata": {},
   "outputs": [
    {
     "data": {
      "text/plain": [
       "(0.35617207669877116,\n",
       " {'affinity': 'euclidean',\n",
       "  'convergence_iter': 3,\n",
       "  'damping': 0.6,\n",
       "  'max_iter': 50})"
      ]
     },
     "execution_count": 86,
     "metadata": {},
     "output_type": "execute_result"
    }
   ],
   "source": [
    "aff_prop_params.best_score_, aff_prop_params.best_params_"
   ]
  },
  {
   "cell_type": "code",
   "execution_count": 87,
   "metadata": {},
   "outputs": [],
   "source": [
    "aff_prop_clustering = AffinityPropagation(affinity = aff_prop_params.best_params_['affinity'],\n",
    "                           convergence_iter = aff_prop_params.best_params_['convergence_iter'],\n",
    "                           damping = aff_prop_params.best_params_['damping'],\n",
    "                           max_iter = aff_prop_params.best_params_['max_iter']\n",
    "                          ).fit(X)\n",
    "cluster = list(aff_prop_clustering.labels_)\n",
    "values, counts = np.unique(cluster, return_counts=True)      \n",
    "aff_prop_dataset = pd.DataFrame(X.copy())\n",
    "aff_prop_dataset.loc[:,'Cluster'] = aff_prop_clustering.labels_\n"
   ]
  },
  {
   "cell_type": "code",
   "execution_count": 88,
   "metadata": {},
   "outputs": [
    {
     "data": {
      "text/html": [
       "<div>\n",
       "<style scoped>\n",
       "    .dataframe tbody tr th:only-of-type {\n",
       "        vertical-align: middle;\n",
       "    }\n",
       "\n",
       "    .dataframe tbody tr th {\n",
       "        vertical-align: top;\n",
       "    }\n",
       "\n",
       "    .dataframe thead th {\n",
       "        text-align: right;\n",
       "    }\n",
       "</style>\n",
       "<table border=\"1\" class=\"dataframe\">\n",
       "  <thead>\n",
       "    <tr style=\"text-align: right;\">\n",
       "      <th></th>\n",
       "      <th>Cluster</th>\n",
       "    </tr>\n",
       "  </thead>\n",
       "  <tbody>\n",
       "    <tr>\n",
       "      <th>3</th>\n",
       "      <td>23</td>\n",
       "    </tr>\n",
       "    <tr>\n",
       "      <th>5</th>\n",
       "      <td>17</td>\n",
       "    </tr>\n",
       "    <tr>\n",
       "      <th>1</th>\n",
       "      <td>10</td>\n",
       "    </tr>\n",
       "    <tr>\n",
       "      <th>4</th>\n",
       "      <td>9</td>\n",
       "    </tr>\n",
       "    <tr>\n",
       "      <th>0</th>\n",
       "      <td>6</td>\n",
       "    </tr>\n",
       "    <tr>\n",
       "      <th>6</th>\n",
       "      <td>4</td>\n",
       "    </tr>\n",
       "    <tr>\n",
       "      <th>2</th>\n",
       "      <td>3</td>\n",
       "    </tr>\n",
       "  </tbody>\n",
       "</table>\n",
       "</div>"
      ],
      "text/plain": [
       "   Cluster\n",
       "3       23\n",
       "5       17\n",
       "1       10\n",
       "4        9\n",
       "0        6\n",
       "6        4\n",
       "2        3"
      ]
     },
     "execution_count": 88,
     "metadata": {},
     "output_type": "execute_result"
    }
   ],
   "source": [
    "aff_prop_dataset.Cluster.value_counts().to_frame()"
   ]
  },
  {
   "cell_type": "code",
   "execution_count": 90,
   "metadata": {},
   "outputs": [
    {
     "data": {
      "text/html": [
       "<div>\n",
       "<style scoped>\n",
       "    .dataframe tbody tr th:only-of-type {\n",
       "        vertical-align: middle;\n",
       "    }\n",
       "\n",
       "    .dataframe tbody tr th {\n",
       "        vertical-align: top;\n",
       "    }\n",
       "\n",
       "    .dataframe thead th {\n",
       "        text-align: right;\n",
       "    }\n",
       "</style>\n",
       "<table border=\"1\" class=\"dataframe\">\n",
       "  <thead>\n",
       "    <tr style=\"text-align: right;\">\n",
       "      <th></th>\n",
       "      <th>silhouette_score</th>\n",
       "      <th>davies_bouldin_score</th>\n",
       "      <th>calinski_harabasz_score</th>\n",
       "      <th>fowlkes_mallows_score</th>\n",
       "      <th>adjusted_rand_score</th>\n",
       "      <th>adjusted_mutual_info_score</th>\n",
       "      <th>homogeneity_score</th>\n",
       "      <th>completeness_score</th>\n",
       "      <th>v_measure_score</th>\n",
       "    </tr>\n",
       "  </thead>\n",
       "  <tbody>\n",
       "    <tr>\n",
       "      <th>AffinityPropagation</th>\n",
       "      <td>0.372646</td>\n",
       "      <td>0.990933</td>\n",
       "      <td>32.714759</td>\n",
       "      <td>0.469353</td>\n",
       "      <td>0.163693</td>\n",
       "      <td>0.301221</td>\n",
       "      <td>0.640354</td>\n",
       "      <td>0.22221</td>\n",
       "      <td>0.32993</td>\n",
       "    </tr>\n",
       "  </tbody>\n",
       "</table>\n",
       "</div>"
      ],
      "text/plain": [
       "                     silhouette_score  davies_bouldin_score  \\\n",
       "AffinityPropagation          0.372646              0.990933   \n",
       "\n",
       "                     calinski_harabasz_score  fowlkes_mallows_score  \\\n",
       "AffinityPropagation                32.714759               0.469353   \n",
       "\n",
       "                     adjusted_rand_score  adjusted_mutual_info_score  \\\n",
       "AffinityPropagation             0.163693                    0.301221   \n",
       "\n",
       "                     homogeneity_score  completeness_score  v_measure_score  \n",
       "AffinityPropagation           0.640354             0.22221          0.32993  "
      ]
     },
     "execution_count": 90,
     "metadata": {},
     "output_type": "execute_result"
    }
   ],
   "source": [
    "\n",
    "aff_prop_df = pd.DataFrame(estimator_evaluation(aff_prop_clustering, 'AffinityPropagation ', X , y ), index=[\"AffinityPropagation\"])\n",
    "aff_prop_df"
   ]
  },
  {
   "cell_type": "code",
   "execution_count": 91,
   "metadata": {},
   "outputs": [
    {
     "data": {
      "application/vnd.plotly.v1+json": {
       "config": {
        "plotlyServerURL": "https://plot.ly"
       },
       "data": [
        {
         "hovertemplate": "color=c<br>x=%{x}<br>y=%{y}<br>z=%{z}<extra></extra>",
         "legendgroup": "c",
         "marker": {
          "color": "#636efa",
          "symbol": "circle"
         },
         "mode": "markers",
         "name": "c",
         "scene": "scene",
         "showlegend": true,
         "type": "scatter3d",
         "x": [
          54.39824676513672,
          281.1160888671875,
          -81.10374450683594,
          123.61895751953125,
          282.7977294921875,
          117.1858139038086,
          -111.40291595458984,
          68.5169906616211,
          29.8516788482666,
          61.97865295410156,
          134.4958038330078,
          234.57496643066406,
          155.57276916503906,
          24.499691009521484,
          176.75820922851562,
          -221.332275390625,
          181.93836975097656,
          -62.405765533447266,
          -253.1529998779297,
          -229.98179626464844,
          -160.64166259765625,
          -248.51275634765625,
          327.8975524902344
         ],
         "y": [
          -17.7921199798584,
          -3672.819091796875,
          -147.03456115722656,
          52.63320541381836,
          -131.42625427246094,
          -97.71260070800781,
          76.7126235961914,
          -107.78277587890625,
          118.75947570800781,
          -88.785888671875,
          -7.423516273498535,
          -38.8995361328125,
          -161.49136352539062,
          -98.06209564208984,
          -47.36521911621094,
          134.01116943359375,
          -63.577430725097656,
          -20.09079933166504,
          820.905029296875,
          365.770751953125,
          -10.786933898925781,
          16.786941528320312,
          -3.913609027862549
         ],
         "z": [
          120.4260482788086,
          -964.069091796875,
          -88.2967758178711,
          139.1840362548828,
          -117.53673553466797,
          4.0873308181762695,
          -197.3820343017578,
          172.60047912597656,
          184.1371307373047,
          -149.67530822753906,
          5.364277362823486,
          43.62211990356445,
          -61.82041549682617,
          -82.02984619140625,
          115.56507873535156,
          120.3888931274414,
          -57.45415496826172,
          -100.5999755859375,
          467.602294921875,
          -73.48706817626953,
          -166.83067321777344,
          -127.20647430419922,
          242.21034240722656
         ]
        },
        {
         "hovertemplate": "color=b<br>x=%{x}<br>y=%{y}<br>z=%{z}<extra></extra>",
         "legendgroup": "b",
         "marker": {
          "color": "#EF553B",
          "symbol": "circle"
         },
         "mode": "markers",
         "name": "b",
         "scene": "scene",
         "showlegend": true,
         "type": "scatter3d",
         "x": [
          -104.405029296875,
          204.48773193359375,
          -190.931884765625,
          -69.62832641601562,
          -509.10369873046875,
          364.7788391113281
         ],
         "y": [
          -151.1445770263672,
          645.0765991210938,
          236.5088653564453,
          -232.08255004882812,
          -318.9941711425781,
          214.60443115234375
         ],
         "z": [
          49.10527420043945,
          -144.79293823242188,
          -99.18456268310547,
          138.58692932128906,
          -490.2718200683594,
          168.8258819580078
         ]
        },
        {
         "hovertemplate": "color=g<br>x=%{x}<br>y=%{y}<br>z=%{z}<extra></extra>",
         "legendgroup": "g",
         "marker": {
          "color": "#00cc96",
          "symbol": "circle"
         },
         "mode": "markers",
         "name": "g",
         "scene": "scene",
         "showlegend": true,
         "type": "scatter3d",
         "x": [
          -92.3411636352539,
          -25.17253303527832,
          -86.90068054199219,
          -10.34064769744873,
          -46.73051452636719,
          -1.160131812095642,
          -4.386834621429443,
          50.420894622802734,
          3.9539427757263184,
          -122.64978790283203
         ],
         "y": [
          -0.6023266315460205,
          -140.59397888183594,
          216.56382751464844,
          -50.751922607421875,
          -41.774871826171875,
          18.985397338867188,
          55.977962493896484,
          -170.69659423828125,
          -195.29336547851562,
          -236.65992736816406
         ],
         "z": [
          117.17853546142578,
          101.8860855102539,
          51.452545166015625,
          35.10219955444336,
          182.5222625732422,
          -226.44650268554688,
          76.52820587158203,
          75.45574951171875,
          0.7905405759811401,
          -12.190556526184082
         ]
        },
        {
         "hovertemplate": "color=r<br>x=%{x}<br>y=%{y}<br>z=%{z}<extra></extra>",
         "legendgroup": "r",
         "marker": {
          "color": "#ab63fa",
          "symbol": "circle"
         },
         "mode": "markers",
         "name": "r",
         "scene": "scene",
         "showlegend": true,
         "type": "scatter3d",
         "x": [
          125.9596176147461,
          -141.36537170410156,
          176.28697204589844
         ],
         "y": [
          -236.71954345703125,
          63.72425079345703,
          -95.95589447021484
         ],
         "z": [
          103.27611541748047,
          203.02464294433594,
          -198.4884796142578
         ]
        },
        {
         "hovertemplate": "color=y<br>x=%{x}<br>y=%{y}<br>z=%{z}<extra></extra>",
         "legendgroup": "y",
         "marker": {
          "color": "#FFA15A",
          "symbol": "circle"
         },
         "mode": "markers",
         "name": "y",
         "scene": "scene",
         "showlegend": true,
         "type": "scatter3d",
         "x": [
          138.17185974121094,
          197.3690643310547,
          57.298397064208984,
          159.53662109375,
          -127.79114532470703,
          -270.8042297363281,
          242.49798583984375,
          -208.94606018066406,
          226.2401885986328,
          137.59536743164062,
          -126.31924438476562,
          127.86165618896484,
          54.979339599609375,
          -172.43362426757812,
          -91.89537811279297,
          -247.02098083496094,
          120.85735321044922
         ],
         "y": [
          163.95701599121094,
          101.53277587890625,
          78.5379638671875,
          180.1878662109375,
          -31.368877410888672,
          -13.001945495605469,
          140.3838653564453,
          -85.48141479492188,
          -157.4993133544922,
          180.32948303222656,
          85.86153411865234,
          103.09120178222656,
          49.51226043701172,
          -80.40029907226562,
          176.59315490722656,
          -473.7267150878906,
          109.45452880859375
         ],
         "z": [
          57.4832649230957,
          5.899890422821045,
          -25.71930694580078,
          -25.59748077392578,
          -2.3805480003356934,
          154.52577209472656,
          -98.13838958740234,
          64.99100494384766,
          101.19338989257812,
          -125.3395004272461,
          -75.91531372070312,
          -366.44140625,
          -126.34053039550781,
          162.4457244873047,
          -78.59223175048828,
          236.9925994873047,
          -219.5717315673828
         ]
        },
        {
         "hovertemplate": "color=k<br>x=%{x}<br>y=%{y}<br>z=%{z}<extra></extra>",
         "legendgroup": "k",
         "marker": {
          "color": "#19d3f3",
          "symbol": "circle"
         },
         "mode": "markers",
         "name": "k",
         "scene": "scene",
         "showlegend": true,
         "type": "scatter3d",
         "x": [
          -31.529150009155273,
          171.1299591064453,
          -72.8368911743164,
          17.611583709716797
         ],
         "y": [
          69.38524627685547,
          35.13582992553711,
          133.08245849609375,
          41.0538330078125
         ],
         "z": [
          -25.099042892456055,
          -130.69808959960938,
          121.7176284790039,
          274.16741943359375
         ]
        },
        {
         "hovertemplate": "color=m<br>x=%{x}<br>y=%{y}<br>z=%{z}<extra></extra>",
         "legendgroup": "m",
         "marker": {
          "color": "#FF6692",
          "symbol": "circle"
         },
         "mode": "markers",
         "name": "m",
         "scene": "scene",
         "showlegend": true,
         "type": "scatter3d",
         "x": [
          20.34578514099121,
          93.52122497558594,
          -56.72102355957031,
          21.489639282226562,
          4.701611518859863,
          -212.04412841796875,
          -219.02267456054688,
          -223.34352111816406,
          14.073572158813477
         ],
         "y": [
          181.30636596679688,
          -60.295387268066406,
          -123.10900115966797,
          -222.17803955078125,
          -367.8336486816406,
          141.31759643554688,
          48.18849563598633,
          924.9844970703125,
          143.2736053466797
         ],
         "z": [
          -19.020042419433594,
          269.28765869140625,
          -210.65744018554688,
          -144.29714965820312,
          258.07598876953125,
          -9.881230354309082,
          15.464807510375977,
          -1039.857666015625,
          -115.05498504638672
         ]
        }
       ],
       "layout": {
        "legend": {
         "title": {
          "text": "color"
         },
         "tracegroupgap": 0
        },
        "margin": {
         "t": 60
        },
        "scene": {
         "domain": {
          "x": [
           0,
           1
          ],
          "y": [
           0,
           1
          ]
         },
         "xaxis": {
          "title": {
           "text": "x"
          }
         },
         "yaxis": {
          "title": {
           "text": "y"
          }
         },
         "zaxis": {
          "title": {
           "text": "z"
          }
         }
        },
        "template": {
         "data": {
          "bar": [
           {
            "error_x": {
             "color": "#2a3f5f"
            },
            "error_y": {
             "color": "#2a3f5f"
            },
            "marker": {
             "line": {
              "color": "#E5ECF6",
              "width": 0.5
             },
             "pattern": {
              "fillmode": "overlay",
              "size": 10,
              "solidity": 0.2
             }
            },
            "type": "bar"
           }
          ],
          "barpolar": [
           {
            "marker": {
             "line": {
              "color": "#E5ECF6",
              "width": 0.5
             },
             "pattern": {
              "fillmode": "overlay",
              "size": 10,
              "solidity": 0.2
             }
            },
            "type": "barpolar"
           }
          ],
          "carpet": [
           {
            "aaxis": {
             "endlinecolor": "#2a3f5f",
             "gridcolor": "white",
             "linecolor": "white",
             "minorgridcolor": "white",
             "startlinecolor": "#2a3f5f"
            },
            "baxis": {
             "endlinecolor": "#2a3f5f",
             "gridcolor": "white",
             "linecolor": "white",
             "minorgridcolor": "white",
             "startlinecolor": "#2a3f5f"
            },
            "type": "carpet"
           }
          ],
          "choropleth": [
           {
            "colorbar": {
             "outlinewidth": 0,
             "ticks": ""
            },
            "type": "choropleth"
           }
          ],
          "contour": [
           {
            "colorbar": {
             "outlinewidth": 0,
             "ticks": ""
            },
            "colorscale": [
             [
              0,
              "#0d0887"
             ],
             [
              0.1111111111111111,
              "#46039f"
             ],
             [
              0.2222222222222222,
              "#7201a8"
             ],
             [
              0.3333333333333333,
              "#9c179e"
             ],
             [
              0.4444444444444444,
              "#bd3786"
             ],
             [
              0.5555555555555556,
              "#d8576b"
             ],
             [
              0.6666666666666666,
              "#ed7953"
             ],
             [
              0.7777777777777778,
              "#fb9f3a"
             ],
             [
              0.8888888888888888,
              "#fdca26"
             ],
             [
              1,
              "#f0f921"
             ]
            ],
            "type": "contour"
           }
          ],
          "contourcarpet": [
           {
            "colorbar": {
             "outlinewidth": 0,
             "ticks": ""
            },
            "type": "contourcarpet"
           }
          ],
          "heatmap": [
           {
            "colorbar": {
             "outlinewidth": 0,
             "ticks": ""
            },
            "colorscale": [
             [
              0,
              "#0d0887"
             ],
             [
              0.1111111111111111,
              "#46039f"
             ],
             [
              0.2222222222222222,
              "#7201a8"
             ],
             [
              0.3333333333333333,
              "#9c179e"
             ],
             [
              0.4444444444444444,
              "#bd3786"
             ],
             [
              0.5555555555555556,
              "#d8576b"
             ],
             [
              0.6666666666666666,
              "#ed7953"
             ],
             [
              0.7777777777777778,
              "#fb9f3a"
             ],
             [
              0.8888888888888888,
              "#fdca26"
             ],
             [
              1,
              "#f0f921"
             ]
            ],
            "type": "heatmap"
           }
          ],
          "heatmapgl": [
           {
            "colorbar": {
             "outlinewidth": 0,
             "ticks": ""
            },
            "colorscale": [
             [
              0,
              "#0d0887"
             ],
             [
              0.1111111111111111,
              "#46039f"
             ],
             [
              0.2222222222222222,
              "#7201a8"
             ],
             [
              0.3333333333333333,
              "#9c179e"
             ],
             [
              0.4444444444444444,
              "#bd3786"
             ],
             [
              0.5555555555555556,
              "#d8576b"
             ],
             [
              0.6666666666666666,
              "#ed7953"
             ],
             [
              0.7777777777777778,
              "#fb9f3a"
             ],
             [
              0.8888888888888888,
              "#fdca26"
             ],
             [
              1,
              "#f0f921"
             ]
            ],
            "type": "heatmapgl"
           }
          ],
          "histogram": [
           {
            "marker": {
             "pattern": {
              "fillmode": "overlay",
              "size": 10,
              "solidity": 0.2
             }
            },
            "type": "histogram"
           }
          ],
          "histogram2d": [
           {
            "colorbar": {
             "outlinewidth": 0,
             "ticks": ""
            },
            "colorscale": [
             [
              0,
              "#0d0887"
             ],
             [
              0.1111111111111111,
              "#46039f"
             ],
             [
              0.2222222222222222,
              "#7201a8"
             ],
             [
              0.3333333333333333,
              "#9c179e"
             ],
             [
              0.4444444444444444,
              "#bd3786"
             ],
             [
              0.5555555555555556,
              "#d8576b"
             ],
             [
              0.6666666666666666,
              "#ed7953"
             ],
             [
              0.7777777777777778,
              "#fb9f3a"
             ],
             [
              0.8888888888888888,
              "#fdca26"
             ],
             [
              1,
              "#f0f921"
             ]
            ],
            "type": "histogram2d"
           }
          ],
          "histogram2dcontour": [
           {
            "colorbar": {
             "outlinewidth": 0,
             "ticks": ""
            },
            "colorscale": [
             [
              0,
              "#0d0887"
             ],
             [
              0.1111111111111111,
              "#46039f"
             ],
             [
              0.2222222222222222,
              "#7201a8"
             ],
             [
              0.3333333333333333,
              "#9c179e"
             ],
             [
              0.4444444444444444,
              "#bd3786"
             ],
             [
              0.5555555555555556,
              "#d8576b"
             ],
             [
              0.6666666666666666,
              "#ed7953"
             ],
             [
              0.7777777777777778,
              "#fb9f3a"
             ],
             [
              0.8888888888888888,
              "#fdca26"
             ],
             [
              1,
              "#f0f921"
             ]
            ],
            "type": "histogram2dcontour"
           }
          ],
          "mesh3d": [
           {
            "colorbar": {
             "outlinewidth": 0,
             "ticks": ""
            },
            "type": "mesh3d"
           }
          ],
          "parcoords": [
           {
            "line": {
             "colorbar": {
              "outlinewidth": 0,
              "ticks": ""
             }
            },
            "type": "parcoords"
           }
          ],
          "pie": [
           {
            "automargin": true,
            "type": "pie"
           }
          ],
          "scatter": [
           {
            "fillpattern": {
             "fillmode": "overlay",
             "size": 10,
             "solidity": 0.2
            },
            "type": "scatter"
           }
          ],
          "scatter3d": [
           {
            "line": {
             "colorbar": {
              "outlinewidth": 0,
              "ticks": ""
             }
            },
            "marker": {
             "colorbar": {
              "outlinewidth": 0,
              "ticks": ""
             }
            },
            "type": "scatter3d"
           }
          ],
          "scattercarpet": [
           {
            "marker": {
             "colorbar": {
              "outlinewidth": 0,
              "ticks": ""
             }
            },
            "type": "scattercarpet"
           }
          ],
          "scattergeo": [
           {
            "marker": {
             "colorbar": {
              "outlinewidth": 0,
              "ticks": ""
             }
            },
            "type": "scattergeo"
           }
          ],
          "scattergl": [
           {
            "marker": {
             "colorbar": {
              "outlinewidth": 0,
              "ticks": ""
             }
            },
            "type": "scattergl"
           }
          ],
          "scattermapbox": [
           {
            "marker": {
             "colorbar": {
              "outlinewidth": 0,
              "ticks": ""
             }
            },
            "type": "scattermapbox"
           }
          ],
          "scatterpolar": [
           {
            "marker": {
             "colorbar": {
              "outlinewidth": 0,
              "ticks": ""
             }
            },
            "type": "scatterpolar"
           }
          ],
          "scatterpolargl": [
           {
            "marker": {
             "colorbar": {
              "outlinewidth": 0,
              "ticks": ""
             }
            },
            "type": "scatterpolargl"
           }
          ],
          "scatterternary": [
           {
            "marker": {
             "colorbar": {
              "outlinewidth": 0,
              "ticks": ""
             }
            },
            "type": "scatterternary"
           }
          ],
          "surface": [
           {
            "colorbar": {
             "outlinewidth": 0,
             "ticks": ""
            },
            "colorscale": [
             [
              0,
              "#0d0887"
             ],
             [
              0.1111111111111111,
              "#46039f"
             ],
             [
              0.2222222222222222,
              "#7201a8"
             ],
             [
              0.3333333333333333,
              "#9c179e"
             ],
             [
              0.4444444444444444,
              "#bd3786"
             ],
             [
              0.5555555555555556,
              "#d8576b"
             ],
             [
              0.6666666666666666,
              "#ed7953"
             ],
             [
              0.7777777777777778,
              "#fb9f3a"
             ],
             [
              0.8888888888888888,
              "#fdca26"
             ],
             [
              1,
              "#f0f921"
             ]
            ],
            "type": "surface"
           }
          ],
          "table": [
           {
            "cells": {
             "fill": {
              "color": "#EBF0F8"
             },
             "line": {
              "color": "white"
             }
            },
            "header": {
             "fill": {
              "color": "#C8D4E3"
             },
             "line": {
              "color": "white"
             }
            },
            "type": "table"
           }
          ]
         },
         "layout": {
          "annotationdefaults": {
           "arrowcolor": "#2a3f5f",
           "arrowhead": 0,
           "arrowwidth": 1
          },
          "autotypenumbers": "strict",
          "coloraxis": {
           "colorbar": {
            "outlinewidth": 0,
            "ticks": ""
           }
          },
          "colorscale": {
           "diverging": [
            [
             0,
             "#8e0152"
            ],
            [
             0.1,
             "#c51b7d"
            ],
            [
             0.2,
             "#de77ae"
            ],
            [
             0.3,
             "#f1b6da"
            ],
            [
             0.4,
             "#fde0ef"
            ],
            [
             0.5,
             "#f7f7f7"
            ],
            [
             0.6,
             "#e6f5d0"
            ],
            [
             0.7,
             "#b8e186"
            ],
            [
             0.8,
             "#7fbc41"
            ],
            [
             0.9,
             "#4d9221"
            ],
            [
             1,
             "#276419"
            ]
           ],
           "sequential": [
            [
             0,
             "#0d0887"
            ],
            [
             0.1111111111111111,
             "#46039f"
            ],
            [
             0.2222222222222222,
             "#7201a8"
            ],
            [
             0.3333333333333333,
             "#9c179e"
            ],
            [
             0.4444444444444444,
             "#bd3786"
            ],
            [
             0.5555555555555556,
             "#d8576b"
            ],
            [
             0.6666666666666666,
             "#ed7953"
            ],
            [
             0.7777777777777778,
             "#fb9f3a"
            ],
            [
             0.8888888888888888,
             "#fdca26"
            ],
            [
             1,
             "#f0f921"
            ]
           ],
           "sequentialminus": [
            [
             0,
             "#0d0887"
            ],
            [
             0.1111111111111111,
             "#46039f"
            ],
            [
             0.2222222222222222,
             "#7201a8"
            ],
            [
             0.3333333333333333,
             "#9c179e"
            ],
            [
             0.4444444444444444,
             "#bd3786"
            ],
            [
             0.5555555555555556,
             "#d8576b"
            ],
            [
             0.6666666666666666,
             "#ed7953"
            ],
            [
             0.7777777777777778,
             "#fb9f3a"
            ],
            [
             0.8888888888888888,
             "#fdca26"
            ],
            [
             1,
             "#f0f921"
            ]
           ]
          },
          "colorway": [
           "#636efa",
           "#EF553B",
           "#00cc96",
           "#ab63fa",
           "#FFA15A",
           "#19d3f3",
           "#FF6692",
           "#B6E880",
           "#FF97FF",
           "#FECB52"
          ],
          "font": {
           "color": "#2a3f5f"
          },
          "geo": {
           "bgcolor": "white",
           "lakecolor": "white",
           "landcolor": "#E5ECF6",
           "showlakes": true,
           "showland": true,
           "subunitcolor": "white"
          },
          "hoverlabel": {
           "align": "left"
          },
          "hovermode": "closest",
          "mapbox": {
           "style": "light"
          },
          "paper_bgcolor": "white",
          "plot_bgcolor": "#E5ECF6",
          "polar": {
           "angularaxis": {
            "gridcolor": "white",
            "linecolor": "white",
            "ticks": ""
           },
           "bgcolor": "#E5ECF6",
           "radialaxis": {
            "gridcolor": "white",
            "linecolor": "white",
            "ticks": ""
           }
          },
          "scene": {
           "xaxis": {
            "backgroundcolor": "#E5ECF6",
            "gridcolor": "white",
            "gridwidth": 2,
            "linecolor": "white",
            "showbackground": true,
            "ticks": "",
            "zerolinecolor": "white"
           },
           "yaxis": {
            "backgroundcolor": "#E5ECF6",
            "gridcolor": "white",
            "gridwidth": 2,
            "linecolor": "white",
            "showbackground": true,
            "ticks": "",
            "zerolinecolor": "white"
           },
           "zaxis": {
            "backgroundcolor": "#E5ECF6",
            "gridcolor": "white",
            "gridwidth": 2,
            "linecolor": "white",
            "showbackground": true,
            "ticks": "",
            "zerolinecolor": "white"
           }
          },
          "shapedefaults": {
           "line": {
            "color": "#2a3f5f"
           }
          },
          "ternary": {
           "aaxis": {
            "gridcolor": "white",
            "linecolor": "white",
            "ticks": ""
           },
           "baxis": {
            "gridcolor": "white",
            "linecolor": "white",
            "ticks": ""
           },
           "bgcolor": "#E5ECF6",
           "caxis": {
            "gridcolor": "white",
            "linecolor": "white",
            "ticks": ""
           }
          },
          "title": {
           "x": 0.05
          },
          "xaxis": {
           "automargin": true,
           "gridcolor": "white",
           "linecolor": "white",
           "ticks": "",
           "title": {
            "standoff": 15
           },
           "zerolinecolor": "white",
           "zerolinewidth": 2
          },
          "yaxis": {
           "automargin": true,
           "gridcolor": "white",
           "linecolor": "white",
           "ticks": "",
           "title": {
            "standoff": 15
           },
           "zerolinecolor": "white",
           "zerolinewidth": 2
          }
         }
        }
       }
      },
      "text/html": [
       "<div>                            <div id=\"b98cec45-e023-4a28-8f22-304e3ec98fb7\" class=\"plotly-graph-div\" style=\"height:525px; width:100%;\"></div>            <script type=\"text/javascript\">                require([\"plotly\"], function(Plotly) {                    window.PLOTLYENV=window.PLOTLYENV || {};                                    if (document.getElementById(\"b98cec45-e023-4a28-8f22-304e3ec98fb7\")) {                    Plotly.newPlot(                        \"b98cec45-e023-4a28-8f22-304e3ec98fb7\",                        [{\"hovertemplate\":\"color=c<br>x=%{x}<br>y=%{y}<br>z=%{z}<extra></extra>\",\"legendgroup\":\"c\",\"marker\":{\"color\":\"#636efa\",\"symbol\":\"circle\"},\"mode\":\"markers\",\"name\":\"c\",\"scene\":\"scene\",\"showlegend\":true,\"x\":[54.39824676513672,281.1160888671875,-81.10374450683594,123.61895751953125,282.7977294921875,117.1858139038086,-111.40291595458984,68.5169906616211,29.8516788482666,61.97865295410156,134.4958038330078,234.57496643066406,155.57276916503906,24.499691009521484,176.75820922851562,-221.332275390625,181.93836975097656,-62.405765533447266,-253.1529998779297,-229.98179626464844,-160.64166259765625,-248.51275634765625,327.8975524902344],\"y\":[-17.7921199798584,-3672.819091796875,-147.03456115722656,52.63320541381836,-131.42625427246094,-97.71260070800781,76.7126235961914,-107.78277587890625,118.75947570800781,-88.785888671875,-7.423516273498535,-38.8995361328125,-161.49136352539062,-98.06209564208984,-47.36521911621094,134.01116943359375,-63.577430725097656,-20.09079933166504,820.905029296875,365.770751953125,-10.786933898925781,16.786941528320312,-3.913609027862549],\"z\":[120.4260482788086,-964.069091796875,-88.2967758178711,139.1840362548828,-117.53673553466797,4.0873308181762695,-197.3820343017578,172.60047912597656,184.1371307373047,-149.67530822753906,5.364277362823486,43.62211990356445,-61.82041549682617,-82.02984619140625,115.56507873535156,120.3888931274414,-57.45415496826172,-100.5999755859375,467.602294921875,-73.48706817626953,-166.83067321777344,-127.20647430419922,242.21034240722656],\"type\":\"scatter3d\"},{\"hovertemplate\":\"color=b<br>x=%{x}<br>y=%{y}<br>z=%{z}<extra></extra>\",\"legendgroup\":\"b\",\"marker\":{\"color\":\"#EF553B\",\"symbol\":\"circle\"},\"mode\":\"markers\",\"name\":\"b\",\"scene\":\"scene\",\"showlegend\":true,\"x\":[-104.405029296875,204.48773193359375,-190.931884765625,-69.62832641601562,-509.10369873046875,364.7788391113281],\"y\":[-151.1445770263672,645.0765991210938,236.5088653564453,-232.08255004882812,-318.9941711425781,214.60443115234375],\"z\":[49.10527420043945,-144.79293823242188,-99.18456268310547,138.58692932128906,-490.2718200683594,168.8258819580078],\"type\":\"scatter3d\"},{\"hovertemplate\":\"color=g<br>x=%{x}<br>y=%{y}<br>z=%{z}<extra></extra>\",\"legendgroup\":\"g\",\"marker\":{\"color\":\"#00cc96\",\"symbol\":\"circle\"},\"mode\":\"markers\",\"name\":\"g\",\"scene\":\"scene\",\"showlegend\":true,\"x\":[-92.3411636352539,-25.17253303527832,-86.90068054199219,-10.34064769744873,-46.73051452636719,-1.160131812095642,-4.386834621429443,50.420894622802734,3.9539427757263184,-122.64978790283203],\"y\":[-0.6023266315460205,-140.59397888183594,216.56382751464844,-50.751922607421875,-41.774871826171875,18.985397338867188,55.977962493896484,-170.69659423828125,-195.29336547851562,-236.65992736816406],\"z\":[117.17853546142578,101.8860855102539,51.452545166015625,35.10219955444336,182.5222625732422,-226.44650268554688,76.52820587158203,75.45574951171875,0.7905405759811401,-12.190556526184082],\"type\":\"scatter3d\"},{\"hovertemplate\":\"color=r<br>x=%{x}<br>y=%{y}<br>z=%{z}<extra></extra>\",\"legendgroup\":\"r\",\"marker\":{\"color\":\"#ab63fa\",\"symbol\":\"circle\"},\"mode\":\"markers\",\"name\":\"r\",\"scene\":\"scene\",\"showlegend\":true,\"x\":[125.9596176147461,-141.36537170410156,176.28697204589844],\"y\":[-236.71954345703125,63.72425079345703,-95.95589447021484],\"z\":[103.27611541748047,203.02464294433594,-198.4884796142578],\"type\":\"scatter3d\"},{\"hovertemplate\":\"color=y<br>x=%{x}<br>y=%{y}<br>z=%{z}<extra></extra>\",\"legendgroup\":\"y\",\"marker\":{\"color\":\"#FFA15A\",\"symbol\":\"circle\"},\"mode\":\"markers\",\"name\":\"y\",\"scene\":\"scene\",\"showlegend\":true,\"x\":[138.17185974121094,197.3690643310547,57.298397064208984,159.53662109375,-127.79114532470703,-270.8042297363281,242.49798583984375,-208.94606018066406,226.2401885986328,137.59536743164062,-126.31924438476562,127.86165618896484,54.979339599609375,-172.43362426757812,-91.89537811279297,-247.02098083496094,120.85735321044922],\"y\":[163.95701599121094,101.53277587890625,78.5379638671875,180.1878662109375,-31.368877410888672,-13.001945495605469,140.3838653564453,-85.48141479492188,-157.4993133544922,180.32948303222656,85.86153411865234,103.09120178222656,49.51226043701172,-80.40029907226562,176.59315490722656,-473.7267150878906,109.45452880859375],\"z\":[57.4832649230957,5.899890422821045,-25.71930694580078,-25.59748077392578,-2.3805480003356934,154.52577209472656,-98.13838958740234,64.99100494384766,101.19338989257812,-125.3395004272461,-75.91531372070312,-366.44140625,-126.34053039550781,162.4457244873047,-78.59223175048828,236.9925994873047,-219.5717315673828],\"type\":\"scatter3d\"},{\"hovertemplate\":\"color=k<br>x=%{x}<br>y=%{y}<br>z=%{z}<extra></extra>\",\"legendgroup\":\"k\",\"marker\":{\"color\":\"#19d3f3\",\"symbol\":\"circle\"},\"mode\":\"markers\",\"name\":\"k\",\"scene\":\"scene\",\"showlegend\":true,\"x\":[-31.529150009155273,171.1299591064453,-72.8368911743164,17.611583709716797],\"y\":[69.38524627685547,35.13582992553711,133.08245849609375,41.0538330078125],\"z\":[-25.099042892456055,-130.69808959960938,121.7176284790039,274.16741943359375],\"type\":\"scatter3d\"},{\"hovertemplate\":\"color=m<br>x=%{x}<br>y=%{y}<br>z=%{z}<extra></extra>\",\"legendgroup\":\"m\",\"marker\":{\"color\":\"#FF6692\",\"symbol\":\"circle\"},\"mode\":\"markers\",\"name\":\"m\",\"scene\":\"scene\",\"showlegend\":true,\"x\":[20.34578514099121,93.52122497558594,-56.72102355957031,21.489639282226562,4.701611518859863,-212.04412841796875,-219.02267456054688,-223.34352111816406,14.073572158813477],\"y\":[181.30636596679688,-60.295387268066406,-123.10900115966797,-222.17803955078125,-367.8336486816406,141.31759643554688,48.18849563598633,924.9844970703125,143.2736053466797],\"z\":[-19.020042419433594,269.28765869140625,-210.65744018554688,-144.29714965820312,258.07598876953125,-9.881230354309082,15.464807510375977,-1039.857666015625,-115.05498504638672],\"type\":\"scatter3d\"}],                        {\"template\":{\"data\":{\"histogram2dcontour\":[{\"type\":\"histogram2dcontour\",\"colorbar\":{\"outlinewidth\":0,\"ticks\":\"\"},\"colorscale\":[[0.0,\"#0d0887\"],[0.1111111111111111,\"#46039f\"],[0.2222222222222222,\"#7201a8\"],[0.3333333333333333,\"#9c179e\"],[0.4444444444444444,\"#bd3786\"],[0.5555555555555556,\"#d8576b\"],[0.6666666666666666,\"#ed7953\"],[0.7777777777777778,\"#fb9f3a\"],[0.8888888888888888,\"#fdca26\"],[1.0,\"#f0f921\"]]}],\"choropleth\":[{\"type\":\"choropleth\",\"colorbar\":{\"outlinewidth\":0,\"ticks\":\"\"}}],\"histogram2d\":[{\"type\":\"histogram2d\",\"colorbar\":{\"outlinewidth\":0,\"ticks\":\"\"},\"colorscale\":[[0.0,\"#0d0887\"],[0.1111111111111111,\"#46039f\"],[0.2222222222222222,\"#7201a8\"],[0.3333333333333333,\"#9c179e\"],[0.4444444444444444,\"#bd3786\"],[0.5555555555555556,\"#d8576b\"],[0.6666666666666666,\"#ed7953\"],[0.7777777777777778,\"#fb9f3a\"],[0.8888888888888888,\"#fdca26\"],[1.0,\"#f0f921\"]]}],\"heatmap\":[{\"type\":\"heatmap\",\"colorbar\":{\"outlinewidth\":0,\"ticks\":\"\"},\"colorscale\":[[0.0,\"#0d0887\"],[0.1111111111111111,\"#46039f\"],[0.2222222222222222,\"#7201a8\"],[0.3333333333333333,\"#9c179e\"],[0.4444444444444444,\"#bd3786\"],[0.5555555555555556,\"#d8576b\"],[0.6666666666666666,\"#ed7953\"],[0.7777777777777778,\"#fb9f3a\"],[0.8888888888888888,\"#fdca26\"],[1.0,\"#f0f921\"]]}],\"heatmapgl\":[{\"type\":\"heatmapgl\",\"colorbar\":{\"outlinewidth\":0,\"ticks\":\"\"},\"colorscale\":[[0.0,\"#0d0887\"],[0.1111111111111111,\"#46039f\"],[0.2222222222222222,\"#7201a8\"],[0.3333333333333333,\"#9c179e\"],[0.4444444444444444,\"#bd3786\"],[0.5555555555555556,\"#d8576b\"],[0.6666666666666666,\"#ed7953\"],[0.7777777777777778,\"#fb9f3a\"],[0.8888888888888888,\"#fdca26\"],[1.0,\"#f0f921\"]]}],\"contourcarpet\":[{\"type\":\"contourcarpet\",\"colorbar\":{\"outlinewidth\":0,\"ticks\":\"\"}}],\"contour\":[{\"type\":\"contour\",\"colorbar\":{\"outlinewidth\":0,\"ticks\":\"\"},\"colorscale\":[[0.0,\"#0d0887\"],[0.1111111111111111,\"#46039f\"],[0.2222222222222222,\"#7201a8\"],[0.3333333333333333,\"#9c179e\"],[0.4444444444444444,\"#bd3786\"],[0.5555555555555556,\"#d8576b\"],[0.6666666666666666,\"#ed7953\"],[0.7777777777777778,\"#fb9f3a\"],[0.8888888888888888,\"#fdca26\"],[1.0,\"#f0f921\"]]}],\"surface\":[{\"type\":\"surface\",\"colorbar\":{\"outlinewidth\":0,\"ticks\":\"\"},\"colorscale\":[[0.0,\"#0d0887\"],[0.1111111111111111,\"#46039f\"],[0.2222222222222222,\"#7201a8\"],[0.3333333333333333,\"#9c179e\"],[0.4444444444444444,\"#bd3786\"],[0.5555555555555556,\"#d8576b\"],[0.6666666666666666,\"#ed7953\"],[0.7777777777777778,\"#fb9f3a\"],[0.8888888888888888,\"#fdca26\"],[1.0,\"#f0f921\"]]}],\"mesh3d\":[{\"type\":\"mesh3d\",\"colorbar\":{\"outlinewidth\":0,\"ticks\":\"\"}}],\"scatter\":[{\"fillpattern\":{\"fillmode\":\"overlay\",\"size\":10,\"solidity\":0.2},\"type\":\"scatter\"}],\"parcoords\":[{\"type\":\"parcoords\",\"line\":{\"colorbar\":{\"outlinewidth\":0,\"ticks\":\"\"}}}],\"scatterpolargl\":[{\"type\":\"scatterpolargl\",\"marker\":{\"colorbar\":{\"outlinewidth\":0,\"ticks\":\"\"}}}],\"bar\":[{\"error_x\":{\"color\":\"#2a3f5f\"},\"error_y\":{\"color\":\"#2a3f5f\"},\"marker\":{\"line\":{\"color\":\"#E5ECF6\",\"width\":0.5},\"pattern\":{\"fillmode\":\"overlay\",\"size\":10,\"solidity\":0.2}},\"type\":\"bar\"}],\"scattergeo\":[{\"type\":\"scattergeo\",\"marker\":{\"colorbar\":{\"outlinewidth\":0,\"ticks\":\"\"}}}],\"scatterpolar\":[{\"type\":\"scatterpolar\",\"marker\":{\"colorbar\":{\"outlinewidth\":0,\"ticks\":\"\"}}}],\"histogram\":[{\"marker\":{\"pattern\":{\"fillmode\":\"overlay\",\"size\":10,\"solidity\":0.2}},\"type\":\"histogram\"}],\"scattergl\":[{\"type\":\"scattergl\",\"marker\":{\"colorbar\":{\"outlinewidth\":0,\"ticks\":\"\"}}}],\"scatter3d\":[{\"type\":\"scatter3d\",\"line\":{\"colorbar\":{\"outlinewidth\":0,\"ticks\":\"\"}},\"marker\":{\"colorbar\":{\"outlinewidth\":0,\"ticks\":\"\"}}}],\"scattermapbox\":[{\"type\":\"scattermapbox\",\"marker\":{\"colorbar\":{\"outlinewidth\":0,\"ticks\":\"\"}}}],\"scatterternary\":[{\"type\":\"scatterternary\",\"marker\":{\"colorbar\":{\"outlinewidth\":0,\"ticks\":\"\"}}}],\"scattercarpet\":[{\"type\":\"scattercarpet\",\"marker\":{\"colorbar\":{\"outlinewidth\":0,\"ticks\":\"\"}}}],\"carpet\":[{\"aaxis\":{\"endlinecolor\":\"#2a3f5f\",\"gridcolor\":\"white\",\"linecolor\":\"white\",\"minorgridcolor\":\"white\",\"startlinecolor\":\"#2a3f5f\"},\"baxis\":{\"endlinecolor\":\"#2a3f5f\",\"gridcolor\":\"white\",\"linecolor\":\"white\",\"minorgridcolor\":\"white\",\"startlinecolor\":\"#2a3f5f\"},\"type\":\"carpet\"}],\"table\":[{\"cells\":{\"fill\":{\"color\":\"#EBF0F8\"},\"line\":{\"color\":\"white\"}},\"header\":{\"fill\":{\"color\":\"#C8D4E3\"},\"line\":{\"color\":\"white\"}},\"type\":\"table\"}],\"barpolar\":[{\"marker\":{\"line\":{\"color\":\"#E5ECF6\",\"width\":0.5},\"pattern\":{\"fillmode\":\"overlay\",\"size\":10,\"solidity\":0.2}},\"type\":\"barpolar\"}],\"pie\":[{\"automargin\":true,\"type\":\"pie\"}]},\"layout\":{\"autotypenumbers\":\"strict\",\"colorway\":[\"#636efa\",\"#EF553B\",\"#00cc96\",\"#ab63fa\",\"#FFA15A\",\"#19d3f3\",\"#FF6692\",\"#B6E880\",\"#FF97FF\",\"#FECB52\"],\"font\":{\"color\":\"#2a3f5f\"},\"hovermode\":\"closest\",\"hoverlabel\":{\"align\":\"left\"},\"paper_bgcolor\":\"white\",\"plot_bgcolor\":\"#E5ECF6\",\"polar\":{\"bgcolor\":\"#E5ECF6\",\"angularaxis\":{\"gridcolor\":\"white\",\"linecolor\":\"white\",\"ticks\":\"\"},\"radialaxis\":{\"gridcolor\":\"white\",\"linecolor\":\"white\",\"ticks\":\"\"}},\"ternary\":{\"bgcolor\":\"#E5ECF6\",\"aaxis\":{\"gridcolor\":\"white\",\"linecolor\":\"white\",\"ticks\":\"\"},\"baxis\":{\"gridcolor\":\"white\",\"linecolor\":\"white\",\"ticks\":\"\"},\"caxis\":{\"gridcolor\":\"white\",\"linecolor\":\"white\",\"ticks\":\"\"}},\"coloraxis\":{\"colorbar\":{\"outlinewidth\":0,\"ticks\":\"\"}},\"colorscale\":{\"sequential\":[[0.0,\"#0d0887\"],[0.1111111111111111,\"#46039f\"],[0.2222222222222222,\"#7201a8\"],[0.3333333333333333,\"#9c179e\"],[0.4444444444444444,\"#bd3786\"],[0.5555555555555556,\"#d8576b\"],[0.6666666666666666,\"#ed7953\"],[0.7777777777777778,\"#fb9f3a\"],[0.8888888888888888,\"#fdca26\"],[1.0,\"#f0f921\"]],\"sequentialminus\":[[0.0,\"#0d0887\"],[0.1111111111111111,\"#46039f\"],[0.2222222222222222,\"#7201a8\"],[0.3333333333333333,\"#9c179e\"],[0.4444444444444444,\"#bd3786\"],[0.5555555555555556,\"#d8576b\"],[0.6666666666666666,\"#ed7953\"],[0.7777777777777778,\"#fb9f3a\"],[0.8888888888888888,\"#fdca26\"],[1.0,\"#f0f921\"]],\"diverging\":[[0,\"#8e0152\"],[0.1,\"#c51b7d\"],[0.2,\"#de77ae\"],[0.3,\"#f1b6da\"],[0.4,\"#fde0ef\"],[0.5,\"#f7f7f7\"],[0.6,\"#e6f5d0\"],[0.7,\"#b8e186\"],[0.8,\"#7fbc41\"],[0.9,\"#4d9221\"],[1,\"#276419\"]]},\"xaxis\":{\"gridcolor\":\"white\",\"linecolor\":\"white\",\"ticks\":\"\",\"title\":{\"standoff\":15},\"zerolinecolor\":\"white\",\"automargin\":true,\"zerolinewidth\":2},\"yaxis\":{\"gridcolor\":\"white\",\"linecolor\":\"white\",\"ticks\":\"\",\"title\":{\"standoff\":15},\"zerolinecolor\":\"white\",\"automargin\":true,\"zerolinewidth\":2},\"scene\":{\"xaxis\":{\"backgroundcolor\":\"#E5ECF6\",\"gridcolor\":\"white\",\"linecolor\":\"white\",\"showbackground\":true,\"ticks\":\"\",\"zerolinecolor\":\"white\",\"gridwidth\":2},\"yaxis\":{\"backgroundcolor\":\"#E5ECF6\",\"gridcolor\":\"white\",\"linecolor\":\"white\",\"showbackground\":true,\"ticks\":\"\",\"zerolinecolor\":\"white\",\"gridwidth\":2},\"zaxis\":{\"backgroundcolor\":\"#E5ECF6\",\"gridcolor\":\"white\",\"linecolor\":\"white\",\"showbackground\":true,\"ticks\":\"\",\"zerolinecolor\":\"white\",\"gridwidth\":2}},\"shapedefaults\":{\"line\":{\"color\":\"#2a3f5f\"}},\"annotationdefaults\":{\"arrowcolor\":\"#2a3f5f\",\"arrowhead\":0,\"arrowwidth\":1},\"geo\":{\"bgcolor\":\"white\",\"landcolor\":\"#E5ECF6\",\"subunitcolor\":\"white\",\"showland\":true,\"showlakes\":true,\"lakecolor\":\"white\"},\"title\":{\"x\":0.05},\"mapbox\":{\"style\":\"light\"}}},\"scene\":{\"domain\":{\"x\":[0.0,1.0],\"y\":[0.0,1.0]},\"xaxis\":{\"title\":{\"text\":\"x\"}},\"yaxis\":{\"title\":{\"text\":\"y\"}},\"zaxis\":{\"title\":{\"text\":\"z\"}}},\"legend\":{\"title\":{\"text\":\"color\"},\"tracegroupgap\":0},\"margin\":{\"t\":60}},                        {\"responsive\": true}                    ).then(function(){\n",
       "                            \n",
       "var gd = document.getElementById('b98cec45-e023-4a28-8f22-304e3ec98fb7');\n",
       "var x = new MutationObserver(function (mutations, observer) {{\n",
       "        var display = window.getComputedStyle(gd).display;\n",
       "        if (!display || display === 'none') {{\n",
       "            console.log([gd, 'removed!']);\n",
       "            Plotly.purge(gd);\n",
       "            observer.disconnect();\n",
       "        }}\n",
       "}});\n",
       "\n",
       "// Listen for the removal of the full notebook cells\n",
       "var notebookContainer = gd.closest('#notebook-container');\n",
       "if (notebookContainer) {{\n",
       "    x.observe(notebookContainer, {childList: true});\n",
       "}}\n",
       "\n",
       "// Listen for the clearing of the current output cell\n",
       "var outputEl = gd.closest('.output');\n",
       "if (outputEl) {{\n",
       "    x.observe(outputEl, {childList: true});\n",
       "}}\n",
       "\n",
       "                        })                };                });            </script>        </div>"
      ]
     },
     "metadata": {},
     "output_type": "display_data"
    }
   ],
   "source": [
    "\n",
    "X_embedded  = TSNE(n_components=3, perplexity=10,random_state=24).fit_transform( X )\n",
    "colors = np.array([x for x in 'bgrcmykbgrcmykbgrcmykbgrcmyk'])\n",
    "fig = px.scatter_3d(x=X_embedded [:,0],y=X_embedded [:,1],z=X_embedded [:,2],color=colors[aff_prop_clustering.labels_])\n",
    "fig.show()"
   ]
  },
  {
   "cell_type": "code",
   "execution_count": 119,
   "metadata": {},
   "outputs": [
    {
     "data": {
      "text/html": [
       "<div>\n",
       "<style scoped>\n",
       "    .dataframe tbody tr th:only-of-type {\n",
       "        vertical-align: middle;\n",
       "    }\n",
       "\n",
       "    .dataframe tbody tr th {\n",
       "        vertical-align: top;\n",
       "    }\n",
       "\n",
       "    .dataframe thead th {\n",
       "        text-align: right;\n",
       "    }\n",
       "</style>\n",
       "<table border=\"1\" class=\"dataframe\">\n",
       "  <thead>\n",
       "    <tr style=\"text-align: right;\">\n",
       "      <th></th>\n",
       "      <th>silhouette_score</th>\n",
       "      <th>davies_bouldin_score</th>\n",
       "      <th>calinski_harabasz_score</th>\n",
       "      <th>fowlkes_mallows_score</th>\n",
       "      <th>adjusted_rand_score</th>\n",
       "      <th>adjusted_mutual_info_score</th>\n",
       "      <th>homogeneity_score</th>\n",
       "      <th>completeness_score</th>\n",
       "      <th>v_measure_score</th>\n",
       "    </tr>\n",
       "  </thead>\n",
       "  <tbody>\n",
       "    <tr>\n",
       "      <th>Mini-Batch Kmean</th>\n",
       "      <td>0.298728</td>\n",
       "      <td>1.393576</td>\n",
       "      <td>34.235183</td>\n",
       "      <td>0.637105</td>\n",
       "      <td>0.212250</td>\n",
       "      <td>0.170329</td>\n",
       "      <td>0.191901</td>\n",
       "      <td>0.168625</td>\n",
       "      <td>0.179512</td>\n",
       "    </tr>\n",
       "    <tr>\n",
       "      <th>GaussianMixture</th>\n",
       "      <td>0.320568</td>\n",
       "      <td>1.360494</td>\n",
       "      <td>33.214029</td>\n",
       "      <td>0.616312</td>\n",
       "      <td>0.160056</td>\n",
       "      <td>0.302954</td>\n",
       "      <td>0.330167</td>\n",
       "      <td>0.293438</td>\n",
       "      <td>0.310721</td>\n",
       "    </tr>\n",
       "    <tr>\n",
       "      <th>BayesianGaussianMixture</th>\n",
       "      <td>0.320568</td>\n",
       "      <td>1.360494</td>\n",
       "      <td>33.214029</td>\n",
       "      <td>0.616312</td>\n",
       "      <td>0.160056</td>\n",
       "      <td>0.302954</td>\n",
       "      <td>0.330167</td>\n",
       "      <td>0.293438</td>\n",
       "      <td>0.310721</td>\n",
       "    </tr>\n",
       "    <tr>\n",
       "      <th>Agglomerative Clustering</th>\n",
       "      <td>0.311866</td>\n",
       "      <td>1.374137</td>\n",
       "      <td>31.207496</td>\n",
       "      <td>0.593127</td>\n",
       "      <td>0.091336</td>\n",
       "      <td>0.263257</td>\n",
       "      <td>0.284625</td>\n",
       "      <td>0.259703</td>\n",
       "      <td>0.271594</td>\n",
       "    </tr>\n",
       "    <tr>\n",
       "      <th>DBSCAN</th>\n",
       "      <td>0.108080</td>\n",
       "      <td>1.971503</td>\n",
       "      <td>11.717027</td>\n",
       "      <td>0.539168</td>\n",
       "      <td>0.137435</td>\n",
       "      <td>0.208637</td>\n",
       "      <td>0.348699</td>\n",
       "      <td>0.180862</td>\n",
       "      <td>0.238184</td>\n",
       "    </tr>\n",
       "    <tr>\n",
       "      <th>Optics</th>\n",
       "      <td>0.242370</td>\n",
       "      <td>1.210075</td>\n",
       "      <td>11.364510</td>\n",
       "      <td>0.217513</td>\n",
       "      <td>0.020912</td>\n",
       "      <td>0.151753</td>\n",
       "      <td>0.665970</td>\n",
       "      <td>0.141626</td>\n",
       "      <td>0.233579</td>\n",
       "    </tr>\n",
       "    <tr>\n",
       "      <th>SpectralClustering</th>\n",
       "      <td>0.320568</td>\n",
       "      <td>1.360494</td>\n",
       "      <td>33.214029</td>\n",
       "      <td>0.616312</td>\n",
       "      <td>0.160056</td>\n",
       "      <td>0.302954</td>\n",
       "      <td>0.330167</td>\n",
       "      <td>0.293438</td>\n",
       "      <td>0.310721</td>\n",
       "    </tr>\n",
       "    <tr>\n",
       "      <th>AffinityPropagation</th>\n",
       "      <td>0.372646</td>\n",
       "      <td>0.990933</td>\n",
       "      <td>32.714759</td>\n",
       "      <td>0.469353</td>\n",
       "      <td>0.163693</td>\n",
       "      <td>0.301221</td>\n",
       "      <td>0.640354</td>\n",
       "      <td>0.222210</td>\n",
       "      <td>0.329930</td>\n",
       "    </tr>\n",
       "  </tbody>\n",
       "</table>\n",
       "</div>"
      ],
      "text/plain": [
       "                           silhouette_score  davies_bouldin_score  \\\n",
       "Mini-Batch Kmean                   0.298728              1.393576   \n",
       "GaussianMixture                    0.320568              1.360494   \n",
       "BayesianGaussianMixture            0.320568              1.360494   \n",
       "Agglomerative Clustering           0.311866              1.374137   \n",
       "DBSCAN                             0.108080              1.971503   \n",
       "Optics                             0.242370              1.210075   \n",
       "SpectralClustering                 0.320568              1.360494   \n",
       "AffinityPropagation                0.372646              0.990933   \n",
       "\n",
       "                           calinski_harabasz_score  fowlkes_mallows_score  \\\n",
       "Mini-Batch Kmean                         34.235183               0.637105   \n",
       "GaussianMixture                          33.214029               0.616312   \n",
       "BayesianGaussianMixture                  33.214029               0.616312   \n",
       "Agglomerative Clustering                 31.207496               0.593127   \n",
       "DBSCAN                                   11.717027               0.539168   \n",
       "Optics                                   11.364510               0.217513   \n",
       "SpectralClustering                       33.214029               0.616312   \n",
       "AffinityPropagation                      32.714759               0.469353   \n",
       "\n",
       "                           adjusted_rand_score  adjusted_mutual_info_score  \\\n",
       "Mini-Batch Kmean                      0.212250                    0.170329   \n",
       "GaussianMixture                       0.160056                    0.302954   \n",
       "BayesianGaussianMixture               0.160056                    0.302954   \n",
       "Agglomerative Clustering              0.091336                    0.263257   \n",
       "DBSCAN                                0.137435                    0.208637   \n",
       "Optics                                0.020912                    0.151753   \n",
       "SpectralClustering                    0.160056                    0.302954   \n",
       "AffinityPropagation                   0.163693                    0.301221   \n",
       "\n",
       "                           homogeneity_score  completeness_score  \\\n",
       "Mini-Batch Kmean                    0.191901            0.168625   \n",
       "GaussianMixture                     0.330167            0.293438   \n",
       "BayesianGaussianMixture             0.330167            0.293438   \n",
       "Agglomerative Clustering            0.284625            0.259703   \n",
       "DBSCAN                              0.348699            0.180862   \n",
       "Optics                              0.665970            0.141626   \n",
       "SpectralClustering                  0.330167            0.293438   \n",
       "AffinityPropagation                 0.640354            0.222210   \n",
       "\n",
       "                           v_measure_score  \n",
       "Mini-Batch Kmean                  0.179512  \n",
       "GaussianMixture                   0.310721  \n",
       "BayesianGaussianMixture           0.310721  \n",
       "Agglomerative Clustering          0.271594  \n",
       "DBSCAN                            0.238184  \n",
       "Optics                            0.233579  \n",
       "SpectralClustering                0.310721  \n",
       "AffinityPropagation               0.329930  "
      ]
     },
     "execution_count": 119,
     "metadata": {},
     "output_type": "execute_result"
    }
   ],
   "source": [
    "result = kmean_df.append([gmm_df, bgm_df, agg_df, dbscan_df, Optics_df, Spectral_df, aff_prop_df])\n",
    "result"
   ]
  },
  {
   "cell_type": "markdown",
   "metadata": {},
   "source": [
    "### Part 2 Performance Analysis:\n",
    "\n",
    "From the above result set of all those 7 models, we are able to conclude that for this analysis, choosing best algorithm would mainly be on the basis of Extrinsic measures.\n",
    "\n",
    "Silhoutte score, Calinski-Harabasz and Davies-Bouldin Index are not a good measure when comparing different types of clustering algorithms as these scores tend to be higher for density-based clustering algorithms, so it would not be fair to compare desnity based algorithm with other other types of clustering algorithms.\n",
    "\n",
    "As for the individual analysis, Silhoutte score, Calinski-Harabasz and Davies-Bouldin Index for each model is comparatively same for all models except the silhouette_score and calinski_harabasz_score for DBSCAN, means DBSCAN has failed to find the similarity in cluster and the clusters are not dense and well separated.\n",
    "\n",
    "fowlkes_mallows_score, adjusted_rand_score, adjusted_mutual_info_score, homogeneity_score,completeness_score and v_measure_score are higher for Agglomerative Clustering, GaussianMixture, BayesianGaussianMixture, and AffinityPropagation and least for OPTICS. And the recall of Agglomerative Clustering is higher than all other model which is 79% , meaning 79% of data points of a required class are elements of the same cluster.\n",
    "\n",
    "Hence using all the measures, Agglomerative Clustering, GaussianMixture, BayesianGaussianMixture, and AffinityPropagation has given significantly higher score and performed better as compared to all other algorithms. Therefore, Agglomerative Clustering, GaussianMixture, BayesianGaussianMixture, and AffinityPropagationis the best possible clustering algorithm for this dataset."
   ]
  },
  {
   "cell_type": "code",
   "execution_count": null,
   "metadata": {},
   "outputs": [],
   "source": []
  },
  {
   "cell_type": "code",
   "execution_count": null,
   "metadata": {},
   "outputs": [],
   "source": []
  },
  {
   "cell_type": "code",
   "execution_count": null,
   "metadata": {},
   "outputs": [],
   "source": []
  }
 ],
 "metadata": {
  "kernelspec": {
   "display_name": "Python 3",
   "language": "python",
   "name": "python3"
  },
  "language_info": {
   "codemirror_mode": {
    "name": "ipython",
    "version": 3
   },
   "file_extension": ".py",
   "mimetype": "text/x-python",
   "name": "python",
   "nbconvert_exporter": "python",
   "pygments_lexer": "ipython3",
   "version": "3.8.5"
  }
 },
 "nbformat": 4,
 "nbformat_minor": 5
}
