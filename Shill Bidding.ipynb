{
 "cells": [
  {
   "cell_type": "markdown",
   "metadata": {},
   "source": [
    "# Data Dictionary\n",
    "\n",
    "This dataset has been populated by large number of eBay auctions of a popular product. \n",
    "The dataset can be downloaded from this [link](https://archive.ics.uci.edu/ml/datasets/Shill+Bidding+Dataset)\n",
    "\n",
    "### Attribute Information:\n",
    "\n",
    "- Record ID: Unique identifier of a record in the dataset.\n",
    "- Auction ID: Unique identifier of an auction.\n",
    "- Bidder ID: Unique identifier of a bidder.\n",
    "- Bidder Tendency: A shill bidder participates exclusively in auctions of few sellers rather than a diversified lot. This is a collusive act involving the fraudulent seller and an accomplice.\n",
    "- Bidding Ratio: A shill bidder participates more frequently to raise the auction price and attract higher bids from legitimate participants.\n",
    "- Successive Outbidding: A shill bidder successively outbids himself even though he is the current winner to increase the price gradually with small consecutive increments.\n",
    "- Last Bidding: A shill bidder becomes inactive at the last stage of the auction (more than 90\\% of the auction duration) to avoid winning the auction.\n",
    "- Auction Bids: Auctions with SB activities tend to have a much higher number of bids than the average of bids in concurrent auctions.\n",
    "- Auction Starting Price: a shill bidder usually offers a small starting price to attract legitimate bidders into the auction.\n",
    "- Early Bidding: A shill bidder tends to bid pretty early in the auction (less than 25\\% of the auction duration) to get the attention of auction users.\n",
    "- Winning Ratio: A shill bidder competes in many auctions but hardly wins any auctions.\n",
    "- Auction Duration: How long an auction lasted.\n",
    "- Class: 0 for normal behaviour bidding; 1 for otherwise.\n",
    "\n",
    "\n",
    "The purpose of the this analysis is to find the patterns to group the data points into their similary traits cluster."
   ]
  },
  {
   "cell_type": "markdown",
   "metadata": {},
   "source": [
    "### Importing the libraries"
   ]
  },
  {
   "cell_type": "code",
   "execution_count": 1,
   "metadata": {},
   "outputs": [],
   "source": [
    "import pandas as pd\n",
    "import numpy as np\n",
    "import matplotlib.pyplot as plt\n",
    "import seaborn as sns\n",
    "from sklearn.preprocessing import StandardScaler, OneHotEncoder, MinMaxScaler\n",
    "from sklearn.pipeline import Pipeline\n",
    "from sklearn.compose import ColumnTransformer\n",
    "from sklearn.manifold import TSNE\n",
    "import plotly.express as px\n",
    "from sklearn.metrics import silhouette_samples, silhouette_score, homogeneity_score, completeness_score, v_measure_score, adjusted_rand_score, adjusted_mutual_info_score, fowlkes_mallows_score\n",
    "from scipy.spatial import distance_matrix \n",
    "import time\n",
    "import sklearn.metrics as metrics\n",
    "from sklearn.cluster import MiniBatchKMeans, KMeans, AgglomerativeClustering, OPTICS, MeanShift, estimate_bandwidth, DBSCAN, AffinityPropagation ,SpectralClustering\n",
    "from sklearn.metrics.pairwise import pairwise_distances_argmin\n",
    "import scipy.cluster.hierarchy as hcluster\n",
    "from  scipy.cluster import hierarchy\n",
    "from sklearn.model_selection import GridSearchCV\n",
    "from sklearn.mixture import GaussianMixture, BayesianGaussianMixture\n",
    "import matplotlib.cm as cm\n",
    "import functions\n",
    "import warnings\n",
    "warnings.filterwarnings('ignore')"
   ]
  },
  {
   "cell_type": "code",
   "execution_count": 2,
   "metadata": {},
   "outputs": [
    {
     "name": "stdout",
     "output_type": "stream",
     "text": [
      "data size : (6321, 13) \n"
     ]
    }
   ],
   "source": [
    "df = pd.read_csv(\"data/Shill Bidding Dataset.csv\")\n",
    "\n",
    "print(\"data size : {} \".format(df.shape))"
   ]
  },
  {
   "cell_type": "code",
   "execution_count": 3,
   "metadata": {},
   "outputs": [
    {
     "data": {
      "text/html": [
       "<div>\n",
       "<style scoped>\n",
       "    .dataframe tbody tr th:only-of-type {\n",
       "        vertical-align: middle;\n",
       "    }\n",
       "\n",
       "    .dataframe tbody tr th {\n",
       "        vertical-align: top;\n",
       "    }\n",
       "\n",
       "    .dataframe thead th {\n",
       "        text-align: right;\n",
       "    }\n",
       "</style>\n",
       "<table border=\"1\" class=\"dataframe\">\n",
       "  <thead>\n",
       "    <tr style=\"text-align: right;\">\n",
       "      <th></th>\n",
       "      <th>Record_ID</th>\n",
       "      <th>Auction_ID</th>\n",
       "      <th>Bidder_ID</th>\n",
       "      <th>Bidder_Tendency</th>\n",
       "      <th>Bidding_Ratio</th>\n",
       "      <th>Successive_Outbidding</th>\n",
       "      <th>Last_Bidding</th>\n",
       "      <th>Auction_Bids</th>\n",
       "      <th>Starting_Price_Average</th>\n",
       "      <th>Early_Bidding</th>\n",
       "      <th>Winning_Ratio</th>\n",
       "      <th>Auction_Duration</th>\n",
       "      <th>Class</th>\n",
       "    </tr>\n",
       "  </thead>\n",
       "  <tbody>\n",
       "    <tr>\n",
       "      <th>6316</th>\n",
       "      <td>15129</td>\n",
       "      <td>760</td>\n",
       "      <td>l***t</td>\n",
       "      <td>0.333333</td>\n",
       "      <td>0.160000</td>\n",
       "      <td>1.0</td>\n",
       "      <td>0.738557</td>\n",
       "      <td>0.280000</td>\n",
       "      <td>0.993593</td>\n",
       "      <td>0.686358</td>\n",
       "      <td>0.888889</td>\n",
       "      <td>3</td>\n",
       "      <td>1</td>\n",
       "    </tr>\n",
       "    <tr>\n",
       "      <th>6317</th>\n",
       "      <td>15137</td>\n",
       "      <td>2481</td>\n",
       "      <td>s***s</td>\n",
       "      <td>0.030612</td>\n",
       "      <td>0.130435</td>\n",
       "      <td>0.0</td>\n",
       "      <td>0.005754</td>\n",
       "      <td>0.217391</td>\n",
       "      <td>0.993593</td>\n",
       "      <td>0.000010</td>\n",
       "      <td>0.878788</td>\n",
       "      <td>7</td>\n",
       "      <td>0</td>\n",
       "    </tr>\n",
       "    <tr>\n",
       "      <th>6318</th>\n",
       "      <td>15138</td>\n",
       "      <td>2481</td>\n",
       "      <td>h***t</td>\n",
       "      <td>0.055556</td>\n",
       "      <td>0.043478</td>\n",
       "      <td>0.0</td>\n",
       "      <td>0.015663</td>\n",
       "      <td>0.217391</td>\n",
       "      <td>0.993593</td>\n",
       "      <td>0.015663</td>\n",
       "      <td>0.000000</td>\n",
       "      <td>7</td>\n",
       "      <td>0</td>\n",
       "    </tr>\n",
       "    <tr>\n",
       "      <th>6319</th>\n",
       "      <td>15139</td>\n",
       "      <td>2481</td>\n",
       "      <td>d***d</td>\n",
       "      <td>0.076923</td>\n",
       "      <td>0.086957</td>\n",
       "      <td>0.0</td>\n",
       "      <td>0.068694</td>\n",
       "      <td>0.217391</td>\n",
       "      <td>0.993593</td>\n",
       "      <td>0.000415</td>\n",
       "      <td>0.000000</td>\n",
       "      <td>7</td>\n",
       "      <td>0</td>\n",
       "    </tr>\n",
       "    <tr>\n",
       "      <th>6320</th>\n",
       "      <td>15144</td>\n",
       "      <td>2481</td>\n",
       "      <td>a***l</td>\n",
       "      <td>0.016393</td>\n",
       "      <td>0.043478</td>\n",
       "      <td>0.0</td>\n",
       "      <td>0.340351</td>\n",
       "      <td>0.217391</td>\n",
       "      <td>0.993593</td>\n",
       "      <td>0.340351</td>\n",
       "      <td>0.000000</td>\n",
       "      <td>7</td>\n",
       "      <td>0</td>\n",
       "    </tr>\n",
       "  </tbody>\n",
       "</table>\n",
       "</div>"
      ],
      "text/plain": [
       "      Record_ID  Auction_ID Bidder_ID  Bidder_Tendency  Bidding_Ratio  \\\n",
       "6316      15129         760     l***t         0.333333       0.160000   \n",
       "6317      15137        2481     s***s         0.030612       0.130435   \n",
       "6318      15138        2481     h***t         0.055556       0.043478   \n",
       "6319      15139        2481     d***d         0.076923       0.086957   \n",
       "6320      15144        2481     a***l         0.016393       0.043478   \n",
       "\n",
       "      Successive_Outbidding  Last_Bidding  Auction_Bids  \\\n",
       "6316                    1.0      0.738557      0.280000   \n",
       "6317                    0.0      0.005754      0.217391   \n",
       "6318                    0.0      0.015663      0.217391   \n",
       "6319                    0.0      0.068694      0.217391   \n",
       "6320                    0.0      0.340351      0.217391   \n",
       "\n",
       "      Starting_Price_Average  Early_Bidding  Winning_Ratio  Auction_Duration  \\\n",
       "6316                0.993593       0.686358       0.888889                 3   \n",
       "6317                0.993593       0.000010       0.878788                 7   \n",
       "6318                0.993593       0.015663       0.000000                 7   \n",
       "6319                0.993593       0.000415       0.000000                 7   \n",
       "6320                0.993593       0.340351       0.000000                 7   \n",
       "\n",
       "      Class  \n",
       "6316      1  \n",
       "6317      0  \n",
       "6318      0  \n",
       "6319      0  \n",
       "6320      0  "
      ]
     },
     "execution_count": 3,
     "metadata": {},
     "output_type": "execute_result"
    }
   ],
   "source": [
    "df.tail()"
   ]
  },
  {
   "cell_type": "markdown",
   "metadata": {},
   "source": [
    "### Data Preprocessing\n",
    "\n",
    "\n",
    "For this dataset, the Data Preprocessing steps include:\n",
    "\n",
    "- Removal of valueless columns.\n",
    "- Updating empty values with the mean of the respective column.\n",
    "- Checking for outliers.\n",
    "- Standardize the dataset by using min-max scaler.\n",
    "- Reduceing the number of dimensions in the training dataset using PCA.\n",
    "\n",
    "Here we are droping the ID and date column which is a unique identifier for each row."
   ]
  },
  {
   "cell_type": "code",
   "execution_count": 4,
   "metadata": {},
   "outputs": [],
   "source": [
    "df.drop(['Record_ID','Auction_ID','Bidder_ID','Auction_Duration'], axis=1, inplace=True)"
   ]
  },
  {
   "cell_type": "code",
   "execution_count": 5,
   "metadata": {},
   "outputs": [
    {
     "name": "stdout",
     "output_type": "stream",
     "text": [
      "<class 'pandas.core.frame.DataFrame'>\n",
      "RangeIndex: 6321 entries, 0 to 6320\n",
      "Data columns (total 9 columns):\n",
      " #   Column                  Non-Null Count  Dtype  \n",
      "---  ------                  --------------  -----  \n",
      " 0   Bidder_Tendency         6321 non-null   float64\n",
      " 1   Bidding_Ratio           6321 non-null   float64\n",
      " 2   Successive_Outbidding   6321 non-null   float64\n",
      " 3   Last_Bidding            6321 non-null   float64\n",
      " 4   Auction_Bids            6321 non-null   float64\n",
      " 5   Starting_Price_Average  6321 non-null   float64\n",
      " 6   Early_Bidding           6321 non-null   float64\n",
      " 7   Winning_Ratio           6321 non-null   float64\n",
      " 8   Class                   6321 non-null   int64  \n",
      "dtypes: float64(8), int64(1)\n",
      "memory usage: 444.6 KB\n"
     ]
    }
   ],
   "source": [
    "df.info()"
   ]
  },
  {
   "cell_type": "markdown",
   "metadata": {},
   "source": [
    "From the above statistics, we can observe that the dataset has the target variable which has a data type of int64, meaning we would not need encoding for that. After removing the ID and date column, dataset has 6321 rows and 8 columns with no missing values, which means we won't have to handle them.\n"
   ]
  },
  {
   "cell_type": "code",
   "execution_count": 6,
   "metadata": {},
   "outputs": [],
   "source": [
    "numerical_df = df.select_dtypes(include=['float64'])"
   ]
  },
  {
   "cell_type": "code",
   "execution_count": 7,
   "metadata": {},
   "outputs": [
    {
     "data": {
      "text/html": [
       "<div>\n",
       "<style scoped>\n",
       "    .dataframe tbody tr th:only-of-type {\n",
       "        vertical-align: middle;\n",
       "    }\n",
       "\n",
       "    .dataframe tbody tr th {\n",
       "        vertical-align: top;\n",
       "    }\n",
       "\n",
       "    .dataframe thead th {\n",
       "        text-align: right;\n",
       "    }\n",
       "</style>\n",
       "<table border=\"1\" class=\"dataframe\">\n",
       "  <thead>\n",
       "    <tr style=\"text-align: right;\">\n",
       "      <th></th>\n",
       "      <th>Bidder_Tendency</th>\n",
       "      <th>Bidding_Ratio</th>\n",
       "      <th>Successive_Outbidding</th>\n",
       "      <th>Last_Bidding</th>\n",
       "      <th>Auction_Bids</th>\n",
       "      <th>Starting_Price_Average</th>\n",
       "      <th>Early_Bidding</th>\n",
       "      <th>Winning_Ratio</th>\n",
       "      <th>Class</th>\n",
       "    </tr>\n",
       "  </thead>\n",
       "  <tbody>\n",
       "    <tr>\n",
       "      <th>count</th>\n",
       "      <td>6321.000000</td>\n",
       "      <td>6321.000000</td>\n",
       "      <td>6321.000000</td>\n",
       "      <td>6321.000000</td>\n",
       "      <td>6321.000000</td>\n",
       "      <td>6321.000000</td>\n",
       "      <td>6321.000000</td>\n",
       "      <td>6321.000000</td>\n",
       "      <td>6321.000000</td>\n",
       "    </tr>\n",
       "    <tr>\n",
       "      <th>mean</th>\n",
       "      <td>0.142541</td>\n",
       "      <td>0.127670</td>\n",
       "      <td>0.103781</td>\n",
       "      <td>0.463119</td>\n",
       "      <td>0.231606</td>\n",
       "      <td>0.472821</td>\n",
       "      <td>0.430683</td>\n",
       "      <td>0.367731</td>\n",
       "      <td>0.106787</td>\n",
       "    </tr>\n",
       "    <tr>\n",
       "      <th>std</th>\n",
       "      <td>0.197084</td>\n",
       "      <td>0.131530</td>\n",
       "      <td>0.279698</td>\n",
       "      <td>0.380097</td>\n",
       "      <td>0.255252</td>\n",
       "      <td>0.489912</td>\n",
       "      <td>0.380785</td>\n",
       "      <td>0.436573</td>\n",
       "      <td>0.308867</td>\n",
       "    </tr>\n",
       "    <tr>\n",
       "      <th>min</th>\n",
       "      <td>0.000000</td>\n",
       "      <td>0.011765</td>\n",
       "      <td>0.000000</td>\n",
       "      <td>0.000000</td>\n",
       "      <td>0.000000</td>\n",
       "      <td>0.000000</td>\n",
       "      <td>0.000000</td>\n",
       "      <td>0.000000</td>\n",
       "      <td>0.000000</td>\n",
       "    </tr>\n",
       "    <tr>\n",
       "      <th>25%</th>\n",
       "      <td>0.027027</td>\n",
       "      <td>0.043478</td>\n",
       "      <td>0.000000</td>\n",
       "      <td>0.047928</td>\n",
       "      <td>0.000000</td>\n",
       "      <td>0.000000</td>\n",
       "      <td>0.026620</td>\n",
       "      <td>0.000000</td>\n",
       "      <td>0.000000</td>\n",
       "    </tr>\n",
       "    <tr>\n",
       "      <th>50%</th>\n",
       "      <td>0.062500</td>\n",
       "      <td>0.083333</td>\n",
       "      <td>0.000000</td>\n",
       "      <td>0.440937</td>\n",
       "      <td>0.142857</td>\n",
       "      <td>0.000000</td>\n",
       "      <td>0.360104</td>\n",
       "      <td>0.000000</td>\n",
       "      <td>0.000000</td>\n",
       "    </tr>\n",
       "    <tr>\n",
       "      <th>75%</th>\n",
       "      <td>0.166667</td>\n",
       "      <td>0.166667</td>\n",
       "      <td>0.000000</td>\n",
       "      <td>0.860363</td>\n",
       "      <td>0.454545</td>\n",
       "      <td>0.993593</td>\n",
       "      <td>0.826761</td>\n",
       "      <td>0.851852</td>\n",
       "      <td>0.000000</td>\n",
       "    </tr>\n",
       "    <tr>\n",
       "      <th>max</th>\n",
       "      <td>1.000000</td>\n",
       "      <td>1.000000</td>\n",
       "      <td>1.000000</td>\n",
       "      <td>0.999900</td>\n",
       "      <td>0.788235</td>\n",
       "      <td>0.999935</td>\n",
       "      <td>0.999900</td>\n",
       "      <td>1.000000</td>\n",
       "      <td>1.000000</td>\n",
       "    </tr>\n",
       "  </tbody>\n",
       "</table>\n",
       "</div>"
      ],
      "text/plain": [
       "       Bidder_Tendency  Bidding_Ratio  Successive_Outbidding  Last_Bidding  \\\n",
       "count      6321.000000    6321.000000            6321.000000   6321.000000   \n",
       "mean          0.142541       0.127670               0.103781      0.463119   \n",
       "std           0.197084       0.131530               0.279698      0.380097   \n",
       "min           0.000000       0.011765               0.000000      0.000000   \n",
       "25%           0.027027       0.043478               0.000000      0.047928   \n",
       "50%           0.062500       0.083333               0.000000      0.440937   \n",
       "75%           0.166667       0.166667               0.000000      0.860363   \n",
       "max           1.000000       1.000000               1.000000      0.999900   \n",
       "\n",
       "       Auction_Bids  Starting_Price_Average  Early_Bidding  Winning_Ratio  \\\n",
       "count   6321.000000             6321.000000    6321.000000    6321.000000   \n",
       "mean       0.231606                0.472821       0.430683       0.367731   \n",
       "std        0.255252                0.489912       0.380785       0.436573   \n",
       "min        0.000000                0.000000       0.000000       0.000000   \n",
       "25%        0.000000                0.000000       0.026620       0.000000   \n",
       "50%        0.142857                0.000000       0.360104       0.000000   \n",
       "75%        0.454545                0.993593       0.826761       0.851852   \n",
       "max        0.788235                0.999935       0.999900       1.000000   \n",
       "\n",
       "             Class  \n",
       "count  6321.000000  \n",
       "mean      0.106787  \n",
       "std       0.308867  \n",
       "min       0.000000  \n",
       "25%       0.000000  \n",
       "50%       0.000000  \n",
       "75%       0.000000  \n",
       "max       1.000000  "
      ]
     },
     "execution_count": 7,
     "metadata": {},
     "output_type": "execute_result"
    }
   ],
   "source": [
    "df.describe()"
   ]
  },
  {
   "cell_type": "markdown",
   "metadata": {},
   "source": [
    "From the above statistical sumary we can observe that values for each column is in a range from 0 to 1.\n",
    "Last_Bidding seem to follow the normal distribution. And the dependent variable Class is more represented by 0 class than 1 as mean equals 0.1 and 75% of the data has value 0. It means that the data is imbalanced and we will have to decide how to deal with this. Let's see how many observations we have represented for each class."
   ]
  },
  {
   "cell_type": "code",
   "execution_count": 8,
   "metadata": {},
   "outputs": [
    {
     "data": {
      "image/png": "[encoded data removed]",
      "text/plain": [
       "<Figure size 1080x288 with 1 Axes>"
      ]
     },
     "metadata": {
      "needs_background": "light"
     },
     "output_type": "display_data"
    }
   ],
   "source": [
    "plt.figure(1 , figsize = (15 , 4))\n",
    "color_palette = [\"#FA5858\", \"#58D3F7\", \"#704041\", \"#f5c3c4\"]\n",
    "sns.countplot(y = 'Class' , data = df, palette = color_palette)\n",
    "plt.show()"
   ]
  },
  {
   "cell_type": "markdown",
   "metadata": {},
   "source": [
    "From the above graph, we can see that 0 class has above 5000 entries while 1 class has less tha 1000 entries. .\n"
   ]
  },
  {
   "cell_type": "markdown",
   "metadata": {},
   "source": [
    "#####  plot distribution of numerical attributes"
   ]
  },
  {
   "cell_type": "code",
   "execution_count": 10,
   "metadata": {},
   "outputs": [
    {
     "data": {
      "image/png": "[encoded data removed]",
      "text/plain": [
       "<Figure size 1440x1440 with 8 Axes>"
      ]
     },
     "metadata": {
      "needs_background": "light"
     },
     "output_type": "display_data"
    }
   ],
   "source": [
    "numerical_attributes_plot_distrbution(df)"
   ]
  },
  {
   "cell_type": "markdown",
   "metadata": {},
   "source": [
    "From the above analysis, Bidder_Tendency and Bidding_Ratio have many outliers. And  Last_Bidding, and Early_Bidding seem to follow normal distribution."
   ]
  },
  {
   "cell_type": "code",
   "execution_count": 12,
   "metadata": {},
   "outputs": [
    {
     "data": {
      "image/png": "[encoded data removed]",
      "text/plain": [
       "<Figure size 720x432 with 2 Axes>"
      ]
     },
     "metadata": {
      "needs_background": "light"
     },
     "output_type": "display_data"
    }
   ],
   "source": [
    "plot_corr_matrix(df)"
   ]
  },
  {
   "cell_type": "markdown",
   "metadata": {},
   "source": [
    "- Successive_Outbidding and Class are highly correlated with 0.901 value.\n",
    "- Last_Bidding and Early_Bidding columns are highly correlated with 0.954 value.\n",
    "\n",
    "Since A shill bidder becomes inactive at the last stage of the auction (more than 90% of the auction duration) to avoid winning the auction, and it is highly correlated with Early_Bidding, we can remove this column\n"
   ]
  },
  {
   "cell_type": "code",
   "execution_count": 159,
   "metadata": {},
   "outputs": [],
   "source": [
    "df.drop(['Last_Bidding'], axis=1, inplace=True)"
   ]
  },
  {
   "cell_type": "markdown",
   "metadata": {},
   "source": [
    "#### Checking for Outliers\n",
    "\n",
    "Here we are checking for all the outliers, by getting each variable upper and lower extream values and removing which does not lie in IQR Range"
   ]
  },
  {
   "cell_type": "code",
   "execution_count": 160,
   "metadata": {},
   "outputs": [
    {
     "data": {
      "text/plain": [
       "6321"
      ]
     },
     "execution_count": 160,
     "metadata": {},
     "output_type": "execute_result"
    }
   ],
   "source": [
    "cleaned_data = process_outliers(numerical_df)\n",
    "len(cleaned_data)"
   ]
  },
  {
   "cell_type": "code",
   "execution_count": 162,
   "metadata": {},
   "outputs": [
    {
     "data": {
      "text/html": [
       "<div>\n",
       "<style scoped>\n",
       "    .dataframe tbody tr th:only-of-type {\n",
       "        vertical-align: middle;\n",
       "    }\n",
       "\n",
       "    .dataframe tbody tr th {\n",
       "        vertical-align: top;\n",
       "    }\n",
       "\n",
       "    .dataframe thead th {\n",
       "        text-align: right;\n",
       "    }\n",
       "</style>\n",
       "<table border=\"1\" class=\"dataframe\">\n",
       "  <thead>\n",
       "    <tr style=\"text-align: right;\">\n",
       "      <th></th>\n",
       "      <th>Bidder_Tendency</th>\n",
       "      <th>Bidding_Ratio</th>\n",
       "      <th>Successive_Outbidding</th>\n",
       "      <th>Last_Bidding</th>\n",
       "      <th>Auction_Bids</th>\n",
       "      <th>Starting_Price_Average</th>\n",
       "      <th>Early_Bidding</th>\n",
       "      <th>Winning_Ratio</th>\n",
       "    </tr>\n",
       "  </thead>\n",
       "  <tbody>\n",
       "    <tr>\n",
       "      <th>6316</th>\n",
       "      <td>0.333333</td>\n",
       "      <td>0.160000</td>\n",
       "      <td>1.0</td>\n",
       "      <td>0.738557</td>\n",
       "      <td>0.280000</td>\n",
       "      <td>0.993593</td>\n",
       "      <td>0.686358</td>\n",
       "      <td>0.888889</td>\n",
       "    </tr>\n",
       "    <tr>\n",
       "      <th>6317</th>\n",
       "      <td>0.030612</td>\n",
       "      <td>0.130435</td>\n",
       "      <td>0.0</td>\n",
       "      <td>0.005754</td>\n",
       "      <td>0.217391</td>\n",
       "      <td>0.993593</td>\n",
       "      <td>0.000010</td>\n",
       "      <td>0.878788</td>\n",
       "    </tr>\n",
       "    <tr>\n",
       "      <th>6318</th>\n",
       "      <td>0.055556</td>\n",
       "      <td>0.043478</td>\n",
       "      <td>0.0</td>\n",
       "      <td>0.015663</td>\n",
       "      <td>0.217391</td>\n",
       "      <td>0.993593</td>\n",
       "      <td>0.015663</td>\n",
       "      <td>0.000000</td>\n",
       "    </tr>\n",
       "    <tr>\n",
       "      <th>6319</th>\n",
       "      <td>0.076923</td>\n",
       "      <td>0.086957</td>\n",
       "      <td>0.0</td>\n",
       "      <td>0.068694</td>\n",
       "      <td>0.217391</td>\n",
       "      <td>0.993593</td>\n",
       "      <td>0.000415</td>\n",
       "      <td>0.000000</td>\n",
       "    </tr>\n",
       "    <tr>\n",
       "      <th>6320</th>\n",
       "      <td>0.016393</td>\n",
       "      <td>0.043478</td>\n",
       "      <td>0.0</td>\n",
       "      <td>0.340351</td>\n",
       "      <td>0.217391</td>\n",
       "      <td>0.993593</td>\n",
       "      <td>0.340351</td>\n",
       "      <td>0.000000</td>\n",
       "    </tr>\n",
       "  </tbody>\n",
       "</table>\n",
       "</div>"
      ],
      "text/plain": [
       "      Bidder_Tendency  Bidding_Ratio  Successive_Outbidding  Last_Bidding  \\\n",
       "6316         0.333333       0.160000                    1.0      0.738557   \n",
       "6317         0.030612       0.130435                    0.0      0.005754   \n",
       "6318         0.055556       0.043478                    0.0      0.015663   \n",
       "6319         0.076923       0.086957                    0.0      0.068694   \n",
       "6320         0.016393       0.043478                    0.0      0.340351   \n",
       "\n",
       "      Auction_Bids  Starting_Price_Average  Early_Bidding  Winning_Ratio  \n",
       "6316      0.280000                0.993593       0.686358       0.888889  \n",
       "6317      0.217391                0.993593       0.000010       0.878788  \n",
       "6318      0.217391                0.993593       0.015663       0.000000  \n",
       "6319      0.217391                0.993593       0.000415       0.000000  \n",
       "6320      0.217391                0.993593       0.340351       0.000000  "
      ]
     },
     "execution_count": 162,
     "metadata": {},
     "output_type": "execute_result"
    }
   ],
   "source": [
    "cleaned_data.tail()"
   ]
  },
  {
   "cell_type": "code",
   "execution_count": 163,
   "metadata": {},
   "outputs": [],
   "source": [
    "X = cleaned_data.loc[:, cleaned_data.columns != 'Class']\n",
    "y = df[['Class']]"
   ]
  },
  {
   "cell_type": "code",
   "execution_count": 165,
   "metadata": {},
   "outputs": [
    {
     "data": {
      "image/png": "[encoded data removed]",
      "text/plain": [
       "<Figure size 432x288 with 1 Axes>"
      ]
     },
     "metadata": {
      "needs_background": "light"
     },
     "output_type": "display_data"
    }
   ],
   "source": [
    "plot_PCA_graph(X)"
   ]
  },
  {
   "cell_type": "markdown",
   "metadata": {},
   "source": [
    "Here we have used PCA on the raw data, as observed from the above graph, the number of componets are analyzed based on how variance is explained for each principle componets and the business goal. For our analysis, let's try to secure 90% of the explained variance.\n",
    "\n",
    "Since selecting the best number of principal components is to keep as much of the variance in the original data as possible, we would be going for the 3 paramters which is much less than our original dataset which has 9 attributes in total. From the above grap, the first 3 components for the 90% of variance can be used instead of using all the features in the dataset. This way dimension of data has been reduced by 75%, meaning that it will be now easier to fit clustering models as they are mainly based on distances."
   ]
  },
  {
   "cell_type": "code",
   "execution_count": 118,
   "metadata": {},
   "outputs": [
    {
     "data": {
      "text/plain": [
       "array([0.4412566 , 0.24644292, 0.20145624])"
      ]
     },
     "execution_count": 118,
     "metadata": {},
     "output_type": "execute_result"
    }
   ],
   "source": [
    "pca = PCA(n_components=3)\n",
    "projected = pca.fit_transform(X)\n",
    "explained_variance = pca.explained_variance_ratio_\n",
    "explained_variance"
   ]
  },
  {
   "cell_type": "code",
   "execution_count": 119,
   "metadata": {},
   "outputs": [
    {
     "data": {
      "text/html": [
       "<div>\n",
       "<style scoped>\n",
       "    .dataframe tbody tr th:only-of-type {\n",
       "        vertical-align: middle;\n",
       "    }\n",
       "\n",
       "    .dataframe tbody tr th {\n",
       "        vertical-align: top;\n",
       "    }\n",
       "\n",
       "    .dataframe thead th {\n",
       "        text-align: right;\n",
       "    }\n",
       "</style>\n",
       "<table border=\"1\" class=\"dataframe\">\n",
       "  <thead>\n",
       "    <tr style=\"text-align: right;\">\n",
       "      <th></th>\n",
       "      <th>0</th>\n",
       "      <th>1</th>\n",
       "      <th>2</th>\n",
       "      <th>Class</th>\n",
       "    </tr>\n",
       "  </thead>\n",
       "  <tbody>\n",
       "    <tr>\n",
       "      <th>0</th>\n",
       "      <td>-0.162563</td>\n",
       "      <td>-0.408690</td>\n",
       "      <td>0.644242</td>\n",
       "      <td>0</td>\n",
       "    </tr>\n",
       "    <tr>\n",
       "      <th>1</th>\n",
       "      <td>-0.233269</td>\n",
       "      <td>-0.287493</td>\n",
       "      <td>0.771257</td>\n",
       "      <td>0</td>\n",
       "    </tr>\n",
       "    <tr>\n",
       "      <th>2</th>\n",
       "      <td>-0.261386</td>\n",
       "      <td>-0.261509</td>\n",
       "      <td>0.828819</td>\n",
       "      <td>0</td>\n",
       "    </tr>\n",
       "    <tr>\n",
       "      <th>3</th>\n",
       "      <td>-0.186979</td>\n",
       "      <td>-0.162766</td>\n",
       "      <td>0.779626</td>\n",
       "      <td>0</td>\n",
       "    </tr>\n",
       "    <tr>\n",
       "      <th>4</th>\n",
       "      <td>-0.738498</td>\n",
       "      <td>-0.261581</td>\n",
       "      <td>-0.080851</td>\n",
       "      <td>0</td>\n",
       "    </tr>\n",
       "  </tbody>\n",
       "</table>\n",
       "</div>"
      ],
      "text/plain": [
       "          0         1         2  Class\n",
       "0 -0.162563 -0.408690  0.644242      0\n",
       "1 -0.233269 -0.287493  0.771257      0\n",
       "2 -0.261386 -0.261509  0.828819      0\n",
       "3 -0.186979 -0.162766  0.779626      0\n",
       "4 -0.738498 -0.261581 -0.080851      0"
      ]
     },
     "execution_count": 119,
     "metadata": {},
     "output_type": "execute_result"
    }
   ],
   "source": [
    "principal_df = pd.DataFrame(data = projected)\n",
    "df_pca = principal_df.join(y, how='outer')\n",
    "df_pca.head(5)"
   ]
  },
  {
   "cell_type": "code",
   "execution_count": 120,
   "metadata": {},
   "outputs": [],
   "source": [
    "df1 = df_pca.dropna()\n",
    "X = df1.loc[:, df1.columns != 'Class']\n",
    "y = df1[['Class']]"
   ]
  },
  {
   "cell_type": "code",
   "execution_count": 121,
   "metadata": {},
   "outputs": [
    {
     "data": {
      "text/plain": [
       "(300, 3)"
      ]
     },
     "execution_count": 121,
     "metadata": {},
     "output_type": "execute_result"
    }
   ],
   "source": [
    "X = X[:300]\n",
    "X.shape"
   ]
  },
  {
   "cell_type": "code",
   "execution_count": 122,
   "metadata": {},
   "outputs": [
    {
     "data": {
      "text/plain": [
       "(300, 1)"
      ]
     },
     "execution_count": 122,
     "metadata": {},
     "output_type": "execute_result"
    }
   ],
   "source": [
    "y = y[:300]\n",
    "y.shape"
   ]
  },
  {
   "cell_type": "markdown",
   "metadata": {},
   "source": [
    "# Cluster Analysis\n",
    "\n",
    "This section is divided into two parts. In the first part we will be doing a comparative analysis of Gaussian mixture model with it's paramter's best value using Grid Search Technique. And In the second part we will be performing a comparartive analysis of <b>Gaussian mixture model </b> with other models that include <b>Bayesian Gaussian Mixture, Mini-Batch K-means, OPTICS, DBSCAN, Agglomerative, Spectral Clustering and Affinity Propagation </b> with their respective hyper-paramter tuning using Grid Search Technique. No of best paramters would be chosen on the basis of maximum silhoutte score.\n",
    "\n",
    "We will be further evaulating our cluster performance using following measures: \n",
    "    \n",
    "###### Intrinsic Measures that does not require ground truth labels (y)\n",
    "- silhouette_score measures the between-cluster distance against within-cluster distance. A higher score signifies better-defined clusters. It is good for well define cluster as well as measure the interpretability of clusters.\n",
    "- davies_bouldin_score measures the size of clusters against the average distance between clusters. A lower score signifies better-defined clusters. A lower score means that the cluster is relatively small compared to the distance to another cluster, hence well-defined.\n",
    "- calinski_harabasz_score measures the between-cluster dispersion against within-cluster dispersion. A higher score signifies better-defined clusters. A higher ratio signifies the cluster is far away from its other clusters and that the cluster is more well-defined\n",
    "    \n",
    "    \n",
    "###### Extrinsic Measures that requires ground truth labels (y)\n",
    "- fowlkes_mallows_score measure the correctness of the cluster assignments using pairwise precision and recall. A higher score signifies higher similarity.\n",
    "- adjusted_rand_score measures the similarity between the cluster assignments by making pair-wise comparisons. A higher score signifies higher similarity.\n",
    "- adjusted_mutual_info_score measures the agreement between the cluster assignments. A higher score signifies higher similarity.\n",
    "- homogeneity_score measures the precision of cluster, meaning each cluster contains only members of a single class. \n",
    "- completeness_score measures the recall of cluster, meaning all members of a given class are assigned to the same cluster.\n",
    "- v_measure_score measures the correctness of the cluster assignments and used to measure interpretability of clusters. A higher score signifies higher similarity.\n",
    "\n",
    "\n",
    "## Part 1: Comparative Analysis of Gaussian mixture model with it's hyper-parameters\n",
    "\n",
    "A Gaussian mixture model (GMM) assists to find a mixture of multi-dimensional Gaussian probability distributions that best models dataset. In the simplest case, GMMs can be used for finding clusters in the same manner as k-means.\n",
    "\n",
    "Here, first we would only be applying Gaussian Mixture Model with 2 components, then with addition of each hyperparamter using Grid Search to get the best possible attribute combination, we would be doing a comparative analysis as how each parameter is effecting the result of clustering. We would be doing comparative analysis using\n",
    "\n",
    "- GMM with n_components = 2\n",
    "- GMM with n_components and covariance_type using Grid Search \n",
    "- GMM with n_components and max_iter using Grid Search \n",
    "- GMM with n_components and init_params using Grid Search \n",
    "- GMM with n_components and n_init using Grid Search \n",
    "\n",
    "\n",
    "#### GMM with n_components = 2\n",
    "\n",
    "n_components refers to the number of mixture components.\n",
    "\n",
    "First we would just be using fixed no of n_components with all the default parameters to see how the clusers are formed for our dataset."
   ]
  },
  {
   "cell_type": "code",
   "execution_count": 123,
   "metadata": {},
   "outputs": [
    {
     "data": {
      "text/html": [
       "<div>\n",
       "<style scoped>\n",
       "    .dataframe tbody tr th:only-of-type {\n",
       "        vertical-align: middle;\n",
       "    }\n",
       "\n",
       "    .dataframe tbody tr th {\n",
       "        vertical-align: top;\n",
       "    }\n",
       "\n",
       "    .dataframe thead th {\n",
       "        text-align: right;\n",
       "    }\n",
       "</style>\n",
       "<table border=\"1\" class=\"dataframe\">\n",
       "  <thead>\n",
       "    <tr style=\"text-align: right;\">\n",
       "      <th></th>\n",
       "      <th>Cluster</th>\n",
       "    </tr>\n",
       "  </thead>\n",
       "  <tbody>\n",
       "    <tr>\n",
       "      <th>0</th>\n",
       "      <td>166</td>\n",
       "    </tr>\n",
       "    <tr>\n",
       "      <th>1</th>\n",
       "      <td>134</td>\n",
       "    </tr>\n",
       "  </tbody>\n",
       "</table>\n",
       "</div>"
      ],
      "text/plain": [
       "   Cluster\n",
       "0      166\n",
       "1      134"
      ]
     },
     "execution_count": 123,
     "metadata": {},
     "output_type": "execute_result"
    }
   ],
   "source": [
    "gmm1 = GaussianMixture(n_components = 2)\n",
    "\n",
    "gmm1.fit(X)\n",
    "gmm1_labels = gmm1.fit_predict(X)\n",
    "gmm1_dataset = pd.DataFrame(X.copy())\n",
    "gmm1_dataset.loc[:,'Cluster'] = gmm1_labels\n",
    "gmm1_dataset.Cluster.value_counts().to_frame()"
   ]
  },
  {
   "cell_type": "code",
   "execution_count": 124,
   "metadata": {},
   "outputs": [
    {
     "data": {
      "text/html": [
       "<div>\n",
       "<style scoped>\n",
       "    .dataframe tbody tr th:only-of-type {\n",
       "        vertical-align: middle;\n",
       "    }\n",
       "\n",
       "    .dataframe tbody tr th {\n",
       "        vertical-align: top;\n",
       "    }\n",
       "\n",
       "    .dataframe thead th {\n",
       "        text-align: right;\n",
       "    }\n",
       "</style>\n",
       "<table border=\"1\" class=\"dataframe\">\n",
       "  <thead>\n",
       "    <tr style=\"text-align: right;\">\n",
       "      <th></th>\n",
       "      <th>silhouette_score</th>\n",
       "      <th>davies_bouldin_score</th>\n",
       "      <th>calinski_harabasz_score</th>\n",
       "      <th>fowlkes_mallows_score</th>\n",
       "      <th>adjusted_rand_score</th>\n",
       "      <th>adjusted_mutual_info_score</th>\n",
       "      <th>homogeneity_score</th>\n",
       "      <th>completeness_score</th>\n",
       "      <th>v_measure_score</th>\n",
       "    </tr>\n",
       "  </thead>\n",
       "  <tbody>\n",
       "    <tr>\n",
       "      <th>GaussianMixture with n_components only</th>\n",
       "      <td>0.406574</td>\n",
       "      <td>1.146124</td>\n",
       "      <td>203.324259</td>\n",
       "      <td>0.636826</td>\n",
       "      <td>0.006318</td>\n",
       "      <td>0.000128</td>\n",
       "      <td>0.004978</td>\n",
       "      <td>0.002559</td>\n",
       "      <td>0.003381</td>\n",
       "    </tr>\n",
       "  </tbody>\n",
       "</table>\n",
       "</div>"
      ],
      "text/plain": [
       "                                        silhouette_score  \\\n",
       "GaussianMixture with n_components only          0.406574   \n",
       "\n",
       "                                        davies_bouldin_score  \\\n",
       "GaussianMixture with n_components only              1.146124   \n",
       "\n",
       "                                        calinski_harabasz_score  \\\n",
       "GaussianMixture with n_components only               203.324259   \n",
       "\n",
       "                                        fowlkes_mallows_score  \\\n",
       "GaussianMixture with n_components only               0.636826   \n",
       "\n",
       "                                        adjusted_rand_score  \\\n",
       "GaussianMixture with n_components only             0.006318   \n",
       "\n",
       "                                        adjusted_mutual_info_score  \\\n",
       "GaussianMixture with n_components only                    0.000128   \n",
       "\n",
       "                                        homogeneity_score  completeness_score  \\\n",
       "GaussianMixture with n_components only           0.004978            0.002559   \n",
       "\n",
       "                                        v_measure_score  \n",
       "GaussianMixture with n_components only         0.003381  "
      ]
     },
     "execution_count": 124,
     "metadata": {},
     "output_type": "execute_result"
    }
   ],
   "source": [
    "gmm_df1 = pd.DataFrame(estimator_evaluation2(gmm1, 'GaussianMixture ', X , y), index=[\"GaussianMixture with n_components only\"])\n",
    "gmm_df1"
   ]
  },
  {
   "cell_type": "markdown",
   "metadata": {},
   "source": [
    "#### GMM with n_components and covariance_type using Grid Search\n",
    "\n",
    "covariance_type parameter controls the degrees of freedom in the shape of cluster. That is what allows for adjusting for different shapes of the clusters and that is why it is an essential to set this carefully for the given problem. \n",
    "\n",
    "\n",
    "- full(default): it referes to have each component has its own general covariance matrix, which allows each cluster to be modeled as an ellipse with it's arbitrary orientation.\n",
    "- tied: it referes to have all components share the same general covariance matrix.\n",
    "- diag: it referes to have each component has its own diagonal covariance matrix, which means that the size of the cluster with each dimension can be set independently.\n",
    "- spherical: it referes to have each component has its own single variance, which is a simpler and faster model that constrains the shape of the cluster such that all dimensions are equal. The resulting clustering will have similar characteristics to that of k-means.\n",
    "\n",
    "We would be using the best covariance_type for our problem analysis using Grid Search Hyper-parameter technique."
   ]
  },
  {
   "cell_type": "code",
   "execution_count": 125,
   "metadata": {},
   "outputs": [
    {
     "name": "stdout",
     "output_type": "stream",
     "text": [
      "{'covariance_type': 'diag', 'n_components': 7}\n"
     ]
    },
    {
     "data": {
      "text/html": [
       "<div>\n",
       "<style scoped>\n",
       "    .dataframe tbody tr th:only-of-type {\n",
       "        vertical-align: middle;\n",
       "    }\n",
       "\n",
       "    .dataframe tbody tr th {\n",
       "        vertical-align: top;\n",
       "    }\n",
       "\n",
       "    .dataframe thead th {\n",
       "        text-align: right;\n",
       "    }\n",
       "</style>\n",
       "<table border=\"1\" class=\"dataframe\">\n",
       "  <thead>\n",
       "    <tr style=\"text-align: right;\">\n",
       "      <th></th>\n",
       "      <th>Cluster</th>\n",
       "    </tr>\n",
       "  </thead>\n",
       "  <tbody>\n",
       "    <tr>\n",
       "      <th>6</th>\n",
       "      <td>62</td>\n",
       "    </tr>\n",
       "    <tr>\n",
       "      <th>4</th>\n",
       "      <td>51</td>\n",
       "    </tr>\n",
       "    <tr>\n",
       "      <th>3</th>\n",
       "      <td>47</td>\n",
       "    </tr>\n",
       "    <tr>\n",
       "      <th>0</th>\n",
       "      <td>38</td>\n",
       "    </tr>\n",
       "    <tr>\n",
       "      <th>1</th>\n",
       "      <td>37</td>\n",
       "    </tr>\n",
       "    <tr>\n",
       "      <th>2</th>\n",
       "      <td>34</td>\n",
       "    </tr>\n",
       "    <tr>\n",
       "      <th>5</th>\n",
       "      <td>31</td>\n",
       "    </tr>\n",
       "  </tbody>\n",
       "</table>\n",
       "</div>"
      ],
      "text/plain": [
       "   Cluster\n",
       "6       62\n",
       "4       51\n",
       "3       47\n",
       "0       38\n",
       "1       37\n",
       "2       34\n",
       "5       31"
      ]
     },
     "execution_count": 125,
     "metadata": {},
     "output_type": "execute_result"
    }
   ],
   "source": [
    "gmm_grid = {\n",
    "        \"covariance_type\": ['full', 'tied', 'diag', 'spherical'],\n",
    "        \"n_components\": range(2, 10)\n",
    "       }\n",
    "gmm_grid\n",
    "gmm_model2 = GaussianMixture()\n",
    "gmm_params2 = GridSearchCV(gmm_model2,gmm_grid,scoring=silhouette_score3,cv= 10).fit(X, y)\n",
    "print(gmm_params2.best_params_)\n",
    "gmm2 = GaussianMixture(covariance_type = gmm_params2.best_params_['covariance_type'],\n",
    "                      n_components = gmm_params2.best_params_['n_components'])\n",
    "\n",
    "gmm2.fit(X)\n",
    "gmm2_labels = gmm2.fit_predict(X)\n",
    "gmm2_dataset = pd.DataFrame(X.copy())\n",
    "gmm2_dataset.loc[:,'Cluster'] = gmm2_labels\n",
    "gmm2_dataset.Cluster.value_counts().to_frame()"
   ]
  },
  {
   "cell_type": "code",
   "execution_count": 126,
   "metadata": {},
   "outputs": [
    {
     "data": {
      "text/html": [
       "<div>\n",
       "<style scoped>\n",
       "    .dataframe tbody tr th:only-of-type {\n",
       "        vertical-align: middle;\n",
       "    }\n",
       "\n",
       "    .dataframe tbody tr th {\n",
       "        vertical-align: top;\n",
       "    }\n",
       "\n",
       "    .dataframe thead th {\n",
       "        text-align: right;\n",
       "    }\n",
       "</style>\n",
       "<table border=\"1\" class=\"dataframe\">\n",
       "  <thead>\n",
       "    <tr style=\"text-align: right;\">\n",
       "      <th></th>\n",
       "      <th>silhouette_score</th>\n",
       "      <th>davies_bouldin_score</th>\n",
       "      <th>calinski_harabasz_score</th>\n",
       "      <th>fowlkes_mallows_score</th>\n",
       "      <th>adjusted_rand_score</th>\n",
       "      <th>adjusted_mutual_info_score</th>\n",
       "      <th>homogeneity_score</th>\n",
       "      <th>completeness_score</th>\n",
       "      <th>v_measure_score</th>\n",
       "    </tr>\n",
       "  </thead>\n",
       "  <tbody>\n",
       "    <tr>\n",
       "      <th>GaussianMixture with covariance_type</th>\n",
       "      <td>0.474505</td>\n",
       "      <td>0.77383</td>\n",
       "      <td>236.177253</td>\n",
       "      <td>0.347631</td>\n",
       "      <td>0.003665</td>\n",
       "      <td>0.08564</td>\n",
       "      <td>0.302614</td>\n",
       "      <td>0.055744</td>\n",
       "      <td>0.094145</td>\n",
       "    </tr>\n",
       "  </tbody>\n",
       "</table>\n",
       "</div>"
      ],
      "text/plain": [
       "                                      silhouette_score  davies_bouldin_score  \\\n",
       "GaussianMixture with covariance_type          0.474505               0.77383   \n",
       "\n",
       "                                      calinski_harabasz_score  \\\n",
       "GaussianMixture with covariance_type               236.177253   \n",
       "\n",
       "                                      fowlkes_mallows_score  \\\n",
       "GaussianMixture with covariance_type               0.347631   \n",
       "\n",
       "                                      adjusted_rand_score  \\\n",
       "GaussianMixture with covariance_type             0.003665   \n",
       "\n",
       "                                      adjusted_mutual_info_score  \\\n",
       "GaussianMixture with covariance_type                     0.08564   \n",
       "\n",
       "                                      homogeneity_score  completeness_score  \\\n",
       "GaussianMixture with covariance_type           0.302614            0.055744   \n",
       "\n",
       "                                      v_measure_score  \n",
       "GaussianMixture with covariance_type         0.094145  "
      ]
     },
     "execution_count": 126,
     "metadata": {},
     "output_type": "execute_result"
    }
   ],
   "source": [
    "gmm_df2 = pd.DataFrame(estimator_evaluation2(gmm2, 'GaussianMixture ', X , y), index=[\"GaussianMixture with covariance_type\"])\n",
    "gmm_df2"
   ]
  },
  {
   "cell_type": "markdown",
   "metadata": {},
   "source": [
    "#### GMM with n_components and max_iter using Grid Search \n",
    "\n",
    "max_iter refers to the number of EM iterations to perform.\n",
    "\n",
    "As Gaussian Mixture models takes quite much time to run as compare to K-Means model because GMM takes long time to converge.\n",
    "That is why we need to consider the amount of data and the features that needs to be given to GMM. When experimenting with the Bayesian Gaussian Mixture class, it often gives an errors of convergence that couldn’t be reached, in that case we need to increase the max_iter parameter.\n",
    "\n",
    "We would be using the best max_iter for our problem analysis using Grid Search Hyper-paramter technique."
   ]
  },
  {
   "cell_type": "code",
   "execution_count": 127,
   "metadata": {},
   "outputs": [
    {
     "name": "stdout",
     "output_type": "stream",
     "text": [
      "{'max_iter': 200, 'n_components': 6}\n"
     ]
    },
    {
     "data": {
      "text/html": [
       "<div>\n",
       "<style scoped>\n",
       "    .dataframe tbody tr th:only-of-type {\n",
       "        vertical-align: middle;\n",
       "    }\n",
       "\n",
       "    .dataframe tbody tr th {\n",
       "        vertical-align: top;\n",
       "    }\n",
       "\n",
       "    .dataframe thead th {\n",
       "        text-align: right;\n",
       "    }\n",
       "</style>\n",
       "<table border=\"1\" class=\"dataframe\">\n",
       "  <thead>\n",
       "    <tr style=\"text-align: right;\">\n",
       "      <th></th>\n",
       "      <th>Cluster</th>\n",
       "    </tr>\n",
       "  </thead>\n",
       "  <tbody>\n",
       "    <tr>\n",
       "      <th>0</th>\n",
       "      <td>81</td>\n",
       "    </tr>\n",
       "    <tr>\n",
       "      <th>5</th>\n",
       "      <td>62</td>\n",
       "    </tr>\n",
       "    <tr>\n",
       "      <th>1</th>\n",
       "      <td>49</td>\n",
       "    </tr>\n",
       "    <tr>\n",
       "      <th>2</th>\n",
       "      <td>47</td>\n",
       "    </tr>\n",
       "    <tr>\n",
       "      <th>3</th>\n",
       "      <td>38</td>\n",
       "    </tr>\n",
       "    <tr>\n",
       "      <th>4</th>\n",
       "      <td>23</td>\n",
       "    </tr>\n",
       "  </tbody>\n",
       "</table>\n",
       "</div>"
      ],
      "text/plain": [
       "   Cluster\n",
       "0       81\n",
       "5       62\n",
       "1       49\n",
       "2       47\n",
       "3       38\n",
       "4       23"
      ]
     },
     "execution_count": 127,
     "metadata": {},
     "output_type": "execute_result"
    }
   ],
   "source": [
    "gmm_grid = {\n",
    "        \"max_iter\": [50, 100, 150, 200, 250, 300],\n",
    "        \"n_components\": range(2, 10)\n",
    "       }\n",
    "gmm_grid\n",
    "gmm_model3 = GaussianMixture()\n",
    "gmm_params3 = GridSearchCV(gmm_model3,gmm_grid,scoring=silhouette_score3,cv= 10).fit(X, y)\n",
    "print(gmm_params3.best_params_)\n",
    "gmm3 = GaussianMixture(max_iter = gmm_params3.best_params_['max_iter'],\n",
    "                      n_components = gmm_params3.best_params_['n_components'])\n",
    "\n",
    "gmm3.fit(X)\n",
    "gmm3_labels = gmm3.fit_predict(X)\n",
    "gmm3_dataset = pd.DataFrame(X.copy())\n",
    "gmm3_dataset.loc[:,'Cluster'] = gmm3_labels\n",
    "gmm3_dataset.Cluster.value_counts().to_frame()"
   ]
  },
  {
   "cell_type": "code",
   "execution_count": 128,
   "metadata": {},
   "outputs": [
    {
     "data": {
      "text/html": [
       "<div>\n",
       "<style scoped>\n",
       "    .dataframe tbody tr th:only-of-type {\n",
       "        vertical-align: middle;\n",
       "    }\n",
       "\n",
       "    .dataframe tbody tr th {\n",
       "        vertical-align: top;\n",
       "    }\n",
       "\n",
       "    .dataframe thead th {\n",
       "        text-align: right;\n",
       "    }\n",
       "</style>\n",
       "<table border=\"1\" class=\"dataframe\">\n",
       "  <thead>\n",
       "    <tr style=\"text-align: right;\">\n",
       "      <th></th>\n",
       "      <th>silhouette_score</th>\n",
       "      <th>davies_bouldin_score</th>\n",
       "      <th>calinski_harabasz_score</th>\n",
       "      <th>fowlkes_mallows_score</th>\n",
       "      <th>adjusted_rand_score</th>\n",
       "      <th>adjusted_mutual_info_score</th>\n",
       "      <th>homogeneity_score</th>\n",
       "      <th>completeness_score</th>\n",
       "      <th>v_measure_score</th>\n",
       "    </tr>\n",
       "  </thead>\n",
       "  <tbody>\n",
       "    <tr>\n",
       "      <th>GaussianMixture with max_iter</th>\n",
       "      <td>0.389842</td>\n",
       "      <td>1.04981</td>\n",
       "      <td>182.864487</td>\n",
       "      <td>0.396616</td>\n",
       "      <td>0.031332</td>\n",
       "      <td>0.131162</td>\n",
       "      <td>0.416842</td>\n",
       "      <td>0.082876</td>\n",
       "      <td>0.138262</td>\n",
       "    </tr>\n",
       "  </tbody>\n",
       "</table>\n",
       "</div>"
      ],
      "text/plain": [
       "                               silhouette_score  davies_bouldin_score  \\\n",
       "GaussianMixture with max_iter          0.389842               1.04981   \n",
       "\n",
       "                               calinski_harabasz_score  fowlkes_mallows_score  \\\n",
       "GaussianMixture with max_iter               182.864487               0.396616   \n",
       "\n",
       "                               adjusted_rand_score  \\\n",
       "GaussianMixture with max_iter             0.031332   \n",
       "\n",
       "                               adjusted_mutual_info_score  homogeneity_score  \\\n",
       "GaussianMixture with max_iter                    0.131162           0.416842   \n",
       "\n",
       "                               completeness_score  v_measure_score  \n",
       "GaussianMixture with max_iter            0.082876         0.138262  "
      ]
     },
     "execution_count": 128,
     "metadata": {},
     "output_type": "execute_result"
    }
   ],
   "source": [
    "gmm_df3 = pd.DataFrame(estimator_evaluation2(gmm3, 'GaussianMixture ', X , y), index=[\"GaussianMixture with max_iter\"])\n",
    "gmm_df3"
   ]
  },
  {
   "cell_type": "markdown",
   "metadata": {},
   "source": [
    "#### GMM with n_components and init_params using Grid Search \n",
    "\n",
    "init_params refers to Initialization methods that helps to generate the initial centers for the model components. The innitial method for GMM are:\n",
    "\n",
    "- k-means (default) :This refers to k-means clustering algorithm and can be computationally expensive compared to other initialization methods.\n",
    "\n",
    "- k-means++ : This initialization method of k-means clustering picks the first center at random from the data, then the centers will be chosen from a weighted distribution of the data that favours points that are further away from the existing centers.\n",
    "\n",
    "- random_from_data : This picks random data points from the input data as the initial centers, and it's fastest method of initialization but can result in producing non-convergent results if the selected points are way too close to each other.\n",
    "\n",
    "- random : This chooses center randomly but away from the mean of all data, but as simple as it is, it can lead to the model taking longer to converge.\n",
    "\n",
    "We would be using the best init_params for our problem analysis using Grid Search Hyper-paramter technique"
   ]
  },
  {
   "cell_type": "code",
   "execution_count": 129,
   "metadata": {},
   "outputs": [
    {
     "name": "stdout",
     "output_type": "stream",
     "text": [
      "{'init_params': 'kmeans', 'n_components': 9}\n"
     ]
    },
    {
     "data": {
      "text/html": [
       "<div>\n",
       "<style scoped>\n",
       "    .dataframe tbody tr th:only-of-type {\n",
       "        vertical-align: middle;\n",
       "    }\n",
       "\n",
       "    .dataframe tbody tr th {\n",
       "        vertical-align: top;\n",
       "    }\n",
       "\n",
       "    .dataframe thead th {\n",
       "        text-align: right;\n",
       "    }\n",
       "</style>\n",
       "<table border=\"1\" class=\"dataframe\">\n",
       "  <thead>\n",
       "    <tr style=\"text-align: right;\">\n",
       "      <th></th>\n",
       "      <th>Cluster</th>\n",
       "    </tr>\n",
       "  </thead>\n",
       "  <tbody>\n",
       "    <tr>\n",
       "      <th>1</th>\n",
       "      <td>56</td>\n",
       "    </tr>\n",
       "    <tr>\n",
       "      <th>0</th>\n",
       "      <td>55</td>\n",
       "    </tr>\n",
       "    <tr>\n",
       "      <th>6</th>\n",
       "      <td>53</td>\n",
       "    </tr>\n",
       "    <tr>\n",
       "      <th>2</th>\n",
       "      <td>48</td>\n",
       "    </tr>\n",
       "    <tr>\n",
       "      <th>4</th>\n",
       "      <td>32</td>\n",
       "    </tr>\n",
       "    <tr>\n",
       "      <th>7</th>\n",
       "      <td>20</td>\n",
       "    </tr>\n",
       "    <tr>\n",
       "      <th>3</th>\n",
       "      <td>14</td>\n",
       "    </tr>\n",
       "    <tr>\n",
       "      <th>8</th>\n",
       "      <td>12</td>\n",
       "    </tr>\n",
       "    <tr>\n",
       "      <th>5</th>\n",
       "      <td>10</td>\n",
       "    </tr>\n",
       "  </tbody>\n",
       "</table>\n",
       "</div>"
      ],
      "text/plain": [
       "   Cluster\n",
       "1       56\n",
       "0       55\n",
       "6       53\n",
       "2       48\n",
       "4       32\n",
       "7       20\n",
       "3       14\n",
       "8       12\n",
       "5       10"
      ]
     },
     "execution_count": 129,
     "metadata": {},
     "output_type": "execute_result"
    }
   ],
   "source": [
    "gmm_grid = {\n",
    "        \"init_params\": ['kmeans', 'k-means++', 'random', 'random_from_data'],\n",
    "        \"n_components\": range(2, 10)\n",
    "       }\n",
    "gmm_grid\n",
    "gmm_model4 = GaussianMixture()\n",
    "gmm_params4 = GridSearchCV(gmm_model4,gmm_grid,scoring=silhouette_score3,cv= 10).fit(X, y)\n",
    "print(gmm_params4.best_params_)\n",
    "gmm4 = GaussianMixture(init_params = gmm_params4.best_params_['init_params'],\n",
    "                      n_components = gmm_params4.best_params_['n_components'])\n",
    "\n",
    "gmm4.fit(X)\n",
    "gmm4_labels = gmm4.fit_predict(X)\n",
    "gmm4_dataset = pd.DataFrame(X.copy())\n",
    "gmm4_dataset.loc[:,'Cluster'] = gmm4_labels\n",
    "gmm4_dataset.Cluster.value_counts().to_frame()"
   ]
  },
  {
   "cell_type": "code",
   "execution_count": 130,
   "metadata": {},
   "outputs": [
    {
     "data": {
      "text/html": [
       "<div>\n",
       "<style scoped>\n",
       "    .dataframe tbody tr th:only-of-type {\n",
       "        vertical-align: middle;\n",
       "    }\n",
       "\n",
       "    .dataframe tbody tr th {\n",
       "        vertical-align: top;\n",
       "    }\n",
       "\n",
       "    .dataframe thead th {\n",
       "        text-align: right;\n",
       "    }\n",
       "</style>\n",
       "<table border=\"1\" class=\"dataframe\">\n",
       "  <thead>\n",
       "    <tr style=\"text-align: right;\">\n",
       "      <th></th>\n",
       "      <th>silhouette_score</th>\n",
       "      <th>davies_bouldin_score</th>\n",
       "      <th>calinski_harabasz_score</th>\n",
       "      <th>fowlkes_mallows_score</th>\n",
       "      <th>adjusted_rand_score</th>\n",
       "      <th>adjusted_mutual_info_score</th>\n",
       "      <th>homogeneity_score</th>\n",
       "      <th>completeness_score</th>\n",
       "      <th>v_measure_score</th>\n",
       "    </tr>\n",
       "  </thead>\n",
       "  <tbody>\n",
       "    <tr>\n",
       "      <th>GaussianMixture with init_params</th>\n",
       "      <td>0.520798</td>\n",
       "      <td>0.672548</td>\n",
       "      <td>343.689167</td>\n",
       "      <td>0.330352</td>\n",
       "      <td>0.019314</td>\n",
       "      <td>0.080221</td>\n",
       "      <td>0.321426</td>\n",
       "      <td>0.052904</td>\n",
       "      <td>0.090855</td>\n",
       "    </tr>\n",
       "  </tbody>\n",
       "</table>\n",
       "</div>"
      ],
      "text/plain": [
       "                                  silhouette_score  davies_bouldin_score  \\\n",
       "GaussianMixture with init_params          0.520798              0.672548   \n",
       "\n",
       "                                  calinski_harabasz_score  \\\n",
       "GaussianMixture with init_params               343.689167   \n",
       "\n",
       "                                  fowlkes_mallows_score  adjusted_rand_score  \\\n",
       "GaussianMixture with init_params               0.330352             0.019314   \n",
       "\n",
       "                                  adjusted_mutual_info_score  \\\n",
       "GaussianMixture with init_params                    0.080221   \n",
       "\n",
       "                                  homogeneity_score  completeness_score  \\\n",
       "GaussianMixture with init_params           0.321426            0.052904   \n",
       "\n",
       "                                  v_measure_score  \n",
       "GaussianMixture with init_params         0.090855  "
      ]
     },
     "execution_count": 130,
     "metadata": {},
     "output_type": "execute_result"
    }
   ],
   "source": [
    "gmm_df4 = pd.DataFrame(estimator_evaluation2(gmm4, 'GaussianMixture ', X , y), index=[\"GaussianMixture with init_params\"])\n",
    "gmm_df4"
   ]
  },
  {
   "cell_type": "markdown",
   "metadata": {},
   "source": [
    "#### GMM with n_components and n_init using Grid Search \n",
    "\n",
    "n_init refers to the number of initializations to be performed in GMM.\n",
    "\n",
    "We would be using the best n_init for our problem analysis using Grid Search Hyper-paramter technique"
   ]
  },
  {
   "cell_type": "code",
   "execution_count": 131,
   "metadata": {},
   "outputs": [
    {
     "name": "stdout",
     "output_type": "stream",
     "text": [
      "{'n_components': 9, 'n_init': 3}\n"
     ]
    },
    {
     "data": {
      "text/html": [
       "<div>\n",
       "<style scoped>\n",
       "    .dataframe tbody tr th:only-of-type {\n",
       "        vertical-align: middle;\n",
       "    }\n",
       "\n",
       "    .dataframe tbody tr th {\n",
       "        vertical-align: top;\n",
       "    }\n",
       "\n",
       "    .dataframe thead th {\n",
       "        text-align: right;\n",
       "    }\n",
       "</style>\n",
       "<table border=\"1\" class=\"dataframe\">\n",
       "  <thead>\n",
       "    <tr style=\"text-align: right;\">\n",
       "      <th></th>\n",
       "      <th>Cluster</th>\n",
       "    </tr>\n",
       "  </thead>\n",
       "  <tbody>\n",
       "    <tr>\n",
       "      <th>0</th>\n",
       "      <td>53</td>\n",
       "    </tr>\n",
       "    <tr>\n",
       "      <th>1</th>\n",
       "      <td>49</td>\n",
       "    </tr>\n",
       "    <tr>\n",
       "      <th>5</th>\n",
       "      <td>48</td>\n",
       "    </tr>\n",
       "    <tr>\n",
       "      <th>6</th>\n",
       "      <td>38</td>\n",
       "    </tr>\n",
       "    <tr>\n",
       "      <th>3</th>\n",
       "      <td>33</td>\n",
       "    </tr>\n",
       "    <tr>\n",
       "      <th>7</th>\n",
       "      <td>29</td>\n",
       "    </tr>\n",
       "    <tr>\n",
       "      <th>4</th>\n",
       "      <td>28</td>\n",
       "    </tr>\n",
       "    <tr>\n",
       "      <th>8</th>\n",
       "      <td>14</td>\n",
       "    </tr>\n",
       "    <tr>\n",
       "      <th>2</th>\n",
       "      <td>8</td>\n",
       "    </tr>\n",
       "  </tbody>\n",
       "</table>\n",
       "</div>"
      ],
      "text/plain": [
       "   Cluster\n",
       "0       53\n",
       "1       49\n",
       "5       48\n",
       "6       38\n",
       "3       33\n",
       "7       29\n",
       "4       28\n",
       "8       14\n",
       "2        8"
      ]
     },
     "execution_count": 131,
     "metadata": {},
     "output_type": "execute_result"
    }
   ],
   "source": [
    "gmm_grid = {\n",
    "        \"n_init\": range(1, 6),\n",
    "        \"n_components\": range(2, 10)\n",
    "       }\n",
    "gmm_grid\n",
    "gmm_model5 = GaussianMixture()\n",
    "gmm_params5 = GridSearchCV(gmm_model5,gmm_grid,scoring=silhouette_score3,cv= 10).fit(X, y)\n",
    "print(gmm_params5.best_params_)\n",
    "gmm5 = GaussianMixture(n_init = gmm_params5.best_params_['n_init'],\n",
    "                      n_components = gmm_params5.best_params_['n_components'])\n",
    "\n",
    "gmm5.fit(X)\n",
    "gmm5_labels = gmm5.fit_predict(X)\n",
    "gmm5_dataset = pd.DataFrame(X.copy())\n",
    "gmm5_dataset.loc[:,'Cluster'] = gmm5_labels\n",
    "gmm5_dataset.Cluster.value_counts().to_frame()"
   ]
  },
  {
   "cell_type": "code",
   "execution_count": 132,
   "metadata": {},
   "outputs": [
    {
     "data": {
      "text/html": [
       "<div>\n",
       "<style scoped>\n",
       "    .dataframe tbody tr th:only-of-type {\n",
       "        vertical-align: middle;\n",
       "    }\n",
       "\n",
       "    .dataframe tbody tr th {\n",
       "        vertical-align: top;\n",
       "    }\n",
       "\n",
       "    .dataframe thead th {\n",
       "        text-align: right;\n",
       "    }\n",
       "</style>\n",
       "<table border=\"1\" class=\"dataframe\">\n",
       "  <thead>\n",
       "    <tr style=\"text-align: right;\">\n",
       "      <th></th>\n",
       "      <th>silhouette_score</th>\n",
       "      <th>davies_bouldin_score</th>\n",
       "      <th>calinski_harabasz_score</th>\n",
       "      <th>fowlkes_mallows_score</th>\n",
       "      <th>adjusted_rand_score</th>\n",
       "      <th>adjusted_mutual_info_score</th>\n",
       "      <th>homogeneity_score</th>\n",
       "      <th>completeness_score</th>\n",
       "      <th>v_measure_score</th>\n",
       "    </tr>\n",
       "  </thead>\n",
       "  <tbody>\n",
       "    <tr>\n",
       "      <th>GaussianMixture with n_init</th>\n",
       "      <td>0.410171</td>\n",
       "      <td>0.77032</td>\n",
       "      <td>210.522723</td>\n",
       "      <td>0.337619</td>\n",
       "      <td>0.012432</td>\n",
       "      <td>0.092763</td>\n",
       "      <td>0.357639</td>\n",
       "      <td>0.060547</td>\n",
       "      <td>0.103562</td>\n",
       "    </tr>\n",
       "  </tbody>\n",
       "</table>\n",
       "</div>"
      ],
      "text/plain": [
       "                             silhouette_score  davies_bouldin_score  \\\n",
       "GaussianMixture with n_init          0.410171               0.77032   \n",
       "\n",
       "                             calinski_harabasz_score  fowlkes_mallows_score  \\\n",
       "GaussianMixture with n_init               210.522723               0.337619   \n",
       "\n",
       "                             adjusted_rand_score  adjusted_mutual_info_score  \\\n",
       "GaussianMixture with n_init             0.012432                    0.092763   \n",
       "\n",
       "                             homogeneity_score  completeness_score  \\\n",
       "GaussianMixture with n_init           0.357639            0.060547   \n",
       "\n",
       "                             v_measure_score  \n",
       "GaussianMixture with n_init         0.103562  "
      ]
     },
     "execution_count": 132,
     "metadata": {},
     "output_type": "execute_result"
    }
   ],
   "source": [
    "gmm_df5 = pd.DataFrame(estimator_evaluation2(gmm5, 'GaussianMixture ', X , y), index=[\"GaussianMixture with n_init\"])\n",
    "gmm_df5"
   ]
  },
  {
   "cell_type": "code",
   "execution_count": 133,
   "metadata": {},
   "outputs": [
    {
     "data": {
      "text/html": [
       "<div>\n",
       "<style scoped>\n",
       "    .dataframe tbody tr th:only-of-type {\n",
       "        vertical-align: middle;\n",
       "    }\n",
       "\n",
       "    .dataframe tbody tr th {\n",
       "        vertical-align: top;\n",
       "    }\n",
       "\n",
       "    .dataframe thead th {\n",
       "        text-align: right;\n",
       "    }\n",
       "</style>\n",
       "<table border=\"1\" class=\"dataframe\">\n",
       "  <thead>\n",
       "    <tr style=\"text-align: right;\">\n",
       "      <th></th>\n",
       "      <th>silhouette_score</th>\n",
       "      <th>davies_bouldin_score</th>\n",
       "      <th>calinski_harabasz_score</th>\n",
       "      <th>fowlkes_mallows_score</th>\n",
       "      <th>adjusted_rand_score</th>\n",
       "      <th>adjusted_mutual_info_score</th>\n",
       "      <th>homogeneity_score</th>\n",
       "      <th>completeness_score</th>\n",
       "      <th>v_measure_score</th>\n",
       "    </tr>\n",
       "  </thead>\n",
       "  <tbody>\n",
       "    <tr>\n",
       "      <th>GaussianMixture with n_components only</th>\n",
       "      <td>0.406574</td>\n",
       "      <td>1.146124</td>\n",
       "      <td>203.324259</td>\n",
       "      <td>0.636826</td>\n",
       "      <td>0.006318</td>\n",
       "      <td>0.000128</td>\n",
       "      <td>0.004978</td>\n",
       "      <td>0.002559</td>\n",
       "      <td>0.003381</td>\n",
       "    </tr>\n",
       "    <tr>\n",
       "      <th>GaussianMixture with covariance_type</th>\n",
       "      <td>0.474505</td>\n",
       "      <td>0.773830</td>\n",
       "      <td>236.177253</td>\n",
       "      <td>0.347631</td>\n",
       "      <td>0.003665</td>\n",
       "      <td>0.085640</td>\n",
       "      <td>0.302614</td>\n",
       "      <td>0.055744</td>\n",
       "      <td>0.094145</td>\n",
       "    </tr>\n",
       "    <tr>\n",
       "      <th>GaussianMixture with max_iter</th>\n",
       "      <td>0.389842</td>\n",
       "      <td>1.049810</td>\n",
       "      <td>182.864487</td>\n",
       "      <td>0.396616</td>\n",
       "      <td>0.031332</td>\n",
       "      <td>0.131162</td>\n",
       "      <td>0.416842</td>\n",
       "      <td>0.082876</td>\n",
       "      <td>0.138262</td>\n",
       "    </tr>\n",
       "    <tr>\n",
       "      <th>GaussianMixture with init_params</th>\n",
       "      <td>0.520798</td>\n",
       "      <td>0.672548</td>\n",
       "      <td>343.689167</td>\n",
       "      <td>0.330352</td>\n",
       "      <td>0.019314</td>\n",
       "      <td>0.080221</td>\n",
       "      <td>0.321426</td>\n",
       "      <td>0.052904</td>\n",
       "      <td>0.090855</td>\n",
       "    </tr>\n",
       "    <tr>\n",
       "      <th>GaussianMixture with n_init</th>\n",
       "      <td>0.410171</td>\n",
       "      <td>0.770320</td>\n",
       "      <td>210.522723</td>\n",
       "      <td>0.337619</td>\n",
       "      <td>0.012432</td>\n",
       "      <td>0.092763</td>\n",
       "      <td>0.357639</td>\n",
       "      <td>0.060547</td>\n",
       "      <td>0.103562</td>\n",
       "    </tr>\n",
       "  </tbody>\n",
       "</table>\n",
       "</div>"
      ],
      "text/plain": [
       "                                        silhouette_score  \\\n",
       "GaussianMixture with n_components only          0.406574   \n",
       "GaussianMixture with covariance_type            0.474505   \n",
       "GaussianMixture with max_iter                   0.389842   \n",
       "GaussianMixture with init_params                0.520798   \n",
       "GaussianMixture with n_init                     0.410171   \n",
       "\n",
       "                                        davies_bouldin_score  \\\n",
       "GaussianMixture with n_components only              1.146124   \n",
       "GaussianMixture with covariance_type                0.773830   \n",
       "GaussianMixture with max_iter                       1.049810   \n",
       "GaussianMixture with init_params                    0.672548   \n",
       "GaussianMixture with n_init                         0.770320   \n",
       "\n",
       "                                        calinski_harabasz_score  \\\n",
       "GaussianMixture with n_components only               203.324259   \n",
       "GaussianMixture with covariance_type                 236.177253   \n",
       "GaussianMixture with max_iter                        182.864487   \n",
       "GaussianMixture with init_params                     343.689167   \n",
       "GaussianMixture with n_init                          210.522723   \n",
       "\n",
       "                                        fowlkes_mallows_score  \\\n",
       "GaussianMixture with n_components only               0.636826   \n",
       "GaussianMixture with covariance_type                 0.347631   \n",
       "GaussianMixture with max_iter                        0.396616   \n",
       "GaussianMixture with init_params                     0.330352   \n",
       "GaussianMixture with n_init                          0.337619   \n",
       "\n",
       "                                        adjusted_rand_score  \\\n",
       "GaussianMixture with n_components only             0.006318   \n",
       "GaussianMixture with covariance_type               0.003665   \n",
       "GaussianMixture with max_iter                      0.031332   \n",
       "GaussianMixture with init_params                   0.019314   \n",
       "GaussianMixture with n_init                        0.012432   \n",
       "\n",
       "                                        adjusted_mutual_info_score  \\\n",
       "GaussianMixture with n_components only                    0.000128   \n",
       "GaussianMixture with covariance_type                      0.085640   \n",
       "GaussianMixture with max_iter                             0.131162   \n",
       "GaussianMixture with init_params                          0.080221   \n",
       "GaussianMixture with n_init                               0.092763   \n",
       "\n",
       "                                        homogeneity_score  completeness_score  \\\n",
       "GaussianMixture with n_components only           0.004978            0.002559   \n",
       "GaussianMixture with covariance_type             0.302614            0.055744   \n",
       "GaussianMixture with max_iter                    0.416842            0.082876   \n",
       "GaussianMixture with init_params                 0.321426            0.052904   \n",
       "GaussianMixture with n_init                      0.357639            0.060547   \n",
       "\n",
       "                                        v_measure_score  \n",
       "GaussianMixture with n_components only         0.003381  \n",
       "GaussianMixture with covariance_type           0.094145  \n",
       "GaussianMixture with max_iter                  0.138262  \n",
       "GaussianMixture with init_params               0.090855  \n",
       "GaussianMixture with n_init                    0.103562  "
      ]
     },
     "execution_count": 133,
     "metadata": {},
     "output_type": "execute_result"
    }
   ],
   "source": [
    "gmm_result = gmm_df1.append([gmm_df2, gmm_df3,gmm_df4,gmm_df5])\n",
    "gmm_result"
   ]
  },
  {
   "cell_type": "markdown",
   "metadata": {},
   "source": [
    "### Part 1 Performance Analysis:\n",
    "\n",
    "From the above result set of all those 5 GMM model with it's different paramters, we can conclude that\n",
    "\n",
    "- Silhoutte Score of each model seems to be higher for the GaussianMixture with init_params as it has the highest score of 0.47, while GaussianMixture with max_iter has the lowest score of 0.24. Meaning with GaussianMixture with init_params kmeans, 52% data points are quite compact within the cluster to which it belongs and far away from the other clusters\n",
    "- Davies_bouldin_score seems to be good for each model but it is lowest for GaussianMixture with init_params keans, meaning the GMM has build the clusters that are farther apart and less dispersed on our dataset. \n",
    "- Calinski_harabasz_score is quite high for GaussianMixture with init_params as kmeans and n_components = 9 and all default values for other paramteres but similar for other models, means the clusters are dense and well separated.\n",
    "- V-measure of each models is way less for each model, meaning GMM has failed to cluster fail the cluster correctly labelled the data.\n",
    "- adjusted_rand_score is negative for all models, meaning that the clusterings that we are comparing have less in common.\n",
    " \n",
    "Since the higher the silhouette value, the more certain we can be that its label is correct, GaussianMixture with init_params as kmeans has performed way better as compared to other.\n",
    "\n",
    "## Part 2: Comparative Analysis of Gaussian Mixture Model with Bayesian Gaussian Mixture, Mini-Batch K-means, OPTICS, DBSCAN, Agglomerative, Spectral Clustering and Affinity Propagation\n",
    "\n",
    "### Gaussian Mixture Model\n",
    "\n",
    "A Gaussian mixture model (GMM) assists to find a mixture of multi-dimensional Gaussian probability distributions that best models dataset. In the simplest case, GMMs can be used for finding clusters in the same manner as k-means."
   ]
  },
  {
   "cell_type": "code",
   "execution_count": 134,
   "metadata": {},
   "outputs": [
    {
     "data": {
      "text/plain": [
       "{'covariance_type': ['full', 'tied', 'diag', 'spherical'],\n",
       " 'max_iter': [50, 100, 150, 200, 250, 300],\n",
       " 'init_params': ['kmeans', 'k-means++', 'random', 'random_from_data'],\n",
       " 'n_components': range(2, 15),\n",
       " 'n_init': range(1, 6)}"
      ]
     },
     "execution_count": 134,
     "metadata": {},
     "output_type": "execute_result"
    }
   ],
   "source": [
    "\n",
    "gmm_grid = {\n",
    "        \"covariance_type\": ['full', 'tied', 'diag', 'spherical'],\n",
    "        \"max_iter\": [50, 100, 150, 200, 250, 300],\n",
    "        \"init_params\": ['kmeans', 'k-means++', 'random', 'random_from_data'],\n",
    "        \"n_components\": range(2, 15),\n",
    "        \"n_init\": range(1, 6)\n",
    "       }\n",
    "gmm_grid"
   ]
  },
  {
   "cell_type": "code",
   "execution_count": 135,
   "metadata": {},
   "outputs": [],
   "source": [
    "gmm_model = GaussianMixture()\n",
    "gmm_params = GridSearchCV(gmm_model,gmm_grid,scoring=silhouette_score3,cv= 10).fit(X, y)"
   ]
  },
  {
   "cell_type": "code",
   "execution_count": 136,
   "metadata": {},
   "outputs": [
    {
     "data": {
      "text/plain": [
       "(0.6050067414344105,\n",
       " {'covariance_type': 'diag',\n",
       "  'init_params': 'kmeans',\n",
       "  'max_iter': 150,\n",
       "  'n_components': 7,\n",
       "  'n_init': 2})"
      ]
     },
     "execution_count": 136,
     "metadata": {},
     "output_type": "execute_result"
    }
   ],
   "source": [
    "gmm_params.best_score_, gmm_params.best_params_"
   ]
  },
  {
   "cell_type": "code",
   "execution_count": 137,
   "metadata": {},
   "outputs": [],
   "source": [
    "gmm = GaussianMixture(covariance_type = gmm_params.best_params_['covariance_type'],\n",
    "                      init_params = gmm_params.best_params_['init_params'],\n",
    "                      n_components = gmm_params.best_params_['n_components'],\n",
    "                      n_init = gmm_params.best_params_['n_init'],\n",
    "                      max_iter = gmm_params.best_params_['max_iter'])\n",
    "\n",
    "gmm.fit(X)\n",
    "gmm_labels = gmm.fit_predict(X)"
   ]
  },
  {
   "cell_type": "code",
   "execution_count": 138,
   "metadata": {},
   "outputs": [
    {
     "data": {
      "text/html": [
       "<div>\n",
       "<style scoped>\n",
       "    .dataframe tbody tr th:only-of-type {\n",
       "        vertical-align: middle;\n",
       "    }\n",
       "\n",
       "    .dataframe tbody tr th {\n",
       "        vertical-align: top;\n",
       "    }\n",
       "\n",
       "    .dataframe thead th {\n",
       "        text-align: right;\n",
       "    }\n",
       "</style>\n",
       "<table border=\"1\" class=\"dataframe\">\n",
       "  <thead>\n",
       "    <tr style=\"text-align: right;\">\n",
       "      <th></th>\n",
       "      <th>Cluster</th>\n",
       "    </tr>\n",
       "  </thead>\n",
       "  <tbody>\n",
       "    <tr>\n",
       "      <th>6</th>\n",
       "      <td>62</td>\n",
       "    </tr>\n",
       "    <tr>\n",
       "      <th>1</th>\n",
       "      <td>51</td>\n",
       "    </tr>\n",
       "    <tr>\n",
       "      <th>3</th>\n",
       "      <td>47</td>\n",
       "    </tr>\n",
       "    <tr>\n",
       "      <th>2</th>\n",
       "      <td>38</td>\n",
       "    </tr>\n",
       "    <tr>\n",
       "      <th>5</th>\n",
       "      <td>37</td>\n",
       "    </tr>\n",
       "    <tr>\n",
       "      <th>4</th>\n",
       "      <td>34</td>\n",
       "    </tr>\n",
       "    <tr>\n",
       "      <th>0</th>\n",
       "      <td>31</td>\n",
       "    </tr>\n",
       "  </tbody>\n",
       "</table>\n",
       "</div>"
      ],
      "text/plain": [
       "   Cluster\n",
       "6       62\n",
       "1       51\n",
       "3       47\n",
       "2       38\n",
       "5       37\n",
       "4       34\n",
       "0       31"
      ]
     },
     "execution_count": 138,
     "metadata": {},
     "output_type": "execute_result"
    }
   ],
   "source": [
    "gmm_dataset = pd.DataFrame(X.copy())\n",
    "gmm_dataset.loc[:,'Cluster'] = gmm_labels\n",
    "gmm_dataset.Cluster.value_counts().to_frame()"
   ]
  },
  {
   "cell_type": "code",
   "execution_count": 139,
   "metadata": {},
   "outputs": [
    {
     "data": {
      "text/html": [
       "<div>\n",
       "<style scoped>\n",
       "    .dataframe tbody tr th:only-of-type {\n",
       "        vertical-align: middle;\n",
       "    }\n",
       "\n",
       "    .dataframe tbody tr th {\n",
       "        vertical-align: top;\n",
       "    }\n",
       "\n",
       "    .dataframe thead th {\n",
       "        text-align: right;\n",
       "    }\n",
       "</style>\n",
       "<table border=\"1\" class=\"dataframe\">\n",
       "  <thead>\n",
       "    <tr style=\"text-align: right;\">\n",
       "      <th></th>\n",
       "      <th>silhouette_score</th>\n",
       "      <th>davies_bouldin_score</th>\n",
       "      <th>calinski_harabasz_score</th>\n",
       "      <th>fowlkes_mallows_score</th>\n",
       "      <th>adjusted_rand_score</th>\n",
       "      <th>adjusted_mutual_info_score</th>\n",
       "      <th>homogeneity_score</th>\n",
       "      <th>completeness_score</th>\n",
       "      <th>v_measure_score</th>\n",
       "    </tr>\n",
       "  </thead>\n",
       "  <tbody>\n",
       "    <tr>\n",
       "      <th>GaussianMixture</th>\n",
       "      <td>0.474505</td>\n",
       "      <td>0.77383</td>\n",
       "      <td>236.177253</td>\n",
       "      <td>0.347631</td>\n",
       "      <td>0.003665</td>\n",
       "      <td>0.08564</td>\n",
       "      <td>0.302614</td>\n",
       "      <td>0.055744</td>\n",
       "      <td>0.094145</td>\n",
       "    </tr>\n",
       "  </tbody>\n",
       "</table>\n",
       "</div>"
      ],
      "text/plain": [
       "                 silhouette_score  davies_bouldin_score  \\\n",
       "GaussianMixture          0.474505               0.77383   \n",
       "\n",
       "                 calinski_harabasz_score  fowlkes_mallows_score  \\\n",
       "GaussianMixture               236.177253               0.347631   \n",
       "\n",
       "                 adjusted_rand_score  adjusted_mutual_info_score  \\\n",
       "GaussianMixture             0.003665                     0.08564   \n",
       "\n",
       "                 homogeneity_score  completeness_score  v_measure_score  \n",
       "GaussianMixture           0.302614            0.055744         0.094145  "
      ]
     },
     "execution_count": 139,
     "metadata": {},
     "output_type": "execute_result"
    }
   ],
   "source": [
    "gmm_df = pd.DataFrame(estimator_evaluation2(gmm, 'GaussianMixture ', X , y), index=[\"GaussianMixture\"])\n",
    "gmm_df"
   ]
  },
  {
   "cell_type": "code",
   "execution_count": 140,
   "metadata": {},
   "outputs": [
    {
     "data": {
      "application/vnd.plotly.v1+json": {
       "config": {
        "plotlyServerURL": "https://plot.ly"
       },
       "data": [
        {
         "hovertemplate": "color=c<br>x=%{x}<br>y=%{y}<br>z=%{z}<extra></extra>",
         "legendgroup": "c",
         "marker": {
          "color": "#636efa",
          "symbol": "circle"
         },
         "mode": "markers",
         "name": "c",
         "scene": "scene",
         "showlegend": true,
         "type": "scatter3d",
         "x": [
          17.40237045288086,
          14.39577579498291,
          15.38451099395752,
          13.177729606628418,
          7.439241409301758,
          -1.8433257341384888,
          6.425163745880127,
          4.194344520568848,
          -5.612462997436523,
          -19.904253005981445,
          -5.189026355743408,
          -15.829290390014648,
          -6.17741060256958,
          -11.260408401489258,
          -17.67772102355957,
          15.5406494140625,
          -1.6118563413619995,
          -8.329499244689941,
          2.201108455657959,
          -5.064068794250488,
          5.753146648406982,
          -17.472084045410156,
          -17.557170867919922,
          -0.9460838437080383,
          1.5841567516326904,
          -12.672040939331055,
          -14.06580638885498,
          -12.675955772399902,
          -9.641383171081543,
          -14.194194793701172,
          -14.054717063903809,
          -10.777846336364746,
          -15.430628776550293,
          17.852622985839844,
          9.599215507507324,
          20.25457191467285,
          -16.018890380859375,
          2.4405007362365723,
          -18.533422470092773,
          0.24550144374370575,
          -7.471778392791748,
          15.969319343566895,
          19.150423049926758,
          -13.968545913696289,
          13.751791954040527,
          10.328709602355957,
          -22.331558227539062
         ],
         "y": [
          2.1805553436279297,
          -0.02426816336810589,
          -2.931109666824341,
          1.06160306930542,
          -6.634182453155518,
          -0.37708261609077454,
          -3.0256550312042236,
          1.4088451862335205,
          38.31166458129883,
          10.46668529510498,
          2.428084135055542,
          10.437952995300293,
          6.253733158111572,
          9.42351245880127,
          1.5659339427947998,
          -2.309506416320801,
          0.6727749705314636,
          3.791241407394409,
          -1.2923122644424438,
          3.693166971206665,
          -0.7650801539421082,
          6.015127658843994,
          4.560041904449463,
          1.4544463157653809,
          2.8574862480163574,
          5.92965030670166,
          8.452631950378418,
          9.447884559631348,
          8.153890609741211,
          11.64294719696045,
          7.6857428550720215,
          0.4807082414627075,
          3.383639335632324,
          0.5534946918487549,
          -3.759458541870117,
          2.528902292251587,
          0.716079592704773,
          -5.032461166381836,
          6.172702312469482,
          -2.4933648109436035,
          1.2601168155670166,
          3.8978521823883057,
          -1.5156986713409424,
          4.156565189361572,
          -5.239426136016846,
          -5.741513252258301,
          -1.067551851272583
         ],
         "z": [
          38.02151107788086,
          41.6252555847168,
          44.792110443115234,
          45.763370513916016,
          44.19050979614258,
          30.97712516784668,
          43.113529205322266,
          33.14552688598633,
          19.342636108398438,
          26.970003128051758,
          26.380971908569336,
          28.54170799255371,
          26.291173934936523,
          23.68633270263672,
          26.72191047668457,
          36.69450759887695,
          34.99090576171875,
          30.672847747802734,
          30.92350196838379,
          34.85063171386719,
          35.8699836730957,
          24.105695724487305,
          34.39253616333008,
          25.99445343017578,
          29.7903995513916,
          33.73703384399414,
          19.738452911376953,
          32.218971252441406,
          30.18525505065918,
          22.57773780822754,
          26.887407302856445,
          25.883928298950195,
          19.26290512084961,
          44.909358978271484,
          46.38301467895508,
          41.441490173339844,
          22.620288848876953,
          42.68761444091797,
          29.6712646484375,
          40.956092834472656,
          37.13343811035156,
          42.38666915893555,
          40.18057632446289,
          24.028345108032227,
          39.09793472290039,
          40.748741149902344,
          -22.058605194091797
         ]
        },
        {
         "hovertemplate": "color=k<br>x=%{x}<br>y=%{y}<br>z=%{z}<extra></extra>",
         "legendgroup": "k",
         "marker": {
          "color": "#EF553B",
          "symbol": "circle"
         },
         "mode": "markers",
         "name": "k",
         "scene": "scene",
         "showlegend": true,
         "type": "scatter3d",
         "x": [
          -34.95249557495117,
          16.95736312866211,
          14.153074264526367,
          8.1911039352417,
          27.9110164642334,
          1.0245862007141113,
          -38.856815338134766,
          -5.35081672668457,
          2.0214951038360596,
          -9.142897605895996,
          -1.5287832021713257,
          8.11518669128418,
          31.992219924926758,
          22.652727127075195,
          3.6502296924591064,
          25.83808708190918,
          -5.7040696144104,
          36.75535202026367,
          35.47801208496094,
          34.90699005126953,
          38.93307113647461,
          20.995758056640625,
          27.629295349121094,
          26.6292667388916,
          -11.112510681152344,
          -3.432901620864868,
          5.97203254699707,
          -2.7130565643310547,
          29.399555206298828,
          11.11121940612793,
          13.900035858154297,
          27.639081954956055,
          -37.99951934814453,
          -13.261693954467773,
          2.49586820602417,
          8.719182968139648,
          16.50499153137207,
          2.237609624862671,
          27.266202926635742,
          22.168550491333008,
          24.632619857788086,
          -16.210861206054688,
          23.106298446655273,
          -5.084029197692871,
          36.231178283691406,
          25.171428680419922,
          30.14589500427246,
          -2.9562182426452637,
          5.491290092468262,
          -6.413435935974121,
          1.9347591400146484,
          -35.42085647583008,
          -1.4289567470550537,
          5.840608596801758,
          12.28333854675293,
          -7.674513816833496,
          17.63219451904297,
          12.416407585144043,
          -38.14970397949219,
          -10.283763885498047,
          -13.778274536132812,
          3.263134479522705
         ],
         "y": [
          10.381976127624512,
          21.00311851501465,
          14.49815559387207,
          20.527240753173828,
          7.812664031982422,
          7.617918968200684,
          8.311875343322754,
          14.755144119262695,
          4.902204513549805,
          20.318647384643555,
          18.445240020751953,
          12.280591011047363,
          6.5768351554870605,
          -0.2854825556278229,
          15.523445129394531,
          14.890880584716797,
          12.046246528625488,
          5.282580375671387,
          8.89041519165039,
          11.013501167297363,
          9.12802505493164,
          10.034963607788086,
          14.693439483642578,
          5.40309476852417,
          10.865450859069824,
          8.402017593383789,
          6.208125591278076,
          4.895054340362549,
          3.451795816421509,
          19.14112091064453,
          23.24896240234375,
          11.267801284790039,
          12.553555488586426,
          20.552204132080078,
          12.076827049255371,
          15.569345474243164,
          21.435546875,
          12.435006141662598,
          -0.24967961013317108,
          10.838838577270508,
          0.5153822302818298,
          18.616907119750977,
          5.738873481750488,
          19.675243377685547,
          7.342235088348389,
          3.3571362495422363,
          -1.8087788820266724,
          15.829639434814453,
          17.340147018432617,
          9.322954177856445,
          7.247088432312012,
          13.443110466003418,
          13.015750885009766,
          6.831804275512695,
          18.938692092895508,
          9.87199878692627,
          11.23055362701416,
          10.849048614501953,
          10.523571968078613,
          37.238441467285156,
          16.666688919067383,
          9.50365924835205
         ],
         "z": [
          -20.104089736938477,
          -26.94830894470215,
          -29.812747955322266,
          -27.090164184570312,
          -28.17328643798828,
          -27.3331356048584,
          -18.71714973449707,
          -23.895877838134766,
          -30.61208152770996,
          -17.175050735473633,
          -22.324934005737305,
          -27.419757843017578,
          -29.893508911132812,
          -25.387487411499023,
          -18.722009658813477,
          -35.842315673828125,
          -21.255077362060547,
          -28.84619903564453,
          -26.76508903503418,
          -30.61663246154785,
          -29.55211639404297,
          -33.169803619384766,
          -32.542816162109375,
          -31.101661682128906,
          -27.787641525268555,
          -26.142698287963867,
          -28.408100128173828,
          -32.9076042175293,
          -27.819732666015625,
          -24.078506469726562,
          -28.226911544799805,
          -33.92619705200195,
          -20.368671417236328,
          -19.42892074584961,
          -25.966114044189453,
          -24.359554290771484,
          -30.879987716674805,
          -18.534666061401367,
          -25.588563919067383,
          -29.772186279296875,
          -28.963523864746094,
          -21.245893478393555,
          -28.689653396606445,
          -19.72140884399414,
          -32.632694244384766,
          -25.255538940429688,
          -29.33492088317871,
          -19.81689453125,
          -23.02619743347168,
          -28.662946701049805,
          -34.699241638183594,
          -17.35286521911621,
          -23.665727615356445,
          -32.475242614746094,
          -28.410245895385742,
          -24.89767837524414,
          -30.492101669311523,
          -29.910661697387695,
          -15.434901237487793,
          21.00980567932129,
          -19.315404891967773,
          -30.636449813842773
         ]
        },
        {
         "hovertemplate": "color=r<br>x=%{x}<br>y=%{y}<br>z=%{z}<extra></extra>",
         "legendgroup": "r",
         "marker": {
          "color": "#00cc96",
          "symbol": "circle"
         },
         "mode": "markers",
         "name": "r",
         "scene": "scene",
         "showlegend": true,
         "type": "scatter3d",
         "x": [
          -22.26615333557129,
          -18.511796951293945,
          -30.198331832885742,
          -12.595044136047363,
          -10.837039947509766,
          -17.93902587890625,
          -11.65208625793457,
          -17.927743911743164,
          -22.76555061340332,
          -24.180070877075195,
          -8.205550193786621,
          -24.10517120361328,
          -13.198129653930664,
          -17.292997360229492,
          -27.712080001831055,
          -25.791431427001953,
          -23.60627555847168,
          -12.825616836547852,
          -27.36945915222168,
          -5.2121782302856445,
          -14.478595733642578,
          -21.563018798828125,
          -8.427470207214355,
          -12.58573055267334,
          -13.492648124694824,
          -18.145999908447266,
          -5.853982448577881,
          -20.5760440826416,
          39.16162872314453,
          -19.683141708374023,
          -29.618053436279297,
          -9.673583984375,
          -12.87874984741211,
          -16.90315055847168,
          -95.07884979248047,
          -6.801237106323242,
          66.00922393798828,
          -16.218215942382812
         ],
         "y": [
          14.777994155883789,
          12.90184211730957,
          9.49976921081543,
          20.837627410888672,
          38.01121139526367,
          17.79210090637207,
          33.24184799194336,
          22.92858123779297,
          15.494136810302734,
          15.472935676574707,
          35.05421829223633,
          10.513910293579102,
          26.94558334350586,
          21.996509552001953,
          14.606267929077148,
          11.812275886535645,
          11.460813522338867,
          36.83259201049805,
          12.41815185546875,
          37.726890563964844,
          36.130435943603516,
          20.132051467895508,
          35.5049934387207,
          23.94967269897461,
          30.953569412231445,
          18.430204391479492,
          38.04789733886719,
          12.733748435974121,
          144.31004333496094,
          16.95899200439453,
          13.69171142578125,
          37.49162673950195,
          27.436800003051758,
          27.459657669067383,
          -68.99658203125,
          33.94950485229492,
          188.13931274414062,
          29.70420265197754
         ],
         "z": [
          -11.737732887268066,
          -3.258329153060913,
          -13.851712226867676,
          -14.702235221862793,
          15.899252891540527,
          -12.992399215698242,
          7.529501438140869,
          1.4349781274795532,
          -2.340580463409424,
          -7.41684627532959,
          4.427237510681152,
          -9.403495788574219,
          -2.262493848800659,
          -2.4582417011260986,
          -11.487054824829102,
          -14.035839080810547,
          -4.875601768493652,
          5.458895683288574,
          -7.206340789794922,
          11.66808032989502,
          9.354588508605957,
          -1.8590248823165894,
          17.212915420532227,
          -9.730098724365234,
          0.2550146281719208,
          -0.06442876160144806,
          6.562471389770508,
          -7.907847881317139,
          -141.65097045898438,
          -4.828845024108887,
          -16.114694595336914,
          8.636882781982422,
          2.57204008102417,
          -0.3869243562221527,
          343.54931640625,
          8.401371955871582,
          -115.43158721923828,
          3.292083978652954
         ]
        },
        {
         "hovertemplate": "color=b<br>x=%{x}<br>y=%{y}<br>z=%{z}<extra></extra>",
         "legendgroup": "b",
         "marker": {
          "color": "#ab63fa",
          "symbol": "circle"
         },
         "mode": "markers",
         "name": "b",
         "scene": "scene",
         "showlegend": true,
         "type": "scatter3d",
         "x": [
          -0.8461762070655823,
          8.470383644104004,
          -3.820178985595703,
          -0.015494339168071747,
          -3.6917941570281982,
          -3.383928060531616,
          -35.7957649230957,
          12.893206596374512,
          11.55665397644043,
          13.158421516418457,
          12.527109146118164,
          -6.373238563537598,
          6.0177130699157715,
          13.321462631225586,
          15.118959426879883,
          8.456172943115234,
          10.498370170593262,
          -10.353530883789062,
          9.175483703613281,
          -3.50053071975708,
          -13.836003303527832,
          13.858551025390625,
          5.9633965492248535,
          -9.334757804870605,
          12.052245140075684,
          -6.325495719909668,
          -0.382486492395401,
          -0.3402878940105438,
          -3.6471025943756104,
          82.5772705078125,
          9.645185470581055
         ],
         "y": [
          -22.712200164794922,
          -26.879323959350586,
          -38.148860931396484,
          -39.33528137207031,
          -38.55495071411133,
          -41.872615814208984,
          -72.57337188720703,
          -23.622575759887695,
          -25.44783592224121,
          -27.04463768005371,
          -22.437854766845703,
          -21.808542251586914,
          23.300241470336914,
          -27.912551879882812,
          -26.20076560974121,
          -22.93191909790039,
          -26.77174186706543,
          -19.367204666137695,
          -25.51715850830078,
          -19.70619010925293,
          -18.243253707885742,
          -22.92375946044922,
          -30.09836196899414,
          -18.288406372070312,
          -30.739046096801758,
          -17.69533920288086,
          -34.71968460083008,
          -34.33231735229492,
          -32.53916549682617,
          132.51084899902344,
          -21.832441329956055
         ],
         "z": [
          -23.399606704711914,
          -16.78980255126953,
          -21.808908462524414,
          -23.71176528930664,
          -26.32880210876465,
          -23.739091873168945,
          -110.51158142089844,
          -17.590486526489258,
          -30.288482666015625,
          -25.09761619567871,
          -21.800416946411133,
          -23.279760360717773,
          27.20572280883789,
          -16.376480102539062,
          -21.137542724609375,
          -19.39569091796875,
          -20.6837100982666,
          -23.99956512451172,
          -25.15511131286621,
          -21.201908111572266,
          -20.34979820251465,
          -27.562175750732422,
          -21.078237533569336,
          -20.236534118652344,
          -19.651023864746094,
          -23.959489822387695,
          -21.822677612304688,
          -25.478103637695312,
          -24.357561111450195,
          39.83149719238281,
          -28.329862594604492
         ]
        },
        {
         "hovertemplate": "color=m<br>x=%{x}<br>y=%{y}<br>z=%{z}<extra></extra>",
         "legendgroup": "m",
         "marker": {
          "color": "#FFA15A",
          "symbol": "circle"
         },
         "mode": "markers",
         "name": "m",
         "scene": "scene",
         "showlegend": true,
         "type": "scatter3d",
         "x": [
          -24.47899627685547,
          -30.43633460998535,
          -33.4791374206543,
          -45.385223388671875,
          -40.21927261352539,
          -19.257375717163086,
          -45.44035720825195,
          -49.95948028564453,
          -47.05438995361328,
          -49.10266876220703,
          -44.17485046386719,
          -20.9283447265625,
          -45.1926155090332,
          -42.26630783081055,
          -31.463336944580078,
          -29.064388275146484,
          -40.56393814086914,
          -42.41619110107422,
          -21.127273559570312,
          -25.656572341918945,
          -29.43516731262207,
          -41.406864166259766,
          -24.448366165161133,
          -35.578121185302734,
          -29.559114456176758,
          -16.922422409057617,
          -26.66097068786621,
          -28.124614715576172,
          -32.37826919555664,
          -21.279014587402344,
          -32.796531677246094,
          -45.182247161865234,
          -48.37276840209961,
          -37.82453155517578
         ],
         "y": [
          -19.315486907958984,
          -20.380043029785156,
          -18.36186981201172,
          -2.8473241329193115,
          -6.444214344024658,
          -19.295408248901367,
          5.587413311004639,
          1.6149719953536987,
          1.482399582862854,
          -2.309267044067383,
          -7.1071696281433105,
          -18.31352424621582,
          -4.784095764160156,
          -1.2618454694747925,
          -14.743664741516113,
          -15.876879692077637,
          -6.393285751342773,
          -3.1580615043640137,
          -16.21198081970215,
          -18.97449493408203,
          -18.415475845336914,
          -5.88620662689209,
          -15.668967247009277,
          -12.50452709197998,
          -11.782594680786133,
          -16.466733932495117,
          -14.09158706665039,
          -13.786702156066895,
          -10.05722713470459,
          -14.93259334564209,
          -13.286111831665039,
          -0.28822746872901917,
          -2.574636459350586,
          -8.803078651428223
         ],
         "z": [
          -14.58890438079834,
          -6.100000381469727,
          -3.7212588787078857,
          3.750378370285034,
          9.827190399169922,
          -14.918889999389648,
          7.8897013664245605,
          9.851764678955078,
          5.7183403968811035,
          7.240644454956055,
          12.825544357299805,
          -18.720130920410156,
          7.4409403800964355,
          6.288275718688965,
          1.030908226966858,
          -6.766310214996338,
          14.773147583007812,
          12.945891380310059,
          -12.285982131958008,
          -10.672301292419434,
          -2.3519492149353027,
          4.816202163696289,
          -7.3500590324401855,
          1.6105118989944458,
          -5.604270935058594,
          -17.552988052368164,
          -10.136578559875488,
          -2.1947152614593506,
          1.3466410636901855,
          -16.280475616455078,
          -2.8309919834136963,
          9.260798454284668,
          11.731269836425781,
          4.565455436706543
         ]
        },
        {
         "hovertemplate": "color=y<br>x=%{x}<br>y=%{y}<br>z=%{z}<extra></extra>",
         "legendgroup": "y",
         "marker": {
          "color": "#19d3f3",
          "symbol": "circle"
         },
         "mode": "markers",
         "name": "y",
         "scene": "scene",
         "showlegend": true,
         "type": "scatter3d",
         "x": [
          -6.592976093292236,
          -9.13136100769043,
          8.475407600402832,
          -9.10052490234375,
          2.724416494369507,
          4.163994312286377,
          7.262667655944824,
          -5.898705959320068,
          -2.006484270095825,
          -10.936866760253906,
          -12.969708442687988,
          -4.621405601501465,
          -4.823248386383057,
          -2.391397714614868,
          -1.6724547147750854,
          -3.718388319015503,
          0.26596909761428833,
          -1.1766235828399658,
          -4.6312103271484375,
          6.892556667327881,
          2.296064853668213,
          0.09692621976137161,
          1.4449403285980225,
          1.9500980377197266,
          -6.819375514984131,
          40.17435836791992,
          4.313406467437744,
          8.271520614624023,
          0.7674399018287659,
          1.459019660949707,
          3.6657114028930664,
          13.985139846801758,
          -6.587285995483398,
          -2.410790205001831,
          -2.80682110786438,
          -0.1012977808713913,
          -1.3097898960113525
         ],
         "y": [
          -28.53956413269043,
          -42.06515884399414,
          -18.751527786254883,
          -27.105562210083008,
          -10.920543670654297,
          -10.857890129089355,
          -7.52083158493042,
          -44.97804641723633,
          -40.0814094543457,
          -37.27485656738281,
          -38.64548873901367,
          -43.59221649169922,
          -36.82533264160156,
          -25.953718185424805,
          -44.63372039794922,
          -40.82530212402344,
          -35.87046813964844,
          -15.797425270080566,
          -28.21195411682129,
          -19.800277709960938,
          -45.82172775268555,
          -47.935062408447266,
          -43.571598052978516,
          -41.43333435058594,
          -40.915863037109375,
          -11.161576271057129,
          -17.325857162475586,
          -15.104461669921875,
          -13.95847225189209,
          -19.4439754486084,
          -16.834300994873047,
          -13.24206256866455,
          -24.51935386657715,
          -44.15302276611328,
          -34.19297409057617,
          -30.691802978515625,
          -29.46609115600586
         ],
         "z": [
          12.063955307006836,
          2.491046905517578,
          5.341829299926758,
          8.354939460754395,
          7.3207879066467285,
          10.840470314025879,
          7.103343486785889,
          8.411053657531738,
          6.072450637817383,
          1.334521770477295,
          3.736048460006714,
          3.9941630363464355,
          7.137622356414795,
          11.960277557373047,
          7.460132598876953,
          10.018786430358887,
          12.71980094909668,
          6.453869819641113,
          8.638372421264648,
          9.16991138458252,
          11.354028701782227,
          14.864336967468262,
          14.95612621307373,
          11.285489082336426,
          6.76946496963501,
          -30.265213012695312,
          11.866535186767578,
          8.649113655090332,
          10.409232139587402,
          10.17002010345459,
          7.414159297943115,
          5.203310012817383,
          10.088985443115234,
          12.239441871643066,
          13.05981731414795,
          11.772510528564453,
          15.074339866638184
         ]
        },
        {
         "hovertemplate": "color=g<br>x=%{x}<br>y=%{y}<br>z=%{z}<extra></extra>",
         "legendgroup": "g",
         "marker": {
          "color": "#FF6692",
          "symbol": "circle"
         },
         "mode": "markers",
         "name": "g",
         "scene": "scene",
         "showlegend": true,
         "type": "scatter3d",
         "x": [
          31.653709411621094,
          30.014556884765625,
          32.750511169433594,
          12.878828048706055,
          24.08673667907715,
          24.352977752685547,
          9.828669548034668,
          22.979623794555664,
          20.304920196533203,
          30.919967651367188,
          31.59091567993164,
          18.23295783996582,
          27.353261947631836,
          19.23225212097168,
          19.4111328125,
          28.266590118408203,
          18.95317840576172,
          19.091175079345703,
          10.776934623718262,
          27.670480728149414,
          20.582603454589844,
          28.68429946899414,
          24.0488338470459,
          25.20955467224121,
          27.32952117919922,
          23.808425903320312,
          13.14620590209961,
          22.01544952392578,
          15.542435646057129,
          16.21710968017578,
          19.026309967041016,
          19.471405029296875,
          14.997465133666992,
          28.554676055908203,
          31.112106323242188,
          28.88642120361328,
          26.020788192749023,
          17.96296501159668,
          18.034788131713867,
          16.009912490844727,
          23.18646812438965,
          21.6085205078125,
          14.191764831542969,
          14.583464622497559,
          19.938005447387695,
          25.418689727783203,
          28.96420669555664,
          30.068574905395508,
          33.02740478515625,
          27.068843841552734,
          32.04303741455078
         ],
         "y": [
          9.617855072021484,
          14.275409698486328,
          13.829357147216797,
          25.21778106689453,
          -7.500937461853027,
          15.743884086608887,
          -5.270932674407959,
          20.06836700439453,
          22.08230972290039,
          29.489423751831055,
          25.761402130126953,
          25.74327850341797,
          12.410948753356934,
          18.516319274902344,
          20.564651489257812,
          16.95103645324707,
          26.951623916625977,
          30.61806297302246,
          22.75217628479004,
          16.57017707824707,
          -5.763251781463623,
          -0.1123834028840065,
          -2.3972582817077637,
          -0.4990825653076172,
          22.30767822265625,
          30.433717727661133,
          26.021535873413086,
          27.264413833618164,
          21.870227813720703,
          -3.972778558731079,
          -3.897235155105591,
          -0.9820008277893066,
          23.976886749267578,
          28.278894424438477,
          2.3661229610443115,
          5.100497722625732,
          19.694766998291016,
          27.785400390625,
          26.427968978881836,
          -1.023819088935852,
          27.56737518310547,
          31.34465980529785,
          -5.501844882965088,
          -8.216737747192383,
          -9.02903938293457,
          2.0409555435180664,
          9.264280319213867,
          4.8280134201049805,
          8.94536304473877,
          25.911041259765625,
          5.2801313400268555
         ],
         "z": [
          0.08652003854513168,
          1.475113868713379,
          3.972632884979248,
          6.903897285461426,
          3.2391600608825684,
          10.509483337402344,
          5.256505012512207,
          13.0692777633667,
          11.168233871459961,
          -0.46679842472076416,
          -1.6200746297836304,
          18.176084518432617,
          12.199758529663086,
          12.485450744628906,
          17.30057144165039,
          7.671281337738037,
          3.714146852493286,
          5.875340938568115,
          10.349599838256836,
          12.802528381347656,
          5.794394493103027,
          2.758323907852173,
          1.5799709558486938,
          5.091037273406982,
          4.705582141876221,
          4.425485134124756,
          10.993623733520508,
          6.797909736633301,
          9.452261924743652,
          5.379765033721924,
          1.1689366102218628,
          4.42990255355835,
          14.525402069091797,
          -3.0803329944610596,
          7.614202976226807,
          8.096148490905762,
          9.578890800476074,
          12.387887001037598,
          7.68466854095459,
          1.9764022827148438,
          0.974686861038208,
          0.8819113373756409,
          1.5519707202911377,
          5.004955291748047,
          3.246408224105835,
          1.6095943450927734,
          3.170942783355713,
          2.049130916595459,
          3.8170907497406006,
          3.2426187992095947,
          10.690932273864746
         ]
        }
       ],
       "layout": {
        "legend": {
         "title": {
          "text": "color"
         },
         "tracegroupgap": 0
        },
        "margin": {
         "t": 60
        },
        "scene": {
         "domain": {
          "x": [
           0,
           1
          ],
          "y": [
           0,
           1
          ]
         },
         "xaxis": {
          "title": {
           "text": "x"
          }
         },
         "yaxis": {
          "title": {
           "text": "y"
          }
         },
         "zaxis": {
          "title": {
           "text": "z"
          }
         }
        },
        "template": {
         "data": {
          "bar": [
           {
            "error_x": {
             "color": "#2a3f5f"
            },
            "error_y": {
             "color": "#2a3f5f"
            },
            "marker": {
             "line": {
              "color": "#E5ECF6",
              "width": 0.5
             },
             "pattern": {
              "fillmode": "overlay",
              "size": 10,
              "solidity": 0.2
             }
            },
            "type": "bar"
           }
          ],
          "barpolar": [
           {
            "marker": {
             "line": {
              "color": "#E5ECF6",
              "width": 0.5
             },
             "pattern": {
              "fillmode": "overlay",
              "size": 10,
              "solidity": 0.2
             }
            },
            "type": "barpolar"
           }
          ],
          "carpet": [
           {
            "aaxis": {
             "endlinecolor": "#2a3f5f",
             "gridcolor": "white",
             "linecolor": "white",
             "minorgridcolor": "white",
             "startlinecolor": "#2a3f5f"
            },
            "baxis": {
             "endlinecolor": "#2a3f5f",
             "gridcolor": "white",
             "linecolor": "white",
             "minorgridcolor": "white",
             "startlinecolor": "#2a3f5f"
            },
            "type": "carpet"
           }
          ],
          "choropleth": [
           {
            "colorbar": {
             "outlinewidth": 0,
             "ticks": ""
            },
            "type": "choropleth"
           }
          ],
          "contour": [
           {
            "colorbar": {
             "outlinewidth": 0,
             "ticks": ""
            },
            "colorscale": [
             [
              0,
              "#0d0887"
             ],
             [
              0.1111111111111111,
              "#46039f"
             ],
             [
              0.2222222222222222,
              "#7201a8"
             ],
             [
              0.3333333333333333,
              "#9c179e"
             ],
             [
              0.4444444444444444,
              "#bd3786"
             ],
             [
              0.5555555555555556,
              "#d8576b"
             ],
             [
              0.6666666666666666,
              "#ed7953"
             ],
             [
              0.7777777777777778,
              "#fb9f3a"
             ],
             [
              0.8888888888888888,
              "#fdca26"
             ],
             [
              1,
              "#f0f921"
             ]
            ],
            "type": "contour"
           }
          ],
          "contourcarpet": [
           {
            "colorbar": {
             "outlinewidth": 0,
             "ticks": ""
            },
            "type": "contourcarpet"
           }
          ],
          "heatmap": [
           {
            "colorbar": {
             "outlinewidth": 0,
             "ticks": ""
            },
            "colorscale": [
             [
              0,
              "#0d0887"
             ],
             [
              0.1111111111111111,
              "#46039f"
             ],
             [
              0.2222222222222222,
              "#7201a8"
             ],
             [
              0.3333333333333333,
              "#9c179e"
             ],
             [
              0.4444444444444444,
              "#bd3786"
             ],
             [
              0.5555555555555556,
              "#d8576b"
             ],
             [
              0.6666666666666666,
              "#ed7953"
             ],
             [
              0.7777777777777778,
              "#fb9f3a"
             ],
             [
              0.8888888888888888,
              "#fdca26"
             ],
             [
              1,
              "#f0f921"
             ]
            ],
            "type": "heatmap"
           }
          ],
          "heatmapgl": [
           {
            "colorbar": {
             "outlinewidth": 0,
             "ticks": ""
            },
            "colorscale": [
             [
              0,
              "#0d0887"
             ],
             [
              0.1111111111111111,
              "#46039f"
             ],
             [
              0.2222222222222222,
              "#7201a8"
             ],
             [
              0.3333333333333333,
              "#9c179e"
             ],
             [
              0.4444444444444444,
              "#bd3786"
             ],
             [
              0.5555555555555556,
              "#d8576b"
             ],
             [
              0.6666666666666666,
              "#ed7953"
             ],
             [
              0.7777777777777778,
              "#fb9f3a"
             ],
             [
              0.8888888888888888,
              "#fdca26"
             ],
             [
              1,
              "#f0f921"
             ]
            ],
            "type": "heatmapgl"
           }
          ],
          "histogram": [
           {
            "marker": {
             "pattern": {
              "fillmode": "overlay",
              "size": 10,
              "solidity": 0.2
             }
            },
            "type": "histogram"
           }
          ],
          "histogram2d": [
           {
            "colorbar": {
             "outlinewidth": 0,
             "ticks": ""
            },
            "colorscale": [
             [
              0,
              "#0d0887"
             ],
             [
              0.1111111111111111,
              "#46039f"
             ],
             [
              0.2222222222222222,
              "#7201a8"
             ],
             [
              0.3333333333333333,
              "#9c179e"
             ],
             [
              0.4444444444444444,
              "#bd3786"
             ],
             [
              0.5555555555555556,
              "#d8576b"
             ],
             [
              0.6666666666666666,
              "#ed7953"
             ],
             [
              0.7777777777777778,
              "#fb9f3a"
             ],
             [
              0.8888888888888888,
              "#fdca26"
             ],
             [
              1,
              "#f0f921"
             ]
            ],
            "type": "histogram2d"
           }
          ],
          "histogram2dcontour": [
           {
            "colorbar": {
             "outlinewidth": 0,
             "ticks": ""
            },
            "colorscale": [
             [
              0,
              "#0d0887"
             ],
             [
              0.1111111111111111,
              "#46039f"
             ],
             [
              0.2222222222222222,
              "#7201a8"
             ],
             [
              0.3333333333333333,
              "#9c179e"
             ],
             [
              0.4444444444444444,
              "#bd3786"
             ],
             [
              0.5555555555555556,
              "#d8576b"
             ],
             [
              0.6666666666666666,
              "#ed7953"
             ],
             [
              0.7777777777777778,
              "#fb9f3a"
             ],
             [
              0.8888888888888888,
              "#fdca26"
             ],
             [
              1,
              "#f0f921"
             ]
            ],
            "type": "histogram2dcontour"
           }
          ],
          "mesh3d": [
           {
            "colorbar": {
             "outlinewidth": 0,
             "ticks": ""
            },
            "type": "mesh3d"
           }
          ],
          "parcoords": [
           {
            "line": {
             "colorbar": {
              "outlinewidth": 0,
              "ticks": ""
             }
            },
            "type": "parcoords"
           }
          ],
          "pie": [
           {
            "automargin": true,
            "type": "pie"
           }
          ],
          "scatter": [
           {
            "fillpattern": {
             "fillmode": "overlay",
             "size": 10,
             "solidity": 0.2
            },
            "type": "scatter"
           }
          ],
          "scatter3d": [
           {
            "line": {
             "colorbar": {
              "outlinewidth": 0,
              "ticks": ""
             }
            },
            "marker": {
             "colorbar": {
              "outlinewidth": 0,
              "ticks": ""
             }
            },
            "type": "scatter3d"
           }
          ],
          "scattercarpet": [
           {
            "marker": {
             "colorbar": {
              "outlinewidth": 0,
              "ticks": ""
             }
            },
            "type": "scattercarpet"
           }
          ],
          "scattergeo": [
           {
            "marker": {
             "colorbar": {
              "outlinewidth": 0,
              "ticks": ""
             }
            },
            "type": "scattergeo"
           }
          ],
          "scattergl": [
           {
            "marker": {
             "colorbar": {
              "outlinewidth": 0,
              "ticks": ""
             }
            },
            "type": "scattergl"
           }
          ],
          "scattermapbox": [
           {
            "marker": {
             "colorbar": {
              "outlinewidth": 0,
              "ticks": ""
             }
            },
            "type": "scattermapbox"
           }
          ],
          "scatterpolar": [
           {
            "marker": {
             "colorbar": {
              "outlinewidth": 0,
              "ticks": ""
             }
            },
            "type": "scatterpolar"
           }
          ],
          "scatterpolargl": [
           {
            "marker": {
             "colorbar": {
              "outlinewidth": 0,
              "ticks": ""
             }
            },
            "type": "scatterpolargl"
           }
          ],
          "scatterternary": [
           {
            "marker": {
             "colorbar": {
              "outlinewidth": 0,
              "ticks": ""
             }
            },
            "type": "scatterternary"
           }
          ],
          "surface": [
           {
            "colorbar": {
             "outlinewidth": 0,
             "ticks": ""
            },
            "colorscale": [
             [
              0,
              "#0d0887"
             ],
             [
              0.1111111111111111,
              "#46039f"
             ],
             [
              0.2222222222222222,
              "#7201a8"
             ],
             [
              0.3333333333333333,
              "#9c179e"
             ],
             [
              0.4444444444444444,
              "#bd3786"
             ],
             [
              0.5555555555555556,
              "#d8576b"
             ],
             [
              0.6666666666666666,
              "#ed7953"
             ],
             [
              0.7777777777777778,
              "#fb9f3a"
             ],
             [
              0.8888888888888888,
              "#fdca26"
             ],
             [
              1,
              "#f0f921"
             ]
            ],
            "type": "surface"
           }
          ],
          "table": [
           {
            "cells": {
             "fill": {
              "color": "#EBF0F8"
             },
             "line": {
              "color": "white"
             }
            },
            "header": {
             "fill": {
              "color": "#C8D4E3"
             },
             "line": {
              "color": "white"
             }
            },
            "type": "table"
           }
          ]
         },
         "layout": {
          "annotationdefaults": {
           "arrowcolor": "#2a3f5f",
           "arrowhead": 0,
           "arrowwidth": 1
          },
          "autotypenumbers": "strict",
          "coloraxis": {
           "colorbar": {
            "outlinewidth": 0,
            "ticks": ""
           }
          },
          "colorscale": {
           "diverging": [
            [
             0,
             "#8e0152"
            ],
            [
             0.1,
             "#c51b7d"
            ],
            [
             0.2,
             "#de77ae"
            ],
            [
             0.3,
             "#f1b6da"
            ],
            [
             0.4,
             "#fde0ef"
            ],
            [
             0.5,
             "#f7f7f7"
            ],
            [
             0.6,
             "#e6f5d0"
            ],
            [
             0.7,
             "#b8e186"
            ],
            [
             0.8,
             "#7fbc41"
            ],
            [
             0.9,
             "#4d9221"
            ],
            [
             1,
             "#276419"
            ]
           ],
           "sequential": [
            [
             0,
             "#0d0887"
            ],
            [
             0.1111111111111111,
             "#46039f"
            ],
            [
             0.2222222222222222,
             "#7201a8"
            ],
            [
             0.3333333333333333,
             "#9c179e"
            ],
            [
             0.4444444444444444,
             "#bd3786"
            ],
            [
             0.5555555555555556,
             "#d8576b"
            ],
            [
             0.6666666666666666,
             "#ed7953"
            ],
            [
             0.7777777777777778,
             "#fb9f3a"
            ],
            [
             0.8888888888888888,
             "#fdca26"
            ],
            [
             1,
             "#f0f921"
            ]
           ],
           "sequentialminus": [
            [
             0,
             "#0d0887"
            ],
            [
             0.1111111111111111,
             "#46039f"
            ],
            [
             0.2222222222222222,
             "#7201a8"
            ],
            [
             0.3333333333333333,
             "#9c179e"
            ],
            [
             0.4444444444444444,
             "#bd3786"
            ],
            [
             0.5555555555555556,
             "#d8576b"
            ],
            [
             0.6666666666666666,
             "#ed7953"
            ],
            [
             0.7777777777777778,
             "#fb9f3a"
            ],
            [
             0.8888888888888888,
             "#fdca26"
            ],
            [
             1,
             "#f0f921"
            ]
           ]
          },
          "colorway": [
           "#636efa",
           "#EF553B",
           "#00cc96",
           "#ab63fa",
           "#FFA15A",
           "#19d3f3",
           "#FF6692",
           "#B6E880",
           "#FF97FF",
           "#FECB52"
          ],
          "font": {
           "color": "#2a3f5f"
          },
          "geo": {
           "bgcolor": "white",
           "lakecolor": "white",
           "landcolor": "#E5ECF6",
           "showlakes": true,
           "showland": true,
           "subunitcolor": "white"
          },
          "hoverlabel": {
           "align": "left"
          },
          "hovermode": "closest",
          "mapbox": {
           "style": "light"
          },
          "paper_bgcolor": "white",
          "plot_bgcolor": "#E5ECF6",
          "polar": {
           "angularaxis": {
            "gridcolor": "white",
            "linecolor": "white",
            "ticks": ""
           },
           "bgcolor": "#E5ECF6",
           "radialaxis": {
            "gridcolor": "white",
            "linecolor": "white",
            "ticks": ""
           }
          },
          "scene": {
           "xaxis": {
            "backgroundcolor": "#E5ECF6",
            "gridcolor": "white",
            "gridwidth": 2,
            "linecolor": "white",
            "showbackground": true,
            "ticks": "",
            "zerolinecolor": "white"
           },
           "yaxis": {
            "backgroundcolor": "#E5ECF6",
            "gridcolor": "white",
            "gridwidth": 2,
            "linecolor": "white",
            "showbackground": true,
            "ticks": "",
            "zerolinecolor": "white"
           },
           "zaxis": {
            "backgroundcolor": "#E5ECF6",
            "gridcolor": "white",
            "gridwidth": 2,
            "linecolor": "white",
            "showbackground": true,
            "ticks": "",
            "zerolinecolor": "white"
           }
          },
          "shapedefaults": {
           "line": {
            "color": "#2a3f5f"
           }
          },
          "ternary": {
           "aaxis": {
            "gridcolor": "white",
            "linecolor": "white",
            "ticks": ""
           },
           "baxis": {
            "gridcolor": "white",
            "linecolor": "white",
            "ticks": ""
           },
           "bgcolor": "#E5ECF6",
           "caxis": {
            "gridcolor": "white",
            "linecolor": "white",
            "ticks": ""
           }
          },
          "title": {
           "x": 0.05
          },
          "xaxis": {
           "automargin": true,
           "gridcolor": "white",
           "linecolor": "white",
           "ticks": "",
           "title": {
            "standoff": 15
           },
           "zerolinecolor": "white",
           "zerolinewidth": 2
          },
          "yaxis": {
           "automargin": true,
           "gridcolor": "white",
           "linecolor": "white",
           "ticks": "",
           "title": {
            "standoff": 15
           },
           "zerolinecolor": "white",
           "zerolinewidth": 2
          }
         }
        }
       }
      },
      "text/html": [
       "<div>                            <div id=\"607ad06f-1eeb-4e3c-b601-7c8afe485378\" class=\"plotly-graph-div\" style=\"height:525px; width:100%;\"></div>            <script type=\"text/javascript\">                require([\"plotly\"], function(Plotly) {                    window.PLOTLYENV=window.PLOTLYENV || {};                                    if (document.getElementById(\"607ad06f-1eeb-4e3c-b601-7c8afe485378\")) {                    Plotly.newPlot(                        \"607ad06f-1eeb-4e3c-b601-7c8afe485378\",                        [{\"hovertemplate\":\"color=c<br>x=%{x}<br>y=%{y}<br>z=%{z}<extra></extra>\",\"legendgroup\":\"c\",\"marker\":{\"color\":\"#636efa\",\"symbol\":\"circle\"},\"mode\":\"markers\",\"name\":\"c\",\"scene\":\"scene\",\"showlegend\":true,\"x\":[17.40237045288086,14.39577579498291,15.38451099395752,13.177729606628418,7.439241409301758,-1.8433257341384888,6.425163745880127,4.194344520568848,-5.612462997436523,-19.904253005981445,-5.189026355743408,-15.829290390014648,-6.17741060256958,-11.260408401489258,-17.67772102355957,15.5406494140625,-1.6118563413619995,-8.329499244689941,2.201108455657959,-5.064068794250488,5.753146648406982,-17.472084045410156,-17.557170867919922,-0.9460838437080383,1.5841567516326904,-12.672040939331055,-14.06580638885498,-12.675955772399902,-9.641383171081543,-14.194194793701172,-14.054717063903809,-10.777846336364746,-15.430628776550293,17.852622985839844,9.599215507507324,20.25457191467285,-16.018890380859375,2.4405007362365723,-18.533422470092773,0.24550144374370575,-7.471778392791748,15.969319343566895,19.150423049926758,-13.968545913696289,13.751791954040527,10.328709602355957,-22.331558227539062],\"y\":[2.1805553436279297,-0.02426816336810589,-2.931109666824341,1.06160306930542,-6.634182453155518,-0.37708261609077454,-3.0256550312042236,1.4088451862335205,38.31166458129883,10.46668529510498,2.428084135055542,10.437952995300293,6.253733158111572,9.42351245880127,1.5659339427947998,-2.309506416320801,0.6727749705314636,3.791241407394409,-1.2923122644424438,3.693166971206665,-0.7650801539421082,6.015127658843994,4.560041904449463,1.4544463157653809,2.8574862480163574,5.92965030670166,8.452631950378418,9.447884559631348,8.153890609741211,11.64294719696045,7.6857428550720215,0.4807082414627075,3.383639335632324,0.5534946918487549,-3.759458541870117,2.528902292251587,0.716079592704773,-5.032461166381836,6.172702312469482,-2.4933648109436035,1.2601168155670166,3.8978521823883057,-1.5156986713409424,4.156565189361572,-5.239426136016846,-5.741513252258301,-1.067551851272583],\"z\":[38.02151107788086,41.6252555847168,44.792110443115234,45.763370513916016,44.19050979614258,30.97712516784668,43.113529205322266,33.14552688598633,19.342636108398438,26.970003128051758,26.380971908569336,28.54170799255371,26.291173934936523,23.68633270263672,26.72191047668457,36.69450759887695,34.99090576171875,30.672847747802734,30.92350196838379,34.85063171386719,35.8699836730957,24.105695724487305,34.39253616333008,25.99445343017578,29.7903995513916,33.73703384399414,19.738452911376953,32.218971252441406,30.18525505065918,22.57773780822754,26.887407302856445,25.883928298950195,19.26290512084961,44.909358978271484,46.38301467895508,41.441490173339844,22.620288848876953,42.68761444091797,29.6712646484375,40.956092834472656,37.13343811035156,42.38666915893555,40.18057632446289,24.028345108032227,39.09793472290039,40.748741149902344,-22.058605194091797],\"type\":\"scatter3d\"},{\"hovertemplate\":\"color=k<br>x=%{x}<br>y=%{y}<br>z=%{z}<extra></extra>\",\"legendgroup\":\"k\",\"marker\":{\"color\":\"#EF553B\",\"symbol\":\"circle\"},\"mode\":\"markers\",\"name\":\"k\",\"scene\":\"scene\",\"showlegend\":true,\"x\":[-34.95249557495117,16.95736312866211,14.153074264526367,8.1911039352417,27.9110164642334,1.0245862007141113,-38.856815338134766,-5.35081672668457,2.0214951038360596,-9.142897605895996,-1.5287832021713257,8.11518669128418,31.992219924926758,22.652727127075195,3.6502296924591064,25.83808708190918,-5.7040696144104,36.75535202026367,35.47801208496094,34.90699005126953,38.93307113647461,20.995758056640625,27.629295349121094,26.6292667388916,-11.112510681152344,-3.432901620864868,5.97203254699707,-2.7130565643310547,29.399555206298828,11.11121940612793,13.900035858154297,27.639081954956055,-37.99951934814453,-13.261693954467773,2.49586820602417,8.719182968139648,16.50499153137207,2.237609624862671,27.266202926635742,22.168550491333008,24.632619857788086,-16.210861206054688,23.106298446655273,-5.084029197692871,36.231178283691406,25.171428680419922,30.14589500427246,-2.9562182426452637,5.491290092468262,-6.413435935974121,1.9347591400146484,-35.42085647583008,-1.4289567470550537,5.840608596801758,12.28333854675293,-7.674513816833496,17.63219451904297,12.416407585144043,-38.14970397949219,-10.283763885498047,-13.778274536132812,3.263134479522705],\"y\":[10.381976127624512,21.00311851501465,14.49815559387207,20.527240753173828,7.812664031982422,7.617918968200684,8.311875343322754,14.755144119262695,4.902204513549805,20.318647384643555,18.445240020751953,12.280591011047363,6.5768351554870605,-0.2854825556278229,15.523445129394531,14.890880584716797,12.046246528625488,5.282580375671387,8.89041519165039,11.013501167297363,9.12802505493164,10.034963607788086,14.693439483642578,5.40309476852417,10.865450859069824,8.402017593383789,6.208125591278076,4.895054340362549,3.451795816421509,19.14112091064453,23.24896240234375,11.267801284790039,12.553555488586426,20.552204132080078,12.076827049255371,15.569345474243164,21.435546875,12.435006141662598,-0.24967961013317108,10.838838577270508,0.5153822302818298,18.616907119750977,5.738873481750488,19.675243377685547,7.342235088348389,3.3571362495422363,-1.8087788820266724,15.829639434814453,17.340147018432617,9.322954177856445,7.247088432312012,13.443110466003418,13.015750885009766,6.831804275512695,18.938692092895508,9.87199878692627,11.23055362701416,10.849048614501953,10.523571968078613,37.238441467285156,16.666688919067383,9.50365924835205],\"z\":[-20.104089736938477,-26.94830894470215,-29.812747955322266,-27.090164184570312,-28.17328643798828,-27.3331356048584,-18.71714973449707,-23.895877838134766,-30.61208152770996,-17.175050735473633,-22.324934005737305,-27.419757843017578,-29.893508911132812,-25.387487411499023,-18.722009658813477,-35.842315673828125,-21.255077362060547,-28.84619903564453,-26.76508903503418,-30.61663246154785,-29.55211639404297,-33.169803619384766,-32.542816162109375,-31.101661682128906,-27.787641525268555,-26.142698287963867,-28.408100128173828,-32.9076042175293,-27.819732666015625,-24.078506469726562,-28.226911544799805,-33.92619705200195,-20.368671417236328,-19.42892074584961,-25.966114044189453,-24.359554290771484,-30.879987716674805,-18.534666061401367,-25.588563919067383,-29.772186279296875,-28.963523864746094,-21.245893478393555,-28.689653396606445,-19.72140884399414,-32.632694244384766,-25.255538940429688,-29.33492088317871,-19.81689453125,-23.02619743347168,-28.662946701049805,-34.699241638183594,-17.35286521911621,-23.665727615356445,-32.475242614746094,-28.410245895385742,-24.89767837524414,-30.492101669311523,-29.910661697387695,-15.434901237487793,21.00980567932129,-19.315404891967773,-30.636449813842773],\"type\":\"scatter3d\"},{\"hovertemplate\":\"color=r<br>x=%{x}<br>y=%{y}<br>z=%{z}<extra></extra>\",\"legendgroup\":\"r\",\"marker\":{\"color\":\"#00cc96\",\"symbol\":\"circle\"},\"mode\":\"markers\",\"name\":\"r\",\"scene\":\"scene\",\"showlegend\":true,\"x\":[-22.26615333557129,-18.511796951293945,-30.198331832885742,-12.595044136047363,-10.837039947509766,-17.93902587890625,-11.65208625793457,-17.927743911743164,-22.76555061340332,-24.180070877075195,-8.205550193786621,-24.10517120361328,-13.198129653930664,-17.292997360229492,-27.712080001831055,-25.791431427001953,-23.60627555847168,-12.825616836547852,-27.36945915222168,-5.2121782302856445,-14.478595733642578,-21.563018798828125,-8.427470207214355,-12.58573055267334,-13.492648124694824,-18.145999908447266,-5.853982448577881,-20.5760440826416,39.16162872314453,-19.683141708374023,-29.618053436279297,-9.673583984375,-12.87874984741211,-16.90315055847168,-95.07884979248047,-6.801237106323242,66.00922393798828,-16.218215942382812],\"y\":[14.777994155883789,12.90184211730957,9.49976921081543,20.837627410888672,38.01121139526367,17.79210090637207,33.24184799194336,22.92858123779297,15.494136810302734,15.472935676574707,35.05421829223633,10.513910293579102,26.94558334350586,21.996509552001953,14.606267929077148,11.812275886535645,11.460813522338867,36.83259201049805,12.41815185546875,37.726890563964844,36.130435943603516,20.132051467895508,35.5049934387207,23.94967269897461,30.953569412231445,18.430204391479492,38.04789733886719,12.733748435974121,144.31004333496094,16.95899200439453,13.69171142578125,37.49162673950195,27.436800003051758,27.459657669067383,-68.99658203125,33.94950485229492,188.13931274414062,29.70420265197754],\"z\":[-11.737732887268066,-3.258329153060913,-13.851712226867676,-14.702235221862793,15.899252891540527,-12.992399215698242,7.529501438140869,1.4349781274795532,-2.340580463409424,-7.41684627532959,4.427237510681152,-9.403495788574219,-2.262493848800659,-2.4582417011260986,-11.487054824829102,-14.035839080810547,-4.875601768493652,5.458895683288574,-7.206340789794922,11.66808032989502,9.354588508605957,-1.8590248823165894,17.212915420532227,-9.730098724365234,0.2550146281719208,-0.06442876160144806,6.562471389770508,-7.907847881317139,-141.65097045898438,-4.828845024108887,-16.114694595336914,8.636882781982422,2.57204008102417,-0.3869243562221527,343.54931640625,8.401371955871582,-115.43158721923828,3.292083978652954],\"type\":\"scatter3d\"},{\"hovertemplate\":\"color=b<br>x=%{x}<br>y=%{y}<br>z=%{z}<extra></extra>\",\"legendgroup\":\"b\",\"marker\":{\"color\":\"#ab63fa\",\"symbol\":\"circle\"},\"mode\":\"markers\",\"name\":\"b\",\"scene\":\"scene\",\"showlegend\":true,\"x\":[-0.8461762070655823,8.470383644104004,-3.820178985595703,-0.015494339168071747,-3.6917941570281982,-3.383928060531616,-35.7957649230957,12.893206596374512,11.55665397644043,13.158421516418457,12.527109146118164,-6.373238563537598,6.0177130699157715,13.321462631225586,15.118959426879883,8.456172943115234,10.498370170593262,-10.353530883789062,9.175483703613281,-3.50053071975708,-13.836003303527832,13.858551025390625,5.9633965492248535,-9.334757804870605,12.052245140075684,-6.325495719909668,-0.382486492395401,-0.3402878940105438,-3.6471025943756104,82.5772705078125,9.645185470581055],\"y\":[-22.712200164794922,-26.879323959350586,-38.148860931396484,-39.33528137207031,-38.55495071411133,-41.872615814208984,-72.57337188720703,-23.622575759887695,-25.44783592224121,-27.04463768005371,-22.437854766845703,-21.808542251586914,23.300241470336914,-27.912551879882812,-26.20076560974121,-22.93191909790039,-26.77174186706543,-19.367204666137695,-25.51715850830078,-19.70619010925293,-18.243253707885742,-22.92375946044922,-30.09836196899414,-18.288406372070312,-30.739046096801758,-17.69533920288086,-34.71968460083008,-34.33231735229492,-32.53916549682617,132.51084899902344,-21.832441329956055],\"z\":[-23.399606704711914,-16.78980255126953,-21.808908462524414,-23.71176528930664,-26.32880210876465,-23.739091873168945,-110.51158142089844,-17.590486526489258,-30.288482666015625,-25.09761619567871,-21.800416946411133,-23.279760360717773,27.20572280883789,-16.376480102539062,-21.137542724609375,-19.39569091796875,-20.6837100982666,-23.99956512451172,-25.15511131286621,-21.201908111572266,-20.34979820251465,-27.562175750732422,-21.078237533569336,-20.236534118652344,-19.651023864746094,-23.959489822387695,-21.822677612304688,-25.478103637695312,-24.357561111450195,39.83149719238281,-28.329862594604492],\"type\":\"scatter3d\"},{\"hovertemplate\":\"color=m<br>x=%{x}<br>y=%{y}<br>z=%{z}<extra></extra>\",\"legendgroup\":\"m\",\"marker\":{\"color\":\"#FFA15A\",\"symbol\":\"circle\"},\"mode\":\"markers\",\"name\":\"m\",\"scene\":\"scene\",\"showlegend\":true,\"x\":[-24.47899627685547,-30.43633460998535,-33.4791374206543,-45.385223388671875,-40.21927261352539,-19.257375717163086,-45.44035720825195,-49.95948028564453,-47.05438995361328,-49.10266876220703,-44.17485046386719,-20.9283447265625,-45.1926155090332,-42.26630783081055,-31.463336944580078,-29.064388275146484,-40.56393814086914,-42.41619110107422,-21.127273559570312,-25.656572341918945,-29.43516731262207,-41.406864166259766,-24.448366165161133,-35.578121185302734,-29.559114456176758,-16.922422409057617,-26.66097068786621,-28.124614715576172,-32.37826919555664,-21.279014587402344,-32.796531677246094,-45.182247161865234,-48.37276840209961,-37.82453155517578],\"y\":[-19.315486907958984,-20.380043029785156,-18.36186981201172,-2.8473241329193115,-6.444214344024658,-19.295408248901367,5.587413311004639,1.6149719953536987,1.482399582862854,-2.309267044067383,-7.1071696281433105,-18.31352424621582,-4.784095764160156,-1.2618454694747925,-14.743664741516113,-15.876879692077637,-6.393285751342773,-3.1580615043640137,-16.21198081970215,-18.97449493408203,-18.415475845336914,-5.88620662689209,-15.668967247009277,-12.50452709197998,-11.782594680786133,-16.466733932495117,-14.09158706665039,-13.786702156066895,-10.05722713470459,-14.93259334564209,-13.286111831665039,-0.28822746872901917,-2.574636459350586,-8.803078651428223],\"z\":[-14.58890438079834,-6.100000381469727,-3.7212588787078857,3.750378370285034,9.827190399169922,-14.918889999389648,7.8897013664245605,9.851764678955078,5.7183403968811035,7.240644454956055,12.825544357299805,-18.720130920410156,7.4409403800964355,6.288275718688965,1.030908226966858,-6.766310214996338,14.773147583007812,12.945891380310059,-12.285982131958008,-10.672301292419434,-2.3519492149353027,4.816202163696289,-7.3500590324401855,1.6105118989944458,-5.604270935058594,-17.552988052368164,-10.136578559875488,-2.1947152614593506,1.3466410636901855,-16.280475616455078,-2.8309919834136963,9.260798454284668,11.731269836425781,4.565455436706543],\"type\":\"scatter3d\"},{\"hovertemplate\":\"color=y<br>x=%{x}<br>y=%{y}<br>z=%{z}<extra></extra>\",\"legendgroup\":\"y\",\"marker\":{\"color\":\"#19d3f3\",\"symbol\":\"circle\"},\"mode\":\"markers\",\"name\":\"y\",\"scene\":\"scene\",\"showlegend\":true,\"x\":[-6.592976093292236,-9.13136100769043,8.475407600402832,-9.10052490234375,2.724416494369507,4.163994312286377,7.262667655944824,-5.898705959320068,-2.006484270095825,-10.936866760253906,-12.969708442687988,-4.621405601501465,-4.823248386383057,-2.391397714614868,-1.6724547147750854,-3.718388319015503,0.26596909761428833,-1.1766235828399658,-4.6312103271484375,6.892556667327881,2.296064853668213,0.09692621976137161,1.4449403285980225,1.9500980377197266,-6.819375514984131,40.17435836791992,4.313406467437744,8.271520614624023,0.7674399018287659,1.459019660949707,3.6657114028930664,13.985139846801758,-6.587285995483398,-2.410790205001831,-2.80682110786438,-0.1012977808713913,-1.3097898960113525],\"y\":[-28.53956413269043,-42.06515884399414,-18.751527786254883,-27.105562210083008,-10.920543670654297,-10.857890129089355,-7.52083158493042,-44.97804641723633,-40.0814094543457,-37.27485656738281,-38.64548873901367,-43.59221649169922,-36.82533264160156,-25.953718185424805,-44.63372039794922,-40.82530212402344,-35.87046813964844,-15.797425270080566,-28.21195411682129,-19.800277709960938,-45.82172775268555,-47.935062408447266,-43.571598052978516,-41.43333435058594,-40.915863037109375,-11.161576271057129,-17.325857162475586,-15.104461669921875,-13.95847225189209,-19.4439754486084,-16.834300994873047,-13.24206256866455,-24.51935386657715,-44.15302276611328,-34.19297409057617,-30.691802978515625,-29.46609115600586],\"z\":[12.063955307006836,2.491046905517578,5.341829299926758,8.354939460754395,7.3207879066467285,10.840470314025879,7.103343486785889,8.411053657531738,6.072450637817383,1.334521770477295,3.736048460006714,3.9941630363464355,7.137622356414795,11.960277557373047,7.460132598876953,10.018786430358887,12.71980094909668,6.453869819641113,8.638372421264648,9.16991138458252,11.354028701782227,14.864336967468262,14.95612621307373,11.285489082336426,6.76946496963501,-30.265213012695312,11.866535186767578,8.649113655090332,10.409232139587402,10.17002010345459,7.414159297943115,5.203310012817383,10.088985443115234,12.239441871643066,13.05981731414795,11.772510528564453,15.074339866638184],\"type\":\"scatter3d\"},{\"hovertemplate\":\"color=g<br>x=%{x}<br>y=%{y}<br>z=%{z}<extra></extra>\",\"legendgroup\":\"g\",\"marker\":{\"color\":\"#FF6692\",\"symbol\":\"circle\"},\"mode\":\"markers\",\"name\":\"g\",\"scene\":\"scene\",\"showlegend\":true,\"x\":[31.653709411621094,30.014556884765625,32.750511169433594,12.878828048706055,24.08673667907715,24.352977752685547,9.828669548034668,22.979623794555664,20.304920196533203,30.919967651367188,31.59091567993164,18.23295783996582,27.353261947631836,19.23225212097168,19.4111328125,28.266590118408203,18.95317840576172,19.091175079345703,10.776934623718262,27.670480728149414,20.582603454589844,28.68429946899414,24.0488338470459,25.20955467224121,27.32952117919922,23.808425903320312,13.14620590209961,22.01544952392578,15.542435646057129,16.21710968017578,19.026309967041016,19.471405029296875,14.997465133666992,28.554676055908203,31.112106323242188,28.88642120361328,26.020788192749023,17.96296501159668,18.034788131713867,16.009912490844727,23.18646812438965,21.6085205078125,14.191764831542969,14.583464622497559,19.938005447387695,25.418689727783203,28.96420669555664,30.068574905395508,33.02740478515625,27.068843841552734,32.04303741455078],\"y\":[9.617855072021484,14.275409698486328,13.829357147216797,25.21778106689453,-7.500937461853027,15.743884086608887,-5.270932674407959,20.06836700439453,22.08230972290039,29.489423751831055,25.761402130126953,25.74327850341797,12.410948753356934,18.516319274902344,20.564651489257812,16.95103645324707,26.951623916625977,30.61806297302246,22.75217628479004,16.57017707824707,-5.763251781463623,-0.1123834028840065,-2.3972582817077637,-0.4990825653076172,22.30767822265625,30.433717727661133,26.021535873413086,27.264413833618164,21.870227813720703,-3.972778558731079,-3.897235155105591,-0.9820008277893066,23.976886749267578,28.278894424438477,2.3661229610443115,5.100497722625732,19.694766998291016,27.785400390625,26.427968978881836,-1.023819088935852,27.56737518310547,31.34465980529785,-5.501844882965088,-8.216737747192383,-9.02903938293457,2.0409555435180664,9.264280319213867,4.8280134201049805,8.94536304473877,25.911041259765625,5.2801313400268555],\"z\":[0.08652003854513168,1.475113868713379,3.972632884979248,6.903897285461426,3.2391600608825684,10.509483337402344,5.256505012512207,13.0692777633667,11.168233871459961,-0.46679842472076416,-1.6200746297836304,18.176084518432617,12.199758529663086,12.485450744628906,17.30057144165039,7.671281337738037,3.714146852493286,5.875340938568115,10.349599838256836,12.802528381347656,5.794394493103027,2.758323907852173,1.5799709558486938,5.091037273406982,4.705582141876221,4.425485134124756,10.993623733520508,6.797909736633301,9.452261924743652,5.379765033721924,1.1689366102218628,4.42990255355835,14.525402069091797,-3.0803329944610596,7.614202976226807,8.096148490905762,9.578890800476074,12.387887001037598,7.68466854095459,1.9764022827148438,0.974686861038208,0.8819113373756409,1.5519707202911377,5.004955291748047,3.246408224105835,1.6095943450927734,3.170942783355713,2.049130916595459,3.8170907497406006,3.2426187992095947,10.690932273864746],\"type\":\"scatter3d\"}],                        {\"template\":{\"data\":{\"histogram2dcontour\":[{\"type\":\"histogram2dcontour\",\"colorbar\":{\"outlinewidth\":0,\"ticks\":\"\"},\"colorscale\":[[0.0,\"#0d0887\"],[0.1111111111111111,\"#46039f\"],[0.2222222222222222,\"#7201a8\"],[0.3333333333333333,\"#9c179e\"],[0.4444444444444444,\"#bd3786\"],[0.5555555555555556,\"#d8576b\"],[0.6666666666666666,\"#ed7953\"],[0.7777777777777778,\"#fb9f3a\"],[0.8888888888888888,\"#fdca26\"],[1.0,\"#f0f921\"]]}],\"choropleth\":[{\"type\":\"choropleth\",\"colorbar\":{\"outlinewidth\":0,\"ticks\":\"\"}}],\"histogram2d\":[{\"type\":\"histogram2d\",\"colorbar\":{\"outlinewidth\":0,\"ticks\":\"\"},\"colorscale\":[[0.0,\"#0d0887\"],[0.1111111111111111,\"#46039f\"],[0.2222222222222222,\"#7201a8\"],[0.3333333333333333,\"#9c179e\"],[0.4444444444444444,\"#bd3786\"],[0.5555555555555556,\"#d8576b\"],[0.6666666666666666,\"#ed7953\"],[0.7777777777777778,\"#fb9f3a\"],[0.8888888888888888,\"#fdca26\"],[1.0,\"#f0f921\"]]}],\"heatmap\":[{\"type\":\"heatmap\",\"colorbar\":{\"outlinewidth\":0,\"ticks\":\"\"},\"colorscale\":[[0.0,\"#0d0887\"],[0.1111111111111111,\"#46039f\"],[0.2222222222222222,\"#7201a8\"],[0.3333333333333333,\"#9c179e\"],[0.4444444444444444,\"#bd3786\"],[0.5555555555555556,\"#d8576b\"],[0.6666666666666666,\"#ed7953\"],[0.7777777777777778,\"#fb9f3a\"],[0.8888888888888888,\"#fdca26\"],[1.0,\"#f0f921\"]]}],\"heatmapgl\":[{\"type\":\"heatmapgl\",\"colorbar\":{\"outlinewidth\":0,\"ticks\":\"\"},\"colorscale\":[[0.0,\"#0d0887\"],[0.1111111111111111,\"#46039f\"],[0.2222222222222222,\"#7201a8\"],[0.3333333333333333,\"#9c179e\"],[0.4444444444444444,\"#bd3786\"],[0.5555555555555556,\"#d8576b\"],[0.6666666666666666,\"#ed7953\"],[0.7777777777777778,\"#fb9f3a\"],[0.8888888888888888,\"#fdca26\"],[1.0,\"#f0f921\"]]}],\"contourcarpet\":[{\"type\":\"contourcarpet\",\"colorbar\":{\"outlinewidth\":0,\"ticks\":\"\"}}],\"contour\":[{\"type\":\"contour\",\"colorbar\":{\"outlinewidth\":0,\"ticks\":\"\"},\"colorscale\":[[0.0,\"#0d0887\"],[0.1111111111111111,\"#46039f\"],[0.2222222222222222,\"#7201a8\"],[0.3333333333333333,\"#9c179e\"],[0.4444444444444444,\"#bd3786\"],[0.5555555555555556,\"#d8576b\"],[0.6666666666666666,\"#ed7953\"],[0.7777777777777778,\"#fb9f3a\"],[0.8888888888888888,\"#fdca26\"],[1.0,\"#f0f921\"]]}],\"surface\":[{\"type\":\"surface\",\"colorbar\":{\"outlinewidth\":0,\"ticks\":\"\"},\"colorscale\":[[0.0,\"#0d0887\"],[0.1111111111111111,\"#46039f\"],[0.2222222222222222,\"#7201a8\"],[0.3333333333333333,\"#9c179e\"],[0.4444444444444444,\"#bd3786\"],[0.5555555555555556,\"#d8576b\"],[0.6666666666666666,\"#ed7953\"],[0.7777777777777778,\"#fb9f3a\"],[0.8888888888888888,\"#fdca26\"],[1.0,\"#f0f921\"]]}],\"mesh3d\":[{\"type\":\"mesh3d\",\"colorbar\":{\"outlinewidth\":0,\"ticks\":\"\"}}],\"scatter\":[{\"fillpattern\":{\"fillmode\":\"overlay\",\"size\":10,\"solidity\":0.2},\"type\":\"scatter\"}],\"parcoords\":[{\"type\":\"parcoords\",\"line\":{\"colorbar\":{\"outlinewidth\":0,\"ticks\":\"\"}}}],\"scatterpolargl\":[{\"type\":\"scatterpolargl\",\"marker\":{\"colorbar\":{\"outlinewidth\":0,\"ticks\":\"\"}}}],\"bar\":[{\"error_x\":{\"color\":\"#2a3f5f\"},\"error_y\":{\"color\":\"#2a3f5f\"},\"marker\":{\"line\":{\"color\":\"#E5ECF6\",\"width\":0.5},\"pattern\":{\"fillmode\":\"overlay\",\"size\":10,\"solidity\":0.2}},\"type\":\"bar\"}],\"scattergeo\":[{\"type\":\"scattergeo\",\"marker\":{\"colorbar\":{\"outlinewidth\":0,\"ticks\":\"\"}}}],\"scatterpolar\":[{\"type\":\"scatterpolar\",\"marker\":{\"colorbar\":{\"outlinewidth\":0,\"ticks\":\"\"}}}],\"histogram\":[{\"marker\":{\"pattern\":{\"fillmode\":\"overlay\",\"size\":10,\"solidity\":0.2}},\"type\":\"histogram\"}],\"scattergl\":[{\"type\":\"scattergl\",\"marker\":{\"colorbar\":{\"outlinewidth\":0,\"ticks\":\"\"}}}],\"scatter3d\":[{\"type\":\"scatter3d\",\"line\":{\"colorbar\":{\"outlinewidth\":0,\"ticks\":\"\"}},\"marker\":{\"colorbar\":{\"outlinewidth\":0,\"ticks\":\"\"}}}],\"scattermapbox\":[{\"type\":\"scattermapbox\",\"marker\":{\"colorbar\":{\"outlinewidth\":0,\"ticks\":\"\"}}}],\"scatterternary\":[{\"type\":\"scatterternary\",\"marker\":{\"colorbar\":{\"outlinewidth\":0,\"ticks\":\"\"}}}],\"scattercarpet\":[{\"type\":\"scattercarpet\",\"marker\":{\"colorbar\":{\"outlinewidth\":0,\"ticks\":\"\"}}}],\"carpet\":[{\"aaxis\":{\"endlinecolor\":\"#2a3f5f\",\"gridcolor\":\"white\",\"linecolor\":\"white\",\"minorgridcolor\":\"white\",\"startlinecolor\":\"#2a3f5f\"},\"baxis\":{\"endlinecolor\":\"#2a3f5f\",\"gridcolor\":\"white\",\"linecolor\":\"white\",\"minorgridcolor\":\"white\",\"startlinecolor\":\"#2a3f5f\"},\"type\":\"carpet\"}],\"table\":[{\"cells\":{\"fill\":{\"color\":\"#EBF0F8\"},\"line\":{\"color\":\"white\"}},\"header\":{\"fill\":{\"color\":\"#C8D4E3\"},\"line\":{\"color\":\"white\"}},\"type\":\"table\"}],\"barpolar\":[{\"marker\":{\"line\":{\"color\":\"#E5ECF6\",\"width\":0.5},\"pattern\":{\"fillmode\":\"overlay\",\"size\":10,\"solidity\":0.2}},\"type\":\"barpolar\"}],\"pie\":[{\"automargin\":true,\"type\":\"pie\"}]},\"layout\":{\"autotypenumbers\":\"strict\",\"colorway\":[\"#636efa\",\"#EF553B\",\"#00cc96\",\"#ab63fa\",\"#FFA15A\",\"#19d3f3\",\"#FF6692\",\"#B6E880\",\"#FF97FF\",\"#FECB52\"],\"font\":{\"color\":\"#2a3f5f\"},\"hovermode\":\"closest\",\"hoverlabel\":{\"align\":\"left\"},\"paper_bgcolor\":\"white\",\"plot_bgcolor\":\"#E5ECF6\",\"polar\":{\"bgcolor\":\"#E5ECF6\",\"angularaxis\":{\"gridcolor\":\"white\",\"linecolor\":\"white\",\"ticks\":\"\"},\"radialaxis\":{\"gridcolor\":\"white\",\"linecolor\":\"white\",\"ticks\":\"\"}},\"ternary\":{\"bgcolor\":\"#E5ECF6\",\"aaxis\":{\"gridcolor\":\"white\",\"linecolor\":\"white\",\"ticks\":\"\"},\"baxis\":{\"gridcolor\":\"white\",\"linecolor\":\"white\",\"ticks\":\"\"},\"caxis\":{\"gridcolor\":\"white\",\"linecolor\":\"white\",\"ticks\":\"\"}},\"coloraxis\":{\"colorbar\":{\"outlinewidth\":0,\"ticks\":\"\"}},\"colorscale\":{\"sequential\":[[0.0,\"#0d0887\"],[0.1111111111111111,\"#46039f\"],[0.2222222222222222,\"#7201a8\"],[0.3333333333333333,\"#9c179e\"],[0.4444444444444444,\"#bd3786\"],[0.5555555555555556,\"#d8576b\"],[0.6666666666666666,\"#ed7953\"],[0.7777777777777778,\"#fb9f3a\"],[0.8888888888888888,\"#fdca26\"],[1.0,\"#f0f921\"]],\"sequentialminus\":[[0.0,\"#0d0887\"],[0.1111111111111111,\"#46039f\"],[0.2222222222222222,\"#7201a8\"],[0.3333333333333333,\"#9c179e\"],[0.4444444444444444,\"#bd3786\"],[0.5555555555555556,\"#d8576b\"],[0.6666666666666666,\"#ed7953\"],[0.7777777777777778,\"#fb9f3a\"],[0.8888888888888888,\"#fdca26\"],[1.0,\"#f0f921\"]],\"diverging\":[[0,\"#8e0152\"],[0.1,\"#c51b7d\"],[0.2,\"#de77ae\"],[0.3,\"#f1b6da\"],[0.4,\"#fde0ef\"],[0.5,\"#f7f7f7\"],[0.6,\"#e6f5d0\"],[0.7,\"#b8e186\"],[0.8,\"#7fbc41\"],[0.9,\"#4d9221\"],[1,\"#276419\"]]},\"xaxis\":{\"gridcolor\":\"white\",\"linecolor\":\"white\",\"ticks\":\"\",\"title\":{\"standoff\":15},\"zerolinecolor\":\"white\",\"automargin\":true,\"zerolinewidth\":2},\"yaxis\":{\"gridcolor\":\"white\",\"linecolor\":\"white\",\"ticks\":\"\",\"title\":{\"standoff\":15},\"zerolinecolor\":\"white\",\"automargin\":true,\"zerolinewidth\":2},\"scene\":{\"xaxis\":{\"backgroundcolor\":\"#E5ECF6\",\"gridcolor\":\"white\",\"linecolor\":\"white\",\"showbackground\":true,\"ticks\":\"\",\"zerolinecolor\":\"white\",\"gridwidth\":2},\"yaxis\":{\"backgroundcolor\":\"#E5ECF6\",\"gridcolor\":\"white\",\"linecolor\":\"white\",\"showbackground\":true,\"ticks\":\"\",\"zerolinecolor\":\"white\",\"gridwidth\":2},\"zaxis\":{\"backgroundcolor\":\"#E5ECF6\",\"gridcolor\":\"white\",\"linecolor\":\"white\",\"showbackground\":true,\"ticks\":\"\",\"zerolinecolor\":\"white\",\"gridwidth\":2}},\"shapedefaults\":{\"line\":{\"color\":\"#2a3f5f\"}},\"annotationdefaults\":{\"arrowcolor\":\"#2a3f5f\",\"arrowhead\":0,\"arrowwidth\":1},\"geo\":{\"bgcolor\":\"white\",\"landcolor\":\"#E5ECF6\",\"subunitcolor\":\"white\",\"showland\":true,\"showlakes\":true,\"lakecolor\":\"white\"},\"title\":{\"x\":0.05},\"mapbox\":{\"style\":\"light\"}}},\"scene\":{\"domain\":{\"x\":[0.0,1.0],\"y\":[0.0,1.0]},\"xaxis\":{\"title\":{\"text\":\"x\"}},\"yaxis\":{\"title\":{\"text\":\"y\"}},\"zaxis\":{\"title\":{\"text\":\"z\"}}},\"legend\":{\"title\":{\"text\":\"color\"},\"tracegroupgap\":0},\"margin\":{\"t\":60}},                        {\"responsive\": true}                    ).then(function(){\n",
       "                            \n",
       "var gd = document.getElementById('607ad06f-1eeb-4e3c-b601-7c8afe485378');\n",
       "var x = new MutationObserver(function (mutations, observer) {{\n",
       "        var display = window.getComputedStyle(gd).display;\n",
       "        if (!display || display === 'none') {{\n",
       "            console.log([gd, 'removed!']);\n",
       "            Plotly.purge(gd);\n",
       "            observer.disconnect();\n",
       "        }}\n",
       "}});\n",
       "\n",
       "// Listen for the removal of the full notebook cells\n",
       "var notebookContainer = gd.closest('#notebook-container');\n",
       "if (notebookContainer) {{\n",
       "    x.observe(notebookContainer, {childList: true});\n",
       "}}\n",
       "\n",
       "// Listen for the clearing of the current output cell\n",
       "var outputEl = gd.closest('.output');\n",
       "if (outputEl) {{\n",
       "    x.observe(outputEl, {childList: true});\n",
       "}}\n",
       "\n",
       "                        })                };                });            </script>        </div>"
      ]
     },
     "metadata": {},
     "output_type": "display_data"
    }
   ],
   "source": [
    "# plot using tsne \n",
    "X_embedded  = TSNE(n_components=3, perplexity=10,random_state=24).fit_transform( X )\n",
    "colors = np.array([x for x in 'bgrcmykbgrcmykbgrcmykbgrcmyk'])\n",
    "fig = px.scatter_3d(x=X_embedded [:,0],y=X_embedded [:,1],z=X_embedded [:,2],color=colors[gmm_labels])\n",
    "fig.show()"
   ]
  },
  {
   "cell_type": "markdown",
   "metadata": {},
   "source": [
    "### Bayesian Gaussian Mixture\n",
    "\n",
    "Mixture models are useful for integrating multiple data generating processes into a single model. A gaussian mixture model is a probabilistic model that assumes all the data points are generated from a mixture of a finite number of gaussian distributions with unknown parameters.\n",
    "\n",
    "The Bayesian gaussian mixture is a variation of the Gaussian mixture. BGM is less sensitive to the number of parameters and it chooses effective components automatically."
   ]
  },
  {
   "cell_type": "code",
   "execution_count": 46,
   "metadata": {},
   "outputs": [],
   "source": [
    "bgm_grid = {\n",
    "        \"covariance_type\": ['full', 'tied', 'diag', 'spherical'],\n",
    "        \"max_iter\": [50, 100, 150, 200],\n",
    "        \"init_params\": ['kmeans', 'k-means++', 'random', 'random_from_data'],\n",
    "        \"n_components\": range(2, 6),\n",
    "        \"n_init\": range(1, 5s),\n",
    "        \"weight_concentration_prior_type\" : ['dirichlet_process', 'dirichlet_distribution']\n",
    "       }\n",
    "\n",
    "#bgm_grid"
   ]
  },
  {
   "cell_type": "code",
   "execution_count": 47,
   "metadata": {},
   "outputs": [],
   "source": [
    "bgm_model = BayesianGaussianMixture()\n",
    "bgm_params = GridSearchCV(bgm_model,bgm_grid,scoring=silhouette_score3,cv= 10).fit(X, y)"
   ]
  },
  {
   "cell_type": "code",
   "execution_count": 48,
   "metadata": {},
   "outputs": [
    {
     "data": {
      "text/plain": [
       "(0.5545617328686584,\n",
       " {'covariance_type': 'spherical',\n",
       "  'init_params': 'kmeans',\n",
       "  'max_iter': 200,\n",
       "  'n_components': 9,\n",
       "  'n_init': 1,\n",
       "  'weight_concentration_prior_type': 'dirichlet_distribution'})"
      ]
     },
     "execution_count": 48,
     "metadata": {},
     "output_type": "execute_result"
    }
   ],
   "source": [
    "bgm_params.best_score_, bgm_params.best_params_"
   ]
  },
  {
   "cell_type": "code",
   "execution_count": 49,
   "metadata": {},
   "outputs": [],
   "source": [
    "bgm = BayesianGaussianMixture(covariance_type = bgm_params.best_params_['covariance_type'],\n",
    "                      init_params = bgm_params.best_params_['init_params'],\n",
    "                      n_components = bgm_params.best_params_['n_components'],\n",
    "                      n_init = bgm_params.best_params_['n_init'],\n",
    "                      max_iter = bgm_params.best_params_['max_iter'],\n",
    "                      weight_concentration_prior_type = bgm_params.best_params_['weight_concentration_prior_type'])\n",
    "\n",
    "bgm.fit(X)\n",
    "bgm_labels = bgm.fit_predict(X)"
   ]
  },
  {
   "cell_type": "code",
   "execution_count": 50,
   "metadata": {},
   "outputs": [
    {
     "data": {
      "text/html": [
       "<div>\n",
       "<style scoped>\n",
       "    .dataframe tbody tr th:only-of-type {\n",
       "        vertical-align: middle;\n",
       "    }\n",
       "\n",
       "    .dataframe tbody tr th {\n",
       "        vertical-align: top;\n",
       "    }\n",
       "\n",
       "    .dataframe thead th {\n",
       "        text-align: right;\n",
       "    }\n",
       "</style>\n",
       "<table border=\"1\" class=\"dataframe\">\n",
       "  <thead>\n",
       "    <tr style=\"text-align: right;\">\n",
       "      <th></th>\n",
       "      <th>Cluster</th>\n",
       "    </tr>\n",
       "  </thead>\n",
       "  <tbody>\n",
       "    <tr>\n",
       "      <th>5</th>\n",
       "      <td>59</td>\n",
       "    </tr>\n",
       "    <tr>\n",
       "      <th>2</th>\n",
       "      <td>50</td>\n",
       "    </tr>\n",
       "    <tr>\n",
       "      <th>4</th>\n",
       "      <td>47</td>\n",
       "    </tr>\n",
       "    <tr>\n",
       "      <th>3</th>\n",
       "      <td>37</td>\n",
       "    </tr>\n",
       "    <tr>\n",
       "      <th>7</th>\n",
       "      <td>32</td>\n",
       "    </tr>\n",
       "    <tr>\n",
       "      <th>1</th>\n",
       "      <td>24</td>\n",
       "    </tr>\n",
       "    <tr>\n",
       "      <th>8</th>\n",
       "      <td>18</td>\n",
       "    </tr>\n",
       "    <tr>\n",
       "      <th>6</th>\n",
       "      <td>18</td>\n",
       "    </tr>\n",
       "    <tr>\n",
       "      <th>0</th>\n",
       "      <td>15</td>\n",
       "    </tr>\n",
       "  </tbody>\n",
       "</table>\n",
       "</div>"
      ],
      "text/plain": [
       "   Cluster\n",
       "5       59\n",
       "2       50\n",
       "4       47\n",
       "3       37\n",
       "7       32\n",
       "1       24\n",
       "8       18\n",
       "6       18\n",
       "0       15"
      ]
     },
     "execution_count": 50,
     "metadata": {},
     "output_type": "execute_result"
    }
   ],
   "source": [
    "bgm_dataset = pd.DataFrame(X.copy())\n",
    "bgm_dataset.loc[:,'Cluster'] = bgm_labels\n",
    "bgm_dataset.Cluster.value_counts().to_frame()"
   ]
  },
  {
   "cell_type": "code",
   "execution_count": 51,
   "metadata": {},
   "outputs": [
    {
     "data": {
      "text/html": [
       "<div>\n",
       "<style scoped>\n",
       "    .dataframe tbody tr th:only-of-type {\n",
       "        vertical-align: middle;\n",
       "    }\n",
       "\n",
       "    .dataframe tbody tr th {\n",
       "        vertical-align: top;\n",
       "    }\n",
       "\n",
       "    .dataframe thead th {\n",
       "        text-align: right;\n",
       "    }\n",
       "</style>\n",
       "<table border=\"1\" class=\"dataframe\">\n",
       "  <thead>\n",
       "    <tr style=\"text-align: right;\">\n",
       "      <th></th>\n",
       "      <th>silhouette_score</th>\n",
       "      <th>davies_bouldin_score</th>\n",
       "      <th>calinski_harabasz_score</th>\n",
       "      <th>fowlkes_mallows_score</th>\n",
       "      <th>adjusted_rand_score</th>\n",
       "      <th>adjusted_mutual_info_score</th>\n",
       "      <th>homogeneity_score</th>\n",
       "      <th>completeness_score</th>\n",
       "      <th>v_measure_score</th>\n",
       "    </tr>\n",
       "  </thead>\n",
       "  <tbody>\n",
       "    <tr>\n",
       "      <th>BayesianGaussianMixture</th>\n",
       "      <td>0.455626</td>\n",
       "      <td>0.848315</td>\n",
       "      <td>157.13025</td>\n",
       "      <td>0.351069</td>\n",
       "      <td>0.031892</td>\n",
       "      <td>0.157909</td>\n",
       "      <td>0.588145</td>\n",
       "      <td>0.097851</td>\n",
       "      <td>0.167787</td>\n",
       "    </tr>\n",
       "  </tbody>\n",
       "</table>\n",
       "</div>"
      ],
      "text/plain": [
       "                         silhouette_score  davies_bouldin_score  \\\n",
       "BayesianGaussianMixture          0.455626              0.848315   \n",
       "\n",
       "                         calinski_harabasz_score  fowlkes_mallows_score  \\\n",
       "BayesianGaussianMixture                157.13025               0.351069   \n",
       "\n",
       "                         adjusted_rand_score  adjusted_mutual_info_score  \\\n",
       "BayesianGaussianMixture             0.031892                    0.157909   \n",
       "\n",
       "                         homogeneity_score  completeness_score  \\\n",
       "BayesianGaussianMixture           0.588145            0.097851   \n",
       "\n",
       "                         v_measure_score  \n",
       "BayesianGaussianMixture         0.167787  "
      ]
     },
     "execution_count": 51,
     "metadata": {},
     "output_type": "execute_result"
    }
   ],
   "source": [
    "bgm_df = pd.DataFrame(estimator_evaluation2(bgm, 'BayesianGaussianMixture ', X , y), index=[\"BayesianGaussianMixture\"])\n",
    "bgm_df"
   ]
  },
  {
   "cell_type": "code",
   "execution_count": 52,
   "metadata": {},
   "outputs": [
    {
     "data": {
      "application/vnd.plotly.v1+json": {
       "config": {
        "plotlyServerURL": "https://plot.ly"
       },
       "data": [
        {
         "hovertemplate": "color=m<br>x=%{x}<br>y=%{y}<br>z=%{z}<extra></extra>",
         "legendgroup": "m",
         "marker": {
          "color": "#636efa",
          "symbol": "circle"
         },
         "mode": "markers",
         "name": "m",
         "scene": "scene",
         "showlegend": true,
         "type": "scatter3d",
         "x": [
          44.333091735839844,
          40.457435607910156,
          33.803688049316406,
          37.70640182495117,
          28.775732040405273,
          14.634523391723633,
          26.820884704589844,
          21.548961639404297,
          3.4288735389709473,
          10.232571601867676,
          0.24146465957164764,
          3.543884038925171,
          -1.8564423322677612,
          -0.6624883413314819,
          -2.6294307708740234,
          -33.79261016845703,
          14.025867462158203,
          6.936176300048828,
          18.730405807495117,
          11.196072578430176,
          22.715776443481445,
          -3.6126821041107178,
          9.077073097229004,
          15.022124290466309,
          17.964502334594727,
          3.8039510250091553,
          -2.966200113296509,
          -1.345916748046875,
          4.2230706214904785,
          0.5371698141098022,
          -2.745018243789673,
          5.697119235992432,
          1.6568546295166016,
          37.8852424621582,
          33.62289810180664,
          45.62045669555664,
          2.2687695026397705,
          23.39938735961914,
          -6.5025105476379395,
          20.533584594726562,
          38.07932662963867,
          38.88289260864258,
          45.268436431884766,
          1.369336724281311,
          415.110107421875,
          26.81038475036621,
          -199.68650817871094
         ],
         "y": [
          -16.065616607666016,
          -26.887832641601562,
          -24.04093360900879,
          -25.76045036315918,
          -23.615625381469727,
          -24.747774124145508,
          -18.213123321533203,
          -15.966225624084473,
          -27.541765213012695,
          -8.598394393920898,
          -19.564197540283203,
          -17.513856887817383,
          -13.501235961914062,
          -40.37160110473633,
          -5.393011093139648,
          -37.05177307128906,
          -16.16900062561035,
          -12.458183288574219,
          -11.307856559753418,
          -13.020894050598145,
          -16.763534545898438,
          -10.280592918395996,
          -23.289091110229492,
          -6.373424530029297,
          -11.542818069458008,
          -13.502406120300293,
          -6.982762336730957,
          -15.615185737609863,
          -19.675338745117188,
          -28.662050247192383,
          -23.5835018157959,
          -5.732648849487305,
          -0.5948383808135986,
          -18.9560604095459,
          -19.28281021118164,
          -22.559337615966797,
          -0.25966185331344604,
          -23.556793212890625,
          -18.99620246887207,
          -22.3223934173584,
          12.369837760925293,
          -19.96884536743164,
          -21.783233642578125,
          -6.4299726486206055,
          -81.22452545166016,
          -14.315642356872559,
          -62.791770935058594
         ],
         "z": [
          -35.27585220336914,
          -36.28977584838867,
          -35.92921829223633,
          -29.693374633789062,
          -12.154041290283203,
          -24.806499481201172,
          -10.473889350891113,
          -41.05643844604492,
          -11.080911636352539,
          -43.43484115600586,
          -16.09330940246582,
          -32.82252883911133,
          -33.98850631713867,
          -14.147403717041016,
          -48.160064697265625,
          -24.968191146850586,
          -35.0045166015625,
          -35.49327850341797,
          -38.57642364501953,
          -30.00790023803711,
          -34.550018310546875,
          -40.57453155517578,
          -8.402348518371582,
          -47.798248291015625,
          -47.07600021362305,
          -18.42613983154297,
          -34.63541793823242,
          -22.354541778564453,
          -22.42157554626465,
          -17.531978607177734,
          -21.056915283203125,
          -48.56654739379883,
          -52.25743865966797,
          -32.34811019897461,
          -10.593071937561035,
          -38.71394348144531,
          -45.80250549316406,
          -6.496891021728516,
          -17.26817512512207,
          -11.92890739440918,
          75.83161163330078,
          -39.53147506713867,
          -31.28326988220215,
          -41.26649475097656,
          -100.28587341308594,
          -24.19405174255371,
          2.6602039337158203
         ]
        },
        {
         "hovertemplate": "color=y<br>x=%{x}<br>y=%{y}<br>z=%{z}<extra></extra>",
         "legendgroup": "y",
         "marker": {
          "color": "#EF553B",
          "symbol": "circle"
         },
         "mode": "markers",
         "name": "y",
         "scene": "scene",
         "showlegend": true,
         "type": "scatter3d",
         "x": [
          -26.07970428466797,
          -23.242748260498047,
          -23.137264251708984,
          -22.713090896606445,
          -7.4945387840271,
          16.56028175354004,
          -16.536378860473633,
          5.292171955108643,
          -11.133111953735352,
          -22.331729888916016,
          -26.639406204223633,
          -26.235504150390625,
          -1.3390121459960938,
          10.899405479431152,
          -11.62868881225586,
          -29.90022850036621,
          -15.436470985412598,
          14.397239685058594,
          -26.37323570251465,
          -27.20089340209961,
          -33.16579055786133,
          3.9518167972564697,
          -28.748905181884766,
          -9.995481491088867,
          -1.3857922554016113,
          9.78036117553711,
          1.8472745418548584,
          -21.858074188232422,
          -14.77304458618164,
          -30.16083335876465,
          -23.108692169189453,
          -30.519485473632812,
          -4.815279006958008,
          17.53169059753418,
          -10.58741569519043,
          -12.209628105163574,
          20.97791290283203,
          -27.960628509521484,
          -16.497482299804688,
          -30.323383331298828,
          -24.693145751953125,
          -30.20924949645996,
          -31.936161041259766,
          -7.6529107093811035,
          64.01361083984375,
          -17.264867782592773,
          -19.79914665222168,
          -26.80898666381836,
          -17.941354751586914,
          -16.577613830566406,
          5.251281261444092,
          5.046977519989014,
          6.621398448944092,
          -25.745737075805664,
          10.773776054382324,
          2.318570613861084,
          -18.84783172607422,
          -17.939599990844727,
          -7.877898693084717
         ],
         "y": [
          57.9052848815918,
          42.207061767578125,
          41.145931243896484,
          48.44337844848633,
          37.99913787841797,
          42.36664962768555,
          39.7817268371582,
          40.070701599121094,
          27.46794891357422,
          24.98116111755371,
          41.685325622558594,
          38.417545318603516,
          40.3387451171875,
          45.298683166503906,
          22.43937110900879,
          40.69866943359375,
          25.85468292236328,
          35.917659759521484,
          29.918067932128906,
          45.814674377441406,
          43.01995086669922,
          45.92818832397461,
          37.483680725097656,
          29.973129272460938,
          39.804691314697266,
          46.97278594970703,
          36.98595428466797,
          16.114246368408203,
          33.266868591308594,
          59.28567123413086,
          35.58406066894531,
          13.105178833007812,
          36.7418327331543,
          48.597740173339844,
          31.693939208984375,
          26.943382263183594,
          44.2031364440918,
          35.82125473022461,
          20.18877601623535,
          43.325927734375,
          14.870691299438477,
          36.016685485839844,
          49.017887115478516,
          36.686214447021484,
          -77.06538391113281,
          23.205875396728516,
          24.45499038696289,
          19.87933349609375,
          25.582176208496094,
          29.51909065246582,
          43.70981216430664,
          48.79405212402344,
          42.94888687133789,
          54.79482650756836,
          46.659915924072266,
          44.1308479309082,
          55.45282745361328,
          28.848953247070312,
          41.184539794921875
         ],
         "z": [
          -0.0686807930469513,
          9.598604202270508,
          -8.381636619567871,
          -9.379295349121094,
          7.176764488220215,
          -12.137078285217285,
          7.507610321044922,
          -7.940239429473877,
          41.595542907714844,
          10.945697784423828,
          18.049333572387695,
          0.5319599509239197,
          6.251334190368652,
          2.6452038288116455,
          35.52888107299805,
          -5.418031215667725,
          13.196861267089844,
          -7.007053852081299,
          19.883609771728516,
          3.3972971439361572,
          1.8324861526489258,
          -4.722923755645752,
          7.641336441040039,
          35.11084747314453,
          -17.78889274597168,
          -13.795010566711426,
          37.10123062133789,
          36.30066680908203,
          39.01411437988281,
          -3.582852602005005,
          17.477602005004883,
          36.684425354003906,
          0.16364941000938416,
          -6.8527750968933105,
          11.128562927246094,
          26.77010154724121,
          -0.05764567852020264,
          22.879167556762695,
          41.59455490112305,
          12.310640335083008,
          42.21770477294922,
          15.093770027160645,
          -3.3778865337371826,
          -6.647945404052734,
          54.870849609375,
          24.0039005279541,
          17.477005004882812,
          38.8416748046875,
          37.14581298828125,
          7.07971715927124,
          6.578206539154053,
          6.939187049865723,
          -17.94472312927246,
          -7.352822780609131,
          -5.369344234466553,
          -13.173526763916016,
          -10.445942878723145,
          27.593807220458984,
          -2.5195364952087402
         ]
        },
        {
         "hovertemplate": "color=g<br>x=%{x}<br>y=%{y}<br>z=%{z}<extra></extra>",
         "legendgroup": "g",
         "marker": {
          "color": "#00cc96",
          "symbol": "circle"
         },
         "mode": "markers",
         "name": "g",
         "scene": "scene",
         "showlegend": true,
         "type": "scatter3d",
         "x": [
          20.669437408447266,
          23.285356521606445,
          14.318075180053711,
          38.31059646606445,
          -208.0128936767578,
          17.31844139099121,
          248.03890991210938,
          17.866191864013672,
          24.904003143310547,
          42.15549087524414,
          28.03256607055664,
          26.755842208862305,
          47.94922637939453,
          48.517234802246094,
          53.56420135498047,
          49.24894714355469,
          27.545549392700195,
          10.623516082763672,
          31.907848358154297,
          25.915071487426758,
          13.441794395446777,
          39.876373291015625,
          23.269777297973633,
          25.906238555908203,
          29.980424880981445,
          23.861555099487305,
          16.521608352661133,
          34.451995849609375,
          30.39902114868164,
          33.68363571166992,
          31.825847625732422,
          46.829341888427734,
          32.876258850097656,
          40.25762939453125,
          17.176090240478516,
          24.73394203186035,
          23.10454750061035,
          19.18052101135254,
          25.1873836517334,
          25.11918830871582,
          8.797558784484863,
          18.785581588745117
         ],
         "y": [
          11.328883171081543,
          1.5483590364456177,
          12.892512321472168,
          18.12321662902832,
          -1.0894535779953003,
          -3.891378164291382,
          56.483543395996094,
          43.52997589111328,
          46.778594970703125,
          12.345269203186035,
          16.613340377807617,
          323.65106201171875,
          18.092037200927734,
          7.910039901733398,
          13.618258476257324,
          13.309557914733887,
          23.183429718017578,
          20.047807693481445,
          20.72772979736328,
          50.289703369140625,
          47.812843322753906,
          18.553199768066406,
          26.267967224121094,
          8.014220237731934,
          11.130072593688965,
          12.887977600097656,
          25.440570831298828,
          13.492189407348633,
          22.391983032226562,
          19.01876449584961,
          15.319490432739258,
          12.536465644836426,
          20.97112464904785,
          13.543110847473145,
          2.027204751968384,
          48.741004943847656,
          43.62117385864258,
          7.468051910400391,
          5.956216335296631,
          24.613964080810547,
          10.15206241607666,
          48.94527053833008
         ],
         "z": [
          1.0707563161849976,
          -5.909092903137207,
          -4.7671003341674805,
          -28.98185157775879,
          -63.964290618896484,
          1.0731801986694336,
          35.901893615722656,
          -20.194133758544922,
          -5.3810200691223145,
          -31.109804153442383,
          -38.44881820678711,
          -19.59468650817871,
          -29.371604919433594,
          -30.111501693725586,
          -28.196332931518555,
          -34.658103942871094,
          -18.922168731689453,
          -46.11989974975586,
          -15.729670524597168,
          -13.834531784057617,
          -25.050817489624023,
          -36.07650375366211,
          -6.786925315856934,
          -0.7611690759658813,
          -14.287708282470703,
          -4.743813514709473,
          -8.03001880645752,
          -37.39509963989258,
          -24.70922088623047,
          -41.806671142578125,
          -30.602500915527344,
          -24.875102996826172,
          -35.24464416503906,
          -43.06795120239258,
          -2.067173719406128,
          -20.483386993408203,
          -14.752630233764648,
          -5.702500343322754,
          -10.454730033874512,
          -12.897253036499023,
          -2.626490354537964,
          -15.422608375549316
         ]
        },
        {
         "hovertemplate": "color=b<br>x=%{x}<br>y=%{y}<br>z=%{z}<extra></extra>",
         "legendgroup": "b",
         "marker": {
          "color": "#ab63fa",
          "symbol": "circle"
         },
         "mode": "markers",
         "name": "b",
         "scene": "scene",
         "showlegend": true,
         "type": "scatter3d",
         "x": [
          36.54509735107422,
          -2.723491907119751,
          -1.171699047088623,
          9.953486442565918,
          0.021394478157162666,
          41.28952407836914,
          5.590156078338623,
          -1.939184546470642,
          5.834759712219238,
          64.76774597167969,
          59.500892639160156,
          66.0881576538086,
          61.962703704833984,
          59.96726989746094,
          4.209362983703613,
          -3.345693588256836,
          2.2611172199249268,
          36.008670806884766,
          43.15171432495117,
          0.9854949116706848,
          31.870162963867188,
          -11.924895286560059,
          32.05215072631836,
          38.23526382446289,
          47.618873596191406,
          41.8694953918457,
          41.292396545410156,
          -0.4018668234348297,
          -17.237361907958984,
          26.21324920654297,
          34.59928894042969,
          32.43825149536133,
          19.50165557861328,
          36.883968353271484,
          13.17175579071045,
          38.71916961669922,
          24.061941146850586,
          42.601497650146484,
          30.598115921020508,
          3.197556734085083,
          2.408815383911133,
          55.97785186767578,
          58.752845764160156,
          1.4041728973388672,
          54.2212028503418,
          381.4656677246094,
          40.338558197021484
         ],
         "y": [
          -0.3089427649974823,
          -2.144113302230835,
          -12.486394882202148,
          11.983192443847656,
          11.872949600219727,
          -2.9423906803131104,
          6.188862323760986,
          4.736813068389893,
          -11.952911376953125,
          -22.06831932067871,
          -17.188066482543945,
          -14.926514625549316,
          -18.041595458984375,
          -24.883922576904297,
          -0.06579822301864624,
          3.805025100708008,
          -17.387208938598633,
          -1.1869007349014282,
          -15.870211601257324,
          -11.282980918884277,
          -14.658892631530762,
          2.9258534908294678,
          10.0380277633667,
          6.456844806671143,
          -0.6271780133247375,
          -6.4476189613342285,
          4.160768508911133,
          -2.7355544567108154,
          0.4032908082008362,
          14.543256759643555,
          -8.765073776245117,
          5.644442081451416,
          10.30224895477295,
          -14.211349487304688,
          7.433108329772949,
          -7.559817314147949,
          8.682747840881348,
          0.9106256365776062,
          12.585070610046387,
          6.5722198486328125,
          -0.5861486792564392,
          -23.935190200805664,
          -28.484830856323242,
          -13.349055290222168,
          -24.387292861938477,
          -274.2107849121094,
          -14.962660789489746
         ],
         "z": [
          32.50771713256836,
          62.370765686035156,
          54.73850631713867,
          63.74290466308594,
          64.165771484375,
          22.107019424438477,
          65.8389892578125,
          65.69849395751953,
          56.66683578491211,
          3.99621319770813,
          5.511070251464844,
          3.705927610397339,
          -1.25104558467865,
          12.111656188964844,
          60.751522064208984,
          58.518306732177734,
          58.61332702636719,
          16.080045700073242,
          21.93027114868164,
          61.563358306884766,
          17.53269386291504,
          30.198013305664062,
          29.09090805053711,
          31.898487091064453,
          17.561880111694336,
          15.137030601501465,
          18.760896682739258,
          55.38503646850586,
          36.07051467895508,
          30.036157608032227,
          18.822589874267578,
          34.307621002197266,
          27.460451126098633,
          23.956201553344727,
          29.567874908447266,
          31.586631774902344,
          32.740962982177734,
          11.661307334899902,
          35.190547943115234,
          58.752525329589844,
          68.0643539428711,
          0.8650567531585693,
          4.5400614738464355,
          48.11505889892578,
          7.392119884490967,
          74.76422882080078,
          15.919598579406738
         ]
        },
        {
         "hovertemplate": "color=k<br>x=%{x}<br>y=%{y}<br>z=%{z}<extra></extra>",
         "legendgroup": "k",
         "marker": {
          "color": "#FFA15A",
          "symbol": "circle"
         },
         "mode": "markers",
         "name": "k",
         "scene": "scene",
         "showlegend": true,
         "type": "scatter3d",
         "x": [
          17.426639556884766,
          13.864554405212402,
          13.68448543548584,
          13.204663276672363,
          8.942296981811523,
          -2.322382688522339,
          2.421306610107422,
          5.376502513885498,
          11.588937759399414,
          8.015403747558594,
          4.997541427612305,
          2.902172803878784,
          -1.4471601247787476,
          -0.32099810242652893,
          -2.0200984477996826,
          3.8089399337768555,
          -11.653613090515137,
          3.9575343132019043
         ],
         "y": [
          -8.078539848327637,
          -16.234683990478516,
          -16.65142059326172,
          1.5339051485061646,
          7.534327507019043,
          -15.545835494995117,
          -10.718011856079102,
          2.544459342956543,
          -9.077815055847168,
          -17.273855209350586,
          -5.114279270172119,
          -12.494165420532227,
          -9.074697494506836,
          -4.080954074859619,
          -15.423994064331055,
          -19.140701293945312,
          -8.06421184539795,
          -14.21461296081543
         ],
         "z": [
          22.01329803466797,
          20.875791549682617,
          27.24579620361328,
          25.220993041992188,
          23.53043556213379,
          36.65970993041992,
          25.85362434387207,
          27.284868240356445,
          21.482402801513672,
          24.03944969177246,
          30.011363983154297,
          40.93939971923828,
          32.39864730834961,
          26.273088455200195,
          29.343456268310547,
          40.06369400024414,
          39.66081619262695,
          33.40922164916992
         ]
        },
        {
         "hovertemplate": "color=c<br>x=%{x}<br>y=%{y}<br>z=%{z}<extra></extra>",
         "legendgroup": "c",
         "marker": {
          "color": "#19d3f3",
          "symbol": "circle"
         },
         "mode": "markers",
         "name": "c",
         "scene": "scene",
         "showlegend": true,
         "type": "scatter3d",
         "x": [
          -45.77070617675781,
          -44.4318962097168,
          -45.444061279296875,
          -46.761634826660156,
          -21.152366638183594,
          -24.676433563232422,
          -20.642356872558594,
          -31.07154083251953,
          -32.82084655761719,
          -51.77715301513672,
          -46.94553756713867,
          -36.73927307128906,
          -40.142486572265625,
          -39.95536804199219,
          -33.7164421081543,
          -35.0137825012207,
          -24.53474998474121,
          -22.43345832824707,
          -41.44819259643555,
          -45.456478118896484,
          -20.456636428833008,
          -23.287139892578125,
          -17.985692977905273,
          -19.69509506225586,
          -39.52353286743164,
          -41.253143310546875,
          -42.565589904785156,
          -38.376529693603516,
          -26.75934410095215,
          -37.335845947265625,
          -36.43458938598633,
          -40.424808502197266,
          -48.15592956542969,
          -27.04729461669922,
          -30.361921310424805,
          -25.008546829223633,
          -24.915658950805664
         ],
         "y": [
          0.005561981815844774,
          -1.6319793462753296,
          -12.236234664916992,
          -10.050824165344238,
          -1.0609145164489746,
          2.9038076400756836,
          -1.4680218696594238,
          7.372477054595947,
          4.931432247161865,
          -8.534860610961914,
          -11.20909309387207,
          2.0200445652008057,
          5.8658294677734375,
          1.1466240882873535,
          13.701102256774902,
          11.746820449829102,
          12.423872947692871,
          7.618286609649658,
          -3.967625617980957,
          -7.429357051849365,
          18.661483764648438,
          22.752838134765625,
          18.001659393310547,
          12.159923553466797,
          8.35811996459961,
          -4.282449245452881,
          -0.8139142394065857,
          -8.507059097290039,
          1.2707120180130005,
          -3.4114015102386475,
          -0.8281712532043457,
          -10.598328590393066,
          -6.341794967651367,
          14.247503280639648,
          11.159634590148926,
          6.779940128326416,
          11.546669960021973
         ],
         "z": [
          -24.07701873779297,
          -33.48440933227539,
          -12.849360466003418,
          -26.324810028076172,
          -4.917496204376221,
          -1.7133527994155884,
          2.2486515045166016,
          -37.819210052490234,
          -31.219423294067383,
          -34.108428955078125,
          -35.515663146972656,
          -36.9051399230957,
          -30.6036376953125,
          -18.30194091796875,
          -38.153995513916016,
          -31.614683151245117,
          -25.901315689086914,
          -9.950779914855957,
          -23.866294860839844,
          -8.673336029052734,
          -35.152748107910156,
          -29.71328353881836,
          -28.8810977935791,
          -32.26833724975586,
          -37.261436462402344,
          -2.278958559036255,
          -9.809110641479492,
          -6.71610164642334,
          -7.954247951507568,
          -12.809462547302246,
          -6.269811630249023,
          1.861651062965393,
          -21.633079528808594,
          -32.98579025268555,
          -23.936220169067383,
          -21.04807472229004,
          -17.45525360107422
         ]
        },
        {
         "hovertemplate": "color=r<br>x=%{x}<br>y=%{y}<br>z=%{z}<extra></extra>",
         "legendgroup": "r",
         "marker": {
          "color": "#FF6692",
          "symbol": "circle"
         },
         "mode": "markers",
         "name": "r",
         "scene": "scene",
         "showlegend": true,
         "type": "scatter3d",
         "x": [
          -22.754709243774414,
          -19.675548553466797,
          -17.048694610595703,
          -2.703735828399658,
          -41.68955993652344,
          -15.631858825683594,
          -23.93043327331543,
          -10.13161849975586,
          -5.927724838256836,
          -9.822630882263184,
          -15.792283058166504,
          -18.88324737548828,
          -11.58227252960205,
          53.038124084472656,
          -12.058188438415527,
          -1.0446034669876099,
          1.3474305868148804,
          -5.697696208953857,
          -12.084038734436035,
          -40.11804962158203,
          -28.506450653076172,
          -34.02729797363281,
          -33.93227005004883,
          -8.779141426086426,
          -1.544874668121338,
          -2.21939754486084,
          -5.378969192504883,
          -8.751496315002441,
          -34.036502838134766,
          -35.026878356933594,
          -30.49472999572754,
          -5.596000671386719,
          -11.193283081054688,
          8.75153923034668,
          -27.236251831054688,
          -9.652202606201172,
          1.1367303133010864,
          -2.153221368789673,
          -37.63077163696289,
          -5.97688102722168,
          -2.897204875946045,
          -31.360368728637695,
          -38.55357360839844,
          -41.902259826660156,
          -33.98460388183594,
          -23.045185089111328,
          -29.593191146850586,
          -25.055301666259766,
          -10.47549057006836,
          -19.80034637451172
         ],
         "y": [
          -39.71218490600586,
          -46.490745544433594,
          -40.960365295410156,
          -56.17182540893555,
          -33.374263763427734,
          -44.6510009765625,
          -6.438807487487793,
          -49.06418228149414,
          -46.09623718261719,
          -44.19876480102539,
          -45.924041748046875,
          -38.8814811706543,
          -48.08837890625,
          65.92130279541016,
          -43.59121322631836,
          -46.24006652832031,
          -52.468177795410156,
          -57.46699905395508,
          -39.96914291381836,
          -27.03129768371582,
          -29.73209571838379,
          -25.437294006347656,
          -31.93608283996582,
          -45.835453033447266,
          -48.52754211425781,
          -52.670928955078125,
          -51.435890197753906,
          -54.678504943847656,
          -13.740813255310059,
          -23.346933364868164,
          -19.597965240478516,
          -49.6814079284668,
          -50.220279693603516,
          -3.7474558353424072,
          -33.49415588378906,
          -43.16789245605469,
          -47.07933044433594,
          -50.63668441772461,
          -18.816558837890625,
          -53.299869537353516,
          -48.39748001098633,
          -16.900516510009766,
          -17.040021896362305,
          -26.568504333496094,
          -31.637475967407227,
          -35.935401916503906,
          -37.55329895019531,
          -42.64028549194336,
          -49.00499725341797,
          -31.96183967590332
         ],
         "z": [
          24.497554779052734,
          26.81116485595703,
          29.673635482788086,
          -0.5024762749671936,
          25.652063369750977,
          1.9737281799316406,
          2.4493980407714844,
          1.7497535943984985,
          -2.0498650074005127,
          40.205631256103516,
          41.02446746826172,
          -1.3960741758346558,
          -5.696078300476074,
          56.08290100097656,
          12.749641418457031,
          13.549424171447754,
          14.621380805969238,
          -10.17265510559082,
          -1.1293432712554932,
          18.542598724365234,
          23.336322784423828,
          22.29064178466797,
          20.226146697998047,
          22.51950454711914,
          21.27958869934082,
          -6.575531482696533,
          14.846960067749023,
          -3.972951889038086,
          11.827498435974121,
          10.406377792358398,
          13.87594985961914,
          -13.404658317565918,
          40.294193267822266,
          6.627070903778076,
          7.025057315826416,
          7.247771739959717,
          -0.7055607438087463,
          8.110678672790527,
          14.885250091552734,
          24.542102813720703,
          28.15369415283203,
          5.761484622955322,
          7.203179359436035,
          25.131973266601562,
          27.933773040771484,
          30.49177360534668,
          26.942964553833008,
          30.633563995361328,
          28.799419403076172,
          4.390992641448975
         ]
        }
       ],
       "layout": {
        "legend": {
         "title": {
          "text": "color"
         },
         "tracegroupgap": 0
        },
        "margin": {
         "t": 60
        },
        "scene": {
         "domain": {
          "x": [
           0,
           1
          ],
          "y": [
           0,
           1
          ]
         },
         "xaxis": {
          "title": {
           "text": "x"
          }
         },
         "yaxis": {
          "title": {
           "text": "y"
          }
         },
         "zaxis": {
          "title": {
           "text": "z"
          }
         }
        },
        "template": {
         "data": {
          "bar": [
           {
            "error_x": {
             "color": "#2a3f5f"
            },
            "error_y": {
             "color": "#2a3f5f"
            },
            "marker": {
             "line": {
              "color": "#E5ECF6",
              "width": 0.5
             },
             "pattern": {
              "fillmode": "overlay",
              "size": 10,
              "solidity": 0.2
             }
            },
            "type": "bar"
           }
          ],
          "barpolar": [
           {
            "marker": {
             "line": {
              "color": "#E5ECF6",
              "width": 0.5
             },
             "pattern": {
              "fillmode": "overlay",
              "size": 10,
              "solidity": 0.2
             }
            },
            "type": "barpolar"
           }
          ],
          "carpet": [
           {
            "aaxis": {
             "endlinecolor": "#2a3f5f",
             "gridcolor": "white",
             "linecolor": "white",
             "minorgridcolor": "white",
             "startlinecolor": "#2a3f5f"
            },
            "baxis": {
             "endlinecolor": "#2a3f5f",
             "gridcolor": "white",
             "linecolor": "white",
             "minorgridcolor": "white",
             "startlinecolor": "#2a3f5f"
            },
            "type": "carpet"
           }
          ],
          "choropleth": [
           {
            "colorbar": {
             "outlinewidth": 0,
             "ticks": ""
            },
            "type": "choropleth"
           }
          ],
          "contour": [
           {
            "colorbar": {
             "outlinewidth": 0,
             "ticks": ""
            },
            "colorscale": [
             [
              0,
              "#0d0887"
             ],
             [
              0.1111111111111111,
              "#46039f"
             ],
             [
              0.2222222222222222,
              "#7201a8"
             ],
             [
              0.3333333333333333,
              "#9c179e"
             ],
             [
              0.4444444444444444,
              "#bd3786"
             ],
             [
              0.5555555555555556,
              "#d8576b"
             ],
             [
              0.6666666666666666,
              "#ed7953"
             ],
             [
              0.7777777777777778,
              "#fb9f3a"
             ],
             [
              0.8888888888888888,
              "#fdca26"
             ],
             [
              1,
              "#f0f921"
             ]
            ],
            "type": "contour"
           }
          ],
          "contourcarpet": [
           {
            "colorbar": {
             "outlinewidth": 0,
             "ticks": ""
            },
            "type": "contourcarpet"
           }
          ],
          "heatmap": [
           {
            "colorbar": {
             "outlinewidth": 0,
             "ticks": ""
            },
            "colorscale": [
             [
              0,
              "#0d0887"
             ],
             [
              0.1111111111111111,
              "#46039f"
             ],
             [
              0.2222222222222222,
              "#7201a8"
             ],
             [
              0.3333333333333333,
              "#9c179e"
             ],
             [
              0.4444444444444444,
              "#bd3786"
             ],
             [
              0.5555555555555556,
              "#d8576b"
             ],
             [
              0.6666666666666666,
              "#ed7953"
             ],
             [
              0.7777777777777778,
              "#fb9f3a"
             ],
             [
              0.8888888888888888,
              "#fdca26"
             ],
             [
              1,
              "#f0f921"
             ]
            ],
            "type": "heatmap"
           }
          ],
          "heatmapgl": [
           {
            "colorbar": {
             "outlinewidth": 0,
             "ticks": ""
            },
            "colorscale": [
             [
              0,
              "#0d0887"
             ],
             [
              0.1111111111111111,
              "#46039f"
             ],
             [
              0.2222222222222222,
              "#7201a8"
             ],
             [
              0.3333333333333333,
              "#9c179e"
             ],
             [
              0.4444444444444444,
              "#bd3786"
             ],
             [
              0.5555555555555556,
              "#d8576b"
             ],
             [
              0.6666666666666666,
              "#ed7953"
             ],
             [
              0.7777777777777778,
              "#fb9f3a"
             ],
             [
              0.8888888888888888,
              "#fdca26"
             ],
             [
              1,
              "#f0f921"
             ]
            ],
            "type": "heatmapgl"
           }
          ],
          "histogram": [
           {
            "marker": {
             "pattern": {
              "fillmode": "overlay",
              "size": 10,
              "solidity": 0.2
             }
            },
            "type": "histogram"
           }
          ],
          "histogram2d": [
           {
            "colorbar": {
             "outlinewidth": 0,
             "ticks": ""
            },
            "colorscale": [
             [
              0,
              "#0d0887"
             ],
             [
              0.1111111111111111,
              "#46039f"
             ],
             [
              0.2222222222222222,
              "#7201a8"
             ],
             [
              0.3333333333333333,
              "#9c179e"
             ],
             [
              0.4444444444444444,
              "#bd3786"
             ],
             [
              0.5555555555555556,
              "#d8576b"
             ],
             [
              0.6666666666666666,
              "#ed7953"
             ],
             [
              0.7777777777777778,
              "#fb9f3a"
             ],
             [
              0.8888888888888888,
              "#fdca26"
             ],
             [
              1,
              "#f0f921"
             ]
            ],
            "type": "histogram2d"
           }
          ],
          "histogram2dcontour": [
           {
            "colorbar": {
             "outlinewidth": 0,
             "ticks": ""
            },
            "colorscale": [
             [
              0,
              "#0d0887"
             ],
             [
              0.1111111111111111,
              "#46039f"
             ],
             [
              0.2222222222222222,
              "#7201a8"
             ],
             [
              0.3333333333333333,
              "#9c179e"
             ],
             [
              0.4444444444444444,
              "#bd3786"
             ],
             [
              0.5555555555555556,
              "#d8576b"
             ],
             [
              0.6666666666666666,
              "#ed7953"
             ],
             [
              0.7777777777777778,
              "#fb9f3a"
             ],
             [
              0.8888888888888888,
              "#fdca26"
             ],
             [
              1,
              "#f0f921"
             ]
            ],
            "type": "histogram2dcontour"
           }
          ],
          "mesh3d": [
           {
            "colorbar": {
             "outlinewidth": 0,
             "ticks": ""
            },
            "type": "mesh3d"
           }
          ],
          "parcoords": [
           {
            "line": {
             "colorbar": {
              "outlinewidth": 0,
              "ticks": ""
             }
            },
            "type": "parcoords"
           }
          ],
          "pie": [
           {
            "automargin": true,
            "type": "pie"
           }
          ],
          "scatter": [
           {
            "fillpattern": {
             "fillmode": "overlay",
             "size": 10,
             "solidity": 0.2
            },
            "type": "scatter"
           }
          ],
          "scatter3d": [
           {
            "line": {
             "colorbar": {
              "outlinewidth": 0,
              "ticks": ""
             }
            },
            "marker": {
             "colorbar": {
              "outlinewidth": 0,
              "ticks": ""
             }
            },
            "type": "scatter3d"
           }
          ],
          "scattercarpet": [
           {
            "marker": {
             "colorbar": {
              "outlinewidth": 0,
              "ticks": ""
             }
            },
            "type": "scattercarpet"
           }
          ],
          "scattergeo": [
           {
            "marker": {
             "colorbar": {
              "outlinewidth": 0,
              "ticks": ""
             }
            },
            "type": "scattergeo"
           }
          ],
          "scattergl": [
           {
            "marker": {
             "colorbar": {
              "outlinewidth": 0,
              "ticks": ""
             }
            },
            "type": "scattergl"
           }
          ],
          "scattermapbox": [
           {
            "marker": {
             "colorbar": {
              "outlinewidth": 0,
              "ticks": ""
             }
            },
            "type": "scattermapbox"
           }
          ],
          "scatterpolar": [
           {
            "marker": {
             "colorbar": {
              "outlinewidth": 0,
              "ticks": ""
             }
            },
            "type": "scatterpolar"
           }
          ],
          "scatterpolargl": [
           {
            "marker": {
             "colorbar": {
              "outlinewidth": 0,
              "ticks": ""
             }
            },
            "type": "scatterpolargl"
           }
          ],
          "scatterternary": [
           {
            "marker": {
             "colorbar": {
              "outlinewidth": 0,
              "ticks": ""
             }
            },
            "type": "scatterternary"
           }
          ],
          "surface": [
           {
            "colorbar": {
             "outlinewidth": 0,
             "ticks": ""
            },
            "colorscale": [
             [
              0,
              "#0d0887"
             ],
             [
              0.1111111111111111,
              "#46039f"
             ],
             [
              0.2222222222222222,
              "#7201a8"
             ],
             [
              0.3333333333333333,
              "#9c179e"
             ],
             [
              0.4444444444444444,
              "#bd3786"
             ],
             [
              0.5555555555555556,
              "#d8576b"
             ],
             [
              0.6666666666666666,
              "#ed7953"
             ],
             [
              0.7777777777777778,
              "#fb9f3a"
             ],
             [
              0.8888888888888888,
              "#fdca26"
             ],
             [
              1,
              "#f0f921"
             ]
            ],
            "type": "surface"
           }
          ],
          "table": [
           {
            "cells": {
             "fill": {
              "color": "#EBF0F8"
             },
             "line": {
              "color": "white"
             }
            },
            "header": {
             "fill": {
              "color": "#C8D4E3"
             },
             "line": {
              "color": "white"
             }
            },
            "type": "table"
           }
          ]
         },
         "layout": {
          "annotationdefaults": {
           "arrowcolor": "#2a3f5f",
           "arrowhead": 0,
           "arrowwidth": 1
          },
          "autotypenumbers": "strict",
          "coloraxis": {
           "colorbar": {
            "outlinewidth": 0,
            "ticks": ""
           }
          },
          "colorscale": {
           "diverging": [
            [
             0,
             "#8e0152"
            ],
            [
             0.1,
             "#c51b7d"
            ],
            [
             0.2,
             "#de77ae"
            ],
            [
             0.3,
             "#f1b6da"
            ],
            [
             0.4,
             "#fde0ef"
            ],
            [
             0.5,
             "#f7f7f7"
            ],
            [
             0.6,
             "#e6f5d0"
            ],
            [
             0.7,
             "#b8e186"
            ],
            [
             0.8,
             "#7fbc41"
            ],
            [
             0.9,
             "#4d9221"
            ],
            [
             1,
             "#276419"
            ]
           ],
           "sequential": [
            [
             0,
             "#0d0887"
            ],
            [
             0.1111111111111111,
             "#46039f"
            ],
            [
             0.2222222222222222,
             "#7201a8"
            ],
            [
             0.3333333333333333,
             "#9c179e"
            ],
            [
             0.4444444444444444,
             "#bd3786"
            ],
            [
             0.5555555555555556,
             "#d8576b"
            ],
            [
             0.6666666666666666,
             "#ed7953"
            ],
            [
             0.7777777777777778,
             "#fb9f3a"
            ],
            [
             0.8888888888888888,
             "#fdca26"
            ],
            [
             1,
             "#f0f921"
            ]
           ],
           "sequentialminus": [
            [
             0,
             "#0d0887"
            ],
            [
             0.1111111111111111,
             "#46039f"
            ],
            [
             0.2222222222222222,
             "#7201a8"
            ],
            [
             0.3333333333333333,
             "#9c179e"
            ],
            [
             0.4444444444444444,
             "#bd3786"
            ],
            [
             0.5555555555555556,
             "#d8576b"
            ],
            [
             0.6666666666666666,
             "#ed7953"
            ],
            [
             0.7777777777777778,
             "#fb9f3a"
            ],
            [
             0.8888888888888888,
             "#fdca26"
            ],
            [
             1,
             "#f0f921"
            ]
           ]
          },
          "colorway": [
           "#636efa",
           "#EF553B",
           "#00cc96",
           "#ab63fa",
           "#FFA15A",
           "#19d3f3",
           "#FF6692",
           "#B6E880",
           "#FF97FF",
           "#FECB52"
          ],
          "font": {
           "color": "#2a3f5f"
          },
          "geo": {
           "bgcolor": "white",
           "lakecolor": "white",
           "landcolor": "#E5ECF6",
           "showlakes": true,
           "showland": true,
           "subunitcolor": "white"
          },
          "hoverlabel": {
           "align": "left"
          },
          "hovermode": "closest",
          "mapbox": {
           "style": "light"
          },
          "paper_bgcolor": "white",
          "plot_bgcolor": "#E5ECF6",
          "polar": {
           "angularaxis": {
            "gridcolor": "white",
            "linecolor": "white",
            "ticks": ""
           },
           "bgcolor": "#E5ECF6",
           "radialaxis": {
            "gridcolor": "white",
            "linecolor": "white",
            "ticks": ""
           }
          },
          "scene": {
           "xaxis": {
            "backgroundcolor": "#E5ECF6",
            "gridcolor": "white",
            "gridwidth": 2,
            "linecolor": "white",
            "showbackground": true,
            "ticks": "",
            "zerolinecolor": "white"
           },
           "yaxis": {
            "backgroundcolor": "#E5ECF6",
            "gridcolor": "white",
            "gridwidth": 2,
            "linecolor": "white",
            "showbackground": true,
            "ticks": "",
            "zerolinecolor": "white"
           },
           "zaxis": {
            "backgroundcolor": "#E5ECF6",
            "gridcolor": "white",
            "gridwidth": 2,
            "linecolor": "white",
            "showbackground": true,
            "ticks": "",
            "zerolinecolor": "white"
           }
          },
          "shapedefaults": {
           "line": {
            "color": "#2a3f5f"
           }
          },
          "ternary": {
           "aaxis": {
            "gridcolor": "white",
            "linecolor": "white",
            "ticks": ""
           },
           "baxis": {
            "gridcolor": "white",
            "linecolor": "white",
            "ticks": ""
           },
           "bgcolor": "#E5ECF6",
           "caxis": {
            "gridcolor": "white",
            "linecolor": "white",
            "ticks": ""
           }
          },
          "title": {
           "x": 0.05
          },
          "xaxis": {
           "automargin": true,
           "gridcolor": "white",
           "linecolor": "white",
           "ticks": "",
           "title": {
            "standoff": 15
           },
           "zerolinecolor": "white",
           "zerolinewidth": 2
          },
          "yaxis": {
           "automargin": true,
           "gridcolor": "white",
           "linecolor": "white",
           "ticks": "",
           "title": {
            "standoff": 15
           },
           "zerolinecolor": "white",
           "zerolinewidth": 2
          }
         }
        }
       }
      },
      "text/html": [
       "<div>                            <div id=\"45ac5ea4-debf-4114-82ac-4ce2853b16fc\" class=\"plotly-graph-div\" style=\"height:525px; width:100%;\"></div>            <script type=\"text/javascript\">                require([\"plotly\"], function(Plotly) {                    window.PLOTLYENV=window.PLOTLYENV || {};                                    if (document.getElementById(\"45ac5ea4-debf-4114-82ac-4ce2853b16fc\")) {                    Plotly.newPlot(                        \"45ac5ea4-debf-4114-82ac-4ce2853b16fc\",                        [{\"hovertemplate\":\"color=m<br>x=%{x}<br>y=%{y}<br>z=%{z}<extra></extra>\",\"legendgroup\":\"m\",\"marker\":{\"color\":\"#636efa\",\"symbol\":\"circle\"},\"mode\":\"markers\",\"name\":\"m\",\"scene\":\"scene\",\"showlegend\":true,\"x\":[44.333091735839844,40.457435607910156,33.803688049316406,37.70640182495117,28.775732040405273,14.634523391723633,26.820884704589844,21.548961639404297,3.4288735389709473,10.232571601867676,0.24146465957164764,3.543884038925171,-1.8564423322677612,-0.6624883413314819,-2.6294307708740234,-33.79261016845703,14.025867462158203,6.936176300048828,18.730405807495117,11.196072578430176,22.715776443481445,-3.6126821041107178,9.077073097229004,15.022124290466309,17.964502334594727,3.8039510250091553,-2.966200113296509,-1.345916748046875,4.2230706214904785,0.5371698141098022,-2.745018243789673,5.697119235992432,1.6568546295166016,37.8852424621582,33.62289810180664,45.62045669555664,2.2687695026397705,23.39938735961914,-6.5025105476379395,20.533584594726562,38.07932662963867,38.88289260864258,45.268436431884766,1.369336724281311,415.110107421875,26.81038475036621,-199.68650817871094],\"y\":[-16.065616607666016,-26.887832641601562,-24.04093360900879,-25.76045036315918,-23.615625381469727,-24.747774124145508,-18.213123321533203,-15.966225624084473,-27.541765213012695,-8.598394393920898,-19.564197540283203,-17.513856887817383,-13.501235961914062,-40.37160110473633,-5.393011093139648,-37.05177307128906,-16.16900062561035,-12.458183288574219,-11.307856559753418,-13.020894050598145,-16.763534545898438,-10.280592918395996,-23.289091110229492,-6.373424530029297,-11.542818069458008,-13.502406120300293,-6.982762336730957,-15.615185737609863,-19.675338745117188,-28.662050247192383,-23.5835018157959,-5.732648849487305,-0.5948383808135986,-18.9560604095459,-19.28281021118164,-22.559337615966797,-0.25966185331344604,-23.556793212890625,-18.99620246887207,-22.3223934173584,12.369837760925293,-19.96884536743164,-21.783233642578125,-6.4299726486206055,-81.22452545166016,-14.315642356872559,-62.791770935058594],\"z\":[-35.27585220336914,-36.28977584838867,-35.92921829223633,-29.693374633789062,-12.154041290283203,-24.806499481201172,-10.473889350891113,-41.05643844604492,-11.080911636352539,-43.43484115600586,-16.09330940246582,-32.82252883911133,-33.98850631713867,-14.147403717041016,-48.160064697265625,-24.968191146850586,-35.0045166015625,-35.49327850341797,-38.57642364501953,-30.00790023803711,-34.550018310546875,-40.57453155517578,-8.402348518371582,-47.798248291015625,-47.07600021362305,-18.42613983154297,-34.63541793823242,-22.354541778564453,-22.42157554626465,-17.531978607177734,-21.056915283203125,-48.56654739379883,-52.25743865966797,-32.34811019897461,-10.593071937561035,-38.71394348144531,-45.80250549316406,-6.496891021728516,-17.26817512512207,-11.92890739440918,75.83161163330078,-39.53147506713867,-31.28326988220215,-41.26649475097656,-100.28587341308594,-24.19405174255371,2.6602039337158203],\"type\":\"scatter3d\"},{\"hovertemplate\":\"color=y<br>x=%{x}<br>y=%{y}<br>z=%{z}<extra></extra>\",\"legendgroup\":\"y\",\"marker\":{\"color\":\"#EF553B\",\"symbol\":\"circle\"},\"mode\":\"markers\",\"name\":\"y\",\"scene\":\"scene\",\"showlegend\":true,\"x\":[-26.07970428466797,-23.242748260498047,-23.137264251708984,-22.713090896606445,-7.4945387840271,16.56028175354004,-16.536378860473633,5.292171955108643,-11.133111953735352,-22.331729888916016,-26.639406204223633,-26.235504150390625,-1.3390121459960938,10.899405479431152,-11.62868881225586,-29.90022850036621,-15.436470985412598,14.397239685058594,-26.37323570251465,-27.20089340209961,-33.16579055786133,3.9518167972564697,-28.748905181884766,-9.995481491088867,-1.3857922554016113,9.78036117553711,1.8472745418548584,-21.858074188232422,-14.77304458618164,-30.16083335876465,-23.108692169189453,-30.519485473632812,-4.815279006958008,17.53169059753418,-10.58741569519043,-12.209628105163574,20.97791290283203,-27.960628509521484,-16.497482299804688,-30.323383331298828,-24.693145751953125,-30.20924949645996,-31.936161041259766,-7.6529107093811035,64.01361083984375,-17.264867782592773,-19.79914665222168,-26.80898666381836,-17.941354751586914,-16.577613830566406,5.251281261444092,5.046977519989014,6.621398448944092,-25.745737075805664,10.773776054382324,2.318570613861084,-18.84783172607422,-17.939599990844727,-7.877898693084717],\"y\":[57.9052848815918,42.207061767578125,41.145931243896484,48.44337844848633,37.99913787841797,42.36664962768555,39.7817268371582,40.070701599121094,27.46794891357422,24.98116111755371,41.685325622558594,38.417545318603516,40.3387451171875,45.298683166503906,22.43937110900879,40.69866943359375,25.85468292236328,35.917659759521484,29.918067932128906,45.814674377441406,43.01995086669922,45.92818832397461,37.483680725097656,29.973129272460938,39.804691314697266,46.97278594970703,36.98595428466797,16.114246368408203,33.266868591308594,59.28567123413086,35.58406066894531,13.105178833007812,36.7418327331543,48.597740173339844,31.693939208984375,26.943382263183594,44.2031364440918,35.82125473022461,20.18877601623535,43.325927734375,14.870691299438477,36.016685485839844,49.017887115478516,36.686214447021484,-77.06538391113281,23.205875396728516,24.45499038696289,19.87933349609375,25.582176208496094,29.51909065246582,43.70981216430664,48.79405212402344,42.94888687133789,54.79482650756836,46.659915924072266,44.1308479309082,55.45282745361328,28.848953247070312,41.184539794921875],\"z\":[-0.0686807930469513,9.598604202270508,-8.381636619567871,-9.379295349121094,7.176764488220215,-12.137078285217285,7.507610321044922,-7.940239429473877,41.595542907714844,10.945697784423828,18.049333572387695,0.5319599509239197,6.251334190368652,2.6452038288116455,35.52888107299805,-5.418031215667725,13.196861267089844,-7.007053852081299,19.883609771728516,3.3972971439361572,1.8324861526489258,-4.722923755645752,7.641336441040039,35.11084747314453,-17.78889274597168,-13.795010566711426,37.10123062133789,36.30066680908203,39.01411437988281,-3.582852602005005,17.477602005004883,36.684425354003906,0.16364941000938416,-6.8527750968933105,11.128562927246094,26.77010154724121,-0.05764567852020264,22.879167556762695,41.59455490112305,12.310640335083008,42.21770477294922,15.093770027160645,-3.3778865337371826,-6.647945404052734,54.870849609375,24.0039005279541,17.477005004882812,38.8416748046875,37.14581298828125,7.07971715927124,6.578206539154053,6.939187049865723,-17.94472312927246,-7.352822780609131,-5.369344234466553,-13.173526763916016,-10.445942878723145,27.593807220458984,-2.5195364952087402],\"type\":\"scatter3d\"},{\"hovertemplate\":\"color=g<br>x=%{x}<br>y=%{y}<br>z=%{z}<extra></extra>\",\"legendgroup\":\"g\",\"marker\":{\"color\":\"#00cc96\",\"symbol\":\"circle\"},\"mode\":\"markers\",\"name\":\"g\",\"scene\":\"scene\",\"showlegend\":true,\"x\":[20.669437408447266,23.285356521606445,14.318075180053711,38.31059646606445,-208.0128936767578,17.31844139099121,248.03890991210938,17.866191864013672,24.904003143310547,42.15549087524414,28.03256607055664,26.755842208862305,47.94922637939453,48.517234802246094,53.56420135498047,49.24894714355469,27.545549392700195,10.623516082763672,31.907848358154297,25.915071487426758,13.441794395446777,39.876373291015625,23.269777297973633,25.906238555908203,29.980424880981445,23.861555099487305,16.521608352661133,34.451995849609375,30.39902114868164,33.68363571166992,31.825847625732422,46.829341888427734,32.876258850097656,40.25762939453125,17.176090240478516,24.73394203186035,23.10454750061035,19.18052101135254,25.1873836517334,25.11918830871582,8.797558784484863,18.785581588745117],\"y\":[11.328883171081543,1.5483590364456177,12.892512321472168,18.12321662902832,-1.0894535779953003,-3.891378164291382,56.483543395996094,43.52997589111328,46.778594970703125,12.345269203186035,16.613340377807617,323.65106201171875,18.092037200927734,7.910039901733398,13.618258476257324,13.309557914733887,23.183429718017578,20.047807693481445,20.72772979736328,50.289703369140625,47.812843322753906,18.553199768066406,26.267967224121094,8.014220237731934,11.130072593688965,12.887977600097656,25.440570831298828,13.492189407348633,22.391983032226562,19.01876449584961,15.319490432739258,12.536465644836426,20.97112464904785,13.543110847473145,2.027204751968384,48.741004943847656,43.62117385864258,7.468051910400391,5.956216335296631,24.613964080810547,10.15206241607666,48.94527053833008],\"z\":[1.0707563161849976,-5.909092903137207,-4.7671003341674805,-28.98185157775879,-63.964290618896484,1.0731801986694336,35.901893615722656,-20.194133758544922,-5.3810200691223145,-31.109804153442383,-38.44881820678711,-19.59468650817871,-29.371604919433594,-30.111501693725586,-28.196332931518555,-34.658103942871094,-18.922168731689453,-46.11989974975586,-15.729670524597168,-13.834531784057617,-25.050817489624023,-36.07650375366211,-6.786925315856934,-0.7611690759658813,-14.287708282470703,-4.743813514709473,-8.03001880645752,-37.39509963989258,-24.70922088623047,-41.806671142578125,-30.602500915527344,-24.875102996826172,-35.24464416503906,-43.06795120239258,-2.067173719406128,-20.483386993408203,-14.752630233764648,-5.702500343322754,-10.454730033874512,-12.897253036499023,-2.626490354537964,-15.422608375549316],\"type\":\"scatter3d\"},{\"hovertemplate\":\"color=b<br>x=%{x}<br>y=%{y}<br>z=%{z}<extra></extra>\",\"legendgroup\":\"b\",\"marker\":{\"color\":\"#ab63fa\",\"symbol\":\"circle\"},\"mode\":\"markers\",\"name\":\"b\",\"scene\":\"scene\",\"showlegend\":true,\"x\":[36.54509735107422,-2.723491907119751,-1.171699047088623,9.953486442565918,0.021394478157162666,41.28952407836914,5.590156078338623,-1.939184546470642,5.834759712219238,64.76774597167969,59.500892639160156,66.0881576538086,61.962703704833984,59.96726989746094,4.209362983703613,-3.345693588256836,2.2611172199249268,36.008670806884766,43.15171432495117,0.9854949116706848,31.870162963867188,-11.924895286560059,32.05215072631836,38.23526382446289,47.618873596191406,41.8694953918457,41.292396545410156,-0.4018668234348297,-17.237361907958984,26.21324920654297,34.59928894042969,32.43825149536133,19.50165557861328,36.883968353271484,13.17175579071045,38.71916961669922,24.061941146850586,42.601497650146484,30.598115921020508,3.197556734085083,2.408815383911133,55.97785186767578,58.752845764160156,1.4041728973388672,54.2212028503418,381.4656677246094,40.338558197021484],\"y\":[-0.3089427649974823,-2.144113302230835,-12.486394882202148,11.983192443847656,11.872949600219727,-2.9423906803131104,6.188862323760986,4.736813068389893,-11.952911376953125,-22.06831932067871,-17.188066482543945,-14.926514625549316,-18.041595458984375,-24.883922576904297,-0.06579822301864624,3.805025100708008,-17.387208938598633,-1.1869007349014282,-15.870211601257324,-11.282980918884277,-14.658892631530762,2.9258534908294678,10.0380277633667,6.456844806671143,-0.6271780133247375,-6.4476189613342285,4.160768508911133,-2.7355544567108154,0.4032908082008362,14.543256759643555,-8.765073776245117,5.644442081451416,10.30224895477295,-14.211349487304688,7.433108329772949,-7.559817314147949,8.682747840881348,0.9106256365776062,12.585070610046387,6.5722198486328125,-0.5861486792564392,-23.935190200805664,-28.484830856323242,-13.349055290222168,-24.387292861938477,-274.2107849121094,-14.962660789489746],\"z\":[32.50771713256836,62.370765686035156,54.73850631713867,63.74290466308594,64.165771484375,22.107019424438477,65.8389892578125,65.69849395751953,56.66683578491211,3.99621319770813,5.511070251464844,3.705927610397339,-1.25104558467865,12.111656188964844,60.751522064208984,58.518306732177734,58.61332702636719,16.080045700073242,21.93027114868164,61.563358306884766,17.53269386291504,30.198013305664062,29.09090805053711,31.898487091064453,17.561880111694336,15.137030601501465,18.760896682739258,55.38503646850586,36.07051467895508,30.036157608032227,18.822589874267578,34.307621002197266,27.460451126098633,23.956201553344727,29.567874908447266,31.586631774902344,32.740962982177734,11.661307334899902,35.190547943115234,58.752525329589844,68.0643539428711,0.8650567531585693,4.5400614738464355,48.11505889892578,7.392119884490967,74.76422882080078,15.919598579406738],\"type\":\"scatter3d\"},{\"hovertemplate\":\"color=k<br>x=%{x}<br>y=%{y}<br>z=%{z}<extra></extra>\",\"legendgroup\":\"k\",\"marker\":{\"color\":\"#FFA15A\",\"symbol\":\"circle\"},\"mode\":\"markers\",\"name\":\"k\",\"scene\":\"scene\",\"showlegend\":true,\"x\":[17.426639556884766,13.864554405212402,13.68448543548584,13.204663276672363,8.942296981811523,-2.322382688522339,2.421306610107422,5.376502513885498,11.588937759399414,8.015403747558594,4.997541427612305,2.902172803878784,-1.4471601247787476,-0.32099810242652893,-2.0200984477996826,3.8089399337768555,-11.653613090515137,3.9575343132019043],\"y\":[-8.078539848327637,-16.234683990478516,-16.65142059326172,1.5339051485061646,7.534327507019043,-15.545835494995117,-10.718011856079102,2.544459342956543,-9.077815055847168,-17.273855209350586,-5.114279270172119,-12.494165420532227,-9.074697494506836,-4.080954074859619,-15.423994064331055,-19.140701293945312,-8.06421184539795,-14.21461296081543],\"z\":[22.01329803466797,20.875791549682617,27.24579620361328,25.220993041992188,23.53043556213379,36.65970993041992,25.85362434387207,27.284868240356445,21.482402801513672,24.03944969177246,30.011363983154297,40.93939971923828,32.39864730834961,26.273088455200195,29.343456268310547,40.06369400024414,39.66081619262695,33.40922164916992],\"type\":\"scatter3d\"},{\"hovertemplate\":\"color=c<br>x=%{x}<br>y=%{y}<br>z=%{z}<extra></extra>\",\"legendgroup\":\"c\",\"marker\":{\"color\":\"#19d3f3\",\"symbol\":\"circle\"},\"mode\":\"markers\",\"name\":\"c\",\"scene\":\"scene\",\"showlegend\":true,\"x\":[-45.77070617675781,-44.4318962097168,-45.444061279296875,-46.761634826660156,-21.152366638183594,-24.676433563232422,-20.642356872558594,-31.07154083251953,-32.82084655761719,-51.77715301513672,-46.94553756713867,-36.73927307128906,-40.142486572265625,-39.95536804199219,-33.7164421081543,-35.0137825012207,-24.53474998474121,-22.43345832824707,-41.44819259643555,-45.456478118896484,-20.456636428833008,-23.287139892578125,-17.985692977905273,-19.69509506225586,-39.52353286743164,-41.253143310546875,-42.565589904785156,-38.376529693603516,-26.75934410095215,-37.335845947265625,-36.43458938598633,-40.424808502197266,-48.15592956542969,-27.04729461669922,-30.361921310424805,-25.008546829223633,-24.915658950805664],\"y\":[0.005561981815844774,-1.6319793462753296,-12.236234664916992,-10.050824165344238,-1.0609145164489746,2.9038076400756836,-1.4680218696594238,7.372477054595947,4.931432247161865,-8.534860610961914,-11.20909309387207,2.0200445652008057,5.8658294677734375,1.1466240882873535,13.701102256774902,11.746820449829102,12.423872947692871,7.618286609649658,-3.967625617980957,-7.429357051849365,18.661483764648438,22.752838134765625,18.001659393310547,12.159923553466797,8.35811996459961,-4.282449245452881,-0.8139142394065857,-8.507059097290039,1.2707120180130005,-3.4114015102386475,-0.8281712532043457,-10.598328590393066,-6.341794967651367,14.247503280639648,11.159634590148926,6.779940128326416,11.546669960021973],\"z\":[-24.07701873779297,-33.48440933227539,-12.849360466003418,-26.324810028076172,-4.917496204376221,-1.7133527994155884,2.2486515045166016,-37.819210052490234,-31.219423294067383,-34.108428955078125,-35.515663146972656,-36.9051399230957,-30.6036376953125,-18.30194091796875,-38.153995513916016,-31.614683151245117,-25.901315689086914,-9.950779914855957,-23.866294860839844,-8.673336029052734,-35.152748107910156,-29.71328353881836,-28.8810977935791,-32.26833724975586,-37.261436462402344,-2.278958559036255,-9.809110641479492,-6.71610164642334,-7.954247951507568,-12.809462547302246,-6.269811630249023,1.861651062965393,-21.633079528808594,-32.98579025268555,-23.936220169067383,-21.04807472229004,-17.45525360107422],\"type\":\"scatter3d\"},{\"hovertemplate\":\"color=r<br>x=%{x}<br>y=%{y}<br>z=%{z}<extra></extra>\",\"legendgroup\":\"r\",\"marker\":{\"color\":\"#FF6692\",\"symbol\":\"circle\"},\"mode\":\"markers\",\"name\":\"r\",\"scene\":\"scene\",\"showlegend\":true,\"x\":[-22.754709243774414,-19.675548553466797,-17.048694610595703,-2.703735828399658,-41.68955993652344,-15.631858825683594,-23.93043327331543,-10.13161849975586,-5.927724838256836,-9.822630882263184,-15.792283058166504,-18.88324737548828,-11.58227252960205,53.038124084472656,-12.058188438415527,-1.0446034669876099,1.3474305868148804,-5.697696208953857,-12.084038734436035,-40.11804962158203,-28.506450653076172,-34.02729797363281,-33.93227005004883,-8.779141426086426,-1.544874668121338,-2.21939754486084,-5.378969192504883,-8.751496315002441,-34.036502838134766,-35.026878356933594,-30.49472999572754,-5.596000671386719,-11.193283081054688,8.75153923034668,-27.236251831054688,-9.652202606201172,1.1367303133010864,-2.153221368789673,-37.63077163696289,-5.97688102722168,-2.897204875946045,-31.360368728637695,-38.55357360839844,-41.902259826660156,-33.98460388183594,-23.045185089111328,-29.593191146850586,-25.055301666259766,-10.47549057006836,-19.80034637451172],\"y\":[-39.71218490600586,-46.490745544433594,-40.960365295410156,-56.17182540893555,-33.374263763427734,-44.6510009765625,-6.438807487487793,-49.06418228149414,-46.09623718261719,-44.19876480102539,-45.924041748046875,-38.8814811706543,-48.08837890625,65.92130279541016,-43.59121322631836,-46.24006652832031,-52.468177795410156,-57.46699905395508,-39.96914291381836,-27.03129768371582,-29.73209571838379,-25.437294006347656,-31.93608283996582,-45.835453033447266,-48.52754211425781,-52.670928955078125,-51.435890197753906,-54.678504943847656,-13.740813255310059,-23.346933364868164,-19.597965240478516,-49.6814079284668,-50.220279693603516,-3.7474558353424072,-33.49415588378906,-43.16789245605469,-47.07933044433594,-50.63668441772461,-18.816558837890625,-53.299869537353516,-48.39748001098633,-16.900516510009766,-17.040021896362305,-26.568504333496094,-31.637475967407227,-35.935401916503906,-37.55329895019531,-42.64028549194336,-49.00499725341797,-31.96183967590332],\"z\":[24.497554779052734,26.81116485595703,29.673635482788086,-0.5024762749671936,25.652063369750977,1.9737281799316406,2.4493980407714844,1.7497535943984985,-2.0498650074005127,40.205631256103516,41.02446746826172,-1.3960741758346558,-5.696078300476074,56.08290100097656,12.749641418457031,13.549424171447754,14.621380805969238,-10.17265510559082,-1.1293432712554932,18.542598724365234,23.336322784423828,22.29064178466797,20.226146697998047,22.51950454711914,21.27958869934082,-6.575531482696533,14.846960067749023,-3.972951889038086,11.827498435974121,10.406377792358398,13.87594985961914,-13.404658317565918,40.294193267822266,6.627070903778076,7.025057315826416,7.247771739959717,-0.7055607438087463,8.110678672790527,14.885250091552734,24.542102813720703,28.15369415283203,5.761484622955322,7.203179359436035,25.131973266601562,27.933773040771484,30.49177360534668,26.942964553833008,30.633563995361328,28.799419403076172,4.390992641448975],\"type\":\"scatter3d\"}],                        {\"template\":{\"data\":{\"histogram2dcontour\":[{\"type\":\"histogram2dcontour\",\"colorbar\":{\"outlinewidth\":0,\"ticks\":\"\"},\"colorscale\":[[0.0,\"#0d0887\"],[0.1111111111111111,\"#46039f\"],[0.2222222222222222,\"#7201a8\"],[0.3333333333333333,\"#9c179e\"],[0.4444444444444444,\"#bd3786\"],[0.5555555555555556,\"#d8576b\"],[0.6666666666666666,\"#ed7953\"],[0.7777777777777778,\"#fb9f3a\"],[0.8888888888888888,\"#fdca26\"],[1.0,\"#f0f921\"]]}],\"choropleth\":[{\"type\":\"choropleth\",\"colorbar\":{\"outlinewidth\":0,\"ticks\":\"\"}}],\"histogram2d\":[{\"type\":\"histogram2d\",\"colorbar\":{\"outlinewidth\":0,\"ticks\":\"\"},\"colorscale\":[[0.0,\"#0d0887\"],[0.1111111111111111,\"#46039f\"],[0.2222222222222222,\"#7201a8\"],[0.3333333333333333,\"#9c179e\"],[0.4444444444444444,\"#bd3786\"],[0.5555555555555556,\"#d8576b\"],[0.6666666666666666,\"#ed7953\"],[0.7777777777777778,\"#fb9f3a\"],[0.8888888888888888,\"#fdca26\"],[1.0,\"#f0f921\"]]}],\"heatmap\":[{\"type\":\"heatmap\",\"colorbar\":{\"outlinewidth\":0,\"ticks\":\"\"},\"colorscale\":[[0.0,\"#0d0887\"],[0.1111111111111111,\"#46039f\"],[0.2222222222222222,\"#7201a8\"],[0.3333333333333333,\"#9c179e\"],[0.4444444444444444,\"#bd3786\"],[0.5555555555555556,\"#d8576b\"],[0.6666666666666666,\"#ed7953\"],[0.7777777777777778,\"#fb9f3a\"],[0.8888888888888888,\"#fdca26\"],[1.0,\"#f0f921\"]]}],\"heatmapgl\":[{\"type\":\"heatmapgl\",\"colorbar\":{\"outlinewidth\":0,\"ticks\":\"\"},\"colorscale\":[[0.0,\"#0d0887\"],[0.1111111111111111,\"#46039f\"],[0.2222222222222222,\"#7201a8\"],[0.3333333333333333,\"#9c179e\"],[0.4444444444444444,\"#bd3786\"],[0.5555555555555556,\"#d8576b\"],[0.6666666666666666,\"#ed7953\"],[0.7777777777777778,\"#fb9f3a\"],[0.8888888888888888,\"#fdca26\"],[1.0,\"#f0f921\"]]}],\"contourcarpet\":[{\"type\":\"contourcarpet\",\"colorbar\":{\"outlinewidth\":0,\"ticks\":\"\"}}],\"contour\":[{\"type\":\"contour\",\"colorbar\":{\"outlinewidth\":0,\"ticks\":\"\"},\"colorscale\":[[0.0,\"#0d0887\"],[0.1111111111111111,\"#46039f\"],[0.2222222222222222,\"#7201a8\"],[0.3333333333333333,\"#9c179e\"],[0.4444444444444444,\"#bd3786\"],[0.5555555555555556,\"#d8576b\"],[0.6666666666666666,\"#ed7953\"],[0.7777777777777778,\"#fb9f3a\"],[0.8888888888888888,\"#fdca26\"],[1.0,\"#f0f921\"]]}],\"surface\":[{\"type\":\"surface\",\"colorbar\":{\"outlinewidth\":0,\"ticks\":\"\"},\"colorscale\":[[0.0,\"#0d0887\"],[0.1111111111111111,\"#46039f\"],[0.2222222222222222,\"#7201a8\"],[0.3333333333333333,\"#9c179e\"],[0.4444444444444444,\"#bd3786\"],[0.5555555555555556,\"#d8576b\"],[0.6666666666666666,\"#ed7953\"],[0.7777777777777778,\"#fb9f3a\"],[0.8888888888888888,\"#fdca26\"],[1.0,\"#f0f921\"]]}],\"mesh3d\":[{\"type\":\"mesh3d\",\"colorbar\":{\"outlinewidth\":0,\"ticks\":\"\"}}],\"scatter\":[{\"fillpattern\":{\"fillmode\":\"overlay\",\"size\":10,\"solidity\":0.2},\"type\":\"scatter\"}],\"parcoords\":[{\"type\":\"parcoords\",\"line\":{\"colorbar\":{\"outlinewidth\":0,\"ticks\":\"\"}}}],\"scatterpolargl\":[{\"type\":\"scatterpolargl\",\"marker\":{\"colorbar\":{\"outlinewidth\":0,\"ticks\":\"\"}}}],\"bar\":[{\"error_x\":{\"color\":\"#2a3f5f\"},\"error_y\":{\"color\":\"#2a3f5f\"},\"marker\":{\"line\":{\"color\":\"#E5ECF6\",\"width\":0.5},\"pattern\":{\"fillmode\":\"overlay\",\"size\":10,\"solidity\":0.2}},\"type\":\"bar\"}],\"scattergeo\":[{\"type\":\"scattergeo\",\"marker\":{\"colorbar\":{\"outlinewidth\":0,\"ticks\":\"\"}}}],\"scatterpolar\":[{\"type\":\"scatterpolar\",\"marker\":{\"colorbar\":{\"outlinewidth\":0,\"ticks\":\"\"}}}],\"histogram\":[{\"marker\":{\"pattern\":{\"fillmode\":\"overlay\",\"size\":10,\"solidity\":0.2}},\"type\":\"histogram\"}],\"scattergl\":[{\"type\":\"scattergl\",\"marker\":{\"colorbar\":{\"outlinewidth\":0,\"ticks\":\"\"}}}],\"scatter3d\":[{\"type\":\"scatter3d\",\"line\":{\"colorbar\":{\"outlinewidth\":0,\"ticks\":\"\"}},\"marker\":{\"colorbar\":{\"outlinewidth\":0,\"ticks\":\"\"}}}],\"scattermapbox\":[{\"type\":\"scattermapbox\",\"marker\":{\"colorbar\":{\"outlinewidth\":0,\"ticks\":\"\"}}}],\"scatterternary\":[{\"type\":\"scatterternary\",\"marker\":{\"colorbar\":{\"outlinewidth\":0,\"ticks\":\"\"}}}],\"scattercarpet\":[{\"type\":\"scattercarpet\",\"marker\":{\"colorbar\":{\"outlinewidth\":0,\"ticks\":\"\"}}}],\"carpet\":[{\"aaxis\":{\"endlinecolor\":\"#2a3f5f\",\"gridcolor\":\"white\",\"linecolor\":\"white\",\"minorgridcolor\":\"white\",\"startlinecolor\":\"#2a3f5f\"},\"baxis\":{\"endlinecolor\":\"#2a3f5f\",\"gridcolor\":\"white\",\"linecolor\":\"white\",\"minorgridcolor\":\"white\",\"startlinecolor\":\"#2a3f5f\"},\"type\":\"carpet\"}],\"table\":[{\"cells\":{\"fill\":{\"color\":\"#EBF0F8\"},\"line\":{\"color\":\"white\"}},\"header\":{\"fill\":{\"color\":\"#C8D4E3\"},\"line\":{\"color\":\"white\"}},\"type\":\"table\"}],\"barpolar\":[{\"marker\":{\"line\":{\"color\":\"#E5ECF6\",\"width\":0.5},\"pattern\":{\"fillmode\":\"overlay\",\"size\":10,\"solidity\":0.2}},\"type\":\"barpolar\"}],\"pie\":[{\"automargin\":true,\"type\":\"pie\"}]},\"layout\":{\"autotypenumbers\":\"strict\",\"colorway\":[\"#636efa\",\"#EF553B\",\"#00cc96\",\"#ab63fa\",\"#FFA15A\",\"#19d3f3\",\"#FF6692\",\"#B6E880\",\"#FF97FF\",\"#FECB52\"],\"font\":{\"color\":\"#2a3f5f\"},\"hovermode\":\"closest\",\"hoverlabel\":{\"align\":\"left\"},\"paper_bgcolor\":\"white\",\"plot_bgcolor\":\"#E5ECF6\",\"polar\":{\"bgcolor\":\"#E5ECF6\",\"angularaxis\":{\"gridcolor\":\"white\",\"linecolor\":\"white\",\"ticks\":\"\"},\"radialaxis\":{\"gridcolor\":\"white\",\"linecolor\":\"white\",\"ticks\":\"\"}},\"ternary\":{\"bgcolor\":\"#E5ECF6\",\"aaxis\":{\"gridcolor\":\"white\",\"linecolor\":\"white\",\"ticks\":\"\"},\"baxis\":{\"gridcolor\":\"white\",\"linecolor\":\"white\",\"ticks\":\"\"},\"caxis\":{\"gridcolor\":\"white\",\"linecolor\":\"white\",\"ticks\":\"\"}},\"coloraxis\":{\"colorbar\":{\"outlinewidth\":0,\"ticks\":\"\"}},\"colorscale\":{\"sequential\":[[0.0,\"#0d0887\"],[0.1111111111111111,\"#46039f\"],[0.2222222222222222,\"#7201a8\"],[0.3333333333333333,\"#9c179e\"],[0.4444444444444444,\"#bd3786\"],[0.5555555555555556,\"#d8576b\"],[0.6666666666666666,\"#ed7953\"],[0.7777777777777778,\"#fb9f3a\"],[0.8888888888888888,\"#fdca26\"],[1.0,\"#f0f921\"]],\"sequentialminus\":[[0.0,\"#0d0887\"],[0.1111111111111111,\"#46039f\"],[0.2222222222222222,\"#7201a8\"],[0.3333333333333333,\"#9c179e\"],[0.4444444444444444,\"#bd3786\"],[0.5555555555555556,\"#d8576b\"],[0.6666666666666666,\"#ed7953\"],[0.7777777777777778,\"#fb9f3a\"],[0.8888888888888888,\"#fdca26\"],[1.0,\"#f0f921\"]],\"diverging\":[[0,\"#8e0152\"],[0.1,\"#c51b7d\"],[0.2,\"#de77ae\"],[0.3,\"#f1b6da\"],[0.4,\"#fde0ef\"],[0.5,\"#f7f7f7\"],[0.6,\"#e6f5d0\"],[0.7,\"#b8e186\"],[0.8,\"#7fbc41\"],[0.9,\"#4d9221\"],[1,\"#276419\"]]},\"xaxis\":{\"gridcolor\":\"white\",\"linecolor\":\"white\",\"ticks\":\"\",\"title\":{\"standoff\":15},\"zerolinecolor\":\"white\",\"automargin\":true,\"zerolinewidth\":2},\"yaxis\":{\"gridcolor\":\"white\",\"linecolor\":\"white\",\"ticks\":\"\",\"title\":{\"standoff\":15},\"zerolinecolor\":\"white\",\"automargin\":true,\"zerolinewidth\":2},\"scene\":{\"xaxis\":{\"backgroundcolor\":\"#E5ECF6\",\"gridcolor\":\"white\",\"linecolor\":\"white\",\"showbackground\":true,\"ticks\":\"\",\"zerolinecolor\":\"white\",\"gridwidth\":2},\"yaxis\":{\"backgroundcolor\":\"#E5ECF6\",\"gridcolor\":\"white\",\"linecolor\":\"white\",\"showbackground\":true,\"ticks\":\"\",\"zerolinecolor\":\"white\",\"gridwidth\":2},\"zaxis\":{\"backgroundcolor\":\"#E5ECF6\",\"gridcolor\":\"white\",\"linecolor\":\"white\",\"showbackground\":true,\"ticks\":\"\",\"zerolinecolor\":\"white\",\"gridwidth\":2}},\"shapedefaults\":{\"line\":{\"color\":\"#2a3f5f\"}},\"annotationdefaults\":{\"arrowcolor\":\"#2a3f5f\",\"arrowhead\":0,\"arrowwidth\":1},\"geo\":{\"bgcolor\":\"white\",\"landcolor\":\"#E5ECF6\",\"subunitcolor\":\"white\",\"showland\":true,\"showlakes\":true,\"lakecolor\":\"white\"},\"title\":{\"x\":0.05},\"mapbox\":{\"style\":\"light\"}}},\"scene\":{\"domain\":{\"x\":[0.0,1.0],\"y\":[0.0,1.0]},\"xaxis\":{\"title\":{\"text\":\"x\"}},\"yaxis\":{\"title\":{\"text\":\"y\"}},\"zaxis\":{\"title\":{\"text\":\"z\"}}},\"legend\":{\"title\":{\"text\":\"color\"},\"tracegroupgap\":0},\"margin\":{\"t\":60}},                        {\"responsive\": true}                    ).then(function(){\n",
       "                            \n",
       "var gd = document.getElementById('45ac5ea4-debf-4114-82ac-4ce2853b16fc');\n",
       "var x = new MutationObserver(function (mutations, observer) {{\n",
       "        var display = window.getComputedStyle(gd).display;\n",
       "        if (!display || display === 'none') {{\n",
       "            console.log([gd, 'removed!']);\n",
       "            Plotly.purge(gd);\n",
       "            observer.disconnect();\n",
       "        }}\n",
       "}});\n",
       "\n",
       "// Listen for the removal of the full notebook cells\n",
       "var notebookContainer = gd.closest('#notebook-container');\n",
       "if (notebookContainer) {{\n",
       "    x.observe(notebookContainer, {childList: true});\n",
       "}}\n",
       "\n",
       "// Listen for the clearing of the current output cell\n",
       "var outputEl = gd.closest('.output');\n",
       "if (outputEl) {{\n",
       "    x.observe(outputEl, {childList: true});\n",
       "}}\n",
       "\n",
       "                        })                };                });            </script>        </div>"
      ]
     },
     "metadata": {},
     "output_type": "display_data"
    }
   ],
   "source": [
    "# plot using tsne \n",
    "X_embedded  = TSNE(n_components=3, perplexity=10,random_state=24).fit_transform( X )\n",
    "colors = np.array([x for x in 'bgrcmykbgrcmykbgrcmykbgrcmyk'])\n",
    "fig = px.scatter_3d(x=X_embedded [:,0],y=X_embedded [:,1],z=X_embedded [:,2],color=colors[bgm_labels])\n",
    "fig.show()"
   ]
  },
  {
   "cell_type": "markdown",
   "metadata": {},
   "source": [
    "### Mini-Batch Kmean Clustering\n",
    "\n",
    "Mini Batch K-means is a variation of K-means algorithm which introduces an idea of using small random batches of data of fixed size. For each iteration, a new random sample from the dataset is taken and used to modify the clusters and this process is repeated until convergence."
   ]
  },
  {
   "cell_type": "code",
   "execution_count": 53,
   "metadata": {},
   "outputs": [],
   "source": [
    "#mbk_model.get_params().keys()"
   ]
  },
  {
   "cell_type": "code",
   "execution_count": 141,
   "metadata": {},
   "outputs": [
    {
     "data": {
      "text/plain": [
       "{'batch_size': [50, 100, 150, 200],\n",
       " 'max_iter': [50, 100, 150, 200],\n",
       " 'init': ['k-means++', 'random'],\n",
       " 'n_clusters': range(2, 6),\n",
       " 'n_init': range(1, 6)}"
      ]
     },
     "execution_count": 141,
     "metadata": {},
     "output_type": "execute_result"
    }
   ],
   "source": [
    "k_mean_grid = {\n",
    "        \"batch_size\": [50, 100, 150, 200],\n",
    "        \"max_iter\": [50, 100, 150, 200],\n",
    "        \"init\": ['k-means++', 'random'],\n",
    "        \"n_clusters\": range(2, 6),\n",
    "        \"n_init\": range(1, 6)\n",
    "       }\n",
    "k_mean_grid"
   ]
  },
  {
   "cell_type": "code",
   "execution_count": 142,
   "metadata": {},
   "outputs": [],
   "source": [
    "mbk_model = MiniBatchKMeans()\n",
    "mbk_params = GridSearchCV(mbk_model,k_mean_grid,scoring=silhouette_score,cv= 10).fit(X, y)"
   ]
  },
  {
   "cell_type": "code",
   "execution_count": 143,
   "metadata": {},
   "outputs": [
    {
     "data": {
      "text/plain": [
       "(0.5854280640373941,\n",
       " {'batch_size': 50,\n",
       "  'init': 'k-means++',\n",
       "  'max_iter': 50,\n",
       "  'n_clusters': 5,\n",
       "  'n_init': 3})"
      ]
     },
     "execution_count": 143,
     "metadata": {},
     "output_type": "execute_result"
    }
   ],
   "source": [
    "mbk_params.best_score_, mbk_params.best_params_"
   ]
  },
  {
   "cell_type": "code",
   "execution_count": 144,
   "metadata": {},
   "outputs": [],
   "source": [
    "batch_size = 45\n",
    "mbk = MiniBatchKMeans(init = mbk_params.best_params_['init'],\n",
    "                      n_clusters = mbk_params.best_params_['n_clusters'],\n",
    "                      batch_size = mbk_params.best_params_['batch_size'],\n",
    "                      n_init = mbk_params.best_params_['n_init'],\n",
    "                      max_iter = mbk_params.best_params_['max_iter'],\n",
    "                      max_no_improvement = 10, verbose = 0)\n",
    "\n",
    "mbk.fit(X)\n",
    "mbk_means_cluster_centers = np.sort(mbk.cluster_centers_, axis = 0)\n",
    "mbk_means_labels = pairwise_distances_argmin(X, mbk_means_cluster_centers)\n"
   ]
  },
  {
   "cell_type": "code",
   "execution_count": 145,
   "metadata": {},
   "outputs": [],
   "source": [
    "mbk_dataset = pd.DataFrame(X.copy())\n",
    "mbk_dataset.loc[:,'Cluster'] = mbk_means_labels"
   ]
  },
  {
   "cell_type": "code",
   "execution_count": 146,
   "metadata": {},
   "outputs": [
    {
     "data": {
      "text/html": [
       "<div>\n",
       "<style scoped>\n",
       "    .dataframe tbody tr th:only-of-type {\n",
       "        vertical-align: middle;\n",
       "    }\n",
       "\n",
       "    .dataframe tbody tr th {\n",
       "        vertical-align: top;\n",
       "    }\n",
       "\n",
       "    .dataframe thead th {\n",
       "        text-align: right;\n",
       "    }\n",
       "</style>\n",
       "<table border=\"1\" class=\"dataframe\">\n",
       "  <thead>\n",
       "    <tr style=\"text-align: right;\">\n",
       "      <th></th>\n",
       "      <th>Cluster</th>\n",
       "    </tr>\n",
       "  </thead>\n",
       "  <tbody>\n",
       "    <tr>\n",
       "      <th>1</th>\n",
       "      <td>105</td>\n",
       "    </tr>\n",
       "    <tr>\n",
       "      <th>2</th>\n",
       "      <td>79</td>\n",
       "    </tr>\n",
       "    <tr>\n",
       "      <th>3</th>\n",
       "      <td>66</td>\n",
       "    </tr>\n",
       "    <tr>\n",
       "      <th>0</th>\n",
       "      <td>28</td>\n",
       "    </tr>\n",
       "    <tr>\n",
       "      <th>4</th>\n",
       "      <td>22</td>\n",
       "    </tr>\n",
       "  </tbody>\n",
       "</table>\n",
       "</div>"
      ],
      "text/plain": [
       "   Cluster\n",
       "1      105\n",
       "2       79\n",
       "3       66\n",
       "0       28\n",
       "4       22"
      ]
     },
     "execution_count": 146,
     "metadata": {},
     "output_type": "execute_result"
    }
   ],
   "source": [
    "mbk_dataset.Cluster.value_counts().to_frame()"
   ]
  },
  {
   "cell_type": "code",
   "execution_count": 147,
   "metadata": {},
   "outputs": [
    {
     "data": {
      "text/html": [
       "<div>\n",
       "<style scoped>\n",
       "    .dataframe tbody tr th:only-of-type {\n",
       "        vertical-align: middle;\n",
       "    }\n",
       "\n",
       "    .dataframe tbody tr th {\n",
       "        vertical-align: top;\n",
       "    }\n",
       "\n",
       "    .dataframe thead th {\n",
       "        text-align: right;\n",
       "    }\n",
       "</style>\n",
       "<table border=\"1\" class=\"dataframe\">\n",
       "  <thead>\n",
       "    <tr style=\"text-align: right;\">\n",
       "      <th></th>\n",
       "      <th>silhouette_score</th>\n",
       "      <th>davies_bouldin_score</th>\n",
       "      <th>calinski_harabasz_score</th>\n",
       "      <th>fowlkes_mallows_score</th>\n",
       "      <th>adjusted_rand_score</th>\n",
       "      <th>adjusted_mutual_info_score</th>\n",
       "      <th>homogeneity_score</th>\n",
       "      <th>completeness_score</th>\n",
       "      <th>v_measure_score</th>\n",
       "    </tr>\n",
       "  </thead>\n",
       "  <tbody>\n",
       "    <tr>\n",
       "      <th>Mini-Batch Kmean</th>\n",
       "      <td>0.428735</td>\n",
       "      <td>0.901368</td>\n",
       "      <td>192.045183</td>\n",
       "      <td>0.41736</td>\n",
       "      <td>0.010402</td>\n",
       "      <td>0.041837</td>\n",
       "      <td>0.133072</td>\n",
       "      <td>0.029816</td>\n",
       "      <td>0.048716</td>\n",
       "    </tr>\n",
       "  </tbody>\n",
       "</table>\n",
       "</div>"
      ],
      "text/plain": [
       "                  silhouette_score  davies_bouldin_score  \\\n",
       "Mini-Batch Kmean          0.428735              0.901368   \n",
       "\n",
       "                  calinski_harabasz_score  fowlkes_mallows_score  \\\n",
       "Mini-Batch Kmean               192.045183                0.41736   \n",
       "\n",
       "                  adjusted_rand_score  adjusted_mutual_info_score  \\\n",
       "Mini-Batch Kmean             0.010402                    0.041837   \n",
       "\n",
       "                  homogeneity_score  completeness_score  v_measure_score  \n",
       "Mini-Batch Kmean           0.133072            0.029816         0.048716  "
      ]
     },
     "execution_count": 147,
     "metadata": {},
     "output_type": "execute_result"
    }
   ],
   "source": [
    "kmean_df = pd.DataFrame(estimator_evaluation(mbk, 'Mini-Batch K-means', X , y ), index=[\"Mini-Batch Kmean\"])\n",
    "kmean_df"
   ]
  },
  {
   "cell_type": "code",
   "execution_count": 148,
   "metadata": {},
   "outputs": [
    {
     "data": {
      "application/vnd.plotly.v1+json": {
       "config": {
        "plotlyServerURL": "https://plot.ly"
       },
       "data": [
        {
         "hovertemplate": "color=r<br>x=%{x}<br>y=%{y}<br>z=%{z}<extra></extra>",
         "legendgroup": "r",
         "marker": {
          "color": "#636efa",
          "symbol": "circle"
         },
         "mode": "markers",
         "name": "r",
         "scene": "scene",
         "showlegend": true,
         "type": "scatter3d",
         "x": [
          17.40237045288086,
          14.39577579498291,
          15.38451099395752,
          13.177729606628418,
          -45.385223388671875,
          -6.592976093292236,
          27.9110164642334,
          -40.21927261352539,
          8.475407600402832,
          -45.44035720825195,
          -49.95948028564453,
          -9.10052490234375,
          24.08673667907715,
          2.724416494369507,
          4.163994312286377,
          -47.05438995361328,
          -49.10266876220703,
          -5.898705959320068,
          -2.006484270095825,
          -44.17485046386719,
          -4.621405601501465,
          -4.823248386383057,
          31.992219924926758,
          -2.391397714614868,
          -1.6724547147750854,
          -3.718388319015503,
          22.652727127075195,
          -45.1926155090332,
          -42.26630783081055,
          0.26596909761428833,
          -1.1766235828399658,
          36.75535202026367,
          35.47801208496094,
          34.90699005126953,
          38.93307113647461,
          20.995758056640625,
          26.6292667388916,
          20.582603454589844,
          -40.56393814086914,
          -4.6312103271484375,
          6.892556667327881,
          -42.41619110107422,
          29.399555206298828,
          27.639081954956055,
          2.296064853668213,
          0.09692621976137161,
          1.4449403285980225,
          1.9500980377197266,
          -41.406864166259766,
          -6.819375514984131,
          27.266202926635742,
          22.168550491333008,
          24.632619857788086,
          23.106298446655273,
          40.17435836791992,
          4.313406467437744,
          8.271520614624023,
          36.231178283691406,
          25.171428680419922,
          30.14589500427246,
          17.852622985839844,
          20.25457191467285,
          0.7674399018287659,
          17.63219451904297,
          -45.182247161865234,
          -48.37276840209961,
          -37.82453155517578,
          14.583464622497559,
          1.459019660949707,
          3.6657114028930664,
          13.985139846801758,
          15.969319343566895,
          19.150423049926758,
          -6.587285995483398,
          19.938005447387695,
          -2.410790205001831,
          -2.80682110786438,
          -0.1012977808713913,
          -1.3097898960113525
         ],
         "y": [
          2.1805553436279297,
          -0.02426816336810589,
          -2.931109666824341,
          1.06160306930542,
          -2.8473241329193115,
          -28.53956413269043,
          7.812664031982422,
          -6.444214344024658,
          -18.751527786254883,
          5.587413311004639,
          1.6149719953536987,
          -27.105562210083008,
          -7.500937461853027,
          -10.920543670654297,
          -10.857890129089355,
          1.482399582862854,
          -2.309267044067383,
          -44.97804641723633,
          -40.0814094543457,
          -7.1071696281433105,
          -43.59221649169922,
          -36.82533264160156,
          6.5768351554870605,
          -25.953718185424805,
          -44.63372039794922,
          -40.82530212402344,
          -0.2854825556278229,
          -4.784095764160156,
          -1.2618454694747925,
          -35.87046813964844,
          -15.797425270080566,
          5.282580375671387,
          8.89041519165039,
          11.013501167297363,
          9.12802505493164,
          10.034963607788086,
          5.40309476852417,
          -5.763251781463623,
          -6.393285751342773,
          -28.21195411682129,
          -19.800277709960938,
          -3.1580615043640137,
          3.451795816421509,
          11.267801284790039,
          -45.82172775268555,
          -47.935062408447266,
          -43.571598052978516,
          -41.43333435058594,
          -5.88620662689209,
          -40.915863037109375,
          -0.24967961013317108,
          10.838838577270508,
          0.5153822302818298,
          5.738873481750488,
          -11.161576271057129,
          -17.325857162475586,
          -15.104461669921875,
          7.342235088348389,
          3.3571362495422363,
          -1.8087788820266724,
          0.5534946918487549,
          2.528902292251587,
          -13.95847225189209,
          11.23055362701416,
          -0.28822746872901917,
          -2.574636459350586,
          -8.803078651428223,
          -8.216737747192383,
          -19.4439754486084,
          -16.834300994873047,
          -13.24206256866455,
          3.8978521823883057,
          -1.5156986713409424,
          -24.51935386657715,
          -9.02903938293457,
          -44.15302276611328,
          -34.19297409057617,
          -30.691802978515625,
          -29.46609115600586
         ],
         "z": [
          38.02151107788086,
          41.6252555847168,
          44.792110443115234,
          45.763370513916016,
          3.750378370285034,
          12.063955307006836,
          -28.17328643798828,
          9.827190399169922,
          5.341829299926758,
          7.8897013664245605,
          9.851764678955078,
          8.354939460754395,
          3.2391600608825684,
          7.3207879066467285,
          10.840470314025879,
          5.7183403968811035,
          7.240644454956055,
          8.411053657531738,
          6.072450637817383,
          12.825544357299805,
          3.9941630363464355,
          7.137622356414795,
          -29.893508911132812,
          11.960277557373047,
          7.460132598876953,
          10.018786430358887,
          -25.387487411499023,
          7.4409403800964355,
          6.288275718688965,
          12.71980094909668,
          6.453869819641113,
          -28.84619903564453,
          -26.76508903503418,
          -30.61663246154785,
          -29.55211639404297,
          -33.169803619384766,
          -31.101661682128906,
          5.794394493103027,
          14.773147583007812,
          8.638372421264648,
          9.16991138458252,
          12.945891380310059,
          -27.819732666015625,
          -33.92619705200195,
          11.354028701782227,
          14.864336967468262,
          14.95612621307373,
          11.285489082336426,
          4.816202163696289,
          6.76946496963501,
          -25.588563919067383,
          -29.772186279296875,
          -28.963523864746094,
          -28.689653396606445,
          -30.265213012695312,
          11.866535186767578,
          8.649113655090332,
          -32.632694244384766,
          -25.255538940429688,
          -29.33492088317871,
          44.909358978271484,
          41.441490173339844,
          10.409232139587402,
          -30.492101669311523,
          9.260798454284668,
          11.731269836425781,
          4.565455436706543,
          5.004955291748047,
          10.17002010345459,
          7.414159297943115,
          5.203310012817383,
          42.38666915893555,
          40.18057632446289,
          10.088985443115234,
          3.246408224105835,
          12.239441871643066,
          13.05981731414795,
          11.772510528564453,
          15.074339866638184
         ]
        },
        {
         "hovertemplate": "color=g<br>x=%{x}<br>y=%{y}<br>z=%{z}<extra></extra>",
         "legendgroup": "g",
         "marker": {
          "color": "#EF553B",
          "symbol": "circle"
         },
         "mode": "markers",
         "name": "g",
         "scene": "scene",
         "showlegend": true,
         "type": "scatter3d",
         "x": [
          -34.95249557495117,
          -22.26615333557129,
          -18.511796951293945,
          16.95736312866211,
          14.153074264526367,
          -30.198331832885742,
          8.1911039352417,
          -24.47899627685547,
          -30.43633460998535,
          -33.4791374206543,
          -12.595044136047363,
          -10.837039947509766,
          -19.257375717163086,
          1.0245862007141113,
          -38.856815338134766,
          -17.93902587890625,
          -5.35081672668457,
          -5.612462997436523,
          -11.65208625793457,
          -17.927743911743164,
          -22.76555061340332,
          -24.180070877075195,
          2.0214951038360596,
          -9.142897605895996,
          -1.5287832021713257,
          8.11518669128418,
          -8.205550193786621,
          -24.10517120361328,
          -13.198129653930664,
          -20.9283447265625,
          -35.7957649230957,
          3.6502296924591064,
          -17.292997360229492,
          -27.712080001831055,
          -25.791431427001953,
          -5.7040696144104,
          -31.463336944580078,
          -23.60627555847168,
          -12.825616836547852,
          -11.112510681152344,
          -3.432901620864868,
          -27.36945915222168,
          -5.2121782302856445,
          5.97203254699707,
          -29.064388275146484,
          -2.7130565643310547,
          11.11121940612793,
          13.900035858154297,
          -21.127273559570312,
          -6.373238563537598,
          -14.478595733642578,
          -37.99951934814453,
          -21.563018798828125,
          -8.427470207214355,
          -13.261693954467773,
          2.49586820602417,
          -12.58573055267334,
          -13.492648124694824,
          8.719182968139648,
          -18.145999908447266,
          -5.853982448577881,
          -20.5760440826416,
          39.16162872314453,
          16.50499153137207,
          -25.656572341918945,
          2.237609624862671,
          -29.43516731262207,
          -24.448366165161133,
          -35.578121185302734,
          -19.683141708374023,
          -29.618053436279297,
          -16.210861206054688,
          -9.673583984375,
          -12.87874984741211,
          -10.353530883789062,
          -13.836003303527832,
          -29.559114456176758,
          -16.90315055847168,
          -95.07884979248047,
          -6.801237106323242,
          66.00922393798828,
          -5.084029197692871,
          -16.922422409057617,
          -26.66097068786621,
          -28.124614715576172,
          -32.37826919555664,
          -2.9562182426452637,
          5.491290092468262,
          -6.413435935974121,
          1.9347591400146484,
          -35.42085647583008,
          -1.4289567470550537,
          -9.334757804870605,
          5.840608596801758,
          12.28333854675293,
          -7.674513816833496,
          -21.279014587402344,
          12.416407585144043,
          -32.796531677246094,
          -6.325495719909668,
          -38.14970397949219,
          -10.283763885498047,
          -16.218215942382812,
          -13.778274536132812,
          3.263134479522705
         ],
         "y": [
          10.381976127624512,
          14.777994155883789,
          12.90184211730957,
          21.00311851501465,
          14.49815559387207,
          9.49976921081543,
          20.527240753173828,
          -19.315486907958984,
          -20.380043029785156,
          -18.36186981201172,
          20.837627410888672,
          38.01121139526367,
          -19.295408248901367,
          7.617918968200684,
          8.311875343322754,
          17.79210090637207,
          14.755144119262695,
          38.31166458129883,
          33.24184799194336,
          22.92858123779297,
          15.494136810302734,
          15.472935676574707,
          4.902204513549805,
          20.318647384643555,
          18.445240020751953,
          12.280591011047363,
          35.05421829223633,
          10.513910293579102,
          26.94558334350586,
          -18.31352424621582,
          -72.57337188720703,
          15.523445129394531,
          21.996509552001953,
          14.606267929077148,
          11.812275886535645,
          12.046246528625488,
          -14.743664741516113,
          11.460813522338867,
          36.83259201049805,
          10.865450859069824,
          8.402017593383789,
          12.41815185546875,
          37.726890563964844,
          6.208125591278076,
          -15.876879692077637,
          4.895054340362549,
          19.14112091064453,
          23.24896240234375,
          -16.21198081970215,
          -21.808542251586914,
          36.130435943603516,
          12.553555488586426,
          20.132051467895508,
          35.5049934387207,
          20.552204132080078,
          12.076827049255371,
          23.94967269897461,
          30.953569412231445,
          15.569345474243164,
          18.430204391479492,
          38.04789733886719,
          12.733748435974121,
          144.31004333496094,
          21.435546875,
          -18.97449493408203,
          12.435006141662598,
          -18.415475845336914,
          -15.668967247009277,
          -12.50452709197998,
          16.95899200439453,
          13.69171142578125,
          18.616907119750977,
          37.49162673950195,
          27.436800003051758,
          -19.367204666137695,
          -18.243253707885742,
          -11.782594680786133,
          27.459657669067383,
          -68.99658203125,
          33.94950485229492,
          188.13931274414062,
          19.675243377685547,
          -16.466733932495117,
          -14.09158706665039,
          -13.786702156066895,
          -10.05722713470459,
          15.829639434814453,
          17.340147018432617,
          9.322954177856445,
          7.247088432312012,
          13.443110466003418,
          13.015750885009766,
          -18.288406372070312,
          6.831804275512695,
          18.938692092895508,
          9.87199878692627,
          -14.93259334564209,
          10.849048614501953,
          -13.286111831665039,
          -17.69533920288086,
          10.523571968078613,
          37.238441467285156,
          29.70420265197754,
          16.666688919067383,
          9.50365924835205
         ],
         "z": [
          -20.104089736938477,
          -11.737732887268066,
          -3.258329153060913,
          -26.94830894470215,
          -29.812747955322266,
          -13.851712226867676,
          -27.090164184570312,
          -14.58890438079834,
          -6.100000381469727,
          -3.7212588787078857,
          -14.702235221862793,
          15.899252891540527,
          -14.918889999389648,
          -27.3331356048584,
          -18.71714973449707,
          -12.992399215698242,
          -23.895877838134766,
          19.342636108398438,
          7.529501438140869,
          1.4349781274795532,
          -2.340580463409424,
          -7.41684627532959,
          -30.61208152770996,
          -17.175050735473633,
          -22.324934005737305,
          -27.419757843017578,
          4.427237510681152,
          -9.403495788574219,
          -2.262493848800659,
          -18.720130920410156,
          -110.51158142089844,
          -18.722009658813477,
          -2.4582417011260986,
          -11.487054824829102,
          -14.035839080810547,
          -21.255077362060547,
          1.030908226966858,
          -4.875601768493652,
          5.458895683288574,
          -27.787641525268555,
          -26.142698287963867,
          -7.206340789794922,
          11.66808032989502,
          -28.408100128173828,
          -6.766310214996338,
          -32.9076042175293,
          -24.078506469726562,
          -28.226911544799805,
          -12.285982131958008,
          -23.279760360717773,
          9.354588508605957,
          -20.368671417236328,
          -1.8590248823165894,
          17.212915420532227,
          -19.42892074584961,
          -25.966114044189453,
          -9.730098724365234,
          0.2550146281719208,
          -24.359554290771484,
          -0.06442876160144806,
          6.562471389770508,
          -7.907847881317139,
          -141.65097045898438,
          -30.879987716674805,
          -10.672301292419434,
          -18.534666061401367,
          -2.3519492149353027,
          -7.3500590324401855,
          1.6105118989944458,
          -4.828845024108887,
          -16.114694595336914,
          -21.245893478393555,
          8.636882781982422,
          2.57204008102417,
          -23.99956512451172,
          -20.34979820251465,
          -5.604270935058594,
          -0.3869243562221527,
          343.54931640625,
          8.401371955871582,
          -115.43158721923828,
          -19.72140884399414,
          -17.552988052368164,
          -10.136578559875488,
          -2.1947152614593506,
          1.3466410636901855,
          -19.81689453125,
          -23.02619743347168,
          -28.662946701049805,
          -34.699241638183594,
          -17.35286521911621,
          -23.665727615356445,
          -20.236534118652344,
          -32.475242614746094,
          -28.410245895385742,
          -24.89767837524414,
          -16.280475616455078,
          -29.910661697387695,
          -2.8309919834136963,
          -23.959489822387695,
          -15.434901237487793,
          21.00980567932129,
          3.292083978652954,
          -19.315404891967773,
          -30.636449813842773
         ]
        },
        {
         "hovertemplate": "color=c<br>x=%{x}<br>y=%{y}<br>z=%{z}<extra></extra>",
         "legendgroup": "c",
         "marker": {
          "color": "#00cc96",
          "symbol": "circle"
         },
         "mode": "markers",
         "name": "c",
         "scene": "scene",
         "showlegend": true,
         "type": "scatter3d",
         "x": [
          7.439241409301758,
          -1.8433257341384888,
          6.425163745880127,
          4.194344520568848,
          31.653709411621094,
          30.014556884765625,
          32.750511169433594,
          12.878828048706055,
          -5.189026355743408,
          24.352977752685547,
          7.262667655944824,
          9.828669548034668,
          22.979623794555664,
          20.304920196533203,
          -6.17741060256958,
          30.919967651367188,
          31.59091567993164,
          18.23295783996582,
          27.353261947631836,
          15.5406494140625,
          19.23225212097168,
          19.4111328125,
          -1.6118563413619995,
          28.266590118408203,
          18.95317840576172,
          19.091175079345703,
          25.83808708190918,
          10.776934623718262,
          27.670480728149414,
          27.629295349121094,
          2.201108455657959,
          28.68429946899414,
          24.0488338470459,
          25.20955467224121,
          5.753146648406982,
          27.32952117919922,
          23.808425903320312,
          13.14620590209961,
          -0.9460838437080383,
          1.5841567516326904,
          22.01544952392578,
          15.542435646057129,
          16.21710968017578,
          -10.777846336364746,
          19.026309967041016,
          19.471405029296875,
          14.997465133666992,
          28.554676055908203,
          9.599215507507324,
          31.112106323242188,
          28.88642120361328,
          26.020788192749023,
          17.96296501159668,
          18.034788131713867,
          16.009912490844727,
          23.18646812438965,
          21.6085205078125,
          14.191764831542969,
          25.418689727783203,
          28.96420669555664,
          30.068574905395508,
          33.02740478515625,
          27.068843841552734,
          13.751791954040527,
          10.328709602355957,
          32.04303741455078
         ],
         "y": [
          -6.634182453155518,
          -0.37708261609077454,
          -3.0256550312042236,
          1.4088451862335205,
          9.617855072021484,
          14.275409698486328,
          13.829357147216797,
          25.21778106689453,
          2.428084135055542,
          15.743884086608887,
          -7.52083158493042,
          -5.270932674407959,
          20.06836700439453,
          22.08230972290039,
          6.253733158111572,
          29.489423751831055,
          25.761402130126953,
          25.74327850341797,
          12.410948753356934,
          -2.309506416320801,
          18.516319274902344,
          20.564651489257812,
          0.6727749705314636,
          16.95103645324707,
          26.951623916625977,
          30.61806297302246,
          14.890880584716797,
          22.75217628479004,
          16.57017707824707,
          14.693439483642578,
          -1.2923122644424438,
          -0.1123834028840065,
          -2.3972582817077637,
          -0.4990825653076172,
          -0.7650801539421082,
          22.30767822265625,
          30.433717727661133,
          26.021535873413086,
          1.4544463157653809,
          2.8574862480163574,
          27.264413833618164,
          21.870227813720703,
          -3.972778558731079,
          0.4807082414627075,
          -3.897235155105591,
          -0.9820008277893066,
          23.976886749267578,
          28.278894424438477,
          -3.759458541870117,
          2.3661229610443115,
          5.100497722625732,
          19.694766998291016,
          27.785400390625,
          26.427968978881836,
          -1.023819088935852,
          27.56737518310547,
          31.34465980529785,
          -5.501844882965088,
          2.0409555435180664,
          9.264280319213867,
          4.8280134201049805,
          8.94536304473877,
          25.911041259765625,
          -5.239426136016846,
          -5.741513252258301,
          5.2801313400268555
         ],
         "z": [
          44.19050979614258,
          30.97712516784668,
          43.113529205322266,
          33.14552688598633,
          0.08652003854513168,
          1.475113868713379,
          3.972632884979248,
          6.903897285461426,
          26.380971908569336,
          10.509483337402344,
          7.103343486785889,
          5.256505012512207,
          13.0692777633667,
          11.168233871459961,
          26.291173934936523,
          -0.46679842472076416,
          -1.6200746297836304,
          18.176084518432617,
          12.199758529663086,
          36.69450759887695,
          12.485450744628906,
          17.30057144165039,
          34.99090576171875,
          7.671281337738037,
          3.714146852493286,
          5.875340938568115,
          -35.842315673828125,
          10.349599838256836,
          12.802528381347656,
          -32.542816162109375,
          30.92350196838379,
          2.758323907852173,
          1.5799709558486938,
          5.091037273406982,
          35.8699836730957,
          4.705582141876221,
          4.425485134124756,
          10.993623733520508,
          25.99445343017578,
          29.7903995513916,
          6.797909736633301,
          9.452261924743652,
          5.379765033721924,
          25.883928298950195,
          1.1689366102218628,
          4.42990255355835,
          14.525402069091797,
          -3.0803329944610596,
          46.38301467895508,
          7.614202976226807,
          8.096148490905762,
          9.578890800476074,
          12.387887001037598,
          7.68466854095459,
          1.9764022827148438,
          0.974686861038208,
          0.8819113373756409,
          1.5519707202911377,
          1.6095943450927734,
          3.170942783355713,
          2.049130916595459,
          3.8170907497406006,
          3.2426187992095947,
          39.09793472290039,
          40.748741149902344,
          10.690932273864746
         ]
        },
        {
         "hovertemplate": "color=b<br>x=%{x}<br>y=%{y}<br>z=%{z}<extra></extra>",
         "legendgroup": "b",
         "marker": {
          "color": "#ab63fa",
          "symbol": "circle"
         },
         "mode": "markers",
         "name": "b",
         "scene": "scene",
         "showlegend": true,
         "type": "scatter3d",
         "x": [
          -0.8461762070655823,
          -9.13136100769043,
          8.470383644104004,
          -10.936866760253906,
          -12.969708442687988,
          -3.820178985595703,
          -0.015494339168071747,
          -3.6917941570281982,
          -3.383928060531616,
          12.893206596374512,
          11.55665397644043,
          13.158421516418457,
          12.527109146118164,
          6.0177130699157715,
          13.321462631225586,
          15.118959426879883,
          8.456172943115234,
          10.498370170593262,
          9.175483703613281,
          -3.50053071975708,
          13.858551025390625,
          5.9633965492248535,
          12.052245140075684,
          -0.382486492395401,
          -0.3402878940105438,
          -3.6471025943756104,
          82.5772705078125,
          9.645185470581055
         ],
         "y": [
          -22.712200164794922,
          -42.06515884399414,
          -26.879323959350586,
          -37.27485656738281,
          -38.64548873901367,
          -38.148860931396484,
          -39.33528137207031,
          -38.55495071411133,
          -41.872615814208984,
          -23.622575759887695,
          -25.44783592224121,
          -27.04463768005371,
          -22.437854766845703,
          23.300241470336914,
          -27.912551879882812,
          -26.20076560974121,
          -22.93191909790039,
          -26.77174186706543,
          -25.51715850830078,
          -19.70619010925293,
          -22.92375946044922,
          -30.09836196899414,
          -30.739046096801758,
          -34.71968460083008,
          -34.33231735229492,
          -32.53916549682617,
          132.51084899902344,
          -21.832441329956055
         ],
         "z": [
          -23.399606704711914,
          2.491046905517578,
          -16.78980255126953,
          1.334521770477295,
          3.736048460006714,
          -21.808908462524414,
          -23.71176528930664,
          -26.32880210876465,
          -23.739091873168945,
          -17.590486526489258,
          -30.288482666015625,
          -25.09761619567871,
          -21.800416946411133,
          27.20572280883789,
          -16.376480102539062,
          -21.137542724609375,
          -19.39569091796875,
          -20.6837100982666,
          -25.15511131286621,
          -21.201908111572266,
          -27.562175750732422,
          -21.078237533569336,
          -19.651023864746094,
          -21.822677612304688,
          -25.478103637695312,
          -24.357561111450195,
          39.83149719238281,
          -28.329862594604492
         ]
        },
        {
         "hovertemplate": "color=m<br>x=%{x}<br>y=%{y}<br>z=%{z}<extra></extra>",
         "legendgroup": "m",
         "marker": {
          "color": "#FFA15A",
          "symbol": "circle"
         },
         "mode": "markers",
         "name": "m",
         "scene": "scene",
         "showlegend": true,
         "type": "scatter3d",
         "x": [
          -19.904253005981445,
          -15.829290390014648,
          -11.260408401489258,
          -17.67772102355957,
          -8.329499244689941,
          -5.064068794250488,
          -17.472084045410156,
          -17.557170867919922,
          -12.672040939331055,
          -14.06580638885498,
          -12.675955772399902,
          -9.641383171081543,
          -14.194194793701172,
          -14.054717063903809,
          -15.430628776550293,
          -16.018890380859375,
          2.4405007362365723,
          -18.533422470092773,
          0.24550144374370575,
          -7.471778392791748,
          -13.968545913696289,
          -22.331558227539062
         ],
         "y": [
          10.46668529510498,
          10.437952995300293,
          9.42351245880127,
          1.5659339427947998,
          3.791241407394409,
          3.693166971206665,
          6.015127658843994,
          4.560041904449463,
          5.92965030670166,
          8.452631950378418,
          9.447884559631348,
          8.153890609741211,
          11.64294719696045,
          7.6857428550720215,
          3.383639335632324,
          0.716079592704773,
          -5.032461166381836,
          6.172702312469482,
          -2.4933648109436035,
          1.2601168155670166,
          4.156565189361572,
          -1.067551851272583
         ],
         "z": [
          26.970003128051758,
          28.54170799255371,
          23.68633270263672,
          26.72191047668457,
          30.672847747802734,
          34.85063171386719,
          24.105695724487305,
          34.39253616333008,
          33.73703384399414,
          19.738452911376953,
          32.218971252441406,
          30.18525505065918,
          22.57773780822754,
          26.887407302856445,
          19.26290512084961,
          22.620288848876953,
          42.68761444091797,
          29.6712646484375,
          40.956092834472656,
          37.13343811035156,
          24.028345108032227,
          -22.058605194091797
         ]
        }
       ],
       "layout": {
        "legend": {
         "title": {
          "text": "color"
         },
         "tracegroupgap": 0
        },
        "margin": {
         "t": 60
        },
        "scene": {
         "domain": {
          "x": [
           0,
           1
          ],
          "y": [
           0,
           1
          ]
         },
         "xaxis": {
          "title": {
           "text": "x"
          }
         },
         "yaxis": {
          "title": {
           "text": "y"
          }
         },
         "zaxis": {
          "title": {
           "text": "z"
          }
         }
        },
        "template": {
         "data": {
          "bar": [
           {
            "error_x": {
             "color": "#2a3f5f"
            },
            "error_y": {
             "color": "#2a3f5f"
            },
            "marker": {
             "line": {
              "color": "#E5ECF6",
              "width": 0.5
             },
             "pattern": {
              "fillmode": "overlay",
              "size": 10,
              "solidity": 0.2
             }
            },
            "type": "bar"
           }
          ],
          "barpolar": [
           {
            "marker": {
             "line": {
              "color": "#E5ECF6",
              "width": 0.5
             },
             "pattern": {
              "fillmode": "overlay",
              "size": 10,
              "solidity": 0.2
             }
            },
            "type": "barpolar"
           }
          ],
          "carpet": [
           {
            "aaxis": {
             "endlinecolor": "#2a3f5f",
             "gridcolor": "white",
             "linecolor": "white",
             "minorgridcolor": "white",
             "startlinecolor": "#2a3f5f"
            },
            "baxis": {
             "endlinecolor": "#2a3f5f",
             "gridcolor": "white",
             "linecolor": "white",
             "minorgridcolor": "white",
             "startlinecolor": "#2a3f5f"
            },
            "type": "carpet"
           }
          ],
          "choropleth": [
           {
            "colorbar": {
             "outlinewidth": 0,
             "ticks": ""
            },
            "type": "choropleth"
           }
          ],
          "contour": [
           {
            "colorbar": {
             "outlinewidth": 0,
             "ticks": ""
            },
            "colorscale": [
             [
              0,
              "#0d0887"
             ],
             [
              0.1111111111111111,
              "#46039f"
             ],
             [
              0.2222222222222222,
              "#7201a8"
             ],
             [
              0.3333333333333333,
              "#9c179e"
             ],
             [
              0.4444444444444444,
              "#bd3786"
             ],
             [
              0.5555555555555556,
              "#d8576b"
             ],
             [
              0.6666666666666666,
              "#ed7953"
             ],
             [
              0.7777777777777778,
              "#fb9f3a"
             ],
             [
              0.8888888888888888,
              "#fdca26"
             ],
             [
              1,
              "#f0f921"
             ]
            ],
            "type": "contour"
           }
          ],
          "contourcarpet": [
           {
            "colorbar": {
             "outlinewidth": 0,
             "ticks": ""
            },
            "type": "contourcarpet"
           }
          ],
          "heatmap": [
           {
            "colorbar": {
             "outlinewidth": 0,
             "ticks": ""
            },
            "colorscale": [
             [
              0,
              "#0d0887"
             ],
             [
              0.1111111111111111,
              "#46039f"
             ],
             [
              0.2222222222222222,
              "#7201a8"
             ],
             [
              0.3333333333333333,
              "#9c179e"
             ],
             [
              0.4444444444444444,
              "#bd3786"
             ],
             [
              0.5555555555555556,
              "#d8576b"
             ],
             [
              0.6666666666666666,
              "#ed7953"
             ],
             [
              0.7777777777777778,
              "#fb9f3a"
             ],
             [
              0.8888888888888888,
              "#fdca26"
             ],
             [
              1,
              "#f0f921"
             ]
            ],
            "type": "heatmap"
           }
          ],
          "heatmapgl": [
           {
            "colorbar": {
             "outlinewidth": 0,
             "ticks": ""
            },
            "colorscale": [
             [
              0,
              "#0d0887"
             ],
             [
              0.1111111111111111,
              "#46039f"
             ],
             [
              0.2222222222222222,
              "#7201a8"
             ],
             [
              0.3333333333333333,
              "#9c179e"
             ],
             [
              0.4444444444444444,
              "#bd3786"
             ],
             [
              0.5555555555555556,
              "#d8576b"
             ],
             [
              0.6666666666666666,
              "#ed7953"
             ],
             [
              0.7777777777777778,
              "#fb9f3a"
             ],
             [
              0.8888888888888888,
              "#fdca26"
             ],
             [
              1,
              "#f0f921"
             ]
            ],
            "type": "heatmapgl"
           }
          ],
          "histogram": [
           {
            "marker": {
             "pattern": {
              "fillmode": "overlay",
              "size": 10,
              "solidity": 0.2
             }
            },
            "type": "histogram"
           }
          ],
          "histogram2d": [
           {
            "colorbar": {
             "outlinewidth": 0,
             "ticks": ""
            },
            "colorscale": [
             [
              0,
              "#0d0887"
             ],
             [
              0.1111111111111111,
              "#46039f"
             ],
             [
              0.2222222222222222,
              "#7201a8"
             ],
             [
              0.3333333333333333,
              "#9c179e"
             ],
             [
              0.4444444444444444,
              "#bd3786"
             ],
             [
              0.5555555555555556,
              "#d8576b"
             ],
             [
              0.6666666666666666,
              "#ed7953"
             ],
             [
              0.7777777777777778,
              "#fb9f3a"
             ],
             [
              0.8888888888888888,
              "#fdca26"
             ],
             [
              1,
              "#f0f921"
             ]
            ],
            "type": "histogram2d"
           }
          ],
          "histogram2dcontour": [
           {
            "colorbar": {
             "outlinewidth": 0,
             "ticks": ""
            },
            "colorscale": [
             [
              0,
              "#0d0887"
             ],
             [
              0.1111111111111111,
              "#46039f"
             ],
             [
              0.2222222222222222,
              "#7201a8"
             ],
             [
              0.3333333333333333,
              "#9c179e"
             ],
             [
              0.4444444444444444,
              "#bd3786"
             ],
             [
              0.5555555555555556,
              "#d8576b"
             ],
             [
              0.6666666666666666,
              "#ed7953"
             ],
             [
              0.7777777777777778,
              "#fb9f3a"
             ],
             [
              0.8888888888888888,
              "#fdca26"
             ],
             [
              1,
              "#f0f921"
             ]
            ],
            "type": "histogram2dcontour"
           }
          ],
          "mesh3d": [
           {
            "colorbar": {
             "outlinewidth": 0,
             "ticks": ""
            },
            "type": "mesh3d"
           }
          ],
          "parcoords": [
           {
            "line": {
             "colorbar": {
              "outlinewidth": 0,
              "ticks": ""
             }
            },
            "type": "parcoords"
           }
          ],
          "pie": [
           {
            "automargin": true,
            "type": "pie"
           }
          ],
          "scatter": [
           {
            "fillpattern": {
             "fillmode": "overlay",
             "size": 10,
             "solidity": 0.2
            },
            "type": "scatter"
           }
          ],
          "scatter3d": [
           {
            "line": {
             "colorbar": {
              "outlinewidth": 0,
              "ticks": ""
             }
            },
            "marker": {
             "colorbar": {
              "outlinewidth": 0,
              "ticks": ""
             }
            },
            "type": "scatter3d"
           }
          ],
          "scattercarpet": [
           {
            "marker": {
             "colorbar": {
              "outlinewidth": 0,
              "ticks": ""
             }
            },
            "type": "scattercarpet"
           }
          ],
          "scattergeo": [
           {
            "marker": {
             "colorbar": {
              "outlinewidth": 0,
              "ticks": ""
             }
            },
            "type": "scattergeo"
           }
          ],
          "scattergl": [
           {
            "marker": {
             "colorbar": {
              "outlinewidth": 0,
              "ticks": ""
             }
            },
            "type": "scattergl"
           }
          ],
          "scattermapbox": [
           {
            "marker": {
             "colorbar": {
              "outlinewidth": 0,
              "ticks": ""
             }
            },
            "type": "scattermapbox"
           }
          ],
          "scatterpolar": [
           {
            "marker": {
             "colorbar": {
              "outlinewidth": 0,
              "ticks": ""
             }
            },
            "type": "scatterpolar"
           }
          ],
          "scatterpolargl": [
           {
            "marker": {
             "colorbar": {
              "outlinewidth": 0,
              "ticks": ""
             }
            },
            "type": "scatterpolargl"
           }
          ],
          "scatterternary": [
           {
            "marker": {
             "colorbar": {
              "outlinewidth": 0,
              "ticks": ""
             }
            },
            "type": "scatterternary"
           }
          ],
          "surface": [
           {
            "colorbar": {
             "outlinewidth": 0,
             "ticks": ""
            },
            "colorscale": [
             [
              0,
              "#0d0887"
             ],
             [
              0.1111111111111111,
              "#46039f"
             ],
             [
              0.2222222222222222,
              "#7201a8"
             ],
             [
              0.3333333333333333,
              "#9c179e"
             ],
             [
              0.4444444444444444,
              "#bd3786"
             ],
             [
              0.5555555555555556,
              "#d8576b"
             ],
             [
              0.6666666666666666,
              "#ed7953"
             ],
             [
              0.7777777777777778,
              "#fb9f3a"
             ],
             [
              0.8888888888888888,
              "#fdca26"
             ],
             [
              1,
              "#f0f921"
             ]
            ],
            "type": "surface"
           }
          ],
          "table": [
           {
            "cells": {
             "fill": {
              "color": "#EBF0F8"
             },
             "line": {
              "color": "white"
             }
            },
            "header": {
             "fill": {
              "color": "#C8D4E3"
             },
             "line": {
              "color": "white"
             }
            },
            "type": "table"
           }
          ]
         },
         "layout": {
          "annotationdefaults": {
           "arrowcolor": "#2a3f5f",
           "arrowhead": 0,
           "arrowwidth": 1
          },
          "autotypenumbers": "strict",
          "coloraxis": {
           "colorbar": {
            "outlinewidth": 0,
            "ticks": ""
           }
          },
          "colorscale": {
           "diverging": [
            [
             0,
             "#8e0152"
            ],
            [
             0.1,
             "#c51b7d"
            ],
            [
             0.2,
             "#de77ae"
            ],
            [
             0.3,
             "#f1b6da"
            ],
            [
             0.4,
             "#fde0ef"
            ],
            [
             0.5,
             "#f7f7f7"
            ],
            [
             0.6,
             "#e6f5d0"
            ],
            [
             0.7,
             "#b8e186"
            ],
            [
             0.8,
             "#7fbc41"
            ],
            [
             0.9,
             "#4d9221"
            ],
            [
             1,
             "#276419"
            ]
           ],
           "sequential": [
            [
             0,
             "#0d0887"
            ],
            [
             0.1111111111111111,
             "#46039f"
            ],
            [
             0.2222222222222222,
             "#7201a8"
            ],
            [
             0.3333333333333333,
             "#9c179e"
            ],
            [
             0.4444444444444444,
             "#bd3786"
            ],
            [
             0.5555555555555556,
             "#d8576b"
            ],
            [
             0.6666666666666666,
             "#ed7953"
            ],
            [
             0.7777777777777778,
             "#fb9f3a"
            ],
            [
             0.8888888888888888,
             "#fdca26"
            ],
            [
             1,
             "#f0f921"
            ]
           ],
           "sequentialminus": [
            [
             0,
             "#0d0887"
            ],
            [
             0.1111111111111111,
             "#46039f"
            ],
            [
             0.2222222222222222,
             "#7201a8"
            ],
            [
             0.3333333333333333,
             "#9c179e"
            ],
            [
             0.4444444444444444,
             "#bd3786"
            ],
            [
             0.5555555555555556,
             "#d8576b"
            ],
            [
             0.6666666666666666,
             "#ed7953"
            ],
            [
             0.7777777777777778,
             "#fb9f3a"
            ],
            [
             0.8888888888888888,
             "#fdca26"
            ],
            [
             1,
             "#f0f921"
            ]
           ]
          },
          "colorway": [
           "#636efa",
           "#EF553B",
           "#00cc96",
           "#ab63fa",
           "#FFA15A",
           "#19d3f3",
           "#FF6692",
           "#B6E880",
           "#FF97FF",
           "#FECB52"
          ],
          "font": {
           "color": "#2a3f5f"
          },
          "geo": {
           "bgcolor": "white",
           "lakecolor": "white",
           "landcolor": "#E5ECF6",
           "showlakes": true,
           "showland": true,
           "subunitcolor": "white"
          },
          "hoverlabel": {
           "align": "left"
          },
          "hovermode": "closest",
          "mapbox": {
           "style": "light"
          },
          "paper_bgcolor": "white",
          "plot_bgcolor": "#E5ECF6",
          "polar": {
           "angularaxis": {
            "gridcolor": "white",
            "linecolor": "white",
            "ticks": ""
           },
           "bgcolor": "#E5ECF6",
           "radialaxis": {
            "gridcolor": "white",
            "linecolor": "white",
            "ticks": ""
           }
          },
          "scene": {
           "xaxis": {
            "backgroundcolor": "#E5ECF6",
            "gridcolor": "white",
            "gridwidth": 2,
            "linecolor": "white",
            "showbackground": true,
            "ticks": "",
            "zerolinecolor": "white"
           },
           "yaxis": {
            "backgroundcolor": "#E5ECF6",
            "gridcolor": "white",
            "gridwidth": 2,
            "linecolor": "white",
            "showbackground": true,
            "ticks": "",
            "zerolinecolor": "white"
           },
           "zaxis": {
            "backgroundcolor": "#E5ECF6",
            "gridcolor": "white",
            "gridwidth": 2,
            "linecolor": "white",
            "showbackground": true,
            "ticks": "",
            "zerolinecolor": "white"
           }
          },
          "shapedefaults": {
           "line": {
            "color": "#2a3f5f"
           }
          },
          "ternary": {
           "aaxis": {
            "gridcolor": "white",
            "linecolor": "white",
            "ticks": ""
           },
           "baxis": {
            "gridcolor": "white",
            "linecolor": "white",
            "ticks": ""
           },
           "bgcolor": "#E5ECF6",
           "caxis": {
            "gridcolor": "white",
            "linecolor": "white",
            "ticks": ""
           }
          },
          "title": {
           "x": 0.05
          },
          "xaxis": {
           "automargin": true,
           "gridcolor": "white",
           "linecolor": "white",
           "ticks": "",
           "title": {
            "standoff": 15
           },
           "zerolinecolor": "white",
           "zerolinewidth": 2
          },
          "yaxis": {
           "automargin": true,
           "gridcolor": "white",
           "linecolor": "white",
           "ticks": "",
           "title": {
            "standoff": 15
           },
           "zerolinecolor": "white",
           "zerolinewidth": 2
          }
         }
        }
       }
      },
      "text/html": [
       "<div>                            <div id=\"7c1d26d6-71a3-4305-8164-1a7f338bd43d\" class=\"plotly-graph-div\" style=\"height:525px; width:100%;\"></div>            <script type=\"text/javascript\">                require([\"plotly\"], function(Plotly) {                    window.PLOTLYENV=window.PLOTLYENV || {};                                    if (document.getElementById(\"7c1d26d6-71a3-4305-8164-1a7f338bd43d\")) {                    Plotly.newPlot(                        \"7c1d26d6-71a3-4305-8164-1a7f338bd43d\",                        [{\"hovertemplate\":\"color=r<br>x=%{x}<br>y=%{y}<br>z=%{z}<extra></extra>\",\"legendgroup\":\"r\",\"marker\":{\"color\":\"#636efa\",\"symbol\":\"circle\"},\"mode\":\"markers\",\"name\":\"r\",\"scene\":\"scene\",\"showlegend\":true,\"x\":[17.40237045288086,14.39577579498291,15.38451099395752,13.177729606628418,-45.385223388671875,-6.592976093292236,27.9110164642334,-40.21927261352539,8.475407600402832,-45.44035720825195,-49.95948028564453,-9.10052490234375,24.08673667907715,2.724416494369507,4.163994312286377,-47.05438995361328,-49.10266876220703,-5.898705959320068,-2.006484270095825,-44.17485046386719,-4.621405601501465,-4.823248386383057,31.992219924926758,-2.391397714614868,-1.6724547147750854,-3.718388319015503,22.652727127075195,-45.1926155090332,-42.26630783081055,0.26596909761428833,-1.1766235828399658,36.75535202026367,35.47801208496094,34.90699005126953,38.93307113647461,20.995758056640625,26.6292667388916,20.582603454589844,-40.56393814086914,-4.6312103271484375,6.892556667327881,-42.41619110107422,29.399555206298828,27.639081954956055,2.296064853668213,0.09692621976137161,1.4449403285980225,1.9500980377197266,-41.406864166259766,-6.819375514984131,27.266202926635742,22.168550491333008,24.632619857788086,23.106298446655273,40.17435836791992,4.313406467437744,8.271520614624023,36.231178283691406,25.171428680419922,30.14589500427246,17.852622985839844,20.25457191467285,0.7674399018287659,17.63219451904297,-45.182247161865234,-48.37276840209961,-37.82453155517578,14.583464622497559,1.459019660949707,3.6657114028930664,13.985139846801758,15.969319343566895,19.150423049926758,-6.587285995483398,19.938005447387695,-2.410790205001831,-2.80682110786438,-0.1012977808713913,-1.3097898960113525],\"y\":[2.1805553436279297,-0.02426816336810589,-2.931109666824341,1.06160306930542,-2.8473241329193115,-28.53956413269043,7.812664031982422,-6.444214344024658,-18.751527786254883,5.587413311004639,1.6149719953536987,-27.105562210083008,-7.500937461853027,-10.920543670654297,-10.857890129089355,1.482399582862854,-2.309267044067383,-44.97804641723633,-40.0814094543457,-7.1071696281433105,-43.59221649169922,-36.82533264160156,6.5768351554870605,-25.953718185424805,-44.63372039794922,-40.82530212402344,-0.2854825556278229,-4.784095764160156,-1.2618454694747925,-35.87046813964844,-15.797425270080566,5.282580375671387,8.89041519165039,11.013501167297363,9.12802505493164,10.034963607788086,5.40309476852417,-5.763251781463623,-6.393285751342773,-28.21195411682129,-19.800277709960938,-3.1580615043640137,3.451795816421509,11.267801284790039,-45.82172775268555,-47.935062408447266,-43.571598052978516,-41.43333435058594,-5.88620662689209,-40.915863037109375,-0.24967961013317108,10.838838577270508,0.5153822302818298,5.738873481750488,-11.161576271057129,-17.325857162475586,-15.104461669921875,7.342235088348389,3.3571362495422363,-1.8087788820266724,0.5534946918487549,2.528902292251587,-13.95847225189209,11.23055362701416,-0.28822746872901917,-2.574636459350586,-8.803078651428223,-8.216737747192383,-19.4439754486084,-16.834300994873047,-13.24206256866455,3.8978521823883057,-1.5156986713409424,-24.51935386657715,-9.02903938293457,-44.15302276611328,-34.19297409057617,-30.691802978515625,-29.46609115600586],\"z\":[38.02151107788086,41.6252555847168,44.792110443115234,45.763370513916016,3.750378370285034,12.063955307006836,-28.17328643798828,9.827190399169922,5.341829299926758,7.8897013664245605,9.851764678955078,8.354939460754395,3.2391600608825684,7.3207879066467285,10.840470314025879,5.7183403968811035,7.240644454956055,8.411053657531738,6.072450637817383,12.825544357299805,3.9941630363464355,7.137622356414795,-29.893508911132812,11.960277557373047,7.460132598876953,10.018786430358887,-25.387487411499023,7.4409403800964355,6.288275718688965,12.71980094909668,6.453869819641113,-28.84619903564453,-26.76508903503418,-30.61663246154785,-29.55211639404297,-33.169803619384766,-31.101661682128906,5.794394493103027,14.773147583007812,8.638372421264648,9.16991138458252,12.945891380310059,-27.819732666015625,-33.92619705200195,11.354028701782227,14.864336967468262,14.95612621307373,11.285489082336426,4.816202163696289,6.76946496963501,-25.588563919067383,-29.772186279296875,-28.963523864746094,-28.689653396606445,-30.265213012695312,11.866535186767578,8.649113655090332,-32.632694244384766,-25.255538940429688,-29.33492088317871,44.909358978271484,41.441490173339844,10.409232139587402,-30.492101669311523,9.260798454284668,11.731269836425781,4.565455436706543,5.004955291748047,10.17002010345459,7.414159297943115,5.203310012817383,42.38666915893555,40.18057632446289,10.088985443115234,3.246408224105835,12.239441871643066,13.05981731414795,11.772510528564453,15.074339866638184],\"type\":\"scatter3d\"},{\"hovertemplate\":\"color=g<br>x=%{x}<br>y=%{y}<br>z=%{z}<extra></extra>\",\"legendgroup\":\"g\",\"marker\":{\"color\":\"#EF553B\",\"symbol\":\"circle\"},\"mode\":\"markers\",\"name\":\"g\",\"scene\":\"scene\",\"showlegend\":true,\"x\":[-34.95249557495117,-22.26615333557129,-18.511796951293945,16.95736312866211,14.153074264526367,-30.198331832885742,8.1911039352417,-24.47899627685547,-30.43633460998535,-33.4791374206543,-12.595044136047363,-10.837039947509766,-19.257375717163086,1.0245862007141113,-38.856815338134766,-17.93902587890625,-5.35081672668457,-5.612462997436523,-11.65208625793457,-17.927743911743164,-22.76555061340332,-24.180070877075195,2.0214951038360596,-9.142897605895996,-1.5287832021713257,8.11518669128418,-8.205550193786621,-24.10517120361328,-13.198129653930664,-20.9283447265625,-35.7957649230957,3.6502296924591064,-17.292997360229492,-27.712080001831055,-25.791431427001953,-5.7040696144104,-31.463336944580078,-23.60627555847168,-12.825616836547852,-11.112510681152344,-3.432901620864868,-27.36945915222168,-5.2121782302856445,5.97203254699707,-29.064388275146484,-2.7130565643310547,11.11121940612793,13.900035858154297,-21.127273559570312,-6.373238563537598,-14.478595733642578,-37.99951934814453,-21.563018798828125,-8.427470207214355,-13.261693954467773,2.49586820602417,-12.58573055267334,-13.492648124694824,8.719182968139648,-18.145999908447266,-5.853982448577881,-20.5760440826416,39.16162872314453,16.50499153137207,-25.656572341918945,2.237609624862671,-29.43516731262207,-24.448366165161133,-35.578121185302734,-19.683141708374023,-29.618053436279297,-16.210861206054688,-9.673583984375,-12.87874984741211,-10.353530883789062,-13.836003303527832,-29.559114456176758,-16.90315055847168,-95.07884979248047,-6.801237106323242,66.00922393798828,-5.084029197692871,-16.922422409057617,-26.66097068786621,-28.124614715576172,-32.37826919555664,-2.9562182426452637,5.491290092468262,-6.413435935974121,1.9347591400146484,-35.42085647583008,-1.4289567470550537,-9.334757804870605,5.840608596801758,12.28333854675293,-7.674513816833496,-21.279014587402344,12.416407585144043,-32.796531677246094,-6.325495719909668,-38.14970397949219,-10.283763885498047,-16.218215942382812,-13.778274536132812,3.263134479522705],\"y\":[10.381976127624512,14.777994155883789,12.90184211730957,21.00311851501465,14.49815559387207,9.49976921081543,20.527240753173828,-19.315486907958984,-20.380043029785156,-18.36186981201172,20.837627410888672,38.01121139526367,-19.295408248901367,7.617918968200684,8.311875343322754,17.79210090637207,14.755144119262695,38.31166458129883,33.24184799194336,22.92858123779297,15.494136810302734,15.472935676574707,4.902204513549805,20.318647384643555,18.445240020751953,12.280591011047363,35.05421829223633,10.513910293579102,26.94558334350586,-18.31352424621582,-72.57337188720703,15.523445129394531,21.996509552001953,14.606267929077148,11.812275886535645,12.046246528625488,-14.743664741516113,11.460813522338867,36.83259201049805,10.865450859069824,8.402017593383789,12.41815185546875,37.726890563964844,6.208125591278076,-15.876879692077637,4.895054340362549,19.14112091064453,23.24896240234375,-16.21198081970215,-21.808542251586914,36.130435943603516,12.553555488586426,20.132051467895508,35.5049934387207,20.552204132080078,12.076827049255371,23.94967269897461,30.953569412231445,15.569345474243164,18.430204391479492,38.04789733886719,12.733748435974121,144.31004333496094,21.435546875,-18.97449493408203,12.435006141662598,-18.415475845336914,-15.668967247009277,-12.50452709197998,16.95899200439453,13.69171142578125,18.616907119750977,37.49162673950195,27.436800003051758,-19.367204666137695,-18.243253707885742,-11.782594680786133,27.459657669067383,-68.99658203125,33.94950485229492,188.13931274414062,19.675243377685547,-16.466733932495117,-14.09158706665039,-13.786702156066895,-10.05722713470459,15.829639434814453,17.340147018432617,9.322954177856445,7.247088432312012,13.443110466003418,13.015750885009766,-18.288406372070312,6.831804275512695,18.938692092895508,9.87199878692627,-14.93259334564209,10.849048614501953,-13.286111831665039,-17.69533920288086,10.523571968078613,37.238441467285156,29.70420265197754,16.666688919067383,9.50365924835205],\"z\":[-20.104089736938477,-11.737732887268066,-3.258329153060913,-26.94830894470215,-29.812747955322266,-13.851712226867676,-27.090164184570312,-14.58890438079834,-6.100000381469727,-3.7212588787078857,-14.702235221862793,15.899252891540527,-14.918889999389648,-27.3331356048584,-18.71714973449707,-12.992399215698242,-23.895877838134766,19.342636108398438,7.529501438140869,1.4349781274795532,-2.340580463409424,-7.41684627532959,-30.61208152770996,-17.175050735473633,-22.324934005737305,-27.419757843017578,4.427237510681152,-9.403495788574219,-2.262493848800659,-18.720130920410156,-110.51158142089844,-18.722009658813477,-2.4582417011260986,-11.487054824829102,-14.035839080810547,-21.255077362060547,1.030908226966858,-4.875601768493652,5.458895683288574,-27.787641525268555,-26.142698287963867,-7.206340789794922,11.66808032989502,-28.408100128173828,-6.766310214996338,-32.9076042175293,-24.078506469726562,-28.226911544799805,-12.285982131958008,-23.279760360717773,9.354588508605957,-20.368671417236328,-1.8590248823165894,17.212915420532227,-19.42892074584961,-25.966114044189453,-9.730098724365234,0.2550146281719208,-24.359554290771484,-0.06442876160144806,6.562471389770508,-7.907847881317139,-141.65097045898438,-30.879987716674805,-10.672301292419434,-18.534666061401367,-2.3519492149353027,-7.3500590324401855,1.6105118989944458,-4.828845024108887,-16.114694595336914,-21.245893478393555,8.636882781982422,2.57204008102417,-23.99956512451172,-20.34979820251465,-5.604270935058594,-0.3869243562221527,343.54931640625,8.401371955871582,-115.43158721923828,-19.72140884399414,-17.552988052368164,-10.136578559875488,-2.1947152614593506,1.3466410636901855,-19.81689453125,-23.02619743347168,-28.662946701049805,-34.699241638183594,-17.35286521911621,-23.665727615356445,-20.236534118652344,-32.475242614746094,-28.410245895385742,-24.89767837524414,-16.280475616455078,-29.910661697387695,-2.8309919834136963,-23.959489822387695,-15.434901237487793,21.00980567932129,3.292083978652954,-19.315404891967773,-30.636449813842773],\"type\":\"scatter3d\"},{\"hovertemplate\":\"color=c<br>x=%{x}<br>y=%{y}<br>z=%{z}<extra></extra>\",\"legendgroup\":\"c\",\"marker\":{\"color\":\"#00cc96\",\"symbol\":\"circle\"},\"mode\":\"markers\",\"name\":\"c\",\"scene\":\"scene\",\"showlegend\":true,\"x\":[7.439241409301758,-1.8433257341384888,6.425163745880127,4.194344520568848,31.653709411621094,30.014556884765625,32.750511169433594,12.878828048706055,-5.189026355743408,24.352977752685547,7.262667655944824,9.828669548034668,22.979623794555664,20.304920196533203,-6.17741060256958,30.919967651367188,31.59091567993164,18.23295783996582,27.353261947631836,15.5406494140625,19.23225212097168,19.4111328125,-1.6118563413619995,28.266590118408203,18.95317840576172,19.091175079345703,25.83808708190918,10.776934623718262,27.670480728149414,27.629295349121094,2.201108455657959,28.68429946899414,24.0488338470459,25.20955467224121,5.753146648406982,27.32952117919922,23.808425903320312,13.14620590209961,-0.9460838437080383,1.5841567516326904,22.01544952392578,15.542435646057129,16.21710968017578,-10.777846336364746,19.026309967041016,19.471405029296875,14.997465133666992,28.554676055908203,9.599215507507324,31.112106323242188,28.88642120361328,26.020788192749023,17.96296501159668,18.034788131713867,16.009912490844727,23.18646812438965,21.6085205078125,14.191764831542969,25.418689727783203,28.96420669555664,30.068574905395508,33.02740478515625,27.068843841552734,13.751791954040527,10.328709602355957,32.04303741455078],\"y\":[-6.634182453155518,-0.37708261609077454,-3.0256550312042236,1.4088451862335205,9.617855072021484,14.275409698486328,13.829357147216797,25.21778106689453,2.428084135055542,15.743884086608887,-7.52083158493042,-5.270932674407959,20.06836700439453,22.08230972290039,6.253733158111572,29.489423751831055,25.761402130126953,25.74327850341797,12.410948753356934,-2.309506416320801,18.516319274902344,20.564651489257812,0.6727749705314636,16.95103645324707,26.951623916625977,30.61806297302246,14.890880584716797,22.75217628479004,16.57017707824707,14.693439483642578,-1.2923122644424438,-0.1123834028840065,-2.3972582817077637,-0.4990825653076172,-0.7650801539421082,22.30767822265625,30.433717727661133,26.021535873413086,1.4544463157653809,2.8574862480163574,27.264413833618164,21.870227813720703,-3.972778558731079,0.4807082414627075,-3.897235155105591,-0.9820008277893066,23.976886749267578,28.278894424438477,-3.759458541870117,2.3661229610443115,5.100497722625732,19.694766998291016,27.785400390625,26.427968978881836,-1.023819088935852,27.56737518310547,31.34465980529785,-5.501844882965088,2.0409555435180664,9.264280319213867,4.8280134201049805,8.94536304473877,25.911041259765625,-5.239426136016846,-5.741513252258301,5.2801313400268555],\"z\":[44.19050979614258,30.97712516784668,43.113529205322266,33.14552688598633,0.08652003854513168,1.475113868713379,3.972632884979248,6.903897285461426,26.380971908569336,10.509483337402344,7.103343486785889,5.256505012512207,13.0692777633667,11.168233871459961,26.291173934936523,-0.46679842472076416,-1.6200746297836304,18.176084518432617,12.199758529663086,36.69450759887695,12.485450744628906,17.30057144165039,34.99090576171875,7.671281337738037,3.714146852493286,5.875340938568115,-35.842315673828125,10.349599838256836,12.802528381347656,-32.542816162109375,30.92350196838379,2.758323907852173,1.5799709558486938,5.091037273406982,35.8699836730957,4.705582141876221,4.425485134124756,10.993623733520508,25.99445343017578,29.7903995513916,6.797909736633301,9.452261924743652,5.379765033721924,25.883928298950195,1.1689366102218628,4.42990255355835,14.525402069091797,-3.0803329944610596,46.38301467895508,7.614202976226807,8.096148490905762,9.578890800476074,12.387887001037598,7.68466854095459,1.9764022827148438,0.974686861038208,0.8819113373756409,1.5519707202911377,1.6095943450927734,3.170942783355713,2.049130916595459,3.8170907497406006,3.2426187992095947,39.09793472290039,40.748741149902344,10.690932273864746],\"type\":\"scatter3d\"},{\"hovertemplate\":\"color=b<br>x=%{x}<br>y=%{y}<br>z=%{z}<extra></extra>\",\"legendgroup\":\"b\",\"marker\":{\"color\":\"#ab63fa\",\"symbol\":\"circle\"},\"mode\":\"markers\",\"name\":\"b\",\"scene\":\"scene\",\"showlegend\":true,\"x\":[-0.8461762070655823,-9.13136100769043,8.470383644104004,-10.936866760253906,-12.969708442687988,-3.820178985595703,-0.015494339168071747,-3.6917941570281982,-3.383928060531616,12.893206596374512,11.55665397644043,13.158421516418457,12.527109146118164,6.0177130699157715,13.321462631225586,15.118959426879883,8.456172943115234,10.498370170593262,9.175483703613281,-3.50053071975708,13.858551025390625,5.9633965492248535,12.052245140075684,-0.382486492395401,-0.3402878940105438,-3.6471025943756104,82.5772705078125,9.645185470581055],\"y\":[-22.712200164794922,-42.06515884399414,-26.879323959350586,-37.27485656738281,-38.64548873901367,-38.148860931396484,-39.33528137207031,-38.55495071411133,-41.872615814208984,-23.622575759887695,-25.44783592224121,-27.04463768005371,-22.437854766845703,23.300241470336914,-27.912551879882812,-26.20076560974121,-22.93191909790039,-26.77174186706543,-25.51715850830078,-19.70619010925293,-22.92375946044922,-30.09836196899414,-30.739046096801758,-34.71968460083008,-34.33231735229492,-32.53916549682617,132.51084899902344,-21.832441329956055],\"z\":[-23.399606704711914,2.491046905517578,-16.78980255126953,1.334521770477295,3.736048460006714,-21.808908462524414,-23.71176528930664,-26.32880210876465,-23.739091873168945,-17.590486526489258,-30.288482666015625,-25.09761619567871,-21.800416946411133,27.20572280883789,-16.376480102539062,-21.137542724609375,-19.39569091796875,-20.6837100982666,-25.15511131286621,-21.201908111572266,-27.562175750732422,-21.078237533569336,-19.651023864746094,-21.822677612304688,-25.478103637695312,-24.357561111450195,39.83149719238281,-28.329862594604492],\"type\":\"scatter3d\"},{\"hovertemplate\":\"color=m<br>x=%{x}<br>y=%{y}<br>z=%{z}<extra></extra>\",\"legendgroup\":\"m\",\"marker\":{\"color\":\"#FFA15A\",\"symbol\":\"circle\"},\"mode\":\"markers\",\"name\":\"m\",\"scene\":\"scene\",\"showlegend\":true,\"x\":[-19.904253005981445,-15.829290390014648,-11.260408401489258,-17.67772102355957,-8.329499244689941,-5.064068794250488,-17.472084045410156,-17.557170867919922,-12.672040939331055,-14.06580638885498,-12.675955772399902,-9.641383171081543,-14.194194793701172,-14.054717063903809,-15.430628776550293,-16.018890380859375,2.4405007362365723,-18.533422470092773,0.24550144374370575,-7.471778392791748,-13.968545913696289,-22.331558227539062],\"y\":[10.46668529510498,10.437952995300293,9.42351245880127,1.5659339427947998,3.791241407394409,3.693166971206665,6.015127658843994,4.560041904449463,5.92965030670166,8.452631950378418,9.447884559631348,8.153890609741211,11.64294719696045,7.6857428550720215,3.383639335632324,0.716079592704773,-5.032461166381836,6.172702312469482,-2.4933648109436035,1.2601168155670166,4.156565189361572,-1.067551851272583],\"z\":[26.970003128051758,28.54170799255371,23.68633270263672,26.72191047668457,30.672847747802734,34.85063171386719,24.105695724487305,34.39253616333008,33.73703384399414,19.738452911376953,32.218971252441406,30.18525505065918,22.57773780822754,26.887407302856445,19.26290512084961,22.620288848876953,42.68761444091797,29.6712646484375,40.956092834472656,37.13343811035156,24.028345108032227,-22.058605194091797],\"type\":\"scatter3d\"}],                        {\"template\":{\"data\":{\"histogram2dcontour\":[{\"type\":\"histogram2dcontour\",\"colorbar\":{\"outlinewidth\":0,\"ticks\":\"\"},\"colorscale\":[[0.0,\"#0d0887\"],[0.1111111111111111,\"#46039f\"],[0.2222222222222222,\"#7201a8\"],[0.3333333333333333,\"#9c179e\"],[0.4444444444444444,\"#bd3786\"],[0.5555555555555556,\"#d8576b\"],[0.6666666666666666,\"#ed7953\"],[0.7777777777777778,\"#fb9f3a\"],[0.8888888888888888,\"#fdca26\"],[1.0,\"#f0f921\"]]}],\"choropleth\":[{\"type\":\"choropleth\",\"colorbar\":{\"outlinewidth\":0,\"ticks\":\"\"}}],\"histogram2d\":[{\"type\":\"histogram2d\",\"colorbar\":{\"outlinewidth\":0,\"ticks\":\"\"},\"colorscale\":[[0.0,\"#0d0887\"],[0.1111111111111111,\"#46039f\"],[0.2222222222222222,\"#7201a8\"],[0.3333333333333333,\"#9c179e\"],[0.4444444444444444,\"#bd3786\"],[0.5555555555555556,\"#d8576b\"],[0.6666666666666666,\"#ed7953\"],[0.7777777777777778,\"#fb9f3a\"],[0.8888888888888888,\"#fdca26\"],[1.0,\"#f0f921\"]]}],\"heatmap\":[{\"type\":\"heatmap\",\"colorbar\":{\"outlinewidth\":0,\"ticks\":\"\"},\"colorscale\":[[0.0,\"#0d0887\"],[0.1111111111111111,\"#46039f\"],[0.2222222222222222,\"#7201a8\"],[0.3333333333333333,\"#9c179e\"],[0.4444444444444444,\"#bd3786\"],[0.5555555555555556,\"#d8576b\"],[0.6666666666666666,\"#ed7953\"],[0.7777777777777778,\"#fb9f3a\"],[0.8888888888888888,\"#fdca26\"],[1.0,\"#f0f921\"]]}],\"heatmapgl\":[{\"type\":\"heatmapgl\",\"colorbar\":{\"outlinewidth\":0,\"ticks\":\"\"},\"colorscale\":[[0.0,\"#0d0887\"],[0.1111111111111111,\"#46039f\"],[0.2222222222222222,\"#7201a8\"],[0.3333333333333333,\"#9c179e\"],[0.4444444444444444,\"#bd3786\"],[0.5555555555555556,\"#d8576b\"],[0.6666666666666666,\"#ed7953\"],[0.7777777777777778,\"#fb9f3a\"],[0.8888888888888888,\"#fdca26\"],[1.0,\"#f0f921\"]]}],\"contourcarpet\":[{\"type\":\"contourcarpet\",\"colorbar\":{\"outlinewidth\":0,\"ticks\":\"\"}}],\"contour\":[{\"type\":\"contour\",\"colorbar\":{\"outlinewidth\":0,\"ticks\":\"\"},\"colorscale\":[[0.0,\"#0d0887\"],[0.1111111111111111,\"#46039f\"],[0.2222222222222222,\"#7201a8\"],[0.3333333333333333,\"#9c179e\"],[0.4444444444444444,\"#bd3786\"],[0.5555555555555556,\"#d8576b\"],[0.6666666666666666,\"#ed7953\"],[0.7777777777777778,\"#fb9f3a\"],[0.8888888888888888,\"#fdca26\"],[1.0,\"#f0f921\"]]}],\"surface\":[{\"type\":\"surface\",\"colorbar\":{\"outlinewidth\":0,\"ticks\":\"\"},\"colorscale\":[[0.0,\"#0d0887\"],[0.1111111111111111,\"#46039f\"],[0.2222222222222222,\"#7201a8\"],[0.3333333333333333,\"#9c179e\"],[0.4444444444444444,\"#bd3786\"],[0.5555555555555556,\"#d8576b\"],[0.6666666666666666,\"#ed7953\"],[0.7777777777777778,\"#fb9f3a\"],[0.8888888888888888,\"#fdca26\"],[1.0,\"#f0f921\"]]}],\"mesh3d\":[{\"type\":\"mesh3d\",\"colorbar\":{\"outlinewidth\":0,\"ticks\":\"\"}}],\"scatter\":[{\"fillpattern\":{\"fillmode\":\"overlay\",\"size\":10,\"solidity\":0.2},\"type\":\"scatter\"}],\"parcoords\":[{\"type\":\"parcoords\",\"line\":{\"colorbar\":{\"outlinewidth\":0,\"ticks\":\"\"}}}],\"scatterpolargl\":[{\"type\":\"scatterpolargl\",\"marker\":{\"colorbar\":{\"outlinewidth\":0,\"ticks\":\"\"}}}],\"bar\":[{\"error_x\":{\"color\":\"#2a3f5f\"},\"error_y\":{\"color\":\"#2a3f5f\"},\"marker\":{\"line\":{\"color\":\"#E5ECF6\",\"width\":0.5},\"pattern\":{\"fillmode\":\"overlay\",\"size\":10,\"solidity\":0.2}},\"type\":\"bar\"}],\"scattergeo\":[{\"type\":\"scattergeo\",\"marker\":{\"colorbar\":{\"outlinewidth\":0,\"ticks\":\"\"}}}],\"scatterpolar\":[{\"type\":\"scatterpolar\",\"marker\":{\"colorbar\":{\"outlinewidth\":0,\"ticks\":\"\"}}}],\"histogram\":[{\"marker\":{\"pattern\":{\"fillmode\":\"overlay\",\"size\":10,\"solidity\":0.2}},\"type\":\"histogram\"}],\"scattergl\":[{\"type\":\"scattergl\",\"marker\":{\"colorbar\":{\"outlinewidth\":0,\"ticks\":\"\"}}}],\"scatter3d\":[{\"type\":\"scatter3d\",\"line\":{\"colorbar\":{\"outlinewidth\":0,\"ticks\":\"\"}},\"marker\":{\"colorbar\":{\"outlinewidth\":0,\"ticks\":\"\"}}}],\"scattermapbox\":[{\"type\":\"scattermapbox\",\"marker\":{\"colorbar\":{\"outlinewidth\":0,\"ticks\":\"\"}}}],\"scatterternary\":[{\"type\":\"scatterternary\",\"marker\":{\"colorbar\":{\"outlinewidth\":0,\"ticks\":\"\"}}}],\"scattercarpet\":[{\"type\":\"scattercarpet\",\"marker\":{\"colorbar\":{\"outlinewidth\":0,\"ticks\":\"\"}}}],\"carpet\":[{\"aaxis\":{\"endlinecolor\":\"#2a3f5f\",\"gridcolor\":\"white\",\"linecolor\":\"white\",\"minorgridcolor\":\"white\",\"startlinecolor\":\"#2a3f5f\"},\"baxis\":{\"endlinecolor\":\"#2a3f5f\",\"gridcolor\":\"white\",\"linecolor\":\"white\",\"minorgridcolor\":\"white\",\"startlinecolor\":\"#2a3f5f\"},\"type\":\"carpet\"}],\"table\":[{\"cells\":{\"fill\":{\"color\":\"#EBF0F8\"},\"line\":{\"color\":\"white\"}},\"header\":{\"fill\":{\"color\":\"#C8D4E3\"},\"line\":{\"color\":\"white\"}},\"type\":\"table\"}],\"barpolar\":[{\"marker\":{\"line\":{\"color\":\"#E5ECF6\",\"width\":0.5},\"pattern\":{\"fillmode\":\"overlay\",\"size\":10,\"solidity\":0.2}},\"type\":\"barpolar\"}],\"pie\":[{\"automargin\":true,\"type\":\"pie\"}]},\"layout\":{\"autotypenumbers\":\"strict\",\"colorway\":[\"#636efa\",\"#EF553B\",\"#00cc96\",\"#ab63fa\",\"#FFA15A\",\"#19d3f3\",\"#FF6692\",\"#B6E880\",\"#FF97FF\",\"#FECB52\"],\"font\":{\"color\":\"#2a3f5f\"},\"hovermode\":\"closest\",\"hoverlabel\":{\"align\":\"left\"},\"paper_bgcolor\":\"white\",\"plot_bgcolor\":\"#E5ECF6\",\"polar\":{\"bgcolor\":\"#E5ECF6\",\"angularaxis\":{\"gridcolor\":\"white\",\"linecolor\":\"white\",\"ticks\":\"\"},\"radialaxis\":{\"gridcolor\":\"white\",\"linecolor\":\"white\",\"ticks\":\"\"}},\"ternary\":{\"bgcolor\":\"#E5ECF6\",\"aaxis\":{\"gridcolor\":\"white\",\"linecolor\":\"white\",\"ticks\":\"\"},\"baxis\":{\"gridcolor\":\"white\",\"linecolor\":\"white\",\"ticks\":\"\"},\"caxis\":{\"gridcolor\":\"white\",\"linecolor\":\"white\",\"ticks\":\"\"}},\"coloraxis\":{\"colorbar\":{\"outlinewidth\":0,\"ticks\":\"\"}},\"colorscale\":{\"sequential\":[[0.0,\"#0d0887\"],[0.1111111111111111,\"#46039f\"],[0.2222222222222222,\"#7201a8\"],[0.3333333333333333,\"#9c179e\"],[0.4444444444444444,\"#bd3786\"],[0.5555555555555556,\"#d8576b\"],[0.6666666666666666,\"#ed7953\"],[0.7777777777777778,\"#fb9f3a\"],[0.8888888888888888,\"#fdca26\"],[1.0,\"#f0f921\"]],\"sequentialminus\":[[0.0,\"#0d0887\"],[0.1111111111111111,\"#46039f\"],[0.2222222222222222,\"#7201a8\"],[0.3333333333333333,\"#9c179e\"],[0.4444444444444444,\"#bd3786\"],[0.5555555555555556,\"#d8576b\"],[0.6666666666666666,\"#ed7953\"],[0.7777777777777778,\"#fb9f3a\"],[0.8888888888888888,\"#fdca26\"],[1.0,\"#f0f921\"]],\"diverging\":[[0,\"#8e0152\"],[0.1,\"#c51b7d\"],[0.2,\"#de77ae\"],[0.3,\"#f1b6da\"],[0.4,\"#fde0ef\"],[0.5,\"#f7f7f7\"],[0.6,\"#e6f5d0\"],[0.7,\"#b8e186\"],[0.8,\"#7fbc41\"],[0.9,\"#4d9221\"],[1,\"#276419\"]]},\"xaxis\":{\"gridcolor\":\"white\",\"linecolor\":\"white\",\"ticks\":\"\",\"title\":{\"standoff\":15},\"zerolinecolor\":\"white\",\"automargin\":true,\"zerolinewidth\":2},\"yaxis\":{\"gridcolor\":\"white\",\"linecolor\":\"white\",\"ticks\":\"\",\"title\":{\"standoff\":15},\"zerolinecolor\":\"white\",\"automargin\":true,\"zerolinewidth\":2},\"scene\":{\"xaxis\":{\"backgroundcolor\":\"#E5ECF6\",\"gridcolor\":\"white\",\"linecolor\":\"white\",\"showbackground\":true,\"ticks\":\"\",\"zerolinecolor\":\"white\",\"gridwidth\":2},\"yaxis\":{\"backgroundcolor\":\"#E5ECF6\",\"gridcolor\":\"white\",\"linecolor\":\"white\",\"showbackground\":true,\"ticks\":\"\",\"zerolinecolor\":\"white\",\"gridwidth\":2},\"zaxis\":{\"backgroundcolor\":\"#E5ECF6\",\"gridcolor\":\"white\",\"linecolor\":\"white\",\"showbackground\":true,\"ticks\":\"\",\"zerolinecolor\":\"white\",\"gridwidth\":2}},\"shapedefaults\":{\"line\":{\"color\":\"#2a3f5f\"}},\"annotationdefaults\":{\"arrowcolor\":\"#2a3f5f\",\"arrowhead\":0,\"arrowwidth\":1},\"geo\":{\"bgcolor\":\"white\",\"landcolor\":\"#E5ECF6\",\"subunitcolor\":\"white\",\"showland\":true,\"showlakes\":true,\"lakecolor\":\"white\"},\"title\":{\"x\":0.05},\"mapbox\":{\"style\":\"light\"}}},\"scene\":{\"domain\":{\"x\":[0.0,1.0],\"y\":[0.0,1.0]},\"xaxis\":{\"title\":{\"text\":\"x\"}},\"yaxis\":{\"title\":{\"text\":\"y\"}},\"zaxis\":{\"title\":{\"text\":\"z\"}}},\"legend\":{\"title\":{\"text\":\"color\"},\"tracegroupgap\":0},\"margin\":{\"t\":60}},                        {\"responsive\": true}                    ).then(function(){\n",
       "                            \n",
       "var gd = document.getElementById('7c1d26d6-71a3-4305-8164-1a7f338bd43d');\n",
       "var x = new MutationObserver(function (mutations, observer) {{\n",
       "        var display = window.getComputedStyle(gd).display;\n",
       "        if (!display || display === 'none') {{\n",
       "            console.log([gd, 'removed!']);\n",
       "            Plotly.purge(gd);\n",
       "            observer.disconnect();\n",
       "        }}\n",
       "}});\n",
       "\n",
       "// Listen for the removal of the full notebook cells\n",
       "var notebookContainer = gd.closest('#notebook-container');\n",
       "if (notebookContainer) {{\n",
       "    x.observe(notebookContainer, {childList: true});\n",
       "}}\n",
       "\n",
       "// Listen for the clearing of the current output cell\n",
       "var outputEl = gd.closest('.output');\n",
       "if (outputEl) {{\n",
       "    x.observe(outputEl, {childList: true});\n",
       "}}\n",
       "\n",
       "                        })                };                });            </script>        </div>"
      ]
     },
     "metadata": {},
     "output_type": "display_data"
    }
   ],
   "source": [
    "# plot using tsne \n",
    "X_embedded  = TSNE(n_components=3, perplexity=10,random_state=24).fit_transform( X )\n",
    "colors = np.array([x for x in 'bgrcmykbgrcmykbgrcmykbgrcmyk'])\n",
    "fig = px.scatter_3d(x=X_embedded [:,0],y=X_embedded [:,1],z=X_embedded [:,2],color=colors[mbk_means_labels])\n",
    "fig.show()"
   ]
  },
  {
   "cell_type": "markdown",
   "metadata": {},
   "source": [
    "### Hierachical Clustering\n",
    "\n",
    "Hierarchical clustering used to group objects in clusters based on their similar to each other. We would be using bottom-up clustering approach, where each data point is assigned to its own cluster. and then the similar clusters are merged iteratively until all of the data points are part of one big root cluster.\n"
   ]
  },
  {
   "cell_type": "code",
   "execution_count": 62,
   "metadata": {},
   "outputs": [],
   "source": [
    "# Single linkage: \n",
    "from scipy.cluster.hierarchy import linkage\n",
    "from scipy.cluster.hierarchy import dendrogram\n",
    "from scipy.cluster.hierarchy import cut_tree\n"
   ]
  },
  {
   "cell_type": "code",
   "execution_count": 149,
   "metadata": {},
   "outputs": [
    {
     "data": {
      "text/plain": [
       "{'affinity': ['euclidean', 'l1', 'l2', 'manhattan', 'cosine', 'precomputed'],\n",
       " 'linkage': ['ward', 'complete', 'average', 'single'],\n",
       " 'n_clusters': range(2, 7)}"
      ]
     },
     "execution_count": 149,
     "metadata": {},
     "output_type": "execute_result"
    }
   ],
   "source": [
    "agg_grid = {\n",
    "        \"affinity\": ['euclidean', 'l1', 'l2', 'manhattan', 'cosine', 'precomputed'],\n",
    "        \"linkage\" : ['ward', 'complete', 'average', 'single'],\n",
    "        \"n_clusters\": range(2, 7)\n",
    "       }\n",
    "agg_grid"
   ]
  },
  {
   "cell_type": "code",
   "execution_count": 150,
   "metadata": {},
   "outputs": [],
   "source": [
    "agg_model = AgglomerativeClustering()\n",
    "agg_params = GridSearchCV(agg_model,agg_grid,scoring=silhouette_score,cv= 10).fit(X, y)"
   ]
  },
  {
   "cell_type": "code",
   "execution_count": 151,
   "metadata": {},
   "outputs": [
    {
     "data": {
      "text/plain": [
       "(0.5990028036127157,\n",
       " {'affinity': 'euclidean', 'linkage': 'ward', 'n_clusters': 6})"
      ]
     },
     "execution_count": 151,
     "metadata": {},
     "output_type": "execute_result"
    }
   ],
   "source": [
    "agg_params.best_score_, agg_params.best_params_"
   ]
  },
  {
   "cell_type": "code",
   "execution_count": 152,
   "metadata": {},
   "outputs": [],
   "source": [
    "agg_clustering_model = AgglomerativeClustering(n_clusters= agg_params.best_params_['n_clusters'], \n",
    "                                               linkage= agg_params.best_params_['linkage'], \n",
    "                                               affinity =  agg_params.best_params_['affinity'])\n",
    "agg_clustering_model.fit(X)\n",
    "agg_labels = agg_clustering_model.labels_"
   ]
  },
  {
   "cell_type": "code",
   "execution_count": 153,
   "metadata": {},
   "outputs": [
    {
     "data": {
      "text/html": [
       "<div>\n",
       "<style scoped>\n",
       "    .dataframe tbody tr th:only-of-type {\n",
       "        vertical-align: middle;\n",
       "    }\n",
       "\n",
       "    .dataframe tbody tr th {\n",
       "        vertical-align: top;\n",
       "    }\n",
       "\n",
       "    .dataframe thead th {\n",
       "        text-align: right;\n",
       "    }\n",
       "</style>\n",
       "<table border=\"1\" class=\"dataframe\">\n",
       "  <thead>\n",
       "    <tr style=\"text-align: right;\">\n",
       "      <th></th>\n",
       "      <th>Cluster</th>\n",
       "    </tr>\n",
       "  </thead>\n",
       "  <tbody>\n",
       "    <tr>\n",
       "      <th>0</th>\n",
       "      <td>79</td>\n",
       "    </tr>\n",
       "    <tr>\n",
       "      <th>3</th>\n",
       "      <td>53</td>\n",
       "    </tr>\n",
       "    <tr>\n",
       "      <th>1</th>\n",
       "      <td>52</td>\n",
       "    </tr>\n",
       "    <tr>\n",
       "      <th>2</th>\n",
       "      <td>46</td>\n",
       "    </tr>\n",
       "    <tr>\n",
       "      <th>5</th>\n",
       "      <td>35</td>\n",
       "    </tr>\n",
       "    <tr>\n",
       "      <th>4</th>\n",
       "      <td>35</td>\n",
       "    </tr>\n",
       "  </tbody>\n",
       "</table>\n",
       "</div>"
      ],
      "text/plain": [
       "   Cluster\n",
       "0       79\n",
       "3       53\n",
       "1       52\n",
       "2       46\n",
       "5       35\n",
       "4       35"
      ]
     },
     "execution_count": 153,
     "metadata": {},
     "output_type": "execute_result"
    }
   ],
   "source": [
    "agg_dataset = pd.DataFrame(X.copy())\n",
    "agg_dataset.loc[:,'Cluster'] = agg_labels\n",
    "agg_dataset.Cluster.value_counts().to_frame()"
   ]
  },
  {
   "cell_type": "code",
   "execution_count": 154,
   "metadata": {},
   "outputs": [
    {
     "data": {
      "text/plain": [
       "300"
      ]
     },
     "execution_count": 154,
     "metadata": {},
     "output_type": "execute_result"
    }
   ],
   "source": [
    "X.shape[0]"
   ]
  },
  {
   "cell_type": "code",
   "execution_count": 155,
   "metadata": {},
   "outputs": [
    {
     "data": {
      "text/plain": [
       "<matplotlib.lines.Line2D at 0x131d7013f70>"
      ]
     },
     "execution_count": 155,
     "metadata": {},
     "output_type": "execute_result"
    },
    {
     "data": {
      "image/png": "[encoded data removed]",
      "text/plain": [
       "<Figure size 576x432 with 1 Axes>"
      ]
     },
     "metadata": {
      "needs_background": "light"
     },
     "output_type": "display_data"
    }
   ],
   "source": [
    "clusters = linkage(X, method=agg_params.best_params_['linkage'])\n",
    "\n",
    "plt.figure(figsize=(8, 6))\n",
    "dendrogram = hierarchy.dendrogram(clusters)\n",
    "plt.axhline(150, color='red', linestyle='--') \n",
    "plt.axhline(100, color='crimson')"
   ]
  },
  {
   "cell_type": "code",
   "execution_count": 156,
   "metadata": {},
   "outputs": [
    {
     "data": {
      "text/html": [
       "<div>\n",
       "<style scoped>\n",
       "    .dataframe tbody tr th:only-of-type {\n",
       "        vertical-align: middle;\n",
       "    }\n",
       "\n",
       "    .dataframe tbody tr th {\n",
       "        vertical-align: top;\n",
       "    }\n",
       "\n",
       "    .dataframe thead th {\n",
       "        text-align: right;\n",
       "    }\n",
       "</style>\n",
       "<table border=\"1\" class=\"dataframe\">\n",
       "  <thead>\n",
       "    <tr style=\"text-align: right;\">\n",
       "      <th></th>\n",
       "      <th>silhouette_score</th>\n",
       "      <th>davies_bouldin_score</th>\n",
       "      <th>calinski_harabasz_score</th>\n",
       "      <th>fowlkes_mallows_score</th>\n",
       "      <th>adjusted_rand_score</th>\n",
       "      <th>adjusted_mutual_info_score</th>\n",
       "      <th>homogeneity_score</th>\n",
       "      <th>completeness_score</th>\n",
       "      <th>v_measure_score</th>\n",
       "    </tr>\n",
       "  </thead>\n",
       "  <tbody>\n",
       "    <tr>\n",
       "      <th>Agglomerative Clustering</th>\n",
       "      <td>0.462614</td>\n",
       "      <td>0.817684</td>\n",
       "      <td>229.679511</td>\n",
       "      <td>0.397394</td>\n",
       "      <td>0.021608</td>\n",
       "      <td>0.08356</td>\n",
       "      <td>0.271343</td>\n",
       "      <td>0.054793</td>\n",
       "      <td>0.091175</td>\n",
       "    </tr>\n",
       "  </tbody>\n",
       "</table>\n",
       "</div>"
      ],
      "text/plain": [
       "                           silhouette_score  davies_bouldin_score  \\\n",
       "Agglomerative Clustering           0.462614              0.817684   \n",
       "\n",
       "                           calinski_harabasz_score  fowlkes_mallows_score  \\\n",
       "Agglomerative Clustering                229.679511               0.397394   \n",
       "\n",
       "                           adjusted_rand_score  adjusted_mutual_info_score  \\\n",
       "Agglomerative Clustering              0.021608                     0.08356   \n",
       "\n",
       "                           homogeneity_score  completeness_score  \\\n",
       "Agglomerative Clustering            0.271343            0.054793   \n",
       "\n",
       "                           v_measure_score  \n",
       "Agglomerative Clustering          0.091175  "
      ]
     },
     "execution_count": 156,
     "metadata": {},
     "output_type": "execute_result"
    }
   ],
   "source": [
    "agg_df = pd.DataFrame(estimator_evaluation(agg_clustering_model, 'Agglomerative Clustering ', X , y ), index=[\"Agglomerative Clustering \"])\n",
    "agg_df"
   ]
  },
  {
   "cell_type": "markdown",
   "metadata": {},
   "source": [
    "### DBSCAN\n",
    "\n",
    "DBSCAN is a non parametric clustering algorithm which groups the closed high density data points and those points that lie in the lower density areas are treated as outliers. It does this using Epsilon Parameter (Degree of closeness of points in the same cluster) and MinPts ( Minimum number of points inside the radius of circle )"
   ]
  },
  {
   "cell_type": "code",
   "execution_count": 71,
   "metadata": {},
   "outputs": [],
   "source": [
    "dbscan_grid = {\n",
    "        \"min_samples\": range(2,20,3),\n",
    "        \"metric\": ['euclidean','dice' 'manhattan', 'cosine', 'precomputed'],\n",
    "        \"algorithm\" : ['auto', 'ball_tree', 'kd_tree', 'brute'],\n",
    "        \"eps\": np.arange(0.01,3,0.01)\n",
    "       }\n",
    "#dbscan_grid"
   ]
  },
  {
   "cell_type": "code",
   "execution_count": 72,
   "metadata": {},
   "outputs": [],
   "source": [
    "def dbscan_silhouette_score(estimator, X,y):\n",
    "    clusters = estimator.fit_predict(X)\n",
    "    #print(\"Number of labels: \",estimator,estimator.labels_)\n",
    "    n = len(np.unique(estimator.labels_))\n",
    "    if n>1:\n",
    "        score = metrics.silhouette_score(X, estimator.labels_)\n",
    "        #print(\"Number of labels: \",estimator,estimator.labels_)\n",
    "        return score\n",
    "    else:\n",
    "        return 0\n",
    "dbscan_model = DBSCAN()\n",
    "dbscan_params = GridSearchCV(dbscan_model,dbscan_grid,scoring=dbscan_silhouette_score,cv= 10).fit(X, y)"
   ]
  },
  {
   "cell_type": "code",
   "execution_count": 73,
   "metadata": {},
   "outputs": [
    {
     "data": {
      "text/plain": [
       "(0.5221459733683752,\n",
       " {'algorithm': 'auto', 'eps': 0.12, 'metric': 'cosine', 'min_samples': 2})"
      ]
     },
     "execution_count": 73,
     "metadata": {},
     "output_type": "execute_result"
    }
   ],
   "source": [
    "dbscan_params.best_score_, dbscan_params.best_params_"
   ]
  },
  {
   "cell_type": "code",
   "execution_count": 74,
   "metadata": {},
   "outputs": [],
   "source": [
    "dbscan_clustering = DBSCAN(eps= dbscan_params.best_params_['eps'], \n",
    "                    min_samples= dbscan_params.best_params_['min_samples'],\n",
    "                    algorithm = dbscan_params.best_params_['algorithm'],\n",
    "                    metric = dbscan_params.best_params_['metric']\n",
    "                   ).fit(X)\n",
    "DBSCAN_dataset = pd.DataFrame(X.copy())\n",
    "DBSCAN_dataset.loc[:,'Cluster'] = dbscan_clustering.labels_ "
   ]
  },
  {
   "cell_type": "code",
   "execution_count": 75,
   "metadata": {},
   "outputs": [
    {
     "data": {
      "text/html": [
       "<div>\n",
       "<style scoped>\n",
       "    .dataframe tbody tr th:only-of-type {\n",
       "        vertical-align: middle;\n",
       "    }\n",
       "\n",
       "    .dataframe tbody tr th {\n",
       "        vertical-align: top;\n",
       "    }\n",
       "\n",
       "    .dataframe thead th {\n",
       "        text-align: right;\n",
       "    }\n",
       "</style>\n",
       "<table border=\"1\" class=\"dataframe\">\n",
       "  <thead>\n",
       "    <tr style=\"text-align: right;\">\n",
       "      <th></th>\n",
       "      <th>Cluster</th>\n",
       "    </tr>\n",
       "  </thead>\n",
       "  <tbody>\n",
       "    <tr>\n",
       "      <th>2</th>\n",
       "      <td>126</td>\n",
       "    </tr>\n",
       "    <tr>\n",
       "      <th>1</th>\n",
       "      <td>100</td>\n",
       "    </tr>\n",
       "    <tr>\n",
       "      <th>3</th>\n",
       "      <td>64</td>\n",
       "    </tr>\n",
       "    <tr>\n",
       "      <th>0</th>\n",
       "      <td>8</td>\n",
       "    </tr>\n",
       "    <tr>\n",
       "      <th>-1</th>\n",
       "      <td>2</td>\n",
       "    </tr>\n",
       "  </tbody>\n",
       "</table>\n",
       "</div>"
      ],
      "text/plain": [
       "    Cluster\n",
       " 2      126\n",
       " 1      100\n",
       " 3       64\n",
       " 0        8\n",
       "-1        2"
      ]
     },
     "execution_count": 75,
     "metadata": {},
     "output_type": "execute_result"
    }
   ],
   "source": [
    "DBSCAN_dataset.Cluster.value_counts().to_frame()"
   ]
  },
  {
   "cell_type": "code",
   "execution_count": 103,
   "metadata": {},
   "outputs": [
    {
     "data": {
      "text/html": [
       "<div>\n",
       "<style scoped>\n",
       "    .dataframe tbody tr th:only-of-type {\n",
       "        vertical-align: middle;\n",
       "    }\n",
       "\n",
       "    .dataframe tbody tr th {\n",
       "        vertical-align: top;\n",
       "    }\n",
       "\n",
       "    .dataframe thead th {\n",
       "        text-align: right;\n",
       "    }\n",
       "</style>\n",
       "<table border=\"1\" class=\"dataframe\">\n",
       "  <thead>\n",
       "    <tr style=\"text-align: right;\">\n",
       "      <th></th>\n",
       "      <th>silhouette_score</th>\n",
       "      <th>davies_bouldin_score</th>\n",
       "      <th>calinski_harabasz_score</th>\n",
       "      <th>fowlkes_mallows_score</th>\n",
       "      <th>adjusted_rand_score</th>\n",
       "      <th>adjusted_mutual_info_score</th>\n",
       "      <th>homogeneity_score</th>\n",
       "      <th>completeness_score</th>\n",
       "      <th>v_measure_score</th>\n",
       "    </tr>\n",
       "  </thead>\n",
       "  <tbody>\n",
       "    <tr>\n",
       "      <th>DBSCAN</th>\n",
       "      <td>0.30243</td>\n",
       "      <td>1.210737</td>\n",
       "      <td>80.106376</td>\n",
       "      <td>0.501938</td>\n",
       "      <td>-0.021495</td>\n",
       "      <td>0.036359</td>\n",
       "      <td>0.097963</td>\n",
       "      <td>0.02909</td>\n",
       "      <td>0.044859</td>\n",
       "    </tr>\n",
       "  </tbody>\n",
       "</table>\n",
       "</div>"
      ],
      "text/plain": [
       "        silhouette_score  davies_bouldin_score  calinski_harabasz_score  \\\n",
       "DBSCAN           0.30243              1.210737                80.106376   \n",
       "\n",
       "        fowlkes_mallows_score  adjusted_rand_score  \\\n",
       "DBSCAN               0.501938            -0.021495   \n",
       "\n",
       "        adjusted_mutual_info_score  homogeneity_score  completeness_score  \\\n",
       "DBSCAN                    0.036359           0.097963             0.02909   \n",
       "\n",
       "        v_measure_score  \n",
       "DBSCAN         0.044859  "
      ]
     },
     "execution_count": 103,
     "metadata": {},
     "output_type": "execute_result"
    }
   ],
   "source": [
    "dbscan_df = pd.DataFrame(estimator_evaluation(dbscan_clustering, 'DBSCAN', X ,y), index=[\"DBSCAN\"])\n",
    "dbscan_df"
   ]
  },
  {
   "cell_type": "code",
   "execution_count": 77,
   "metadata": {},
   "outputs": [
    {
     "data": {
      "application/vnd.plotly.v1+json": {
       "config": {
        "plotlyServerURL": "https://plot.ly"
       },
       "data": [
        {
         "hovertemplate": "color=b<br>x=%{x}<br>y=%{y}<br>z=%{z}<extra></extra>",
         "legendgroup": "b",
         "marker": {
          "color": "#636efa",
          "symbol": "circle"
         },
         "mode": "markers",
         "name": "b",
         "scene": "scene",
         "showlegend": true,
         "type": "scatter3d",
         "x": [
          44.333091735839844,
          40.457435607910156,
          33.803688049316406,
          37.70640182495117,
          37.8852424621582,
          45.62045669555664,
          38.88289260864258,
          45.268436431884766
         ],
         "y": [
          -16.065616607666016,
          -26.887832641601562,
          -24.04093360900879,
          -25.76045036315918,
          -18.9560604095459,
          -22.559337615966797,
          -19.96884536743164,
          -21.783233642578125
         ],
         "z": [
          -35.27585220336914,
          -36.28977584838867,
          -35.92921829223633,
          -29.693374633789062,
          -32.34811019897461,
          -38.71394348144531,
          -39.53147506713867,
          -31.28326988220215
         ]
        },
        {
         "hovertemplate": "color=g<br>x=%{x}<br>y=%{y}<br>z=%{z}<extra></extra>",
         "legendgroup": "g",
         "marker": {
          "color": "#EF553B",
          "symbol": "circle"
         },
         "mode": "markers",
         "name": "g",
         "scene": "scene",
         "showlegend": true,
         "type": "scatter3d",
         "x": [
          -26.07970428466797,
          -23.242748260498047,
          -23.137264251708984,
          20.669437408447266,
          23.285356521606445,
          -22.713090896606445,
          14.318075180053711,
          38.31059646606445,
          -7.4945387840271,
          -208.0128936767578,
          16.56028175354004,
          -16.536378860473633,
          5.292171955108643,
          248.03890991210938,
          -11.133111953735352,
          -22.331729888916016,
          -26.639406204223633,
          -26.235504150390625,
          17.866191864013672,
          -1.3390121459960938,
          10.899405479431152,
          24.904003143310547,
          -11.62868881225586,
          -29.90022850036621,
          -15.436470985412598,
          42.15549087524414,
          28.03256607055664,
          14.397239685058594,
          26.755842208862305,
          -26.37323570251465,
          -27.20089340209961,
          -33.16579055786133,
          3.9518167972564697,
          47.94922637939453,
          48.517234802246094,
          53.56420135498047,
          49.24894714355469,
          27.545549392700195,
          10.623516082763672,
          31.907848358154297,
          -28.748905181884766,
          -9.995481491088867,
          -1.3857922554016113,
          9.78036117553711,
          1.8472745418548584,
          -21.858074188232422,
          25.915071487426758,
          13.441794395446777,
          39.876373291015625,
          23.269777297973633,
          25.906238555908203,
          29.980424880981445,
          -14.77304458618164,
          -30.16083335876465,
          -23.108692169189453,
          -30.519485473632812,
          -4.815279006958008,
          17.53169059753418,
          -10.58741569519043,
          -12.209628105163574,
          20.97791290283203,
          -27.960628509521484,
          -16.497482299804688,
          -30.323383331298828,
          -24.693145751953125,
          23.861555099487305,
          16.521608352661133,
          34.451995849609375,
          30.39902114868164,
          33.68363571166992,
          -30.20924949645996,
          -31.936161041259766,
          -7.6529107093811035,
          64.01361083984375,
          -17.264867782592773,
          31.825847625732422,
          -19.79914665222168,
          -26.80898666381836,
          -17.941354751586914,
          -16.577613830566406,
          5.251281261444092,
          46.829341888427734,
          32.876258850097656,
          40.25762939453125,
          5.046977519989014,
          17.176090240478516,
          6.621398448944092,
          24.73394203186035,
          -25.745737075805664,
          10.773776054382324,
          23.10454750061035,
          19.18052101135254,
          2.318570613861084,
          25.1873836517334,
          25.11918830871582,
          -18.84783172607422,
          8.797558784484863,
          -17.939599990844727,
          -7.877898693084717,
          18.785581588745117
         ],
         "y": [
          57.9052848815918,
          42.207061767578125,
          41.145931243896484,
          11.328883171081543,
          1.5483590364456177,
          48.44337844848633,
          12.892512321472168,
          18.12321662902832,
          37.99913787841797,
          -1.0894535779953003,
          42.36664962768555,
          39.7817268371582,
          40.070701599121094,
          56.483543395996094,
          27.46794891357422,
          24.98116111755371,
          41.685325622558594,
          38.417545318603516,
          43.52997589111328,
          40.3387451171875,
          45.298683166503906,
          46.778594970703125,
          22.43937110900879,
          40.69866943359375,
          25.85468292236328,
          12.345269203186035,
          16.613340377807617,
          35.917659759521484,
          323.65106201171875,
          29.918067932128906,
          45.814674377441406,
          43.01995086669922,
          45.92818832397461,
          18.092037200927734,
          7.910039901733398,
          13.618258476257324,
          13.309557914733887,
          23.183429718017578,
          20.047807693481445,
          20.72772979736328,
          37.483680725097656,
          29.973129272460938,
          39.804691314697266,
          46.97278594970703,
          36.98595428466797,
          16.114246368408203,
          50.289703369140625,
          47.812843322753906,
          18.553199768066406,
          26.267967224121094,
          8.014220237731934,
          11.130072593688965,
          33.266868591308594,
          59.28567123413086,
          35.58406066894531,
          13.105178833007812,
          36.7418327331543,
          48.597740173339844,
          31.693939208984375,
          26.943382263183594,
          44.2031364440918,
          35.82125473022461,
          20.18877601623535,
          43.325927734375,
          14.870691299438477,
          12.887977600097656,
          25.440570831298828,
          13.492189407348633,
          22.391983032226562,
          19.01876449584961,
          36.016685485839844,
          49.017887115478516,
          36.686214447021484,
          -77.06538391113281,
          23.205875396728516,
          15.319490432739258,
          24.45499038696289,
          19.87933349609375,
          25.582176208496094,
          29.51909065246582,
          43.70981216430664,
          12.536465644836426,
          20.97112464904785,
          13.543110847473145,
          48.79405212402344,
          2.027204751968384,
          42.94888687133789,
          48.741004943847656,
          54.79482650756836,
          46.659915924072266,
          43.62117385864258,
          7.468051910400391,
          44.1308479309082,
          5.956216335296631,
          24.613964080810547,
          55.45282745361328,
          10.15206241607666,
          28.848953247070312,
          41.184539794921875,
          48.94527053833008
         ],
         "z": [
          -0.0686807930469513,
          9.598604202270508,
          -8.381636619567871,
          1.0707563161849976,
          -5.909092903137207,
          -9.379295349121094,
          -4.7671003341674805,
          -28.98185157775879,
          7.176764488220215,
          -63.964290618896484,
          -12.137078285217285,
          7.507610321044922,
          -7.940239429473877,
          35.901893615722656,
          41.595542907714844,
          10.945697784423828,
          18.049333572387695,
          0.5319599509239197,
          -20.194133758544922,
          6.251334190368652,
          2.6452038288116455,
          -5.3810200691223145,
          35.52888107299805,
          -5.418031215667725,
          13.196861267089844,
          -31.109804153442383,
          -38.44881820678711,
          -7.007053852081299,
          -19.59468650817871,
          19.883609771728516,
          3.3972971439361572,
          1.8324861526489258,
          -4.722923755645752,
          -29.371604919433594,
          -30.111501693725586,
          -28.196332931518555,
          -34.658103942871094,
          -18.922168731689453,
          -46.11989974975586,
          -15.729670524597168,
          7.641336441040039,
          35.11084747314453,
          -17.78889274597168,
          -13.795010566711426,
          37.10123062133789,
          36.30066680908203,
          -13.834531784057617,
          -25.050817489624023,
          -36.07650375366211,
          -6.786925315856934,
          -0.7611690759658813,
          -14.287708282470703,
          39.01411437988281,
          -3.582852602005005,
          17.477602005004883,
          36.684425354003906,
          0.16364941000938416,
          -6.8527750968933105,
          11.128562927246094,
          26.77010154724121,
          -0.05764567852020264,
          22.879167556762695,
          41.59455490112305,
          12.310640335083008,
          42.21770477294922,
          -4.743813514709473,
          -8.03001880645752,
          -37.39509963989258,
          -24.70922088623047,
          -41.806671142578125,
          15.093770027160645,
          -3.3778865337371826,
          -6.647945404052734,
          54.870849609375,
          24.0039005279541,
          -30.602500915527344,
          17.477005004882812,
          38.8416748046875,
          37.14581298828125,
          7.07971715927124,
          6.578206539154053,
          -24.875102996826172,
          -35.24464416503906,
          -43.06795120239258,
          6.939187049865723,
          -2.067173719406128,
          -17.94472312927246,
          -20.483386993408203,
          -7.352822780609131,
          -5.369344234466553,
          -14.752630233764648,
          -5.702500343322754,
          -13.173526763916016,
          -10.454730033874512,
          -12.897253036499023,
          -10.445942878723145,
          -2.626490354537964,
          27.593807220458984,
          -2.5195364952087402,
          -15.422608375549316
         ]
        },
        {
         "hovertemplate": "color=r<br>x=%{x}<br>y=%{y}<br>z=%{z}<extra></extra>",
         "legendgroup": "r",
         "marker": {
          "color": "#00cc96",
          "symbol": "circle"
         },
         "mode": "markers",
         "name": "r",
         "scene": "scene",
         "showlegend": true,
         "type": "scatter3d",
         "x": [
          28.775732040405273,
          14.634523391723633,
          26.820884704589844,
          -45.77070617675781,
          -44.4318962097168,
          -45.444061279296875,
          21.548961639404297,
          -22.754709243774414,
          -19.675548553466797,
          -17.048694610595703,
          -2.703735828399658,
          3.4288735389709473,
          10.232571601867676,
          -46.761634826660156,
          -41.68955993652344,
          -15.631858825683594,
          -21.152366638183594,
          -24.676433563232422,
          -20.642356872558594,
          -23.93043327331543,
          0.24146465957164764,
          -10.13161849975586,
          -5.927724838256836,
          -31.07154083251953,
          -32.82084655761719,
          3.543884038925171,
          -9.822630882263184,
          -15.792283058166504,
          -51.77715301513672,
          -1.8564423322677612,
          -0.6624883413314819,
          -46.94553756713867,
          -18.88324737548828,
          -2.6294307708740234,
          -36.73927307128906,
          -33.79261016845703,
          -40.142486572265625,
          -11.58227252960205,
          53.038124084472656,
          -39.95536804199219,
          14.025867462158203,
          6.936176300048828,
          -33.7164421081543,
          -35.0137825012207,
          -12.058188438415527,
          -1.0446034669876099,
          1.3474305868148804,
          -24.53474998474121,
          -22.43345832824707,
          -5.697696208953857,
          -12.084038734436035,
          18.730405807495117,
          -40.11804962158203,
          11.196072578430176,
          -28.506450653076172,
          -34.02729797363281,
          -33.93227005004883,
          -41.44819259643555,
          22.715776443481445,
          -8.779141426086426,
          -45.456478118896484,
          -3.6126821041107178,
          -1.544874668121338,
          9.077073097229004,
          -2.21939754486084,
          -20.456636428833008,
          -23.287139892578125,
          -17.985692977905273,
          -19.69509506225586,
          15.022124290466309,
          17.964502334594727,
          3.8039510250091553,
          -2.966200113296509,
          -5.378969192504883,
          -1.345916748046875,
          -8.751496315002441,
          4.2230706214904785,
          0.5371698141098022,
          -39.52353286743164,
          -34.036502838134766,
          -2.745018243789673,
          5.697119235992432,
          1.6568546295166016,
          -41.253143310546875,
          -35.026878356933594,
          -42.565589904785156,
          -38.376529693603516,
          -30.49472999572754,
          -5.596000671386719,
          -11.193283081054688,
          33.62289810180664,
          8.75153923034668,
          -27.236251831054688,
          -9.652202606201172,
          1.1367303133010864,
          -2.153221368789673,
          2.2687695026397705,
          23.39938735961914,
          -26.75934410095215,
          -37.63077163696289,
          -6.5025105476379395,
          20.533584594726562,
          -5.97688102722168,
          -2.897204875946045,
          -31.360368728637695,
          38.07932662963867,
          -38.55357360839844,
          -37.335845947265625,
          -36.43458938598633,
          -40.424808502197266,
          -48.15592956542969,
          -41.902259826660156,
          -33.98460388183594,
          -23.045185089111328,
          -29.593191146850586,
          1.369336724281311,
          -25.055301666259766,
          -10.47549057006836,
          415.110107421875,
          26.81038475036621,
          -27.04729461669922,
          -30.361921310424805,
          -25.008546829223633,
          -24.915658950805664,
          -199.68650817871094,
          -19.80034637451172
         ],
         "y": [
          -23.615625381469727,
          -24.747774124145508,
          -18.213123321533203,
          0.005561981815844774,
          -1.6319793462753296,
          -12.236234664916992,
          -15.966225624084473,
          -39.71218490600586,
          -46.490745544433594,
          -40.960365295410156,
          -56.17182540893555,
          -27.541765213012695,
          -8.598394393920898,
          -10.050824165344238,
          -33.374263763427734,
          -44.6510009765625,
          -1.0609145164489746,
          2.9038076400756836,
          -1.4680218696594238,
          -6.438807487487793,
          -19.564197540283203,
          -49.06418228149414,
          -46.09623718261719,
          7.372477054595947,
          4.931432247161865,
          -17.513856887817383,
          -44.19876480102539,
          -45.924041748046875,
          -8.534860610961914,
          -13.501235961914062,
          -40.37160110473633,
          -11.20909309387207,
          -38.8814811706543,
          -5.393011093139648,
          2.0200445652008057,
          -37.05177307128906,
          5.8658294677734375,
          -48.08837890625,
          65.92130279541016,
          1.1466240882873535,
          -16.16900062561035,
          -12.458183288574219,
          13.701102256774902,
          11.746820449829102,
          -43.59121322631836,
          -46.24006652832031,
          -52.468177795410156,
          12.423872947692871,
          7.618286609649658,
          -57.46699905395508,
          -39.96914291381836,
          -11.307856559753418,
          -27.03129768371582,
          -13.020894050598145,
          -29.73209571838379,
          -25.437294006347656,
          -31.93608283996582,
          -3.967625617980957,
          -16.763534545898438,
          -45.835453033447266,
          -7.429357051849365,
          -10.280592918395996,
          -48.52754211425781,
          -23.289091110229492,
          -52.670928955078125,
          18.661483764648438,
          22.752838134765625,
          18.001659393310547,
          12.159923553466797,
          -6.373424530029297,
          -11.542818069458008,
          -13.502406120300293,
          -6.982762336730957,
          -51.435890197753906,
          -15.615185737609863,
          -54.678504943847656,
          -19.675338745117188,
          -28.662050247192383,
          8.35811996459961,
          -13.740813255310059,
          -23.5835018157959,
          -5.732648849487305,
          -0.5948383808135986,
          -4.282449245452881,
          -23.346933364868164,
          -0.8139142394065857,
          -8.507059097290039,
          -19.597965240478516,
          -49.6814079284668,
          -50.220279693603516,
          -19.28281021118164,
          -3.7474558353424072,
          -33.49415588378906,
          -43.16789245605469,
          -47.07933044433594,
          -50.63668441772461,
          -0.25966185331344604,
          -23.556793212890625,
          1.2707120180130005,
          -18.816558837890625,
          -18.99620246887207,
          -22.3223934173584,
          -53.299869537353516,
          -48.39748001098633,
          -16.900516510009766,
          12.369837760925293,
          -17.040021896362305,
          -3.4114015102386475,
          -0.8281712532043457,
          -10.598328590393066,
          -6.341794967651367,
          -26.568504333496094,
          -31.637475967407227,
          -35.935401916503906,
          -37.55329895019531,
          -6.4299726486206055,
          -42.64028549194336,
          -49.00499725341797,
          -81.22452545166016,
          -14.315642356872559,
          14.247503280639648,
          11.159634590148926,
          6.779940128326416,
          11.546669960021973,
          -62.791770935058594,
          -31.96183967590332
         ],
         "z": [
          -12.154041290283203,
          -24.806499481201172,
          -10.473889350891113,
          -24.07701873779297,
          -33.48440933227539,
          -12.849360466003418,
          -41.05643844604492,
          24.497554779052734,
          26.81116485595703,
          29.673635482788086,
          -0.5024762749671936,
          -11.080911636352539,
          -43.43484115600586,
          -26.324810028076172,
          25.652063369750977,
          1.9737281799316406,
          -4.917496204376221,
          -1.7133527994155884,
          2.2486515045166016,
          2.4493980407714844,
          -16.09330940246582,
          1.7497535943984985,
          -2.0498650074005127,
          -37.819210052490234,
          -31.219423294067383,
          -32.82252883911133,
          40.205631256103516,
          41.02446746826172,
          -34.108428955078125,
          -33.98850631713867,
          -14.147403717041016,
          -35.515663146972656,
          -1.3960741758346558,
          -48.160064697265625,
          -36.9051399230957,
          -24.968191146850586,
          -30.6036376953125,
          -5.696078300476074,
          56.08290100097656,
          -18.30194091796875,
          -35.0045166015625,
          -35.49327850341797,
          -38.153995513916016,
          -31.614683151245117,
          12.749641418457031,
          13.549424171447754,
          14.621380805969238,
          -25.901315689086914,
          -9.950779914855957,
          -10.17265510559082,
          -1.1293432712554932,
          -38.57642364501953,
          18.542598724365234,
          -30.00790023803711,
          23.336322784423828,
          22.29064178466797,
          20.226146697998047,
          -23.866294860839844,
          -34.550018310546875,
          22.51950454711914,
          -8.673336029052734,
          -40.57453155517578,
          21.27958869934082,
          -8.402348518371582,
          -6.575531482696533,
          -35.152748107910156,
          -29.71328353881836,
          -28.8810977935791,
          -32.26833724975586,
          -47.798248291015625,
          -47.07600021362305,
          -18.42613983154297,
          -34.63541793823242,
          14.846960067749023,
          -22.354541778564453,
          -3.972951889038086,
          -22.42157554626465,
          -17.531978607177734,
          -37.261436462402344,
          11.827498435974121,
          -21.056915283203125,
          -48.56654739379883,
          -52.25743865966797,
          -2.278958559036255,
          10.406377792358398,
          -9.809110641479492,
          -6.71610164642334,
          13.87594985961914,
          -13.404658317565918,
          40.294193267822266,
          -10.593071937561035,
          6.627070903778076,
          7.025057315826416,
          7.247771739959717,
          -0.7055607438087463,
          8.110678672790527,
          -45.80250549316406,
          -6.496891021728516,
          -7.954247951507568,
          14.885250091552734,
          -17.26817512512207,
          -11.92890739440918,
          24.542102813720703,
          28.15369415283203,
          5.761484622955322,
          75.83161163330078,
          7.203179359436035,
          -12.809462547302246,
          -6.269811630249023,
          1.861651062965393,
          -21.633079528808594,
          25.131973266601562,
          27.933773040771484,
          30.49177360534668,
          26.942964553833008,
          -41.26649475097656,
          30.633563995361328,
          28.799419403076172,
          -100.28587341308594,
          -24.19405174255371,
          -32.98579025268555,
          -23.936220169067383,
          -21.04807472229004,
          -17.45525360107422,
          2.6602039337158203,
          4.390992641448975
         ]
        },
        {
         "hovertemplate": "color=c<br>x=%{x}<br>y=%{y}<br>z=%{z}<extra></extra>",
         "legendgroup": "c",
         "marker": {
          "color": "#ab63fa",
          "symbol": "circle"
         },
         "mode": "markers",
         "name": "c",
         "scene": "scene",
         "showlegend": true,
         "type": "scatter3d",
         "x": [
          36.54509735107422,
          17.426639556884766,
          13.864554405212402,
          13.68448543548584,
          -2.723491907119751,
          -1.171699047088623,
          13.204663276672363,
          0.021394478157162666,
          41.28952407836914,
          5.590156078338623,
          -1.939184546470642,
          5.834759712219238,
          64.76774597167969,
          59.500892639160156,
          66.0881576538086,
          61.962703704833984,
          8.942296981811523,
          59.96726989746094,
          4.209362983703613,
          -3.345693588256836,
          -2.322382688522339,
          2.421306610107422,
          2.2611172199249268,
          36.008670806884766,
          43.15171432495117,
          0.9854949116706848,
          31.870162963867188,
          -11.924895286560059,
          5.376502513885498,
          32.05215072631836,
          38.23526382446289,
          47.618873596191406,
          41.8694953918457,
          41.292396545410156,
          11.588937759399414,
          8.015403747558594,
          -0.4018668234348297,
          4.997541427612305,
          2.902172803878784,
          -17.237361907958984,
          26.21324920654297,
          34.59928894042969,
          32.43825149536133,
          19.50165557861328,
          -1.4471601247787476,
          36.883968353271484,
          13.17175579071045,
          -0.32099810242652893,
          -2.0200984477996826,
          3.8089399337768555,
          38.71916961669922,
          24.061941146850586,
          -11.653613090515137,
          42.601497650146484,
          3.9575343132019043,
          30.598115921020508,
          3.197556734085083,
          2.408815383911133,
          55.97785186767578,
          58.752845764160156,
          1.4041728973388672,
          54.2212028503418,
          381.4656677246094,
          40.338558197021484
         ],
         "y": [
          -0.3089427649974823,
          -8.078539848327637,
          -16.234683990478516,
          -16.65142059326172,
          -2.144113302230835,
          -12.486394882202148,
          1.5339051485061646,
          11.872949600219727,
          -2.9423906803131104,
          6.188862323760986,
          4.736813068389893,
          -11.952911376953125,
          -22.06831932067871,
          -17.188066482543945,
          -14.926514625549316,
          -18.041595458984375,
          7.534327507019043,
          -24.883922576904297,
          -0.06579822301864624,
          3.805025100708008,
          -15.545835494995117,
          -10.718011856079102,
          -17.387208938598633,
          -1.1869007349014282,
          -15.870211601257324,
          -11.282980918884277,
          -14.658892631530762,
          2.9258534908294678,
          2.544459342956543,
          10.0380277633667,
          6.456844806671143,
          -0.6271780133247375,
          -6.4476189613342285,
          4.160768508911133,
          -9.077815055847168,
          -17.273855209350586,
          -2.7355544567108154,
          -5.114279270172119,
          -12.494165420532227,
          0.4032908082008362,
          14.543256759643555,
          -8.765073776245117,
          5.644442081451416,
          10.30224895477295,
          -9.074697494506836,
          -14.211349487304688,
          7.433108329772949,
          -4.080954074859619,
          -15.423994064331055,
          -19.140701293945312,
          -7.559817314147949,
          8.682747840881348,
          -8.06421184539795,
          0.9106256365776062,
          -14.21461296081543,
          12.585070610046387,
          6.5722198486328125,
          -0.5861486792564392,
          -23.935190200805664,
          -28.484830856323242,
          -13.349055290222168,
          -24.387292861938477,
          -274.2107849121094,
          -14.962660789489746
         ],
         "z": [
          32.50771713256836,
          22.01329803466797,
          20.875791549682617,
          27.24579620361328,
          62.370765686035156,
          54.73850631713867,
          25.220993041992188,
          64.165771484375,
          22.107019424438477,
          65.8389892578125,
          65.69849395751953,
          56.66683578491211,
          3.99621319770813,
          5.511070251464844,
          3.705927610397339,
          -1.25104558467865,
          23.53043556213379,
          12.111656188964844,
          60.751522064208984,
          58.518306732177734,
          36.65970993041992,
          25.85362434387207,
          58.61332702636719,
          16.080045700073242,
          21.93027114868164,
          61.563358306884766,
          17.53269386291504,
          30.198013305664062,
          27.284868240356445,
          29.09090805053711,
          31.898487091064453,
          17.561880111694336,
          15.137030601501465,
          18.760896682739258,
          21.482402801513672,
          24.03944969177246,
          55.38503646850586,
          30.011363983154297,
          40.93939971923828,
          36.07051467895508,
          30.036157608032227,
          18.822589874267578,
          34.307621002197266,
          27.460451126098633,
          32.39864730834961,
          23.956201553344727,
          29.567874908447266,
          26.273088455200195,
          29.343456268310547,
          40.06369400024414,
          31.586631774902344,
          32.740962982177734,
          39.66081619262695,
          11.661307334899902,
          33.40922164916992,
          35.190547943115234,
          58.752525329589844,
          68.0643539428711,
          0.8650567531585693,
          4.5400614738464355,
          48.11505889892578,
          7.392119884490967,
          74.76422882080078,
          15.919598579406738
         ]
        },
        {
         "hovertemplate": "color=k<br>x=%{x}<br>y=%{y}<br>z=%{z}<extra></extra>",
         "legendgroup": "k",
         "marker": {
          "color": "#FFA15A",
          "symbol": "circle"
         },
         "mode": "markers",
         "name": "k",
         "scene": "scene",
         "showlegend": true,
         "type": "scatter3d",
         "x": [
          17.31844139099121,
          9.953486442565918
         ],
         "y": [
          -3.891378164291382,
          11.983192443847656
         ],
         "z": [
          1.0731801986694336,
          63.74290466308594
         ]
        }
       ],
       "layout": {
        "legend": {
         "title": {
          "text": "color"
         },
         "tracegroupgap": 0
        },
        "margin": {
         "t": 60
        },
        "scene": {
         "domain": {
          "x": [
           0,
           1
          ],
          "y": [
           0,
           1
          ]
         },
         "xaxis": {
          "title": {
           "text": "x"
          }
         },
         "yaxis": {
          "title": {
           "text": "y"
          }
         },
         "zaxis": {
          "title": {
           "text": "z"
          }
         }
        },
        "template": {
         "data": {
          "bar": [
           {
            "error_x": {
             "color": "#2a3f5f"
            },
            "error_y": {
             "color": "#2a3f5f"
            },
            "marker": {
             "line": {
              "color": "#E5ECF6",
              "width": 0.5
             },
             "pattern": {
              "fillmode": "overlay",
              "size": 10,
              "solidity": 0.2
             }
            },
            "type": "bar"
           }
          ],
          "barpolar": [
           {
            "marker": {
             "line": {
              "color": "#E5ECF6",
              "width": 0.5
             },
             "pattern": {
              "fillmode": "overlay",
              "size": 10,
              "solidity": 0.2
             }
            },
            "type": "barpolar"
           }
          ],
          "carpet": [
           {
            "aaxis": {
             "endlinecolor": "#2a3f5f",
             "gridcolor": "white",
             "linecolor": "white",
             "minorgridcolor": "white",
             "startlinecolor": "#2a3f5f"
            },
            "baxis": {
             "endlinecolor": "#2a3f5f",
             "gridcolor": "white",
             "linecolor": "white",
             "minorgridcolor": "white",
             "startlinecolor": "#2a3f5f"
            },
            "type": "carpet"
           }
          ],
          "choropleth": [
           {
            "colorbar": {
             "outlinewidth": 0,
             "ticks": ""
            },
            "type": "choropleth"
           }
          ],
          "contour": [
           {
            "colorbar": {
             "outlinewidth": 0,
             "ticks": ""
            },
            "colorscale": [
             [
              0,
              "#0d0887"
             ],
             [
              0.1111111111111111,
              "#46039f"
             ],
             [
              0.2222222222222222,
              "#7201a8"
             ],
             [
              0.3333333333333333,
              "#9c179e"
             ],
             [
              0.4444444444444444,
              "#bd3786"
             ],
             [
              0.5555555555555556,
              "#d8576b"
             ],
             [
              0.6666666666666666,
              "#ed7953"
             ],
             [
              0.7777777777777778,
              "#fb9f3a"
             ],
             [
              0.8888888888888888,
              "#fdca26"
             ],
             [
              1,
              "#f0f921"
             ]
            ],
            "type": "contour"
           }
          ],
          "contourcarpet": [
           {
            "colorbar": {
             "outlinewidth": 0,
             "ticks": ""
            },
            "type": "contourcarpet"
           }
          ],
          "heatmap": [
           {
            "colorbar": {
             "outlinewidth": 0,
             "ticks": ""
            },
            "colorscale": [
             [
              0,
              "#0d0887"
             ],
             [
              0.1111111111111111,
              "#46039f"
             ],
             [
              0.2222222222222222,
              "#7201a8"
             ],
             [
              0.3333333333333333,
              "#9c179e"
             ],
             [
              0.4444444444444444,
              "#bd3786"
             ],
             [
              0.5555555555555556,
              "#d8576b"
             ],
             [
              0.6666666666666666,
              "#ed7953"
             ],
             [
              0.7777777777777778,
              "#fb9f3a"
             ],
             [
              0.8888888888888888,
              "#fdca26"
             ],
             [
              1,
              "#f0f921"
             ]
            ],
            "type": "heatmap"
           }
          ],
          "heatmapgl": [
           {
            "colorbar": {
             "outlinewidth": 0,
             "ticks": ""
            },
            "colorscale": [
             [
              0,
              "#0d0887"
             ],
             [
              0.1111111111111111,
              "#46039f"
             ],
             [
              0.2222222222222222,
              "#7201a8"
             ],
             [
              0.3333333333333333,
              "#9c179e"
             ],
             [
              0.4444444444444444,
              "#bd3786"
             ],
             [
              0.5555555555555556,
              "#d8576b"
             ],
             [
              0.6666666666666666,
              "#ed7953"
             ],
             [
              0.7777777777777778,
              "#fb9f3a"
             ],
             [
              0.8888888888888888,
              "#fdca26"
             ],
             [
              1,
              "#f0f921"
             ]
            ],
            "type": "heatmapgl"
           }
          ],
          "histogram": [
           {
            "marker": {
             "pattern": {
              "fillmode": "overlay",
              "size": 10,
              "solidity": 0.2
             }
            },
            "type": "histogram"
           }
          ],
          "histogram2d": [
           {
            "colorbar": {
             "outlinewidth": 0,
             "ticks": ""
            },
            "colorscale": [
             [
              0,
              "#0d0887"
             ],
             [
              0.1111111111111111,
              "#46039f"
             ],
             [
              0.2222222222222222,
              "#7201a8"
             ],
             [
              0.3333333333333333,
              "#9c179e"
             ],
             [
              0.4444444444444444,
              "#bd3786"
             ],
             [
              0.5555555555555556,
              "#d8576b"
             ],
             [
              0.6666666666666666,
              "#ed7953"
             ],
             [
              0.7777777777777778,
              "#fb9f3a"
             ],
             [
              0.8888888888888888,
              "#fdca26"
             ],
             [
              1,
              "#f0f921"
             ]
            ],
            "type": "histogram2d"
           }
          ],
          "histogram2dcontour": [
           {
            "colorbar": {
             "outlinewidth": 0,
             "ticks": ""
            },
            "colorscale": [
             [
              0,
              "#0d0887"
             ],
             [
              0.1111111111111111,
              "#46039f"
             ],
             [
              0.2222222222222222,
              "#7201a8"
             ],
             [
              0.3333333333333333,
              "#9c179e"
             ],
             [
              0.4444444444444444,
              "#bd3786"
             ],
             [
              0.5555555555555556,
              "#d8576b"
             ],
             [
              0.6666666666666666,
              "#ed7953"
             ],
             [
              0.7777777777777778,
              "#fb9f3a"
             ],
             [
              0.8888888888888888,
              "#fdca26"
             ],
             [
              1,
              "#f0f921"
             ]
            ],
            "type": "histogram2dcontour"
           }
          ],
          "mesh3d": [
           {
            "colorbar": {
             "outlinewidth": 0,
             "ticks": ""
            },
            "type": "mesh3d"
           }
          ],
          "parcoords": [
           {
            "line": {
             "colorbar": {
              "outlinewidth": 0,
              "ticks": ""
             }
            },
            "type": "parcoords"
           }
          ],
          "pie": [
           {
            "automargin": true,
            "type": "pie"
           }
          ],
          "scatter": [
           {
            "fillpattern": {
             "fillmode": "overlay",
             "size": 10,
             "solidity": 0.2
            },
            "type": "scatter"
           }
          ],
          "scatter3d": [
           {
            "line": {
             "colorbar": {
              "outlinewidth": 0,
              "ticks": ""
             }
            },
            "marker": {
             "colorbar": {
              "outlinewidth": 0,
              "ticks": ""
             }
            },
            "type": "scatter3d"
           }
          ],
          "scattercarpet": [
           {
            "marker": {
             "colorbar": {
              "outlinewidth": 0,
              "ticks": ""
             }
            },
            "type": "scattercarpet"
           }
          ],
          "scattergeo": [
           {
            "marker": {
             "colorbar": {
              "outlinewidth": 0,
              "ticks": ""
             }
            },
            "type": "scattergeo"
           }
          ],
          "scattergl": [
           {
            "marker": {
             "colorbar": {
              "outlinewidth": 0,
              "ticks": ""
             }
            },
            "type": "scattergl"
           }
          ],
          "scattermapbox": [
           {
            "marker": {
             "colorbar": {
              "outlinewidth": 0,
              "ticks": ""
             }
            },
            "type": "scattermapbox"
           }
          ],
          "scatterpolar": [
           {
            "marker": {
             "colorbar": {
              "outlinewidth": 0,
              "ticks": ""
             }
            },
            "type": "scatterpolar"
           }
          ],
          "scatterpolargl": [
           {
            "marker": {
             "colorbar": {
              "outlinewidth": 0,
              "ticks": ""
             }
            },
            "type": "scatterpolargl"
           }
          ],
          "scatterternary": [
           {
            "marker": {
             "colorbar": {
              "outlinewidth": 0,
              "ticks": ""
             }
            },
            "type": "scatterternary"
           }
          ],
          "surface": [
           {
            "colorbar": {
             "outlinewidth": 0,
             "ticks": ""
            },
            "colorscale": [
             [
              0,
              "#0d0887"
             ],
             [
              0.1111111111111111,
              "#46039f"
             ],
             [
              0.2222222222222222,
              "#7201a8"
             ],
             [
              0.3333333333333333,
              "#9c179e"
             ],
             [
              0.4444444444444444,
              "#bd3786"
             ],
             [
              0.5555555555555556,
              "#d8576b"
             ],
             [
              0.6666666666666666,
              "#ed7953"
             ],
             [
              0.7777777777777778,
              "#fb9f3a"
             ],
             [
              0.8888888888888888,
              "#fdca26"
             ],
             [
              1,
              "#f0f921"
             ]
            ],
            "type": "surface"
           }
          ],
          "table": [
           {
            "cells": {
             "fill": {
              "color": "#EBF0F8"
             },
             "line": {
              "color": "white"
             }
            },
            "header": {
             "fill": {
              "color": "#C8D4E3"
             },
             "line": {
              "color": "white"
             }
            },
            "type": "table"
           }
          ]
         },
         "layout": {
          "annotationdefaults": {
           "arrowcolor": "#2a3f5f",
           "arrowhead": 0,
           "arrowwidth": 1
          },
          "autotypenumbers": "strict",
          "coloraxis": {
           "colorbar": {
            "outlinewidth": 0,
            "ticks": ""
           }
          },
          "colorscale": {
           "diverging": [
            [
             0,
             "#8e0152"
            ],
            [
             0.1,
             "#c51b7d"
            ],
            [
             0.2,
             "#de77ae"
            ],
            [
             0.3,
             "#f1b6da"
            ],
            [
             0.4,
             "#fde0ef"
            ],
            [
             0.5,
             "#f7f7f7"
            ],
            [
             0.6,
             "#e6f5d0"
            ],
            [
             0.7,
             "#b8e186"
            ],
            [
             0.8,
             "#7fbc41"
            ],
            [
             0.9,
             "#4d9221"
            ],
            [
             1,
             "#276419"
            ]
           ],
           "sequential": [
            [
             0,
             "#0d0887"
            ],
            [
             0.1111111111111111,
             "#46039f"
            ],
            [
             0.2222222222222222,
             "#7201a8"
            ],
            [
             0.3333333333333333,
             "#9c179e"
            ],
            [
             0.4444444444444444,
             "#bd3786"
            ],
            [
             0.5555555555555556,
             "#d8576b"
            ],
            [
             0.6666666666666666,
             "#ed7953"
            ],
            [
             0.7777777777777778,
             "#fb9f3a"
            ],
            [
             0.8888888888888888,
             "#fdca26"
            ],
            [
             1,
             "#f0f921"
            ]
           ],
           "sequentialminus": [
            [
             0,
             "#0d0887"
            ],
            [
             0.1111111111111111,
             "#46039f"
            ],
            [
             0.2222222222222222,
             "#7201a8"
            ],
            [
             0.3333333333333333,
             "#9c179e"
            ],
            [
             0.4444444444444444,
             "#bd3786"
            ],
            [
             0.5555555555555556,
             "#d8576b"
            ],
            [
             0.6666666666666666,
             "#ed7953"
            ],
            [
             0.7777777777777778,
             "#fb9f3a"
            ],
            [
             0.8888888888888888,
             "#fdca26"
            ],
            [
             1,
             "#f0f921"
            ]
           ]
          },
          "colorway": [
           "#636efa",
           "#EF553B",
           "#00cc96",
           "#ab63fa",
           "#FFA15A",
           "#19d3f3",
           "#FF6692",
           "#B6E880",
           "#FF97FF",
           "#FECB52"
          ],
          "font": {
           "color": "#2a3f5f"
          },
          "geo": {
           "bgcolor": "white",
           "lakecolor": "white",
           "landcolor": "#E5ECF6",
           "showlakes": true,
           "showland": true,
           "subunitcolor": "white"
          },
          "hoverlabel": {
           "align": "left"
          },
          "hovermode": "closest",
          "mapbox": {
           "style": "light"
          },
          "paper_bgcolor": "white",
          "plot_bgcolor": "#E5ECF6",
          "polar": {
           "angularaxis": {
            "gridcolor": "white",
            "linecolor": "white",
            "ticks": ""
           },
           "bgcolor": "#E5ECF6",
           "radialaxis": {
            "gridcolor": "white",
            "linecolor": "white",
            "ticks": ""
           }
          },
          "scene": {
           "xaxis": {
            "backgroundcolor": "#E5ECF6",
            "gridcolor": "white",
            "gridwidth": 2,
            "linecolor": "white",
            "showbackground": true,
            "ticks": "",
            "zerolinecolor": "white"
           },
           "yaxis": {
            "backgroundcolor": "#E5ECF6",
            "gridcolor": "white",
            "gridwidth": 2,
            "linecolor": "white",
            "showbackground": true,
            "ticks": "",
            "zerolinecolor": "white"
           },
           "zaxis": {
            "backgroundcolor": "#E5ECF6",
            "gridcolor": "white",
            "gridwidth": 2,
            "linecolor": "white",
            "showbackground": true,
            "ticks": "",
            "zerolinecolor": "white"
           }
          },
          "shapedefaults": {
           "line": {
            "color": "#2a3f5f"
           }
          },
          "ternary": {
           "aaxis": {
            "gridcolor": "white",
            "linecolor": "white",
            "ticks": ""
           },
           "baxis": {
            "gridcolor": "white",
            "linecolor": "white",
            "ticks": ""
           },
           "bgcolor": "#E5ECF6",
           "caxis": {
            "gridcolor": "white",
            "linecolor": "white",
            "ticks": ""
           }
          },
          "title": {
           "x": 0.05
          },
          "xaxis": {
           "automargin": true,
           "gridcolor": "white",
           "linecolor": "white",
           "ticks": "",
           "title": {
            "standoff": 15
           },
           "zerolinecolor": "white",
           "zerolinewidth": 2
          },
          "yaxis": {
           "automargin": true,
           "gridcolor": "white",
           "linecolor": "white",
           "ticks": "",
           "title": {
            "standoff": 15
           },
           "zerolinecolor": "white",
           "zerolinewidth": 2
          }
         }
        }
       }
      },
      "text/html": [
       "<div>                            <div id=\"3902ef1f-c772-4ca4-8245-de9ba4ce6966\" class=\"plotly-graph-div\" style=\"height:525px; width:100%;\"></div>            <script type=\"text/javascript\">                require([\"plotly\"], function(Plotly) {                    window.PLOTLYENV=window.PLOTLYENV || {};                                    if (document.getElementById(\"3902ef1f-c772-4ca4-8245-de9ba4ce6966\")) {                    Plotly.newPlot(                        \"3902ef1f-c772-4ca4-8245-de9ba4ce6966\",                        [{\"hovertemplate\":\"color=b<br>x=%{x}<br>y=%{y}<br>z=%{z}<extra></extra>\",\"legendgroup\":\"b\",\"marker\":{\"color\":\"#636efa\",\"symbol\":\"circle\"},\"mode\":\"markers\",\"name\":\"b\",\"scene\":\"scene\",\"showlegend\":true,\"x\":[44.333091735839844,40.457435607910156,33.803688049316406,37.70640182495117,37.8852424621582,45.62045669555664,38.88289260864258,45.268436431884766],\"y\":[-16.065616607666016,-26.887832641601562,-24.04093360900879,-25.76045036315918,-18.9560604095459,-22.559337615966797,-19.96884536743164,-21.783233642578125],\"z\":[-35.27585220336914,-36.28977584838867,-35.92921829223633,-29.693374633789062,-32.34811019897461,-38.71394348144531,-39.53147506713867,-31.28326988220215],\"type\":\"scatter3d\"},{\"hovertemplate\":\"color=g<br>x=%{x}<br>y=%{y}<br>z=%{z}<extra></extra>\",\"legendgroup\":\"g\",\"marker\":{\"color\":\"#EF553B\",\"symbol\":\"circle\"},\"mode\":\"markers\",\"name\":\"g\",\"scene\":\"scene\",\"showlegend\":true,\"x\":[-26.07970428466797,-23.242748260498047,-23.137264251708984,20.669437408447266,23.285356521606445,-22.713090896606445,14.318075180053711,38.31059646606445,-7.4945387840271,-208.0128936767578,16.56028175354004,-16.536378860473633,5.292171955108643,248.03890991210938,-11.133111953735352,-22.331729888916016,-26.639406204223633,-26.235504150390625,17.866191864013672,-1.3390121459960938,10.899405479431152,24.904003143310547,-11.62868881225586,-29.90022850036621,-15.436470985412598,42.15549087524414,28.03256607055664,14.397239685058594,26.755842208862305,-26.37323570251465,-27.20089340209961,-33.16579055786133,3.9518167972564697,47.94922637939453,48.517234802246094,53.56420135498047,49.24894714355469,27.545549392700195,10.623516082763672,31.907848358154297,-28.748905181884766,-9.995481491088867,-1.3857922554016113,9.78036117553711,1.8472745418548584,-21.858074188232422,25.915071487426758,13.441794395446777,39.876373291015625,23.269777297973633,25.906238555908203,29.980424880981445,-14.77304458618164,-30.16083335876465,-23.108692169189453,-30.519485473632812,-4.815279006958008,17.53169059753418,-10.58741569519043,-12.209628105163574,20.97791290283203,-27.960628509521484,-16.497482299804688,-30.323383331298828,-24.693145751953125,23.861555099487305,16.521608352661133,34.451995849609375,30.39902114868164,33.68363571166992,-30.20924949645996,-31.936161041259766,-7.6529107093811035,64.01361083984375,-17.264867782592773,31.825847625732422,-19.79914665222168,-26.80898666381836,-17.941354751586914,-16.577613830566406,5.251281261444092,46.829341888427734,32.876258850097656,40.25762939453125,5.046977519989014,17.176090240478516,6.621398448944092,24.73394203186035,-25.745737075805664,10.773776054382324,23.10454750061035,19.18052101135254,2.318570613861084,25.1873836517334,25.11918830871582,-18.84783172607422,8.797558784484863,-17.939599990844727,-7.877898693084717,18.785581588745117],\"y\":[57.9052848815918,42.207061767578125,41.145931243896484,11.328883171081543,1.5483590364456177,48.44337844848633,12.892512321472168,18.12321662902832,37.99913787841797,-1.0894535779953003,42.36664962768555,39.7817268371582,40.070701599121094,56.483543395996094,27.46794891357422,24.98116111755371,41.685325622558594,38.417545318603516,43.52997589111328,40.3387451171875,45.298683166503906,46.778594970703125,22.43937110900879,40.69866943359375,25.85468292236328,12.345269203186035,16.613340377807617,35.917659759521484,323.65106201171875,29.918067932128906,45.814674377441406,43.01995086669922,45.92818832397461,18.092037200927734,7.910039901733398,13.618258476257324,13.309557914733887,23.183429718017578,20.047807693481445,20.72772979736328,37.483680725097656,29.973129272460938,39.804691314697266,46.97278594970703,36.98595428466797,16.114246368408203,50.289703369140625,47.812843322753906,18.553199768066406,26.267967224121094,8.014220237731934,11.130072593688965,33.266868591308594,59.28567123413086,35.58406066894531,13.105178833007812,36.7418327331543,48.597740173339844,31.693939208984375,26.943382263183594,44.2031364440918,35.82125473022461,20.18877601623535,43.325927734375,14.870691299438477,12.887977600097656,25.440570831298828,13.492189407348633,22.391983032226562,19.01876449584961,36.016685485839844,49.017887115478516,36.686214447021484,-77.06538391113281,23.205875396728516,15.319490432739258,24.45499038696289,19.87933349609375,25.582176208496094,29.51909065246582,43.70981216430664,12.536465644836426,20.97112464904785,13.543110847473145,48.79405212402344,2.027204751968384,42.94888687133789,48.741004943847656,54.79482650756836,46.659915924072266,43.62117385864258,7.468051910400391,44.1308479309082,5.956216335296631,24.613964080810547,55.45282745361328,10.15206241607666,28.848953247070312,41.184539794921875,48.94527053833008],\"z\":[-0.0686807930469513,9.598604202270508,-8.381636619567871,1.0707563161849976,-5.909092903137207,-9.379295349121094,-4.7671003341674805,-28.98185157775879,7.176764488220215,-63.964290618896484,-12.137078285217285,7.507610321044922,-7.940239429473877,35.901893615722656,41.595542907714844,10.945697784423828,18.049333572387695,0.5319599509239197,-20.194133758544922,6.251334190368652,2.6452038288116455,-5.3810200691223145,35.52888107299805,-5.418031215667725,13.196861267089844,-31.109804153442383,-38.44881820678711,-7.007053852081299,-19.59468650817871,19.883609771728516,3.3972971439361572,1.8324861526489258,-4.722923755645752,-29.371604919433594,-30.111501693725586,-28.196332931518555,-34.658103942871094,-18.922168731689453,-46.11989974975586,-15.729670524597168,7.641336441040039,35.11084747314453,-17.78889274597168,-13.795010566711426,37.10123062133789,36.30066680908203,-13.834531784057617,-25.050817489624023,-36.07650375366211,-6.786925315856934,-0.7611690759658813,-14.287708282470703,39.01411437988281,-3.582852602005005,17.477602005004883,36.684425354003906,0.16364941000938416,-6.8527750968933105,11.128562927246094,26.77010154724121,-0.05764567852020264,22.879167556762695,41.59455490112305,12.310640335083008,42.21770477294922,-4.743813514709473,-8.03001880645752,-37.39509963989258,-24.70922088623047,-41.806671142578125,15.093770027160645,-3.3778865337371826,-6.647945404052734,54.870849609375,24.0039005279541,-30.602500915527344,17.477005004882812,38.8416748046875,37.14581298828125,7.07971715927124,6.578206539154053,-24.875102996826172,-35.24464416503906,-43.06795120239258,6.939187049865723,-2.067173719406128,-17.94472312927246,-20.483386993408203,-7.352822780609131,-5.369344234466553,-14.752630233764648,-5.702500343322754,-13.173526763916016,-10.454730033874512,-12.897253036499023,-10.445942878723145,-2.626490354537964,27.593807220458984,-2.5195364952087402,-15.422608375549316],\"type\":\"scatter3d\"},{\"hovertemplate\":\"color=r<br>x=%{x}<br>y=%{y}<br>z=%{z}<extra></extra>\",\"legendgroup\":\"r\",\"marker\":{\"color\":\"#00cc96\",\"symbol\":\"circle\"},\"mode\":\"markers\",\"name\":\"r\",\"scene\":\"scene\",\"showlegend\":true,\"x\":[28.775732040405273,14.634523391723633,26.820884704589844,-45.77070617675781,-44.4318962097168,-45.444061279296875,21.548961639404297,-22.754709243774414,-19.675548553466797,-17.048694610595703,-2.703735828399658,3.4288735389709473,10.232571601867676,-46.761634826660156,-41.68955993652344,-15.631858825683594,-21.152366638183594,-24.676433563232422,-20.642356872558594,-23.93043327331543,0.24146465957164764,-10.13161849975586,-5.927724838256836,-31.07154083251953,-32.82084655761719,3.543884038925171,-9.822630882263184,-15.792283058166504,-51.77715301513672,-1.8564423322677612,-0.6624883413314819,-46.94553756713867,-18.88324737548828,-2.6294307708740234,-36.73927307128906,-33.79261016845703,-40.142486572265625,-11.58227252960205,53.038124084472656,-39.95536804199219,14.025867462158203,6.936176300048828,-33.7164421081543,-35.0137825012207,-12.058188438415527,-1.0446034669876099,1.3474305868148804,-24.53474998474121,-22.43345832824707,-5.697696208953857,-12.084038734436035,18.730405807495117,-40.11804962158203,11.196072578430176,-28.506450653076172,-34.02729797363281,-33.93227005004883,-41.44819259643555,22.715776443481445,-8.779141426086426,-45.456478118896484,-3.6126821041107178,-1.544874668121338,9.077073097229004,-2.21939754486084,-20.456636428833008,-23.287139892578125,-17.985692977905273,-19.69509506225586,15.022124290466309,17.964502334594727,3.8039510250091553,-2.966200113296509,-5.378969192504883,-1.345916748046875,-8.751496315002441,4.2230706214904785,0.5371698141098022,-39.52353286743164,-34.036502838134766,-2.745018243789673,5.697119235992432,1.6568546295166016,-41.253143310546875,-35.026878356933594,-42.565589904785156,-38.376529693603516,-30.49472999572754,-5.596000671386719,-11.193283081054688,33.62289810180664,8.75153923034668,-27.236251831054688,-9.652202606201172,1.1367303133010864,-2.153221368789673,2.2687695026397705,23.39938735961914,-26.75934410095215,-37.63077163696289,-6.5025105476379395,20.533584594726562,-5.97688102722168,-2.897204875946045,-31.360368728637695,38.07932662963867,-38.55357360839844,-37.335845947265625,-36.43458938598633,-40.424808502197266,-48.15592956542969,-41.902259826660156,-33.98460388183594,-23.045185089111328,-29.593191146850586,1.369336724281311,-25.055301666259766,-10.47549057006836,415.110107421875,26.81038475036621,-27.04729461669922,-30.361921310424805,-25.008546829223633,-24.915658950805664,-199.68650817871094,-19.80034637451172],\"y\":[-23.615625381469727,-24.747774124145508,-18.213123321533203,0.005561981815844774,-1.6319793462753296,-12.236234664916992,-15.966225624084473,-39.71218490600586,-46.490745544433594,-40.960365295410156,-56.17182540893555,-27.541765213012695,-8.598394393920898,-10.050824165344238,-33.374263763427734,-44.6510009765625,-1.0609145164489746,2.9038076400756836,-1.4680218696594238,-6.438807487487793,-19.564197540283203,-49.06418228149414,-46.09623718261719,7.372477054595947,4.931432247161865,-17.513856887817383,-44.19876480102539,-45.924041748046875,-8.534860610961914,-13.501235961914062,-40.37160110473633,-11.20909309387207,-38.8814811706543,-5.393011093139648,2.0200445652008057,-37.05177307128906,5.8658294677734375,-48.08837890625,65.92130279541016,1.1466240882873535,-16.16900062561035,-12.458183288574219,13.701102256774902,11.746820449829102,-43.59121322631836,-46.24006652832031,-52.468177795410156,12.423872947692871,7.618286609649658,-57.46699905395508,-39.96914291381836,-11.307856559753418,-27.03129768371582,-13.020894050598145,-29.73209571838379,-25.437294006347656,-31.93608283996582,-3.967625617980957,-16.763534545898438,-45.835453033447266,-7.429357051849365,-10.280592918395996,-48.52754211425781,-23.289091110229492,-52.670928955078125,18.661483764648438,22.752838134765625,18.001659393310547,12.159923553466797,-6.373424530029297,-11.542818069458008,-13.502406120300293,-6.982762336730957,-51.435890197753906,-15.615185737609863,-54.678504943847656,-19.675338745117188,-28.662050247192383,8.35811996459961,-13.740813255310059,-23.5835018157959,-5.732648849487305,-0.5948383808135986,-4.282449245452881,-23.346933364868164,-0.8139142394065857,-8.507059097290039,-19.597965240478516,-49.6814079284668,-50.220279693603516,-19.28281021118164,-3.7474558353424072,-33.49415588378906,-43.16789245605469,-47.07933044433594,-50.63668441772461,-0.25966185331344604,-23.556793212890625,1.2707120180130005,-18.816558837890625,-18.99620246887207,-22.3223934173584,-53.299869537353516,-48.39748001098633,-16.900516510009766,12.369837760925293,-17.040021896362305,-3.4114015102386475,-0.8281712532043457,-10.598328590393066,-6.341794967651367,-26.568504333496094,-31.637475967407227,-35.935401916503906,-37.55329895019531,-6.4299726486206055,-42.64028549194336,-49.00499725341797,-81.22452545166016,-14.315642356872559,14.247503280639648,11.159634590148926,6.779940128326416,11.546669960021973,-62.791770935058594,-31.96183967590332],\"z\":[-12.154041290283203,-24.806499481201172,-10.473889350891113,-24.07701873779297,-33.48440933227539,-12.849360466003418,-41.05643844604492,24.497554779052734,26.81116485595703,29.673635482788086,-0.5024762749671936,-11.080911636352539,-43.43484115600586,-26.324810028076172,25.652063369750977,1.9737281799316406,-4.917496204376221,-1.7133527994155884,2.2486515045166016,2.4493980407714844,-16.09330940246582,1.7497535943984985,-2.0498650074005127,-37.819210052490234,-31.219423294067383,-32.82252883911133,40.205631256103516,41.02446746826172,-34.108428955078125,-33.98850631713867,-14.147403717041016,-35.515663146972656,-1.3960741758346558,-48.160064697265625,-36.9051399230957,-24.968191146850586,-30.6036376953125,-5.696078300476074,56.08290100097656,-18.30194091796875,-35.0045166015625,-35.49327850341797,-38.153995513916016,-31.614683151245117,12.749641418457031,13.549424171447754,14.621380805969238,-25.901315689086914,-9.950779914855957,-10.17265510559082,-1.1293432712554932,-38.57642364501953,18.542598724365234,-30.00790023803711,23.336322784423828,22.29064178466797,20.226146697998047,-23.866294860839844,-34.550018310546875,22.51950454711914,-8.673336029052734,-40.57453155517578,21.27958869934082,-8.402348518371582,-6.575531482696533,-35.152748107910156,-29.71328353881836,-28.8810977935791,-32.26833724975586,-47.798248291015625,-47.07600021362305,-18.42613983154297,-34.63541793823242,14.846960067749023,-22.354541778564453,-3.972951889038086,-22.42157554626465,-17.531978607177734,-37.261436462402344,11.827498435974121,-21.056915283203125,-48.56654739379883,-52.25743865966797,-2.278958559036255,10.406377792358398,-9.809110641479492,-6.71610164642334,13.87594985961914,-13.404658317565918,40.294193267822266,-10.593071937561035,6.627070903778076,7.025057315826416,7.247771739959717,-0.7055607438087463,8.110678672790527,-45.80250549316406,-6.496891021728516,-7.954247951507568,14.885250091552734,-17.26817512512207,-11.92890739440918,24.542102813720703,28.15369415283203,5.761484622955322,75.83161163330078,7.203179359436035,-12.809462547302246,-6.269811630249023,1.861651062965393,-21.633079528808594,25.131973266601562,27.933773040771484,30.49177360534668,26.942964553833008,-41.26649475097656,30.633563995361328,28.799419403076172,-100.28587341308594,-24.19405174255371,-32.98579025268555,-23.936220169067383,-21.04807472229004,-17.45525360107422,2.6602039337158203,4.390992641448975],\"type\":\"scatter3d\"},{\"hovertemplate\":\"color=c<br>x=%{x}<br>y=%{y}<br>z=%{z}<extra></extra>\",\"legendgroup\":\"c\",\"marker\":{\"color\":\"#ab63fa\",\"symbol\":\"circle\"},\"mode\":\"markers\",\"name\":\"c\",\"scene\":\"scene\",\"showlegend\":true,\"x\":[36.54509735107422,17.426639556884766,13.864554405212402,13.68448543548584,-2.723491907119751,-1.171699047088623,13.204663276672363,0.021394478157162666,41.28952407836914,5.590156078338623,-1.939184546470642,5.834759712219238,64.76774597167969,59.500892639160156,66.0881576538086,61.962703704833984,8.942296981811523,59.96726989746094,4.209362983703613,-3.345693588256836,-2.322382688522339,2.421306610107422,2.2611172199249268,36.008670806884766,43.15171432495117,0.9854949116706848,31.870162963867188,-11.924895286560059,5.376502513885498,32.05215072631836,38.23526382446289,47.618873596191406,41.8694953918457,41.292396545410156,11.588937759399414,8.015403747558594,-0.4018668234348297,4.997541427612305,2.902172803878784,-17.237361907958984,26.21324920654297,34.59928894042969,32.43825149536133,19.50165557861328,-1.4471601247787476,36.883968353271484,13.17175579071045,-0.32099810242652893,-2.0200984477996826,3.8089399337768555,38.71916961669922,24.061941146850586,-11.653613090515137,42.601497650146484,3.9575343132019043,30.598115921020508,3.197556734085083,2.408815383911133,55.97785186767578,58.752845764160156,1.4041728973388672,54.2212028503418,381.4656677246094,40.338558197021484],\"y\":[-0.3089427649974823,-8.078539848327637,-16.234683990478516,-16.65142059326172,-2.144113302230835,-12.486394882202148,1.5339051485061646,11.872949600219727,-2.9423906803131104,6.188862323760986,4.736813068389893,-11.952911376953125,-22.06831932067871,-17.188066482543945,-14.926514625549316,-18.041595458984375,7.534327507019043,-24.883922576904297,-0.06579822301864624,3.805025100708008,-15.545835494995117,-10.718011856079102,-17.387208938598633,-1.1869007349014282,-15.870211601257324,-11.282980918884277,-14.658892631530762,2.9258534908294678,2.544459342956543,10.0380277633667,6.456844806671143,-0.6271780133247375,-6.4476189613342285,4.160768508911133,-9.077815055847168,-17.273855209350586,-2.7355544567108154,-5.114279270172119,-12.494165420532227,0.4032908082008362,14.543256759643555,-8.765073776245117,5.644442081451416,10.30224895477295,-9.074697494506836,-14.211349487304688,7.433108329772949,-4.080954074859619,-15.423994064331055,-19.140701293945312,-7.559817314147949,8.682747840881348,-8.06421184539795,0.9106256365776062,-14.21461296081543,12.585070610046387,6.5722198486328125,-0.5861486792564392,-23.935190200805664,-28.484830856323242,-13.349055290222168,-24.387292861938477,-274.2107849121094,-14.962660789489746],\"z\":[32.50771713256836,22.01329803466797,20.875791549682617,27.24579620361328,62.370765686035156,54.73850631713867,25.220993041992188,64.165771484375,22.107019424438477,65.8389892578125,65.69849395751953,56.66683578491211,3.99621319770813,5.511070251464844,3.705927610397339,-1.25104558467865,23.53043556213379,12.111656188964844,60.751522064208984,58.518306732177734,36.65970993041992,25.85362434387207,58.61332702636719,16.080045700073242,21.93027114868164,61.563358306884766,17.53269386291504,30.198013305664062,27.284868240356445,29.09090805053711,31.898487091064453,17.561880111694336,15.137030601501465,18.760896682739258,21.482402801513672,24.03944969177246,55.38503646850586,30.011363983154297,40.93939971923828,36.07051467895508,30.036157608032227,18.822589874267578,34.307621002197266,27.460451126098633,32.39864730834961,23.956201553344727,29.567874908447266,26.273088455200195,29.343456268310547,40.06369400024414,31.586631774902344,32.740962982177734,39.66081619262695,11.661307334899902,33.40922164916992,35.190547943115234,58.752525329589844,68.0643539428711,0.8650567531585693,4.5400614738464355,48.11505889892578,7.392119884490967,74.76422882080078,15.919598579406738],\"type\":\"scatter3d\"},{\"hovertemplate\":\"color=k<br>x=%{x}<br>y=%{y}<br>z=%{z}<extra></extra>\",\"legendgroup\":\"k\",\"marker\":{\"color\":\"#FFA15A\",\"symbol\":\"circle\"},\"mode\":\"markers\",\"name\":\"k\",\"scene\":\"scene\",\"showlegend\":true,\"x\":[17.31844139099121,9.953486442565918],\"y\":[-3.891378164291382,11.983192443847656],\"z\":[1.0731801986694336,63.74290466308594],\"type\":\"scatter3d\"}],                        {\"template\":{\"data\":{\"histogram2dcontour\":[{\"type\":\"histogram2dcontour\",\"colorbar\":{\"outlinewidth\":0,\"ticks\":\"\"},\"colorscale\":[[0.0,\"#0d0887\"],[0.1111111111111111,\"#46039f\"],[0.2222222222222222,\"#7201a8\"],[0.3333333333333333,\"#9c179e\"],[0.4444444444444444,\"#bd3786\"],[0.5555555555555556,\"#d8576b\"],[0.6666666666666666,\"#ed7953\"],[0.7777777777777778,\"#fb9f3a\"],[0.8888888888888888,\"#fdca26\"],[1.0,\"#f0f921\"]]}],\"choropleth\":[{\"type\":\"choropleth\",\"colorbar\":{\"outlinewidth\":0,\"ticks\":\"\"}}],\"histogram2d\":[{\"type\":\"histogram2d\",\"colorbar\":{\"outlinewidth\":0,\"ticks\":\"\"},\"colorscale\":[[0.0,\"#0d0887\"],[0.1111111111111111,\"#46039f\"],[0.2222222222222222,\"#7201a8\"],[0.3333333333333333,\"#9c179e\"],[0.4444444444444444,\"#bd3786\"],[0.5555555555555556,\"#d8576b\"],[0.6666666666666666,\"#ed7953\"],[0.7777777777777778,\"#fb9f3a\"],[0.8888888888888888,\"#fdca26\"],[1.0,\"#f0f921\"]]}],\"heatmap\":[{\"type\":\"heatmap\",\"colorbar\":{\"outlinewidth\":0,\"ticks\":\"\"},\"colorscale\":[[0.0,\"#0d0887\"],[0.1111111111111111,\"#46039f\"],[0.2222222222222222,\"#7201a8\"],[0.3333333333333333,\"#9c179e\"],[0.4444444444444444,\"#bd3786\"],[0.5555555555555556,\"#d8576b\"],[0.6666666666666666,\"#ed7953\"],[0.7777777777777778,\"#fb9f3a\"],[0.8888888888888888,\"#fdca26\"],[1.0,\"#f0f921\"]]}],\"heatmapgl\":[{\"type\":\"heatmapgl\",\"colorbar\":{\"outlinewidth\":0,\"ticks\":\"\"},\"colorscale\":[[0.0,\"#0d0887\"],[0.1111111111111111,\"#46039f\"],[0.2222222222222222,\"#7201a8\"],[0.3333333333333333,\"#9c179e\"],[0.4444444444444444,\"#bd3786\"],[0.5555555555555556,\"#d8576b\"],[0.6666666666666666,\"#ed7953\"],[0.7777777777777778,\"#fb9f3a\"],[0.8888888888888888,\"#fdca26\"],[1.0,\"#f0f921\"]]}],\"contourcarpet\":[{\"type\":\"contourcarpet\",\"colorbar\":{\"outlinewidth\":0,\"ticks\":\"\"}}],\"contour\":[{\"type\":\"contour\",\"colorbar\":{\"outlinewidth\":0,\"ticks\":\"\"},\"colorscale\":[[0.0,\"#0d0887\"],[0.1111111111111111,\"#46039f\"],[0.2222222222222222,\"#7201a8\"],[0.3333333333333333,\"#9c179e\"],[0.4444444444444444,\"#bd3786\"],[0.5555555555555556,\"#d8576b\"],[0.6666666666666666,\"#ed7953\"],[0.7777777777777778,\"#fb9f3a\"],[0.8888888888888888,\"#fdca26\"],[1.0,\"#f0f921\"]]}],\"surface\":[{\"type\":\"surface\",\"colorbar\":{\"outlinewidth\":0,\"ticks\":\"\"},\"colorscale\":[[0.0,\"#0d0887\"],[0.1111111111111111,\"#46039f\"],[0.2222222222222222,\"#7201a8\"],[0.3333333333333333,\"#9c179e\"],[0.4444444444444444,\"#bd3786\"],[0.5555555555555556,\"#d8576b\"],[0.6666666666666666,\"#ed7953\"],[0.7777777777777778,\"#fb9f3a\"],[0.8888888888888888,\"#fdca26\"],[1.0,\"#f0f921\"]]}],\"mesh3d\":[{\"type\":\"mesh3d\",\"colorbar\":{\"outlinewidth\":0,\"ticks\":\"\"}}],\"scatter\":[{\"fillpattern\":{\"fillmode\":\"overlay\",\"size\":10,\"solidity\":0.2},\"type\":\"scatter\"}],\"parcoords\":[{\"type\":\"parcoords\",\"line\":{\"colorbar\":{\"outlinewidth\":0,\"ticks\":\"\"}}}],\"scatterpolargl\":[{\"type\":\"scatterpolargl\",\"marker\":{\"colorbar\":{\"outlinewidth\":0,\"ticks\":\"\"}}}],\"bar\":[{\"error_x\":{\"color\":\"#2a3f5f\"},\"error_y\":{\"color\":\"#2a3f5f\"},\"marker\":{\"line\":{\"color\":\"#E5ECF6\",\"width\":0.5},\"pattern\":{\"fillmode\":\"overlay\",\"size\":10,\"solidity\":0.2}},\"type\":\"bar\"}],\"scattergeo\":[{\"type\":\"scattergeo\",\"marker\":{\"colorbar\":{\"outlinewidth\":0,\"ticks\":\"\"}}}],\"scatterpolar\":[{\"type\":\"scatterpolar\",\"marker\":{\"colorbar\":{\"outlinewidth\":0,\"ticks\":\"\"}}}],\"histogram\":[{\"marker\":{\"pattern\":{\"fillmode\":\"overlay\",\"size\":10,\"solidity\":0.2}},\"type\":\"histogram\"}],\"scattergl\":[{\"type\":\"scattergl\",\"marker\":{\"colorbar\":{\"outlinewidth\":0,\"ticks\":\"\"}}}],\"scatter3d\":[{\"type\":\"scatter3d\",\"line\":{\"colorbar\":{\"outlinewidth\":0,\"ticks\":\"\"}},\"marker\":{\"colorbar\":{\"outlinewidth\":0,\"ticks\":\"\"}}}],\"scattermapbox\":[{\"type\":\"scattermapbox\",\"marker\":{\"colorbar\":{\"outlinewidth\":0,\"ticks\":\"\"}}}],\"scatterternary\":[{\"type\":\"scatterternary\",\"marker\":{\"colorbar\":{\"outlinewidth\":0,\"ticks\":\"\"}}}],\"scattercarpet\":[{\"type\":\"scattercarpet\",\"marker\":{\"colorbar\":{\"outlinewidth\":0,\"ticks\":\"\"}}}],\"carpet\":[{\"aaxis\":{\"endlinecolor\":\"#2a3f5f\",\"gridcolor\":\"white\",\"linecolor\":\"white\",\"minorgridcolor\":\"white\",\"startlinecolor\":\"#2a3f5f\"},\"baxis\":{\"endlinecolor\":\"#2a3f5f\",\"gridcolor\":\"white\",\"linecolor\":\"white\",\"minorgridcolor\":\"white\",\"startlinecolor\":\"#2a3f5f\"},\"type\":\"carpet\"}],\"table\":[{\"cells\":{\"fill\":{\"color\":\"#EBF0F8\"},\"line\":{\"color\":\"white\"}},\"header\":{\"fill\":{\"color\":\"#C8D4E3\"},\"line\":{\"color\":\"white\"}},\"type\":\"table\"}],\"barpolar\":[{\"marker\":{\"line\":{\"color\":\"#E5ECF6\",\"width\":0.5},\"pattern\":{\"fillmode\":\"overlay\",\"size\":10,\"solidity\":0.2}},\"type\":\"barpolar\"}],\"pie\":[{\"automargin\":true,\"type\":\"pie\"}]},\"layout\":{\"autotypenumbers\":\"strict\",\"colorway\":[\"#636efa\",\"#EF553B\",\"#00cc96\",\"#ab63fa\",\"#FFA15A\",\"#19d3f3\",\"#FF6692\",\"#B6E880\",\"#FF97FF\",\"#FECB52\"],\"font\":{\"color\":\"#2a3f5f\"},\"hovermode\":\"closest\",\"hoverlabel\":{\"align\":\"left\"},\"paper_bgcolor\":\"white\",\"plot_bgcolor\":\"#E5ECF6\",\"polar\":{\"bgcolor\":\"#E5ECF6\",\"angularaxis\":{\"gridcolor\":\"white\",\"linecolor\":\"white\",\"ticks\":\"\"},\"radialaxis\":{\"gridcolor\":\"white\",\"linecolor\":\"white\",\"ticks\":\"\"}},\"ternary\":{\"bgcolor\":\"#E5ECF6\",\"aaxis\":{\"gridcolor\":\"white\",\"linecolor\":\"white\",\"ticks\":\"\"},\"baxis\":{\"gridcolor\":\"white\",\"linecolor\":\"white\",\"ticks\":\"\"},\"caxis\":{\"gridcolor\":\"white\",\"linecolor\":\"white\",\"ticks\":\"\"}},\"coloraxis\":{\"colorbar\":{\"outlinewidth\":0,\"ticks\":\"\"}},\"colorscale\":{\"sequential\":[[0.0,\"#0d0887\"],[0.1111111111111111,\"#46039f\"],[0.2222222222222222,\"#7201a8\"],[0.3333333333333333,\"#9c179e\"],[0.4444444444444444,\"#bd3786\"],[0.5555555555555556,\"#d8576b\"],[0.6666666666666666,\"#ed7953\"],[0.7777777777777778,\"#fb9f3a\"],[0.8888888888888888,\"#fdca26\"],[1.0,\"#f0f921\"]],\"sequentialminus\":[[0.0,\"#0d0887\"],[0.1111111111111111,\"#46039f\"],[0.2222222222222222,\"#7201a8\"],[0.3333333333333333,\"#9c179e\"],[0.4444444444444444,\"#bd3786\"],[0.5555555555555556,\"#d8576b\"],[0.6666666666666666,\"#ed7953\"],[0.7777777777777778,\"#fb9f3a\"],[0.8888888888888888,\"#fdca26\"],[1.0,\"#f0f921\"]],\"diverging\":[[0,\"#8e0152\"],[0.1,\"#c51b7d\"],[0.2,\"#de77ae\"],[0.3,\"#f1b6da\"],[0.4,\"#fde0ef\"],[0.5,\"#f7f7f7\"],[0.6,\"#e6f5d0\"],[0.7,\"#b8e186\"],[0.8,\"#7fbc41\"],[0.9,\"#4d9221\"],[1,\"#276419\"]]},\"xaxis\":{\"gridcolor\":\"white\",\"linecolor\":\"white\",\"ticks\":\"\",\"title\":{\"standoff\":15},\"zerolinecolor\":\"white\",\"automargin\":true,\"zerolinewidth\":2},\"yaxis\":{\"gridcolor\":\"white\",\"linecolor\":\"white\",\"ticks\":\"\",\"title\":{\"standoff\":15},\"zerolinecolor\":\"white\",\"automargin\":true,\"zerolinewidth\":2},\"scene\":{\"xaxis\":{\"backgroundcolor\":\"#E5ECF6\",\"gridcolor\":\"white\",\"linecolor\":\"white\",\"showbackground\":true,\"ticks\":\"\",\"zerolinecolor\":\"white\",\"gridwidth\":2},\"yaxis\":{\"backgroundcolor\":\"#E5ECF6\",\"gridcolor\":\"white\",\"linecolor\":\"white\",\"showbackground\":true,\"ticks\":\"\",\"zerolinecolor\":\"white\",\"gridwidth\":2},\"zaxis\":{\"backgroundcolor\":\"#E5ECF6\",\"gridcolor\":\"white\",\"linecolor\":\"white\",\"showbackground\":true,\"ticks\":\"\",\"zerolinecolor\":\"white\",\"gridwidth\":2}},\"shapedefaults\":{\"line\":{\"color\":\"#2a3f5f\"}},\"annotationdefaults\":{\"arrowcolor\":\"#2a3f5f\",\"arrowhead\":0,\"arrowwidth\":1},\"geo\":{\"bgcolor\":\"white\",\"landcolor\":\"#E5ECF6\",\"subunitcolor\":\"white\",\"showland\":true,\"showlakes\":true,\"lakecolor\":\"white\"},\"title\":{\"x\":0.05},\"mapbox\":{\"style\":\"light\"}}},\"scene\":{\"domain\":{\"x\":[0.0,1.0],\"y\":[0.0,1.0]},\"xaxis\":{\"title\":{\"text\":\"x\"}},\"yaxis\":{\"title\":{\"text\":\"y\"}},\"zaxis\":{\"title\":{\"text\":\"z\"}}},\"legend\":{\"title\":{\"text\":\"color\"},\"tracegroupgap\":0},\"margin\":{\"t\":60}},                        {\"responsive\": true}                    ).then(function(){\n",
       "                            \n",
       "var gd = document.getElementById('3902ef1f-c772-4ca4-8245-de9ba4ce6966');\n",
       "var x = new MutationObserver(function (mutations, observer) {{\n",
       "        var display = window.getComputedStyle(gd).display;\n",
       "        if (!display || display === 'none') {{\n",
       "            console.log([gd, 'removed!']);\n",
       "            Plotly.purge(gd);\n",
       "            observer.disconnect();\n",
       "        }}\n",
       "}});\n",
       "\n",
       "// Listen for the removal of the full notebook cells\n",
       "var notebookContainer = gd.closest('#notebook-container');\n",
       "if (notebookContainer) {{\n",
       "    x.observe(notebookContainer, {childList: true});\n",
       "}}\n",
       "\n",
       "// Listen for the clearing of the current output cell\n",
       "var outputEl = gd.closest('.output');\n",
       "if (outputEl) {{\n",
       "    x.observe(outputEl, {childList: true});\n",
       "}}\n",
       "\n",
       "                        })                };                });            </script>        </div>"
      ]
     },
     "metadata": {},
     "output_type": "display_data"
    }
   ],
   "source": [
    "# plot using tsne \n",
    "X_embedded  = TSNE(n_components=3, perplexity=10,random_state=24).fit_transform( X )\n",
    "colors = np.array([x for x in 'bgrcmykbgrcmykbgrcmykbgrcmyk'])\n",
    "fig = px.scatter_3d(x=X_embedded [:,0],y=X_embedded [:,1],z=X_embedded [:,2],color=colors[dbscan_clustering.labels_])\n",
    "fig.show()"
   ]
  },
  {
   "cell_type": "markdown",
   "metadata": {},
   "source": [
    "### Optics\n",
    "\n",
    "OPTICS is also a density-based algorithm similar to DBSCAN, but as compare to DBSCAN, OPTICS can find meaningful clusters in data that varies in density. OPTICS does process by ordering the data points so that the closest points are neighbors in the ordering. "
   ]
  },
  {
   "cell_type": "code",
   "execution_count": 78,
   "metadata": {},
   "outputs": [],
   "source": [
    "optics_grid = {\n",
    "        \"min_samples\" : range(7,20,3),\n",
    "        \"metric\": ['euclidean','dice' 'manhattan', 'cosine', 'precomputed'],\n",
    "        \"algorithm\" : ['auto', 'ball_tree', 'kd_tree', 'brute'],\n",
    "        \"eps\": np.arange(0.01,1.1,0.01)\n",
    "       }\n",
    "#dbscan_grid"
   ]
  },
  {
   "cell_type": "code",
   "execution_count": 79,
   "metadata": {},
   "outputs": [],
   "source": [
    "optics_model = OPTICS()\n",
    "optics_params = GridSearchCV(optics_model,optics_grid,scoring=silhouette_score2,cv= 10).fit(X, y)"
   ]
  },
  {
   "cell_type": "code",
   "execution_count": 80,
   "metadata": {},
   "outputs": [
    {
     "data": {
      "text/plain": [
       "(0.35188272614392185,\n",
       " {'algorithm': 'auto', 'eps': 0.01, 'metric': 'cosine', 'min_samples': 7})"
      ]
     },
     "execution_count": 80,
     "metadata": {},
     "output_type": "execute_result"
    }
   ],
   "source": [
    "optics_params.best_score_, optics_params.best_params_"
   ]
  },
  {
   "cell_type": "code",
   "execution_count": 81,
   "metadata": {},
   "outputs": [],
   "source": [
    "optics_clustering = OPTICS(min_samples = optics_params.best_params_['min_samples'],\n",
    "                           algorithm = optics_params.best_params_['algorithm'],\n",
    "                           metric = optics_params.best_params_['metric'],\n",
    "                           eps = optics_params.best_params_['eps']\n",
    "                          ).fit(X)\n",
    "cluster = list(optics_clustering.labels_)\n",
    "values, counts = np.unique(cluster, return_counts=True)      \n",
    "optics_dataset = pd.DataFrame(X.copy())\n",
    "optics_dataset.loc[:,'Cluster'] = optics_clustering.labels_\n"
   ]
  },
  {
   "cell_type": "code",
   "execution_count": 82,
   "metadata": {},
   "outputs": [
    {
     "data": {
      "text/html": [
       "<div>\n",
       "<style scoped>\n",
       "    .dataframe tbody tr th:only-of-type {\n",
       "        vertical-align: middle;\n",
       "    }\n",
       "\n",
       "    .dataframe tbody tr th {\n",
       "        vertical-align: top;\n",
       "    }\n",
       "\n",
       "    .dataframe thead th {\n",
       "        text-align: right;\n",
       "    }\n",
       "</style>\n",
       "<table border=\"1\" class=\"dataframe\">\n",
       "  <thead>\n",
       "    <tr style=\"text-align: right;\">\n",
       "      <th></th>\n",
       "      <th>Cluster</th>\n",
       "    </tr>\n",
       "  </thead>\n",
       "  <tbody>\n",
       "    <tr>\n",
       "      <th>-1</th>\n",
       "      <td>143</td>\n",
       "    </tr>\n",
       "    <tr>\n",
       "      <th>10</th>\n",
       "      <td>23</td>\n",
       "    </tr>\n",
       "    <tr>\n",
       "      <th>4</th>\n",
       "      <td>17</td>\n",
       "    </tr>\n",
       "    <tr>\n",
       "      <th>3</th>\n",
       "      <td>17</td>\n",
       "    </tr>\n",
       "    <tr>\n",
       "      <th>9</th>\n",
       "      <td>15</td>\n",
       "    </tr>\n",
       "    <tr>\n",
       "      <th>7</th>\n",
       "      <td>14</td>\n",
       "    </tr>\n",
       "    <tr>\n",
       "      <th>5</th>\n",
       "      <td>13</td>\n",
       "    </tr>\n",
       "    <tr>\n",
       "      <th>1</th>\n",
       "      <td>11</td>\n",
       "    </tr>\n",
       "    <tr>\n",
       "      <th>12</th>\n",
       "      <td>9</td>\n",
       "    </tr>\n",
       "    <tr>\n",
       "      <th>6</th>\n",
       "      <td>9</td>\n",
       "    </tr>\n",
       "    <tr>\n",
       "      <th>0</th>\n",
       "      <td>8</td>\n",
       "    </tr>\n",
       "    <tr>\n",
       "      <th>11</th>\n",
       "      <td>7</td>\n",
       "    </tr>\n",
       "    <tr>\n",
       "      <th>8</th>\n",
       "      <td>7</td>\n",
       "    </tr>\n",
       "    <tr>\n",
       "      <th>2</th>\n",
       "      <td>7</td>\n",
       "    </tr>\n",
       "  </tbody>\n",
       "</table>\n",
       "</div>"
      ],
      "text/plain": [
       "     Cluster\n",
       "-1       143\n",
       " 10       23\n",
       " 4        17\n",
       " 3        17\n",
       " 9        15\n",
       " 7        14\n",
       " 5        13\n",
       " 1        11\n",
       " 12        9\n",
       " 6         9\n",
       " 0         8\n",
       " 11        7\n",
       " 8         7\n",
       " 2         7"
      ]
     },
     "execution_count": 82,
     "metadata": {},
     "output_type": "execute_result"
    }
   ],
   "source": [
    "optics_dataset.Cluster.value_counts().to_frame()"
   ]
  },
  {
   "cell_type": "code",
   "execution_count": 83,
   "metadata": {},
   "outputs": [
    {
     "data": {
      "text/html": [
       "<div>\n",
       "<style scoped>\n",
       "    .dataframe tbody tr th:only-of-type {\n",
       "        vertical-align: middle;\n",
       "    }\n",
       "\n",
       "    .dataframe tbody tr th {\n",
       "        vertical-align: top;\n",
       "    }\n",
       "\n",
       "    .dataframe thead th {\n",
       "        text-align: right;\n",
       "    }\n",
       "</style>\n",
       "<table border=\"1\" class=\"dataframe\">\n",
       "  <thead>\n",
       "    <tr style=\"text-align: right;\">\n",
       "      <th></th>\n",
       "      <th>silhouette_score</th>\n",
       "      <th>davies_bouldin_score</th>\n",
       "      <th>calinski_harabasz_score</th>\n",
       "      <th>fowlkes_mallows_score</th>\n",
       "      <th>adjusted_rand_score</th>\n",
       "      <th>adjusted_mutual_info_score</th>\n",
       "      <th>homogeneity_score</th>\n",
       "      <th>completeness_score</th>\n",
       "      <th>v_measure_score</th>\n",
       "    </tr>\n",
       "  </thead>\n",
       "  <tbody>\n",
       "    <tr>\n",
       "      <th>Optics</th>\n",
       "      <td>0.055677</td>\n",
       "      <td>1.092444</td>\n",
       "      <td>26.131461</td>\n",
       "      <td>0.455827</td>\n",
       "      <td>0.013619</td>\n",
       "      <td>0.12408</td>\n",
       "      <td>0.474718</td>\n",
       "      <td>0.084077</td>\n",
       "      <td>0.142853</td>\n",
       "    </tr>\n",
       "  </tbody>\n",
       "</table>\n",
       "</div>"
      ],
      "text/plain": [
       "        silhouette_score  davies_bouldin_score  calinski_harabasz_score  \\\n",
       "Optics          0.055677              1.092444                26.131461   \n",
       "\n",
       "        fowlkes_mallows_score  adjusted_rand_score  \\\n",
       "Optics               0.455827             0.013619   \n",
       "\n",
       "        adjusted_mutual_info_score  homogeneity_score  completeness_score  \\\n",
       "Optics                     0.12408           0.474718            0.084077   \n",
       "\n",
       "        v_measure_score  \n",
       "Optics         0.142853  "
      ]
     },
     "execution_count": 83,
     "metadata": {},
     "output_type": "execute_result"
    }
   ],
   "source": [
    "\n",
    "Optics_df = pd.DataFrame(estimator_evaluation(optics_clustering, 'Optics ', X , y ), index=[\"Optics\"])\n",
    "Optics_df"
   ]
  },
  {
   "cell_type": "code",
   "execution_count": 84,
   "metadata": {},
   "outputs": [
    {
     "data": {
      "application/vnd.plotly.v1+json": {
       "config": {
        "plotlyServerURL": "https://plot.ly"
       },
       "data": [
        {
         "hovertemplate": "color=b<br>x=%{x}<br>y=%{y}<br>z=%{z}<extra></extra>",
         "legendgroup": "b",
         "marker": {
          "color": "#636efa",
          "symbol": "circle"
         },
         "mode": "markers",
         "name": "b",
         "scene": "scene",
         "showlegend": true,
         "type": "scatter3d",
         "x": [
          44.333091735839844,
          40.457435607910156,
          33.803688049316406,
          37.70640182495117,
          -23.242748260498047,
          -16.536378860473633,
          -26.639406204223633,
          -26.235504150390625,
          -29.90022850036621,
          -26.37323570251465,
          -27.20089340209961,
          -33.16579055786133,
          -28.748905181884766,
          1.8472745418548584,
          -23.108692169189453,
          -27.960628509521484,
          -30.323383331298828,
          -30.20924949645996,
          37.8852424621582,
          45.62045669555664,
          38.88289260864258,
          45.268436431884766
         ],
         "y": [
          -16.065616607666016,
          -26.887832641601562,
          -24.04093360900879,
          -25.76045036315918,
          42.207061767578125,
          39.7817268371582,
          41.685325622558594,
          38.417545318603516,
          40.69866943359375,
          29.918067932128906,
          45.814674377441406,
          43.01995086669922,
          37.483680725097656,
          36.98595428466797,
          35.58406066894531,
          35.82125473022461,
          43.325927734375,
          36.016685485839844,
          -18.9560604095459,
          -22.559337615966797,
          -19.96884536743164,
          -21.783233642578125
         ],
         "z": [
          -35.27585220336914,
          -36.28977584838867,
          -35.92921829223633,
          -29.693374633789062,
          9.598604202270508,
          7.507610321044922,
          18.049333572387695,
          0.5319599509239197,
          -5.418031215667725,
          19.883609771728516,
          3.3972971439361572,
          1.8324861526489258,
          7.641336441040039,
          37.10123062133789,
          17.477602005004883,
          22.879167556762695,
          12.310640335083008,
          15.093770027160645,
          -32.34811019897461,
          -38.71394348144531,
          -39.53147506713867,
          -31.28326988220215
         ]
        },
        {
         "hovertemplate": "color=k<br>x=%{x}<br>y=%{y}<br>z=%{z}<extra></extra>",
         "legendgroup": "k",
         "marker": {
          "color": "#EF553B",
          "symbol": "circle"
         },
         "mode": "markers",
         "name": "k",
         "scene": "scene",
         "showlegend": true,
         "type": "scatter3d",
         "x": [
          -26.07970428466797,
          -23.137264251708984,
          28.775732040405273,
          14.634523391723633,
          -22.713090896606445,
          17.426639556884766,
          13.864554405212402,
          13.68448543548584,
          26.820884704589844,
          -45.77070617675781,
          -1.171699047088623,
          -7.4945387840271,
          -208.0128936767578,
          13.204663276672363,
          16.56028175354004,
          17.31844139099121,
          -44.4318962097168,
          -45.444061279296875,
          9.953486442565918,
          21.548961639404297,
          -22.754709243774414,
          -19.675548553466797,
          -17.048694610595703,
          248.03890991210938,
          -11.133111953735352,
          -22.331729888916016,
          3.4288735389709473,
          -46.761634826660156,
          -41.68955993652344,
          -21.152366638183594,
          -24.676433563232422,
          -20.642356872558594,
          -23.93043327331543,
          0.24146465957164764,
          17.866191864013672,
          -1.3390121459960938,
          24.904003143310547,
          -11.62868881225586,
          -9.822630882263184,
          5.834759712219238,
          -15.792283058166504,
          -51.77715301513672,
          -0.6624883413314819,
          -46.94553756713867,
          -15.436470985412598,
          64.76774597167969,
          59.500892639160156,
          66.0881576538086,
          61.962703704833984,
          -33.79261016845703,
          53.038124084472656,
          8.942296981811523,
          -39.95536804199219,
          14.025867462158203,
          59.96726989746094,
          14.397239685058594,
          26.755842208862305,
          -22.43345832824707,
          27.545549392700195,
          31.907848358154297,
          -9.995481491088867,
          -1.3857922554016113,
          9.78036117553711,
          -21.858074188232422,
          25.915071487426758,
          18.730405807495117,
          -40.11804962158203,
          -28.506450653076172,
          -34.02729797363281,
          -33.93227005004883,
          2.2611172199249268,
          22.715776443481445,
          -8.779141426086426,
          -45.456478118896484,
          13.441794395446777,
          -1.544874668121338,
          0.9854949116706848,
          23.269777297973633,
          5.376502513885498,
          9.077073097229004,
          -14.77304458618164,
          -30.16083335876465,
          -30.519485473632812,
          -4.815279006958008,
          17.53169059753418,
          -10.58741569519043,
          15.022124290466309,
          17.964502334594727,
          -12.209628105163574,
          20.97791290283203,
          -16.497482299804688,
          -24.693145751953125,
          11.588937759399414,
          8.015403747558594,
          -34.036502838134766,
          4.997541427612305,
          1.6568546295166016,
          -31.936161041259766,
          -7.6529107093811035,
          64.01361083984375,
          -17.264867782592773,
          -41.253143310546875,
          -35.026878356933594,
          -42.565589904785156,
          -38.376529693603516,
          -30.49472999572754,
          -5.596000671386719,
          -19.79914665222168,
          -26.80898666381836,
          -17.941354751586914,
          -16.577613830566406,
          -11.193283081054688,
          -0.32099810242652893,
          6.621398448944092,
          24.73394203186035,
          33.62289810180664,
          8.75153923034668,
          -27.236251831054688,
          -25.745737075805664,
          23.10454750061035,
          23.39938735961914,
          -26.75934410095215,
          -37.63077163696289,
          20.533584594726562,
          -11.653613090515137,
          -5.97688102722168,
          -2.897204875946045,
          -18.84783172607422,
          55.97785186767578,
          58.752845764160156,
          1.4041728973388672,
          -31.360368728637695,
          38.07932662963867,
          -38.55357360839844,
          -37.335845947265625,
          -36.43458938598633,
          -17.939599990844727,
          -7.877898693084717,
          18.785581588745117,
          54.2212028503418,
          381.4656677246094,
          -40.424808502197266,
          -48.15592956542969,
          -41.902259826660156,
          -33.98460388183594,
          -23.045185089111328,
          -29.593191146850586,
          -25.055301666259766,
          -10.47549057006836,
          415.110107421875,
          26.81038475036621,
          -19.80034637451172
         ],
         "y": [
          57.9052848815918,
          41.145931243896484,
          -23.615625381469727,
          -24.747774124145508,
          48.44337844848633,
          -8.078539848327637,
          -16.234683990478516,
          -16.65142059326172,
          -18.213123321533203,
          0.005561981815844774,
          -12.486394882202148,
          37.99913787841797,
          -1.0894535779953003,
          1.5339051485061646,
          42.36664962768555,
          -3.891378164291382,
          -1.6319793462753296,
          -12.236234664916992,
          11.983192443847656,
          -15.966225624084473,
          -39.71218490600586,
          -46.490745544433594,
          -40.960365295410156,
          56.483543395996094,
          27.46794891357422,
          24.98116111755371,
          -27.541765213012695,
          -10.050824165344238,
          -33.374263763427734,
          -1.0609145164489746,
          2.9038076400756836,
          -1.4680218696594238,
          -6.438807487487793,
          -19.564197540283203,
          43.52997589111328,
          40.3387451171875,
          46.778594970703125,
          22.43937110900879,
          -44.19876480102539,
          -11.952911376953125,
          -45.924041748046875,
          -8.534860610961914,
          -40.37160110473633,
          -11.20909309387207,
          25.85468292236328,
          -22.06831932067871,
          -17.188066482543945,
          -14.926514625549316,
          -18.041595458984375,
          -37.05177307128906,
          65.92130279541016,
          7.534327507019043,
          1.1466240882873535,
          -16.16900062561035,
          -24.883922576904297,
          35.917659759521484,
          323.65106201171875,
          7.618286609649658,
          23.183429718017578,
          20.72772979736328,
          29.973129272460938,
          39.804691314697266,
          46.97278594970703,
          16.114246368408203,
          50.289703369140625,
          -11.307856559753418,
          -27.03129768371582,
          -29.73209571838379,
          -25.437294006347656,
          -31.93608283996582,
          -17.387208938598633,
          -16.763534545898438,
          -45.835453033447266,
          -7.429357051849365,
          47.812843322753906,
          -48.52754211425781,
          -11.282980918884277,
          26.267967224121094,
          2.544459342956543,
          -23.289091110229492,
          33.266868591308594,
          59.28567123413086,
          13.105178833007812,
          36.7418327331543,
          48.597740173339844,
          31.693939208984375,
          -6.373424530029297,
          -11.542818069458008,
          26.943382263183594,
          44.2031364440918,
          20.18877601623535,
          14.870691299438477,
          -9.077815055847168,
          -17.273855209350586,
          -13.740813255310059,
          -5.114279270172119,
          -0.5948383808135986,
          49.017887115478516,
          36.686214447021484,
          -77.06538391113281,
          23.205875396728516,
          -4.282449245452881,
          -23.346933364868164,
          -0.8139142394065857,
          -8.507059097290039,
          -19.597965240478516,
          -49.6814079284668,
          24.45499038696289,
          19.87933349609375,
          25.582176208496094,
          29.51909065246582,
          -50.220279693603516,
          -4.080954074859619,
          42.94888687133789,
          48.741004943847656,
          -19.28281021118164,
          -3.7474558353424072,
          -33.49415588378906,
          54.79482650756836,
          43.62117385864258,
          -23.556793212890625,
          1.2707120180130005,
          -18.816558837890625,
          -22.3223934173584,
          -8.06421184539795,
          -53.299869537353516,
          -48.39748001098633,
          55.45282745361328,
          -23.935190200805664,
          -28.484830856323242,
          -13.349055290222168,
          -16.900516510009766,
          12.369837760925293,
          -17.040021896362305,
          -3.4114015102386475,
          -0.8281712532043457,
          28.848953247070312,
          41.184539794921875,
          48.94527053833008,
          -24.387292861938477,
          -274.2107849121094,
          -10.598328590393066,
          -6.341794967651367,
          -26.568504333496094,
          -31.637475967407227,
          -35.935401916503906,
          -37.55329895019531,
          -42.64028549194336,
          -49.00499725341797,
          -81.22452545166016,
          -14.315642356872559,
          -31.96183967590332
         ],
         "z": [
          -0.0686807930469513,
          -8.381636619567871,
          -12.154041290283203,
          -24.806499481201172,
          -9.379295349121094,
          22.01329803466797,
          20.875791549682617,
          27.24579620361328,
          -10.473889350891113,
          -24.07701873779297,
          54.73850631713867,
          7.176764488220215,
          -63.964290618896484,
          25.220993041992188,
          -12.137078285217285,
          1.0731801986694336,
          -33.48440933227539,
          -12.849360466003418,
          63.74290466308594,
          -41.05643844604492,
          24.497554779052734,
          26.81116485595703,
          29.673635482788086,
          35.901893615722656,
          41.595542907714844,
          10.945697784423828,
          -11.080911636352539,
          -26.324810028076172,
          25.652063369750977,
          -4.917496204376221,
          -1.7133527994155884,
          2.2486515045166016,
          2.4493980407714844,
          -16.09330940246582,
          -20.194133758544922,
          6.251334190368652,
          -5.3810200691223145,
          35.52888107299805,
          40.205631256103516,
          56.66683578491211,
          41.02446746826172,
          -34.108428955078125,
          -14.147403717041016,
          -35.515663146972656,
          13.196861267089844,
          3.99621319770813,
          5.511070251464844,
          3.705927610397339,
          -1.25104558467865,
          -24.968191146850586,
          56.08290100097656,
          23.53043556213379,
          -18.30194091796875,
          -35.0045166015625,
          12.111656188964844,
          -7.007053852081299,
          -19.59468650817871,
          -9.950779914855957,
          -18.922168731689453,
          -15.729670524597168,
          35.11084747314453,
          -17.78889274597168,
          -13.795010566711426,
          36.30066680908203,
          -13.834531784057617,
          -38.57642364501953,
          18.542598724365234,
          23.336322784423828,
          22.29064178466797,
          20.226146697998047,
          58.61332702636719,
          -34.550018310546875,
          22.51950454711914,
          -8.673336029052734,
          -25.050817489624023,
          21.27958869934082,
          61.563358306884766,
          -6.786925315856934,
          27.284868240356445,
          -8.402348518371582,
          39.01411437988281,
          -3.582852602005005,
          36.684425354003906,
          0.16364941000938416,
          -6.8527750968933105,
          11.128562927246094,
          -47.798248291015625,
          -47.07600021362305,
          26.77010154724121,
          -0.05764567852020264,
          41.59455490112305,
          42.21770477294922,
          21.482402801513672,
          24.03944969177246,
          11.827498435974121,
          30.011363983154297,
          -52.25743865966797,
          -3.3778865337371826,
          -6.647945404052734,
          54.870849609375,
          24.0039005279541,
          -2.278958559036255,
          10.406377792358398,
          -9.809110641479492,
          -6.71610164642334,
          13.87594985961914,
          -13.404658317565918,
          17.477005004882812,
          38.8416748046875,
          37.14581298828125,
          7.07971715927124,
          40.294193267822266,
          26.273088455200195,
          -17.94472312927246,
          -20.483386993408203,
          -10.593071937561035,
          6.627070903778076,
          7.025057315826416,
          -7.352822780609131,
          -14.752630233764648,
          -6.496891021728516,
          -7.954247951507568,
          14.885250091552734,
          -11.92890739440918,
          39.66081619262695,
          24.542102813720703,
          28.15369415283203,
          -10.445942878723145,
          0.8650567531585693,
          4.5400614738464355,
          48.11505889892578,
          5.761484622955322,
          75.83161163330078,
          7.203179359436035,
          -12.809462547302246,
          -6.269811630249023,
          27.593807220458984,
          -2.5195364952087402,
          -15.422608375549316,
          7.392119884490967,
          74.76422882080078,
          1.861651062965393,
          -21.633079528808594,
          25.131973266601562,
          27.933773040771484,
          30.49177360534668,
          26.942964553833008,
          30.633563995361328,
          28.799419403076172,
          -100.28587341308594,
          -24.19405174255371,
          4.390992641448975
         ]
        },
        {
         "hovertemplate": "color=y<br>x=%{x}<br>y=%{y}<br>z=%{z}<extra></extra>",
         "legendgroup": "y",
         "marker": {
          "color": "#00cc96",
          "symbol": "circle"
         },
         "mode": "markers",
         "name": "y",
         "scene": "scene",
         "showlegend": true,
         "type": "scatter3d",
         "x": [
          20.669437408447266,
          23.285356521606445,
          14.318075180053711,
          -2.723491907119751,
          0.021394478157162666,
          5.590156078338623,
          -1.939184546470642,
          4.209362983703613,
          -3.345693588256836,
          10.623516082763672,
          25.906238555908203,
          29.980424880981445,
          23.861555099487305,
          16.521608352661133,
          -0.4018668234348297,
          17.176090240478516,
          19.18052101135254,
          25.1873836517334,
          25.11918830871582,
          3.197556734085083,
          2.408815383911133,
          8.797558784484863
         ],
         "y": [
          11.328883171081543,
          1.5483590364456177,
          12.892512321472168,
          -2.144113302230835,
          11.872949600219727,
          6.188862323760986,
          4.736813068389893,
          -0.06579822301864624,
          3.805025100708008,
          20.047807693481445,
          8.014220237731934,
          11.130072593688965,
          12.887977600097656,
          25.440570831298828,
          -2.7355544567108154,
          2.027204751968384,
          7.468051910400391,
          5.956216335296631,
          24.613964080810547,
          6.5722198486328125,
          -0.5861486792564392,
          10.15206241607666
         ],
         "z": [
          1.0707563161849976,
          -5.909092903137207,
          -4.7671003341674805,
          62.370765686035156,
          64.165771484375,
          65.8389892578125,
          65.69849395751953,
          60.751522064208984,
          58.518306732177734,
          -46.11989974975586,
          -0.7611690759658813,
          -14.287708282470703,
          -4.743813514709473,
          -8.03001880645752,
          55.38503646850586,
          -2.067173719406128,
          -5.702500343322754,
          -10.454730033874512,
          -12.897253036499023,
          58.752525329589844,
          68.0643539428711,
          -2.626490354537964
         ]
        },
        {
         "hovertemplate": "color=c<br>x=%{x}<br>y=%{y}<br>z=%{z}<extra></extra>",
         "legendgroup": "c",
         "marker": {
          "color": "#ab63fa",
          "symbol": "circle"
         },
         "mode": "markers",
         "name": "c",
         "scene": "scene",
         "showlegend": true,
         "type": "scatter3d",
         "x": [
          36.54509735107422,
          -2.703735828399658,
          41.28952407836914,
          -15.631858825683594,
          -10.13161849975586,
          -5.927724838256836,
          -18.88324737548828,
          -11.58227252960205,
          -12.058188438415527,
          -1.0446034669876099,
          1.3474305868148804,
          -5.697696208953857,
          -12.084038734436035,
          36.008670806884766,
          43.15171432495117,
          31.870162963867188,
          -11.924895286560059,
          32.05215072631836,
          38.23526382446289,
          -2.21939754486084,
          47.618873596191406,
          41.8694953918457,
          -5.378969192504883,
          41.292396545410156,
          -8.751496315002441,
          -17.237361907958984,
          26.21324920654297,
          34.59928894042969,
          32.43825149536133,
          19.50165557861328,
          36.883968353271484,
          13.17175579071045,
          -9.652202606201172,
          1.1367303133010864,
          -2.153221368789673,
          38.71916961669922,
          24.061941146850586,
          42.601497650146484,
          30.598115921020508,
          40.338558197021484
         ],
         "y": [
          -0.3089427649974823,
          -56.17182540893555,
          -2.9423906803131104,
          -44.6510009765625,
          -49.06418228149414,
          -46.09623718261719,
          -38.8814811706543,
          -48.08837890625,
          -43.59121322631836,
          -46.24006652832031,
          -52.468177795410156,
          -57.46699905395508,
          -39.96914291381836,
          -1.1869007349014282,
          -15.870211601257324,
          -14.658892631530762,
          2.9258534908294678,
          10.0380277633667,
          6.456844806671143,
          -52.670928955078125,
          -0.6271780133247375,
          -6.4476189613342285,
          -51.435890197753906,
          4.160768508911133,
          -54.678504943847656,
          0.4032908082008362,
          14.543256759643555,
          -8.765073776245117,
          5.644442081451416,
          10.30224895477295,
          -14.211349487304688,
          7.433108329772949,
          -43.16789245605469,
          -47.07933044433594,
          -50.63668441772461,
          -7.559817314147949,
          8.682747840881348,
          0.9106256365776062,
          12.585070610046387,
          -14.962660789489746
         ],
         "z": [
          32.50771713256836,
          -0.5024762749671936,
          22.107019424438477,
          1.9737281799316406,
          1.7497535943984985,
          -2.0498650074005127,
          -1.3960741758346558,
          -5.696078300476074,
          12.749641418457031,
          13.549424171447754,
          14.621380805969238,
          -10.17265510559082,
          -1.1293432712554932,
          16.080045700073242,
          21.93027114868164,
          17.53269386291504,
          30.198013305664062,
          29.09090805053711,
          31.898487091064453,
          -6.575531482696533,
          17.561880111694336,
          15.137030601501465,
          14.846960067749023,
          18.760896682739258,
          -3.972951889038086,
          36.07051467895508,
          30.036157608032227,
          18.822589874267578,
          34.307621002197266,
          27.460451126098633,
          23.956201553344727,
          29.567874908447266,
          7.247771739959717,
          -0.7055607438087463,
          8.110678672790527,
          31.586631774902344,
          32.740962982177734,
          11.661307334899902,
          35.190547943115234,
          15.919598579406738
         ]
        },
        {
         "hovertemplate": "color=r<br>x=%{x}<br>y=%{y}<br>z=%{z}<extra></extra>",
         "legendgroup": "r",
         "marker": {
          "color": "#FFA15A",
          "symbol": "circle"
         },
         "mode": "markers",
         "name": "r",
         "scene": "scene",
         "showlegend": true,
         "type": "scatter3d",
         "x": [
          38.31059646606445,
          42.15549087524414,
          28.03256607055664,
          47.94922637939453,
          48.517234802246094,
          53.56420135498047,
          49.24894714355469,
          39.876373291015625,
          3.8039510250091553,
          -1.345916748046875,
          4.2230706214904785,
          0.5371698141098022,
          34.451995849609375,
          -2.745018243789673,
          30.39902114868164,
          33.68363571166992,
          31.825847625732422,
          46.829341888427734,
          32.876258850097656,
          40.25762939453125,
          -6.5025105476379395,
          -199.68650817871094
         ],
         "y": [
          18.12321662902832,
          12.345269203186035,
          16.613340377807617,
          18.092037200927734,
          7.910039901733398,
          13.618258476257324,
          13.309557914733887,
          18.553199768066406,
          -13.502406120300293,
          -15.615185737609863,
          -19.675338745117188,
          -28.662050247192383,
          13.492189407348633,
          -23.5835018157959,
          22.391983032226562,
          19.01876449584961,
          15.319490432739258,
          12.536465644836426,
          20.97112464904785,
          13.543110847473145,
          -18.99620246887207,
          -62.791770935058594
         ],
         "z": [
          -28.98185157775879,
          -31.109804153442383,
          -38.44881820678711,
          -29.371604919433594,
          -30.111501693725586,
          -28.196332931518555,
          -34.658103942871094,
          -36.07650375366211,
          -18.42613983154297,
          -22.354541778564453,
          -22.42157554626465,
          -17.531978607177734,
          -37.39509963989258,
          -21.056915283203125,
          -24.70922088623047,
          -41.806671142578125,
          -30.602500915527344,
          -24.875102996826172,
          -35.24464416503906,
          -43.06795120239258,
          -17.26817512512207,
          2.6602039337158203
         ]
        },
        {
         "hovertemplate": "color=g<br>x=%{x}<br>y=%{y}<br>z=%{z}<extra></extra>",
         "legendgroup": "g",
         "marker": {
          "color": "#19d3f3",
          "symbol": "circle"
         },
         "mode": "markers",
         "name": "g",
         "scene": "scene",
         "showlegend": true,
         "type": "scatter3d",
         "x": [
          5.292171955108643,
          10.232571601867676,
          10.899405479431152,
          3.543884038925171,
          -1.8564423322677612,
          -2.6294307708740234,
          6.936176300048828,
          3.9518167972564697,
          11.196072578430176,
          -3.6126821041107178,
          -2.966200113296509,
          5.697119235992432,
          5.251281261444092,
          5.046977519989014,
          10.773776054382324,
          2.2687695026397705,
          2.318570613861084,
          1.369336724281311
         ],
         "y": [
          40.070701599121094,
          -8.598394393920898,
          45.298683166503906,
          -17.513856887817383,
          -13.501235961914062,
          -5.393011093139648,
          -12.458183288574219,
          45.92818832397461,
          -13.020894050598145,
          -10.280592918395996,
          -6.982762336730957,
          -5.732648849487305,
          43.70981216430664,
          48.79405212402344,
          46.659915924072266,
          -0.25966185331344604,
          44.1308479309082,
          -6.4299726486206055
         ],
         "z": [
          -7.940239429473877,
          -43.43484115600586,
          2.6452038288116455,
          -32.82252883911133,
          -33.98850631713867,
          -48.160064697265625,
          -35.49327850341797,
          -4.722923755645752,
          -30.00790023803711,
          -40.57453155517578,
          -34.63541793823242,
          -48.56654739379883,
          6.578206539154053,
          6.939187049865723,
          -5.369344234466553,
          -45.80250549316406,
          -13.173526763916016,
          -41.26649475097656
         ]
        },
        {
         "hovertemplate": "color=m<br>x=%{x}<br>y=%{y}<br>z=%{z}<extra></extra>",
         "legendgroup": "m",
         "marker": {
          "color": "#FF6692",
          "symbol": "circle"
         },
         "mode": "markers",
         "name": "m",
         "scene": "scene",
         "showlegend": true,
         "type": "scatter3d",
         "x": [
          -31.07154083251953,
          -32.82084655761719,
          -36.73927307128906,
          -40.142486572265625,
          -33.7164421081543,
          -35.0137825012207,
          -24.53474998474121,
          -2.322382688522339,
          2.421306610107422,
          -41.44819259643555,
          -20.456636428833008,
          -23.287139892578125,
          -17.985692977905273,
          -19.69509506225586,
          -39.52353286743164,
          2.902172803878784,
          -1.4471601247787476,
          -2.0200984477996826,
          3.8089399337768555,
          3.9575343132019043,
          -27.04729461669922,
          -30.361921310424805,
          -25.008546829223633,
          -24.915658950805664
         ],
         "y": [
          7.372477054595947,
          4.931432247161865,
          2.0200445652008057,
          5.8658294677734375,
          13.701102256774902,
          11.746820449829102,
          12.423872947692871,
          -15.545835494995117,
          -10.718011856079102,
          -3.967625617980957,
          18.661483764648438,
          22.752838134765625,
          18.001659393310547,
          12.159923553466797,
          8.35811996459961,
          -12.494165420532227,
          -9.074697494506836,
          -15.423994064331055,
          -19.140701293945312,
          -14.21461296081543,
          14.247503280639648,
          11.159634590148926,
          6.779940128326416,
          11.546669960021973
         ],
         "z": [
          -37.819210052490234,
          -31.219423294067383,
          -36.9051399230957,
          -30.6036376953125,
          -38.153995513916016,
          -31.614683151245117,
          -25.901315689086914,
          36.65970993041992,
          25.85362434387207,
          -23.866294860839844,
          -35.152748107910156,
          -29.71328353881836,
          -28.8810977935791,
          -32.26833724975586,
          -37.261436462402344,
          40.93939971923828,
          32.39864730834961,
          29.343456268310547,
          40.06369400024414,
          33.40922164916992,
          -32.98579025268555,
          -23.936220169067383,
          -21.04807472229004,
          -17.45525360107422
         ]
        }
       ],
       "layout": {
        "legend": {
         "title": {
          "text": "color"
         },
         "tracegroupgap": 0
        },
        "margin": {
         "t": 60
        },
        "scene": {
         "domain": {
          "x": [
           0,
           1
          ],
          "y": [
           0,
           1
          ]
         },
         "xaxis": {
          "title": {
           "text": "x"
          }
         },
         "yaxis": {
          "title": {
           "text": "y"
          }
         },
         "zaxis": {
          "title": {
           "text": "z"
          }
         }
        },
        "template": {
         "data": {
          "bar": [
           {
            "error_x": {
             "color": "#2a3f5f"
            },
            "error_y": {
             "color": "#2a3f5f"
            },
            "marker": {
             "line": {
              "color": "#E5ECF6",
              "width": 0.5
             },
             "pattern": {
              "fillmode": "overlay",
              "size": 10,
              "solidity": 0.2
             }
            },
            "type": "bar"
           }
          ],
          "barpolar": [
           {
            "marker": {
             "line": {
              "color": "#E5ECF6",
              "width": 0.5
             },
             "pattern": {
              "fillmode": "overlay",
              "size": 10,
              "solidity": 0.2
             }
            },
            "type": "barpolar"
           }
          ],
          "carpet": [
           {
            "aaxis": {
             "endlinecolor": "#2a3f5f",
             "gridcolor": "white",
             "linecolor": "white",
             "minorgridcolor": "white",
             "startlinecolor": "#2a3f5f"
            },
            "baxis": {
             "endlinecolor": "#2a3f5f",
             "gridcolor": "white",
             "linecolor": "white",
             "minorgridcolor": "white",
             "startlinecolor": "#2a3f5f"
            },
            "type": "carpet"
           }
          ],
          "choropleth": [
           {
            "colorbar": {
             "outlinewidth": 0,
             "ticks": ""
            },
            "type": "choropleth"
           }
          ],
          "contour": [
           {
            "colorbar": {
             "outlinewidth": 0,
             "ticks": ""
            },
            "colorscale": [
             [
              0,
              "#0d0887"
             ],
             [
              0.1111111111111111,
              "#46039f"
             ],
             [
              0.2222222222222222,
              "#7201a8"
             ],
             [
              0.3333333333333333,
              "#9c179e"
             ],
             [
              0.4444444444444444,
              "#bd3786"
             ],
             [
              0.5555555555555556,
              "#d8576b"
             ],
             [
              0.6666666666666666,
              "#ed7953"
             ],
             [
              0.7777777777777778,
              "#fb9f3a"
             ],
             [
              0.8888888888888888,
              "#fdca26"
             ],
             [
              1,
              "#f0f921"
             ]
            ],
            "type": "contour"
           }
          ],
          "contourcarpet": [
           {
            "colorbar": {
             "outlinewidth": 0,
             "ticks": ""
            },
            "type": "contourcarpet"
           }
          ],
          "heatmap": [
           {
            "colorbar": {
             "outlinewidth": 0,
             "ticks": ""
            },
            "colorscale": [
             [
              0,
              "#0d0887"
             ],
             [
              0.1111111111111111,
              "#46039f"
             ],
             [
              0.2222222222222222,
              "#7201a8"
             ],
             [
              0.3333333333333333,
              "#9c179e"
             ],
             [
              0.4444444444444444,
              "#bd3786"
             ],
             [
              0.5555555555555556,
              "#d8576b"
             ],
             [
              0.6666666666666666,
              "#ed7953"
             ],
             [
              0.7777777777777778,
              "#fb9f3a"
             ],
             [
              0.8888888888888888,
              "#fdca26"
             ],
             [
              1,
              "#f0f921"
             ]
            ],
            "type": "heatmap"
           }
          ],
          "heatmapgl": [
           {
            "colorbar": {
             "outlinewidth": 0,
             "ticks": ""
            },
            "colorscale": [
             [
              0,
              "#0d0887"
             ],
             [
              0.1111111111111111,
              "#46039f"
             ],
             [
              0.2222222222222222,
              "#7201a8"
             ],
             [
              0.3333333333333333,
              "#9c179e"
             ],
             [
              0.4444444444444444,
              "#bd3786"
             ],
             [
              0.5555555555555556,
              "#d8576b"
             ],
             [
              0.6666666666666666,
              "#ed7953"
             ],
             [
              0.7777777777777778,
              "#fb9f3a"
             ],
             [
              0.8888888888888888,
              "#fdca26"
             ],
             [
              1,
              "#f0f921"
             ]
            ],
            "type": "heatmapgl"
           }
          ],
          "histogram": [
           {
            "marker": {
             "pattern": {
              "fillmode": "overlay",
              "size": 10,
              "solidity": 0.2
             }
            },
            "type": "histogram"
           }
          ],
          "histogram2d": [
           {
            "colorbar": {
             "outlinewidth": 0,
             "ticks": ""
            },
            "colorscale": [
             [
              0,
              "#0d0887"
             ],
             [
              0.1111111111111111,
              "#46039f"
             ],
             [
              0.2222222222222222,
              "#7201a8"
             ],
             [
              0.3333333333333333,
              "#9c179e"
             ],
             [
              0.4444444444444444,
              "#bd3786"
             ],
             [
              0.5555555555555556,
              "#d8576b"
             ],
             [
              0.6666666666666666,
              "#ed7953"
             ],
             [
              0.7777777777777778,
              "#fb9f3a"
             ],
             [
              0.8888888888888888,
              "#fdca26"
             ],
             [
              1,
              "#f0f921"
             ]
            ],
            "type": "histogram2d"
           }
          ],
          "histogram2dcontour": [
           {
            "colorbar": {
             "outlinewidth": 0,
             "ticks": ""
            },
            "colorscale": [
             [
              0,
              "#0d0887"
             ],
             [
              0.1111111111111111,
              "#46039f"
             ],
             [
              0.2222222222222222,
              "#7201a8"
             ],
             [
              0.3333333333333333,
              "#9c179e"
             ],
             [
              0.4444444444444444,
              "#bd3786"
             ],
             [
              0.5555555555555556,
              "#d8576b"
             ],
             [
              0.6666666666666666,
              "#ed7953"
             ],
             [
              0.7777777777777778,
              "#fb9f3a"
             ],
             [
              0.8888888888888888,
              "#fdca26"
             ],
             [
              1,
              "#f0f921"
             ]
            ],
            "type": "histogram2dcontour"
           }
          ],
          "mesh3d": [
           {
            "colorbar": {
             "outlinewidth": 0,
             "ticks": ""
            },
            "type": "mesh3d"
           }
          ],
          "parcoords": [
           {
            "line": {
             "colorbar": {
              "outlinewidth": 0,
              "ticks": ""
             }
            },
            "type": "parcoords"
           }
          ],
          "pie": [
           {
            "automargin": true,
            "type": "pie"
           }
          ],
          "scatter": [
           {
            "fillpattern": {
             "fillmode": "overlay",
             "size": 10,
             "solidity": 0.2
            },
            "type": "scatter"
           }
          ],
          "scatter3d": [
           {
            "line": {
             "colorbar": {
              "outlinewidth": 0,
              "ticks": ""
             }
            },
            "marker": {
             "colorbar": {
              "outlinewidth": 0,
              "ticks": ""
             }
            },
            "type": "scatter3d"
           }
          ],
          "scattercarpet": [
           {
            "marker": {
             "colorbar": {
              "outlinewidth": 0,
              "ticks": ""
             }
            },
            "type": "scattercarpet"
           }
          ],
          "scattergeo": [
           {
            "marker": {
             "colorbar": {
              "outlinewidth": 0,
              "ticks": ""
             }
            },
            "type": "scattergeo"
           }
          ],
          "scattergl": [
           {
            "marker": {
             "colorbar": {
              "outlinewidth": 0,
              "ticks": ""
             }
            },
            "type": "scattergl"
           }
          ],
          "scattermapbox": [
           {
            "marker": {
             "colorbar": {
              "outlinewidth": 0,
              "ticks": ""
             }
            },
            "type": "scattermapbox"
           }
          ],
          "scatterpolar": [
           {
            "marker": {
             "colorbar": {
              "outlinewidth": 0,
              "ticks": ""
             }
            },
            "type": "scatterpolar"
           }
          ],
          "scatterpolargl": [
           {
            "marker": {
             "colorbar": {
              "outlinewidth": 0,
              "ticks": ""
             }
            },
            "type": "scatterpolargl"
           }
          ],
          "scatterternary": [
           {
            "marker": {
             "colorbar": {
              "outlinewidth": 0,
              "ticks": ""
             }
            },
            "type": "scatterternary"
           }
          ],
          "surface": [
           {
            "colorbar": {
             "outlinewidth": 0,
             "ticks": ""
            },
            "colorscale": [
             [
              0,
              "#0d0887"
             ],
             [
              0.1111111111111111,
              "#46039f"
             ],
             [
              0.2222222222222222,
              "#7201a8"
             ],
             [
              0.3333333333333333,
              "#9c179e"
             ],
             [
              0.4444444444444444,
              "#bd3786"
             ],
             [
              0.5555555555555556,
              "#d8576b"
             ],
             [
              0.6666666666666666,
              "#ed7953"
             ],
             [
              0.7777777777777778,
              "#fb9f3a"
             ],
             [
              0.8888888888888888,
              "#fdca26"
             ],
             [
              1,
              "#f0f921"
             ]
            ],
            "type": "surface"
           }
          ],
          "table": [
           {
            "cells": {
             "fill": {
              "color": "#EBF0F8"
             },
             "line": {
              "color": "white"
             }
            },
            "header": {
             "fill": {
              "color": "#C8D4E3"
             },
             "line": {
              "color": "white"
             }
            },
            "type": "table"
           }
          ]
         },
         "layout": {
          "annotationdefaults": {
           "arrowcolor": "#2a3f5f",
           "arrowhead": 0,
           "arrowwidth": 1
          },
          "autotypenumbers": "strict",
          "coloraxis": {
           "colorbar": {
            "outlinewidth": 0,
            "ticks": ""
           }
          },
          "colorscale": {
           "diverging": [
            [
             0,
             "#8e0152"
            ],
            [
             0.1,
             "#c51b7d"
            ],
            [
             0.2,
             "#de77ae"
            ],
            [
             0.3,
             "#f1b6da"
            ],
            [
             0.4,
             "#fde0ef"
            ],
            [
             0.5,
             "#f7f7f7"
            ],
            [
             0.6,
             "#e6f5d0"
            ],
            [
             0.7,
             "#b8e186"
            ],
            [
             0.8,
             "#7fbc41"
            ],
            [
             0.9,
             "#4d9221"
            ],
            [
             1,
             "#276419"
            ]
           ],
           "sequential": [
            [
             0,
             "#0d0887"
            ],
            [
             0.1111111111111111,
             "#46039f"
            ],
            [
             0.2222222222222222,
             "#7201a8"
            ],
            [
             0.3333333333333333,
             "#9c179e"
            ],
            [
             0.4444444444444444,
             "#bd3786"
            ],
            [
             0.5555555555555556,
             "#d8576b"
            ],
            [
             0.6666666666666666,
             "#ed7953"
            ],
            [
             0.7777777777777778,
             "#fb9f3a"
            ],
            [
             0.8888888888888888,
             "#fdca26"
            ],
            [
             1,
             "#f0f921"
            ]
           ],
           "sequentialminus": [
            [
             0,
             "#0d0887"
            ],
            [
             0.1111111111111111,
             "#46039f"
            ],
            [
             0.2222222222222222,
             "#7201a8"
            ],
            [
             0.3333333333333333,
             "#9c179e"
            ],
            [
             0.4444444444444444,
             "#bd3786"
            ],
            [
             0.5555555555555556,
             "#d8576b"
            ],
            [
             0.6666666666666666,
             "#ed7953"
            ],
            [
             0.7777777777777778,
             "#fb9f3a"
            ],
            [
             0.8888888888888888,
             "#fdca26"
            ],
            [
             1,
             "#f0f921"
            ]
           ]
          },
          "colorway": [
           "#636efa",
           "#EF553B",
           "#00cc96",
           "#ab63fa",
           "#FFA15A",
           "#19d3f3",
           "#FF6692",
           "#B6E880",
           "#FF97FF",
           "#FECB52"
          ],
          "font": {
           "color": "#2a3f5f"
          },
          "geo": {
           "bgcolor": "white",
           "lakecolor": "white",
           "landcolor": "#E5ECF6",
           "showlakes": true,
           "showland": true,
           "subunitcolor": "white"
          },
          "hoverlabel": {
           "align": "left"
          },
          "hovermode": "closest",
          "mapbox": {
           "style": "light"
          },
          "paper_bgcolor": "white",
          "plot_bgcolor": "#E5ECF6",
          "polar": {
           "angularaxis": {
            "gridcolor": "white",
            "linecolor": "white",
            "ticks": ""
           },
           "bgcolor": "#E5ECF6",
           "radialaxis": {
            "gridcolor": "white",
            "linecolor": "white",
            "ticks": ""
           }
          },
          "scene": {
           "xaxis": {
            "backgroundcolor": "#E5ECF6",
            "gridcolor": "white",
            "gridwidth": 2,
            "linecolor": "white",
            "showbackground": true,
            "ticks": "",
            "zerolinecolor": "white"
           },
           "yaxis": {
            "backgroundcolor": "#E5ECF6",
            "gridcolor": "white",
            "gridwidth": 2,
            "linecolor": "white",
            "showbackground": true,
            "ticks": "",
            "zerolinecolor": "white"
           },
           "zaxis": {
            "backgroundcolor": "#E5ECF6",
            "gridcolor": "white",
            "gridwidth": 2,
            "linecolor": "white",
            "showbackground": true,
            "ticks": "",
            "zerolinecolor": "white"
           }
          },
          "shapedefaults": {
           "line": {
            "color": "#2a3f5f"
           }
          },
          "ternary": {
           "aaxis": {
            "gridcolor": "white",
            "linecolor": "white",
            "ticks": ""
           },
           "baxis": {
            "gridcolor": "white",
            "linecolor": "white",
            "ticks": ""
           },
           "bgcolor": "#E5ECF6",
           "caxis": {
            "gridcolor": "white",
            "linecolor": "white",
            "ticks": ""
           }
          },
          "title": {
           "x": 0.05
          },
          "xaxis": {
           "automargin": true,
           "gridcolor": "white",
           "linecolor": "white",
           "ticks": "",
           "title": {
            "standoff": 15
           },
           "zerolinecolor": "white",
           "zerolinewidth": 2
          },
          "yaxis": {
           "automargin": true,
           "gridcolor": "white",
           "linecolor": "white",
           "ticks": "",
           "title": {
            "standoff": 15
           },
           "zerolinecolor": "white",
           "zerolinewidth": 2
          }
         }
        }
       }
      },
      "text/html": [
       "<div>                            <div id=\"11ff6e58-e2c2-488d-8e74-27c2dfed6293\" class=\"plotly-graph-div\" style=\"height:525px; width:100%;\"></div>            <script type=\"text/javascript\">                require([\"plotly\"], function(Plotly) {                    window.PLOTLYENV=window.PLOTLYENV || {};                                    if (document.getElementById(\"11ff6e58-e2c2-488d-8e74-27c2dfed6293\")) {                    Plotly.newPlot(                        \"11ff6e58-e2c2-488d-8e74-27c2dfed6293\",                        [{\"hovertemplate\":\"color=b<br>x=%{x}<br>y=%{y}<br>z=%{z}<extra></extra>\",\"legendgroup\":\"b\",\"marker\":{\"color\":\"#636efa\",\"symbol\":\"circle\"},\"mode\":\"markers\",\"name\":\"b\",\"scene\":\"scene\",\"showlegend\":true,\"x\":[44.333091735839844,40.457435607910156,33.803688049316406,37.70640182495117,-23.242748260498047,-16.536378860473633,-26.639406204223633,-26.235504150390625,-29.90022850036621,-26.37323570251465,-27.20089340209961,-33.16579055786133,-28.748905181884766,1.8472745418548584,-23.108692169189453,-27.960628509521484,-30.323383331298828,-30.20924949645996,37.8852424621582,45.62045669555664,38.88289260864258,45.268436431884766],\"y\":[-16.065616607666016,-26.887832641601562,-24.04093360900879,-25.76045036315918,42.207061767578125,39.7817268371582,41.685325622558594,38.417545318603516,40.69866943359375,29.918067932128906,45.814674377441406,43.01995086669922,37.483680725097656,36.98595428466797,35.58406066894531,35.82125473022461,43.325927734375,36.016685485839844,-18.9560604095459,-22.559337615966797,-19.96884536743164,-21.783233642578125],\"z\":[-35.27585220336914,-36.28977584838867,-35.92921829223633,-29.693374633789062,9.598604202270508,7.507610321044922,18.049333572387695,0.5319599509239197,-5.418031215667725,19.883609771728516,3.3972971439361572,1.8324861526489258,7.641336441040039,37.10123062133789,17.477602005004883,22.879167556762695,12.310640335083008,15.093770027160645,-32.34811019897461,-38.71394348144531,-39.53147506713867,-31.28326988220215],\"type\":\"scatter3d\"},{\"hovertemplate\":\"color=k<br>x=%{x}<br>y=%{y}<br>z=%{z}<extra></extra>\",\"legendgroup\":\"k\",\"marker\":{\"color\":\"#EF553B\",\"symbol\":\"circle\"},\"mode\":\"markers\",\"name\":\"k\",\"scene\":\"scene\",\"showlegend\":true,\"x\":[-26.07970428466797,-23.137264251708984,28.775732040405273,14.634523391723633,-22.713090896606445,17.426639556884766,13.864554405212402,13.68448543548584,26.820884704589844,-45.77070617675781,-1.171699047088623,-7.4945387840271,-208.0128936767578,13.204663276672363,16.56028175354004,17.31844139099121,-44.4318962097168,-45.444061279296875,9.953486442565918,21.548961639404297,-22.754709243774414,-19.675548553466797,-17.048694610595703,248.03890991210938,-11.133111953735352,-22.331729888916016,3.4288735389709473,-46.761634826660156,-41.68955993652344,-21.152366638183594,-24.676433563232422,-20.642356872558594,-23.93043327331543,0.24146465957164764,17.866191864013672,-1.3390121459960938,24.904003143310547,-11.62868881225586,-9.822630882263184,5.834759712219238,-15.792283058166504,-51.77715301513672,-0.6624883413314819,-46.94553756713867,-15.436470985412598,64.76774597167969,59.500892639160156,66.0881576538086,61.962703704833984,-33.79261016845703,53.038124084472656,8.942296981811523,-39.95536804199219,14.025867462158203,59.96726989746094,14.397239685058594,26.755842208862305,-22.43345832824707,27.545549392700195,31.907848358154297,-9.995481491088867,-1.3857922554016113,9.78036117553711,-21.858074188232422,25.915071487426758,18.730405807495117,-40.11804962158203,-28.506450653076172,-34.02729797363281,-33.93227005004883,2.2611172199249268,22.715776443481445,-8.779141426086426,-45.456478118896484,13.441794395446777,-1.544874668121338,0.9854949116706848,23.269777297973633,5.376502513885498,9.077073097229004,-14.77304458618164,-30.16083335876465,-30.519485473632812,-4.815279006958008,17.53169059753418,-10.58741569519043,15.022124290466309,17.964502334594727,-12.209628105163574,20.97791290283203,-16.497482299804688,-24.693145751953125,11.588937759399414,8.015403747558594,-34.036502838134766,4.997541427612305,1.6568546295166016,-31.936161041259766,-7.6529107093811035,64.01361083984375,-17.264867782592773,-41.253143310546875,-35.026878356933594,-42.565589904785156,-38.376529693603516,-30.49472999572754,-5.596000671386719,-19.79914665222168,-26.80898666381836,-17.941354751586914,-16.577613830566406,-11.193283081054688,-0.32099810242652893,6.621398448944092,24.73394203186035,33.62289810180664,8.75153923034668,-27.236251831054688,-25.745737075805664,23.10454750061035,23.39938735961914,-26.75934410095215,-37.63077163696289,20.533584594726562,-11.653613090515137,-5.97688102722168,-2.897204875946045,-18.84783172607422,55.97785186767578,58.752845764160156,1.4041728973388672,-31.360368728637695,38.07932662963867,-38.55357360839844,-37.335845947265625,-36.43458938598633,-17.939599990844727,-7.877898693084717,18.785581588745117,54.2212028503418,381.4656677246094,-40.424808502197266,-48.15592956542969,-41.902259826660156,-33.98460388183594,-23.045185089111328,-29.593191146850586,-25.055301666259766,-10.47549057006836,415.110107421875,26.81038475036621,-19.80034637451172],\"y\":[57.9052848815918,41.145931243896484,-23.615625381469727,-24.747774124145508,48.44337844848633,-8.078539848327637,-16.234683990478516,-16.65142059326172,-18.213123321533203,0.005561981815844774,-12.486394882202148,37.99913787841797,-1.0894535779953003,1.5339051485061646,42.36664962768555,-3.891378164291382,-1.6319793462753296,-12.236234664916992,11.983192443847656,-15.966225624084473,-39.71218490600586,-46.490745544433594,-40.960365295410156,56.483543395996094,27.46794891357422,24.98116111755371,-27.541765213012695,-10.050824165344238,-33.374263763427734,-1.0609145164489746,2.9038076400756836,-1.4680218696594238,-6.438807487487793,-19.564197540283203,43.52997589111328,40.3387451171875,46.778594970703125,22.43937110900879,-44.19876480102539,-11.952911376953125,-45.924041748046875,-8.534860610961914,-40.37160110473633,-11.20909309387207,25.85468292236328,-22.06831932067871,-17.188066482543945,-14.926514625549316,-18.041595458984375,-37.05177307128906,65.92130279541016,7.534327507019043,1.1466240882873535,-16.16900062561035,-24.883922576904297,35.917659759521484,323.65106201171875,7.618286609649658,23.183429718017578,20.72772979736328,29.973129272460938,39.804691314697266,46.97278594970703,16.114246368408203,50.289703369140625,-11.307856559753418,-27.03129768371582,-29.73209571838379,-25.437294006347656,-31.93608283996582,-17.387208938598633,-16.763534545898438,-45.835453033447266,-7.429357051849365,47.812843322753906,-48.52754211425781,-11.282980918884277,26.267967224121094,2.544459342956543,-23.289091110229492,33.266868591308594,59.28567123413086,13.105178833007812,36.7418327331543,48.597740173339844,31.693939208984375,-6.373424530029297,-11.542818069458008,26.943382263183594,44.2031364440918,20.18877601623535,14.870691299438477,-9.077815055847168,-17.273855209350586,-13.740813255310059,-5.114279270172119,-0.5948383808135986,49.017887115478516,36.686214447021484,-77.06538391113281,23.205875396728516,-4.282449245452881,-23.346933364868164,-0.8139142394065857,-8.507059097290039,-19.597965240478516,-49.6814079284668,24.45499038696289,19.87933349609375,25.582176208496094,29.51909065246582,-50.220279693603516,-4.080954074859619,42.94888687133789,48.741004943847656,-19.28281021118164,-3.7474558353424072,-33.49415588378906,54.79482650756836,43.62117385864258,-23.556793212890625,1.2707120180130005,-18.816558837890625,-22.3223934173584,-8.06421184539795,-53.299869537353516,-48.39748001098633,55.45282745361328,-23.935190200805664,-28.484830856323242,-13.349055290222168,-16.900516510009766,12.369837760925293,-17.040021896362305,-3.4114015102386475,-0.8281712532043457,28.848953247070312,41.184539794921875,48.94527053833008,-24.387292861938477,-274.2107849121094,-10.598328590393066,-6.341794967651367,-26.568504333496094,-31.637475967407227,-35.935401916503906,-37.55329895019531,-42.64028549194336,-49.00499725341797,-81.22452545166016,-14.315642356872559,-31.96183967590332],\"z\":[-0.0686807930469513,-8.381636619567871,-12.154041290283203,-24.806499481201172,-9.379295349121094,22.01329803466797,20.875791549682617,27.24579620361328,-10.473889350891113,-24.07701873779297,54.73850631713867,7.176764488220215,-63.964290618896484,25.220993041992188,-12.137078285217285,1.0731801986694336,-33.48440933227539,-12.849360466003418,63.74290466308594,-41.05643844604492,24.497554779052734,26.81116485595703,29.673635482788086,35.901893615722656,41.595542907714844,10.945697784423828,-11.080911636352539,-26.324810028076172,25.652063369750977,-4.917496204376221,-1.7133527994155884,2.2486515045166016,2.4493980407714844,-16.09330940246582,-20.194133758544922,6.251334190368652,-5.3810200691223145,35.52888107299805,40.205631256103516,56.66683578491211,41.02446746826172,-34.108428955078125,-14.147403717041016,-35.515663146972656,13.196861267089844,3.99621319770813,5.511070251464844,3.705927610397339,-1.25104558467865,-24.968191146850586,56.08290100097656,23.53043556213379,-18.30194091796875,-35.0045166015625,12.111656188964844,-7.007053852081299,-19.59468650817871,-9.950779914855957,-18.922168731689453,-15.729670524597168,35.11084747314453,-17.78889274597168,-13.795010566711426,36.30066680908203,-13.834531784057617,-38.57642364501953,18.542598724365234,23.336322784423828,22.29064178466797,20.226146697998047,58.61332702636719,-34.550018310546875,22.51950454711914,-8.673336029052734,-25.050817489624023,21.27958869934082,61.563358306884766,-6.786925315856934,27.284868240356445,-8.402348518371582,39.01411437988281,-3.582852602005005,36.684425354003906,0.16364941000938416,-6.8527750968933105,11.128562927246094,-47.798248291015625,-47.07600021362305,26.77010154724121,-0.05764567852020264,41.59455490112305,42.21770477294922,21.482402801513672,24.03944969177246,11.827498435974121,30.011363983154297,-52.25743865966797,-3.3778865337371826,-6.647945404052734,54.870849609375,24.0039005279541,-2.278958559036255,10.406377792358398,-9.809110641479492,-6.71610164642334,13.87594985961914,-13.404658317565918,17.477005004882812,38.8416748046875,37.14581298828125,7.07971715927124,40.294193267822266,26.273088455200195,-17.94472312927246,-20.483386993408203,-10.593071937561035,6.627070903778076,7.025057315826416,-7.352822780609131,-14.752630233764648,-6.496891021728516,-7.954247951507568,14.885250091552734,-11.92890739440918,39.66081619262695,24.542102813720703,28.15369415283203,-10.445942878723145,0.8650567531585693,4.5400614738464355,48.11505889892578,5.761484622955322,75.83161163330078,7.203179359436035,-12.809462547302246,-6.269811630249023,27.593807220458984,-2.5195364952087402,-15.422608375549316,7.392119884490967,74.76422882080078,1.861651062965393,-21.633079528808594,25.131973266601562,27.933773040771484,30.49177360534668,26.942964553833008,30.633563995361328,28.799419403076172,-100.28587341308594,-24.19405174255371,4.390992641448975],\"type\":\"scatter3d\"},{\"hovertemplate\":\"color=y<br>x=%{x}<br>y=%{y}<br>z=%{z}<extra></extra>\",\"legendgroup\":\"y\",\"marker\":{\"color\":\"#00cc96\",\"symbol\":\"circle\"},\"mode\":\"markers\",\"name\":\"y\",\"scene\":\"scene\",\"showlegend\":true,\"x\":[20.669437408447266,23.285356521606445,14.318075180053711,-2.723491907119751,0.021394478157162666,5.590156078338623,-1.939184546470642,4.209362983703613,-3.345693588256836,10.623516082763672,25.906238555908203,29.980424880981445,23.861555099487305,16.521608352661133,-0.4018668234348297,17.176090240478516,19.18052101135254,25.1873836517334,25.11918830871582,3.197556734085083,2.408815383911133,8.797558784484863],\"y\":[11.328883171081543,1.5483590364456177,12.892512321472168,-2.144113302230835,11.872949600219727,6.188862323760986,4.736813068389893,-0.06579822301864624,3.805025100708008,20.047807693481445,8.014220237731934,11.130072593688965,12.887977600097656,25.440570831298828,-2.7355544567108154,2.027204751968384,7.468051910400391,5.956216335296631,24.613964080810547,6.5722198486328125,-0.5861486792564392,10.15206241607666],\"z\":[1.0707563161849976,-5.909092903137207,-4.7671003341674805,62.370765686035156,64.165771484375,65.8389892578125,65.69849395751953,60.751522064208984,58.518306732177734,-46.11989974975586,-0.7611690759658813,-14.287708282470703,-4.743813514709473,-8.03001880645752,55.38503646850586,-2.067173719406128,-5.702500343322754,-10.454730033874512,-12.897253036499023,58.752525329589844,68.0643539428711,-2.626490354537964],\"type\":\"scatter3d\"},{\"hovertemplate\":\"color=c<br>x=%{x}<br>y=%{y}<br>z=%{z}<extra></extra>\",\"legendgroup\":\"c\",\"marker\":{\"color\":\"#ab63fa\",\"symbol\":\"circle\"},\"mode\":\"markers\",\"name\":\"c\",\"scene\":\"scene\",\"showlegend\":true,\"x\":[36.54509735107422,-2.703735828399658,41.28952407836914,-15.631858825683594,-10.13161849975586,-5.927724838256836,-18.88324737548828,-11.58227252960205,-12.058188438415527,-1.0446034669876099,1.3474305868148804,-5.697696208953857,-12.084038734436035,36.008670806884766,43.15171432495117,31.870162963867188,-11.924895286560059,32.05215072631836,38.23526382446289,-2.21939754486084,47.618873596191406,41.8694953918457,-5.378969192504883,41.292396545410156,-8.751496315002441,-17.237361907958984,26.21324920654297,34.59928894042969,32.43825149536133,19.50165557861328,36.883968353271484,13.17175579071045,-9.652202606201172,1.1367303133010864,-2.153221368789673,38.71916961669922,24.061941146850586,42.601497650146484,30.598115921020508,40.338558197021484],\"y\":[-0.3089427649974823,-56.17182540893555,-2.9423906803131104,-44.6510009765625,-49.06418228149414,-46.09623718261719,-38.8814811706543,-48.08837890625,-43.59121322631836,-46.24006652832031,-52.468177795410156,-57.46699905395508,-39.96914291381836,-1.1869007349014282,-15.870211601257324,-14.658892631530762,2.9258534908294678,10.0380277633667,6.456844806671143,-52.670928955078125,-0.6271780133247375,-6.4476189613342285,-51.435890197753906,4.160768508911133,-54.678504943847656,0.4032908082008362,14.543256759643555,-8.765073776245117,5.644442081451416,10.30224895477295,-14.211349487304688,7.433108329772949,-43.16789245605469,-47.07933044433594,-50.63668441772461,-7.559817314147949,8.682747840881348,0.9106256365776062,12.585070610046387,-14.962660789489746],\"z\":[32.50771713256836,-0.5024762749671936,22.107019424438477,1.9737281799316406,1.7497535943984985,-2.0498650074005127,-1.3960741758346558,-5.696078300476074,12.749641418457031,13.549424171447754,14.621380805969238,-10.17265510559082,-1.1293432712554932,16.080045700073242,21.93027114868164,17.53269386291504,30.198013305664062,29.09090805053711,31.898487091064453,-6.575531482696533,17.561880111694336,15.137030601501465,14.846960067749023,18.760896682739258,-3.972951889038086,36.07051467895508,30.036157608032227,18.822589874267578,34.307621002197266,27.460451126098633,23.956201553344727,29.567874908447266,7.247771739959717,-0.7055607438087463,8.110678672790527,31.586631774902344,32.740962982177734,11.661307334899902,35.190547943115234,15.919598579406738],\"type\":\"scatter3d\"},{\"hovertemplate\":\"color=r<br>x=%{x}<br>y=%{y}<br>z=%{z}<extra></extra>\",\"legendgroup\":\"r\",\"marker\":{\"color\":\"#FFA15A\",\"symbol\":\"circle\"},\"mode\":\"markers\",\"name\":\"r\",\"scene\":\"scene\",\"showlegend\":true,\"x\":[38.31059646606445,42.15549087524414,28.03256607055664,47.94922637939453,48.517234802246094,53.56420135498047,49.24894714355469,39.876373291015625,3.8039510250091553,-1.345916748046875,4.2230706214904785,0.5371698141098022,34.451995849609375,-2.745018243789673,30.39902114868164,33.68363571166992,31.825847625732422,46.829341888427734,32.876258850097656,40.25762939453125,-6.5025105476379395,-199.68650817871094],\"y\":[18.12321662902832,12.345269203186035,16.613340377807617,18.092037200927734,7.910039901733398,13.618258476257324,13.309557914733887,18.553199768066406,-13.502406120300293,-15.615185737609863,-19.675338745117188,-28.662050247192383,13.492189407348633,-23.5835018157959,22.391983032226562,19.01876449584961,15.319490432739258,12.536465644836426,20.97112464904785,13.543110847473145,-18.99620246887207,-62.791770935058594],\"z\":[-28.98185157775879,-31.109804153442383,-38.44881820678711,-29.371604919433594,-30.111501693725586,-28.196332931518555,-34.658103942871094,-36.07650375366211,-18.42613983154297,-22.354541778564453,-22.42157554626465,-17.531978607177734,-37.39509963989258,-21.056915283203125,-24.70922088623047,-41.806671142578125,-30.602500915527344,-24.875102996826172,-35.24464416503906,-43.06795120239258,-17.26817512512207,2.6602039337158203],\"type\":\"scatter3d\"},{\"hovertemplate\":\"color=g<br>x=%{x}<br>y=%{y}<br>z=%{z}<extra></extra>\",\"legendgroup\":\"g\",\"marker\":{\"color\":\"#19d3f3\",\"symbol\":\"circle\"},\"mode\":\"markers\",\"name\":\"g\",\"scene\":\"scene\",\"showlegend\":true,\"x\":[5.292171955108643,10.232571601867676,10.899405479431152,3.543884038925171,-1.8564423322677612,-2.6294307708740234,6.936176300048828,3.9518167972564697,11.196072578430176,-3.6126821041107178,-2.966200113296509,5.697119235992432,5.251281261444092,5.046977519989014,10.773776054382324,2.2687695026397705,2.318570613861084,1.369336724281311],\"y\":[40.070701599121094,-8.598394393920898,45.298683166503906,-17.513856887817383,-13.501235961914062,-5.393011093139648,-12.458183288574219,45.92818832397461,-13.020894050598145,-10.280592918395996,-6.982762336730957,-5.732648849487305,43.70981216430664,48.79405212402344,46.659915924072266,-0.25966185331344604,44.1308479309082,-6.4299726486206055],\"z\":[-7.940239429473877,-43.43484115600586,2.6452038288116455,-32.82252883911133,-33.98850631713867,-48.160064697265625,-35.49327850341797,-4.722923755645752,-30.00790023803711,-40.57453155517578,-34.63541793823242,-48.56654739379883,6.578206539154053,6.939187049865723,-5.369344234466553,-45.80250549316406,-13.173526763916016,-41.26649475097656],\"type\":\"scatter3d\"},{\"hovertemplate\":\"color=m<br>x=%{x}<br>y=%{y}<br>z=%{z}<extra></extra>\",\"legendgroup\":\"m\",\"marker\":{\"color\":\"#FF6692\",\"symbol\":\"circle\"},\"mode\":\"markers\",\"name\":\"m\",\"scene\":\"scene\",\"showlegend\":true,\"x\":[-31.07154083251953,-32.82084655761719,-36.73927307128906,-40.142486572265625,-33.7164421081543,-35.0137825012207,-24.53474998474121,-2.322382688522339,2.421306610107422,-41.44819259643555,-20.456636428833008,-23.287139892578125,-17.985692977905273,-19.69509506225586,-39.52353286743164,2.902172803878784,-1.4471601247787476,-2.0200984477996826,3.8089399337768555,3.9575343132019043,-27.04729461669922,-30.361921310424805,-25.008546829223633,-24.915658950805664],\"y\":[7.372477054595947,4.931432247161865,2.0200445652008057,5.8658294677734375,13.701102256774902,11.746820449829102,12.423872947692871,-15.545835494995117,-10.718011856079102,-3.967625617980957,18.661483764648438,22.752838134765625,18.001659393310547,12.159923553466797,8.35811996459961,-12.494165420532227,-9.074697494506836,-15.423994064331055,-19.140701293945312,-14.21461296081543,14.247503280639648,11.159634590148926,6.779940128326416,11.546669960021973],\"z\":[-37.819210052490234,-31.219423294067383,-36.9051399230957,-30.6036376953125,-38.153995513916016,-31.614683151245117,-25.901315689086914,36.65970993041992,25.85362434387207,-23.866294860839844,-35.152748107910156,-29.71328353881836,-28.8810977935791,-32.26833724975586,-37.261436462402344,40.93939971923828,32.39864730834961,29.343456268310547,40.06369400024414,33.40922164916992,-32.98579025268555,-23.936220169067383,-21.04807472229004,-17.45525360107422],\"type\":\"scatter3d\"}],                        {\"template\":{\"data\":{\"histogram2dcontour\":[{\"type\":\"histogram2dcontour\",\"colorbar\":{\"outlinewidth\":0,\"ticks\":\"\"},\"colorscale\":[[0.0,\"#0d0887\"],[0.1111111111111111,\"#46039f\"],[0.2222222222222222,\"#7201a8\"],[0.3333333333333333,\"#9c179e\"],[0.4444444444444444,\"#bd3786\"],[0.5555555555555556,\"#d8576b\"],[0.6666666666666666,\"#ed7953\"],[0.7777777777777778,\"#fb9f3a\"],[0.8888888888888888,\"#fdca26\"],[1.0,\"#f0f921\"]]}],\"choropleth\":[{\"type\":\"choropleth\",\"colorbar\":{\"outlinewidth\":0,\"ticks\":\"\"}}],\"histogram2d\":[{\"type\":\"histogram2d\",\"colorbar\":{\"outlinewidth\":0,\"ticks\":\"\"},\"colorscale\":[[0.0,\"#0d0887\"],[0.1111111111111111,\"#46039f\"],[0.2222222222222222,\"#7201a8\"],[0.3333333333333333,\"#9c179e\"],[0.4444444444444444,\"#bd3786\"],[0.5555555555555556,\"#d8576b\"],[0.6666666666666666,\"#ed7953\"],[0.7777777777777778,\"#fb9f3a\"],[0.8888888888888888,\"#fdca26\"],[1.0,\"#f0f921\"]]}],\"heatmap\":[{\"type\":\"heatmap\",\"colorbar\":{\"outlinewidth\":0,\"ticks\":\"\"},\"colorscale\":[[0.0,\"#0d0887\"],[0.1111111111111111,\"#46039f\"],[0.2222222222222222,\"#7201a8\"],[0.3333333333333333,\"#9c179e\"],[0.4444444444444444,\"#bd3786\"],[0.5555555555555556,\"#d8576b\"],[0.6666666666666666,\"#ed7953\"],[0.7777777777777778,\"#fb9f3a\"],[0.8888888888888888,\"#fdca26\"],[1.0,\"#f0f921\"]]}],\"heatmapgl\":[{\"type\":\"heatmapgl\",\"colorbar\":{\"outlinewidth\":0,\"ticks\":\"\"},\"colorscale\":[[0.0,\"#0d0887\"],[0.1111111111111111,\"#46039f\"],[0.2222222222222222,\"#7201a8\"],[0.3333333333333333,\"#9c179e\"],[0.4444444444444444,\"#bd3786\"],[0.5555555555555556,\"#d8576b\"],[0.6666666666666666,\"#ed7953\"],[0.7777777777777778,\"#fb9f3a\"],[0.8888888888888888,\"#fdca26\"],[1.0,\"#f0f921\"]]}],\"contourcarpet\":[{\"type\":\"contourcarpet\",\"colorbar\":{\"outlinewidth\":0,\"ticks\":\"\"}}],\"contour\":[{\"type\":\"contour\",\"colorbar\":{\"outlinewidth\":0,\"ticks\":\"\"},\"colorscale\":[[0.0,\"#0d0887\"],[0.1111111111111111,\"#46039f\"],[0.2222222222222222,\"#7201a8\"],[0.3333333333333333,\"#9c179e\"],[0.4444444444444444,\"#bd3786\"],[0.5555555555555556,\"#d8576b\"],[0.6666666666666666,\"#ed7953\"],[0.7777777777777778,\"#fb9f3a\"],[0.8888888888888888,\"#fdca26\"],[1.0,\"#f0f921\"]]}],\"surface\":[{\"type\":\"surface\",\"colorbar\":{\"outlinewidth\":0,\"ticks\":\"\"},\"colorscale\":[[0.0,\"#0d0887\"],[0.1111111111111111,\"#46039f\"],[0.2222222222222222,\"#7201a8\"],[0.3333333333333333,\"#9c179e\"],[0.4444444444444444,\"#bd3786\"],[0.5555555555555556,\"#d8576b\"],[0.6666666666666666,\"#ed7953\"],[0.7777777777777778,\"#fb9f3a\"],[0.8888888888888888,\"#fdca26\"],[1.0,\"#f0f921\"]]}],\"mesh3d\":[{\"type\":\"mesh3d\",\"colorbar\":{\"outlinewidth\":0,\"ticks\":\"\"}}],\"scatter\":[{\"fillpattern\":{\"fillmode\":\"overlay\",\"size\":10,\"solidity\":0.2},\"type\":\"scatter\"}],\"parcoords\":[{\"type\":\"parcoords\",\"line\":{\"colorbar\":{\"outlinewidth\":0,\"ticks\":\"\"}}}],\"scatterpolargl\":[{\"type\":\"scatterpolargl\",\"marker\":{\"colorbar\":{\"outlinewidth\":0,\"ticks\":\"\"}}}],\"bar\":[{\"error_x\":{\"color\":\"#2a3f5f\"},\"error_y\":{\"color\":\"#2a3f5f\"},\"marker\":{\"line\":{\"color\":\"#E5ECF6\",\"width\":0.5},\"pattern\":{\"fillmode\":\"overlay\",\"size\":10,\"solidity\":0.2}},\"type\":\"bar\"}],\"scattergeo\":[{\"type\":\"scattergeo\",\"marker\":{\"colorbar\":{\"outlinewidth\":0,\"ticks\":\"\"}}}],\"scatterpolar\":[{\"type\":\"scatterpolar\",\"marker\":{\"colorbar\":{\"outlinewidth\":0,\"ticks\":\"\"}}}],\"histogram\":[{\"marker\":{\"pattern\":{\"fillmode\":\"overlay\",\"size\":10,\"solidity\":0.2}},\"type\":\"histogram\"}],\"scattergl\":[{\"type\":\"scattergl\",\"marker\":{\"colorbar\":{\"outlinewidth\":0,\"ticks\":\"\"}}}],\"scatter3d\":[{\"type\":\"scatter3d\",\"line\":{\"colorbar\":{\"outlinewidth\":0,\"ticks\":\"\"}},\"marker\":{\"colorbar\":{\"outlinewidth\":0,\"ticks\":\"\"}}}],\"scattermapbox\":[{\"type\":\"scattermapbox\",\"marker\":{\"colorbar\":{\"outlinewidth\":0,\"ticks\":\"\"}}}],\"scatterternary\":[{\"type\":\"scatterternary\",\"marker\":{\"colorbar\":{\"outlinewidth\":0,\"ticks\":\"\"}}}],\"scattercarpet\":[{\"type\":\"scattercarpet\",\"marker\":{\"colorbar\":{\"outlinewidth\":0,\"ticks\":\"\"}}}],\"carpet\":[{\"aaxis\":{\"endlinecolor\":\"#2a3f5f\",\"gridcolor\":\"white\",\"linecolor\":\"white\",\"minorgridcolor\":\"white\",\"startlinecolor\":\"#2a3f5f\"},\"baxis\":{\"endlinecolor\":\"#2a3f5f\",\"gridcolor\":\"white\",\"linecolor\":\"white\",\"minorgridcolor\":\"white\",\"startlinecolor\":\"#2a3f5f\"},\"type\":\"carpet\"}],\"table\":[{\"cells\":{\"fill\":{\"color\":\"#EBF0F8\"},\"line\":{\"color\":\"white\"}},\"header\":{\"fill\":{\"color\":\"#C8D4E3\"},\"line\":{\"color\":\"white\"}},\"type\":\"table\"}],\"barpolar\":[{\"marker\":{\"line\":{\"color\":\"#E5ECF6\",\"width\":0.5},\"pattern\":{\"fillmode\":\"overlay\",\"size\":10,\"solidity\":0.2}},\"type\":\"barpolar\"}],\"pie\":[{\"automargin\":true,\"type\":\"pie\"}]},\"layout\":{\"autotypenumbers\":\"strict\",\"colorway\":[\"#636efa\",\"#EF553B\",\"#00cc96\",\"#ab63fa\",\"#FFA15A\",\"#19d3f3\",\"#FF6692\",\"#B6E880\",\"#FF97FF\",\"#FECB52\"],\"font\":{\"color\":\"#2a3f5f\"},\"hovermode\":\"closest\",\"hoverlabel\":{\"align\":\"left\"},\"paper_bgcolor\":\"white\",\"plot_bgcolor\":\"#E5ECF6\",\"polar\":{\"bgcolor\":\"#E5ECF6\",\"angularaxis\":{\"gridcolor\":\"white\",\"linecolor\":\"white\",\"ticks\":\"\"},\"radialaxis\":{\"gridcolor\":\"white\",\"linecolor\":\"white\",\"ticks\":\"\"}},\"ternary\":{\"bgcolor\":\"#E5ECF6\",\"aaxis\":{\"gridcolor\":\"white\",\"linecolor\":\"white\",\"ticks\":\"\"},\"baxis\":{\"gridcolor\":\"white\",\"linecolor\":\"white\",\"ticks\":\"\"},\"caxis\":{\"gridcolor\":\"white\",\"linecolor\":\"white\",\"ticks\":\"\"}},\"coloraxis\":{\"colorbar\":{\"outlinewidth\":0,\"ticks\":\"\"}},\"colorscale\":{\"sequential\":[[0.0,\"#0d0887\"],[0.1111111111111111,\"#46039f\"],[0.2222222222222222,\"#7201a8\"],[0.3333333333333333,\"#9c179e\"],[0.4444444444444444,\"#bd3786\"],[0.5555555555555556,\"#d8576b\"],[0.6666666666666666,\"#ed7953\"],[0.7777777777777778,\"#fb9f3a\"],[0.8888888888888888,\"#fdca26\"],[1.0,\"#f0f921\"]],\"sequentialminus\":[[0.0,\"#0d0887\"],[0.1111111111111111,\"#46039f\"],[0.2222222222222222,\"#7201a8\"],[0.3333333333333333,\"#9c179e\"],[0.4444444444444444,\"#bd3786\"],[0.5555555555555556,\"#d8576b\"],[0.6666666666666666,\"#ed7953\"],[0.7777777777777778,\"#fb9f3a\"],[0.8888888888888888,\"#fdca26\"],[1.0,\"#f0f921\"]],\"diverging\":[[0,\"#8e0152\"],[0.1,\"#c51b7d\"],[0.2,\"#de77ae\"],[0.3,\"#f1b6da\"],[0.4,\"#fde0ef\"],[0.5,\"#f7f7f7\"],[0.6,\"#e6f5d0\"],[0.7,\"#b8e186\"],[0.8,\"#7fbc41\"],[0.9,\"#4d9221\"],[1,\"#276419\"]]},\"xaxis\":{\"gridcolor\":\"white\",\"linecolor\":\"white\",\"ticks\":\"\",\"title\":{\"standoff\":15},\"zerolinecolor\":\"white\",\"automargin\":true,\"zerolinewidth\":2},\"yaxis\":{\"gridcolor\":\"white\",\"linecolor\":\"white\",\"ticks\":\"\",\"title\":{\"standoff\":15},\"zerolinecolor\":\"white\",\"automargin\":true,\"zerolinewidth\":2},\"scene\":{\"xaxis\":{\"backgroundcolor\":\"#E5ECF6\",\"gridcolor\":\"white\",\"linecolor\":\"white\",\"showbackground\":true,\"ticks\":\"\",\"zerolinecolor\":\"white\",\"gridwidth\":2},\"yaxis\":{\"backgroundcolor\":\"#E5ECF6\",\"gridcolor\":\"white\",\"linecolor\":\"white\",\"showbackground\":true,\"ticks\":\"\",\"zerolinecolor\":\"white\",\"gridwidth\":2},\"zaxis\":{\"backgroundcolor\":\"#E5ECF6\",\"gridcolor\":\"white\",\"linecolor\":\"white\",\"showbackground\":true,\"ticks\":\"\",\"zerolinecolor\":\"white\",\"gridwidth\":2}},\"shapedefaults\":{\"line\":{\"color\":\"#2a3f5f\"}},\"annotationdefaults\":{\"arrowcolor\":\"#2a3f5f\",\"arrowhead\":0,\"arrowwidth\":1},\"geo\":{\"bgcolor\":\"white\",\"landcolor\":\"#E5ECF6\",\"subunitcolor\":\"white\",\"showland\":true,\"showlakes\":true,\"lakecolor\":\"white\"},\"title\":{\"x\":0.05},\"mapbox\":{\"style\":\"light\"}}},\"scene\":{\"domain\":{\"x\":[0.0,1.0],\"y\":[0.0,1.0]},\"xaxis\":{\"title\":{\"text\":\"x\"}},\"yaxis\":{\"title\":{\"text\":\"y\"}},\"zaxis\":{\"title\":{\"text\":\"z\"}}},\"legend\":{\"title\":{\"text\":\"color\"},\"tracegroupgap\":0},\"margin\":{\"t\":60}},                        {\"responsive\": true}                    ).then(function(){\n",
       "                            \n",
       "var gd = document.getElementById('11ff6e58-e2c2-488d-8e74-27c2dfed6293');\n",
       "var x = new MutationObserver(function (mutations, observer) {{\n",
       "        var display = window.getComputedStyle(gd).display;\n",
       "        if (!display || display === 'none') {{\n",
       "            console.log([gd, 'removed!']);\n",
       "            Plotly.purge(gd);\n",
       "            observer.disconnect();\n",
       "        }}\n",
       "}});\n",
       "\n",
       "// Listen for the removal of the full notebook cells\n",
       "var notebookContainer = gd.closest('#notebook-container');\n",
       "if (notebookContainer) {{\n",
       "    x.observe(notebookContainer, {childList: true});\n",
       "}}\n",
       "\n",
       "// Listen for the clearing of the current output cell\n",
       "var outputEl = gd.closest('.output');\n",
       "if (outputEl) {{\n",
       "    x.observe(outputEl, {childList: true});\n",
       "}}\n",
       "\n",
       "                        })                };                });            </script>        </div>"
      ]
     },
     "metadata": {},
     "output_type": "display_data"
    }
   ],
   "source": [
    "# plot using tsne \n",
    "X_embedded  = TSNE(n_components=3, perplexity=10,random_state=24).fit_transform( X )\n",
    "colors = np.array([x for x in 'bgrcmykbgrcmykbgrcmykbgrcmyk'])\n",
    "fig = px.scatter_3d(x=X_embedded [:,0],y=X_embedded [:,1],z=X_embedded [:,2],color=colors[optics_clustering.labels_])\n",
    "fig.show()"
   ]
  },
  {
   "cell_type": "markdown",
   "metadata": {},
   "source": [
    "### Spectral Clustering\n",
    "\n",
    "Spectral CLustering is a graph based clustering technique which is used to identify communities of nodes in a graph based on the edges connecting the nodes. It uses an information from the eigenvalues of special matrices that are built from the graph/data set."
   ]
  },
  {
   "cell_type": "code",
   "execution_count": 85,
   "metadata": {},
   "outputs": [],
   "source": [
    "spectral_grid = {\n",
    "        \"eigen_solver\" : ['arpack','amg'],\n",
    "        \"n_clusters\" : range(2,10),\n",
    "        \"n_init\" : range(2,6),\n",
    "    \n",
    "        \"n_neighbors\" : range(7,20,2),\n",
    "        \"affinity\": ['nearest_neighbors','rbf' 'precomputed'],\n",
    "        \"assign_labels\" : ['kmeans', 'discretize', 'cluster_qr'],\n",
    "       }\n",
    "#spectral_grid"
   ]
  },
  {
   "cell_type": "code",
   "execution_count": 87,
   "metadata": {},
   "outputs": [],
   "source": [
    "spectral_model = SpectralClustering()\n",
    "spectral_params = GridSearchCV(spectral_model,spectral_grid,scoring=silhouette_score2,cv= 10).fit(X, y)"
   ]
  },
  {
   "cell_type": "code",
   "execution_count": 88,
   "metadata": {},
   "outputs": [
    {
     "data": {
      "text/plain": [
       "(0.47488099829941144,\n",
       " {'affinity': 'nearest_neighbors',\n",
       "  'assign_labels': 'kmeans',\n",
       "  'eigen_solver': 'arpack',\n",
       "  'n_clusters': 8,\n",
       "  'n_init': 2,\n",
       "  'n_neighbors': 7})"
      ]
     },
     "execution_count": 88,
     "metadata": {},
     "output_type": "execute_result"
    }
   ],
   "source": [
    "spectral_params.best_score_, spectral_params.best_params_"
   ]
  },
  {
   "cell_type": "code",
   "execution_count": 89,
   "metadata": {},
   "outputs": [],
   "source": [
    "Spectral_clustering = SpectralClustering(affinity = spectral_params.best_params_['affinity'],\n",
    "                           assign_labels = spectral_params.best_params_['assign_labels'],\n",
    "                           eigen_solver = spectral_params.best_params_['eigen_solver'],\n",
    "                           n_clusters = spectral_params.best_params_['n_clusters'],\n",
    "                           n_init = spectral_params.best_params_['n_init'],\n",
    "                           n_neighbors = spectral_params.best_params_['n_neighbors']\n",
    "                          ).fit(X)\n",
    "cluster = list(Spectral_clustering.labels_)\n",
    "values, counts = np.unique(cluster, return_counts=True)      \n",
    "Spectral_dataset = pd.DataFrame(X.copy())\n",
    "Spectral_dataset.loc[:,'Cluster'] = Spectral_clustering.labels_\n"
   ]
  },
  {
   "cell_type": "code",
   "execution_count": 90,
   "metadata": {},
   "outputs": [
    {
     "data": {
      "text/html": [
       "<div>\n",
       "<style scoped>\n",
       "    .dataframe tbody tr th:only-of-type {\n",
       "        vertical-align: middle;\n",
       "    }\n",
       "\n",
       "    .dataframe tbody tr th {\n",
       "        vertical-align: top;\n",
       "    }\n",
       "\n",
       "    .dataframe thead th {\n",
       "        text-align: right;\n",
       "    }\n",
       "</style>\n",
       "<table border=\"1\" class=\"dataframe\">\n",
       "  <thead>\n",
       "    <tr style=\"text-align: right;\">\n",
       "      <th></th>\n",
       "      <th>Cluster</th>\n",
       "    </tr>\n",
       "  </thead>\n",
       "  <tbody>\n",
       "    <tr>\n",
       "      <th>4</th>\n",
       "      <td>71</td>\n",
       "    </tr>\n",
       "    <tr>\n",
       "      <th>5</th>\n",
       "      <td>50</td>\n",
       "    </tr>\n",
       "    <tr>\n",
       "      <th>0</th>\n",
       "      <td>46</td>\n",
       "    </tr>\n",
       "    <tr>\n",
       "      <th>3</th>\n",
       "      <td>42</td>\n",
       "    </tr>\n",
       "    <tr>\n",
       "      <th>1</th>\n",
       "      <td>38</td>\n",
       "    </tr>\n",
       "    <tr>\n",
       "      <th>2</th>\n",
       "      <td>29</td>\n",
       "    </tr>\n",
       "    <tr>\n",
       "      <th>6</th>\n",
       "      <td>15</td>\n",
       "    </tr>\n",
       "    <tr>\n",
       "      <th>7</th>\n",
       "      <td>9</td>\n",
       "    </tr>\n",
       "  </tbody>\n",
       "</table>\n",
       "</div>"
      ],
      "text/plain": [
       "   Cluster\n",
       "4       71\n",
       "5       50\n",
       "0       46\n",
       "3       42\n",
       "1       38\n",
       "2       29\n",
       "6       15\n",
       "7        9"
      ]
     },
     "execution_count": 90,
     "metadata": {},
     "output_type": "execute_result"
    }
   ],
   "source": [
    "Spectral_dataset.Cluster.value_counts().to_frame()"
   ]
  },
  {
   "cell_type": "code",
   "execution_count": 91,
   "metadata": {},
   "outputs": [
    {
     "data": {
      "text/html": [
       "<div>\n",
       "<style scoped>\n",
       "    .dataframe tbody tr th:only-of-type {\n",
       "        vertical-align: middle;\n",
       "    }\n",
       "\n",
       "    .dataframe tbody tr th {\n",
       "        vertical-align: top;\n",
       "    }\n",
       "\n",
       "    .dataframe thead th {\n",
       "        text-align: right;\n",
       "    }\n",
       "</style>\n",
       "<table border=\"1\" class=\"dataframe\">\n",
       "  <thead>\n",
       "    <tr style=\"text-align: right;\">\n",
       "      <th></th>\n",
       "      <th>silhouette_score</th>\n",
       "      <th>davies_bouldin_score</th>\n",
       "      <th>calinski_harabasz_score</th>\n",
       "      <th>fowlkes_mallows_score</th>\n",
       "      <th>adjusted_rand_score</th>\n",
       "      <th>adjusted_mutual_info_score</th>\n",
       "      <th>homogeneity_score</th>\n",
       "      <th>completeness_score</th>\n",
       "      <th>v_measure_score</th>\n",
       "    </tr>\n",
       "  </thead>\n",
       "  <tbody>\n",
       "    <tr>\n",
       "      <th>SpectralClustering</th>\n",
       "      <td>0.403843</td>\n",
       "      <td>0.981658</td>\n",
       "      <td>143.492986</td>\n",
       "      <td>0.372862</td>\n",
       "      <td>0.023239</td>\n",
       "      <td>0.093734</td>\n",
       "      <td>0.337329</td>\n",
       "      <td>0.061296</td>\n",
       "      <td>0.103741</td>\n",
       "    </tr>\n",
       "  </tbody>\n",
       "</table>\n",
       "</div>"
      ],
      "text/plain": [
       "                    silhouette_score  davies_bouldin_score  \\\n",
       "SpectralClustering          0.403843              0.981658   \n",
       "\n",
       "                    calinski_harabasz_score  fowlkes_mallows_score  \\\n",
       "SpectralClustering               143.492986               0.372862   \n",
       "\n",
       "                    adjusted_rand_score  adjusted_mutual_info_score  \\\n",
       "SpectralClustering             0.023239                    0.093734   \n",
       "\n",
       "                    homogeneity_score  completeness_score  v_measure_score  \n",
       "SpectralClustering           0.337329            0.061296         0.103741  "
      ]
     },
     "execution_count": 91,
     "metadata": {},
     "output_type": "execute_result"
    }
   ],
   "source": [
    "Spectral_df = pd.DataFrame(estimator_evaluation(Spectral_clustering, 'Spectral ', X , y), index=[\"SpectralClustering\"])\n",
    "Spectral_df"
   ]
  },
  {
   "cell_type": "code",
   "execution_count": 92,
   "metadata": {},
   "outputs": [
    {
     "data": {
      "application/vnd.plotly.v1+json": {
       "config": {
        "plotlyServerURL": "https://plot.ly"
       },
       "data": [
        {
         "hovertemplate": "color=m<br>x=%{x}<br>y=%{y}<br>z=%{z}<extra></extra>",
         "legendgroup": "m",
         "marker": {
          "color": "#636efa",
          "symbol": "circle"
         },
         "mode": "markers",
         "name": "m",
         "scene": "scene",
         "showlegend": true,
         "type": "scatter3d",
         "x": [
          44.333091735839844,
          40.457435607910156,
          33.803688049316406,
          37.70640182495117,
          28.775732040405273,
          14.634523391723633,
          26.820884704589844,
          21.548961639404297,
          3.4288735389709473,
          10.232571601867676,
          0.24146465957164764,
          3.543884038925171,
          -1.8564423322677612,
          -2.6294307708740234,
          -33.79261016845703,
          14.025867462158203,
          6.936176300048828,
          18.730405807495117,
          11.196072578430176,
          22.715776443481445,
          -3.6126821041107178,
          9.077073097229004,
          15.022124290466309,
          17.964502334594727,
          3.8039510250091553,
          -2.966200113296509,
          -1.345916748046875,
          4.2230706214904785,
          0.5371698141098022,
          -2.745018243789673,
          5.697119235992432,
          1.6568546295166016,
          37.8852424621582,
          33.62289810180664,
          45.62045669555664,
          2.2687695026397705,
          23.39938735961914,
          -6.5025105476379395,
          20.533584594726562,
          38.07932662963867,
          38.88289260864258,
          45.268436431884766,
          1.369336724281311,
          415.110107421875,
          26.81038475036621,
          -199.68650817871094
         ],
         "y": [
          -16.065616607666016,
          -26.887832641601562,
          -24.04093360900879,
          -25.76045036315918,
          -23.615625381469727,
          -24.747774124145508,
          -18.213123321533203,
          -15.966225624084473,
          -27.541765213012695,
          -8.598394393920898,
          -19.564197540283203,
          -17.513856887817383,
          -13.501235961914062,
          -5.393011093139648,
          -37.05177307128906,
          -16.16900062561035,
          -12.458183288574219,
          -11.307856559753418,
          -13.020894050598145,
          -16.763534545898438,
          -10.280592918395996,
          -23.289091110229492,
          -6.373424530029297,
          -11.542818069458008,
          -13.502406120300293,
          -6.982762336730957,
          -15.615185737609863,
          -19.675338745117188,
          -28.662050247192383,
          -23.5835018157959,
          -5.732648849487305,
          -0.5948383808135986,
          -18.9560604095459,
          -19.28281021118164,
          -22.559337615966797,
          -0.25966185331344604,
          -23.556793212890625,
          -18.99620246887207,
          -22.3223934173584,
          12.369837760925293,
          -19.96884536743164,
          -21.783233642578125,
          -6.4299726486206055,
          -81.22452545166016,
          -14.315642356872559,
          -62.791770935058594
         ],
         "z": [
          -35.27585220336914,
          -36.28977584838867,
          -35.92921829223633,
          -29.693374633789062,
          -12.154041290283203,
          -24.806499481201172,
          -10.473889350891113,
          -41.05643844604492,
          -11.080911636352539,
          -43.43484115600586,
          -16.09330940246582,
          -32.82252883911133,
          -33.98850631713867,
          -48.160064697265625,
          -24.968191146850586,
          -35.0045166015625,
          -35.49327850341797,
          -38.57642364501953,
          -30.00790023803711,
          -34.550018310546875,
          -40.57453155517578,
          -8.402348518371582,
          -47.798248291015625,
          -47.07600021362305,
          -18.42613983154297,
          -34.63541793823242,
          -22.354541778564453,
          -22.42157554626465,
          -17.531978607177734,
          -21.056915283203125,
          -48.56654739379883,
          -52.25743865966797,
          -32.34811019897461,
          -10.593071937561035,
          -38.71394348144531,
          -45.80250549316406,
          -6.496891021728516,
          -17.26817512512207,
          -11.92890739440918,
          75.83161163330078,
          -39.53147506713867,
          -31.28326988220215,
          -41.26649475097656,
          -100.28587341308594,
          -24.19405174255371,
          2.6602039337158203
         ]
        },
        {
         "hovertemplate": "color=g<br>x=%{x}<br>y=%{y}<br>z=%{z}<extra></extra>",
         "legendgroup": "g",
         "marker": {
          "color": "#EF553B",
          "symbol": "circle"
         },
         "mode": "markers",
         "name": "g",
         "scene": "scene",
         "showlegend": true,
         "type": "scatter3d",
         "x": [
          -26.07970428466797,
          -23.242748260498047,
          -23.137264251708984,
          -22.713090896606445,
          -7.4945387840271,
          -208.0128936767578,
          16.56028175354004,
          -16.536378860473633,
          5.292171955108643,
          248.03890991210938,
          -11.133111953735352,
          -22.331729888916016,
          -26.639406204223633,
          -26.235504150390625,
          17.866191864013672,
          -1.3390121459960938,
          10.899405479431152,
          24.904003143310547,
          -11.62868881225586,
          -29.90022850036621,
          -15.436470985412598,
          14.397239685058594,
          -26.37323570251465,
          -27.20089340209961,
          -33.16579055786133,
          3.9518167972564697,
          -28.748905181884766,
          -9.995481491088867,
          -1.3857922554016113,
          9.78036117553711,
          1.8472745418548584,
          -21.858074188232422,
          25.915071487426758,
          13.441794395446777,
          23.269777297973633,
          -14.77304458618164,
          -30.16083335876465,
          -23.108692169189453,
          -30.519485473632812,
          -4.815279006958008,
          17.53169059753418,
          -10.58741569519043,
          -12.209628105163574,
          20.97791290283203,
          -27.960628509521484,
          -16.497482299804688,
          -30.323383331298828,
          -24.693145751953125,
          16.521608352661133,
          -30.20924949645996,
          -31.936161041259766,
          -7.6529107093811035,
          64.01361083984375,
          -17.264867782592773,
          -19.79914665222168,
          -26.80898666381836,
          -17.941354751586914,
          -16.577613830566406,
          5.251281261444092,
          5.046977519989014,
          6.621398448944092,
          24.73394203186035,
          -25.745737075805664,
          10.773776054382324,
          23.10454750061035,
          2.318570613861084,
          -18.84783172607422,
          8.797558784484863,
          -17.939599990844727,
          -7.877898693084717,
          18.785581588745117
         ],
         "y": [
          57.9052848815918,
          42.207061767578125,
          41.145931243896484,
          48.44337844848633,
          37.99913787841797,
          -1.0894535779953003,
          42.36664962768555,
          39.7817268371582,
          40.070701599121094,
          56.483543395996094,
          27.46794891357422,
          24.98116111755371,
          41.685325622558594,
          38.417545318603516,
          43.52997589111328,
          40.3387451171875,
          45.298683166503906,
          46.778594970703125,
          22.43937110900879,
          40.69866943359375,
          25.85468292236328,
          35.917659759521484,
          29.918067932128906,
          45.814674377441406,
          43.01995086669922,
          45.92818832397461,
          37.483680725097656,
          29.973129272460938,
          39.804691314697266,
          46.97278594970703,
          36.98595428466797,
          16.114246368408203,
          50.289703369140625,
          47.812843322753906,
          26.267967224121094,
          33.266868591308594,
          59.28567123413086,
          35.58406066894531,
          13.105178833007812,
          36.7418327331543,
          48.597740173339844,
          31.693939208984375,
          26.943382263183594,
          44.2031364440918,
          35.82125473022461,
          20.18877601623535,
          43.325927734375,
          14.870691299438477,
          25.440570831298828,
          36.016685485839844,
          49.017887115478516,
          36.686214447021484,
          -77.06538391113281,
          23.205875396728516,
          24.45499038696289,
          19.87933349609375,
          25.582176208496094,
          29.51909065246582,
          43.70981216430664,
          48.79405212402344,
          42.94888687133789,
          48.741004943847656,
          54.79482650756836,
          46.659915924072266,
          43.62117385864258,
          44.1308479309082,
          55.45282745361328,
          10.15206241607666,
          28.848953247070312,
          41.184539794921875,
          48.94527053833008
         ],
         "z": [
          -0.0686807930469513,
          9.598604202270508,
          -8.381636619567871,
          -9.379295349121094,
          7.176764488220215,
          -63.964290618896484,
          -12.137078285217285,
          7.507610321044922,
          -7.940239429473877,
          35.901893615722656,
          41.595542907714844,
          10.945697784423828,
          18.049333572387695,
          0.5319599509239197,
          -20.194133758544922,
          6.251334190368652,
          2.6452038288116455,
          -5.3810200691223145,
          35.52888107299805,
          -5.418031215667725,
          13.196861267089844,
          -7.007053852081299,
          19.883609771728516,
          3.3972971439361572,
          1.8324861526489258,
          -4.722923755645752,
          7.641336441040039,
          35.11084747314453,
          -17.78889274597168,
          -13.795010566711426,
          37.10123062133789,
          36.30066680908203,
          -13.834531784057617,
          -25.050817489624023,
          -6.786925315856934,
          39.01411437988281,
          -3.582852602005005,
          17.477602005004883,
          36.684425354003906,
          0.16364941000938416,
          -6.8527750968933105,
          11.128562927246094,
          26.77010154724121,
          -0.05764567852020264,
          22.879167556762695,
          41.59455490112305,
          12.310640335083008,
          42.21770477294922,
          -8.03001880645752,
          15.093770027160645,
          -3.3778865337371826,
          -6.647945404052734,
          54.870849609375,
          24.0039005279541,
          17.477005004882812,
          38.8416748046875,
          37.14581298828125,
          7.07971715927124,
          6.578206539154053,
          6.939187049865723,
          -17.94472312927246,
          -20.483386993408203,
          -7.352822780609131,
          -5.369344234466553,
          -14.752630233764648,
          -13.173526763916016,
          -10.445942878723145,
          -2.626490354537964,
          27.593807220458984,
          -2.5195364952087402,
          -15.422608375549316
         ]
        },
        {
         "hovertemplate": "color=b<br>x=%{x}<br>y=%{y}<br>z=%{z}<extra></extra>",
         "legendgroup": "b",
         "marker": {
          "color": "#00cc96",
          "symbol": "circle"
         },
         "mode": "markers",
         "name": "b",
         "scene": "scene",
         "showlegend": true,
         "type": "scatter3d",
         "x": [
          20.669437408447266,
          23.285356521606445,
          36.54509735107422,
          14.318075180053711,
          17.426639556884766,
          13.864554405212402,
          13.68448543548584,
          38.31059646606445,
          13.204663276672363,
          17.31844139099121,
          41.28952407836914,
          42.15549087524414,
          8.942296981811523,
          28.03256607055664,
          26.755842208862305,
          47.94922637939453,
          48.517234802246094,
          53.56420135498047,
          49.24894714355469,
          -2.322382688522339,
          27.545549392700195,
          10.623516082763672,
          31.907848358154297,
          2.421306610107422,
          36.008670806884766,
          43.15171432495117,
          39.876373291015625,
          25.906238555908203,
          31.870162963867188,
          -11.924895286560059,
          5.376502513885498,
          29.980424880981445,
          32.05215072631836,
          38.23526382446289,
          47.618873596191406,
          41.8694953918457,
          41.292396545410156,
          23.861555099487305,
          11.588937759399414,
          8.015403747558594,
          34.451995849609375,
          4.997541427612305,
          2.902172803878784,
          30.39902114868164,
          33.68363571166992,
          -17.237361907958984,
          26.21324920654297,
          34.59928894042969,
          31.825847625732422,
          32.43825149536133,
          19.50165557861328,
          -1.4471601247787476,
          36.883968353271484,
          46.829341888427734,
          13.17175579071045,
          -0.32099810242652893,
          -2.0200984477996826,
          3.8089399337768555,
          32.876258850097656,
          40.25762939453125,
          17.176090240478516,
          38.71916961669922,
          24.061941146850586,
          19.18052101135254,
          -11.653613090515137,
          42.601497650146484,
          25.1873836517334,
          25.11918830871582,
          3.9575343132019043,
          30.598115921020508,
          40.338558197021484
         ],
         "y": [
          11.328883171081543,
          1.5483590364456177,
          -0.3089427649974823,
          12.892512321472168,
          -8.078539848327637,
          -16.234683990478516,
          -16.65142059326172,
          18.12321662902832,
          1.5339051485061646,
          -3.891378164291382,
          -2.9423906803131104,
          12.345269203186035,
          7.534327507019043,
          16.613340377807617,
          323.65106201171875,
          18.092037200927734,
          7.910039901733398,
          13.618258476257324,
          13.309557914733887,
          -15.545835494995117,
          23.183429718017578,
          20.047807693481445,
          20.72772979736328,
          -10.718011856079102,
          -1.1869007349014282,
          -15.870211601257324,
          18.553199768066406,
          8.014220237731934,
          -14.658892631530762,
          2.9258534908294678,
          2.544459342956543,
          11.130072593688965,
          10.0380277633667,
          6.456844806671143,
          -0.6271780133247375,
          -6.4476189613342285,
          4.160768508911133,
          12.887977600097656,
          -9.077815055847168,
          -17.273855209350586,
          13.492189407348633,
          -5.114279270172119,
          -12.494165420532227,
          22.391983032226562,
          19.01876449584961,
          0.4032908082008362,
          14.543256759643555,
          -8.765073776245117,
          15.319490432739258,
          5.644442081451416,
          10.30224895477295,
          -9.074697494506836,
          -14.211349487304688,
          12.536465644836426,
          7.433108329772949,
          -4.080954074859619,
          -15.423994064331055,
          -19.140701293945312,
          20.97112464904785,
          13.543110847473145,
          2.027204751968384,
          -7.559817314147949,
          8.682747840881348,
          7.468051910400391,
          -8.06421184539795,
          0.9106256365776062,
          5.956216335296631,
          24.613964080810547,
          -14.21461296081543,
          12.585070610046387,
          -14.962660789489746
         ],
         "z": [
          1.0707563161849976,
          -5.909092903137207,
          32.50771713256836,
          -4.7671003341674805,
          22.01329803466797,
          20.875791549682617,
          27.24579620361328,
          -28.98185157775879,
          25.220993041992188,
          1.0731801986694336,
          22.107019424438477,
          -31.109804153442383,
          23.53043556213379,
          -38.44881820678711,
          -19.59468650817871,
          -29.371604919433594,
          -30.111501693725586,
          -28.196332931518555,
          -34.658103942871094,
          36.65970993041992,
          -18.922168731689453,
          -46.11989974975586,
          -15.729670524597168,
          25.85362434387207,
          16.080045700073242,
          21.93027114868164,
          -36.07650375366211,
          -0.7611690759658813,
          17.53269386291504,
          30.198013305664062,
          27.284868240356445,
          -14.287708282470703,
          29.09090805053711,
          31.898487091064453,
          17.561880111694336,
          15.137030601501465,
          18.760896682739258,
          -4.743813514709473,
          21.482402801513672,
          24.03944969177246,
          -37.39509963989258,
          30.011363983154297,
          40.93939971923828,
          -24.70922088623047,
          -41.806671142578125,
          36.07051467895508,
          30.036157608032227,
          18.822589874267578,
          -30.602500915527344,
          34.307621002197266,
          27.460451126098633,
          32.39864730834961,
          23.956201553344727,
          -24.875102996826172,
          29.567874908447266,
          26.273088455200195,
          29.343456268310547,
          40.06369400024414,
          -35.24464416503906,
          -43.06795120239258,
          -2.067173719406128,
          31.586631774902344,
          32.740962982177734,
          -5.702500343322754,
          39.66081619262695,
          11.661307334899902,
          -10.454730033874512,
          -12.897253036499023,
          33.40922164916992,
          35.190547943115234,
          15.919598579406738
         ]
        },
        {
         "hovertemplate": "color=k<br>x=%{x}<br>y=%{y}<br>z=%{z}<extra></extra>",
         "legendgroup": "k",
         "marker": {
          "color": "#ab63fa",
          "symbol": "circle"
         },
         "mode": "markers",
         "name": "k",
         "scene": "scene",
         "showlegend": true,
         "type": "scatter3d",
         "x": [
          -2.723491907119751,
          -1.171699047088623,
          9.953486442565918,
          0.021394478157162666,
          5.590156078338623,
          -1.939184546470642,
          5.834759712219238,
          4.209362983703613,
          -3.345693588256836,
          2.2611172199249268,
          0.9854949116706848,
          -0.4018668234348297,
          3.197556734085083,
          2.408815383911133,
          1.4041728973388672
         ],
         "y": [
          -2.144113302230835,
          -12.486394882202148,
          11.983192443847656,
          11.872949600219727,
          6.188862323760986,
          4.736813068389893,
          -11.952911376953125,
          -0.06579822301864624,
          3.805025100708008,
          -17.387208938598633,
          -11.282980918884277,
          -2.7355544567108154,
          6.5722198486328125,
          -0.5861486792564392,
          -13.349055290222168
         ],
         "z": [
          62.370765686035156,
          54.73850631713867,
          63.74290466308594,
          64.165771484375,
          65.8389892578125,
          65.69849395751953,
          56.66683578491211,
          60.751522064208984,
          58.518306732177734,
          58.61332702636719,
          61.563358306884766,
          55.38503646850586,
          58.752525329589844,
          68.0643539428711,
          48.11505889892578
         ]
        },
        {
         "hovertemplate": "color=y<br>x=%{x}<br>y=%{y}<br>z=%{z}<extra></extra>",
         "legendgroup": "y",
         "marker": {
          "color": "#FFA15A",
          "symbol": "circle"
         },
         "mode": "markers",
         "name": "y",
         "scene": "scene",
         "showlegend": true,
         "type": "scatter3d",
         "x": [
          -45.77070617675781,
          -44.4318962097168,
          -45.444061279296875,
          -46.761634826660156,
          -21.152366638183594,
          -24.676433563232422,
          -20.642356872558594,
          -23.93043327331543,
          -31.07154083251953,
          -32.82084655761719,
          -51.77715301513672,
          -46.94553756713867,
          -36.73927307128906,
          -40.142486572265625,
          -39.95536804199219,
          -33.7164421081543,
          -35.0137825012207,
          -24.53474998474121,
          -22.43345832824707,
          -41.44819259643555,
          -45.456478118896484,
          -20.456636428833008,
          -23.287139892578125,
          -17.985692977905273,
          -19.69509506225586,
          -39.52353286743164,
          -41.253143310546875,
          -42.565589904785156,
          -38.376529693603516,
          -26.75934410095215,
          -37.335845947265625,
          -36.43458938598633,
          -40.424808502197266,
          -48.15592956542969,
          -27.04729461669922,
          -30.361921310424805,
          -25.008546829223633,
          -24.915658950805664
         ],
         "y": [
          0.005561981815844774,
          -1.6319793462753296,
          -12.236234664916992,
          -10.050824165344238,
          -1.0609145164489746,
          2.9038076400756836,
          -1.4680218696594238,
          -6.438807487487793,
          7.372477054595947,
          4.931432247161865,
          -8.534860610961914,
          -11.20909309387207,
          2.0200445652008057,
          5.8658294677734375,
          1.1466240882873535,
          13.701102256774902,
          11.746820449829102,
          12.423872947692871,
          7.618286609649658,
          -3.967625617980957,
          -7.429357051849365,
          18.661483764648438,
          22.752838134765625,
          18.001659393310547,
          12.159923553466797,
          8.35811996459961,
          -4.282449245452881,
          -0.8139142394065857,
          -8.507059097290039,
          1.2707120180130005,
          -3.4114015102386475,
          -0.8281712532043457,
          -10.598328590393066,
          -6.341794967651367,
          14.247503280639648,
          11.159634590148926,
          6.779940128326416,
          11.546669960021973
         ],
         "z": [
          -24.07701873779297,
          -33.48440933227539,
          -12.849360466003418,
          -26.324810028076172,
          -4.917496204376221,
          -1.7133527994155884,
          2.2486515045166016,
          2.4493980407714844,
          -37.819210052490234,
          -31.219423294067383,
          -34.108428955078125,
          -35.515663146972656,
          -36.9051399230957,
          -30.6036376953125,
          -18.30194091796875,
          -38.153995513916016,
          -31.614683151245117,
          -25.901315689086914,
          -9.950779914855957,
          -23.866294860839844,
          -8.673336029052734,
          -35.152748107910156,
          -29.71328353881836,
          -28.8810977935791,
          -32.26833724975586,
          -37.261436462402344,
          -2.278958559036255,
          -9.809110641479492,
          -6.71610164642334,
          -7.954247951507568,
          -12.809462547302246,
          -6.269811630249023,
          1.861651062965393,
          -21.633079528808594,
          -32.98579025268555,
          -23.936220169067383,
          -21.04807472229004,
          -17.45525360107422
         ]
        },
        {
         "hovertemplate": "color=r<br>x=%{x}<br>y=%{y}<br>z=%{z}<extra></extra>",
         "legendgroup": "r",
         "marker": {
          "color": "#19d3f3",
          "symbol": "circle"
         },
         "mode": "markers",
         "name": "r",
         "scene": "scene",
         "showlegend": true,
         "type": "scatter3d",
         "x": [
          -22.754709243774414,
          -19.675548553466797,
          -17.048694610595703,
          -2.703735828399658,
          -41.68955993652344,
          -15.631858825683594,
          -10.13161849975586,
          -5.927724838256836,
          -9.822630882263184,
          -15.792283058166504,
          -0.6624883413314819,
          -18.88324737548828,
          -11.58227252960205,
          53.038124084472656,
          -12.058188438415527,
          -1.0446034669876099,
          1.3474305868148804,
          -5.697696208953857,
          -12.084038734436035,
          -40.11804962158203,
          -28.506450653076172,
          -34.02729797363281,
          -33.93227005004883,
          -8.779141426086426,
          -1.544874668121338,
          -2.21939754486084,
          -5.378969192504883,
          -8.751496315002441,
          -34.036502838134766,
          -35.026878356933594,
          -30.49472999572754,
          -5.596000671386719,
          -11.193283081054688,
          8.75153923034668,
          -27.236251831054688,
          -9.652202606201172,
          1.1367303133010864,
          -2.153221368789673,
          -37.63077163696289,
          -5.97688102722168,
          -2.897204875946045,
          -31.360368728637695,
          -38.55357360839844,
          -41.902259826660156,
          -33.98460388183594,
          -23.045185089111328,
          -29.593191146850586,
          -25.055301666259766,
          -10.47549057006836,
          -19.80034637451172
         ],
         "y": [
          -39.71218490600586,
          -46.490745544433594,
          -40.960365295410156,
          -56.17182540893555,
          -33.374263763427734,
          -44.6510009765625,
          -49.06418228149414,
          -46.09623718261719,
          -44.19876480102539,
          -45.924041748046875,
          -40.37160110473633,
          -38.8814811706543,
          -48.08837890625,
          65.92130279541016,
          -43.59121322631836,
          -46.24006652832031,
          -52.468177795410156,
          -57.46699905395508,
          -39.96914291381836,
          -27.03129768371582,
          -29.73209571838379,
          -25.437294006347656,
          -31.93608283996582,
          -45.835453033447266,
          -48.52754211425781,
          -52.670928955078125,
          -51.435890197753906,
          -54.678504943847656,
          -13.740813255310059,
          -23.346933364868164,
          -19.597965240478516,
          -49.6814079284668,
          -50.220279693603516,
          -3.7474558353424072,
          -33.49415588378906,
          -43.16789245605469,
          -47.07933044433594,
          -50.63668441772461,
          -18.816558837890625,
          -53.299869537353516,
          -48.39748001098633,
          -16.900516510009766,
          -17.040021896362305,
          -26.568504333496094,
          -31.637475967407227,
          -35.935401916503906,
          -37.55329895019531,
          -42.64028549194336,
          -49.00499725341797,
          -31.96183967590332
         ],
         "z": [
          24.497554779052734,
          26.81116485595703,
          29.673635482788086,
          -0.5024762749671936,
          25.652063369750977,
          1.9737281799316406,
          1.7497535943984985,
          -2.0498650074005127,
          40.205631256103516,
          41.02446746826172,
          -14.147403717041016,
          -1.3960741758346558,
          -5.696078300476074,
          56.08290100097656,
          12.749641418457031,
          13.549424171447754,
          14.621380805969238,
          -10.17265510559082,
          -1.1293432712554932,
          18.542598724365234,
          23.336322784423828,
          22.29064178466797,
          20.226146697998047,
          22.51950454711914,
          21.27958869934082,
          -6.575531482696533,
          14.846960067749023,
          -3.972951889038086,
          11.827498435974121,
          10.406377792358398,
          13.87594985961914,
          -13.404658317565918,
          40.294193267822266,
          6.627070903778076,
          7.025057315826416,
          7.247771739959717,
          -0.7055607438087463,
          8.110678672790527,
          14.885250091552734,
          24.542102813720703,
          28.15369415283203,
          5.761484622955322,
          7.203179359436035,
          25.131973266601562,
          27.933773040771484,
          30.49177360534668,
          26.942964553833008,
          30.633563995361328,
          28.799419403076172,
          4.390992641448975
         ]
        },
        {
         "hovertemplate": "color=c<br>x=%{x}<br>y=%{y}<br>z=%{z}<extra></extra>",
         "legendgroup": "c",
         "marker": {
          "color": "#FF6692",
          "symbol": "circle"
         },
         "mode": "markers",
         "name": "c",
         "scene": "scene",
         "showlegend": true,
         "type": "scatter3d",
         "x": [
          64.76774597167969,
          59.500892639160156,
          66.0881576538086,
          61.962703704833984,
          59.96726989746094,
          55.97785186767578,
          58.752845764160156,
          54.2212028503418,
          381.4656677246094
         ],
         "y": [
          -22.06831932067871,
          -17.188066482543945,
          -14.926514625549316,
          -18.041595458984375,
          -24.883922576904297,
          -23.935190200805664,
          -28.484830856323242,
          -24.387292861938477,
          -274.2107849121094
         ],
         "z": [
          3.99621319770813,
          5.511070251464844,
          3.705927610397339,
          -1.25104558467865,
          12.111656188964844,
          0.8650567531585693,
          4.5400614738464355,
          7.392119884490967,
          74.76422882080078
         ]
        }
       ],
       "layout": {
        "legend": {
         "title": {
          "text": "color"
         },
         "tracegroupgap": 0
        },
        "margin": {
         "t": 60
        },
        "scene": {
         "domain": {
          "x": [
           0,
           1
          ],
          "y": [
           0,
           1
          ]
         },
         "xaxis": {
          "title": {
           "text": "x"
          }
         },
         "yaxis": {
          "title": {
           "text": "y"
          }
         },
         "zaxis": {
          "title": {
           "text": "z"
          }
         }
        },
        "template": {
         "data": {
          "bar": [
           {
            "error_x": {
             "color": "#2a3f5f"
            },
            "error_y": {
             "color": "#2a3f5f"
            },
            "marker": {
             "line": {
              "color": "#E5ECF6",
              "width": 0.5
             },
             "pattern": {
              "fillmode": "overlay",
              "size": 10,
              "solidity": 0.2
             }
            },
            "type": "bar"
           }
          ],
          "barpolar": [
           {
            "marker": {
             "line": {
              "color": "#E5ECF6",
              "width": 0.5
             },
             "pattern": {
              "fillmode": "overlay",
              "size": 10,
              "solidity": 0.2
             }
            },
            "type": "barpolar"
           }
          ],
          "carpet": [
           {
            "aaxis": {
             "endlinecolor": "#2a3f5f",
             "gridcolor": "white",
             "linecolor": "white",
             "minorgridcolor": "white",
             "startlinecolor": "#2a3f5f"
            },
            "baxis": {
             "endlinecolor": "#2a3f5f",
             "gridcolor": "white",
             "linecolor": "white",
             "minorgridcolor": "white",
             "startlinecolor": "#2a3f5f"
            },
            "type": "carpet"
           }
          ],
          "choropleth": [
           {
            "colorbar": {
             "outlinewidth": 0,
             "ticks": ""
            },
            "type": "choropleth"
           }
          ],
          "contour": [
           {
            "colorbar": {
             "outlinewidth": 0,
             "ticks": ""
            },
            "colorscale": [
             [
              0,
              "#0d0887"
             ],
             [
              0.1111111111111111,
              "#46039f"
             ],
             [
              0.2222222222222222,
              "#7201a8"
             ],
             [
              0.3333333333333333,
              "#9c179e"
             ],
             [
              0.4444444444444444,
              "#bd3786"
             ],
             [
              0.5555555555555556,
              "#d8576b"
             ],
             [
              0.6666666666666666,
              "#ed7953"
             ],
             [
              0.7777777777777778,
              "#fb9f3a"
             ],
             [
              0.8888888888888888,
              "#fdca26"
             ],
             [
              1,
              "#f0f921"
             ]
            ],
            "type": "contour"
           }
          ],
          "contourcarpet": [
           {
            "colorbar": {
             "outlinewidth": 0,
             "ticks": ""
            },
            "type": "contourcarpet"
           }
          ],
          "heatmap": [
           {
            "colorbar": {
             "outlinewidth": 0,
             "ticks": ""
            },
            "colorscale": [
             [
              0,
              "#0d0887"
             ],
             [
              0.1111111111111111,
              "#46039f"
             ],
             [
              0.2222222222222222,
              "#7201a8"
             ],
             [
              0.3333333333333333,
              "#9c179e"
             ],
             [
              0.4444444444444444,
              "#bd3786"
             ],
             [
              0.5555555555555556,
              "#d8576b"
             ],
             [
              0.6666666666666666,
              "#ed7953"
             ],
             [
              0.7777777777777778,
              "#fb9f3a"
             ],
             [
              0.8888888888888888,
              "#fdca26"
             ],
             [
              1,
              "#f0f921"
             ]
            ],
            "type": "heatmap"
           }
          ],
          "heatmapgl": [
           {
            "colorbar": {
             "outlinewidth": 0,
             "ticks": ""
            },
            "colorscale": [
             [
              0,
              "#0d0887"
             ],
             [
              0.1111111111111111,
              "#46039f"
             ],
             [
              0.2222222222222222,
              "#7201a8"
             ],
             [
              0.3333333333333333,
              "#9c179e"
             ],
             [
              0.4444444444444444,
              "#bd3786"
             ],
             [
              0.5555555555555556,
              "#d8576b"
             ],
             [
              0.6666666666666666,
              "#ed7953"
             ],
             [
              0.7777777777777778,
              "#fb9f3a"
             ],
             [
              0.8888888888888888,
              "#fdca26"
             ],
             [
              1,
              "#f0f921"
             ]
            ],
            "type": "heatmapgl"
           }
          ],
          "histogram": [
           {
            "marker": {
             "pattern": {
              "fillmode": "overlay",
              "size": 10,
              "solidity": 0.2
             }
            },
            "type": "histogram"
           }
          ],
          "histogram2d": [
           {
            "colorbar": {
             "outlinewidth": 0,
             "ticks": ""
            },
            "colorscale": [
             [
              0,
              "#0d0887"
             ],
             [
              0.1111111111111111,
              "#46039f"
             ],
             [
              0.2222222222222222,
              "#7201a8"
             ],
             [
              0.3333333333333333,
              "#9c179e"
             ],
             [
              0.4444444444444444,
              "#bd3786"
             ],
             [
              0.5555555555555556,
              "#d8576b"
             ],
             [
              0.6666666666666666,
              "#ed7953"
             ],
             [
              0.7777777777777778,
              "#fb9f3a"
             ],
             [
              0.8888888888888888,
              "#fdca26"
             ],
             [
              1,
              "#f0f921"
             ]
            ],
            "type": "histogram2d"
           }
          ],
          "histogram2dcontour": [
           {
            "colorbar": {
             "outlinewidth": 0,
             "ticks": ""
            },
            "colorscale": [
             [
              0,
              "#0d0887"
             ],
             [
              0.1111111111111111,
              "#46039f"
             ],
             [
              0.2222222222222222,
              "#7201a8"
             ],
             [
              0.3333333333333333,
              "#9c179e"
             ],
             [
              0.4444444444444444,
              "#bd3786"
             ],
             [
              0.5555555555555556,
              "#d8576b"
             ],
             [
              0.6666666666666666,
              "#ed7953"
             ],
             [
              0.7777777777777778,
              "#fb9f3a"
             ],
             [
              0.8888888888888888,
              "#fdca26"
             ],
             [
              1,
              "#f0f921"
             ]
            ],
            "type": "histogram2dcontour"
           }
          ],
          "mesh3d": [
           {
            "colorbar": {
             "outlinewidth": 0,
             "ticks": ""
            },
            "type": "mesh3d"
           }
          ],
          "parcoords": [
           {
            "line": {
             "colorbar": {
              "outlinewidth": 0,
              "ticks": ""
             }
            },
            "type": "parcoords"
           }
          ],
          "pie": [
           {
            "automargin": true,
            "type": "pie"
           }
          ],
          "scatter": [
           {
            "fillpattern": {
             "fillmode": "overlay",
             "size": 10,
             "solidity": 0.2
            },
            "type": "scatter"
           }
          ],
          "scatter3d": [
           {
            "line": {
             "colorbar": {
              "outlinewidth": 0,
              "ticks": ""
             }
            },
            "marker": {
             "colorbar": {
              "outlinewidth": 0,
              "ticks": ""
             }
            },
            "type": "scatter3d"
           }
          ],
          "scattercarpet": [
           {
            "marker": {
             "colorbar": {
              "outlinewidth": 0,
              "ticks": ""
             }
            },
            "type": "scattercarpet"
           }
          ],
          "scattergeo": [
           {
            "marker": {
             "colorbar": {
              "outlinewidth": 0,
              "ticks": ""
             }
            },
            "type": "scattergeo"
           }
          ],
          "scattergl": [
           {
            "marker": {
             "colorbar": {
              "outlinewidth": 0,
              "ticks": ""
             }
            },
            "type": "scattergl"
           }
          ],
          "scattermapbox": [
           {
            "marker": {
             "colorbar": {
              "outlinewidth": 0,
              "ticks": ""
             }
            },
            "type": "scattermapbox"
           }
          ],
          "scatterpolar": [
           {
            "marker": {
             "colorbar": {
              "outlinewidth": 0,
              "ticks": ""
             }
            },
            "type": "scatterpolar"
           }
          ],
          "scatterpolargl": [
           {
            "marker": {
             "colorbar": {
              "outlinewidth": 0,
              "ticks": ""
             }
            },
            "type": "scatterpolargl"
           }
          ],
          "scatterternary": [
           {
            "marker": {
             "colorbar": {
              "outlinewidth": 0,
              "ticks": ""
             }
            },
            "type": "scatterternary"
           }
          ],
          "surface": [
           {
            "colorbar": {
             "outlinewidth": 0,
             "ticks": ""
            },
            "colorscale": [
             [
              0,
              "#0d0887"
             ],
             [
              0.1111111111111111,
              "#46039f"
             ],
             [
              0.2222222222222222,
              "#7201a8"
             ],
             [
              0.3333333333333333,
              "#9c179e"
             ],
             [
              0.4444444444444444,
              "#bd3786"
             ],
             [
              0.5555555555555556,
              "#d8576b"
             ],
             [
              0.6666666666666666,
              "#ed7953"
             ],
             [
              0.7777777777777778,
              "#fb9f3a"
             ],
             [
              0.8888888888888888,
              "#fdca26"
             ],
             [
              1,
              "#f0f921"
             ]
            ],
            "type": "surface"
           }
          ],
          "table": [
           {
            "cells": {
             "fill": {
              "color": "#EBF0F8"
             },
             "line": {
              "color": "white"
             }
            },
            "header": {
             "fill": {
              "color": "#C8D4E3"
             },
             "line": {
              "color": "white"
             }
            },
            "type": "table"
           }
          ]
         },
         "layout": {
          "annotationdefaults": {
           "arrowcolor": "#2a3f5f",
           "arrowhead": 0,
           "arrowwidth": 1
          },
          "autotypenumbers": "strict",
          "coloraxis": {
           "colorbar": {
            "outlinewidth": 0,
            "ticks": ""
           }
          },
          "colorscale": {
           "diverging": [
            [
             0,
             "#8e0152"
            ],
            [
             0.1,
             "#c51b7d"
            ],
            [
             0.2,
             "#de77ae"
            ],
            [
             0.3,
             "#f1b6da"
            ],
            [
             0.4,
             "#fde0ef"
            ],
            [
             0.5,
             "#f7f7f7"
            ],
            [
             0.6,
             "#e6f5d0"
            ],
            [
             0.7,
             "#b8e186"
            ],
            [
             0.8,
             "#7fbc41"
            ],
            [
             0.9,
             "#4d9221"
            ],
            [
             1,
             "#276419"
            ]
           ],
           "sequential": [
            [
             0,
             "#0d0887"
            ],
            [
             0.1111111111111111,
             "#46039f"
            ],
            [
             0.2222222222222222,
             "#7201a8"
            ],
            [
             0.3333333333333333,
             "#9c179e"
            ],
            [
             0.4444444444444444,
             "#bd3786"
            ],
            [
             0.5555555555555556,
             "#d8576b"
            ],
            [
             0.6666666666666666,
             "#ed7953"
            ],
            [
             0.7777777777777778,
             "#fb9f3a"
            ],
            [
             0.8888888888888888,
             "#fdca26"
            ],
            [
             1,
             "#f0f921"
            ]
           ],
           "sequentialminus": [
            [
             0,
             "#0d0887"
            ],
            [
             0.1111111111111111,
             "#46039f"
            ],
            [
             0.2222222222222222,
             "#7201a8"
            ],
            [
             0.3333333333333333,
             "#9c179e"
            ],
            [
             0.4444444444444444,
             "#bd3786"
            ],
            [
             0.5555555555555556,
             "#d8576b"
            ],
            [
             0.6666666666666666,
             "#ed7953"
            ],
            [
             0.7777777777777778,
             "#fb9f3a"
            ],
            [
             0.8888888888888888,
             "#fdca26"
            ],
            [
             1,
             "#f0f921"
            ]
           ]
          },
          "colorway": [
           "#636efa",
           "#EF553B",
           "#00cc96",
           "#ab63fa",
           "#FFA15A",
           "#19d3f3",
           "#FF6692",
           "#B6E880",
           "#FF97FF",
           "#FECB52"
          ],
          "font": {
           "color": "#2a3f5f"
          },
          "geo": {
           "bgcolor": "white",
           "lakecolor": "white",
           "landcolor": "#E5ECF6",
           "showlakes": true,
           "showland": true,
           "subunitcolor": "white"
          },
          "hoverlabel": {
           "align": "left"
          },
          "hovermode": "closest",
          "mapbox": {
           "style": "light"
          },
          "paper_bgcolor": "white",
          "plot_bgcolor": "#E5ECF6",
          "polar": {
           "angularaxis": {
            "gridcolor": "white",
            "linecolor": "white",
            "ticks": ""
           },
           "bgcolor": "#E5ECF6",
           "radialaxis": {
            "gridcolor": "white",
            "linecolor": "white",
            "ticks": ""
           }
          },
          "scene": {
           "xaxis": {
            "backgroundcolor": "#E5ECF6",
            "gridcolor": "white",
            "gridwidth": 2,
            "linecolor": "white",
            "showbackground": true,
            "ticks": "",
            "zerolinecolor": "white"
           },
           "yaxis": {
            "backgroundcolor": "#E5ECF6",
            "gridcolor": "white",
            "gridwidth": 2,
            "linecolor": "white",
            "showbackground": true,
            "ticks": "",
            "zerolinecolor": "white"
           },
           "zaxis": {
            "backgroundcolor": "#E5ECF6",
            "gridcolor": "white",
            "gridwidth": 2,
            "linecolor": "white",
            "showbackground": true,
            "ticks": "",
            "zerolinecolor": "white"
           }
          },
          "shapedefaults": {
           "line": {
            "color": "#2a3f5f"
           }
          },
          "ternary": {
           "aaxis": {
            "gridcolor": "white",
            "linecolor": "white",
            "ticks": ""
           },
           "baxis": {
            "gridcolor": "white",
            "linecolor": "white",
            "ticks": ""
           },
           "bgcolor": "#E5ECF6",
           "caxis": {
            "gridcolor": "white",
            "linecolor": "white",
            "ticks": ""
           }
          },
          "title": {
           "x": 0.05
          },
          "xaxis": {
           "automargin": true,
           "gridcolor": "white",
           "linecolor": "white",
           "ticks": "",
           "title": {
            "standoff": 15
           },
           "zerolinecolor": "white",
           "zerolinewidth": 2
          },
          "yaxis": {
           "automargin": true,
           "gridcolor": "white",
           "linecolor": "white",
           "ticks": "",
           "title": {
            "standoff": 15
           },
           "zerolinecolor": "white",
           "zerolinewidth": 2
          }
         }
        }
       }
      },
      "text/html": [
       "<div>                            <div id=\"46289592-0736-4e7a-924d-74891eaec205\" class=\"plotly-graph-div\" style=\"height:525px; width:100%;\"></div>            <script type=\"text/javascript\">                require([\"plotly\"], function(Plotly) {                    window.PLOTLYENV=window.PLOTLYENV || {};                                    if (document.getElementById(\"46289592-0736-4e7a-924d-74891eaec205\")) {                    Plotly.newPlot(                        \"46289592-0736-4e7a-924d-74891eaec205\",                        [{\"hovertemplate\":\"color=m<br>x=%{x}<br>y=%{y}<br>z=%{z}<extra></extra>\",\"legendgroup\":\"m\",\"marker\":{\"color\":\"#636efa\",\"symbol\":\"circle\"},\"mode\":\"markers\",\"name\":\"m\",\"scene\":\"scene\",\"showlegend\":true,\"x\":[44.333091735839844,40.457435607910156,33.803688049316406,37.70640182495117,28.775732040405273,14.634523391723633,26.820884704589844,21.548961639404297,3.4288735389709473,10.232571601867676,0.24146465957164764,3.543884038925171,-1.8564423322677612,-2.6294307708740234,-33.79261016845703,14.025867462158203,6.936176300048828,18.730405807495117,11.196072578430176,22.715776443481445,-3.6126821041107178,9.077073097229004,15.022124290466309,17.964502334594727,3.8039510250091553,-2.966200113296509,-1.345916748046875,4.2230706214904785,0.5371698141098022,-2.745018243789673,5.697119235992432,1.6568546295166016,37.8852424621582,33.62289810180664,45.62045669555664,2.2687695026397705,23.39938735961914,-6.5025105476379395,20.533584594726562,38.07932662963867,38.88289260864258,45.268436431884766,1.369336724281311,415.110107421875,26.81038475036621,-199.68650817871094],\"y\":[-16.065616607666016,-26.887832641601562,-24.04093360900879,-25.76045036315918,-23.615625381469727,-24.747774124145508,-18.213123321533203,-15.966225624084473,-27.541765213012695,-8.598394393920898,-19.564197540283203,-17.513856887817383,-13.501235961914062,-5.393011093139648,-37.05177307128906,-16.16900062561035,-12.458183288574219,-11.307856559753418,-13.020894050598145,-16.763534545898438,-10.280592918395996,-23.289091110229492,-6.373424530029297,-11.542818069458008,-13.502406120300293,-6.982762336730957,-15.615185737609863,-19.675338745117188,-28.662050247192383,-23.5835018157959,-5.732648849487305,-0.5948383808135986,-18.9560604095459,-19.28281021118164,-22.559337615966797,-0.25966185331344604,-23.556793212890625,-18.99620246887207,-22.3223934173584,12.369837760925293,-19.96884536743164,-21.783233642578125,-6.4299726486206055,-81.22452545166016,-14.315642356872559,-62.791770935058594],\"z\":[-35.27585220336914,-36.28977584838867,-35.92921829223633,-29.693374633789062,-12.154041290283203,-24.806499481201172,-10.473889350891113,-41.05643844604492,-11.080911636352539,-43.43484115600586,-16.09330940246582,-32.82252883911133,-33.98850631713867,-48.160064697265625,-24.968191146850586,-35.0045166015625,-35.49327850341797,-38.57642364501953,-30.00790023803711,-34.550018310546875,-40.57453155517578,-8.402348518371582,-47.798248291015625,-47.07600021362305,-18.42613983154297,-34.63541793823242,-22.354541778564453,-22.42157554626465,-17.531978607177734,-21.056915283203125,-48.56654739379883,-52.25743865966797,-32.34811019897461,-10.593071937561035,-38.71394348144531,-45.80250549316406,-6.496891021728516,-17.26817512512207,-11.92890739440918,75.83161163330078,-39.53147506713867,-31.28326988220215,-41.26649475097656,-100.28587341308594,-24.19405174255371,2.6602039337158203],\"type\":\"scatter3d\"},{\"hovertemplate\":\"color=g<br>x=%{x}<br>y=%{y}<br>z=%{z}<extra></extra>\",\"legendgroup\":\"g\",\"marker\":{\"color\":\"#EF553B\",\"symbol\":\"circle\"},\"mode\":\"markers\",\"name\":\"g\",\"scene\":\"scene\",\"showlegend\":true,\"x\":[-26.07970428466797,-23.242748260498047,-23.137264251708984,-22.713090896606445,-7.4945387840271,-208.0128936767578,16.56028175354004,-16.536378860473633,5.292171955108643,248.03890991210938,-11.133111953735352,-22.331729888916016,-26.639406204223633,-26.235504150390625,17.866191864013672,-1.3390121459960938,10.899405479431152,24.904003143310547,-11.62868881225586,-29.90022850036621,-15.436470985412598,14.397239685058594,-26.37323570251465,-27.20089340209961,-33.16579055786133,3.9518167972564697,-28.748905181884766,-9.995481491088867,-1.3857922554016113,9.78036117553711,1.8472745418548584,-21.858074188232422,25.915071487426758,13.441794395446777,23.269777297973633,-14.77304458618164,-30.16083335876465,-23.108692169189453,-30.519485473632812,-4.815279006958008,17.53169059753418,-10.58741569519043,-12.209628105163574,20.97791290283203,-27.960628509521484,-16.497482299804688,-30.323383331298828,-24.693145751953125,16.521608352661133,-30.20924949645996,-31.936161041259766,-7.6529107093811035,64.01361083984375,-17.264867782592773,-19.79914665222168,-26.80898666381836,-17.941354751586914,-16.577613830566406,5.251281261444092,5.046977519989014,6.621398448944092,24.73394203186035,-25.745737075805664,10.773776054382324,23.10454750061035,2.318570613861084,-18.84783172607422,8.797558784484863,-17.939599990844727,-7.877898693084717,18.785581588745117],\"y\":[57.9052848815918,42.207061767578125,41.145931243896484,48.44337844848633,37.99913787841797,-1.0894535779953003,42.36664962768555,39.7817268371582,40.070701599121094,56.483543395996094,27.46794891357422,24.98116111755371,41.685325622558594,38.417545318603516,43.52997589111328,40.3387451171875,45.298683166503906,46.778594970703125,22.43937110900879,40.69866943359375,25.85468292236328,35.917659759521484,29.918067932128906,45.814674377441406,43.01995086669922,45.92818832397461,37.483680725097656,29.973129272460938,39.804691314697266,46.97278594970703,36.98595428466797,16.114246368408203,50.289703369140625,47.812843322753906,26.267967224121094,33.266868591308594,59.28567123413086,35.58406066894531,13.105178833007812,36.7418327331543,48.597740173339844,31.693939208984375,26.943382263183594,44.2031364440918,35.82125473022461,20.18877601623535,43.325927734375,14.870691299438477,25.440570831298828,36.016685485839844,49.017887115478516,36.686214447021484,-77.06538391113281,23.205875396728516,24.45499038696289,19.87933349609375,25.582176208496094,29.51909065246582,43.70981216430664,48.79405212402344,42.94888687133789,48.741004943847656,54.79482650756836,46.659915924072266,43.62117385864258,44.1308479309082,55.45282745361328,10.15206241607666,28.848953247070312,41.184539794921875,48.94527053833008],\"z\":[-0.0686807930469513,9.598604202270508,-8.381636619567871,-9.379295349121094,7.176764488220215,-63.964290618896484,-12.137078285217285,7.507610321044922,-7.940239429473877,35.901893615722656,41.595542907714844,10.945697784423828,18.049333572387695,0.5319599509239197,-20.194133758544922,6.251334190368652,2.6452038288116455,-5.3810200691223145,35.52888107299805,-5.418031215667725,13.196861267089844,-7.007053852081299,19.883609771728516,3.3972971439361572,1.8324861526489258,-4.722923755645752,7.641336441040039,35.11084747314453,-17.78889274597168,-13.795010566711426,37.10123062133789,36.30066680908203,-13.834531784057617,-25.050817489624023,-6.786925315856934,39.01411437988281,-3.582852602005005,17.477602005004883,36.684425354003906,0.16364941000938416,-6.8527750968933105,11.128562927246094,26.77010154724121,-0.05764567852020264,22.879167556762695,41.59455490112305,12.310640335083008,42.21770477294922,-8.03001880645752,15.093770027160645,-3.3778865337371826,-6.647945404052734,54.870849609375,24.0039005279541,17.477005004882812,38.8416748046875,37.14581298828125,7.07971715927124,6.578206539154053,6.939187049865723,-17.94472312927246,-20.483386993408203,-7.352822780609131,-5.369344234466553,-14.752630233764648,-13.173526763916016,-10.445942878723145,-2.626490354537964,27.593807220458984,-2.5195364952087402,-15.422608375549316],\"type\":\"scatter3d\"},{\"hovertemplate\":\"color=b<br>x=%{x}<br>y=%{y}<br>z=%{z}<extra></extra>\",\"legendgroup\":\"b\",\"marker\":{\"color\":\"#00cc96\",\"symbol\":\"circle\"},\"mode\":\"markers\",\"name\":\"b\",\"scene\":\"scene\",\"showlegend\":true,\"x\":[20.669437408447266,23.285356521606445,36.54509735107422,14.318075180053711,17.426639556884766,13.864554405212402,13.68448543548584,38.31059646606445,13.204663276672363,17.31844139099121,41.28952407836914,42.15549087524414,8.942296981811523,28.03256607055664,26.755842208862305,47.94922637939453,48.517234802246094,53.56420135498047,49.24894714355469,-2.322382688522339,27.545549392700195,10.623516082763672,31.907848358154297,2.421306610107422,36.008670806884766,43.15171432495117,39.876373291015625,25.906238555908203,31.870162963867188,-11.924895286560059,5.376502513885498,29.980424880981445,32.05215072631836,38.23526382446289,47.618873596191406,41.8694953918457,41.292396545410156,23.861555099487305,11.588937759399414,8.015403747558594,34.451995849609375,4.997541427612305,2.902172803878784,30.39902114868164,33.68363571166992,-17.237361907958984,26.21324920654297,34.59928894042969,31.825847625732422,32.43825149536133,19.50165557861328,-1.4471601247787476,36.883968353271484,46.829341888427734,13.17175579071045,-0.32099810242652893,-2.0200984477996826,3.8089399337768555,32.876258850097656,40.25762939453125,17.176090240478516,38.71916961669922,24.061941146850586,19.18052101135254,-11.653613090515137,42.601497650146484,25.1873836517334,25.11918830871582,3.9575343132019043,30.598115921020508,40.338558197021484],\"y\":[11.328883171081543,1.5483590364456177,-0.3089427649974823,12.892512321472168,-8.078539848327637,-16.234683990478516,-16.65142059326172,18.12321662902832,1.5339051485061646,-3.891378164291382,-2.9423906803131104,12.345269203186035,7.534327507019043,16.613340377807617,323.65106201171875,18.092037200927734,7.910039901733398,13.618258476257324,13.309557914733887,-15.545835494995117,23.183429718017578,20.047807693481445,20.72772979736328,-10.718011856079102,-1.1869007349014282,-15.870211601257324,18.553199768066406,8.014220237731934,-14.658892631530762,2.9258534908294678,2.544459342956543,11.130072593688965,10.0380277633667,6.456844806671143,-0.6271780133247375,-6.4476189613342285,4.160768508911133,12.887977600097656,-9.077815055847168,-17.273855209350586,13.492189407348633,-5.114279270172119,-12.494165420532227,22.391983032226562,19.01876449584961,0.4032908082008362,14.543256759643555,-8.765073776245117,15.319490432739258,5.644442081451416,10.30224895477295,-9.074697494506836,-14.211349487304688,12.536465644836426,7.433108329772949,-4.080954074859619,-15.423994064331055,-19.140701293945312,20.97112464904785,13.543110847473145,2.027204751968384,-7.559817314147949,8.682747840881348,7.468051910400391,-8.06421184539795,0.9106256365776062,5.956216335296631,24.613964080810547,-14.21461296081543,12.585070610046387,-14.962660789489746],\"z\":[1.0707563161849976,-5.909092903137207,32.50771713256836,-4.7671003341674805,22.01329803466797,20.875791549682617,27.24579620361328,-28.98185157775879,25.220993041992188,1.0731801986694336,22.107019424438477,-31.109804153442383,23.53043556213379,-38.44881820678711,-19.59468650817871,-29.371604919433594,-30.111501693725586,-28.196332931518555,-34.658103942871094,36.65970993041992,-18.922168731689453,-46.11989974975586,-15.729670524597168,25.85362434387207,16.080045700073242,21.93027114868164,-36.07650375366211,-0.7611690759658813,17.53269386291504,30.198013305664062,27.284868240356445,-14.287708282470703,29.09090805053711,31.898487091064453,17.561880111694336,15.137030601501465,18.760896682739258,-4.743813514709473,21.482402801513672,24.03944969177246,-37.39509963989258,30.011363983154297,40.93939971923828,-24.70922088623047,-41.806671142578125,36.07051467895508,30.036157608032227,18.822589874267578,-30.602500915527344,34.307621002197266,27.460451126098633,32.39864730834961,23.956201553344727,-24.875102996826172,29.567874908447266,26.273088455200195,29.343456268310547,40.06369400024414,-35.24464416503906,-43.06795120239258,-2.067173719406128,31.586631774902344,32.740962982177734,-5.702500343322754,39.66081619262695,11.661307334899902,-10.454730033874512,-12.897253036499023,33.40922164916992,35.190547943115234,15.919598579406738],\"type\":\"scatter3d\"},{\"hovertemplate\":\"color=k<br>x=%{x}<br>y=%{y}<br>z=%{z}<extra></extra>\",\"legendgroup\":\"k\",\"marker\":{\"color\":\"#ab63fa\",\"symbol\":\"circle\"},\"mode\":\"markers\",\"name\":\"k\",\"scene\":\"scene\",\"showlegend\":true,\"x\":[-2.723491907119751,-1.171699047088623,9.953486442565918,0.021394478157162666,5.590156078338623,-1.939184546470642,5.834759712219238,4.209362983703613,-3.345693588256836,2.2611172199249268,0.9854949116706848,-0.4018668234348297,3.197556734085083,2.408815383911133,1.4041728973388672],\"y\":[-2.144113302230835,-12.486394882202148,11.983192443847656,11.872949600219727,6.188862323760986,4.736813068389893,-11.952911376953125,-0.06579822301864624,3.805025100708008,-17.387208938598633,-11.282980918884277,-2.7355544567108154,6.5722198486328125,-0.5861486792564392,-13.349055290222168],\"z\":[62.370765686035156,54.73850631713867,63.74290466308594,64.165771484375,65.8389892578125,65.69849395751953,56.66683578491211,60.751522064208984,58.518306732177734,58.61332702636719,61.563358306884766,55.38503646850586,58.752525329589844,68.0643539428711,48.11505889892578],\"type\":\"scatter3d\"},{\"hovertemplate\":\"color=y<br>x=%{x}<br>y=%{y}<br>z=%{z}<extra></extra>\",\"legendgroup\":\"y\",\"marker\":{\"color\":\"#FFA15A\",\"symbol\":\"circle\"},\"mode\":\"markers\",\"name\":\"y\",\"scene\":\"scene\",\"showlegend\":true,\"x\":[-45.77070617675781,-44.4318962097168,-45.444061279296875,-46.761634826660156,-21.152366638183594,-24.676433563232422,-20.642356872558594,-23.93043327331543,-31.07154083251953,-32.82084655761719,-51.77715301513672,-46.94553756713867,-36.73927307128906,-40.142486572265625,-39.95536804199219,-33.7164421081543,-35.0137825012207,-24.53474998474121,-22.43345832824707,-41.44819259643555,-45.456478118896484,-20.456636428833008,-23.287139892578125,-17.985692977905273,-19.69509506225586,-39.52353286743164,-41.253143310546875,-42.565589904785156,-38.376529693603516,-26.75934410095215,-37.335845947265625,-36.43458938598633,-40.424808502197266,-48.15592956542969,-27.04729461669922,-30.361921310424805,-25.008546829223633,-24.915658950805664],\"y\":[0.005561981815844774,-1.6319793462753296,-12.236234664916992,-10.050824165344238,-1.0609145164489746,2.9038076400756836,-1.4680218696594238,-6.438807487487793,7.372477054595947,4.931432247161865,-8.534860610961914,-11.20909309387207,2.0200445652008057,5.8658294677734375,1.1466240882873535,13.701102256774902,11.746820449829102,12.423872947692871,7.618286609649658,-3.967625617980957,-7.429357051849365,18.661483764648438,22.752838134765625,18.001659393310547,12.159923553466797,8.35811996459961,-4.282449245452881,-0.8139142394065857,-8.507059097290039,1.2707120180130005,-3.4114015102386475,-0.8281712532043457,-10.598328590393066,-6.341794967651367,14.247503280639648,11.159634590148926,6.779940128326416,11.546669960021973],\"z\":[-24.07701873779297,-33.48440933227539,-12.849360466003418,-26.324810028076172,-4.917496204376221,-1.7133527994155884,2.2486515045166016,2.4493980407714844,-37.819210052490234,-31.219423294067383,-34.108428955078125,-35.515663146972656,-36.9051399230957,-30.6036376953125,-18.30194091796875,-38.153995513916016,-31.614683151245117,-25.901315689086914,-9.950779914855957,-23.866294860839844,-8.673336029052734,-35.152748107910156,-29.71328353881836,-28.8810977935791,-32.26833724975586,-37.261436462402344,-2.278958559036255,-9.809110641479492,-6.71610164642334,-7.954247951507568,-12.809462547302246,-6.269811630249023,1.861651062965393,-21.633079528808594,-32.98579025268555,-23.936220169067383,-21.04807472229004,-17.45525360107422],\"type\":\"scatter3d\"},{\"hovertemplate\":\"color=r<br>x=%{x}<br>y=%{y}<br>z=%{z}<extra></extra>\",\"legendgroup\":\"r\",\"marker\":{\"color\":\"#19d3f3\",\"symbol\":\"circle\"},\"mode\":\"markers\",\"name\":\"r\",\"scene\":\"scene\",\"showlegend\":true,\"x\":[-22.754709243774414,-19.675548553466797,-17.048694610595703,-2.703735828399658,-41.68955993652344,-15.631858825683594,-10.13161849975586,-5.927724838256836,-9.822630882263184,-15.792283058166504,-0.6624883413314819,-18.88324737548828,-11.58227252960205,53.038124084472656,-12.058188438415527,-1.0446034669876099,1.3474305868148804,-5.697696208953857,-12.084038734436035,-40.11804962158203,-28.506450653076172,-34.02729797363281,-33.93227005004883,-8.779141426086426,-1.544874668121338,-2.21939754486084,-5.378969192504883,-8.751496315002441,-34.036502838134766,-35.026878356933594,-30.49472999572754,-5.596000671386719,-11.193283081054688,8.75153923034668,-27.236251831054688,-9.652202606201172,1.1367303133010864,-2.153221368789673,-37.63077163696289,-5.97688102722168,-2.897204875946045,-31.360368728637695,-38.55357360839844,-41.902259826660156,-33.98460388183594,-23.045185089111328,-29.593191146850586,-25.055301666259766,-10.47549057006836,-19.80034637451172],\"y\":[-39.71218490600586,-46.490745544433594,-40.960365295410156,-56.17182540893555,-33.374263763427734,-44.6510009765625,-49.06418228149414,-46.09623718261719,-44.19876480102539,-45.924041748046875,-40.37160110473633,-38.8814811706543,-48.08837890625,65.92130279541016,-43.59121322631836,-46.24006652832031,-52.468177795410156,-57.46699905395508,-39.96914291381836,-27.03129768371582,-29.73209571838379,-25.437294006347656,-31.93608283996582,-45.835453033447266,-48.52754211425781,-52.670928955078125,-51.435890197753906,-54.678504943847656,-13.740813255310059,-23.346933364868164,-19.597965240478516,-49.6814079284668,-50.220279693603516,-3.7474558353424072,-33.49415588378906,-43.16789245605469,-47.07933044433594,-50.63668441772461,-18.816558837890625,-53.299869537353516,-48.39748001098633,-16.900516510009766,-17.040021896362305,-26.568504333496094,-31.637475967407227,-35.935401916503906,-37.55329895019531,-42.64028549194336,-49.00499725341797,-31.96183967590332],\"z\":[24.497554779052734,26.81116485595703,29.673635482788086,-0.5024762749671936,25.652063369750977,1.9737281799316406,1.7497535943984985,-2.0498650074005127,40.205631256103516,41.02446746826172,-14.147403717041016,-1.3960741758346558,-5.696078300476074,56.08290100097656,12.749641418457031,13.549424171447754,14.621380805969238,-10.17265510559082,-1.1293432712554932,18.542598724365234,23.336322784423828,22.29064178466797,20.226146697998047,22.51950454711914,21.27958869934082,-6.575531482696533,14.846960067749023,-3.972951889038086,11.827498435974121,10.406377792358398,13.87594985961914,-13.404658317565918,40.294193267822266,6.627070903778076,7.025057315826416,7.247771739959717,-0.7055607438087463,8.110678672790527,14.885250091552734,24.542102813720703,28.15369415283203,5.761484622955322,7.203179359436035,25.131973266601562,27.933773040771484,30.49177360534668,26.942964553833008,30.633563995361328,28.799419403076172,4.390992641448975],\"type\":\"scatter3d\"},{\"hovertemplate\":\"color=c<br>x=%{x}<br>y=%{y}<br>z=%{z}<extra></extra>\",\"legendgroup\":\"c\",\"marker\":{\"color\":\"#FF6692\",\"symbol\":\"circle\"},\"mode\":\"markers\",\"name\":\"c\",\"scene\":\"scene\",\"showlegend\":true,\"x\":[64.76774597167969,59.500892639160156,66.0881576538086,61.962703704833984,59.96726989746094,55.97785186767578,58.752845764160156,54.2212028503418,381.4656677246094],\"y\":[-22.06831932067871,-17.188066482543945,-14.926514625549316,-18.041595458984375,-24.883922576904297,-23.935190200805664,-28.484830856323242,-24.387292861938477,-274.2107849121094],\"z\":[3.99621319770813,5.511070251464844,3.705927610397339,-1.25104558467865,12.111656188964844,0.8650567531585693,4.5400614738464355,7.392119884490967,74.76422882080078],\"type\":\"scatter3d\"}],                        {\"template\":{\"data\":{\"histogram2dcontour\":[{\"type\":\"histogram2dcontour\",\"colorbar\":{\"outlinewidth\":0,\"ticks\":\"\"},\"colorscale\":[[0.0,\"#0d0887\"],[0.1111111111111111,\"#46039f\"],[0.2222222222222222,\"#7201a8\"],[0.3333333333333333,\"#9c179e\"],[0.4444444444444444,\"#bd3786\"],[0.5555555555555556,\"#d8576b\"],[0.6666666666666666,\"#ed7953\"],[0.7777777777777778,\"#fb9f3a\"],[0.8888888888888888,\"#fdca26\"],[1.0,\"#f0f921\"]]}],\"choropleth\":[{\"type\":\"choropleth\",\"colorbar\":{\"outlinewidth\":0,\"ticks\":\"\"}}],\"histogram2d\":[{\"type\":\"histogram2d\",\"colorbar\":{\"outlinewidth\":0,\"ticks\":\"\"},\"colorscale\":[[0.0,\"#0d0887\"],[0.1111111111111111,\"#46039f\"],[0.2222222222222222,\"#7201a8\"],[0.3333333333333333,\"#9c179e\"],[0.4444444444444444,\"#bd3786\"],[0.5555555555555556,\"#d8576b\"],[0.6666666666666666,\"#ed7953\"],[0.7777777777777778,\"#fb9f3a\"],[0.8888888888888888,\"#fdca26\"],[1.0,\"#f0f921\"]]}],\"heatmap\":[{\"type\":\"heatmap\",\"colorbar\":{\"outlinewidth\":0,\"ticks\":\"\"},\"colorscale\":[[0.0,\"#0d0887\"],[0.1111111111111111,\"#46039f\"],[0.2222222222222222,\"#7201a8\"],[0.3333333333333333,\"#9c179e\"],[0.4444444444444444,\"#bd3786\"],[0.5555555555555556,\"#d8576b\"],[0.6666666666666666,\"#ed7953\"],[0.7777777777777778,\"#fb9f3a\"],[0.8888888888888888,\"#fdca26\"],[1.0,\"#f0f921\"]]}],\"heatmapgl\":[{\"type\":\"heatmapgl\",\"colorbar\":{\"outlinewidth\":0,\"ticks\":\"\"},\"colorscale\":[[0.0,\"#0d0887\"],[0.1111111111111111,\"#46039f\"],[0.2222222222222222,\"#7201a8\"],[0.3333333333333333,\"#9c179e\"],[0.4444444444444444,\"#bd3786\"],[0.5555555555555556,\"#d8576b\"],[0.6666666666666666,\"#ed7953\"],[0.7777777777777778,\"#fb9f3a\"],[0.8888888888888888,\"#fdca26\"],[1.0,\"#f0f921\"]]}],\"contourcarpet\":[{\"type\":\"contourcarpet\",\"colorbar\":{\"outlinewidth\":0,\"ticks\":\"\"}}],\"contour\":[{\"type\":\"contour\",\"colorbar\":{\"outlinewidth\":0,\"ticks\":\"\"},\"colorscale\":[[0.0,\"#0d0887\"],[0.1111111111111111,\"#46039f\"],[0.2222222222222222,\"#7201a8\"],[0.3333333333333333,\"#9c179e\"],[0.4444444444444444,\"#bd3786\"],[0.5555555555555556,\"#d8576b\"],[0.6666666666666666,\"#ed7953\"],[0.7777777777777778,\"#fb9f3a\"],[0.8888888888888888,\"#fdca26\"],[1.0,\"#f0f921\"]]}],\"surface\":[{\"type\":\"surface\",\"colorbar\":{\"outlinewidth\":0,\"ticks\":\"\"},\"colorscale\":[[0.0,\"#0d0887\"],[0.1111111111111111,\"#46039f\"],[0.2222222222222222,\"#7201a8\"],[0.3333333333333333,\"#9c179e\"],[0.4444444444444444,\"#bd3786\"],[0.5555555555555556,\"#d8576b\"],[0.6666666666666666,\"#ed7953\"],[0.7777777777777778,\"#fb9f3a\"],[0.8888888888888888,\"#fdca26\"],[1.0,\"#f0f921\"]]}],\"mesh3d\":[{\"type\":\"mesh3d\",\"colorbar\":{\"outlinewidth\":0,\"ticks\":\"\"}}],\"scatter\":[{\"fillpattern\":{\"fillmode\":\"overlay\",\"size\":10,\"solidity\":0.2},\"type\":\"scatter\"}],\"parcoords\":[{\"type\":\"parcoords\",\"line\":{\"colorbar\":{\"outlinewidth\":0,\"ticks\":\"\"}}}],\"scatterpolargl\":[{\"type\":\"scatterpolargl\",\"marker\":{\"colorbar\":{\"outlinewidth\":0,\"ticks\":\"\"}}}],\"bar\":[{\"error_x\":{\"color\":\"#2a3f5f\"},\"error_y\":{\"color\":\"#2a3f5f\"},\"marker\":{\"line\":{\"color\":\"#E5ECF6\",\"width\":0.5},\"pattern\":{\"fillmode\":\"overlay\",\"size\":10,\"solidity\":0.2}},\"type\":\"bar\"}],\"scattergeo\":[{\"type\":\"scattergeo\",\"marker\":{\"colorbar\":{\"outlinewidth\":0,\"ticks\":\"\"}}}],\"scatterpolar\":[{\"type\":\"scatterpolar\",\"marker\":{\"colorbar\":{\"outlinewidth\":0,\"ticks\":\"\"}}}],\"histogram\":[{\"marker\":{\"pattern\":{\"fillmode\":\"overlay\",\"size\":10,\"solidity\":0.2}},\"type\":\"histogram\"}],\"scattergl\":[{\"type\":\"scattergl\",\"marker\":{\"colorbar\":{\"outlinewidth\":0,\"ticks\":\"\"}}}],\"scatter3d\":[{\"type\":\"scatter3d\",\"line\":{\"colorbar\":{\"outlinewidth\":0,\"ticks\":\"\"}},\"marker\":{\"colorbar\":{\"outlinewidth\":0,\"ticks\":\"\"}}}],\"scattermapbox\":[{\"type\":\"scattermapbox\",\"marker\":{\"colorbar\":{\"outlinewidth\":0,\"ticks\":\"\"}}}],\"scatterternary\":[{\"type\":\"scatterternary\",\"marker\":{\"colorbar\":{\"outlinewidth\":0,\"ticks\":\"\"}}}],\"scattercarpet\":[{\"type\":\"scattercarpet\",\"marker\":{\"colorbar\":{\"outlinewidth\":0,\"ticks\":\"\"}}}],\"carpet\":[{\"aaxis\":{\"endlinecolor\":\"#2a3f5f\",\"gridcolor\":\"white\",\"linecolor\":\"white\",\"minorgridcolor\":\"white\",\"startlinecolor\":\"#2a3f5f\"},\"baxis\":{\"endlinecolor\":\"#2a3f5f\",\"gridcolor\":\"white\",\"linecolor\":\"white\",\"minorgridcolor\":\"white\",\"startlinecolor\":\"#2a3f5f\"},\"type\":\"carpet\"}],\"table\":[{\"cells\":{\"fill\":{\"color\":\"#EBF0F8\"},\"line\":{\"color\":\"white\"}},\"header\":{\"fill\":{\"color\":\"#C8D4E3\"},\"line\":{\"color\":\"white\"}},\"type\":\"table\"}],\"barpolar\":[{\"marker\":{\"line\":{\"color\":\"#E5ECF6\",\"width\":0.5},\"pattern\":{\"fillmode\":\"overlay\",\"size\":10,\"solidity\":0.2}},\"type\":\"barpolar\"}],\"pie\":[{\"automargin\":true,\"type\":\"pie\"}]},\"layout\":{\"autotypenumbers\":\"strict\",\"colorway\":[\"#636efa\",\"#EF553B\",\"#00cc96\",\"#ab63fa\",\"#FFA15A\",\"#19d3f3\",\"#FF6692\",\"#B6E880\",\"#FF97FF\",\"#FECB52\"],\"font\":{\"color\":\"#2a3f5f\"},\"hovermode\":\"closest\",\"hoverlabel\":{\"align\":\"left\"},\"paper_bgcolor\":\"white\",\"plot_bgcolor\":\"#E5ECF6\",\"polar\":{\"bgcolor\":\"#E5ECF6\",\"angularaxis\":{\"gridcolor\":\"white\",\"linecolor\":\"white\",\"ticks\":\"\"},\"radialaxis\":{\"gridcolor\":\"white\",\"linecolor\":\"white\",\"ticks\":\"\"}},\"ternary\":{\"bgcolor\":\"#E5ECF6\",\"aaxis\":{\"gridcolor\":\"white\",\"linecolor\":\"white\",\"ticks\":\"\"},\"baxis\":{\"gridcolor\":\"white\",\"linecolor\":\"white\",\"ticks\":\"\"},\"caxis\":{\"gridcolor\":\"white\",\"linecolor\":\"white\",\"ticks\":\"\"}},\"coloraxis\":{\"colorbar\":{\"outlinewidth\":0,\"ticks\":\"\"}},\"colorscale\":{\"sequential\":[[0.0,\"#0d0887\"],[0.1111111111111111,\"#46039f\"],[0.2222222222222222,\"#7201a8\"],[0.3333333333333333,\"#9c179e\"],[0.4444444444444444,\"#bd3786\"],[0.5555555555555556,\"#d8576b\"],[0.6666666666666666,\"#ed7953\"],[0.7777777777777778,\"#fb9f3a\"],[0.8888888888888888,\"#fdca26\"],[1.0,\"#f0f921\"]],\"sequentialminus\":[[0.0,\"#0d0887\"],[0.1111111111111111,\"#46039f\"],[0.2222222222222222,\"#7201a8\"],[0.3333333333333333,\"#9c179e\"],[0.4444444444444444,\"#bd3786\"],[0.5555555555555556,\"#d8576b\"],[0.6666666666666666,\"#ed7953\"],[0.7777777777777778,\"#fb9f3a\"],[0.8888888888888888,\"#fdca26\"],[1.0,\"#f0f921\"]],\"diverging\":[[0,\"#8e0152\"],[0.1,\"#c51b7d\"],[0.2,\"#de77ae\"],[0.3,\"#f1b6da\"],[0.4,\"#fde0ef\"],[0.5,\"#f7f7f7\"],[0.6,\"#e6f5d0\"],[0.7,\"#b8e186\"],[0.8,\"#7fbc41\"],[0.9,\"#4d9221\"],[1,\"#276419\"]]},\"xaxis\":{\"gridcolor\":\"white\",\"linecolor\":\"white\",\"ticks\":\"\",\"title\":{\"standoff\":15},\"zerolinecolor\":\"white\",\"automargin\":true,\"zerolinewidth\":2},\"yaxis\":{\"gridcolor\":\"white\",\"linecolor\":\"white\",\"ticks\":\"\",\"title\":{\"standoff\":15},\"zerolinecolor\":\"white\",\"automargin\":true,\"zerolinewidth\":2},\"scene\":{\"xaxis\":{\"backgroundcolor\":\"#E5ECF6\",\"gridcolor\":\"white\",\"linecolor\":\"white\",\"showbackground\":true,\"ticks\":\"\",\"zerolinecolor\":\"white\",\"gridwidth\":2},\"yaxis\":{\"backgroundcolor\":\"#E5ECF6\",\"gridcolor\":\"white\",\"linecolor\":\"white\",\"showbackground\":true,\"ticks\":\"\",\"zerolinecolor\":\"white\",\"gridwidth\":2},\"zaxis\":{\"backgroundcolor\":\"#E5ECF6\",\"gridcolor\":\"white\",\"linecolor\":\"white\",\"showbackground\":true,\"ticks\":\"\",\"zerolinecolor\":\"white\",\"gridwidth\":2}},\"shapedefaults\":{\"line\":{\"color\":\"#2a3f5f\"}},\"annotationdefaults\":{\"arrowcolor\":\"#2a3f5f\",\"arrowhead\":0,\"arrowwidth\":1},\"geo\":{\"bgcolor\":\"white\",\"landcolor\":\"#E5ECF6\",\"subunitcolor\":\"white\",\"showland\":true,\"showlakes\":true,\"lakecolor\":\"white\"},\"title\":{\"x\":0.05},\"mapbox\":{\"style\":\"light\"}}},\"scene\":{\"domain\":{\"x\":[0.0,1.0],\"y\":[0.0,1.0]},\"xaxis\":{\"title\":{\"text\":\"x\"}},\"yaxis\":{\"title\":{\"text\":\"y\"}},\"zaxis\":{\"title\":{\"text\":\"z\"}}},\"legend\":{\"title\":{\"text\":\"color\"},\"tracegroupgap\":0},\"margin\":{\"t\":60}},                        {\"responsive\": true}                    ).then(function(){\n",
       "                            \n",
       "var gd = document.getElementById('46289592-0736-4e7a-924d-74891eaec205');\n",
       "var x = new MutationObserver(function (mutations, observer) {{\n",
       "        var display = window.getComputedStyle(gd).display;\n",
       "        if (!display || display === 'none') {{\n",
       "            console.log([gd, 'removed!']);\n",
       "            Plotly.purge(gd);\n",
       "            observer.disconnect();\n",
       "        }}\n",
       "}});\n",
       "\n",
       "// Listen for the removal of the full notebook cells\n",
       "var notebookContainer = gd.closest('#notebook-container');\n",
       "if (notebookContainer) {{\n",
       "    x.observe(notebookContainer, {childList: true});\n",
       "}}\n",
       "\n",
       "// Listen for the clearing of the current output cell\n",
       "var outputEl = gd.closest('.output');\n",
       "if (outputEl) {{\n",
       "    x.observe(outputEl, {childList: true});\n",
       "}}\n",
       "\n",
       "                        })                };                });            </script>        </div>"
      ]
     },
     "metadata": {},
     "output_type": "display_data"
    }
   ],
   "source": [
    "# plot using tsne \n",
    "X_embedded  = TSNE(n_components=3, perplexity=10,random_state=24).fit_transform( X )\n",
    "colors = np.array([x for x in 'bgrcmykbgrcmykbgrcmykbgrcmyk'])\n",
    "fig = px.scatter_3d(x=X_embedded [:,0],y=X_embedded [:,1],z=X_embedded [:,2],color=colors[Spectral_clustering.labels_])\n",
    "fig.show()"
   ]
  },
  {
   "cell_type": "markdown",
   "metadata": {},
   "source": [
    "### Affinity Propagation\n",
    "\n",
    "In Affinity Propagation, each data point is considered as a node in a network that communicates with all other nodes to let each other know that how similar they are and starts forming clusters on the basis of nodes similarity in the data set. \n",
    "\n",
    "As messages are sent between nodes, sets of nodes (exemplars) are found and they represent the clusters."
   ]
  },
  {
   "cell_type": "code",
   "execution_count": 93,
   "metadata": {},
   "outputs": [],
   "source": [
    "aff_prop_grid = {\n",
    "        \"max_iter\": [50, 100, 150, 200],\n",
    "        \"convergence_iter\" : range(2,5),\n",
    "        \"damping\" : np.arange(0.5,1.1,0.1),\n",
    "        \"affinity\": ['euclidean']#,'precomputed']\n",
    "       }\n",
    "#aff_prop_grid"
   ]
  },
  {
   "cell_type": "code",
   "execution_count": 94,
   "metadata": {},
   "outputs": [],
   "source": [
    "#aff_prop_grid\n",
    "aff_prop_model = AffinityPropagation()\n",
    "aff_prop_params = GridSearchCV(aff_prop_model,aff_prop_grid,scoring=silhouette_score2,cv= 10).fit(X, y)"
   ]
  },
  {
   "cell_type": "code",
   "execution_count": 95,
   "metadata": {},
   "outputs": [
    {
     "data": {
      "text/plain": [
       "(0.5200335910129773,\n",
       " {'affinity': 'euclidean',\n",
       "  'convergence_iter': 4,\n",
       "  'damping': 0.5,\n",
       "  'max_iter': 50})"
      ]
     },
     "execution_count": 95,
     "metadata": {},
     "output_type": "execute_result"
    }
   ],
   "source": [
    "aff_prop_params.best_score_, aff_prop_params.best_params_"
   ]
  },
  {
   "cell_type": "code",
   "execution_count": 96,
   "metadata": {},
   "outputs": [],
   "source": [
    "aff_prop_clustering = AffinityPropagation(affinity = aff_prop_params.best_params_['affinity'],\n",
    "                           convergence_iter = aff_prop_params.best_params_['convergence_iter'],\n",
    "                           damping = aff_prop_params.best_params_['damping'],\n",
    "                           max_iter = aff_prop_params.best_params_['max_iter']\n",
    "                          ).fit(X)\n",
    "cluster = list(aff_prop_clustering.labels_)\n",
    "values, counts = np.unique(cluster, return_counts=True)      \n",
    "aff_prop_dataset = pd.DataFrame(X.copy())\n",
    "aff_prop_dataset.loc[:,'Cluster'] = aff_prop_clustering.labels_\n"
   ]
  },
  {
   "cell_type": "code",
   "execution_count": 97,
   "metadata": {},
   "outputs": [
    {
     "data": {
      "text/html": [
       "<div>\n",
       "<style scoped>\n",
       "    .dataframe tbody tr th:only-of-type {\n",
       "        vertical-align: middle;\n",
       "    }\n",
       "\n",
       "    .dataframe tbody tr th {\n",
       "        vertical-align: top;\n",
       "    }\n",
       "\n",
       "    .dataframe thead th {\n",
       "        text-align: right;\n",
       "    }\n",
       "</style>\n",
       "<table border=\"1\" class=\"dataframe\">\n",
       "  <thead>\n",
       "    <tr style=\"text-align: right;\">\n",
       "      <th></th>\n",
       "      <th>Cluster</th>\n",
       "    </tr>\n",
       "  </thead>\n",
       "  <tbody>\n",
       "    <tr>\n",
       "      <th>3</th>\n",
       "      <td>46</td>\n",
       "    </tr>\n",
       "    <tr>\n",
       "      <th>5</th>\n",
       "      <td>28</td>\n",
       "    </tr>\n",
       "    <tr>\n",
       "      <th>11</th>\n",
       "      <td>25</td>\n",
       "    </tr>\n",
       "    <tr>\n",
       "      <th>9</th>\n",
       "      <td>24</td>\n",
       "    </tr>\n",
       "    <tr>\n",
       "      <th>14</th>\n",
       "      <td>23</td>\n",
       "    </tr>\n",
       "    <tr>\n",
       "      <th>4</th>\n",
       "      <td>21</td>\n",
       "    </tr>\n",
       "    <tr>\n",
       "      <th>6</th>\n",
       "      <td>18</td>\n",
       "    </tr>\n",
       "    <tr>\n",
       "      <th>8</th>\n",
       "      <td>17</td>\n",
       "    </tr>\n",
       "    <tr>\n",
       "      <th>2</th>\n",
       "      <td>16</td>\n",
       "    </tr>\n",
       "    <tr>\n",
       "      <th>0</th>\n",
       "      <td>15</td>\n",
       "    </tr>\n",
       "    <tr>\n",
       "      <th>10</th>\n",
       "      <td>13</td>\n",
       "    </tr>\n",
       "    <tr>\n",
       "      <th>12</th>\n",
       "      <td>12</td>\n",
       "    </tr>\n",
       "    <tr>\n",
       "      <th>16</th>\n",
       "      <td>11</td>\n",
       "    </tr>\n",
       "    <tr>\n",
       "      <th>7</th>\n",
       "      <td>9</td>\n",
       "    </tr>\n",
       "    <tr>\n",
       "      <th>13</th>\n",
       "      <td>9</td>\n",
       "    </tr>\n",
       "    <tr>\n",
       "      <th>15</th>\n",
       "      <td>8</td>\n",
       "    </tr>\n",
       "    <tr>\n",
       "      <th>1</th>\n",
       "      <td>5</td>\n",
       "    </tr>\n",
       "  </tbody>\n",
       "</table>\n",
       "</div>"
      ],
      "text/plain": [
       "    Cluster\n",
       "3        46\n",
       "5        28\n",
       "11       25\n",
       "9        24\n",
       "14       23\n",
       "4        21\n",
       "6        18\n",
       "8        17\n",
       "2        16\n",
       "0        15\n",
       "10       13\n",
       "12       12\n",
       "16       11\n",
       "7         9\n",
       "13        9\n",
       "15        8\n",
       "1         5"
      ]
     },
     "execution_count": 97,
     "metadata": {},
     "output_type": "execute_result"
    }
   ],
   "source": [
    "aff_prop_dataset.Cluster.value_counts().to_frame()"
   ]
  },
  {
   "cell_type": "code",
   "execution_count": 98,
   "metadata": {},
   "outputs": [
    {
     "data": {
      "text/html": [
       "<div>\n",
       "<style scoped>\n",
       "    .dataframe tbody tr th:only-of-type {\n",
       "        vertical-align: middle;\n",
       "    }\n",
       "\n",
       "    .dataframe tbody tr th {\n",
       "        vertical-align: top;\n",
       "    }\n",
       "\n",
       "    .dataframe thead th {\n",
       "        text-align: right;\n",
       "    }\n",
       "</style>\n",
       "<table border=\"1\" class=\"dataframe\">\n",
       "  <thead>\n",
       "    <tr style=\"text-align: right;\">\n",
       "      <th></th>\n",
       "      <th>silhouette_score</th>\n",
       "      <th>davies_bouldin_score</th>\n",
       "      <th>calinski_harabasz_score</th>\n",
       "      <th>fowlkes_mallows_score</th>\n",
       "      <th>adjusted_rand_score</th>\n",
       "      <th>adjusted_mutual_info_score</th>\n",
       "      <th>homogeneity_score</th>\n",
       "      <th>completeness_score</th>\n",
       "      <th>v_measure_score</th>\n",
       "    </tr>\n",
       "  </thead>\n",
       "  <tbody>\n",
       "    <tr>\n",
       "      <th>AffinityPropagation</th>\n",
       "      <td>0.452471</td>\n",
       "      <td>0.78544</td>\n",
       "      <td>206.467461</td>\n",
       "      <td>0.287657</td>\n",
       "      <td>0.029564</td>\n",
       "      <td>0.162857</td>\n",
       "      <td>0.775773</td>\n",
       "      <td>0.101552</td>\n",
       "      <td>0.179594</td>\n",
       "    </tr>\n",
       "  </tbody>\n",
       "</table>\n",
       "</div>"
      ],
      "text/plain": [
       "                     silhouette_score  davies_bouldin_score  \\\n",
       "AffinityPropagation          0.452471               0.78544   \n",
       "\n",
       "                     calinski_harabasz_score  fowlkes_mallows_score  \\\n",
       "AffinityPropagation               206.467461               0.287657   \n",
       "\n",
       "                     adjusted_rand_score  adjusted_mutual_info_score  \\\n",
       "AffinityPropagation             0.029564                    0.162857   \n",
       "\n",
       "                     homogeneity_score  completeness_score  v_measure_score  \n",
       "AffinityPropagation           0.775773            0.101552         0.179594  "
      ]
     },
     "execution_count": 98,
     "metadata": {},
     "output_type": "execute_result"
    }
   ],
   "source": [
    "\n",
    "aff_prop_df = pd.DataFrame(estimator_evaluation(aff_prop_clustering, 'AffinityPropagation ', X , y), index=[\"AffinityPropagation\"])\n",
    "aff_prop_df"
   ]
  },
  {
   "cell_type": "code",
   "execution_count": 99,
   "metadata": {},
   "outputs": [
    {
     "data": {
      "application/vnd.plotly.v1+json": {
       "config": {
        "plotlyServerURL": "https://plot.ly"
       },
       "data": [
        {
         "hovertemplate": "color=g<br>x=%{x}<br>y=%{y}<br>z=%{z}<extra></extra>",
         "legendgroup": "g",
         "marker": {
          "color": "#636efa",
          "symbol": "circle"
         },
         "mode": "markers",
         "name": "g",
         "scene": "scene",
         "showlegend": true,
         "type": "scatter3d",
         "x": [
          44.333091735839844,
          40.457435607910156,
          33.803688049316406,
          37.70640182495117,
          28.775732040405273,
          26.820884704589844,
          38.31059646606445,
          42.15549087524414,
          28.03256607055664,
          47.94922637939453,
          48.517234802246094,
          53.56420135498047,
          49.24894714355469,
          27.545549392700195,
          31.907848358154297,
          39.876373291015625,
          34.451995849609375,
          30.39902114868164,
          33.68363571166992,
          31.825847625732422,
          46.829341888427734,
          32.876258850097656,
          40.25762939453125,
          37.8852424621582,
          33.62289810180664,
          45.62045669555664,
          23.39938735961914,
          20.533584594726562,
          38.88289260864258,
          45.268436431884766
         ],
         "y": [
          -16.065616607666016,
          -26.887832641601562,
          -24.04093360900879,
          -25.76045036315918,
          -23.615625381469727,
          -18.213123321533203,
          18.12321662902832,
          12.345269203186035,
          16.613340377807617,
          18.092037200927734,
          7.910039901733398,
          13.618258476257324,
          13.309557914733887,
          23.183429718017578,
          20.72772979736328,
          18.553199768066406,
          13.492189407348633,
          22.391983032226562,
          19.01876449584961,
          15.319490432739258,
          12.536465644836426,
          20.97112464904785,
          13.543110847473145,
          -18.9560604095459,
          -19.28281021118164,
          -22.559337615966797,
          -23.556793212890625,
          -22.3223934173584,
          -19.96884536743164,
          -21.783233642578125
         ],
         "z": [
          -35.27585220336914,
          -36.28977584838867,
          -35.92921829223633,
          -29.693374633789062,
          -12.154041290283203,
          -10.473889350891113,
          -28.98185157775879,
          -31.109804153442383,
          -38.44881820678711,
          -29.371604919433594,
          -30.111501693725586,
          -28.196332931518555,
          -34.658103942871094,
          -18.922168731689453,
          -15.729670524597168,
          -36.07650375366211,
          -37.39509963989258,
          -24.70922088623047,
          -41.806671142578125,
          -30.602500915527344,
          -24.875102996826172,
          -35.24464416503906,
          -43.06795120239258,
          -32.34811019897461,
          -10.593071937561035,
          -38.71394348144531,
          -6.496891021728516,
          -11.92890739440918,
          -39.53147506713867,
          -31.28326988220215
         ]
        },
        {
         "hovertemplate": "color=c<br>x=%{x}<br>y=%{y}<br>z=%{z}<extra></extra>",
         "legendgroup": "c",
         "marker": {
          "color": "#EF553B",
          "symbol": "circle"
         },
         "mode": "markers",
         "name": "c",
         "scene": "scene",
         "showlegend": true,
         "type": "scatter3d",
         "x": [
          -26.07970428466797,
          -23.242748260498047,
          -23.137264251708984,
          14.634523391723633,
          -22.713090896606445,
          -7.4945387840271,
          -208.0128936767578,
          -16.536378860473633,
          248.03890991210938,
          -11.133111953735352,
          -22.331729888916016,
          3.4288735389709473,
          -26.639406204223633,
          0.24146465957164764,
          -26.235504150390625,
          3.543884038925171,
          -11.62868881225586,
          -29.90022850036621,
          -15.436470985412598,
          -26.37323570251465,
          -27.20089340209961,
          -33.16579055786133,
          -28.748905181884766,
          -9.995481491088867,
          1.8472745418548584,
          -21.858074188232422,
          9.077073097229004,
          -14.77304458618164,
          -30.16083335876465,
          -23.108692169189453,
          -30.519485473632812,
          -4.815279006958008,
          -10.58741569519043,
          3.8039510250091553,
          -12.209628105163574,
          -27.960628509521484,
          -16.497482299804688,
          -30.323383331298828,
          -24.693145751953125,
          -1.345916748046875,
          4.2230706214904785,
          0.5371698141098022,
          -2.745018243789673,
          -30.20924949645996,
          -31.936161041259766,
          -7.6529107093811035,
          64.01361083984375,
          -17.264867782592773,
          -19.79914665222168,
          -26.80898666381836,
          -17.941354751586914,
          -16.577613830566406,
          -25.745737075805664,
          -6.5025105476379395,
          -18.84783172607422,
          38.07932662963867,
          -17.939599990844727,
          -7.877898693084717,
          -199.68650817871094
         ],
         "y": [
          57.9052848815918,
          42.207061767578125,
          41.145931243896484,
          -24.747774124145508,
          48.44337844848633,
          37.99913787841797,
          -1.0894535779953003,
          39.7817268371582,
          56.483543395996094,
          27.46794891357422,
          24.98116111755371,
          -27.541765213012695,
          41.685325622558594,
          -19.564197540283203,
          38.417545318603516,
          -17.513856887817383,
          22.43937110900879,
          40.69866943359375,
          25.85468292236328,
          29.918067932128906,
          45.814674377441406,
          43.01995086669922,
          37.483680725097656,
          29.973129272460938,
          36.98595428466797,
          16.114246368408203,
          -23.289091110229492,
          33.266868591308594,
          59.28567123413086,
          35.58406066894531,
          13.105178833007812,
          36.7418327331543,
          31.693939208984375,
          -13.502406120300293,
          26.943382263183594,
          35.82125473022461,
          20.18877601623535,
          43.325927734375,
          14.870691299438477,
          -15.615185737609863,
          -19.675338745117188,
          -28.662050247192383,
          -23.5835018157959,
          36.016685485839844,
          49.017887115478516,
          36.686214447021484,
          -77.06538391113281,
          23.205875396728516,
          24.45499038696289,
          19.87933349609375,
          25.582176208496094,
          29.51909065246582,
          54.79482650756836,
          -18.99620246887207,
          55.45282745361328,
          12.369837760925293,
          28.848953247070312,
          41.184539794921875,
          -62.791770935058594
         ],
         "z": [
          -0.0686807930469513,
          9.598604202270508,
          -8.381636619567871,
          -24.806499481201172,
          -9.379295349121094,
          7.176764488220215,
          -63.964290618896484,
          7.507610321044922,
          35.901893615722656,
          41.595542907714844,
          10.945697784423828,
          -11.080911636352539,
          18.049333572387695,
          -16.09330940246582,
          0.5319599509239197,
          -32.82252883911133,
          35.52888107299805,
          -5.418031215667725,
          13.196861267089844,
          19.883609771728516,
          3.3972971439361572,
          1.8324861526489258,
          7.641336441040039,
          35.11084747314453,
          37.10123062133789,
          36.30066680908203,
          -8.402348518371582,
          39.01411437988281,
          -3.582852602005005,
          17.477602005004883,
          36.684425354003906,
          0.16364941000938416,
          11.128562927246094,
          -18.42613983154297,
          26.77010154724121,
          22.879167556762695,
          41.59455490112305,
          12.310640335083008,
          42.21770477294922,
          -22.354541778564453,
          -22.42157554626465,
          -17.531978607177734,
          -21.056915283203125,
          15.093770027160645,
          -3.3778865337371826,
          -6.647945404052734,
          54.870849609375,
          24.0039005279541,
          17.477005004882812,
          38.8416748046875,
          37.14581298828125,
          7.07971715927124,
          -7.352822780609131,
          -17.26817512512207,
          -10.445942878723145,
          75.83161163330078,
          27.593807220458984,
          -2.5195364952087402,
          2.6602039337158203
         ]
        },
        {
         "hovertemplate": "color=y<br>x=%{x}<br>y=%{y}<br>z=%{z}<extra></extra>",
         "legendgroup": "y",
         "marker": {
          "color": "#00cc96",
          "symbol": "circle"
         },
         "mode": "markers",
         "name": "y",
         "scene": "scene",
         "showlegend": true,
         "type": "scatter3d",
         "x": [
          20.669437408447266,
          23.285356521606445,
          14.318075180053711,
          -45.77070617675781,
          -44.4318962097168,
          -46.761634826660156,
          -31.07154083251953,
          -32.82084655761719,
          -51.77715301513672,
          -46.94553756713867,
          -36.73927307128906,
          -40.142486572265625,
          -39.95536804199219,
          -33.7164421081543,
          -35.0137825012207,
          26.755842208862305,
          -24.53474998474121,
          -22.43345832824707,
          10.623516082763672,
          -41.44819259643555,
          25.906238555908203,
          29.980424880981445,
          -20.456636428833008,
          -23.287139892578125,
          -17.985692977905273,
          -19.69509506225586,
          23.861555099487305,
          -39.52353286743164,
          -42.565589904785156,
          17.176090240478516,
          19.18052101135254,
          -26.75934410095215,
          25.1873836517334,
          8.797558784484863,
          -37.335845947265625,
          -48.15592956542969,
          -27.04729461669922,
          -30.361921310424805,
          -25.008546829223633,
          -24.915658950805664
         ],
         "y": [
          11.328883171081543,
          1.5483590364456177,
          12.892512321472168,
          0.005561981815844774,
          -1.6319793462753296,
          -10.050824165344238,
          7.372477054595947,
          4.931432247161865,
          -8.534860610961914,
          -11.20909309387207,
          2.0200445652008057,
          5.8658294677734375,
          1.1466240882873535,
          13.701102256774902,
          11.746820449829102,
          323.65106201171875,
          12.423872947692871,
          7.618286609649658,
          20.047807693481445,
          -3.967625617980957,
          8.014220237731934,
          11.130072593688965,
          18.661483764648438,
          22.752838134765625,
          18.001659393310547,
          12.159923553466797,
          12.887977600097656,
          8.35811996459961,
          -0.8139142394065857,
          2.027204751968384,
          7.468051910400391,
          1.2707120180130005,
          5.956216335296631,
          10.15206241607666,
          -3.4114015102386475,
          -6.341794967651367,
          14.247503280639648,
          11.159634590148926,
          6.779940128326416,
          11.546669960021973
         ],
         "z": [
          1.0707563161849976,
          -5.909092903137207,
          -4.7671003341674805,
          -24.07701873779297,
          -33.48440933227539,
          -26.324810028076172,
          -37.819210052490234,
          -31.219423294067383,
          -34.108428955078125,
          -35.515663146972656,
          -36.9051399230957,
          -30.6036376953125,
          -18.30194091796875,
          -38.153995513916016,
          -31.614683151245117,
          -19.59468650817871,
          -25.901315689086914,
          -9.950779914855957,
          -46.11989974975586,
          -23.866294860839844,
          -0.7611690759658813,
          -14.287708282470703,
          -35.152748107910156,
          -29.71328353881836,
          -28.8810977935791,
          -32.26833724975586,
          -4.743813514709473,
          -37.261436462402344,
          -9.809110641479492,
          -2.067173719406128,
          -5.702500343322754,
          -7.954247951507568,
          -10.454730033874512,
          -2.626490354537964,
          -12.809462547302246,
          -21.633079528808594,
          -32.98579025268555,
          -23.936220169067383,
          -21.04807472229004,
          -17.45525360107422
         ]
        },
        {
         "hovertemplate": "color=r<br>x=%{x}<br>y=%{y}<br>z=%{z}<extra></extra>",
         "legendgroup": "r",
         "marker": {
          "color": "#ab63fa",
          "symbol": "circle"
         },
         "mode": "markers",
         "name": "r",
         "scene": "scene",
         "showlegend": true,
         "type": "scatter3d",
         "x": [
          36.54509735107422,
          17.31844139099121,
          -22.754709243774414,
          -19.675548553466797,
          -17.048694610595703,
          10.232571601867676,
          41.28952407836914,
          -9.822630882263184,
          -15.792283058166504,
          -1.8564423322677612,
          -2.6294307708740234,
          6.936176300048828,
          -28.506450653076172,
          36.008670806884766,
          43.15171432495117,
          -8.779141426086426,
          -3.6126821041107178,
          -1.544874668121338,
          31.870162963867188,
          -11.924895286560059,
          32.05215072631836,
          38.23526382446289,
          47.618873596191406,
          15.022124290466309,
          41.8694953918457,
          -2.966200113296509,
          41.292396545410156,
          5.697119235992432,
          1.6568546295166016,
          -17.237361907958984,
          26.21324920654297,
          34.59928894042969,
          32.43825149536133,
          19.50165557861328,
          36.883968353271484,
          -11.193283081054688,
          13.17175579071045,
          38.71916961669922,
          24.061941146850586,
          2.2687695026397705,
          42.601497650146484,
          30.598115921020508,
          -5.97688102722168,
          -2.897204875946045,
          40.338558197021484,
          -33.98460388183594,
          -23.045185089111328,
          -29.593191146850586,
          1.369336724281311,
          -25.055301666259766,
          -10.47549057006836
         ],
         "y": [
          -0.3089427649974823,
          -3.891378164291382,
          -39.71218490600586,
          -46.490745544433594,
          -40.960365295410156,
          -8.598394393920898,
          -2.9423906803131104,
          -44.19876480102539,
          -45.924041748046875,
          -13.501235961914062,
          -5.393011093139648,
          -12.458183288574219,
          -29.73209571838379,
          -1.1869007349014282,
          -15.870211601257324,
          -45.835453033447266,
          -10.280592918395996,
          -48.52754211425781,
          -14.658892631530762,
          2.9258534908294678,
          10.0380277633667,
          6.456844806671143,
          -0.6271780133247375,
          -6.373424530029297,
          -6.4476189613342285,
          -6.982762336730957,
          4.160768508911133,
          -5.732648849487305,
          -0.5948383808135986,
          0.4032908082008362,
          14.543256759643555,
          -8.765073776245117,
          5.644442081451416,
          10.30224895477295,
          -14.211349487304688,
          -50.220279693603516,
          7.433108329772949,
          -7.559817314147949,
          8.682747840881348,
          -0.25966185331344604,
          0.9106256365776062,
          12.585070610046387,
          -53.299869537353516,
          -48.39748001098633,
          -14.962660789489746,
          -31.637475967407227,
          -35.935401916503906,
          -37.55329895019531,
          -6.4299726486206055,
          -42.64028549194336,
          -49.00499725341797
         ],
         "z": [
          32.50771713256836,
          1.0731801986694336,
          24.497554779052734,
          26.81116485595703,
          29.673635482788086,
          -43.43484115600586,
          22.107019424438477,
          40.205631256103516,
          41.02446746826172,
          -33.98850631713867,
          -48.160064697265625,
          -35.49327850341797,
          23.336322784423828,
          16.080045700073242,
          21.93027114868164,
          22.51950454711914,
          -40.57453155517578,
          21.27958869934082,
          17.53269386291504,
          30.198013305664062,
          29.09090805053711,
          31.898487091064453,
          17.561880111694336,
          -47.798248291015625,
          15.137030601501465,
          -34.63541793823242,
          18.760896682739258,
          -48.56654739379883,
          -52.25743865966797,
          36.07051467895508,
          30.036157608032227,
          18.822589874267578,
          34.307621002197266,
          27.460451126098633,
          23.956201553344727,
          40.294193267822266,
          29.567874908447266,
          31.586631774902344,
          32.740962982177734,
          -45.80250549316406,
          11.661307334899902,
          35.190547943115234,
          24.542102813720703,
          28.15369415283203,
          15.919598579406738,
          27.933773040771484,
          30.49177360534668,
          26.942964553833008,
          -41.26649475097656,
          30.633563995361328,
          28.799419403076172
         ]
        },
        {
         "hovertemplate": "color=k<br>x=%{x}<br>y=%{y}<br>z=%{z}<extra></extra>",
         "legendgroup": "k",
         "marker": {
          "color": "#FFA15A",
          "symbol": "circle"
         },
         "mode": "markers",
         "name": "k",
         "scene": "scene",
         "showlegend": true,
         "type": "scatter3d",
         "x": [
          17.426639556884766,
          13.864554405212402,
          13.68448543548584,
          13.204663276672363,
          64.76774597167969,
          59.500892639160156,
          66.0881576538086,
          61.962703704833984,
          8.942296981811523,
          59.96726989746094,
          -2.322382688522339,
          2.421306610107422,
          5.376502513885498,
          11.588937759399414,
          8.015403747558594,
          4.997541427612305,
          2.902172803878784,
          -1.4471601247787476,
          -0.32099810242652893,
          -2.0200984477996826,
          3.8089399337768555,
          -11.653613090515137,
          3.9575343132019043,
          55.97785186767578,
          58.752845764160156,
          54.2212028503418,
          381.4656677246094
         ],
         "y": [
          -8.078539848327637,
          -16.234683990478516,
          -16.65142059326172,
          1.5339051485061646,
          -22.06831932067871,
          -17.188066482543945,
          -14.926514625549316,
          -18.041595458984375,
          7.534327507019043,
          -24.883922576904297,
          -15.545835494995117,
          -10.718011856079102,
          2.544459342956543,
          -9.077815055847168,
          -17.273855209350586,
          -5.114279270172119,
          -12.494165420532227,
          -9.074697494506836,
          -4.080954074859619,
          -15.423994064331055,
          -19.140701293945312,
          -8.06421184539795,
          -14.21461296081543,
          -23.935190200805664,
          -28.484830856323242,
          -24.387292861938477,
          -274.2107849121094
         ],
         "z": [
          22.01329803466797,
          20.875791549682617,
          27.24579620361328,
          25.220993041992188,
          3.99621319770813,
          5.511070251464844,
          3.705927610397339,
          -1.25104558467865,
          23.53043556213379,
          12.111656188964844,
          36.65970993041992,
          25.85362434387207,
          27.284868240356445,
          21.482402801513672,
          24.03944969177246,
          30.011363983154297,
          40.93939971923828,
          32.39864730834961,
          26.273088455200195,
          29.343456268310547,
          40.06369400024414,
          39.66081619262695,
          33.40922164916992,
          0.8650567531585693,
          4.5400614738464355,
          7.392119884490967,
          74.76422882080078
         ]
        },
        {
         "hovertemplate": "color=b<br>x=%{x}<br>y=%{y}<br>z=%{z}<extra></extra>",
         "legendgroup": "b",
         "marker": {
          "color": "#19d3f3",
          "symbol": "circle"
         },
         "mode": "markers",
         "name": "b",
         "scene": "scene",
         "showlegend": true,
         "type": "scatter3d",
         "x": [
          -2.723491907119751,
          -1.171699047088623,
          -45.444061279296875,
          9.953486442565918,
          0.021394478157162666,
          21.548961639404297,
          -41.68955993652344,
          -21.152366638183594,
          -24.676433563232422,
          -20.642356872558594,
          -23.93043327331543,
          5.590156078338623,
          -1.939184546470642,
          5.834759712219238,
          -33.79261016845703,
          14.025867462158203,
          4.209362983703613,
          -3.345693588256836,
          18.730405807495117,
          -40.11804962158203,
          11.196072578430176,
          -34.02729797363281,
          -33.93227005004883,
          2.2611172199249268,
          22.715776443481445,
          -45.456478118896484,
          0.9854949116706848,
          17.964502334594727,
          -0.4018668234348297,
          -34.036502838134766,
          -41.253143310546875,
          -35.026878356933594,
          -38.376529693603516,
          -30.49472999572754,
          8.75153923034668,
          -27.236251831054688,
          -37.63077163696289,
          3.197556734085083,
          2.408815383911133,
          1.4041728973388672,
          -31.360368728637695,
          -38.55357360839844,
          -36.43458938598633,
          -40.424808502197266,
          -41.902259826660156,
          415.110107421875,
          26.81038475036621
         ],
         "y": [
          -2.144113302230835,
          -12.486394882202148,
          -12.236234664916992,
          11.983192443847656,
          11.872949600219727,
          -15.966225624084473,
          -33.374263763427734,
          -1.0609145164489746,
          2.9038076400756836,
          -1.4680218696594238,
          -6.438807487487793,
          6.188862323760986,
          4.736813068389893,
          -11.952911376953125,
          -37.05177307128906,
          -16.16900062561035,
          -0.06579822301864624,
          3.805025100708008,
          -11.307856559753418,
          -27.03129768371582,
          -13.020894050598145,
          -25.437294006347656,
          -31.93608283996582,
          -17.387208938598633,
          -16.763534545898438,
          -7.429357051849365,
          -11.282980918884277,
          -11.542818069458008,
          -2.7355544567108154,
          -13.740813255310059,
          -4.282449245452881,
          -23.346933364868164,
          -8.507059097290039,
          -19.597965240478516,
          -3.7474558353424072,
          -33.49415588378906,
          -18.816558837890625,
          6.5722198486328125,
          -0.5861486792564392,
          -13.349055290222168,
          -16.900516510009766,
          -17.040021896362305,
          -0.8281712532043457,
          -10.598328590393066,
          -26.568504333496094,
          -81.22452545166016,
          -14.315642356872559
         ],
         "z": [
          62.370765686035156,
          54.73850631713867,
          -12.849360466003418,
          63.74290466308594,
          64.165771484375,
          -41.05643844604492,
          25.652063369750977,
          -4.917496204376221,
          -1.7133527994155884,
          2.2486515045166016,
          2.4493980407714844,
          65.8389892578125,
          65.69849395751953,
          56.66683578491211,
          -24.968191146850586,
          -35.0045166015625,
          60.751522064208984,
          58.518306732177734,
          -38.57642364501953,
          18.542598724365234,
          -30.00790023803711,
          22.29064178466797,
          20.226146697998047,
          58.61332702636719,
          -34.550018310546875,
          -8.673336029052734,
          61.563358306884766,
          -47.07600021362305,
          55.38503646850586,
          11.827498435974121,
          -2.278958559036255,
          10.406377792358398,
          -6.71610164642334,
          13.87594985961914,
          6.627070903778076,
          7.025057315826416,
          14.885250091552734,
          58.752525329589844,
          68.0643539428711,
          48.11505889892578,
          5.761484622955322,
          7.203179359436035,
          -6.269811630249023,
          1.861651062965393,
          25.131973266601562,
          -100.28587341308594,
          -24.19405174255371
         ]
        },
        {
         "hovertemplate": "color=m<br>x=%{x}<br>y=%{y}<br>z=%{z}<extra></extra>",
         "legendgroup": "m",
         "marker": {
          "color": "#FF6692",
          "symbol": "circle"
         },
         "mode": "markers",
         "name": "m",
         "scene": "scene",
         "showlegend": true,
         "type": "scatter3d",
         "x": [
          16.56028175354004,
          5.292171955108643,
          -2.703735828399658,
          -15.631858825683594,
          17.866191864013672,
          -10.13161849975586,
          -1.3390121459960938,
          -5.927724838256836,
          10.899405479431152,
          24.904003143310547,
          -0.6624883413314819,
          -18.88324737548828,
          -11.58227252960205,
          53.038124084472656,
          -12.058188438415527,
          -1.0446034669876099,
          1.3474305868148804,
          14.397239685058594,
          3.9518167972564697,
          -5.697696208953857,
          -12.084038734436035,
          -1.3857922554016113,
          9.78036117553711,
          25.915071487426758,
          13.441794395446777,
          23.269777297973633,
          17.53169059753418,
          -2.21939754486084,
          20.97791290283203,
          -5.378969192504883,
          -8.751496315002441,
          16.521608352661133,
          -5.596000671386719,
          5.251281261444092,
          5.046977519989014,
          6.621398448944092,
          24.73394203186035,
          -9.652202606201172,
          1.1367303133010864,
          -2.153221368789673,
          10.773776054382324,
          23.10454750061035,
          2.318570613861084,
          25.11918830871582,
          18.785581588745117,
          -19.80034637451172
         ],
         "y": [
          42.36664962768555,
          40.070701599121094,
          -56.17182540893555,
          -44.6510009765625,
          43.52997589111328,
          -49.06418228149414,
          40.3387451171875,
          -46.09623718261719,
          45.298683166503906,
          46.778594970703125,
          -40.37160110473633,
          -38.8814811706543,
          -48.08837890625,
          65.92130279541016,
          -43.59121322631836,
          -46.24006652832031,
          -52.468177795410156,
          35.917659759521484,
          45.92818832397461,
          -57.46699905395508,
          -39.96914291381836,
          39.804691314697266,
          46.97278594970703,
          50.289703369140625,
          47.812843322753906,
          26.267967224121094,
          48.597740173339844,
          -52.670928955078125,
          44.2031364440918,
          -51.435890197753906,
          -54.678504943847656,
          25.440570831298828,
          -49.6814079284668,
          43.70981216430664,
          48.79405212402344,
          42.94888687133789,
          48.741004943847656,
          -43.16789245605469,
          -47.07933044433594,
          -50.63668441772461,
          46.659915924072266,
          43.62117385864258,
          44.1308479309082,
          24.613964080810547,
          48.94527053833008,
          -31.96183967590332
         ],
         "z": [
          -12.137078285217285,
          -7.940239429473877,
          -0.5024762749671936,
          1.9737281799316406,
          -20.194133758544922,
          1.7497535943984985,
          6.251334190368652,
          -2.0498650074005127,
          2.6452038288116455,
          -5.3810200691223145,
          -14.147403717041016,
          -1.3960741758346558,
          -5.696078300476074,
          56.08290100097656,
          12.749641418457031,
          13.549424171447754,
          14.621380805969238,
          -7.007053852081299,
          -4.722923755645752,
          -10.17265510559082,
          -1.1293432712554932,
          -17.78889274597168,
          -13.795010566711426,
          -13.834531784057617,
          -25.050817489624023,
          -6.786925315856934,
          -6.8527750968933105,
          -6.575531482696533,
          -0.05764567852020264,
          14.846960067749023,
          -3.972951889038086,
          -8.03001880645752,
          -13.404658317565918,
          6.578206539154053,
          6.939187049865723,
          -17.94472312927246,
          -20.483386993408203,
          7.247771739959717,
          -0.7055607438087463,
          8.110678672790527,
          -5.369344234466553,
          -14.752630233764648,
          -13.173526763916016,
          -12.897253036499023,
          -15.422608375549316,
          4.390992641448975
         ]
        }
       ],
       "layout": {
        "legend": {
         "title": {
          "text": "color"
         },
         "tracegroupgap": 0
        },
        "margin": {
         "t": 60
        },
        "scene": {
         "domain": {
          "x": [
           0,
           1
          ],
          "y": [
           0,
           1
          ]
         },
         "xaxis": {
          "title": {
           "text": "x"
          }
         },
         "yaxis": {
          "title": {
           "text": "y"
          }
         },
         "zaxis": {
          "title": {
           "text": "z"
          }
         }
        },
        "template": {
         "data": {
          "bar": [
           {
            "error_x": {
             "color": "#2a3f5f"
            },
            "error_y": {
             "color": "#2a3f5f"
            },
            "marker": {
             "line": {
              "color": "#E5ECF6",
              "width": 0.5
             },
             "pattern": {
              "fillmode": "overlay",
              "size": 10,
              "solidity": 0.2
             }
            },
            "type": "bar"
           }
          ],
          "barpolar": [
           {
            "marker": {
             "line": {
              "color": "#E5ECF6",
              "width": 0.5
             },
             "pattern": {
              "fillmode": "overlay",
              "size": 10,
              "solidity": 0.2
             }
            },
            "type": "barpolar"
           }
          ],
          "carpet": [
           {
            "aaxis": {
             "endlinecolor": "#2a3f5f",
             "gridcolor": "white",
             "linecolor": "white",
             "minorgridcolor": "white",
             "startlinecolor": "#2a3f5f"
            },
            "baxis": {
             "endlinecolor": "#2a3f5f",
             "gridcolor": "white",
             "linecolor": "white",
             "minorgridcolor": "white",
             "startlinecolor": "#2a3f5f"
            },
            "type": "carpet"
           }
          ],
          "choropleth": [
           {
            "colorbar": {
             "outlinewidth": 0,
             "ticks": ""
            },
            "type": "choropleth"
           }
          ],
          "contour": [
           {
            "colorbar": {
             "outlinewidth": 0,
             "ticks": ""
            },
            "colorscale": [
             [
              0,
              "#0d0887"
             ],
             [
              0.1111111111111111,
              "#46039f"
             ],
             [
              0.2222222222222222,
              "#7201a8"
             ],
             [
              0.3333333333333333,
              "#9c179e"
             ],
             [
              0.4444444444444444,
              "#bd3786"
             ],
             [
              0.5555555555555556,
              "#d8576b"
             ],
             [
              0.6666666666666666,
              "#ed7953"
             ],
             [
              0.7777777777777778,
              "#fb9f3a"
             ],
             [
              0.8888888888888888,
              "#fdca26"
             ],
             [
              1,
              "#f0f921"
             ]
            ],
            "type": "contour"
           }
          ],
          "contourcarpet": [
           {
            "colorbar": {
             "outlinewidth": 0,
             "ticks": ""
            },
            "type": "contourcarpet"
           }
          ],
          "heatmap": [
           {
            "colorbar": {
             "outlinewidth": 0,
             "ticks": ""
            },
            "colorscale": [
             [
              0,
              "#0d0887"
             ],
             [
              0.1111111111111111,
              "#46039f"
             ],
             [
              0.2222222222222222,
              "#7201a8"
             ],
             [
              0.3333333333333333,
              "#9c179e"
             ],
             [
              0.4444444444444444,
              "#bd3786"
             ],
             [
              0.5555555555555556,
              "#d8576b"
             ],
             [
              0.6666666666666666,
              "#ed7953"
             ],
             [
              0.7777777777777778,
              "#fb9f3a"
             ],
             [
              0.8888888888888888,
              "#fdca26"
             ],
             [
              1,
              "#f0f921"
             ]
            ],
            "type": "heatmap"
           }
          ],
          "heatmapgl": [
           {
            "colorbar": {
             "outlinewidth": 0,
             "ticks": ""
            },
            "colorscale": [
             [
              0,
              "#0d0887"
             ],
             [
              0.1111111111111111,
              "#46039f"
             ],
             [
              0.2222222222222222,
              "#7201a8"
             ],
             [
              0.3333333333333333,
              "#9c179e"
             ],
             [
              0.4444444444444444,
              "#bd3786"
             ],
             [
              0.5555555555555556,
              "#d8576b"
             ],
             [
              0.6666666666666666,
              "#ed7953"
             ],
             [
              0.7777777777777778,
              "#fb9f3a"
             ],
             [
              0.8888888888888888,
              "#fdca26"
             ],
             [
              1,
              "#f0f921"
             ]
            ],
            "type": "heatmapgl"
           }
          ],
          "histogram": [
           {
            "marker": {
             "pattern": {
              "fillmode": "overlay",
              "size": 10,
              "solidity": 0.2
             }
            },
            "type": "histogram"
           }
          ],
          "histogram2d": [
           {
            "colorbar": {
             "outlinewidth": 0,
             "ticks": ""
            },
            "colorscale": [
             [
              0,
              "#0d0887"
             ],
             [
              0.1111111111111111,
              "#46039f"
             ],
             [
              0.2222222222222222,
              "#7201a8"
             ],
             [
              0.3333333333333333,
              "#9c179e"
             ],
             [
              0.4444444444444444,
              "#bd3786"
             ],
             [
              0.5555555555555556,
              "#d8576b"
             ],
             [
              0.6666666666666666,
              "#ed7953"
             ],
             [
              0.7777777777777778,
              "#fb9f3a"
             ],
             [
              0.8888888888888888,
              "#fdca26"
             ],
             [
              1,
              "#f0f921"
             ]
            ],
            "type": "histogram2d"
           }
          ],
          "histogram2dcontour": [
           {
            "colorbar": {
             "outlinewidth": 0,
             "ticks": ""
            },
            "colorscale": [
             [
              0,
              "#0d0887"
             ],
             [
              0.1111111111111111,
              "#46039f"
             ],
             [
              0.2222222222222222,
              "#7201a8"
             ],
             [
              0.3333333333333333,
              "#9c179e"
             ],
             [
              0.4444444444444444,
              "#bd3786"
             ],
             [
              0.5555555555555556,
              "#d8576b"
             ],
             [
              0.6666666666666666,
              "#ed7953"
             ],
             [
              0.7777777777777778,
              "#fb9f3a"
             ],
             [
              0.8888888888888888,
              "#fdca26"
             ],
             [
              1,
              "#f0f921"
             ]
            ],
            "type": "histogram2dcontour"
           }
          ],
          "mesh3d": [
           {
            "colorbar": {
             "outlinewidth": 0,
             "ticks": ""
            },
            "type": "mesh3d"
           }
          ],
          "parcoords": [
           {
            "line": {
             "colorbar": {
              "outlinewidth": 0,
              "ticks": ""
             }
            },
            "type": "parcoords"
           }
          ],
          "pie": [
           {
            "automargin": true,
            "type": "pie"
           }
          ],
          "scatter": [
           {
            "fillpattern": {
             "fillmode": "overlay",
             "size": 10,
             "solidity": 0.2
            },
            "type": "scatter"
           }
          ],
          "scatter3d": [
           {
            "line": {
             "colorbar": {
              "outlinewidth": 0,
              "ticks": ""
             }
            },
            "marker": {
             "colorbar": {
              "outlinewidth": 0,
              "ticks": ""
             }
            },
            "type": "scatter3d"
           }
          ],
          "scattercarpet": [
           {
            "marker": {
             "colorbar": {
              "outlinewidth": 0,
              "ticks": ""
             }
            },
            "type": "scattercarpet"
           }
          ],
          "scattergeo": [
           {
            "marker": {
             "colorbar": {
              "outlinewidth": 0,
              "ticks": ""
             }
            },
            "type": "scattergeo"
           }
          ],
          "scattergl": [
           {
            "marker": {
             "colorbar": {
              "outlinewidth": 0,
              "ticks": ""
             }
            },
            "type": "scattergl"
           }
          ],
          "scattermapbox": [
           {
            "marker": {
             "colorbar": {
              "outlinewidth": 0,
              "ticks": ""
             }
            },
            "type": "scattermapbox"
           }
          ],
          "scatterpolar": [
           {
            "marker": {
             "colorbar": {
              "outlinewidth": 0,
              "ticks": ""
             }
            },
            "type": "scatterpolar"
           }
          ],
          "scatterpolargl": [
           {
            "marker": {
             "colorbar": {
              "outlinewidth": 0,
              "ticks": ""
             }
            },
            "type": "scatterpolargl"
           }
          ],
          "scatterternary": [
           {
            "marker": {
             "colorbar": {
              "outlinewidth": 0,
              "ticks": ""
             }
            },
            "type": "scatterternary"
           }
          ],
          "surface": [
           {
            "colorbar": {
             "outlinewidth": 0,
             "ticks": ""
            },
            "colorscale": [
             [
              0,
              "#0d0887"
             ],
             [
              0.1111111111111111,
              "#46039f"
             ],
             [
              0.2222222222222222,
              "#7201a8"
             ],
             [
              0.3333333333333333,
              "#9c179e"
             ],
             [
              0.4444444444444444,
              "#bd3786"
             ],
             [
              0.5555555555555556,
              "#d8576b"
             ],
             [
              0.6666666666666666,
              "#ed7953"
             ],
             [
              0.7777777777777778,
              "#fb9f3a"
             ],
             [
              0.8888888888888888,
              "#fdca26"
             ],
             [
              1,
              "#f0f921"
             ]
            ],
            "type": "surface"
           }
          ],
          "table": [
           {
            "cells": {
             "fill": {
              "color": "#EBF0F8"
             },
             "line": {
              "color": "white"
             }
            },
            "header": {
             "fill": {
              "color": "#C8D4E3"
             },
             "line": {
              "color": "white"
             }
            },
            "type": "table"
           }
          ]
         },
         "layout": {
          "annotationdefaults": {
           "arrowcolor": "#2a3f5f",
           "arrowhead": 0,
           "arrowwidth": 1
          },
          "autotypenumbers": "strict",
          "coloraxis": {
           "colorbar": {
            "outlinewidth": 0,
            "ticks": ""
           }
          },
          "colorscale": {
           "diverging": [
            [
             0,
             "#8e0152"
            ],
            [
             0.1,
             "#c51b7d"
            ],
            [
             0.2,
             "#de77ae"
            ],
            [
             0.3,
             "#f1b6da"
            ],
            [
             0.4,
             "#fde0ef"
            ],
            [
             0.5,
             "#f7f7f7"
            ],
            [
             0.6,
             "#e6f5d0"
            ],
            [
             0.7,
             "#b8e186"
            ],
            [
             0.8,
             "#7fbc41"
            ],
            [
             0.9,
             "#4d9221"
            ],
            [
             1,
             "#276419"
            ]
           ],
           "sequential": [
            [
             0,
             "#0d0887"
            ],
            [
             0.1111111111111111,
             "#46039f"
            ],
            [
             0.2222222222222222,
             "#7201a8"
            ],
            [
             0.3333333333333333,
             "#9c179e"
            ],
            [
             0.4444444444444444,
             "#bd3786"
            ],
            [
             0.5555555555555556,
             "#d8576b"
            ],
            [
             0.6666666666666666,
             "#ed7953"
            ],
            [
             0.7777777777777778,
             "#fb9f3a"
            ],
            [
             0.8888888888888888,
             "#fdca26"
            ],
            [
             1,
             "#f0f921"
            ]
           ],
           "sequentialminus": [
            [
             0,
             "#0d0887"
            ],
            [
             0.1111111111111111,
             "#46039f"
            ],
            [
             0.2222222222222222,
             "#7201a8"
            ],
            [
             0.3333333333333333,
             "#9c179e"
            ],
            [
             0.4444444444444444,
             "#bd3786"
            ],
            [
             0.5555555555555556,
             "#d8576b"
            ],
            [
             0.6666666666666666,
             "#ed7953"
            ],
            [
             0.7777777777777778,
             "#fb9f3a"
            ],
            [
             0.8888888888888888,
             "#fdca26"
            ],
            [
             1,
             "#f0f921"
            ]
           ]
          },
          "colorway": [
           "#636efa",
           "#EF553B",
           "#00cc96",
           "#ab63fa",
           "#FFA15A",
           "#19d3f3",
           "#FF6692",
           "#B6E880",
           "#FF97FF",
           "#FECB52"
          ],
          "font": {
           "color": "#2a3f5f"
          },
          "geo": {
           "bgcolor": "white",
           "lakecolor": "white",
           "landcolor": "#E5ECF6",
           "showlakes": true,
           "showland": true,
           "subunitcolor": "white"
          },
          "hoverlabel": {
           "align": "left"
          },
          "hovermode": "closest",
          "mapbox": {
           "style": "light"
          },
          "paper_bgcolor": "white",
          "plot_bgcolor": "#E5ECF6",
          "polar": {
           "angularaxis": {
            "gridcolor": "white",
            "linecolor": "white",
            "ticks": ""
           },
           "bgcolor": "#E5ECF6",
           "radialaxis": {
            "gridcolor": "white",
            "linecolor": "white",
            "ticks": ""
           }
          },
          "scene": {
           "xaxis": {
            "backgroundcolor": "#E5ECF6",
            "gridcolor": "white",
            "gridwidth": 2,
            "linecolor": "white",
            "showbackground": true,
            "ticks": "",
            "zerolinecolor": "white"
           },
           "yaxis": {
            "backgroundcolor": "#E5ECF6",
            "gridcolor": "white",
            "gridwidth": 2,
            "linecolor": "white",
            "showbackground": true,
            "ticks": "",
            "zerolinecolor": "white"
           },
           "zaxis": {
            "backgroundcolor": "#E5ECF6",
            "gridcolor": "white",
            "gridwidth": 2,
            "linecolor": "white",
            "showbackground": true,
            "ticks": "",
            "zerolinecolor": "white"
           }
          },
          "shapedefaults": {
           "line": {
            "color": "#2a3f5f"
           }
          },
          "ternary": {
           "aaxis": {
            "gridcolor": "white",
            "linecolor": "white",
            "ticks": ""
           },
           "baxis": {
            "gridcolor": "white",
            "linecolor": "white",
            "ticks": ""
           },
           "bgcolor": "#E5ECF6",
           "caxis": {
            "gridcolor": "white",
            "linecolor": "white",
            "ticks": ""
           }
          },
          "title": {
           "x": 0.05
          },
          "xaxis": {
           "automargin": true,
           "gridcolor": "white",
           "linecolor": "white",
           "ticks": "",
           "title": {
            "standoff": 15
           },
           "zerolinecolor": "white",
           "zerolinewidth": 2
          },
          "yaxis": {
           "automargin": true,
           "gridcolor": "white",
           "linecolor": "white",
           "ticks": "",
           "title": {
            "standoff": 15
           },
           "zerolinecolor": "white",
           "zerolinewidth": 2
          }
         }
        }
       }
      },
      "text/html": [
       "<div>                            <div id=\"0a9cd4b5-387f-410f-aba0-ddbac64c84c9\" class=\"plotly-graph-div\" style=\"height:525px; width:100%;\"></div>            <script type=\"text/javascript\">                require([\"plotly\"], function(Plotly) {                    window.PLOTLYENV=window.PLOTLYENV || {};                                    if (document.getElementById(\"0a9cd4b5-387f-410f-aba0-ddbac64c84c9\")) {                    Plotly.newPlot(                        \"0a9cd4b5-387f-410f-aba0-ddbac64c84c9\",                        [{\"hovertemplate\":\"color=g<br>x=%{x}<br>y=%{y}<br>z=%{z}<extra></extra>\",\"legendgroup\":\"g\",\"marker\":{\"color\":\"#636efa\",\"symbol\":\"circle\"},\"mode\":\"markers\",\"name\":\"g\",\"scene\":\"scene\",\"showlegend\":true,\"x\":[44.333091735839844,40.457435607910156,33.803688049316406,37.70640182495117,28.775732040405273,26.820884704589844,38.31059646606445,42.15549087524414,28.03256607055664,47.94922637939453,48.517234802246094,53.56420135498047,49.24894714355469,27.545549392700195,31.907848358154297,39.876373291015625,34.451995849609375,30.39902114868164,33.68363571166992,31.825847625732422,46.829341888427734,32.876258850097656,40.25762939453125,37.8852424621582,33.62289810180664,45.62045669555664,23.39938735961914,20.533584594726562,38.88289260864258,45.268436431884766],\"y\":[-16.065616607666016,-26.887832641601562,-24.04093360900879,-25.76045036315918,-23.615625381469727,-18.213123321533203,18.12321662902832,12.345269203186035,16.613340377807617,18.092037200927734,7.910039901733398,13.618258476257324,13.309557914733887,23.183429718017578,20.72772979736328,18.553199768066406,13.492189407348633,22.391983032226562,19.01876449584961,15.319490432739258,12.536465644836426,20.97112464904785,13.543110847473145,-18.9560604095459,-19.28281021118164,-22.559337615966797,-23.556793212890625,-22.3223934173584,-19.96884536743164,-21.783233642578125],\"z\":[-35.27585220336914,-36.28977584838867,-35.92921829223633,-29.693374633789062,-12.154041290283203,-10.473889350891113,-28.98185157775879,-31.109804153442383,-38.44881820678711,-29.371604919433594,-30.111501693725586,-28.196332931518555,-34.658103942871094,-18.922168731689453,-15.729670524597168,-36.07650375366211,-37.39509963989258,-24.70922088623047,-41.806671142578125,-30.602500915527344,-24.875102996826172,-35.24464416503906,-43.06795120239258,-32.34811019897461,-10.593071937561035,-38.71394348144531,-6.496891021728516,-11.92890739440918,-39.53147506713867,-31.28326988220215],\"type\":\"scatter3d\"},{\"hovertemplate\":\"color=c<br>x=%{x}<br>y=%{y}<br>z=%{z}<extra></extra>\",\"legendgroup\":\"c\",\"marker\":{\"color\":\"#EF553B\",\"symbol\":\"circle\"},\"mode\":\"markers\",\"name\":\"c\",\"scene\":\"scene\",\"showlegend\":true,\"x\":[-26.07970428466797,-23.242748260498047,-23.137264251708984,14.634523391723633,-22.713090896606445,-7.4945387840271,-208.0128936767578,-16.536378860473633,248.03890991210938,-11.133111953735352,-22.331729888916016,3.4288735389709473,-26.639406204223633,0.24146465957164764,-26.235504150390625,3.543884038925171,-11.62868881225586,-29.90022850036621,-15.436470985412598,-26.37323570251465,-27.20089340209961,-33.16579055786133,-28.748905181884766,-9.995481491088867,1.8472745418548584,-21.858074188232422,9.077073097229004,-14.77304458618164,-30.16083335876465,-23.108692169189453,-30.519485473632812,-4.815279006958008,-10.58741569519043,3.8039510250091553,-12.209628105163574,-27.960628509521484,-16.497482299804688,-30.323383331298828,-24.693145751953125,-1.345916748046875,4.2230706214904785,0.5371698141098022,-2.745018243789673,-30.20924949645996,-31.936161041259766,-7.6529107093811035,64.01361083984375,-17.264867782592773,-19.79914665222168,-26.80898666381836,-17.941354751586914,-16.577613830566406,-25.745737075805664,-6.5025105476379395,-18.84783172607422,38.07932662963867,-17.939599990844727,-7.877898693084717,-199.68650817871094],\"y\":[57.9052848815918,42.207061767578125,41.145931243896484,-24.747774124145508,48.44337844848633,37.99913787841797,-1.0894535779953003,39.7817268371582,56.483543395996094,27.46794891357422,24.98116111755371,-27.541765213012695,41.685325622558594,-19.564197540283203,38.417545318603516,-17.513856887817383,22.43937110900879,40.69866943359375,25.85468292236328,29.918067932128906,45.814674377441406,43.01995086669922,37.483680725097656,29.973129272460938,36.98595428466797,16.114246368408203,-23.289091110229492,33.266868591308594,59.28567123413086,35.58406066894531,13.105178833007812,36.7418327331543,31.693939208984375,-13.502406120300293,26.943382263183594,35.82125473022461,20.18877601623535,43.325927734375,14.870691299438477,-15.615185737609863,-19.675338745117188,-28.662050247192383,-23.5835018157959,36.016685485839844,49.017887115478516,36.686214447021484,-77.06538391113281,23.205875396728516,24.45499038696289,19.87933349609375,25.582176208496094,29.51909065246582,54.79482650756836,-18.99620246887207,55.45282745361328,12.369837760925293,28.848953247070312,41.184539794921875,-62.791770935058594],\"z\":[-0.0686807930469513,9.598604202270508,-8.381636619567871,-24.806499481201172,-9.379295349121094,7.176764488220215,-63.964290618896484,7.507610321044922,35.901893615722656,41.595542907714844,10.945697784423828,-11.080911636352539,18.049333572387695,-16.09330940246582,0.5319599509239197,-32.82252883911133,35.52888107299805,-5.418031215667725,13.196861267089844,19.883609771728516,3.3972971439361572,1.8324861526489258,7.641336441040039,35.11084747314453,37.10123062133789,36.30066680908203,-8.402348518371582,39.01411437988281,-3.582852602005005,17.477602005004883,36.684425354003906,0.16364941000938416,11.128562927246094,-18.42613983154297,26.77010154724121,22.879167556762695,41.59455490112305,12.310640335083008,42.21770477294922,-22.354541778564453,-22.42157554626465,-17.531978607177734,-21.056915283203125,15.093770027160645,-3.3778865337371826,-6.647945404052734,54.870849609375,24.0039005279541,17.477005004882812,38.8416748046875,37.14581298828125,7.07971715927124,-7.352822780609131,-17.26817512512207,-10.445942878723145,75.83161163330078,27.593807220458984,-2.5195364952087402,2.6602039337158203],\"type\":\"scatter3d\"},{\"hovertemplate\":\"color=y<br>x=%{x}<br>y=%{y}<br>z=%{z}<extra></extra>\",\"legendgroup\":\"y\",\"marker\":{\"color\":\"#00cc96\",\"symbol\":\"circle\"},\"mode\":\"markers\",\"name\":\"y\",\"scene\":\"scene\",\"showlegend\":true,\"x\":[20.669437408447266,23.285356521606445,14.318075180053711,-45.77070617675781,-44.4318962097168,-46.761634826660156,-31.07154083251953,-32.82084655761719,-51.77715301513672,-46.94553756713867,-36.73927307128906,-40.142486572265625,-39.95536804199219,-33.7164421081543,-35.0137825012207,26.755842208862305,-24.53474998474121,-22.43345832824707,10.623516082763672,-41.44819259643555,25.906238555908203,29.980424880981445,-20.456636428833008,-23.287139892578125,-17.985692977905273,-19.69509506225586,23.861555099487305,-39.52353286743164,-42.565589904785156,17.176090240478516,19.18052101135254,-26.75934410095215,25.1873836517334,8.797558784484863,-37.335845947265625,-48.15592956542969,-27.04729461669922,-30.361921310424805,-25.008546829223633,-24.915658950805664],\"y\":[11.328883171081543,1.5483590364456177,12.892512321472168,0.005561981815844774,-1.6319793462753296,-10.050824165344238,7.372477054595947,4.931432247161865,-8.534860610961914,-11.20909309387207,2.0200445652008057,5.8658294677734375,1.1466240882873535,13.701102256774902,11.746820449829102,323.65106201171875,12.423872947692871,7.618286609649658,20.047807693481445,-3.967625617980957,8.014220237731934,11.130072593688965,18.661483764648438,22.752838134765625,18.001659393310547,12.159923553466797,12.887977600097656,8.35811996459961,-0.8139142394065857,2.027204751968384,7.468051910400391,1.2707120180130005,5.956216335296631,10.15206241607666,-3.4114015102386475,-6.341794967651367,14.247503280639648,11.159634590148926,6.779940128326416,11.546669960021973],\"z\":[1.0707563161849976,-5.909092903137207,-4.7671003341674805,-24.07701873779297,-33.48440933227539,-26.324810028076172,-37.819210052490234,-31.219423294067383,-34.108428955078125,-35.515663146972656,-36.9051399230957,-30.6036376953125,-18.30194091796875,-38.153995513916016,-31.614683151245117,-19.59468650817871,-25.901315689086914,-9.950779914855957,-46.11989974975586,-23.866294860839844,-0.7611690759658813,-14.287708282470703,-35.152748107910156,-29.71328353881836,-28.8810977935791,-32.26833724975586,-4.743813514709473,-37.261436462402344,-9.809110641479492,-2.067173719406128,-5.702500343322754,-7.954247951507568,-10.454730033874512,-2.626490354537964,-12.809462547302246,-21.633079528808594,-32.98579025268555,-23.936220169067383,-21.04807472229004,-17.45525360107422],\"type\":\"scatter3d\"},{\"hovertemplate\":\"color=r<br>x=%{x}<br>y=%{y}<br>z=%{z}<extra></extra>\",\"legendgroup\":\"r\",\"marker\":{\"color\":\"#ab63fa\",\"symbol\":\"circle\"},\"mode\":\"markers\",\"name\":\"r\",\"scene\":\"scene\",\"showlegend\":true,\"x\":[36.54509735107422,17.31844139099121,-22.754709243774414,-19.675548553466797,-17.048694610595703,10.232571601867676,41.28952407836914,-9.822630882263184,-15.792283058166504,-1.8564423322677612,-2.6294307708740234,6.936176300048828,-28.506450653076172,36.008670806884766,43.15171432495117,-8.779141426086426,-3.6126821041107178,-1.544874668121338,31.870162963867188,-11.924895286560059,32.05215072631836,38.23526382446289,47.618873596191406,15.022124290466309,41.8694953918457,-2.966200113296509,41.292396545410156,5.697119235992432,1.6568546295166016,-17.237361907958984,26.21324920654297,34.59928894042969,32.43825149536133,19.50165557861328,36.883968353271484,-11.193283081054688,13.17175579071045,38.71916961669922,24.061941146850586,2.2687695026397705,42.601497650146484,30.598115921020508,-5.97688102722168,-2.897204875946045,40.338558197021484,-33.98460388183594,-23.045185089111328,-29.593191146850586,1.369336724281311,-25.055301666259766,-10.47549057006836],\"y\":[-0.3089427649974823,-3.891378164291382,-39.71218490600586,-46.490745544433594,-40.960365295410156,-8.598394393920898,-2.9423906803131104,-44.19876480102539,-45.924041748046875,-13.501235961914062,-5.393011093139648,-12.458183288574219,-29.73209571838379,-1.1869007349014282,-15.870211601257324,-45.835453033447266,-10.280592918395996,-48.52754211425781,-14.658892631530762,2.9258534908294678,10.0380277633667,6.456844806671143,-0.6271780133247375,-6.373424530029297,-6.4476189613342285,-6.982762336730957,4.160768508911133,-5.732648849487305,-0.5948383808135986,0.4032908082008362,14.543256759643555,-8.765073776245117,5.644442081451416,10.30224895477295,-14.211349487304688,-50.220279693603516,7.433108329772949,-7.559817314147949,8.682747840881348,-0.25966185331344604,0.9106256365776062,12.585070610046387,-53.299869537353516,-48.39748001098633,-14.962660789489746,-31.637475967407227,-35.935401916503906,-37.55329895019531,-6.4299726486206055,-42.64028549194336,-49.00499725341797],\"z\":[32.50771713256836,1.0731801986694336,24.497554779052734,26.81116485595703,29.673635482788086,-43.43484115600586,22.107019424438477,40.205631256103516,41.02446746826172,-33.98850631713867,-48.160064697265625,-35.49327850341797,23.336322784423828,16.080045700073242,21.93027114868164,22.51950454711914,-40.57453155517578,21.27958869934082,17.53269386291504,30.198013305664062,29.09090805053711,31.898487091064453,17.561880111694336,-47.798248291015625,15.137030601501465,-34.63541793823242,18.760896682739258,-48.56654739379883,-52.25743865966797,36.07051467895508,30.036157608032227,18.822589874267578,34.307621002197266,27.460451126098633,23.956201553344727,40.294193267822266,29.567874908447266,31.586631774902344,32.740962982177734,-45.80250549316406,11.661307334899902,35.190547943115234,24.542102813720703,28.15369415283203,15.919598579406738,27.933773040771484,30.49177360534668,26.942964553833008,-41.26649475097656,30.633563995361328,28.799419403076172],\"type\":\"scatter3d\"},{\"hovertemplate\":\"color=k<br>x=%{x}<br>y=%{y}<br>z=%{z}<extra></extra>\",\"legendgroup\":\"k\",\"marker\":{\"color\":\"#FFA15A\",\"symbol\":\"circle\"},\"mode\":\"markers\",\"name\":\"k\",\"scene\":\"scene\",\"showlegend\":true,\"x\":[17.426639556884766,13.864554405212402,13.68448543548584,13.204663276672363,64.76774597167969,59.500892639160156,66.0881576538086,61.962703704833984,8.942296981811523,59.96726989746094,-2.322382688522339,2.421306610107422,5.376502513885498,11.588937759399414,8.015403747558594,4.997541427612305,2.902172803878784,-1.4471601247787476,-0.32099810242652893,-2.0200984477996826,3.8089399337768555,-11.653613090515137,3.9575343132019043,55.97785186767578,58.752845764160156,54.2212028503418,381.4656677246094],\"y\":[-8.078539848327637,-16.234683990478516,-16.65142059326172,1.5339051485061646,-22.06831932067871,-17.188066482543945,-14.926514625549316,-18.041595458984375,7.534327507019043,-24.883922576904297,-15.545835494995117,-10.718011856079102,2.544459342956543,-9.077815055847168,-17.273855209350586,-5.114279270172119,-12.494165420532227,-9.074697494506836,-4.080954074859619,-15.423994064331055,-19.140701293945312,-8.06421184539795,-14.21461296081543,-23.935190200805664,-28.484830856323242,-24.387292861938477,-274.2107849121094],\"z\":[22.01329803466797,20.875791549682617,27.24579620361328,25.220993041992188,3.99621319770813,5.511070251464844,3.705927610397339,-1.25104558467865,23.53043556213379,12.111656188964844,36.65970993041992,25.85362434387207,27.284868240356445,21.482402801513672,24.03944969177246,30.011363983154297,40.93939971923828,32.39864730834961,26.273088455200195,29.343456268310547,40.06369400024414,39.66081619262695,33.40922164916992,0.8650567531585693,4.5400614738464355,7.392119884490967,74.76422882080078],\"type\":\"scatter3d\"},{\"hovertemplate\":\"color=b<br>x=%{x}<br>y=%{y}<br>z=%{z}<extra></extra>\",\"legendgroup\":\"b\",\"marker\":{\"color\":\"#19d3f3\",\"symbol\":\"circle\"},\"mode\":\"markers\",\"name\":\"b\",\"scene\":\"scene\",\"showlegend\":true,\"x\":[-2.723491907119751,-1.171699047088623,-45.444061279296875,9.953486442565918,0.021394478157162666,21.548961639404297,-41.68955993652344,-21.152366638183594,-24.676433563232422,-20.642356872558594,-23.93043327331543,5.590156078338623,-1.939184546470642,5.834759712219238,-33.79261016845703,14.025867462158203,4.209362983703613,-3.345693588256836,18.730405807495117,-40.11804962158203,11.196072578430176,-34.02729797363281,-33.93227005004883,2.2611172199249268,22.715776443481445,-45.456478118896484,0.9854949116706848,17.964502334594727,-0.4018668234348297,-34.036502838134766,-41.253143310546875,-35.026878356933594,-38.376529693603516,-30.49472999572754,8.75153923034668,-27.236251831054688,-37.63077163696289,3.197556734085083,2.408815383911133,1.4041728973388672,-31.360368728637695,-38.55357360839844,-36.43458938598633,-40.424808502197266,-41.902259826660156,415.110107421875,26.81038475036621],\"y\":[-2.144113302230835,-12.486394882202148,-12.236234664916992,11.983192443847656,11.872949600219727,-15.966225624084473,-33.374263763427734,-1.0609145164489746,2.9038076400756836,-1.4680218696594238,-6.438807487487793,6.188862323760986,4.736813068389893,-11.952911376953125,-37.05177307128906,-16.16900062561035,-0.06579822301864624,3.805025100708008,-11.307856559753418,-27.03129768371582,-13.020894050598145,-25.437294006347656,-31.93608283996582,-17.387208938598633,-16.763534545898438,-7.429357051849365,-11.282980918884277,-11.542818069458008,-2.7355544567108154,-13.740813255310059,-4.282449245452881,-23.346933364868164,-8.507059097290039,-19.597965240478516,-3.7474558353424072,-33.49415588378906,-18.816558837890625,6.5722198486328125,-0.5861486792564392,-13.349055290222168,-16.900516510009766,-17.040021896362305,-0.8281712532043457,-10.598328590393066,-26.568504333496094,-81.22452545166016,-14.315642356872559],\"z\":[62.370765686035156,54.73850631713867,-12.849360466003418,63.74290466308594,64.165771484375,-41.05643844604492,25.652063369750977,-4.917496204376221,-1.7133527994155884,2.2486515045166016,2.4493980407714844,65.8389892578125,65.69849395751953,56.66683578491211,-24.968191146850586,-35.0045166015625,60.751522064208984,58.518306732177734,-38.57642364501953,18.542598724365234,-30.00790023803711,22.29064178466797,20.226146697998047,58.61332702636719,-34.550018310546875,-8.673336029052734,61.563358306884766,-47.07600021362305,55.38503646850586,11.827498435974121,-2.278958559036255,10.406377792358398,-6.71610164642334,13.87594985961914,6.627070903778076,7.025057315826416,14.885250091552734,58.752525329589844,68.0643539428711,48.11505889892578,5.761484622955322,7.203179359436035,-6.269811630249023,1.861651062965393,25.131973266601562,-100.28587341308594,-24.19405174255371],\"type\":\"scatter3d\"},{\"hovertemplate\":\"color=m<br>x=%{x}<br>y=%{y}<br>z=%{z}<extra></extra>\",\"legendgroup\":\"m\",\"marker\":{\"color\":\"#FF6692\",\"symbol\":\"circle\"},\"mode\":\"markers\",\"name\":\"m\",\"scene\":\"scene\",\"showlegend\":true,\"x\":[16.56028175354004,5.292171955108643,-2.703735828399658,-15.631858825683594,17.866191864013672,-10.13161849975586,-1.3390121459960938,-5.927724838256836,10.899405479431152,24.904003143310547,-0.6624883413314819,-18.88324737548828,-11.58227252960205,53.038124084472656,-12.058188438415527,-1.0446034669876099,1.3474305868148804,14.397239685058594,3.9518167972564697,-5.697696208953857,-12.084038734436035,-1.3857922554016113,9.78036117553711,25.915071487426758,13.441794395446777,23.269777297973633,17.53169059753418,-2.21939754486084,20.97791290283203,-5.378969192504883,-8.751496315002441,16.521608352661133,-5.596000671386719,5.251281261444092,5.046977519989014,6.621398448944092,24.73394203186035,-9.652202606201172,1.1367303133010864,-2.153221368789673,10.773776054382324,23.10454750061035,2.318570613861084,25.11918830871582,18.785581588745117,-19.80034637451172],\"y\":[42.36664962768555,40.070701599121094,-56.17182540893555,-44.6510009765625,43.52997589111328,-49.06418228149414,40.3387451171875,-46.09623718261719,45.298683166503906,46.778594970703125,-40.37160110473633,-38.8814811706543,-48.08837890625,65.92130279541016,-43.59121322631836,-46.24006652832031,-52.468177795410156,35.917659759521484,45.92818832397461,-57.46699905395508,-39.96914291381836,39.804691314697266,46.97278594970703,50.289703369140625,47.812843322753906,26.267967224121094,48.597740173339844,-52.670928955078125,44.2031364440918,-51.435890197753906,-54.678504943847656,25.440570831298828,-49.6814079284668,43.70981216430664,48.79405212402344,42.94888687133789,48.741004943847656,-43.16789245605469,-47.07933044433594,-50.63668441772461,46.659915924072266,43.62117385864258,44.1308479309082,24.613964080810547,48.94527053833008,-31.96183967590332],\"z\":[-12.137078285217285,-7.940239429473877,-0.5024762749671936,1.9737281799316406,-20.194133758544922,1.7497535943984985,6.251334190368652,-2.0498650074005127,2.6452038288116455,-5.3810200691223145,-14.147403717041016,-1.3960741758346558,-5.696078300476074,56.08290100097656,12.749641418457031,13.549424171447754,14.621380805969238,-7.007053852081299,-4.722923755645752,-10.17265510559082,-1.1293432712554932,-17.78889274597168,-13.795010566711426,-13.834531784057617,-25.050817489624023,-6.786925315856934,-6.8527750968933105,-6.575531482696533,-0.05764567852020264,14.846960067749023,-3.972951889038086,-8.03001880645752,-13.404658317565918,6.578206539154053,6.939187049865723,-17.94472312927246,-20.483386993408203,7.247771739959717,-0.7055607438087463,8.110678672790527,-5.369344234466553,-14.752630233764648,-13.173526763916016,-12.897253036499023,-15.422608375549316,4.390992641448975],\"type\":\"scatter3d\"}],                        {\"template\":{\"data\":{\"histogram2dcontour\":[{\"type\":\"histogram2dcontour\",\"colorbar\":{\"outlinewidth\":0,\"ticks\":\"\"},\"colorscale\":[[0.0,\"#0d0887\"],[0.1111111111111111,\"#46039f\"],[0.2222222222222222,\"#7201a8\"],[0.3333333333333333,\"#9c179e\"],[0.4444444444444444,\"#bd3786\"],[0.5555555555555556,\"#d8576b\"],[0.6666666666666666,\"#ed7953\"],[0.7777777777777778,\"#fb9f3a\"],[0.8888888888888888,\"#fdca26\"],[1.0,\"#f0f921\"]]}],\"choropleth\":[{\"type\":\"choropleth\",\"colorbar\":{\"outlinewidth\":0,\"ticks\":\"\"}}],\"histogram2d\":[{\"type\":\"histogram2d\",\"colorbar\":{\"outlinewidth\":0,\"ticks\":\"\"},\"colorscale\":[[0.0,\"#0d0887\"],[0.1111111111111111,\"#46039f\"],[0.2222222222222222,\"#7201a8\"],[0.3333333333333333,\"#9c179e\"],[0.4444444444444444,\"#bd3786\"],[0.5555555555555556,\"#d8576b\"],[0.6666666666666666,\"#ed7953\"],[0.7777777777777778,\"#fb9f3a\"],[0.8888888888888888,\"#fdca26\"],[1.0,\"#f0f921\"]]}],\"heatmap\":[{\"type\":\"heatmap\",\"colorbar\":{\"outlinewidth\":0,\"ticks\":\"\"},\"colorscale\":[[0.0,\"#0d0887\"],[0.1111111111111111,\"#46039f\"],[0.2222222222222222,\"#7201a8\"],[0.3333333333333333,\"#9c179e\"],[0.4444444444444444,\"#bd3786\"],[0.5555555555555556,\"#d8576b\"],[0.6666666666666666,\"#ed7953\"],[0.7777777777777778,\"#fb9f3a\"],[0.8888888888888888,\"#fdca26\"],[1.0,\"#f0f921\"]]}],\"heatmapgl\":[{\"type\":\"heatmapgl\",\"colorbar\":{\"outlinewidth\":0,\"ticks\":\"\"},\"colorscale\":[[0.0,\"#0d0887\"],[0.1111111111111111,\"#46039f\"],[0.2222222222222222,\"#7201a8\"],[0.3333333333333333,\"#9c179e\"],[0.4444444444444444,\"#bd3786\"],[0.5555555555555556,\"#d8576b\"],[0.6666666666666666,\"#ed7953\"],[0.7777777777777778,\"#fb9f3a\"],[0.8888888888888888,\"#fdca26\"],[1.0,\"#f0f921\"]]}],\"contourcarpet\":[{\"type\":\"contourcarpet\",\"colorbar\":{\"outlinewidth\":0,\"ticks\":\"\"}}],\"contour\":[{\"type\":\"contour\",\"colorbar\":{\"outlinewidth\":0,\"ticks\":\"\"},\"colorscale\":[[0.0,\"#0d0887\"],[0.1111111111111111,\"#46039f\"],[0.2222222222222222,\"#7201a8\"],[0.3333333333333333,\"#9c179e\"],[0.4444444444444444,\"#bd3786\"],[0.5555555555555556,\"#d8576b\"],[0.6666666666666666,\"#ed7953\"],[0.7777777777777778,\"#fb9f3a\"],[0.8888888888888888,\"#fdca26\"],[1.0,\"#f0f921\"]]}],\"surface\":[{\"type\":\"surface\",\"colorbar\":{\"outlinewidth\":0,\"ticks\":\"\"},\"colorscale\":[[0.0,\"#0d0887\"],[0.1111111111111111,\"#46039f\"],[0.2222222222222222,\"#7201a8\"],[0.3333333333333333,\"#9c179e\"],[0.4444444444444444,\"#bd3786\"],[0.5555555555555556,\"#d8576b\"],[0.6666666666666666,\"#ed7953\"],[0.7777777777777778,\"#fb9f3a\"],[0.8888888888888888,\"#fdca26\"],[1.0,\"#f0f921\"]]}],\"mesh3d\":[{\"type\":\"mesh3d\",\"colorbar\":{\"outlinewidth\":0,\"ticks\":\"\"}}],\"scatter\":[{\"fillpattern\":{\"fillmode\":\"overlay\",\"size\":10,\"solidity\":0.2},\"type\":\"scatter\"}],\"parcoords\":[{\"type\":\"parcoords\",\"line\":{\"colorbar\":{\"outlinewidth\":0,\"ticks\":\"\"}}}],\"scatterpolargl\":[{\"type\":\"scatterpolargl\",\"marker\":{\"colorbar\":{\"outlinewidth\":0,\"ticks\":\"\"}}}],\"bar\":[{\"error_x\":{\"color\":\"#2a3f5f\"},\"error_y\":{\"color\":\"#2a3f5f\"},\"marker\":{\"line\":{\"color\":\"#E5ECF6\",\"width\":0.5},\"pattern\":{\"fillmode\":\"overlay\",\"size\":10,\"solidity\":0.2}},\"type\":\"bar\"}],\"scattergeo\":[{\"type\":\"scattergeo\",\"marker\":{\"colorbar\":{\"outlinewidth\":0,\"ticks\":\"\"}}}],\"scatterpolar\":[{\"type\":\"scatterpolar\",\"marker\":{\"colorbar\":{\"outlinewidth\":0,\"ticks\":\"\"}}}],\"histogram\":[{\"marker\":{\"pattern\":{\"fillmode\":\"overlay\",\"size\":10,\"solidity\":0.2}},\"type\":\"histogram\"}],\"scattergl\":[{\"type\":\"scattergl\",\"marker\":{\"colorbar\":{\"outlinewidth\":0,\"ticks\":\"\"}}}],\"scatter3d\":[{\"type\":\"scatter3d\",\"line\":{\"colorbar\":{\"outlinewidth\":0,\"ticks\":\"\"}},\"marker\":{\"colorbar\":{\"outlinewidth\":0,\"ticks\":\"\"}}}],\"scattermapbox\":[{\"type\":\"scattermapbox\",\"marker\":{\"colorbar\":{\"outlinewidth\":0,\"ticks\":\"\"}}}],\"scatterternary\":[{\"type\":\"scatterternary\",\"marker\":{\"colorbar\":{\"outlinewidth\":0,\"ticks\":\"\"}}}],\"scattercarpet\":[{\"type\":\"scattercarpet\",\"marker\":{\"colorbar\":{\"outlinewidth\":0,\"ticks\":\"\"}}}],\"carpet\":[{\"aaxis\":{\"endlinecolor\":\"#2a3f5f\",\"gridcolor\":\"white\",\"linecolor\":\"white\",\"minorgridcolor\":\"white\",\"startlinecolor\":\"#2a3f5f\"},\"baxis\":{\"endlinecolor\":\"#2a3f5f\",\"gridcolor\":\"white\",\"linecolor\":\"white\",\"minorgridcolor\":\"white\",\"startlinecolor\":\"#2a3f5f\"},\"type\":\"carpet\"}],\"table\":[{\"cells\":{\"fill\":{\"color\":\"#EBF0F8\"},\"line\":{\"color\":\"white\"}},\"header\":{\"fill\":{\"color\":\"#C8D4E3\"},\"line\":{\"color\":\"white\"}},\"type\":\"table\"}],\"barpolar\":[{\"marker\":{\"line\":{\"color\":\"#E5ECF6\",\"width\":0.5},\"pattern\":{\"fillmode\":\"overlay\",\"size\":10,\"solidity\":0.2}},\"type\":\"barpolar\"}],\"pie\":[{\"automargin\":true,\"type\":\"pie\"}]},\"layout\":{\"autotypenumbers\":\"strict\",\"colorway\":[\"#636efa\",\"#EF553B\",\"#00cc96\",\"#ab63fa\",\"#FFA15A\",\"#19d3f3\",\"#FF6692\",\"#B6E880\",\"#FF97FF\",\"#FECB52\"],\"font\":{\"color\":\"#2a3f5f\"},\"hovermode\":\"closest\",\"hoverlabel\":{\"align\":\"left\"},\"paper_bgcolor\":\"white\",\"plot_bgcolor\":\"#E5ECF6\",\"polar\":{\"bgcolor\":\"#E5ECF6\",\"angularaxis\":{\"gridcolor\":\"white\",\"linecolor\":\"white\",\"ticks\":\"\"},\"radialaxis\":{\"gridcolor\":\"white\",\"linecolor\":\"white\",\"ticks\":\"\"}},\"ternary\":{\"bgcolor\":\"#E5ECF6\",\"aaxis\":{\"gridcolor\":\"white\",\"linecolor\":\"white\",\"ticks\":\"\"},\"baxis\":{\"gridcolor\":\"white\",\"linecolor\":\"white\",\"ticks\":\"\"},\"caxis\":{\"gridcolor\":\"white\",\"linecolor\":\"white\",\"ticks\":\"\"}},\"coloraxis\":{\"colorbar\":{\"outlinewidth\":0,\"ticks\":\"\"}},\"colorscale\":{\"sequential\":[[0.0,\"#0d0887\"],[0.1111111111111111,\"#46039f\"],[0.2222222222222222,\"#7201a8\"],[0.3333333333333333,\"#9c179e\"],[0.4444444444444444,\"#bd3786\"],[0.5555555555555556,\"#d8576b\"],[0.6666666666666666,\"#ed7953\"],[0.7777777777777778,\"#fb9f3a\"],[0.8888888888888888,\"#fdca26\"],[1.0,\"#f0f921\"]],\"sequentialminus\":[[0.0,\"#0d0887\"],[0.1111111111111111,\"#46039f\"],[0.2222222222222222,\"#7201a8\"],[0.3333333333333333,\"#9c179e\"],[0.4444444444444444,\"#bd3786\"],[0.5555555555555556,\"#d8576b\"],[0.6666666666666666,\"#ed7953\"],[0.7777777777777778,\"#fb9f3a\"],[0.8888888888888888,\"#fdca26\"],[1.0,\"#f0f921\"]],\"diverging\":[[0,\"#8e0152\"],[0.1,\"#c51b7d\"],[0.2,\"#de77ae\"],[0.3,\"#f1b6da\"],[0.4,\"#fde0ef\"],[0.5,\"#f7f7f7\"],[0.6,\"#e6f5d0\"],[0.7,\"#b8e186\"],[0.8,\"#7fbc41\"],[0.9,\"#4d9221\"],[1,\"#276419\"]]},\"xaxis\":{\"gridcolor\":\"white\",\"linecolor\":\"white\",\"ticks\":\"\",\"title\":{\"standoff\":15},\"zerolinecolor\":\"white\",\"automargin\":true,\"zerolinewidth\":2},\"yaxis\":{\"gridcolor\":\"white\",\"linecolor\":\"white\",\"ticks\":\"\",\"title\":{\"standoff\":15},\"zerolinecolor\":\"white\",\"automargin\":true,\"zerolinewidth\":2},\"scene\":{\"xaxis\":{\"backgroundcolor\":\"#E5ECF6\",\"gridcolor\":\"white\",\"linecolor\":\"white\",\"showbackground\":true,\"ticks\":\"\",\"zerolinecolor\":\"white\",\"gridwidth\":2},\"yaxis\":{\"backgroundcolor\":\"#E5ECF6\",\"gridcolor\":\"white\",\"linecolor\":\"white\",\"showbackground\":true,\"ticks\":\"\",\"zerolinecolor\":\"white\",\"gridwidth\":2},\"zaxis\":{\"backgroundcolor\":\"#E5ECF6\",\"gridcolor\":\"white\",\"linecolor\":\"white\",\"showbackground\":true,\"ticks\":\"\",\"zerolinecolor\":\"white\",\"gridwidth\":2}},\"shapedefaults\":{\"line\":{\"color\":\"#2a3f5f\"}},\"annotationdefaults\":{\"arrowcolor\":\"#2a3f5f\",\"arrowhead\":0,\"arrowwidth\":1},\"geo\":{\"bgcolor\":\"white\",\"landcolor\":\"#E5ECF6\",\"subunitcolor\":\"white\",\"showland\":true,\"showlakes\":true,\"lakecolor\":\"white\"},\"title\":{\"x\":0.05},\"mapbox\":{\"style\":\"light\"}}},\"scene\":{\"domain\":{\"x\":[0.0,1.0],\"y\":[0.0,1.0]},\"xaxis\":{\"title\":{\"text\":\"x\"}},\"yaxis\":{\"title\":{\"text\":\"y\"}},\"zaxis\":{\"title\":{\"text\":\"z\"}}},\"legend\":{\"title\":{\"text\":\"color\"},\"tracegroupgap\":0},\"margin\":{\"t\":60}},                        {\"responsive\": true}                    ).then(function(){\n",
       "                            \n",
       "var gd = document.getElementById('0a9cd4b5-387f-410f-aba0-ddbac64c84c9');\n",
       "var x = new MutationObserver(function (mutations, observer) {{\n",
       "        var display = window.getComputedStyle(gd).display;\n",
       "        if (!display || display === 'none') {{\n",
       "            console.log([gd, 'removed!']);\n",
       "            Plotly.purge(gd);\n",
       "            observer.disconnect();\n",
       "        }}\n",
       "}});\n",
       "\n",
       "// Listen for the removal of the full notebook cells\n",
       "var notebookContainer = gd.closest('#notebook-container');\n",
       "if (notebookContainer) {{\n",
       "    x.observe(notebookContainer, {childList: true});\n",
       "}}\n",
       "\n",
       "// Listen for the clearing of the current output cell\n",
       "var outputEl = gd.closest('.output');\n",
       "if (outputEl) {{\n",
       "    x.observe(outputEl, {childList: true});\n",
       "}}\n",
       "\n",
       "                        })                };                });            </script>        </div>"
      ]
     },
     "metadata": {},
     "output_type": "display_data"
    }
   ],
   "source": [
    "\n",
    "X_embedded  = TSNE(n_components=3, perplexity=10,random_state=24).fit_transform( X )\n",
    "colors = np.array([x for x in 'bgrcmykbgrcmykbgrcmykbgrcmyk'])\n",
    "fig = px.scatter_3d(x=X_embedded [:,0],y=X_embedded [:,1],z=X_embedded [:,2],color=colors[aff_prop_clustering.labels_])\n",
    "fig.show()"
   ]
  },
  {
   "cell_type": "code",
   "execution_count": 105,
   "metadata": {},
   "outputs": [
    {
     "data": {
      "text/html": [
       "<div>\n",
       "<style scoped>\n",
       "    .dataframe tbody tr th:only-of-type {\n",
       "        vertical-align: middle;\n",
       "    }\n",
       "\n",
       "    .dataframe tbody tr th {\n",
       "        vertical-align: top;\n",
       "    }\n",
       "\n",
       "    .dataframe thead th {\n",
       "        text-align: right;\n",
       "    }\n",
       "</style>\n",
       "<table border=\"1\" class=\"dataframe\">\n",
       "  <thead>\n",
       "    <tr style=\"text-align: right;\">\n",
       "      <th></th>\n",
       "      <th>silhouette_score</th>\n",
       "      <th>davies_bouldin_score</th>\n",
       "      <th>calinski_harabasz_score</th>\n",
       "      <th>fowlkes_mallows_score</th>\n",
       "      <th>adjusted_rand_score</th>\n",
       "      <th>adjusted_mutual_info_score</th>\n",
       "      <th>homogeneity_score</th>\n",
       "      <th>completeness_score</th>\n",
       "      <th>v_measure_score</th>\n",
       "    </tr>\n",
       "  </thead>\n",
       "  <tbody>\n",
       "    <tr>\n",
       "      <th>Mini-Batch Kmean</th>\n",
       "      <td>0.500135</td>\n",
       "      <td>0.802695</td>\n",
       "      <td>205.466565</td>\n",
       "      <td>0.371213</td>\n",
       "      <td>0.046332</td>\n",
       "      <td>0.147580</td>\n",
       "      <td>0.550202</td>\n",
       "      <td>0.091992</td>\n",
       "      <td>0.157629</td>\n",
       "    </tr>\n",
       "    <tr>\n",
       "      <th>GaussianMixture</th>\n",
       "      <td>0.381798</td>\n",
       "      <td>1.055674</td>\n",
       "      <td>101.136038</td>\n",
       "      <td>0.353989</td>\n",
       "      <td>0.006735</td>\n",
       "      <td>0.138952</td>\n",
       "      <td>0.476230</td>\n",
       "      <td>0.087512</td>\n",
       "      <td>0.147855</td>\n",
       "    </tr>\n",
       "    <tr>\n",
       "      <th>BayesianGaussianMixture</th>\n",
       "      <td>0.455626</td>\n",
       "      <td>0.848315</td>\n",
       "      <td>157.130250</td>\n",
       "      <td>0.351069</td>\n",
       "      <td>0.031892</td>\n",
       "      <td>0.157909</td>\n",
       "      <td>0.588145</td>\n",
       "      <td>0.097851</td>\n",
       "      <td>0.167787</td>\n",
       "    </tr>\n",
       "    <tr>\n",
       "      <th>Agglomerative Clustering</th>\n",
       "      <td>0.471095</td>\n",
       "      <td>0.879049</td>\n",
       "      <td>174.867752</td>\n",
       "      <td>0.388044</td>\n",
       "      <td>0.051427</td>\n",
       "      <td>0.160334</td>\n",
       "      <td>0.584173</td>\n",
       "      <td>0.099810</td>\n",
       "      <td>0.170491</td>\n",
       "    </tr>\n",
       "    <tr>\n",
       "      <th>DBSCAN</th>\n",
       "      <td>0.302430</td>\n",
       "      <td>1.210737</td>\n",
       "      <td>80.106376</td>\n",
       "      <td>0.501938</td>\n",
       "      <td>-0.021495</td>\n",
       "      <td>0.036359</td>\n",
       "      <td>0.097963</td>\n",
       "      <td>0.029090</td>\n",
       "      <td>0.044859</td>\n",
       "    </tr>\n",
       "    <tr>\n",
       "      <th>Optics</th>\n",
       "      <td>0.055677</td>\n",
       "      <td>1.092444</td>\n",
       "      <td>26.131461</td>\n",
       "      <td>0.455827</td>\n",
       "      <td>0.013619</td>\n",
       "      <td>0.124080</td>\n",
       "      <td>0.474718</td>\n",
       "      <td>0.084077</td>\n",
       "      <td>0.142853</td>\n",
       "    </tr>\n",
       "    <tr>\n",
       "      <th>SpectralClustering</th>\n",
       "      <td>0.403843</td>\n",
       "      <td>0.981658</td>\n",
       "      <td>143.492986</td>\n",
       "      <td>0.372862</td>\n",
       "      <td>0.023239</td>\n",
       "      <td>0.093734</td>\n",
       "      <td>0.337329</td>\n",
       "      <td>0.061296</td>\n",
       "      <td>0.103741</td>\n",
       "    </tr>\n",
       "    <tr>\n",
       "      <th>AffinityPropagation</th>\n",
       "      <td>0.452471</td>\n",
       "      <td>0.785440</td>\n",
       "      <td>206.467461</td>\n",
       "      <td>0.287657</td>\n",
       "      <td>0.029564</td>\n",
       "      <td>0.162857</td>\n",
       "      <td>0.775773</td>\n",
       "      <td>0.101552</td>\n",
       "      <td>0.179594</td>\n",
       "    </tr>\n",
       "  </tbody>\n",
       "</table>\n",
       "</div>"
      ],
      "text/plain": [
       "                           silhouette_score  davies_bouldin_score  \\\n",
       "Mini-Batch Kmean                   0.500135              0.802695   \n",
       "GaussianMixture                    0.381798              1.055674   \n",
       "BayesianGaussianMixture            0.455626              0.848315   \n",
       "Agglomerative Clustering           0.471095              0.879049   \n",
       "DBSCAN                             0.302430              1.210737   \n",
       "Optics                             0.055677              1.092444   \n",
       "SpectralClustering                 0.403843              0.981658   \n",
       "AffinityPropagation                0.452471              0.785440   \n",
       "\n",
       "                           calinski_harabasz_score  fowlkes_mallows_score  \\\n",
       "Mini-Batch Kmean                        205.466565               0.371213   \n",
       "GaussianMixture                         101.136038               0.353989   \n",
       "BayesianGaussianMixture                 157.130250               0.351069   \n",
       "Agglomerative Clustering                174.867752               0.388044   \n",
       "DBSCAN                                   80.106376               0.501938   \n",
       "Optics                                   26.131461               0.455827   \n",
       "SpectralClustering                      143.492986               0.372862   \n",
       "AffinityPropagation                     206.467461               0.287657   \n",
       "\n",
       "                           adjusted_rand_score  adjusted_mutual_info_score  \\\n",
       "Mini-Batch Kmean                      0.046332                    0.147580   \n",
       "GaussianMixture                       0.006735                    0.138952   \n",
       "BayesianGaussianMixture               0.031892                    0.157909   \n",
       "Agglomerative Clustering              0.051427                    0.160334   \n",
       "DBSCAN                               -0.021495                    0.036359   \n",
       "Optics                                0.013619                    0.124080   \n",
       "SpectralClustering                    0.023239                    0.093734   \n",
       "AffinityPropagation                   0.029564                    0.162857   \n",
       "\n",
       "                           homogeneity_score  completeness_score  \\\n",
       "Mini-Batch Kmean                    0.550202            0.091992   \n",
       "GaussianMixture                     0.476230            0.087512   \n",
       "BayesianGaussianMixture             0.588145            0.097851   \n",
       "Agglomerative Clustering            0.584173            0.099810   \n",
       "DBSCAN                              0.097963            0.029090   \n",
       "Optics                              0.474718            0.084077   \n",
       "SpectralClustering                  0.337329            0.061296   \n",
       "AffinityPropagation                 0.775773            0.101552   \n",
       "\n",
       "                           v_measure_score  \n",
       "Mini-Batch Kmean                  0.157629  \n",
       "GaussianMixture                   0.147855  \n",
       "BayesianGaussianMixture           0.167787  \n",
       "Agglomerative Clustering          0.170491  \n",
       "DBSCAN                            0.044859  \n",
       "Optics                            0.142853  \n",
       "SpectralClustering                0.103741  \n",
       "AffinityPropagation               0.179594  "
      ]
     },
     "execution_count": 105,
     "metadata": {},
     "output_type": "execute_result"
    }
   ],
   "source": [
    "result = kmean_df.append([gmm_df, bgm_df, agg_df, dbscan_df, Optics_df, Spectral_df, aff_prop_df])\n",
    "result"
   ]
  },
  {
   "cell_type": "markdown",
   "metadata": {},
   "source": [
    "### Part 2 Performance Analysis:\n",
    "\n",
    "From the above result set of all those 7 models, we are able to conclude that for this analysis, choosing best algorithm would mainly be on the basis of Extrinsic measures.\n",
    "\n",
    "Silhoutte score, Calinski-Harabasz and Davies-Bouldin Index are not a good measure when comparing different types of clustering algorithms as these scores tend to be higher for density-based clustering algorithms, so it would not be fair to compare desnity based algorithm with other other types of clustering algorithms.\n",
    "\n",
    "As for the individual analysis, Silhoutte score, Calinski-Harabasz and Davies-Bouldin Index for each model is comparatively same for all models except the silhouette_score and calinski_harabasz_score for Optics, means OPTICS has failed to find the similarity in cluster and the clusters are not dense and well separated.\n",
    "\n",
    "fowlkes_mallows_score, adjusted_rand_score, adjusted_mutual_info_score, homogeneity_score,completeness_score and v_measure_score are higher for Mini-Batch Kmean and least for OPTICS. And the recall of AffinityPropagation Clustering is higher than all other model which is 1% , meaning only 1% of data points of a required class are elements of the same cluster, while the precision of \n",
    "AffinityPropagation is around 77% which is highest in all.\n",
    "\n",
    "Hence using all the measures, Affinity Propagation Clustering has given significantly higher score and performed better as compared to all other algorithms. Therefore, Affinity Propagation Clustering is the best possible clustering algorithm for this dataset."
   ]
  },
  {
   "cell_type": "code",
   "execution_count": null,
   "metadata": {},
   "outputs": [],
   "source": []
  },
  {
   "cell_type": "code",
   "execution_count": null,
   "metadata": {},
   "outputs": [],
   "source": []
  },
  {
   "cell_type": "code",
   "execution_count": null,
   "metadata": {},
   "outputs": [],
   "source": []
  }
 ],
 "metadata": {
  "kernelspec": {
   "display_name": "Python 3",
   "language": "python",
   "name": "python3"
  },
  "language_info": {
   "codemirror_mode": {
    "name": "ipython",
    "version": 3
   },
   "file_extension": ".py",
   "mimetype": "text/x-python",
   "name": "python",
   "nbconvert_exporter": "python",
   "pygments_lexer": "ipython3",
   "version": "3.8.5"
  }
 },
 "nbformat": 4,
 "nbformat_minor": 5
}
