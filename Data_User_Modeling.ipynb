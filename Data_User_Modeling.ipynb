{
 "cells": [
  {
   "cell_type": "markdown",
   "metadata": {},
   "source": [
    "# Data Dictionary\n",
    "\n",
    "\n",
    "User knowledge is where a person who uses knowledge generated through research to make informed decisions about policies, programs and/or best practices. This dataset was part of the Ph.D. Thesis of Dr. Hamdi Tolga Kahraman from Turkey back in 2009. It is an unlabelled dataset containing 5 features as explained in the column descriptions. The data contains real information about the student's knowledge status about the subject of Electrical DC Machines. \n",
    "\n",
    "The user knowledge dataset has 6 columns and 258 isntances.\n",
    "\n",
    "The database can be downloaded from this [link](https://archive.ics.uci.edu/ml/datasets/User+Knowledge+Modeling)\n",
    "\n",
    "| Atrribute Position| Atrribute Name | Definition    | Data Type| Example | \n",
    "|---:|:-------------|:-----------|:-------------|:-----------|\n",
    "| 1 | STG | The degree of study time for goal object materails       |  Quantitative (continuous) | 0.2,0.9,..|\n",
    "| 2 | SCG | The degree of repetition number of user for goal object materails |  Quantitative (continuous) |  0.2,0.9,..|\n",
    "| 3 | STR | The degree of study time of user for related objects with goal object |  Quantitative (continuous) |  0.2,0.9,..|\n",
    "| 4 | LPR | The exam performance of user for related objects with goal object |  Quantitative (continuous) |  0.2,0.9,..|\n",
    "| 5 | PEG | The exam performance of user for goal objects |  Quantitative (continuous) |  0.2,0.9,..|\n",
    "| 6 | UNS | The knowledge level of user |  Quantitative (continuous) |  0.2,0.9,..|\n",
    "\n",
    "\n",
    "The goal is to explore the pattern of the data, find clusters within data and make meaningful conclusions."
   ]
  },
  {
   "cell_type": "code",
   "execution_count": 153,
   "metadata": {},
   "outputs": [],
   "source": [
    "import pandas as pd\n",
    "import numpy as np\n",
    "import matplotlib.pyplot as plt\n",
    "import seaborn as sns\n",
    "from sklearn.preprocessing import MinMaxScaler, LabelEncoder\n",
    "from sklearn.pipeline import Pipeline\n",
    "from sklearn.compose import ColumnTransformer\n",
    "from sklearn.manifold import TSNE\n",
    "import plotly.express as px\n",
    "from sklearn.metrics import silhouette_samples, silhouette_score, homogeneity_score, completeness_score, v_measure_score, adjusted_rand_score, adjusted_mutual_info_score, fowlkes_mallows_score\n",
    "from scipy.spatial import distance_matrix \n",
    "import time\n",
    "import sklearn.metrics as metrics\n",
    "from sklearn.cluster import MiniBatchKMeans, KMeans, AgglomerativeClustering, OPTICS, MeanShift, estimate_bandwidth, DBSCAN, AffinityPropagation ,SpectralClustering\n",
    "from sklearn.metrics.pairwise import pairwise_distances_argmin\n",
    "import scipy.cluster.hierarchy as hcluster\n",
    "from  scipy.cluster import hierarchy\n",
    "from sklearn.model_selection import GridSearchCV\n",
    "from sklearn.mixture import GaussianMixture, BayesianGaussianMixture\n",
    "import matplotlib.cm as cm\n",
    "import functions\n",
    "import warnings\n",
    "warnings.filterwarnings('ignore')"
   ]
  },
  {
   "cell_type": "code",
   "execution_count": 139,
   "metadata": {},
   "outputs": [
    {
     "name": "stdout",
     "output_type": "stream",
     "text": [
      "data size : (403, 7) \n"
     ]
    }
   ],
   "source": [
    "df = pd.read_csv(\"data/Data_User_Modeling_Dataset.csv\")\n",
    "print(\"data size : {} \".format(df.shape))"
   ]
  },
  {
   "cell_type": "code",
   "execution_count": 142,
   "metadata": {},
   "outputs": [
    {
     "data": {
      "text/html": [
       "<div>\n",
       "<style scoped>\n",
       "    .dataframe tbody tr th:only-of-type {\n",
       "        vertical-align: middle;\n",
       "    }\n",
       "\n",
       "    .dataframe tbody tr th {\n",
       "        vertical-align: top;\n",
       "    }\n",
       "\n",
       "    .dataframe thead th {\n",
       "        text-align: right;\n",
       "    }\n",
       "</style>\n",
       "<table border=\"1\" class=\"dataframe\">\n",
       "  <thead>\n",
       "    <tr style=\"text-align: right;\">\n",
       "      <th></th>\n",
       "      <th>Unnamed: 0</th>\n",
       "      <th>STG</th>\n",
       "      <th>SCG</th>\n",
       "      <th>STR</th>\n",
       "      <th>LPR</th>\n",
       "      <th>PEG</th>\n",
       "      <th>UNS</th>\n",
       "    </tr>\n",
       "  </thead>\n",
       "  <tbody>\n",
       "    <tr>\n",
       "      <th>0</th>\n",
       "      <td>0</td>\n",
       "      <td>0.00</td>\n",
       "      <td>0.00</td>\n",
       "      <td>0.00</td>\n",
       "      <td>0.00</td>\n",
       "      <td>0.00</td>\n",
       "      <td>very_low</td>\n",
       "    </tr>\n",
       "    <tr>\n",
       "      <th>1</th>\n",
       "      <td>1</td>\n",
       "      <td>0.08</td>\n",
       "      <td>0.08</td>\n",
       "      <td>0.10</td>\n",
       "      <td>0.24</td>\n",
       "      <td>0.90</td>\n",
       "      <td>High</td>\n",
       "    </tr>\n",
       "    <tr>\n",
       "      <th>2</th>\n",
       "      <td>2</td>\n",
       "      <td>0.06</td>\n",
       "      <td>0.06</td>\n",
       "      <td>0.05</td>\n",
       "      <td>0.25</td>\n",
       "      <td>0.33</td>\n",
       "      <td>Low</td>\n",
       "    </tr>\n",
       "    <tr>\n",
       "      <th>3</th>\n",
       "      <td>3</td>\n",
       "      <td>0.10</td>\n",
       "      <td>0.10</td>\n",
       "      <td>0.15</td>\n",
       "      <td>0.65</td>\n",
       "      <td>0.30</td>\n",
       "      <td>Middle</td>\n",
       "    </tr>\n",
       "    <tr>\n",
       "      <th>4</th>\n",
       "      <td>4</td>\n",
       "      <td>0.08</td>\n",
       "      <td>0.08</td>\n",
       "      <td>0.08</td>\n",
       "      <td>0.98</td>\n",
       "      <td>0.24</td>\n",
       "      <td>Low</td>\n",
       "    </tr>\n",
       "  </tbody>\n",
       "</table>\n",
       "</div>"
      ],
      "text/plain": [
       "   Unnamed: 0   STG   SCG   STR   LPR   PEG       UNS\n",
       "0           0  0.00  0.00  0.00  0.00  0.00  very_low\n",
       "1           1  0.08  0.08  0.10  0.24  0.90      High\n",
       "2           2  0.06  0.06  0.05  0.25  0.33       Low\n",
       "3           3  0.10  0.10  0.15  0.65  0.30    Middle\n",
       "4           4  0.08  0.08  0.08  0.98  0.24       Low"
      ]
     },
     "execution_count": 142,
     "metadata": {},
     "output_type": "execute_result"
    }
   ],
   "source": [
    "df.head()"
   ]
  },
  {
   "cell_type": "markdown",
   "metadata": {},
   "source": [
    "### Data Preprocessing\n",
    "\n",
    "\n",
    "For this dataset, the Data Preprocessing steps include:\n",
    "\n",
    "- Removal of valueless columns.\n",
    "- Updating empty values with the mean of the respective column.\n",
    "- Checking for outliers.\n",
    "- Standardize the dataset by using min-max scaler.\n"
   ]
  },
  {
   "cell_type": "code",
   "execution_count": 144,
   "metadata": {},
   "outputs": [
    {
     "data": {
      "text/plain": [
       "403"
      ]
     },
     "execution_count": 144,
     "metadata": {},
     "output_type": "execute_result"
    }
   ],
   "source": [
    "len(df['Unnamed: 0'].unique())"
   ]
  },
  {
   "cell_type": "markdown",
   "metadata": {},
   "source": [
    "We have total 403 instances, and Unnamed field has 403 unique instances, it means it is a unique identifer for each row and does not add any to out clustering process, sow e can remove this column"
   ]
  },
  {
   "cell_type": "code",
   "execution_count": 145,
   "metadata": {},
   "outputs": [],
   "source": [
    "df.drop(['Unnamed: 0'], axis=1, inplace=True)"
   ]
  },
  {
   "cell_type": "code",
   "execution_count": 146,
   "metadata": {},
   "outputs": [
    {
     "data": {
      "text/html": [
       "<div>\n",
       "<style scoped>\n",
       "    .dataframe tbody tr th:only-of-type {\n",
       "        vertical-align: middle;\n",
       "    }\n",
       "\n",
       "    .dataframe tbody tr th {\n",
       "        vertical-align: top;\n",
       "    }\n",
       "\n",
       "    .dataframe thead th {\n",
       "        text-align: right;\n",
       "    }\n",
       "</style>\n",
       "<table border=\"1\" class=\"dataframe\">\n",
       "  <thead>\n",
       "    <tr style=\"text-align: right;\">\n",
       "      <th></th>\n",
       "      <th>STG</th>\n",
       "      <th>SCG</th>\n",
       "      <th>STR</th>\n",
       "      <th>LPR</th>\n",
       "      <th>PEG</th>\n",
       "    </tr>\n",
       "  </thead>\n",
       "  <tbody>\n",
       "    <tr>\n",
       "      <th>count</th>\n",
       "      <td>403.000000</td>\n",
       "      <td>403.000000</td>\n",
       "      <td>403.000000</td>\n",
       "      <td>403.000000</td>\n",
       "      <td>403.000000</td>\n",
       "    </tr>\n",
       "    <tr>\n",
       "      <th>mean</th>\n",
       "      <td>0.353141</td>\n",
       "      <td>0.355940</td>\n",
       "      <td>0.457655</td>\n",
       "      <td>0.431342</td>\n",
       "      <td>0.456360</td>\n",
       "    </tr>\n",
       "    <tr>\n",
       "      <th>std</th>\n",
       "      <td>0.212018</td>\n",
       "      <td>0.215531</td>\n",
       "      <td>0.246684</td>\n",
       "      <td>0.257545</td>\n",
       "      <td>0.266775</td>\n",
       "    </tr>\n",
       "    <tr>\n",
       "      <th>min</th>\n",
       "      <td>0.000000</td>\n",
       "      <td>0.000000</td>\n",
       "      <td>0.000000</td>\n",
       "      <td>0.000000</td>\n",
       "      <td>0.000000</td>\n",
       "    </tr>\n",
       "    <tr>\n",
       "      <th>25%</th>\n",
       "      <td>0.200000</td>\n",
       "      <td>0.200000</td>\n",
       "      <td>0.265000</td>\n",
       "      <td>0.250000</td>\n",
       "      <td>0.250000</td>\n",
       "    </tr>\n",
       "    <tr>\n",
       "      <th>50%</th>\n",
       "      <td>0.300000</td>\n",
       "      <td>0.300000</td>\n",
       "      <td>0.440000</td>\n",
       "      <td>0.330000</td>\n",
       "      <td>0.400000</td>\n",
       "    </tr>\n",
       "    <tr>\n",
       "      <th>75%</th>\n",
       "      <td>0.480000</td>\n",
       "      <td>0.510000</td>\n",
       "      <td>0.680000</td>\n",
       "      <td>0.650000</td>\n",
       "      <td>0.660000</td>\n",
       "    </tr>\n",
       "    <tr>\n",
       "      <th>max</th>\n",
       "      <td>0.990000</td>\n",
       "      <td>0.900000</td>\n",
       "      <td>0.950000</td>\n",
       "      <td>0.990000</td>\n",
       "      <td>0.990000</td>\n",
       "    </tr>\n",
       "  </tbody>\n",
       "</table>\n",
       "</div>"
      ],
      "text/plain": [
       "              STG         SCG         STR         LPR         PEG\n",
       "count  403.000000  403.000000  403.000000  403.000000  403.000000\n",
       "mean     0.353141    0.355940    0.457655    0.431342    0.456360\n",
       "std      0.212018    0.215531    0.246684    0.257545    0.266775\n",
       "min      0.000000    0.000000    0.000000    0.000000    0.000000\n",
       "25%      0.200000    0.200000    0.265000    0.250000    0.250000\n",
       "50%      0.300000    0.300000    0.440000    0.330000    0.400000\n",
       "75%      0.480000    0.510000    0.680000    0.650000    0.660000\n",
       "max      0.990000    0.900000    0.950000    0.990000    0.990000"
      ]
     },
     "execution_count": 146,
     "metadata": {},
     "output_type": "execute_result"
    }
   ],
   "source": [
    "df.describe()"
   ]
  },
  {
   "cell_type": "markdown",
   "metadata": {},
   "source": [
    "Since the minimum and max value for each column is between 0 and 1, meaning our dataset is already normalized so we would not be needing normalization step again for pre-processign step, But we need to check for the outliers. The above statistical summary also shows that each attribute seems to have same type of data distribution."
   ]
  },
  {
   "cell_type": "code",
   "execution_count": 147,
   "metadata": {},
   "outputs": [
    {
     "name": "stdout",
     "output_type": "stream",
     "text": [
      "<class 'pandas.core.frame.DataFrame'>\n",
      "RangeIndex: 403 entries, 0 to 402\n",
      "Data columns (total 6 columns):\n",
      " #   Column  Non-Null Count  Dtype  \n",
      "---  ------  --------------  -----  \n",
      " 0   STG     403 non-null    float64\n",
      " 1   SCG     403 non-null    float64\n",
      " 2   STR     403 non-null    float64\n",
      " 3   LPR     403 non-null    float64\n",
      " 4   PEG     403 non-null    float64\n",
      " 5    UNS    403 non-null    object \n",
      "dtypes: float64(5), object(1)\n",
      "memory usage: 19.0+ KB\n"
     ]
    }
   ],
   "source": [
    "df.info()"
   ]
  },
  {
   "cell_type": "markdown",
   "metadata": {},
   "source": [
    "We also do not have any null values in our dataset, but we need to check for UNS column as it's data type is an object"
   ]
  },
  {
   "cell_type": "code",
   "execution_count": 148,
   "metadata": {},
   "outputs": [
    {
     "data": {
      "text/plain": [
       "array(['very_low', 'High', 'Low', 'Middle', 'Very Low'], dtype=object)"
      ]
     },
     "execution_count": 148,
     "metadata": {},
     "output_type": "execute_result"
    }
   ],
   "source": [
    "df[' UNS'].unique()"
   ]
  },
  {
   "cell_type": "markdown",
   "metadata": {},
   "source": [
    "UNS field has total 5 categories in which two categories very_low and Very Low represents the same meaning of both of the attributes, so we need to replace the Very Low categorical value to very_low.\n"
   ]
  },
  {
   "cell_type": "code",
   "execution_count": 149,
   "metadata": {},
   "outputs": [],
   "source": [
    "df[' UNS']= df[' UNS'].replace(['Very Low'],['very_low'])"
   ]
  },
  {
   "cell_type": "markdown",
   "metadata": {},
   "source": [
    "Now let's look at the count of UNS for it's respective categories"
   ]
  },
  {
   "cell_type": "code",
   "execution_count": 151,
   "metadata": {},
   "outputs": [
    {
     "data": {
      "image/png": "[encoded data removed]",
      "text/plain": [
       "<Figure size 1080x288 with 1 Axes>"
      ]
     },
     "metadata": {
      "needs_background": "light"
     },
     "output_type": "display_data"
    }
   ],
   "source": [
    "plt.figure(1 , figsize = (15 , 4))\n",
    "color_palette = [\"#FA5858\", \"#58D3F7\", \"#704041\", \"#f5c3c4\"]\n",
    "sns.countplot(y = ' UNS' , data = df, palette = color_palette)\n",
    "plt.show()"
   ]
  },
  {
   "cell_type": "markdown",
   "metadata": {},
   "source": [
    "From the above chart we scn observe that highest proportion we have in the data is of the Low class and the Middle class. From this observation we can observe that the users that are involved in research seems to have a low-to-medium level of knowledge."
   ]
  },
  {
   "cell_type": "markdown",
   "metadata": {},
   "source": [
    "Here we are encoding the UNS field to it's numerical values."
   ]
  },
  {
   "cell_type": "code",
   "execution_count": 154,
   "metadata": {},
   "outputs": [
    {
     "data": {
      "text/plain": [
       "array([3, 0, 1, 2])"
      ]
     },
     "execution_count": 154,
     "metadata": {},
     "output_type": "execute_result"
    }
   ],
   "source": [
    "label_encoder = LabelEncoder()\n",
    "df[' UNS']= label_encoder.fit_transform(df[' UNS'])  \n",
    "df[' UNS'].unique()"
   ]
  },
  {
   "cell_type": "code",
   "execution_count": 155,
   "metadata": {},
   "outputs": [],
   "source": [
    "numerical_df = df.select_dtypes(include=['float64'])"
   ]
  },
  {
   "cell_type": "markdown",
   "metadata": {},
   "source": [
    "#####  plot distribution of numerical attributes"
   ]
  },
  {
   "cell_type": "code",
   "execution_count": 157,
   "metadata": {},
   "outputs": [
    {
     "data": {
      "image/png": "[encoded data removed]",
      "text/plain": [
       "<Figure size 1440x1440 with 4 Axes>"
      ]
     },
     "metadata": {
      "needs_background": "light"
     },
     "output_type": "display_data"
    }
   ],
   "source": [
    "numerical_attributes_plot_distrbution(numerical_df)"
   ]
  },
  {
   "cell_type": "markdown",
   "metadata": {},
   "source": [
    "The plot above shows the distribution in each column. From the visulazation we do not seems to find any outlier in the dataset. "
   ]
  },
  {
   "cell_type": "code",
   "execution_count": 159,
   "metadata": {},
   "outputs": [
    {
     "data": {
      "image/png": "[encoded data removed]",
      "text/plain": [
       "<Figure size 720x432 with 2 Axes>"
      ]
     },
     "metadata": {
      "needs_background": "light"
     },
     "output_type": "display_data"
    }
   ],
   "source": [
    "plot_corr_matrix(df)"
   ]
  },
  {
   "cell_type": "markdown",
   "metadata": {},
   "source": [
    "from the above result, we are able to observe that the none of the data column are highly correlated with each other as no attribute has correlation value > 0.2"
   ]
  },
  {
   "cell_type": "markdown",
   "metadata": {},
   "source": [
    "#### Checking for Outliers\n",
    "\n",
    "Here we are checking for all the outliers, by getting each variable upper and lower extream values and removing which does not lie in IQR Range"
   ]
  },
  {
   "cell_type": "code",
   "execution_count": 161,
   "metadata": {},
   "outputs": [
    {
     "data": {
      "text/plain": [
       "403"
      ]
     },
     "execution_count": 161,
     "metadata": {},
     "output_type": "execute_result"
    }
   ],
   "source": [
    "cleaned_data = process_outliers(numerical_df)\n",
    "len(cleaned_data)"
   ]
  },
  {
   "cell_type": "markdown",
   "metadata": {},
   "source": [
    "the data instances are same, meaning we do not have outlier in the dataset."
   ]
  },
  {
   "cell_type": "code",
   "execution_count": 162,
   "metadata": {},
   "outputs": [
    {
     "data": {
      "text/html": [
       "<div>\n",
       "<style scoped>\n",
       "    .dataframe tbody tr th:only-of-type {\n",
       "        vertical-align: middle;\n",
       "    }\n",
       "\n",
       "    .dataframe tbody tr th {\n",
       "        vertical-align: top;\n",
       "    }\n",
       "\n",
       "    .dataframe thead th {\n",
       "        text-align: right;\n",
       "    }\n",
       "</style>\n",
       "<table border=\"1\" class=\"dataframe\">\n",
       "  <thead>\n",
       "    <tr style=\"text-align: right;\">\n",
       "      <th></th>\n",
       "      <th>STG</th>\n",
       "      <th>SCG</th>\n",
       "      <th>STR</th>\n",
       "      <th>LPR</th>\n",
       "      <th>PEG</th>\n",
       "    </tr>\n",
       "  </thead>\n",
       "  <tbody>\n",
       "    <tr>\n",
       "      <th>0</th>\n",
       "      <td>0.00</td>\n",
       "      <td>0.00</td>\n",
       "      <td>0.00</td>\n",
       "      <td>0.00</td>\n",
       "      <td>0.00</td>\n",
       "    </tr>\n",
       "    <tr>\n",
       "      <th>1</th>\n",
       "      <td>0.08</td>\n",
       "      <td>0.08</td>\n",
       "      <td>0.10</td>\n",
       "      <td>0.24</td>\n",
       "      <td>0.90</td>\n",
       "    </tr>\n",
       "    <tr>\n",
       "      <th>2</th>\n",
       "      <td>0.06</td>\n",
       "      <td>0.06</td>\n",
       "      <td>0.05</td>\n",
       "      <td>0.25</td>\n",
       "      <td>0.33</td>\n",
       "    </tr>\n",
       "    <tr>\n",
       "      <th>3</th>\n",
       "      <td>0.10</td>\n",
       "      <td>0.10</td>\n",
       "      <td>0.15</td>\n",
       "      <td>0.65</td>\n",
       "      <td>0.30</td>\n",
       "    </tr>\n",
       "    <tr>\n",
       "      <th>4</th>\n",
       "      <td>0.08</td>\n",
       "      <td>0.08</td>\n",
       "      <td>0.08</td>\n",
       "      <td>0.98</td>\n",
       "      <td>0.24</td>\n",
       "    </tr>\n",
       "  </tbody>\n",
       "</table>\n",
       "</div>"
      ],
      "text/plain": [
       "    STG   SCG   STR   LPR   PEG\n",
       "0  0.00  0.00  0.00  0.00  0.00\n",
       "1  0.08  0.08  0.10  0.24  0.90\n",
       "2  0.06  0.06  0.05  0.25  0.33\n",
       "3  0.10  0.10  0.15  0.65  0.30\n",
       "4  0.08  0.08  0.08  0.98  0.24"
      ]
     },
     "execution_count": 162,
     "metadata": {},
     "output_type": "execute_result"
    }
   ],
   "source": [
    "cleaned_dsata.head()"
   ]
  },
  {
   "cell_type": "code",
   "execution_count": 192,
   "metadata": {},
   "outputs": [],
   "source": [
    "X = df[['STG' , 'PEG']].iloc[: , :].values\n",
    "y = df[[' UNS']]"
   ]
  },
  {
   "cell_type": "code",
   "execution_count": 193,
   "metadata": {},
   "outputs": [
    {
     "data": {
      "text/html": [
       "<div>\n",
       "<style scoped>\n",
       "    .dataframe tbody tr th:only-of-type {\n",
       "        vertical-align: middle;\n",
       "    }\n",
       "\n",
       "    .dataframe tbody tr th {\n",
       "        vertical-align: top;\n",
       "    }\n",
       "\n",
       "    .dataframe thead th {\n",
       "        text-align: right;\n",
       "    }\n",
       "</style>\n",
       "<table border=\"1\" class=\"dataframe\">\n",
       "  <thead>\n",
       "    <tr style=\"text-align: right;\">\n",
       "      <th></th>\n",
       "      <th>UNS</th>\n",
       "    </tr>\n",
       "  </thead>\n",
       "  <tbody>\n",
       "    <tr>\n",
       "      <th>0</th>\n",
       "      <td>3</td>\n",
       "    </tr>\n",
       "    <tr>\n",
       "      <th>1</th>\n",
       "      <td>0</td>\n",
       "    </tr>\n",
       "    <tr>\n",
       "      <th>2</th>\n",
       "      <td>1</td>\n",
       "    </tr>\n",
       "    <tr>\n",
       "      <th>3</th>\n",
       "      <td>2</td>\n",
       "    </tr>\n",
       "    <tr>\n",
       "      <th>4</th>\n",
       "      <td>1</td>\n",
       "    </tr>\n",
       "    <tr>\n",
       "      <th>...</th>\n",
       "      <td>...</td>\n",
       "    </tr>\n",
       "    <tr>\n",
       "      <th>398</th>\n",
       "      <td>0</td>\n",
       "    </tr>\n",
       "    <tr>\n",
       "      <th>399</th>\n",
       "      <td>0</td>\n",
       "    </tr>\n",
       "    <tr>\n",
       "      <th>400</th>\n",
       "      <td>1</td>\n",
       "    </tr>\n",
       "    <tr>\n",
       "      <th>401</th>\n",
       "      <td>2</td>\n",
       "    </tr>\n",
       "    <tr>\n",
       "      <th>402</th>\n",
       "      <td>2</td>\n",
       "    </tr>\n",
       "  </tbody>\n",
       "</table>\n",
       "<p>403 rows × 1 columns</p>\n",
       "</div>"
      ],
      "text/plain": [
       "      UNS\n",
       "0       3\n",
       "1       0\n",
       "2       1\n",
       "3       2\n",
       "4       1\n",
       "..    ...\n",
       "398     0\n",
       "399     0\n",
       "400     1\n",
       "401     2\n",
       "402     2\n",
       "\n",
       "[403 rows x 1 columns]"
      ]
     },
     "execution_count": 193,
     "metadata": {},
     "output_type": "execute_result"
    }
   ],
   "source": [
    "y"
   ]
  },
  {
   "cell_type": "markdown",
   "metadata": {},
   "source": [
    "# Cluster Analysis\n",
    "\n",
    "This section is divided into two parts. In the first part we will be doing a comparative analysis of Gaussian mixture model with it's paramter's best value using Grid Search Technique. And In the second part we will be performing a comparartive analysis of <b>Gaussian mixture model </b> with other models that include <b>Bayesian Gaussian Mixture, Mini-Batch K-means, OPTICS, DBSCAN, Agglomerative, Spectral Clustering and Affinity Propagation </b> with their respective hyper-paramter tuning using Grid Search Technique. No of best paramters would be chosen on the basis of maximum silhoutte score.\n",
    "\n",
    "We will be further evaulating our cluster performance using following measures: \n",
    "    \n",
    "###### Intrinsic Measures that does not require ground truth labels (y)\n",
    "- silhouette_score measures the between-cluster distance against within-cluster distance. A higher score signifies better-defined clusters. It is good for well define cluster as well as measure the interpretability of clusters.\n",
    "- davies_bouldin_score measures the size of clusters against the average distance between clusters. A lower score signifies better-defined clusters. A lower score means that the cluster is relatively small compared to the distance to another cluster, hence well-defined.\n",
    "- calinski_harabasz_score measures the between-cluster dispersion against within-cluster dispersion. A higher score signifies better-defined clusters. A higher ratio signifies the cluster is far away from its other clusters and that the cluster is more well-defined\n",
    "    \n",
    "    \n",
    "###### Extrinsic Measures that requires ground truth labels (y)\n",
    "- fowlkes_mallows_score measure the correctness of the cluster assignments using pairwise precision and recall. A higher score signifies higher similarity.\n",
    "- adjusted_rand_score measures the similarity between the cluster assignments by making pair-wise comparisons. A higher score signifies higher similarity.\n",
    "- adjusted_mutual_info_score measures the agreement between the cluster assignments. A higher score signifies higher similarity.\n",
    "- homogeneity_score measures the precision of cluster, meaning each cluster contains only members of a single class. \n",
    "- completeness_score measures the recall of cluster, meaning all members of a given class are assigned to the same cluster.\n",
    "- v_measure_score measures the correctness of the cluster assignments and used to measure interpretability of clusters. A higher score signifies higher similarity.\n",
    "\n",
    "\n",
    "## Part 1: Comparative Analysis of Gaussian mixture model with it's hyper-parameters\n",
    "\n",
    "A Gaussian mixture model (GMM) assists to find a mixture of multi-dimensional Gaussian probability distributions that best models dataset. In the simplest case, GMMs can be used for finding clusters in the same manner as k-means.\n",
    "\n",
    "Here, first we would only be applying Gaussian Mixture Model with 2 components, then with addition of each hyperparamter using Grid Search to get the best possible attribute combination, we would be doing a comparative analysis as how each parameter is effecting the result of clustering. We would be doing comparative analysis using\n",
    "\n",
    "- GMM with n_components = 2\n",
    "- GMM with n_components and covariance_type using Grid Search \n",
    "- GMM with n_components and max_iter using Grid Search \n",
    "- GMM with n_components and init_params using Grid Search \n",
    "- GMM with n_components and n_init using Grid Search \n",
    "\n",
    "\n",
    "#### GMM with n_components = 2\n",
    "\n",
    "n_components refers to the number of mixture components.\n",
    "\n",
    "First we would just be using fixed no of n_components with all the default parameters to see how the clusers are formed for our dataset."
   ]
  },
  {
   "cell_type": "code",
   "execution_count": 197,
   "metadata": {},
   "outputs": [
    {
     "data": {
      "text/html": [
       "<div>\n",
       "<style scoped>\n",
       "    .dataframe tbody tr th:only-of-type {\n",
       "        vertical-align: middle;\n",
       "    }\n",
       "\n",
       "    .dataframe tbody tr th {\n",
       "        vertical-align: top;\n",
       "    }\n",
       "\n",
       "    .dataframe thead th {\n",
       "        text-align: right;\n",
       "    }\n",
       "</style>\n",
       "<table border=\"1\" class=\"dataframe\">\n",
       "  <thead>\n",
       "    <tr style=\"text-align: right;\">\n",
       "      <th></th>\n",
       "      <th>Cluster</th>\n",
       "    </tr>\n",
       "  </thead>\n",
       "  <tbody>\n",
       "    <tr>\n",
       "      <th>0</th>\n",
       "      <td>203</td>\n",
       "    </tr>\n",
       "    <tr>\n",
       "      <th>1</th>\n",
       "      <td>200</td>\n",
       "    </tr>\n",
       "  </tbody>\n",
       "</table>\n",
       "</div>"
      ],
      "text/plain": [
       "   Cluster\n",
       "0      203\n",
       "1      200"
      ]
     },
     "execution_count": 197,
     "metadata": {},
     "output_type": "execute_result"
    }
   ],
   "source": [
    "gmm1 = GaussianMixture(n_components = 2)\n",
    "\n",
    "gmm1.fit(X)\n",
    "gmm1_labels = gmm1.fit_predict(X)\n",
    "gmm1_dataset = pd.DataFrame(X.copy())\n",
    "gmm1_dataset.loc[:,'Cluster'] = gmm1_labels\n",
    "gmm1_dataset.Cluster.value_counts().to_frame()"
   ]
  },
  {
   "cell_type": "code",
   "execution_count": 198,
   "metadata": {},
   "outputs": [
    {
     "data": {
      "text/html": [
       "<div>\n",
       "<style scoped>\n",
       "    .dataframe tbody tr th:only-of-type {\n",
       "        vertical-align: middle;\n",
       "    }\n",
       "\n",
       "    .dataframe tbody tr th {\n",
       "        vertical-align: top;\n",
       "    }\n",
       "\n",
       "    .dataframe thead th {\n",
       "        text-align: right;\n",
       "    }\n",
       "</style>\n",
       "<table border=\"1\" class=\"dataframe\">\n",
       "  <thead>\n",
       "    <tr style=\"text-align: right;\">\n",
       "      <th></th>\n",
       "      <th>silhouette_score</th>\n",
       "      <th>davies_bouldin_score</th>\n",
       "      <th>calinski_harabasz_score</th>\n",
       "      <th>fowlkes_mallows_score</th>\n",
       "      <th>adjusted_rand_score</th>\n",
       "      <th>adjusted_mutual_info_score</th>\n",
       "      <th>homogeneity_score</th>\n",
       "      <th>completeness_score</th>\n",
       "      <th>v_measure_score</th>\n",
       "    </tr>\n",
       "  </thead>\n",
       "  <tbody>\n",
       "    <tr>\n",
       "      <th>GaussianMixture with n_components only</th>\n",
       "      <td>0.459953</td>\n",
       "      <td>0.883581</td>\n",
       "      <td>407.893785</td>\n",
       "      <td>0.659264</td>\n",
       "      <td>0.429165</td>\n",
       "      <td>0.534284</td>\n",
       "      <td>0.407353</td>\n",
       "      <td>0.783442</td>\n",
       "      <td>0.536007</td>\n",
       "    </tr>\n",
       "  </tbody>\n",
       "</table>\n",
       "</div>"
      ],
      "text/plain": [
       "                                        silhouette_score  \\\n",
       "GaussianMixture with n_components only          0.459953   \n",
       "\n",
       "                                        davies_bouldin_score  \\\n",
       "GaussianMixture with n_components only              0.883581   \n",
       "\n",
       "                                        calinski_harabasz_score  \\\n",
       "GaussianMixture with n_components only               407.893785   \n",
       "\n",
       "                                        fowlkes_mallows_score  \\\n",
       "GaussianMixture with n_components only               0.659264   \n",
       "\n",
       "                                        adjusted_rand_score  \\\n",
       "GaussianMixture with n_components only             0.429165   \n",
       "\n",
       "                                        adjusted_mutual_info_score  \\\n",
       "GaussianMixture with n_components only                    0.534284   \n",
       "\n",
       "                                        homogeneity_score  completeness_score  \\\n",
       "GaussianMixture with n_components only           0.407353            0.783442   \n",
       "\n",
       "                                        v_measure_score  \n",
       "GaussianMixture with n_components only         0.536007  "
      ]
     },
     "execution_count": 198,
     "metadata": {},
     "output_type": "execute_result"
    }
   ],
   "source": [
    "gmm_df1 = pd.DataFrame(estimator_evaluation2(gmm1, 'GaussianMixture ', X , y), index=[\"GaussianMixture with n_components only\"])\n",
    "gmm_df1"
   ]
  },
  {
   "cell_type": "markdown",
   "metadata": {},
   "source": [
    "#### GMM with n_components and covariance_type using Grid Search\n",
    "\n",
    "covariance_type parameter controls the degrees of freedom in the shape of cluster. That is what allows for adjusting for different shapes of the clusters and that is why it is an essential to set this carefully for the given problem. \n",
    "\n",
    "\n",
    "- full(default): it referes to have each component has its own general covariance matrix, which allows each cluster to be modeled as an ellipse with it's arbitrary orientation.\n",
    "- tied: it referes to have all components share the same general covariance matrix.\n",
    "- diag: it referes to have each component has its own diagonal covariance matrix, which means that the size of the cluster with each dimension can be set independently.\n",
    "- spherical: it referes to have each component has its own single variance, which is a simpler and faster model that constrains the shape of the cluster such that all dimensions are equal. The resulting clustering will have similar characteristics to that of k-means.\n",
    "\n",
    "We would be using the best covariance_type for our problem analysis using Grid Search Hyper-parameter technique."
   ]
  },
  {
   "cell_type": "code",
   "execution_count": 199,
   "metadata": {},
   "outputs": [
    {
     "name": "stdout",
     "output_type": "stream",
     "text": [
      "{'covariance_type': 'diag', 'n_components': 2}\n"
     ]
    },
    {
     "data": {
      "text/html": [
       "<div>\n",
       "<style scoped>\n",
       "    .dataframe tbody tr th:only-of-type {\n",
       "        vertical-align: middle;\n",
       "    }\n",
       "\n",
       "    .dataframe tbody tr th {\n",
       "        vertical-align: top;\n",
       "    }\n",
       "\n",
       "    .dataframe thead th {\n",
       "        text-align: right;\n",
       "    }\n",
       "</style>\n",
       "<table border=\"1\" class=\"dataframe\">\n",
       "  <thead>\n",
       "    <tr style=\"text-align: right;\">\n",
       "      <th></th>\n",
       "      <th>Cluster</th>\n",
       "    </tr>\n",
       "  </thead>\n",
       "  <tbody>\n",
       "    <tr>\n",
       "      <th>1</th>\n",
       "      <td>203</td>\n",
       "    </tr>\n",
       "    <tr>\n",
       "      <th>0</th>\n",
       "      <td>200</td>\n",
       "    </tr>\n",
       "  </tbody>\n",
       "</table>\n",
       "</div>"
      ],
      "text/plain": [
       "   Cluster\n",
       "1      203\n",
       "0      200"
      ]
     },
     "execution_count": 199,
     "metadata": {},
     "output_type": "execute_result"
    }
   ],
   "source": [
    "gmm_grid = {\n",
    "        \"covariance_type\": ['full', 'tied', 'diag', 'spherical'],\n",
    "        \"n_components\": range(2, 10)\n",
    "       }\n",
    "gmm_grid\n",
    "gmm_model2 = GaussianMixture()\n",
    "gmm_params2 = GridSearchCV(gmm_model2,gmm_grid,scoring=silhouette_score3,cv= 10).fit(X, y)\n",
    "print(gmm_params2.best_params_)\n",
    "gmm2 = GaussianMixture(covariance_type = gmm_params2.best_params_['covariance_type'],\n",
    "                      n_components = gmm_params2.best_params_['n_components'])\n",
    "\n",
    "gmm2.fit(X)\n",
    "gmm2_labels = gmm2.fit_predict(X)\n",
    "gmm2_dataset = pd.DataFrame(X.copy())\n",
    "gmm2_dataset.loc[:,'Cluster'] = gmm2_labels\n",
    "gmm2_dataset.Cluster.value_counts().to_frame()"
   ]
  },
  {
   "cell_type": "code",
   "execution_count": 200,
   "metadata": {},
   "outputs": [
    {
     "data": {
      "text/html": [
       "<div>\n",
       "<style scoped>\n",
       "    .dataframe tbody tr th:only-of-type {\n",
       "        vertical-align: middle;\n",
       "    }\n",
       "\n",
       "    .dataframe tbody tr th {\n",
       "        vertical-align: top;\n",
       "    }\n",
       "\n",
       "    .dataframe thead th {\n",
       "        text-align: right;\n",
       "    }\n",
       "</style>\n",
       "<table border=\"1\" class=\"dataframe\">\n",
       "  <thead>\n",
       "    <tr style=\"text-align: right;\">\n",
       "      <th></th>\n",
       "      <th>silhouette_score</th>\n",
       "      <th>davies_bouldin_score</th>\n",
       "      <th>calinski_harabasz_score</th>\n",
       "      <th>fowlkes_mallows_score</th>\n",
       "      <th>adjusted_rand_score</th>\n",
       "      <th>adjusted_mutual_info_score</th>\n",
       "      <th>homogeneity_score</th>\n",
       "      <th>completeness_score</th>\n",
       "      <th>v_measure_score</th>\n",
       "    </tr>\n",
       "  </thead>\n",
       "  <tbody>\n",
       "    <tr>\n",
       "      <th>GaussianMixture with covariance_type</th>\n",
       "      <td>0.459953</td>\n",
       "      <td>0.883581</td>\n",
       "      <td>407.893785</td>\n",
       "      <td>0.659264</td>\n",
       "      <td>0.429165</td>\n",
       "      <td>0.534284</td>\n",
       "      <td>0.407353</td>\n",
       "      <td>0.783442</td>\n",
       "      <td>0.536007</td>\n",
       "    </tr>\n",
       "  </tbody>\n",
       "</table>\n",
       "</div>"
      ],
      "text/plain": [
       "                                      silhouette_score  davies_bouldin_score  \\\n",
       "GaussianMixture with covariance_type          0.459953              0.883581   \n",
       "\n",
       "                                      calinski_harabasz_score  \\\n",
       "GaussianMixture with covariance_type               407.893785   \n",
       "\n",
       "                                      fowlkes_mallows_score  \\\n",
       "GaussianMixture with covariance_type               0.659264   \n",
       "\n",
       "                                      adjusted_rand_score  \\\n",
       "GaussianMixture with covariance_type             0.429165   \n",
       "\n",
       "                                      adjusted_mutual_info_score  \\\n",
       "GaussianMixture with covariance_type                    0.534284   \n",
       "\n",
       "                                      homogeneity_score  completeness_score  \\\n",
       "GaussianMixture with covariance_type           0.407353            0.783442   \n",
       "\n",
       "                                      v_measure_score  \n",
       "GaussianMixture with covariance_type         0.536007  "
      ]
     },
     "execution_count": 200,
     "metadata": {},
     "output_type": "execute_result"
    }
   ],
   "source": [
    "gmm_df2 = pd.DataFrame(estimator_evaluation2(gmm2, 'GaussianMixture ', X , y), index=[\"GaussianMixture with covariance_type\"])\n",
    "gmm_df2"
   ]
  },
  {
   "cell_type": "markdown",
   "metadata": {},
   "source": [
    "#### GMM with n_components and max_iter using Grid Search \n",
    "\n",
    "max_iter refers to the number of EM iterations to perform.\n",
    "\n",
    "As Gaussian Mixture models takes quite much time to run as compare to K-Means model because GMM takes long time to converge.\n",
    "That is why we need to consider the amount of data and the features that needs to be given to GMM. When experimenting with the Bayesian Gaussian Mixture class, it often gives an errors of convergence that couldn’t be reached, in that case we need to increase the max_iter parameter.\n",
    "\n",
    "We would be using the best max_iter for our problem analysis using Grid Search Hyper-paramter technique."
   ]
  },
  {
   "cell_type": "code",
   "execution_count": 201,
   "metadata": {},
   "outputs": [
    {
     "name": "stdout",
     "output_type": "stream",
     "text": [
      "{'max_iter': 50, 'n_components': 2}\n"
     ]
    },
    {
     "data": {
      "text/html": [
       "<div>\n",
       "<style scoped>\n",
       "    .dataframe tbody tr th:only-of-type {\n",
       "        vertical-align: middle;\n",
       "    }\n",
       "\n",
       "    .dataframe tbody tr th {\n",
       "        vertical-align: top;\n",
       "    }\n",
       "\n",
       "    .dataframe thead th {\n",
       "        text-align: right;\n",
       "    }\n",
       "</style>\n",
       "<table border=\"1\" class=\"dataframe\">\n",
       "  <thead>\n",
       "    <tr style=\"text-align: right;\">\n",
       "      <th></th>\n",
       "      <th>Cluster</th>\n",
       "    </tr>\n",
       "  </thead>\n",
       "  <tbody>\n",
       "    <tr>\n",
       "      <th>0</th>\n",
       "      <td>203</td>\n",
       "    </tr>\n",
       "    <tr>\n",
       "      <th>1</th>\n",
       "      <td>200</td>\n",
       "    </tr>\n",
       "  </tbody>\n",
       "</table>\n",
       "</div>"
      ],
      "text/plain": [
       "   Cluster\n",
       "0      203\n",
       "1      200"
      ]
     },
     "execution_count": 201,
     "metadata": {},
     "output_type": "execute_result"
    }
   ],
   "source": [
    "gmm_grid = {\n",
    "        \"max_iter\": [50, 100, 150, 200, 250, 300],\n",
    "        \"n_components\": range(2, 10)\n",
    "       }\n",
    "gmm_grid\n",
    "gmm_model3 = GaussianMixture()\n",
    "gmm_params3 = GridSearchCV(gmm_model3,gmm_grid,scoring=silhouette_score3,cv= 10).fit(X, y)\n",
    "print(gmm_params3.best_params_)\n",
    "gmm3 = GaussianMixture(max_iter = gmm_params3.best_params_['max_iter'],\n",
    "                      n_components = gmm_params3.best_params_['n_components'])\n",
    "\n",
    "gmm3.fit(X)\n",
    "gmm3_labels = gmm3.fit_predict(X)\n",
    "gmm3_dataset = pd.DataFrame(X.copy())\n",
    "gmm3_dataset.loc[:,'Cluster'] = gmm3_labels\n",
    "gmm3_dataset.Cluster.value_counts().to_frame()"
   ]
  },
  {
   "cell_type": "code",
   "execution_count": 202,
   "metadata": {},
   "outputs": [
    {
     "data": {
      "text/html": [
       "<div>\n",
       "<style scoped>\n",
       "    .dataframe tbody tr th:only-of-type {\n",
       "        vertical-align: middle;\n",
       "    }\n",
       "\n",
       "    .dataframe tbody tr th {\n",
       "        vertical-align: top;\n",
       "    }\n",
       "\n",
       "    .dataframe thead th {\n",
       "        text-align: right;\n",
       "    }\n",
       "</style>\n",
       "<table border=\"1\" class=\"dataframe\">\n",
       "  <thead>\n",
       "    <tr style=\"text-align: right;\">\n",
       "      <th></th>\n",
       "      <th>silhouette_score</th>\n",
       "      <th>davies_bouldin_score</th>\n",
       "      <th>calinski_harabasz_score</th>\n",
       "      <th>fowlkes_mallows_score</th>\n",
       "      <th>adjusted_rand_score</th>\n",
       "      <th>adjusted_mutual_info_score</th>\n",
       "      <th>homogeneity_score</th>\n",
       "      <th>completeness_score</th>\n",
       "      <th>v_measure_score</th>\n",
       "    </tr>\n",
       "  </thead>\n",
       "  <tbody>\n",
       "    <tr>\n",
       "      <th>GaussianMixture with max_iter</th>\n",
       "      <td>0.459953</td>\n",
       "      <td>0.883581</td>\n",
       "      <td>407.893785</td>\n",
       "      <td>0.659264</td>\n",
       "      <td>0.429165</td>\n",
       "      <td>0.534284</td>\n",
       "      <td>0.407353</td>\n",
       "      <td>0.783442</td>\n",
       "      <td>0.536007</td>\n",
       "    </tr>\n",
       "  </tbody>\n",
       "</table>\n",
       "</div>"
      ],
      "text/plain": [
       "                               silhouette_score  davies_bouldin_score  \\\n",
       "GaussianMixture with max_iter          0.459953              0.883581   \n",
       "\n",
       "                               calinski_harabasz_score  fowlkes_mallows_score  \\\n",
       "GaussianMixture with max_iter               407.893785               0.659264   \n",
       "\n",
       "                               adjusted_rand_score  \\\n",
       "GaussianMixture with max_iter             0.429165   \n",
       "\n",
       "                               adjusted_mutual_info_score  homogeneity_score  \\\n",
       "GaussianMixture with max_iter                    0.534284           0.407353   \n",
       "\n",
       "                               completeness_score  v_measure_score  \n",
       "GaussianMixture with max_iter            0.783442         0.536007  "
      ]
     },
     "execution_count": 202,
     "metadata": {},
     "output_type": "execute_result"
    }
   ],
   "source": [
    "gmm_df3 = pd.DataFrame(estimator_evaluation2(gmm3, 'GaussianMixture ', X , y), index=[\"GaussianMixture with max_iter\"])\n",
    "gmm_df3"
   ]
  },
  {
   "cell_type": "markdown",
   "metadata": {},
   "source": [
    "#### GMM with n_components and init_params using Grid Search \n",
    "\n",
    "init_params refers to Initialization methods that helps to generate the initial centers for the model components. The innitial method for GMM are:\n",
    "\n",
    "- k-means (default) :This refers to k-means clustering algorithm and can be computationally expensive compared to other initialization methods.\n",
    "\n",
    "- k-means++ : This initialization method of k-means clustering picks the first center at random from the data, then the centers will be chosen from a weighted distribution of the data that favours points that are further away from the existing centers.\n",
    "\n",
    "- random_from_data : This picks random data points from the input data as the initial centers, and it's fastest method of initialization but can result in producing non-convergent results if the selected points are way too close to each other.\n",
    "\n",
    "- random : This chooses center randomly but away from the mean of all data, but as simple as it is, it can lead to the model taking longer to converge.\n",
    "\n",
    "We would be using the best init_params for our problem analysis using Grid Search Hyper-paramter technique"
   ]
  },
  {
   "cell_type": "code",
   "execution_count": 203,
   "metadata": {},
   "outputs": [
    {
     "name": "stdout",
     "output_type": "stream",
     "text": [
      "{'init_params': 'kmeans', 'n_components': 2}\n"
     ]
    },
    {
     "data": {
      "text/html": [
       "<div>\n",
       "<style scoped>\n",
       "    .dataframe tbody tr th:only-of-type {\n",
       "        vertical-align: middle;\n",
       "    }\n",
       "\n",
       "    .dataframe tbody tr th {\n",
       "        vertical-align: top;\n",
       "    }\n",
       "\n",
       "    .dataframe thead th {\n",
       "        text-align: right;\n",
       "    }\n",
       "</style>\n",
       "<table border=\"1\" class=\"dataframe\">\n",
       "  <thead>\n",
       "    <tr style=\"text-align: right;\">\n",
       "      <th></th>\n",
       "      <th>Cluster</th>\n",
       "    </tr>\n",
       "  </thead>\n",
       "  <tbody>\n",
       "    <tr>\n",
       "      <th>0</th>\n",
       "      <td>203</td>\n",
       "    </tr>\n",
       "    <tr>\n",
       "      <th>1</th>\n",
       "      <td>200</td>\n",
       "    </tr>\n",
       "  </tbody>\n",
       "</table>\n",
       "</div>"
      ],
      "text/plain": [
       "   Cluster\n",
       "0      203\n",
       "1      200"
      ]
     },
     "execution_count": 203,
     "metadata": {},
     "output_type": "execute_result"
    }
   ],
   "source": [
    "gmm_grid = {\n",
    "        \"init_params\": ['kmeans', 'k-means++', 'random', 'random_from_data'],\n",
    "        \"n_components\": range(2, 10)\n",
    "       }\n",
    "gmm_grid\n",
    "gmm_model4 = GaussianMixture()\n",
    "gmm_params4 = GridSearchCV(gmm_model4,gmm_grid,scoring=silhouette_score3,cv= 10).fit(X, y)\n",
    "print(gmm_params4.best_params_)\n",
    "gmm4 = GaussianMixture(init_params = gmm_params4.best_params_['init_params'],\n",
    "                      n_components = gmm_params4.best_params_['n_components'])\n",
    "\n",
    "gmm4.fit(X)\n",
    "gmm4_labels = gmm4.fit_predict(X)\n",
    "gmm4_dataset = pd.DataFrame(X.copy())\n",
    "gmm4_dataset.loc[:,'Cluster'] = gmm4_labels\n",
    "gmm4_dataset.Cluster.value_counts().to_frame()"
   ]
  },
  {
   "cell_type": "code",
   "execution_count": 204,
   "metadata": {},
   "outputs": [
    {
     "data": {
      "text/html": [
       "<div>\n",
       "<style scoped>\n",
       "    .dataframe tbody tr th:only-of-type {\n",
       "        vertical-align: middle;\n",
       "    }\n",
       "\n",
       "    .dataframe tbody tr th {\n",
       "        vertical-align: top;\n",
       "    }\n",
       "\n",
       "    .dataframe thead th {\n",
       "        text-align: right;\n",
       "    }\n",
       "</style>\n",
       "<table border=\"1\" class=\"dataframe\">\n",
       "  <thead>\n",
       "    <tr style=\"text-align: right;\">\n",
       "      <th></th>\n",
       "      <th>silhouette_score</th>\n",
       "      <th>davies_bouldin_score</th>\n",
       "      <th>calinski_harabasz_score</th>\n",
       "      <th>fowlkes_mallows_score</th>\n",
       "      <th>adjusted_rand_score</th>\n",
       "      <th>adjusted_mutual_info_score</th>\n",
       "      <th>homogeneity_score</th>\n",
       "      <th>completeness_score</th>\n",
       "      <th>v_measure_score</th>\n",
       "    </tr>\n",
       "  </thead>\n",
       "  <tbody>\n",
       "    <tr>\n",
       "      <th>GaussianMixture with init_params</th>\n",
       "      <td>0.459953</td>\n",
       "      <td>0.883581</td>\n",
       "      <td>407.893785</td>\n",
       "      <td>0.659264</td>\n",
       "      <td>0.429165</td>\n",
       "      <td>0.534284</td>\n",
       "      <td>0.407353</td>\n",
       "      <td>0.783442</td>\n",
       "      <td>0.536007</td>\n",
       "    </tr>\n",
       "  </tbody>\n",
       "</table>\n",
       "</div>"
      ],
      "text/plain": [
       "                                  silhouette_score  davies_bouldin_score  \\\n",
       "GaussianMixture with init_params          0.459953              0.883581   \n",
       "\n",
       "                                  calinski_harabasz_score  \\\n",
       "GaussianMixture with init_params               407.893785   \n",
       "\n",
       "                                  fowlkes_mallows_score  adjusted_rand_score  \\\n",
       "GaussianMixture with init_params               0.659264             0.429165   \n",
       "\n",
       "                                  adjusted_mutual_info_score  \\\n",
       "GaussianMixture with init_params                    0.534284   \n",
       "\n",
       "                                  homogeneity_score  completeness_score  \\\n",
       "GaussianMixture with init_params           0.407353            0.783442   \n",
       "\n",
       "                                  v_measure_score  \n",
       "GaussianMixture with init_params         0.536007  "
      ]
     },
     "execution_count": 204,
     "metadata": {},
     "output_type": "execute_result"
    }
   ],
   "source": [
    "gmm_df4 = pd.DataFrame(estimator_evaluation2(gmm4, 'GaussianMixture ', X , y), index=[\"GaussianMixture with init_params\"])\n",
    "gmm_df4"
   ]
  },
  {
   "cell_type": "markdown",
   "metadata": {},
   "source": [
    "#### GMM with n_components and n_init using Grid Search \n",
    "\n",
    "n_init refers to the number of initializations to be performed in GMM.\n",
    "\n",
    "We would be using the best n_init for our problem analysis using Grid Search Hyper-paramter technique"
   ]
  },
  {
   "cell_type": "code",
   "execution_count": 205,
   "metadata": {},
   "outputs": [
    {
     "name": "stdout",
     "output_type": "stream",
     "text": [
      "{'n_components': 2, 'n_init': 2}\n"
     ]
    },
    {
     "data": {
      "text/html": [
       "<div>\n",
       "<style scoped>\n",
       "    .dataframe tbody tr th:only-of-type {\n",
       "        vertical-align: middle;\n",
       "    }\n",
       "\n",
       "    .dataframe tbody tr th {\n",
       "        vertical-align: top;\n",
       "    }\n",
       "\n",
       "    .dataframe thead th {\n",
       "        text-align: right;\n",
       "    }\n",
       "</style>\n",
       "<table border=\"1\" class=\"dataframe\">\n",
       "  <thead>\n",
       "    <tr style=\"text-align: right;\">\n",
       "      <th></th>\n",
       "      <th>Cluster</th>\n",
       "    </tr>\n",
       "  </thead>\n",
       "  <tbody>\n",
       "    <tr>\n",
       "      <th>0</th>\n",
       "      <td>203</td>\n",
       "    </tr>\n",
       "    <tr>\n",
       "      <th>1</th>\n",
       "      <td>200</td>\n",
       "    </tr>\n",
       "  </tbody>\n",
       "</table>\n",
       "</div>"
      ],
      "text/plain": [
       "   Cluster\n",
       "0      203\n",
       "1      200"
      ]
     },
     "execution_count": 205,
     "metadata": {},
     "output_type": "execute_result"
    }
   ],
   "source": [
    "gmm_grid = {\n",
    "        \"n_init\": range(1, 6),\n",
    "        \"n_components\": range(2, 10)\n",
    "       }\n",
    "gmm_grid\n",
    "gmm_model5 = GaussianMixture()\n",
    "gmm_params5 = GridSearchCV(gmm_model5,gmm_grid,scoring=silhouette_score3,cv= 10).fit(X, y)\n",
    "print(gmm_params5.best_params_)\n",
    "gmm5 = GaussianMixture(n_init = gmm_params5.best_params_['n_init'],\n",
    "                      n_components = gmm_params5.best_params_['n_components'])\n",
    "\n",
    "gmm5.fit(X)\n",
    "gmm5_labels = gmm5.fit_predict(X)\n",
    "gmm5_dataset = pd.DataFrame(X.copy())\n",
    "gmm5_dataset.loc[:,'Cluster'] = gmm5_labels\n",
    "gmm5_dataset.Cluster.value_counts().to_frame()"
   ]
  },
  {
   "cell_type": "code",
   "execution_count": 206,
   "metadata": {},
   "outputs": [
    {
     "data": {
      "text/html": [
       "<div>\n",
       "<style scoped>\n",
       "    .dataframe tbody tr th:only-of-type {\n",
       "        vertical-align: middle;\n",
       "    }\n",
       "\n",
       "    .dataframe tbody tr th {\n",
       "        vertical-align: top;\n",
       "    }\n",
       "\n",
       "    .dataframe thead th {\n",
       "        text-align: right;\n",
       "    }\n",
       "</style>\n",
       "<table border=\"1\" class=\"dataframe\">\n",
       "  <thead>\n",
       "    <tr style=\"text-align: right;\">\n",
       "      <th></th>\n",
       "      <th>silhouette_score</th>\n",
       "      <th>davies_bouldin_score</th>\n",
       "      <th>calinski_harabasz_score</th>\n",
       "      <th>fowlkes_mallows_score</th>\n",
       "      <th>adjusted_rand_score</th>\n",
       "      <th>adjusted_mutual_info_score</th>\n",
       "      <th>homogeneity_score</th>\n",
       "      <th>completeness_score</th>\n",
       "      <th>v_measure_score</th>\n",
       "    </tr>\n",
       "  </thead>\n",
       "  <tbody>\n",
       "    <tr>\n",
       "      <th>GaussianMixture with n_init</th>\n",
       "      <td>0.459953</td>\n",
       "      <td>0.883581</td>\n",
       "      <td>407.893785</td>\n",
       "      <td>0.659264</td>\n",
       "      <td>0.429165</td>\n",
       "      <td>0.534284</td>\n",
       "      <td>0.407353</td>\n",
       "      <td>0.783442</td>\n",
       "      <td>0.536007</td>\n",
       "    </tr>\n",
       "  </tbody>\n",
       "</table>\n",
       "</div>"
      ],
      "text/plain": [
       "                             silhouette_score  davies_bouldin_score  \\\n",
       "GaussianMixture with n_init          0.459953              0.883581   \n",
       "\n",
       "                             calinski_harabasz_score  fowlkes_mallows_score  \\\n",
       "GaussianMixture with n_init               407.893785               0.659264   \n",
       "\n",
       "                             adjusted_rand_score  adjusted_mutual_info_score  \\\n",
       "GaussianMixture with n_init             0.429165                    0.534284   \n",
       "\n",
       "                             homogeneity_score  completeness_score  \\\n",
       "GaussianMixture with n_init           0.407353            0.783442   \n",
       "\n",
       "                             v_measure_score  \n",
       "GaussianMixture with n_init         0.536007  "
      ]
     },
     "execution_count": 206,
     "metadata": {},
     "output_type": "execute_result"
    }
   ],
   "source": [
    "gmm_df5 = pd.DataFrame(estimator_evaluation2(gmm5, 'GaussianMixture ', X , y), index=[\"GaussianMixture with n_init\"])\n",
    "gmm_df5"
   ]
  },
  {
   "cell_type": "code",
   "execution_count": 207,
   "metadata": {},
   "outputs": [
    {
     "data": {
      "text/html": [
       "<div>\n",
       "<style scoped>\n",
       "    .dataframe tbody tr th:only-of-type {\n",
       "        vertical-align: middle;\n",
       "    }\n",
       "\n",
       "    .dataframe tbody tr th {\n",
       "        vertical-align: top;\n",
       "    }\n",
       "\n",
       "    .dataframe thead th {\n",
       "        text-align: right;\n",
       "    }\n",
       "</style>\n",
       "<table border=\"1\" class=\"dataframe\">\n",
       "  <thead>\n",
       "    <tr style=\"text-align: right;\">\n",
       "      <th></th>\n",
       "      <th>silhouette_score</th>\n",
       "      <th>davies_bouldin_score</th>\n",
       "      <th>calinski_harabasz_score</th>\n",
       "      <th>fowlkes_mallows_score</th>\n",
       "      <th>adjusted_rand_score</th>\n",
       "      <th>adjusted_mutual_info_score</th>\n",
       "      <th>homogeneity_score</th>\n",
       "      <th>completeness_score</th>\n",
       "      <th>v_measure_score</th>\n",
       "    </tr>\n",
       "  </thead>\n",
       "  <tbody>\n",
       "    <tr>\n",
       "      <th>GaussianMixture with n_components only</th>\n",
       "      <td>0.459953</td>\n",
       "      <td>0.883581</td>\n",
       "      <td>407.893785</td>\n",
       "      <td>0.659264</td>\n",
       "      <td>0.429165</td>\n",
       "      <td>0.534284</td>\n",
       "      <td>0.407353</td>\n",
       "      <td>0.783442</td>\n",
       "      <td>0.536007</td>\n",
       "    </tr>\n",
       "    <tr>\n",
       "      <th>GaussianMixture with covariance_type</th>\n",
       "      <td>0.459953</td>\n",
       "      <td>0.883581</td>\n",
       "      <td>407.893785</td>\n",
       "      <td>0.659264</td>\n",
       "      <td>0.429165</td>\n",
       "      <td>0.534284</td>\n",
       "      <td>0.407353</td>\n",
       "      <td>0.783442</td>\n",
       "      <td>0.536007</td>\n",
       "    </tr>\n",
       "    <tr>\n",
       "      <th>GaussianMixture with max_iter</th>\n",
       "      <td>0.459953</td>\n",
       "      <td>0.883581</td>\n",
       "      <td>407.893785</td>\n",
       "      <td>0.659264</td>\n",
       "      <td>0.429165</td>\n",
       "      <td>0.534284</td>\n",
       "      <td>0.407353</td>\n",
       "      <td>0.783442</td>\n",
       "      <td>0.536007</td>\n",
       "    </tr>\n",
       "    <tr>\n",
       "      <th>GaussianMixture with init_params</th>\n",
       "      <td>0.459953</td>\n",
       "      <td>0.883581</td>\n",
       "      <td>407.893785</td>\n",
       "      <td>0.659264</td>\n",
       "      <td>0.429165</td>\n",
       "      <td>0.534284</td>\n",
       "      <td>0.407353</td>\n",
       "      <td>0.783442</td>\n",
       "      <td>0.536007</td>\n",
       "    </tr>\n",
       "    <tr>\n",
       "      <th>GaussianMixture with n_init</th>\n",
       "      <td>0.459953</td>\n",
       "      <td>0.883581</td>\n",
       "      <td>407.893785</td>\n",
       "      <td>0.659264</td>\n",
       "      <td>0.429165</td>\n",
       "      <td>0.534284</td>\n",
       "      <td>0.407353</td>\n",
       "      <td>0.783442</td>\n",
       "      <td>0.536007</td>\n",
       "    </tr>\n",
       "  </tbody>\n",
       "</table>\n",
       "</div>"
      ],
      "text/plain": [
       "                                        silhouette_score  \\\n",
       "GaussianMixture with n_components only          0.459953   \n",
       "GaussianMixture with covariance_type            0.459953   \n",
       "GaussianMixture with max_iter                   0.459953   \n",
       "GaussianMixture with init_params                0.459953   \n",
       "GaussianMixture with n_init                     0.459953   \n",
       "\n",
       "                                        davies_bouldin_score  \\\n",
       "GaussianMixture with n_components only              0.883581   \n",
       "GaussianMixture with covariance_type                0.883581   \n",
       "GaussianMixture with max_iter                       0.883581   \n",
       "GaussianMixture with init_params                    0.883581   \n",
       "GaussianMixture with n_init                         0.883581   \n",
       "\n",
       "                                        calinski_harabasz_score  \\\n",
       "GaussianMixture with n_components only               407.893785   \n",
       "GaussianMixture with covariance_type                 407.893785   \n",
       "GaussianMixture with max_iter                        407.893785   \n",
       "GaussianMixture with init_params                     407.893785   \n",
       "GaussianMixture with n_init                          407.893785   \n",
       "\n",
       "                                        fowlkes_mallows_score  \\\n",
       "GaussianMixture with n_components only               0.659264   \n",
       "GaussianMixture with covariance_type                 0.659264   \n",
       "GaussianMixture with max_iter                        0.659264   \n",
       "GaussianMixture with init_params                     0.659264   \n",
       "GaussianMixture with n_init                          0.659264   \n",
       "\n",
       "                                        adjusted_rand_score  \\\n",
       "GaussianMixture with n_components only             0.429165   \n",
       "GaussianMixture with covariance_type               0.429165   \n",
       "GaussianMixture with max_iter                      0.429165   \n",
       "GaussianMixture with init_params                   0.429165   \n",
       "GaussianMixture with n_init                        0.429165   \n",
       "\n",
       "                                        adjusted_mutual_info_score  \\\n",
       "GaussianMixture with n_components only                    0.534284   \n",
       "GaussianMixture with covariance_type                      0.534284   \n",
       "GaussianMixture with max_iter                             0.534284   \n",
       "GaussianMixture with init_params                          0.534284   \n",
       "GaussianMixture with n_init                               0.534284   \n",
       "\n",
       "                                        homogeneity_score  completeness_score  \\\n",
       "GaussianMixture with n_components only           0.407353            0.783442   \n",
       "GaussianMixture with covariance_type             0.407353            0.783442   \n",
       "GaussianMixture with max_iter                    0.407353            0.783442   \n",
       "GaussianMixture with init_params                 0.407353            0.783442   \n",
       "GaussianMixture with n_init                      0.407353            0.783442   \n",
       "\n",
       "                                        v_measure_score  \n",
       "GaussianMixture with n_components only         0.536007  \n",
       "GaussianMixture with covariance_type           0.536007  \n",
       "GaussianMixture with max_iter                  0.536007  \n",
       "GaussianMixture with init_params               0.536007  \n",
       "GaussianMixture with n_init                    0.536007  "
      ]
     },
     "execution_count": 207,
     "metadata": {},
     "output_type": "execute_result"
    }
   ],
   "source": [
    "gmm_result = gmm_df1.append([gmm_df2, gmm_df3,gmm_df4,gmm_df5])\n",
    "gmm_result"
   ]
  },
  {
   "cell_type": "markdown",
   "metadata": {},
   "source": [
    "### Part 1 Performance Analysis:\n",
    "\n",
    "From the above result set of all those 5 GMM model with it's different paramters, we can conclude that\n",
    "\n",
    "Since all the scores for each model of GMM are same and there is no improvement with the addition and subtraction of parameter, GMM has been converged.\n",
    "\n",
    "## Part 2: Comparative Analysis of Gaussian Mixture Model with Bayesian Gaussian Mixture, Mini-Batch K-means, OPTICS, DBSCAN, Agglomerative, Spectral Clustering and Affinity Propagation\n",
    "\n",
    "### Gaussian Mixture Model\n",
    "\n",
    "A Gaussian mixture model (GMM) assists to find a mixture of multi-dimensional Gaussian probability distributions that best models dataset. In the simplest case, GMMs can be used for finding clusters in the same manner as k-means."
   ]
  },
  {
   "cell_type": "code",
   "execution_count": 208,
   "metadata": {},
   "outputs": [
    {
     "data": {
      "text/plain": [
       "{'covariance_type': ['full', 'tied', 'diag', 'spherical'],\n",
       " 'max_iter': [50, 100, 150, 200, 250, 300],\n",
       " 'init_params': ['kmeans', 'k-means++', 'random', 'random_from_data'],\n",
       " 'n_components': range(2, 15),\n",
       " 'n_init': range(1, 6)}"
      ]
     },
     "execution_count": 208,
     "metadata": {},
     "output_type": "execute_result"
    }
   ],
   "source": [
    "\n",
    "gmm_grid = {\n",
    "        \"covariance_type\": ['full', 'tied', 'diag', 'spherical'],\n",
    "        \"max_iter\": [50, 100, 150, 200, 250, 300],\n",
    "        \"init_params\": ['kmeans', 'k-means++', 'random', 'random_from_data'],\n",
    "        \"n_components\": range(2, 15),\n",
    "        \"n_init\": range(1, 6)\n",
    "       }\n",
    "gmm_grid"
   ]
  },
  {
   "cell_type": "code",
   "execution_count": 209,
   "metadata": {},
   "outputs": [],
   "source": [
    "gmm_model = GaussianMixture()\n",
    "gmm_params = GridSearchCV(gmm_model,gmm_grid,scoring=silhouette_score3,cv= 10).fit(X, y)"
   ]
  },
  {
   "cell_type": "code",
   "execution_count": 210,
   "metadata": {},
   "outputs": [
    {
     "data": {
      "text/plain": [
       "(0.6123466960367843,\n",
       " {'covariance_type': 'diag',\n",
       "  'init_params': 'kmeans',\n",
       "  'max_iter': 100,\n",
       "  'n_components': 2,\n",
       "  'n_init': 1})"
      ]
     },
     "execution_count": 210,
     "metadata": {},
     "output_type": "execute_result"
    }
   ],
   "source": [
    "gmm_params.best_score_, gmm_params.best_params_"
   ]
  },
  {
   "cell_type": "code",
   "execution_count": 211,
   "metadata": {},
   "outputs": [],
   "source": [
    "gmm = GaussianMixture(covariance_type = gmm_params.best_params_['covariance_type'],\n",
    "                      init_params = gmm_params.best_params_['init_params'],\n",
    "                      n_components = gmm_params.best_params_['n_components'],\n",
    "                      n_init = gmm_params.best_params_['n_init'],\n",
    "                      max_iter = gmm_params.best_params_['max_iter'])\n",
    "\n",
    "gmm.fit(X)\n",
    "gmm_labels = gmm.fit_predict(X)"
   ]
  },
  {
   "cell_type": "code",
   "execution_count": 212,
   "metadata": {},
   "outputs": [
    {
     "data": {
      "text/html": [
       "<div>\n",
       "<style scoped>\n",
       "    .dataframe tbody tr th:only-of-type {\n",
       "        vertical-align: middle;\n",
       "    }\n",
       "\n",
       "    .dataframe tbody tr th {\n",
       "        vertical-align: top;\n",
       "    }\n",
       "\n",
       "    .dataframe thead th {\n",
       "        text-align: right;\n",
       "    }\n",
       "</style>\n",
       "<table border=\"1\" class=\"dataframe\">\n",
       "  <thead>\n",
       "    <tr style=\"text-align: right;\">\n",
       "      <th></th>\n",
       "      <th>Cluster</th>\n",
       "    </tr>\n",
       "  </thead>\n",
       "  <tbody>\n",
       "    <tr>\n",
       "      <th>1</th>\n",
       "      <td>203</td>\n",
       "    </tr>\n",
       "    <tr>\n",
       "      <th>0</th>\n",
       "      <td>200</td>\n",
       "    </tr>\n",
       "  </tbody>\n",
       "</table>\n",
       "</div>"
      ],
      "text/plain": [
       "   Cluster\n",
       "1      203\n",
       "0      200"
      ]
     },
     "execution_count": 212,
     "metadata": {},
     "output_type": "execute_result"
    }
   ],
   "source": [
    "gmm_dataset = pd.DataFrame(X.copy())\n",
    "gmm_dataset.loc[:,'Cluster'] = gmm_labels\n",
    "gmm_dataset.Cluster.value_counts().to_frame()"
   ]
  },
  {
   "cell_type": "code",
   "execution_count": 213,
   "metadata": {},
   "outputs": [
    {
     "data": {
      "text/html": [
       "<div>\n",
       "<style scoped>\n",
       "    .dataframe tbody tr th:only-of-type {\n",
       "        vertical-align: middle;\n",
       "    }\n",
       "\n",
       "    .dataframe tbody tr th {\n",
       "        vertical-align: top;\n",
       "    }\n",
       "\n",
       "    .dataframe thead th {\n",
       "        text-align: right;\n",
       "    }\n",
       "</style>\n",
       "<table border=\"1\" class=\"dataframe\">\n",
       "  <thead>\n",
       "    <tr style=\"text-align: right;\">\n",
       "      <th></th>\n",
       "      <th>silhouette_score</th>\n",
       "      <th>davies_bouldin_score</th>\n",
       "      <th>calinski_harabasz_score</th>\n",
       "      <th>fowlkes_mallows_score</th>\n",
       "      <th>adjusted_rand_score</th>\n",
       "      <th>adjusted_mutual_info_score</th>\n",
       "      <th>homogeneity_score</th>\n",
       "      <th>completeness_score</th>\n",
       "      <th>v_measure_score</th>\n",
       "    </tr>\n",
       "  </thead>\n",
       "  <tbody>\n",
       "    <tr>\n",
       "      <th>GaussianMixture</th>\n",
       "      <td>0.459953</td>\n",
       "      <td>0.883581</td>\n",
       "      <td>407.893785</td>\n",
       "      <td>0.659264</td>\n",
       "      <td>0.429165</td>\n",
       "      <td>0.534284</td>\n",
       "      <td>0.407353</td>\n",
       "      <td>0.783442</td>\n",
       "      <td>0.536007</td>\n",
       "    </tr>\n",
       "  </tbody>\n",
       "</table>\n",
       "</div>"
      ],
      "text/plain": [
       "                 silhouette_score  davies_bouldin_score  \\\n",
       "GaussianMixture          0.459953              0.883581   \n",
       "\n",
       "                 calinski_harabasz_score  fowlkes_mallows_score  \\\n",
       "GaussianMixture               407.893785               0.659264   \n",
       "\n",
       "                 adjusted_rand_score  adjusted_mutual_info_score  \\\n",
       "GaussianMixture             0.429165                    0.534284   \n",
       "\n",
       "                 homogeneity_score  completeness_score  v_measure_score  \n",
       "GaussianMixture           0.407353            0.783442         0.536007  "
      ]
     },
     "execution_count": 213,
     "metadata": {},
     "output_type": "execute_result"
    }
   ],
   "source": [
    "gmm_df = pd.DataFrame(estimator_evaluation2(gmm, 'GaussianMixture ', X , y), index=[\"GaussianMixture\"])\n",
    "gmm_df"
   ]
  },
  {
   "cell_type": "code",
   "execution_count": 214,
   "metadata": {},
   "outputs": [
    {
     "data": {
      "application/vnd.plotly.v1+json": {
       "config": {
        "plotlyServerURL": "https://plot.ly"
       },
       "data": [
        {
         "hovertemplate": "color=g<br>x=%{x}<br>y=%{y}<br>z=%{z}<extra></extra>",
         "legendgroup": "g",
         "marker": {
          "color": "#636efa",
          "symbol": "circle"
         },
         "mode": "markers",
         "name": "g",
         "scene": "scene",
         "showlegend": true,
         "type": "scatter3d",
         "x": [
          -21.267044067382812,
          -36.06597137451172,
          -30.4609375,
          -26.903005599975586,
          -10.522098541259766,
          -11.172066688537598,
          -35.50358200073242,
          -33.579097747802734,
          -20.139205932617188,
          -34.801292419433594,
          -21.532691955566406,
          -20.048160552978516,
          -16.078256607055664,
          -31.024127960205078,
          -23.23345184326172,
          -26.53757095336914,
          -16.589069366455078,
          -20.381595611572266,
          -34.185394287109375,
          -24.680877685546875,
          -19.039701461791992,
          -13.879016876220703,
          -23.27183723449707,
          -14.153593063354492,
          -13.993045806884766,
          -30.4713077545166,
          -16.764545440673828,
          -27.04876136779785,
          -10.712099075317383,
          -21.01463508605957,
          -17.79693603515625,
          -12.57739543914795,
          -0.7267776727676392,
          5.935863018035889,
          16.332124710083008,
          10.653630256652832,
          -33.51859664916992,
          5.823702335357666,
          5.161942005157471,
          8.852254867553711,
          5.489107608795166,
          13.520792007446289,
          84.0427474975586,
          1.5232117176055908,
          6.861714839935303,
          -1.1105945110321045,
          8.21495246887207,
          9.992449760437012,
          18.044836044311523,
          -78.88306427001953,
          10.190162658691406,
          5.529528617858887,
          11.674993515014648,
          0.2912577986717224,
          7.53861141204834,
          0.6788923144340515,
          8.612034797668457,
          18.44590950012207,
          8.328204154968262,
          4.20270299911499,
          14.427577018737793,
          8.52342414855957,
          2.0907599925994873,
          15.868163108825684,
          5.799005508422852,
          9.22774600982666,
          14.33255386352539,
          31.768972396850586,
          23.564762115478516,
          26.291427612304688,
          17.254390716552734,
          27.136953353881836,
          9.360555648803711,
          32.198673248291016,
          27.159940719604492,
          32.37428665161133,
          12.890089988708496,
          13.936925888061523,
          21.662534713745117,
          14.997796058654785,
          19.37211799621582,
          16.300519943237305,
          30.79879379272461,
          10.139127731323242,
          13.97585391998291,
          27.999364852905273,
          22.074153900146484,
          27.603469848632812,
          21.30132293701172,
          17.395112991333008,
          25.706993103027344,
          20.618406295776367,
          40.476531982421875,
          23.39597511291504,
          42.715972900390625,
          24.45811653137207,
          23.544315338134766,
          28.866249084472656,
          27.462055206298828,
          24.23588752746582,
          36.8121337890625,
          25.928308486938477,
          27.226430892944336,
          25.876117706298828,
          37.98743438720703,
          44.27800750732422,
          40.40578842163086,
          28.68001365661621,
          24.084733963012695,
          30.1612491607666,
          18.483291625976562,
          34.13698196411133,
          39.1591682434082,
          42.29051971435547,
          36.865142822265625,
          37.22797393798828,
          39.96656799316406,
          30.027252197265625,
          38.88172149658203,
          33.42483901977539,
          43.09455871582031,
          -22.969045639038086,
          -22.53413963317871,
          -24.733917236328125,
          -17.431264877319336,
          -10.650376319885254,
          -8.499683380126953,
          -28.772064208984375,
          -17.90882110595703,
          -20.731657028198242,
          -38.12913131713867,
          2.7441911697387695,
          -24.07947540283203,
          -32.08818054199219,
          -5.673862934112549,
          -21.81537628173828,
          -30.40770149230957,
          -29.06601333618164,
          -23.45379638671875,
          -17.01804542541504,
          -30.721755981445312,
          -31.2700138092041,
          -25.28873062133789,
          -23.773422241210938,
          -9.347555160522461,
          -29.65091896057129,
          -12.104231834411621,
          -18.506410598754883,
          -18.277950286865234,
          -15.310219764709473,
          -24.413591384887695,
          -17.080352783203125,
          -19.528425216674805,
          -27.129587173461914,
          3.749504804611206,
          19.652210235595703,
          4.860600471496582,
          4.800532817840576,
          4.240396022796631,
          7.389786243438721,
          10.786006927490234,
          6.2144598960876465,
          2.0858445167541504,
          8.709144592285156,
          6.604032039642334,
          4.337176322937012,
          6.2634406089782715,
          9.799295425415039,
          10.572393417358398,
          7.155150413513184,
          1.898878812789917,
          3.91137957572937,
          13.471965789794922,
          9.896615028381348,
          12.062995910644531,
          29.08721351623535,
          29.612564086914062,
          29.7270450592041,
          21.73213768005371,
          32.26485824584961,
          32.223934173583984,
          32.368988037109375,
          25.03771209716797,
          17.18193244934082,
          25.369630813598633,
          31.42034339904785,
          40.799686431884766,
          33.052799224853516,
          23.816953659057617,
          37.264034271240234,
          24.764509201049805,
          -34.1065559387207,
          27.049915313720703,
          33.74729919433594,
          36.472755432128906,
          32.0174446105957,
          44.705406188964844,
          27.09748649597168,
          25.400440216064453,
          25.914587020874023,
          25.26010513305664,
          45.45392608642578,
          22.284929275512695
         ],
         "y": [
          35.922725677490234,
          14.13102912902832,
          13.935522079467773,
          25.9504451751709,
          43.85566711425781,
          11.42887020111084,
          18.056838989257812,
          7.506102561950684,
          36.57126235961914,
          9.252019882202148,
          7.943752765655518,
          27.100460052490234,
          8.681744575500488,
          24.486465454101562,
          32.311370849609375,
          22.035154342651367,
          15.552287101745605,
          28.93560028076172,
          19.651897430419922,
          18.97339630126953,
          2.160881519317627,
          42.3321533203125,
          29.411508560180664,
          12.817761421203613,
          40.591495513916016,
          24.410675048828125,
          38.24163818359375,
          21.37002944946289,
          10.919054985046387,
          33.46477508544922,
          42.6595573425293,
          7.073983669281006,
          6.204806804656982,
          31.711185455322266,
          13.306443214416504,
          -4.577503204345703,
          16.597509384155273,
          38.8298454284668,
          35.662445068359375,
          1.3824677467346191,
          23.091190338134766,
          4.3916754722595215,
          66.60557556152344,
          9.737428665161133,
          12.725150108337402,
          42.7652702331543,
          7.599973201751709,
          24.586780548095703,
          -7.534989356994629,
          25.59372901916504,
          14.551630020141602,
          30.360595703125,
          21.911224365234375,
          4.110654830932617,
          11.905198097229004,
          9.819938659667969,
          32.29173278808594,
          -0.3799690008163452,
          -7.851871967315674,
          1.9403424263000488,
          59.75038528442383,
          31.439054489135742,
          12.256580352783203,
          -6.681667327880859,
          5.807104110717773,
          32.159027099609375,
          6.796523094177246,
          -5.971858501434326,
          22.654258728027344,
          7.5764241218566895,
          23.846031188964844,
          2.9488532543182373,
          27.096084594726562,
          -11.50830364227295,
          2.331176996231079,
          -7.422783851623535,
          27.341739654541016,
          22.654117584228516,
          -1.8572121858596802,
          19.930757522583008,
          17.647409439086914,
          16.641969680786133,
          1.8261659145355225,
          23.567323684692383,
          17.278886795043945,
          6.935790538787842,
          16.522836685180664,
          -1.164661169052124,
          12.344599723815918,
          14.271845817565918,
          -0.6366279721260071,
          13.294169425964355,
          12.779515266418457,
          9.386844635009766,
          8.252523422241211,
          22.371288299560547,
          10.071693420410156,
          25.149538040161133,
          23.606521606445312,
          21.57587242126465,
          -17.417682647705078,
          18.655899047851562,
          21.42276954650879,
          9.282002449035645,
          7.235989570617676,
          10.706573486328125,
          10.95085334777832,
          8.201926231384277,
          12.40717887878418,
          11.915243148803711,
          42.641414642333984,
          8.700462341308594,
          13.746968269348145,
          7.1556925773620605,
          10.78486442565918,
          14.91001033782959,
          9.748248100280762,
          10.594999313354492,
          7.296443939208984,
          13.833026885986328,
          11.936604499816895,
          32.13788604736328,
          28.855127334594727,
          6.2822065353393555,
          30.62104606628418,
          39.981258392333984,
          43.24763107299805,
          3.967867612838745,
          40.68608093261719,
          31.368810653686523,
          17.157428741455078,
          27.957015991210938,
          19.151569366455078,
          6.475119590759277,
          42.44248962402344,
          2.4901180267333984,
          9.720891952514648,
          3.7551586627960205,
          22.970993041992188,
          4.806143760681152,
          4.845126628875732,
          10.687250137329102,
          4.327755928039551,
          26.4428653717041,
          36.71547317504883,
          5.603481769561768,
          37.264373779296875,
          31.3853702545166,
          0.16408143937587738,
          44.56779861450195,
          33.03150939941406,
          33.856571197509766,
          35.442752838134766,
          8.019692420959473,
          -8.85015869140625,
          -3.184669017791748,
          -3.8456530570983887,
          5.297758102416992,
          34.92172622680664,
          36.927059173583984,
          -5.297547817230225,
          17.427650451660156,
          13.918794631958008,
          35.007896423339844,
          -3.9760918617248535,
          16.162832260131836,
          35.57892990112305,
          -1.3451337814331055,
          8.251192092895508,
          9.0260009765625,
          -1.2618411779403687,
          40.40031433105469,
          -1.767958641052246,
          18.514169692993164,
          24.223388671875,
          -4.048883438110352,
          0.7570634484291077,
          -0.45229485630989075,
          20.76923179626465,
          -2.3073678016662598,
          -11.760886192321777,
          -2.266845226287842,
          12.259390830993652,
          19.423126220703125,
          9.192879676818848,
          2.7518935203552246,
          10.214640617370605,
          9.217255592346191,
          22.30584716796875,
          9.137520790100098,
          25.335994720458984,
          -14.465846061706543,
          24.448200225830078,
          9.540753364562988,
          11.08519458770752,
          8.542003631591797,
          11.151013374328613,
          11.940046310424805,
          14.31509017944336,
          10.101239204406738,
          13.486228942871094,
          10.8375883102417,
          11.583477973937988
         ],
         "z": [
          5.8168253898620605,
          -21.3820858001709,
          -26.02112579345703,
          -21.729238510131836,
          -3.7784321308135986,
          -30.573514938354492,
          -23.78899383544922,
          -21.12174415588379,
          0.4842860996723175,
          -24.413700103759766,
          -29.579225540161133,
          -17.21922492980957,
          -29.19700050354004,
          -22.764877319335938,
          -3.4071192741394043,
          -20.095991134643555,
          -26.840534210205078,
          -12.876431465148926,
          -20.992544174194336,
          -22.112937927246094,
          -24.928831100463867,
          1.3392982482910156,
          -0.8353308439254761,
          -28.130165100097656,
          -3.5932059288024902,
          -19.014638900756836,
          -1.315071940422058,
          -24.522563934326172,
          -27.052629470825195,
          -7.873538494110107,
          0.6900990009307861,
          -29.092561721801758,
          -31.185924530029297,
          -17.988819122314453,
          -21.65678596496582,
          -33.67805862426758,
          73.8567886352539,
          -9.526837348937988,
          -7.167135715484619,
          -34.627174377441406,
          -20.917863845825195,
          -29.894676208496094,
          -2.0550172328948975,
          -26.99646759033203,
          -23.70884132385254,
          -5.417999267578125,
          -32.647544860839844,
          -17.037246704101562,
          -31.62060546875,
          239.716796875,
          -21.366243362426758,
          -14.253371238708496,
          -17.414480209350586,
          -34.23719787597656,
          -27.826797485351562,
          -30.948036193847656,
          -3.680274248123169,
          -30.74943733215332,
          -35.562347412109375,
          -36.585018157958984,
          -16.906269073486328,
          -10.280692100524902,
          -23.622650146484375,
          -34.36848831176758,
          -30.726350784301758,
          -15.312973022460938,
          -32.0279541015625,
          -18.60561180114746,
          3.239884376525879,
          -16.355648040771484,
          -0.350166916847229,
          -21.037330627441406,
          -0.3802046477794647,
          -16.73946189880371,
          -16.75409507751465,
          -22.44613265991211,
          -2.1022424697875977,
          -4.4007110595703125,
          -29.55804443359375,
          -1.6893768310546875,
          -1.510080337524414,
          -9.639875411987305,
          -19.199848175048828,
          -2.9411470890045166,
          -6.211831569671631,
          -11.248101234436035,
          -4.252840042114258,
          -19.198013305664062,
          -6.047015190124512,
          -6.7096734046936035,
          -22.951927185058594,
          -9.668194770812988,
          6.791210651397705,
          -16.8520450592041,
          19.625478744506836,
          19.32184600830078,
          29.95144271850586,
          11.213606834411621,
          15.163322448730469,
          14.672515869140625,
          20.951534271240234,
          17.125629425048828,
          10.860676765441895,
          34.30753707885742,
          27.322982788085938,
          16.687564849853516,
          24.091432571411133,
          19.75490379333496,
          33.023277282714844,
          14.358061790466309,
          -25.78754997253418,
          25.26527976989746,
          10.936766624450684,
          25.10773468017578,
          8.950390815734863,
          6.995655536651611,
          12.114498138427734,
          22.43658447265625,
          22.58118438720703,
          9.737666130065918,
          11.745050430297852,
          5.454796314239502,
          -6.674811840057373,
          -30.735986709594727,
          -13.654102325439453,
          -8.963502883911133,
          -7.693188190460205,
          -28.425596237182617,
          -4.013869762420654,
          2.271423578262329,
          -20.86273193359375,
          -19.872522354125977,
          -26.11638641357422,
          -27.472850799560547,
          -5.673404693603516,
          -28.270822525024414,
          -23.982465744018555,
          -13.735467910766602,
          -23.01707649230957,
          -28.57994270324707,
          -17.739055633544922,
          -28.10502052307129,
          -26.07408332824707,
          -18.22887420654297,
          -10.5384521484375,
          -24.316556930541992,
          -12.276164054870605,
          -4.994287014007568,
          -27.81255340576172,
          -1.821712613105774,
          1.8572583198547363,
          -7.605228424072266,
          -4.760988235473633,
          -27.72223663330078,
          -36.56403732299805,
          -32.723201751708984,
          -38.18871307373047,
          -34.71680450439453,
          -12.17208194732666,
          -3.020695447921753,
          -37.81449890136719,
          -20.61493492126465,
          -27.192346572875977,
          -12.330978393554688,
          -34.49563217163086,
          -24.00265884399414,
          -15.712998390197754,
          -37.235286712646484,
          -28.864561080932617,
          -25.533395767211914,
          -36.0584831237793,
          -5.590236186981201,
          -35.61910629272461,
          -20.79570770263672,
          0.575212836265564,
          -22.87643051147461,
          -23.704357147216797,
          -12.970426559448242,
          -0.7846923470497131,
          -21.034500122070312,
          -20.091135025024414,
          -15.569310188293457,
          -7.930481433868408,
          -5.5041680335998535,
          -12.392892837524414,
          -12.530016899108887,
          29.63280487060547,
          31.5484561920166,
          8.287672996520996,
          31.895126342773438,
          11.059225082397461,
          -19.41793441772461,
          7.351991176605225,
          13.108871459960938,
          27.871444702148438,
          16.657373428344727,
          26.320215225219727,
          18.87700843811035,
          21.598779678344727,
          22.874103546142578,
          26.468914031982422,
          22.31829071044922,
          25.558242797851562
         ]
        },
        {
         "hovertemplate": "color=b<br>x=%{x}<br>y=%{y}<br>z=%{z}<extra></extra>",
         "legendgroup": "b",
         "marker": {
          "color": "#EF553B",
          "symbol": "circle"
         },
         "mode": "markers",
         "name": "b",
         "scene": "scene",
         "showlegend": true,
         "type": "scatter3d",
         "x": [
          -16.822650909423828,
          -49.39965057373047,
          -42.795692443847656,
          -21.344249725341797,
          -25.461931228637695,
          -17.483646392822266,
          -32.733314514160156,
          -24.241518020629883,
          -31.977890014648438,
          -36.49922561645508,
          -45.48850631713867,
          -19.285551071166992,
          -46.284759521484375,
          -23.104211807250977,
          -20.900346755981445,
          -23.937450408935547,
          -31.07014274597168,
          -29.271230697631836,
          -31.920787811279297,
          -40.64645767211914,
          -38.054603576660156,
          -47.17422866821289,
          -27.272750854492188,
          -13.470775604248047,
          -47.790645599365234,
          -25.72091293334961,
          -14.55036735534668,
          -33.91830062866211,
          -46.7971305847168,
          -21.803001403808594,
          -46.36410140991211,
          -35.17536544799805,
          -17.974720001220703,
          -18.646787643432617,
          -21.651941299438477,
          0.4075632095336914,
          -13.981273651123047,
          0.3447377681732178,
          -18.89834213256836,
          -16.19564437866211,
          3.140899419784546,
          -22.55308723449707,
          -22.65562629699707,
          -0.060101576149463654,
          -0.7936458587646484,
          -17.555368423461914,
          -10.721659660339355,
          -16.148483276367188,
          -22.341880798339844,
          -22.72369956970215,
          -13.028511047363281,
          -8.545669555664062,
          -13.910672187805176,
          0.5921189188957214,
          -14.52842903137207,
          -21.77710723876953,
          -18.264860153198242,
          -22.563655853271484,
          0.20385026931762695,
          -4.701167583465576,
          1.6178152561187744,
          -16.81120491027832,
          -18.903366088867188,
          24.573030471801758,
          15.339200019836426,
          23.716899871826172,
          2.241644859313965,
          9.47315788269043,
          9.107170104980469,
          2.696962833404541,
          15.595996856689453,
          11.48470687866211,
          11.878907203674316,
          20.043367385864258,
          4.6845927238464355,
          6.0786261558532715,
          10.031150817871094,
          12.687679290771484,
          7.3835129737854,
          5.852301120758057,
          8.84896469116211,
          4.991186618804932,
          -12.906111717224121,
          5.038982391357422,
          6.433780193328857,
          1.4961940050125122,
          8.879339218139648,
          16.403331756591797,
          12.368870735168457,
          13.81178092956543,
          7.219574451446533,
          9.502975463867188,
          8.58479118347168,
          12.237604141235352,
          8.833601951599121,
          4.1392502784729,
          18.185205459594727,
          7.0952863693237305,
          -1.2226147651672363,
          23.871938705444336,
          12.335711479187012,
          -6.668420314788818,
          3.1785666942596436,
          -6.940609931945801,
          2.167938709259033,
          -5.020781993865967,
          -11.989901542663574,
          -9.028367042541504,
          4.969753265380859,
          -13.640060424804688,
          -0.5617701411247253,
          9.07393741607666,
          11.781044006347656,
          -8.347626686096191,
          2.4779205322265625,
          -5.4254655838012695,
          -0.3685187101364136,
          -13.536191940307617,
          -14.889735221862793,
          -1.512008786201477,
          -10.572601318359375,
          7.063409328460693,
          8.019389152526855,
          11.630135536193848,
          7.181481838226318,
          46.00409698486328,
          7.644443511962891,
          -16.012794494628906,
          10.322341918945312,
          -12.858540534973145,
          -2.3237509727478027,
          5.5148396492004395,
          5.692639350891113,
          10.46607780456543,
          -7.399155616760254,
          12.236316680908203,
          7.331542015075684,
          -21.064739227294922,
          -18.615015029907227,
          -9.400259971618652,
          -32.07025146484375,
          -27.591981887817383,
          -46.00606155395508,
          -26.467159271240234,
          -11.377697944641113,
          -28.746112823486328,
          -42.43263626098633,
          -12.118288040161133,
          -36.13899612426758,
          -24.882373809814453,
          -40.333988189697266,
          -29.823400497436523,
          -456.2898864746094,
          7.38869047164917,
          -18.51105308532715,
          -20.316526412963867,
          -38.623165130615234,
          -13.736462593078613,
          -41.04960250854492,
          -16.34224510192871,
          -11.020339965820312,
          -7.910359859466553,
          -32.941097259521484,
          -16.397624969482422,
          -18.877254486083984,
          -6.485118389129639,
          -19.89840316772461,
          -18.467571258544922,
          -2.8718912601470947,
          -4.004284381866455,
          2.619084358215332,
          -15.076781272888184,
          0.08586261421442032,
          -1.284684419631958,
          2.394094228744507,
          -17.82406997680664,
          3.1057519912719727,
          -20.834470748901367,
          -6.645021438598633,
          -0.9430211186408997,
          -17.268545150756836,
          3.4498560428619385,
          6.338685512542725,
          5.577123165130615,
          20.71617889404297,
          6.600318431854248,
          13.824715614318848,
          -13.054549217224121,
          2.9771065711975098,
          -4.404337406158447,
          -11.873586654663086,
          4.391490459442139,
          -16.661724090576172,
          -9.645992279052734,
          -93.683837890625,
          -7.636730194091797,
          0.5679864883422852,
          -14.055168151855469,
          -10.169634819030762,
          5.8452277183532715
         ],
         "y": [
          -28.599925994873047,
          -10.496481895446777,
          -0.7150207757949829,
          -30.018110275268555,
          -14.783294677734375,
          -27.7197265625,
          -4.371962547302246,
          -22.510534286499023,
          -0.6587179899215698,
          -10.558356285095215,
          -9.403033256530762,
          -25.21457862854004,
          1.4767169952392578,
          -18.64919662475586,
          53.378841400146484,
          -16.058134078979492,
          -8.236431121826172,
          3.193222999572754,
          -11.5612154006958,
          -2.9173927307128906,
          -9.13534164428711,
          -5.571140766143799,
          -20.627683639526367,
          -20.01321029663086,
          -8.554363250732422,
          3.878140449523926,
          -9.778741836547852,
          -0.16450761258602142,
          -2.169846296310425,
          -14.032255172729492,
          2.629030466079712,
          2.8495986461639404,
          2.2028632164001465,
          -15.422771453857422,
          0.4951074421405792,
          1.8972957134246826,
          3.1074705123901367,
          6.443424224853516,
          -17.389612197875977,
          -8.611226081848145,
          0.44145891070365906,
          -15.357054710388184,
          1.8845208883285522,
          -1.3469034433364868,
          8.65053653717041,
          -0.8942708373069763,
          4.376777648925781,
          1.5898655652999878,
          -17.511959075927734,
          -2.7408711910247803,
          4.913856506347656,
          4.290068626403809,
          -3.8257787227630615,
          -2.369314432144165,
          2.587691068649292,
          4.729564189910889,
          -19.9576358795166,
          -13.174420356750488,
          2.9193058013916016,
          5.921625137329102,
          -1.6807132959365845,
          6.130126476287842,
          -13.157781600952148,
          -13.22385311126709,
          -14.928306579589844,
          -14.00196361541748,
          -4.707040309906006,
          -5.553106784820557,
          -6.172765731811523,
          -6.083141326904297,
          -12.852591514587402,
          -14.624302864074707,
          -16.989368438720703,
          -16.535179138183594,
          -8.096137046813965,
          -8.648439407348633,
          -17.343385696411133,
          -12.295158386230469,
          -12.351204872131348,
          -16.828969955444336,
          -16.676023483276367,
          -16.708698272705078,
          -7.712678909301758,
          -6.246535301208496,
          -20.16769027709961,
          -8.69201946258545,
          -13.669449806213379,
          -16.477487564086914,
          -16.12377166748047,
          -10.344816207885742,
          -13.929681777954102,
          -9.094193458557129,
          -19.734310150146484,
          -20.389284133911133,
          -9.549301147460938,
          -12.588605880737305,
          -13.305061340332031,
          -9.958097457885742,
          -3.641934394836426,
          -16.979398727416992,
          -34.130340576171875,
          -38.8309211730957,
          -22.717079162597656,
          -41.327674865722656,
          -35.7883186340332,
          -27.92157554626465,
          -40.47600555419922,
          -35.46875,
          19.855892181396484,
          -45.999088287353516,
          -34.81201934814453,
          -24.99074935913086,
          -15.741121292114258,
          -37.43214416503906,
          -29.14955711364746,
          -39.841636657714844,
          -32.43231964111328,
          -42.054561614990234,
          -44.781185150146484,
          -36.96426010131836,
          -40.94893264770508,
          -32.7647590637207,
          -36.53717803955078,
          -30.32036018371582,
          -15.248553276062012,
          -33.2227783203125,
          -30.326932907104492,
          -45.257266998291016,
          -31.926437377929688,
          -45.8526725769043,
          -23.79541015625,
          -35.245704650878906,
          -18.015134811401367,
          -26.92793846130371,
          -36.67508316040039,
          -18.587879180908203,
          -35.80337905883789,
          -26.404216766357422,
          -13.605611801147461,
          -15.183632850646973,
          1.553058385848999,
          -12.173080444335938,
          -12.32067584991455,
          -8.881789207458496,
          -11.7959566116333,
          -7.807506084442139,
          3.2678065299987793,
          -16.515052795410156,
          -4.6959357261657715,
          -8.47089958190918,
          -5.3941521644592285,
          -11.922337532043457,
          -302.0281982421875,
          -60.05851364135742,
          -15.538965225219727,
          -11.413725852966309,
          0.5542541742324829,
          -14.24774169921875,
          -10.682809829711914,
          -24.83991813659668,
          -18.71875762939453,
          -20.037574768066406,
          -9.220967292785645,
          -12.353191375732422,
          5.030978679656982,
          5.7682414054870605,
          -4.207118988037109,
          3.0606532096862793,
          3.2834300994873047,
          1.1891841888427734,
          -21.629451751708984,
          7.338028907775879,
          -21.39366912841797,
          1.470876693725586,
          -24.639142990112305,
          -0.4972001910209656,
          1.4655126333236694,
          -7.7200164794921875,
          1.4166902303695679,
          -24.354713439941406,
          5.381312370300293,
          -39.685157775878906,
          -3.161134958267212,
          -6.502359390258789,
          -14.517918586730957,
          -6.617073059082031,
          -14.149086952209473,
          -50.34455490112305,
          -30.80486488342285,
          -35.02500534057617,
          -42.593475341796875,
          -33.080814361572266,
          -48.06392288208008,
          -43.8515739440918,
          -63.7742805480957,
          -32.8321647644043,
          3.7214879989624023,
          -48.9123420715332,
          -46.39421844482422,
          -27.901395797729492
         ],
         "z": [
          33.52610397338867,
          2.444183588027954,
          -4.472977161407471,
          31.861804962158203,
          32.748905181884766,
          37.189815521240234,
          3.851856231689453,
          31.61870002746582,
          1.6737146377563477,
          5.405576229095459,
          1.7811448574066162,
          31.78816795349121,
          -5.672760963439941,
          31.9556884765625,
          125.64574432373047,
          36.20995330810547,
          32.89856719970703,
          -9.661981582641602,
          35.27460479736328,
          1.9910587072372437,
          8.647953987121582,
          0.6054890751838684,
          30.741924285888672,
          42.24124526977539,
          5.616896629333496,
          -9.01623821258545,
          43.90907669067383,
          -1.1675693988800049,
          -2.5310606956481934,
          33.8502197265625,
          -1.7316131591796875,
          -5.049018859863281,
          -4.545928478240967,
          10.74067497253418,
          10.418437004089355,
          20.7386474609375,
          -2.426177740097046,
          23.54466438293457,
          6.714169025421143,
          9.173133850097656,
          28.313512802124023,
          6.034440517425537,
          6.306940078735352,
          30.684783935546875,
          21.458824157714844,
          6.155144214630127,
          36.29490280151367,
          0.8089843392372131,
          9.657200813293457,
          8.167305946350098,
          1.280754566192627,
          32.32023239135742,
          6.946134090423584,
          26.626850128173828,
          4.64308500289917,
          -7.637720108032227,
          10.417008399963379,
          9.823871612548828,
          31.12822914123535,
          32.096405029296875,
          22.033491134643555,
          -6.230306625366211,
          7.1384382247924805,
          11.82937240600586,
          15.885846138000488,
          7.990316390991211,
          -6.217715263366699,
          4.314609050750732,
          -0.7241188883781433,
          -9.98575496673584,
          9.797197341918945,
          19.636438369750977,
          27.046123504638672,
          7.298007965087891,
          -4.063405513763428,
          -7.591188907623291,
          23.556074142456055,
          0.7650196552276611,
          -4.324703216552734,
          28.855613708496094,
          31.980281829833984,
          33.5184326171875,
          8.310609817504883,
          25.667417526245117,
          33.03346633911133,
          -7.272939682006836,
          28.54404640197754,
          10.189713478088379,
          14.70949935913086,
          3.8012237548828125,
          25.040786743164062,
          -3.1974411010742188,
          28.498260498046875,
          30.87400245666504,
          1.238881230354309,
          -9.934831619262695,
          6.954226016998291,
          25.21449089050293,
          -7.881289005279541,
          10.863962173461914,
          -4.7493462562561035,
          -6.5864386558532715,
          -11.774182319641113,
          2.5580832958221436,
          -3.1622493267059326,
          -11.894947052001953,
          -0.763357937335968,
          -6.574005126953125,
          28.48706817626953,
          6.0969953536987305,
          -9.569856643676758,
          -7.908479690551758,
          8.332138061523438,
          -2.4932162761688232,
          -13.76860237121582,
          -1.603881597518921,
          -12.251422882080078,
          5.507862567901611,
          1.2219104766845703,
          -4.022248268127441,
          -4.116950511932373,
          -8.447087287902832,
          4.959840774536133,
          -5.893196105957031,
          -8.043238639831543,
          20.290987014770508,
          -5.420224189758301,
          10.746309280395508,
          -2.3039586544036865,
          13.510771751403809,
          -12.343932151794434,
          -4.137907981872559,
          -9.895276069641113,
          -10.274495124816895,
          -10.347251892089844,
          19.297513961791992,
          0.693530797958374,
          34.73118209838867,
          42.36494445800781,
          44.201019287109375,
          -5.778939247131348,
          36.05021667480469,
          4.63361120223999,
          33.655784606933594,
          42.43116760253906,
          37.17819595336914,
          -4.306389808654785,
          41.04791259765625,
          4.633265018463135,
          37.542198181152344,
          4.993454456329346,
          31.67388916015625,
          -1184.2711181640625,
          122.69407653808594,
          39.08221435546875,
          39.4496955871582,
          -1.7963697910308838,
          44.6135368347168,
          6.116008758544922,
          35.10211181640625,
          45.73445510864258,
          43.604400634765625,
          7.021518230438232,
          39.048946380615234,
          -1.6818139553070068,
          36.01001739501953,
          11.153938293457031,
          7.111074447631836,
          35.0716552734375,
          31.048648834228516,
          39.19319534301758,
          -2.389935255050659,
          42.48314666748047,
          27.38381576538086,
          41.99031066894531,
          10.200085639953613,
          24.043920516967773,
          9.874095916748047,
          34.848243713378906,
          39.60695266723633,
          2.5961873531341553,
          28.51122283935547,
          4.971691131591797,
          2.7791099548339844,
          12.18494701385498,
          6.987124919891357,
          4.265190124511719,
          16.33561134338379,
          -9.175715446472168,
          -6.804567813873291,
          9.073599815368652,
          -11.932153701782227,
          14.655389785766602,
          5.779026508331299,
          12.392186164855957,
          -9.701878547668457,
          -6.171171188354492,
          10.824557304382324,
          9.166852951049805,
          -11.992980003356934
         ]
        }
       ],
       "layout": {
        "legend": {
         "title": {
          "text": "color"
         },
         "tracegroupgap": 0
        },
        "margin": {
         "t": 60
        },
        "scene": {
         "domain": {
          "x": [
           0,
           1
          ],
          "y": [
           0,
           1
          ]
         },
         "xaxis": {
          "title": {
           "text": "x"
          }
         },
         "yaxis": {
          "title": {
           "text": "y"
          }
         },
         "zaxis": {
          "title": {
           "text": "z"
          }
         }
        },
        "template": {
         "data": {
          "bar": [
           {
            "error_x": {
             "color": "#2a3f5f"
            },
            "error_y": {
             "color": "#2a3f5f"
            },
            "marker": {
             "line": {
              "color": "#E5ECF6",
              "width": 0.5
             },
             "pattern": {
              "fillmode": "overlay",
              "size": 10,
              "solidity": 0.2
             }
            },
            "type": "bar"
           }
          ],
          "barpolar": [
           {
            "marker": {
             "line": {
              "color": "#E5ECF6",
              "width": 0.5
             },
             "pattern": {
              "fillmode": "overlay",
              "size": 10,
              "solidity": 0.2
             }
            },
            "type": "barpolar"
           }
          ],
          "carpet": [
           {
            "aaxis": {
             "endlinecolor": "#2a3f5f",
             "gridcolor": "white",
             "linecolor": "white",
             "minorgridcolor": "white",
             "startlinecolor": "#2a3f5f"
            },
            "baxis": {
             "endlinecolor": "#2a3f5f",
             "gridcolor": "white",
             "linecolor": "white",
             "minorgridcolor": "white",
             "startlinecolor": "#2a3f5f"
            },
            "type": "carpet"
           }
          ],
          "choropleth": [
           {
            "colorbar": {
             "outlinewidth": 0,
             "ticks": ""
            },
            "type": "choropleth"
           }
          ],
          "contour": [
           {
            "colorbar": {
             "outlinewidth": 0,
             "ticks": ""
            },
            "colorscale": [
             [
              0,
              "#0d0887"
             ],
             [
              0.1111111111111111,
              "#46039f"
             ],
             [
              0.2222222222222222,
              "#7201a8"
             ],
             [
              0.3333333333333333,
              "#9c179e"
             ],
             [
              0.4444444444444444,
              "#bd3786"
             ],
             [
              0.5555555555555556,
              "#d8576b"
             ],
             [
              0.6666666666666666,
              "#ed7953"
             ],
             [
              0.7777777777777778,
              "#fb9f3a"
             ],
             [
              0.8888888888888888,
              "#fdca26"
             ],
             [
              1,
              "#f0f921"
             ]
            ],
            "type": "contour"
           }
          ],
          "contourcarpet": [
           {
            "colorbar": {
             "outlinewidth": 0,
             "ticks": ""
            },
            "type": "contourcarpet"
           }
          ],
          "heatmap": [
           {
            "colorbar": {
             "outlinewidth": 0,
             "ticks": ""
            },
            "colorscale": [
             [
              0,
              "#0d0887"
             ],
             [
              0.1111111111111111,
              "#46039f"
             ],
             [
              0.2222222222222222,
              "#7201a8"
             ],
             [
              0.3333333333333333,
              "#9c179e"
             ],
             [
              0.4444444444444444,
              "#bd3786"
             ],
             [
              0.5555555555555556,
              "#d8576b"
             ],
             [
              0.6666666666666666,
              "#ed7953"
             ],
             [
              0.7777777777777778,
              "#fb9f3a"
             ],
             [
              0.8888888888888888,
              "#fdca26"
             ],
             [
              1,
              "#f0f921"
             ]
            ],
            "type": "heatmap"
           }
          ],
          "heatmapgl": [
           {
            "colorbar": {
             "outlinewidth": 0,
             "ticks": ""
            },
            "colorscale": [
             [
              0,
              "#0d0887"
             ],
             [
              0.1111111111111111,
              "#46039f"
             ],
             [
              0.2222222222222222,
              "#7201a8"
             ],
             [
              0.3333333333333333,
              "#9c179e"
             ],
             [
              0.4444444444444444,
              "#bd3786"
             ],
             [
              0.5555555555555556,
              "#d8576b"
             ],
             [
              0.6666666666666666,
              "#ed7953"
             ],
             [
              0.7777777777777778,
              "#fb9f3a"
             ],
             [
              0.8888888888888888,
              "#fdca26"
             ],
             [
              1,
              "#f0f921"
             ]
            ],
            "type": "heatmapgl"
           }
          ],
          "histogram": [
           {
            "marker": {
             "pattern": {
              "fillmode": "overlay",
              "size": 10,
              "solidity": 0.2
             }
            },
            "type": "histogram"
           }
          ],
          "histogram2d": [
           {
            "colorbar": {
             "outlinewidth": 0,
             "ticks": ""
            },
            "colorscale": [
             [
              0,
              "#0d0887"
             ],
             [
              0.1111111111111111,
              "#46039f"
             ],
             [
              0.2222222222222222,
              "#7201a8"
             ],
             [
              0.3333333333333333,
              "#9c179e"
             ],
             [
              0.4444444444444444,
              "#bd3786"
             ],
             [
              0.5555555555555556,
              "#d8576b"
             ],
             [
              0.6666666666666666,
              "#ed7953"
             ],
             [
              0.7777777777777778,
              "#fb9f3a"
             ],
             [
              0.8888888888888888,
              "#fdca26"
             ],
             [
              1,
              "#f0f921"
             ]
            ],
            "type": "histogram2d"
           }
          ],
          "histogram2dcontour": [
           {
            "colorbar": {
             "outlinewidth": 0,
             "ticks": ""
            },
            "colorscale": [
             [
              0,
              "#0d0887"
             ],
             [
              0.1111111111111111,
              "#46039f"
             ],
             [
              0.2222222222222222,
              "#7201a8"
             ],
             [
              0.3333333333333333,
              "#9c179e"
             ],
             [
              0.4444444444444444,
              "#bd3786"
             ],
             [
              0.5555555555555556,
              "#d8576b"
             ],
             [
              0.6666666666666666,
              "#ed7953"
             ],
             [
              0.7777777777777778,
              "#fb9f3a"
             ],
             [
              0.8888888888888888,
              "#fdca26"
             ],
             [
              1,
              "#f0f921"
             ]
            ],
            "type": "histogram2dcontour"
           }
          ],
          "mesh3d": [
           {
            "colorbar": {
             "outlinewidth": 0,
             "ticks": ""
            },
            "type": "mesh3d"
           }
          ],
          "parcoords": [
           {
            "line": {
             "colorbar": {
              "outlinewidth": 0,
              "ticks": ""
             }
            },
            "type": "parcoords"
           }
          ],
          "pie": [
           {
            "automargin": true,
            "type": "pie"
           }
          ],
          "scatter": [
           {
            "fillpattern": {
             "fillmode": "overlay",
             "size": 10,
             "solidity": 0.2
            },
            "type": "scatter"
           }
          ],
          "scatter3d": [
           {
            "line": {
             "colorbar": {
              "outlinewidth": 0,
              "ticks": ""
             }
            },
            "marker": {
             "colorbar": {
              "outlinewidth": 0,
              "ticks": ""
             }
            },
            "type": "scatter3d"
           }
          ],
          "scattercarpet": [
           {
            "marker": {
             "colorbar": {
              "outlinewidth": 0,
              "ticks": ""
             }
            },
            "type": "scattercarpet"
           }
          ],
          "scattergeo": [
           {
            "marker": {
             "colorbar": {
              "outlinewidth": 0,
              "ticks": ""
             }
            },
            "type": "scattergeo"
           }
          ],
          "scattergl": [
           {
            "marker": {
             "colorbar": {
              "outlinewidth": 0,
              "ticks": ""
             }
            },
            "type": "scattergl"
           }
          ],
          "scattermapbox": [
           {
            "marker": {
             "colorbar": {
              "outlinewidth": 0,
              "ticks": ""
             }
            },
            "type": "scattermapbox"
           }
          ],
          "scatterpolar": [
           {
            "marker": {
             "colorbar": {
              "outlinewidth": 0,
              "ticks": ""
             }
            },
            "type": "scatterpolar"
           }
          ],
          "scatterpolargl": [
           {
            "marker": {
             "colorbar": {
              "outlinewidth": 0,
              "ticks": ""
             }
            },
            "type": "scatterpolargl"
           }
          ],
          "scatterternary": [
           {
            "marker": {
             "colorbar": {
              "outlinewidth": 0,
              "ticks": ""
             }
            },
            "type": "scatterternary"
           }
          ],
          "surface": [
           {
            "colorbar": {
             "outlinewidth": 0,
             "ticks": ""
            },
            "colorscale": [
             [
              0,
              "#0d0887"
             ],
             [
              0.1111111111111111,
              "#46039f"
             ],
             [
              0.2222222222222222,
              "#7201a8"
             ],
             [
              0.3333333333333333,
              "#9c179e"
             ],
             [
              0.4444444444444444,
              "#bd3786"
             ],
             [
              0.5555555555555556,
              "#d8576b"
             ],
             [
              0.6666666666666666,
              "#ed7953"
             ],
             [
              0.7777777777777778,
              "#fb9f3a"
             ],
             [
              0.8888888888888888,
              "#fdca26"
             ],
             [
              1,
              "#f0f921"
             ]
            ],
            "type": "surface"
           }
          ],
          "table": [
           {
            "cells": {
             "fill": {
              "color": "#EBF0F8"
             },
             "line": {
              "color": "white"
             }
            },
            "header": {
             "fill": {
              "color": "#C8D4E3"
             },
             "line": {
              "color": "white"
             }
            },
            "type": "table"
           }
          ]
         },
         "layout": {
          "annotationdefaults": {
           "arrowcolor": "#2a3f5f",
           "arrowhead": 0,
           "arrowwidth": 1
          },
          "autotypenumbers": "strict",
          "coloraxis": {
           "colorbar": {
            "outlinewidth": 0,
            "ticks": ""
           }
          },
          "colorscale": {
           "diverging": [
            [
             0,
             "#8e0152"
            ],
            [
             0.1,
             "#c51b7d"
            ],
            [
             0.2,
             "#de77ae"
            ],
            [
             0.3,
             "#f1b6da"
            ],
            [
             0.4,
             "#fde0ef"
            ],
            [
             0.5,
             "#f7f7f7"
            ],
            [
             0.6,
             "#e6f5d0"
            ],
            [
             0.7,
             "#b8e186"
            ],
            [
             0.8,
             "#7fbc41"
            ],
            [
             0.9,
             "#4d9221"
            ],
            [
             1,
             "#276419"
            ]
           ],
           "sequential": [
            [
             0,
             "#0d0887"
            ],
            [
             0.1111111111111111,
             "#46039f"
            ],
            [
             0.2222222222222222,
             "#7201a8"
            ],
            [
             0.3333333333333333,
             "#9c179e"
            ],
            [
             0.4444444444444444,
             "#bd3786"
            ],
            [
             0.5555555555555556,
             "#d8576b"
            ],
            [
             0.6666666666666666,
             "#ed7953"
            ],
            [
             0.7777777777777778,
             "#fb9f3a"
            ],
            [
             0.8888888888888888,
             "#fdca26"
            ],
            [
             1,
             "#f0f921"
            ]
           ],
           "sequentialminus": [
            [
             0,
             "#0d0887"
            ],
            [
             0.1111111111111111,
             "#46039f"
            ],
            [
             0.2222222222222222,
             "#7201a8"
            ],
            [
             0.3333333333333333,
             "#9c179e"
            ],
            [
             0.4444444444444444,
             "#bd3786"
            ],
            [
             0.5555555555555556,
             "#d8576b"
            ],
            [
             0.6666666666666666,
             "#ed7953"
            ],
            [
             0.7777777777777778,
             "#fb9f3a"
            ],
            [
             0.8888888888888888,
             "#fdca26"
            ],
            [
             1,
             "#f0f921"
            ]
           ]
          },
          "colorway": [
           "#636efa",
           "#EF553B",
           "#00cc96",
           "#ab63fa",
           "#FFA15A",
           "#19d3f3",
           "#FF6692",
           "#B6E880",
           "#FF97FF",
           "#FECB52"
          ],
          "font": {
           "color": "#2a3f5f"
          },
          "geo": {
           "bgcolor": "white",
           "lakecolor": "white",
           "landcolor": "#E5ECF6",
           "showlakes": true,
           "showland": true,
           "subunitcolor": "white"
          },
          "hoverlabel": {
           "align": "left"
          },
          "hovermode": "closest",
          "mapbox": {
           "style": "light"
          },
          "paper_bgcolor": "white",
          "plot_bgcolor": "#E5ECF6",
          "polar": {
           "angularaxis": {
            "gridcolor": "white",
            "linecolor": "white",
            "ticks": ""
           },
           "bgcolor": "#E5ECF6",
           "radialaxis": {
            "gridcolor": "white",
            "linecolor": "white",
            "ticks": ""
           }
          },
          "scene": {
           "xaxis": {
            "backgroundcolor": "#E5ECF6",
            "gridcolor": "white",
            "gridwidth": 2,
            "linecolor": "white",
            "showbackground": true,
            "ticks": "",
            "zerolinecolor": "white"
           },
           "yaxis": {
            "backgroundcolor": "#E5ECF6",
            "gridcolor": "white",
            "gridwidth": 2,
            "linecolor": "white",
            "showbackground": true,
            "ticks": "",
            "zerolinecolor": "white"
           },
           "zaxis": {
            "backgroundcolor": "#E5ECF6",
            "gridcolor": "white",
            "gridwidth": 2,
            "linecolor": "white",
            "showbackground": true,
            "ticks": "",
            "zerolinecolor": "white"
           }
          },
          "shapedefaults": {
           "line": {
            "color": "#2a3f5f"
           }
          },
          "ternary": {
           "aaxis": {
            "gridcolor": "white",
            "linecolor": "white",
            "ticks": ""
           },
           "baxis": {
            "gridcolor": "white",
            "linecolor": "white",
            "ticks": ""
           },
           "bgcolor": "#E5ECF6",
           "caxis": {
            "gridcolor": "white",
            "linecolor": "white",
            "ticks": ""
           }
          },
          "title": {
           "x": 0.05
          },
          "xaxis": {
           "automargin": true,
           "gridcolor": "white",
           "linecolor": "white",
           "ticks": "",
           "title": {
            "standoff": 15
           },
           "zerolinecolor": "white",
           "zerolinewidth": 2
          },
          "yaxis": {
           "automargin": true,
           "gridcolor": "white",
           "linecolor": "white",
           "ticks": "",
           "title": {
            "standoff": 15
           },
           "zerolinecolor": "white",
           "zerolinewidth": 2
          }
         }
        }
       }
      },
      "text/html": [
       "<div>                            <div id=\"2c71a7c0-daa2-473f-8b2a-b62a22411995\" class=\"plotly-graph-div\" style=\"height:525px; width:100%;\"></div>            <script type=\"text/javascript\">                require([\"plotly\"], function(Plotly) {                    window.PLOTLYENV=window.PLOTLYENV || {};                                    if (document.getElementById(\"2c71a7c0-daa2-473f-8b2a-b62a22411995\")) {                    Plotly.newPlot(                        \"2c71a7c0-daa2-473f-8b2a-b62a22411995\",                        [{\"hovertemplate\":\"color=g<br>x=%{x}<br>y=%{y}<br>z=%{z}<extra></extra>\",\"legendgroup\":\"g\",\"marker\":{\"color\":\"#636efa\",\"symbol\":\"circle\"},\"mode\":\"markers\",\"name\":\"g\",\"scene\":\"scene\",\"showlegend\":true,\"x\":[-21.267044067382812,-36.06597137451172,-30.4609375,-26.903005599975586,-10.522098541259766,-11.172066688537598,-35.50358200073242,-33.579097747802734,-20.139205932617188,-34.801292419433594,-21.532691955566406,-20.048160552978516,-16.078256607055664,-31.024127960205078,-23.23345184326172,-26.53757095336914,-16.589069366455078,-20.381595611572266,-34.185394287109375,-24.680877685546875,-19.039701461791992,-13.879016876220703,-23.27183723449707,-14.153593063354492,-13.993045806884766,-30.4713077545166,-16.764545440673828,-27.04876136779785,-10.712099075317383,-21.01463508605957,-17.79693603515625,-12.57739543914795,-0.7267776727676392,5.935863018035889,16.332124710083008,10.653630256652832,-33.51859664916992,5.823702335357666,5.161942005157471,8.852254867553711,5.489107608795166,13.520792007446289,84.0427474975586,1.5232117176055908,6.861714839935303,-1.1105945110321045,8.21495246887207,9.992449760437012,18.044836044311523,-78.88306427001953,10.190162658691406,5.529528617858887,11.674993515014648,0.2912577986717224,7.53861141204834,0.6788923144340515,8.612034797668457,18.44590950012207,8.328204154968262,4.20270299911499,14.427577018737793,8.52342414855957,2.0907599925994873,15.868163108825684,5.799005508422852,9.22774600982666,14.33255386352539,31.768972396850586,23.564762115478516,26.291427612304688,17.254390716552734,27.136953353881836,9.360555648803711,32.198673248291016,27.159940719604492,32.37428665161133,12.890089988708496,13.936925888061523,21.662534713745117,14.997796058654785,19.37211799621582,16.300519943237305,30.79879379272461,10.139127731323242,13.97585391998291,27.999364852905273,22.074153900146484,27.603469848632812,21.30132293701172,17.395112991333008,25.706993103027344,20.618406295776367,40.476531982421875,23.39597511291504,42.715972900390625,24.45811653137207,23.544315338134766,28.866249084472656,27.462055206298828,24.23588752746582,36.8121337890625,25.928308486938477,27.226430892944336,25.876117706298828,37.98743438720703,44.27800750732422,40.40578842163086,28.68001365661621,24.084733963012695,30.1612491607666,18.483291625976562,34.13698196411133,39.1591682434082,42.29051971435547,36.865142822265625,37.22797393798828,39.96656799316406,30.027252197265625,38.88172149658203,33.42483901977539,43.09455871582031,-22.969045639038086,-22.53413963317871,-24.733917236328125,-17.431264877319336,-10.650376319885254,-8.499683380126953,-28.772064208984375,-17.90882110595703,-20.731657028198242,-38.12913131713867,2.7441911697387695,-24.07947540283203,-32.08818054199219,-5.673862934112549,-21.81537628173828,-30.40770149230957,-29.06601333618164,-23.45379638671875,-17.01804542541504,-30.721755981445312,-31.2700138092041,-25.28873062133789,-23.773422241210938,-9.347555160522461,-29.65091896057129,-12.104231834411621,-18.506410598754883,-18.277950286865234,-15.310219764709473,-24.413591384887695,-17.080352783203125,-19.528425216674805,-27.129587173461914,3.749504804611206,19.652210235595703,4.860600471496582,4.800532817840576,4.240396022796631,7.389786243438721,10.786006927490234,6.2144598960876465,2.0858445167541504,8.709144592285156,6.604032039642334,4.337176322937012,6.2634406089782715,9.799295425415039,10.572393417358398,7.155150413513184,1.898878812789917,3.91137957572937,13.471965789794922,9.896615028381348,12.062995910644531,29.08721351623535,29.612564086914062,29.7270450592041,21.73213768005371,32.26485824584961,32.223934173583984,32.368988037109375,25.03771209716797,17.18193244934082,25.369630813598633,31.42034339904785,40.799686431884766,33.052799224853516,23.816953659057617,37.264034271240234,24.764509201049805,-34.1065559387207,27.049915313720703,33.74729919433594,36.472755432128906,32.0174446105957,44.705406188964844,27.09748649597168,25.400440216064453,25.914587020874023,25.26010513305664,45.45392608642578,22.284929275512695],\"y\":[35.922725677490234,14.13102912902832,13.935522079467773,25.9504451751709,43.85566711425781,11.42887020111084,18.056838989257812,7.506102561950684,36.57126235961914,9.252019882202148,7.943752765655518,27.100460052490234,8.681744575500488,24.486465454101562,32.311370849609375,22.035154342651367,15.552287101745605,28.93560028076172,19.651897430419922,18.97339630126953,2.160881519317627,42.3321533203125,29.411508560180664,12.817761421203613,40.591495513916016,24.410675048828125,38.24163818359375,21.37002944946289,10.919054985046387,33.46477508544922,42.6595573425293,7.073983669281006,6.204806804656982,31.711185455322266,13.306443214416504,-4.577503204345703,16.597509384155273,38.8298454284668,35.662445068359375,1.3824677467346191,23.091190338134766,4.3916754722595215,66.60557556152344,9.737428665161133,12.725150108337402,42.7652702331543,7.599973201751709,24.586780548095703,-7.534989356994629,25.59372901916504,14.551630020141602,30.360595703125,21.911224365234375,4.110654830932617,11.905198097229004,9.819938659667969,32.29173278808594,-0.3799690008163452,-7.851871967315674,1.9403424263000488,59.75038528442383,31.439054489135742,12.256580352783203,-6.681667327880859,5.807104110717773,32.159027099609375,6.796523094177246,-5.971858501434326,22.654258728027344,7.5764241218566895,23.846031188964844,2.9488532543182373,27.096084594726562,-11.50830364227295,2.331176996231079,-7.422783851623535,27.341739654541016,22.654117584228516,-1.8572121858596802,19.930757522583008,17.647409439086914,16.641969680786133,1.8261659145355225,23.567323684692383,17.278886795043945,6.935790538787842,16.522836685180664,-1.164661169052124,12.344599723815918,14.271845817565918,-0.6366279721260071,13.294169425964355,12.779515266418457,9.386844635009766,8.252523422241211,22.371288299560547,10.071693420410156,25.149538040161133,23.606521606445312,21.57587242126465,-17.417682647705078,18.655899047851562,21.42276954650879,9.282002449035645,7.235989570617676,10.706573486328125,10.95085334777832,8.201926231384277,12.40717887878418,11.915243148803711,42.641414642333984,8.700462341308594,13.746968269348145,7.1556925773620605,10.78486442565918,14.91001033782959,9.748248100280762,10.594999313354492,7.296443939208984,13.833026885986328,11.936604499816895,32.13788604736328,28.855127334594727,6.2822065353393555,30.62104606628418,39.981258392333984,43.24763107299805,3.967867612838745,40.68608093261719,31.368810653686523,17.157428741455078,27.957015991210938,19.151569366455078,6.475119590759277,42.44248962402344,2.4901180267333984,9.720891952514648,3.7551586627960205,22.970993041992188,4.806143760681152,4.845126628875732,10.687250137329102,4.327755928039551,26.4428653717041,36.71547317504883,5.603481769561768,37.264373779296875,31.3853702545166,0.16408143937587738,44.56779861450195,33.03150939941406,33.856571197509766,35.442752838134766,8.019692420959473,-8.85015869140625,-3.184669017791748,-3.8456530570983887,5.297758102416992,34.92172622680664,36.927059173583984,-5.297547817230225,17.427650451660156,13.918794631958008,35.007896423339844,-3.9760918617248535,16.162832260131836,35.57892990112305,-1.3451337814331055,8.251192092895508,9.0260009765625,-1.2618411779403687,40.40031433105469,-1.767958641052246,18.514169692993164,24.223388671875,-4.048883438110352,0.7570634484291077,-0.45229485630989075,20.76923179626465,-2.3073678016662598,-11.760886192321777,-2.266845226287842,12.259390830993652,19.423126220703125,9.192879676818848,2.7518935203552246,10.214640617370605,9.217255592346191,22.30584716796875,9.137520790100098,25.335994720458984,-14.465846061706543,24.448200225830078,9.540753364562988,11.08519458770752,8.542003631591797,11.151013374328613,11.940046310424805,14.31509017944336,10.101239204406738,13.486228942871094,10.8375883102417,11.583477973937988],\"z\":[5.8168253898620605,-21.3820858001709,-26.02112579345703,-21.729238510131836,-3.7784321308135986,-30.573514938354492,-23.78899383544922,-21.12174415588379,0.4842860996723175,-24.413700103759766,-29.579225540161133,-17.21922492980957,-29.19700050354004,-22.764877319335938,-3.4071192741394043,-20.095991134643555,-26.840534210205078,-12.876431465148926,-20.992544174194336,-22.112937927246094,-24.928831100463867,1.3392982482910156,-0.8353308439254761,-28.130165100097656,-3.5932059288024902,-19.014638900756836,-1.315071940422058,-24.522563934326172,-27.052629470825195,-7.873538494110107,0.6900990009307861,-29.092561721801758,-31.185924530029297,-17.988819122314453,-21.65678596496582,-33.67805862426758,73.8567886352539,-9.526837348937988,-7.167135715484619,-34.627174377441406,-20.917863845825195,-29.894676208496094,-2.0550172328948975,-26.99646759033203,-23.70884132385254,-5.417999267578125,-32.647544860839844,-17.037246704101562,-31.62060546875,239.716796875,-21.366243362426758,-14.253371238708496,-17.414480209350586,-34.23719787597656,-27.826797485351562,-30.948036193847656,-3.680274248123169,-30.74943733215332,-35.562347412109375,-36.585018157958984,-16.906269073486328,-10.280692100524902,-23.622650146484375,-34.36848831176758,-30.726350784301758,-15.312973022460938,-32.0279541015625,-18.60561180114746,3.239884376525879,-16.355648040771484,-0.350166916847229,-21.037330627441406,-0.3802046477794647,-16.73946189880371,-16.75409507751465,-22.44613265991211,-2.1022424697875977,-4.4007110595703125,-29.55804443359375,-1.6893768310546875,-1.510080337524414,-9.639875411987305,-19.199848175048828,-2.9411470890045166,-6.211831569671631,-11.248101234436035,-4.252840042114258,-19.198013305664062,-6.047015190124512,-6.7096734046936035,-22.951927185058594,-9.668194770812988,6.791210651397705,-16.8520450592041,19.625478744506836,19.32184600830078,29.95144271850586,11.213606834411621,15.163322448730469,14.672515869140625,20.951534271240234,17.125629425048828,10.860676765441895,34.30753707885742,27.322982788085938,16.687564849853516,24.091432571411133,19.75490379333496,33.023277282714844,14.358061790466309,-25.78754997253418,25.26527976989746,10.936766624450684,25.10773468017578,8.950390815734863,6.995655536651611,12.114498138427734,22.43658447265625,22.58118438720703,9.737666130065918,11.745050430297852,5.454796314239502,-6.674811840057373,-30.735986709594727,-13.654102325439453,-8.963502883911133,-7.693188190460205,-28.425596237182617,-4.013869762420654,2.271423578262329,-20.86273193359375,-19.872522354125977,-26.11638641357422,-27.472850799560547,-5.673404693603516,-28.270822525024414,-23.982465744018555,-13.735467910766602,-23.01707649230957,-28.57994270324707,-17.739055633544922,-28.10502052307129,-26.07408332824707,-18.22887420654297,-10.5384521484375,-24.316556930541992,-12.276164054870605,-4.994287014007568,-27.81255340576172,-1.821712613105774,1.8572583198547363,-7.605228424072266,-4.760988235473633,-27.72223663330078,-36.56403732299805,-32.723201751708984,-38.18871307373047,-34.71680450439453,-12.17208194732666,-3.020695447921753,-37.81449890136719,-20.61493492126465,-27.192346572875977,-12.330978393554688,-34.49563217163086,-24.00265884399414,-15.712998390197754,-37.235286712646484,-28.864561080932617,-25.533395767211914,-36.0584831237793,-5.590236186981201,-35.61910629272461,-20.79570770263672,0.575212836265564,-22.87643051147461,-23.704357147216797,-12.970426559448242,-0.7846923470497131,-21.034500122070312,-20.091135025024414,-15.569310188293457,-7.930481433868408,-5.5041680335998535,-12.392892837524414,-12.530016899108887,29.63280487060547,31.5484561920166,8.287672996520996,31.895126342773438,11.059225082397461,-19.41793441772461,7.351991176605225,13.108871459960938,27.871444702148438,16.657373428344727,26.320215225219727,18.87700843811035,21.598779678344727,22.874103546142578,26.468914031982422,22.31829071044922,25.558242797851562],\"type\":\"scatter3d\"},{\"hovertemplate\":\"color=b<br>x=%{x}<br>y=%{y}<br>z=%{z}<extra></extra>\",\"legendgroup\":\"b\",\"marker\":{\"color\":\"#EF553B\",\"symbol\":\"circle\"},\"mode\":\"markers\",\"name\":\"b\",\"scene\":\"scene\",\"showlegend\":true,\"x\":[-16.822650909423828,-49.39965057373047,-42.795692443847656,-21.344249725341797,-25.461931228637695,-17.483646392822266,-32.733314514160156,-24.241518020629883,-31.977890014648438,-36.49922561645508,-45.48850631713867,-19.285551071166992,-46.284759521484375,-23.104211807250977,-20.900346755981445,-23.937450408935547,-31.07014274597168,-29.271230697631836,-31.920787811279297,-40.64645767211914,-38.054603576660156,-47.17422866821289,-27.272750854492188,-13.470775604248047,-47.790645599365234,-25.72091293334961,-14.55036735534668,-33.91830062866211,-46.7971305847168,-21.803001403808594,-46.36410140991211,-35.17536544799805,-17.974720001220703,-18.646787643432617,-21.651941299438477,0.4075632095336914,-13.981273651123047,0.3447377681732178,-18.89834213256836,-16.19564437866211,3.140899419784546,-22.55308723449707,-22.65562629699707,-0.060101576149463654,-0.7936458587646484,-17.555368423461914,-10.721659660339355,-16.148483276367188,-22.341880798339844,-22.72369956970215,-13.028511047363281,-8.545669555664062,-13.910672187805176,0.5921189188957214,-14.52842903137207,-21.77710723876953,-18.264860153198242,-22.563655853271484,0.20385026931762695,-4.701167583465576,1.6178152561187744,-16.81120491027832,-18.903366088867188,24.573030471801758,15.339200019836426,23.716899871826172,2.241644859313965,9.47315788269043,9.107170104980469,2.696962833404541,15.595996856689453,11.48470687866211,11.878907203674316,20.043367385864258,4.6845927238464355,6.0786261558532715,10.031150817871094,12.687679290771484,7.3835129737854,5.852301120758057,8.84896469116211,4.991186618804932,-12.906111717224121,5.038982391357422,6.433780193328857,1.4961940050125122,8.879339218139648,16.403331756591797,12.368870735168457,13.81178092956543,7.219574451446533,9.502975463867188,8.58479118347168,12.237604141235352,8.833601951599121,4.1392502784729,18.185205459594727,7.0952863693237305,-1.2226147651672363,23.871938705444336,12.335711479187012,-6.668420314788818,3.1785666942596436,-6.940609931945801,2.167938709259033,-5.020781993865967,-11.989901542663574,-9.028367042541504,4.969753265380859,-13.640060424804688,-0.5617701411247253,9.07393741607666,11.781044006347656,-8.347626686096191,2.4779205322265625,-5.4254655838012695,-0.3685187101364136,-13.536191940307617,-14.889735221862793,-1.512008786201477,-10.572601318359375,7.063409328460693,8.019389152526855,11.630135536193848,7.181481838226318,46.00409698486328,7.644443511962891,-16.012794494628906,10.322341918945312,-12.858540534973145,-2.3237509727478027,5.5148396492004395,5.692639350891113,10.46607780456543,-7.399155616760254,12.236316680908203,7.331542015075684,-21.064739227294922,-18.615015029907227,-9.400259971618652,-32.07025146484375,-27.591981887817383,-46.00606155395508,-26.467159271240234,-11.377697944641113,-28.746112823486328,-42.43263626098633,-12.118288040161133,-36.13899612426758,-24.882373809814453,-40.333988189697266,-29.823400497436523,-456.2898864746094,7.38869047164917,-18.51105308532715,-20.316526412963867,-38.623165130615234,-13.736462593078613,-41.04960250854492,-16.34224510192871,-11.020339965820312,-7.910359859466553,-32.941097259521484,-16.397624969482422,-18.877254486083984,-6.485118389129639,-19.89840316772461,-18.467571258544922,-2.8718912601470947,-4.004284381866455,2.619084358215332,-15.076781272888184,0.08586261421442032,-1.284684419631958,2.394094228744507,-17.82406997680664,3.1057519912719727,-20.834470748901367,-6.645021438598633,-0.9430211186408997,-17.268545150756836,3.4498560428619385,6.338685512542725,5.577123165130615,20.71617889404297,6.600318431854248,13.824715614318848,-13.054549217224121,2.9771065711975098,-4.404337406158447,-11.873586654663086,4.391490459442139,-16.661724090576172,-9.645992279052734,-93.683837890625,-7.636730194091797,0.5679864883422852,-14.055168151855469,-10.169634819030762,5.8452277183532715],\"y\":[-28.599925994873047,-10.496481895446777,-0.7150207757949829,-30.018110275268555,-14.783294677734375,-27.7197265625,-4.371962547302246,-22.510534286499023,-0.6587179899215698,-10.558356285095215,-9.403033256530762,-25.21457862854004,1.4767169952392578,-18.64919662475586,53.378841400146484,-16.058134078979492,-8.236431121826172,3.193222999572754,-11.5612154006958,-2.9173927307128906,-9.13534164428711,-5.571140766143799,-20.627683639526367,-20.01321029663086,-8.554363250732422,3.878140449523926,-9.778741836547852,-0.16450761258602142,-2.169846296310425,-14.032255172729492,2.629030466079712,2.8495986461639404,2.2028632164001465,-15.422771453857422,0.4951074421405792,1.8972957134246826,3.1074705123901367,6.443424224853516,-17.389612197875977,-8.611226081848145,0.44145891070365906,-15.357054710388184,1.8845208883285522,-1.3469034433364868,8.65053653717041,-0.8942708373069763,4.376777648925781,1.5898655652999878,-17.511959075927734,-2.7408711910247803,4.913856506347656,4.290068626403809,-3.8257787227630615,-2.369314432144165,2.587691068649292,4.729564189910889,-19.9576358795166,-13.174420356750488,2.9193058013916016,5.921625137329102,-1.6807132959365845,6.130126476287842,-13.157781600952148,-13.22385311126709,-14.928306579589844,-14.00196361541748,-4.707040309906006,-5.553106784820557,-6.172765731811523,-6.083141326904297,-12.852591514587402,-14.624302864074707,-16.989368438720703,-16.535179138183594,-8.096137046813965,-8.648439407348633,-17.343385696411133,-12.295158386230469,-12.351204872131348,-16.828969955444336,-16.676023483276367,-16.708698272705078,-7.712678909301758,-6.246535301208496,-20.16769027709961,-8.69201946258545,-13.669449806213379,-16.477487564086914,-16.12377166748047,-10.344816207885742,-13.929681777954102,-9.094193458557129,-19.734310150146484,-20.389284133911133,-9.549301147460938,-12.588605880737305,-13.305061340332031,-9.958097457885742,-3.641934394836426,-16.979398727416992,-34.130340576171875,-38.8309211730957,-22.717079162597656,-41.327674865722656,-35.7883186340332,-27.92157554626465,-40.47600555419922,-35.46875,19.855892181396484,-45.999088287353516,-34.81201934814453,-24.99074935913086,-15.741121292114258,-37.43214416503906,-29.14955711364746,-39.841636657714844,-32.43231964111328,-42.054561614990234,-44.781185150146484,-36.96426010131836,-40.94893264770508,-32.7647590637207,-36.53717803955078,-30.32036018371582,-15.248553276062012,-33.2227783203125,-30.326932907104492,-45.257266998291016,-31.926437377929688,-45.8526725769043,-23.79541015625,-35.245704650878906,-18.015134811401367,-26.92793846130371,-36.67508316040039,-18.587879180908203,-35.80337905883789,-26.404216766357422,-13.605611801147461,-15.183632850646973,1.553058385848999,-12.173080444335938,-12.32067584991455,-8.881789207458496,-11.7959566116333,-7.807506084442139,3.2678065299987793,-16.515052795410156,-4.6959357261657715,-8.47089958190918,-5.3941521644592285,-11.922337532043457,-302.0281982421875,-60.05851364135742,-15.538965225219727,-11.413725852966309,0.5542541742324829,-14.24774169921875,-10.682809829711914,-24.83991813659668,-18.71875762939453,-20.037574768066406,-9.220967292785645,-12.353191375732422,5.030978679656982,5.7682414054870605,-4.207118988037109,3.0606532096862793,3.2834300994873047,1.1891841888427734,-21.629451751708984,7.338028907775879,-21.39366912841797,1.470876693725586,-24.639142990112305,-0.4972001910209656,1.4655126333236694,-7.7200164794921875,1.4166902303695679,-24.354713439941406,5.381312370300293,-39.685157775878906,-3.161134958267212,-6.502359390258789,-14.517918586730957,-6.617073059082031,-14.149086952209473,-50.34455490112305,-30.80486488342285,-35.02500534057617,-42.593475341796875,-33.080814361572266,-48.06392288208008,-43.8515739440918,-63.7742805480957,-32.8321647644043,3.7214879989624023,-48.9123420715332,-46.39421844482422,-27.901395797729492],\"z\":[33.52610397338867,2.444183588027954,-4.472977161407471,31.861804962158203,32.748905181884766,37.189815521240234,3.851856231689453,31.61870002746582,1.6737146377563477,5.405576229095459,1.7811448574066162,31.78816795349121,-5.672760963439941,31.9556884765625,125.64574432373047,36.20995330810547,32.89856719970703,-9.661981582641602,35.27460479736328,1.9910587072372437,8.647953987121582,0.6054890751838684,30.741924285888672,42.24124526977539,5.616896629333496,-9.01623821258545,43.90907669067383,-1.1675693988800049,-2.5310606956481934,33.8502197265625,-1.7316131591796875,-5.049018859863281,-4.545928478240967,10.74067497253418,10.418437004089355,20.7386474609375,-2.426177740097046,23.54466438293457,6.714169025421143,9.173133850097656,28.313512802124023,6.034440517425537,6.306940078735352,30.684783935546875,21.458824157714844,6.155144214630127,36.29490280151367,0.8089843392372131,9.657200813293457,8.167305946350098,1.280754566192627,32.32023239135742,6.946134090423584,26.626850128173828,4.64308500289917,-7.637720108032227,10.417008399963379,9.823871612548828,31.12822914123535,32.096405029296875,22.033491134643555,-6.230306625366211,7.1384382247924805,11.82937240600586,15.885846138000488,7.990316390991211,-6.217715263366699,4.314609050750732,-0.7241188883781433,-9.98575496673584,9.797197341918945,19.636438369750977,27.046123504638672,7.298007965087891,-4.063405513763428,-7.591188907623291,23.556074142456055,0.7650196552276611,-4.324703216552734,28.855613708496094,31.980281829833984,33.5184326171875,8.310609817504883,25.667417526245117,33.03346633911133,-7.272939682006836,28.54404640197754,10.189713478088379,14.70949935913086,3.8012237548828125,25.040786743164062,-3.1974411010742188,28.498260498046875,30.87400245666504,1.238881230354309,-9.934831619262695,6.954226016998291,25.21449089050293,-7.881289005279541,10.863962173461914,-4.7493462562561035,-6.5864386558532715,-11.774182319641113,2.5580832958221436,-3.1622493267059326,-11.894947052001953,-0.763357937335968,-6.574005126953125,28.48706817626953,6.0969953536987305,-9.569856643676758,-7.908479690551758,8.332138061523438,-2.4932162761688232,-13.76860237121582,-1.603881597518921,-12.251422882080078,5.507862567901611,1.2219104766845703,-4.022248268127441,-4.116950511932373,-8.447087287902832,4.959840774536133,-5.893196105957031,-8.043238639831543,20.290987014770508,-5.420224189758301,10.746309280395508,-2.3039586544036865,13.510771751403809,-12.343932151794434,-4.137907981872559,-9.895276069641113,-10.274495124816895,-10.347251892089844,19.297513961791992,0.693530797958374,34.73118209838867,42.36494445800781,44.201019287109375,-5.778939247131348,36.05021667480469,4.63361120223999,33.655784606933594,42.43116760253906,37.17819595336914,-4.306389808654785,41.04791259765625,4.633265018463135,37.542198181152344,4.993454456329346,31.67388916015625,-1184.2711181640625,122.69407653808594,39.08221435546875,39.4496955871582,-1.7963697910308838,44.6135368347168,6.116008758544922,35.10211181640625,45.73445510864258,43.604400634765625,7.021518230438232,39.048946380615234,-1.6818139553070068,36.01001739501953,11.153938293457031,7.111074447631836,35.0716552734375,31.048648834228516,39.19319534301758,-2.389935255050659,42.48314666748047,27.38381576538086,41.99031066894531,10.200085639953613,24.043920516967773,9.874095916748047,34.848243713378906,39.60695266723633,2.5961873531341553,28.51122283935547,4.971691131591797,2.7791099548339844,12.18494701385498,6.987124919891357,4.265190124511719,16.33561134338379,-9.175715446472168,-6.804567813873291,9.073599815368652,-11.932153701782227,14.655389785766602,5.779026508331299,12.392186164855957,-9.701878547668457,-6.171171188354492,10.824557304382324,9.166852951049805,-11.992980003356934],\"type\":\"scatter3d\"}],                        {\"template\":{\"data\":{\"histogram2dcontour\":[{\"type\":\"histogram2dcontour\",\"colorbar\":{\"outlinewidth\":0,\"ticks\":\"\"},\"colorscale\":[[0.0,\"#0d0887\"],[0.1111111111111111,\"#46039f\"],[0.2222222222222222,\"#7201a8\"],[0.3333333333333333,\"#9c179e\"],[0.4444444444444444,\"#bd3786\"],[0.5555555555555556,\"#d8576b\"],[0.6666666666666666,\"#ed7953\"],[0.7777777777777778,\"#fb9f3a\"],[0.8888888888888888,\"#fdca26\"],[1.0,\"#f0f921\"]]}],\"choropleth\":[{\"type\":\"choropleth\",\"colorbar\":{\"outlinewidth\":0,\"ticks\":\"\"}}],\"histogram2d\":[{\"type\":\"histogram2d\",\"colorbar\":{\"outlinewidth\":0,\"ticks\":\"\"},\"colorscale\":[[0.0,\"#0d0887\"],[0.1111111111111111,\"#46039f\"],[0.2222222222222222,\"#7201a8\"],[0.3333333333333333,\"#9c179e\"],[0.4444444444444444,\"#bd3786\"],[0.5555555555555556,\"#d8576b\"],[0.6666666666666666,\"#ed7953\"],[0.7777777777777778,\"#fb9f3a\"],[0.8888888888888888,\"#fdca26\"],[1.0,\"#f0f921\"]]}],\"heatmap\":[{\"type\":\"heatmap\",\"colorbar\":{\"outlinewidth\":0,\"ticks\":\"\"},\"colorscale\":[[0.0,\"#0d0887\"],[0.1111111111111111,\"#46039f\"],[0.2222222222222222,\"#7201a8\"],[0.3333333333333333,\"#9c179e\"],[0.4444444444444444,\"#bd3786\"],[0.5555555555555556,\"#d8576b\"],[0.6666666666666666,\"#ed7953\"],[0.7777777777777778,\"#fb9f3a\"],[0.8888888888888888,\"#fdca26\"],[1.0,\"#f0f921\"]]}],\"heatmapgl\":[{\"type\":\"heatmapgl\",\"colorbar\":{\"outlinewidth\":0,\"ticks\":\"\"},\"colorscale\":[[0.0,\"#0d0887\"],[0.1111111111111111,\"#46039f\"],[0.2222222222222222,\"#7201a8\"],[0.3333333333333333,\"#9c179e\"],[0.4444444444444444,\"#bd3786\"],[0.5555555555555556,\"#d8576b\"],[0.6666666666666666,\"#ed7953\"],[0.7777777777777778,\"#fb9f3a\"],[0.8888888888888888,\"#fdca26\"],[1.0,\"#f0f921\"]]}],\"contourcarpet\":[{\"type\":\"contourcarpet\",\"colorbar\":{\"outlinewidth\":0,\"ticks\":\"\"}}],\"contour\":[{\"type\":\"contour\",\"colorbar\":{\"outlinewidth\":0,\"ticks\":\"\"},\"colorscale\":[[0.0,\"#0d0887\"],[0.1111111111111111,\"#46039f\"],[0.2222222222222222,\"#7201a8\"],[0.3333333333333333,\"#9c179e\"],[0.4444444444444444,\"#bd3786\"],[0.5555555555555556,\"#d8576b\"],[0.6666666666666666,\"#ed7953\"],[0.7777777777777778,\"#fb9f3a\"],[0.8888888888888888,\"#fdca26\"],[1.0,\"#f0f921\"]]}],\"surface\":[{\"type\":\"surface\",\"colorbar\":{\"outlinewidth\":0,\"ticks\":\"\"},\"colorscale\":[[0.0,\"#0d0887\"],[0.1111111111111111,\"#46039f\"],[0.2222222222222222,\"#7201a8\"],[0.3333333333333333,\"#9c179e\"],[0.4444444444444444,\"#bd3786\"],[0.5555555555555556,\"#d8576b\"],[0.6666666666666666,\"#ed7953\"],[0.7777777777777778,\"#fb9f3a\"],[0.8888888888888888,\"#fdca26\"],[1.0,\"#f0f921\"]]}],\"mesh3d\":[{\"type\":\"mesh3d\",\"colorbar\":{\"outlinewidth\":0,\"ticks\":\"\"}}],\"scatter\":[{\"fillpattern\":{\"fillmode\":\"overlay\",\"size\":10,\"solidity\":0.2},\"type\":\"scatter\"}],\"parcoords\":[{\"type\":\"parcoords\",\"line\":{\"colorbar\":{\"outlinewidth\":0,\"ticks\":\"\"}}}],\"scatterpolargl\":[{\"type\":\"scatterpolargl\",\"marker\":{\"colorbar\":{\"outlinewidth\":0,\"ticks\":\"\"}}}],\"bar\":[{\"error_x\":{\"color\":\"#2a3f5f\"},\"error_y\":{\"color\":\"#2a3f5f\"},\"marker\":{\"line\":{\"color\":\"#E5ECF6\",\"width\":0.5},\"pattern\":{\"fillmode\":\"overlay\",\"size\":10,\"solidity\":0.2}},\"type\":\"bar\"}],\"scattergeo\":[{\"type\":\"scattergeo\",\"marker\":{\"colorbar\":{\"outlinewidth\":0,\"ticks\":\"\"}}}],\"scatterpolar\":[{\"type\":\"scatterpolar\",\"marker\":{\"colorbar\":{\"outlinewidth\":0,\"ticks\":\"\"}}}],\"histogram\":[{\"marker\":{\"pattern\":{\"fillmode\":\"overlay\",\"size\":10,\"solidity\":0.2}},\"type\":\"histogram\"}],\"scattergl\":[{\"type\":\"scattergl\",\"marker\":{\"colorbar\":{\"outlinewidth\":0,\"ticks\":\"\"}}}],\"scatter3d\":[{\"type\":\"scatter3d\",\"line\":{\"colorbar\":{\"outlinewidth\":0,\"ticks\":\"\"}},\"marker\":{\"colorbar\":{\"outlinewidth\":0,\"ticks\":\"\"}}}],\"scattermapbox\":[{\"type\":\"scattermapbox\",\"marker\":{\"colorbar\":{\"outlinewidth\":0,\"ticks\":\"\"}}}],\"scatterternary\":[{\"type\":\"scatterternary\",\"marker\":{\"colorbar\":{\"outlinewidth\":0,\"ticks\":\"\"}}}],\"scattercarpet\":[{\"type\":\"scattercarpet\",\"marker\":{\"colorbar\":{\"outlinewidth\":0,\"ticks\":\"\"}}}],\"carpet\":[{\"aaxis\":{\"endlinecolor\":\"#2a3f5f\",\"gridcolor\":\"white\",\"linecolor\":\"white\",\"minorgridcolor\":\"white\",\"startlinecolor\":\"#2a3f5f\"},\"baxis\":{\"endlinecolor\":\"#2a3f5f\",\"gridcolor\":\"white\",\"linecolor\":\"white\",\"minorgridcolor\":\"white\",\"startlinecolor\":\"#2a3f5f\"},\"type\":\"carpet\"}],\"table\":[{\"cells\":{\"fill\":{\"color\":\"#EBF0F8\"},\"line\":{\"color\":\"white\"}},\"header\":{\"fill\":{\"color\":\"#C8D4E3\"},\"line\":{\"color\":\"white\"}},\"type\":\"table\"}],\"barpolar\":[{\"marker\":{\"line\":{\"color\":\"#E5ECF6\",\"width\":0.5},\"pattern\":{\"fillmode\":\"overlay\",\"size\":10,\"solidity\":0.2}},\"type\":\"barpolar\"}],\"pie\":[{\"automargin\":true,\"type\":\"pie\"}]},\"layout\":{\"autotypenumbers\":\"strict\",\"colorway\":[\"#636efa\",\"#EF553B\",\"#00cc96\",\"#ab63fa\",\"#FFA15A\",\"#19d3f3\",\"#FF6692\",\"#B6E880\",\"#FF97FF\",\"#FECB52\"],\"font\":{\"color\":\"#2a3f5f\"},\"hovermode\":\"closest\",\"hoverlabel\":{\"align\":\"left\"},\"paper_bgcolor\":\"white\",\"plot_bgcolor\":\"#E5ECF6\",\"polar\":{\"bgcolor\":\"#E5ECF6\",\"angularaxis\":{\"gridcolor\":\"white\",\"linecolor\":\"white\",\"ticks\":\"\"},\"radialaxis\":{\"gridcolor\":\"white\",\"linecolor\":\"white\",\"ticks\":\"\"}},\"ternary\":{\"bgcolor\":\"#E5ECF6\",\"aaxis\":{\"gridcolor\":\"white\",\"linecolor\":\"white\",\"ticks\":\"\"},\"baxis\":{\"gridcolor\":\"white\",\"linecolor\":\"white\",\"ticks\":\"\"},\"caxis\":{\"gridcolor\":\"white\",\"linecolor\":\"white\",\"ticks\":\"\"}},\"coloraxis\":{\"colorbar\":{\"outlinewidth\":0,\"ticks\":\"\"}},\"colorscale\":{\"sequential\":[[0.0,\"#0d0887\"],[0.1111111111111111,\"#46039f\"],[0.2222222222222222,\"#7201a8\"],[0.3333333333333333,\"#9c179e\"],[0.4444444444444444,\"#bd3786\"],[0.5555555555555556,\"#d8576b\"],[0.6666666666666666,\"#ed7953\"],[0.7777777777777778,\"#fb9f3a\"],[0.8888888888888888,\"#fdca26\"],[1.0,\"#f0f921\"]],\"sequentialminus\":[[0.0,\"#0d0887\"],[0.1111111111111111,\"#46039f\"],[0.2222222222222222,\"#7201a8\"],[0.3333333333333333,\"#9c179e\"],[0.4444444444444444,\"#bd3786\"],[0.5555555555555556,\"#d8576b\"],[0.6666666666666666,\"#ed7953\"],[0.7777777777777778,\"#fb9f3a\"],[0.8888888888888888,\"#fdca26\"],[1.0,\"#f0f921\"]],\"diverging\":[[0,\"#8e0152\"],[0.1,\"#c51b7d\"],[0.2,\"#de77ae\"],[0.3,\"#f1b6da\"],[0.4,\"#fde0ef\"],[0.5,\"#f7f7f7\"],[0.6,\"#e6f5d0\"],[0.7,\"#b8e186\"],[0.8,\"#7fbc41\"],[0.9,\"#4d9221\"],[1,\"#276419\"]]},\"xaxis\":{\"gridcolor\":\"white\",\"linecolor\":\"white\",\"ticks\":\"\",\"title\":{\"standoff\":15},\"zerolinecolor\":\"white\",\"automargin\":true,\"zerolinewidth\":2},\"yaxis\":{\"gridcolor\":\"white\",\"linecolor\":\"white\",\"ticks\":\"\",\"title\":{\"standoff\":15},\"zerolinecolor\":\"white\",\"automargin\":true,\"zerolinewidth\":2},\"scene\":{\"xaxis\":{\"backgroundcolor\":\"#E5ECF6\",\"gridcolor\":\"white\",\"linecolor\":\"white\",\"showbackground\":true,\"ticks\":\"\",\"zerolinecolor\":\"white\",\"gridwidth\":2},\"yaxis\":{\"backgroundcolor\":\"#E5ECF6\",\"gridcolor\":\"white\",\"linecolor\":\"white\",\"showbackground\":true,\"ticks\":\"\",\"zerolinecolor\":\"white\",\"gridwidth\":2},\"zaxis\":{\"backgroundcolor\":\"#E5ECF6\",\"gridcolor\":\"white\",\"linecolor\":\"white\",\"showbackground\":true,\"ticks\":\"\",\"zerolinecolor\":\"white\",\"gridwidth\":2}},\"shapedefaults\":{\"line\":{\"color\":\"#2a3f5f\"}},\"annotationdefaults\":{\"arrowcolor\":\"#2a3f5f\",\"arrowhead\":0,\"arrowwidth\":1},\"geo\":{\"bgcolor\":\"white\",\"landcolor\":\"#E5ECF6\",\"subunitcolor\":\"white\",\"showland\":true,\"showlakes\":true,\"lakecolor\":\"white\"},\"title\":{\"x\":0.05},\"mapbox\":{\"style\":\"light\"}}},\"scene\":{\"domain\":{\"x\":[0.0,1.0],\"y\":[0.0,1.0]},\"xaxis\":{\"title\":{\"text\":\"x\"}},\"yaxis\":{\"title\":{\"text\":\"y\"}},\"zaxis\":{\"title\":{\"text\":\"z\"}}},\"legend\":{\"title\":{\"text\":\"color\"},\"tracegroupgap\":0},\"margin\":{\"t\":60}},                        {\"responsive\": true}                    ).then(function(){\n",
       "                            \n",
       "var gd = document.getElementById('2c71a7c0-daa2-473f-8b2a-b62a22411995');\n",
       "var x = new MutationObserver(function (mutations, observer) {{\n",
       "        var display = window.getComputedStyle(gd).display;\n",
       "        if (!display || display === 'none') {{\n",
       "            console.log([gd, 'removed!']);\n",
       "            Plotly.purge(gd);\n",
       "            observer.disconnect();\n",
       "        }}\n",
       "}});\n",
       "\n",
       "// Listen for the removal of the full notebook cells\n",
       "var notebookContainer = gd.closest('#notebook-container');\n",
       "if (notebookContainer) {{\n",
       "    x.observe(notebookContainer, {childList: true});\n",
       "}}\n",
       "\n",
       "// Listen for the clearing of the current output cell\n",
       "var outputEl = gd.closest('.output');\n",
       "if (outputEl) {{\n",
       "    x.observe(outputEl, {childList: true});\n",
       "}}\n",
       "\n",
       "                        })                };                });            </script>        </div>"
      ]
     },
     "metadata": {},
     "output_type": "display_data"
    }
   ],
   "source": [
    "# plot using tsne \n",
    "X_embedded  = TSNE(n_components=3, perplexity=10,random_state=24).fit_transform( X )\n",
    "colors = np.array([x for x in 'bgrcmykbgrcmykbgrcmykbgrcmyk'])\n",
    "fig = px.scatter_3d(x=X_embedded [:,0],y=X_embedded [:,1],z=X_embedded [:,2],color=colors[gmm_labels])\n",
    "fig.show()"
   ]
  },
  {
   "cell_type": "markdown",
   "metadata": {},
   "source": [
    "### Bayesian Gaussian Mixture\n",
    "\n",
    "Mixture models are useful for integrating multiple data generating processes into a single model. A gaussian mixture model is a probabilistic model that assumes all the data points are generated from a mixture of a finite number of gaussian distributions with unknown parameters.\n",
    "\n",
    "The Bayesian gaussian mixture is a variation of the Gaussian mixture. BGM is less sensitive to the number of parameters and it chooses effective components automatically."
   ]
  },
  {
   "cell_type": "code",
   "execution_count": 215,
   "metadata": {},
   "outputs": [],
   "source": [
    "bgm_grid = {\n",
    "        \"covariance_type\": ['full', 'tied', 'diag', 'spherical'],\n",
    "        \"max_iter\": [50, 100, 150, 200],\n",
    "        \"init_params\": ['kmeans', 'k-means++', 'random', 'random_from_data'],\n",
    "        \"n_components\": range(2, 10),\n",
    "        \"n_init\": range(1, 6),\n",
    "        \"weight_concentration_prior_type\" : ['dirichlet_process', 'dirichlet_distribution']\n",
    "       }\n",
    "\n",
    "#bgm_grid"
   ]
  },
  {
   "cell_type": "code",
   "execution_count": 216,
   "metadata": {},
   "outputs": [],
   "source": [
    "bgm_model = BayesianGaussianMixture()\n",
    "bgm_params = GridSearchCV(bgm_model,bgm_grid,scoring=silhouette_score3,cv= 10).fit(X, y)"
   ]
  },
  {
   "cell_type": "code",
   "execution_count": 217,
   "metadata": {},
   "outputs": [
    {
     "data": {
      "text/plain": [
       "(0.6247727291806158,\n",
       " {'covariance_type': 'spherical',\n",
       "  'init_params': 'kmeans',\n",
       "  'max_iter': 50,\n",
       "  'n_components': 3,\n",
       "  'n_init': 3,\n",
       "  'weight_concentration_prior_type': 'dirichlet_process'})"
      ]
     },
     "execution_count": 217,
     "metadata": {},
     "output_type": "execute_result"
    }
   ],
   "source": [
    "bgm_params.best_score_, bgm_params.best_params_"
   ]
  },
  {
   "cell_type": "code",
   "execution_count": 218,
   "metadata": {},
   "outputs": [],
   "source": [
    "bgm = BayesianGaussianMixture(covariance_type = bgm_params.best_params_['covariance_type'],\n",
    "                      init_params = bgm_params.best_params_['init_params'],\n",
    "                      n_components = bgm_params.best_params_['n_components'],\n",
    "                      n_init = bgm_params.best_params_['n_init'],\n",
    "                      max_iter = bgm_params.best_params_['max_iter'],\n",
    "                      weight_concentration_prior_type = bgm_params.best_params_['weight_concentration_prior_type'])\n",
    "\n",
    "bgm.fit(X)\n",
    "bgm_labels = bgm.fit_predict(X)"
   ]
  },
  {
   "cell_type": "code",
   "execution_count": 219,
   "metadata": {},
   "outputs": [
    {
     "data": {
      "text/html": [
       "<div>\n",
       "<style scoped>\n",
       "    .dataframe tbody tr th:only-of-type {\n",
       "        vertical-align: middle;\n",
       "    }\n",
       "\n",
       "    .dataframe tbody tr th {\n",
       "        vertical-align: top;\n",
       "    }\n",
       "\n",
       "    .dataframe thead th {\n",
       "        text-align: right;\n",
       "    }\n",
       "</style>\n",
       "<table border=\"1\" class=\"dataframe\">\n",
       "  <thead>\n",
       "    <tr style=\"text-align: right;\">\n",
       "      <th></th>\n",
       "      <th>Cluster</th>\n",
       "    </tr>\n",
       "  </thead>\n",
       "  <tbody>\n",
       "    <tr>\n",
       "      <th>1</th>\n",
       "      <td>206</td>\n",
       "    </tr>\n",
       "    <tr>\n",
       "      <th>0</th>\n",
       "      <td>129</td>\n",
       "    </tr>\n",
       "    <tr>\n",
       "      <th>2</th>\n",
       "      <td>68</td>\n",
       "    </tr>\n",
       "  </tbody>\n",
       "</table>\n",
       "</div>"
      ],
      "text/plain": [
       "   Cluster\n",
       "1      206\n",
       "0      129\n",
       "2       68"
      ]
     },
     "execution_count": 219,
     "metadata": {},
     "output_type": "execute_result"
    }
   ],
   "source": [
    "bgm_dataset = pd.DataFrame(X.copy())\n",
    "bgm_dataset.loc[:,'Cluster'] = bgm_labels\n",
    "bgm_dataset.Cluster.value_counts().to_frame()"
   ]
  },
  {
   "cell_type": "code",
   "execution_count": 220,
   "metadata": {},
   "outputs": [
    {
     "data": {
      "text/html": [
       "<div>\n",
       "<style scoped>\n",
       "    .dataframe tbody tr th:only-of-type {\n",
       "        vertical-align: middle;\n",
       "    }\n",
       "\n",
       "    .dataframe tbody tr th {\n",
       "        vertical-align: top;\n",
       "    }\n",
       "\n",
       "    .dataframe thead th {\n",
       "        text-align: right;\n",
       "    }\n",
       "</style>\n",
       "<table border=\"1\" class=\"dataframe\">\n",
       "  <thead>\n",
       "    <tr style=\"text-align: right;\">\n",
       "      <th></th>\n",
       "      <th>silhouette_score</th>\n",
       "      <th>davies_bouldin_score</th>\n",
       "      <th>calinski_harabasz_score</th>\n",
       "      <th>fowlkes_mallows_score</th>\n",
       "      <th>adjusted_rand_score</th>\n",
       "      <th>adjusted_mutual_info_score</th>\n",
       "      <th>homogeneity_score</th>\n",
       "      <th>completeness_score</th>\n",
       "      <th>v_measure_score</th>\n",
       "    </tr>\n",
       "  </thead>\n",
       "  <tbody>\n",
       "    <tr>\n",
       "      <th>BayesianGaussianMixture</th>\n",
       "      <td>0.467738</td>\n",
       "      <td>0.712547</td>\n",
       "      <td>389.653173</td>\n",
       "      <td>0.553664</td>\n",
       "      <td>0.311957</td>\n",
       "      <td>0.402539</td>\n",
       "      <td>0.347756</td>\n",
       "      <td>0.489131</td>\n",
       "      <td>0.406502</td>\n",
       "    </tr>\n",
       "  </tbody>\n",
       "</table>\n",
       "</div>"
      ],
      "text/plain": [
       "                         silhouette_score  davies_bouldin_score  \\\n",
       "BayesianGaussianMixture          0.467738              0.712547   \n",
       "\n",
       "                         calinski_harabasz_score  fowlkes_mallows_score  \\\n",
       "BayesianGaussianMixture               389.653173               0.553664   \n",
       "\n",
       "                         adjusted_rand_score  adjusted_mutual_info_score  \\\n",
       "BayesianGaussianMixture             0.311957                    0.402539   \n",
       "\n",
       "                         homogeneity_score  completeness_score  \\\n",
       "BayesianGaussianMixture           0.347756            0.489131   \n",
       "\n",
       "                         v_measure_score  \n",
       "BayesianGaussianMixture         0.406502  "
      ]
     },
     "execution_count": 220,
     "metadata": {},
     "output_type": "execute_result"
    }
   ],
   "source": [
    "bgm_df = pd.DataFrame(estimator_evaluation2(bgm, 'BayesianGaussianMixture ', X , y), index=[\"BayesianGaussianMixture\"])\n",
    "bgm_df"
   ]
  },
  {
   "cell_type": "code",
   "execution_count": 221,
   "metadata": {},
   "outputs": [
    {
     "data": {
      "application/vnd.plotly.v1+json": {
       "config": {
        "plotlyServerURL": "https://plot.ly"
       },
       "data": [
        {
         "hovertemplate": "color=g<br>x=%{x}<br>y=%{y}<br>z=%{z}<extra></extra>",
         "legendgroup": "g",
         "marker": {
          "color": "#636efa",
          "symbol": "circle"
         },
         "mode": "markers",
         "name": "g",
         "scene": "scene",
         "showlegend": true,
         "type": "scatter3d",
         "x": [
          -21.267044067382812,
          -36.06597137451172,
          -30.4609375,
          -26.903005599975586,
          -10.522098541259766,
          -11.172066688537598,
          -35.50358200073242,
          -33.579097747802734,
          -20.139205932617188,
          -34.801292419433594,
          -21.532691955566406,
          -20.048160552978516,
          -16.078256607055664,
          -31.024127960205078,
          -23.23345184326172,
          -26.53757095336914,
          -16.589069366455078,
          -20.381595611572266,
          -34.185394287109375,
          -24.680877685546875,
          -19.039701461791992,
          -13.879016876220703,
          -29.271230697631836,
          -23.27183723449707,
          -14.153593063354492,
          -13.993045806884766,
          -30.4713077545166,
          -25.72091293334961,
          -16.764545440673828,
          -27.04876136779785,
          -10.712099075317383,
          -21.01463508605957,
          -17.79693603515625,
          -35.17536544799805,
          -12.57739543914795,
          -0.7267776727676392,
          5.935863018035889,
          16.332124710083008,
          -17.974720001220703,
          10.653630256652832,
          -33.51859664916992,
          5.823702335357666,
          5.161942005157471,
          8.852254867553711,
          5.489107608795166,
          13.520792007446289,
          84.0427474975586,
          1.5232117176055908,
          6.861714839935303,
          -1.1105945110321045,
          8.21495246887207,
          9.992449760437012,
          18.044836044311523,
          -78.88306427001953,
          10.190162658691406,
          5.529528617858887,
          11.674993515014648,
          0.2912577986717224,
          7.53861141204834,
          0.6788923144340515,
          8.612034797668457,
          18.44590950012207,
          8.328204154968262,
          4.20270299911499,
          -21.77710723876953,
          14.427577018737793,
          8.52342414855957,
          2.0907599925994873,
          15.868163108825684,
          -16.81120491027832,
          5.799005508422852,
          9.22774600982666,
          14.33255386352539,
          31.768972396850586,
          23.564762115478516,
          2.241644859313965,
          26.291427612304688,
          17.254390716552734,
          27.136953353881836,
          9.360555648803711,
          32.198673248291016,
          27.159940719604492,
          2.696962833404541,
          32.37428665161133,
          12.890089988708496,
          13.936925888061523,
          21.662534713745117,
          14.997796058654785,
          19.37211799621582,
          16.300519943237305,
          30.79879379272461,
          10.139127731323242,
          13.97585391998291,
          27.999364852905273,
          1.4961940050125122,
          22.074153900146484,
          27.603469848632812,
          21.30132293701172,
          17.395112991333008,
          25.706993103027344,
          20.618406295776367,
          40.476531982421875,
          23.39597511291504,
          -1.2226147651672363,
          42.715972900390625,
          24.45811653137207,
          28.866249084472656,
          27.462055206298828,
          24.23588752746582,
          25.928308486938477,
          27.226430892944336,
          37.98743438720703,
          44.27800750732422,
          40.40578842163086,
          28.68001365661621,
          30.1612491607666,
          18.483291625976562,
          34.13698196411133,
          39.1591682434082,
          42.29051971435547,
          36.865142822265625,
          37.22797393798828,
          39.96656799316406,
          30.027252197265625,
          38.88172149658203,
          33.42483901977539,
          43.09455871582031,
          -22.969045639038086,
          -22.53413963317871,
          -24.733917236328125,
          -32.07025146484375,
          -17.431264877319336,
          -10.650376319885254,
          -8.499683380126953,
          -28.772064208984375,
          -17.90882110595703,
          -20.731657028198242,
          -38.12913131713867,
          2.7441911697387695,
          -24.07947540283203,
          -32.08818054199219,
          -5.673862934112549,
          -21.81537628173828,
          -30.40770149230957,
          -29.06601333618164,
          -23.45379638671875,
          -17.01804542541504,
          -30.721755981445312,
          -31.2700138092041,
          -25.28873062133789,
          -23.773422241210938,
          -9.347555160522461,
          -29.65091896057129,
          -12.104231834411621,
          -18.506410598754883,
          -18.277950286865234,
          -15.310219764709473,
          -24.413591384887695,
          -17.080352783203125,
          -19.528425216674805,
          -27.129587173461914,
          3.749504804611206,
          19.652210235595703,
          4.860600471496582,
          4.800532817840576,
          4.240396022796631,
          7.389786243438721,
          10.786006927490234,
          6.2144598960876465,
          2.0858445167541504,
          8.709144592285156,
          6.604032039642334,
          4.337176322937012,
          6.2634406089782715,
          9.799295425415039,
          10.572393417358398,
          7.155150413513184,
          1.898878812789917,
          3.91137957572937,
          13.471965789794922,
          9.896615028381348,
          12.062995910644531,
          29.08721351623535,
          29.612564086914062,
          29.7270450592041,
          21.73213768005371,
          32.26485824584961,
          32.223934173583984,
          32.368988037109375,
          25.03771209716797,
          17.18193244934082,
          25.369630813598633,
          31.42034339904785,
          40.799686431884766,
          23.816953659057617,
          24.764509201049805,
          -34.1065559387207,
          27.049915313720703,
          33.74729919433594,
          36.472755432128906,
          32.0174446105957,
          44.705406188964844,
          27.09748649597168,
          25.400440216064453,
          25.914587020874023,
          45.45392608642578
         ],
         "y": [
          35.922725677490234,
          14.13102912902832,
          13.935522079467773,
          25.9504451751709,
          43.85566711425781,
          11.42887020111084,
          18.056838989257812,
          7.506102561950684,
          36.57126235961914,
          9.252019882202148,
          7.943752765655518,
          27.100460052490234,
          8.681744575500488,
          24.486465454101562,
          32.311370849609375,
          22.035154342651367,
          15.552287101745605,
          28.93560028076172,
          19.651897430419922,
          18.97339630126953,
          2.160881519317627,
          42.3321533203125,
          3.193222999572754,
          29.411508560180664,
          12.817761421203613,
          40.591495513916016,
          24.410675048828125,
          3.878140449523926,
          38.24163818359375,
          21.37002944946289,
          10.919054985046387,
          33.46477508544922,
          42.6595573425293,
          2.8495986461639404,
          7.073983669281006,
          6.204806804656982,
          31.711185455322266,
          13.306443214416504,
          2.2028632164001465,
          -4.577503204345703,
          16.597509384155273,
          38.8298454284668,
          35.662445068359375,
          1.3824677467346191,
          23.091190338134766,
          4.3916754722595215,
          66.60557556152344,
          9.737428665161133,
          12.725150108337402,
          42.7652702331543,
          7.599973201751709,
          24.586780548095703,
          -7.534989356994629,
          25.59372901916504,
          14.551630020141602,
          30.360595703125,
          21.911224365234375,
          4.110654830932617,
          11.905198097229004,
          9.819938659667969,
          32.29173278808594,
          -0.3799690008163452,
          -7.851871967315674,
          1.9403424263000488,
          4.729564189910889,
          59.75038528442383,
          31.439054489135742,
          12.256580352783203,
          -6.681667327880859,
          6.130126476287842,
          5.807104110717773,
          32.159027099609375,
          6.796523094177246,
          -5.971858501434326,
          22.654258728027344,
          -4.707040309906006,
          7.5764241218566895,
          23.846031188964844,
          2.9488532543182373,
          27.096084594726562,
          -11.50830364227295,
          2.331176996231079,
          -6.083141326904297,
          -7.422783851623535,
          27.341739654541016,
          22.654117584228516,
          -1.8572121858596802,
          19.930757522583008,
          17.647409439086914,
          16.641969680786133,
          1.8261659145355225,
          23.567323684692383,
          17.278886795043945,
          6.935790538787842,
          -8.69201946258545,
          16.522836685180664,
          -1.164661169052124,
          12.344599723815918,
          14.271845817565918,
          -0.6366279721260071,
          13.294169425964355,
          12.779515266418457,
          9.386844635009766,
          -3.641934394836426,
          8.252523422241211,
          22.371288299560547,
          25.149538040161133,
          23.606521606445312,
          21.57587242126465,
          18.655899047851562,
          21.42276954650879,
          7.235989570617676,
          10.706573486328125,
          10.95085334777832,
          8.201926231384277,
          11.915243148803711,
          42.641414642333984,
          8.700462341308594,
          13.746968269348145,
          7.1556925773620605,
          10.78486442565918,
          14.91001033782959,
          9.748248100280762,
          10.594999313354492,
          7.296443939208984,
          13.833026885986328,
          11.936604499816895,
          32.13788604736328,
          28.855127334594727,
          6.2822065353393555,
          1.553058385848999,
          30.62104606628418,
          39.981258392333984,
          43.24763107299805,
          3.967867612838745,
          40.68608093261719,
          31.368810653686523,
          17.157428741455078,
          27.957015991210938,
          19.151569366455078,
          6.475119590759277,
          42.44248962402344,
          2.4901180267333984,
          9.720891952514648,
          3.7551586627960205,
          22.970993041992188,
          4.806143760681152,
          4.845126628875732,
          10.687250137329102,
          4.327755928039551,
          26.4428653717041,
          36.71547317504883,
          5.603481769561768,
          37.264373779296875,
          31.3853702545166,
          0.16408143937587738,
          44.56779861450195,
          33.03150939941406,
          33.856571197509766,
          35.442752838134766,
          8.019692420959473,
          -8.85015869140625,
          -3.184669017791748,
          -3.8456530570983887,
          5.297758102416992,
          34.92172622680664,
          36.927059173583984,
          -5.297547817230225,
          17.427650451660156,
          13.918794631958008,
          35.007896423339844,
          -3.9760918617248535,
          16.162832260131836,
          35.57892990112305,
          -1.3451337814331055,
          8.251192092895508,
          9.0260009765625,
          -1.2618411779403687,
          40.40031433105469,
          -1.767958641052246,
          18.514169692993164,
          24.223388671875,
          -4.048883438110352,
          0.7570634484291077,
          -0.45229485630989075,
          20.76923179626465,
          -2.3073678016662598,
          -11.760886192321777,
          -2.266845226287842,
          12.259390830993652,
          19.423126220703125,
          9.192879676818848,
          2.7518935203552246,
          10.214640617370605,
          22.30584716796875,
          25.335994720458984,
          -14.465846061706543,
          24.448200225830078,
          9.540753364562988,
          11.08519458770752,
          8.542003631591797,
          11.151013374328613,
          11.940046310424805,
          14.31509017944336,
          10.101239204406738,
          10.8375883102417
         ],
         "z": [
          5.8168253898620605,
          -21.3820858001709,
          -26.02112579345703,
          -21.729238510131836,
          -3.7784321308135986,
          -30.573514938354492,
          -23.78899383544922,
          -21.12174415588379,
          0.4842860996723175,
          -24.413700103759766,
          -29.579225540161133,
          -17.21922492980957,
          -29.19700050354004,
          -22.764877319335938,
          -3.4071192741394043,
          -20.095991134643555,
          -26.840534210205078,
          -12.876431465148926,
          -20.992544174194336,
          -22.112937927246094,
          -24.928831100463867,
          1.3392982482910156,
          -9.661981582641602,
          -0.8353308439254761,
          -28.130165100097656,
          -3.5932059288024902,
          -19.014638900756836,
          -9.01623821258545,
          -1.315071940422058,
          -24.522563934326172,
          -27.052629470825195,
          -7.873538494110107,
          0.6900990009307861,
          -5.049018859863281,
          -29.092561721801758,
          -31.185924530029297,
          -17.988819122314453,
          -21.65678596496582,
          -4.545928478240967,
          -33.67805862426758,
          73.8567886352539,
          -9.526837348937988,
          -7.167135715484619,
          -34.627174377441406,
          -20.917863845825195,
          -29.894676208496094,
          -2.0550172328948975,
          -26.99646759033203,
          -23.70884132385254,
          -5.417999267578125,
          -32.647544860839844,
          -17.037246704101562,
          -31.62060546875,
          239.716796875,
          -21.366243362426758,
          -14.253371238708496,
          -17.414480209350586,
          -34.23719787597656,
          -27.826797485351562,
          -30.948036193847656,
          -3.680274248123169,
          -30.74943733215332,
          -35.562347412109375,
          -36.585018157958984,
          -7.637720108032227,
          -16.906269073486328,
          -10.280692100524902,
          -23.622650146484375,
          -34.36848831176758,
          -6.230306625366211,
          -30.726350784301758,
          -15.312973022460938,
          -32.0279541015625,
          -18.60561180114746,
          3.239884376525879,
          -6.217715263366699,
          -16.355648040771484,
          -0.350166916847229,
          -21.037330627441406,
          -0.3802046477794647,
          -16.73946189880371,
          -16.75409507751465,
          -9.98575496673584,
          -22.44613265991211,
          -2.1022424697875977,
          -4.4007110595703125,
          -29.55804443359375,
          -1.6893768310546875,
          -1.510080337524414,
          -9.639875411987305,
          -19.199848175048828,
          -2.9411470890045166,
          -6.211831569671631,
          -11.248101234436035,
          -7.272939682006836,
          -4.252840042114258,
          -19.198013305664062,
          -6.047015190124512,
          -6.7096734046936035,
          -22.951927185058594,
          -9.668194770812988,
          6.791210651397705,
          -16.8520450592041,
          -7.881289005279541,
          19.625478744506836,
          19.32184600830078,
          11.213606834411621,
          15.163322448730469,
          14.672515869140625,
          17.125629425048828,
          10.860676765441895,
          27.322982788085938,
          16.687564849853516,
          24.091432571411133,
          19.75490379333496,
          14.358061790466309,
          -25.78754997253418,
          25.26527976989746,
          10.936766624450684,
          25.10773468017578,
          8.950390815734863,
          6.995655536651611,
          12.114498138427734,
          22.43658447265625,
          22.58118438720703,
          9.737666130065918,
          11.745050430297852,
          5.454796314239502,
          -6.674811840057373,
          -30.735986709594727,
          -5.778939247131348,
          -13.654102325439453,
          -8.963502883911133,
          -7.693188190460205,
          -28.425596237182617,
          -4.013869762420654,
          2.271423578262329,
          -20.86273193359375,
          -19.872522354125977,
          -26.11638641357422,
          -27.472850799560547,
          -5.673404693603516,
          -28.270822525024414,
          -23.982465744018555,
          -13.735467910766602,
          -23.01707649230957,
          -28.57994270324707,
          -17.739055633544922,
          -28.10502052307129,
          -26.07408332824707,
          -18.22887420654297,
          -10.5384521484375,
          -24.316556930541992,
          -12.276164054870605,
          -4.994287014007568,
          -27.81255340576172,
          -1.821712613105774,
          1.8572583198547363,
          -7.605228424072266,
          -4.760988235473633,
          -27.72223663330078,
          -36.56403732299805,
          -32.723201751708984,
          -38.18871307373047,
          -34.71680450439453,
          -12.17208194732666,
          -3.020695447921753,
          -37.81449890136719,
          -20.61493492126465,
          -27.192346572875977,
          -12.330978393554688,
          -34.49563217163086,
          -24.00265884399414,
          -15.712998390197754,
          -37.235286712646484,
          -28.864561080932617,
          -25.533395767211914,
          -36.0584831237793,
          -5.590236186981201,
          -35.61910629272461,
          -20.79570770263672,
          0.575212836265564,
          -22.87643051147461,
          -23.704357147216797,
          -12.970426559448242,
          -0.7846923470497131,
          -21.034500122070312,
          -20.091135025024414,
          -15.569310188293457,
          -7.930481433868408,
          -5.5041680335998535,
          -12.392892837524414,
          -12.530016899108887,
          29.63280487060547,
          8.287672996520996,
          11.059225082397461,
          -19.41793441772461,
          7.351991176605225,
          13.108871459960938,
          27.871444702148438,
          16.657373428344727,
          26.320215225219727,
          18.87700843811035,
          21.598779678344727,
          22.874103546142578,
          22.31829071044922
         ]
        },
        {
         "hovertemplate": "color=b<br>x=%{x}<br>y=%{y}<br>z=%{z}<extra></extra>",
         "legendgroup": "b",
         "marker": {
          "color": "#EF553B",
          "symbol": "circle"
         },
         "mode": "markers",
         "name": "b",
         "scene": "scene",
         "showlegend": true,
         "type": "scatter3d",
         "x": [
          -16.822650909423828,
          -49.39965057373047,
          -42.795692443847656,
          -21.344249725341797,
          -25.461931228637695,
          -17.483646392822266,
          -32.733314514160156,
          -24.241518020629883,
          -31.977890014648438,
          -36.49922561645508,
          -45.48850631713867,
          -19.285551071166992,
          -46.284759521484375,
          -23.104211807250977,
          -20.900346755981445,
          -23.937450408935547,
          -31.07014274597168,
          -31.920787811279297,
          -40.64645767211914,
          -38.054603576660156,
          -47.17422866821289,
          -27.272750854492188,
          -13.470775604248047,
          -47.790645599365234,
          -14.55036735534668,
          -33.91830062866211,
          -46.7971305847168,
          -21.803001403808594,
          -46.36410140991211,
          -18.646787643432617,
          -21.651941299438477,
          0.4075632095336914,
          -13.981273651123047,
          0.3447377681732178,
          -18.89834213256836,
          -16.19564437866211,
          3.140899419784546,
          -22.55308723449707,
          -22.65562629699707,
          -0.060101576149463654,
          -0.7936458587646484,
          -17.555368423461914,
          -10.721659660339355,
          -16.148483276367188,
          -22.341880798339844,
          -22.72369956970215,
          -13.028511047363281,
          -8.545669555664062,
          -13.910672187805176,
          0.5921189188957214,
          -14.52842903137207,
          -18.264860153198242,
          -22.563655853271484,
          0.20385026931762695,
          -4.701167583465576,
          1.6178152561187744,
          -18.903366088867188,
          24.573030471801758,
          15.339200019836426,
          23.716899871826172,
          9.47315788269043,
          15.595996856689453,
          11.48470687866211,
          11.878907203674316,
          20.043367385864258,
          10.031150817871094,
          5.852301120758057,
          8.84896469116211,
          4.991186618804932,
          -12.906111717224121,
          5.038982391357422,
          6.433780193328857,
          8.879339218139648,
          16.403331756591797,
          12.368870735168457,
          7.219574451446533,
          8.58479118347168,
          12.237604141235352,
          18.185205459594727,
          7.0952863693237305,
          23.871938705444336,
          -21.064739227294922,
          -18.615015029907227,
          -9.400259971618652,
          -27.591981887817383,
          -46.00606155395508,
          -26.467159271240234,
          -11.377697944641113,
          -28.746112823486328,
          -42.43263626098633,
          -12.118288040161133,
          -36.13899612426758,
          -24.882373809814453,
          -40.333988189697266,
          -29.823400497436523,
          -456.2898864746094,
          7.38869047164917,
          -18.51105308532715,
          -20.316526412963867,
          -38.623165130615234,
          -13.736462593078613,
          -41.04960250854492,
          -16.34224510192871,
          -11.020339965820312,
          -7.910359859466553,
          -32.941097259521484,
          -16.397624969482422,
          -18.877254486083984,
          -6.485118389129639,
          -19.89840316772461,
          -18.467571258544922,
          -2.8718912601470947,
          -4.004284381866455,
          2.619084358215332,
          -15.076781272888184,
          0.08586261421442032,
          -1.284684419631958,
          2.394094228744507,
          -17.82406997680664,
          3.1057519912719727,
          -20.834470748901367,
          -6.645021438598633,
          -0.9430211186408997,
          -17.268545150756836,
          3.4498560428619385,
          6.338685512542725,
          5.577123165130615,
          20.71617889404297,
          6.600318431854248
         ],
         "y": [
          -28.599925994873047,
          -10.496481895446777,
          -0.7150207757949829,
          -30.018110275268555,
          -14.783294677734375,
          -27.7197265625,
          -4.371962547302246,
          -22.510534286499023,
          -0.6587179899215698,
          -10.558356285095215,
          -9.403033256530762,
          -25.21457862854004,
          1.4767169952392578,
          -18.64919662475586,
          53.378841400146484,
          -16.058134078979492,
          -8.236431121826172,
          -11.5612154006958,
          -2.9173927307128906,
          -9.13534164428711,
          -5.571140766143799,
          -20.627683639526367,
          -20.01321029663086,
          -8.554363250732422,
          -9.778741836547852,
          -0.16450761258602142,
          -2.169846296310425,
          -14.032255172729492,
          2.629030466079712,
          -15.422771453857422,
          0.4951074421405792,
          1.8972957134246826,
          3.1074705123901367,
          6.443424224853516,
          -17.389612197875977,
          -8.611226081848145,
          0.44145891070365906,
          -15.357054710388184,
          1.8845208883285522,
          -1.3469034433364868,
          8.65053653717041,
          -0.8942708373069763,
          4.376777648925781,
          1.5898655652999878,
          -17.511959075927734,
          -2.7408711910247803,
          4.913856506347656,
          4.290068626403809,
          -3.8257787227630615,
          -2.369314432144165,
          2.587691068649292,
          -19.9576358795166,
          -13.174420356750488,
          2.9193058013916016,
          5.921625137329102,
          -1.6807132959365845,
          -13.157781600952148,
          -13.22385311126709,
          -14.928306579589844,
          -14.00196361541748,
          -5.553106784820557,
          -12.852591514587402,
          -14.624302864074707,
          -16.989368438720703,
          -16.535179138183594,
          -17.343385696411133,
          -16.828969955444336,
          -16.676023483276367,
          -16.708698272705078,
          -7.712678909301758,
          -6.246535301208496,
          -20.16769027709961,
          -13.669449806213379,
          -16.477487564086914,
          -16.12377166748047,
          -13.929681777954102,
          -19.734310150146484,
          -20.389284133911133,
          -13.305061340332031,
          -9.958097457885742,
          -16.979398727416992,
          -26.404216766357422,
          -13.605611801147461,
          -15.183632850646973,
          -12.173080444335938,
          -12.32067584991455,
          -8.881789207458496,
          -11.7959566116333,
          -7.807506084442139,
          3.2678065299987793,
          -16.515052795410156,
          -4.6959357261657715,
          -8.47089958190918,
          -5.3941521644592285,
          -11.922337532043457,
          -302.0281982421875,
          -60.05851364135742,
          -15.538965225219727,
          -11.413725852966309,
          0.5542541742324829,
          -14.24774169921875,
          -10.682809829711914,
          -24.83991813659668,
          -18.71875762939453,
          -20.037574768066406,
          -9.220967292785645,
          -12.353191375732422,
          5.030978679656982,
          5.7682414054870605,
          -4.207118988037109,
          3.0606532096862793,
          3.2834300994873047,
          1.1891841888427734,
          -21.629451751708984,
          7.338028907775879,
          -21.39366912841797,
          1.470876693725586,
          -24.639142990112305,
          -0.4972001910209656,
          1.4655126333236694,
          -7.7200164794921875,
          1.4166902303695679,
          -24.354713439941406,
          5.381312370300293,
          -39.685157775878906,
          -3.161134958267212,
          -6.502359390258789,
          -14.517918586730957,
          -6.617073059082031
         ],
         "z": [
          33.52610397338867,
          2.444183588027954,
          -4.472977161407471,
          31.861804962158203,
          32.748905181884766,
          37.189815521240234,
          3.851856231689453,
          31.61870002746582,
          1.6737146377563477,
          5.405576229095459,
          1.7811448574066162,
          31.78816795349121,
          -5.672760963439941,
          31.9556884765625,
          125.64574432373047,
          36.20995330810547,
          32.89856719970703,
          35.27460479736328,
          1.9910587072372437,
          8.647953987121582,
          0.6054890751838684,
          30.741924285888672,
          42.24124526977539,
          5.616896629333496,
          43.90907669067383,
          -1.1675693988800049,
          -2.5310606956481934,
          33.8502197265625,
          -1.7316131591796875,
          10.74067497253418,
          10.418437004089355,
          20.7386474609375,
          -2.426177740097046,
          23.54466438293457,
          6.714169025421143,
          9.173133850097656,
          28.313512802124023,
          6.034440517425537,
          6.306940078735352,
          30.684783935546875,
          21.458824157714844,
          6.155144214630127,
          36.29490280151367,
          0.8089843392372131,
          9.657200813293457,
          8.167305946350098,
          1.280754566192627,
          32.32023239135742,
          6.946134090423584,
          26.626850128173828,
          4.64308500289917,
          10.417008399963379,
          9.823871612548828,
          31.12822914123535,
          32.096405029296875,
          22.033491134643555,
          7.1384382247924805,
          11.82937240600586,
          15.885846138000488,
          7.990316390991211,
          4.314609050750732,
          9.797197341918945,
          19.636438369750977,
          27.046123504638672,
          7.298007965087891,
          23.556074142456055,
          28.855613708496094,
          31.980281829833984,
          33.5184326171875,
          8.310609817504883,
          25.667417526245117,
          33.03346633911133,
          28.54404640197754,
          10.189713478088379,
          14.70949935913086,
          25.040786743164062,
          28.498260498046875,
          30.87400245666504,
          6.954226016998291,
          25.21449089050293,
          10.863962173461914,
          34.73118209838867,
          42.36494445800781,
          44.201019287109375,
          36.05021667480469,
          4.63361120223999,
          33.655784606933594,
          42.43116760253906,
          37.17819595336914,
          -4.306389808654785,
          41.04791259765625,
          4.633265018463135,
          37.542198181152344,
          4.993454456329346,
          31.67388916015625,
          -1184.2711181640625,
          122.69407653808594,
          39.08221435546875,
          39.4496955871582,
          -1.7963697910308838,
          44.6135368347168,
          6.116008758544922,
          35.10211181640625,
          45.73445510864258,
          43.604400634765625,
          7.021518230438232,
          39.048946380615234,
          -1.6818139553070068,
          36.01001739501953,
          11.153938293457031,
          7.111074447631836,
          35.0716552734375,
          31.048648834228516,
          39.19319534301758,
          -2.389935255050659,
          42.48314666748047,
          27.38381576538086,
          41.99031066894531,
          10.200085639953613,
          24.043920516967773,
          9.874095916748047,
          34.848243713378906,
          39.60695266723633,
          2.5961873531341553,
          28.51122283935547,
          4.971691131591797,
          2.7791099548339844,
          12.18494701385498,
          6.987124919891357
         ]
        },
        {
         "hovertemplate": "color=r<br>x=%{x}<br>y=%{y}<br>z=%{z}<extra></extra>",
         "legendgroup": "r",
         "marker": {
          "color": "#00cc96",
          "symbol": "circle"
         },
         "mode": "markers",
         "name": "r",
         "scene": "scene",
         "showlegend": true,
         "type": "scatter3d",
         "x": [
          9.107170104980469,
          4.6845927238464355,
          6.0786261558532715,
          12.687679290771484,
          7.3835129737854,
          13.81178092956543,
          9.502975463867188,
          8.833601951599121,
          4.1392502784729,
          12.335711479187012,
          23.544315338134766,
          -6.668420314788818,
          3.1785666942596436,
          36.8121337890625,
          -6.940609931945801,
          2.167938709259033,
          -5.020781993865967,
          -11.989901542663574,
          -9.028367042541504,
          4.969753265380859,
          -13.640060424804688,
          25.876117706298828,
          -0.5617701411247253,
          9.07393741607666,
          11.781044006347656,
          24.084733963012695,
          -8.347626686096191,
          2.4779205322265625,
          -5.4254655838012695,
          -0.3685187101364136,
          -13.536191940307617,
          -14.889735221862793,
          -1.512008786201477,
          -10.572601318359375,
          7.063409328460693,
          8.019389152526855,
          11.630135536193848,
          7.181481838226318,
          46.00409698486328,
          7.644443511962891,
          -16.012794494628906,
          10.322341918945312,
          -12.858540534973145,
          -2.3237509727478027,
          5.5148396492004395,
          5.692639350891113,
          10.46607780456543,
          -7.399155616760254,
          12.236316680908203,
          7.331542015075684,
          13.824715614318848,
          -13.054549217224121,
          33.052799224853516,
          2.9771065711975098,
          -4.404337406158447,
          -11.873586654663086,
          37.264034271240234,
          4.391490459442139,
          -16.661724090576172,
          -9.645992279052734,
          -93.683837890625,
          -7.636730194091797,
          0.5679864883422852,
          25.26010513305664,
          -14.055168151855469,
          -10.169634819030762,
          5.8452277183532715,
          22.284929275512695
         ],
         "y": [
          -6.172765731811523,
          -8.096137046813965,
          -8.648439407348633,
          -12.295158386230469,
          -12.351204872131348,
          -10.344816207885742,
          -9.094193458557129,
          -9.549301147460938,
          -12.588605880737305,
          -34.130340576171875,
          10.071693420410156,
          -38.8309211730957,
          -22.717079162597656,
          -17.417682647705078,
          -41.327674865722656,
          -35.7883186340332,
          -27.92157554626465,
          -40.47600555419922,
          -35.46875,
          19.855892181396484,
          -45.999088287353516,
          9.282002449035645,
          -34.81201934814453,
          -24.99074935913086,
          -15.741121292114258,
          12.40717887878418,
          -37.43214416503906,
          -29.14955711364746,
          -39.841636657714844,
          -32.43231964111328,
          -42.054561614990234,
          -44.781185150146484,
          -36.96426010131836,
          -40.94893264770508,
          -32.7647590637207,
          -36.53717803955078,
          -30.32036018371582,
          -15.248553276062012,
          -33.2227783203125,
          -30.326932907104492,
          -45.257266998291016,
          -31.926437377929688,
          -45.8526725769043,
          -23.79541015625,
          -35.245704650878906,
          -18.015134811401367,
          -26.92793846130371,
          -36.67508316040039,
          -18.587879180908203,
          -35.80337905883789,
          -14.149086952209473,
          -50.34455490112305,
          9.217255592346191,
          -30.80486488342285,
          -35.02500534057617,
          -42.593475341796875,
          9.137520790100098,
          -33.080814361572266,
          -48.06392288208008,
          -43.8515739440918,
          -63.7742805480957,
          -32.8321647644043,
          3.7214879989624023,
          13.486228942871094,
          -48.9123420715332,
          -46.39421844482422,
          -27.901395797729492,
          11.583477973937988
         ],
         "z": [
          -0.7241188883781433,
          -4.063405513763428,
          -7.591188907623291,
          0.7650196552276611,
          -4.324703216552734,
          3.8012237548828125,
          -3.1974411010742188,
          1.238881230354309,
          -9.934831619262695,
          -4.7493462562561035,
          29.95144271850586,
          -6.5864386558532715,
          -11.774182319641113,
          20.951534271240234,
          2.5580832958221436,
          -3.1622493267059326,
          -11.894947052001953,
          -0.763357937335968,
          -6.574005126953125,
          28.48706817626953,
          6.0969953536987305,
          34.30753707885742,
          -9.569856643676758,
          -7.908479690551758,
          8.332138061523438,
          33.023277282714844,
          -2.4932162761688232,
          -13.76860237121582,
          -1.603881597518921,
          -12.251422882080078,
          5.507862567901611,
          1.2219104766845703,
          -4.022248268127441,
          -4.116950511932373,
          -8.447087287902832,
          4.959840774536133,
          -5.893196105957031,
          -8.043238639831543,
          20.290987014770508,
          -5.420224189758301,
          10.746309280395508,
          -2.3039586544036865,
          13.510771751403809,
          -12.343932151794434,
          -4.137907981872559,
          -9.895276069641113,
          -10.274495124816895,
          -10.347251892089844,
          19.297513961791992,
          0.693530797958374,
          4.265190124511719,
          16.33561134338379,
          31.5484561920166,
          -9.175715446472168,
          -6.804567813873291,
          9.073599815368652,
          31.895126342773438,
          -11.932153701782227,
          14.655389785766602,
          5.779026508331299,
          12.392186164855957,
          -9.701878547668457,
          -6.171171188354492,
          26.468914031982422,
          10.824557304382324,
          9.166852951049805,
          -11.992980003356934,
          25.558242797851562
         ]
        }
       ],
       "layout": {
        "legend": {
         "title": {
          "text": "color"
         },
         "tracegroupgap": 0
        },
        "margin": {
         "t": 60
        },
        "scene": {
         "domain": {
          "x": [
           0,
           1
          ],
          "y": [
           0,
           1
          ]
         },
         "xaxis": {
          "title": {
           "text": "x"
          }
         },
         "yaxis": {
          "title": {
           "text": "y"
          }
         },
         "zaxis": {
          "title": {
           "text": "z"
          }
         }
        },
        "template": {
         "data": {
          "bar": [
           {
            "error_x": {
             "color": "#2a3f5f"
            },
            "error_y": {
             "color": "#2a3f5f"
            },
            "marker": {
             "line": {
              "color": "#E5ECF6",
              "width": 0.5
             },
             "pattern": {
              "fillmode": "overlay",
              "size": 10,
              "solidity": 0.2
             }
            },
            "type": "bar"
           }
          ],
          "barpolar": [
           {
            "marker": {
             "line": {
              "color": "#E5ECF6",
              "width": 0.5
             },
             "pattern": {
              "fillmode": "overlay",
              "size": 10,
              "solidity": 0.2
             }
            },
            "type": "barpolar"
           }
          ],
          "carpet": [
           {
            "aaxis": {
             "endlinecolor": "#2a3f5f",
             "gridcolor": "white",
             "linecolor": "white",
             "minorgridcolor": "white",
             "startlinecolor": "#2a3f5f"
            },
            "baxis": {
             "endlinecolor": "#2a3f5f",
             "gridcolor": "white",
             "linecolor": "white",
             "minorgridcolor": "white",
             "startlinecolor": "#2a3f5f"
            },
            "type": "carpet"
           }
          ],
          "choropleth": [
           {
            "colorbar": {
             "outlinewidth": 0,
             "ticks": ""
            },
            "type": "choropleth"
           }
          ],
          "contour": [
           {
            "colorbar": {
             "outlinewidth": 0,
             "ticks": ""
            },
            "colorscale": [
             [
              0,
              "#0d0887"
             ],
             [
              0.1111111111111111,
              "#46039f"
             ],
             [
              0.2222222222222222,
              "#7201a8"
             ],
             [
              0.3333333333333333,
              "#9c179e"
             ],
             [
              0.4444444444444444,
              "#bd3786"
             ],
             [
              0.5555555555555556,
              "#d8576b"
             ],
             [
              0.6666666666666666,
              "#ed7953"
             ],
             [
              0.7777777777777778,
              "#fb9f3a"
             ],
             [
              0.8888888888888888,
              "#fdca26"
             ],
             [
              1,
              "#f0f921"
             ]
            ],
            "type": "contour"
           }
          ],
          "contourcarpet": [
           {
            "colorbar": {
             "outlinewidth": 0,
             "ticks": ""
            },
            "type": "contourcarpet"
           }
          ],
          "heatmap": [
           {
            "colorbar": {
             "outlinewidth": 0,
             "ticks": ""
            },
            "colorscale": [
             [
              0,
              "#0d0887"
             ],
             [
              0.1111111111111111,
              "#46039f"
             ],
             [
              0.2222222222222222,
              "#7201a8"
             ],
             [
              0.3333333333333333,
              "#9c179e"
             ],
             [
              0.4444444444444444,
              "#bd3786"
             ],
             [
              0.5555555555555556,
              "#d8576b"
             ],
             [
              0.6666666666666666,
              "#ed7953"
             ],
             [
              0.7777777777777778,
              "#fb9f3a"
             ],
             [
              0.8888888888888888,
              "#fdca26"
             ],
             [
              1,
              "#f0f921"
             ]
            ],
            "type": "heatmap"
           }
          ],
          "heatmapgl": [
           {
            "colorbar": {
             "outlinewidth": 0,
             "ticks": ""
            },
            "colorscale": [
             [
              0,
              "#0d0887"
             ],
             [
              0.1111111111111111,
              "#46039f"
             ],
             [
              0.2222222222222222,
              "#7201a8"
             ],
             [
              0.3333333333333333,
              "#9c179e"
             ],
             [
              0.4444444444444444,
              "#bd3786"
             ],
             [
              0.5555555555555556,
              "#d8576b"
             ],
             [
              0.6666666666666666,
              "#ed7953"
             ],
             [
              0.7777777777777778,
              "#fb9f3a"
             ],
             [
              0.8888888888888888,
              "#fdca26"
             ],
             [
              1,
              "#f0f921"
             ]
            ],
            "type": "heatmapgl"
           }
          ],
          "histogram": [
           {
            "marker": {
             "pattern": {
              "fillmode": "overlay",
              "size": 10,
              "solidity": 0.2
             }
            },
            "type": "histogram"
           }
          ],
          "histogram2d": [
           {
            "colorbar": {
             "outlinewidth": 0,
             "ticks": ""
            },
            "colorscale": [
             [
              0,
              "#0d0887"
             ],
             [
              0.1111111111111111,
              "#46039f"
             ],
             [
              0.2222222222222222,
              "#7201a8"
             ],
             [
              0.3333333333333333,
              "#9c179e"
             ],
             [
              0.4444444444444444,
              "#bd3786"
             ],
             [
              0.5555555555555556,
              "#d8576b"
             ],
             [
              0.6666666666666666,
              "#ed7953"
             ],
             [
              0.7777777777777778,
              "#fb9f3a"
             ],
             [
              0.8888888888888888,
              "#fdca26"
             ],
             [
              1,
              "#f0f921"
             ]
            ],
            "type": "histogram2d"
           }
          ],
          "histogram2dcontour": [
           {
            "colorbar": {
             "outlinewidth": 0,
             "ticks": ""
            },
            "colorscale": [
             [
              0,
              "#0d0887"
             ],
             [
              0.1111111111111111,
              "#46039f"
             ],
             [
              0.2222222222222222,
              "#7201a8"
             ],
             [
              0.3333333333333333,
              "#9c179e"
             ],
             [
              0.4444444444444444,
              "#bd3786"
             ],
             [
              0.5555555555555556,
              "#d8576b"
             ],
             [
              0.6666666666666666,
              "#ed7953"
             ],
             [
              0.7777777777777778,
              "#fb9f3a"
             ],
             [
              0.8888888888888888,
              "#fdca26"
             ],
             [
              1,
              "#f0f921"
             ]
            ],
            "type": "histogram2dcontour"
           }
          ],
          "mesh3d": [
           {
            "colorbar": {
             "outlinewidth": 0,
             "ticks": ""
            },
            "type": "mesh3d"
           }
          ],
          "parcoords": [
           {
            "line": {
             "colorbar": {
              "outlinewidth": 0,
              "ticks": ""
             }
            },
            "type": "parcoords"
           }
          ],
          "pie": [
           {
            "automargin": true,
            "type": "pie"
           }
          ],
          "scatter": [
           {
            "fillpattern": {
             "fillmode": "overlay",
             "size": 10,
             "solidity": 0.2
            },
            "type": "scatter"
           }
          ],
          "scatter3d": [
           {
            "line": {
             "colorbar": {
              "outlinewidth": 0,
              "ticks": ""
             }
            },
            "marker": {
             "colorbar": {
              "outlinewidth": 0,
              "ticks": ""
             }
            },
            "type": "scatter3d"
           }
          ],
          "scattercarpet": [
           {
            "marker": {
             "colorbar": {
              "outlinewidth": 0,
              "ticks": ""
             }
            },
            "type": "scattercarpet"
           }
          ],
          "scattergeo": [
           {
            "marker": {
             "colorbar": {
              "outlinewidth": 0,
              "ticks": ""
             }
            },
            "type": "scattergeo"
           }
          ],
          "scattergl": [
           {
            "marker": {
             "colorbar": {
              "outlinewidth": 0,
              "ticks": ""
             }
            },
            "type": "scattergl"
           }
          ],
          "scattermapbox": [
           {
            "marker": {
             "colorbar": {
              "outlinewidth": 0,
              "ticks": ""
             }
            },
            "type": "scattermapbox"
           }
          ],
          "scatterpolar": [
           {
            "marker": {
             "colorbar": {
              "outlinewidth": 0,
              "ticks": ""
             }
            },
            "type": "scatterpolar"
           }
          ],
          "scatterpolargl": [
           {
            "marker": {
             "colorbar": {
              "outlinewidth": 0,
              "ticks": ""
             }
            },
            "type": "scatterpolargl"
           }
          ],
          "scatterternary": [
           {
            "marker": {
             "colorbar": {
              "outlinewidth": 0,
              "ticks": ""
             }
            },
            "type": "scatterternary"
           }
          ],
          "surface": [
           {
            "colorbar": {
             "outlinewidth": 0,
             "ticks": ""
            },
            "colorscale": [
             [
              0,
              "#0d0887"
             ],
             [
              0.1111111111111111,
              "#46039f"
             ],
             [
              0.2222222222222222,
              "#7201a8"
             ],
             [
              0.3333333333333333,
              "#9c179e"
             ],
             [
              0.4444444444444444,
              "#bd3786"
             ],
             [
              0.5555555555555556,
              "#d8576b"
             ],
             [
              0.6666666666666666,
              "#ed7953"
             ],
             [
              0.7777777777777778,
              "#fb9f3a"
             ],
             [
              0.8888888888888888,
              "#fdca26"
             ],
             [
              1,
              "#f0f921"
             ]
            ],
            "type": "surface"
           }
          ],
          "table": [
           {
            "cells": {
             "fill": {
              "color": "#EBF0F8"
             },
             "line": {
              "color": "white"
             }
            },
            "header": {
             "fill": {
              "color": "#C8D4E3"
             },
             "line": {
              "color": "white"
             }
            },
            "type": "table"
           }
          ]
         },
         "layout": {
          "annotationdefaults": {
           "arrowcolor": "#2a3f5f",
           "arrowhead": 0,
           "arrowwidth": 1
          },
          "autotypenumbers": "strict",
          "coloraxis": {
           "colorbar": {
            "outlinewidth": 0,
            "ticks": ""
           }
          },
          "colorscale": {
           "diverging": [
            [
             0,
             "#8e0152"
            ],
            [
             0.1,
             "#c51b7d"
            ],
            [
             0.2,
             "#de77ae"
            ],
            [
             0.3,
             "#f1b6da"
            ],
            [
             0.4,
             "#fde0ef"
            ],
            [
             0.5,
             "#f7f7f7"
            ],
            [
             0.6,
             "#e6f5d0"
            ],
            [
             0.7,
             "#b8e186"
            ],
            [
             0.8,
             "#7fbc41"
            ],
            [
             0.9,
             "#4d9221"
            ],
            [
             1,
             "#276419"
            ]
           ],
           "sequential": [
            [
             0,
             "#0d0887"
            ],
            [
             0.1111111111111111,
             "#46039f"
            ],
            [
             0.2222222222222222,
             "#7201a8"
            ],
            [
             0.3333333333333333,
             "#9c179e"
            ],
            [
             0.4444444444444444,
             "#bd3786"
            ],
            [
             0.5555555555555556,
             "#d8576b"
            ],
            [
             0.6666666666666666,
             "#ed7953"
            ],
            [
             0.7777777777777778,
             "#fb9f3a"
            ],
            [
             0.8888888888888888,
             "#fdca26"
            ],
            [
             1,
             "#f0f921"
            ]
           ],
           "sequentialminus": [
            [
             0,
             "#0d0887"
            ],
            [
             0.1111111111111111,
             "#46039f"
            ],
            [
             0.2222222222222222,
             "#7201a8"
            ],
            [
             0.3333333333333333,
             "#9c179e"
            ],
            [
             0.4444444444444444,
             "#bd3786"
            ],
            [
             0.5555555555555556,
             "#d8576b"
            ],
            [
             0.6666666666666666,
             "#ed7953"
            ],
            [
             0.7777777777777778,
             "#fb9f3a"
            ],
            [
             0.8888888888888888,
             "#fdca26"
            ],
            [
             1,
             "#f0f921"
            ]
           ]
          },
          "colorway": [
           "#636efa",
           "#EF553B",
           "#00cc96",
           "#ab63fa",
           "#FFA15A",
           "#19d3f3",
           "#FF6692",
           "#B6E880",
           "#FF97FF",
           "#FECB52"
          ],
          "font": {
           "color": "#2a3f5f"
          },
          "geo": {
           "bgcolor": "white",
           "lakecolor": "white",
           "landcolor": "#E5ECF6",
           "showlakes": true,
           "showland": true,
           "subunitcolor": "white"
          },
          "hoverlabel": {
           "align": "left"
          },
          "hovermode": "closest",
          "mapbox": {
           "style": "light"
          },
          "paper_bgcolor": "white",
          "plot_bgcolor": "#E5ECF6",
          "polar": {
           "angularaxis": {
            "gridcolor": "white",
            "linecolor": "white",
            "ticks": ""
           },
           "bgcolor": "#E5ECF6",
           "radialaxis": {
            "gridcolor": "white",
            "linecolor": "white",
            "ticks": ""
           }
          },
          "scene": {
           "xaxis": {
            "backgroundcolor": "#E5ECF6",
            "gridcolor": "white",
            "gridwidth": 2,
            "linecolor": "white",
            "showbackground": true,
            "ticks": "",
            "zerolinecolor": "white"
           },
           "yaxis": {
            "backgroundcolor": "#E5ECF6",
            "gridcolor": "white",
            "gridwidth": 2,
            "linecolor": "white",
            "showbackground": true,
            "ticks": "",
            "zerolinecolor": "white"
           },
           "zaxis": {
            "backgroundcolor": "#E5ECF6",
            "gridcolor": "white",
            "gridwidth": 2,
            "linecolor": "white",
            "showbackground": true,
            "ticks": "",
            "zerolinecolor": "white"
           }
          },
          "shapedefaults": {
           "line": {
            "color": "#2a3f5f"
           }
          },
          "ternary": {
           "aaxis": {
            "gridcolor": "white",
            "linecolor": "white",
            "ticks": ""
           },
           "baxis": {
            "gridcolor": "white",
            "linecolor": "white",
            "ticks": ""
           },
           "bgcolor": "#E5ECF6",
           "caxis": {
            "gridcolor": "white",
            "linecolor": "white",
            "ticks": ""
           }
          },
          "title": {
           "x": 0.05
          },
          "xaxis": {
           "automargin": true,
           "gridcolor": "white",
           "linecolor": "white",
           "ticks": "",
           "title": {
            "standoff": 15
           },
           "zerolinecolor": "white",
           "zerolinewidth": 2
          },
          "yaxis": {
           "automargin": true,
           "gridcolor": "white",
           "linecolor": "white",
           "ticks": "",
           "title": {
            "standoff": 15
           },
           "zerolinecolor": "white",
           "zerolinewidth": 2
          }
         }
        }
       }
      },
      "text/html": [
       "<div>                            <div id=\"7b115ec1-d366-4a51-9948-82e3474fde7f\" class=\"plotly-graph-div\" style=\"height:525px; width:100%;\"></div>            <script type=\"text/javascript\">                require([\"plotly\"], function(Plotly) {                    window.PLOTLYENV=window.PLOTLYENV || {};                                    if (document.getElementById(\"7b115ec1-d366-4a51-9948-82e3474fde7f\")) {                    Plotly.newPlot(                        \"7b115ec1-d366-4a51-9948-82e3474fde7f\",                        [{\"hovertemplate\":\"color=g<br>x=%{x}<br>y=%{y}<br>z=%{z}<extra></extra>\",\"legendgroup\":\"g\",\"marker\":{\"color\":\"#636efa\",\"symbol\":\"circle\"},\"mode\":\"markers\",\"name\":\"g\",\"scene\":\"scene\",\"showlegend\":true,\"x\":[-21.267044067382812,-36.06597137451172,-30.4609375,-26.903005599975586,-10.522098541259766,-11.172066688537598,-35.50358200073242,-33.579097747802734,-20.139205932617188,-34.801292419433594,-21.532691955566406,-20.048160552978516,-16.078256607055664,-31.024127960205078,-23.23345184326172,-26.53757095336914,-16.589069366455078,-20.381595611572266,-34.185394287109375,-24.680877685546875,-19.039701461791992,-13.879016876220703,-29.271230697631836,-23.27183723449707,-14.153593063354492,-13.993045806884766,-30.4713077545166,-25.72091293334961,-16.764545440673828,-27.04876136779785,-10.712099075317383,-21.01463508605957,-17.79693603515625,-35.17536544799805,-12.57739543914795,-0.7267776727676392,5.935863018035889,16.332124710083008,-17.974720001220703,10.653630256652832,-33.51859664916992,5.823702335357666,5.161942005157471,8.852254867553711,5.489107608795166,13.520792007446289,84.0427474975586,1.5232117176055908,6.861714839935303,-1.1105945110321045,8.21495246887207,9.992449760437012,18.044836044311523,-78.88306427001953,10.190162658691406,5.529528617858887,11.674993515014648,0.2912577986717224,7.53861141204834,0.6788923144340515,8.612034797668457,18.44590950012207,8.328204154968262,4.20270299911499,-21.77710723876953,14.427577018737793,8.52342414855957,2.0907599925994873,15.868163108825684,-16.81120491027832,5.799005508422852,9.22774600982666,14.33255386352539,31.768972396850586,23.564762115478516,2.241644859313965,26.291427612304688,17.254390716552734,27.136953353881836,9.360555648803711,32.198673248291016,27.159940719604492,2.696962833404541,32.37428665161133,12.890089988708496,13.936925888061523,21.662534713745117,14.997796058654785,19.37211799621582,16.300519943237305,30.79879379272461,10.139127731323242,13.97585391998291,27.999364852905273,1.4961940050125122,22.074153900146484,27.603469848632812,21.30132293701172,17.395112991333008,25.706993103027344,20.618406295776367,40.476531982421875,23.39597511291504,-1.2226147651672363,42.715972900390625,24.45811653137207,28.866249084472656,27.462055206298828,24.23588752746582,25.928308486938477,27.226430892944336,37.98743438720703,44.27800750732422,40.40578842163086,28.68001365661621,30.1612491607666,18.483291625976562,34.13698196411133,39.1591682434082,42.29051971435547,36.865142822265625,37.22797393798828,39.96656799316406,30.027252197265625,38.88172149658203,33.42483901977539,43.09455871582031,-22.969045639038086,-22.53413963317871,-24.733917236328125,-32.07025146484375,-17.431264877319336,-10.650376319885254,-8.499683380126953,-28.772064208984375,-17.90882110595703,-20.731657028198242,-38.12913131713867,2.7441911697387695,-24.07947540283203,-32.08818054199219,-5.673862934112549,-21.81537628173828,-30.40770149230957,-29.06601333618164,-23.45379638671875,-17.01804542541504,-30.721755981445312,-31.2700138092041,-25.28873062133789,-23.773422241210938,-9.347555160522461,-29.65091896057129,-12.104231834411621,-18.506410598754883,-18.277950286865234,-15.310219764709473,-24.413591384887695,-17.080352783203125,-19.528425216674805,-27.129587173461914,3.749504804611206,19.652210235595703,4.860600471496582,4.800532817840576,4.240396022796631,7.389786243438721,10.786006927490234,6.2144598960876465,2.0858445167541504,8.709144592285156,6.604032039642334,4.337176322937012,6.2634406089782715,9.799295425415039,10.572393417358398,7.155150413513184,1.898878812789917,3.91137957572937,13.471965789794922,9.896615028381348,12.062995910644531,29.08721351623535,29.612564086914062,29.7270450592041,21.73213768005371,32.26485824584961,32.223934173583984,32.368988037109375,25.03771209716797,17.18193244934082,25.369630813598633,31.42034339904785,40.799686431884766,23.816953659057617,24.764509201049805,-34.1065559387207,27.049915313720703,33.74729919433594,36.472755432128906,32.0174446105957,44.705406188964844,27.09748649597168,25.400440216064453,25.914587020874023,45.45392608642578],\"y\":[35.922725677490234,14.13102912902832,13.935522079467773,25.9504451751709,43.85566711425781,11.42887020111084,18.056838989257812,7.506102561950684,36.57126235961914,9.252019882202148,7.943752765655518,27.100460052490234,8.681744575500488,24.486465454101562,32.311370849609375,22.035154342651367,15.552287101745605,28.93560028076172,19.651897430419922,18.97339630126953,2.160881519317627,42.3321533203125,3.193222999572754,29.411508560180664,12.817761421203613,40.591495513916016,24.410675048828125,3.878140449523926,38.24163818359375,21.37002944946289,10.919054985046387,33.46477508544922,42.6595573425293,2.8495986461639404,7.073983669281006,6.204806804656982,31.711185455322266,13.306443214416504,2.2028632164001465,-4.577503204345703,16.597509384155273,38.8298454284668,35.662445068359375,1.3824677467346191,23.091190338134766,4.3916754722595215,66.60557556152344,9.737428665161133,12.725150108337402,42.7652702331543,7.599973201751709,24.586780548095703,-7.534989356994629,25.59372901916504,14.551630020141602,30.360595703125,21.911224365234375,4.110654830932617,11.905198097229004,9.819938659667969,32.29173278808594,-0.3799690008163452,-7.851871967315674,1.9403424263000488,4.729564189910889,59.75038528442383,31.439054489135742,12.256580352783203,-6.681667327880859,6.130126476287842,5.807104110717773,32.159027099609375,6.796523094177246,-5.971858501434326,22.654258728027344,-4.707040309906006,7.5764241218566895,23.846031188964844,2.9488532543182373,27.096084594726562,-11.50830364227295,2.331176996231079,-6.083141326904297,-7.422783851623535,27.341739654541016,22.654117584228516,-1.8572121858596802,19.930757522583008,17.647409439086914,16.641969680786133,1.8261659145355225,23.567323684692383,17.278886795043945,6.935790538787842,-8.69201946258545,16.522836685180664,-1.164661169052124,12.344599723815918,14.271845817565918,-0.6366279721260071,13.294169425964355,12.779515266418457,9.386844635009766,-3.641934394836426,8.252523422241211,22.371288299560547,25.149538040161133,23.606521606445312,21.57587242126465,18.655899047851562,21.42276954650879,7.235989570617676,10.706573486328125,10.95085334777832,8.201926231384277,11.915243148803711,42.641414642333984,8.700462341308594,13.746968269348145,7.1556925773620605,10.78486442565918,14.91001033782959,9.748248100280762,10.594999313354492,7.296443939208984,13.833026885986328,11.936604499816895,32.13788604736328,28.855127334594727,6.2822065353393555,1.553058385848999,30.62104606628418,39.981258392333984,43.24763107299805,3.967867612838745,40.68608093261719,31.368810653686523,17.157428741455078,27.957015991210938,19.151569366455078,6.475119590759277,42.44248962402344,2.4901180267333984,9.720891952514648,3.7551586627960205,22.970993041992188,4.806143760681152,4.845126628875732,10.687250137329102,4.327755928039551,26.4428653717041,36.71547317504883,5.603481769561768,37.264373779296875,31.3853702545166,0.16408143937587738,44.56779861450195,33.03150939941406,33.856571197509766,35.442752838134766,8.019692420959473,-8.85015869140625,-3.184669017791748,-3.8456530570983887,5.297758102416992,34.92172622680664,36.927059173583984,-5.297547817230225,17.427650451660156,13.918794631958008,35.007896423339844,-3.9760918617248535,16.162832260131836,35.57892990112305,-1.3451337814331055,8.251192092895508,9.0260009765625,-1.2618411779403687,40.40031433105469,-1.767958641052246,18.514169692993164,24.223388671875,-4.048883438110352,0.7570634484291077,-0.45229485630989075,20.76923179626465,-2.3073678016662598,-11.760886192321777,-2.266845226287842,12.259390830993652,19.423126220703125,9.192879676818848,2.7518935203552246,10.214640617370605,22.30584716796875,25.335994720458984,-14.465846061706543,24.448200225830078,9.540753364562988,11.08519458770752,8.542003631591797,11.151013374328613,11.940046310424805,14.31509017944336,10.101239204406738,10.8375883102417],\"z\":[5.8168253898620605,-21.3820858001709,-26.02112579345703,-21.729238510131836,-3.7784321308135986,-30.573514938354492,-23.78899383544922,-21.12174415588379,0.4842860996723175,-24.413700103759766,-29.579225540161133,-17.21922492980957,-29.19700050354004,-22.764877319335938,-3.4071192741394043,-20.095991134643555,-26.840534210205078,-12.876431465148926,-20.992544174194336,-22.112937927246094,-24.928831100463867,1.3392982482910156,-9.661981582641602,-0.8353308439254761,-28.130165100097656,-3.5932059288024902,-19.014638900756836,-9.01623821258545,-1.315071940422058,-24.522563934326172,-27.052629470825195,-7.873538494110107,0.6900990009307861,-5.049018859863281,-29.092561721801758,-31.185924530029297,-17.988819122314453,-21.65678596496582,-4.545928478240967,-33.67805862426758,73.8567886352539,-9.526837348937988,-7.167135715484619,-34.627174377441406,-20.917863845825195,-29.894676208496094,-2.0550172328948975,-26.99646759033203,-23.70884132385254,-5.417999267578125,-32.647544860839844,-17.037246704101562,-31.62060546875,239.716796875,-21.366243362426758,-14.253371238708496,-17.414480209350586,-34.23719787597656,-27.826797485351562,-30.948036193847656,-3.680274248123169,-30.74943733215332,-35.562347412109375,-36.585018157958984,-7.637720108032227,-16.906269073486328,-10.280692100524902,-23.622650146484375,-34.36848831176758,-6.230306625366211,-30.726350784301758,-15.312973022460938,-32.0279541015625,-18.60561180114746,3.239884376525879,-6.217715263366699,-16.355648040771484,-0.350166916847229,-21.037330627441406,-0.3802046477794647,-16.73946189880371,-16.75409507751465,-9.98575496673584,-22.44613265991211,-2.1022424697875977,-4.4007110595703125,-29.55804443359375,-1.6893768310546875,-1.510080337524414,-9.639875411987305,-19.199848175048828,-2.9411470890045166,-6.211831569671631,-11.248101234436035,-7.272939682006836,-4.252840042114258,-19.198013305664062,-6.047015190124512,-6.7096734046936035,-22.951927185058594,-9.668194770812988,6.791210651397705,-16.8520450592041,-7.881289005279541,19.625478744506836,19.32184600830078,11.213606834411621,15.163322448730469,14.672515869140625,17.125629425048828,10.860676765441895,27.322982788085938,16.687564849853516,24.091432571411133,19.75490379333496,14.358061790466309,-25.78754997253418,25.26527976989746,10.936766624450684,25.10773468017578,8.950390815734863,6.995655536651611,12.114498138427734,22.43658447265625,22.58118438720703,9.737666130065918,11.745050430297852,5.454796314239502,-6.674811840057373,-30.735986709594727,-5.778939247131348,-13.654102325439453,-8.963502883911133,-7.693188190460205,-28.425596237182617,-4.013869762420654,2.271423578262329,-20.86273193359375,-19.872522354125977,-26.11638641357422,-27.472850799560547,-5.673404693603516,-28.270822525024414,-23.982465744018555,-13.735467910766602,-23.01707649230957,-28.57994270324707,-17.739055633544922,-28.10502052307129,-26.07408332824707,-18.22887420654297,-10.5384521484375,-24.316556930541992,-12.276164054870605,-4.994287014007568,-27.81255340576172,-1.821712613105774,1.8572583198547363,-7.605228424072266,-4.760988235473633,-27.72223663330078,-36.56403732299805,-32.723201751708984,-38.18871307373047,-34.71680450439453,-12.17208194732666,-3.020695447921753,-37.81449890136719,-20.61493492126465,-27.192346572875977,-12.330978393554688,-34.49563217163086,-24.00265884399414,-15.712998390197754,-37.235286712646484,-28.864561080932617,-25.533395767211914,-36.0584831237793,-5.590236186981201,-35.61910629272461,-20.79570770263672,0.575212836265564,-22.87643051147461,-23.704357147216797,-12.970426559448242,-0.7846923470497131,-21.034500122070312,-20.091135025024414,-15.569310188293457,-7.930481433868408,-5.5041680335998535,-12.392892837524414,-12.530016899108887,29.63280487060547,8.287672996520996,11.059225082397461,-19.41793441772461,7.351991176605225,13.108871459960938,27.871444702148438,16.657373428344727,26.320215225219727,18.87700843811035,21.598779678344727,22.874103546142578,22.31829071044922],\"type\":\"scatter3d\"},{\"hovertemplate\":\"color=b<br>x=%{x}<br>y=%{y}<br>z=%{z}<extra></extra>\",\"legendgroup\":\"b\",\"marker\":{\"color\":\"#EF553B\",\"symbol\":\"circle\"},\"mode\":\"markers\",\"name\":\"b\",\"scene\":\"scene\",\"showlegend\":true,\"x\":[-16.822650909423828,-49.39965057373047,-42.795692443847656,-21.344249725341797,-25.461931228637695,-17.483646392822266,-32.733314514160156,-24.241518020629883,-31.977890014648438,-36.49922561645508,-45.48850631713867,-19.285551071166992,-46.284759521484375,-23.104211807250977,-20.900346755981445,-23.937450408935547,-31.07014274597168,-31.920787811279297,-40.64645767211914,-38.054603576660156,-47.17422866821289,-27.272750854492188,-13.470775604248047,-47.790645599365234,-14.55036735534668,-33.91830062866211,-46.7971305847168,-21.803001403808594,-46.36410140991211,-18.646787643432617,-21.651941299438477,0.4075632095336914,-13.981273651123047,0.3447377681732178,-18.89834213256836,-16.19564437866211,3.140899419784546,-22.55308723449707,-22.65562629699707,-0.060101576149463654,-0.7936458587646484,-17.555368423461914,-10.721659660339355,-16.148483276367188,-22.341880798339844,-22.72369956970215,-13.028511047363281,-8.545669555664062,-13.910672187805176,0.5921189188957214,-14.52842903137207,-18.264860153198242,-22.563655853271484,0.20385026931762695,-4.701167583465576,1.6178152561187744,-18.903366088867188,24.573030471801758,15.339200019836426,23.716899871826172,9.47315788269043,15.595996856689453,11.48470687866211,11.878907203674316,20.043367385864258,10.031150817871094,5.852301120758057,8.84896469116211,4.991186618804932,-12.906111717224121,5.038982391357422,6.433780193328857,8.879339218139648,16.403331756591797,12.368870735168457,7.219574451446533,8.58479118347168,12.237604141235352,18.185205459594727,7.0952863693237305,23.871938705444336,-21.064739227294922,-18.615015029907227,-9.400259971618652,-27.591981887817383,-46.00606155395508,-26.467159271240234,-11.377697944641113,-28.746112823486328,-42.43263626098633,-12.118288040161133,-36.13899612426758,-24.882373809814453,-40.333988189697266,-29.823400497436523,-456.2898864746094,7.38869047164917,-18.51105308532715,-20.316526412963867,-38.623165130615234,-13.736462593078613,-41.04960250854492,-16.34224510192871,-11.020339965820312,-7.910359859466553,-32.941097259521484,-16.397624969482422,-18.877254486083984,-6.485118389129639,-19.89840316772461,-18.467571258544922,-2.8718912601470947,-4.004284381866455,2.619084358215332,-15.076781272888184,0.08586261421442032,-1.284684419631958,2.394094228744507,-17.82406997680664,3.1057519912719727,-20.834470748901367,-6.645021438598633,-0.9430211186408997,-17.268545150756836,3.4498560428619385,6.338685512542725,5.577123165130615,20.71617889404297,6.600318431854248],\"y\":[-28.599925994873047,-10.496481895446777,-0.7150207757949829,-30.018110275268555,-14.783294677734375,-27.7197265625,-4.371962547302246,-22.510534286499023,-0.6587179899215698,-10.558356285095215,-9.403033256530762,-25.21457862854004,1.4767169952392578,-18.64919662475586,53.378841400146484,-16.058134078979492,-8.236431121826172,-11.5612154006958,-2.9173927307128906,-9.13534164428711,-5.571140766143799,-20.627683639526367,-20.01321029663086,-8.554363250732422,-9.778741836547852,-0.16450761258602142,-2.169846296310425,-14.032255172729492,2.629030466079712,-15.422771453857422,0.4951074421405792,1.8972957134246826,3.1074705123901367,6.443424224853516,-17.389612197875977,-8.611226081848145,0.44145891070365906,-15.357054710388184,1.8845208883285522,-1.3469034433364868,8.65053653717041,-0.8942708373069763,4.376777648925781,1.5898655652999878,-17.511959075927734,-2.7408711910247803,4.913856506347656,4.290068626403809,-3.8257787227630615,-2.369314432144165,2.587691068649292,-19.9576358795166,-13.174420356750488,2.9193058013916016,5.921625137329102,-1.6807132959365845,-13.157781600952148,-13.22385311126709,-14.928306579589844,-14.00196361541748,-5.553106784820557,-12.852591514587402,-14.624302864074707,-16.989368438720703,-16.535179138183594,-17.343385696411133,-16.828969955444336,-16.676023483276367,-16.708698272705078,-7.712678909301758,-6.246535301208496,-20.16769027709961,-13.669449806213379,-16.477487564086914,-16.12377166748047,-13.929681777954102,-19.734310150146484,-20.389284133911133,-13.305061340332031,-9.958097457885742,-16.979398727416992,-26.404216766357422,-13.605611801147461,-15.183632850646973,-12.173080444335938,-12.32067584991455,-8.881789207458496,-11.7959566116333,-7.807506084442139,3.2678065299987793,-16.515052795410156,-4.6959357261657715,-8.47089958190918,-5.3941521644592285,-11.922337532043457,-302.0281982421875,-60.05851364135742,-15.538965225219727,-11.413725852966309,0.5542541742324829,-14.24774169921875,-10.682809829711914,-24.83991813659668,-18.71875762939453,-20.037574768066406,-9.220967292785645,-12.353191375732422,5.030978679656982,5.7682414054870605,-4.207118988037109,3.0606532096862793,3.2834300994873047,1.1891841888427734,-21.629451751708984,7.338028907775879,-21.39366912841797,1.470876693725586,-24.639142990112305,-0.4972001910209656,1.4655126333236694,-7.7200164794921875,1.4166902303695679,-24.354713439941406,5.381312370300293,-39.685157775878906,-3.161134958267212,-6.502359390258789,-14.517918586730957,-6.617073059082031],\"z\":[33.52610397338867,2.444183588027954,-4.472977161407471,31.861804962158203,32.748905181884766,37.189815521240234,3.851856231689453,31.61870002746582,1.6737146377563477,5.405576229095459,1.7811448574066162,31.78816795349121,-5.672760963439941,31.9556884765625,125.64574432373047,36.20995330810547,32.89856719970703,35.27460479736328,1.9910587072372437,8.647953987121582,0.6054890751838684,30.741924285888672,42.24124526977539,5.616896629333496,43.90907669067383,-1.1675693988800049,-2.5310606956481934,33.8502197265625,-1.7316131591796875,10.74067497253418,10.418437004089355,20.7386474609375,-2.426177740097046,23.54466438293457,6.714169025421143,9.173133850097656,28.313512802124023,6.034440517425537,6.306940078735352,30.684783935546875,21.458824157714844,6.155144214630127,36.29490280151367,0.8089843392372131,9.657200813293457,8.167305946350098,1.280754566192627,32.32023239135742,6.946134090423584,26.626850128173828,4.64308500289917,10.417008399963379,9.823871612548828,31.12822914123535,32.096405029296875,22.033491134643555,7.1384382247924805,11.82937240600586,15.885846138000488,7.990316390991211,4.314609050750732,9.797197341918945,19.636438369750977,27.046123504638672,7.298007965087891,23.556074142456055,28.855613708496094,31.980281829833984,33.5184326171875,8.310609817504883,25.667417526245117,33.03346633911133,28.54404640197754,10.189713478088379,14.70949935913086,25.040786743164062,28.498260498046875,30.87400245666504,6.954226016998291,25.21449089050293,10.863962173461914,34.73118209838867,42.36494445800781,44.201019287109375,36.05021667480469,4.63361120223999,33.655784606933594,42.43116760253906,37.17819595336914,-4.306389808654785,41.04791259765625,4.633265018463135,37.542198181152344,4.993454456329346,31.67388916015625,-1184.2711181640625,122.69407653808594,39.08221435546875,39.4496955871582,-1.7963697910308838,44.6135368347168,6.116008758544922,35.10211181640625,45.73445510864258,43.604400634765625,7.021518230438232,39.048946380615234,-1.6818139553070068,36.01001739501953,11.153938293457031,7.111074447631836,35.0716552734375,31.048648834228516,39.19319534301758,-2.389935255050659,42.48314666748047,27.38381576538086,41.99031066894531,10.200085639953613,24.043920516967773,9.874095916748047,34.848243713378906,39.60695266723633,2.5961873531341553,28.51122283935547,4.971691131591797,2.7791099548339844,12.18494701385498,6.987124919891357],\"type\":\"scatter3d\"},{\"hovertemplate\":\"color=r<br>x=%{x}<br>y=%{y}<br>z=%{z}<extra></extra>\",\"legendgroup\":\"r\",\"marker\":{\"color\":\"#00cc96\",\"symbol\":\"circle\"},\"mode\":\"markers\",\"name\":\"r\",\"scene\":\"scene\",\"showlegend\":true,\"x\":[9.107170104980469,4.6845927238464355,6.0786261558532715,12.687679290771484,7.3835129737854,13.81178092956543,9.502975463867188,8.833601951599121,4.1392502784729,12.335711479187012,23.544315338134766,-6.668420314788818,3.1785666942596436,36.8121337890625,-6.940609931945801,2.167938709259033,-5.020781993865967,-11.989901542663574,-9.028367042541504,4.969753265380859,-13.640060424804688,25.876117706298828,-0.5617701411247253,9.07393741607666,11.781044006347656,24.084733963012695,-8.347626686096191,2.4779205322265625,-5.4254655838012695,-0.3685187101364136,-13.536191940307617,-14.889735221862793,-1.512008786201477,-10.572601318359375,7.063409328460693,8.019389152526855,11.630135536193848,7.181481838226318,46.00409698486328,7.644443511962891,-16.012794494628906,10.322341918945312,-12.858540534973145,-2.3237509727478027,5.5148396492004395,5.692639350891113,10.46607780456543,-7.399155616760254,12.236316680908203,7.331542015075684,13.824715614318848,-13.054549217224121,33.052799224853516,2.9771065711975098,-4.404337406158447,-11.873586654663086,37.264034271240234,4.391490459442139,-16.661724090576172,-9.645992279052734,-93.683837890625,-7.636730194091797,0.5679864883422852,25.26010513305664,-14.055168151855469,-10.169634819030762,5.8452277183532715,22.284929275512695],\"y\":[-6.172765731811523,-8.096137046813965,-8.648439407348633,-12.295158386230469,-12.351204872131348,-10.344816207885742,-9.094193458557129,-9.549301147460938,-12.588605880737305,-34.130340576171875,10.071693420410156,-38.8309211730957,-22.717079162597656,-17.417682647705078,-41.327674865722656,-35.7883186340332,-27.92157554626465,-40.47600555419922,-35.46875,19.855892181396484,-45.999088287353516,9.282002449035645,-34.81201934814453,-24.99074935913086,-15.741121292114258,12.40717887878418,-37.43214416503906,-29.14955711364746,-39.841636657714844,-32.43231964111328,-42.054561614990234,-44.781185150146484,-36.96426010131836,-40.94893264770508,-32.7647590637207,-36.53717803955078,-30.32036018371582,-15.248553276062012,-33.2227783203125,-30.326932907104492,-45.257266998291016,-31.926437377929688,-45.8526725769043,-23.79541015625,-35.245704650878906,-18.015134811401367,-26.92793846130371,-36.67508316040039,-18.587879180908203,-35.80337905883789,-14.149086952209473,-50.34455490112305,9.217255592346191,-30.80486488342285,-35.02500534057617,-42.593475341796875,9.137520790100098,-33.080814361572266,-48.06392288208008,-43.8515739440918,-63.7742805480957,-32.8321647644043,3.7214879989624023,13.486228942871094,-48.9123420715332,-46.39421844482422,-27.901395797729492,11.583477973937988],\"z\":[-0.7241188883781433,-4.063405513763428,-7.591188907623291,0.7650196552276611,-4.324703216552734,3.8012237548828125,-3.1974411010742188,1.238881230354309,-9.934831619262695,-4.7493462562561035,29.95144271850586,-6.5864386558532715,-11.774182319641113,20.951534271240234,2.5580832958221436,-3.1622493267059326,-11.894947052001953,-0.763357937335968,-6.574005126953125,28.48706817626953,6.0969953536987305,34.30753707885742,-9.569856643676758,-7.908479690551758,8.332138061523438,33.023277282714844,-2.4932162761688232,-13.76860237121582,-1.603881597518921,-12.251422882080078,5.507862567901611,1.2219104766845703,-4.022248268127441,-4.116950511932373,-8.447087287902832,4.959840774536133,-5.893196105957031,-8.043238639831543,20.290987014770508,-5.420224189758301,10.746309280395508,-2.3039586544036865,13.510771751403809,-12.343932151794434,-4.137907981872559,-9.895276069641113,-10.274495124816895,-10.347251892089844,19.297513961791992,0.693530797958374,4.265190124511719,16.33561134338379,31.5484561920166,-9.175715446472168,-6.804567813873291,9.073599815368652,31.895126342773438,-11.932153701782227,14.655389785766602,5.779026508331299,12.392186164855957,-9.701878547668457,-6.171171188354492,26.468914031982422,10.824557304382324,9.166852951049805,-11.992980003356934,25.558242797851562],\"type\":\"scatter3d\"}],                        {\"template\":{\"data\":{\"histogram2dcontour\":[{\"type\":\"histogram2dcontour\",\"colorbar\":{\"outlinewidth\":0,\"ticks\":\"\"},\"colorscale\":[[0.0,\"#0d0887\"],[0.1111111111111111,\"#46039f\"],[0.2222222222222222,\"#7201a8\"],[0.3333333333333333,\"#9c179e\"],[0.4444444444444444,\"#bd3786\"],[0.5555555555555556,\"#d8576b\"],[0.6666666666666666,\"#ed7953\"],[0.7777777777777778,\"#fb9f3a\"],[0.8888888888888888,\"#fdca26\"],[1.0,\"#f0f921\"]]}],\"choropleth\":[{\"type\":\"choropleth\",\"colorbar\":{\"outlinewidth\":0,\"ticks\":\"\"}}],\"histogram2d\":[{\"type\":\"histogram2d\",\"colorbar\":{\"outlinewidth\":0,\"ticks\":\"\"},\"colorscale\":[[0.0,\"#0d0887\"],[0.1111111111111111,\"#46039f\"],[0.2222222222222222,\"#7201a8\"],[0.3333333333333333,\"#9c179e\"],[0.4444444444444444,\"#bd3786\"],[0.5555555555555556,\"#d8576b\"],[0.6666666666666666,\"#ed7953\"],[0.7777777777777778,\"#fb9f3a\"],[0.8888888888888888,\"#fdca26\"],[1.0,\"#f0f921\"]]}],\"heatmap\":[{\"type\":\"heatmap\",\"colorbar\":{\"outlinewidth\":0,\"ticks\":\"\"},\"colorscale\":[[0.0,\"#0d0887\"],[0.1111111111111111,\"#46039f\"],[0.2222222222222222,\"#7201a8\"],[0.3333333333333333,\"#9c179e\"],[0.4444444444444444,\"#bd3786\"],[0.5555555555555556,\"#d8576b\"],[0.6666666666666666,\"#ed7953\"],[0.7777777777777778,\"#fb9f3a\"],[0.8888888888888888,\"#fdca26\"],[1.0,\"#f0f921\"]]}],\"heatmapgl\":[{\"type\":\"heatmapgl\",\"colorbar\":{\"outlinewidth\":0,\"ticks\":\"\"},\"colorscale\":[[0.0,\"#0d0887\"],[0.1111111111111111,\"#46039f\"],[0.2222222222222222,\"#7201a8\"],[0.3333333333333333,\"#9c179e\"],[0.4444444444444444,\"#bd3786\"],[0.5555555555555556,\"#d8576b\"],[0.6666666666666666,\"#ed7953\"],[0.7777777777777778,\"#fb9f3a\"],[0.8888888888888888,\"#fdca26\"],[1.0,\"#f0f921\"]]}],\"contourcarpet\":[{\"type\":\"contourcarpet\",\"colorbar\":{\"outlinewidth\":0,\"ticks\":\"\"}}],\"contour\":[{\"type\":\"contour\",\"colorbar\":{\"outlinewidth\":0,\"ticks\":\"\"},\"colorscale\":[[0.0,\"#0d0887\"],[0.1111111111111111,\"#46039f\"],[0.2222222222222222,\"#7201a8\"],[0.3333333333333333,\"#9c179e\"],[0.4444444444444444,\"#bd3786\"],[0.5555555555555556,\"#d8576b\"],[0.6666666666666666,\"#ed7953\"],[0.7777777777777778,\"#fb9f3a\"],[0.8888888888888888,\"#fdca26\"],[1.0,\"#f0f921\"]]}],\"surface\":[{\"type\":\"surface\",\"colorbar\":{\"outlinewidth\":0,\"ticks\":\"\"},\"colorscale\":[[0.0,\"#0d0887\"],[0.1111111111111111,\"#46039f\"],[0.2222222222222222,\"#7201a8\"],[0.3333333333333333,\"#9c179e\"],[0.4444444444444444,\"#bd3786\"],[0.5555555555555556,\"#d8576b\"],[0.6666666666666666,\"#ed7953\"],[0.7777777777777778,\"#fb9f3a\"],[0.8888888888888888,\"#fdca26\"],[1.0,\"#f0f921\"]]}],\"mesh3d\":[{\"type\":\"mesh3d\",\"colorbar\":{\"outlinewidth\":0,\"ticks\":\"\"}}],\"scatter\":[{\"fillpattern\":{\"fillmode\":\"overlay\",\"size\":10,\"solidity\":0.2},\"type\":\"scatter\"}],\"parcoords\":[{\"type\":\"parcoords\",\"line\":{\"colorbar\":{\"outlinewidth\":0,\"ticks\":\"\"}}}],\"scatterpolargl\":[{\"type\":\"scatterpolargl\",\"marker\":{\"colorbar\":{\"outlinewidth\":0,\"ticks\":\"\"}}}],\"bar\":[{\"error_x\":{\"color\":\"#2a3f5f\"},\"error_y\":{\"color\":\"#2a3f5f\"},\"marker\":{\"line\":{\"color\":\"#E5ECF6\",\"width\":0.5},\"pattern\":{\"fillmode\":\"overlay\",\"size\":10,\"solidity\":0.2}},\"type\":\"bar\"}],\"scattergeo\":[{\"type\":\"scattergeo\",\"marker\":{\"colorbar\":{\"outlinewidth\":0,\"ticks\":\"\"}}}],\"scatterpolar\":[{\"type\":\"scatterpolar\",\"marker\":{\"colorbar\":{\"outlinewidth\":0,\"ticks\":\"\"}}}],\"histogram\":[{\"marker\":{\"pattern\":{\"fillmode\":\"overlay\",\"size\":10,\"solidity\":0.2}},\"type\":\"histogram\"}],\"scattergl\":[{\"type\":\"scattergl\",\"marker\":{\"colorbar\":{\"outlinewidth\":0,\"ticks\":\"\"}}}],\"scatter3d\":[{\"type\":\"scatter3d\",\"line\":{\"colorbar\":{\"outlinewidth\":0,\"ticks\":\"\"}},\"marker\":{\"colorbar\":{\"outlinewidth\":0,\"ticks\":\"\"}}}],\"scattermapbox\":[{\"type\":\"scattermapbox\",\"marker\":{\"colorbar\":{\"outlinewidth\":0,\"ticks\":\"\"}}}],\"scatterternary\":[{\"type\":\"scatterternary\",\"marker\":{\"colorbar\":{\"outlinewidth\":0,\"ticks\":\"\"}}}],\"scattercarpet\":[{\"type\":\"scattercarpet\",\"marker\":{\"colorbar\":{\"outlinewidth\":0,\"ticks\":\"\"}}}],\"carpet\":[{\"aaxis\":{\"endlinecolor\":\"#2a3f5f\",\"gridcolor\":\"white\",\"linecolor\":\"white\",\"minorgridcolor\":\"white\",\"startlinecolor\":\"#2a3f5f\"},\"baxis\":{\"endlinecolor\":\"#2a3f5f\",\"gridcolor\":\"white\",\"linecolor\":\"white\",\"minorgridcolor\":\"white\",\"startlinecolor\":\"#2a3f5f\"},\"type\":\"carpet\"}],\"table\":[{\"cells\":{\"fill\":{\"color\":\"#EBF0F8\"},\"line\":{\"color\":\"white\"}},\"header\":{\"fill\":{\"color\":\"#C8D4E3\"},\"line\":{\"color\":\"white\"}},\"type\":\"table\"}],\"barpolar\":[{\"marker\":{\"line\":{\"color\":\"#E5ECF6\",\"width\":0.5},\"pattern\":{\"fillmode\":\"overlay\",\"size\":10,\"solidity\":0.2}},\"type\":\"barpolar\"}],\"pie\":[{\"automargin\":true,\"type\":\"pie\"}]},\"layout\":{\"autotypenumbers\":\"strict\",\"colorway\":[\"#636efa\",\"#EF553B\",\"#00cc96\",\"#ab63fa\",\"#FFA15A\",\"#19d3f3\",\"#FF6692\",\"#B6E880\",\"#FF97FF\",\"#FECB52\"],\"font\":{\"color\":\"#2a3f5f\"},\"hovermode\":\"closest\",\"hoverlabel\":{\"align\":\"left\"},\"paper_bgcolor\":\"white\",\"plot_bgcolor\":\"#E5ECF6\",\"polar\":{\"bgcolor\":\"#E5ECF6\",\"angularaxis\":{\"gridcolor\":\"white\",\"linecolor\":\"white\",\"ticks\":\"\"},\"radialaxis\":{\"gridcolor\":\"white\",\"linecolor\":\"white\",\"ticks\":\"\"}},\"ternary\":{\"bgcolor\":\"#E5ECF6\",\"aaxis\":{\"gridcolor\":\"white\",\"linecolor\":\"white\",\"ticks\":\"\"},\"baxis\":{\"gridcolor\":\"white\",\"linecolor\":\"white\",\"ticks\":\"\"},\"caxis\":{\"gridcolor\":\"white\",\"linecolor\":\"white\",\"ticks\":\"\"}},\"coloraxis\":{\"colorbar\":{\"outlinewidth\":0,\"ticks\":\"\"}},\"colorscale\":{\"sequential\":[[0.0,\"#0d0887\"],[0.1111111111111111,\"#46039f\"],[0.2222222222222222,\"#7201a8\"],[0.3333333333333333,\"#9c179e\"],[0.4444444444444444,\"#bd3786\"],[0.5555555555555556,\"#d8576b\"],[0.6666666666666666,\"#ed7953\"],[0.7777777777777778,\"#fb9f3a\"],[0.8888888888888888,\"#fdca26\"],[1.0,\"#f0f921\"]],\"sequentialminus\":[[0.0,\"#0d0887\"],[0.1111111111111111,\"#46039f\"],[0.2222222222222222,\"#7201a8\"],[0.3333333333333333,\"#9c179e\"],[0.4444444444444444,\"#bd3786\"],[0.5555555555555556,\"#d8576b\"],[0.6666666666666666,\"#ed7953\"],[0.7777777777777778,\"#fb9f3a\"],[0.8888888888888888,\"#fdca26\"],[1.0,\"#f0f921\"]],\"diverging\":[[0,\"#8e0152\"],[0.1,\"#c51b7d\"],[0.2,\"#de77ae\"],[0.3,\"#f1b6da\"],[0.4,\"#fde0ef\"],[0.5,\"#f7f7f7\"],[0.6,\"#e6f5d0\"],[0.7,\"#b8e186\"],[0.8,\"#7fbc41\"],[0.9,\"#4d9221\"],[1,\"#276419\"]]},\"xaxis\":{\"gridcolor\":\"white\",\"linecolor\":\"white\",\"ticks\":\"\",\"title\":{\"standoff\":15},\"zerolinecolor\":\"white\",\"automargin\":true,\"zerolinewidth\":2},\"yaxis\":{\"gridcolor\":\"white\",\"linecolor\":\"white\",\"ticks\":\"\",\"title\":{\"standoff\":15},\"zerolinecolor\":\"white\",\"automargin\":true,\"zerolinewidth\":2},\"scene\":{\"xaxis\":{\"backgroundcolor\":\"#E5ECF6\",\"gridcolor\":\"white\",\"linecolor\":\"white\",\"showbackground\":true,\"ticks\":\"\",\"zerolinecolor\":\"white\",\"gridwidth\":2},\"yaxis\":{\"backgroundcolor\":\"#E5ECF6\",\"gridcolor\":\"white\",\"linecolor\":\"white\",\"showbackground\":true,\"ticks\":\"\",\"zerolinecolor\":\"white\",\"gridwidth\":2},\"zaxis\":{\"backgroundcolor\":\"#E5ECF6\",\"gridcolor\":\"white\",\"linecolor\":\"white\",\"showbackground\":true,\"ticks\":\"\",\"zerolinecolor\":\"white\",\"gridwidth\":2}},\"shapedefaults\":{\"line\":{\"color\":\"#2a3f5f\"}},\"annotationdefaults\":{\"arrowcolor\":\"#2a3f5f\",\"arrowhead\":0,\"arrowwidth\":1},\"geo\":{\"bgcolor\":\"white\",\"landcolor\":\"#E5ECF6\",\"subunitcolor\":\"white\",\"showland\":true,\"showlakes\":true,\"lakecolor\":\"white\"},\"title\":{\"x\":0.05},\"mapbox\":{\"style\":\"light\"}}},\"scene\":{\"domain\":{\"x\":[0.0,1.0],\"y\":[0.0,1.0]},\"xaxis\":{\"title\":{\"text\":\"x\"}},\"yaxis\":{\"title\":{\"text\":\"y\"}},\"zaxis\":{\"title\":{\"text\":\"z\"}}},\"legend\":{\"title\":{\"text\":\"color\"},\"tracegroupgap\":0},\"margin\":{\"t\":60}},                        {\"responsive\": true}                    ).then(function(){\n",
       "                            \n",
       "var gd = document.getElementById('7b115ec1-d366-4a51-9948-82e3474fde7f');\n",
       "var x = new MutationObserver(function (mutations, observer) {{\n",
       "        var display = window.getComputedStyle(gd).display;\n",
       "        if (!display || display === 'none') {{\n",
       "            console.log([gd, 'removed!']);\n",
       "            Plotly.purge(gd);\n",
       "            observer.disconnect();\n",
       "        }}\n",
       "}});\n",
       "\n",
       "// Listen for the removal of the full notebook cells\n",
       "var notebookContainer = gd.closest('#notebook-container');\n",
       "if (notebookContainer) {{\n",
       "    x.observe(notebookContainer, {childList: true});\n",
       "}}\n",
       "\n",
       "// Listen for the clearing of the current output cell\n",
       "var outputEl = gd.closest('.output');\n",
       "if (outputEl) {{\n",
       "    x.observe(outputEl, {childList: true});\n",
       "}}\n",
       "\n",
       "                        })                };                });            </script>        </div>"
      ]
     },
     "metadata": {},
     "output_type": "display_data"
    }
   ],
   "source": [
    "# plot using tsne \n",
    "X_embedded  = TSNE(n_components=3, perplexity=10,random_state=24).fit_transform( X )\n",
    "colors = np.array([x for x in 'bgrcmykbgrcmykbgrcmykbgrcmyk'])\n",
    "fig = px.scatter_3d(x=X_embedded [:,0],y=X_embedded [:,1],z=X_embedded [:,2],color=colors[bgm_labels])\n",
    "fig.show()"
   ]
  },
  {
   "cell_type": "markdown",
   "metadata": {},
   "source": [
    "### Mini-Batch Kmean Clustering\n",
    "\n",
    "Mini Batch K-means is a variation of K-means algorithm which introduces an idea of using small random batches of data of fixed size. For each iteration, a new random sample from the dataset is taken and used to modify the clusters and this process is repeated until convergence."
   ]
  },
  {
   "cell_type": "code",
   "execution_count": 222,
   "metadata": {},
   "outputs": [],
   "source": [
    "#mbk_model.get_params().keys()"
   ]
  },
  {
   "cell_type": "code",
   "execution_count": 223,
   "metadata": {},
   "outputs": [
    {
     "data": {
      "text/plain": [
       "{'batch_size': [50, 100, 150, 200],\n",
       " 'max_iter': [50, 100, 150, 200],\n",
       " 'init': ['k-means++', 'random'],\n",
       " 'n_clusters': range(2, 10),\n",
       " 'n_init': range(1, 6)}"
      ]
     },
     "execution_count": 223,
     "metadata": {},
     "output_type": "execute_result"
    }
   ],
   "source": [
    "k_mean_grid = {\n",
    "        \"batch_size\": [50, 100, 150, 200],\n",
    "        \"max_iter\": [50, 100, 150, 200],\n",
    "        \"init\": ['k-means++', 'random'],\n",
    "        \"n_clusters\": range(2, 10),\n",
    "        \"n_init\": range(1, 6)\n",
    "       }\n",
    "k_mean_grid"
   ]
  },
  {
   "cell_type": "code",
   "execution_count": 224,
   "metadata": {},
   "outputs": [],
   "source": [
    "mbk_model = MiniBatchKMeans()\n",
    "mbk_params = GridSearchCV(mbk_model,k_mean_grid,scoring=silhouette_score,cv= 10).fit(X, y)"
   ]
  },
  {
   "cell_type": "code",
   "execution_count": 225,
   "metadata": {},
   "outputs": [
    {
     "data": {
      "text/plain": [
       "(0.6140698660869858,\n",
       " {'batch_size': 50,\n",
       "  'init': 'k-means++',\n",
       "  'max_iter': 50,\n",
       "  'n_clusters': 2,\n",
       "  'n_init': 2})"
      ]
     },
     "execution_count": 225,
     "metadata": {},
     "output_type": "execute_result"
    }
   ],
   "source": [
    "mbk_params.best_score_, mbk_params.best_params_"
   ]
  },
  {
   "cell_type": "code",
   "execution_count": 226,
   "metadata": {},
   "outputs": [],
   "source": [
    "batch_size = 45\n",
    "mbk = MiniBatchKMeans(init = mbk_params.best_params_['init'],\n",
    "                      n_clusters = mbk_params.best_params_['n_clusters'],\n",
    "                      batch_size = mbk_params.best_params_['batch_size'],\n",
    "                      n_init = mbk_params.best_params_['n_init'],\n",
    "                      max_iter = mbk_params.best_params_['max_iter'],\n",
    "                      max_no_improvement = 10, verbose = 0)\n",
    "\n",
    "mbk.fit(X)\n",
    "mbk_means_cluster_centers = np.sort(mbk.cluster_centers_, axis = 0)\n",
    "mbk_means_labels = pairwise_distances_argmin(X, mbk_means_cluster_centers)\n"
   ]
  },
  {
   "cell_type": "code",
   "execution_count": 227,
   "metadata": {},
   "outputs": [],
   "source": [
    "mbk_dataset = pd.DataFrame(X.copy())\n",
    "mbk_dataset.loc[:,'Cluster'] = mbk_means_labels"
   ]
  },
  {
   "cell_type": "code",
   "execution_count": 228,
   "metadata": {},
   "outputs": [
    {
     "data": {
      "text/html": [
       "<div>\n",
       "<style scoped>\n",
       "    .dataframe tbody tr th:only-of-type {\n",
       "        vertical-align: middle;\n",
       "    }\n",
       "\n",
       "    .dataframe tbody tr th {\n",
       "        vertical-align: top;\n",
       "    }\n",
       "\n",
       "    .dataframe thead th {\n",
       "        text-align: right;\n",
       "    }\n",
       "</style>\n",
       "<table border=\"1\" class=\"dataframe\">\n",
       "  <thead>\n",
       "    <tr style=\"text-align: right;\">\n",
       "      <th></th>\n",
       "      <th>Cluster</th>\n",
       "    </tr>\n",
       "  </thead>\n",
       "  <tbody>\n",
       "    <tr>\n",
       "      <th>0</th>\n",
       "      <td>206</td>\n",
       "    </tr>\n",
       "    <tr>\n",
       "      <th>1</th>\n",
       "      <td>197</td>\n",
       "    </tr>\n",
       "  </tbody>\n",
       "</table>\n",
       "</div>"
      ],
      "text/plain": [
       "   Cluster\n",
       "0      206\n",
       "1      197"
      ]
     },
     "execution_count": 228,
     "metadata": {},
     "output_type": "execute_result"
    }
   ],
   "source": [
    "mbk_dataset.Cluster.value_counts().to_frame()"
   ]
  },
  {
   "cell_type": "code",
   "execution_count": 229,
   "metadata": {},
   "outputs": [
    {
     "data": {
      "text/html": [
       "<div>\n",
       "<style scoped>\n",
       "    .dataframe tbody tr th:only-of-type {\n",
       "        vertical-align: middle;\n",
       "    }\n",
       "\n",
       "    .dataframe tbody tr th {\n",
       "        vertical-align: top;\n",
       "    }\n",
       "\n",
       "    .dataframe thead th {\n",
       "        text-align: right;\n",
       "    }\n",
       "</style>\n",
       "<table border=\"1\" class=\"dataframe\">\n",
       "  <thead>\n",
       "    <tr style=\"text-align: right;\">\n",
       "      <th></th>\n",
       "      <th>silhouette_score</th>\n",
       "      <th>davies_bouldin_score</th>\n",
       "      <th>calinski_harabasz_score</th>\n",
       "      <th>fowlkes_mallows_score</th>\n",
       "      <th>adjusted_rand_score</th>\n",
       "      <th>adjusted_mutual_info_score</th>\n",
       "      <th>homogeneity_score</th>\n",
       "      <th>completeness_score</th>\n",
       "      <th>v_measure_score</th>\n",
       "    </tr>\n",
       "  </thead>\n",
       "  <tbody>\n",
       "    <tr>\n",
       "      <th>Mini-Batch Kmean</th>\n",
       "      <td>0.462035</td>\n",
       "      <td>0.882063</td>\n",
       "      <td>411.029867</td>\n",
       "      <td>0.651976</td>\n",
       "      <td>0.418309</td>\n",
       "      <td>0.524302</td>\n",
       "      <td>0.399751</td>\n",
       "      <td>0.769069</td>\n",
       "      <td>0.526063</td>\n",
       "    </tr>\n",
       "  </tbody>\n",
       "</table>\n",
       "</div>"
      ],
      "text/plain": [
       "                  silhouette_score  davies_bouldin_score  \\\n",
       "Mini-Batch Kmean          0.462035              0.882063   \n",
       "\n",
       "                  calinski_harabasz_score  fowlkes_mallows_score  \\\n",
       "Mini-Batch Kmean               411.029867               0.651976   \n",
       "\n",
       "                  adjusted_rand_score  adjusted_mutual_info_score  \\\n",
       "Mini-Batch Kmean             0.418309                    0.524302   \n",
       "\n",
       "                  homogeneity_score  completeness_score  v_measure_score  \n",
       "Mini-Batch Kmean           0.399751            0.769069         0.526063  "
      ]
     },
     "execution_count": 229,
     "metadata": {},
     "output_type": "execute_result"
    }
   ],
   "source": [
    "kmean_df = pd.DataFrame(estimator_evaluation(mbk, 'Mini-Batch K-means', X , y), index=[\"Mini-Batch Kmean\"])\n",
    "kmean_df"
   ]
  },
  {
   "cell_type": "code",
   "execution_count": 230,
   "metadata": {},
   "outputs": [
    {
     "data": {
      "application/vnd.plotly.v1+json": {
       "config": {
        "plotlyServerURL": "https://plot.ly"
       },
       "data": [
        {
         "hovertemplate": "color=b<br>x=%{x}<br>y=%{y}<br>z=%{z}<extra></extra>",
         "legendgroup": "b",
         "marker": {
          "color": "#636efa",
          "symbol": "circle"
         },
         "mode": "markers",
         "name": "b",
         "scene": "scene",
         "showlegend": true,
         "type": "scatter3d",
         "x": [
          -21.267044067382812,
          -36.06597137451172,
          -30.4609375,
          -26.903005599975586,
          -10.522098541259766,
          -11.172066688537598,
          -35.50358200073242,
          -33.579097747802734,
          -20.139205932617188,
          -34.801292419433594,
          -21.532691955566406,
          -20.048160552978516,
          -16.078256607055664,
          -31.024127960205078,
          -23.23345184326172,
          -26.53757095336914,
          -16.589069366455078,
          -20.381595611572266,
          -34.185394287109375,
          -24.680877685546875,
          -19.039701461791992,
          -13.879016876220703,
          -29.271230697631836,
          -23.27183723449707,
          -14.153593063354492,
          -13.993045806884766,
          -30.4713077545166,
          -25.72091293334961,
          -16.764545440673828,
          -27.04876136779785,
          -10.712099075317383,
          -21.01463508605957,
          -17.79693603515625,
          -12.57739543914795,
          -0.7267776727676392,
          5.935863018035889,
          16.332124710083008,
          10.653630256652832,
          -33.51859664916992,
          5.823702335357666,
          5.161942005157471,
          8.852254867553711,
          5.489107608795166,
          13.520792007446289,
          84.0427474975586,
          1.5232117176055908,
          6.861714839935303,
          -1.1105945110321045,
          8.21495246887207,
          9.992449760437012,
          18.044836044311523,
          -78.88306427001953,
          10.190162658691406,
          5.529528617858887,
          11.674993515014648,
          0.2912577986717224,
          7.53861141204834,
          0.6788923144340515,
          8.612034797668457,
          18.44590950012207,
          8.328204154968262,
          4.20270299911499,
          -21.77710723876953,
          14.427577018737793,
          8.52342414855957,
          2.0907599925994873,
          15.868163108825684,
          5.799005508422852,
          9.22774600982666,
          14.33255386352539,
          31.768972396850586,
          23.564762115478516,
          26.291427612304688,
          17.254390716552734,
          27.136953353881836,
          9.360555648803711,
          32.198673248291016,
          27.159940719604492,
          32.37428665161133,
          12.890089988708496,
          13.936925888061523,
          21.662534713745117,
          14.997796058654785,
          19.37211799621582,
          16.300519943237305,
          30.79879379272461,
          10.139127731323242,
          13.97585391998291,
          27.999364852905273,
          22.074153900146484,
          27.603469848632812,
          21.30132293701172,
          17.395112991333008,
          25.706993103027344,
          20.618406295776367,
          40.476531982421875,
          23.39597511291504,
          42.715972900390625,
          24.45811653137207,
          23.544315338134766,
          28.866249084472656,
          27.462055206298828,
          24.23588752746582,
          36.8121337890625,
          25.928308486938477,
          27.226430892944336,
          25.876117706298828,
          37.98743438720703,
          44.27800750732422,
          40.40578842163086,
          28.68001365661621,
          24.084733963012695,
          30.1612491607666,
          18.483291625976562,
          34.13698196411133,
          39.1591682434082,
          42.29051971435547,
          36.865142822265625,
          37.22797393798828,
          39.96656799316406,
          30.027252197265625,
          38.88172149658203,
          33.42483901977539,
          43.09455871582031,
          -22.969045639038086,
          -22.53413963317871,
          -24.733917236328125,
          -17.431264877319336,
          -10.650376319885254,
          -8.499683380126953,
          -28.772064208984375,
          -17.90882110595703,
          -20.731657028198242,
          -38.12913131713867,
          2.7441911697387695,
          -24.07947540283203,
          -32.08818054199219,
          -5.673862934112549,
          -21.81537628173828,
          -30.40770149230957,
          -29.06601333618164,
          -23.45379638671875,
          -17.01804542541504,
          -30.721755981445312,
          -31.2700138092041,
          -25.28873062133789,
          -23.773422241210938,
          -9.347555160522461,
          -29.65091896057129,
          -12.104231834411621,
          -18.506410598754883,
          -18.277950286865234,
          -15.310219764709473,
          -24.413591384887695,
          -17.080352783203125,
          -19.528425216674805,
          -27.129587173461914,
          3.749504804611206,
          19.652210235595703,
          4.860600471496582,
          4.800532817840576,
          4.240396022796631,
          7.389786243438721,
          10.786006927490234,
          6.2144598960876465,
          2.0858445167541504,
          8.709144592285156,
          6.604032039642334,
          4.337176322937012,
          6.2634406089782715,
          9.799295425415039,
          10.572393417358398,
          7.155150413513184,
          1.898878812789917,
          3.91137957572937,
          13.471965789794922,
          9.896615028381348,
          12.062995910644531,
          29.08721351623535,
          29.612564086914062,
          29.7270450592041,
          21.73213768005371,
          32.26485824584961,
          32.223934173583984,
          32.368988037109375,
          25.03771209716797,
          17.18193244934082,
          25.369630813598633,
          31.42034339904785,
          40.799686431884766,
          33.052799224853516,
          23.816953659057617,
          37.264034271240234,
          24.764509201049805,
          -34.1065559387207,
          27.049915313720703,
          33.74729919433594,
          36.472755432128906,
          32.0174446105957,
          44.705406188964844,
          27.09748649597168,
          25.400440216064453,
          25.914587020874023,
          25.26010513305664,
          45.45392608642578,
          22.284929275512695
         ],
         "y": [
          35.922725677490234,
          14.13102912902832,
          13.935522079467773,
          25.9504451751709,
          43.85566711425781,
          11.42887020111084,
          18.056838989257812,
          7.506102561950684,
          36.57126235961914,
          9.252019882202148,
          7.943752765655518,
          27.100460052490234,
          8.681744575500488,
          24.486465454101562,
          32.311370849609375,
          22.035154342651367,
          15.552287101745605,
          28.93560028076172,
          19.651897430419922,
          18.97339630126953,
          2.160881519317627,
          42.3321533203125,
          3.193222999572754,
          29.411508560180664,
          12.817761421203613,
          40.591495513916016,
          24.410675048828125,
          3.878140449523926,
          38.24163818359375,
          21.37002944946289,
          10.919054985046387,
          33.46477508544922,
          42.6595573425293,
          7.073983669281006,
          6.204806804656982,
          31.711185455322266,
          13.306443214416504,
          -4.577503204345703,
          16.597509384155273,
          38.8298454284668,
          35.662445068359375,
          1.3824677467346191,
          23.091190338134766,
          4.3916754722595215,
          66.60557556152344,
          9.737428665161133,
          12.725150108337402,
          42.7652702331543,
          7.599973201751709,
          24.586780548095703,
          -7.534989356994629,
          25.59372901916504,
          14.551630020141602,
          30.360595703125,
          21.911224365234375,
          4.110654830932617,
          11.905198097229004,
          9.819938659667969,
          32.29173278808594,
          -0.3799690008163452,
          -7.851871967315674,
          1.9403424263000488,
          4.729564189910889,
          59.75038528442383,
          31.439054489135742,
          12.256580352783203,
          -6.681667327880859,
          5.807104110717773,
          32.159027099609375,
          6.796523094177246,
          -5.971858501434326,
          22.654258728027344,
          7.5764241218566895,
          23.846031188964844,
          2.9488532543182373,
          27.096084594726562,
          -11.50830364227295,
          2.331176996231079,
          -7.422783851623535,
          27.341739654541016,
          22.654117584228516,
          -1.8572121858596802,
          19.930757522583008,
          17.647409439086914,
          16.641969680786133,
          1.8261659145355225,
          23.567323684692383,
          17.278886795043945,
          6.935790538787842,
          16.522836685180664,
          -1.164661169052124,
          12.344599723815918,
          14.271845817565918,
          -0.6366279721260071,
          13.294169425964355,
          12.779515266418457,
          9.386844635009766,
          8.252523422241211,
          22.371288299560547,
          10.071693420410156,
          25.149538040161133,
          23.606521606445312,
          21.57587242126465,
          -17.417682647705078,
          18.655899047851562,
          21.42276954650879,
          9.282002449035645,
          7.235989570617676,
          10.706573486328125,
          10.95085334777832,
          8.201926231384277,
          12.40717887878418,
          11.915243148803711,
          42.641414642333984,
          8.700462341308594,
          13.746968269348145,
          7.1556925773620605,
          10.78486442565918,
          14.91001033782959,
          9.748248100280762,
          10.594999313354492,
          7.296443939208984,
          13.833026885986328,
          11.936604499816895,
          32.13788604736328,
          28.855127334594727,
          6.2822065353393555,
          30.62104606628418,
          39.981258392333984,
          43.24763107299805,
          3.967867612838745,
          40.68608093261719,
          31.368810653686523,
          17.157428741455078,
          27.957015991210938,
          19.151569366455078,
          6.475119590759277,
          42.44248962402344,
          2.4901180267333984,
          9.720891952514648,
          3.7551586627960205,
          22.970993041992188,
          4.806143760681152,
          4.845126628875732,
          10.687250137329102,
          4.327755928039551,
          26.4428653717041,
          36.71547317504883,
          5.603481769561768,
          37.264373779296875,
          31.3853702545166,
          0.16408143937587738,
          44.56779861450195,
          33.03150939941406,
          33.856571197509766,
          35.442752838134766,
          8.019692420959473,
          -8.85015869140625,
          -3.184669017791748,
          -3.8456530570983887,
          5.297758102416992,
          34.92172622680664,
          36.927059173583984,
          -5.297547817230225,
          17.427650451660156,
          13.918794631958008,
          35.007896423339844,
          -3.9760918617248535,
          16.162832260131836,
          35.57892990112305,
          -1.3451337814331055,
          8.251192092895508,
          9.0260009765625,
          -1.2618411779403687,
          40.40031433105469,
          -1.767958641052246,
          18.514169692993164,
          24.223388671875,
          -4.048883438110352,
          0.7570634484291077,
          -0.45229485630989075,
          20.76923179626465,
          -2.3073678016662598,
          -11.760886192321777,
          -2.266845226287842,
          12.259390830993652,
          19.423126220703125,
          9.192879676818848,
          2.7518935203552246,
          10.214640617370605,
          9.217255592346191,
          22.30584716796875,
          9.137520790100098,
          25.335994720458984,
          -14.465846061706543,
          24.448200225830078,
          9.540753364562988,
          11.08519458770752,
          8.542003631591797,
          11.151013374328613,
          11.940046310424805,
          14.31509017944336,
          10.101239204406738,
          13.486228942871094,
          10.8375883102417,
          11.583477973937988
         ],
         "z": [
          5.8168253898620605,
          -21.3820858001709,
          -26.02112579345703,
          -21.729238510131836,
          -3.7784321308135986,
          -30.573514938354492,
          -23.78899383544922,
          -21.12174415588379,
          0.4842860996723175,
          -24.413700103759766,
          -29.579225540161133,
          -17.21922492980957,
          -29.19700050354004,
          -22.764877319335938,
          -3.4071192741394043,
          -20.095991134643555,
          -26.840534210205078,
          -12.876431465148926,
          -20.992544174194336,
          -22.112937927246094,
          -24.928831100463867,
          1.3392982482910156,
          -9.661981582641602,
          -0.8353308439254761,
          -28.130165100097656,
          -3.5932059288024902,
          -19.014638900756836,
          -9.01623821258545,
          -1.315071940422058,
          -24.522563934326172,
          -27.052629470825195,
          -7.873538494110107,
          0.6900990009307861,
          -29.092561721801758,
          -31.185924530029297,
          -17.988819122314453,
          -21.65678596496582,
          -33.67805862426758,
          73.8567886352539,
          -9.526837348937988,
          -7.167135715484619,
          -34.627174377441406,
          -20.917863845825195,
          -29.894676208496094,
          -2.0550172328948975,
          -26.99646759033203,
          -23.70884132385254,
          -5.417999267578125,
          -32.647544860839844,
          -17.037246704101562,
          -31.62060546875,
          239.716796875,
          -21.366243362426758,
          -14.253371238708496,
          -17.414480209350586,
          -34.23719787597656,
          -27.826797485351562,
          -30.948036193847656,
          -3.680274248123169,
          -30.74943733215332,
          -35.562347412109375,
          -36.585018157958984,
          -7.637720108032227,
          -16.906269073486328,
          -10.280692100524902,
          -23.622650146484375,
          -34.36848831176758,
          -30.726350784301758,
          -15.312973022460938,
          -32.0279541015625,
          -18.60561180114746,
          3.239884376525879,
          -16.355648040771484,
          -0.350166916847229,
          -21.037330627441406,
          -0.3802046477794647,
          -16.73946189880371,
          -16.75409507751465,
          -22.44613265991211,
          -2.1022424697875977,
          -4.4007110595703125,
          -29.55804443359375,
          -1.6893768310546875,
          -1.510080337524414,
          -9.639875411987305,
          -19.199848175048828,
          -2.9411470890045166,
          -6.211831569671631,
          -11.248101234436035,
          -4.252840042114258,
          -19.198013305664062,
          -6.047015190124512,
          -6.7096734046936035,
          -22.951927185058594,
          -9.668194770812988,
          6.791210651397705,
          -16.8520450592041,
          19.625478744506836,
          19.32184600830078,
          29.95144271850586,
          11.213606834411621,
          15.163322448730469,
          14.672515869140625,
          20.951534271240234,
          17.125629425048828,
          10.860676765441895,
          34.30753707885742,
          27.322982788085938,
          16.687564849853516,
          24.091432571411133,
          19.75490379333496,
          33.023277282714844,
          14.358061790466309,
          -25.78754997253418,
          25.26527976989746,
          10.936766624450684,
          25.10773468017578,
          8.950390815734863,
          6.995655536651611,
          12.114498138427734,
          22.43658447265625,
          22.58118438720703,
          9.737666130065918,
          11.745050430297852,
          5.454796314239502,
          -6.674811840057373,
          -30.735986709594727,
          -13.654102325439453,
          -8.963502883911133,
          -7.693188190460205,
          -28.425596237182617,
          -4.013869762420654,
          2.271423578262329,
          -20.86273193359375,
          -19.872522354125977,
          -26.11638641357422,
          -27.472850799560547,
          -5.673404693603516,
          -28.270822525024414,
          -23.982465744018555,
          -13.735467910766602,
          -23.01707649230957,
          -28.57994270324707,
          -17.739055633544922,
          -28.10502052307129,
          -26.07408332824707,
          -18.22887420654297,
          -10.5384521484375,
          -24.316556930541992,
          -12.276164054870605,
          -4.994287014007568,
          -27.81255340576172,
          -1.821712613105774,
          1.8572583198547363,
          -7.605228424072266,
          -4.760988235473633,
          -27.72223663330078,
          -36.56403732299805,
          -32.723201751708984,
          -38.18871307373047,
          -34.71680450439453,
          -12.17208194732666,
          -3.020695447921753,
          -37.81449890136719,
          -20.61493492126465,
          -27.192346572875977,
          -12.330978393554688,
          -34.49563217163086,
          -24.00265884399414,
          -15.712998390197754,
          -37.235286712646484,
          -28.864561080932617,
          -25.533395767211914,
          -36.0584831237793,
          -5.590236186981201,
          -35.61910629272461,
          -20.79570770263672,
          0.575212836265564,
          -22.87643051147461,
          -23.704357147216797,
          -12.970426559448242,
          -0.7846923470497131,
          -21.034500122070312,
          -20.091135025024414,
          -15.569310188293457,
          -7.930481433868408,
          -5.5041680335998535,
          -12.392892837524414,
          -12.530016899108887,
          29.63280487060547,
          31.5484561920166,
          8.287672996520996,
          31.895126342773438,
          11.059225082397461,
          -19.41793441772461,
          7.351991176605225,
          13.108871459960938,
          27.871444702148438,
          16.657373428344727,
          26.320215225219727,
          18.87700843811035,
          21.598779678344727,
          22.874103546142578,
          26.468914031982422,
          22.31829071044922,
          25.558242797851562
         ]
        },
        {
         "hovertemplate": "color=g<br>x=%{x}<br>y=%{y}<br>z=%{z}<extra></extra>",
         "legendgroup": "g",
         "marker": {
          "color": "#EF553B",
          "symbol": "circle"
         },
         "mode": "markers",
         "name": "g",
         "scene": "scene",
         "showlegend": true,
         "type": "scatter3d",
         "x": [
          -16.822650909423828,
          -49.39965057373047,
          -42.795692443847656,
          -21.344249725341797,
          -25.461931228637695,
          -17.483646392822266,
          -32.733314514160156,
          -24.241518020629883,
          -31.977890014648438,
          -36.49922561645508,
          -45.48850631713867,
          -19.285551071166992,
          -46.284759521484375,
          -23.104211807250977,
          -20.900346755981445,
          -23.937450408935547,
          -31.07014274597168,
          -31.920787811279297,
          -40.64645767211914,
          -38.054603576660156,
          -47.17422866821289,
          -27.272750854492188,
          -13.470775604248047,
          -47.790645599365234,
          -14.55036735534668,
          -33.91830062866211,
          -46.7971305847168,
          -21.803001403808594,
          -46.36410140991211,
          -35.17536544799805,
          -17.974720001220703,
          -18.646787643432617,
          -21.651941299438477,
          0.4075632095336914,
          -13.981273651123047,
          0.3447377681732178,
          -18.89834213256836,
          -16.19564437866211,
          3.140899419784546,
          -22.55308723449707,
          -22.65562629699707,
          -0.060101576149463654,
          -0.7936458587646484,
          -17.555368423461914,
          -10.721659660339355,
          -16.148483276367188,
          -22.341880798339844,
          -22.72369956970215,
          -13.028511047363281,
          -8.545669555664062,
          -13.910672187805176,
          0.5921189188957214,
          -14.52842903137207,
          -18.264860153198242,
          -22.563655853271484,
          0.20385026931762695,
          -4.701167583465576,
          1.6178152561187744,
          -16.81120491027832,
          -18.903366088867188,
          24.573030471801758,
          15.339200019836426,
          23.716899871826172,
          2.241644859313965,
          9.47315788269043,
          9.107170104980469,
          2.696962833404541,
          15.595996856689453,
          11.48470687866211,
          11.878907203674316,
          20.043367385864258,
          4.6845927238464355,
          6.0786261558532715,
          10.031150817871094,
          12.687679290771484,
          7.3835129737854,
          5.852301120758057,
          8.84896469116211,
          4.991186618804932,
          -12.906111717224121,
          5.038982391357422,
          6.433780193328857,
          1.4961940050125122,
          8.879339218139648,
          16.403331756591797,
          12.368870735168457,
          13.81178092956543,
          7.219574451446533,
          9.502975463867188,
          8.58479118347168,
          12.237604141235352,
          8.833601951599121,
          4.1392502784729,
          18.185205459594727,
          7.0952863693237305,
          -1.2226147651672363,
          23.871938705444336,
          12.335711479187012,
          -6.668420314788818,
          3.1785666942596436,
          -6.940609931945801,
          2.167938709259033,
          -5.020781993865967,
          -11.989901542663574,
          -9.028367042541504,
          4.969753265380859,
          -13.640060424804688,
          -0.5617701411247253,
          9.07393741607666,
          11.781044006347656,
          -8.347626686096191,
          2.4779205322265625,
          -5.4254655838012695,
          -0.3685187101364136,
          -13.536191940307617,
          -14.889735221862793,
          -1.512008786201477,
          -10.572601318359375,
          7.063409328460693,
          8.019389152526855,
          11.630135536193848,
          7.181481838226318,
          46.00409698486328,
          7.644443511962891,
          -16.012794494628906,
          10.322341918945312,
          -12.858540534973145,
          -2.3237509727478027,
          5.5148396492004395,
          5.692639350891113,
          10.46607780456543,
          -7.399155616760254,
          12.236316680908203,
          7.331542015075684,
          -21.064739227294922,
          -18.615015029907227,
          -9.400259971618652,
          -32.07025146484375,
          -27.591981887817383,
          -46.00606155395508,
          -26.467159271240234,
          -11.377697944641113,
          -28.746112823486328,
          -42.43263626098633,
          -12.118288040161133,
          -36.13899612426758,
          -24.882373809814453,
          -40.333988189697266,
          -29.823400497436523,
          -456.2898864746094,
          7.38869047164917,
          -18.51105308532715,
          -20.316526412963867,
          -38.623165130615234,
          -13.736462593078613,
          -41.04960250854492,
          -16.34224510192871,
          -11.020339965820312,
          -7.910359859466553,
          -32.941097259521484,
          -16.397624969482422,
          -18.877254486083984,
          -6.485118389129639,
          -19.89840316772461,
          -18.467571258544922,
          -2.8718912601470947,
          -4.004284381866455,
          2.619084358215332,
          -15.076781272888184,
          0.08586261421442032,
          -1.284684419631958,
          2.394094228744507,
          -17.82406997680664,
          3.1057519912719727,
          -20.834470748901367,
          -6.645021438598633,
          -0.9430211186408997,
          -17.268545150756836,
          3.4498560428619385,
          6.338685512542725,
          5.577123165130615,
          20.71617889404297,
          6.600318431854248,
          13.824715614318848,
          -13.054549217224121,
          2.9771065711975098,
          -4.404337406158447,
          -11.873586654663086,
          4.391490459442139,
          -16.661724090576172,
          -9.645992279052734,
          -93.683837890625,
          -7.636730194091797,
          0.5679864883422852,
          -14.055168151855469,
          -10.169634819030762,
          5.8452277183532715
         ],
         "y": [
          -28.599925994873047,
          -10.496481895446777,
          -0.7150207757949829,
          -30.018110275268555,
          -14.783294677734375,
          -27.7197265625,
          -4.371962547302246,
          -22.510534286499023,
          -0.6587179899215698,
          -10.558356285095215,
          -9.403033256530762,
          -25.21457862854004,
          1.4767169952392578,
          -18.64919662475586,
          53.378841400146484,
          -16.058134078979492,
          -8.236431121826172,
          -11.5612154006958,
          -2.9173927307128906,
          -9.13534164428711,
          -5.571140766143799,
          -20.627683639526367,
          -20.01321029663086,
          -8.554363250732422,
          -9.778741836547852,
          -0.16450761258602142,
          -2.169846296310425,
          -14.032255172729492,
          2.629030466079712,
          2.8495986461639404,
          2.2028632164001465,
          -15.422771453857422,
          0.4951074421405792,
          1.8972957134246826,
          3.1074705123901367,
          6.443424224853516,
          -17.389612197875977,
          -8.611226081848145,
          0.44145891070365906,
          -15.357054710388184,
          1.8845208883285522,
          -1.3469034433364868,
          8.65053653717041,
          -0.8942708373069763,
          4.376777648925781,
          1.5898655652999878,
          -17.511959075927734,
          -2.7408711910247803,
          4.913856506347656,
          4.290068626403809,
          -3.8257787227630615,
          -2.369314432144165,
          2.587691068649292,
          -19.9576358795166,
          -13.174420356750488,
          2.9193058013916016,
          5.921625137329102,
          -1.6807132959365845,
          6.130126476287842,
          -13.157781600952148,
          -13.22385311126709,
          -14.928306579589844,
          -14.00196361541748,
          -4.707040309906006,
          -5.553106784820557,
          -6.172765731811523,
          -6.083141326904297,
          -12.852591514587402,
          -14.624302864074707,
          -16.989368438720703,
          -16.535179138183594,
          -8.096137046813965,
          -8.648439407348633,
          -17.343385696411133,
          -12.295158386230469,
          -12.351204872131348,
          -16.828969955444336,
          -16.676023483276367,
          -16.708698272705078,
          -7.712678909301758,
          -6.246535301208496,
          -20.16769027709961,
          -8.69201946258545,
          -13.669449806213379,
          -16.477487564086914,
          -16.12377166748047,
          -10.344816207885742,
          -13.929681777954102,
          -9.094193458557129,
          -19.734310150146484,
          -20.389284133911133,
          -9.549301147460938,
          -12.588605880737305,
          -13.305061340332031,
          -9.958097457885742,
          -3.641934394836426,
          -16.979398727416992,
          -34.130340576171875,
          -38.8309211730957,
          -22.717079162597656,
          -41.327674865722656,
          -35.7883186340332,
          -27.92157554626465,
          -40.47600555419922,
          -35.46875,
          19.855892181396484,
          -45.999088287353516,
          -34.81201934814453,
          -24.99074935913086,
          -15.741121292114258,
          -37.43214416503906,
          -29.14955711364746,
          -39.841636657714844,
          -32.43231964111328,
          -42.054561614990234,
          -44.781185150146484,
          -36.96426010131836,
          -40.94893264770508,
          -32.7647590637207,
          -36.53717803955078,
          -30.32036018371582,
          -15.248553276062012,
          -33.2227783203125,
          -30.326932907104492,
          -45.257266998291016,
          -31.926437377929688,
          -45.8526725769043,
          -23.79541015625,
          -35.245704650878906,
          -18.015134811401367,
          -26.92793846130371,
          -36.67508316040039,
          -18.587879180908203,
          -35.80337905883789,
          -26.404216766357422,
          -13.605611801147461,
          -15.183632850646973,
          1.553058385848999,
          -12.173080444335938,
          -12.32067584991455,
          -8.881789207458496,
          -11.7959566116333,
          -7.807506084442139,
          3.2678065299987793,
          -16.515052795410156,
          -4.6959357261657715,
          -8.47089958190918,
          -5.3941521644592285,
          -11.922337532043457,
          -302.0281982421875,
          -60.05851364135742,
          -15.538965225219727,
          -11.413725852966309,
          0.5542541742324829,
          -14.24774169921875,
          -10.682809829711914,
          -24.83991813659668,
          -18.71875762939453,
          -20.037574768066406,
          -9.220967292785645,
          -12.353191375732422,
          5.030978679656982,
          5.7682414054870605,
          -4.207118988037109,
          3.0606532096862793,
          3.2834300994873047,
          1.1891841888427734,
          -21.629451751708984,
          7.338028907775879,
          -21.39366912841797,
          1.470876693725586,
          -24.639142990112305,
          -0.4972001910209656,
          1.4655126333236694,
          -7.7200164794921875,
          1.4166902303695679,
          -24.354713439941406,
          5.381312370300293,
          -39.685157775878906,
          -3.161134958267212,
          -6.502359390258789,
          -14.517918586730957,
          -6.617073059082031,
          -14.149086952209473,
          -50.34455490112305,
          -30.80486488342285,
          -35.02500534057617,
          -42.593475341796875,
          -33.080814361572266,
          -48.06392288208008,
          -43.8515739440918,
          -63.7742805480957,
          -32.8321647644043,
          3.7214879989624023,
          -48.9123420715332,
          -46.39421844482422,
          -27.901395797729492
         ],
         "z": [
          33.52610397338867,
          2.444183588027954,
          -4.472977161407471,
          31.861804962158203,
          32.748905181884766,
          37.189815521240234,
          3.851856231689453,
          31.61870002746582,
          1.6737146377563477,
          5.405576229095459,
          1.7811448574066162,
          31.78816795349121,
          -5.672760963439941,
          31.9556884765625,
          125.64574432373047,
          36.20995330810547,
          32.89856719970703,
          35.27460479736328,
          1.9910587072372437,
          8.647953987121582,
          0.6054890751838684,
          30.741924285888672,
          42.24124526977539,
          5.616896629333496,
          43.90907669067383,
          -1.1675693988800049,
          -2.5310606956481934,
          33.8502197265625,
          -1.7316131591796875,
          -5.049018859863281,
          -4.545928478240967,
          10.74067497253418,
          10.418437004089355,
          20.7386474609375,
          -2.426177740097046,
          23.54466438293457,
          6.714169025421143,
          9.173133850097656,
          28.313512802124023,
          6.034440517425537,
          6.306940078735352,
          30.684783935546875,
          21.458824157714844,
          6.155144214630127,
          36.29490280151367,
          0.8089843392372131,
          9.657200813293457,
          8.167305946350098,
          1.280754566192627,
          32.32023239135742,
          6.946134090423584,
          26.626850128173828,
          4.64308500289917,
          10.417008399963379,
          9.823871612548828,
          31.12822914123535,
          32.096405029296875,
          22.033491134643555,
          -6.230306625366211,
          7.1384382247924805,
          11.82937240600586,
          15.885846138000488,
          7.990316390991211,
          -6.217715263366699,
          4.314609050750732,
          -0.7241188883781433,
          -9.98575496673584,
          9.797197341918945,
          19.636438369750977,
          27.046123504638672,
          7.298007965087891,
          -4.063405513763428,
          -7.591188907623291,
          23.556074142456055,
          0.7650196552276611,
          -4.324703216552734,
          28.855613708496094,
          31.980281829833984,
          33.5184326171875,
          8.310609817504883,
          25.667417526245117,
          33.03346633911133,
          -7.272939682006836,
          28.54404640197754,
          10.189713478088379,
          14.70949935913086,
          3.8012237548828125,
          25.040786743164062,
          -3.1974411010742188,
          28.498260498046875,
          30.87400245666504,
          1.238881230354309,
          -9.934831619262695,
          6.954226016998291,
          25.21449089050293,
          -7.881289005279541,
          10.863962173461914,
          -4.7493462562561035,
          -6.5864386558532715,
          -11.774182319641113,
          2.5580832958221436,
          -3.1622493267059326,
          -11.894947052001953,
          -0.763357937335968,
          -6.574005126953125,
          28.48706817626953,
          6.0969953536987305,
          -9.569856643676758,
          -7.908479690551758,
          8.332138061523438,
          -2.4932162761688232,
          -13.76860237121582,
          -1.603881597518921,
          -12.251422882080078,
          5.507862567901611,
          1.2219104766845703,
          -4.022248268127441,
          -4.116950511932373,
          -8.447087287902832,
          4.959840774536133,
          -5.893196105957031,
          -8.043238639831543,
          20.290987014770508,
          -5.420224189758301,
          10.746309280395508,
          -2.3039586544036865,
          13.510771751403809,
          -12.343932151794434,
          -4.137907981872559,
          -9.895276069641113,
          -10.274495124816895,
          -10.347251892089844,
          19.297513961791992,
          0.693530797958374,
          34.73118209838867,
          42.36494445800781,
          44.201019287109375,
          -5.778939247131348,
          36.05021667480469,
          4.63361120223999,
          33.655784606933594,
          42.43116760253906,
          37.17819595336914,
          -4.306389808654785,
          41.04791259765625,
          4.633265018463135,
          37.542198181152344,
          4.993454456329346,
          31.67388916015625,
          -1184.2711181640625,
          122.69407653808594,
          39.08221435546875,
          39.4496955871582,
          -1.7963697910308838,
          44.6135368347168,
          6.116008758544922,
          35.10211181640625,
          45.73445510864258,
          43.604400634765625,
          7.021518230438232,
          39.048946380615234,
          -1.6818139553070068,
          36.01001739501953,
          11.153938293457031,
          7.111074447631836,
          35.0716552734375,
          31.048648834228516,
          39.19319534301758,
          -2.389935255050659,
          42.48314666748047,
          27.38381576538086,
          41.99031066894531,
          10.200085639953613,
          24.043920516967773,
          9.874095916748047,
          34.848243713378906,
          39.60695266723633,
          2.5961873531341553,
          28.51122283935547,
          4.971691131591797,
          2.7791099548339844,
          12.18494701385498,
          6.987124919891357,
          4.265190124511719,
          16.33561134338379,
          -9.175715446472168,
          -6.804567813873291,
          9.073599815368652,
          -11.932153701782227,
          14.655389785766602,
          5.779026508331299,
          12.392186164855957,
          -9.701878547668457,
          -6.171171188354492,
          10.824557304382324,
          9.166852951049805,
          -11.992980003356934
         ]
        }
       ],
       "layout": {
        "legend": {
         "title": {
          "text": "color"
         },
         "tracegroupgap": 0
        },
        "margin": {
         "t": 60
        },
        "scene": {
         "domain": {
          "x": [
           0,
           1
          ],
          "y": [
           0,
           1
          ]
         },
         "xaxis": {
          "title": {
           "text": "x"
          }
         },
         "yaxis": {
          "title": {
           "text": "y"
          }
         },
         "zaxis": {
          "title": {
           "text": "z"
          }
         }
        },
        "template": {
         "data": {
          "bar": [
           {
            "error_x": {
             "color": "#2a3f5f"
            },
            "error_y": {
             "color": "#2a3f5f"
            },
            "marker": {
             "line": {
              "color": "#E5ECF6",
              "width": 0.5
             },
             "pattern": {
              "fillmode": "overlay",
              "size": 10,
              "solidity": 0.2
             }
            },
            "type": "bar"
           }
          ],
          "barpolar": [
           {
            "marker": {
             "line": {
              "color": "#E5ECF6",
              "width": 0.5
             },
             "pattern": {
              "fillmode": "overlay",
              "size": 10,
              "solidity": 0.2
             }
            },
            "type": "barpolar"
           }
          ],
          "carpet": [
           {
            "aaxis": {
             "endlinecolor": "#2a3f5f",
             "gridcolor": "white",
             "linecolor": "white",
             "minorgridcolor": "white",
             "startlinecolor": "#2a3f5f"
            },
            "baxis": {
             "endlinecolor": "#2a3f5f",
             "gridcolor": "white",
             "linecolor": "white",
             "minorgridcolor": "white",
             "startlinecolor": "#2a3f5f"
            },
            "type": "carpet"
           }
          ],
          "choropleth": [
           {
            "colorbar": {
             "outlinewidth": 0,
             "ticks": ""
            },
            "type": "choropleth"
           }
          ],
          "contour": [
           {
            "colorbar": {
             "outlinewidth": 0,
             "ticks": ""
            },
            "colorscale": [
             [
              0,
              "#0d0887"
             ],
             [
              0.1111111111111111,
              "#46039f"
             ],
             [
              0.2222222222222222,
              "#7201a8"
             ],
             [
              0.3333333333333333,
              "#9c179e"
             ],
             [
              0.4444444444444444,
              "#bd3786"
             ],
             [
              0.5555555555555556,
              "#d8576b"
             ],
             [
              0.6666666666666666,
              "#ed7953"
             ],
             [
              0.7777777777777778,
              "#fb9f3a"
             ],
             [
              0.8888888888888888,
              "#fdca26"
             ],
             [
              1,
              "#f0f921"
             ]
            ],
            "type": "contour"
           }
          ],
          "contourcarpet": [
           {
            "colorbar": {
             "outlinewidth": 0,
             "ticks": ""
            },
            "type": "contourcarpet"
           }
          ],
          "heatmap": [
           {
            "colorbar": {
             "outlinewidth": 0,
             "ticks": ""
            },
            "colorscale": [
             [
              0,
              "#0d0887"
             ],
             [
              0.1111111111111111,
              "#46039f"
             ],
             [
              0.2222222222222222,
              "#7201a8"
             ],
             [
              0.3333333333333333,
              "#9c179e"
             ],
             [
              0.4444444444444444,
              "#bd3786"
             ],
             [
              0.5555555555555556,
              "#d8576b"
             ],
             [
              0.6666666666666666,
              "#ed7953"
             ],
             [
              0.7777777777777778,
              "#fb9f3a"
             ],
             [
              0.8888888888888888,
              "#fdca26"
             ],
             [
              1,
              "#f0f921"
             ]
            ],
            "type": "heatmap"
           }
          ],
          "heatmapgl": [
           {
            "colorbar": {
             "outlinewidth": 0,
             "ticks": ""
            },
            "colorscale": [
             [
              0,
              "#0d0887"
             ],
             [
              0.1111111111111111,
              "#46039f"
             ],
             [
              0.2222222222222222,
              "#7201a8"
             ],
             [
              0.3333333333333333,
              "#9c179e"
             ],
             [
              0.4444444444444444,
              "#bd3786"
             ],
             [
              0.5555555555555556,
              "#d8576b"
             ],
             [
              0.6666666666666666,
              "#ed7953"
             ],
             [
              0.7777777777777778,
              "#fb9f3a"
             ],
             [
              0.8888888888888888,
              "#fdca26"
             ],
             [
              1,
              "#f0f921"
             ]
            ],
            "type": "heatmapgl"
           }
          ],
          "histogram": [
           {
            "marker": {
             "pattern": {
              "fillmode": "overlay",
              "size": 10,
              "solidity": 0.2
             }
            },
            "type": "histogram"
           }
          ],
          "histogram2d": [
           {
            "colorbar": {
             "outlinewidth": 0,
             "ticks": ""
            },
            "colorscale": [
             [
              0,
              "#0d0887"
             ],
             [
              0.1111111111111111,
              "#46039f"
             ],
             [
              0.2222222222222222,
              "#7201a8"
             ],
             [
              0.3333333333333333,
              "#9c179e"
             ],
             [
              0.4444444444444444,
              "#bd3786"
             ],
             [
              0.5555555555555556,
              "#d8576b"
             ],
             [
              0.6666666666666666,
              "#ed7953"
             ],
             [
              0.7777777777777778,
              "#fb9f3a"
             ],
             [
              0.8888888888888888,
              "#fdca26"
             ],
             [
              1,
              "#f0f921"
             ]
            ],
            "type": "histogram2d"
           }
          ],
          "histogram2dcontour": [
           {
            "colorbar": {
             "outlinewidth": 0,
             "ticks": ""
            },
            "colorscale": [
             [
              0,
              "#0d0887"
             ],
             [
              0.1111111111111111,
              "#46039f"
             ],
             [
              0.2222222222222222,
              "#7201a8"
             ],
             [
              0.3333333333333333,
              "#9c179e"
             ],
             [
              0.4444444444444444,
              "#bd3786"
             ],
             [
              0.5555555555555556,
              "#d8576b"
             ],
             [
              0.6666666666666666,
              "#ed7953"
             ],
             [
              0.7777777777777778,
              "#fb9f3a"
             ],
             [
              0.8888888888888888,
              "#fdca26"
             ],
             [
              1,
              "#f0f921"
             ]
            ],
            "type": "histogram2dcontour"
           }
          ],
          "mesh3d": [
           {
            "colorbar": {
             "outlinewidth": 0,
             "ticks": ""
            },
            "type": "mesh3d"
           }
          ],
          "parcoords": [
           {
            "line": {
             "colorbar": {
              "outlinewidth": 0,
              "ticks": ""
             }
            },
            "type": "parcoords"
           }
          ],
          "pie": [
           {
            "automargin": true,
            "type": "pie"
           }
          ],
          "scatter": [
           {
            "fillpattern": {
             "fillmode": "overlay",
             "size": 10,
             "solidity": 0.2
            },
            "type": "scatter"
           }
          ],
          "scatter3d": [
           {
            "line": {
             "colorbar": {
              "outlinewidth": 0,
              "ticks": ""
             }
            },
            "marker": {
             "colorbar": {
              "outlinewidth": 0,
              "ticks": ""
             }
            },
            "type": "scatter3d"
           }
          ],
          "scattercarpet": [
           {
            "marker": {
             "colorbar": {
              "outlinewidth": 0,
              "ticks": ""
             }
            },
            "type": "scattercarpet"
           }
          ],
          "scattergeo": [
           {
            "marker": {
             "colorbar": {
              "outlinewidth": 0,
              "ticks": ""
             }
            },
            "type": "scattergeo"
           }
          ],
          "scattergl": [
           {
            "marker": {
             "colorbar": {
              "outlinewidth": 0,
              "ticks": ""
             }
            },
            "type": "scattergl"
           }
          ],
          "scattermapbox": [
           {
            "marker": {
             "colorbar": {
              "outlinewidth": 0,
              "ticks": ""
             }
            },
            "type": "scattermapbox"
           }
          ],
          "scatterpolar": [
           {
            "marker": {
             "colorbar": {
              "outlinewidth": 0,
              "ticks": ""
             }
            },
            "type": "scatterpolar"
           }
          ],
          "scatterpolargl": [
           {
            "marker": {
             "colorbar": {
              "outlinewidth": 0,
              "ticks": ""
             }
            },
            "type": "scatterpolargl"
           }
          ],
          "scatterternary": [
           {
            "marker": {
             "colorbar": {
              "outlinewidth": 0,
              "ticks": ""
             }
            },
            "type": "scatterternary"
           }
          ],
          "surface": [
           {
            "colorbar": {
             "outlinewidth": 0,
             "ticks": ""
            },
            "colorscale": [
             [
              0,
              "#0d0887"
             ],
             [
              0.1111111111111111,
              "#46039f"
             ],
             [
              0.2222222222222222,
              "#7201a8"
             ],
             [
              0.3333333333333333,
              "#9c179e"
             ],
             [
              0.4444444444444444,
              "#bd3786"
             ],
             [
              0.5555555555555556,
              "#d8576b"
             ],
             [
              0.6666666666666666,
              "#ed7953"
             ],
             [
              0.7777777777777778,
              "#fb9f3a"
             ],
             [
              0.8888888888888888,
              "#fdca26"
             ],
             [
              1,
              "#f0f921"
             ]
            ],
            "type": "surface"
           }
          ],
          "table": [
           {
            "cells": {
             "fill": {
              "color": "#EBF0F8"
             },
             "line": {
              "color": "white"
             }
            },
            "header": {
             "fill": {
              "color": "#C8D4E3"
             },
             "line": {
              "color": "white"
             }
            },
            "type": "table"
           }
          ]
         },
         "layout": {
          "annotationdefaults": {
           "arrowcolor": "#2a3f5f",
           "arrowhead": 0,
           "arrowwidth": 1
          },
          "autotypenumbers": "strict",
          "coloraxis": {
           "colorbar": {
            "outlinewidth": 0,
            "ticks": ""
           }
          },
          "colorscale": {
           "diverging": [
            [
             0,
             "#8e0152"
            ],
            [
             0.1,
             "#c51b7d"
            ],
            [
             0.2,
             "#de77ae"
            ],
            [
             0.3,
             "#f1b6da"
            ],
            [
             0.4,
             "#fde0ef"
            ],
            [
             0.5,
             "#f7f7f7"
            ],
            [
             0.6,
             "#e6f5d0"
            ],
            [
             0.7,
             "#b8e186"
            ],
            [
             0.8,
             "#7fbc41"
            ],
            [
             0.9,
             "#4d9221"
            ],
            [
             1,
             "#276419"
            ]
           ],
           "sequential": [
            [
             0,
             "#0d0887"
            ],
            [
             0.1111111111111111,
             "#46039f"
            ],
            [
             0.2222222222222222,
             "#7201a8"
            ],
            [
             0.3333333333333333,
             "#9c179e"
            ],
            [
             0.4444444444444444,
             "#bd3786"
            ],
            [
             0.5555555555555556,
             "#d8576b"
            ],
            [
             0.6666666666666666,
             "#ed7953"
            ],
            [
             0.7777777777777778,
             "#fb9f3a"
            ],
            [
             0.8888888888888888,
             "#fdca26"
            ],
            [
             1,
             "#f0f921"
            ]
           ],
           "sequentialminus": [
            [
             0,
             "#0d0887"
            ],
            [
             0.1111111111111111,
             "#46039f"
            ],
            [
             0.2222222222222222,
             "#7201a8"
            ],
            [
             0.3333333333333333,
             "#9c179e"
            ],
            [
             0.4444444444444444,
             "#bd3786"
            ],
            [
             0.5555555555555556,
             "#d8576b"
            ],
            [
             0.6666666666666666,
             "#ed7953"
            ],
            [
             0.7777777777777778,
             "#fb9f3a"
            ],
            [
             0.8888888888888888,
             "#fdca26"
            ],
            [
             1,
             "#f0f921"
            ]
           ]
          },
          "colorway": [
           "#636efa",
           "#EF553B",
           "#00cc96",
           "#ab63fa",
           "#FFA15A",
           "#19d3f3",
           "#FF6692",
           "#B6E880",
           "#FF97FF",
           "#FECB52"
          ],
          "font": {
           "color": "#2a3f5f"
          },
          "geo": {
           "bgcolor": "white",
           "lakecolor": "white",
           "landcolor": "#E5ECF6",
           "showlakes": true,
           "showland": true,
           "subunitcolor": "white"
          },
          "hoverlabel": {
           "align": "left"
          },
          "hovermode": "closest",
          "mapbox": {
           "style": "light"
          },
          "paper_bgcolor": "white",
          "plot_bgcolor": "#E5ECF6",
          "polar": {
           "angularaxis": {
            "gridcolor": "white",
            "linecolor": "white",
            "ticks": ""
           },
           "bgcolor": "#E5ECF6",
           "radialaxis": {
            "gridcolor": "white",
            "linecolor": "white",
            "ticks": ""
           }
          },
          "scene": {
           "xaxis": {
            "backgroundcolor": "#E5ECF6",
            "gridcolor": "white",
            "gridwidth": 2,
            "linecolor": "white",
            "showbackground": true,
            "ticks": "",
            "zerolinecolor": "white"
           },
           "yaxis": {
            "backgroundcolor": "#E5ECF6",
            "gridcolor": "white",
            "gridwidth": 2,
            "linecolor": "white",
            "showbackground": true,
            "ticks": "",
            "zerolinecolor": "white"
           },
           "zaxis": {
            "backgroundcolor": "#E5ECF6",
            "gridcolor": "white",
            "gridwidth": 2,
            "linecolor": "white",
            "showbackground": true,
            "ticks": "",
            "zerolinecolor": "white"
           }
          },
          "shapedefaults": {
           "line": {
            "color": "#2a3f5f"
           }
          },
          "ternary": {
           "aaxis": {
            "gridcolor": "white",
            "linecolor": "white",
            "ticks": ""
           },
           "baxis": {
            "gridcolor": "white",
            "linecolor": "white",
            "ticks": ""
           },
           "bgcolor": "#E5ECF6",
           "caxis": {
            "gridcolor": "white",
            "linecolor": "white",
            "ticks": ""
           }
          },
          "title": {
           "x": 0.05
          },
          "xaxis": {
           "automargin": true,
           "gridcolor": "white",
           "linecolor": "white",
           "ticks": "",
           "title": {
            "standoff": 15
           },
           "zerolinecolor": "white",
           "zerolinewidth": 2
          },
          "yaxis": {
           "automargin": true,
           "gridcolor": "white",
           "linecolor": "white",
           "ticks": "",
           "title": {
            "standoff": 15
           },
           "zerolinecolor": "white",
           "zerolinewidth": 2
          }
         }
        }
       }
      },
      "text/html": [
       "<div>                            <div id=\"3da412f2-db24-4a6c-8714-f41898373b89\" class=\"plotly-graph-div\" style=\"height:525px; width:100%;\"></div>            <script type=\"text/javascript\">                require([\"plotly\"], function(Plotly) {                    window.PLOTLYENV=window.PLOTLYENV || {};                                    if (document.getElementById(\"3da412f2-db24-4a6c-8714-f41898373b89\")) {                    Plotly.newPlot(                        \"3da412f2-db24-4a6c-8714-f41898373b89\",                        [{\"hovertemplate\":\"color=b<br>x=%{x}<br>y=%{y}<br>z=%{z}<extra></extra>\",\"legendgroup\":\"b\",\"marker\":{\"color\":\"#636efa\",\"symbol\":\"circle\"},\"mode\":\"markers\",\"name\":\"b\",\"scene\":\"scene\",\"showlegend\":true,\"x\":[-21.267044067382812,-36.06597137451172,-30.4609375,-26.903005599975586,-10.522098541259766,-11.172066688537598,-35.50358200073242,-33.579097747802734,-20.139205932617188,-34.801292419433594,-21.532691955566406,-20.048160552978516,-16.078256607055664,-31.024127960205078,-23.23345184326172,-26.53757095336914,-16.589069366455078,-20.381595611572266,-34.185394287109375,-24.680877685546875,-19.039701461791992,-13.879016876220703,-29.271230697631836,-23.27183723449707,-14.153593063354492,-13.993045806884766,-30.4713077545166,-25.72091293334961,-16.764545440673828,-27.04876136779785,-10.712099075317383,-21.01463508605957,-17.79693603515625,-12.57739543914795,-0.7267776727676392,5.935863018035889,16.332124710083008,10.653630256652832,-33.51859664916992,5.823702335357666,5.161942005157471,8.852254867553711,5.489107608795166,13.520792007446289,84.0427474975586,1.5232117176055908,6.861714839935303,-1.1105945110321045,8.21495246887207,9.992449760437012,18.044836044311523,-78.88306427001953,10.190162658691406,5.529528617858887,11.674993515014648,0.2912577986717224,7.53861141204834,0.6788923144340515,8.612034797668457,18.44590950012207,8.328204154968262,4.20270299911499,-21.77710723876953,14.427577018737793,8.52342414855957,2.0907599925994873,15.868163108825684,5.799005508422852,9.22774600982666,14.33255386352539,31.768972396850586,23.564762115478516,26.291427612304688,17.254390716552734,27.136953353881836,9.360555648803711,32.198673248291016,27.159940719604492,32.37428665161133,12.890089988708496,13.936925888061523,21.662534713745117,14.997796058654785,19.37211799621582,16.300519943237305,30.79879379272461,10.139127731323242,13.97585391998291,27.999364852905273,22.074153900146484,27.603469848632812,21.30132293701172,17.395112991333008,25.706993103027344,20.618406295776367,40.476531982421875,23.39597511291504,42.715972900390625,24.45811653137207,23.544315338134766,28.866249084472656,27.462055206298828,24.23588752746582,36.8121337890625,25.928308486938477,27.226430892944336,25.876117706298828,37.98743438720703,44.27800750732422,40.40578842163086,28.68001365661621,24.084733963012695,30.1612491607666,18.483291625976562,34.13698196411133,39.1591682434082,42.29051971435547,36.865142822265625,37.22797393798828,39.96656799316406,30.027252197265625,38.88172149658203,33.42483901977539,43.09455871582031,-22.969045639038086,-22.53413963317871,-24.733917236328125,-17.431264877319336,-10.650376319885254,-8.499683380126953,-28.772064208984375,-17.90882110595703,-20.731657028198242,-38.12913131713867,2.7441911697387695,-24.07947540283203,-32.08818054199219,-5.673862934112549,-21.81537628173828,-30.40770149230957,-29.06601333618164,-23.45379638671875,-17.01804542541504,-30.721755981445312,-31.2700138092041,-25.28873062133789,-23.773422241210938,-9.347555160522461,-29.65091896057129,-12.104231834411621,-18.506410598754883,-18.277950286865234,-15.310219764709473,-24.413591384887695,-17.080352783203125,-19.528425216674805,-27.129587173461914,3.749504804611206,19.652210235595703,4.860600471496582,4.800532817840576,4.240396022796631,7.389786243438721,10.786006927490234,6.2144598960876465,2.0858445167541504,8.709144592285156,6.604032039642334,4.337176322937012,6.2634406089782715,9.799295425415039,10.572393417358398,7.155150413513184,1.898878812789917,3.91137957572937,13.471965789794922,9.896615028381348,12.062995910644531,29.08721351623535,29.612564086914062,29.7270450592041,21.73213768005371,32.26485824584961,32.223934173583984,32.368988037109375,25.03771209716797,17.18193244934082,25.369630813598633,31.42034339904785,40.799686431884766,33.052799224853516,23.816953659057617,37.264034271240234,24.764509201049805,-34.1065559387207,27.049915313720703,33.74729919433594,36.472755432128906,32.0174446105957,44.705406188964844,27.09748649597168,25.400440216064453,25.914587020874023,25.26010513305664,45.45392608642578,22.284929275512695],\"y\":[35.922725677490234,14.13102912902832,13.935522079467773,25.9504451751709,43.85566711425781,11.42887020111084,18.056838989257812,7.506102561950684,36.57126235961914,9.252019882202148,7.943752765655518,27.100460052490234,8.681744575500488,24.486465454101562,32.311370849609375,22.035154342651367,15.552287101745605,28.93560028076172,19.651897430419922,18.97339630126953,2.160881519317627,42.3321533203125,3.193222999572754,29.411508560180664,12.817761421203613,40.591495513916016,24.410675048828125,3.878140449523926,38.24163818359375,21.37002944946289,10.919054985046387,33.46477508544922,42.6595573425293,7.073983669281006,6.204806804656982,31.711185455322266,13.306443214416504,-4.577503204345703,16.597509384155273,38.8298454284668,35.662445068359375,1.3824677467346191,23.091190338134766,4.3916754722595215,66.60557556152344,9.737428665161133,12.725150108337402,42.7652702331543,7.599973201751709,24.586780548095703,-7.534989356994629,25.59372901916504,14.551630020141602,30.360595703125,21.911224365234375,4.110654830932617,11.905198097229004,9.819938659667969,32.29173278808594,-0.3799690008163452,-7.851871967315674,1.9403424263000488,4.729564189910889,59.75038528442383,31.439054489135742,12.256580352783203,-6.681667327880859,5.807104110717773,32.159027099609375,6.796523094177246,-5.971858501434326,22.654258728027344,7.5764241218566895,23.846031188964844,2.9488532543182373,27.096084594726562,-11.50830364227295,2.331176996231079,-7.422783851623535,27.341739654541016,22.654117584228516,-1.8572121858596802,19.930757522583008,17.647409439086914,16.641969680786133,1.8261659145355225,23.567323684692383,17.278886795043945,6.935790538787842,16.522836685180664,-1.164661169052124,12.344599723815918,14.271845817565918,-0.6366279721260071,13.294169425964355,12.779515266418457,9.386844635009766,8.252523422241211,22.371288299560547,10.071693420410156,25.149538040161133,23.606521606445312,21.57587242126465,-17.417682647705078,18.655899047851562,21.42276954650879,9.282002449035645,7.235989570617676,10.706573486328125,10.95085334777832,8.201926231384277,12.40717887878418,11.915243148803711,42.641414642333984,8.700462341308594,13.746968269348145,7.1556925773620605,10.78486442565918,14.91001033782959,9.748248100280762,10.594999313354492,7.296443939208984,13.833026885986328,11.936604499816895,32.13788604736328,28.855127334594727,6.2822065353393555,30.62104606628418,39.981258392333984,43.24763107299805,3.967867612838745,40.68608093261719,31.368810653686523,17.157428741455078,27.957015991210938,19.151569366455078,6.475119590759277,42.44248962402344,2.4901180267333984,9.720891952514648,3.7551586627960205,22.970993041992188,4.806143760681152,4.845126628875732,10.687250137329102,4.327755928039551,26.4428653717041,36.71547317504883,5.603481769561768,37.264373779296875,31.3853702545166,0.16408143937587738,44.56779861450195,33.03150939941406,33.856571197509766,35.442752838134766,8.019692420959473,-8.85015869140625,-3.184669017791748,-3.8456530570983887,5.297758102416992,34.92172622680664,36.927059173583984,-5.297547817230225,17.427650451660156,13.918794631958008,35.007896423339844,-3.9760918617248535,16.162832260131836,35.57892990112305,-1.3451337814331055,8.251192092895508,9.0260009765625,-1.2618411779403687,40.40031433105469,-1.767958641052246,18.514169692993164,24.223388671875,-4.048883438110352,0.7570634484291077,-0.45229485630989075,20.76923179626465,-2.3073678016662598,-11.760886192321777,-2.266845226287842,12.259390830993652,19.423126220703125,9.192879676818848,2.7518935203552246,10.214640617370605,9.217255592346191,22.30584716796875,9.137520790100098,25.335994720458984,-14.465846061706543,24.448200225830078,9.540753364562988,11.08519458770752,8.542003631591797,11.151013374328613,11.940046310424805,14.31509017944336,10.101239204406738,13.486228942871094,10.8375883102417,11.583477973937988],\"z\":[5.8168253898620605,-21.3820858001709,-26.02112579345703,-21.729238510131836,-3.7784321308135986,-30.573514938354492,-23.78899383544922,-21.12174415588379,0.4842860996723175,-24.413700103759766,-29.579225540161133,-17.21922492980957,-29.19700050354004,-22.764877319335938,-3.4071192741394043,-20.095991134643555,-26.840534210205078,-12.876431465148926,-20.992544174194336,-22.112937927246094,-24.928831100463867,1.3392982482910156,-9.661981582641602,-0.8353308439254761,-28.130165100097656,-3.5932059288024902,-19.014638900756836,-9.01623821258545,-1.315071940422058,-24.522563934326172,-27.052629470825195,-7.873538494110107,0.6900990009307861,-29.092561721801758,-31.185924530029297,-17.988819122314453,-21.65678596496582,-33.67805862426758,73.8567886352539,-9.526837348937988,-7.167135715484619,-34.627174377441406,-20.917863845825195,-29.894676208496094,-2.0550172328948975,-26.99646759033203,-23.70884132385254,-5.417999267578125,-32.647544860839844,-17.037246704101562,-31.62060546875,239.716796875,-21.366243362426758,-14.253371238708496,-17.414480209350586,-34.23719787597656,-27.826797485351562,-30.948036193847656,-3.680274248123169,-30.74943733215332,-35.562347412109375,-36.585018157958984,-7.637720108032227,-16.906269073486328,-10.280692100524902,-23.622650146484375,-34.36848831176758,-30.726350784301758,-15.312973022460938,-32.0279541015625,-18.60561180114746,3.239884376525879,-16.355648040771484,-0.350166916847229,-21.037330627441406,-0.3802046477794647,-16.73946189880371,-16.75409507751465,-22.44613265991211,-2.1022424697875977,-4.4007110595703125,-29.55804443359375,-1.6893768310546875,-1.510080337524414,-9.639875411987305,-19.199848175048828,-2.9411470890045166,-6.211831569671631,-11.248101234436035,-4.252840042114258,-19.198013305664062,-6.047015190124512,-6.7096734046936035,-22.951927185058594,-9.668194770812988,6.791210651397705,-16.8520450592041,19.625478744506836,19.32184600830078,29.95144271850586,11.213606834411621,15.163322448730469,14.672515869140625,20.951534271240234,17.125629425048828,10.860676765441895,34.30753707885742,27.322982788085938,16.687564849853516,24.091432571411133,19.75490379333496,33.023277282714844,14.358061790466309,-25.78754997253418,25.26527976989746,10.936766624450684,25.10773468017578,8.950390815734863,6.995655536651611,12.114498138427734,22.43658447265625,22.58118438720703,9.737666130065918,11.745050430297852,5.454796314239502,-6.674811840057373,-30.735986709594727,-13.654102325439453,-8.963502883911133,-7.693188190460205,-28.425596237182617,-4.013869762420654,2.271423578262329,-20.86273193359375,-19.872522354125977,-26.11638641357422,-27.472850799560547,-5.673404693603516,-28.270822525024414,-23.982465744018555,-13.735467910766602,-23.01707649230957,-28.57994270324707,-17.739055633544922,-28.10502052307129,-26.07408332824707,-18.22887420654297,-10.5384521484375,-24.316556930541992,-12.276164054870605,-4.994287014007568,-27.81255340576172,-1.821712613105774,1.8572583198547363,-7.605228424072266,-4.760988235473633,-27.72223663330078,-36.56403732299805,-32.723201751708984,-38.18871307373047,-34.71680450439453,-12.17208194732666,-3.020695447921753,-37.81449890136719,-20.61493492126465,-27.192346572875977,-12.330978393554688,-34.49563217163086,-24.00265884399414,-15.712998390197754,-37.235286712646484,-28.864561080932617,-25.533395767211914,-36.0584831237793,-5.590236186981201,-35.61910629272461,-20.79570770263672,0.575212836265564,-22.87643051147461,-23.704357147216797,-12.970426559448242,-0.7846923470497131,-21.034500122070312,-20.091135025024414,-15.569310188293457,-7.930481433868408,-5.5041680335998535,-12.392892837524414,-12.530016899108887,29.63280487060547,31.5484561920166,8.287672996520996,31.895126342773438,11.059225082397461,-19.41793441772461,7.351991176605225,13.108871459960938,27.871444702148438,16.657373428344727,26.320215225219727,18.87700843811035,21.598779678344727,22.874103546142578,26.468914031982422,22.31829071044922,25.558242797851562],\"type\":\"scatter3d\"},{\"hovertemplate\":\"color=g<br>x=%{x}<br>y=%{y}<br>z=%{z}<extra></extra>\",\"legendgroup\":\"g\",\"marker\":{\"color\":\"#EF553B\",\"symbol\":\"circle\"},\"mode\":\"markers\",\"name\":\"g\",\"scene\":\"scene\",\"showlegend\":true,\"x\":[-16.822650909423828,-49.39965057373047,-42.795692443847656,-21.344249725341797,-25.461931228637695,-17.483646392822266,-32.733314514160156,-24.241518020629883,-31.977890014648438,-36.49922561645508,-45.48850631713867,-19.285551071166992,-46.284759521484375,-23.104211807250977,-20.900346755981445,-23.937450408935547,-31.07014274597168,-31.920787811279297,-40.64645767211914,-38.054603576660156,-47.17422866821289,-27.272750854492188,-13.470775604248047,-47.790645599365234,-14.55036735534668,-33.91830062866211,-46.7971305847168,-21.803001403808594,-46.36410140991211,-35.17536544799805,-17.974720001220703,-18.646787643432617,-21.651941299438477,0.4075632095336914,-13.981273651123047,0.3447377681732178,-18.89834213256836,-16.19564437866211,3.140899419784546,-22.55308723449707,-22.65562629699707,-0.060101576149463654,-0.7936458587646484,-17.555368423461914,-10.721659660339355,-16.148483276367188,-22.341880798339844,-22.72369956970215,-13.028511047363281,-8.545669555664062,-13.910672187805176,0.5921189188957214,-14.52842903137207,-18.264860153198242,-22.563655853271484,0.20385026931762695,-4.701167583465576,1.6178152561187744,-16.81120491027832,-18.903366088867188,24.573030471801758,15.339200019836426,23.716899871826172,2.241644859313965,9.47315788269043,9.107170104980469,2.696962833404541,15.595996856689453,11.48470687866211,11.878907203674316,20.043367385864258,4.6845927238464355,6.0786261558532715,10.031150817871094,12.687679290771484,7.3835129737854,5.852301120758057,8.84896469116211,4.991186618804932,-12.906111717224121,5.038982391357422,6.433780193328857,1.4961940050125122,8.879339218139648,16.403331756591797,12.368870735168457,13.81178092956543,7.219574451446533,9.502975463867188,8.58479118347168,12.237604141235352,8.833601951599121,4.1392502784729,18.185205459594727,7.0952863693237305,-1.2226147651672363,23.871938705444336,12.335711479187012,-6.668420314788818,3.1785666942596436,-6.940609931945801,2.167938709259033,-5.020781993865967,-11.989901542663574,-9.028367042541504,4.969753265380859,-13.640060424804688,-0.5617701411247253,9.07393741607666,11.781044006347656,-8.347626686096191,2.4779205322265625,-5.4254655838012695,-0.3685187101364136,-13.536191940307617,-14.889735221862793,-1.512008786201477,-10.572601318359375,7.063409328460693,8.019389152526855,11.630135536193848,7.181481838226318,46.00409698486328,7.644443511962891,-16.012794494628906,10.322341918945312,-12.858540534973145,-2.3237509727478027,5.5148396492004395,5.692639350891113,10.46607780456543,-7.399155616760254,12.236316680908203,7.331542015075684,-21.064739227294922,-18.615015029907227,-9.400259971618652,-32.07025146484375,-27.591981887817383,-46.00606155395508,-26.467159271240234,-11.377697944641113,-28.746112823486328,-42.43263626098633,-12.118288040161133,-36.13899612426758,-24.882373809814453,-40.333988189697266,-29.823400497436523,-456.2898864746094,7.38869047164917,-18.51105308532715,-20.316526412963867,-38.623165130615234,-13.736462593078613,-41.04960250854492,-16.34224510192871,-11.020339965820312,-7.910359859466553,-32.941097259521484,-16.397624969482422,-18.877254486083984,-6.485118389129639,-19.89840316772461,-18.467571258544922,-2.8718912601470947,-4.004284381866455,2.619084358215332,-15.076781272888184,0.08586261421442032,-1.284684419631958,2.394094228744507,-17.82406997680664,3.1057519912719727,-20.834470748901367,-6.645021438598633,-0.9430211186408997,-17.268545150756836,3.4498560428619385,6.338685512542725,5.577123165130615,20.71617889404297,6.600318431854248,13.824715614318848,-13.054549217224121,2.9771065711975098,-4.404337406158447,-11.873586654663086,4.391490459442139,-16.661724090576172,-9.645992279052734,-93.683837890625,-7.636730194091797,0.5679864883422852,-14.055168151855469,-10.169634819030762,5.8452277183532715],\"y\":[-28.599925994873047,-10.496481895446777,-0.7150207757949829,-30.018110275268555,-14.783294677734375,-27.7197265625,-4.371962547302246,-22.510534286499023,-0.6587179899215698,-10.558356285095215,-9.403033256530762,-25.21457862854004,1.4767169952392578,-18.64919662475586,53.378841400146484,-16.058134078979492,-8.236431121826172,-11.5612154006958,-2.9173927307128906,-9.13534164428711,-5.571140766143799,-20.627683639526367,-20.01321029663086,-8.554363250732422,-9.778741836547852,-0.16450761258602142,-2.169846296310425,-14.032255172729492,2.629030466079712,2.8495986461639404,2.2028632164001465,-15.422771453857422,0.4951074421405792,1.8972957134246826,3.1074705123901367,6.443424224853516,-17.389612197875977,-8.611226081848145,0.44145891070365906,-15.357054710388184,1.8845208883285522,-1.3469034433364868,8.65053653717041,-0.8942708373069763,4.376777648925781,1.5898655652999878,-17.511959075927734,-2.7408711910247803,4.913856506347656,4.290068626403809,-3.8257787227630615,-2.369314432144165,2.587691068649292,-19.9576358795166,-13.174420356750488,2.9193058013916016,5.921625137329102,-1.6807132959365845,6.130126476287842,-13.157781600952148,-13.22385311126709,-14.928306579589844,-14.00196361541748,-4.707040309906006,-5.553106784820557,-6.172765731811523,-6.083141326904297,-12.852591514587402,-14.624302864074707,-16.989368438720703,-16.535179138183594,-8.096137046813965,-8.648439407348633,-17.343385696411133,-12.295158386230469,-12.351204872131348,-16.828969955444336,-16.676023483276367,-16.708698272705078,-7.712678909301758,-6.246535301208496,-20.16769027709961,-8.69201946258545,-13.669449806213379,-16.477487564086914,-16.12377166748047,-10.344816207885742,-13.929681777954102,-9.094193458557129,-19.734310150146484,-20.389284133911133,-9.549301147460938,-12.588605880737305,-13.305061340332031,-9.958097457885742,-3.641934394836426,-16.979398727416992,-34.130340576171875,-38.8309211730957,-22.717079162597656,-41.327674865722656,-35.7883186340332,-27.92157554626465,-40.47600555419922,-35.46875,19.855892181396484,-45.999088287353516,-34.81201934814453,-24.99074935913086,-15.741121292114258,-37.43214416503906,-29.14955711364746,-39.841636657714844,-32.43231964111328,-42.054561614990234,-44.781185150146484,-36.96426010131836,-40.94893264770508,-32.7647590637207,-36.53717803955078,-30.32036018371582,-15.248553276062012,-33.2227783203125,-30.326932907104492,-45.257266998291016,-31.926437377929688,-45.8526725769043,-23.79541015625,-35.245704650878906,-18.015134811401367,-26.92793846130371,-36.67508316040039,-18.587879180908203,-35.80337905883789,-26.404216766357422,-13.605611801147461,-15.183632850646973,1.553058385848999,-12.173080444335938,-12.32067584991455,-8.881789207458496,-11.7959566116333,-7.807506084442139,3.2678065299987793,-16.515052795410156,-4.6959357261657715,-8.47089958190918,-5.3941521644592285,-11.922337532043457,-302.0281982421875,-60.05851364135742,-15.538965225219727,-11.413725852966309,0.5542541742324829,-14.24774169921875,-10.682809829711914,-24.83991813659668,-18.71875762939453,-20.037574768066406,-9.220967292785645,-12.353191375732422,5.030978679656982,5.7682414054870605,-4.207118988037109,3.0606532096862793,3.2834300994873047,1.1891841888427734,-21.629451751708984,7.338028907775879,-21.39366912841797,1.470876693725586,-24.639142990112305,-0.4972001910209656,1.4655126333236694,-7.7200164794921875,1.4166902303695679,-24.354713439941406,5.381312370300293,-39.685157775878906,-3.161134958267212,-6.502359390258789,-14.517918586730957,-6.617073059082031,-14.149086952209473,-50.34455490112305,-30.80486488342285,-35.02500534057617,-42.593475341796875,-33.080814361572266,-48.06392288208008,-43.8515739440918,-63.7742805480957,-32.8321647644043,3.7214879989624023,-48.9123420715332,-46.39421844482422,-27.901395797729492],\"z\":[33.52610397338867,2.444183588027954,-4.472977161407471,31.861804962158203,32.748905181884766,37.189815521240234,3.851856231689453,31.61870002746582,1.6737146377563477,5.405576229095459,1.7811448574066162,31.78816795349121,-5.672760963439941,31.9556884765625,125.64574432373047,36.20995330810547,32.89856719970703,35.27460479736328,1.9910587072372437,8.647953987121582,0.6054890751838684,30.741924285888672,42.24124526977539,5.616896629333496,43.90907669067383,-1.1675693988800049,-2.5310606956481934,33.8502197265625,-1.7316131591796875,-5.049018859863281,-4.545928478240967,10.74067497253418,10.418437004089355,20.7386474609375,-2.426177740097046,23.54466438293457,6.714169025421143,9.173133850097656,28.313512802124023,6.034440517425537,6.306940078735352,30.684783935546875,21.458824157714844,6.155144214630127,36.29490280151367,0.8089843392372131,9.657200813293457,8.167305946350098,1.280754566192627,32.32023239135742,6.946134090423584,26.626850128173828,4.64308500289917,10.417008399963379,9.823871612548828,31.12822914123535,32.096405029296875,22.033491134643555,-6.230306625366211,7.1384382247924805,11.82937240600586,15.885846138000488,7.990316390991211,-6.217715263366699,4.314609050750732,-0.7241188883781433,-9.98575496673584,9.797197341918945,19.636438369750977,27.046123504638672,7.298007965087891,-4.063405513763428,-7.591188907623291,23.556074142456055,0.7650196552276611,-4.324703216552734,28.855613708496094,31.980281829833984,33.5184326171875,8.310609817504883,25.667417526245117,33.03346633911133,-7.272939682006836,28.54404640197754,10.189713478088379,14.70949935913086,3.8012237548828125,25.040786743164062,-3.1974411010742188,28.498260498046875,30.87400245666504,1.238881230354309,-9.934831619262695,6.954226016998291,25.21449089050293,-7.881289005279541,10.863962173461914,-4.7493462562561035,-6.5864386558532715,-11.774182319641113,2.5580832958221436,-3.1622493267059326,-11.894947052001953,-0.763357937335968,-6.574005126953125,28.48706817626953,6.0969953536987305,-9.569856643676758,-7.908479690551758,8.332138061523438,-2.4932162761688232,-13.76860237121582,-1.603881597518921,-12.251422882080078,5.507862567901611,1.2219104766845703,-4.022248268127441,-4.116950511932373,-8.447087287902832,4.959840774536133,-5.893196105957031,-8.043238639831543,20.290987014770508,-5.420224189758301,10.746309280395508,-2.3039586544036865,13.510771751403809,-12.343932151794434,-4.137907981872559,-9.895276069641113,-10.274495124816895,-10.347251892089844,19.297513961791992,0.693530797958374,34.73118209838867,42.36494445800781,44.201019287109375,-5.778939247131348,36.05021667480469,4.63361120223999,33.655784606933594,42.43116760253906,37.17819595336914,-4.306389808654785,41.04791259765625,4.633265018463135,37.542198181152344,4.993454456329346,31.67388916015625,-1184.2711181640625,122.69407653808594,39.08221435546875,39.4496955871582,-1.7963697910308838,44.6135368347168,6.116008758544922,35.10211181640625,45.73445510864258,43.604400634765625,7.021518230438232,39.048946380615234,-1.6818139553070068,36.01001739501953,11.153938293457031,7.111074447631836,35.0716552734375,31.048648834228516,39.19319534301758,-2.389935255050659,42.48314666748047,27.38381576538086,41.99031066894531,10.200085639953613,24.043920516967773,9.874095916748047,34.848243713378906,39.60695266723633,2.5961873531341553,28.51122283935547,4.971691131591797,2.7791099548339844,12.18494701385498,6.987124919891357,4.265190124511719,16.33561134338379,-9.175715446472168,-6.804567813873291,9.073599815368652,-11.932153701782227,14.655389785766602,5.779026508331299,12.392186164855957,-9.701878547668457,-6.171171188354492,10.824557304382324,9.166852951049805,-11.992980003356934],\"type\":\"scatter3d\"}],                        {\"template\":{\"data\":{\"histogram2dcontour\":[{\"type\":\"histogram2dcontour\",\"colorbar\":{\"outlinewidth\":0,\"ticks\":\"\"},\"colorscale\":[[0.0,\"#0d0887\"],[0.1111111111111111,\"#46039f\"],[0.2222222222222222,\"#7201a8\"],[0.3333333333333333,\"#9c179e\"],[0.4444444444444444,\"#bd3786\"],[0.5555555555555556,\"#d8576b\"],[0.6666666666666666,\"#ed7953\"],[0.7777777777777778,\"#fb9f3a\"],[0.8888888888888888,\"#fdca26\"],[1.0,\"#f0f921\"]]}],\"choropleth\":[{\"type\":\"choropleth\",\"colorbar\":{\"outlinewidth\":0,\"ticks\":\"\"}}],\"histogram2d\":[{\"type\":\"histogram2d\",\"colorbar\":{\"outlinewidth\":0,\"ticks\":\"\"},\"colorscale\":[[0.0,\"#0d0887\"],[0.1111111111111111,\"#46039f\"],[0.2222222222222222,\"#7201a8\"],[0.3333333333333333,\"#9c179e\"],[0.4444444444444444,\"#bd3786\"],[0.5555555555555556,\"#d8576b\"],[0.6666666666666666,\"#ed7953\"],[0.7777777777777778,\"#fb9f3a\"],[0.8888888888888888,\"#fdca26\"],[1.0,\"#f0f921\"]]}],\"heatmap\":[{\"type\":\"heatmap\",\"colorbar\":{\"outlinewidth\":0,\"ticks\":\"\"},\"colorscale\":[[0.0,\"#0d0887\"],[0.1111111111111111,\"#46039f\"],[0.2222222222222222,\"#7201a8\"],[0.3333333333333333,\"#9c179e\"],[0.4444444444444444,\"#bd3786\"],[0.5555555555555556,\"#d8576b\"],[0.6666666666666666,\"#ed7953\"],[0.7777777777777778,\"#fb9f3a\"],[0.8888888888888888,\"#fdca26\"],[1.0,\"#f0f921\"]]}],\"heatmapgl\":[{\"type\":\"heatmapgl\",\"colorbar\":{\"outlinewidth\":0,\"ticks\":\"\"},\"colorscale\":[[0.0,\"#0d0887\"],[0.1111111111111111,\"#46039f\"],[0.2222222222222222,\"#7201a8\"],[0.3333333333333333,\"#9c179e\"],[0.4444444444444444,\"#bd3786\"],[0.5555555555555556,\"#d8576b\"],[0.6666666666666666,\"#ed7953\"],[0.7777777777777778,\"#fb9f3a\"],[0.8888888888888888,\"#fdca26\"],[1.0,\"#f0f921\"]]}],\"contourcarpet\":[{\"type\":\"contourcarpet\",\"colorbar\":{\"outlinewidth\":0,\"ticks\":\"\"}}],\"contour\":[{\"type\":\"contour\",\"colorbar\":{\"outlinewidth\":0,\"ticks\":\"\"},\"colorscale\":[[0.0,\"#0d0887\"],[0.1111111111111111,\"#46039f\"],[0.2222222222222222,\"#7201a8\"],[0.3333333333333333,\"#9c179e\"],[0.4444444444444444,\"#bd3786\"],[0.5555555555555556,\"#d8576b\"],[0.6666666666666666,\"#ed7953\"],[0.7777777777777778,\"#fb9f3a\"],[0.8888888888888888,\"#fdca26\"],[1.0,\"#f0f921\"]]}],\"surface\":[{\"type\":\"surface\",\"colorbar\":{\"outlinewidth\":0,\"ticks\":\"\"},\"colorscale\":[[0.0,\"#0d0887\"],[0.1111111111111111,\"#46039f\"],[0.2222222222222222,\"#7201a8\"],[0.3333333333333333,\"#9c179e\"],[0.4444444444444444,\"#bd3786\"],[0.5555555555555556,\"#d8576b\"],[0.6666666666666666,\"#ed7953\"],[0.7777777777777778,\"#fb9f3a\"],[0.8888888888888888,\"#fdca26\"],[1.0,\"#f0f921\"]]}],\"mesh3d\":[{\"type\":\"mesh3d\",\"colorbar\":{\"outlinewidth\":0,\"ticks\":\"\"}}],\"scatter\":[{\"fillpattern\":{\"fillmode\":\"overlay\",\"size\":10,\"solidity\":0.2},\"type\":\"scatter\"}],\"parcoords\":[{\"type\":\"parcoords\",\"line\":{\"colorbar\":{\"outlinewidth\":0,\"ticks\":\"\"}}}],\"scatterpolargl\":[{\"type\":\"scatterpolargl\",\"marker\":{\"colorbar\":{\"outlinewidth\":0,\"ticks\":\"\"}}}],\"bar\":[{\"error_x\":{\"color\":\"#2a3f5f\"},\"error_y\":{\"color\":\"#2a3f5f\"},\"marker\":{\"line\":{\"color\":\"#E5ECF6\",\"width\":0.5},\"pattern\":{\"fillmode\":\"overlay\",\"size\":10,\"solidity\":0.2}},\"type\":\"bar\"}],\"scattergeo\":[{\"type\":\"scattergeo\",\"marker\":{\"colorbar\":{\"outlinewidth\":0,\"ticks\":\"\"}}}],\"scatterpolar\":[{\"type\":\"scatterpolar\",\"marker\":{\"colorbar\":{\"outlinewidth\":0,\"ticks\":\"\"}}}],\"histogram\":[{\"marker\":{\"pattern\":{\"fillmode\":\"overlay\",\"size\":10,\"solidity\":0.2}},\"type\":\"histogram\"}],\"scattergl\":[{\"type\":\"scattergl\",\"marker\":{\"colorbar\":{\"outlinewidth\":0,\"ticks\":\"\"}}}],\"scatter3d\":[{\"type\":\"scatter3d\",\"line\":{\"colorbar\":{\"outlinewidth\":0,\"ticks\":\"\"}},\"marker\":{\"colorbar\":{\"outlinewidth\":0,\"ticks\":\"\"}}}],\"scattermapbox\":[{\"type\":\"scattermapbox\",\"marker\":{\"colorbar\":{\"outlinewidth\":0,\"ticks\":\"\"}}}],\"scatterternary\":[{\"type\":\"scatterternary\",\"marker\":{\"colorbar\":{\"outlinewidth\":0,\"ticks\":\"\"}}}],\"scattercarpet\":[{\"type\":\"scattercarpet\",\"marker\":{\"colorbar\":{\"outlinewidth\":0,\"ticks\":\"\"}}}],\"carpet\":[{\"aaxis\":{\"endlinecolor\":\"#2a3f5f\",\"gridcolor\":\"white\",\"linecolor\":\"white\",\"minorgridcolor\":\"white\",\"startlinecolor\":\"#2a3f5f\"},\"baxis\":{\"endlinecolor\":\"#2a3f5f\",\"gridcolor\":\"white\",\"linecolor\":\"white\",\"minorgridcolor\":\"white\",\"startlinecolor\":\"#2a3f5f\"},\"type\":\"carpet\"}],\"table\":[{\"cells\":{\"fill\":{\"color\":\"#EBF0F8\"},\"line\":{\"color\":\"white\"}},\"header\":{\"fill\":{\"color\":\"#C8D4E3\"},\"line\":{\"color\":\"white\"}},\"type\":\"table\"}],\"barpolar\":[{\"marker\":{\"line\":{\"color\":\"#E5ECF6\",\"width\":0.5},\"pattern\":{\"fillmode\":\"overlay\",\"size\":10,\"solidity\":0.2}},\"type\":\"barpolar\"}],\"pie\":[{\"automargin\":true,\"type\":\"pie\"}]},\"layout\":{\"autotypenumbers\":\"strict\",\"colorway\":[\"#636efa\",\"#EF553B\",\"#00cc96\",\"#ab63fa\",\"#FFA15A\",\"#19d3f3\",\"#FF6692\",\"#B6E880\",\"#FF97FF\",\"#FECB52\"],\"font\":{\"color\":\"#2a3f5f\"},\"hovermode\":\"closest\",\"hoverlabel\":{\"align\":\"left\"},\"paper_bgcolor\":\"white\",\"plot_bgcolor\":\"#E5ECF6\",\"polar\":{\"bgcolor\":\"#E5ECF6\",\"angularaxis\":{\"gridcolor\":\"white\",\"linecolor\":\"white\",\"ticks\":\"\"},\"radialaxis\":{\"gridcolor\":\"white\",\"linecolor\":\"white\",\"ticks\":\"\"}},\"ternary\":{\"bgcolor\":\"#E5ECF6\",\"aaxis\":{\"gridcolor\":\"white\",\"linecolor\":\"white\",\"ticks\":\"\"},\"baxis\":{\"gridcolor\":\"white\",\"linecolor\":\"white\",\"ticks\":\"\"},\"caxis\":{\"gridcolor\":\"white\",\"linecolor\":\"white\",\"ticks\":\"\"}},\"coloraxis\":{\"colorbar\":{\"outlinewidth\":0,\"ticks\":\"\"}},\"colorscale\":{\"sequential\":[[0.0,\"#0d0887\"],[0.1111111111111111,\"#46039f\"],[0.2222222222222222,\"#7201a8\"],[0.3333333333333333,\"#9c179e\"],[0.4444444444444444,\"#bd3786\"],[0.5555555555555556,\"#d8576b\"],[0.6666666666666666,\"#ed7953\"],[0.7777777777777778,\"#fb9f3a\"],[0.8888888888888888,\"#fdca26\"],[1.0,\"#f0f921\"]],\"sequentialminus\":[[0.0,\"#0d0887\"],[0.1111111111111111,\"#46039f\"],[0.2222222222222222,\"#7201a8\"],[0.3333333333333333,\"#9c179e\"],[0.4444444444444444,\"#bd3786\"],[0.5555555555555556,\"#d8576b\"],[0.6666666666666666,\"#ed7953\"],[0.7777777777777778,\"#fb9f3a\"],[0.8888888888888888,\"#fdca26\"],[1.0,\"#f0f921\"]],\"diverging\":[[0,\"#8e0152\"],[0.1,\"#c51b7d\"],[0.2,\"#de77ae\"],[0.3,\"#f1b6da\"],[0.4,\"#fde0ef\"],[0.5,\"#f7f7f7\"],[0.6,\"#e6f5d0\"],[0.7,\"#b8e186\"],[0.8,\"#7fbc41\"],[0.9,\"#4d9221\"],[1,\"#276419\"]]},\"xaxis\":{\"gridcolor\":\"white\",\"linecolor\":\"white\",\"ticks\":\"\",\"title\":{\"standoff\":15},\"zerolinecolor\":\"white\",\"automargin\":true,\"zerolinewidth\":2},\"yaxis\":{\"gridcolor\":\"white\",\"linecolor\":\"white\",\"ticks\":\"\",\"title\":{\"standoff\":15},\"zerolinecolor\":\"white\",\"automargin\":true,\"zerolinewidth\":2},\"scene\":{\"xaxis\":{\"backgroundcolor\":\"#E5ECF6\",\"gridcolor\":\"white\",\"linecolor\":\"white\",\"showbackground\":true,\"ticks\":\"\",\"zerolinecolor\":\"white\",\"gridwidth\":2},\"yaxis\":{\"backgroundcolor\":\"#E5ECF6\",\"gridcolor\":\"white\",\"linecolor\":\"white\",\"showbackground\":true,\"ticks\":\"\",\"zerolinecolor\":\"white\",\"gridwidth\":2},\"zaxis\":{\"backgroundcolor\":\"#E5ECF6\",\"gridcolor\":\"white\",\"linecolor\":\"white\",\"showbackground\":true,\"ticks\":\"\",\"zerolinecolor\":\"white\",\"gridwidth\":2}},\"shapedefaults\":{\"line\":{\"color\":\"#2a3f5f\"}},\"annotationdefaults\":{\"arrowcolor\":\"#2a3f5f\",\"arrowhead\":0,\"arrowwidth\":1},\"geo\":{\"bgcolor\":\"white\",\"landcolor\":\"#E5ECF6\",\"subunitcolor\":\"white\",\"showland\":true,\"showlakes\":true,\"lakecolor\":\"white\"},\"title\":{\"x\":0.05},\"mapbox\":{\"style\":\"light\"}}},\"scene\":{\"domain\":{\"x\":[0.0,1.0],\"y\":[0.0,1.0]},\"xaxis\":{\"title\":{\"text\":\"x\"}},\"yaxis\":{\"title\":{\"text\":\"y\"}},\"zaxis\":{\"title\":{\"text\":\"z\"}}},\"legend\":{\"title\":{\"text\":\"color\"},\"tracegroupgap\":0},\"margin\":{\"t\":60}},                        {\"responsive\": true}                    ).then(function(){\n",
       "                            \n",
       "var gd = document.getElementById('3da412f2-db24-4a6c-8714-f41898373b89');\n",
       "var x = new MutationObserver(function (mutations, observer) {{\n",
       "        var display = window.getComputedStyle(gd).display;\n",
       "        if (!display || display === 'none') {{\n",
       "            console.log([gd, 'removed!']);\n",
       "            Plotly.purge(gd);\n",
       "            observer.disconnect();\n",
       "        }}\n",
       "}});\n",
       "\n",
       "// Listen for the removal of the full notebook cells\n",
       "var notebookContainer = gd.closest('#notebook-container');\n",
       "if (notebookContainer) {{\n",
       "    x.observe(notebookContainer, {childList: true});\n",
       "}}\n",
       "\n",
       "// Listen for the clearing of the current output cell\n",
       "var outputEl = gd.closest('.output');\n",
       "if (outputEl) {{\n",
       "    x.observe(outputEl, {childList: true});\n",
       "}}\n",
       "\n",
       "                        })                };                });            </script>        </div>"
      ]
     },
     "metadata": {},
     "output_type": "display_data"
    }
   ],
   "source": [
    "# plot using tsne \n",
    "X_embedded  = TSNE(n_components=3, perplexity=10,random_state=24).fit_transform( X )\n",
    "colors = np.array([x for x in 'bgrcmykbgrcmykbgrcmykbgrcmyk'])\n",
    "fig = px.scatter_3d(x=X_embedded [:,0],y=X_embedded [:,1],z=X_embedded [:,2],color=colors[mbk_means_labels])\n",
    "fig.show()"
   ]
  },
  {
   "cell_type": "markdown",
   "metadata": {},
   "source": [
    "### Hierachical Clustering\n",
    "\n",
    "Hierarchical clustering used to group objects in clusters based on their similar to each other. We would be using bottom-up clustering approach, where each data point is assigned to its own cluster, and then the similar clusters are merged iteratively until all of the data points are part of one big root cluster.\n"
   ]
  },
  {
   "cell_type": "code",
   "execution_count": 231,
   "metadata": {},
   "outputs": [],
   "source": [
    "# Single linkage: \n",
    "from scipy.cluster.hierarchy import linkage\n",
    "from scipy.cluster.hierarchy import dendrogram\n",
    "from scipy.cluster.hierarchy import cut_tree\n"
   ]
  },
  {
   "cell_type": "code",
   "execution_count": 232,
   "metadata": {},
   "outputs": [
    {
     "data": {
      "text/plain": [
       "{'affinity': ['euclidean', 'l1', 'l2', 'manhattan', 'precomputed'],\n",
       " 'linkage': ['ward', 'complete', 'average', 'single'],\n",
       " 'n_clusters': range(2, 5)}"
      ]
     },
     "execution_count": 232,
     "metadata": {},
     "output_type": "execute_result"
    }
   ],
   "source": [
    "agg_grid = {\n",
    "        \"affinity\": ['euclidean', 'l1', 'l2', 'manhattan', 'precomputed'],\n",
    "        \"linkage\" : ['ward', 'complete', 'average', 'single'],\n",
    "        \"n_clusters\": range(2, 5)\n",
    "       }\n",
    "agg_grid"
   ]
  },
  {
   "cell_type": "code",
   "execution_count": 233,
   "metadata": {},
   "outputs": [],
   "source": [
    "agg_model = AgglomerativeClustering()\n",
    "agg_params = GridSearchCV(agg_model,agg_grid,scoring=silhouette_score,cv= 10).fit(X, y)"
   ]
  },
  {
   "cell_type": "code",
   "execution_count": 234,
   "metadata": {},
   "outputs": [
    {
     "data": {
      "text/plain": [
       "(0.6108486109573608,\n",
       " {'affinity': 'euclidean', 'linkage': 'ward', 'n_clusters': 2})"
      ]
     },
     "execution_count": 234,
     "metadata": {},
     "output_type": "execute_result"
    }
   ],
   "source": [
    "agg_params.best_score_, agg_params.best_params_"
   ]
  },
  {
   "cell_type": "code",
   "execution_count": 235,
   "metadata": {},
   "outputs": [],
   "source": [
    "agg_clustering_model = AgglomerativeClustering(n_clusters= agg_params.best_params_['n_clusters'], \n",
    "                                               linkage= agg_params.best_params_['linkage'], \n",
    "                                               affinity =  agg_params.best_params_['affinity'])\n",
    "agg_clustering_model.fit(X)\n",
    "agg_labels = agg_clustering_model.labels_"
   ]
  },
  {
   "cell_type": "code",
   "execution_count": 236,
   "metadata": {},
   "outputs": [
    {
     "data": {
      "text/html": [
       "<div>\n",
       "<style scoped>\n",
       "    .dataframe tbody tr th:only-of-type {\n",
       "        vertical-align: middle;\n",
       "    }\n",
       "\n",
       "    .dataframe tbody tr th {\n",
       "        vertical-align: top;\n",
       "    }\n",
       "\n",
       "    .dataframe thead th {\n",
       "        text-align: right;\n",
       "    }\n",
       "</style>\n",
       "<table border=\"1\" class=\"dataframe\">\n",
       "  <thead>\n",
       "    <tr style=\"text-align: right;\">\n",
       "      <th></th>\n",
       "      <th>Cluster</th>\n",
       "    </tr>\n",
       "  </thead>\n",
       "  <tbody>\n",
       "    <tr>\n",
       "      <th>0</th>\n",
       "      <td>202</td>\n",
       "    </tr>\n",
       "    <tr>\n",
       "      <th>1</th>\n",
       "      <td>201</td>\n",
       "    </tr>\n",
       "  </tbody>\n",
       "</table>\n",
       "</div>"
      ],
      "text/plain": [
       "   Cluster\n",
       "0      202\n",
       "1      201"
      ]
     },
     "execution_count": 236,
     "metadata": {},
     "output_type": "execute_result"
    }
   ],
   "source": [
    "agg_dataset = pd.DataFrame(X.copy())\n",
    "agg_dataset.loc[:,'Cluster'] = agg_labels\n",
    "agg_dataset.Cluster.value_counts().to_frame()"
   ]
  },
  {
   "cell_type": "code",
   "execution_count": 237,
   "metadata": {},
   "outputs": [
    {
     "data": {
      "text/plain": [
       "403"
      ]
     },
     "execution_count": 237,
     "metadata": {},
     "output_type": "execute_result"
    }
   ],
   "source": [
    "X.shape[0]"
   ]
  },
  {
   "cell_type": "code",
   "execution_count": 238,
   "metadata": {},
   "outputs": [
    {
     "data": {
      "text/plain": [
       "<matplotlib.lines.Line2D at 0x1e90274b640>"
      ]
     },
     "execution_count": 238,
     "metadata": {},
     "output_type": "execute_result"
    },
    {
     "data": {
      "image/png": "[encoded data removed]",
      "text/plain": [
       "<Figure size 576x432 with 1 Axes>"
      ]
     },
     "metadata": {
      "needs_background": "light"
     },
     "output_type": "display_data"
    }
   ],
   "source": [
    "clusters = linkage(X, method=agg_params.best_params_['linkage'])\n",
    "\n",
    "plt.figure(figsize=(8, 6))\n",
    "dendrogram = hierarchy.dendrogram(clusters)\n",
    "plt.axhline(150, color='red', linestyle='--') \n",
    "plt.axhline(100, color='crimson')"
   ]
  },
  {
   "cell_type": "code",
   "execution_count": 239,
   "metadata": {},
   "outputs": [
    {
     "data": {
      "text/html": [
       "<div>\n",
       "<style scoped>\n",
       "    .dataframe tbody tr th:only-of-type {\n",
       "        vertical-align: middle;\n",
       "    }\n",
       "\n",
       "    .dataframe tbody tr th {\n",
       "        vertical-align: top;\n",
       "    }\n",
       "\n",
       "    .dataframe thead th {\n",
       "        text-align: right;\n",
       "    }\n",
       "</style>\n",
       "<table border=\"1\" class=\"dataframe\">\n",
       "  <thead>\n",
       "    <tr style=\"text-align: right;\">\n",
       "      <th></th>\n",
       "      <th>silhouette_score</th>\n",
       "      <th>davies_bouldin_score</th>\n",
       "      <th>calinski_harabasz_score</th>\n",
       "      <th>fowlkes_mallows_score</th>\n",
       "      <th>adjusted_rand_score</th>\n",
       "      <th>adjusted_mutual_info_score</th>\n",
       "      <th>homogeneity_score</th>\n",
       "      <th>completeness_score</th>\n",
       "      <th>v_measure_score</th>\n",
       "    </tr>\n",
       "  </thead>\n",
       "  <tbody>\n",
       "    <tr>\n",
       "      <th>Agglomerative Clustering</th>\n",
       "      <td>0.45704</td>\n",
       "      <td>0.885878</td>\n",
       "      <td>404.672291</td>\n",
       "      <td>0.657503</td>\n",
       "      <td>0.426582</td>\n",
       "      <td>0.523428</td>\n",
       "      <td>0.399138</td>\n",
       "      <td>0.767617</td>\n",
       "      <td>0.525192</td>\n",
       "    </tr>\n",
       "  </tbody>\n",
       "</table>\n",
       "</div>"
      ],
      "text/plain": [
       "                           silhouette_score  davies_bouldin_score  \\\n",
       "Agglomerative Clustering            0.45704              0.885878   \n",
       "\n",
       "                           calinski_harabasz_score  fowlkes_mallows_score  \\\n",
       "Agglomerative Clustering                404.672291               0.657503   \n",
       "\n",
       "                           adjusted_rand_score  adjusted_mutual_info_score  \\\n",
       "Agglomerative Clustering              0.426582                    0.523428   \n",
       "\n",
       "                           homogeneity_score  completeness_score  \\\n",
       "Agglomerative Clustering            0.399138            0.767617   \n",
       "\n",
       "                           v_measure_score  \n",
       "Agglomerative Clustering          0.525192  "
      ]
     },
     "execution_count": 239,
     "metadata": {},
     "output_type": "execute_result"
    }
   ],
   "source": [
    "agg_df = pd.DataFrame(estimator_evaluation(agg_clustering_model, 'Agglomerative Clustering ', X , y), index=[\"Agglomerative Clustering \"])\n",
    "agg_df"
   ]
  },
  {
   "cell_type": "markdown",
   "metadata": {},
   "source": [
    "### DBSCAN\n",
    "\n",
    "DBSCAN is a non parametric clustering algorithm which groups the closed high density data points and those points that lie in the lower density areas are treated as outliers. It does this using Epsilon Parameter (Degree of closeness of points in the same cluster) and MinPts ( Minimum number of points inside the radius of circle )"
   ]
  },
  {
   "cell_type": "code",
   "execution_count": 240,
   "metadata": {},
   "outputs": [],
   "source": [
    "dbscan_grid = {\n",
    "        \"min_samples\": range(2,20,3),\n",
    "        \"metric\": ['euclidean','dice' 'manhattan', 'cosine', 'precomputed'],\n",
    "        \"algorithm\" : ['auto', 'ball_tree', 'kd_tree', 'brute'],\n",
    "        \"eps\": np.arange(0.001,3,0.01)\n",
    "       }\n",
    "#dbscan_grid"
   ]
  },
  {
   "cell_type": "code",
   "execution_count": 242,
   "metadata": {},
   "outputs": [
    {
     "data": {
      "text/plain": [
       "(0.514228312921164,\n",
       " {'algorithm': 'auto',\n",
       "  'eps': 0.11099999999999999,\n",
       "  'metric': 'euclidean',\n",
       "  'min_samples': 2})"
      ]
     },
     "execution_count": 242,
     "metadata": {},
     "output_type": "execute_result"
    }
   ],
   "source": [
    "dbscan_params.best_score_, dbscan_params.best_params_"
   ]
  },
  {
   "cell_type": "code",
   "execution_count": 243,
   "metadata": {},
   "outputs": [],
   "source": [
    "dbscan_clustering = DBSCAN(eps= dbscan_params.best_params_['eps'], \n",
    "                    min_samples= dbscan_params.best_params_['min_samples'],\n",
    "                    algorithm = dbscan_params.best_params_['algorithm'],\n",
    "                    metric = dbscan_params.best_params_['metric']\n",
    "                   ).fit(X)\n",
    "DBSCAN_dataset = pd.DataFrame(X.copy())\n",
    "DBSCAN_dataset.loc[:,'Cluster'] = dbscan_clustering.labels_ "
   ]
  },
  {
   "cell_type": "code",
   "execution_count": 244,
   "metadata": {},
   "outputs": [
    {
     "data": {
      "text/html": [
       "<div>\n",
       "<style scoped>\n",
       "    .dataframe tbody tr th:only-of-type {\n",
       "        vertical-align: middle;\n",
       "    }\n",
       "\n",
       "    .dataframe tbody tr th {\n",
       "        vertical-align: top;\n",
       "    }\n",
       "\n",
       "    .dataframe thead th {\n",
       "        text-align: right;\n",
       "    }\n",
       "</style>\n",
       "<table border=\"1\" class=\"dataframe\">\n",
       "  <thead>\n",
       "    <tr style=\"text-align: right;\">\n",
       "      <th></th>\n",
       "      <th>Cluster</th>\n",
       "    </tr>\n",
       "  </thead>\n",
       "  <tbody>\n",
       "    <tr>\n",
       "      <th>0</th>\n",
       "      <td>402</td>\n",
       "    </tr>\n",
       "    <tr>\n",
       "      <th>-1</th>\n",
       "      <td>1</td>\n",
       "    </tr>\n",
       "  </tbody>\n",
       "</table>\n",
       "</div>"
      ],
      "text/plain": [
       "    Cluster\n",
       " 0      402\n",
       "-1        1"
      ]
     },
     "execution_count": 244,
     "metadata": {},
     "output_type": "execute_result"
    }
   ],
   "source": [
    "DBSCAN_dataset.Cluster.value_counts().to_frame()"
   ]
  },
  {
   "cell_type": "code",
   "execution_count": 270,
   "metadata": {},
   "outputs": [
    {
     "data": {
      "text/html": [
       "<div>\n",
       "<style scoped>\n",
       "    .dataframe tbody tr th:only-of-type {\n",
       "        vertical-align: middle;\n",
       "    }\n",
       "\n",
       "    .dataframe tbody tr th {\n",
       "        vertical-align: top;\n",
       "    }\n",
       "\n",
       "    .dataframe thead th {\n",
       "        text-align: right;\n",
       "    }\n",
       "</style>\n",
       "<table border=\"1\" class=\"dataframe\">\n",
       "  <thead>\n",
       "    <tr style=\"text-align: right;\">\n",
       "      <th></th>\n",
       "      <th>silhouette_score</th>\n",
       "      <th>davies_bouldin_score</th>\n",
       "      <th>calinski_harabasz_score</th>\n",
       "      <th>fowlkes_mallows_score</th>\n",
       "      <th>adjusted_rand_score</th>\n",
       "      <th>adjusted_mutual_info_score</th>\n",
       "      <th>homogeneity_score</th>\n",
       "      <th>completeness_score</th>\n",
       "      <th>v_measure_score</th>\n",
       "    </tr>\n",
       "  </thead>\n",
       "  <tbody>\n",
       "    <tr>\n",
       "      <th>DBSCAN</th>\n",
       "      <td>0.352433</td>\n",
       "      <td>0.460664</td>\n",
       "      <td>4.002449</td>\n",
       "      <td>0.520202</td>\n",
       "      <td>0.00028</td>\n",
       "      <td>0.000151</td>\n",
       "      <td>0.002564</td>\n",
       "      <td>0.196871</td>\n",
       "      <td>0.005063</td>\n",
       "    </tr>\n",
       "  </tbody>\n",
       "</table>\n",
       "</div>"
      ],
      "text/plain": [
       "        silhouette_score  davies_bouldin_score  calinski_harabasz_score  \\\n",
       "DBSCAN          0.352433              0.460664                 4.002449   \n",
       "\n",
       "        fowlkes_mallows_score  adjusted_rand_score  \\\n",
       "DBSCAN               0.520202              0.00028   \n",
       "\n",
       "        adjusted_mutual_info_score  homogeneity_score  completeness_score  \\\n",
       "DBSCAN                    0.000151           0.002564            0.196871   \n",
       "\n",
       "        v_measure_score  \n",
       "DBSCAN         0.005063  "
      ]
     },
     "execution_count": 270,
     "metadata": {},
     "output_type": "execute_result"
    }
   ],
   "source": [
    "dbscan_df = pd.DataFrame(estimator_evaluation2(dbscan_clustering, 'DBSCAN', X ,y), index=[\"DBSCAN\"])\n",
    "dbscan_df"
   ]
  },
  {
   "cell_type": "code",
   "execution_count": 246,
   "metadata": {},
   "outputs": [
    {
     "data": {
      "application/vnd.plotly.v1+json": {
       "config": {
        "plotlyServerURL": "https://plot.ly"
       },
       "data": [
        {
         "hovertemplate": "color=b<br>x=%{x}<br>y=%{y}<br>z=%{z}<extra></extra>",
         "legendgroup": "b",
         "marker": {
          "color": "#636efa",
          "symbol": "circle"
         },
         "mode": "markers",
         "name": "b",
         "scene": "scene",
         "showlegend": true,
         "type": "scatter3d",
         "x": [
          -21.267044067382812,
          -16.822650909423828,
          -36.06597137451172,
          -30.4609375,
          -26.903005599975586,
          -49.39965057373047,
          -42.795692443847656,
          -10.522098541259766,
          -11.172066688537598,
          -21.344249725341797,
          -25.461931228637695,
          -35.50358200073242,
          -33.579097747802734,
          -17.483646392822266,
          -32.733314514160156,
          -24.241518020629883,
          -20.139205932617188,
          -34.801292419433594,
          -21.532691955566406,
          -31.977890014648438,
          -20.048160552978516,
          -36.49922561645508,
          -45.48850631713867,
          -16.078256607055664,
          -31.024127960205078,
          -19.285551071166992,
          -23.23345184326172,
          -26.53757095336914,
          -46.284759521484375,
          -23.104211807250977,
          -20.900346755981445,
          -16.589069366455078,
          -20.381595611572266,
          -23.937450408935547,
          -31.07014274597168,
          -34.185394287109375,
          -24.680877685546875,
          -19.039701461791992,
          -13.879016876220703,
          -29.271230697631836,
          -23.27183723449707,
          -31.920787811279297,
          -40.64645767211914,
          -14.153593063354492,
          -13.993045806884766,
          -38.054603576660156,
          -47.17422866821289,
          -27.272750854492188,
          -13.470775604248047,
          -47.790645599365234,
          -30.4713077545166,
          -25.72091293334961,
          -16.764545440673828,
          -14.55036735534668,
          -33.91830062866211,
          -27.04876136779785,
          -10.712099075317383,
          -46.7971305847168,
          -21.803001403808594,
          -21.01463508605957,
          -17.79693603515625,
          -46.36410140991211,
          -35.17536544799805,
          -12.57739543914795,
          -0.7267776727676392,
          5.935863018035889,
          16.332124710083008,
          -17.974720001220703,
          10.653630256652832,
          -18.646787643432617,
          -21.651941299438477,
          0.4075632095336914,
          -33.51859664916992,
          -13.981273651123047,
          0.3447377681732178,
          5.823702335357666,
          5.161942005157471,
          8.852254867553711,
          5.489107608795166,
          13.520792007446289,
          84.0427474975586,
          -18.89834213256836,
          -16.19564437866211,
          1.5232117176055908,
          6.861714839935303,
          -1.1105945110321045,
          3.140899419784546,
          8.21495246887207,
          9.992449760437012,
          -22.55308723449707,
          -22.65562629699707,
          18.044836044311523,
          -78.88306427001953,
          10.190162658691406,
          -0.060101576149463654,
          5.529528617858887,
          11.674993515014648,
          -0.7936458587646484,
          -17.555368423461914,
          0.2912577986717224,
          7.53861141204834,
          -10.721659660339355,
          -16.148483276367188,
          0.6788923144340515,
          8.612034797668457,
          -22.341880798339844,
          -22.72369956970215,
          -13.028511047363281,
          18.44590950012207,
          -8.545669555664062,
          8.328204154968262,
          4.20270299911499,
          -13.910672187805176,
          0.5921189188957214,
          -14.52842903137207,
          -21.77710723876953,
          14.427577018737793,
          -18.264860153198242,
          -22.563655853271484,
          0.20385026931762695,
          8.52342414855957,
          2.0907599925994873,
          15.868163108825684,
          -4.701167583465576,
          1.6178152561187744,
          -16.81120491027832,
          -18.903366088867188,
          5.799005508422852,
          9.22774600982666,
          14.33255386352539,
          31.768972396850586,
          24.573030471801758,
          23.564762115478516,
          15.339200019836426,
          23.716899871826172,
          2.241644859313965,
          26.291427612304688,
          17.254390716552734,
          9.47315788269043,
          27.136953353881836,
          9.360555648803711,
          32.198673248291016,
          9.107170104980469,
          27.159940719604492,
          2.696962833404541,
          15.595996856689453,
          32.37428665161133,
          12.890089988708496,
          13.936925888061523,
          11.48470687866211,
          11.878907203674316,
          21.662534713745117,
          14.997796058654785,
          19.37211799621582,
          20.043367385864258,
          4.6845927238464355,
          6.0786261558532715,
          10.031150817871094,
          12.687679290771484,
          7.3835129737854,
          16.300519943237305,
          30.79879379272461,
          5.852301120758057,
          8.84896469116211,
          10.139127731323242,
          4.991186618804932,
          -12.906111717224121,
          5.038982391357422,
          13.97585391998291,
          6.433780193328857,
          27.999364852905273,
          1.4961940050125122,
          8.879339218139648,
          22.074153900146484,
          16.403331756591797,
          27.603469848632812,
          21.30132293701172,
          12.368870735168457,
          13.81178092956543,
          7.219574451446533,
          17.395112991333008,
          9.502975463867188,
          8.58479118347168,
          25.706993103027344,
          20.618406295776367,
          40.476531982421875,
          12.237604141235352,
          8.833601951599121,
          23.39597511291504,
          4.1392502784729,
          18.185205459594727,
          7.0952863693237305,
          -1.2226147651672363,
          23.871938705444336,
          12.335711479187012,
          42.715972900390625,
          24.45811653137207,
          23.544315338134766,
          -6.668420314788818,
          28.866249084472656,
          27.462055206298828,
          3.1785666942596436,
          24.23588752746582,
          36.8121337890625,
          -6.940609931945801,
          25.928308486938477,
          2.167938709259033,
          -5.020781993865967,
          27.226430892944336,
          -11.989901542663574,
          -9.028367042541504,
          4.969753265380859,
          -13.640060424804688,
          25.876117706298828,
          -0.5617701411247253,
          37.98743438720703,
          44.27800750732422,
          9.07393741607666,
          11.781044006347656,
          40.40578842163086,
          28.68001365661621,
          24.084733963012695,
          -8.347626686096191,
          2.4779205322265625,
          30.1612491607666,
          -5.4254655838012695,
          -0.3685187101364136,
          18.483291625976562,
          -13.536191940307617,
          -1.512008786201477,
          34.13698196411133,
          39.1591682434082,
          -10.572601318359375,
          7.063409328460693,
          42.29051971435547,
          36.865142822265625,
          8.019389152526855,
          11.630135536193848,
          7.181481838226318,
          37.22797393798828,
          46.00409698486328,
          7.644443511962891,
          39.96656799316406,
          30.027252197265625,
          -16.012794494628906,
          10.322341918945312,
          38.88172149658203,
          -12.858540534973145,
          -2.3237509727478027,
          5.5148396492004395,
          5.692639350891113,
          33.42483901977539,
          10.46607780456543,
          -7.399155616760254,
          12.236316680908203,
          43.09455871582031,
          7.331542015075684,
          -22.969045639038086,
          -22.53413963317871,
          -21.064739227294922,
          -18.615015029907227,
          -9.400259971618652,
          -24.733917236328125,
          -32.07025146484375,
          -17.431264877319336,
          -27.591981887817383,
          -10.650376319885254,
          -46.00606155395508,
          -8.499683380126953,
          -26.467159271240234,
          -28.772064208984375,
          -11.377697944641113,
          -17.90882110595703,
          -28.746112823486328,
          -20.731657028198242,
          -38.12913131713867,
          -42.43263626098633,
          -12.118288040161133,
          2.7441911697387695,
          -24.07947540283203,
          -32.08818054199219,
          -36.13899612426758,
          -5.673862934112549,
          -21.81537628173828,
          -30.40770149230957,
          -29.06601333618164,
          -23.45379638671875,
          -17.01804542541504,
          -30.721755981445312,
          -31.2700138092041,
          -24.882373809814453,
          -25.28873062133789,
          -40.333988189697266,
          -23.773422241210938,
          -29.823400497436523,
          -456.2898864746094,
          7.38869047164917,
          -9.347555160522461,
          -29.65091896057129,
          -18.51105308532715,
          -12.104231834411621,
          -20.316526412963867,
          -18.506410598754883,
          -38.623165130615234,
          -18.277950286865234,
          -13.736462593078613,
          -15.310219764709473,
          -41.04960250854492,
          -24.413591384887695,
          -16.34224510192871,
          -17.080352783203125,
          -11.020339965820312,
          -19.528425216674805,
          -27.129587173461914,
          -7.910359859466553,
          -32.941097259521484,
          -16.397624969482422,
          3.749504804611206,
          -18.877254486083984,
          -6.485118389129639,
          19.652210235595703,
          -19.89840316772461,
          4.860600471496582,
          -18.467571258544922,
          4.800532817840576,
          -2.8718912601470947,
          4.240396022796631,
          -4.004284381866455,
          7.389786243438721,
          2.619084358215332,
          -15.076781272888184,
          10.786006927490234,
          0.08586261421442032,
          6.2144598960876465,
          -1.284684419631958,
          2.394094228744507,
          -17.82406997680664,
          3.1057519912719727,
          2.0858445167541504,
          8.709144592285156,
          6.604032039642334,
          -20.834470748901367,
          4.337176322937012,
          -6.645021438598633,
          6.2634406089782715,
          9.799295425415039,
          -0.9430211186408997,
          10.572393417358398,
          7.155150413513184,
          1.898878812789917,
          3.91137957572937,
          13.471965789794922,
          -17.268545150756836,
          3.4498560428619385,
          9.896615028381348,
          12.062995910644531,
          29.08721351623535,
          6.338685512542725,
          29.612564086914062,
          5.577123165130615,
          29.7270450592041,
          21.73213768005371,
          32.26485824584961,
          20.71617889404297,
          6.600318431854248,
          32.223934173583984,
          13.824715614318848,
          32.368988037109375,
          25.03771209716797,
          17.18193244934082,
          25.369630813598633,
          31.42034339904785,
          40.799686431884766,
          -13.054549217224121,
          33.052799224853516,
          2.9771065711975098,
          -4.404337406158447,
          -11.873586654663086,
          23.816953659057617,
          37.264034271240234,
          4.391490459442139,
          24.764509201049805,
          -16.661724090576172,
          -34.1065559387207,
          -9.645992279052734,
          27.049915313720703,
          -93.683837890625,
          33.74729919433594,
          36.472755432128906,
          -7.636730194091797,
          32.0174446105957,
          0.5679864883422852,
          44.705406188964844,
          27.09748649597168,
          25.400440216064453,
          25.914587020874023,
          25.26010513305664,
          -14.055168151855469,
          -10.169634819030762,
          45.45392608642578,
          5.8452277183532715,
          22.284929275512695
         ],
         "y": [
          35.922725677490234,
          -28.599925994873047,
          14.13102912902832,
          13.935522079467773,
          25.9504451751709,
          -10.496481895446777,
          -0.7150207757949829,
          43.85566711425781,
          11.42887020111084,
          -30.018110275268555,
          -14.783294677734375,
          18.056838989257812,
          7.506102561950684,
          -27.7197265625,
          -4.371962547302246,
          -22.510534286499023,
          36.57126235961914,
          9.252019882202148,
          7.943752765655518,
          -0.6587179899215698,
          27.100460052490234,
          -10.558356285095215,
          -9.403033256530762,
          8.681744575500488,
          24.486465454101562,
          -25.21457862854004,
          32.311370849609375,
          22.035154342651367,
          1.4767169952392578,
          -18.64919662475586,
          53.378841400146484,
          15.552287101745605,
          28.93560028076172,
          -16.058134078979492,
          -8.236431121826172,
          19.651897430419922,
          18.97339630126953,
          2.160881519317627,
          42.3321533203125,
          3.193222999572754,
          29.411508560180664,
          -11.5612154006958,
          -2.9173927307128906,
          12.817761421203613,
          40.591495513916016,
          -9.13534164428711,
          -5.571140766143799,
          -20.627683639526367,
          -20.01321029663086,
          -8.554363250732422,
          24.410675048828125,
          3.878140449523926,
          38.24163818359375,
          -9.778741836547852,
          -0.16450761258602142,
          21.37002944946289,
          10.919054985046387,
          -2.169846296310425,
          -14.032255172729492,
          33.46477508544922,
          42.6595573425293,
          2.629030466079712,
          2.8495986461639404,
          7.073983669281006,
          6.204806804656982,
          31.711185455322266,
          13.306443214416504,
          2.2028632164001465,
          -4.577503204345703,
          -15.422771453857422,
          0.4951074421405792,
          1.8972957134246826,
          16.597509384155273,
          3.1074705123901367,
          6.443424224853516,
          38.8298454284668,
          35.662445068359375,
          1.3824677467346191,
          23.091190338134766,
          4.3916754722595215,
          66.60557556152344,
          -17.389612197875977,
          -8.611226081848145,
          9.737428665161133,
          12.725150108337402,
          42.7652702331543,
          0.44145891070365906,
          7.599973201751709,
          24.586780548095703,
          -15.357054710388184,
          1.8845208883285522,
          -7.534989356994629,
          25.59372901916504,
          14.551630020141602,
          -1.3469034433364868,
          30.360595703125,
          21.911224365234375,
          8.65053653717041,
          -0.8942708373069763,
          4.110654830932617,
          11.905198097229004,
          4.376777648925781,
          1.5898655652999878,
          9.819938659667969,
          32.29173278808594,
          -17.511959075927734,
          -2.7408711910247803,
          4.913856506347656,
          -0.3799690008163452,
          4.290068626403809,
          -7.851871967315674,
          1.9403424263000488,
          -3.8257787227630615,
          -2.369314432144165,
          2.587691068649292,
          4.729564189910889,
          59.75038528442383,
          -19.9576358795166,
          -13.174420356750488,
          2.9193058013916016,
          31.439054489135742,
          12.256580352783203,
          -6.681667327880859,
          5.921625137329102,
          -1.6807132959365845,
          6.130126476287842,
          -13.157781600952148,
          5.807104110717773,
          32.159027099609375,
          6.796523094177246,
          -5.971858501434326,
          -13.22385311126709,
          22.654258728027344,
          -14.928306579589844,
          -14.00196361541748,
          -4.707040309906006,
          7.5764241218566895,
          23.846031188964844,
          -5.553106784820557,
          2.9488532543182373,
          27.096084594726562,
          -11.50830364227295,
          -6.172765731811523,
          2.331176996231079,
          -6.083141326904297,
          -12.852591514587402,
          -7.422783851623535,
          27.341739654541016,
          22.654117584228516,
          -14.624302864074707,
          -16.989368438720703,
          -1.8572121858596802,
          19.930757522583008,
          17.647409439086914,
          -16.535179138183594,
          -8.096137046813965,
          -8.648439407348633,
          -17.343385696411133,
          -12.295158386230469,
          -12.351204872131348,
          16.641969680786133,
          1.8261659145355225,
          -16.828969955444336,
          -16.676023483276367,
          23.567323684692383,
          -16.708698272705078,
          -7.712678909301758,
          -6.246535301208496,
          17.278886795043945,
          -20.16769027709961,
          6.935790538787842,
          -8.69201946258545,
          -13.669449806213379,
          16.522836685180664,
          -16.477487564086914,
          -1.164661169052124,
          12.344599723815918,
          -16.12377166748047,
          -10.344816207885742,
          -13.929681777954102,
          14.271845817565918,
          -9.094193458557129,
          -19.734310150146484,
          -0.6366279721260071,
          13.294169425964355,
          12.779515266418457,
          -20.389284133911133,
          -9.549301147460938,
          9.386844635009766,
          -12.588605880737305,
          -13.305061340332031,
          -9.958097457885742,
          -3.641934394836426,
          -16.979398727416992,
          -34.130340576171875,
          8.252523422241211,
          22.371288299560547,
          10.071693420410156,
          -38.8309211730957,
          25.149538040161133,
          23.606521606445312,
          -22.717079162597656,
          21.57587242126465,
          -17.417682647705078,
          -41.327674865722656,
          18.655899047851562,
          -35.7883186340332,
          -27.92157554626465,
          21.42276954650879,
          -40.47600555419922,
          -35.46875,
          19.855892181396484,
          -45.999088287353516,
          9.282002449035645,
          -34.81201934814453,
          7.235989570617676,
          10.706573486328125,
          -24.99074935913086,
          -15.741121292114258,
          10.95085334777832,
          8.201926231384277,
          12.40717887878418,
          -37.43214416503906,
          -29.14955711364746,
          11.915243148803711,
          -39.841636657714844,
          -32.43231964111328,
          42.641414642333984,
          -42.054561614990234,
          -36.96426010131836,
          8.700462341308594,
          13.746968269348145,
          -40.94893264770508,
          -32.7647590637207,
          7.1556925773620605,
          10.78486442565918,
          -36.53717803955078,
          -30.32036018371582,
          -15.248553276062012,
          14.91001033782959,
          -33.2227783203125,
          -30.326932907104492,
          9.748248100280762,
          10.594999313354492,
          -45.257266998291016,
          -31.926437377929688,
          7.296443939208984,
          -45.8526725769043,
          -23.79541015625,
          -35.245704650878906,
          -18.015134811401367,
          13.833026885986328,
          -26.92793846130371,
          -36.67508316040039,
          -18.587879180908203,
          11.936604499816895,
          -35.80337905883789,
          32.13788604736328,
          28.855127334594727,
          -26.404216766357422,
          -13.605611801147461,
          -15.183632850646973,
          6.2822065353393555,
          1.553058385848999,
          30.62104606628418,
          -12.173080444335938,
          39.981258392333984,
          -12.32067584991455,
          43.24763107299805,
          -8.881789207458496,
          3.967867612838745,
          -11.7959566116333,
          40.68608093261719,
          -7.807506084442139,
          31.368810653686523,
          17.157428741455078,
          3.2678065299987793,
          -16.515052795410156,
          27.957015991210938,
          19.151569366455078,
          6.475119590759277,
          -4.6959357261657715,
          42.44248962402344,
          2.4901180267333984,
          9.720891952514648,
          3.7551586627960205,
          22.970993041992188,
          4.806143760681152,
          4.845126628875732,
          10.687250137329102,
          -8.47089958190918,
          4.327755928039551,
          -5.3941521644592285,
          26.4428653717041,
          -11.922337532043457,
          -302.0281982421875,
          -60.05851364135742,
          36.71547317504883,
          5.603481769561768,
          -15.538965225219727,
          37.264373779296875,
          -11.413725852966309,
          31.3853702545166,
          0.5542541742324829,
          0.16408143937587738,
          -14.24774169921875,
          44.56779861450195,
          -10.682809829711914,
          33.03150939941406,
          -24.83991813659668,
          33.856571197509766,
          -18.71875762939453,
          35.442752838134766,
          8.019692420959473,
          -20.037574768066406,
          -9.220967292785645,
          -12.353191375732422,
          -8.85015869140625,
          5.030978679656982,
          5.7682414054870605,
          -3.184669017791748,
          -4.207118988037109,
          -3.8456530570983887,
          3.0606532096862793,
          5.297758102416992,
          3.2834300994873047,
          34.92172622680664,
          1.1891841888427734,
          36.927059173583984,
          -21.629451751708984,
          7.338028907775879,
          -5.297547817230225,
          -21.39366912841797,
          17.427650451660156,
          1.470876693725586,
          -24.639142990112305,
          -0.4972001910209656,
          1.4655126333236694,
          13.918794631958008,
          35.007896423339844,
          -3.9760918617248535,
          -7.7200164794921875,
          16.162832260131836,
          1.4166902303695679,
          35.57892990112305,
          -1.3451337814331055,
          -24.354713439941406,
          8.251192092895508,
          9.0260009765625,
          -1.2618411779403687,
          40.40031433105469,
          -1.767958641052246,
          5.381312370300293,
          -39.685157775878906,
          18.514169692993164,
          24.223388671875,
          -4.048883438110352,
          -3.161134958267212,
          0.7570634484291077,
          -6.502359390258789,
          -0.45229485630989075,
          20.76923179626465,
          -2.3073678016662598,
          -14.517918586730957,
          -6.617073059082031,
          -11.760886192321777,
          -14.149086952209473,
          -2.266845226287842,
          12.259390830993652,
          19.423126220703125,
          9.192879676818848,
          2.7518935203552246,
          10.214640617370605,
          -50.34455490112305,
          9.217255592346191,
          -30.80486488342285,
          -35.02500534057617,
          -42.593475341796875,
          22.30584716796875,
          9.137520790100098,
          -33.080814361572266,
          25.335994720458984,
          -48.06392288208008,
          -14.465846061706543,
          -43.8515739440918,
          24.448200225830078,
          -63.7742805480957,
          9.540753364562988,
          11.08519458770752,
          -32.8321647644043,
          8.542003631591797,
          3.7214879989624023,
          11.151013374328613,
          11.940046310424805,
          14.31509017944336,
          10.101239204406738,
          13.486228942871094,
          -48.9123420715332,
          -46.39421844482422,
          10.8375883102417,
          -27.901395797729492,
          11.583477973937988
         ],
         "z": [
          5.8168253898620605,
          33.52610397338867,
          -21.3820858001709,
          -26.02112579345703,
          -21.729238510131836,
          2.444183588027954,
          -4.472977161407471,
          -3.7784321308135986,
          -30.573514938354492,
          31.861804962158203,
          32.748905181884766,
          -23.78899383544922,
          -21.12174415588379,
          37.189815521240234,
          3.851856231689453,
          31.61870002746582,
          0.4842860996723175,
          -24.413700103759766,
          -29.579225540161133,
          1.6737146377563477,
          -17.21922492980957,
          5.405576229095459,
          1.7811448574066162,
          -29.19700050354004,
          -22.764877319335938,
          31.78816795349121,
          -3.4071192741394043,
          -20.095991134643555,
          -5.672760963439941,
          31.9556884765625,
          125.64574432373047,
          -26.840534210205078,
          -12.876431465148926,
          36.20995330810547,
          32.89856719970703,
          -20.992544174194336,
          -22.112937927246094,
          -24.928831100463867,
          1.3392982482910156,
          -9.661981582641602,
          -0.8353308439254761,
          35.27460479736328,
          1.9910587072372437,
          -28.130165100097656,
          -3.5932059288024902,
          8.647953987121582,
          0.6054890751838684,
          30.741924285888672,
          42.24124526977539,
          5.616896629333496,
          -19.014638900756836,
          -9.01623821258545,
          -1.315071940422058,
          43.90907669067383,
          -1.1675693988800049,
          -24.522563934326172,
          -27.052629470825195,
          -2.5310606956481934,
          33.8502197265625,
          -7.873538494110107,
          0.6900990009307861,
          -1.7316131591796875,
          -5.049018859863281,
          -29.092561721801758,
          -31.185924530029297,
          -17.988819122314453,
          -21.65678596496582,
          -4.545928478240967,
          -33.67805862426758,
          10.74067497253418,
          10.418437004089355,
          20.7386474609375,
          73.8567886352539,
          -2.426177740097046,
          23.54466438293457,
          -9.526837348937988,
          -7.167135715484619,
          -34.627174377441406,
          -20.917863845825195,
          -29.894676208496094,
          -2.0550172328948975,
          6.714169025421143,
          9.173133850097656,
          -26.99646759033203,
          -23.70884132385254,
          -5.417999267578125,
          28.313512802124023,
          -32.647544860839844,
          -17.037246704101562,
          6.034440517425537,
          6.306940078735352,
          -31.62060546875,
          239.716796875,
          -21.366243362426758,
          30.684783935546875,
          -14.253371238708496,
          -17.414480209350586,
          21.458824157714844,
          6.155144214630127,
          -34.23719787597656,
          -27.826797485351562,
          36.29490280151367,
          0.8089843392372131,
          -30.948036193847656,
          -3.680274248123169,
          9.657200813293457,
          8.167305946350098,
          1.280754566192627,
          -30.74943733215332,
          32.32023239135742,
          -35.562347412109375,
          -36.585018157958984,
          6.946134090423584,
          26.626850128173828,
          4.64308500289917,
          -7.637720108032227,
          -16.906269073486328,
          10.417008399963379,
          9.823871612548828,
          31.12822914123535,
          -10.280692100524902,
          -23.622650146484375,
          -34.36848831176758,
          32.096405029296875,
          22.033491134643555,
          -6.230306625366211,
          7.1384382247924805,
          -30.726350784301758,
          -15.312973022460938,
          -32.0279541015625,
          -18.60561180114746,
          11.82937240600586,
          3.239884376525879,
          15.885846138000488,
          7.990316390991211,
          -6.217715263366699,
          -16.355648040771484,
          -0.350166916847229,
          4.314609050750732,
          -21.037330627441406,
          -0.3802046477794647,
          -16.73946189880371,
          -0.7241188883781433,
          -16.75409507751465,
          -9.98575496673584,
          9.797197341918945,
          -22.44613265991211,
          -2.1022424697875977,
          -4.4007110595703125,
          19.636438369750977,
          27.046123504638672,
          -29.55804443359375,
          -1.6893768310546875,
          -1.510080337524414,
          7.298007965087891,
          -4.063405513763428,
          -7.591188907623291,
          23.556074142456055,
          0.7650196552276611,
          -4.324703216552734,
          -9.639875411987305,
          -19.199848175048828,
          28.855613708496094,
          31.980281829833984,
          -2.9411470890045166,
          33.5184326171875,
          8.310609817504883,
          25.667417526245117,
          -6.211831569671631,
          33.03346633911133,
          -11.248101234436035,
          -7.272939682006836,
          28.54404640197754,
          -4.252840042114258,
          10.189713478088379,
          -19.198013305664062,
          -6.047015190124512,
          14.70949935913086,
          3.8012237548828125,
          25.040786743164062,
          -6.7096734046936035,
          -3.1974411010742188,
          28.498260498046875,
          -22.951927185058594,
          -9.668194770812988,
          6.791210651397705,
          30.87400245666504,
          1.238881230354309,
          -16.8520450592041,
          -9.934831619262695,
          6.954226016998291,
          25.21449089050293,
          -7.881289005279541,
          10.863962173461914,
          -4.7493462562561035,
          19.625478744506836,
          19.32184600830078,
          29.95144271850586,
          -6.5864386558532715,
          11.213606834411621,
          15.163322448730469,
          -11.774182319641113,
          14.672515869140625,
          20.951534271240234,
          2.5580832958221436,
          17.125629425048828,
          -3.1622493267059326,
          -11.894947052001953,
          10.860676765441895,
          -0.763357937335968,
          -6.574005126953125,
          28.48706817626953,
          6.0969953536987305,
          34.30753707885742,
          -9.569856643676758,
          27.322982788085938,
          16.687564849853516,
          -7.908479690551758,
          8.332138061523438,
          24.091432571411133,
          19.75490379333496,
          33.023277282714844,
          -2.4932162761688232,
          -13.76860237121582,
          14.358061790466309,
          -1.603881597518921,
          -12.251422882080078,
          -25.78754997253418,
          5.507862567901611,
          -4.022248268127441,
          25.26527976989746,
          10.936766624450684,
          -4.116950511932373,
          -8.447087287902832,
          25.10773468017578,
          8.950390815734863,
          4.959840774536133,
          -5.893196105957031,
          -8.043238639831543,
          6.995655536651611,
          20.290987014770508,
          -5.420224189758301,
          12.114498138427734,
          22.43658447265625,
          10.746309280395508,
          -2.3039586544036865,
          22.58118438720703,
          13.510771751403809,
          -12.343932151794434,
          -4.137907981872559,
          -9.895276069641113,
          9.737666130065918,
          -10.274495124816895,
          -10.347251892089844,
          19.297513961791992,
          11.745050430297852,
          0.693530797958374,
          5.454796314239502,
          -6.674811840057373,
          34.73118209838867,
          42.36494445800781,
          44.201019287109375,
          -30.735986709594727,
          -5.778939247131348,
          -13.654102325439453,
          36.05021667480469,
          -8.963502883911133,
          4.63361120223999,
          -7.693188190460205,
          33.655784606933594,
          -28.425596237182617,
          42.43116760253906,
          -4.013869762420654,
          37.17819595336914,
          2.271423578262329,
          -20.86273193359375,
          -4.306389808654785,
          41.04791259765625,
          -19.872522354125977,
          -26.11638641357422,
          -27.472850799560547,
          4.633265018463135,
          -5.673404693603516,
          -28.270822525024414,
          -23.982465744018555,
          -13.735467910766602,
          -23.01707649230957,
          -28.57994270324707,
          -17.739055633544922,
          -28.10502052307129,
          37.542198181152344,
          -26.07408332824707,
          4.993454456329346,
          -18.22887420654297,
          31.67388916015625,
          -1184.2711181640625,
          122.69407653808594,
          -10.5384521484375,
          -24.316556930541992,
          39.08221435546875,
          -12.276164054870605,
          39.4496955871582,
          -4.994287014007568,
          -1.7963697910308838,
          -27.81255340576172,
          44.6135368347168,
          -1.821712613105774,
          6.116008758544922,
          1.8572583198547363,
          35.10211181640625,
          -7.605228424072266,
          45.73445510864258,
          -4.760988235473633,
          -27.72223663330078,
          43.604400634765625,
          7.021518230438232,
          39.048946380615234,
          -36.56403732299805,
          -1.6818139553070068,
          36.01001739501953,
          -32.723201751708984,
          11.153938293457031,
          -38.18871307373047,
          7.111074447631836,
          -34.71680450439453,
          35.0716552734375,
          -12.17208194732666,
          31.048648834228516,
          -3.020695447921753,
          39.19319534301758,
          -2.389935255050659,
          -37.81449890136719,
          42.48314666748047,
          -20.61493492126465,
          27.38381576538086,
          41.99031066894531,
          10.200085639953613,
          24.043920516967773,
          -27.192346572875977,
          -12.330978393554688,
          -34.49563217163086,
          9.874095916748047,
          -24.00265884399414,
          34.848243713378906,
          -15.712998390197754,
          -37.235286712646484,
          39.60695266723633,
          -28.864561080932617,
          -25.533395767211914,
          -36.0584831237793,
          -5.590236186981201,
          -35.61910629272461,
          2.5961873531341553,
          28.51122283935547,
          -20.79570770263672,
          0.575212836265564,
          -22.87643051147461,
          4.971691131591797,
          -23.704357147216797,
          2.7791099548339844,
          -12.970426559448242,
          -0.7846923470497131,
          -21.034500122070312,
          12.18494701385498,
          6.987124919891357,
          -20.091135025024414,
          4.265190124511719,
          -15.569310188293457,
          -7.930481433868408,
          -5.5041680335998535,
          -12.392892837524414,
          -12.530016899108887,
          29.63280487060547,
          16.33561134338379,
          31.5484561920166,
          -9.175715446472168,
          -6.804567813873291,
          9.073599815368652,
          8.287672996520996,
          31.895126342773438,
          -11.932153701782227,
          11.059225082397461,
          14.655389785766602,
          -19.41793441772461,
          5.779026508331299,
          7.351991176605225,
          12.392186164855957,
          13.108871459960938,
          27.871444702148438,
          -9.701878547668457,
          16.657373428344727,
          -6.171171188354492,
          26.320215225219727,
          18.87700843811035,
          21.598779678344727,
          22.874103546142578,
          26.468914031982422,
          10.824557304382324,
          9.166852951049805,
          22.31829071044922,
          -11.992980003356934,
          25.558242797851562
         ]
        },
        {
         "hovertemplate": "color=k<br>x=%{x}<br>y=%{y}<br>z=%{z}<extra></extra>",
         "legendgroup": "k",
         "marker": {
          "color": "#EF553B",
          "symbol": "circle"
         },
         "mode": "markers",
         "name": "k",
         "scene": "scene",
         "showlegend": true,
         "type": "scatter3d",
         "x": [
          -14.889735221862793
         ],
         "y": [
          -44.781185150146484
         ],
         "z": [
          1.2219104766845703
         ]
        }
       ],
       "layout": {
        "legend": {
         "title": {
          "text": "color"
         },
         "tracegroupgap": 0
        },
        "margin": {
         "t": 60
        },
        "scene": {
         "domain": {
          "x": [
           0,
           1
          ],
          "y": [
           0,
           1
          ]
         },
         "xaxis": {
          "title": {
           "text": "x"
          }
         },
         "yaxis": {
          "title": {
           "text": "y"
          }
         },
         "zaxis": {
          "title": {
           "text": "z"
          }
         }
        },
        "template": {
         "data": {
          "bar": [
           {
            "error_x": {
             "color": "#2a3f5f"
            },
            "error_y": {
             "color": "#2a3f5f"
            },
            "marker": {
             "line": {
              "color": "#E5ECF6",
              "width": 0.5
             },
             "pattern": {
              "fillmode": "overlay",
              "size": 10,
              "solidity": 0.2
             }
            },
            "type": "bar"
           }
          ],
          "barpolar": [
           {
            "marker": {
             "line": {
              "color": "#E5ECF6",
              "width": 0.5
             },
             "pattern": {
              "fillmode": "overlay",
              "size": 10,
              "solidity": 0.2
             }
            },
            "type": "barpolar"
           }
          ],
          "carpet": [
           {
            "aaxis": {
             "endlinecolor": "#2a3f5f",
             "gridcolor": "white",
             "linecolor": "white",
             "minorgridcolor": "white",
             "startlinecolor": "#2a3f5f"
            },
            "baxis": {
             "endlinecolor": "#2a3f5f",
             "gridcolor": "white",
             "linecolor": "white",
             "minorgridcolor": "white",
             "startlinecolor": "#2a3f5f"
            },
            "type": "carpet"
           }
          ],
          "choropleth": [
           {
            "colorbar": {
             "outlinewidth": 0,
             "ticks": ""
            },
            "type": "choropleth"
           }
          ],
          "contour": [
           {
            "colorbar": {
             "outlinewidth": 0,
             "ticks": ""
            },
            "colorscale": [
             [
              0,
              "#0d0887"
             ],
             [
              0.1111111111111111,
              "#46039f"
             ],
             [
              0.2222222222222222,
              "#7201a8"
             ],
             [
              0.3333333333333333,
              "#9c179e"
             ],
             [
              0.4444444444444444,
              "#bd3786"
             ],
             [
              0.5555555555555556,
              "#d8576b"
             ],
             [
              0.6666666666666666,
              "#ed7953"
             ],
             [
              0.7777777777777778,
              "#fb9f3a"
             ],
             [
              0.8888888888888888,
              "#fdca26"
             ],
             [
              1,
              "#f0f921"
             ]
            ],
            "type": "contour"
           }
          ],
          "contourcarpet": [
           {
            "colorbar": {
             "outlinewidth": 0,
             "ticks": ""
            },
            "type": "contourcarpet"
           }
          ],
          "heatmap": [
           {
            "colorbar": {
             "outlinewidth": 0,
             "ticks": ""
            },
            "colorscale": [
             [
              0,
              "#0d0887"
             ],
             [
              0.1111111111111111,
              "#46039f"
             ],
             [
              0.2222222222222222,
              "#7201a8"
             ],
             [
              0.3333333333333333,
              "#9c179e"
             ],
             [
              0.4444444444444444,
              "#bd3786"
             ],
             [
              0.5555555555555556,
              "#d8576b"
             ],
             [
              0.6666666666666666,
              "#ed7953"
             ],
             [
              0.7777777777777778,
              "#fb9f3a"
             ],
             [
              0.8888888888888888,
              "#fdca26"
             ],
             [
              1,
              "#f0f921"
             ]
            ],
            "type": "heatmap"
           }
          ],
          "heatmapgl": [
           {
            "colorbar": {
             "outlinewidth": 0,
             "ticks": ""
            },
            "colorscale": [
             [
              0,
              "#0d0887"
             ],
             [
              0.1111111111111111,
              "#46039f"
             ],
             [
              0.2222222222222222,
              "#7201a8"
             ],
             [
              0.3333333333333333,
              "#9c179e"
             ],
             [
              0.4444444444444444,
              "#bd3786"
             ],
             [
              0.5555555555555556,
              "#d8576b"
             ],
             [
              0.6666666666666666,
              "#ed7953"
             ],
             [
              0.7777777777777778,
              "#fb9f3a"
             ],
             [
              0.8888888888888888,
              "#fdca26"
             ],
             [
              1,
              "#f0f921"
             ]
            ],
            "type": "heatmapgl"
           }
          ],
          "histogram": [
           {
            "marker": {
             "pattern": {
              "fillmode": "overlay",
              "size": 10,
              "solidity": 0.2
             }
            },
            "type": "histogram"
           }
          ],
          "histogram2d": [
           {
            "colorbar": {
             "outlinewidth": 0,
             "ticks": ""
            },
            "colorscale": [
             [
              0,
              "#0d0887"
             ],
             [
              0.1111111111111111,
              "#46039f"
             ],
             [
              0.2222222222222222,
              "#7201a8"
             ],
             [
              0.3333333333333333,
              "#9c179e"
             ],
             [
              0.4444444444444444,
              "#bd3786"
             ],
             [
              0.5555555555555556,
              "#d8576b"
             ],
             [
              0.6666666666666666,
              "#ed7953"
             ],
             [
              0.7777777777777778,
              "#fb9f3a"
             ],
             [
              0.8888888888888888,
              "#fdca26"
             ],
             [
              1,
              "#f0f921"
             ]
            ],
            "type": "histogram2d"
           }
          ],
          "histogram2dcontour": [
           {
            "colorbar": {
             "outlinewidth": 0,
             "ticks": ""
            },
            "colorscale": [
             [
              0,
              "#0d0887"
             ],
             [
              0.1111111111111111,
              "#46039f"
             ],
             [
              0.2222222222222222,
              "#7201a8"
             ],
             [
              0.3333333333333333,
              "#9c179e"
             ],
             [
              0.4444444444444444,
              "#bd3786"
             ],
             [
              0.5555555555555556,
              "#d8576b"
             ],
             [
              0.6666666666666666,
              "#ed7953"
             ],
             [
              0.7777777777777778,
              "#fb9f3a"
             ],
             [
              0.8888888888888888,
              "#fdca26"
             ],
             [
              1,
              "#f0f921"
             ]
            ],
            "type": "histogram2dcontour"
           }
          ],
          "mesh3d": [
           {
            "colorbar": {
             "outlinewidth": 0,
             "ticks": ""
            },
            "type": "mesh3d"
           }
          ],
          "parcoords": [
           {
            "line": {
             "colorbar": {
              "outlinewidth": 0,
              "ticks": ""
             }
            },
            "type": "parcoords"
           }
          ],
          "pie": [
           {
            "automargin": true,
            "type": "pie"
           }
          ],
          "scatter": [
           {
            "fillpattern": {
             "fillmode": "overlay",
             "size": 10,
             "solidity": 0.2
            },
            "type": "scatter"
           }
          ],
          "scatter3d": [
           {
            "line": {
             "colorbar": {
              "outlinewidth": 0,
              "ticks": ""
             }
            },
            "marker": {
             "colorbar": {
              "outlinewidth": 0,
              "ticks": ""
             }
            },
            "type": "scatter3d"
           }
          ],
          "scattercarpet": [
           {
            "marker": {
             "colorbar": {
              "outlinewidth": 0,
              "ticks": ""
             }
            },
            "type": "scattercarpet"
           }
          ],
          "scattergeo": [
           {
            "marker": {
             "colorbar": {
              "outlinewidth": 0,
              "ticks": ""
             }
            },
            "type": "scattergeo"
           }
          ],
          "scattergl": [
           {
            "marker": {
             "colorbar": {
              "outlinewidth": 0,
              "ticks": ""
             }
            },
            "type": "scattergl"
           }
          ],
          "scattermapbox": [
           {
            "marker": {
             "colorbar": {
              "outlinewidth": 0,
              "ticks": ""
             }
            },
            "type": "scattermapbox"
           }
          ],
          "scatterpolar": [
           {
            "marker": {
             "colorbar": {
              "outlinewidth": 0,
              "ticks": ""
             }
            },
            "type": "scatterpolar"
           }
          ],
          "scatterpolargl": [
           {
            "marker": {
             "colorbar": {
              "outlinewidth": 0,
              "ticks": ""
             }
            },
            "type": "scatterpolargl"
           }
          ],
          "scatterternary": [
           {
            "marker": {
             "colorbar": {
              "outlinewidth": 0,
              "ticks": ""
             }
            },
            "type": "scatterternary"
           }
          ],
          "surface": [
           {
            "colorbar": {
             "outlinewidth": 0,
             "ticks": ""
            },
            "colorscale": [
             [
              0,
              "#0d0887"
             ],
             [
              0.1111111111111111,
              "#46039f"
             ],
             [
              0.2222222222222222,
              "#7201a8"
             ],
             [
              0.3333333333333333,
              "#9c179e"
             ],
             [
              0.4444444444444444,
              "#bd3786"
             ],
             [
              0.5555555555555556,
              "#d8576b"
             ],
             [
              0.6666666666666666,
              "#ed7953"
             ],
             [
              0.7777777777777778,
              "#fb9f3a"
             ],
             [
              0.8888888888888888,
              "#fdca26"
             ],
             [
              1,
              "#f0f921"
             ]
            ],
            "type": "surface"
           }
          ],
          "table": [
           {
            "cells": {
             "fill": {
              "color": "#EBF0F8"
             },
             "line": {
              "color": "white"
             }
            },
            "header": {
             "fill": {
              "color": "#C8D4E3"
             },
             "line": {
              "color": "white"
             }
            },
            "type": "table"
           }
          ]
         },
         "layout": {
          "annotationdefaults": {
           "arrowcolor": "#2a3f5f",
           "arrowhead": 0,
           "arrowwidth": 1
          },
          "autotypenumbers": "strict",
          "coloraxis": {
           "colorbar": {
            "outlinewidth": 0,
            "ticks": ""
           }
          },
          "colorscale": {
           "diverging": [
            [
             0,
             "#8e0152"
            ],
            [
             0.1,
             "#c51b7d"
            ],
            [
             0.2,
             "#de77ae"
            ],
            [
             0.3,
             "#f1b6da"
            ],
            [
             0.4,
             "#fde0ef"
            ],
            [
             0.5,
             "#f7f7f7"
            ],
            [
             0.6,
             "#e6f5d0"
            ],
            [
             0.7,
             "#b8e186"
            ],
            [
             0.8,
             "#7fbc41"
            ],
            [
             0.9,
             "#4d9221"
            ],
            [
             1,
             "#276419"
            ]
           ],
           "sequential": [
            [
             0,
             "#0d0887"
            ],
            [
             0.1111111111111111,
             "#46039f"
            ],
            [
             0.2222222222222222,
             "#7201a8"
            ],
            [
             0.3333333333333333,
             "#9c179e"
            ],
            [
             0.4444444444444444,
             "#bd3786"
            ],
            [
             0.5555555555555556,
             "#d8576b"
            ],
            [
             0.6666666666666666,
             "#ed7953"
            ],
            [
             0.7777777777777778,
             "#fb9f3a"
            ],
            [
             0.8888888888888888,
             "#fdca26"
            ],
            [
             1,
             "#f0f921"
            ]
           ],
           "sequentialminus": [
            [
             0,
             "#0d0887"
            ],
            [
             0.1111111111111111,
             "#46039f"
            ],
            [
             0.2222222222222222,
             "#7201a8"
            ],
            [
             0.3333333333333333,
             "#9c179e"
            ],
            [
             0.4444444444444444,
             "#bd3786"
            ],
            [
             0.5555555555555556,
             "#d8576b"
            ],
            [
             0.6666666666666666,
             "#ed7953"
            ],
            [
             0.7777777777777778,
             "#fb9f3a"
            ],
            [
             0.8888888888888888,
             "#fdca26"
            ],
            [
             1,
             "#f0f921"
            ]
           ]
          },
          "colorway": [
           "#636efa",
           "#EF553B",
           "#00cc96",
           "#ab63fa",
           "#FFA15A",
           "#19d3f3",
           "#FF6692",
           "#B6E880",
           "#FF97FF",
           "#FECB52"
          ],
          "font": {
           "color": "#2a3f5f"
          },
          "geo": {
           "bgcolor": "white",
           "lakecolor": "white",
           "landcolor": "#E5ECF6",
           "showlakes": true,
           "showland": true,
           "subunitcolor": "white"
          },
          "hoverlabel": {
           "align": "left"
          },
          "hovermode": "closest",
          "mapbox": {
           "style": "light"
          },
          "paper_bgcolor": "white",
          "plot_bgcolor": "#E5ECF6",
          "polar": {
           "angularaxis": {
            "gridcolor": "white",
            "linecolor": "white",
            "ticks": ""
           },
           "bgcolor": "#E5ECF6",
           "radialaxis": {
            "gridcolor": "white",
            "linecolor": "white",
            "ticks": ""
           }
          },
          "scene": {
           "xaxis": {
            "backgroundcolor": "#E5ECF6",
            "gridcolor": "white",
            "gridwidth": 2,
            "linecolor": "white",
            "showbackground": true,
            "ticks": "",
            "zerolinecolor": "white"
           },
           "yaxis": {
            "backgroundcolor": "#E5ECF6",
            "gridcolor": "white",
            "gridwidth": 2,
            "linecolor": "white",
            "showbackground": true,
            "ticks": "",
            "zerolinecolor": "white"
           },
           "zaxis": {
            "backgroundcolor": "#E5ECF6",
            "gridcolor": "white",
            "gridwidth": 2,
            "linecolor": "white",
            "showbackground": true,
            "ticks": "",
            "zerolinecolor": "white"
           }
          },
          "shapedefaults": {
           "line": {
            "color": "#2a3f5f"
           }
          },
          "ternary": {
           "aaxis": {
            "gridcolor": "white",
            "linecolor": "white",
            "ticks": ""
           },
           "baxis": {
            "gridcolor": "white",
            "linecolor": "white",
            "ticks": ""
           },
           "bgcolor": "#E5ECF6",
           "caxis": {
            "gridcolor": "white",
            "linecolor": "white",
            "ticks": ""
           }
          },
          "title": {
           "x": 0.05
          },
          "xaxis": {
           "automargin": true,
           "gridcolor": "white",
           "linecolor": "white",
           "ticks": "",
           "title": {
            "standoff": 15
           },
           "zerolinecolor": "white",
           "zerolinewidth": 2
          },
          "yaxis": {
           "automargin": true,
           "gridcolor": "white",
           "linecolor": "white",
           "ticks": "",
           "title": {
            "standoff": 15
           },
           "zerolinecolor": "white",
           "zerolinewidth": 2
          }
         }
        }
       }
      },
      "text/html": [
       "<div>                            <div id=\"11ebf069-dca9-4700-8d6a-3610d831ec05\" class=\"plotly-graph-div\" style=\"height:525px; width:100%;\"></div>            <script type=\"text/javascript\">                require([\"plotly\"], function(Plotly) {                    window.PLOTLYENV=window.PLOTLYENV || {};                                    if (document.getElementById(\"11ebf069-dca9-4700-8d6a-3610d831ec05\")) {                    Plotly.newPlot(                        \"11ebf069-dca9-4700-8d6a-3610d831ec05\",                        [{\"hovertemplate\":\"color=b<br>x=%{x}<br>y=%{y}<br>z=%{z}<extra></extra>\",\"legendgroup\":\"b\",\"marker\":{\"color\":\"#636efa\",\"symbol\":\"circle\"},\"mode\":\"markers\",\"name\":\"b\",\"scene\":\"scene\",\"showlegend\":true,\"x\":[-21.267044067382812,-16.822650909423828,-36.06597137451172,-30.4609375,-26.903005599975586,-49.39965057373047,-42.795692443847656,-10.522098541259766,-11.172066688537598,-21.344249725341797,-25.461931228637695,-35.50358200073242,-33.579097747802734,-17.483646392822266,-32.733314514160156,-24.241518020629883,-20.139205932617188,-34.801292419433594,-21.532691955566406,-31.977890014648438,-20.048160552978516,-36.49922561645508,-45.48850631713867,-16.078256607055664,-31.024127960205078,-19.285551071166992,-23.23345184326172,-26.53757095336914,-46.284759521484375,-23.104211807250977,-20.900346755981445,-16.589069366455078,-20.381595611572266,-23.937450408935547,-31.07014274597168,-34.185394287109375,-24.680877685546875,-19.039701461791992,-13.879016876220703,-29.271230697631836,-23.27183723449707,-31.920787811279297,-40.64645767211914,-14.153593063354492,-13.993045806884766,-38.054603576660156,-47.17422866821289,-27.272750854492188,-13.470775604248047,-47.790645599365234,-30.4713077545166,-25.72091293334961,-16.764545440673828,-14.55036735534668,-33.91830062866211,-27.04876136779785,-10.712099075317383,-46.7971305847168,-21.803001403808594,-21.01463508605957,-17.79693603515625,-46.36410140991211,-35.17536544799805,-12.57739543914795,-0.7267776727676392,5.935863018035889,16.332124710083008,-17.974720001220703,10.653630256652832,-18.646787643432617,-21.651941299438477,0.4075632095336914,-33.51859664916992,-13.981273651123047,0.3447377681732178,5.823702335357666,5.161942005157471,8.852254867553711,5.489107608795166,13.520792007446289,84.0427474975586,-18.89834213256836,-16.19564437866211,1.5232117176055908,6.861714839935303,-1.1105945110321045,3.140899419784546,8.21495246887207,9.992449760437012,-22.55308723449707,-22.65562629699707,18.044836044311523,-78.88306427001953,10.190162658691406,-0.060101576149463654,5.529528617858887,11.674993515014648,-0.7936458587646484,-17.555368423461914,0.2912577986717224,7.53861141204834,-10.721659660339355,-16.148483276367188,0.6788923144340515,8.612034797668457,-22.341880798339844,-22.72369956970215,-13.028511047363281,18.44590950012207,-8.545669555664062,8.328204154968262,4.20270299911499,-13.910672187805176,0.5921189188957214,-14.52842903137207,-21.77710723876953,14.427577018737793,-18.264860153198242,-22.563655853271484,0.20385026931762695,8.52342414855957,2.0907599925994873,15.868163108825684,-4.701167583465576,1.6178152561187744,-16.81120491027832,-18.903366088867188,5.799005508422852,9.22774600982666,14.33255386352539,31.768972396850586,24.573030471801758,23.564762115478516,15.339200019836426,23.716899871826172,2.241644859313965,26.291427612304688,17.254390716552734,9.47315788269043,27.136953353881836,9.360555648803711,32.198673248291016,9.107170104980469,27.159940719604492,2.696962833404541,15.595996856689453,32.37428665161133,12.890089988708496,13.936925888061523,11.48470687866211,11.878907203674316,21.662534713745117,14.997796058654785,19.37211799621582,20.043367385864258,4.6845927238464355,6.0786261558532715,10.031150817871094,12.687679290771484,7.3835129737854,16.300519943237305,30.79879379272461,5.852301120758057,8.84896469116211,10.139127731323242,4.991186618804932,-12.906111717224121,5.038982391357422,13.97585391998291,6.433780193328857,27.999364852905273,1.4961940050125122,8.879339218139648,22.074153900146484,16.403331756591797,27.603469848632812,21.30132293701172,12.368870735168457,13.81178092956543,7.219574451446533,17.395112991333008,9.502975463867188,8.58479118347168,25.706993103027344,20.618406295776367,40.476531982421875,12.237604141235352,8.833601951599121,23.39597511291504,4.1392502784729,18.185205459594727,7.0952863693237305,-1.2226147651672363,23.871938705444336,12.335711479187012,42.715972900390625,24.45811653137207,23.544315338134766,-6.668420314788818,28.866249084472656,27.462055206298828,3.1785666942596436,24.23588752746582,36.8121337890625,-6.940609931945801,25.928308486938477,2.167938709259033,-5.020781993865967,27.226430892944336,-11.989901542663574,-9.028367042541504,4.969753265380859,-13.640060424804688,25.876117706298828,-0.5617701411247253,37.98743438720703,44.27800750732422,9.07393741607666,11.781044006347656,40.40578842163086,28.68001365661621,24.084733963012695,-8.347626686096191,2.4779205322265625,30.1612491607666,-5.4254655838012695,-0.3685187101364136,18.483291625976562,-13.536191940307617,-1.512008786201477,34.13698196411133,39.1591682434082,-10.572601318359375,7.063409328460693,42.29051971435547,36.865142822265625,8.019389152526855,11.630135536193848,7.181481838226318,37.22797393798828,46.00409698486328,7.644443511962891,39.96656799316406,30.027252197265625,-16.012794494628906,10.322341918945312,38.88172149658203,-12.858540534973145,-2.3237509727478027,5.5148396492004395,5.692639350891113,33.42483901977539,10.46607780456543,-7.399155616760254,12.236316680908203,43.09455871582031,7.331542015075684,-22.969045639038086,-22.53413963317871,-21.064739227294922,-18.615015029907227,-9.400259971618652,-24.733917236328125,-32.07025146484375,-17.431264877319336,-27.591981887817383,-10.650376319885254,-46.00606155395508,-8.499683380126953,-26.467159271240234,-28.772064208984375,-11.377697944641113,-17.90882110595703,-28.746112823486328,-20.731657028198242,-38.12913131713867,-42.43263626098633,-12.118288040161133,2.7441911697387695,-24.07947540283203,-32.08818054199219,-36.13899612426758,-5.673862934112549,-21.81537628173828,-30.40770149230957,-29.06601333618164,-23.45379638671875,-17.01804542541504,-30.721755981445312,-31.2700138092041,-24.882373809814453,-25.28873062133789,-40.333988189697266,-23.773422241210938,-29.823400497436523,-456.2898864746094,7.38869047164917,-9.347555160522461,-29.65091896057129,-18.51105308532715,-12.104231834411621,-20.316526412963867,-18.506410598754883,-38.623165130615234,-18.277950286865234,-13.736462593078613,-15.310219764709473,-41.04960250854492,-24.413591384887695,-16.34224510192871,-17.080352783203125,-11.020339965820312,-19.528425216674805,-27.129587173461914,-7.910359859466553,-32.941097259521484,-16.397624969482422,3.749504804611206,-18.877254486083984,-6.485118389129639,19.652210235595703,-19.89840316772461,4.860600471496582,-18.467571258544922,4.800532817840576,-2.8718912601470947,4.240396022796631,-4.004284381866455,7.389786243438721,2.619084358215332,-15.076781272888184,10.786006927490234,0.08586261421442032,6.2144598960876465,-1.284684419631958,2.394094228744507,-17.82406997680664,3.1057519912719727,2.0858445167541504,8.709144592285156,6.604032039642334,-20.834470748901367,4.337176322937012,-6.645021438598633,6.2634406089782715,9.799295425415039,-0.9430211186408997,10.572393417358398,7.155150413513184,1.898878812789917,3.91137957572937,13.471965789794922,-17.268545150756836,3.4498560428619385,9.896615028381348,12.062995910644531,29.08721351623535,6.338685512542725,29.612564086914062,5.577123165130615,29.7270450592041,21.73213768005371,32.26485824584961,20.71617889404297,6.600318431854248,32.223934173583984,13.824715614318848,32.368988037109375,25.03771209716797,17.18193244934082,25.369630813598633,31.42034339904785,40.799686431884766,-13.054549217224121,33.052799224853516,2.9771065711975098,-4.404337406158447,-11.873586654663086,23.816953659057617,37.264034271240234,4.391490459442139,24.764509201049805,-16.661724090576172,-34.1065559387207,-9.645992279052734,27.049915313720703,-93.683837890625,33.74729919433594,36.472755432128906,-7.636730194091797,32.0174446105957,0.5679864883422852,44.705406188964844,27.09748649597168,25.400440216064453,25.914587020874023,25.26010513305664,-14.055168151855469,-10.169634819030762,45.45392608642578,5.8452277183532715,22.284929275512695],\"y\":[35.922725677490234,-28.599925994873047,14.13102912902832,13.935522079467773,25.9504451751709,-10.496481895446777,-0.7150207757949829,43.85566711425781,11.42887020111084,-30.018110275268555,-14.783294677734375,18.056838989257812,7.506102561950684,-27.7197265625,-4.371962547302246,-22.510534286499023,36.57126235961914,9.252019882202148,7.943752765655518,-0.6587179899215698,27.100460052490234,-10.558356285095215,-9.403033256530762,8.681744575500488,24.486465454101562,-25.21457862854004,32.311370849609375,22.035154342651367,1.4767169952392578,-18.64919662475586,53.378841400146484,15.552287101745605,28.93560028076172,-16.058134078979492,-8.236431121826172,19.651897430419922,18.97339630126953,2.160881519317627,42.3321533203125,3.193222999572754,29.411508560180664,-11.5612154006958,-2.9173927307128906,12.817761421203613,40.591495513916016,-9.13534164428711,-5.571140766143799,-20.627683639526367,-20.01321029663086,-8.554363250732422,24.410675048828125,3.878140449523926,38.24163818359375,-9.778741836547852,-0.16450761258602142,21.37002944946289,10.919054985046387,-2.169846296310425,-14.032255172729492,33.46477508544922,42.6595573425293,2.629030466079712,2.8495986461639404,7.073983669281006,6.204806804656982,31.711185455322266,13.306443214416504,2.2028632164001465,-4.577503204345703,-15.422771453857422,0.4951074421405792,1.8972957134246826,16.597509384155273,3.1074705123901367,6.443424224853516,38.8298454284668,35.662445068359375,1.3824677467346191,23.091190338134766,4.3916754722595215,66.60557556152344,-17.389612197875977,-8.611226081848145,9.737428665161133,12.725150108337402,42.7652702331543,0.44145891070365906,7.599973201751709,24.586780548095703,-15.357054710388184,1.8845208883285522,-7.534989356994629,25.59372901916504,14.551630020141602,-1.3469034433364868,30.360595703125,21.911224365234375,8.65053653717041,-0.8942708373069763,4.110654830932617,11.905198097229004,4.376777648925781,1.5898655652999878,9.819938659667969,32.29173278808594,-17.511959075927734,-2.7408711910247803,4.913856506347656,-0.3799690008163452,4.290068626403809,-7.851871967315674,1.9403424263000488,-3.8257787227630615,-2.369314432144165,2.587691068649292,4.729564189910889,59.75038528442383,-19.9576358795166,-13.174420356750488,2.9193058013916016,31.439054489135742,12.256580352783203,-6.681667327880859,5.921625137329102,-1.6807132959365845,6.130126476287842,-13.157781600952148,5.807104110717773,32.159027099609375,6.796523094177246,-5.971858501434326,-13.22385311126709,22.654258728027344,-14.928306579589844,-14.00196361541748,-4.707040309906006,7.5764241218566895,23.846031188964844,-5.553106784820557,2.9488532543182373,27.096084594726562,-11.50830364227295,-6.172765731811523,2.331176996231079,-6.083141326904297,-12.852591514587402,-7.422783851623535,27.341739654541016,22.654117584228516,-14.624302864074707,-16.989368438720703,-1.8572121858596802,19.930757522583008,17.647409439086914,-16.535179138183594,-8.096137046813965,-8.648439407348633,-17.343385696411133,-12.295158386230469,-12.351204872131348,16.641969680786133,1.8261659145355225,-16.828969955444336,-16.676023483276367,23.567323684692383,-16.708698272705078,-7.712678909301758,-6.246535301208496,17.278886795043945,-20.16769027709961,6.935790538787842,-8.69201946258545,-13.669449806213379,16.522836685180664,-16.477487564086914,-1.164661169052124,12.344599723815918,-16.12377166748047,-10.344816207885742,-13.929681777954102,14.271845817565918,-9.094193458557129,-19.734310150146484,-0.6366279721260071,13.294169425964355,12.779515266418457,-20.389284133911133,-9.549301147460938,9.386844635009766,-12.588605880737305,-13.305061340332031,-9.958097457885742,-3.641934394836426,-16.979398727416992,-34.130340576171875,8.252523422241211,22.371288299560547,10.071693420410156,-38.8309211730957,25.149538040161133,23.606521606445312,-22.717079162597656,21.57587242126465,-17.417682647705078,-41.327674865722656,18.655899047851562,-35.7883186340332,-27.92157554626465,21.42276954650879,-40.47600555419922,-35.46875,19.855892181396484,-45.999088287353516,9.282002449035645,-34.81201934814453,7.235989570617676,10.706573486328125,-24.99074935913086,-15.741121292114258,10.95085334777832,8.201926231384277,12.40717887878418,-37.43214416503906,-29.14955711364746,11.915243148803711,-39.841636657714844,-32.43231964111328,42.641414642333984,-42.054561614990234,-36.96426010131836,8.700462341308594,13.746968269348145,-40.94893264770508,-32.7647590637207,7.1556925773620605,10.78486442565918,-36.53717803955078,-30.32036018371582,-15.248553276062012,14.91001033782959,-33.2227783203125,-30.326932907104492,9.748248100280762,10.594999313354492,-45.257266998291016,-31.926437377929688,7.296443939208984,-45.8526725769043,-23.79541015625,-35.245704650878906,-18.015134811401367,13.833026885986328,-26.92793846130371,-36.67508316040039,-18.587879180908203,11.936604499816895,-35.80337905883789,32.13788604736328,28.855127334594727,-26.404216766357422,-13.605611801147461,-15.183632850646973,6.2822065353393555,1.553058385848999,30.62104606628418,-12.173080444335938,39.981258392333984,-12.32067584991455,43.24763107299805,-8.881789207458496,3.967867612838745,-11.7959566116333,40.68608093261719,-7.807506084442139,31.368810653686523,17.157428741455078,3.2678065299987793,-16.515052795410156,27.957015991210938,19.151569366455078,6.475119590759277,-4.6959357261657715,42.44248962402344,2.4901180267333984,9.720891952514648,3.7551586627960205,22.970993041992188,4.806143760681152,4.845126628875732,10.687250137329102,-8.47089958190918,4.327755928039551,-5.3941521644592285,26.4428653717041,-11.922337532043457,-302.0281982421875,-60.05851364135742,36.71547317504883,5.603481769561768,-15.538965225219727,37.264373779296875,-11.413725852966309,31.3853702545166,0.5542541742324829,0.16408143937587738,-14.24774169921875,44.56779861450195,-10.682809829711914,33.03150939941406,-24.83991813659668,33.856571197509766,-18.71875762939453,35.442752838134766,8.019692420959473,-20.037574768066406,-9.220967292785645,-12.353191375732422,-8.85015869140625,5.030978679656982,5.7682414054870605,-3.184669017791748,-4.207118988037109,-3.8456530570983887,3.0606532096862793,5.297758102416992,3.2834300994873047,34.92172622680664,1.1891841888427734,36.927059173583984,-21.629451751708984,7.338028907775879,-5.297547817230225,-21.39366912841797,17.427650451660156,1.470876693725586,-24.639142990112305,-0.4972001910209656,1.4655126333236694,13.918794631958008,35.007896423339844,-3.9760918617248535,-7.7200164794921875,16.162832260131836,1.4166902303695679,35.57892990112305,-1.3451337814331055,-24.354713439941406,8.251192092895508,9.0260009765625,-1.2618411779403687,40.40031433105469,-1.767958641052246,5.381312370300293,-39.685157775878906,18.514169692993164,24.223388671875,-4.048883438110352,-3.161134958267212,0.7570634484291077,-6.502359390258789,-0.45229485630989075,20.76923179626465,-2.3073678016662598,-14.517918586730957,-6.617073059082031,-11.760886192321777,-14.149086952209473,-2.266845226287842,12.259390830993652,19.423126220703125,9.192879676818848,2.7518935203552246,10.214640617370605,-50.34455490112305,9.217255592346191,-30.80486488342285,-35.02500534057617,-42.593475341796875,22.30584716796875,9.137520790100098,-33.080814361572266,25.335994720458984,-48.06392288208008,-14.465846061706543,-43.8515739440918,24.448200225830078,-63.7742805480957,9.540753364562988,11.08519458770752,-32.8321647644043,8.542003631591797,3.7214879989624023,11.151013374328613,11.940046310424805,14.31509017944336,10.101239204406738,13.486228942871094,-48.9123420715332,-46.39421844482422,10.8375883102417,-27.901395797729492,11.583477973937988],\"z\":[5.8168253898620605,33.52610397338867,-21.3820858001709,-26.02112579345703,-21.729238510131836,2.444183588027954,-4.472977161407471,-3.7784321308135986,-30.573514938354492,31.861804962158203,32.748905181884766,-23.78899383544922,-21.12174415588379,37.189815521240234,3.851856231689453,31.61870002746582,0.4842860996723175,-24.413700103759766,-29.579225540161133,1.6737146377563477,-17.21922492980957,5.405576229095459,1.7811448574066162,-29.19700050354004,-22.764877319335938,31.78816795349121,-3.4071192741394043,-20.095991134643555,-5.672760963439941,31.9556884765625,125.64574432373047,-26.840534210205078,-12.876431465148926,36.20995330810547,32.89856719970703,-20.992544174194336,-22.112937927246094,-24.928831100463867,1.3392982482910156,-9.661981582641602,-0.8353308439254761,35.27460479736328,1.9910587072372437,-28.130165100097656,-3.5932059288024902,8.647953987121582,0.6054890751838684,30.741924285888672,42.24124526977539,5.616896629333496,-19.014638900756836,-9.01623821258545,-1.315071940422058,43.90907669067383,-1.1675693988800049,-24.522563934326172,-27.052629470825195,-2.5310606956481934,33.8502197265625,-7.873538494110107,0.6900990009307861,-1.7316131591796875,-5.049018859863281,-29.092561721801758,-31.185924530029297,-17.988819122314453,-21.65678596496582,-4.545928478240967,-33.67805862426758,10.74067497253418,10.418437004089355,20.7386474609375,73.8567886352539,-2.426177740097046,23.54466438293457,-9.526837348937988,-7.167135715484619,-34.627174377441406,-20.917863845825195,-29.894676208496094,-2.0550172328948975,6.714169025421143,9.173133850097656,-26.99646759033203,-23.70884132385254,-5.417999267578125,28.313512802124023,-32.647544860839844,-17.037246704101562,6.034440517425537,6.306940078735352,-31.62060546875,239.716796875,-21.366243362426758,30.684783935546875,-14.253371238708496,-17.414480209350586,21.458824157714844,6.155144214630127,-34.23719787597656,-27.826797485351562,36.29490280151367,0.8089843392372131,-30.948036193847656,-3.680274248123169,9.657200813293457,8.167305946350098,1.280754566192627,-30.74943733215332,32.32023239135742,-35.562347412109375,-36.585018157958984,6.946134090423584,26.626850128173828,4.64308500289917,-7.637720108032227,-16.906269073486328,10.417008399963379,9.823871612548828,31.12822914123535,-10.280692100524902,-23.622650146484375,-34.36848831176758,32.096405029296875,22.033491134643555,-6.230306625366211,7.1384382247924805,-30.726350784301758,-15.312973022460938,-32.0279541015625,-18.60561180114746,11.82937240600586,3.239884376525879,15.885846138000488,7.990316390991211,-6.217715263366699,-16.355648040771484,-0.350166916847229,4.314609050750732,-21.037330627441406,-0.3802046477794647,-16.73946189880371,-0.7241188883781433,-16.75409507751465,-9.98575496673584,9.797197341918945,-22.44613265991211,-2.1022424697875977,-4.4007110595703125,19.636438369750977,27.046123504638672,-29.55804443359375,-1.6893768310546875,-1.510080337524414,7.298007965087891,-4.063405513763428,-7.591188907623291,23.556074142456055,0.7650196552276611,-4.324703216552734,-9.639875411987305,-19.199848175048828,28.855613708496094,31.980281829833984,-2.9411470890045166,33.5184326171875,8.310609817504883,25.667417526245117,-6.211831569671631,33.03346633911133,-11.248101234436035,-7.272939682006836,28.54404640197754,-4.252840042114258,10.189713478088379,-19.198013305664062,-6.047015190124512,14.70949935913086,3.8012237548828125,25.040786743164062,-6.7096734046936035,-3.1974411010742188,28.498260498046875,-22.951927185058594,-9.668194770812988,6.791210651397705,30.87400245666504,1.238881230354309,-16.8520450592041,-9.934831619262695,6.954226016998291,25.21449089050293,-7.881289005279541,10.863962173461914,-4.7493462562561035,19.625478744506836,19.32184600830078,29.95144271850586,-6.5864386558532715,11.213606834411621,15.163322448730469,-11.774182319641113,14.672515869140625,20.951534271240234,2.5580832958221436,17.125629425048828,-3.1622493267059326,-11.894947052001953,10.860676765441895,-0.763357937335968,-6.574005126953125,28.48706817626953,6.0969953536987305,34.30753707885742,-9.569856643676758,27.322982788085938,16.687564849853516,-7.908479690551758,8.332138061523438,24.091432571411133,19.75490379333496,33.023277282714844,-2.4932162761688232,-13.76860237121582,14.358061790466309,-1.603881597518921,-12.251422882080078,-25.78754997253418,5.507862567901611,-4.022248268127441,25.26527976989746,10.936766624450684,-4.116950511932373,-8.447087287902832,25.10773468017578,8.950390815734863,4.959840774536133,-5.893196105957031,-8.043238639831543,6.995655536651611,20.290987014770508,-5.420224189758301,12.114498138427734,22.43658447265625,10.746309280395508,-2.3039586544036865,22.58118438720703,13.510771751403809,-12.343932151794434,-4.137907981872559,-9.895276069641113,9.737666130065918,-10.274495124816895,-10.347251892089844,19.297513961791992,11.745050430297852,0.693530797958374,5.454796314239502,-6.674811840057373,34.73118209838867,42.36494445800781,44.201019287109375,-30.735986709594727,-5.778939247131348,-13.654102325439453,36.05021667480469,-8.963502883911133,4.63361120223999,-7.693188190460205,33.655784606933594,-28.425596237182617,42.43116760253906,-4.013869762420654,37.17819595336914,2.271423578262329,-20.86273193359375,-4.306389808654785,41.04791259765625,-19.872522354125977,-26.11638641357422,-27.472850799560547,4.633265018463135,-5.673404693603516,-28.270822525024414,-23.982465744018555,-13.735467910766602,-23.01707649230957,-28.57994270324707,-17.739055633544922,-28.10502052307129,37.542198181152344,-26.07408332824707,4.993454456329346,-18.22887420654297,31.67388916015625,-1184.2711181640625,122.69407653808594,-10.5384521484375,-24.316556930541992,39.08221435546875,-12.276164054870605,39.4496955871582,-4.994287014007568,-1.7963697910308838,-27.81255340576172,44.6135368347168,-1.821712613105774,6.116008758544922,1.8572583198547363,35.10211181640625,-7.605228424072266,45.73445510864258,-4.760988235473633,-27.72223663330078,43.604400634765625,7.021518230438232,39.048946380615234,-36.56403732299805,-1.6818139553070068,36.01001739501953,-32.723201751708984,11.153938293457031,-38.18871307373047,7.111074447631836,-34.71680450439453,35.0716552734375,-12.17208194732666,31.048648834228516,-3.020695447921753,39.19319534301758,-2.389935255050659,-37.81449890136719,42.48314666748047,-20.61493492126465,27.38381576538086,41.99031066894531,10.200085639953613,24.043920516967773,-27.192346572875977,-12.330978393554688,-34.49563217163086,9.874095916748047,-24.00265884399414,34.848243713378906,-15.712998390197754,-37.235286712646484,39.60695266723633,-28.864561080932617,-25.533395767211914,-36.0584831237793,-5.590236186981201,-35.61910629272461,2.5961873531341553,28.51122283935547,-20.79570770263672,0.575212836265564,-22.87643051147461,4.971691131591797,-23.704357147216797,2.7791099548339844,-12.970426559448242,-0.7846923470497131,-21.034500122070312,12.18494701385498,6.987124919891357,-20.091135025024414,4.265190124511719,-15.569310188293457,-7.930481433868408,-5.5041680335998535,-12.392892837524414,-12.530016899108887,29.63280487060547,16.33561134338379,31.5484561920166,-9.175715446472168,-6.804567813873291,9.073599815368652,8.287672996520996,31.895126342773438,-11.932153701782227,11.059225082397461,14.655389785766602,-19.41793441772461,5.779026508331299,7.351991176605225,12.392186164855957,13.108871459960938,27.871444702148438,-9.701878547668457,16.657373428344727,-6.171171188354492,26.320215225219727,18.87700843811035,21.598779678344727,22.874103546142578,26.468914031982422,10.824557304382324,9.166852951049805,22.31829071044922,-11.992980003356934,25.558242797851562],\"type\":\"scatter3d\"},{\"hovertemplate\":\"color=k<br>x=%{x}<br>y=%{y}<br>z=%{z}<extra></extra>\",\"legendgroup\":\"k\",\"marker\":{\"color\":\"#EF553B\",\"symbol\":\"circle\"},\"mode\":\"markers\",\"name\":\"k\",\"scene\":\"scene\",\"showlegend\":true,\"x\":[-14.889735221862793],\"y\":[-44.781185150146484],\"z\":[1.2219104766845703],\"type\":\"scatter3d\"}],                        {\"template\":{\"data\":{\"histogram2dcontour\":[{\"type\":\"histogram2dcontour\",\"colorbar\":{\"outlinewidth\":0,\"ticks\":\"\"},\"colorscale\":[[0.0,\"#0d0887\"],[0.1111111111111111,\"#46039f\"],[0.2222222222222222,\"#7201a8\"],[0.3333333333333333,\"#9c179e\"],[0.4444444444444444,\"#bd3786\"],[0.5555555555555556,\"#d8576b\"],[0.6666666666666666,\"#ed7953\"],[0.7777777777777778,\"#fb9f3a\"],[0.8888888888888888,\"#fdca26\"],[1.0,\"#f0f921\"]]}],\"choropleth\":[{\"type\":\"choropleth\",\"colorbar\":{\"outlinewidth\":0,\"ticks\":\"\"}}],\"histogram2d\":[{\"type\":\"histogram2d\",\"colorbar\":{\"outlinewidth\":0,\"ticks\":\"\"},\"colorscale\":[[0.0,\"#0d0887\"],[0.1111111111111111,\"#46039f\"],[0.2222222222222222,\"#7201a8\"],[0.3333333333333333,\"#9c179e\"],[0.4444444444444444,\"#bd3786\"],[0.5555555555555556,\"#d8576b\"],[0.6666666666666666,\"#ed7953\"],[0.7777777777777778,\"#fb9f3a\"],[0.8888888888888888,\"#fdca26\"],[1.0,\"#f0f921\"]]}],\"heatmap\":[{\"type\":\"heatmap\",\"colorbar\":{\"outlinewidth\":0,\"ticks\":\"\"},\"colorscale\":[[0.0,\"#0d0887\"],[0.1111111111111111,\"#46039f\"],[0.2222222222222222,\"#7201a8\"],[0.3333333333333333,\"#9c179e\"],[0.4444444444444444,\"#bd3786\"],[0.5555555555555556,\"#d8576b\"],[0.6666666666666666,\"#ed7953\"],[0.7777777777777778,\"#fb9f3a\"],[0.8888888888888888,\"#fdca26\"],[1.0,\"#f0f921\"]]}],\"heatmapgl\":[{\"type\":\"heatmapgl\",\"colorbar\":{\"outlinewidth\":0,\"ticks\":\"\"},\"colorscale\":[[0.0,\"#0d0887\"],[0.1111111111111111,\"#46039f\"],[0.2222222222222222,\"#7201a8\"],[0.3333333333333333,\"#9c179e\"],[0.4444444444444444,\"#bd3786\"],[0.5555555555555556,\"#d8576b\"],[0.6666666666666666,\"#ed7953\"],[0.7777777777777778,\"#fb9f3a\"],[0.8888888888888888,\"#fdca26\"],[1.0,\"#f0f921\"]]}],\"contourcarpet\":[{\"type\":\"contourcarpet\",\"colorbar\":{\"outlinewidth\":0,\"ticks\":\"\"}}],\"contour\":[{\"type\":\"contour\",\"colorbar\":{\"outlinewidth\":0,\"ticks\":\"\"},\"colorscale\":[[0.0,\"#0d0887\"],[0.1111111111111111,\"#46039f\"],[0.2222222222222222,\"#7201a8\"],[0.3333333333333333,\"#9c179e\"],[0.4444444444444444,\"#bd3786\"],[0.5555555555555556,\"#d8576b\"],[0.6666666666666666,\"#ed7953\"],[0.7777777777777778,\"#fb9f3a\"],[0.8888888888888888,\"#fdca26\"],[1.0,\"#f0f921\"]]}],\"surface\":[{\"type\":\"surface\",\"colorbar\":{\"outlinewidth\":0,\"ticks\":\"\"},\"colorscale\":[[0.0,\"#0d0887\"],[0.1111111111111111,\"#46039f\"],[0.2222222222222222,\"#7201a8\"],[0.3333333333333333,\"#9c179e\"],[0.4444444444444444,\"#bd3786\"],[0.5555555555555556,\"#d8576b\"],[0.6666666666666666,\"#ed7953\"],[0.7777777777777778,\"#fb9f3a\"],[0.8888888888888888,\"#fdca26\"],[1.0,\"#f0f921\"]]}],\"mesh3d\":[{\"type\":\"mesh3d\",\"colorbar\":{\"outlinewidth\":0,\"ticks\":\"\"}}],\"scatter\":[{\"fillpattern\":{\"fillmode\":\"overlay\",\"size\":10,\"solidity\":0.2},\"type\":\"scatter\"}],\"parcoords\":[{\"type\":\"parcoords\",\"line\":{\"colorbar\":{\"outlinewidth\":0,\"ticks\":\"\"}}}],\"scatterpolargl\":[{\"type\":\"scatterpolargl\",\"marker\":{\"colorbar\":{\"outlinewidth\":0,\"ticks\":\"\"}}}],\"bar\":[{\"error_x\":{\"color\":\"#2a3f5f\"},\"error_y\":{\"color\":\"#2a3f5f\"},\"marker\":{\"line\":{\"color\":\"#E5ECF6\",\"width\":0.5},\"pattern\":{\"fillmode\":\"overlay\",\"size\":10,\"solidity\":0.2}},\"type\":\"bar\"}],\"scattergeo\":[{\"type\":\"scattergeo\",\"marker\":{\"colorbar\":{\"outlinewidth\":0,\"ticks\":\"\"}}}],\"scatterpolar\":[{\"type\":\"scatterpolar\",\"marker\":{\"colorbar\":{\"outlinewidth\":0,\"ticks\":\"\"}}}],\"histogram\":[{\"marker\":{\"pattern\":{\"fillmode\":\"overlay\",\"size\":10,\"solidity\":0.2}},\"type\":\"histogram\"}],\"scattergl\":[{\"type\":\"scattergl\",\"marker\":{\"colorbar\":{\"outlinewidth\":0,\"ticks\":\"\"}}}],\"scatter3d\":[{\"type\":\"scatter3d\",\"line\":{\"colorbar\":{\"outlinewidth\":0,\"ticks\":\"\"}},\"marker\":{\"colorbar\":{\"outlinewidth\":0,\"ticks\":\"\"}}}],\"scattermapbox\":[{\"type\":\"scattermapbox\",\"marker\":{\"colorbar\":{\"outlinewidth\":0,\"ticks\":\"\"}}}],\"scatterternary\":[{\"type\":\"scatterternary\",\"marker\":{\"colorbar\":{\"outlinewidth\":0,\"ticks\":\"\"}}}],\"scattercarpet\":[{\"type\":\"scattercarpet\",\"marker\":{\"colorbar\":{\"outlinewidth\":0,\"ticks\":\"\"}}}],\"carpet\":[{\"aaxis\":{\"endlinecolor\":\"#2a3f5f\",\"gridcolor\":\"white\",\"linecolor\":\"white\",\"minorgridcolor\":\"white\",\"startlinecolor\":\"#2a3f5f\"},\"baxis\":{\"endlinecolor\":\"#2a3f5f\",\"gridcolor\":\"white\",\"linecolor\":\"white\",\"minorgridcolor\":\"white\",\"startlinecolor\":\"#2a3f5f\"},\"type\":\"carpet\"}],\"table\":[{\"cells\":{\"fill\":{\"color\":\"#EBF0F8\"},\"line\":{\"color\":\"white\"}},\"header\":{\"fill\":{\"color\":\"#C8D4E3\"},\"line\":{\"color\":\"white\"}},\"type\":\"table\"}],\"barpolar\":[{\"marker\":{\"line\":{\"color\":\"#E5ECF6\",\"width\":0.5},\"pattern\":{\"fillmode\":\"overlay\",\"size\":10,\"solidity\":0.2}},\"type\":\"barpolar\"}],\"pie\":[{\"automargin\":true,\"type\":\"pie\"}]},\"layout\":{\"autotypenumbers\":\"strict\",\"colorway\":[\"#636efa\",\"#EF553B\",\"#00cc96\",\"#ab63fa\",\"#FFA15A\",\"#19d3f3\",\"#FF6692\",\"#B6E880\",\"#FF97FF\",\"#FECB52\"],\"font\":{\"color\":\"#2a3f5f\"},\"hovermode\":\"closest\",\"hoverlabel\":{\"align\":\"left\"},\"paper_bgcolor\":\"white\",\"plot_bgcolor\":\"#E5ECF6\",\"polar\":{\"bgcolor\":\"#E5ECF6\",\"angularaxis\":{\"gridcolor\":\"white\",\"linecolor\":\"white\",\"ticks\":\"\"},\"radialaxis\":{\"gridcolor\":\"white\",\"linecolor\":\"white\",\"ticks\":\"\"}},\"ternary\":{\"bgcolor\":\"#E5ECF6\",\"aaxis\":{\"gridcolor\":\"white\",\"linecolor\":\"white\",\"ticks\":\"\"},\"baxis\":{\"gridcolor\":\"white\",\"linecolor\":\"white\",\"ticks\":\"\"},\"caxis\":{\"gridcolor\":\"white\",\"linecolor\":\"white\",\"ticks\":\"\"}},\"coloraxis\":{\"colorbar\":{\"outlinewidth\":0,\"ticks\":\"\"}},\"colorscale\":{\"sequential\":[[0.0,\"#0d0887\"],[0.1111111111111111,\"#46039f\"],[0.2222222222222222,\"#7201a8\"],[0.3333333333333333,\"#9c179e\"],[0.4444444444444444,\"#bd3786\"],[0.5555555555555556,\"#d8576b\"],[0.6666666666666666,\"#ed7953\"],[0.7777777777777778,\"#fb9f3a\"],[0.8888888888888888,\"#fdca26\"],[1.0,\"#f0f921\"]],\"sequentialminus\":[[0.0,\"#0d0887\"],[0.1111111111111111,\"#46039f\"],[0.2222222222222222,\"#7201a8\"],[0.3333333333333333,\"#9c179e\"],[0.4444444444444444,\"#bd3786\"],[0.5555555555555556,\"#d8576b\"],[0.6666666666666666,\"#ed7953\"],[0.7777777777777778,\"#fb9f3a\"],[0.8888888888888888,\"#fdca26\"],[1.0,\"#f0f921\"]],\"diverging\":[[0,\"#8e0152\"],[0.1,\"#c51b7d\"],[0.2,\"#de77ae\"],[0.3,\"#f1b6da\"],[0.4,\"#fde0ef\"],[0.5,\"#f7f7f7\"],[0.6,\"#e6f5d0\"],[0.7,\"#b8e186\"],[0.8,\"#7fbc41\"],[0.9,\"#4d9221\"],[1,\"#276419\"]]},\"xaxis\":{\"gridcolor\":\"white\",\"linecolor\":\"white\",\"ticks\":\"\",\"title\":{\"standoff\":15},\"zerolinecolor\":\"white\",\"automargin\":true,\"zerolinewidth\":2},\"yaxis\":{\"gridcolor\":\"white\",\"linecolor\":\"white\",\"ticks\":\"\",\"title\":{\"standoff\":15},\"zerolinecolor\":\"white\",\"automargin\":true,\"zerolinewidth\":2},\"scene\":{\"xaxis\":{\"backgroundcolor\":\"#E5ECF6\",\"gridcolor\":\"white\",\"linecolor\":\"white\",\"showbackground\":true,\"ticks\":\"\",\"zerolinecolor\":\"white\",\"gridwidth\":2},\"yaxis\":{\"backgroundcolor\":\"#E5ECF6\",\"gridcolor\":\"white\",\"linecolor\":\"white\",\"showbackground\":true,\"ticks\":\"\",\"zerolinecolor\":\"white\",\"gridwidth\":2},\"zaxis\":{\"backgroundcolor\":\"#E5ECF6\",\"gridcolor\":\"white\",\"linecolor\":\"white\",\"showbackground\":true,\"ticks\":\"\",\"zerolinecolor\":\"white\",\"gridwidth\":2}},\"shapedefaults\":{\"line\":{\"color\":\"#2a3f5f\"}},\"annotationdefaults\":{\"arrowcolor\":\"#2a3f5f\",\"arrowhead\":0,\"arrowwidth\":1},\"geo\":{\"bgcolor\":\"white\",\"landcolor\":\"#E5ECF6\",\"subunitcolor\":\"white\",\"showland\":true,\"showlakes\":true,\"lakecolor\":\"white\"},\"title\":{\"x\":0.05},\"mapbox\":{\"style\":\"light\"}}},\"scene\":{\"domain\":{\"x\":[0.0,1.0],\"y\":[0.0,1.0]},\"xaxis\":{\"title\":{\"text\":\"x\"}},\"yaxis\":{\"title\":{\"text\":\"y\"}},\"zaxis\":{\"title\":{\"text\":\"z\"}}},\"legend\":{\"title\":{\"text\":\"color\"},\"tracegroupgap\":0},\"margin\":{\"t\":60}},                        {\"responsive\": true}                    ).then(function(){\n",
       "                            \n",
       "var gd = document.getElementById('11ebf069-dca9-4700-8d6a-3610d831ec05');\n",
       "var x = new MutationObserver(function (mutations, observer) {{\n",
       "        var display = window.getComputedStyle(gd).display;\n",
       "        if (!display || display === 'none') {{\n",
       "            console.log([gd, 'removed!']);\n",
       "            Plotly.purge(gd);\n",
       "            observer.disconnect();\n",
       "        }}\n",
       "}});\n",
       "\n",
       "// Listen for the removal of the full notebook cells\n",
       "var notebookContainer = gd.closest('#notebook-container');\n",
       "if (notebookContainer) {{\n",
       "    x.observe(notebookContainer, {childList: true});\n",
       "}}\n",
       "\n",
       "// Listen for the clearing of the current output cell\n",
       "var outputEl = gd.closest('.output');\n",
       "if (outputEl) {{\n",
       "    x.observe(outputEl, {childList: true});\n",
       "}}\n",
       "\n",
       "                        })                };                });            </script>        </div>"
      ]
     },
     "metadata": {},
     "output_type": "display_data"
    }
   ],
   "source": [
    "# plot using tsne \n",
    "X_embedded  = TSNE(n_components=3, perplexity=10,random_state=24).fit_transform( X )\n",
    "colors = np.array([x for x in 'bgrcmykbgrcmykbgrcmykbgrcmyk'])\n",
    "fig = px.scatter_3d(x=X_embedded [:,0],y=X_embedded [:,1],z=X_embedded [:,2],color=colors[dbscan_clustering.labels_])\n",
    "fig.show()"
   ]
  },
  {
   "cell_type": "markdown",
   "metadata": {},
   "source": [
    "### Optics\n",
    "\n",
    "OPTICS is also a density-based algorithm similar to DBSCAN, but as compare to DBSCAN, OPTICS can find meaningful clusters in data that varies in density. OPTICS does process by ordering the data points so that the closest points are neighbors in the ordering. "
   ]
  },
  {
   "cell_type": "code",
   "execution_count": 247,
   "metadata": {},
   "outputs": [],
   "source": [
    "optics_grid = {\n",
    "        \"min_samples\" : range(7,20,3),\n",
    "        \"metric\": ['euclidean','dice' 'manhattan', 'cosine', 'precomputed'],\n",
    "        \"algorithm\" : ['auto', 'ball_tree', 'kd_tree', 'brute'],\n",
    "        \"eps\": np.arange(0.01,1.1,0.01)\n",
    "       }\n",
    "#dbscan_grid"
   ]
  },
  {
   "cell_type": "code",
   "execution_count": 248,
   "metadata": {},
   "outputs": [],
   "source": [
    "optics_model = OPTICS()\n",
    "optics_params = GridSearchCV(optics_model,optics_grid,scoring=silhouette_score2,cv= 10).fit(X, y)"
   ]
  },
  {
   "cell_type": "code",
   "execution_count": 249,
   "metadata": {},
   "outputs": [
    {
     "data": {
      "text/plain": [
       "(0.472701926323285,\n",
       " {'algorithm': 'brute', 'eps': 0.01, 'metric': 'euclidean', 'min_samples': 10})"
      ]
     },
     "execution_count": 249,
     "metadata": {},
     "output_type": "execute_result"
    }
   ],
   "source": [
    "optics_params.best_score_, optics_params.best_params_"
   ]
  },
  {
   "cell_type": "code",
   "execution_count": 250,
   "metadata": {},
   "outputs": [],
   "source": [
    "optics_clustering = OPTICS(min_samples = optics_params.best_params_['min_samples'],\n",
    "                           algorithm = optics_params.best_params_['algorithm'],\n",
    "                           metric = optics_params.best_params_['metric'],\n",
    "                           eps = optics_params.best_params_['eps']\n",
    "                          ).fit(X)\n",
    "cluster = list(optics_clustering.labels_)\n",
    "values, counts = np.unique(cluster, return_counts=True)      \n",
    "optics_dataset = pd.DataFrame(X.copy())\n",
    "optics_dataset.loc[:,'Cluster'] = optics_clustering.labels_\n"
   ]
  },
  {
   "cell_type": "code",
   "execution_count": 251,
   "metadata": {},
   "outputs": [
    {
     "data": {
      "text/html": [
       "<div>\n",
       "<style scoped>\n",
       "    .dataframe tbody tr th:only-of-type {\n",
       "        vertical-align: middle;\n",
       "    }\n",
       "\n",
       "    .dataframe tbody tr th {\n",
       "        vertical-align: top;\n",
       "    }\n",
       "\n",
       "    .dataframe thead th {\n",
       "        text-align: right;\n",
       "    }\n",
       "</style>\n",
       "<table border=\"1\" class=\"dataframe\">\n",
       "  <thead>\n",
       "    <tr style=\"text-align: right;\">\n",
       "      <th></th>\n",
       "      <th>Cluster</th>\n",
       "    </tr>\n",
       "  </thead>\n",
       "  <tbody>\n",
       "    <tr>\n",
       "      <th>-1</th>\n",
       "      <td>156</td>\n",
       "    </tr>\n",
       "    <tr>\n",
       "      <th>11</th>\n",
       "      <td>31</td>\n",
       "    </tr>\n",
       "    <tr>\n",
       "      <th>6</th>\n",
       "      <td>31</td>\n",
       "    </tr>\n",
       "    <tr>\n",
       "      <th>5</th>\n",
       "      <td>31</td>\n",
       "    </tr>\n",
       "    <tr>\n",
       "      <th>10</th>\n",
       "      <td>25</td>\n",
       "    </tr>\n",
       "    <tr>\n",
       "      <th>7</th>\n",
       "      <td>22</td>\n",
       "    </tr>\n",
       "    <tr>\n",
       "      <th>1</th>\n",
       "      <td>21</td>\n",
       "    </tr>\n",
       "    <tr>\n",
       "      <th>9</th>\n",
       "      <td>18</td>\n",
       "    </tr>\n",
       "    <tr>\n",
       "      <th>4</th>\n",
       "      <td>18</td>\n",
       "    </tr>\n",
       "    <tr>\n",
       "      <th>3</th>\n",
       "      <td>18</td>\n",
       "    </tr>\n",
       "    <tr>\n",
       "      <th>2</th>\n",
       "      <td>11</td>\n",
       "    </tr>\n",
       "    <tr>\n",
       "      <th>8</th>\n",
       "      <td>11</td>\n",
       "    </tr>\n",
       "    <tr>\n",
       "      <th>0</th>\n",
       "      <td>10</td>\n",
       "    </tr>\n",
       "  </tbody>\n",
       "</table>\n",
       "</div>"
      ],
      "text/plain": [
       "     Cluster\n",
       "-1       156\n",
       " 11       31\n",
       " 6        31\n",
       " 5        31\n",
       " 10       25\n",
       " 7        22\n",
       " 1        21\n",
       " 9        18\n",
       " 4        18\n",
       " 3        18\n",
       " 2        11\n",
       " 8        11\n",
       " 0        10"
      ]
     },
     "execution_count": 251,
     "metadata": {},
     "output_type": "execute_result"
    }
   ],
   "source": [
    "optics_dataset.Cluster.value_counts().to_frame()"
   ]
  },
  {
   "cell_type": "code",
   "execution_count": 252,
   "metadata": {},
   "outputs": [
    {
     "data": {
      "text/html": [
       "<div>\n",
       "<style scoped>\n",
       "    .dataframe tbody tr th:only-of-type {\n",
       "        vertical-align: middle;\n",
       "    }\n",
       "\n",
       "    .dataframe tbody tr th {\n",
       "        vertical-align: top;\n",
       "    }\n",
       "\n",
       "    .dataframe thead th {\n",
       "        text-align: right;\n",
       "    }\n",
       "</style>\n",
       "<table border=\"1\" class=\"dataframe\">\n",
       "  <thead>\n",
       "    <tr style=\"text-align: right;\">\n",
       "      <th></th>\n",
       "      <th>silhouette_score</th>\n",
       "      <th>davies_bouldin_score</th>\n",
       "      <th>calinski_harabasz_score</th>\n",
       "      <th>fowlkes_mallows_score</th>\n",
       "      <th>adjusted_rand_score</th>\n",
       "      <th>adjusted_mutual_info_score</th>\n",
       "      <th>homogeneity_score</th>\n",
       "      <th>completeness_score</th>\n",
       "      <th>v_measure_score</th>\n",
       "    </tr>\n",
       "  </thead>\n",
       "  <tbody>\n",
       "    <tr>\n",
       "      <th>Optics</th>\n",
       "      <td>0.064336</td>\n",
       "      <td>1.640537</td>\n",
       "      <td>33.961702</td>\n",
       "      <td>0.290139</td>\n",
       "      <td>0.084145</td>\n",
       "      <td>0.29847</td>\n",
       "      <td>0.415201</td>\n",
       "      <td>0.257518</td>\n",
       "      <td>0.317879</td>\n",
       "    </tr>\n",
       "  </tbody>\n",
       "</table>\n",
       "</div>"
      ],
      "text/plain": [
       "        silhouette_score  davies_bouldin_score  calinski_harabasz_score  \\\n",
       "Optics          0.064336              1.640537                33.961702   \n",
       "\n",
       "        fowlkes_mallows_score  adjusted_rand_score  \\\n",
       "Optics               0.290139             0.084145   \n",
       "\n",
       "        adjusted_mutual_info_score  homogeneity_score  completeness_score  \\\n",
       "Optics                     0.29847           0.415201            0.257518   \n",
       "\n",
       "        v_measure_score  \n",
       "Optics         0.317879  "
      ]
     },
     "execution_count": 252,
     "metadata": {},
     "output_type": "execute_result"
    }
   ],
   "source": [
    "\n",
    "Optics_df = pd.DataFrame(estimator_evaluation(optics_clustering, 'Optics ', X , y), index=[\"Optics\"])\n",
    "Optics_df"
   ]
  },
  {
   "cell_type": "code",
   "execution_count": 253,
   "metadata": {},
   "outputs": [
    {
     "data": {
      "application/vnd.plotly.v1+json": {
       "config": {
        "plotlyServerURL": "https://plot.ly"
       },
       "data": [
        {
         "hovertemplate": "color=k<br>x=%{x}<br>y=%{y}<br>z=%{z}<extra></extra>",
         "legendgroup": "k",
         "marker": {
          "color": "#636efa",
          "symbol": "circle"
         },
         "mode": "markers",
         "name": "k",
         "scene": "scene",
         "showlegend": true,
         "type": "scatter3d",
         "x": [
          -21.267044067382812,
          -16.822650909423828,
          -36.06597137451172,
          -26.903005599975586,
          -10.522098541259766,
          -11.172066688537598,
          -21.344249725341797,
          -35.50358200073242,
          -17.483646392822266,
          -32.733314514160156,
          -31.977890014648438,
          -20.048160552978516,
          -36.49922561645508,
          -31.024127960205078,
          -19.285551071166992,
          -26.53757095336914,
          -16.589069366455078,
          -20.381595611572266,
          -34.185394287109375,
          -13.879016876220703,
          -29.271230697631836,
          -14.153593063354492,
          -13.993045806884766,
          -30.4713077545166,
          -25.72091293334961,
          -16.764545440673828,
          -10.712099075317383,
          -17.79693603515625,
          -12.57739543914795,
          -0.7267776727676392,
          5.935863018035889,
          16.332124710083008,
          -17.974720001220703,
          10.653630256652832,
          -18.646787643432617,
          -21.651941299438477,
          -13.981273651123047,
          8.852254867553711,
          5.489107608795166,
          13.520792007446289,
          84.0427474975586,
          -18.89834213256836,
          -16.19564437866211,
          1.5232117176055908,
          -1.1105945110321045,
          9.992449760437012,
          -22.55308723449707,
          -22.65562629699707,
          18.044836044311523,
          11.674993515014648,
          -17.555368423461914,
          0.2912577986717224,
          -16.148483276367188,
          0.6788923144340515,
          -22.341880798339844,
          -22.72369956970215,
          -13.028511047363281,
          18.44590950012207,
          8.328204154968262,
          4.20270299911499,
          -13.910672187805176,
          -14.52842903137207,
          -21.77710723876953,
          -18.264860153198242,
          -22.563655853271484,
          15.868163108825684,
          -16.81120491027832,
          -18.903366088867188,
          14.33255386352539,
          24.573030471801758,
          23.564762115478516,
          15.339200019836426,
          23.716899871826172,
          2.241644859313965,
          17.254390716552734,
          9.47315788269043,
          32.198673248291016,
          2.696962833404541,
          15.595996856689453,
          13.936925888061523,
          11.48470687866211,
          11.878907203674316,
          21.662534713745117,
          14.997796058654785,
          19.37211799621582,
          20.043367385864258,
          10.031150817871094,
          16.300519943237305,
          5.852301120758057,
          8.84896469116211,
          4.991186618804932,
          -12.906111717224121,
          13.97585391998291,
          6.433780193328857,
          1.4961940050125122,
          8.879339218139648,
          22.074153900146484,
          16.403331756591797,
          21.30132293701172,
          12.368870735168457,
          7.219574451446533,
          17.395112991333008,
          8.58479118347168,
          20.618406295776367,
          40.476531982421875,
          12.237604141235352,
          4.1392502784729,
          18.185205459594727,
          7.0952863693237305,
          -1.2226147651672363,
          23.871938705444336,
          12.335711479187012,
          24.45811653137207,
          23.544315338134766,
          28.866249084472656,
          27.462055206298828,
          24.23588752746582,
          36.8121337890625,
          27.226430892944336,
          -13.640060424804688,
          25.876117706298828,
          11.781044006347656,
          24.084733963012695,
          -13.536191940307617,
          -14.889735221862793,
          39.1591682434082,
          8.019389152526855,
          7.181481838226318,
          46.00409698486328,
          -16.012794494628906,
          -12.858540534973145,
          5.692639350891113,
          12.236316680908203,
          -22.969045639038086,
          -21.064739227294922,
          -17.431264877319336,
          -10.650376319885254,
          -8.499683380126953,
          -17.90882110595703,
          -38.12913131713867,
          2.7441911697387695,
          -5.673862934112549,
          -29.06601333618164,
          -30.721755981445312,
          -23.773422241210938,
          -9.347555160522461,
          -12.104231834411621,
          -15.310219764709473,
          -16.34224510192871,
          -32.941097259521484,
          -18.877254486083984,
          19.652210235595703,
          -19.89840316772461,
          4.860600471496582,
          -18.467571258544922,
          4.800532817840576,
          2.619084358215332,
          -15.076781272888184,
          10.786006927490234,
          0.08586261421442032,
          2.394094228744507,
          -17.82406997680664,
          6.604032039642334,
          -20.834470748901367,
          9.799295425415039,
          -0.9430211186408997,
          1.898878812789917,
          13.471965789794922,
          -17.268545150756836,
          3.4498560428619385,
          9.896615028381348,
          6.338685512542725,
          21.73213768005371,
          20.71617889404297,
          32.223934173583984,
          25.03771209716797,
          17.18193244934082,
          -13.054549217224121,
          -11.873586654663086,
          23.816953659057617,
          24.764509201049805,
          -16.661724090576172,
          -9.645992279052734,
          27.049915313720703,
          -93.683837890625,
          -14.055168151855469,
          -10.169634819030762
         ],
         "y": [
          35.922725677490234,
          -28.599925994873047,
          14.13102912902832,
          25.9504451751709,
          43.85566711425781,
          11.42887020111084,
          -30.018110275268555,
          18.056838989257812,
          -27.7197265625,
          -4.371962547302246,
          -0.6587179899215698,
          27.100460052490234,
          -10.558356285095215,
          24.486465454101562,
          -25.21457862854004,
          22.035154342651367,
          15.552287101745605,
          28.93560028076172,
          19.651897430419922,
          42.3321533203125,
          3.193222999572754,
          12.817761421203613,
          40.591495513916016,
          24.410675048828125,
          3.878140449523926,
          38.24163818359375,
          10.919054985046387,
          42.6595573425293,
          7.073983669281006,
          6.204806804656982,
          31.711185455322266,
          13.306443214416504,
          2.2028632164001465,
          -4.577503204345703,
          -15.422771453857422,
          0.4951074421405792,
          3.1074705123901367,
          1.3824677467346191,
          23.091190338134766,
          4.3916754722595215,
          66.60557556152344,
          -17.389612197875977,
          -8.611226081848145,
          9.737428665161133,
          42.7652702331543,
          24.586780548095703,
          -15.357054710388184,
          1.8845208883285522,
          -7.534989356994629,
          21.911224365234375,
          -0.8942708373069763,
          4.110654830932617,
          1.5898655652999878,
          9.819938659667969,
          -17.511959075927734,
          -2.7408711910247803,
          4.913856506347656,
          -0.3799690008163452,
          -7.851871967315674,
          1.9403424263000488,
          -3.8257787227630615,
          2.587691068649292,
          4.729564189910889,
          -19.9576358795166,
          -13.174420356750488,
          -6.681667327880859,
          6.130126476287842,
          -13.157781600952148,
          6.796523094177246,
          -13.22385311126709,
          22.654258728027344,
          -14.928306579589844,
          -14.00196361541748,
          -4.707040309906006,
          23.846031188964844,
          -5.553106784820557,
          -11.50830364227295,
          -6.083141326904297,
          -12.852591514587402,
          22.654117584228516,
          -14.624302864074707,
          -16.989368438720703,
          -1.8572121858596802,
          19.930757522583008,
          17.647409439086914,
          -16.535179138183594,
          -17.343385696411133,
          16.641969680786133,
          -16.828969955444336,
          -16.676023483276367,
          -16.708698272705078,
          -7.712678909301758,
          17.278886795043945,
          -20.16769027709961,
          -8.69201946258545,
          -13.669449806213379,
          16.522836685180664,
          -16.477487564086914,
          12.344599723815918,
          -16.12377166748047,
          -13.929681777954102,
          14.271845817565918,
          -19.734310150146484,
          13.294169425964355,
          12.779515266418457,
          -20.389284133911133,
          -12.588605880737305,
          -13.305061340332031,
          -9.958097457885742,
          -3.641934394836426,
          -16.979398727416992,
          -34.130340576171875,
          22.371288299560547,
          10.071693420410156,
          25.149538040161133,
          23.606521606445312,
          21.57587242126465,
          -17.417682647705078,
          21.42276954650879,
          -45.999088287353516,
          9.282002449035645,
          -15.741121292114258,
          12.40717887878418,
          -42.054561614990234,
          -44.781185150146484,
          13.746968269348145,
          -36.53717803955078,
          -15.248553276062012,
          -33.2227783203125,
          -45.257266998291016,
          -45.8526725769043,
          -18.015134811401367,
          -18.587879180908203,
          32.13788604736328,
          -26.404216766357422,
          30.62104606628418,
          39.981258392333984,
          43.24763107299805,
          40.68608093261719,
          17.157428741455078,
          27.957015991210938,
          42.44248962402344,
          3.7551586627960205,
          4.845126628875732,
          26.4428653717041,
          36.71547317504883,
          37.264373779296875,
          44.56779861450195,
          -24.83991813659668,
          -9.220967292785645,
          5.030978679656982,
          -3.184669017791748,
          -4.207118988037109,
          -3.8456530570983887,
          3.0606532096862793,
          5.297758102416992,
          -21.629451751708984,
          7.338028907775879,
          -5.297547817230225,
          -21.39366912841797,
          -24.639142990112305,
          -0.4972001910209656,
          -3.9760918617248535,
          -7.7200164794921875,
          -1.3451337814331055,
          -24.354713439941406,
          -1.2618411779403687,
          -1.767958641052246,
          5.381312370300293,
          -39.685157775878906,
          18.514169692993164,
          -3.161134958267212,
          20.76923179626465,
          -14.517918586730957,
          -11.760886192321777,
          12.259390830993652,
          19.423126220703125,
          -50.34455490112305,
          -42.593475341796875,
          22.30584716796875,
          25.335994720458984,
          -48.06392288208008,
          -43.8515739440918,
          24.448200225830078,
          -63.7742805480957,
          -48.9123420715332,
          -46.39421844482422
         ],
         "z": [
          5.8168253898620605,
          33.52610397338867,
          -21.3820858001709,
          -21.729238510131836,
          -3.7784321308135986,
          -30.573514938354492,
          31.861804962158203,
          -23.78899383544922,
          37.189815521240234,
          3.851856231689453,
          1.6737146377563477,
          -17.21922492980957,
          5.405576229095459,
          -22.764877319335938,
          31.78816795349121,
          -20.095991134643555,
          -26.840534210205078,
          -12.876431465148926,
          -20.992544174194336,
          1.3392982482910156,
          -9.661981582641602,
          -28.130165100097656,
          -3.5932059288024902,
          -19.014638900756836,
          -9.01623821258545,
          -1.315071940422058,
          -27.052629470825195,
          0.6900990009307861,
          -29.092561721801758,
          -31.185924530029297,
          -17.988819122314453,
          -21.65678596496582,
          -4.545928478240967,
          -33.67805862426758,
          10.74067497253418,
          10.418437004089355,
          -2.426177740097046,
          -34.627174377441406,
          -20.917863845825195,
          -29.894676208496094,
          -2.0550172328948975,
          6.714169025421143,
          9.173133850097656,
          -26.99646759033203,
          -5.417999267578125,
          -17.037246704101562,
          6.034440517425537,
          6.306940078735352,
          -31.62060546875,
          -17.414480209350586,
          6.155144214630127,
          -34.23719787597656,
          0.8089843392372131,
          -30.948036193847656,
          9.657200813293457,
          8.167305946350098,
          1.280754566192627,
          -30.74943733215332,
          -35.562347412109375,
          -36.585018157958984,
          6.946134090423584,
          4.64308500289917,
          -7.637720108032227,
          10.417008399963379,
          9.823871612548828,
          -34.36848831176758,
          -6.230306625366211,
          7.1384382247924805,
          -32.0279541015625,
          11.82937240600586,
          3.239884376525879,
          15.885846138000488,
          7.990316390991211,
          -6.217715263366699,
          -0.350166916847229,
          4.314609050750732,
          -16.73946189880371,
          -9.98575496673584,
          9.797197341918945,
          -4.4007110595703125,
          19.636438369750977,
          27.046123504638672,
          -29.55804443359375,
          -1.6893768310546875,
          -1.510080337524414,
          7.298007965087891,
          23.556074142456055,
          -9.639875411987305,
          28.855613708496094,
          31.980281829833984,
          33.5184326171875,
          8.310609817504883,
          -6.211831569671631,
          33.03346633911133,
          -7.272939682006836,
          28.54404640197754,
          -4.252840042114258,
          10.189713478088379,
          -6.047015190124512,
          14.70949935913086,
          25.040786743164062,
          -6.7096734046936035,
          28.498260498046875,
          -9.668194770812988,
          6.791210651397705,
          30.87400245666504,
          -9.934831619262695,
          6.954226016998291,
          25.21449089050293,
          -7.881289005279541,
          10.863962173461914,
          -4.7493462562561035,
          19.32184600830078,
          29.95144271850586,
          11.213606834411621,
          15.163322448730469,
          14.672515869140625,
          20.951534271240234,
          10.860676765441895,
          6.0969953536987305,
          34.30753707885742,
          8.332138061523438,
          33.023277282714844,
          5.507862567901611,
          1.2219104766845703,
          10.936766624450684,
          4.959840774536133,
          -8.043238639831543,
          20.290987014770508,
          10.746309280395508,
          13.510771751403809,
          -9.895276069641113,
          19.297513961791992,
          5.454796314239502,
          34.73118209838867,
          -13.654102325439453,
          -8.963502883911133,
          -7.693188190460205,
          -4.013869762420654,
          -20.86273193359375,
          -19.872522354125977,
          -5.673404693603516,
          -13.735467910766602,
          -17.739055633544922,
          -18.22887420654297,
          -10.5384521484375,
          -12.276164054870605,
          -1.821712613105774,
          35.10211181640625,
          7.021518230438232,
          -1.6818139553070068,
          -32.723201751708984,
          11.153938293457031,
          -38.18871307373047,
          7.111074447631836,
          -34.71680450439453,
          39.19319534301758,
          -2.389935255050659,
          -37.81449890136719,
          42.48314666748047,
          41.99031066894531,
          10.200085639953613,
          -34.49563217163086,
          9.874095916748047,
          -37.235286712646484,
          39.60695266723633,
          -36.0584831237793,
          -35.61910629272461,
          2.5961873531341553,
          28.51122283935547,
          -20.79570770263672,
          4.971691131591797,
          -0.7846923470497131,
          12.18494701385498,
          -20.091135025024414,
          -7.930481433868408,
          -5.5041680335998535,
          16.33561134338379,
          9.073599815368652,
          8.287672996520996,
          11.059225082397461,
          14.655389785766602,
          5.779026508331299,
          7.351991176605225,
          12.392186164855957,
          10.824557304382324,
          9.166852951049805
         ]
        },
        {
         "hovertemplate": "color=g<br>x=%{x}<br>y=%{y}<br>z=%{z}<extra></extra>",
         "legendgroup": "g",
         "marker": {
          "color": "#EF553B",
          "symbol": "circle"
         },
         "mode": "markers",
         "name": "g",
         "scene": "scene",
         "showlegend": true,
         "type": "scatter3d",
         "x": [
          -30.4609375,
          -33.579097747802734,
          -34.801292419433594,
          -21.532691955566406,
          -16.078256607055664,
          -24.680877685546875,
          -19.039701461791992,
          -27.04876136779785,
          9.107170104980469,
          4.6845927238464355,
          6.0786261558532715,
          12.687679290771484,
          7.3835129737854,
          13.81178092956543,
          9.502975463867188,
          8.833601951599121,
          -24.733917236328125,
          -28.772064208984375,
          -24.07947540283203,
          -32.08818054199219,
          -21.81537628173828,
          -30.40770149230957,
          -23.45379638671875,
          -17.01804542541504,
          -31.2700138092041,
          -25.28873062133789,
          -29.65091896057129,
          -18.277950286865234,
          -27.129587173461914,
          5.577123165130615,
          6.600318431854248,
          13.824715614318848
         ],
         "y": [
          13.935522079467773,
          7.506102561950684,
          9.252019882202148,
          7.943752765655518,
          8.681744575500488,
          18.97339630126953,
          2.160881519317627,
          21.37002944946289,
          -6.172765731811523,
          -8.096137046813965,
          -8.648439407348633,
          -12.295158386230469,
          -12.351204872131348,
          -10.344816207885742,
          -9.094193458557129,
          -9.549301147460938,
          6.2822065353393555,
          3.967867612838745,
          19.151569366455078,
          6.475119590759277,
          2.4901180267333984,
          9.720891952514648,
          22.970993041992188,
          4.806143760681152,
          10.687250137329102,
          4.327755928039551,
          5.603481769561768,
          0.16408143937587738,
          8.019692420959473,
          -6.502359390258789,
          -6.617073059082031,
          -14.149086952209473
         ],
         "z": [
          -26.02112579345703,
          -21.12174415588379,
          -24.413700103759766,
          -29.579225540161133,
          -29.19700050354004,
          -22.112937927246094,
          -24.928831100463867,
          -24.522563934326172,
          -0.7241188883781433,
          -4.063405513763428,
          -7.591188907623291,
          0.7650196552276611,
          -4.324703216552734,
          3.8012237548828125,
          -3.1974411010742188,
          1.238881230354309,
          -30.735986709594727,
          -28.425596237182617,
          -26.11638641357422,
          -27.472850799560547,
          -28.270822525024414,
          -23.982465744018555,
          -23.01707649230957,
          -28.57994270324707,
          -28.10502052307129,
          -26.07408332824707,
          -24.316556930541992,
          -27.81255340576172,
          -27.72223663330078,
          2.7791099548339844,
          6.987124919891357,
          4.265190124511719
         ]
        },
        {
         "hovertemplate": "color=b<br>x=%{x}<br>y=%{y}<br>z=%{z}<extra></extra>",
         "legendgroup": "b",
         "marker": {
          "color": "#00cc96",
          "symbol": "circle"
         },
         "mode": "markers",
         "name": "b",
         "scene": "scene",
         "showlegend": true,
         "type": "scatter3d",
         "x": [
          -49.39965057373047,
          -42.795692443847656,
          -20.139205932617188,
          -45.48850631713867,
          -23.23345184326172,
          -46.284759521484375,
          -20.900346755981445,
          -23.27183723449707,
          -40.64645767211914,
          -38.054603576660156,
          -47.17422866821289,
          -47.790645599365234,
          -33.91830062866211,
          -46.7971305847168,
          -21.01463508605957,
          -46.36410140991211,
          -35.17536544799805,
          -22.53413963317871,
          -32.07025146484375,
          -46.00606155395508,
          -20.731657028198242,
          -42.43263626098633,
          -36.13899612426758,
          -40.333988189697266,
          -456.2898864746094,
          7.38869047164917,
          -18.506410598754883,
          -38.623165130615234,
          -41.04960250854492,
          -24.413591384887695,
          -17.080352783203125,
          -19.528425216674805
         ],
         "y": [
          -10.496481895446777,
          -0.7150207757949829,
          36.57126235961914,
          -9.403033256530762,
          32.311370849609375,
          1.4767169952392578,
          53.378841400146484,
          29.411508560180664,
          -2.9173927307128906,
          -9.13534164428711,
          -5.571140766143799,
          -8.554363250732422,
          -0.16450761258602142,
          -2.169846296310425,
          33.46477508544922,
          2.629030466079712,
          2.8495986461639404,
          28.855127334594727,
          1.553058385848999,
          -12.32067584991455,
          31.368810653686523,
          3.2678065299987793,
          -4.6959357261657715,
          -5.3941521644592285,
          -302.0281982421875,
          -60.05851364135742,
          31.3853702545166,
          0.5542541742324829,
          -10.682809829711914,
          33.03150939941406,
          33.856571197509766,
          35.442752838134766
         ],
         "z": [
          2.444183588027954,
          -4.472977161407471,
          0.4842860996723175,
          1.7811448574066162,
          -3.4071192741394043,
          -5.672760963439941,
          125.64574432373047,
          -0.8353308439254761,
          1.9910587072372437,
          8.647953987121582,
          0.6054890751838684,
          5.616896629333496,
          -1.1675693988800049,
          -2.5310606956481934,
          -7.873538494110107,
          -1.7316131591796875,
          -5.049018859863281,
          -6.674811840057373,
          -5.778939247131348,
          4.63361120223999,
          2.271423578262329,
          -4.306389808654785,
          4.633265018463135,
          4.993454456329346,
          -1184.2711181640625,
          122.69407653808594,
          -4.994287014007568,
          -1.7963697910308838,
          6.116008758544922,
          1.8572583198547363,
          -7.605228424072266,
          -4.760988235473633
         ]
        },
        {
         "hovertemplate": "color=c<br>x=%{x}<br>y=%{y}<br>z=%{z}<extra></extra>",
         "legendgroup": "c",
         "marker": {
          "color": "#ab63fa",
          "symbol": "circle"
         },
         "mode": "markers",
         "name": "c",
         "scene": "scene",
         "showlegend": true,
         "type": "scatter3d",
         "x": [
          -25.461931228637695,
          -24.241518020629883,
          -23.104211807250977,
          -23.937450408935547,
          -31.07014274597168,
          -31.920787811279297,
          -27.272750854492188,
          -13.470775604248047,
          -14.55036735534668,
          -21.803001403808594,
          31.768972396850586,
          26.291427612304688,
          27.136953353881836,
          27.159940719604492,
          32.37428665161133,
          30.79879379272461,
          27.999364852905273,
          27.603469848632812,
          25.706993103027344,
          23.39597511291504,
          -18.615015029907227,
          -9.400259971618652,
          -27.591981887817383,
          -26.467159271240234,
          -11.377697944641113,
          -28.746112823486328,
          -12.118288040161133,
          -24.882373809814453,
          -29.823400497436523,
          -18.51105308532715,
          -20.316526412963867,
          -13.736462593078613,
          -11.020339965820312,
          -7.910359859466553,
          -16.397624969482422,
          3.749504804611206,
          29.08721351623535,
          29.612564086914062,
          29.7270450592041,
          32.26485824584961,
          32.368988037109375,
          25.369630813598633,
          31.42034339904785
         ],
         "y": [
          -14.783294677734375,
          -22.510534286499023,
          -18.64919662475586,
          -16.058134078979492,
          -8.236431121826172,
          -11.5612154006958,
          -20.627683639526367,
          -20.01321029663086,
          -9.778741836547852,
          -14.032255172729492,
          -5.971858501434326,
          7.5764241218566895,
          2.9488532543182373,
          2.331176996231079,
          -7.422783851623535,
          1.8261659145355225,
          6.935790538787842,
          -1.164661169052124,
          -0.6366279721260071,
          9.386844635009766,
          -13.605611801147461,
          -15.183632850646973,
          -12.173080444335938,
          -8.881789207458496,
          -11.7959566116333,
          -7.807506084442139,
          -16.515052795410156,
          -8.47089958190918,
          -11.922337532043457,
          -15.538965225219727,
          -11.413725852966309,
          -14.24774169921875,
          -18.71875762939453,
          -20.037574768066406,
          -12.353191375732422,
          -8.85015869140625,
          -4.048883438110352,
          0.7570634484291077,
          -0.45229485630989075,
          -2.3073678016662598,
          -2.266845226287842,
          9.192879676818848,
          2.7518935203552246
         ],
         "z": [
          32.748905181884766,
          31.61870002746582,
          31.9556884765625,
          36.20995330810547,
          32.89856719970703,
          35.27460479736328,
          30.741924285888672,
          42.24124526977539,
          43.90907669067383,
          33.8502197265625,
          -18.60561180114746,
          -16.355648040771484,
          -21.037330627441406,
          -16.75409507751465,
          -22.44613265991211,
          -19.199848175048828,
          -11.248101234436035,
          -19.198013305664062,
          -22.951927185058594,
          -16.8520450592041,
          42.36494445800781,
          44.201019287109375,
          36.05021667480469,
          33.655784606933594,
          42.43116760253906,
          37.17819595336914,
          41.04791259765625,
          37.542198181152344,
          31.67388916015625,
          39.08221435546875,
          39.4496955871582,
          44.6135368347168,
          45.73445510864258,
          43.604400634765625,
          39.048946380615234,
          -36.56403732299805,
          -22.87643051147461,
          -23.704357147216797,
          -12.970426559448242,
          -21.034500122070312,
          -15.569310188293457,
          -12.392892837524414,
          -12.530016899108887
         ]
        },
        {
         "hovertemplate": "color=r<br>x=%{x}<br>y=%{y}<br>z=%{z}<extra></extra>",
         "legendgroup": "r",
         "marker": {
          "color": "#FFA15A",
          "symbol": "circle"
         },
         "mode": "markers",
         "name": "r",
         "scene": "scene",
         "showlegend": true,
         "type": "scatter3d",
         "x": [
          0.4075632095336914,
          0.3447377681732178,
          6.861714839935303,
          3.140899419784546,
          8.21495246887207,
          10.190162658691406,
          -0.060101576149463654,
          -0.7936458587646484,
          7.53861141204834,
          -10.721659660339355,
          -8.545669555664062,
          0.5921189188957214,
          0.20385026931762695,
          2.0907599925994873,
          -4.701167583465576,
          1.6178152561187744,
          5.799005508422852,
          5.038982391357422,
          -6.485118389129639,
          -2.8718912601470947,
          -4.004284381866455,
          6.2144598960876465,
          -1.284684419631958,
          3.1057519912719727,
          2.0858445167541504,
          4.337176322937012,
          -6.645021438598633,
          10.572393417358398,
          7.155150413513184
         ],
         "y": [
          1.8972957134246826,
          6.443424224853516,
          12.725150108337402,
          0.44145891070365906,
          7.599973201751709,
          14.551630020141602,
          -1.3469034433364868,
          8.65053653717041,
          11.905198097229004,
          4.376777648925781,
          4.290068626403809,
          -2.369314432144165,
          2.9193058013916016,
          12.256580352783203,
          5.921625137329102,
          -1.6807132959365845,
          5.807104110717773,
          -6.246535301208496,
          5.7682414054870605,
          3.2834300994873047,
          1.1891841888427734,
          17.427650451660156,
          1.470876693725586,
          1.4655126333236694,
          13.918794631958008,
          16.162832260131836,
          1.4166902303695679,
          8.251192092895508,
          9.0260009765625
         ],
         "z": [
          20.7386474609375,
          23.54466438293457,
          -23.70884132385254,
          28.313512802124023,
          -32.647544860839844,
          -21.366243362426758,
          30.684783935546875,
          21.458824157714844,
          -27.826797485351562,
          36.29490280151367,
          32.32023239135742,
          26.626850128173828,
          31.12822914123535,
          -23.622650146484375,
          32.096405029296875,
          22.033491134643555,
          -30.726350784301758,
          25.667417526245117,
          36.01001739501953,
          35.0716552734375,
          31.048648834228516,
          -20.61493492126465,
          27.38381576538086,
          24.043920516967773,
          -27.192346572875977,
          -24.00265884399414,
          34.848243713378906,
          -28.864561080932617,
          -25.533395767211914
         ]
        },
        {
         "hovertemplate": "color=m<br>x=%{x}<br>y=%{y}<br>z=%{z}<extra></extra>",
         "legendgroup": "m",
         "marker": {
          "color": "#19d3f3",
          "symbol": "circle"
         },
         "mode": "markers",
         "name": "m",
         "scene": "scene",
         "showlegend": true,
         "type": "scatter3d",
         "x": [
          -33.51859664916992,
          5.823702335357666,
          5.161942005157471,
          -78.88306427001953,
          5.529528617858887,
          8.612034797668457,
          14.427577018737793,
          8.52342414855957,
          9.22774600982666,
          9.360555648803711,
          12.890089988708496,
          10.139127731323242,
          -6.668420314788818,
          3.1785666942596436,
          -6.940609931945801,
          2.167938709259033,
          -5.020781993865967,
          -11.989901542663574,
          -9.028367042541504,
          4.969753265380859,
          -0.5617701411247253,
          9.07393741607666,
          -8.347626686096191,
          2.4779205322265625,
          -5.4254655838012695,
          -0.3685187101364136,
          -1.512008786201477,
          -10.572601318359375,
          7.063409328460693,
          11.630135536193848,
          7.644443511962891,
          10.322341918945312,
          -2.3237509727478027,
          5.5148396492004395,
          10.46607780456543,
          -7.399155616760254,
          7.331542015075684,
          4.240396022796631,
          7.389786243438721,
          8.709144592285156,
          6.2634406089782715,
          3.91137957572937,
          12.062995910644531,
          2.9771065711975098,
          -4.404337406158447,
          4.391490459442139,
          -7.636730194091797,
          0.5679864883422852,
          5.8452277183532715
         ],
         "y": [
          16.597509384155273,
          38.8298454284668,
          35.662445068359375,
          25.59372901916504,
          30.360595703125,
          32.29173278808594,
          59.75038528442383,
          31.439054489135742,
          32.159027099609375,
          27.096084594726562,
          27.341739654541016,
          23.567323684692383,
          -38.8309211730957,
          -22.717079162597656,
          -41.327674865722656,
          -35.7883186340332,
          -27.92157554626465,
          -40.47600555419922,
          -35.46875,
          19.855892181396484,
          -34.81201934814453,
          -24.99074935913086,
          -37.43214416503906,
          -29.14955711364746,
          -39.841636657714844,
          -32.43231964111328,
          -36.96426010131836,
          -40.94893264770508,
          -32.7647590637207,
          -30.32036018371582,
          -30.326932907104492,
          -31.926437377929688,
          -23.79541015625,
          -35.245704650878906,
          -26.92793846130371,
          -36.67508316040039,
          -35.80337905883789,
          34.92172622680664,
          36.927059173583984,
          35.007896423339844,
          35.57892990112305,
          40.40031433105469,
          24.223388671875,
          -30.80486488342285,
          -35.02500534057617,
          -33.080814361572266,
          -32.8321647644043,
          3.7214879989624023,
          -27.901395797729492
         ],
         "z": [
          73.8567886352539,
          -9.526837348937988,
          -7.167135715484619,
          239.716796875,
          -14.253371238708496,
          -3.680274248123169,
          -16.906269073486328,
          -10.280692100524902,
          -15.312973022460938,
          -0.3802046477794647,
          -2.1022424697875977,
          -2.9411470890045166,
          -6.5864386558532715,
          -11.774182319641113,
          2.5580832958221436,
          -3.1622493267059326,
          -11.894947052001953,
          -0.763357937335968,
          -6.574005126953125,
          28.48706817626953,
          -9.569856643676758,
          -7.908479690551758,
          -2.4932162761688232,
          -13.76860237121582,
          -1.603881597518921,
          -12.251422882080078,
          -4.022248268127441,
          -4.116950511932373,
          -8.447087287902832,
          -5.893196105957031,
          -5.420224189758301,
          -2.3039586544036865,
          -12.343932151794434,
          -4.137907981872559,
          -10.274495124816895,
          -10.347251892089844,
          0.693530797958374,
          -12.17208194732666,
          -3.020695447921753,
          -12.330978393554688,
          -15.712998390197754,
          -5.590236186981201,
          0.575212836265564,
          -9.175715446472168,
          -6.804567813873291,
          -11.932153701782227,
          -9.701878547668457,
          -6.171171188354492,
          -11.992980003356934
         ]
        },
        {
         "hovertemplate": "color=y<br>x=%{x}<br>y=%{y}<br>z=%{z}<extra></extra>",
         "legendgroup": "y",
         "marker": {
          "color": "#FF6692",
          "symbol": "circle"
         },
         "mode": "markers",
         "name": "y",
         "scene": "scene",
         "showlegend": true,
         "type": "scatter3d",
         "x": [
          42.715972900390625,
          25.928308486938477,
          37.98743438720703,
          44.27800750732422,
          40.40578842163086,
          28.68001365661621,
          30.1612491607666,
          18.483291625976562,
          34.13698196411133,
          42.29051971435547,
          36.865142822265625,
          37.22797393798828,
          39.96656799316406,
          30.027252197265625,
          38.88172149658203,
          33.42483901977539,
          43.09455871582031,
          40.799686431884766,
          33.052799224853516,
          37.264034271240234,
          -34.1065559387207,
          33.74729919433594,
          36.472755432128906,
          32.0174446105957,
          44.705406188964844,
          27.09748649597168,
          25.400440216064453,
          25.914587020874023,
          25.26010513305664,
          45.45392608642578,
          22.284929275512695
         ],
         "y": [
          8.252523422241211,
          18.655899047851562,
          7.235989570617676,
          10.706573486328125,
          10.95085334777832,
          8.201926231384277,
          11.915243148803711,
          42.641414642333984,
          8.700462341308594,
          7.1556925773620605,
          10.78486442565918,
          14.91001033782959,
          9.748248100280762,
          10.594999313354492,
          7.296443939208984,
          13.833026885986328,
          11.936604499816895,
          10.214640617370605,
          9.217255592346191,
          9.137520790100098,
          -14.465846061706543,
          9.540753364562988,
          11.08519458770752,
          8.542003631591797,
          11.151013374328613,
          11.940046310424805,
          14.31509017944336,
          10.101239204406738,
          13.486228942871094,
          10.8375883102417,
          11.583477973937988
         ],
         "z": [
          19.625478744506836,
          17.125629425048828,
          27.322982788085938,
          16.687564849853516,
          24.091432571411133,
          19.75490379333496,
          14.358061790466309,
          -25.78754997253418,
          25.26527976989746,
          25.10773468017578,
          8.950390815734863,
          6.995655536651611,
          12.114498138427734,
          22.43658447265625,
          22.58118438720703,
          9.737666130065918,
          11.745050430297852,
          29.63280487060547,
          31.5484561920166,
          31.895126342773438,
          -19.41793441772461,
          13.108871459960938,
          27.871444702148438,
          16.657373428344727,
          26.320215225219727,
          18.87700843811035,
          21.598779678344727,
          22.874103546142578,
          26.468914031982422,
          22.31829071044922,
          25.558242797851562
         ]
        }
       ],
       "layout": {
        "legend": {
         "title": {
          "text": "color"
         },
         "tracegroupgap": 0
        },
        "margin": {
         "t": 60
        },
        "scene": {
         "domain": {
          "x": [
           0,
           1
          ],
          "y": [
           0,
           1
          ]
         },
         "xaxis": {
          "title": {
           "text": "x"
          }
         },
         "yaxis": {
          "title": {
           "text": "y"
          }
         },
         "zaxis": {
          "title": {
           "text": "z"
          }
         }
        },
        "template": {
         "data": {
          "bar": [
           {
            "error_x": {
             "color": "#2a3f5f"
            },
            "error_y": {
             "color": "#2a3f5f"
            },
            "marker": {
             "line": {
              "color": "#E5ECF6",
              "width": 0.5
             },
             "pattern": {
              "fillmode": "overlay",
              "size": 10,
              "solidity": 0.2
             }
            },
            "type": "bar"
           }
          ],
          "barpolar": [
           {
            "marker": {
             "line": {
              "color": "#E5ECF6",
              "width": 0.5
             },
             "pattern": {
              "fillmode": "overlay",
              "size": 10,
              "solidity": 0.2
             }
            },
            "type": "barpolar"
           }
          ],
          "carpet": [
           {
            "aaxis": {
             "endlinecolor": "#2a3f5f",
             "gridcolor": "white",
             "linecolor": "white",
             "minorgridcolor": "white",
             "startlinecolor": "#2a3f5f"
            },
            "baxis": {
             "endlinecolor": "#2a3f5f",
             "gridcolor": "white",
             "linecolor": "white",
             "minorgridcolor": "white",
             "startlinecolor": "#2a3f5f"
            },
            "type": "carpet"
           }
          ],
          "choropleth": [
           {
            "colorbar": {
             "outlinewidth": 0,
             "ticks": ""
            },
            "type": "choropleth"
           }
          ],
          "contour": [
           {
            "colorbar": {
             "outlinewidth": 0,
             "ticks": ""
            },
            "colorscale": [
             [
              0,
              "#0d0887"
             ],
             [
              0.1111111111111111,
              "#46039f"
             ],
             [
              0.2222222222222222,
              "#7201a8"
             ],
             [
              0.3333333333333333,
              "#9c179e"
             ],
             [
              0.4444444444444444,
              "#bd3786"
             ],
             [
              0.5555555555555556,
              "#d8576b"
             ],
             [
              0.6666666666666666,
              "#ed7953"
             ],
             [
              0.7777777777777778,
              "#fb9f3a"
             ],
             [
              0.8888888888888888,
              "#fdca26"
             ],
             [
              1,
              "#f0f921"
             ]
            ],
            "type": "contour"
           }
          ],
          "contourcarpet": [
           {
            "colorbar": {
             "outlinewidth": 0,
             "ticks": ""
            },
            "type": "contourcarpet"
           }
          ],
          "heatmap": [
           {
            "colorbar": {
             "outlinewidth": 0,
             "ticks": ""
            },
            "colorscale": [
             [
              0,
              "#0d0887"
             ],
             [
              0.1111111111111111,
              "#46039f"
             ],
             [
              0.2222222222222222,
              "#7201a8"
             ],
             [
              0.3333333333333333,
              "#9c179e"
             ],
             [
              0.4444444444444444,
              "#bd3786"
             ],
             [
              0.5555555555555556,
              "#d8576b"
             ],
             [
              0.6666666666666666,
              "#ed7953"
             ],
             [
              0.7777777777777778,
              "#fb9f3a"
             ],
             [
              0.8888888888888888,
              "#fdca26"
             ],
             [
              1,
              "#f0f921"
             ]
            ],
            "type": "heatmap"
           }
          ],
          "heatmapgl": [
           {
            "colorbar": {
             "outlinewidth": 0,
             "ticks": ""
            },
            "colorscale": [
             [
              0,
              "#0d0887"
             ],
             [
              0.1111111111111111,
              "#46039f"
             ],
             [
              0.2222222222222222,
              "#7201a8"
             ],
             [
              0.3333333333333333,
              "#9c179e"
             ],
             [
              0.4444444444444444,
              "#bd3786"
             ],
             [
              0.5555555555555556,
              "#d8576b"
             ],
             [
              0.6666666666666666,
              "#ed7953"
             ],
             [
              0.7777777777777778,
              "#fb9f3a"
             ],
             [
              0.8888888888888888,
              "#fdca26"
             ],
             [
              1,
              "#f0f921"
             ]
            ],
            "type": "heatmapgl"
           }
          ],
          "histogram": [
           {
            "marker": {
             "pattern": {
              "fillmode": "overlay",
              "size": 10,
              "solidity": 0.2
             }
            },
            "type": "histogram"
           }
          ],
          "histogram2d": [
           {
            "colorbar": {
             "outlinewidth": 0,
             "ticks": ""
            },
            "colorscale": [
             [
              0,
              "#0d0887"
             ],
             [
              0.1111111111111111,
              "#46039f"
             ],
             [
              0.2222222222222222,
              "#7201a8"
             ],
             [
              0.3333333333333333,
              "#9c179e"
             ],
             [
              0.4444444444444444,
              "#bd3786"
             ],
             [
              0.5555555555555556,
              "#d8576b"
             ],
             [
              0.6666666666666666,
              "#ed7953"
             ],
             [
              0.7777777777777778,
              "#fb9f3a"
             ],
             [
              0.8888888888888888,
              "#fdca26"
             ],
             [
              1,
              "#f0f921"
             ]
            ],
            "type": "histogram2d"
           }
          ],
          "histogram2dcontour": [
           {
            "colorbar": {
             "outlinewidth": 0,
             "ticks": ""
            },
            "colorscale": [
             [
              0,
              "#0d0887"
             ],
             [
              0.1111111111111111,
              "#46039f"
             ],
             [
              0.2222222222222222,
              "#7201a8"
             ],
             [
              0.3333333333333333,
              "#9c179e"
             ],
             [
              0.4444444444444444,
              "#bd3786"
             ],
             [
              0.5555555555555556,
              "#d8576b"
             ],
             [
              0.6666666666666666,
              "#ed7953"
             ],
             [
              0.7777777777777778,
              "#fb9f3a"
             ],
             [
              0.8888888888888888,
              "#fdca26"
             ],
             [
              1,
              "#f0f921"
             ]
            ],
            "type": "histogram2dcontour"
           }
          ],
          "mesh3d": [
           {
            "colorbar": {
             "outlinewidth": 0,
             "ticks": ""
            },
            "type": "mesh3d"
           }
          ],
          "parcoords": [
           {
            "line": {
             "colorbar": {
              "outlinewidth": 0,
              "ticks": ""
             }
            },
            "type": "parcoords"
           }
          ],
          "pie": [
           {
            "automargin": true,
            "type": "pie"
           }
          ],
          "scatter": [
           {
            "fillpattern": {
             "fillmode": "overlay",
             "size": 10,
             "solidity": 0.2
            },
            "type": "scatter"
           }
          ],
          "scatter3d": [
           {
            "line": {
             "colorbar": {
              "outlinewidth": 0,
              "ticks": ""
             }
            },
            "marker": {
             "colorbar": {
              "outlinewidth": 0,
              "ticks": ""
             }
            },
            "type": "scatter3d"
           }
          ],
          "scattercarpet": [
           {
            "marker": {
             "colorbar": {
              "outlinewidth": 0,
              "ticks": ""
             }
            },
            "type": "scattercarpet"
           }
          ],
          "scattergeo": [
           {
            "marker": {
             "colorbar": {
              "outlinewidth": 0,
              "ticks": ""
             }
            },
            "type": "scattergeo"
           }
          ],
          "scattergl": [
           {
            "marker": {
             "colorbar": {
              "outlinewidth": 0,
              "ticks": ""
             }
            },
            "type": "scattergl"
           }
          ],
          "scattermapbox": [
           {
            "marker": {
             "colorbar": {
              "outlinewidth": 0,
              "ticks": ""
             }
            },
            "type": "scattermapbox"
           }
          ],
          "scatterpolar": [
           {
            "marker": {
             "colorbar": {
              "outlinewidth": 0,
              "ticks": ""
             }
            },
            "type": "scatterpolar"
           }
          ],
          "scatterpolargl": [
           {
            "marker": {
             "colorbar": {
              "outlinewidth": 0,
              "ticks": ""
             }
            },
            "type": "scatterpolargl"
           }
          ],
          "scatterternary": [
           {
            "marker": {
             "colorbar": {
              "outlinewidth": 0,
              "ticks": ""
             }
            },
            "type": "scatterternary"
           }
          ],
          "surface": [
           {
            "colorbar": {
             "outlinewidth": 0,
             "ticks": ""
            },
            "colorscale": [
             [
              0,
              "#0d0887"
             ],
             [
              0.1111111111111111,
              "#46039f"
             ],
             [
              0.2222222222222222,
              "#7201a8"
             ],
             [
              0.3333333333333333,
              "#9c179e"
             ],
             [
              0.4444444444444444,
              "#bd3786"
             ],
             [
              0.5555555555555556,
              "#d8576b"
             ],
             [
              0.6666666666666666,
              "#ed7953"
             ],
             [
              0.7777777777777778,
              "#fb9f3a"
             ],
             [
              0.8888888888888888,
              "#fdca26"
             ],
             [
              1,
              "#f0f921"
             ]
            ],
            "type": "surface"
           }
          ],
          "table": [
           {
            "cells": {
             "fill": {
              "color": "#EBF0F8"
             },
             "line": {
              "color": "white"
             }
            },
            "header": {
             "fill": {
              "color": "#C8D4E3"
             },
             "line": {
              "color": "white"
             }
            },
            "type": "table"
           }
          ]
         },
         "layout": {
          "annotationdefaults": {
           "arrowcolor": "#2a3f5f",
           "arrowhead": 0,
           "arrowwidth": 1
          },
          "autotypenumbers": "strict",
          "coloraxis": {
           "colorbar": {
            "outlinewidth": 0,
            "ticks": ""
           }
          },
          "colorscale": {
           "diverging": [
            [
             0,
             "#8e0152"
            ],
            [
             0.1,
             "#c51b7d"
            ],
            [
             0.2,
             "#de77ae"
            ],
            [
             0.3,
             "#f1b6da"
            ],
            [
             0.4,
             "#fde0ef"
            ],
            [
             0.5,
             "#f7f7f7"
            ],
            [
             0.6,
             "#e6f5d0"
            ],
            [
             0.7,
             "#b8e186"
            ],
            [
             0.8,
             "#7fbc41"
            ],
            [
             0.9,
             "#4d9221"
            ],
            [
             1,
             "#276419"
            ]
           ],
           "sequential": [
            [
             0,
             "#0d0887"
            ],
            [
             0.1111111111111111,
             "#46039f"
            ],
            [
             0.2222222222222222,
             "#7201a8"
            ],
            [
             0.3333333333333333,
             "#9c179e"
            ],
            [
             0.4444444444444444,
             "#bd3786"
            ],
            [
             0.5555555555555556,
             "#d8576b"
            ],
            [
             0.6666666666666666,
             "#ed7953"
            ],
            [
             0.7777777777777778,
             "#fb9f3a"
            ],
            [
             0.8888888888888888,
             "#fdca26"
            ],
            [
             1,
             "#f0f921"
            ]
           ],
           "sequentialminus": [
            [
             0,
             "#0d0887"
            ],
            [
             0.1111111111111111,
             "#46039f"
            ],
            [
             0.2222222222222222,
             "#7201a8"
            ],
            [
             0.3333333333333333,
             "#9c179e"
            ],
            [
             0.4444444444444444,
             "#bd3786"
            ],
            [
             0.5555555555555556,
             "#d8576b"
            ],
            [
             0.6666666666666666,
             "#ed7953"
            ],
            [
             0.7777777777777778,
             "#fb9f3a"
            ],
            [
             0.8888888888888888,
             "#fdca26"
            ],
            [
             1,
             "#f0f921"
            ]
           ]
          },
          "colorway": [
           "#636efa",
           "#EF553B",
           "#00cc96",
           "#ab63fa",
           "#FFA15A",
           "#19d3f3",
           "#FF6692",
           "#B6E880",
           "#FF97FF",
           "#FECB52"
          ],
          "font": {
           "color": "#2a3f5f"
          },
          "geo": {
           "bgcolor": "white",
           "lakecolor": "white",
           "landcolor": "#E5ECF6",
           "showlakes": true,
           "showland": true,
           "subunitcolor": "white"
          },
          "hoverlabel": {
           "align": "left"
          },
          "hovermode": "closest",
          "mapbox": {
           "style": "light"
          },
          "paper_bgcolor": "white",
          "plot_bgcolor": "#E5ECF6",
          "polar": {
           "angularaxis": {
            "gridcolor": "white",
            "linecolor": "white",
            "ticks": ""
           },
           "bgcolor": "#E5ECF6",
           "radialaxis": {
            "gridcolor": "white",
            "linecolor": "white",
            "ticks": ""
           }
          },
          "scene": {
           "xaxis": {
            "backgroundcolor": "#E5ECF6",
            "gridcolor": "white",
            "gridwidth": 2,
            "linecolor": "white",
            "showbackground": true,
            "ticks": "",
            "zerolinecolor": "white"
           },
           "yaxis": {
            "backgroundcolor": "#E5ECF6",
            "gridcolor": "white",
            "gridwidth": 2,
            "linecolor": "white",
            "showbackground": true,
            "ticks": "",
            "zerolinecolor": "white"
           },
           "zaxis": {
            "backgroundcolor": "#E5ECF6",
            "gridcolor": "white",
            "gridwidth": 2,
            "linecolor": "white",
            "showbackground": true,
            "ticks": "",
            "zerolinecolor": "white"
           }
          },
          "shapedefaults": {
           "line": {
            "color": "#2a3f5f"
           }
          },
          "ternary": {
           "aaxis": {
            "gridcolor": "white",
            "linecolor": "white",
            "ticks": ""
           },
           "baxis": {
            "gridcolor": "white",
            "linecolor": "white",
            "ticks": ""
           },
           "bgcolor": "#E5ECF6",
           "caxis": {
            "gridcolor": "white",
            "linecolor": "white",
            "ticks": ""
           }
          },
          "title": {
           "x": 0.05
          },
          "xaxis": {
           "automargin": true,
           "gridcolor": "white",
           "linecolor": "white",
           "ticks": "",
           "title": {
            "standoff": 15
           },
           "zerolinecolor": "white",
           "zerolinewidth": 2
          },
          "yaxis": {
           "automargin": true,
           "gridcolor": "white",
           "linecolor": "white",
           "ticks": "",
           "title": {
            "standoff": 15
           },
           "zerolinecolor": "white",
           "zerolinewidth": 2
          }
         }
        }
       }
      },
      "text/html": [
       "<div>                            <div id=\"93267fd1-bda3-4841-936c-0ec8ded19120\" class=\"plotly-graph-div\" style=\"height:525px; width:100%;\"></div>            <script type=\"text/javascript\">                require([\"plotly\"], function(Plotly) {                    window.PLOTLYENV=window.PLOTLYENV || {};                                    if (document.getElementById(\"93267fd1-bda3-4841-936c-0ec8ded19120\")) {                    Plotly.newPlot(                        \"93267fd1-bda3-4841-936c-0ec8ded19120\",                        [{\"hovertemplate\":\"color=k<br>x=%{x}<br>y=%{y}<br>z=%{z}<extra></extra>\",\"legendgroup\":\"k\",\"marker\":{\"color\":\"#636efa\",\"symbol\":\"circle\"},\"mode\":\"markers\",\"name\":\"k\",\"scene\":\"scene\",\"showlegend\":true,\"x\":[-21.267044067382812,-16.822650909423828,-36.06597137451172,-26.903005599975586,-10.522098541259766,-11.172066688537598,-21.344249725341797,-35.50358200073242,-17.483646392822266,-32.733314514160156,-31.977890014648438,-20.048160552978516,-36.49922561645508,-31.024127960205078,-19.285551071166992,-26.53757095336914,-16.589069366455078,-20.381595611572266,-34.185394287109375,-13.879016876220703,-29.271230697631836,-14.153593063354492,-13.993045806884766,-30.4713077545166,-25.72091293334961,-16.764545440673828,-10.712099075317383,-17.79693603515625,-12.57739543914795,-0.7267776727676392,5.935863018035889,16.332124710083008,-17.974720001220703,10.653630256652832,-18.646787643432617,-21.651941299438477,-13.981273651123047,8.852254867553711,5.489107608795166,13.520792007446289,84.0427474975586,-18.89834213256836,-16.19564437866211,1.5232117176055908,-1.1105945110321045,9.992449760437012,-22.55308723449707,-22.65562629699707,18.044836044311523,11.674993515014648,-17.555368423461914,0.2912577986717224,-16.148483276367188,0.6788923144340515,-22.341880798339844,-22.72369956970215,-13.028511047363281,18.44590950012207,8.328204154968262,4.20270299911499,-13.910672187805176,-14.52842903137207,-21.77710723876953,-18.264860153198242,-22.563655853271484,15.868163108825684,-16.81120491027832,-18.903366088867188,14.33255386352539,24.573030471801758,23.564762115478516,15.339200019836426,23.716899871826172,2.241644859313965,17.254390716552734,9.47315788269043,32.198673248291016,2.696962833404541,15.595996856689453,13.936925888061523,11.48470687866211,11.878907203674316,21.662534713745117,14.997796058654785,19.37211799621582,20.043367385864258,10.031150817871094,16.300519943237305,5.852301120758057,8.84896469116211,4.991186618804932,-12.906111717224121,13.97585391998291,6.433780193328857,1.4961940050125122,8.879339218139648,22.074153900146484,16.403331756591797,21.30132293701172,12.368870735168457,7.219574451446533,17.395112991333008,8.58479118347168,20.618406295776367,40.476531982421875,12.237604141235352,4.1392502784729,18.185205459594727,7.0952863693237305,-1.2226147651672363,23.871938705444336,12.335711479187012,24.45811653137207,23.544315338134766,28.866249084472656,27.462055206298828,24.23588752746582,36.8121337890625,27.226430892944336,-13.640060424804688,25.876117706298828,11.781044006347656,24.084733963012695,-13.536191940307617,-14.889735221862793,39.1591682434082,8.019389152526855,7.181481838226318,46.00409698486328,-16.012794494628906,-12.858540534973145,5.692639350891113,12.236316680908203,-22.969045639038086,-21.064739227294922,-17.431264877319336,-10.650376319885254,-8.499683380126953,-17.90882110595703,-38.12913131713867,2.7441911697387695,-5.673862934112549,-29.06601333618164,-30.721755981445312,-23.773422241210938,-9.347555160522461,-12.104231834411621,-15.310219764709473,-16.34224510192871,-32.941097259521484,-18.877254486083984,19.652210235595703,-19.89840316772461,4.860600471496582,-18.467571258544922,4.800532817840576,2.619084358215332,-15.076781272888184,10.786006927490234,0.08586261421442032,2.394094228744507,-17.82406997680664,6.604032039642334,-20.834470748901367,9.799295425415039,-0.9430211186408997,1.898878812789917,13.471965789794922,-17.268545150756836,3.4498560428619385,9.896615028381348,6.338685512542725,21.73213768005371,20.71617889404297,32.223934173583984,25.03771209716797,17.18193244934082,-13.054549217224121,-11.873586654663086,23.816953659057617,24.764509201049805,-16.661724090576172,-9.645992279052734,27.049915313720703,-93.683837890625,-14.055168151855469,-10.169634819030762],\"y\":[35.922725677490234,-28.599925994873047,14.13102912902832,25.9504451751709,43.85566711425781,11.42887020111084,-30.018110275268555,18.056838989257812,-27.7197265625,-4.371962547302246,-0.6587179899215698,27.100460052490234,-10.558356285095215,24.486465454101562,-25.21457862854004,22.035154342651367,15.552287101745605,28.93560028076172,19.651897430419922,42.3321533203125,3.193222999572754,12.817761421203613,40.591495513916016,24.410675048828125,3.878140449523926,38.24163818359375,10.919054985046387,42.6595573425293,7.073983669281006,6.204806804656982,31.711185455322266,13.306443214416504,2.2028632164001465,-4.577503204345703,-15.422771453857422,0.4951074421405792,3.1074705123901367,1.3824677467346191,23.091190338134766,4.3916754722595215,66.60557556152344,-17.389612197875977,-8.611226081848145,9.737428665161133,42.7652702331543,24.586780548095703,-15.357054710388184,1.8845208883285522,-7.534989356994629,21.911224365234375,-0.8942708373069763,4.110654830932617,1.5898655652999878,9.819938659667969,-17.511959075927734,-2.7408711910247803,4.913856506347656,-0.3799690008163452,-7.851871967315674,1.9403424263000488,-3.8257787227630615,2.587691068649292,4.729564189910889,-19.9576358795166,-13.174420356750488,-6.681667327880859,6.130126476287842,-13.157781600952148,6.796523094177246,-13.22385311126709,22.654258728027344,-14.928306579589844,-14.00196361541748,-4.707040309906006,23.846031188964844,-5.553106784820557,-11.50830364227295,-6.083141326904297,-12.852591514587402,22.654117584228516,-14.624302864074707,-16.989368438720703,-1.8572121858596802,19.930757522583008,17.647409439086914,-16.535179138183594,-17.343385696411133,16.641969680786133,-16.828969955444336,-16.676023483276367,-16.708698272705078,-7.712678909301758,17.278886795043945,-20.16769027709961,-8.69201946258545,-13.669449806213379,16.522836685180664,-16.477487564086914,12.344599723815918,-16.12377166748047,-13.929681777954102,14.271845817565918,-19.734310150146484,13.294169425964355,12.779515266418457,-20.389284133911133,-12.588605880737305,-13.305061340332031,-9.958097457885742,-3.641934394836426,-16.979398727416992,-34.130340576171875,22.371288299560547,10.071693420410156,25.149538040161133,23.606521606445312,21.57587242126465,-17.417682647705078,21.42276954650879,-45.999088287353516,9.282002449035645,-15.741121292114258,12.40717887878418,-42.054561614990234,-44.781185150146484,13.746968269348145,-36.53717803955078,-15.248553276062012,-33.2227783203125,-45.257266998291016,-45.8526725769043,-18.015134811401367,-18.587879180908203,32.13788604736328,-26.404216766357422,30.62104606628418,39.981258392333984,43.24763107299805,40.68608093261719,17.157428741455078,27.957015991210938,42.44248962402344,3.7551586627960205,4.845126628875732,26.4428653717041,36.71547317504883,37.264373779296875,44.56779861450195,-24.83991813659668,-9.220967292785645,5.030978679656982,-3.184669017791748,-4.207118988037109,-3.8456530570983887,3.0606532096862793,5.297758102416992,-21.629451751708984,7.338028907775879,-5.297547817230225,-21.39366912841797,-24.639142990112305,-0.4972001910209656,-3.9760918617248535,-7.7200164794921875,-1.3451337814331055,-24.354713439941406,-1.2618411779403687,-1.767958641052246,5.381312370300293,-39.685157775878906,18.514169692993164,-3.161134958267212,20.76923179626465,-14.517918586730957,-11.760886192321777,12.259390830993652,19.423126220703125,-50.34455490112305,-42.593475341796875,22.30584716796875,25.335994720458984,-48.06392288208008,-43.8515739440918,24.448200225830078,-63.7742805480957,-48.9123420715332,-46.39421844482422],\"z\":[5.8168253898620605,33.52610397338867,-21.3820858001709,-21.729238510131836,-3.7784321308135986,-30.573514938354492,31.861804962158203,-23.78899383544922,37.189815521240234,3.851856231689453,1.6737146377563477,-17.21922492980957,5.405576229095459,-22.764877319335938,31.78816795349121,-20.095991134643555,-26.840534210205078,-12.876431465148926,-20.992544174194336,1.3392982482910156,-9.661981582641602,-28.130165100097656,-3.5932059288024902,-19.014638900756836,-9.01623821258545,-1.315071940422058,-27.052629470825195,0.6900990009307861,-29.092561721801758,-31.185924530029297,-17.988819122314453,-21.65678596496582,-4.545928478240967,-33.67805862426758,10.74067497253418,10.418437004089355,-2.426177740097046,-34.627174377441406,-20.917863845825195,-29.894676208496094,-2.0550172328948975,6.714169025421143,9.173133850097656,-26.99646759033203,-5.417999267578125,-17.037246704101562,6.034440517425537,6.306940078735352,-31.62060546875,-17.414480209350586,6.155144214630127,-34.23719787597656,0.8089843392372131,-30.948036193847656,9.657200813293457,8.167305946350098,1.280754566192627,-30.74943733215332,-35.562347412109375,-36.585018157958984,6.946134090423584,4.64308500289917,-7.637720108032227,10.417008399963379,9.823871612548828,-34.36848831176758,-6.230306625366211,7.1384382247924805,-32.0279541015625,11.82937240600586,3.239884376525879,15.885846138000488,7.990316390991211,-6.217715263366699,-0.350166916847229,4.314609050750732,-16.73946189880371,-9.98575496673584,9.797197341918945,-4.4007110595703125,19.636438369750977,27.046123504638672,-29.55804443359375,-1.6893768310546875,-1.510080337524414,7.298007965087891,23.556074142456055,-9.639875411987305,28.855613708496094,31.980281829833984,33.5184326171875,8.310609817504883,-6.211831569671631,33.03346633911133,-7.272939682006836,28.54404640197754,-4.252840042114258,10.189713478088379,-6.047015190124512,14.70949935913086,25.040786743164062,-6.7096734046936035,28.498260498046875,-9.668194770812988,6.791210651397705,30.87400245666504,-9.934831619262695,6.954226016998291,25.21449089050293,-7.881289005279541,10.863962173461914,-4.7493462562561035,19.32184600830078,29.95144271850586,11.213606834411621,15.163322448730469,14.672515869140625,20.951534271240234,10.860676765441895,6.0969953536987305,34.30753707885742,8.332138061523438,33.023277282714844,5.507862567901611,1.2219104766845703,10.936766624450684,4.959840774536133,-8.043238639831543,20.290987014770508,10.746309280395508,13.510771751403809,-9.895276069641113,19.297513961791992,5.454796314239502,34.73118209838867,-13.654102325439453,-8.963502883911133,-7.693188190460205,-4.013869762420654,-20.86273193359375,-19.872522354125977,-5.673404693603516,-13.735467910766602,-17.739055633544922,-18.22887420654297,-10.5384521484375,-12.276164054870605,-1.821712613105774,35.10211181640625,7.021518230438232,-1.6818139553070068,-32.723201751708984,11.153938293457031,-38.18871307373047,7.111074447631836,-34.71680450439453,39.19319534301758,-2.389935255050659,-37.81449890136719,42.48314666748047,41.99031066894531,10.200085639953613,-34.49563217163086,9.874095916748047,-37.235286712646484,39.60695266723633,-36.0584831237793,-35.61910629272461,2.5961873531341553,28.51122283935547,-20.79570770263672,4.971691131591797,-0.7846923470497131,12.18494701385498,-20.091135025024414,-7.930481433868408,-5.5041680335998535,16.33561134338379,9.073599815368652,8.287672996520996,11.059225082397461,14.655389785766602,5.779026508331299,7.351991176605225,12.392186164855957,10.824557304382324,9.166852951049805],\"type\":\"scatter3d\"},{\"hovertemplate\":\"color=g<br>x=%{x}<br>y=%{y}<br>z=%{z}<extra></extra>\",\"legendgroup\":\"g\",\"marker\":{\"color\":\"#EF553B\",\"symbol\":\"circle\"},\"mode\":\"markers\",\"name\":\"g\",\"scene\":\"scene\",\"showlegend\":true,\"x\":[-30.4609375,-33.579097747802734,-34.801292419433594,-21.532691955566406,-16.078256607055664,-24.680877685546875,-19.039701461791992,-27.04876136779785,9.107170104980469,4.6845927238464355,6.0786261558532715,12.687679290771484,7.3835129737854,13.81178092956543,9.502975463867188,8.833601951599121,-24.733917236328125,-28.772064208984375,-24.07947540283203,-32.08818054199219,-21.81537628173828,-30.40770149230957,-23.45379638671875,-17.01804542541504,-31.2700138092041,-25.28873062133789,-29.65091896057129,-18.277950286865234,-27.129587173461914,5.577123165130615,6.600318431854248,13.824715614318848],\"y\":[13.935522079467773,7.506102561950684,9.252019882202148,7.943752765655518,8.681744575500488,18.97339630126953,2.160881519317627,21.37002944946289,-6.172765731811523,-8.096137046813965,-8.648439407348633,-12.295158386230469,-12.351204872131348,-10.344816207885742,-9.094193458557129,-9.549301147460938,6.2822065353393555,3.967867612838745,19.151569366455078,6.475119590759277,2.4901180267333984,9.720891952514648,22.970993041992188,4.806143760681152,10.687250137329102,4.327755928039551,5.603481769561768,0.16408143937587738,8.019692420959473,-6.502359390258789,-6.617073059082031,-14.149086952209473],\"z\":[-26.02112579345703,-21.12174415588379,-24.413700103759766,-29.579225540161133,-29.19700050354004,-22.112937927246094,-24.928831100463867,-24.522563934326172,-0.7241188883781433,-4.063405513763428,-7.591188907623291,0.7650196552276611,-4.324703216552734,3.8012237548828125,-3.1974411010742188,1.238881230354309,-30.735986709594727,-28.425596237182617,-26.11638641357422,-27.472850799560547,-28.270822525024414,-23.982465744018555,-23.01707649230957,-28.57994270324707,-28.10502052307129,-26.07408332824707,-24.316556930541992,-27.81255340576172,-27.72223663330078,2.7791099548339844,6.987124919891357,4.265190124511719],\"type\":\"scatter3d\"},{\"hovertemplate\":\"color=b<br>x=%{x}<br>y=%{y}<br>z=%{z}<extra></extra>\",\"legendgroup\":\"b\",\"marker\":{\"color\":\"#00cc96\",\"symbol\":\"circle\"},\"mode\":\"markers\",\"name\":\"b\",\"scene\":\"scene\",\"showlegend\":true,\"x\":[-49.39965057373047,-42.795692443847656,-20.139205932617188,-45.48850631713867,-23.23345184326172,-46.284759521484375,-20.900346755981445,-23.27183723449707,-40.64645767211914,-38.054603576660156,-47.17422866821289,-47.790645599365234,-33.91830062866211,-46.7971305847168,-21.01463508605957,-46.36410140991211,-35.17536544799805,-22.53413963317871,-32.07025146484375,-46.00606155395508,-20.731657028198242,-42.43263626098633,-36.13899612426758,-40.333988189697266,-456.2898864746094,7.38869047164917,-18.506410598754883,-38.623165130615234,-41.04960250854492,-24.413591384887695,-17.080352783203125,-19.528425216674805],\"y\":[-10.496481895446777,-0.7150207757949829,36.57126235961914,-9.403033256530762,32.311370849609375,1.4767169952392578,53.378841400146484,29.411508560180664,-2.9173927307128906,-9.13534164428711,-5.571140766143799,-8.554363250732422,-0.16450761258602142,-2.169846296310425,33.46477508544922,2.629030466079712,2.8495986461639404,28.855127334594727,1.553058385848999,-12.32067584991455,31.368810653686523,3.2678065299987793,-4.6959357261657715,-5.3941521644592285,-302.0281982421875,-60.05851364135742,31.3853702545166,0.5542541742324829,-10.682809829711914,33.03150939941406,33.856571197509766,35.442752838134766],\"z\":[2.444183588027954,-4.472977161407471,0.4842860996723175,1.7811448574066162,-3.4071192741394043,-5.672760963439941,125.64574432373047,-0.8353308439254761,1.9910587072372437,8.647953987121582,0.6054890751838684,5.616896629333496,-1.1675693988800049,-2.5310606956481934,-7.873538494110107,-1.7316131591796875,-5.049018859863281,-6.674811840057373,-5.778939247131348,4.63361120223999,2.271423578262329,-4.306389808654785,4.633265018463135,4.993454456329346,-1184.2711181640625,122.69407653808594,-4.994287014007568,-1.7963697910308838,6.116008758544922,1.8572583198547363,-7.605228424072266,-4.760988235473633],\"type\":\"scatter3d\"},{\"hovertemplate\":\"color=c<br>x=%{x}<br>y=%{y}<br>z=%{z}<extra></extra>\",\"legendgroup\":\"c\",\"marker\":{\"color\":\"#ab63fa\",\"symbol\":\"circle\"},\"mode\":\"markers\",\"name\":\"c\",\"scene\":\"scene\",\"showlegend\":true,\"x\":[-25.461931228637695,-24.241518020629883,-23.104211807250977,-23.937450408935547,-31.07014274597168,-31.920787811279297,-27.272750854492188,-13.470775604248047,-14.55036735534668,-21.803001403808594,31.768972396850586,26.291427612304688,27.136953353881836,27.159940719604492,32.37428665161133,30.79879379272461,27.999364852905273,27.603469848632812,25.706993103027344,23.39597511291504,-18.615015029907227,-9.400259971618652,-27.591981887817383,-26.467159271240234,-11.377697944641113,-28.746112823486328,-12.118288040161133,-24.882373809814453,-29.823400497436523,-18.51105308532715,-20.316526412963867,-13.736462593078613,-11.020339965820312,-7.910359859466553,-16.397624969482422,3.749504804611206,29.08721351623535,29.612564086914062,29.7270450592041,32.26485824584961,32.368988037109375,25.369630813598633,31.42034339904785],\"y\":[-14.783294677734375,-22.510534286499023,-18.64919662475586,-16.058134078979492,-8.236431121826172,-11.5612154006958,-20.627683639526367,-20.01321029663086,-9.778741836547852,-14.032255172729492,-5.971858501434326,7.5764241218566895,2.9488532543182373,2.331176996231079,-7.422783851623535,1.8261659145355225,6.935790538787842,-1.164661169052124,-0.6366279721260071,9.386844635009766,-13.605611801147461,-15.183632850646973,-12.173080444335938,-8.881789207458496,-11.7959566116333,-7.807506084442139,-16.515052795410156,-8.47089958190918,-11.922337532043457,-15.538965225219727,-11.413725852966309,-14.24774169921875,-18.71875762939453,-20.037574768066406,-12.353191375732422,-8.85015869140625,-4.048883438110352,0.7570634484291077,-0.45229485630989075,-2.3073678016662598,-2.266845226287842,9.192879676818848,2.7518935203552246],\"z\":[32.748905181884766,31.61870002746582,31.9556884765625,36.20995330810547,32.89856719970703,35.27460479736328,30.741924285888672,42.24124526977539,43.90907669067383,33.8502197265625,-18.60561180114746,-16.355648040771484,-21.037330627441406,-16.75409507751465,-22.44613265991211,-19.199848175048828,-11.248101234436035,-19.198013305664062,-22.951927185058594,-16.8520450592041,42.36494445800781,44.201019287109375,36.05021667480469,33.655784606933594,42.43116760253906,37.17819595336914,41.04791259765625,37.542198181152344,31.67388916015625,39.08221435546875,39.4496955871582,44.6135368347168,45.73445510864258,43.604400634765625,39.048946380615234,-36.56403732299805,-22.87643051147461,-23.704357147216797,-12.970426559448242,-21.034500122070312,-15.569310188293457,-12.392892837524414,-12.530016899108887],\"type\":\"scatter3d\"},{\"hovertemplate\":\"color=r<br>x=%{x}<br>y=%{y}<br>z=%{z}<extra></extra>\",\"legendgroup\":\"r\",\"marker\":{\"color\":\"#FFA15A\",\"symbol\":\"circle\"},\"mode\":\"markers\",\"name\":\"r\",\"scene\":\"scene\",\"showlegend\":true,\"x\":[0.4075632095336914,0.3447377681732178,6.861714839935303,3.140899419784546,8.21495246887207,10.190162658691406,-0.060101576149463654,-0.7936458587646484,7.53861141204834,-10.721659660339355,-8.545669555664062,0.5921189188957214,0.20385026931762695,2.0907599925994873,-4.701167583465576,1.6178152561187744,5.799005508422852,5.038982391357422,-6.485118389129639,-2.8718912601470947,-4.004284381866455,6.2144598960876465,-1.284684419631958,3.1057519912719727,2.0858445167541504,4.337176322937012,-6.645021438598633,10.572393417358398,7.155150413513184],\"y\":[1.8972957134246826,6.443424224853516,12.725150108337402,0.44145891070365906,7.599973201751709,14.551630020141602,-1.3469034433364868,8.65053653717041,11.905198097229004,4.376777648925781,4.290068626403809,-2.369314432144165,2.9193058013916016,12.256580352783203,5.921625137329102,-1.6807132959365845,5.807104110717773,-6.246535301208496,5.7682414054870605,3.2834300994873047,1.1891841888427734,17.427650451660156,1.470876693725586,1.4655126333236694,13.918794631958008,16.162832260131836,1.4166902303695679,8.251192092895508,9.0260009765625],\"z\":[20.7386474609375,23.54466438293457,-23.70884132385254,28.313512802124023,-32.647544860839844,-21.366243362426758,30.684783935546875,21.458824157714844,-27.826797485351562,36.29490280151367,32.32023239135742,26.626850128173828,31.12822914123535,-23.622650146484375,32.096405029296875,22.033491134643555,-30.726350784301758,25.667417526245117,36.01001739501953,35.0716552734375,31.048648834228516,-20.61493492126465,27.38381576538086,24.043920516967773,-27.192346572875977,-24.00265884399414,34.848243713378906,-28.864561080932617,-25.533395767211914],\"type\":\"scatter3d\"},{\"hovertemplate\":\"color=m<br>x=%{x}<br>y=%{y}<br>z=%{z}<extra></extra>\",\"legendgroup\":\"m\",\"marker\":{\"color\":\"#19d3f3\",\"symbol\":\"circle\"},\"mode\":\"markers\",\"name\":\"m\",\"scene\":\"scene\",\"showlegend\":true,\"x\":[-33.51859664916992,5.823702335357666,5.161942005157471,-78.88306427001953,5.529528617858887,8.612034797668457,14.427577018737793,8.52342414855957,9.22774600982666,9.360555648803711,12.890089988708496,10.139127731323242,-6.668420314788818,3.1785666942596436,-6.940609931945801,2.167938709259033,-5.020781993865967,-11.989901542663574,-9.028367042541504,4.969753265380859,-0.5617701411247253,9.07393741607666,-8.347626686096191,2.4779205322265625,-5.4254655838012695,-0.3685187101364136,-1.512008786201477,-10.572601318359375,7.063409328460693,11.630135536193848,7.644443511962891,10.322341918945312,-2.3237509727478027,5.5148396492004395,10.46607780456543,-7.399155616760254,7.331542015075684,4.240396022796631,7.389786243438721,8.709144592285156,6.2634406089782715,3.91137957572937,12.062995910644531,2.9771065711975098,-4.404337406158447,4.391490459442139,-7.636730194091797,0.5679864883422852,5.8452277183532715],\"y\":[16.597509384155273,38.8298454284668,35.662445068359375,25.59372901916504,30.360595703125,32.29173278808594,59.75038528442383,31.439054489135742,32.159027099609375,27.096084594726562,27.341739654541016,23.567323684692383,-38.8309211730957,-22.717079162597656,-41.327674865722656,-35.7883186340332,-27.92157554626465,-40.47600555419922,-35.46875,19.855892181396484,-34.81201934814453,-24.99074935913086,-37.43214416503906,-29.14955711364746,-39.841636657714844,-32.43231964111328,-36.96426010131836,-40.94893264770508,-32.7647590637207,-30.32036018371582,-30.326932907104492,-31.926437377929688,-23.79541015625,-35.245704650878906,-26.92793846130371,-36.67508316040039,-35.80337905883789,34.92172622680664,36.927059173583984,35.007896423339844,35.57892990112305,40.40031433105469,24.223388671875,-30.80486488342285,-35.02500534057617,-33.080814361572266,-32.8321647644043,3.7214879989624023,-27.901395797729492],\"z\":[73.8567886352539,-9.526837348937988,-7.167135715484619,239.716796875,-14.253371238708496,-3.680274248123169,-16.906269073486328,-10.280692100524902,-15.312973022460938,-0.3802046477794647,-2.1022424697875977,-2.9411470890045166,-6.5864386558532715,-11.774182319641113,2.5580832958221436,-3.1622493267059326,-11.894947052001953,-0.763357937335968,-6.574005126953125,28.48706817626953,-9.569856643676758,-7.908479690551758,-2.4932162761688232,-13.76860237121582,-1.603881597518921,-12.251422882080078,-4.022248268127441,-4.116950511932373,-8.447087287902832,-5.893196105957031,-5.420224189758301,-2.3039586544036865,-12.343932151794434,-4.137907981872559,-10.274495124816895,-10.347251892089844,0.693530797958374,-12.17208194732666,-3.020695447921753,-12.330978393554688,-15.712998390197754,-5.590236186981201,0.575212836265564,-9.175715446472168,-6.804567813873291,-11.932153701782227,-9.701878547668457,-6.171171188354492,-11.992980003356934],\"type\":\"scatter3d\"},{\"hovertemplate\":\"color=y<br>x=%{x}<br>y=%{y}<br>z=%{z}<extra></extra>\",\"legendgroup\":\"y\",\"marker\":{\"color\":\"#FF6692\",\"symbol\":\"circle\"},\"mode\":\"markers\",\"name\":\"y\",\"scene\":\"scene\",\"showlegend\":true,\"x\":[42.715972900390625,25.928308486938477,37.98743438720703,44.27800750732422,40.40578842163086,28.68001365661621,30.1612491607666,18.483291625976562,34.13698196411133,42.29051971435547,36.865142822265625,37.22797393798828,39.96656799316406,30.027252197265625,38.88172149658203,33.42483901977539,43.09455871582031,40.799686431884766,33.052799224853516,37.264034271240234,-34.1065559387207,33.74729919433594,36.472755432128906,32.0174446105957,44.705406188964844,27.09748649597168,25.400440216064453,25.914587020874023,25.26010513305664,45.45392608642578,22.284929275512695],\"y\":[8.252523422241211,18.655899047851562,7.235989570617676,10.706573486328125,10.95085334777832,8.201926231384277,11.915243148803711,42.641414642333984,8.700462341308594,7.1556925773620605,10.78486442565918,14.91001033782959,9.748248100280762,10.594999313354492,7.296443939208984,13.833026885986328,11.936604499816895,10.214640617370605,9.217255592346191,9.137520790100098,-14.465846061706543,9.540753364562988,11.08519458770752,8.542003631591797,11.151013374328613,11.940046310424805,14.31509017944336,10.101239204406738,13.486228942871094,10.8375883102417,11.583477973937988],\"z\":[19.625478744506836,17.125629425048828,27.322982788085938,16.687564849853516,24.091432571411133,19.75490379333496,14.358061790466309,-25.78754997253418,25.26527976989746,25.10773468017578,8.950390815734863,6.995655536651611,12.114498138427734,22.43658447265625,22.58118438720703,9.737666130065918,11.745050430297852,29.63280487060547,31.5484561920166,31.895126342773438,-19.41793441772461,13.108871459960938,27.871444702148438,16.657373428344727,26.320215225219727,18.87700843811035,21.598779678344727,22.874103546142578,26.468914031982422,22.31829071044922,25.558242797851562],\"type\":\"scatter3d\"}],                        {\"template\":{\"data\":{\"histogram2dcontour\":[{\"type\":\"histogram2dcontour\",\"colorbar\":{\"outlinewidth\":0,\"ticks\":\"\"},\"colorscale\":[[0.0,\"#0d0887\"],[0.1111111111111111,\"#46039f\"],[0.2222222222222222,\"#7201a8\"],[0.3333333333333333,\"#9c179e\"],[0.4444444444444444,\"#bd3786\"],[0.5555555555555556,\"#d8576b\"],[0.6666666666666666,\"#ed7953\"],[0.7777777777777778,\"#fb9f3a\"],[0.8888888888888888,\"#fdca26\"],[1.0,\"#f0f921\"]]}],\"choropleth\":[{\"type\":\"choropleth\",\"colorbar\":{\"outlinewidth\":0,\"ticks\":\"\"}}],\"histogram2d\":[{\"type\":\"histogram2d\",\"colorbar\":{\"outlinewidth\":0,\"ticks\":\"\"},\"colorscale\":[[0.0,\"#0d0887\"],[0.1111111111111111,\"#46039f\"],[0.2222222222222222,\"#7201a8\"],[0.3333333333333333,\"#9c179e\"],[0.4444444444444444,\"#bd3786\"],[0.5555555555555556,\"#d8576b\"],[0.6666666666666666,\"#ed7953\"],[0.7777777777777778,\"#fb9f3a\"],[0.8888888888888888,\"#fdca26\"],[1.0,\"#f0f921\"]]}],\"heatmap\":[{\"type\":\"heatmap\",\"colorbar\":{\"outlinewidth\":0,\"ticks\":\"\"},\"colorscale\":[[0.0,\"#0d0887\"],[0.1111111111111111,\"#46039f\"],[0.2222222222222222,\"#7201a8\"],[0.3333333333333333,\"#9c179e\"],[0.4444444444444444,\"#bd3786\"],[0.5555555555555556,\"#d8576b\"],[0.6666666666666666,\"#ed7953\"],[0.7777777777777778,\"#fb9f3a\"],[0.8888888888888888,\"#fdca26\"],[1.0,\"#f0f921\"]]}],\"heatmapgl\":[{\"type\":\"heatmapgl\",\"colorbar\":{\"outlinewidth\":0,\"ticks\":\"\"},\"colorscale\":[[0.0,\"#0d0887\"],[0.1111111111111111,\"#46039f\"],[0.2222222222222222,\"#7201a8\"],[0.3333333333333333,\"#9c179e\"],[0.4444444444444444,\"#bd3786\"],[0.5555555555555556,\"#d8576b\"],[0.6666666666666666,\"#ed7953\"],[0.7777777777777778,\"#fb9f3a\"],[0.8888888888888888,\"#fdca26\"],[1.0,\"#f0f921\"]]}],\"contourcarpet\":[{\"type\":\"contourcarpet\",\"colorbar\":{\"outlinewidth\":0,\"ticks\":\"\"}}],\"contour\":[{\"type\":\"contour\",\"colorbar\":{\"outlinewidth\":0,\"ticks\":\"\"},\"colorscale\":[[0.0,\"#0d0887\"],[0.1111111111111111,\"#46039f\"],[0.2222222222222222,\"#7201a8\"],[0.3333333333333333,\"#9c179e\"],[0.4444444444444444,\"#bd3786\"],[0.5555555555555556,\"#d8576b\"],[0.6666666666666666,\"#ed7953\"],[0.7777777777777778,\"#fb9f3a\"],[0.8888888888888888,\"#fdca26\"],[1.0,\"#f0f921\"]]}],\"surface\":[{\"type\":\"surface\",\"colorbar\":{\"outlinewidth\":0,\"ticks\":\"\"},\"colorscale\":[[0.0,\"#0d0887\"],[0.1111111111111111,\"#46039f\"],[0.2222222222222222,\"#7201a8\"],[0.3333333333333333,\"#9c179e\"],[0.4444444444444444,\"#bd3786\"],[0.5555555555555556,\"#d8576b\"],[0.6666666666666666,\"#ed7953\"],[0.7777777777777778,\"#fb9f3a\"],[0.8888888888888888,\"#fdca26\"],[1.0,\"#f0f921\"]]}],\"mesh3d\":[{\"type\":\"mesh3d\",\"colorbar\":{\"outlinewidth\":0,\"ticks\":\"\"}}],\"scatter\":[{\"fillpattern\":{\"fillmode\":\"overlay\",\"size\":10,\"solidity\":0.2},\"type\":\"scatter\"}],\"parcoords\":[{\"type\":\"parcoords\",\"line\":{\"colorbar\":{\"outlinewidth\":0,\"ticks\":\"\"}}}],\"scatterpolargl\":[{\"type\":\"scatterpolargl\",\"marker\":{\"colorbar\":{\"outlinewidth\":0,\"ticks\":\"\"}}}],\"bar\":[{\"error_x\":{\"color\":\"#2a3f5f\"},\"error_y\":{\"color\":\"#2a3f5f\"},\"marker\":{\"line\":{\"color\":\"#E5ECF6\",\"width\":0.5},\"pattern\":{\"fillmode\":\"overlay\",\"size\":10,\"solidity\":0.2}},\"type\":\"bar\"}],\"scattergeo\":[{\"type\":\"scattergeo\",\"marker\":{\"colorbar\":{\"outlinewidth\":0,\"ticks\":\"\"}}}],\"scatterpolar\":[{\"type\":\"scatterpolar\",\"marker\":{\"colorbar\":{\"outlinewidth\":0,\"ticks\":\"\"}}}],\"histogram\":[{\"marker\":{\"pattern\":{\"fillmode\":\"overlay\",\"size\":10,\"solidity\":0.2}},\"type\":\"histogram\"}],\"scattergl\":[{\"type\":\"scattergl\",\"marker\":{\"colorbar\":{\"outlinewidth\":0,\"ticks\":\"\"}}}],\"scatter3d\":[{\"type\":\"scatter3d\",\"line\":{\"colorbar\":{\"outlinewidth\":0,\"ticks\":\"\"}},\"marker\":{\"colorbar\":{\"outlinewidth\":0,\"ticks\":\"\"}}}],\"scattermapbox\":[{\"type\":\"scattermapbox\",\"marker\":{\"colorbar\":{\"outlinewidth\":0,\"ticks\":\"\"}}}],\"scatterternary\":[{\"type\":\"scatterternary\",\"marker\":{\"colorbar\":{\"outlinewidth\":0,\"ticks\":\"\"}}}],\"scattercarpet\":[{\"type\":\"scattercarpet\",\"marker\":{\"colorbar\":{\"outlinewidth\":0,\"ticks\":\"\"}}}],\"carpet\":[{\"aaxis\":{\"endlinecolor\":\"#2a3f5f\",\"gridcolor\":\"white\",\"linecolor\":\"white\",\"minorgridcolor\":\"white\",\"startlinecolor\":\"#2a3f5f\"},\"baxis\":{\"endlinecolor\":\"#2a3f5f\",\"gridcolor\":\"white\",\"linecolor\":\"white\",\"minorgridcolor\":\"white\",\"startlinecolor\":\"#2a3f5f\"},\"type\":\"carpet\"}],\"table\":[{\"cells\":{\"fill\":{\"color\":\"#EBF0F8\"},\"line\":{\"color\":\"white\"}},\"header\":{\"fill\":{\"color\":\"#C8D4E3\"},\"line\":{\"color\":\"white\"}},\"type\":\"table\"}],\"barpolar\":[{\"marker\":{\"line\":{\"color\":\"#E5ECF6\",\"width\":0.5},\"pattern\":{\"fillmode\":\"overlay\",\"size\":10,\"solidity\":0.2}},\"type\":\"barpolar\"}],\"pie\":[{\"automargin\":true,\"type\":\"pie\"}]},\"layout\":{\"autotypenumbers\":\"strict\",\"colorway\":[\"#636efa\",\"#EF553B\",\"#00cc96\",\"#ab63fa\",\"#FFA15A\",\"#19d3f3\",\"#FF6692\",\"#B6E880\",\"#FF97FF\",\"#FECB52\"],\"font\":{\"color\":\"#2a3f5f\"},\"hovermode\":\"closest\",\"hoverlabel\":{\"align\":\"left\"},\"paper_bgcolor\":\"white\",\"plot_bgcolor\":\"#E5ECF6\",\"polar\":{\"bgcolor\":\"#E5ECF6\",\"angularaxis\":{\"gridcolor\":\"white\",\"linecolor\":\"white\",\"ticks\":\"\"},\"radialaxis\":{\"gridcolor\":\"white\",\"linecolor\":\"white\",\"ticks\":\"\"}},\"ternary\":{\"bgcolor\":\"#E5ECF6\",\"aaxis\":{\"gridcolor\":\"white\",\"linecolor\":\"white\",\"ticks\":\"\"},\"baxis\":{\"gridcolor\":\"white\",\"linecolor\":\"white\",\"ticks\":\"\"},\"caxis\":{\"gridcolor\":\"white\",\"linecolor\":\"white\",\"ticks\":\"\"}},\"coloraxis\":{\"colorbar\":{\"outlinewidth\":0,\"ticks\":\"\"}},\"colorscale\":{\"sequential\":[[0.0,\"#0d0887\"],[0.1111111111111111,\"#46039f\"],[0.2222222222222222,\"#7201a8\"],[0.3333333333333333,\"#9c179e\"],[0.4444444444444444,\"#bd3786\"],[0.5555555555555556,\"#d8576b\"],[0.6666666666666666,\"#ed7953\"],[0.7777777777777778,\"#fb9f3a\"],[0.8888888888888888,\"#fdca26\"],[1.0,\"#f0f921\"]],\"sequentialminus\":[[0.0,\"#0d0887\"],[0.1111111111111111,\"#46039f\"],[0.2222222222222222,\"#7201a8\"],[0.3333333333333333,\"#9c179e\"],[0.4444444444444444,\"#bd3786\"],[0.5555555555555556,\"#d8576b\"],[0.6666666666666666,\"#ed7953\"],[0.7777777777777778,\"#fb9f3a\"],[0.8888888888888888,\"#fdca26\"],[1.0,\"#f0f921\"]],\"diverging\":[[0,\"#8e0152\"],[0.1,\"#c51b7d\"],[0.2,\"#de77ae\"],[0.3,\"#f1b6da\"],[0.4,\"#fde0ef\"],[0.5,\"#f7f7f7\"],[0.6,\"#e6f5d0\"],[0.7,\"#b8e186\"],[0.8,\"#7fbc41\"],[0.9,\"#4d9221\"],[1,\"#276419\"]]},\"xaxis\":{\"gridcolor\":\"white\",\"linecolor\":\"white\",\"ticks\":\"\",\"title\":{\"standoff\":15},\"zerolinecolor\":\"white\",\"automargin\":true,\"zerolinewidth\":2},\"yaxis\":{\"gridcolor\":\"white\",\"linecolor\":\"white\",\"ticks\":\"\",\"title\":{\"standoff\":15},\"zerolinecolor\":\"white\",\"automargin\":true,\"zerolinewidth\":2},\"scene\":{\"xaxis\":{\"backgroundcolor\":\"#E5ECF6\",\"gridcolor\":\"white\",\"linecolor\":\"white\",\"showbackground\":true,\"ticks\":\"\",\"zerolinecolor\":\"white\",\"gridwidth\":2},\"yaxis\":{\"backgroundcolor\":\"#E5ECF6\",\"gridcolor\":\"white\",\"linecolor\":\"white\",\"showbackground\":true,\"ticks\":\"\",\"zerolinecolor\":\"white\",\"gridwidth\":2},\"zaxis\":{\"backgroundcolor\":\"#E5ECF6\",\"gridcolor\":\"white\",\"linecolor\":\"white\",\"showbackground\":true,\"ticks\":\"\",\"zerolinecolor\":\"white\",\"gridwidth\":2}},\"shapedefaults\":{\"line\":{\"color\":\"#2a3f5f\"}},\"annotationdefaults\":{\"arrowcolor\":\"#2a3f5f\",\"arrowhead\":0,\"arrowwidth\":1},\"geo\":{\"bgcolor\":\"white\",\"landcolor\":\"#E5ECF6\",\"subunitcolor\":\"white\",\"showland\":true,\"showlakes\":true,\"lakecolor\":\"white\"},\"title\":{\"x\":0.05},\"mapbox\":{\"style\":\"light\"}}},\"scene\":{\"domain\":{\"x\":[0.0,1.0],\"y\":[0.0,1.0]},\"xaxis\":{\"title\":{\"text\":\"x\"}},\"yaxis\":{\"title\":{\"text\":\"y\"}},\"zaxis\":{\"title\":{\"text\":\"z\"}}},\"legend\":{\"title\":{\"text\":\"color\"},\"tracegroupgap\":0},\"margin\":{\"t\":60}},                        {\"responsive\": true}                    ).then(function(){\n",
       "                            \n",
       "var gd = document.getElementById('93267fd1-bda3-4841-936c-0ec8ded19120');\n",
       "var x = new MutationObserver(function (mutations, observer) {{\n",
       "        var display = window.getComputedStyle(gd).display;\n",
       "        if (!display || display === 'none') {{\n",
       "            console.log([gd, 'removed!']);\n",
       "            Plotly.purge(gd);\n",
       "            observer.disconnect();\n",
       "        }}\n",
       "}});\n",
       "\n",
       "// Listen for the removal of the full notebook cells\n",
       "var notebookContainer = gd.closest('#notebook-container');\n",
       "if (notebookContainer) {{\n",
       "    x.observe(notebookContainer, {childList: true});\n",
       "}}\n",
       "\n",
       "// Listen for the clearing of the current output cell\n",
       "var outputEl = gd.closest('.output');\n",
       "if (outputEl) {{\n",
       "    x.observe(outputEl, {childList: true});\n",
       "}}\n",
       "\n",
       "                        })                };                });            </script>        </div>"
      ]
     },
     "metadata": {},
     "output_type": "display_data"
    }
   ],
   "source": [
    "# plot using tsne \n",
    "X_embedded  = TSNE(n_components=3, perplexity=10,random_state=24).fit_transform( X )\n",
    "colors = np.array([x for x in 'bgrcmykbgrcmykbgrcmykbgrcmyk'])\n",
    "fig = px.scatter_3d(x=X_embedded [:,0],y=X_embedded [:,1],z=X_embedded [:,2],color=colors[optics_clustering.labels_])\n",
    "fig.show()"
   ]
  },
  {
   "cell_type": "markdown",
   "metadata": {},
   "source": [
    "### Spectral Clustering\n",
    "\n",
    "Spectral CLustering is a graph based clustering technique which is used to identify communities of nodes in a graph based on the edges connecting the nodes. It uses an information from the eigenvalues of special matrices that are built from the graph/data set."
   ]
  },
  {
   "cell_type": "code",
   "execution_count": 254,
   "metadata": {},
   "outputs": [],
   "source": [
    "spectral_grid = {\n",
    "        \"eigen_solver\" : ['arpack','amg'],\n",
    "        \"n_clusters\" : range(2,10),\n",
    "        \"n_init\" : range(2,6),\n",
    "    \n",
    "        \"n_neighbors\" : range(7,20,2),\n",
    "        \"affinity\": ['nearest_neighbors','rbf' 'precomputed'],\n",
    "        \"assign_labels\" : ['kmeans', 'discretize', 'cluster_qr'],\n",
    "       }\n",
    "#spectral_grid"
   ]
  },
  {
   "cell_type": "code",
   "execution_count": 255,
   "metadata": {},
   "outputs": [],
   "source": [
    "spectral_model = SpectralClustering()\n",
    "spectral_params = GridSearchCV(spectral_model,spectral_grid,scoring=silhouette_score2,cv= 10).fit(X, y)"
   ]
  },
  {
   "cell_type": "code",
   "execution_count": 256,
   "metadata": {},
   "outputs": [
    {
     "data": {
      "text/plain": [
       "(0.6108486109573608,\n",
       " {'affinity': 'nearest_neighbors',\n",
       "  'assign_labels': 'kmeans',\n",
       "  'eigen_solver': 'arpack',\n",
       "  'n_clusters': 2,\n",
       "  'n_init': 2,\n",
       "  'n_neighbors': 13})"
      ]
     },
     "execution_count": 256,
     "metadata": {},
     "output_type": "execute_result"
    }
   ],
   "source": [
    "spectral_params.best_score_, spectral_params.best_params_"
   ]
  },
  {
   "cell_type": "code",
   "execution_count": 257,
   "metadata": {},
   "outputs": [],
   "source": [
    "Spectral_clustering = SpectralClustering(affinity = spectral_params.best_params_['affinity'],\n",
    "                           assign_labels = spectral_params.best_params_['assign_labels'],\n",
    "                           eigen_solver = spectral_params.best_params_['eigen_solver'],\n",
    "                           n_clusters = spectral_params.best_params_['n_clusters'],\n",
    "                           n_init = spectral_params.best_params_['n_init'],\n",
    "                           n_neighbors = spectral_params.best_params_['n_neighbors']\n",
    "                          ).fit(X)\n",
    "cluster = list(Spectral_clustering.labels_)\n",
    "values, counts = np.unique(cluster, return_counts=True)      \n",
    "Spectral_dataset = pd.DataFrame(X.copy())\n",
    "Spectral_dataset.loc[:,'Cluster'] = Spectral_clustering.labels_\n"
   ]
  },
  {
   "cell_type": "code",
   "execution_count": 258,
   "metadata": {},
   "outputs": [
    {
     "data": {
      "text/html": [
       "<div>\n",
       "<style scoped>\n",
       "    .dataframe tbody tr th:only-of-type {\n",
       "        vertical-align: middle;\n",
       "    }\n",
       "\n",
       "    .dataframe tbody tr th {\n",
       "        vertical-align: top;\n",
       "    }\n",
       "\n",
       "    .dataframe thead th {\n",
       "        text-align: right;\n",
       "    }\n",
       "</style>\n",
       "<table border=\"1\" class=\"dataframe\">\n",
       "  <thead>\n",
       "    <tr style=\"text-align: right;\">\n",
       "      <th></th>\n",
       "      <th>Cluster</th>\n",
       "    </tr>\n",
       "  </thead>\n",
       "  <tbody>\n",
       "    <tr>\n",
       "      <th>0</th>\n",
       "      <td>204</td>\n",
       "    </tr>\n",
       "    <tr>\n",
       "      <th>1</th>\n",
       "      <td>199</td>\n",
       "    </tr>\n",
       "  </tbody>\n",
       "</table>\n",
       "</div>"
      ],
      "text/plain": [
       "   Cluster\n",
       "0      204\n",
       "1      199"
      ]
     },
     "execution_count": 258,
     "metadata": {},
     "output_type": "execute_result"
    }
   ],
   "source": [
    "Spectral_dataset.Cluster.value_counts().to_frame()"
   ]
  },
  {
   "cell_type": "code",
   "execution_count": 259,
   "metadata": {},
   "outputs": [
    {
     "data": {
      "text/html": [
       "<div>\n",
       "<style scoped>\n",
       "    .dataframe tbody tr th:only-of-type {\n",
       "        vertical-align: middle;\n",
       "    }\n",
       "\n",
       "    .dataframe tbody tr th {\n",
       "        vertical-align: top;\n",
       "    }\n",
       "\n",
       "    .dataframe thead th {\n",
       "        text-align: right;\n",
       "    }\n",
       "</style>\n",
       "<table border=\"1\" class=\"dataframe\">\n",
       "  <thead>\n",
       "    <tr style=\"text-align: right;\">\n",
       "      <th></th>\n",
       "      <th>silhouette_score</th>\n",
       "      <th>davies_bouldin_score</th>\n",
       "      <th>calinski_harabasz_score</th>\n",
       "      <th>fowlkes_mallows_score</th>\n",
       "      <th>adjusted_rand_score</th>\n",
       "      <th>adjusted_mutual_info_score</th>\n",
       "      <th>homogeneity_score</th>\n",
       "      <th>completeness_score</th>\n",
       "      <th>v_measure_score</th>\n",
       "    </tr>\n",
       "  </thead>\n",
       "  <tbody>\n",
       "    <tr>\n",
       "      <th>SpectralClustering</th>\n",
       "      <td>0.460687</td>\n",
       "      <td>0.882917</td>\n",
       "      <td>409.154861</td>\n",
       "      <td>0.656783</td>\n",
       "      <td>0.425483</td>\n",
       "      <td>0.530852</td>\n",
       "      <td>0.404745</td>\n",
       "      <td>0.778482</td>\n",
       "      <td>0.532588</td>\n",
       "    </tr>\n",
       "  </tbody>\n",
       "</table>\n",
       "</div>"
      ],
      "text/plain": [
       "                    silhouette_score  davies_bouldin_score  \\\n",
       "SpectralClustering          0.460687              0.882917   \n",
       "\n",
       "                    calinski_harabasz_score  fowlkes_mallows_score  \\\n",
       "SpectralClustering               409.154861               0.656783   \n",
       "\n",
       "                    adjusted_rand_score  adjusted_mutual_info_score  \\\n",
       "SpectralClustering             0.425483                    0.530852   \n",
       "\n",
       "                    homogeneity_score  completeness_score  v_measure_score  \n",
       "SpectralClustering           0.404745            0.778482         0.532588  "
      ]
     },
     "execution_count": 259,
     "metadata": {},
     "output_type": "execute_result"
    }
   ],
   "source": [
    "Spectral_df = pd.DataFrame(estimator_evaluation(Spectral_clustering, 'Spectral ', X , y ), index=[\"SpectralClustering\"])\n",
    "Spectral_df"
   ]
  },
  {
   "cell_type": "code",
   "execution_count": 260,
   "metadata": {},
   "outputs": [
    {
     "data": {
      "application/vnd.plotly.v1+json": {
       "config": {
        "plotlyServerURL": "https://plot.ly"
       },
       "data": [
        {
         "hovertemplate": "color=g<br>x=%{x}<br>y=%{y}<br>z=%{z}<extra></extra>",
         "legendgroup": "g",
         "marker": {
          "color": "#636efa",
          "symbol": "circle"
         },
         "mode": "markers",
         "name": "g",
         "scene": "scene",
         "showlegend": true,
         "type": "scatter3d",
         "x": [
          -21.267044067382812,
          -36.06597137451172,
          -30.4609375,
          -26.903005599975586,
          -10.522098541259766,
          -11.172066688537598,
          -35.50358200073242,
          -33.579097747802734,
          -20.139205932617188,
          -34.801292419433594,
          -21.532691955566406,
          -20.048160552978516,
          -16.078256607055664,
          -31.024127960205078,
          -23.23345184326172,
          -26.53757095336914,
          -16.589069366455078,
          -20.381595611572266,
          -34.185394287109375,
          -24.680877685546875,
          -19.039701461791992,
          -13.879016876220703,
          -29.271230697631836,
          -23.27183723449707,
          -14.153593063354492,
          -13.993045806884766,
          -30.4713077545166,
          -16.764545440673828,
          -27.04876136779785,
          -10.712099075317383,
          -21.01463508605957,
          -17.79693603515625,
          -12.57739543914795,
          -0.7267776727676392,
          5.935863018035889,
          16.332124710083008,
          10.653630256652832,
          -33.51859664916992,
          5.823702335357666,
          5.161942005157471,
          8.852254867553711,
          5.489107608795166,
          13.520792007446289,
          84.0427474975586,
          1.5232117176055908,
          6.861714839935303,
          -1.1105945110321045,
          8.21495246887207,
          9.992449760437012,
          18.044836044311523,
          -78.88306427001953,
          10.190162658691406,
          5.529528617858887,
          11.674993515014648,
          0.2912577986717224,
          7.53861141204834,
          0.6788923144340515,
          8.612034797668457,
          18.44590950012207,
          8.328204154968262,
          4.20270299911499,
          14.427577018737793,
          8.52342414855957,
          2.0907599925994873,
          15.868163108825684,
          5.799005508422852,
          9.22774600982666,
          14.33255386352539,
          31.768972396850586,
          23.564762115478516,
          26.291427612304688,
          17.254390716552734,
          27.136953353881836,
          9.360555648803711,
          32.198673248291016,
          27.159940719604492,
          32.37428665161133,
          12.890089988708496,
          13.936925888061523,
          21.662534713745117,
          14.997796058654785,
          19.37211799621582,
          16.300519943237305,
          30.79879379272461,
          10.139127731323242,
          13.97585391998291,
          27.999364852905273,
          22.074153900146484,
          27.603469848632812,
          21.30132293701172,
          17.395112991333008,
          25.706993103027344,
          20.618406295776367,
          40.476531982421875,
          23.39597511291504,
          42.715972900390625,
          24.45811653137207,
          23.544315338134766,
          28.866249084472656,
          27.462055206298828,
          24.23588752746582,
          36.8121337890625,
          25.928308486938477,
          27.226430892944336,
          25.876117706298828,
          37.98743438720703,
          44.27800750732422,
          40.40578842163086,
          28.68001365661621,
          24.084733963012695,
          30.1612491607666,
          18.483291625976562,
          34.13698196411133,
          39.1591682434082,
          42.29051971435547,
          36.865142822265625,
          37.22797393798828,
          39.96656799316406,
          30.027252197265625,
          38.88172149658203,
          33.42483901977539,
          43.09455871582031,
          -22.969045639038086,
          -22.53413963317871,
          -24.733917236328125,
          -17.431264877319336,
          -10.650376319885254,
          -8.499683380126953,
          -28.772064208984375,
          -17.90882110595703,
          -20.731657028198242,
          -38.12913131713867,
          2.7441911697387695,
          -24.07947540283203,
          -32.08818054199219,
          -5.673862934112549,
          -21.81537628173828,
          -30.40770149230957,
          -29.06601333618164,
          -23.45379638671875,
          -17.01804542541504,
          -30.721755981445312,
          -31.2700138092041,
          -25.28873062133789,
          -23.773422241210938,
          -9.347555160522461,
          -29.65091896057129,
          -12.104231834411621,
          -18.506410598754883,
          -18.277950286865234,
          -15.310219764709473,
          -24.413591384887695,
          -17.080352783203125,
          -19.528425216674805,
          -27.129587173461914,
          3.749504804611206,
          19.652210235595703,
          4.860600471496582,
          4.800532817840576,
          4.240396022796631,
          7.389786243438721,
          10.786006927490234,
          6.2144598960876465,
          2.0858445167541504,
          8.709144592285156,
          6.604032039642334,
          4.337176322937012,
          6.2634406089782715,
          9.799295425415039,
          10.572393417358398,
          7.155150413513184,
          1.898878812789917,
          3.91137957572937,
          13.471965789794922,
          9.896615028381348,
          12.062995910644531,
          29.08721351623535,
          29.612564086914062,
          29.7270450592041,
          21.73213768005371,
          32.26485824584961,
          32.223934173583984,
          32.368988037109375,
          25.03771209716797,
          17.18193244934082,
          25.369630813598633,
          31.42034339904785,
          40.799686431884766,
          33.052799224853516,
          23.816953659057617,
          37.264034271240234,
          24.764509201049805,
          -34.1065559387207,
          27.049915313720703,
          33.74729919433594,
          36.472755432128906,
          32.0174446105957,
          44.705406188964844,
          27.09748649597168,
          25.400440216064453,
          25.914587020874023,
          25.26010513305664,
          45.45392608642578,
          22.284929275512695
         ],
         "y": [
          35.922725677490234,
          14.13102912902832,
          13.935522079467773,
          25.9504451751709,
          43.85566711425781,
          11.42887020111084,
          18.056838989257812,
          7.506102561950684,
          36.57126235961914,
          9.252019882202148,
          7.943752765655518,
          27.100460052490234,
          8.681744575500488,
          24.486465454101562,
          32.311370849609375,
          22.035154342651367,
          15.552287101745605,
          28.93560028076172,
          19.651897430419922,
          18.97339630126953,
          2.160881519317627,
          42.3321533203125,
          3.193222999572754,
          29.411508560180664,
          12.817761421203613,
          40.591495513916016,
          24.410675048828125,
          38.24163818359375,
          21.37002944946289,
          10.919054985046387,
          33.46477508544922,
          42.6595573425293,
          7.073983669281006,
          6.204806804656982,
          31.711185455322266,
          13.306443214416504,
          -4.577503204345703,
          16.597509384155273,
          38.8298454284668,
          35.662445068359375,
          1.3824677467346191,
          23.091190338134766,
          4.3916754722595215,
          66.60557556152344,
          9.737428665161133,
          12.725150108337402,
          42.7652702331543,
          7.599973201751709,
          24.586780548095703,
          -7.534989356994629,
          25.59372901916504,
          14.551630020141602,
          30.360595703125,
          21.911224365234375,
          4.110654830932617,
          11.905198097229004,
          9.819938659667969,
          32.29173278808594,
          -0.3799690008163452,
          -7.851871967315674,
          1.9403424263000488,
          59.75038528442383,
          31.439054489135742,
          12.256580352783203,
          -6.681667327880859,
          5.807104110717773,
          32.159027099609375,
          6.796523094177246,
          -5.971858501434326,
          22.654258728027344,
          7.5764241218566895,
          23.846031188964844,
          2.9488532543182373,
          27.096084594726562,
          -11.50830364227295,
          2.331176996231079,
          -7.422783851623535,
          27.341739654541016,
          22.654117584228516,
          -1.8572121858596802,
          19.930757522583008,
          17.647409439086914,
          16.641969680786133,
          1.8261659145355225,
          23.567323684692383,
          17.278886795043945,
          6.935790538787842,
          16.522836685180664,
          -1.164661169052124,
          12.344599723815918,
          14.271845817565918,
          -0.6366279721260071,
          13.294169425964355,
          12.779515266418457,
          9.386844635009766,
          8.252523422241211,
          22.371288299560547,
          10.071693420410156,
          25.149538040161133,
          23.606521606445312,
          21.57587242126465,
          -17.417682647705078,
          18.655899047851562,
          21.42276954650879,
          9.282002449035645,
          7.235989570617676,
          10.706573486328125,
          10.95085334777832,
          8.201926231384277,
          12.40717887878418,
          11.915243148803711,
          42.641414642333984,
          8.700462341308594,
          13.746968269348145,
          7.1556925773620605,
          10.78486442565918,
          14.91001033782959,
          9.748248100280762,
          10.594999313354492,
          7.296443939208984,
          13.833026885986328,
          11.936604499816895,
          32.13788604736328,
          28.855127334594727,
          6.2822065353393555,
          30.62104606628418,
          39.981258392333984,
          43.24763107299805,
          3.967867612838745,
          40.68608093261719,
          31.368810653686523,
          17.157428741455078,
          27.957015991210938,
          19.151569366455078,
          6.475119590759277,
          42.44248962402344,
          2.4901180267333984,
          9.720891952514648,
          3.7551586627960205,
          22.970993041992188,
          4.806143760681152,
          4.845126628875732,
          10.687250137329102,
          4.327755928039551,
          26.4428653717041,
          36.71547317504883,
          5.603481769561768,
          37.264373779296875,
          31.3853702545166,
          0.16408143937587738,
          44.56779861450195,
          33.03150939941406,
          33.856571197509766,
          35.442752838134766,
          8.019692420959473,
          -8.85015869140625,
          -3.184669017791748,
          -3.8456530570983887,
          5.297758102416992,
          34.92172622680664,
          36.927059173583984,
          -5.297547817230225,
          17.427650451660156,
          13.918794631958008,
          35.007896423339844,
          -3.9760918617248535,
          16.162832260131836,
          35.57892990112305,
          -1.3451337814331055,
          8.251192092895508,
          9.0260009765625,
          -1.2618411779403687,
          40.40031433105469,
          -1.767958641052246,
          18.514169692993164,
          24.223388671875,
          -4.048883438110352,
          0.7570634484291077,
          -0.45229485630989075,
          20.76923179626465,
          -2.3073678016662598,
          -11.760886192321777,
          -2.266845226287842,
          12.259390830993652,
          19.423126220703125,
          9.192879676818848,
          2.7518935203552246,
          10.214640617370605,
          9.217255592346191,
          22.30584716796875,
          9.137520790100098,
          25.335994720458984,
          -14.465846061706543,
          24.448200225830078,
          9.540753364562988,
          11.08519458770752,
          8.542003631591797,
          11.151013374328613,
          11.940046310424805,
          14.31509017944336,
          10.101239204406738,
          13.486228942871094,
          10.8375883102417,
          11.583477973937988
         ],
         "z": [
          5.8168253898620605,
          -21.3820858001709,
          -26.02112579345703,
          -21.729238510131836,
          -3.7784321308135986,
          -30.573514938354492,
          -23.78899383544922,
          -21.12174415588379,
          0.4842860996723175,
          -24.413700103759766,
          -29.579225540161133,
          -17.21922492980957,
          -29.19700050354004,
          -22.764877319335938,
          -3.4071192741394043,
          -20.095991134643555,
          -26.840534210205078,
          -12.876431465148926,
          -20.992544174194336,
          -22.112937927246094,
          -24.928831100463867,
          1.3392982482910156,
          -9.661981582641602,
          -0.8353308439254761,
          -28.130165100097656,
          -3.5932059288024902,
          -19.014638900756836,
          -1.315071940422058,
          -24.522563934326172,
          -27.052629470825195,
          -7.873538494110107,
          0.6900990009307861,
          -29.092561721801758,
          -31.185924530029297,
          -17.988819122314453,
          -21.65678596496582,
          -33.67805862426758,
          73.8567886352539,
          -9.526837348937988,
          -7.167135715484619,
          -34.627174377441406,
          -20.917863845825195,
          -29.894676208496094,
          -2.0550172328948975,
          -26.99646759033203,
          -23.70884132385254,
          -5.417999267578125,
          -32.647544860839844,
          -17.037246704101562,
          -31.62060546875,
          239.716796875,
          -21.366243362426758,
          -14.253371238708496,
          -17.414480209350586,
          -34.23719787597656,
          -27.826797485351562,
          -30.948036193847656,
          -3.680274248123169,
          -30.74943733215332,
          -35.562347412109375,
          -36.585018157958984,
          -16.906269073486328,
          -10.280692100524902,
          -23.622650146484375,
          -34.36848831176758,
          -30.726350784301758,
          -15.312973022460938,
          -32.0279541015625,
          -18.60561180114746,
          3.239884376525879,
          -16.355648040771484,
          -0.350166916847229,
          -21.037330627441406,
          -0.3802046477794647,
          -16.73946189880371,
          -16.75409507751465,
          -22.44613265991211,
          -2.1022424697875977,
          -4.4007110595703125,
          -29.55804443359375,
          -1.6893768310546875,
          -1.510080337524414,
          -9.639875411987305,
          -19.199848175048828,
          -2.9411470890045166,
          -6.211831569671631,
          -11.248101234436035,
          -4.252840042114258,
          -19.198013305664062,
          -6.047015190124512,
          -6.7096734046936035,
          -22.951927185058594,
          -9.668194770812988,
          6.791210651397705,
          -16.8520450592041,
          19.625478744506836,
          19.32184600830078,
          29.95144271850586,
          11.213606834411621,
          15.163322448730469,
          14.672515869140625,
          20.951534271240234,
          17.125629425048828,
          10.860676765441895,
          34.30753707885742,
          27.322982788085938,
          16.687564849853516,
          24.091432571411133,
          19.75490379333496,
          33.023277282714844,
          14.358061790466309,
          -25.78754997253418,
          25.26527976989746,
          10.936766624450684,
          25.10773468017578,
          8.950390815734863,
          6.995655536651611,
          12.114498138427734,
          22.43658447265625,
          22.58118438720703,
          9.737666130065918,
          11.745050430297852,
          5.454796314239502,
          -6.674811840057373,
          -30.735986709594727,
          -13.654102325439453,
          -8.963502883911133,
          -7.693188190460205,
          -28.425596237182617,
          -4.013869762420654,
          2.271423578262329,
          -20.86273193359375,
          -19.872522354125977,
          -26.11638641357422,
          -27.472850799560547,
          -5.673404693603516,
          -28.270822525024414,
          -23.982465744018555,
          -13.735467910766602,
          -23.01707649230957,
          -28.57994270324707,
          -17.739055633544922,
          -28.10502052307129,
          -26.07408332824707,
          -18.22887420654297,
          -10.5384521484375,
          -24.316556930541992,
          -12.276164054870605,
          -4.994287014007568,
          -27.81255340576172,
          -1.821712613105774,
          1.8572583198547363,
          -7.605228424072266,
          -4.760988235473633,
          -27.72223663330078,
          -36.56403732299805,
          -32.723201751708984,
          -38.18871307373047,
          -34.71680450439453,
          -12.17208194732666,
          -3.020695447921753,
          -37.81449890136719,
          -20.61493492126465,
          -27.192346572875977,
          -12.330978393554688,
          -34.49563217163086,
          -24.00265884399414,
          -15.712998390197754,
          -37.235286712646484,
          -28.864561080932617,
          -25.533395767211914,
          -36.0584831237793,
          -5.590236186981201,
          -35.61910629272461,
          -20.79570770263672,
          0.575212836265564,
          -22.87643051147461,
          -23.704357147216797,
          -12.970426559448242,
          -0.7846923470497131,
          -21.034500122070312,
          -20.091135025024414,
          -15.569310188293457,
          -7.930481433868408,
          -5.5041680335998535,
          -12.392892837524414,
          -12.530016899108887,
          29.63280487060547,
          31.5484561920166,
          8.287672996520996,
          31.895126342773438,
          11.059225082397461,
          -19.41793441772461,
          7.351991176605225,
          13.108871459960938,
          27.871444702148438,
          16.657373428344727,
          26.320215225219727,
          18.87700843811035,
          21.598779678344727,
          22.874103546142578,
          26.468914031982422,
          22.31829071044922,
          25.558242797851562
         ]
        },
        {
         "hovertemplate": "color=b<br>x=%{x}<br>y=%{y}<br>z=%{z}<extra></extra>",
         "legendgroup": "b",
         "marker": {
          "color": "#EF553B",
          "symbol": "circle"
         },
         "mode": "markers",
         "name": "b",
         "scene": "scene",
         "showlegend": true,
         "type": "scatter3d",
         "x": [
          -16.822650909423828,
          -49.39965057373047,
          -42.795692443847656,
          -21.344249725341797,
          -25.461931228637695,
          -17.483646392822266,
          -32.733314514160156,
          -24.241518020629883,
          -31.977890014648438,
          -36.49922561645508,
          -45.48850631713867,
          -19.285551071166992,
          -46.284759521484375,
          -23.104211807250977,
          -20.900346755981445,
          -23.937450408935547,
          -31.07014274597168,
          -31.920787811279297,
          -40.64645767211914,
          -38.054603576660156,
          -47.17422866821289,
          -27.272750854492188,
          -13.470775604248047,
          -47.790645599365234,
          -25.72091293334961,
          -14.55036735534668,
          -33.91830062866211,
          -46.7971305847168,
          -21.803001403808594,
          -46.36410140991211,
          -35.17536544799805,
          -17.974720001220703,
          -18.646787643432617,
          -21.651941299438477,
          0.4075632095336914,
          -13.981273651123047,
          0.3447377681732178,
          -18.89834213256836,
          -16.19564437866211,
          3.140899419784546,
          -22.55308723449707,
          -22.65562629699707,
          -0.060101576149463654,
          -0.7936458587646484,
          -17.555368423461914,
          -10.721659660339355,
          -16.148483276367188,
          -22.341880798339844,
          -22.72369956970215,
          -13.028511047363281,
          -8.545669555664062,
          -13.910672187805176,
          0.5921189188957214,
          -14.52842903137207,
          -21.77710723876953,
          -18.264860153198242,
          -22.563655853271484,
          0.20385026931762695,
          -4.701167583465576,
          1.6178152561187744,
          -16.81120491027832,
          -18.903366088867188,
          24.573030471801758,
          15.339200019836426,
          23.716899871826172,
          2.241644859313965,
          9.47315788269043,
          9.107170104980469,
          2.696962833404541,
          15.595996856689453,
          11.48470687866211,
          11.878907203674316,
          20.043367385864258,
          4.6845927238464355,
          6.0786261558532715,
          10.031150817871094,
          12.687679290771484,
          7.3835129737854,
          5.852301120758057,
          8.84896469116211,
          4.991186618804932,
          -12.906111717224121,
          5.038982391357422,
          6.433780193328857,
          1.4961940050125122,
          8.879339218139648,
          16.403331756591797,
          12.368870735168457,
          13.81178092956543,
          7.219574451446533,
          9.502975463867188,
          8.58479118347168,
          12.237604141235352,
          8.833601951599121,
          4.1392502784729,
          18.185205459594727,
          7.0952863693237305,
          -1.2226147651672363,
          23.871938705444336,
          12.335711479187012,
          -6.668420314788818,
          3.1785666942596436,
          -6.940609931945801,
          2.167938709259033,
          -5.020781993865967,
          -11.989901542663574,
          -9.028367042541504,
          4.969753265380859,
          -13.640060424804688,
          -0.5617701411247253,
          9.07393741607666,
          11.781044006347656,
          -8.347626686096191,
          2.4779205322265625,
          -5.4254655838012695,
          -0.3685187101364136,
          -13.536191940307617,
          -14.889735221862793,
          -1.512008786201477,
          -10.572601318359375,
          7.063409328460693,
          8.019389152526855,
          11.630135536193848,
          7.181481838226318,
          46.00409698486328,
          7.644443511962891,
          -16.012794494628906,
          10.322341918945312,
          -12.858540534973145,
          -2.3237509727478027,
          5.5148396492004395,
          5.692639350891113,
          10.46607780456543,
          -7.399155616760254,
          12.236316680908203,
          7.331542015075684,
          -21.064739227294922,
          -18.615015029907227,
          -9.400259971618652,
          -32.07025146484375,
          -27.591981887817383,
          -46.00606155395508,
          -26.467159271240234,
          -11.377697944641113,
          -28.746112823486328,
          -42.43263626098633,
          -12.118288040161133,
          -36.13899612426758,
          -24.882373809814453,
          -40.333988189697266,
          -29.823400497436523,
          -456.2898864746094,
          7.38869047164917,
          -18.51105308532715,
          -20.316526412963867,
          -38.623165130615234,
          -13.736462593078613,
          -41.04960250854492,
          -16.34224510192871,
          -11.020339965820312,
          -7.910359859466553,
          -32.941097259521484,
          -16.397624969482422,
          -18.877254486083984,
          -6.485118389129639,
          -19.89840316772461,
          -18.467571258544922,
          -2.8718912601470947,
          -4.004284381866455,
          2.619084358215332,
          -15.076781272888184,
          0.08586261421442032,
          -1.284684419631958,
          2.394094228744507,
          -17.82406997680664,
          3.1057519912719727,
          -20.834470748901367,
          -6.645021438598633,
          -0.9430211186408997,
          -17.268545150756836,
          3.4498560428619385,
          6.338685512542725,
          5.577123165130615,
          20.71617889404297,
          6.600318431854248,
          13.824715614318848,
          -13.054549217224121,
          2.9771065711975098,
          -4.404337406158447,
          -11.873586654663086,
          4.391490459442139,
          -16.661724090576172,
          -9.645992279052734,
          -93.683837890625,
          -7.636730194091797,
          0.5679864883422852,
          -14.055168151855469,
          -10.169634819030762,
          5.8452277183532715
         ],
         "y": [
          -28.599925994873047,
          -10.496481895446777,
          -0.7150207757949829,
          -30.018110275268555,
          -14.783294677734375,
          -27.7197265625,
          -4.371962547302246,
          -22.510534286499023,
          -0.6587179899215698,
          -10.558356285095215,
          -9.403033256530762,
          -25.21457862854004,
          1.4767169952392578,
          -18.64919662475586,
          53.378841400146484,
          -16.058134078979492,
          -8.236431121826172,
          -11.5612154006958,
          -2.9173927307128906,
          -9.13534164428711,
          -5.571140766143799,
          -20.627683639526367,
          -20.01321029663086,
          -8.554363250732422,
          3.878140449523926,
          -9.778741836547852,
          -0.16450761258602142,
          -2.169846296310425,
          -14.032255172729492,
          2.629030466079712,
          2.8495986461639404,
          2.2028632164001465,
          -15.422771453857422,
          0.4951074421405792,
          1.8972957134246826,
          3.1074705123901367,
          6.443424224853516,
          -17.389612197875977,
          -8.611226081848145,
          0.44145891070365906,
          -15.357054710388184,
          1.8845208883285522,
          -1.3469034433364868,
          8.65053653717041,
          -0.8942708373069763,
          4.376777648925781,
          1.5898655652999878,
          -17.511959075927734,
          -2.7408711910247803,
          4.913856506347656,
          4.290068626403809,
          -3.8257787227630615,
          -2.369314432144165,
          2.587691068649292,
          4.729564189910889,
          -19.9576358795166,
          -13.174420356750488,
          2.9193058013916016,
          5.921625137329102,
          -1.6807132959365845,
          6.130126476287842,
          -13.157781600952148,
          -13.22385311126709,
          -14.928306579589844,
          -14.00196361541748,
          -4.707040309906006,
          -5.553106784820557,
          -6.172765731811523,
          -6.083141326904297,
          -12.852591514587402,
          -14.624302864074707,
          -16.989368438720703,
          -16.535179138183594,
          -8.096137046813965,
          -8.648439407348633,
          -17.343385696411133,
          -12.295158386230469,
          -12.351204872131348,
          -16.828969955444336,
          -16.676023483276367,
          -16.708698272705078,
          -7.712678909301758,
          -6.246535301208496,
          -20.16769027709961,
          -8.69201946258545,
          -13.669449806213379,
          -16.477487564086914,
          -16.12377166748047,
          -10.344816207885742,
          -13.929681777954102,
          -9.094193458557129,
          -19.734310150146484,
          -20.389284133911133,
          -9.549301147460938,
          -12.588605880737305,
          -13.305061340332031,
          -9.958097457885742,
          -3.641934394836426,
          -16.979398727416992,
          -34.130340576171875,
          -38.8309211730957,
          -22.717079162597656,
          -41.327674865722656,
          -35.7883186340332,
          -27.92157554626465,
          -40.47600555419922,
          -35.46875,
          19.855892181396484,
          -45.999088287353516,
          -34.81201934814453,
          -24.99074935913086,
          -15.741121292114258,
          -37.43214416503906,
          -29.14955711364746,
          -39.841636657714844,
          -32.43231964111328,
          -42.054561614990234,
          -44.781185150146484,
          -36.96426010131836,
          -40.94893264770508,
          -32.7647590637207,
          -36.53717803955078,
          -30.32036018371582,
          -15.248553276062012,
          -33.2227783203125,
          -30.326932907104492,
          -45.257266998291016,
          -31.926437377929688,
          -45.8526725769043,
          -23.79541015625,
          -35.245704650878906,
          -18.015134811401367,
          -26.92793846130371,
          -36.67508316040039,
          -18.587879180908203,
          -35.80337905883789,
          -26.404216766357422,
          -13.605611801147461,
          -15.183632850646973,
          1.553058385848999,
          -12.173080444335938,
          -12.32067584991455,
          -8.881789207458496,
          -11.7959566116333,
          -7.807506084442139,
          3.2678065299987793,
          -16.515052795410156,
          -4.6959357261657715,
          -8.47089958190918,
          -5.3941521644592285,
          -11.922337532043457,
          -302.0281982421875,
          -60.05851364135742,
          -15.538965225219727,
          -11.413725852966309,
          0.5542541742324829,
          -14.24774169921875,
          -10.682809829711914,
          -24.83991813659668,
          -18.71875762939453,
          -20.037574768066406,
          -9.220967292785645,
          -12.353191375732422,
          5.030978679656982,
          5.7682414054870605,
          -4.207118988037109,
          3.0606532096862793,
          3.2834300994873047,
          1.1891841888427734,
          -21.629451751708984,
          7.338028907775879,
          -21.39366912841797,
          1.470876693725586,
          -24.639142990112305,
          -0.4972001910209656,
          1.4655126333236694,
          -7.7200164794921875,
          1.4166902303695679,
          -24.354713439941406,
          5.381312370300293,
          -39.685157775878906,
          -3.161134958267212,
          -6.502359390258789,
          -14.517918586730957,
          -6.617073059082031,
          -14.149086952209473,
          -50.34455490112305,
          -30.80486488342285,
          -35.02500534057617,
          -42.593475341796875,
          -33.080814361572266,
          -48.06392288208008,
          -43.8515739440918,
          -63.7742805480957,
          -32.8321647644043,
          3.7214879989624023,
          -48.9123420715332,
          -46.39421844482422,
          -27.901395797729492
         ],
         "z": [
          33.52610397338867,
          2.444183588027954,
          -4.472977161407471,
          31.861804962158203,
          32.748905181884766,
          37.189815521240234,
          3.851856231689453,
          31.61870002746582,
          1.6737146377563477,
          5.405576229095459,
          1.7811448574066162,
          31.78816795349121,
          -5.672760963439941,
          31.9556884765625,
          125.64574432373047,
          36.20995330810547,
          32.89856719970703,
          35.27460479736328,
          1.9910587072372437,
          8.647953987121582,
          0.6054890751838684,
          30.741924285888672,
          42.24124526977539,
          5.616896629333496,
          -9.01623821258545,
          43.90907669067383,
          -1.1675693988800049,
          -2.5310606956481934,
          33.8502197265625,
          -1.7316131591796875,
          -5.049018859863281,
          -4.545928478240967,
          10.74067497253418,
          10.418437004089355,
          20.7386474609375,
          -2.426177740097046,
          23.54466438293457,
          6.714169025421143,
          9.173133850097656,
          28.313512802124023,
          6.034440517425537,
          6.306940078735352,
          30.684783935546875,
          21.458824157714844,
          6.155144214630127,
          36.29490280151367,
          0.8089843392372131,
          9.657200813293457,
          8.167305946350098,
          1.280754566192627,
          32.32023239135742,
          6.946134090423584,
          26.626850128173828,
          4.64308500289917,
          -7.637720108032227,
          10.417008399963379,
          9.823871612548828,
          31.12822914123535,
          32.096405029296875,
          22.033491134643555,
          -6.230306625366211,
          7.1384382247924805,
          11.82937240600586,
          15.885846138000488,
          7.990316390991211,
          -6.217715263366699,
          4.314609050750732,
          -0.7241188883781433,
          -9.98575496673584,
          9.797197341918945,
          19.636438369750977,
          27.046123504638672,
          7.298007965087891,
          -4.063405513763428,
          -7.591188907623291,
          23.556074142456055,
          0.7650196552276611,
          -4.324703216552734,
          28.855613708496094,
          31.980281829833984,
          33.5184326171875,
          8.310609817504883,
          25.667417526245117,
          33.03346633911133,
          -7.272939682006836,
          28.54404640197754,
          10.189713478088379,
          14.70949935913086,
          3.8012237548828125,
          25.040786743164062,
          -3.1974411010742188,
          28.498260498046875,
          30.87400245666504,
          1.238881230354309,
          -9.934831619262695,
          6.954226016998291,
          25.21449089050293,
          -7.881289005279541,
          10.863962173461914,
          -4.7493462562561035,
          -6.5864386558532715,
          -11.774182319641113,
          2.5580832958221436,
          -3.1622493267059326,
          -11.894947052001953,
          -0.763357937335968,
          -6.574005126953125,
          28.48706817626953,
          6.0969953536987305,
          -9.569856643676758,
          -7.908479690551758,
          8.332138061523438,
          -2.4932162761688232,
          -13.76860237121582,
          -1.603881597518921,
          -12.251422882080078,
          5.507862567901611,
          1.2219104766845703,
          -4.022248268127441,
          -4.116950511932373,
          -8.447087287902832,
          4.959840774536133,
          -5.893196105957031,
          -8.043238639831543,
          20.290987014770508,
          -5.420224189758301,
          10.746309280395508,
          -2.3039586544036865,
          13.510771751403809,
          -12.343932151794434,
          -4.137907981872559,
          -9.895276069641113,
          -10.274495124816895,
          -10.347251892089844,
          19.297513961791992,
          0.693530797958374,
          34.73118209838867,
          42.36494445800781,
          44.201019287109375,
          -5.778939247131348,
          36.05021667480469,
          4.63361120223999,
          33.655784606933594,
          42.43116760253906,
          37.17819595336914,
          -4.306389808654785,
          41.04791259765625,
          4.633265018463135,
          37.542198181152344,
          4.993454456329346,
          31.67388916015625,
          -1184.2711181640625,
          122.69407653808594,
          39.08221435546875,
          39.4496955871582,
          -1.7963697910308838,
          44.6135368347168,
          6.116008758544922,
          35.10211181640625,
          45.73445510864258,
          43.604400634765625,
          7.021518230438232,
          39.048946380615234,
          -1.6818139553070068,
          36.01001739501953,
          11.153938293457031,
          7.111074447631836,
          35.0716552734375,
          31.048648834228516,
          39.19319534301758,
          -2.389935255050659,
          42.48314666748047,
          27.38381576538086,
          41.99031066894531,
          10.200085639953613,
          24.043920516967773,
          9.874095916748047,
          34.848243713378906,
          39.60695266723633,
          2.5961873531341553,
          28.51122283935547,
          4.971691131591797,
          2.7791099548339844,
          12.18494701385498,
          6.987124919891357,
          4.265190124511719,
          16.33561134338379,
          -9.175715446472168,
          -6.804567813873291,
          9.073599815368652,
          -11.932153701782227,
          14.655389785766602,
          5.779026508331299,
          12.392186164855957,
          -9.701878547668457,
          -6.171171188354492,
          10.824557304382324,
          9.166852951049805,
          -11.992980003356934
         ]
        }
       ],
       "layout": {
        "legend": {
         "title": {
          "text": "color"
         },
         "tracegroupgap": 0
        },
        "margin": {
         "t": 60
        },
        "scene": {
         "domain": {
          "x": [
           0,
           1
          ],
          "y": [
           0,
           1
          ]
         },
         "xaxis": {
          "title": {
           "text": "x"
          }
         },
         "yaxis": {
          "title": {
           "text": "y"
          }
         },
         "zaxis": {
          "title": {
           "text": "z"
          }
         }
        },
        "template": {
         "data": {
          "bar": [
           {
            "error_x": {
             "color": "#2a3f5f"
            },
            "error_y": {
             "color": "#2a3f5f"
            },
            "marker": {
             "line": {
              "color": "#E5ECF6",
              "width": 0.5
             },
             "pattern": {
              "fillmode": "overlay",
              "size": 10,
              "solidity": 0.2
             }
            },
            "type": "bar"
           }
          ],
          "barpolar": [
           {
            "marker": {
             "line": {
              "color": "#E5ECF6",
              "width": 0.5
             },
             "pattern": {
              "fillmode": "overlay",
              "size": 10,
              "solidity": 0.2
             }
            },
            "type": "barpolar"
           }
          ],
          "carpet": [
           {
            "aaxis": {
             "endlinecolor": "#2a3f5f",
             "gridcolor": "white",
             "linecolor": "white",
             "minorgridcolor": "white",
             "startlinecolor": "#2a3f5f"
            },
            "baxis": {
             "endlinecolor": "#2a3f5f",
             "gridcolor": "white",
             "linecolor": "white",
             "minorgridcolor": "white",
             "startlinecolor": "#2a3f5f"
            },
            "type": "carpet"
           }
          ],
          "choropleth": [
           {
            "colorbar": {
             "outlinewidth": 0,
             "ticks": ""
            },
            "type": "choropleth"
           }
          ],
          "contour": [
           {
            "colorbar": {
             "outlinewidth": 0,
             "ticks": ""
            },
            "colorscale": [
             [
              0,
              "#0d0887"
             ],
             [
              0.1111111111111111,
              "#46039f"
             ],
             [
              0.2222222222222222,
              "#7201a8"
             ],
             [
              0.3333333333333333,
              "#9c179e"
             ],
             [
              0.4444444444444444,
              "#bd3786"
             ],
             [
              0.5555555555555556,
              "#d8576b"
             ],
             [
              0.6666666666666666,
              "#ed7953"
             ],
             [
              0.7777777777777778,
              "#fb9f3a"
             ],
             [
              0.8888888888888888,
              "#fdca26"
             ],
             [
              1,
              "#f0f921"
             ]
            ],
            "type": "contour"
           }
          ],
          "contourcarpet": [
           {
            "colorbar": {
             "outlinewidth": 0,
             "ticks": ""
            },
            "type": "contourcarpet"
           }
          ],
          "heatmap": [
           {
            "colorbar": {
             "outlinewidth": 0,
             "ticks": ""
            },
            "colorscale": [
             [
              0,
              "#0d0887"
             ],
             [
              0.1111111111111111,
              "#46039f"
             ],
             [
              0.2222222222222222,
              "#7201a8"
             ],
             [
              0.3333333333333333,
              "#9c179e"
             ],
             [
              0.4444444444444444,
              "#bd3786"
             ],
             [
              0.5555555555555556,
              "#d8576b"
             ],
             [
              0.6666666666666666,
              "#ed7953"
             ],
             [
              0.7777777777777778,
              "#fb9f3a"
             ],
             [
              0.8888888888888888,
              "#fdca26"
             ],
             [
              1,
              "#f0f921"
             ]
            ],
            "type": "heatmap"
           }
          ],
          "heatmapgl": [
           {
            "colorbar": {
             "outlinewidth": 0,
             "ticks": ""
            },
            "colorscale": [
             [
              0,
              "#0d0887"
             ],
             [
              0.1111111111111111,
              "#46039f"
             ],
             [
              0.2222222222222222,
              "#7201a8"
             ],
             [
              0.3333333333333333,
              "#9c179e"
             ],
             [
              0.4444444444444444,
              "#bd3786"
             ],
             [
              0.5555555555555556,
              "#d8576b"
             ],
             [
              0.6666666666666666,
              "#ed7953"
             ],
             [
              0.7777777777777778,
              "#fb9f3a"
             ],
             [
              0.8888888888888888,
              "#fdca26"
             ],
             [
              1,
              "#f0f921"
             ]
            ],
            "type": "heatmapgl"
           }
          ],
          "histogram": [
           {
            "marker": {
             "pattern": {
              "fillmode": "overlay",
              "size": 10,
              "solidity": 0.2
             }
            },
            "type": "histogram"
           }
          ],
          "histogram2d": [
           {
            "colorbar": {
             "outlinewidth": 0,
             "ticks": ""
            },
            "colorscale": [
             [
              0,
              "#0d0887"
             ],
             [
              0.1111111111111111,
              "#46039f"
             ],
             [
              0.2222222222222222,
              "#7201a8"
             ],
             [
              0.3333333333333333,
              "#9c179e"
             ],
             [
              0.4444444444444444,
              "#bd3786"
             ],
             [
              0.5555555555555556,
              "#d8576b"
             ],
             [
              0.6666666666666666,
              "#ed7953"
             ],
             [
              0.7777777777777778,
              "#fb9f3a"
             ],
             [
              0.8888888888888888,
              "#fdca26"
             ],
             [
              1,
              "#f0f921"
             ]
            ],
            "type": "histogram2d"
           }
          ],
          "histogram2dcontour": [
           {
            "colorbar": {
             "outlinewidth": 0,
             "ticks": ""
            },
            "colorscale": [
             [
              0,
              "#0d0887"
             ],
             [
              0.1111111111111111,
              "#46039f"
             ],
             [
              0.2222222222222222,
              "#7201a8"
             ],
             [
              0.3333333333333333,
              "#9c179e"
             ],
             [
              0.4444444444444444,
              "#bd3786"
             ],
             [
              0.5555555555555556,
              "#d8576b"
             ],
             [
              0.6666666666666666,
              "#ed7953"
             ],
             [
              0.7777777777777778,
              "#fb9f3a"
             ],
             [
              0.8888888888888888,
              "#fdca26"
             ],
             [
              1,
              "#f0f921"
             ]
            ],
            "type": "histogram2dcontour"
           }
          ],
          "mesh3d": [
           {
            "colorbar": {
             "outlinewidth": 0,
             "ticks": ""
            },
            "type": "mesh3d"
           }
          ],
          "parcoords": [
           {
            "line": {
             "colorbar": {
              "outlinewidth": 0,
              "ticks": ""
             }
            },
            "type": "parcoords"
           }
          ],
          "pie": [
           {
            "automargin": true,
            "type": "pie"
           }
          ],
          "scatter": [
           {
            "fillpattern": {
             "fillmode": "overlay",
             "size": 10,
             "solidity": 0.2
            },
            "type": "scatter"
           }
          ],
          "scatter3d": [
           {
            "line": {
             "colorbar": {
              "outlinewidth": 0,
              "ticks": ""
             }
            },
            "marker": {
             "colorbar": {
              "outlinewidth": 0,
              "ticks": ""
             }
            },
            "type": "scatter3d"
           }
          ],
          "scattercarpet": [
           {
            "marker": {
             "colorbar": {
              "outlinewidth": 0,
              "ticks": ""
             }
            },
            "type": "scattercarpet"
           }
          ],
          "scattergeo": [
           {
            "marker": {
             "colorbar": {
              "outlinewidth": 0,
              "ticks": ""
             }
            },
            "type": "scattergeo"
           }
          ],
          "scattergl": [
           {
            "marker": {
             "colorbar": {
              "outlinewidth": 0,
              "ticks": ""
             }
            },
            "type": "scattergl"
           }
          ],
          "scattermapbox": [
           {
            "marker": {
             "colorbar": {
              "outlinewidth": 0,
              "ticks": ""
             }
            },
            "type": "scattermapbox"
           }
          ],
          "scatterpolar": [
           {
            "marker": {
             "colorbar": {
              "outlinewidth": 0,
              "ticks": ""
             }
            },
            "type": "scatterpolar"
           }
          ],
          "scatterpolargl": [
           {
            "marker": {
             "colorbar": {
              "outlinewidth": 0,
              "ticks": ""
             }
            },
            "type": "scatterpolargl"
           }
          ],
          "scatterternary": [
           {
            "marker": {
             "colorbar": {
              "outlinewidth": 0,
              "ticks": ""
             }
            },
            "type": "scatterternary"
           }
          ],
          "surface": [
           {
            "colorbar": {
             "outlinewidth": 0,
             "ticks": ""
            },
            "colorscale": [
             [
              0,
              "#0d0887"
             ],
             [
              0.1111111111111111,
              "#46039f"
             ],
             [
              0.2222222222222222,
              "#7201a8"
             ],
             [
              0.3333333333333333,
              "#9c179e"
             ],
             [
              0.4444444444444444,
              "#bd3786"
             ],
             [
              0.5555555555555556,
              "#d8576b"
             ],
             [
              0.6666666666666666,
              "#ed7953"
             ],
             [
              0.7777777777777778,
              "#fb9f3a"
             ],
             [
              0.8888888888888888,
              "#fdca26"
             ],
             [
              1,
              "#f0f921"
             ]
            ],
            "type": "surface"
           }
          ],
          "table": [
           {
            "cells": {
             "fill": {
              "color": "#EBF0F8"
             },
             "line": {
              "color": "white"
             }
            },
            "header": {
             "fill": {
              "color": "#C8D4E3"
             },
             "line": {
              "color": "white"
             }
            },
            "type": "table"
           }
          ]
         },
         "layout": {
          "annotationdefaults": {
           "arrowcolor": "#2a3f5f",
           "arrowhead": 0,
           "arrowwidth": 1
          },
          "autotypenumbers": "strict",
          "coloraxis": {
           "colorbar": {
            "outlinewidth": 0,
            "ticks": ""
           }
          },
          "colorscale": {
           "diverging": [
            [
             0,
             "#8e0152"
            ],
            [
             0.1,
             "#c51b7d"
            ],
            [
             0.2,
             "#de77ae"
            ],
            [
             0.3,
             "#f1b6da"
            ],
            [
             0.4,
             "#fde0ef"
            ],
            [
             0.5,
             "#f7f7f7"
            ],
            [
             0.6,
             "#e6f5d0"
            ],
            [
             0.7,
             "#b8e186"
            ],
            [
             0.8,
             "#7fbc41"
            ],
            [
             0.9,
             "#4d9221"
            ],
            [
             1,
             "#276419"
            ]
           ],
           "sequential": [
            [
             0,
             "#0d0887"
            ],
            [
             0.1111111111111111,
             "#46039f"
            ],
            [
             0.2222222222222222,
             "#7201a8"
            ],
            [
             0.3333333333333333,
             "#9c179e"
            ],
            [
             0.4444444444444444,
             "#bd3786"
            ],
            [
             0.5555555555555556,
             "#d8576b"
            ],
            [
             0.6666666666666666,
             "#ed7953"
            ],
            [
             0.7777777777777778,
             "#fb9f3a"
            ],
            [
             0.8888888888888888,
             "#fdca26"
            ],
            [
             1,
             "#f0f921"
            ]
           ],
           "sequentialminus": [
            [
             0,
             "#0d0887"
            ],
            [
             0.1111111111111111,
             "#46039f"
            ],
            [
             0.2222222222222222,
             "#7201a8"
            ],
            [
             0.3333333333333333,
             "#9c179e"
            ],
            [
             0.4444444444444444,
             "#bd3786"
            ],
            [
             0.5555555555555556,
             "#d8576b"
            ],
            [
             0.6666666666666666,
             "#ed7953"
            ],
            [
             0.7777777777777778,
             "#fb9f3a"
            ],
            [
             0.8888888888888888,
             "#fdca26"
            ],
            [
             1,
             "#f0f921"
            ]
           ]
          },
          "colorway": [
           "#636efa",
           "#EF553B",
           "#00cc96",
           "#ab63fa",
           "#FFA15A",
           "#19d3f3",
           "#FF6692",
           "#B6E880",
           "#FF97FF",
           "#FECB52"
          ],
          "font": {
           "color": "#2a3f5f"
          },
          "geo": {
           "bgcolor": "white",
           "lakecolor": "white",
           "landcolor": "#E5ECF6",
           "showlakes": true,
           "showland": true,
           "subunitcolor": "white"
          },
          "hoverlabel": {
           "align": "left"
          },
          "hovermode": "closest",
          "mapbox": {
           "style": "light"
          },
          "paper_bgcolor": "white",
          "plot_bgcolor": "#E5ECF6",
          "polar": {
           "angularaxis": {
            "gridcolor": "white",
            "linecolor": "white",
            "ticks": ""
           },
           "bgcolor": "#E5ECF6",
           "radialaxis": {
            "gridcolor": "white",
            "linecolor": "white",
            "ticks": ""
           }
          },
          "scene": {
           "xaxis": {
            "backgroundcolor": "#E5ECF6",
            "gridcolor": "white",
            "gridwidth": 2,
            "linecolor": "white",
            "showbackground": true,
            "ticks": "",
            "zerolinecolor": "white"
           },
           "yaxis": {
            "backgroundcolor": "#E5ECF6",
            "gridcolor": "white",
            "gridwidth": 2,
            "linecolor": "white",
            "showbackground": true,
            "ticks": "",
            "zerolinecolor": "white"
           },
           "zaxis": {
            "backgroundcolor": "#E5ECF6",
            "gridcolor": "white",
            "gridwidth": 2,
            "linecolor": "white",
            "showbackground": true,
            "ticks": "",
            "zerolinecolor": "white"
           }
          },
          "shapedefaults": {
           "line": {
            "color": "#2a3f5f"
           }
          },
          "ternary": {
           "aaxis": {
            "gridcolor": "white",
            "linecolor": "white",
            "ticks": ""
           },
           "baxis": {
            "gridcolor": "white",
            "linecolor": "white",
            "ticks": ""
           },
           "bgcolor": "#E5ECF6",
           "caxis": {
            "gridcolor": "white",
            "linecolor": "white",
            "ticks": ""
           }
          },
          "title": {
           "x": 0.05
          },
          "xaxis": {
           "automargin": true,
           "gridcolor": "white",
           "linecolor": "white",
           "ticks": "",
           "title": {
            "standoff": 15
           },
           "zerolinecolor": "white",
           "zerolinewidth": 2
          },
          "yaxis": {
           "automargin": true,
           "gridcolor": "white",
           "linecolor": "white",
           "ticks": "",
           "title": {
            "standoff": 15
           },
           "zerolinecolor": "white",
           "zerolinewidth": 2
          }
         }
        }
       }
      },
      "text/html": [
       "<div>                            <div id=\"ff0bb72e-4b28-418d-9273-f2170d624a05\" class=\"plotly-graph-div\" style=\"height:525px; width:100%;\"></div>            <script type=\"text/javascript\">                require([\"plotly\"], function(Plotly) {                    window.PLOTLYENV=window.PLOTLYENV || {};                                    if (document.getElementById(\"ff0bb72e-4b28-418d-9273-f2170d624a05\")) {                    Plotly.newPlot(                        \"ff0bb72e-4b28-418d-9273-f2170d624a05\",                        [{\"hovertemplate\":\"color=g<br>x=%{x}<br>y=%{y}<br>z=%{z}<extra></extra>\",\"legendgroup\":\"g\",\"marker\":{\"color\":\"#636efa\",\"symbol\":\"circle\"},\"mode\":\"markers\",\"name\":\"g\",\"scene\":\"scene\",\"showlegend\":true,\"x\":[-21.267044067382812,-36.06597137451172,-30.4609375,-26.903005599975586,-10.522098541259766,-11.172066688537598,-35.50358200073242,-33.579097747802734,-20.139205932617188,-34.801292419433594,-21.532691955566406,-20.048160552978516,-16.078256607055664,-31.024127960205078,-23.23345184326172,-26.53757095336914,-16.589069366455078,-20.381595611572266,-34.185394287109375,-24.680877685546875,-19.039701461791992,-13.879016876220703,-29.271230697631836,-23.27183723449707,-14.153593063354492,-13.993045806884766,-30.4713077545166,-16.764545440673828,-27.04876136779785,-10.712099075317383,-21.01463508605957,-17.79693603515625,-12.57739543914795,-0.7267776727676392,5.935863018035889,16.332124710083008,10.653630256652832,-33.51859664916992,5.823702335357666,5.161942005157471,8.852254867553711,5.489107608795166,13.520792007446289,84.0427474975586,1.5232117176055908,6.861714839935303,-1.1105945110321045,8.21495246887207,9.992449760437012,18.044836044311523,-78.88306427001953,10.190162658691406,5.529528617858887,11.674993515014648,0.2912577986717224,7.53861141204834,0.6788923144340515,8.612034797668457,18.44590950012207,8.328204154968262,4.20270299911499,14.427577018737793,8.52342414855957,2.0907599925994873,15.868163108825684,5.799005508422852,9.22774600982666,14.33255386352539,31.768972396850586,23.564762115478516,26.291427612304688,17.254390716552734,27.136953353881836,9.360555648803711,32.198673248291016,27.159940719604492,32.37428665161133,12.890089988708496,13.936925888061523,21.662534713745117,14.997796058654785,19.37211799621582,16.300519943237305,30.79879379272461,10.139127731323242,13.97585391998291,27.999364852905273,22.074153900146484,27.603469848632812,21.30132293701172,17.395112991333008,25.706993103027344,20.618406295776367,40.476531982421875,23.39597511291504,42.715972900390625,24.45811653137207,23.544315338134766,28.866249084472656,27.462055206298828,24.23588752746582,36.8121337890625,25.928308486938477,27.226430892944336,25.876117706298828,37.98743438720703,44.27800750732422,40.40578842163086,28.68001365661621,24.084733963012695,30.1612491607666,18.483291625976562,34.13698196411133,39.1591682434082,42.29051971435547,36.865142822265625,37.22797393798828,39.96656799316406,30.027252197265625,38.88172149658203,33.42483901977539,43.09455871582031,-22.969045639038086,-22.53413963317871,-24.733917236328125,-17.431264877319336,-10.650376319885254,-8.499683380126953,-28.772064208984375,-17.90882110595703,-20.731657028198242,-38.12913131713867,2.7441911697387695,-24.07947540283203,-32.08818054199219,-5.673862934112549,-21.81537628173828,-30.40770149230957,-29.06601333618164,-23.45379638671875,-17.01804542541504,-30.721755981445312,-31.2700138092041,-25.28873062133789,-23.773422241210938,-9.347555160522461,-29.65091896057129,-12.104231834411621,-18.506410598754883,-18.277950286865234,-15.310219764709473,-24.413591384887695,-17.080352783203125,-19.528425216674805,-27.129587173461914,3.749504804611206,19.652210235595703,4.860600471496582,4.800532817840576,4.240396022796631,7.389786243438721,10.786006927490234,6.2144598960876465,2.0858445167541504,8.709144592285156,6.604032039642334,4.337176322937012,6.2634406089782715,9.799295425415039,10.572393417358398,7.155150413513184,1.898878812789917,3.91137957572937,13.471965789794922,9.896615028381348,12.062995910644531,29.08721351623535,29.612564086914062,29.7270450592041,21.73213768005371,32.26485824584961,32.223934173583984,32.368988037109375,25.03771209716797,17.18193244934082,25.369630813598633,31.42034339904785,40.799686431884766,33.052799224853516,23.816953659057617,37.264034271240234,24.764509201049805,-34.1065559387207,27.049915313720703,33.74729919433594,36.472755432128906,32.0174446105957,44.705406188964844,27.09748649597168,25.400440216064453,25.914587020874023,25.26010513305664,45.45392608642578,22.284929275512695],\"y\":[35.922725677490234,14.13102912902832,13.935522079467773,25.9504451751709,43.85566711425781,11.42887020111084,18.056838989257812,7.506102561950684,36.57126235961914,9.252019882202148,7.943752765655518,27.100460052490234,8.681744575500488,24.486465454101562,32.311370849609375,22.035154342651367,15.552287101745605,28.93560028076172,19.651897430419922,18.97339630126953,2.160881519317627,42.3321533203125,3.193222999572754,29.411508560180664,12.817761421203613,40.591495513916016,24.410675048828125,38.24163818359375,21.37002944946289,10.919054985046387,33.46477508544922,42.6595573425293,7.073983669281006,6.204806804656982,31.711185455322266,13.306443214416504,-4.577503204345703,16.597509384155273,38.8298454284668,35.662445068359375,1.3824677467346191,23.091190338134766,4.3916754722595215,66.60557556152344,9.737428665161133,12.725150108337402,42.7652702331543,7.599973201751709,24.586780548095703,-7.534989356994629,25.59372901916504,14.551630020141602,30.360595703125,21.911224365234375,4.110654830932617,11.905198097229004,9.819938659667969,32.29173278808594,-0.3799690008163452,-7.851871967315674,1.9403424263000488,59.75038528442383,31.439054489135742,12.256580352783203,-6.681667327880859,5.807104110717773,32.159027099609375,6.796523094177246,-5.971858501434326,22.654258728027344,7.5764241218566895,23.846031188964844,2.9488532543182373,27.096084594726562,-11.50830364227295,2.331176996231079,-7.422783851623535,27.341739654541016,22.654117584228516,-1.8572121858596802,19.930757522583008,17.647409439086914,16.641969680786133,1.8261659145355225,23.567323684692383,17.278886795043945,6.935790538787842,16.522836685180664,-1.164661169052124,12.344599723815918,14.271845817565918,-0.6366279721260071,13.294169425964355,12.779515266418457,9.386844635009766,8.252523422241211,22.371288299560547,10.071693420410156,25.149538040161133,23.606521606445312,21.57587242126465,-17.417682647705078,18.655899047851562,21.42276954650879,9.282002449035645,7.235989570617676,10.706573486328125,10.95085334777832,8.201926231384277,12.40717887878418,11.915243148803711,42.641414642333984,8.700462341308594,13.746968269348145,7.1556925773620605,10.78486442565918,14.91001033782959,9.748248100280762,10.594999313354492,7.296443939208984,13.833026885986328,11.936604499816895,32.13788604736328,28.855127334594727,6.2822065353393555,30.62104606628418,39.981258392333984,43.24763107299805,3.967867612838745,40.68608093261719,31.368810653686523,17.157428741455078,27.957015991210938,19.151569366455078,6.475119590759277,42.44248962402344,2.4901180267333984,9.720891952514648,3.7551586627960205,22.970993041992188,4.806143760681152,4.845126628875732,10.687250137329102,4.327755928039551,26.4428653717041,36.71547317504883,5.603481769561768,37.264373779296875,31.3853702545166,0.16408143937587738,44.56779861450195,33.03150939941406,33.856571197509766,35.442752838134766,8.019692420959473,-8.85015869140625,-3.184669017791748,-3.8456530570983887,5.297758102416992,34.92172622680664,36.927059173583984,-5.297547817230225,17.427650451660156,13.918794631958008,35.007896423339844,-3.9760918617248535,16.162832260131836,35.57892990112305,-1.3451337814331055,8.251192092895508,9.0260009765625,-1.2618411779403687,40.40031433105469,-1.767958641052246,18.514169692993164,24.223388671875,-4.048883438110352,0.7570634484291077,-0.45229485630989075,20.76923179626465,-2.3073678016662598,-11.760886192321777,-2.266845226287842,12.259390830993652,19.423126220703125,9.192879676818848,2.7518935203552246,10.214640617370605,9.217255592346191,22.30584716796875,9.137520790100098,25.335994720458984,-14.465846061706543,24.448200225830078,9.540753364562988,11.08519458770752,8.542003631591797,11.151013374328613,11.940046310424805,14.31509017944336,10.101239204406738,13.486228942871094,10.8375883102417,11.583477973937988],\"z\":[5.8168253898620605,-21.3820858001709,-26.02112579345703,-21.729238510131836,-3.7784321308135986,-30.573514938354492,-23.78899383544922,-21.12174415588379,0.4842860996723175,-24.413700103759766,-29.579225540161133,-17.21922492980957,-29.19700050354004,-22.764877319335938,-3.4071192741394043,-20.095991134643555,-26.840534210205078,-12.876431465148926,-20.992544174194336,-22.112937927246094,-24.928831100463867,1.3392982482910156,-9.661981582641602,-0.8353308439254761,-28.130165100097656,-3.5932059288024902,-19.014638900756836,-1.315071940422058,-24.522563934326172,-27.052629470825195,-7.873538494110107,0.6900990009307861,-29.092561721801758,-31.185924530029297,-17.988819122314453,-21.65678596496582,-33.67805862426758,73.8567886352539,-9.526837348937988,-7.167135715484619,-34.627174377441406,-20.917863845825195,-29.894676208496094,-2.0550172328948975,-26.99646759033203,-23.70884132385254,-5.417999267578125,-32.647544860839844,-17.037246704101562,-31.62060546875,239.716796875,-21.366243362426758,-14.253371238708496,-17.414480209350586,-34.23719787597656,-27.826797485351562,-30.948036193847656,-3.680274248123169,-30.74943733215332,-35.562347412109375,-36.585018157958984,-16.906269073486328,-10.280692100524902,-23.622650146484375,-34.36848831176758,-30.726350784301758,-15.312973022460938,-32.0279541015625,-18.60561180114746,3.239884376525879,-16.355648040771484,-0.350166916847229,-21.037330627441406,-0.3802046477794647,-16.73946189880371,-16.75409507751465,-22.44613265991211,-2.1022424697875977,-4.4007110595703125,-29.55804443359375,-1.6893768310546875,-1.510080337524414,-9.639875411987305,-19.199848175048828,-2.9411470890045166,-6.211831569671631,-11.248101234436035,-4.252840042114258,-19.198013305664062,-6.047015190124512,-6.7096734046936035,-22.951927185058594,-9.668194770812988,6.791210651397705,-16.8520450592041,19.625478744506836,19.32184600830078,29.95144271850586,11.213606834411621,15.163322448730469,14.672515869140625,20.951534271240234,17.125629425048828,10.860676765441895,34.30753707885742,27.322982788085938,16.687564849853516,24.091432571411133,19.75490379333496,33.023277282714844,14.358061790466309,-25.78754997253418,25.26527976989746,10.936766624450684,25.10773468017578,8.950390815734863,6.995655536651611,12.114498138427734,22.43658447265625,22.58118438720703,9.737666130065918,11.745050430297852,5.454796314239502,-6.674811840057373,-30.735986709594727,-13.654102325439453,-8.963502883911133,-7.693188190460205,-28.425596237182617,-4.013869762420654,2.271423578262329,-20.86273193359375,-19.872522354125977,-26.11638641357422,-27.472850799560547,-5.673404693603516,-28.270822525024414,-23.982465744018555,-13.735467910766602,-23.01707649230957,-28.57994270324707,-17.739055633544922,-28.10502052307129,-26.07408332824707,-18.22887420654297,-10.5384521484375,-24.316556930541992,-12.276164054870605,-4.994287014007568,-27.81255340576172,-1.821712613105774,1.8572583198547363,-7.605228424072266,-4.760988235473633,-27.72223663330078,-36.56403732299805,-32.723201751708984,-38.18871307373047,-34.71680450439453,-12.17208194732666,-3.020695447921753,-37.81449890136719,-20.61493492126465,-27.192346572875977,-12.330978393554688,-34.49563217163086,-24.00265884399414,-15.712998390197754,-37.235286712646484,-28.864561080932617,-25.533395767211914,-36.0584831237793,-5.590236186981201,-35.61910629272461,-20.79570770263672,0.575212836265564,-22.87643051147461,-23.704357147216797,-12.970426559448242,-0.7846923470497131,-21.034500122070312,-20.091135025024414,-15.569310188293457,-7.930481433868408,-5.5041680335998535,-12.392892837524414,-12.530016899108887,29.63280487060547,31.5484561920166,8.287672996520996,31.895126342773438,11.059225082397461,-19.41793441772461,7.351991176605225,13.108871459960938,27.871444702148438,16.657373428344727,26.320215225219727,18.87700843811035,21.598779678344727,22.874103546142578,26.468914031982422,22.31829071044922,25.558242797851562],\"type\":\"scatter3d\"},{\"hovertemplate\":\"color=b<br>x=%{x}<br>y=%{y}<br>z=%{z}<extra></extra>\",\"legendgroup\":\"b\",\"marker\":{\"color\":\"#EF553B\",\"symbol\":\"circle\"},\"mode\":\"markers\",\"name\":\"b\",\"scene\":\"scene\",\"showlegend\":true,\"x\":[-16.822650909423828,-49.39965057373047,-42.795692443847656,-21.344249725341797,-25.461931228637695,-17.483646392822266,-32.733314514160156,-24.241518020629883,-31.977890014648438,-36.49922561645508,-45.48850631713867,-19.285551071166992,-46.284759521484375,-23.104211807250977,-20.900346755981445,-23.937450408935547,-31.07014274597168,-31.920787811279297,-40.64645767211914,-38.054603576660156,-47.17422866821289,-27.272750854492188,-13.470775604248047,-47.790645599365234,-25.72091293334961,-14.55036735534668,-33.91830062866211,-46.7971305847168,-21.803001403808594,-46.36410140991211,-35.17536544799805,-17.974720001220703,-18.646787643432617,-21.651941299438477,0.4075632095336914,-13.981273651123047,0.3447377681732178,-18.89834213256836,-16.19564437866211,3.140899419784546,-22.55308723449707,-22.65562629699707,-0.060101576149463654,-0.7936458587646484,-17.555368423461914,-10.721659660339355,-16.148483276367188,-22.341880798339844,-22.72369956970215,-13.028511047363281,-8.545669555664062,-13.910672187805176,0.5921189188957214,-14.52842903137207,-21.77710723876953,-18.264860153198242,-22.563655853271484,0.20385026931762695,-4.701167583465576,1.6178152561187744,-16.81120491027832,-18.903366088867188,24.573030471801758,15.339200019836426,23.716899871826172,2.241644859313965,9.47315788269043,9.107170104980469,2.696962833404541,15.595996856689453,11.48470687866211,11.878907203674316,20.043367385864258,4.6845927238464355,6.0786261558532715,10.031150817871094,12.687679290771484,7.3835129737854,5.852301120758057,8.84896469116211,4.991186618804932,-12.906111717224121,5.038982391357422,6.433780193328857,1.4961940050125122,8.879339218139648,16.403331756591797,12.368870735168457,13.81178092956543,7.219574451446533,9.502975463867188,8.58479118347168,12.237604141235352,8.833601951599121,4.1392502784729,18.185205459594727,7.0952863693237305,-1.2226147651672363,23.871938705444336,12.335711479187012,-6.668420314788818,3.1785666942596436,-6.940609931945801,2.167938709259033,-5.020781993865967,-11.989901542663574,-9.028367042541504,4.969753265380859,-13.640060424804688,-0.5617701411247253,9.07393741607666,11.781044006347656,-8.347626686096191,2.4779205322265625,-5.4254655838012695,-0.3685187101364136,-13.536191940307617,-14.889735221862793,-1.512008786201477,-10.572601318359375,7.063409328460693,8.019389152526855,11.630135536193848,7.181481838226318,46.00409698486328,7.644443511962891,-16.012794494628906,10.322341918945312,-12.858540534973145,-2.3237509727478027,5.5148396492004395,5.692639350891113,10.46607780456543,-7.399155616760254,12.236316680908203,7.331542015075684,-21.064739227294922,-18.615015029907227,-9.400259971618652,-32.07025146484375,-27.591981887817383,-46.00606155395508,-26.467159271240234,-11.377697944641113,-28.746112823486328,-42.43263626098633,-12.118288040161133,-36.13899612426758,-24.882373809814453,-40.333988189697266,-29.823400497436523,-456.2898864746094,7.38869047164917,-18.51105308532715,-20.316526412963867,-38.623165130615234,-13.736462593078613,-41.04960250854492,-16.34224510192871,-11.020339965820312,-7.910359859466553,-32.941097259521484,-16.397624969482422,-18.877254486083984,-6.485118389129639,-19.89840316772461,-18.467571258544922,-2.8718912601470947,-4.004284381866455,2.619084358215332,-15.076781272888184,0.08586261421442032,-1.284684419631958,2.394094228744507,-17.82406997680664,3.1057519912719727,-20.834470748901367,-6.645021438598633,-0.9430211186408997,-17.268545150756836,3.4498560428619385,6.338685512542725,5.577123165130615,20.71617889404297,6.600318431854248,13.824715614318848,-13.054549217224121,2.9771065711975098,-4.404337406158447,-11.873586654663086,4.391490459442139,-16.661724090576172,-9.645992279052734,-93.683837890625,-7.636730194091797,0.5679864883422852,-14.055168151855469,-10.169634819030762,5.8452277183532715],\"y\":[-28.599925994873047,-10.496481895446777,-0.7150207757949829,-30.018110275268555,-14.783294677734375,-27.7197265625,-4.371962547302246,-22.510534286499023,-0.6587179899215698,-10.558356285095215,-9.403033256530762,-25.21457862854004,1.4767169952392578,-18.64919662475586,53.378841400146484,-16.058134078979492,-8.236431121826172,-11.5612154006958,-2.9173927307128906,-9.13534164428711,-5.571140766143799,-20.627683639526367,-20.01321029663086,-8.554363250732422,3.878140449523926,-9.778741836547852,-0.16450761258602142,-2.169846296310425,-14.032255172729492,2.629030466079712,2.8495986461639404,2.2028632164001465,-15.422771453857422,0.4951074421405792,1.8972957134246826,3.1074705123901367,6.443424224853516,-17.389612197875977,-8.611226081848145,0.44145891070365906,-15.357054710388184,1.8845208883285522,-1.3469034433364868,8.65053653717041,-0.8942708373069763,4.376777648925781,1.5898655652999878,-17.511959075927734,-2.7408711910247803,4.913856506347656,4.290068626403809,-3.8257787227630615,-2.369314432144165,2.587691068649292,4.729564189910889,-19.9576358795166,-13.174420356750488,2.9193058013916016,5.921625137329102,-1.6807132959365845,6.130126476287842,-13.157781600952148,-13.22385311126709,-14.928306579589844,-14.00196361541748,-4.707040309906006,-5.553106784820557,-6.172765731811523,-6.083141326904297,-12.852591514587402,-14.624302864074707,-16.989368438720703,-16.535179138183594,-8.096137046813965,-8.648439407348633,-17.343385696411133,-12.295158386230469,-12.351204872131348,-16.828969955444336,-16.676023483276367,-16.708698272705078,-7.712678909301758,-6.246535301208496,-20.16769027709961,-8.69201946258545,-13.669449806213379,-16.477487564086914,-16.12377166748047,-10.344816207885742,-13.929681777954102,-9.094193458557129,-19.734310150146484,-20.389284133911133,-9.549301147460938,-12.588605880737305,-13.305061340332031,-9.958097457885742,-3.641934394836426,-16.979398727416992,-34.130340576171875,-38.8309211730957,-22.717079162597656,-41.327674865722656,-35.7883186340332,-27.92157554626465,-40.47600555419922,-35.46875,19.855892181396484,-45.999088287353516,-34.81201934814453,-24.99074935913086,-15.741121292114258,-37.43214416503906,-29.14955711364746,-39.841636657714844,-32.43231964111328,-42.054561614990234,-44.781185150146484,-36.96426010131836,-40.94893264770508,-32.7647590637207,-36.53717803955078,-30.32036018371582,-15.248553276062012,-33.2227783203125,-30.326932907104492,-45.257266998291016,-31.926437377929688,-45.8526725769043,-23.79541015625,-35.245704650878906,-18.015134811401367,-26.92793846130371,-36.67508316040039,-18.587879180908203,-35.80337905883789,-26.404216766357422,-13.605611801147461,-15.183632850646973,1.553058385848999,-12.173080444335938,-12.32067584991455,-8.881789207458496,-11.7959566116333,-7.807506084442139,3.2678065299987793,-16.515052795410156,-4.6959357261657715,-8.47089958190918,-5.3941521644592285,-11.922337532043457,-302.0281982421875,-60.05851364135742,-15.538965225219727,-11.413725852966309,0.5542541742324829,-14.24774169921875,-10.682809829711914,-24.83991813659668,-18.71875762939453,-20.037574768066406,-9.220967292785645,-12.353191375732422,5.030978679656982,5.7682414054870605,-4.207118988037109,3.0606532096862793,3.2834300994873047,1.1891841888427734,-21.629451751708984,7.338028907775879,-21.39366912841797,1.470876693725586,-24.639142990112305,-0.4972001910209656,1.4655126333236694,-7.7200164794921875,1.4166902303695679,-24.354713439941406,5.381312370300293,-39.685157775878906,-3.161134958267212,-6.502359390258789,-14.517918586730957,-6.617073059082031,-14.149086952209473,-50.34455490112305,-30.80486488342285,-35.02500534057617,-42.593475341796875,-33.080814361572266,-48.06392288208008,-43.8515739440918,-63.7742805480957,-32.8321647644043,3.7214879989624023,-48.9123420715332,-46.39421844482422,-27.901395797729492],\"z\":[33.52610397338867,2.444183588027954,-4.472977161407471,31.861804962158203,32.748905181884766,37.189815521240234,3.851856231689453,31.61870002746582,1.6737146377563477,5.405576229095459,1.7811448574066162,31.78816795349121,-5.672760963439941,31.9556884765625,125.64574432373047,36.20995330810547,32.89856719970703,35.27460479736328,1.9910587072372437,8.647953987121582,0.6054890751838684,30.741924285888672,42.24124526977539,5.616896629333496,-9.01623821258545,43.90907669067383,-1.1675693988800049,-2.5310606956481934,33.8502197265625,-1.7316131591796875,-5.049018859863281,-4.545928478240967,10.74067497253418,10.418437004089355,20.7386474609375,-2.426177740097046,23.54466438293457,6.714169025421143,9.173133850097656,28.313512802124023,6.034440517425537,6.306940078735352,30.684783935546875,21.458824157714844,6.155144214630127,36.29490280151367,0.8089843392372131,9.657200813293457,8.167305946350098,1.280754566192627,32.32023239135742,6.946134090423584,26.626850128173828,4.64308500289917,-7.637720108032227,10.417008399963379,9.823871612548828,31.12822914123535,32.096405029296875,22.033491134643555,-6.230306625366211,7.1384382247924805,11.82937240600586,15.885846138000488,7.990316390991211,-6.217715263366699,4.314609050750732,-0.7241188883781433,-9.98575496673584,9.797197341918945,19.636438369750977,27.046123504638672,7.298007965087891,-4.063405513763428,-7.591188907623291,23.556074142456055,0.7650196552276611,-4.324703216552734,28.855613708496094,31.980281829833984,33.5184326171875,8.310609817504883,25.667417526245117,33.03346633911133,-7.272939682006836,28.54404640197754,10.189713478088379,14.70949935913086,3.8012237548828125,25.040786743164062,-3.1974411010742188,28.498260498046875,30.87400245666504,1.238881230354309,-9.934831619262695,6.954226016998291,25.21449089050293,-7.881289005279541,10.863962173461914,-4.7493462562561035,-6.5864386558532715,-11.774182319641113,2.5580832958221436,-3.1622493267059326,-11.894947052001953,-0.763357937335968,-6.574005126953125,28.48706817626953,6.0969953536987305,-9.569856643676758,-7.908479690551758,8.332138061523438,-2.4932162761688232,-13.76860237121582,-1.603881597518921,-12.251422882080078,5.507862567901611,1.2219104766845703,-4.022248268127441,-4.116950511932373,-8.447087287902832,4.959840774536133,-5.893196105957031,-8.043238639831543,20.290987014770508,-5.420224189758301,10.746309280395508,-2.3039586544036865,13.510771751403809,-12.343932151794434,-4.137907981872559,-9.895276069641113,-10.274495124816895,-10.347251892089844,19.297513961791992,0.693530797958374,34.73118209838867,42.36494445800781,44.201019287109375,-5.778939247131348,36.05021667480469,4.63361120223999,33.655784606933594,42.43116760253906,37.17819595336914,-4.306389808654785,41.04791259765625,4.633265018463135,37.542198181152344,4.993454456329346,31.67388916015625,-1184.2711181640625,122.69407653808594,39.08221435546875,39.4496955871582,-1.7963697910308838,44.6135368347168,6.116008758544922,35.10211181640625,45.73445510864258,43.604400634765625,7.021518230438232,39.048946380615234,-1.6818139553070068,36.01001739501953,11.153938293457031,7.111074447631836,35.0716552734375,31.048648834228516,39.19319534301758,-2.389935255050659,42.48314666748047,27.38381576538086,41.99031066894531,10.200085639953613,24.043920516967773,9.874095916748047,34.848243713378906,39.60695266723633,2.5961873531341553,28.51122283935547,4.971691131591797,2.7791099548339844,12.18494701385498,6.987124919891357,4.265190124511719,16.33561134338379,-9.175715446472168,-6.804567813873291,9.073599815368652,-11.932153701782227,14.655389785766602,5.779026508331299,12.392186164855957,-9.701878547668457,-6.171171188354492,10.824557304382324,9.166852951049805,-11.992980003356934],\"type\":\"scatter3d\"}],                        {\"template\":{\"data\":{\"histogram2dcontour\":[{\"type\":\"histogram2dcontour\",\"colorbar\":{\"outlinewidth\":0,\"ticks\":\"\"},\"colorscale\":[[0.0,\"#0d0887\"],[0.1111111111111111,\"#46039f\"],[0.2222222222222222,\"#7201a8\"],[0.3333333333333333,\"#9c179e\"],[0.4444444444444444,\"#bd3786\"],[0.5555555555555556,\"#d8576b\"],[0.6666666666666666,\"#ed7953\"],[0.7777777777777778,\"#fb9f3a\"],[0.8888888888888888,\"#fdca26\"],[1.0,\"#f0f921\"]]}],\"choropleth\":[{\"type\":\"choropleth\",\"colorbar\":{\"outlinewidth\":0,\"ticks\":\"\"}}],\"histogram2d\":[{\"type\":\"histogram2d\",\"colorbar\":{\"outlinewidth\":0,\"ticks\":\"\"},\"colorscale\":[[0.0,\"#0d0887\"],[0.1111111111111111,\"#46039f\"],[0.2222222222222222,\"#7201a8\"],[0.3333333333333333,\"#9c179e\"],[0.4444444444444444,\"#bd3786\"],[0.5555555555555556,\"#d8576b\"],[0.6666666666666666,\"#ed7953\"],[0.7777777777777778,\"#fb9f3a\"],[0.8888888888888888,\"#fdca26\"],[1.0,\"#f0f921\"]]}],\"heatmap\":[{\"type\":\"heatmap\",\"colorbar\":{\"outlinewidth\":0,\"ticks\":\"\"},\"colorscale\":[[0.0,\"#0d0887\"],[0.1111111111111111,\"#46039f\"],[0.2222222222222222,\"#7201a8\"],[0.3333333333333333,\"#9c179e\"],[0.4444444444444444,\"#bd3786\"],[0.5555555555555556,\"#d8576b\"],[0.6666666666666666,\"#ed7953\"],[0.7777777777777778,\"#fb9f3a\"],[0.8888888888888888,\"#fdca26\"],[1.0,\"#f0f921\"]]}],\"heatmapgl\":[{\"type\":\"heatmapgl\",\"colorbar\":{\"outlinewidth\":0,\"ticks\":\"\"},\"colorscale\":[[0.0,\"#0d0887\"],[0.1111111111111111,\"#46039f\"],[0.2222222222222222,\"#7201a8\"],[0.3333333333333333,\"#9c179e\"],[0.4444444444444444,\"#bd3786\"],[0.5555555555555556,\"#d8576b\"],[0.6666666666666666,\"#ed7953\"],[0.7777777777777778,\"#fb9f3a\"],[0.8888888888888888,\"#fdca26\"],[1.0,\"#f0f921\"]]}],\"contourcarpet\":[{\"type\":\"contourcarpet\",\"colorbar\":{\"outlinewidth\":0,\"ticks\":\"\"}}],\"contour\":[{\"type\":\"contour\",\"colorbar\":{\"outlinewidth\":0,\"ticks\":\"\"},\"colorscale\":[[0.0,\"#0d0887\"],[0.1111111111111111,\"#46039f\"],[0.2222222222222222,\"#7201a8\"],[0.3333333333333333,\"#9c179e\"],[0.4444444444444444,\"#bd3786\"],[0.5555555555555556,\"#d8576b\"],[0.6666666666666666,\"#ed7953\"],[0.7777777777777778,\"#fb9f3a\"],[0.8888888888888888,\"#fdca26\"],[1.0,\"#f0f921\"]]}],\"surface\":[{\"type\":\"surface\",\"colorbar\":{\"outlinewidth\":0,\"ticks\":\"\"},\"colorscale\":[[0.0,\"#0d0887\"],[0.1111111111111111,\"#46039f\"],[0.2222222222222222,\"#7201a8\"],[0.3333333333333333,\"#9c179e\"],[0.4444444444444444,\"#bd3786\"],[0.5555555555555556,\"#d8576b\"],[0.6666666666666666,\"#ed7953\"],[0.7777777777777778,\"#fb9f3a\"],[0.8888888888888888,\"#fdca26\"],[1.0,\"#f0f921\"]]}],\"mesh3d\":[{\"type\":\"mesh3d\",\"colorbar\":{\"outlinewidth\":0,\"ticks\":\"\"}}],\"scatter\":[{\"fillpattern\":{\"fillmode\":\"overlay\",\"size\":10,\"solidity\":0.2},\"type\":\"scatter\"}],\"parcoords\":[{\"type\":\"parcoords\",\"line\":{\"colorbar\":{\"outlinewidth\":0,\"ticks\":\"\"}}}],\"scatterpolargl\":[{\"type\":\"scatterpolargl\",\"marker\":{\"colorbar\":{\"outlinewidth\":0,\"ticks\":\"\"}}}],\"bar\":[{\"error_x\":{\"color\":\"#2a3f5f\"},\"error_y\":{\"color\":\"#2a3f5f\"},\"marker\":{\"line\":{\"color\":\"#E5ECF6\",\"width\":0.5},\"pattern\":{\"fillmode\":\"overlay\",\"size\":10,\"solidity\":0.2}},\"type\":\"bar\"}],\"scattergeo\":[{\"type\":\"scattergeo\",\"marker\":{\"colorbar\":{\"outlinewidth\":0,\"ticks\":\"\"}}}],\"scatterpolar\":[{\"type\":\"scatterpolar\",\"marker\":{\"colorbar\":{\"outlinewidth\":0,\"ticks\":\"\"}}}],\"histogram\":[{\"marker\":{\"pattern\":{\"fillmode\":\"overlay\",\"size\":10,\"solidity\":0.2}},\"type\":\"histogram\"}],\"scattergl\":[{\"type\":\"scattergl\",\"marker\":{\"colorbar\":{\"outlinewidth\":0,\"ticks\":\"\"}}}],\"scatter3d\":[{\"type\":\"scatter3d\",\"line\":{\"colorbar\":{\"outlinewidth\":0,\"ticks\":\"\"}},\"marker\":{\"colorbar\":{\"outlinewidth\":0,\"ticks\":\"\"}}}],\"scattermapbox\":[{\"type\":\"scattermapbox\",\"marker\":{\"colorbar\":{\"outlinewidth\":0,\"ticks\":\"\"}}}],\"scatterternary\":[{\"type\":\"scatterternary\",\"marker\":{\"colorbar\":{\"outlinewidth\":0,\"ticks\":\"\"}}}],\"scattercarpet\":[{\"type\":\"scattercarpet\",\"marker\":{\"colorbar\":{\"outlinewidth\":0,\"ticks\":\"\"}}}],\"carpet\":[{\"aaxis\":{\"endlinecolor\":\"#2a3f5f\",\"gridcolor\":\"white\",\"linecolor\":\"white\",\"minorgridcolor\":\"white\",\"startlinecolor\":\"#2a3f5f\"},\"baxis\":{\"endlinecolor\":\"#2a3f5f\",\"gridcolor\":\"white\",\"linecolor\":\"white\",\"minorgridcolor\":\"white\",\"startlinecolor\":\"#2a3f5f\"},\"type\":\"carpet\"}],\"table\":[{\"cells\":{\"fill\":{\"color\":\"#EBF0F8\"},\"line\":{\"color\":\"white\"}},\"header\":{\"fill\":{\"color\":\"#C8D4E3\"},\"line\":{\"color\":\"white\"}},\"type\":\"table\"}],\"barpolar\":[{\"marker\":{\"line\":{\"color\":\"#E5ECF6\",\"width\":0.5},\"pattern\":{\"fillmode\":\"overlay\",\"size\":10,\"solidity\":0.2}},\"type\":\"barpolar\"}],\"pie\":[{\"automargin\":true,\"type\":\"pie\"}]},\"layout\":{\"autotypenumbers\":\"strict\",\"colorway\":[\"#636efa\",\"#EF553B\",\"#00cc96\",\"#ab63fa\",\"#FFA15A\",\"#19d3f3\",\"#FF6692\",\"#B6E880\",\"#FF97FF\",\"#FECB52\"],\"font\":{\"color\":\"#2a3f5f\"},\"hovermode\":\"closest\",\"hoverlabel\":{\"align\":\"left\"},\"paper_bgcolor\":\"white\",\"plot_bgcolor\":\"#E5ECF6\",\"polar\":{\"bgcolor\":\"#E5ECF6\",\"angularaxis\":{\"gridcolor\":\"white\",\"linecolor\":\"white\",\"ticks\":\"\"},\"radialaxis\":{\"gridcolor\":\"white\",\"linecolor\":\"white\",\"ticks\":\"\"}},\"ternary\":{\"bgcolor\":\"#E5ECF6\",\"aaxis\":{\"gridcolor\":\"white\",\"linecolor\":\"white\",\"ticks\":\"\"},\"baxis\":{\"gridcolor\":\"white\",\"linecolor\":\"white\",\"ticks\":\"\"},\"caxis\":{\"gridcolor\":\"white\",\"linecolor\":\"white\",\"ticks\":\"\"}},\"coloraxis\":{\"colorbar\":{\"outlinewidth\":0,\"ticks\":\"\"}},\"colorscale\":{\"sequential\":[[0.0,\"#0d0887\"],[0.1111111111111111,\"#46039f\"],[0.2222222222222222,\"#7201a8\"],[0.3333333333333333,\"#9c179e\"],[0.4444444444444444,\"#bd3786\"],[0.5555555555555556,\"#d8576b\"],[0.6666666666666666,\"#ed7953\"],[0.7777777777777778,\"#fb9f3a\"],[0.8888888888888888,\"#fdca26\"],[1.0,\"#f0f921\"]],\"sequentialminus\":[[0.0,\"#0d0887\"],[0.1111111111111111,\"#46039f\"],[0.2222222222222222,\"#7201a8\"],[0.3333333333333333,\"#9c179e\"],[0.4444444444444444,\"#bd3786\"],[0.5555555555555556,\"#d8576b\"],[0.6666666666666666,\"#ed7953\"],[0.7777777777777778,\"#fb9f3a\"],[0.8888888888888888,\"#fdca26\"],[1.0,\"#f0f921\"]],\"diverging\":[[0,\"#8e0152\"],[0.1,\"#c51b7d\"],[0.2,\"#de77ae\"],[0.3,\"#f1b6da\"],[0.4,\"#fde0ef\"],[0.5,\"#f7f7f7\"],[0.6,\"#e6f5d0\"],[0.7,\"#b8e186\"],[0.8,\"#7fbc41\"],[0.9,\"#4d9221\"],[1,\"#276419\"]]},\"xaxis\":{\"gridcolor\":\"white\",\"linecolor\":\"white\",\"ticks\":\"\",\"title\":{\"standoff\":15},\"zerolinecolor\":\"white\",\"automargin\":true,\"zerolinewidth\":2},\"yaxis\":{\"gridcolor\":\"white\",\"linecolor\":\"white\",\"ticks\":\"\",\"title\":{\"standoff\":15},\"zerolinecolor\":\"white\",\"automargin\":true,\"zerolinewidth\":2},\"scene\":{\"xaxis\":{\"backgroundcolor\":\"#E5ECF6\",\"gridcolor\":\"white\",\"linecolor\":\"white\",\"showbackground\":true,\"ticks\":\"\",\"zerolinecolor\":\"white\",\"gridwidth\":2},\"yaxis\":{\"backgroundcolor\":\"#E5ECF6\",\"gridcolor\":\"white\",\"linecolor\":\"white\",\"showbackground\":true,\"ticks\":\"\",\"zerolinecolor\":\"white\",\"gridwidth\":2},\"zaxis\":{\"backgroundcolor\":\"#E5ECF6\",\"gridcolor\":\"white\",\"linecolor\":\"white\",\"showbackground\":true,\"ticks\":\"\",\"zerolinecolor\":\"white\",\"gridwidth\":2}},\"shapedefaults\":{\"line\":{\"color\":\"#2a3f5f\"}},\"annotationdefaults\":{\"arrowcolor\":\"#2a3f5f\",\"arrowhead\":0,\"arrowwidth\":1},\"geo\":{\"bgcolor\":\"white\",\"landcolor\":\"#E5ECF6\",\"subunitcolor\":\"white\",\"showland\":true,\"showlakes\":true,\"lakecolor\":\"white\"},\"title\":{\"x\":0.05},\"mapbox\":{\"style\":\"light\"}}},\"scene\":{\"domain\":{\"x\":[0.0,1.0],\"y\":[0.0,1.0]},\"xaxis\":{\"title\":{\"text\":\"x\"}},\"yaxis\":{\"title\":{\"text\":\"y\"}},\"zaxis\":{\"title\":{\"text\":\"z\"}}},\"legend\":{\"title\":{\"text\":\"color\"},\"tracegroupgap\":0},\"margin\":{\"t\":60}},                        {\"responsive\": true}                    ).then(function(){\n",
       "                            \n",
       "var gd = document.getElementById('ff0bb72e-4b28-418d-9273-f2170d624a05');\n",
       "var x = new MutationObserver(function (mutations, observer) {{\n",
       "        var display = window.getComputedStyle(gd).display;\n",
       "        if (!display || display === 'none') {{\n",
       "            console.log([gd, 'removed!']);\n",
       "            Plotly.purge(gd);\n",
       "            observer.disconnect();\n",
       "        }}\n",
       "}});\n",
       "\n",
       "// Listen for the removal of the full notebook cells\n",
       "var notebookContainer = gd.closest('#notebook-container');\n",
       "if (notebookContainer) {{\n",
       "    x.observe(notebookContainer, {childList: true});\n",
       "}}\n",
       "\n",
       "// Listen for the clearing of the current output cell\n",
       "var outputEl = gd.closest('.output');\n",
       "if (outputEl) {{\n",
       "    x.observe(outputEl, {childList: true});\n",
       "}}\n",
       "\n",
       "                        })                };                });            </script>        </div>"
      ]
     },
     "metadata": {},
     "output_type": "display_data"
    }
   ],
   "source": [
    "# plot using tsne \n",
    "X_embedded  = TSNE(n_components=3, perplexity=10,random_state=24).fit_transform( X )\n",
    "colors = np.array([x for x in 'bgrcmykbgrcmykbgrcmykbgrcmyk'])\n",
    "fig = px.scatter_3d(x=X_embedded [:,0],y=X_embedded [:,1],z=X_embedded [:,2],color=colors[Spectral_clustering.labels_])\n",
    "fig.show()"
   ]
  },
  {
   "cell_type": "markdown",
   "metadata": {},
   "source": [
    "### Affinity Propagation\n",
    "\n",
    "In Affinity Propagation, each data point is considered as a node in a network that communicates with all other nodes to let each other know that how similar they are and starts forming clusters on the basis of nodes similarity in the data set. \n",
    "\n",
    "As messages are sent between nodes, sets of nodes (exemplars) are found and they represent the clusters."
   ]
  },
  {
   "cell_type": "code",
   "execution_count": 261,
   "metadata": {},
   "outputs": [],
   "source": [
    "aff_prop_grid = {\n",
    "        \"max_iter\": [50, 100, 150, 200],\n",
    "        \"convergence_iter\" : range(2,5),\n",
    "        \"damping\" : np.arange(0.5,1.1,0.1),\n",
    "        \"affinity\": ['euclidean']#,'precomputed']\n",
    "       }\n",
    "#aff_prop_grid"
   ]
  },
  {
   "cell_type": "code",
   "execution_count": 262,
   "metadata": {},
   "outputs": [],
   "source": [
    "#aff_prop_grid\n",
    "aff_prop_model = AffinityPropagation()\n",
    "aff_prop_params = GridSearchCV(aff_prop_model,aff_prop_grid,scoring=silhouette_score2,cv= 10).fit(X, y)"
   ]
  },
  {
   "cell_type": "code",
   "execution_count": 263,
   "metadata": {},
   "outputs": [
    {
     "data": {
      "text/plain": [
       "(0.5573391618780417,\n",
       " {'affinity': 'euclidean',\n",
       "  'convergence_iter': 2,\n",
       "  'damping': 0.5,\n",
       "  'max_iter': 50})"
      ]
     },
     "execution_count": 263,
     "metadata": {},
     "output_type": "execute_result"
    }
   ],
   "source": [
    "aff_prop_params.best_score_, aff_prop_params.best_params_"
   ]
  },
  {
   "cell_type": "code",
   "execution_count": 264,
   "metadata": {},
   "outputs": [],
   "source": [
    "aff_prop_clustering = AffinityPropagation(affinity = aff_prop_params.best_params_['affinity'],\n",
    "                           convergence_iter = aff_prop_params.best_params_['convergence_iter'],\n",
    "                           damping = aff_prop_params.best_params_['damping'],\n",
    "                           max_iter = aff_prop_params.best_params_['max_iter']\n",
    "                          ).fit(X)\n",
    "cluster = list(aff_prop_clustering.labels_)\n",
    "values, counts = np.unique(cluster, return_counts=True)      \n",
    "aff_prop_dataset = pd.DataFrame(X.copy())\n",
    "aff_prop_dataset.loc[:,'Cluster'] = aff_prop_clustering.labels_\n"
   ]
  },
  {
   "cell_type": "code",
   "execution_count": 265,
   "metadata": {},
   "outputs": [
    {
     "data": {
      "text/html": [
       "<div>\n",
       "<style scoped>\n",
       "    .dataframe tbody tr th:only-of-type {\n",
       "        vertical-align: middle;\n",
       "    }\n",
       "\n",
       "    .dataframe tbody tr th {\n",
       "        vertical-align: top;\n",
       "    }\n",
       "\n",
       "    .dataframe thead th {\n",
       "        text-align: right;\n",
       "    }\n",
       "</style>\n",
       "<table border=\"1\" class=\"dataframe\">\n",
       "  <thead>\n",
       "    <tr style=\"text-align: right;\">\n",
       "      <th></th>\n",
       "      <th>Cluster</th>\n",
       "    </tr>\n",
       "  </thead>\n",
       "  <tbody>\n",
       "    <tr>\n",
       "      <th>5</th>\n",
       "      <td>55</td>\n",
       "    </tr>\n",
       "    <tr>\n",
       "      <th>12</th>\n",
       "      <td>45</td>\n",
       "    </tr>\n",
       "    <tr>\n",
       "      <th>11</th>\n",
       "      <td>40</td>\n",
       "    </tr>\n",
       "    <tr>\n",
       "      <th>8</th>\n",
       "      <td>37</td>\n",
       "    </tr>\n",
       "    <tr>\n",
       "      <th>10</th>\n",
       "      <td>30</td>\n",
       "    </tr>\n",
       "    <tr>\n",
       "      <th>4</th>\n",
       "      <td>29</td>\n",
       "    </tr>\n",
       "    <tr>\n",
       "      <th>3</th>\n",
       "      <td>26</td>\n",
       "    </tr>\n",
       "    <tr>\n",
       "      <th>0</th>\n",
       "      <td>26</td>\n",
       "    </tr>\n",
       "    <tr>\n",
       "      <th>2</th>\n",
       "      <td>25</td>\n",
       "    </tr>\n",
       "    <tr>\n",
       "      <th>1</th>\n",
       "      <td>24</td>\n",
       "    </tr>\n",
       "    <tr>\n",
       "      <th>7</th>\n",
       "      <td>17</td>\n",
       "    </tr>\n",
       "    <tr>\n",
       "      <th>6</th>\n",
       "      <td>17</td>\n",
       "    </tr>\n",
       "    <tr>\n",
       "      <th>13</th>\n",
       "      <td>16</td>\n",
       "    </tr>\n",
       "    <tr>\n",
       "      <th>9</th>\n",
       "      <td>16</td>\n",
       "    </tr>\n",
       "  </tbody>\n",
       "</table>\n",
       "</div>"
      ],
      "text/plain": [
       "    Cluster\n",
       "5        55\n",
       "12       45\n",
       "11       40\n",
       "8        37\n",
       "10       30\n",
       "4        29\n",
       "3        26\n",
       "0        26\n",
       "2        25\n",
       "1        24\n",
       "7        17\n",
       "6        17\n",
       "13       16\n",
       "9        16"
      ]
     },
     "execution_count": 265,
     "metadata": {},
     "output_type": "execute_result"
    }
   ],
   "source": [
    "aff_prop_dataset.Cluster.value_counts().to_frame()"
   ]
  },
  {
   "cell_type": "code",
   "execution_count": 266,
   "metadata": {},
   "outputs": [
    {
     "data": {
      "text/html": [
       "<div>\n",
       "<style scoped>\n",
       "    .dataframe tbody tr th:only-of-type {\n",
       "        vertical-align: middle;\n",
       "    }\n",
       "\n",
       "    .dataframe tbody tr th {\n",
       "        vertical-align: top;\n",
       "    }\n",
       "\n",
       "    .dataframe thead th {\n",
       "        text-align: right;\n",
       "    }\n",
       "</style>\n",
       "<table border=\"1\" class=\"dataframe\">\n",
       "  <thead>\n",
       "    <tr style=\"text-align: right;\">\n",
       "      <th></th>\n",
       "      <th>silhouette_score</th>\n",
       "      <th>davies_bouldin_score</th>\n",
       "      <th>calinski_harabasz_score</th>\n",
       "      <th>fowlkes_mallows_score</th>\n",
       "      <th>adjusted_rand_score</th>\n",
       "      <th>adjusted_mutual_info_score</th>\n",
       "      <th>homogeneity_score</th>\n",
       "      <th>completeness_score</th>\n",
       "      <th>v_measure_score</th>\n",
       "    </tr>\n",
       "  </thead>\n",
       "  <tbody>\n",
       "    <tr>\n",
       "      <th>AffinityPropagation</th>\n",
       "      <td>0.457119</td>\n",
       "      <td>0.754832</td>\n",
       "      <td>553.329499</td>\n",
       "      <td>0.365079</td>\n",
       "      <td>0.208212</td>\n",
       "      <td>0.429078</td>\n",
       "      <td>0.649294</td>\n",
       "      <td>0.337406</td>\n",
       "      <td>0.444058</td>\n",
       "    </tr>\n",
       "  </tbody>\n",
       "</table>\n",
       "</div>"
      ],
      "text/plain": [
       "                     silhouette_score  davies_bouldin_score  \\\n",
       "AffinityPropagation          0.457119              0.754832   \n",
       "\n",
       "                     calinski_harabasz_score  fowlkes_mallows_score  \\\n",
       "AffinityPropagation               553.329499               0.365079   \n",
       "\n",
       "                     adjusted_rand_score  adjusted_mutual_info_score  \\\n",
       "AffinityPropagation             0.208212                    0.429078   \n",
       "\n",
       "                     homogeneity_score  completeness_score  v_measure_score  \n",
       "AffinityPropagation           0.649294            0.337406         0.444058  "
      ]
     },
     "execution_count": 266,
     "metadata": {},
     "output_type": "execute_result"
    }
   ],
   "source": [
    "\n",
    "aff_prop_df = pd.DataFrame(estimator_evaluation(aff_prop_clustering, 'AffinityPropagation ', X , y), index=[\"AffinityPropagation\"])\n",
    "aff_prop_df"
   ]
  },
  {
   "cell_type": "code",
   "execution_count": 267,
   "metadata": {},
   "outputs": [
    {
     "data": {
      "application/vnd.plotly.v1+json": {
       "config": {
        "plotlyServerURL": "https://plot.ly"
       },
       "data": [
        {
         "hovertemplate": "color=r<br>x=%{x}<br>y=%{y}<br>z=%{z}<extra></extra>",
         "legendgroup": "r",
         "marker": {
          "color": "#636efa",
          "symbol": "circle"
         },
         "mode": "markers",
         "name": "r",
         "scene": "scene",
         "showlegend": true,
         "type": "scatter3d",
         "x": [
          -21.267044067382812,
          -10.522098541259766,
          -20.139205932617188,
          -23.23345184326172,
          -13.879016876220703,
          -23.27183723449707,
          -13.993045806884766,
          -16.764545440673828,
          -21.01463508605957,
          -17.79693603515625,
          11.878907203674316,
          10.031150817871094,
          5.852301120758057,
          8.84896469116211,
          4.991186618804932,
          6.433780193328857,
          8.879339218139648,
          7.219574451446533,
          8.58479118347168,
          12.237604141235352,
          7.0952863693237305,
          -22.969045639038086,
          -22.53413963317871,
          -17.431264877319336,
          -10.650376319885254,
          -8.499683380126953,
          -17.90882110595703,
          -20.731657028198242,
          -5.673862934112549,
          -9.347555160522461,
          -12.104231834411621,
          -18.506410598754883,
          -15.310219764709473,
          -24.413591384887695,
          -17.080352783203125,
          -19.528425216674805,
          2.619084358215332,
          0.08586261421442032,
          2.394094228744507,
          -0.9430211186408997,
          3.4498560428619385
         ],
         "y": [
          35.922725677490234,
          43.85566711425781,
          36.57126235961914,
          32.311370849609375,
          42.3321533203125,
          29.411508560180664,
          40.591495513916016,
          38.24163818359375,
          33.46477508544922,
          42.6595573425293,
          -16.989368438720703,
          -17.343385696411133,
          -16.828969955444336,
          -16.676023483276367,
          -16.708698272705078,
          -20.16769027709961,
          -13.669449806213379,
          -13.929681777954102,
          -19.734310150146484,
          -20.389284133911133,
          -9.958097457885742,
          32.13788604736328,
          28.855127334594727,
          30.62104606628418,
          39.981258392333984,
          43.24763107299805,
          40.68608093261719,
          31.368810653686523,
          42.44248962402344,
          36.71547317504883,
          37.264373779296875,
          31.3853702545166,
          44.56779861450195,
          33.03150939941406,
          33.856571197509766,
          35.442752838134766,
          -21.629451751708984,
          -21.39366912841797,
          -24.639142990112305,
          -24.354713439941406,
          -39.685157775878906
         ],
         "z": [
          5.8168253898620605,
          -3.7784321308135986,
          0.4842860996723175,
          -3.4071192741394043,
          1.3392982482910156,
          -0.8353308439254761,
          -3.5932059288024902,
          -1.315071940422058,
          -7.873538494110107,
          0.6900990009307861,
          27.046123504638672,
          23.556074142456055,
          28.855613708496094,
          31.980281829833984,
          33.5184326171875,
          33.03346633911133,
          28.54404640197754,
          25.040786743164062,
          28.498260498046875,
          30.87400245666504,
          25.21449089050293,
          5.454796314239502,
          -6.674811840057373,
          -13.654102325439453,
          -8.963502883911133,
          -7.693188190460205,
          -4.013869762420654,
          2.271423578262329,
          -5.673404693603516,
          -10.5384521484375,
          -12.276164054870605,
          -4.994287014007568,
          -1.821712613105774,
          1.8572583198547363,
          -7.605228424072266,
          -4.760988235473633,
          39.19319534301758,
          42.48314666748047,
          41.99031066894531,
          39.60695266723633,
          28.51122283935547
         ]
        },
        {
         "hovertemplate": "color=g<br>x=%{x}<br>y=%{y}<br>z=%{z}<extra></extra>",
         "legendgroup": "g",
         "marker": {
          "color": "#EF553B",
          "symbol": "circle"
         },
         "mode": "markers",
         "name": "g",
         "scene": "scene",
         "showlegend": true,
         "type": "scatter3d",
         "x": [
          -16.822650909423828,
          -21.344249725341797,
          -25.461931228637695,
          -17.483646392822266,
          -24.241518020629883,
          -19.285551071166992,
          -23.104211807250977,
          -23.937450408935547,
          -27.272750854492188,
          -13.470775604248047,
          -14.55036735534668,
          -21.803001403808594,
          5.935863018035889,
          -33.51859664916992,
          5.823702335357666,
          5.161942005157471,
          5.489107608795166,
          -1.1105945110321045,
          9.992449760437012,
          -78.88306427001953,
          5.529528617858887,
          11.674993515014648,
          8.612034797668457,
          14.427577018737793,
          8.52342414855957,
          9.22774600982666,
          23.564762115478516,
          17.254390716552734,
          9.360555648803711,
          12.890089988708496,
          13.936925888061523,
          14.997796058654785,
          19.37211799621582,
          16.300519943237305,
          10.139127731323242,
          13.97585391998291,
          22.074153900146484,
          21.30132293701172,
          17.395112991333008,
          20.618406295776367,
          -21.064739227294922,
          -18.615015029907227,
          -9.400259971618652,
          -11.377697944641113,
          -12.118288040161133,
          -18.51105308532715,
          -20.316526412963867,
          -13.736462593078613,
          -16.34224510192871,
          -11.020339965820312,
          -7.910359859466553,
          -16.397624969482422,
          4.240396022796631,
          7.389786243438721,
          8.709144592285156,
          6.2634406089782715,
          3.91137957572937,
          12.062995910644531,
          21.73213768005371,
          25.03771209716797,
          17.18193244934082
         ],
         "y": [
          -28.599925994873047,
          -30.018110275268555,
          -14.783294677734375,
          -27.7197265625,
          -22.510534286499023,
          -25.21457862854004,
          -18.64919662475586,
          -16.058134078979492,
          -20.627683639526367,
          -20.01321029663086,
          -9.778741836547852,
          -14.032255172729492,
          31.711185455322266,
          16.597509384155273,
          38.8298454284668,
          35.662445068359375,
          23.091190338134766,
          42.7652702331543,
          24.586780548095703,
          25.59372901916504,
          30.360595703125,
          21.911224365234375,
          32.29173278808594,
          59.75038528442383,
          31.439054489135742,
          32.159027099609375,
          22.654258728027344,
          23.846031188964844,
          27.096084594726562,
          27.341739654541016,
          22.654117584228516,
          19.930757522583008,
          17.647409439086914,
          16.641969680786133,
          23.567323684692383,
          17.278886795043945,
          16.522836685180664,
          12.344599723815918,
          14.271845817565918,
          13.294169425964355,
          -26.404216766357422,
          -13.605611801147461,
          -15.183632850646973,
          -11.7959566116333,
          -16.515052795410156,
          -15.538965225219727,
          -11.413725852966309,
          -14.24774169921875,
          -24.83991813659668,
          -18.71875762939453,
          -20.037574768066406,
          -12.353191375732422,
          34.92172622680664,
          36.927059173583984,
          35.007896423339844,
          35.57892990112305,
          40.40031433105469,
          24.223388671875,
          20.76923179626465,
          12.259390830993652,
          19.423126220703125
         ],
         "z": [
          33.52610397338867,
          31.861804962158203,
          32.748905181884766,
          37.189815521240234,
          31.61870002746582,
          31.78816795349121,
          31.9556884765625,
          36.20995330810547,
          30.741924285888672,
          42.24124526977539,
          43.90907669067383,
          33.8502197265625,
          -17.988819122314453,
          73.8567886352539,
          -9.526837348937988,
          -7.167135715484619,
          -20.917863845825195,
          -5.417999267578125,
          -17.037246704101562,
          239.716796875,
          -14.253371238708496,
          -17.414480209350586,
          -3.680274248123169,
          -16.906269073486328,
          -10.280692100524902,
          -15.312973022460938,
          3.239884376525879,
          -0.350166916847229,
          -0.3802046477794647,
          -2.1022424697875977,
          -4.4007110595703125,
          -1.6893768310546875,
          -1.510080337524414,
          -9.639875411987305,
          -2.9411470890045166,
          -6.211831569671631,
          -4.252840042114258,
          -6.047015190124512,
          -6.7096734046936035,
          -9.668194770812988,
          34.73118209838867,
          42.36494445800781,
          44.201019287109375,
          42.43116760253906,
          41.04791259765625,
          39.08221435546875,
          39.4496955871582,
          44.6135368347168,
          35.10211181640625,
          45.73445510864258,
          43.604400634765625,
          39.048946380615234,
          -12.17208194732666,
          -3.020695447921753,
          -12.330978393554688,
          -15.712998390197754,
          -5.590236186981201,
          0.575212836265564,
          -0.7846923470497131,
          -7.930481433868408,
          -5.5041680335998535
         ]
        },
        {
         "hovertemplate": "color=m<br>x=%{x}<br>y=%{y}<br>z=%{z}<extra></extra>",
         "legendgroup": "m",
         "marker": {
          "color": "#00cc96",
          "symbol": "circle"
         },
         "mode": "markers",
         "name": "m",
         "scene": "scene",
         "showlegend": true,
         "type": "scatter3d",
         "x": [
          -36.06597137451172,
          -30.4609375,
          -26.903005599975586,
          -11.172066688537598,
          -35.50358200073242,
          -33.579097747802734,
          -34.801292419433594,
          -21.532691955566406,
          -20.048160552978516,
          -16.078256607055664,
          -31.024127960205078,
          -26.53757095336914,
          -16.589069366455078,
          -20.381595611572266,
          -34.185394287109375,
          -24.680877685546875,
          -19.039701461791992,
          -29.271230697631836,
          -14.153593063354492,
          -30.4713077545166,
          -25.72091293334961,
          -27.04876136779785,
          -10.712099075317383,
          -12.57739543914795,
          -17.974720001220703,
          -18.646787643432617,
          -21.651941299438477,
          -13.981273651123047,
          -18.89834213256836,
          -16.19564437866211,
          -22.55308723449707,
          -22.65562629699707,
          -17.555368423461914,
          -16.148483276367188,
          -22.341880798339844,
          -22.72369956970215,
          -13.028511047363281,
          -13.910672187805176,
          -14.52842903137207,
          -21.77710723876953,
          -22.563655853271484,
          -16.81120491027832,
          -18.903366088867188,
          -12.906111717224121,
          -24.733917236328125,
          -28.772064208984375,
          -38.12913131713867,
          2.7441911697387695,
          -24.07947540283203,
          -32.08818054199219,
          -21.81537628173828,
          -30.40770149230957,
          -29.06601333618164,
          -23.45379638671875,
          -17.01804542541504,
          -30.721755981445312,
          -31.2700138092041,
          -25.28873062133789,
          -23.773422241210938,
          -29.65091896057129,
          -18.277950286865234,
          -27.129587173461914,
          -18.877254486083984,
          -19.89840316772461,
          -18.467571258544922,
          -15.076781272888184,
          -17.82406997680664,
          -20.834470748901367,
          -17.268545150756836
         ],
         "y": [
          14.13102912902832,
          13.935522079467773,
          25.9504451751709,
          11.42887020111084,
          18.056838989257812,
          7.506102561950684,
          9.252019882202148,
          7.943752765655518,
          27.100460052490234,
          8.681744575500488,
          24.486465454101562,
          22.035154342651367,
          15.552287101745605,
          28.93560028076172,
          19.651897430419922,
          18.97339630126953,
          2.160881519317627,
          3.193222999572754,
          12.817761421203613,
          24.410675048828125,
          3.878140449523926,
          21.37002944946289,
          10.919054985046387,
          7.073983669281006,
          2.2028632164001465,
          -15.422771453857422,
          0.4951074421405792,
          3.1074705123901367,
          -17.389612197875977,
          -8.611226081848145,
          -15.357054710388184,
          1.8845208883285522,
          -0.8942708373069763,
          1.5898655652999878,
          -17.511959075927734,
          -2.7408711910247803,
          4.913856506347656,
          -3.8257787227630615,
          2.587691068649292,
          4.729564189910889,
          -13.174420356750488,
          6.130126476287842,
          -13.157781600952148,
          -7.712678909301758,
          6.2822065353393555,
          3.967867612838745,
          17.157428741455078,
          27.957015991210938,
          19.151569366455078,
          6.475119590759277,
          2.4901180267333984,
          9.720891952514648,
          3.7551586627960205,
          22.970993041992188,
          4.806143760681152,
          4.845126628875732,
          10.687250137329102,
          4.327755928039551,
          26.4428653717041,
          5.603481769561768,
          0.16408143937587738,
          8.019692420959473,
          5.030978679656982,
          -4.207118988037109,
          3.0606532096862793,
          7.338028907775879,
          -0.4972001910209656,
          -7.7200164794921875,
          5.381312370300293
         ],
         "z": [
          -21.3820858001709,
          -26.02112579345703,
          -21.729238510131836,
          -30.573514938354492,
          -23.78899383544922,
          -21.12174415588379,
          -24.413700103759766,
          -29.579225540161133,
          -17.21922492980957,
          -29.19700050354004,
          -22.764877319335938,
          -20.095991134643555,
          -26.840534210205078,
          -12.876431465148926,
          -20.992544174194336,
          -22.112937927246094,
          -24.928831100463867,
          -9.661981582641602,
          -28.130165100097656,
          -19.014638900756836,
          -9.01623821258545,
          -24.522563934326172,
          -27.052629470825195,
          -29.092561721801758,
          -4.545928478240967,
          10.74067497253418,
          10.418437004089355,
          -2.426177740097046,
          6.714169025421143,
          9.173133850097656,
          6.034440517425537,
          6.306940078735352,
          6.155144214630127,
          0.8089843392372131,
          9.657200813293457,
          8.167305946350098,
          1.280754566192627,
          6.946134090423584,
          4.64308500289917,
          -7.637720108032227,
          9.823871612548828,
          -6.230306625366211,
          7.1384382247924805,
          8.310609817504883,
          -30.735986709594727,
          -28.425596237182617,
          -20.86273193359375,
          -19.872522354125977,
          -26.11638641357422,
          -27.472850799560547,
          -28.270822525024414,
          -23.982465744018555,
          -13.735467910766602,
          -23.01707649230957,
          -28.57994270324707,
          -17.739055633544922,
          -28.10502052307129,
          -26.07408332824707,
          -18.22887420654297,
          -24.316556930541992,
          -27.81255340576172,
          -27.72223663330078,
          -1.6818139553070068,
          11.153938293457031,
          7.111074447631836,
          -2.389935255050659,
          10.200085639953613,
          9.874095916748047,
          2.5961873531341553
         ]
        },
        {
         "hovertemplate": "color=b<br>x=%{x}<br>y=%{y}<br>z=%{z}<extra></extra>",
         "legendgroup": "b",
         "marker": {
          "color": "#ab63fa",
          "symbol": "circle"
         },
         "mode": "markers",
         "name": "b",
         "scene": "scene",
         "showlegend": true,
         "type": "scatter3d",
         "x": [
          -49.39965057373047,
          -42.795692443847656,
          -32.733314514160156,
          -31.977890014648438,
          -36.49922561645508,
          -45.48850631713867,
          -46.284759521484375,
          -20.900346755981445,
          -40.64645767211914,
          -38.054603576660156,
          -47.17422866821289,
          -47.790645599365234,
          -33.91830062866211,
          -46.7971305847168,
          -46.36410140991211,
          -35.17536544799805,
          2.241644859313965,
          9.47315788269043,
          32.198673248291016,
          9.107170104980469,
          2.696962833404541,
          4.6845927238464355,
          6.0786261558532715,
          7.3835129737854,
          1.4961940050125122,
          9.502975463867188,
          8.833601951599121,
          4.1392502784729,
          -1.2226147651672363,
          7.181481838226318,
          5.692639350891113,
          -32.07025146484375,
          -46.00606155395508,
          -42.43263626098633,
          -36.13899612426758,
          -40.333988189697266,
          -456.2898864746094,
          7.38869047164917,
          -38.623165130615234,
          -41.04960250854492,
          -32.941097259521484,
          6.338685512542725,
          5.577123165130615
         ],
         "y": [
          -10.496481895446777,
          -0.7150207757949829,
          -4.371962547302246,
          -0.6587179899215698,
          -10.558356285095215,
          -9.403033256530762,
          1.4767169952392578,
          53.378841400146484,
          -2.9173927307128906,
          -9.13534164428711,
          -5.571140766143799,
          -8.554363250732422,
          -0.16450761258602142,
          -2.169846296310425,
          2.629030466079712,
          2.8495986461639404,
          -4.707040309906006,
          -5.553106784820557,
          -11.50830364227295,
          -6.172765731811523,
          -6.083141326904297,
          -8.096137046813965,
          -8.648439407348633,
          -12.351204872131348,
          -8.69201946258545,
          -9.094193458557129,
          -9.549301147460938,
          -12.588605880737305,
          -3.641934394836426,
          -15.248553276062012,
          -18.015134811401367,
          1.553058385848999,
          -12.32067584991455,
          3.2678065299987793,
          -4.6959357261657715,
          -5.3941521644592285,
          -302.0281982421875,
          -60.05851364135742,
          0.5542541742324829,
          -10.682809829711914,
          -9.220967292785645,
          -3.161134958267212,
          -6.502359390258789
         ],
         "z": [
          2.444183588027954,
          -4.472977161407471,
          3.851856231689453,
          1.6737146377563477,
          5.405576229095459,
          1.7811448574066162,
          -5.672760963439941,
          125.64574432373047,
          1.9910587072372437,
          8.647953987121582,
          0.6054890751838684,
          5.616896629333496,
          -1.1675693988800049,
          -2.5310606956481934,
          -1.7316131591796875,
          -5.049018859863281,
          -6.217715263366699,
          4.314609050750732,
          -16.73946189880371,
          -0.7241188883781433,
          -9.98575496673584,
          -4.063405513763428,
          -7.591188907623291,
          -4.324703216552734,
          -7.272939682006836,
          -3.1974411010742188,
          1.238881230354309,
          -9.934831619262695,
          -7.881289005279541,
          -8.043238639831543,
          -9.895276069641113,
          -5.778939247131348,
          4.63361120223999,
          -4.306389808654785,
          4.633265018463135,
          4.993454456329346,
          -1184.2711181640625,
          122.69407653808594,
          -1.7963697910308838,
          6.116008758544922,
          7.021518230438232,
          4.971691131591797,
          2.7791099548339844
         ]
        },
        {
         "hovertemplate": "color=c<br>x=%{x}<br>y=%{y}<br>z=%{z}<extra></extra>",
         "legendgroup": "c",
         "marker": {
          "color": "#FFA15A",
          "symbol": "circle"
         },
         "mode": "markers",
         "name": "c",
         "scene": "scene",
         "showlegend": true,
         "type": "scatter3d",
         "x": [
          -31.07014274597168,
          -31.920787811279297,
          0.4075632095336914,
          0.3447377681732178,
          3.140899419784546,
          -0.060101576149463654,
          -0.7936458587646484,
          -10.721659660339355,
          -8.545669555664062,
          0.5921189188957214,
          -18.264860153198242,
          0.20385026931762695,
          -4.701167583465576,
          1.6178152561187744,
          5.038982391357422,
          12.335711479187012,
          -6.668420314788818,
          3.1785666942596436,
          2.167938709259033,
          -5.020781993865967,
          -9.028367042541504,
          4.969753265380859,
          -0.5617701411247253,
          9.07393741607666,
          -8.347626686096191,
          2.4779205322265625,
          -5.4254655838012695,
          -0.3685187101364136,
          -1.512008786201477,
          -10.572601318359375,
          7.063409328460693,
          11.630135536193848,
          7.644443511962891,
          10.322341918945312,
          -2.3237509727478027,
          5.5148396492004395,
          10.46607780456543,
          -7.399155616760254,
          7.331542015075684,
          -27.591981887817383,
          -26.467159271240234,
          -28.746112823486328,
          -24.882373809814453,
          -29.823400497436523,
          -6.485118389129639,
          -2.8718912601470947,
          -4.004284381866455,
          -1.284684419631958,
          3.1057519912719727,
          -6.645021438598633,
          2.9771065711975098,
          -4.404337406158447,
          4.391490459442139,
          -7.636730194091797,
          0.5679864883422852,
          5.8452277183532715
         ],
         "y": [
          -8.236431121826172,
          -11.5612154006958,
          1.8972957134246826,
          6.443424224853516,
          0.44145891070365906,
          -1.3469034433364868,
          8.65053653717041,
          4.376777648925781,
          4.290068626403809,
          -2.369314432144165,
          -19.9576358795166,
          2.9193058013916016,
          5.921625137329102,
          -1.6807132959365845,
          -6.246535301208496,
          -34.130340576171875,
          -38.8309211730957,
          -22.717079162597656,
          -35.7883186340332,
          -27.92157554626465,
          -35.46875,
          19.855892181396484,
          -34.81201934814453,
          -24.99074935913086,
          -37.43214416503906,
          -29.14955711364746,
          -39.841636657714844,
          -32.43231964111328,
          -36.96426010131836,
          -40.94893264770508,
          -32.7647590637207,
          -30.32036018371582,
          -30.326932907104492,
          -31.926437377929688,
          -23.79541015625,
          -35.245704650878906,
          -26.92793846130371,
          -36.67508316040039,
          -35.80337905883789,
          -12.173080444335938,
          -8.881789207458496,
          -7.807506084442139,
          -8.47089958190918,
          -11.922337532043457,
          5.7682414054870605,
          3.2834300994873047,
          1.1891841888427734,
          1.470876693725586,
          1.4655126333236694,
          1.4166902303695679,
          -30.80486488342285,
          -35.02500534057617,
          -33.080814361572266,
          -32.8321647644043,
          3.7214879989624023,
          -27.901395797729492
         ],
         "z": [
          32.89856719970703,
          35.27460479736328,
          20.7386474609375,
          23.54466438293457,
          28.313512802124023,
          30.684783935546875,
          21.458824157714844,
          36.29490280151367,
          32.32023239135742,
          26.626850128173828,
          10.417008399963379,
          31.12822914123535,
          32.096405029296875,
          22.033491134643555,
          25.667417526245117,
          -4.7493462562561035,
          -6.5864386558532715,
          -11.774182319641113,
          -3.1622493267059326,
          -11.894947052001953,
          -6.574005126953125,
          28.48706817626953,
          -9.569856643676758,
          -7.908479690551758,
          -2.4932162761688232,
          -13.76860237121582,
          -1.603881597518921,
          -12.251422882080078,
          -4.022248268127441,
          -4.116950511932373,
          -8.447087287902832,
          -5.893196105957031,
          -5.420224189758301,
          -2.3039586544036865,
          -12.343932151794434,
          -4.137907981872559,
          -10.274495124816895,
          -10.347251892089844,
          0.693530797958374,
          36.05021667480469,
          33.655784606933594,
          37.17819595336914,
          37.542198181152344,
          31.67388916015625,
          36.01001739501953,
          35.0716552734375,
          31.048648834228516,
          27.38381576538086,
          24.043920516967773,
          34.848243713378906,
          -9.175715446472168,
          -6.804567813873291,
          -11.932153701782227,
          -9.701878547668457,
          -6.171171188354492,
          -11.992980003356934
         ]
        },
        {
         "hovertemplate": "color=y<br>x=%{x}<br>y=%{y}<br>z=%{z}<extra></extra>",
         "legendgroup": "y",
         "marker": {
          "color": "#19d3f3",
          "symbol": "circle"
         },
         "mode": "markers",
         "name": "y",
         "scene": "scene",
         "showlegend": true,
         "type": "scatter3d",
         "x": [
          -0.7267776727676392,
          16.332124710083008,
          10.653630256652832,
          8.852254867553711,
          13.520792007446289,
          84.0427474975586,
          1.5232117176055908,
          6.861714839935303,
          8.21495246887207,
          18.044836044311523,
          10.190162658691406,
          0.2912577986717224,
          7.53861141204834,
          0.6788923144340515,
          18.44590950012207,
          8.328204154968262,
          4.20270299911499,
          2.0907599925994873,
          15.868163108825684,
          5.799005508422852,
          14.33255386352539,
          31.768972396850586,
          26.291427612304688,
          27.136953353881836,
          27.159940719604492,
          32.37428665161133,
          21.662534713745117,
          30.79879379272461,
          27.999364852905273,
          27.603469848632812,
          25.706993103027344,
          40.476531982421875,
          23.39597511291504,
          42.715972900390625,
          24.45811653137207,
          23.544315338134766,
          28.866249084472656,
          27.462055206298828,
          24.23588752746582,
          36.8121337890625,
          25.928308486938477,
          27.226430892944336,
          25.876117706298828,
          37.98743438720703,
          44.27800750732422,
          40.40578842163086,
          28.68001365661621,
          24.084733963012695,
          30.1612491607666,
          18.483291625976562,
          34.13698196411133,
          39.1591682434082,
          42.29051971435547,
          36.865142822265625,
          37.22797393798828,
          39.96656799316406,
          30.027252197265625,
          38.88172149658203,
          33.42483901977539,
          43.09455871582031,
          3.749504804611206,
          19.652210235595703,
          4.860600471496582,
          4.800532817840576,
          10.786006927490234,
          6.2144598960876465,
          2.0858445167541504,
          6.604032039642334,
          4.337176322937012,
          9.799295425415039,
          10.572393417358398,
          7.155150413513184,
          1.898878812789917,
          13.471965789794922,
          9.896615028381348,
          29.08721351623535,
          29.612564086914062,
          29.7270450592041,
          32.26485824584961,
          32.223934173583984,
          32.368988037109375,
          25.369630813598633,
          31.42034339904785,
          40.799686431884766,
          33.052799224853516,
          23.816953659057617,
          37.264034271240234,
          24.764509201049805,
          -34.1065559387207,
          27.049915313720703,
          33.74729919433594,
          36.472755432128906,
          32.0174446105957,
          44.705406188964844,
          27.09748649597168,
          25.400440216064453,
          25.914587020874023,
          25.26010513305664,
          45.45392608642578,
          22.284929275512695
         ],
         "y": [
          6.204806804656982,
          13.306443214416504,
          -4.577503204345703,
          1.3824677467346191,
          4.3916754722595215,
          66.60557556152344,
          9.737428665161133,
          12.725150108337402,
          7.599973201751709,
          -7.534989356994629,
          14.551630020141602,
          4.110654830932617,
          11.905198097229004,
          9.819938659667969,
          -0.3799690008163452,
          -7.851871967315674,
          1.9403424263000488,
          12.256580352783203,
          -6.681667327880859,
          5.807104110717773,
          6.796523094177246,
          -5.971858501434326,
          7.5764241218566895,
          2.9488532543182373,
          2.331176996231079,
          -7.422783851623535,
          -1.8572121858596802,
          1.8261659145355225,
          6.935790538787842,
          -1.164661169052124,
          -0.6366279721260071,
          12.779515266418457,
          9.386844635009766,
          8.252523422241211,
          22.371288299560547,
          10.071693420410156,
          25.149538040161133,
          23.606521606445312,
          21.57587242126465,
          -17.417682647705078,
          18.655899047851562,
          21.42276954650879,
          9.282002449035645,
          7.235989570617676,
          10.706573486328125,
          10.95085334777832,
          8.201926231384277,
          12.40717887878418,
          11.915243148803711,
          42.641414642333984,
          8.700462341308594,
          13.746968269348145,
          7.1556925773620605,
          10.78486442565918,
          14.91001033782959,
          9.748248100280762,
          10.594999313354492,
          7.296443939208984,
          13.833026885986328,
          11.936604499816895,
          -8.85015869140625,
          -3.184669017791748,
          -3.8456530570983887,
          5.297758102416992,
          -5.297547817230225,
          17.427650451660156,
          13.918794631958008,
          -3.9760918617248535,
          16.162832260131836,
          -1.3451337814331055,
          8.251192092895508,
          9.0260009765625,
          -1.2618411779403687,
          -1.767958641052246,
          18.514169692993164,
          -4.048883438110352,
          0.7570634484291077,
          -0.45229485630989075,
          -2.3073678016662598,
          -11.760886192321777,
          -2.266845226287842,
          9.192879676818848,
          2.7518935203552246,
          10.214640617370605,
          9.217255592346191,
          22.30584716796875,
          9.137520790100098,
          25.335994720458984,
          -14.465846061706543,
          24.448200225830078,
          9.540753364562988,
          11.08519458770752,
          8.542003631591797,
          11.151013374328613,
          11.940046310424805,
          14.31509017944336,
          10.101239204406738,
          13.486228942871094,
          10.8375883102417,
          11.583477973937988
         ],
         "z": [
          -31.185924530029297,
          -21.65678596496582,
          -33.67805862426758,
          -34.627174377441406,
          -29.894676208496094,
          -2.0550172328948975,
          -26.99646759033203,
          -23.70884132385254,
          -32.647544860839844,
          -31.62060546875,
          -21.366243362426758,
          -34.23719787597656,
          -27.826797485351562,
          -30.948036193847656,
          -30.74943733215332,
          -35.562347412109375,
          -36.585018157958984,
          -23.622650146484375,
          -34.36848831176758,
          -30.726350784301758,
          -32.0279541015625,
          -18.60561180114746,
          -16.355648040771484,
          -21.037330627441406,
          -16.75409507751465,
          -22.44613265991211,
          -29.55804443359375,
          -19.199848175048828,
          -11.248101234436035,
          -19.198013305664062,
          -22.951927185058594,
          6.791210651397705,
          -16.8520450592041,
          19.625478744506836,
          19.32184600830078,
          29.95144271850586,
          11.213606834411621,
          15.163322448730469,
          14.672515869140625,
          20.951534271240234,
          17.125629425048828,
          10.860676765441895,
          34.30753707885742,
          27.322982788085938,
          16.687564849853516,
          24.091432571411133,
          19.75490379333496,
          33.023277282714844,
          14.358061790466309,
          -25.78754997253418,
          25.26527976989746,
          10.936766624450684,
          25.10773468017578,
          8.950390815734863,
          6.995655536651611,
          12.114498138427734,
          22.43658447265625,
          22.58118438720703,
          9.737666130065918,
          11.745050430297852,
          -36.56403732299805,
          -32.723201751708984,
          -38.18871307373047,
          -34.71680450439453,
          -37.81449890136719,
          -20.61493492126465,
          -27.192346572875977,
          -34.49563217163086,
          -24.00265884399414,
          -37.235286712646484,
          -28.864561080932617,
          -25.533395767211914,
          -36.0584831237793,
          -35.61910629272461,
          -20.79570770263672,
          -22.87643051147461,
          -23.704357147216797,
          -12.970426559448242,
          -21.034500122070312,
          -20.091135025024414,
          -15.569310188293457,
          -12.392892837524414,
          -12.530016899108887,
          29.63280487060547,
          31.5484561920166,
          8.287672996520996,
          31.895126342773438,
          11.059225082397461,
          -19.41793441772461,
          7.351991176605225,
          13.108871459960938,
          27.871444702148438,
          16.657373428344727,
          26.320215225219727,
          18.87700843811035,
          21.598779678344727,
          22.874103546142578,
          26.468914031982422,
          22.31829071044922,
          25.558242797851562
         ]
        },
        {
         "hovertemplate": "color=k<br>x=%{x}<br>y=%{y}<br>z=%{z}<extra></extra>",
         "legendgroup": "k",
         "marker": {
          "color": "#FF6692",
          "symbol": "circle"
         },
         "mode": "markers",
         "name": "k",
         "scene": "scene",
         "showlegend": true,
         "type": "scatter3d",
         "x": [
          24.573030471801758,
          15.339200019836426,
          23.716899871826172,
          15.595996856689453,
          11.48470687866211,
          20.043367385864258,
          12.687679290771484,
          16.403331756591797,
          12.368870735168457,
          13.81178092956543,
          18.185205459594727,
          23.871938705444336,
          -6.940609931945801,
          -11.989901542663574,
          -13.640060424804688,
          11.781044006347656,
          -13.536191940307617,
          -14.889735221862793,
          8.019389152526855,
          46.00409698486328,
          -16.012794494628906,
          -12.858540534973145,
          12.236316680908203,
          20.71617889404297,
          6.600318431854248,
          13.824715614318848,
          -13.054549217224121,
          -11.873586654663086,
          -16.661724090576172,
          -9.645992279052734,
          -93.683837890625,
          -14.055168151855469,
          -10.169634819030762
         ],
         "y": [
          -13.22385311126709,
          -14.928306579589844,
          -14.00196361541748,
          -12.852591514587402,
          -14.624302864074707,
          -16.535179138183594,
          -12.295158386230469,
          -16.477487564086914,
          -16.12377166748047,
          -10.344816207885742,
          -13.305061340332031,
          -16.979398727416992,
          -41.327674865722656,
          -40.47600555419922,
          -45.999088287353516,
          -15.741121292114258,
          -42.054561614990234,
          -44.781185150146484,
          -36.53717803955078,
          -33.2227783203125,
          -45.257266998291016,
          -45.8526725769043,
          -18.587879180908203,
          -14.517918586730957,
          -6.617073059082031,
          -14.149086952209473,
          -50.34455490112305,
          -42.593475341796875,
          -48.06392288208008,
          -43.8515739440918,
          -63.7742805480957,
          -48.9123420715332,
          -46.39421844482422
         ],
         "z": [
          11.82937240600586,
          15.885846138000488,
          7.990316390991211,
          9.797197341918945,
          19.636438369750977,
          7.298007965087891,
          0.7650196552276611,
          10.189713478088379,
          14.70949935913086,
          3.8012237548828125,
          6.954226016998291,
          10.863962173461914,
          2.5580832958221436,
          -0.763357937335968,
          6.0969953536987305,
          8.332138061523438,
          5.507862567901611,
          1.2219104766845703,
          4.959840774536133,
          20.290987014770508,
          10.746309280395508,
          13.510771751403809,
          19.297513961791992,
          12.18494701385498,
          6.987124919891357,
          4.265190124511719,
          16.33561134338379,
          9.073599815368652,
          14.655389785766602,
          5.779026508331299,
          12.392186164855957,
          10.824557304382324,
          9.166852951049805
         ]
        }
       ],
       "layout": {
        "legend": {
         "title": {
          "text": "color"
         },
         "tracegroupgap": 0
        },
        "margin": {
         "t": 60
        },
        "scene": {
         "domain": {
          "x": [
           0,
           1
          ],
          "y": [
           0,
           1
          ]
         },
         "xaxis": {
          "title": {
           "text": "x"
          }
         },
         "yaxis": {
          "title": {
           "text": "y"
          }
         },
         "zaxis": {
          "title": {
           "text": "z"
          }
         }
        },
        "template": {
         "data": {
          "bar": [
           {
            "error_x": {
             "color": "#2a3f5f"
            },
            "error_y": {
             "color": "#2a3f5f"
            },
            "marker": {
             "line": {
              "color": "#E5ECF6",
              "width": 0.5
             },
             "pattern": {
              "fillmode": "overlay",
              "size": 10,
              "solidity": 0.2
             }
            },
            "type": "bar"
           }
          ],
          "barpolar": [
           {
            "marker": {
             "line": {
              "color": "#E5ECF6",
              "width": 0.5
             },
             "pattern": {
              "fillmode": "overlay",
              "size": 10,
              "solidity": 0.2
             }
            },
            "type": "barpolar"
           }
          ],
          "carpet": [
           {
            "aaxis": {
             "endlinecolor": "#2a3f5f",
             "gridcolor": "white",
             "linecolor": "white",
             "minorgridcolor": "white",
             "startlinecolor": "#2a3f5f"
            },
            "baxis": {
             "endlinecolor": "#2a3f5f",
             "gridcolor": "white",
             "linecolor": "white",
             "minorgridcolor": "white",
             "startlinecolor": "#2a3f5f"
            },
            "type": "carpet"
           }
          ],
          "choropleth": [
           {
            "colorbar": {
             "outlinewidth": 0,
             "ticks": ""
            },
            "type": "choropleth"
           }
          ],
          "contour": [
           {
            "colorbar": {
             "outlinewidth": 0,
             "ticks": ""
            },
            "colorscale": [
             [
              0,
              "#0d0887"
             ],
             [
              0.1111111111111111,
              "#46039f"
             ],
             [
              0.2222222222222222,
              "#7201a8"
             ],
             [
              0.3333333333333333,
              "#9c179e"
             ],
             [
              0.4444444444444444,
              "#bd3786"
             ],
             [
              0.5555555555555556,
              "#d8576b"
             ],
             [
              0.6666666666666666,
              "#ed7953"
             ],
             [
              0.7777777777777778,
              "#fb9f3a"
             ],
             [
              0.8888888888888888,
              "#fdca26"
             ],
             [
              1,
              "#f0f921"
             ]
            ],
            "type": "contour"
           }
          ],
          "contourcarpet": [
           {
            "colorbar": {
             "outlinewidth": 0,
             "ticks": ""
            },
            "type": "contourcarpet"
           }
          ],
          "heatmap": [
           {
            "colorbar": {
             "outlinewidth": 0,
             "ticks": ""
            },
            "colorscale": [
             [
              0,
              "#0d0887"
             ],
             [
              0.1111111111111111,
              "#46039f"
             ],
             [
              0.2222222222222222,
              "#7201a8"
             ],
             [
              0.3333333333333333,
              "#9c179e"
             ],
             [
              0.4444444444444444,
              "#bd3786"
             ],
             [
              0.5555555555555556,
              "#d8576b"
             ],
             [
              0.6666666666666666,
              "#ed7953"
             ],
             [
              0.7777777777777778,
              "#fb9f3a"
             ],
             [
              0.8888888888888888,
              "#fdca26"
             ],
             [
              1,
              "#f0f921"
             ]
            ],
            "type": "heatmap"
           }
          ],
          "heatmapgl": [
           {
            "colorbar": {
             "outlinewidth": 0,
             "ticks": ""
            },
            "colorscale": [
             [
              0,
              "#0d0887"
             ],
             [
              0.1111111111111111,
              "#46039f"
             ],
             [
              0.2222222222222222,
              "#7201a8"
             ],
             [
              0.3333333333333333,
              "#9c179e"
             ],
             [
              0.4444444444444444,
              "#bd3786"
             ],
             [
              0.5555555555555556,
              "#d8576b"
             ],
             [
              0.6666666666666666,
              "#ed7953"
             ],
             [
              0.7777777777777778,
              "#fb9f3a"
             ],
             [
              0.8888888888888888,
              "#fdca26"
             ],
             [
              1,
              "#f0f921"
             ]
            ],
            "type": "heatmapgl"
           }
          ],
          "histogram": [
           {
            "marker": {
             "pattern": {
              "fillmode": "overlay",
              "size": 10,
              "solidity": 0.2
             }
            },
            "type": "histogram"
           }
          ],
          "histogram2d": [
           {
            "colorbar": {
             "outlinewidth": 0,
             "ticks": ""
            },
            "colorscale": [
             [
              0,
              "#0d0887"
             ],
             [
              0.1111111111111111,
              "#46039f"
             ],
             [
              0.2222222222222222,
              "#7201a8"
             ],
             [
              0.3333333333333333,
              "#9c179e"
             ],
             [
              0.4444444444444444,
              "#bd3786"
             ],
             [
              0.5555555555555556,
              "#d8576b"
             ],
             [
              0.6666666666666666,
              "#ed7953"
             ],
             [
              0.7777777777777778,
              "#fb9f3a"
             ],
             [
              0.8888888888888888,
              "#fdca26"
             ],
             [
              1,
              "#f0f921"
             ]
            ],
            "type": "histogram2d"
           }
          ],
          "histogram2dcontour": [
           {
            "colorbar": {
             "outlinewidth": 0,
             "ticks": ""
            },
            "colorscale": [
             [
              0,
              "#0d0887"
             ],
             [
              0.1111111111111111,
              "#46039f"
             ],
             [
              0.2222222222222222,
              "#7201a8"
             ],
             [
              0.3333333333333333,
              "#9c179e"
             ],
             [
              0.4444444444444444,
              "#bd3786"
             ],
             [
              0.5555555555555556,
              "#d8576b"
             ],
             [
              0.6666666666666666,
              "#ed7953"
             ],
             [
              0.7777777777777778,
              "#fb9f3a"
             ],
             [
              0.8888888888888888,
              "#fdca26"
             ],
             [
              1,
              "#f0f921"
             ]
            ],
            "type": "histogram2dcontour"
           }
          ],
          "mesh3d": [
           {
            "colorbar": {
             "outlinewidth": 0,
             "ticks": ""
            },
            "type": "mesh3d"
           }
          ],
          "parcoords": [
           {
            "line": {
             "colorbar": {
              "outlinewidth": 0,
              "ticks": ""
             }
            },
            "type": "parcoords"
           }
          ],
          "pie": [
           {
            "automargin": true,
            "type": "pie"
           }
          ],
          "scatter": [
           {
            "fillpattern": {
             "fillmode": "overlay",
             "size": 10,
             "solidity": 0.2
            },
            "type": "scatter"
           }
          ],
          "scatter3d": [
           {
            "line": {
             "colorbar": {
              "outlinewidth": 0,
              "ticks": ""
             }
            },
            "marker": {
             "colorbar": {
              "outlinewidth": 0,
              "ticks": ""
             }
            },
            "type": "scatter3d"
           }
          ],
          "scattercarpet": [
           {
            "marker": {
             "colorbar": {
              "outlinewidth": 0,
              "ticks": ""
             }
            },
            "type": "scattercarpet"
           }
          ],
          "scattergeo": [
           {
            "marker": {
             "colorbar": {
              "outlinewidth": 0,
              "ticks": ""
             }
            },
            "type": "scattergeo"
           }
          ],
          "scattergl": [
           {
            "marker": {
             "colorbar": {
              "outlinewidth": 0,
              "ticks": ""
             }
            },
            "type": "scattergl"
           }
          ],
          "scattermapbox": [
           {
            "marker": {
             "colorbar": {
              "outlinewidth": 0,
              "ticks": ""
             }
            },
            "type": "scattermapbox"
           }
          ],
          "scatterpolar": [
           {
            "marker": {
             "colorbar": {
              "outlinewidth": 0,
              "ticks": ""
             }
            },
            "type": "scatterpolar"
           }
          ],
          "scatterpolargl": [
           {
            "marker": {
             "colorbar": {
              "outlinewidth": 0,
              "ticks": ""
             }
            },
            "type": "scatterpolargl"
           }
          ],
          "scatterternary": [
           {
            "marker": {
             "colorbar": {
              "outlinewidth": 0,
              "ticks": ""
             }
            },
            "type": "scatterternary"
           }
          ],
          "surface": [
           {
            "colorbar": {
             "outlinewidth": 0,
             "ticks": ""
            },
            "colorscale": [
             [
              0,
              "#0d0887"
             ],
             [
              0.1111111111111111,
              "#46039f"
             ],
             [
              0.2222222222222222,
              "#7201a8"
             ],
             [
              0.3333333333333333,
              "#9c179e"
             ],
             [
              0.4444444444444444,
              "#bd3786"
             ],
             [
              0.5555555555555556,
              "#d8576b"
             ],
             [
              0.6666666666666666,
              "#ed7953"
             ],
             [
              0.7777777777777778,
              "#fb9f3a"
             ],
             [
              0.8888888888888888,
              "#fdca26"
             ],
             [
              1,
              "#f0f921"
             ]
            ],
            "type": "surface"
           }
          ],
          "table": [
           {
            "cells": {
             "fill": {
              "color": "#EBF0F8"
             },
             "line": {
              "color": "white"
             }
            },
            "header": {
             "fill": {
              "color": "#C8D4E3"
             },
             "line": {
              "color": "white"
             }
            },
            "type": "table"
           }
          ]
         },
         "layout": {
          "annotationdefaults": {
           "arrowcolor": "#2a3f5f",
           "arrowhead": 0,
           "arrowwidth": 1
          },
          "autotypenumbers": "strict",
          "coloraxis": {
           "colorbar": {
            "outlinewidth": 0,
            "ticks": ""
           }
          },
          "colorscale": {
           "diverging": [
            [
             0,
             "#8e0152"
            ],
            [
             0.1,
             "#c51b7d"
            ],
            [
             0.2,
             "#de77ae"
            ],
            [
             0.3,
             "#f1b6da"
            ],
            [
             0.4,
             "#fde0ef"
            ],
            [
             0.5,
             "#f7f7f7"
            ],
            [
             0.6,
             "#e6f5d0"
            ],
            [
             0.7,
             "#b8e186"
            ],
            [
             0.8,
             "#7fbc41"
            ],
            [
             0.9,
             "#4d9221"
            ],
            [
             1,
             "#276419"
            ]
           ],
           "sequential": [
            [
             0,
             "#0d0887"
            ],
            [
             0.1111111111111111,
             "#46039f"
            ],
            [
             0.2222222222222222,
             "#7201a8"
            ],
            [
             0.3333333333333333,
             "#9c179e"
            ],
            [
             0.4444444444444444,
             "#bd3786"
            ],
            [
             0.5555555555555556,
             "#d8576b"
            ],
            [
             0.6666666666666666,
             "#ed7953"
            ],
            [
             0.7777777777777778,
             "#fb9f3a"
            ],
            [
             0.8888888888888888,
             "#fdca26"
            ],
            [
             1,
             "#f0f921"
            ]
           ],
           "sequentialminus": [
            [
             0,
             "#0d0887"
            ],
            [
             0.1111111111111111,
             "#46039f"
            ],
            [
             0.2222222222222222,
             "#7201a8"
            ],
            [
             0.3333333333333333,
             "#9c179e"
            ],
            [
             0.4444444444444444,
             "#bd3786"
            ],
            [
             0.5555555555555556,
             "#d8576b"
            ],
            [
             0.6666666666666666,
             "#ed7953"
            ],
            [
             0.7777777777777778,
             "#fb9f3a"
            ],
            [
             0.8888888888888888,
             "#fdca26"
            ],
            [
             1,
             "#f0f921"
            ]
           ]
          },
          "colorway": [
           "#636efa",
           "#EF553B",
           "#00cc96",
           "#ab63fa",
           "#FFA15A",
           "#19d3f3",
           "#FF6692",
           "#B6E880",
           "#FF97FF",
           "#FECB52"
          ],
          "font": {
           "color": "#2a3f5f"
          },
          "geo": {
           "bgcolor": "white",
           "lakecolor": "white",
           "landcolor": "#E5ECF6",
           "showlakes": true,
           "showland": true,
           "subunitcolor": "white"
          },
          "hoverlabel": {
           "align": "left"
          },
          "hovermode": "closest",
          "mapbox": {
           "style": "light"
          },
          "paper_bgcolor": "white",
          "plot_bgcolor": "#E5ECF6",
          "polar": {
           "angularaxis": {
            "gridcolor": "white",
            "linecolor": "white",
            "ticks": ""
           },
           "bgcolor": "#E5ECF6",
           "radialaxis": {
            "gridcolor": "white",
            "linecolor": "white",
            "ticks": ""
           }
          },
          "scene": {
           "xaxis": {
            "backgroundcolor": "#E5ECF6",
            "gridcolor": "white",
            "gridwidth": 2,
            "linecolor": "white",
            "showbackground": true,
            "ticks": "",
            "zerolinecolor": "white"
           },
           "yaxis": {
            "backgroundcolor": "#E5ECF6",
            "gridcolor": "white",
            "gridwidth": 2,
            "linecolor": "white",
            "showbackground": true,
            "ticks": "",
            "zerolinecolor": "white"
           },
           "zaxis": {
            "backgroundcolor": "#E5ECF6",
            "gridcolor": "white",
            "gridwidth": 2,
            "linecolor": "white",
            "showbackground": true,
            "ticks": "",
            "zerolinecolor": "white"
           }
          },
          "shapedefaults": {
           "line": {
            "color": "#2a3f5f"
           }
          },
          "ternary": {
           "aaxis": {
            "gridcolor": "white",
            "linecolor": "white",
            "ticks": ""
           },
           "baxis": {
            "gridcolor": "white",
            "linecolor": "white",
            "ticks": ""
           },
           "bgcolor": "#E5ECF6",
           "caxis": {
            "gridcolor": "white",
            "linecolor": "white",
            "ticks": ""
           }
          },
          "title": {
           "x": 0.05
          },
          "xaxis": {
           "automargin": true,
           "gridcolor": "white",
           "linecolor": "white",
           "ticks": "",
           "title": {
            "standoff": 15
           },
           "zerolinecolor": "white",
           "zerolinewidth": 2
          },
          "yaxis": {
           "automargin": true,
           "gridcolor": "white",
           "linecolor": "white",
           "ticks": "",
           "title": {
            "standoff": 15
           },
           "zerolinecolor": "white",
           "zerolinewidth": 2
          }
         }
        }
       }
      },
      "text/html": [
       "<div>                            <div id=\"6cddf2ba-eade-4167-99cb-26b165f337df\" class=\"plotly-graph-div\" style=\"height:525px; width:100%;\"></div>            <script type=\"text/javascript\">                require([\"plotly\"], function(Plotly) {                    window.PLOTLYENV=window.PLOTLYENV || {};                                    if (document.getElementById(\"6cddf2ba-eade-4167-99cb-26b165f337df\")) {                    Plotly.newPlot(                        \"6cddf2ba-eade-4167-99cb-26b165f337df\",                        [{\"hovertemplate\":\"color=r<br>x=%{x}<br>y=%{y}<br>z=%{z}<extra></extra>\",\"legendgroup\":\"r\",\"marker\":{\"color\":\"#636efa\",\"symbol\":\"circle\"},\"mode\":\"markers\",\"name\":\"r\",\"scene\":\"scene\",\"showlegend\":true,\"x\":[-21.267044067382812,-10.522098541259766,-20.139205932617188,-23.23345184326172,-13.879016876220703,-23.27183723449707,-13.993045806884766,-16.764545440673828,-21.01463508605957,-17.79693603515625,11.878907203674316,10.031150817871094,5.852301120758057,8.84896469116211,4.991186618804932,6.433780193328857,8.879339218139648,7.219574451446533,8.58479118347168,12.237604141235352,7.0952863693237305,-22.969045639038086,-22.53413963317871,-17.431264877319336,-10.650376319885254,-8.499683380126953,-17.90882110595703,-20.731657028198242,-5.673862934112549,-9.347555160522461,-12.104231834411621,-18.506410598754883,-15.310219764709473,-24.413591384887695,-17.080352783203125,-19.528425216674805,2.619084358215332,0.08586261421442032,2.394094228744507,-0.9430211186408997,3.4498560428619385],\"y\":[35.922725677490234,43.85566711425781,36.57126235961914,32.311370849609375,42.3321533203125,29.411508560180664,40.591495513916016,38.24163818359375,33.46477508544922,42.6595573425293,-16.989368438720703,-17.343385696411133,-16.828969955444336,-16.676023483276367,-16.708698272705078,-20.16769027709961,-13.669449806213379,-13.929681777954102,-19.734310150146484,-20.389284133911133,-9.958097457885742,32.13788604736328,28.855127334594727,30.62104606628418,39.981258392333984,43.24763107299805,40.68608093261719,31.368810653686523,42.44248962402344,36.71547317504883,37.264373779296875,31.3853702545166,44.56779861450195,33.03150939941406,33.856571197509766,35.442752838134766,-21.629451751708984,-21.39366912841797,-24.639142990112305,-24.354713439941406,-39.685157775878906],\"z\":[5.8168253898620605,-3.7784321308135986,0.4842860996723175,-3.4071192741394043,1.3392982482910156,-0.8353308439254761,-3.5932059288024902,-1.315071940422058,-7.873538494110107,0.6900990009307861,27.046123504638672,23.556074142456055,28.855613708496094,31.980281829833984,33.5184326171875,33.03346633911133,28.54404640197754,25.040786743164062,28.498260498046875,30.87400245666504,25.21449089050293,5.454796314239502,-6.674811840057373,-13.654102325439453,-8.963502883911133,-7.693188190460205,-4.013869762420654,2.271423578262329,-5.673404693603516,-10.5384521484375,-12.276164054870605,-4.994287014007568,-1.821712613105774,1.8572583198547363,-7.605228424072266,-4.760988235473633,39.19319534301758,42.48314666748047,41.99031066894531,39.60695266723633,28.51122283935547],\"type\":\"scatter3d\"},{\"hovertemplate\":\"color=g<br>x=%{x}<br>y=%{y}<br>z=%{z}<extra></extra>\",\"legendgroup\":\"g\",\"marker\":{\"color\":\"#EF553B\",\"symbol\":\"circle\"},\"mode\":\"markers\",\"name\":\"g\",\"scene\":\"scene\",\"showlegend\":true,\"x\":[-16.822650909423828,-21.344249725341797,-25.461931228637695,-17.483646392822266,-24.241518020629883,-19.285551071166992,-23.104211807250977,-23.937450408935547,-27.272750854492188,-13.470775604248047,-14.55036735534668,-21.803001403808594,5.935863018035889,-33.51859664916992,5.823702335357666,5.161942005157471,5.489107608795166,-1.1105945110321045,9.992449760437012,-78.88306427001953,5.529528617858887,11.674993515014648,8.612034797668457,14.427577018737793,8.52342414855957,9.22774600982666,23.564762115478516,17.254390716552734,9.360555648803711,12.890089988708496,13.936925888061523,14.997796058654785,19.37211799621582,16.300519943237305,10.139127731323242,13.97585391998291,22.074153900146484,21.30132293701172,17.395112991333008,20.618406295776367,-21.064739227294922,-18.615015029907227,-9.400259971618652,-11.377697944641113,-12.118288040161133,-18.51105308532715,-20.316526412963867,-13.736462593078613,-16.34224510192871,-11.020339965820312,-7.910359859466553,-16.397624969482422,4.240396022796631,7.389786243438721,8.709144592285156,6.2634406089782715,3.91137957572937,12.062995910644531,21.73213768005371,25.03771209716797,17.18193244934082],\"y\":[-28.599925994873047,-30.018110275268555,-14.783294677734375,-27.7197265625,-22.510534286499023,-25.21457862854004,-18.64919662475586,-16.058134078979492,-20.627683639526367,-20.01321029663086,-9.778741836547852,-14.032255172729492,31.711185455322266,16.597509384155273,38.8298454284668,35.662445068359375,23.091190338134766,42.7652702331543,24.586780548095703,25.59372901916504,30.360595703125,21.911224365234375,32.29173278808594,59.75038528442383,31.439054489135742,32.159027099609375,22.654258728027344,23.846031188964844,27.096084594726562,27.341739654541016,22.654117584228516,19.930757522583008,17.647409439086914,16.641969680786133,23.567323684692383,17.278886795043945,16.522836685180664,12.344599723815918,14.271845817565918,13.294169425964355,-26.404216766357422,-13.605611801147461,-15.183632850646973,-11.7959566116333,-16.515052795410156,-15.538965225219727,-11.413725852966309,-14.24774169921875,-24.83991813659668,-18.71875762939453,-20.037574768066406,-12.353191375732422,34.92172622680664,36.927059173583984,35.007896423339844,35.57892990112305,40.40031433105469,24.223388671875,20.76923179626465,12.259390830993652,19.423126220703125],\"z\":[33.52610397338867,31.861804962158203,32.748905181884766,37.189815521240234,31.61870002746582,31.78816795349121,31.9556884765625,36.20995330810547,30.741924285888672,42.24124526977539,43.90907669067383,33.8502197265625,-17.988819122314453,73.8567886352539,-9.526837348937988,-7.167135715484619,-20.917863845825195,-5.417999267578125,-17.037246704101562,239.716796875,-14.253371238708496,-17.414480209350586,-3.680274248123169,-16.906269073486328,-10.280692100524902,-15.312973022460938,3.239884376525879,-0.350166916847229,-0.3802046477794647,-2.1022424697875977,-4.4007110595703125,-1.6893768310546875,-1.510080337524414,-9.639875411987305,-2.9411470890045166,-6.211831569671631,-4.252840042114258,-6.047015190124512,-6.7096734046936035,-9.668194770812988,34.73118209838867,42.36494445800781,44.201019287109375,42.43116760253906,41.04791259765625,39.08221435546875,39.4496955871582,44.6135368347168,35.10211181640625,45.73445510864258,43.604400634765625,39.048946380615234,-12.17208194732666,-3.020695447921753,-12.330978393554688,-15.712998390197754,-5.590236186981201,0.575212836265564,-0.7846923470497131,-7.930481433868408,-5.5041680335998535],\"type\":\"scatter3d\"},{\"hovertemplate\":\"color=m<br>x=%{x}<br>y=%{y}<br>z=%{z}<extra></extra>\",\"legendgroup\":\"m\",\"marker\":{\"color\":\"#00cc96\",\"symbol\":\"circle\"},\"mode\":\"markers\",\"name\":\"m\",\"scene\":\"scene\",\"showlegend\":true,\"x\":[-36.06597137451172,-30.4609375,-26.903005599975586,-11.172066688537598,-35.50358200073242,-33.579097747802734,-34.801292419433594,-21.532691955566406,-20.048160552978516,-16.078256607055664,-31.024127960205078,-26.53757095336914,-16.589069366455078,-20.381595611572266,-34.185394287109375,-24.680877685546875,-19.039701461791992,-29.271230697631836,-14.153593063354492,-30.4713077545166,-25.72091293334961,-27.04876136779785,-10.712099075317383,-12.57739543914795,-17.974720001220703,-18.646787643432617,-21.651941299438477,-13.981273651123047,-18.89834213256836,-16.19564437866211,-22.55308723449707,-22.65562629699707,-17.555368423461914,-16.148483276367188,-22.341880798339844,-22.72369956970215,-13.028511047363281,-13.910672187805176,-14.52842903137207,-21.77710723876953,-22.563655853271484,-16.81120491027832,-18.903366088867188,-12.906111717224121,-24.733917236328125,-28.772064208984375,-38.12913131713867,2.7441911697387695,-24.07947540283203,-32.08818054199219,-21.81537628173828,-30.40770149230957,-29.06601333618164,-23.45379638671875,-17.01804542541504,-30.721755981445312,-31.2700138092041,-25.28873062133789,-23.773422241210938,-29.65091896057129,-18.277950286865234,-27.129587173461914,-18.877254486083984,-19.89840316772461,-18.467571258544922,-15.076781272888184,-17.82406997680664,-20.834470748901367,-17.268545150756836],\"y\":[14.13102912902832,13.935522079467773,25.9504451751709,11.42887020111084,18.056838989257812,7.506102561950684,9.252019882202148,7.943752765655518,27.100460052490234,8.681744575500488,24.486465454101562,22.035154342651367,15.552287101745605,28.93560028076172,19.651897430419922,18.97339630126953,2.160881519317627,3.193222999572754,12.817761421203613,24.410675048828125,3.878140449523926,21.37002944946289,10.919054985046387,7.073983669281006,2.2028632164001465,-15.422771453857422,0.4951074421405792,3.1074705123901367,-17.389612197875977,-8.611226081848145,-15.357054710388184,1.8845208883285522,-0.8942708373069763,1.5898655652999878,-17.511959075927734,-2.7408711910247803,4.913856506347656,-3.8257787227630615,2.587691068649292,4.729564189910889,-13.174420356750488,6.130126476287842,-13.157781600952148,-7.712678909301758,6.2822065353393555,3.967867612838745,17.157428741455078,27.957015991210938,19.151569366455078,6.475119590759277,2.4901180267333984,9.720891952514648,3.7551586627960205,22.970993041992188,4.806143760681152,4.845126628875732,10.687250137329102,4.327755928039551,26.4428653717041,5.603481769561768,0.16408143937587738,8.019692420959473,5.030978679656982,-4.207118988037109,3.0606532096862793,7.338028907775879,-0.4972001910209656,-7.7200164794921875,5.381312370300293],\"z\":[-21.3820858001709,-26.02112579345703,-21.729238510131836,-30.573514938354492,-23.78899383544922,-21.12174415588379,-24.413700103759766,-29.579225540161133,-17.21922492980957,-29.19700050354004,-22.764877319335938,-20.095991134643555,-26.840534210205078,-12.876431465148926,-20.992544174194336,-22.112937927246094,-24.928831100463867,-9.661981582641602,-28.130165100097656,-19.014638900756836,-9.01623821258545,-24.522563934326172,-27.052629470825195,-29.092561721801758,-4.545928478240967,10.74067497253418,10.418437004089355,-2.426177740097046,6.714169025421143,9.173133850097656,6.034440517425537,6.306940078735352,6.155144214630127,0.8089843392372131,9.657200813293457,8.167305946350098,1.280754566192627,6.946134090423584,4.64308500289917,-7.637720108032227,9.823871612548828,-6.230306625366211,7.1384382247924805,8.310609817504883,-30.735986709594727,-28.425596237182617,-20.86273193359375,-19.872522354125977,-26.11638641357422,-27.472850799560547,-28.270822525024414,-23.982465744018555,-13.735467910766602,-23.01707649230957,-28.57994270324707,-17.739055633544922,-28.10502052307129,-26.07408332824707,-18.22887420654297,-24.316556930541992,-27.81255340576172,-27.72223663330078,-1.6818139553070068,11.153938293457031,7.111074447631836,-2.389935255050659,10.200085639953613,9.874095916748047,2.5961873531341553],\"type\":\"scatter3d\"},{\"hovertemplate\":\"color=b<br>x=%{x}<br>y=%{y}<br>z=%{z}<extra></extra>\",\"legendgroup\":\"b\",\"marker\":{\"color\":\"#ab63fa\",\"symbol\":\"circle\"},\"mode\":\"markers\",\"name\":\"b\",\"scene\":\"scene\",\"showlegend\":true,\"x\":[-49.39965057373047,-42.795692443847656,-32.733314514160156,-31.977890014648438,-36.49922561645508,-45.48850631713867,-46.284759521484375,-20.900346755981445,-40.64645767211914,-38.054603576660156,-47.17422866821289,-47.790645599365234,-33.91830062866211,-46.7971305847168,-46.36410140991211,-35.17536544799805,2.241644859313965,9.47315788269043,32.198673248291016,9.107170104980469,2.696962833404541,4.6845927238464355,6.0786261558532715,7.3835129737854,1.4961940050125122,9.502975463867188,8.833601951599121,4.1392502784729,-1.2226147651672363,7.181481838226318,5.692639350891113,-32.07025146484375,-46.00606155395508,-42.43263626098633,-36.13899612426758,-40.333988189697266,-456.2898864746094,7.38869047164917,-38.623165130615234,-41.04960250854492,-32.941097259521484,6.338685512542725,5.577123165130615],\"y\":[-10.496481895446777,-0.7150207757949829,-4.371962547302246,-0.6587179899215698,-10.558356285095215,-9.403033256530762,1.4767169952392578,53.378841400146484,-2.9173927307128906,-9.13534164428711,-5.571140766143799,-8.554363250732422,-0.16450761258602142,-2.169846296310425,2.629030466079712,2.8495986461639404,-4.707040309906006,-5.553106784820557,-11.50830364227295,-6.172765731811523,-6.083141326904297,-8.096137046813965,-8.648439407348633,-12.351204872131348,-8.69201946258545,-9.094193458557129,-9.549301147460938,-12.588605880737305,-3.641934394836426,-15.248553276062012,-18.015134811401367,1.553058385848999,-12.32067584991455,3.2678065299987793,-4.6959357261657715,-5.3941521644592285,-302.0281982421875,-60.05851364135742,0.5542541742324829,-10.682809829711914,-9.220967292785645,-3.161134958267212,-6.502359390258789],\"z\":[2.444183588027954,-4.472977161407471,3.851856231689453,1.6737146377563477,5.405576229095459,1.7811448574066162,-5.672760963439941,125.64574432373047,1.9910587072372437,8.647953987121582,0.6054890751838684,5.616896629333496,-1.1675693988800049,-2.5310606956481934,-1.7316131591796875,-5.049018859863281,-6.217715263366699,4.314609050750732,-16.73946189880371,-0.7241188883781433,-9.98575496673584,-4.063405513763428,-7.591188907623291,-4.324703216552734,-7.272939682006836,-3.1974411010742188,1.238881230354309,-9.934831619262695,-7.881289005279541,-8.043238639831543,-9.895276069641113,-5.778939247131348,4.63361120223999,-4.306389808654785,4.633265018463135,4.993454456329346,-1184.2711181640625,122.69407653808594,-1.7963697910308838,6.116008758544922,7.021518230438232,4.971691131591797,2.7791099548339844],\"type\":\"scatter3d\"},{\"hovertemplate\":\"color=c<br>x=%{x}<br>y=%{y}<br>z=%{z}<extra></extra>\",\"legendgroup\":\"c\",\"marker\":{\"color\":\"#FFA15A\",\"symbol\":\"circle\"},\"mode\":\"markers\",\"name\":\"c\",\"scene\":\"scene\",\"showlegend\":true,\"x\":[-31.07014274597168,-31.920787811279297,0.4075632095336914,0.3447377681732178,3.140899419784546,-0.060101576149463654,-0.7936458587646484,-10.721659660339355,-8.545669555664062,0.5921189188957214,-18.264860153198242,0.20385026931762695,-4.701167583465576,1.6178152561187744,5.038982391357422,12.335711479187012,-6.668420314788818,3.1785666942596436,2.167938709259033,-5.020781993865967,-9.028367042541504,4.969753265380859,-0.5617701411247253,9.07393741607666,-8.347626686096191,2.4779205322265625,-5.4254655838012695,-0.3685187101364136,-1.512008786201477,-10.572601318359375,7.063409328460693,11.630135536193848,7.644443511962891,10.322341918945312,-2.3237509727478027,5.5148396492004395,10.46607780456543,-7.399155616760254,7.331542015075684,-27.591981887817383,-26.467159271240234,-28.746112823486328,-24.882373809814453,-29.823400497436523,-6.485118389129639,-2.8718912601470947,-4.004284381866455,-1.284684419631958,3.1057519912719727,-6.645021438598633,2.9771065711975098,-4.404337406158447,4.391490459442139,-7.636730194091797,0.5679864883422852,5.8452277183532715],\"y\":[-8.236431121826172,-11.5612154006958,1.8972957134246826,6.443424224853516,0.44145891070365906,-1.3469034433364868,8.65053653717041,4.376777648925781,4.290068626403809,-2.369314432144165,-19.9576358795166,2.9193058013916016,5.921625137329102,-1.6807132959365845,-6.246535301208496,-34.130340576171875,-38.8309211730957,-22.717079162597656,-35.7883186340332,-27.92157554626465,-35.46875,19.855892181396484,-34.81201934814453,-24.99074935913086,-37.43214416503906,-29.14955711364746,-39.841636657714844,-32.43231964111328,-36.96426010131836,-40.94893264770508,-32.7647590637207,-30.32036018371582,-30.326932907104492,-31.926437377929688,-23.79541015625,-35.245704650878906,-26.92793846130371,-36.67508316040039,-35.80337905883789,-12.173080444335938,-8.881789207458496,-7.807506084442139,-8.47089958190918,-11.922337532043457,5.7682414054870605,3.2834300994873047,1.1891841888427734,1.470876693725586,1.4655126333236694,1.4166902303695679,-30.80486488342285,-35.02500534057617,-33.080814361572266,-32.8321647644043,3.7214879989624023,-27.901395797729492],\"z\":[32.89856719970703,35.27460479736328,20.7386474609375,23.54466438293457,28.313512802124023,30.684783935546875,21.458824157714844,36.29490280151367,32.32023239135742,26.626850128173828,10.417008399963379,31.12822914123535,32.096405029296875,22.033491134643555,25.667417526245117,-4.7493462562561035,-6.5864386558532715,-11.774182319641113,-3.1622493267059326,-11.894947052001953,-6.574005126953125,28.48706817626953,-9.569856643676758,-7.908479690551758,-2.4932162761688232,-13.76860237121582,-1.603881597518921,-12.251422882080078,-4.022248268127441,-4.116950511932373,-8.447087287902832,-5.893196105957031,-5.420224189758301,-2.3039586544036865,-12.343932151794434,-4.137907981872559,-10.274495124816895,-10.347251892089844,0.693530797958374,36.05021667480469,33.655784606933594,37.17819595336914,37.542198181152344,31.67388916015625,36.01001739501953,35.0716552734375,31.048648834228516,27.38381576538086,24.043920516967773,34.848243713378906,-9.175715446472168,-6.804567813873291,-11.932153701782227,-9.701878547668457,-6.171171188354492,-11.992980003356934],\"type\":\"scatter3d\"},{\"hovertemplate\":\"color=y<br>x=%{x}<br>y=%{y}<br>z=%{z}<extra></extra>\",\"legendgroup\":\"y\",\"marker\":{\"color\":\"#19d3f3\",\"symbol\":\"circle\"},\"mode\":\"markers\",\"name\":\"y\",\"scene\":\"scene\",\"showlegend\":true,\"x\":[-0.7267776727676392,16.332124710083008,10.653630256652832,8.852254867553711,13.520792007446289,84.0427474975586,1.5232117176055908,6.861714839935303,8.21495246887207,18.044836044311523,10.190162658691406,0.2912577986717224,7.53861141204834,0.6788923144340515,18.44590950012207,8.328204154968262,4.20270299911499,2.0907599925994873,15.868163108825684,5.799005508422852,14.33255386352539,31.768972396850586,26.291427612304688,27.136953353881836,27.159940719604492,32.37428665161133,21.662534713745117,30.79879379272461,27.999364852905273,27.603469848632812,25.706993103027344,40.476531982421875,23.39597511291504,42.715972900390625,24.45811653137207,23.544315338134766,28.866249084472656,27.462055206298828,24.23588752746582,36.8121337890625,25.928308486938477,27.226430892944336,25.876117706298828,37.98743438720703,44.27800750732422,40.40578842163086,28.68001365661621,24.084733963012695,30.1612491607666,18.483291625976562,34.13698196411133,39.1591682434082,42.29051971435547,36.865142822265625,37.22797393798828,39.96656799316406,30.027252197265625,38.88172149658203,33.42483901977539,43.09455871582031,3.749504804611206,19.652210235595703,4.860600471496582,4.800532817840576,10.786006927490234,6.2144598960876465,2.0858445167541504,6.604032039642334,4.337176322937012,9.799295425415039,10.572393417358398,7.155150413513184,1.898878812789917,13.471965789794922,9.896615028381348,29.08721351623535,29.612564086914062,29.7270450592041,32.26485824584961,32.223934173583984,32.368988037109375,25.369630813598633,31.42034339904785,40.799686431884766,33.052799224853516,23.816953659057617,37.264034271240234,24.764509201049805,-34.1065559387207,27.049915313720703,33.74729919433594,36.472755432128906,32.0174446105957,44.705406188964844,27.09748649597168,25.400440216064453,25.914587020874023,25.26010513305664,45.45392608642578,22.284929275512695],\"y\":[6.204806804656982,13.306443214416504,-4.577503204345703,1.3824677467346191,4.3916754722595215,66.60557556152344,9.737428665161133,12.725150108337402,7.599973201751709,-7.534989356994629,14.551630020141602,4.110654830932617,11.905198097229004,9.819938659667969,-0.3799690008163452,-7.851871967315674,1.9403424263000488,12.256580352783203,-6.681667327880859,5.807104110717773,6.796523094177246,-5.971858501434326,7.5764241218566895,2.9488532543182373,2.331176996231079,-7.422783851623535,-1.8572121858596802,1.8261659145355225,6.935790538787842,-1.164661169052124,-0.6366279721260071,12.779515266418457,9.386844635009766,8.252523422241211,22.371288299560547,10.071693420410156,25.149538040161133,23.606521606445312,21.57587242126465,-17.417682647705078,18.655899047851562,21.42276954650879,9.282002449035645,7.235989570617676,10.706573486328125,10.95085334777832,8.201926231384277,12.40717887878418,11.915243148803711,42.641414642333984,8.700462341308594,13.746968269348145,7.1556925773620605,10.78486442565918,14.91001033782959,9.748248100280762,10.594999313354492,7.296443939208984,13.833026885986328,11.936604499816895,-8.85015869140625,-3.184669017791748,-3.8456530570983887,5.297758102416992,-5.297547817230225,17.427650451660156,13.918794631958008,-3.9760918617248535,16.162832260131836,-1.3451337814331055,8.251192092895508,9.0260009765625,-1.2618411779403687,-1.767958641052246,18.514169692993164,-4.048883438110352,0.7570634484291077,-0.45229485630989075,-2.3073678016662598,-11.760886192321777,-2.266845226287842,9.192879676818848,2.7518935203552246,10.214640617370605,9.217255592346191,22.30584716796875,9.137520790100098,25.335994720458984,-14.465846061706543,24.448200225830078,9.540753364562988,11.08519458770752,8.542003631591797,11.151013374328613,11.940046310424805,14.31509017944336,10.101239204406738,13.486228942871094,10.8375883102417,11.583477973937988],\"z\":[-31.185924530029297,-21.65678596496582,-33.67805862426758,-34.627174377441406,-29.894676208496094,-2.0550172328948975,-26.99646759033203,-23.70884132385254,-32.647544860839844,-31.62060546875,-21.366243362426758,-34.23719787597656,-27.826797485351562,-30.948036193847656,-30.74943733215332,-35.562347412109375,-36.585018157958984,-23.622650146484375,-34.36848831176758,-30.726350784301758,-32.0279541015625,-18.60561180114746,-16.355648040771484,-21.037330627441406,-16.75409507751465,-22.44613265991211,-29.55804443359375,-19.199848175048828,-11.248101234436035,-19.198013305664062,-22.951927185058594,6.791210651397705,-16.8520450592041,19.625478744506836,19.32184600830078,29.95144271850586,11.213606834411621,15.163322448730469,14.672515869140625,20.951534271240234,17.125629425048828,10.860676765441895,34.30753707885742,27.322982788085938,16.687564849853516,24.091432571411133,19.75490379333496,33.023277282714844,14.358061790466309,-25.78754997253418,25.26527976989746,10.936766624450684,25.10773468017578,8.950390815734863,6.995655536651611,12.114498138427734,22.43658447265625,22.58118438720703,9.737666130065918,11.745050430297852,-36.56403732299805,-32.723201751708984,-38.18871307373047,-34.71680450439453,-37.81449890136719,-20.61493492126465,-27.192346572875977,-34.49563217163086,-24.00265884399414,-37.235286712646484,-28.864561080932617,-25.533395767211914,-36.0584831237793,-35.61910629272461,-20.79570770263672,-22.87643051147461,-23.704357147216797,-12.970426559448242,-21.034500122070312,-20.091135025024414,-15.569310188293457,-12.392892837524414,-12.530016899108887,29.63280487060547,31.5484561920166,8.287672996520996,31.895126342773438,11.059225082397461,-19.41793441772461,7.351991176605225,13.108871459960938,27.871444702148438,16.657373428344727,26.320215225219727,18.87700843811035,21.598779678344727,22.874103546142578,26.468914031982422,22.31829071044922,25.558242797851562],\"type\":\"scatter3d\"},{\"hovertemplate\":\"color=k<br>x=%{x}<br>y=%{y}<br>z=%{z}<extra></extra>\",\"legendgroup\":\"k\",\"marker\":{\"color\":\"#FF6692\",\"symbol\":\"circle\"},\"mode\":\"markers\",\"name\":\"k\",\"scene\":\"scene\",\"showlegend\":true,\"x\":[24.573030471801758,15.339200019836426,23.716899871826172,15.595996856689453,11.48470687866211,20.043367385864258,12.687679290771484,16.403331756591797,12.368870735168457,13.81178092956543,18.185205459594727,23.871938705444336,-6.940609931945801,-11.989901542663574,-13.640060424804688,11.781044006347656,-13.536191940307617,-14.889735221862793,8.019389152526855,46.00409698486328,-16.012794494628906,-12.858540534973145,12.236316680908203,20.71617889404297,6.600318431854248,13.824715614318848,-13.054549217224121,-11.873586654663086,-16.661724090576172,-9.645992279052734,-93.683837890625,-14.055168151855469,-10.169634819030762],\"y\":[-13.22385311126709,-14.928306579589844,-14.00196361541748,-12.852591514587402,-14.624302864074707,-16.535179138183594,-12.295158386230469,-16.477487564086914,-16.12377166748047,-10.344816207885742,-13.305061340332031,-16.979398727416992,-41.327674865722656,-40.47600555419922,-45.999088287353516,-15.741121292114258,-42.054561614990234,-44.781185150146484,-36.53717803955078,-33.2227783203125,-45.257266998291016,-45.8526725769043,-18.587879180908203,-14.517918586730957,-6.617073059082031,-14.149086952209473,-50.34455490112305,-42.593475341796875,-48.06392288208008,-43.8515739440918,-63.7742805480957,-48.9123420715332,-46.39421844482422],\"z\":[11.82937240600586,15.885846138000488,7.990316390991211,9.797197341918945,19.636438369750977,7.298007965087891,0.7650196552276611,10.189713478088379,14.70949935913086,3.8012237548828125,6.954226016998291,10.863962173461914,2.5580832958221436,-0.763357937335968,6.0969953536987305,8.332138061523438,5.507862567901611,1.2219104766845703,4.959840774536133,20.290987014770508,10.746309280395508,13.510771751403809,19.297513961791992,12.18494701385498,6.987124919891357,4.265190124511719,16.33561134338379,9.073599815368652,14.655389785766602,5.779026508331299,12.392186164855957,10.824557304382324,9.166852951049805],\"type\":\"scatter3d\"}],                        {\"template\":{\"data\":{\"histogram2dcontour\":[{\"type\":\"histogram2dcontour\",\"colorbar\":{\"outlinewidth\":0,\"ticks\":\"\"},\"colorscale\":[[0.0,\"#0d0887\"],[0.1111111111111111,\"#46039f\"],[0.2222222222222222,\"#7201a8\"],[0.3333333333333333,\"#9c179e\"],[0.4444444444444444,\"#bd3786\"],[0.5555555555555556,\"#d8576b\"],[0.6666666666666666,\"#ed7953\"],[0.7777777777777778,\"#fb9f3a\"],[0.8888888888888888,\"#fdca26\"],[1.0,\"#f0f921\"]]}],\"choropleth\":[{\"type\":\"choropleth\",\"colorbar\":{\"outlinewidth\":0,\"ticks\":\"\"}}],\"histogram2d\":[{\"type\":\"histogram2d\",\"colorbar\":{\"outlinewidth\":0,\"ticks\":\"\"},\"colorscale\":[[0.0,\"#0d0887\"],[0.1111111111111111,\"#46039f\"],[0.2222222222222222,\"#7201a8\"],[0.3333333333333333,\"#9c179e\"],[0.4444444444444444,\"#bd3786\"],[0.5555555555555556,\"#d8576b\"],[0.6666666666666666,\"#ed7953\"],[0.7777777777777778,\"#fb9f3a\"],[0.8888888888888888,\"#fdca26\"],[1.0,\"#f0f921\"]]}],\"heatmap\":[{\"type\":\"heatmap\",\"colorbar\":{\"outlinewidth\":0,\"ticks\":\"\"},\"colorscale\":[[0.0,\"#0d0887\"],[0.1111111111111111,\"#46039f\"],[0.2222222222222222,\"#7201a8\"],[0.3333333333333333,\"#9c179e\"],[0.4444444444444444,\"#bd3786\"],[0.5555555555555556,\"#d8576b\"],[0.6666666666666666,\"#ed7953\"],[0.7777777777777778,\"#fb9f3a\"],[0.8888888888888888,\"#fdca26\"],[1.0,\"#f0f921\"]]}],\"heatmapgl\":[{\"type\":\"heatmapgl\",\"colorbar\":{\"outlinewidth\":0,\"ticks\":\"\"},\"colorscale\":[[0.0,\"#0d0887\"],[0.1111111111111111,\"#46039f\"],[0.2222222222222222,\"#7201a8\"],[0.3333333333333333,\"#9c179e\"],[0.4444444444444444,\"#bd3786\"],[0.5555555555555556,\"#d8576b\"],[0.6666666666666666,\"#ed7953\"],[0.7777777777777778,\"#fb9f3a\"],[0.8888888888888888,\"#fdca26\"],[1.0,\"#f0f921\"]]}],\"contourcarpet\":[{\"type\":\"contourcarpet\",\"colorbar\":{\"outlinewidth\":0,\"ticks\":\"\"}}],\"contour\":[{\"type\":\"contour\",\"colorbar\":{\"outlinewidth\":0,\"ticks\":\"\"},\"colorscale\":[[0.0,\"#0d0887\"],[0.1111111111111111,\"#46039f\"],[0.2222222222222222,\"#7201a8\"],[0.3333333333333333,\"#9c179e\"],[0.4444444444444444,\"#bd3786\"],[0.5555555555555556,\"#d8576b\"],[0.6666666666666666,\"#ed7953\"],[0.7777777777777778,\"#fb9f3a\"],[0.8888888888888888,\"#fdca26\"],[1.0,\"#f0f921\"]]}],\"surface\":[{\"type\":\"surface\",\"colorbar\":{\"outlinewidth\":0,\"ticks\":\"\"},\"colorscale\":[[0.0,\"#0d0887\"],[0.1111111111111111,\"#46039f\"],[0.2222222222222222,\"#7201a8\"],[0.3333333333333333,\"#9c179e\"],[0.4444444444444444,\"#bd3786\"],[0.5555555555555556,\"#d8576b\"],[0.6666666666666666,\"#ed7953\"],[0.7777777777777778,\"#fb9f3a\"],[0.8888888888888888,\"#fdca26\"],[1.0,\"#f0f921\"]]}],\"mesh3d\":[{\"type\":\"mesh3d\",\"colorbar\":{\"outlinewidth\":0,\"ticks\":\"\"}}],\"scatter\":[{\"fillpattern\":{\"fillmode\":\"overlay\",\"size\":10,\"solidity\":0.2},\"type\":\"scatter\"}],\"parcoords\":[{\"type\":\"parcoords\",\"line\":{\"colorbar\":{\"outlinewidth\":0,\"ticks\":\"\"}}}],\"scatterpolargl\":[{\"type\":\"scatterpolargl\",\"marker\":{\"colorbar\":{\"outlinewidth\":0,\"ticks\":\"\"}}}],\"bar\":[{\"error_x\":{\"color\":\"#2a3f5f\"},\"error_y\":{\"color\":\"#2a3f5f\"},\"marker\":{\"line\":{\"color\":\"#E5ECF6\",\"width\":0.5},\"pattern\":{\"fillmode\":\"overlay\",\"size\":10,\"solidity\":0.2}},\"type\":\"bar\"}],\"scattergeo\":[{\"type\":\"scattergeo\",\"marker\":{\"colorbar\":{\"outlinewidth\":0,\"ticks\":\"\"}}}],\"scatterpolar\":[{\"type\":\"scatterpolar\",\"marker\":{\"colorbar\":{\"outlinewidth\":0,\"ticks\":\"\"}}}],\"histogram\":[{\"marker\":{\"pattern\":{\"fillmode\":\"overlay\",\"size\":10,\"solidity\":0.2}},\"type\":\"histogram\"}],\"scattergl\":[{\"type\":\"scattergl\",\"marker\":{\"colorbar\":{\"outlinewidth\":0,\"ticks\":\"\"}}}],\"scatter3d\":[{\"type\":\"scatter3d\",\"line\":{\"colorbar\":{\"outlinewidth\":0,\"ticks\":\"\"}},\"marker\":{\"colorbar\":{\"outlinewidth\":0,\"ticks\":\"\"}}}],\"scattermapbox\":[{\"type\":\"scattermapbox\",\"marker\":{\"colorbar\":{\"outlinewidth\":0,\"ticks\":\"\"}}}],\"scatterternary\":[{\"type\":\"scatterternary\",\"marker\":{\"colorbar\":{\"outlinewidth\":0,\"ticks\":\"\"}}}],\"scattercarpet\":[{\"type\":\"scattercarpet\",\"marker\":{\"colorbar\":{\"outlinewidth\":0,\"ticks\":\"\"}}}],\"carpet\":[{\"aaxis\":{\"endlinecolor\":\"#2a3f5f\",\"gridcolor\":\"white\",\"linecolor\":\"white\",\"minorgridcolor\":\"white\",\"startlinecolor\":\"#2a3f5f\"},\"baxis\":{\"endlinecolor\":\"#2a3f5f\",\"gridcolor\":\"white\",\"linecolor\":\"white\",\"minorgridcolor\":\"white\",\"startlinecolor\":\"#2a3f5f\"},\"type\":\"carpet\"}],\"table\":[{\"cells\":{\"fill\":{\"color\":\"#EBF0F8\"},\"line\":{\"color\":\"white\"}},\"header\":{\"fill\":{\"color\":\"#C8D4E3\"},\"line\":{\"color\":\"white\"}},\"type\":\"table\"}],\"barpolar\":[{\"marker\":{\"line\":{\"color\":\"#E5ECF6\",\"width\":0.5},\"pattern\":{\"fillmode\":\"overlay\",\"size\":10,\"solidity\":0.2}},\"type\":\"barpolar\"}],\"pie\":[{\"automargin\":true,\"type\":\"pie\"}]},\"layout\":{\"autotypenumbers\":\"strict\",\"colorway\":[\"#636efa\",\"#EF553B\",\"#00cc96\",\"#ab63fa\",\"#FFA15A\",\"#19d3f3\",\"#FF6692\",\"#B6E880\",\"#FF97FF\",\"#FECB52\"],\"font\":{\"color\":\"#2a3f5f\"},\"hovermode\":\"closest\",\"hoverlabel\":{\"align\":\"left\"},\"paper_bgcolor\":\"white\",\"plot_bgcolor\":\"#E5ECF6\",\"polar\":{\"bgcolor\":\"#E5ECF6\",\"angularaxis\":{\"gridcolor\":\"white\",\"linecolor\":\"white\",\"ticks\":\"\"},\"radialaxis\":{\"gridcolor\":\"white\",\"linecolor\":\"white\",\"ticks\":\"\"}},\"ternary\":{\"bgcolor\":\"#E5ECF6\",\"aaxis\":{\"gridcolor\":\"white\",\"linecolor\":\"white\",\"ticks\":\"\"},\"baxis\":{\"gridcolor\":\"white\",\"linecolor\":\"white\",\"ticks\":\"\"},\"caxis\":{\"gridcolor\":\"white\",\"linecolor\":\"white\",\"ticks\":\"\"}},\"coloraxis\":{\"colorbar\":{\"outlinewidth\":0,\"ticks\":\"\"}},\"colorscale\":{\"sequential\":[[0.0,\"#0d0887\"],[0.1111111111111111,\"#46039f\"],[0.2222222222222222,\"#7201a8\"],[0.3333333333333333,\"#9c179e\"],[0.4444444444444444,\"#bd3786\"],[0.5555555555555556,\"#d8576b\"],[0.6666666666666666,\"#ed7953\"],[0.7777777777777778,\"#fb9f3a\"],[0.8888888888888888,\"#fdca26\"],[1.0,\"#f0f921\"]],\"sequentialminus\":[[0.0,\"#0d0887\"],[0.1111111111111111,\"#46039f\"],[0.2222222222222222,\"#7201a8\"],[0.3333333333333333,\"#9c179e\"],[0.4444444444444444,\"#bd3786\"],[0.5555555555555556,\"#d8576b\"],[0.6666666666666666,\"#ed7953\"],[0.7777777777777778,\"#fb9f3a\"],[0.8888888888888888,\"#fdca26\"],[1.0,\"#f0f921\"]],\"diverging\":[[0,\"#8e0152\"],[0.1,\"#c51b7d\"],[0.2,\"#de77ae\"],[0.3,\"#f1b6da\"],[0.4,\"#fde0ef\"],[0.5,\"#f7f7f7\"],[0.6,\"#e6f5d0\"],[0.7,\"#b8e186\"],[0.8,\"#7fbc41\"],[0.9,\"#4d9221\"],[1,\"#276419\"]]},\"xaxis\":{\"gridcolor\":\"white\",\"linecolor\":\"white\",\"ticks\":\"\",\"title\":{\"standoff\":15},\"zerolinecolor\":\"white\",\"automargin\":true,\"zerolinewidth\":2},\"yaxis\":{\"gridcolor\":\"white\",\"linecolor\":\"white\",\"ticks\":\"\",\"title\":{\"standoff\":15},\"zerolinecolor\":\"white\",\"automargin\":true,\"zerolinewidth\":2},\"scene\":{\"xaxis\":{\"backgroundcolor\":\"#E5ECF6\",\"gridcolor\":\"white\",\"linecolor\":\"white\",\"showbackground\":true,\"ticks\":\"\",\"zerolinecolor\":\"white\",\"gridwidth\":2},\"yaxis\":{\"backgroundcolor\":\"#E5ECF6\",\"gridcolor\":\"white\",\"linecolor\":\"white\",\"showbackground\":true,\"ticks\":\"\",\"zerolinecolor\":\"white\",\"gridwidth\":2},\"zaxis\":{\"backgroundcolor\":\"#E5ECF6\",\"gridcolor\":\"white\",\"linecolor\":\"white\",\"showbackground\":true,\"ticks\":\"\",\"zerolinecolor\":\"white\",\"gridwidth\":2}},\"shapedefaults\":{\"line\":{\"color\":\"#2a3f5f\"}},\"annotationdefaults\":{\"arrowcolor\":\"#2a3f5f\",\"arrowhead\":0,\"arrowwidth\":1},\"geo\":{\"bgcolor\":\"white\",\"landcolor\":\"#E5ECF6\",\"subunitcolor\":\"white\",\"showland\":true,\"showlakes\":true,\"lakecolor\":\"white\"},\"title\":{\"x\":0.05},\"mapbox\":{\"style\":\"light\"}}},\"scene\":{\"domain\":{\"x\":[0.0,1.0],\"y\":[0.0,1.0]},\"xaxis\":{\"title\":{\"text\":\"x\"}},\"yaxis\":{\"title\":{\"text\":\"y\"}},\"zaxis\":{\"title\":{\"text\":\"z\"}}},\"legend\":{\"title\":{\"text\":\"color\"},\"tracegroupgap\":0},\"margin\":{\"t\":60}},                        {\"responsive\": true}                    ).then(function(){\n",
       "                            \n",
       "var gd = document.getElementById('6cddf2ba-eade-4167-99cb-26b165f337df');\n",
       "var x = new MutationObserver(function (mutations, observer) {{\n",
       "        var display = window.getComputedStyle(gd).display;\n",
       "        if (!display || display === 'none') {{\n",
       "            console.log([gd, 'removed!']);\n",
       "            Plotly.purge(gd);\n",
       "            observer.disconnect();\n",
       "        }}\n",
       "}});\n",
       "\n",
       "// Listen for the removal of the full notebook cells\n",
       "var notebookContainer = gd.closest('#notebook-container');\n",
       "if (notebookContainer) {{\n",
       "    x.observe(notebookContainer, {childList: true});\n",
       "}}\n",
       "\n",
       "// Listen for the clearing of the current output cell\n",
       "var outputEl = gd.closest('.output');\n",
       "if (outputEl) {{\n",
       "    x.observe(outputEl, {childList: true});\n",
       "}}\n",
       "\n",
       "                        })                };                });            </script>        </div>"
      ]
     },
     "metadata": {},
     "output_type": "display_data"
    }
   ],
   "source": [
    "\n",
    "X_embedded  = TSNE(n_components=3, perplexity=10,random_state=24).fit_transform( X )\n",
    "colors = np.array([x for x in 'bgrcmykbgrcmykbgrcmykbgrcmykb'])\n",
    "fig = px.scatter_3d(x=X_embedded [:,0],y=X_embedded [:,1],z=X_embedded [:,2],color=colors[aff_prop_clustering.labels_])\n",
    "fig.show()"
   ]
  },
  {
   "cell_type": "code",
   "execution_count": 271,
   "metadata": {},
   "outputs": [
    {
     "data": {
      "text/html": [
       "<div>\n",
       "<style scoped>\n",
       "    .dataframe tbody tr th:only-of-type {\n",
       "        vertical-align: middle;\n",
       "    }\n",
       "\n",
       "    .dataframe tbody tr th {\n",
       "        vertical-align: top;\n",
       "    }\n",
       "\n",
       "    .dataframe thead th {\n",
       "        text-align: right;\n",
       "    }\n",
       "</style>\n",
       "<table border=\"1\" class=\"dataframe\">\n",
       "  <thead>\n",
       "    <tr style=\"text-align: right;\">\n",
       "      <th></th>\n",
       "      <th>silhouette_score</th>\n",
       "      <th>davies_bouldin_score</th>\n",
       "      <th>calinski_harabasz_score</th>\n",
       "      <th>fowlkes_mallows_score</th>\n",
       "      <th>adjusted_rand_score</th>\n",
       "      <th>adjusted_mutual_info_score</th>\n",
       "      <th>homogeneity_score</th>\n",
       "      <th>completeness_score</th>\n",
       "      <th>v_measure_score</th>\n",
       "    </tr>\n",
       "  </thead>\n",
       "  <tbody>\n",
       "    <tr>\n",
       "      <th>Mini-Batch Kmean</th>\n",
       "      <td>0.462035</td>\n",
       "      <td>0.882063</td>\n",
       "      <td>411.029867</td>\n",
       "      <td>0.651976</td>\n",
       "      <td>0.418309</td>\n",
       "      <td>0.524302</td>\n",
       "      <td>0.399751</td>\n",
       "      <td>0.769069</td>\n",
       "      <td>0.526063</td>\n",
       "    </tr>\n",
       "    <tr>\n",
       "      <th>GaussianMixture</th>\n",
       "      <td>0.459953</td>\n",
       "      <td>0.883581</td>\n",
       "      <td>407.893785</td>\n",
       "      <td>0.659264</td>\n",
       "      <td>0.429165</td>\n",
       "      <td>0.534284</td>\n",
       "      <td>0.407353</td>\n",
       "      <td>0.783442</td>\n",
       "      <td>0.536007</td>\n",
       "    </tr>\n",
       "    <tr>\n",
       "      <th>BayesianGaussianMixture</th>\n",
       "      <td>0.467738</td>\n",
       "      <td>0.712547</td>\n",
       "      <td>389.653173</td>\n",
       "      <td>0.553664</td>\n",
       "      <td>0.311957</td>\n",
       "      <td>0.402539</td>\n",
       "      <td>0.347756</td>\n",
       "      <td>0.489131</td>\n",
       "      <td>0.406502</td>\n",
       "    </tr>\n",
       "    <tr>\n",
       "      <th>Agglomerative Clustering</th>\n",
       "      <td>0.457040</td>\n",
       "      <td>0.885878</td>\n",
       "      <td>404.672291</td>\n",
       "      <td>0.657503</td>\n",
       "      <td>0.426582</td>\n",
       "      <td>0.523428</td>\n",
       "      <td>0.399138</td>\n",
       "      <td>0.767617</td>\n",
       "      <td>0.525192</td>\n",
       "    </tr>\n",
       "    <tr>\n",
       "      <th>DBSCAN</th>\n",
       "      <td>0.352433</td>\n",
       "      <td>0.460664</td>\n",
       "      <td>4.002449</td>\n",
       "      <td>0.520202</td>\n",
       "      <td>0.000280</td>\n",
       "      <td>0.000151</td>\n",
       "      <td>0.002564</td>\n",
       "      <td>0.196871</td>\n",
       "      <td>0.005063</td>\n",
       "    </tr>\n",
       "    <tr>\n",
       "      <th>Optics</th>\n",
       "      <td>0.064336</td>\n",
       "      <td>1.640537</td>\n",
       "      <td>33.961702</td>\n",
       "      <td>0.290139</td>\n",
       "      <td>0.084145</td>\n",
       "      <td>0.298470</td>\n",
       "      <td>0.415201</td>\n",
       "      <td>0.257518</td>\n",
       "      <td>0.317879</td>\n",
       "    </tr>\n",
       "    <tr>\n",
       "      <th>SpectralClustering</th>\n",
       "      <td>0.460687</td>\n",
       "      <td>0.882917</td>\n",
       "      <td>409.154861</td>\n",
       "      <td>0.656783</td>\n",
       "      <td>0.425483</td>\n",
       "      <td>0.530852</td>\n",
       "      <td>0.404745</td>\n",
       "      <td>0.778482</td>\n",
       "      <td>0.532588</td>\n",
       "    </tr>\n",
       "    <tr>\n",
       "      <th>AffinityPropagation</th>\n",
       "      <td>0.457119</td>\n",
       "      <td>0.754832</td>\n",
       "      <td>553.329499</td>\n",
       "      <td>0.365079</td>\n",
       "      <td>0.208212</td>\n",
       "      <td>0.429078</td>\n",
       "      <td>0.649294</td>\n",
       "      <td>0.337406</td>\n",
       "      <td>0.444058</td>\n",
       "    </tr>\n",
       "  </tbody>\n",
       "</table>\n",
       "</div>"
      ],
      "text/plain": [
       "                           silhouette_score  davies_bouldin_score  \\\n",
       "Mini-Batch Kmean                   0.462035              0.882063   \n",
       "GaussianMixture                    0.459953              0.883581   \n",
       "BayesianGaussianMixture            0.467738              0.712547   \n",
       "Agglomerative Clustering           0.457040              0.885878   \n",
       "DBSCAN                             0.352433              0.460664   \n",
       "Optics                             0.064336              1.640537   \n",
       "SpectralClustering                 0.460687              0.882917   \n",
       "AffinityPropagation                0.457119              0.754832   \n",
       "\n",
       "                           calinski_harabasz_score  fowlkes_mallows_score  \\\n",
       "Mini-Batch Kmean                        411.029867               0.651976   \n",
       "GaussianMixture                         407.893785               0.659264   \n",
       "BayesianGaussianMixture                 389.653173               0.553664   \n",
       "Agglomerative Clustering                404.672291               0.657503   \n",
       "DBSCAN                                    4.002449               0.520202   \n",
       "Optics                                   33.961702               0.290139   \n",
       "SpectralClustering                      409.154861               0.656783   \n",
       "AffinityPropagation                     553.329499               0.365079   \n",
       "\n",
       "                           adjusted_rand_score  adjusted_mutual_info_score  \\\n",
       "Mini-Batch Kmean                      0.418309                    0.524302   \n",
       "GaussianMixture                       0.429165                    0.534284   \n",
       "BayesianGaussianMixture               0.311957                    0.402539   \n",
       "Agglomerative Clustering              0.426582                    0.523428   \n",
       "DBSCAN                                0.000280                    0.000151   \n",
       "Optics                                0.084145                    0.298470   \n",
       "SpectralClustering                    0.425483                    0.530852   \n",
       "AffinityPropagation                   0.208212                    0.429078   \n",
       "\n",
       "                           homogeneity_score  completeness_score  \\\n",
       "Mini-Batch Kmean                    0.399751            0.769069   \n",
       "GaussianMixture                     0.407353            0.783442   \n",
       "BayesianGaussianMixture             0.347756            0.489131   \n",
       "Agglomerative Clustering            0.399138            0.767617   \n",
       "DBSCAN                              0.002564            0.196871   \n",
       "Optics                              0.415201            0.257518   \n",
       "SpectralClustering                  0.404745            0.778482   \n",
       "AffinityPropagation                 0.649294            0.337406   \n",
       "\n",
       "                           v_measure_score  \n",
       "Mini-Batch Kmean                  0.526063  \n",
       "GaussianMixture                   0.536007  \n",
       "BayesianGaussianMixture           0.406502  \n",
       "Agglomerative Clustering          0.525192  \n",
       "DBSCAN                            0.005063  \n",
       "Optics                            0.317879  \n",
       "SpectralClustering                0.532588  \n",
       "AffinityPropagation               0.444058  "
      ]
     },
     "execution_count": 271,
     "metadata": {},
     "output_type": "execute_result"
    }
   ],
   "source": [
    "result = kmean_df.append([gmm_df, bgm_df, agg_df, dbscan_df, Optics_df, Spectral_df, aff_prop_df])\n",
    "result"
   ]
  },
  {
   "cell_type": "markdown",
   "metadata": {},
   "source": [
    "### Part 2 Performance Analysis:\n",
    "\n",
    "From the above result set of all those 7 models, we are able to conclude that for this analysis, choosing best algorithm would mainly be on the basis of Extrinsic measures.\n",
    "\n",
    "Silhoutte score, Calinski-Harabasz and Davies-Bouldin Index are not a good measure when comparing different types of clustering algorithms as these scores tend to be higher for density-based clustering algorithms, so it would not be fair to compare desnity based algorithm with other other types of clustering algorithms.\n",
    "\n",
    "As for the individual analysis, Silhoutte score, Calinski-Harabasz and Davies-Bouldin Index for each model is comparatively same for all models except the silhouette_score for OPTICS and calinski_harabasz_score for DBSCAN, means OPTICS has failed to find the similarity in cluster and the clusters are not dense and well separated.\n",
    "\n",
    "Other than the density based algorithm, silhouette_score, davies_bouldin_score and calinski_harabasz_score seems to be similar for each model.\n",
    "\n",
    "fowlkes_mallows_score, adjusted_rand_score, adjusted_mutual_info_score, homogeneity_score,completeness_score and v_measure_score are higher for Mini-Batch Kmean, SpectralClustering,  and least for OPTICS and DBSCAN. And the recall of GaussianMixture Clustering is higher than all other model which is 78% , meaning only 78% of data points of a required class are elements of the same cluster, while the precision of \n",
    "AffinityPropagation is around 69% \n",
    "\n",
    "Hence using all the measures, GaussianMixture Clustering has given significantly higher score and performed better as compared to all other algorithms. Therefore, GaussianMixture Clustering is the best possible clustering algorithm for this dataset."
   ]
  },
  {
   "cell_type": "code",
   "execution_count": null,
   "metadata": {},
   "outputs": [],
   "source": []
  },
  {
   "cell_type": "code",
   "execution_count": null,
   "metadata": {},
   "outputs": [],
   "source": []
  },
  {
   "cell_type": "code",
   "execution_count": null,
   "metadata": {},
   "outputs": [],
   "source": []
  },
  {
   "cell_type": "code",
   "execution_count": null,
   "metadata": {},
   "outputs": [],
   "source": []
  },
  {
   "cell_type": "code",
   "execution_count": null,
   "metadata": {},
   "outputs": [],
   "source": []
  }
 ],
 "metadata": {
  "kernelspec": {
   "display_name": "Python 3",
   "language": "python",
   "name": "python3"
  },
  "language_info": {
   "codemirror_mode": {
    "name": "ipython",
    "version": 3
   },
   "file_extension": ".py",
   "mimetype": "text/x-python",
   "name": "python",
   "nbconvert_exporter": "python",
   "pygments_lexer": "ipython3",
   "version": "3.8.5"
  }
 },
 "nbformat": 4,
 "nbformat_minor": 5
}
